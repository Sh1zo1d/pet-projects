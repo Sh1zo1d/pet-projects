{
  "cells": [
    {
      "cell_type": "markdown",
      "id": "ccf65aef",
      "metadata": {
        "id": "ccf65aef"
      },
      "source": [
        "# Определение стоимости автомобилей\n",
        "\n",
        "Сервис по продаже автомобилей с пробегом «Не бит, не крашен» разрабатывает приложение для привлечения новых клиентов. В нём можно быстро узнать рыночную стоимость своего автомобиля. В вашем распоряжении исторические данные: технические характеристики, комплектации и цены автомобилей. Вам нужно построить модель для определения стоимости.\n",
        "\n",
        "Заказчику важны:\n",
        "\n",
        "- качество предсказания;\n",
        "- скорость предсказания;\n",
        "- время обучения.\n",
        "\n",
        "\n",
        "\n",
        "\n",
        "\n",
        "\n",
        "\n"
      ]
    },
    {
      "cell_type": "markdown",
      "id": "9b7a929d",
      "metadata": {
        "id": "9b7a929d"
      },
      "source": [
        "## Настройка окружения."
      ]
    },
    {
      "cell_type": "code",
      "execution_count": null,
      "id": "dd12f17f",
      "metadata": {
        "id": "dd12f17f",
        "outputId": "352a98e7-91b9-4147-a191-eaeecdf6a31c"
      },
      "outputs": [
        {
          "name": "stdout",
          "output_type": "stream",
          "text": [
            "Collecting pandas_profiling\n",
            "  Downloading pandas_profiling-3.6.6-py2.py3-none-any.whl (324 kB)\n",
            "\u001b[K     |████████████████████████████████| 324 kB 1.2 MB/s eta 0:00:01\n",
            "\u001b[?25hCollecting ydata-profiling\n",
            "  Downloading ydata_profiling-4.0.0-py2.py3-none-any.whl (344 kB)\n",
            "\u001b[K     |████████████████████████████████| 344 kB 22.4 MB/s eta 0:00:01\n",
            "\u001b[?25hRequirement already satisfied: statsmodels<0.14,>=0.13.2 in /opt/conda/lib/python3.9/site-packages (from ydata-profiling->pandas_profiling) (0.13.2)\n",
            "Requirement already satisfied: pandas!=1.4.0,<1.6,>1.1 in /opt/conda/lib/python3.9/site-packages (from ydata-profiling->pandas_profiling) (1.2.4)\n",
            "Collecting typeguard<2.14,>=2.13.2\n",
            "  Downloading typeguard-2.13.3-py3-none-any.whl (17 kB)\n",
            "Collecting htmlmin==0.1.12\n",
            "  Downloading htmlmin-0.1.12.tar.gz (19 kB)\n",
            "Requirement already satisfied: jinja2<3.2,>=2.11.1 in /opt/conda/lib/python3.9/site-packages (from ydata-profiling->pandas_profiling) (3.0.1)\n",
            "Collecting phik<0.13,>=0.11.1\n",
            "  Downloading phik-0.12.3-cp39-cp39-manylinux_2_17_x86_64.manylinux2014_x86_64.whl (679 kB)\n",
            "\u001b[K     |████████████████████████████████| 679 kB 70.6 MB/s eta 0:00:01\n",
            "\u001b[?25hRequirement already satisfied: tqdm<4.65,>=4.48.2 in /opt/conda/lib/python3.9/site-packages (from ydata-profiling->pandas_profiling) (4.61.2)\n",
            "Collecting visions[type_image_path]==0.7.5\n",
            "  Downloading visions-0.7.5-py3-none-any.whl (102 kB)\n",
            "\u001b[K     |████████████████████████████████| 102 kB 96.8 MB/s eta 0:00:01\n",
            "\u001b[?25hRequirement already satisfied: seaborn<0.13,>=0.10.1 in /opt/conda/lib/python3.9/site-packages (from ydata-profiling->pandas_profiling) (0.11.1)\n",
            "Requirement already satisfied: PyYAML<6.1,>=5.0.0 in /opt/conda/lib/python3.9/site-packages (from ydata-profiling->pandas_profiling) (6.0)\n",
            "Requirement already satisfied: pydantic<1.11,>=1.8.1 in /opt/conda/lib/python3.9/site-packages (from ydata-profiling->pandas_profiling) (1.8.2)\n",
            "Requirement already satisfied: numpy<1.24,>=1.16.0 in /opt/conda/lib/python3.9/site-packages (from ydata-profiling->pandas_profiling) (1.21.1)\n",
            "Collecting multimethod<1.10,>=1.4\n",
            "  Downloading multimethod-1.9.1-py3-none-any.whl (10 kB)\n",
            "Requirement already satisfied: matplotlib<3.7,>=3.2 in /opt/conda/lib/python3.9/site-packages (from ydata-profiling->pandas_profiling) (3.3.4)\n",
            "Requirement already satisfied: scipy<1.10,>=1.4.1 in /opt/conda/lib/python3.9/site-packages (from ydata-profiling->pandas_profiling) (1.9.1)\n",
            "Requirement already satisfied: requests<2.29,>=2.24.0 in /opt/conda/lib/python3.9/site-packages (from ydata-profiling->pandas_profiling) (2.25.1)\n",
            "Collecting tangled-up-in-unicode>=0.0.4\n",
            "  Downloading tangled_up_in_unicode-0.2.0-py3-none-any.whl (4.7 MB)\n",
            "\u001b[K     |████████████████████████████████| 4.7 MB 94.5 MB/s eta 0:00:01\n",
            "\u001b[?25hRequirement already satisfied: attrs>=19.3.0 in /opt/conda/lib/python3.9/site-packages (from visions[type_image_path]==0.7.5->ydata-profiling->pandas_profiling) (21.2.0)\n",
            "Collecting networkx>=2.4\n",
            "  Downloading networkx-3.0-py3-none-any.whl (2.0 MB)\n",
            "\u001b[K     |████████████████████████████████| 2.0 MB 83.1 MB/s eta 0:00:01\n",
            "\u001b[?25hRequirement already satisfied: Pillow in /opt/conda/lib/python3.9/site-packages (from visions[type_image_path]==0.7.5->ydata-profiling->pandas_profiling) (8.4.0)\n",
            "Collecting imagehash\n",
            "  Downloading ImageHash-4.3.1-py2.py3-none-any.whl (296 kB)\n",
            "\u001b[K     |████████████████████████████████| 296 kB 94.4 MB/s eta 0:00:01\n",
            "\u001b[?25hRequirement already satisfied: MarkupSafe>=2.0 in /opt/conda/lib/python3.9/site-packages (from jinja2<3.2,>=2.11.1->ydata-profiling->pandas_profiling) (2.1.1)\n",
            "Requirement already satisfied: cycler>=0.10 in /opt/conda/lib/python3.9/site-packages (from matplotlib<3.7,>=3.2->ydata-profiling->pandas_profiling) (0.11.0)\n",
            "Requirement already satisfied: kiwisolver>=1.0.1 in /opt/conda/lib/python3.9/site-packages (from matplotlib<3.7,>=3.2->ydata-profiling->pandas_profiling) (1.4.4)\n",
            "Requirement already satisfied: pyparsing!=2.0.4,!=2.1.2,!=2.1.6,>=2.0.3 in /opt/conda/lib/python3.9/site-packages (from matplotlib<3.7,>=3.2->ydata-profiling->pandas_profiling) (2.4.7)\n",
            "Requirement already satisfied: python-dateutil>=2.1 in /opt/conda/lib/python3.9/site-packages (from matplotlib<3.7,>=3.2->ydata-profiling->pandas_profiling) (2.8.1)\n",
            "Requirement already satisfied: pytz>=2017.3 in /opt/conda/lib/python3.9/site-packages (from pandas!=1.4.0,<1.6,>1.1->ydata-profiling->pandas_profiling) (2021.1)\n",
            "Requirement already satisfied: joblib>=0.14.1 in /opt/conda/lib/python3.9/site-packages (from phik<0.13,>=0.11.1->ydata-profiling->pandas_profiling) (1.2.0)\n",
            "Requirement already satisfied: typing-extensions>=3.7.4.3 in /opt/conda/lib/python3.9/site-packages (from pydantic<1.11,>=1.8.1->ydata-profiling->pandas_profiling) (4.3.0)\n",
            "Requirement already satisfied: six>=1.5 in /opt/conda/lib/python3.9/site-packages (from python-dateutil>=2.1->matplotlib<3.7,>=3.2->ydata-profiling->pandas_profiling) (1.16.0)\n",
            "Requirement already satisfied: chardet<5,>=3.0.2 in /opt/conda/lib/python3.9/site-packages (from requests<2.29,>=2.24.0->ydata-profiling->pandas_profiling) (4.0.0)\n",
            "Requirement already satisfied: urllib3<1.27,>=1.21.1 in /opt/conda/lib/python3.9/site-packages (from requests<2.29,>=2.24.0->ydata-profiling->pandas_profiling) (1.26.6)\n",
            "Requirement already satisfied: certifi>=2017.4.17 in /opt/conda/lib/python3.9/site-packages (from requests<2.29,>=2.24.0->ydata-profiling->pandas_profiling) (2022.6.15)\n",
            "Requirement already satisfied: idna<3,>=2.5 in /opt/conda/lib/python3.9/site-packages (from requests<2.29,>=2.24.0->ydata-profiling->pandas_profiling) (2.10)\n",
            "Requirement already satisfied: packaging>=21.3 in /opt/conda/lib/python3.9/site-packages (from statsmodels<0.14,>=0.13.2->ydata-profiling->pandas_profiling) (21.3)\n",
            "Requirement already satisfied: patsy>=0.5.2 in /opt/conda/lib/python3.9/site-packages (from statsmodels<0.14,>=0.13.2->ydata-profiling->pandas_profiling) (0.5.2)\n",
            "Collecting PyWavelets\n",
            "  Downloading PyWavelets-1.4.1-cp39-cp39-manylinux_2_17_x86_64.manylinux2014_x86_64.whl (6.9 MB)\n",
            "\u001b[K     |████████████████████████████████| 6.9 MB 63.9 MB/s eta 0:00:01\n",
            "\u001b[?25hBuilding wheels for collected packages: htmlmin\n",
            "  Building wheel for htmlmin (setup.py) ... \u001b[?25ldone\n",
            "\u001b[?25h  Created wheel for htmlmin: filename=htmlmin-0.1.12-py3-none-any.whl size=27085 sha256=77e74c67eeb1c75cd9663bc3c5b5566f063a4c4391092e5bbdeda222460c9bb2\n",
            "  Stored in directory: /home/jovyan/.cache/pip/wheels/1d/05/04/c6d7d3b66539d9e659ac6dfe81e2d0fd4c1a8316cc5a403300\n",
            "Successfully built htmlmin\n",
            "Installing collected packages: tangled-up-in-unicode, PyWavelets, networkx, multimethod, visions, imagehash, typeguard, phik, htmlmin, ydata-profiling, pandas-profiling\n",
            "Successfully installed PyWavelets-1.4.1 htmlmin-0.1.12 imagehash-4.3.1 multimethod-1.9.1 networkx-3.0 pandas-profiling-3.6.6 phik-0.12.3 tangled-up-in-unicode-0.2.0 typeguard-2.13.3 visions-0.7.5 ydata-profiling-4.0.0\n",
            "Collecting category_encoders\n",
            "  Downloading category_encoders-2.6.0-py2.py3-none-any.whl (81 kB)\n",
            "\u001b[K     |████████████████████████████████| 81 kB 1.3 MB/s eta 0:00:011\n",
            "\u001b[?25hRequirement already satisfied: pandas>=1.0.5 in /opt/conda/lib/python3.9/site-packages (from category_encoders) (1.2.4)\n",
            "Requirement already satisfied: scikit-learn>=0.20.0 in /opt/conda/lib/python3.9/site-packages (from category_encoders) (1.2.1)\n",
            "Requirement already satisfied: statsmodels>=0.9.0 in /opt/conda/lib/python3.9/site-packages (from category_encoders) (0.13.2)\n",
            "Requirement already satisfied: patsy>=0.5.1 in /opt/conda/lib/python3.9/site-packages (from category_encoders) (0.5.2)\n",
            "Requirement already satisfied: scipy>=1.0.0 in /opt/conda/lib/python3.9/site-packages (from category_encoders) (1.9.1)\n",
            "Requirement already satisfied: numpy>=1.14.0 in /opt/conda/lib/python3.9/site-packages (from category_encoders) (1.21.1)\n",
            "Requirement already satisfied: python-dateutil>=2.7.3 in /opt/conda/lib/python3.9/site-packages (from pandas>=1.0.5->category_encoders) (2.8.1)\n",
            "Requirement already satisfied: pytz>=2017.3 in /opt/conda/lib/python3.9/site-packages (from pandas>=1.0.5->category_encoders) (2021.1)\n",
            "Requirement already satisfied: six in /opt/conda/lib/python3.9/site-packages (from patsy>=0.5.1->category_encoders) (1.16.0)\n",
            "Requirement already satisfied: threadpoolctl>=2.0.0 in /opt/conda/lib/python3.9/site-packages (from scikit-learn>=0.20.0->category_encoders) (3.1.0)\n",
            "Requirement already satisfied: joblib>=1.1.1 in /opt/conda/lib/python3.9/site-packages (from scikit-learn>=0.20.0->category_encoders) (1.2.0)\n",
            "Requirement already satisfied: packaging>=21.3 in /opt/conda/lib/python3.9/site-packages (from statsmodels>=0.9.0->category_encoders) (21.3)\n",
            "Requirement already satisfied: pyparsing!=3.0.5,>=2.0.2 in /opt/conda/lib/python3.9/site-packages (from packaging>=21.3->statsmodels>=0.9.0->category_encoders) (2.4.7)\n",
            "Installing collected packages: category-encoders\n",
            "Successfully installed category-encoders-2.6.0\n",
            "Collecting pgeocode\n",
            "  Downloading pgeocode-0.4.0-py3-none-any.whl (9.7 kB)\n",
            "Requirement already satisfied: numpy in /opt/conda/lib/python3.9/site-packages (from pgeocode) (1.21.1)\n",
            "Requirement already satisfied: requests in /opt/conda/lib/python3.9/site-packages (from pgeocode) (2.25.1)\n",
            "Requirement already satisfied: pandas in /opt/conda/lib/python3.9/site-packages (from pgeocode) (1.2.4)\n",
            "Requirement already satisfied: python-dateutil>=2.7.3 in /opt/conda/lib/python3.9/site-packages (from pandas->pgeocode) (2.8.1)\n",
            "Requirement already satisfied: pytz>=2017.3 in /opt/conda/lib/python3.9/site-packages (from pandas->pgeocode) (2021.1)\n",
            "Requirement already satisfied: six>=1.5 in /opt/conda/lib/python3.9/site-packages (from python-dateutil>=2.7.3->pandas->pgeocode) (1.16.0)\n",
            "Requirement already satisfied: chardet<5,>=3.0.2 in /opt/conda/lib/python3.9/site-packages (from requests->pgeocode) (4.0.0)\n",
            "Requirement already satisfied: idna<3,>=2.5 in /opt/conda/lib/python3.9/site-packages (from requests->pgeocode) (2.10)\n",
            "Requirement already satisfied: urllib3<1.27,>=1.21.1 in /opt/conda/lib/python3.9/site-packages (from requests->pgeocode) (1.26.6)\n",
            "Requirement already satisfied: certifi>=2017.4.17 in /opt/conda/lib/python3.9/site-packages (from requests->pgeocode) (2022.6.15)\n",
            "Installing collected packages: pgeocode\n",
            "Successfully installed pgeocode-0.4.0\n",
            "Collecting optuna\n",
            "  Downloading optuna-3.1.0-py3-none-any.whl (365 kB)\n",
            "\u001b[K     |████████████████████████████████| 365 kB 1.3 MB/s eta 0:00:01\n",
            "\u001b[?25hCollecting colorlog\n",
            "  Downloading colorlog-6.7.0-py2.py3-none-any.whl (11 kB)\n",
            "Requirement already satisfied: alembic>=1.5.0 in /opt/conda/lib/python3.9/site-packages (from optuna) (1.6.5)\n",
            "Requirement already satisfied: tqdm in /opt/conda/lib/python3.9/site-packages (from optuna) (4.61.2)\n",
            "Requirement already satisfied: numpy in /opt/conda/lib/python3.9/site-packages (from optuna) (1.21.1)\n",
            "Requirement already satisfied: packaging>=20.0 in /opt/conda/lib/python3.9/site-packages (from optuna) (21.3)\n",
            "Collecting cmaes>=0.9.1\n",
            "  Downloading cmaes-0.9.1-py3-none-any.whl (21 kB)\n",
            "Requirement already satisfied: PyYAML in /opt/conda/lib/python3.9/site-packages (from optuna) (6.0)\n",
            "Requirement already satisfied: sqlalchemy>=1.3.0 in /opt/conda/lib/python3.9/site-packages (from optuna) (1.4.20)\n",
            "Requirement already satisfied: python-dateutil in /opt/conda/lib/python3.9/site-packages (from alembic>=1.5.0->optuna) (2.8.1)\n",
            "Requirement already satisfied: Mako in /opt/conda/lib/python3.9/site-packages (from alembic>=1.5.0->optuna) (1.1.4)\n",
            "Requirement already satisfied: python-editor>=0.3 in /opt/conda/lib/python3.9/site-packages (from alembic>=1.5.0->optuna) (1.0.4)\n",
            "Requirement already satisfied: pyparsing!=3.0.5,>=2.0.2 in /opt/conda/lib/python3.9/site-packages (from packaging>=20.0->optuna) (2.4.7)\n",
            "Requirement already satisfied: greenlet!=0.4.17 in /opt/conda/lib/python3.9/site-packages (from sqlalchemy>=1.3.0->optuna) (1.1.0)\n",
            "Requirement already satisfied: MarkupSafe>=0.9.2 in /opt/conda/lib/python3.9/site-packages (from Mako->alembic>=1.5.0->optuna) (2.1.1)\n",
            "Requirement already satisfied: six>=1.5 in /opt/conda/lib/python3.9/site-packages (from python-dateutil->alembic>=1.5.0->optuna) (1.16.0)\n",
            "Installing collected packages: colorlog, cmaes, optuna\n",
            "Successfully installed cmaes-0.9.1 colorlog-6.7.0 optuna-3.1.0\n"
          ]
        }
      ],
      "source": [
        "# !pip install pandas\n",
        "# !pip install sklearn\n",
        "# !pip install catboost\n",
        "!pip install pandas_profiling\n",
        "!pip install category_encoders\n",
        "# !pip install lightgbm\n",
        "!pip install pgeocode\n",
        "!pip install optuna\n",
        "# !pip install seaborn\n",
        "# !pip install matplotlib\n",
        "# !pip install warnings"
      ]
    },
    {
      "cell_type": "code",
      "execution_count": null,
      "id": "1d922345",
      "metadata": {
        "id": "1d922345",
        "outputId": "4456042f-936d-48c3-de83-c3d82d995a9e"
      },
      "outputs": [
        {
          "name": "stderr",
          "output_type": "stream",
          "text": [
            "/tmp/ipykernel_490/1743017770.py:11: DeprecationWarning: `import pandas_profiling` is going to be deprecated by April 1st. Please use `import ydata_profiling` instead.\n",
            "  from pandas_profiling import ProfileReport\n"
          ]
        }
      ],
      "source": [
        "# загружаем библиотеки нужные\n",
        "import pandas as pd\n",
        "import warnings # supress warnings\n",
        "from sklearn.model_selection import train_test_split\n",
        "from catboost import CatBoostRegressor\n",
        "from sklearn.linear_model import LinearRegression\n",
        "from sklearn.ensemble import RandomForestRegressor\n",
        "from collections import Counter\n",
        "from sklearn.metrics import mean_absolute_error, mean_squared_error,r2_score\n",
        "from sklearn.model_selection import cross_val_score\n",
        "from pandas_profiling import ProfileReport\n",
        "from lightgbm import LGBMRegressor\n",
        "import re\n",
        "import numpy as np\n",
        "import pgeocode\n",
        "import optuna\n",
        "import seaborn as sns\n",
        "import matplotlib.pyplot as plt\n",
        "import category_encoders\n",
        "from sklearn.preprocessing import OneHotEncoder\n"
      ]
    },
    {
      "cell_type": "code",
      "execution_count": null,
      "id": "293b20d5",
      "metadata": {
        "id": "293b20d5"
      },
      "outputs": [],
      "source": [
        "# игнорируем будущие ошибки\n",
        "warnings.filterwarnings('ignore')"
      ]
    },
    {
      "cell_type": "markdown",
      "id": "cccda6a9",
      "metadata": {
        "id": "cccda6a9"
      },
      "source": [
        "## Подготовка данных\n"
      ]
    },
    {
      "cell_type": "code",
      "execution_count": null,
      "id": "197db7df",
      "metadata": {
        "id": "197db7df"
      },
      "outputs": [],
      "source": [
        "# загружаем и читаем данные\n",
        "df = pd.read_csv(r'/datasets/autos.csv')\n",
        "\n"
      ]
    },
    {
      "cell_type": "code",
      "execution_count": null,
      "id": "9ae59aef",
      "metadata": {
        "scrolled": true,
        "id": "9ae59aef",
        "outputId": "37a49a63-8973-496d-b8c4-f3da107abe27"
      },
      "outputs": [
        {
          "data": {
            "text/html": [
              "<div>\n",
              "<style scoped>\n",
              "    .dataframe tbody tr th:only-of-type {\n",
              "        vertical-align: middle;\n",
              "    }\n",
              "\n",
              "    .dataframe tbody tr th {\n",
              "        vertical-align: top;\n",
              "    }\n",
              "\n",
              "    .dataframe thead th {\n",
              "        text-align: right;\n",
              "    }\n",
              "</style>\n",
              "<table border=\"1\" class=\"dataframe\">\n",
              "  <thead>\n",
              "    <tr style=\"text-align: right;\">\n",
              "      <th></th>\n",
              "      <th>DateCrawled</th>\n",
              "      <th>Price</th>\n",
              "      <th>VehicleType</th>\n",
              "      <th>RegistrationYear</th>\n",
              "      <th>Gearbox</th>\n",
              "      <th>Power</th>\n",
              "      <th>Model</th>\n",
              "      <th>Kilometer</th>\n",
              "      <th>RegistrationMonth</th>\n",
              "      <th>FuelType</th>\n",
              "      <th>Brand</th>\n",
              "      <th>Repaired</th>\n",
              "      <th>DateCreated</th>\n",
              "      <th>NumberOfPictures</th>\n",
              "      <th>PostalCode</th>\n",
              "      <th>LastSeen</th>\n",
              "    </tr>\n",
              "  </thead>\n",
              "  <tbody>\n",
              "    <tr>\n",
              "      <th>0</th>\n",
              "      <td>2016-03-24 11:52:17</td>\n",
              "      <td>480</td>\n",
              "      <td>NaN</td>\n",
              "      <td>1993</td>\n",
              "      <td>manual</td>\n",
              "      <td>0</td>\n",
              "      <td>golf</td>\n",
              "      <td>150000</td>\n",
              "      <td>0</td>\n",
              "      <td>petrol</td>\n",
              "      <td>volkswagen</td>\n",
              "      <td>NaN</td>\n",
              "      <td>2016-03-24 00:00:00</td>\n",
              "      <td>0</td>\n",
              "      <td>70435</td>\n",
              "      <td>2016-04-07 03:16:57</td>\n",
              "    </tr>\n",
              "    <tr>\n",
              "      <th>1</th>\n",
              "      <td>2016-03-24 10:58:45</td>\n",
              "      <td>18300</td>\n",
              "      <td>coupe</td>\n",
              "      <td>2011</td>\n",
              "      <td>manual</td>\n",
              "      <td>190</td>\n",
              "      <td>NaN</td>\n",
              "      <td>125000</td>\n",
              "      <td>5</td>\n",
              "      <td>gasoline</td>\n",
              "      <td>audi</td>\n",
              "      <td>yes</td>\n",
              "      <td>2016-03-24 00:00:00</td>\n",
              "      <td>0</td>\n",
              "      <td>66954</td>\n",
              "      <td>2016-04-07 01:46:50</td>\n",
              "    </tr>\n",
              "  </tbody>\n",
              "</table>\n",
              "</div>"
            ],
            "text/plain": [
              "           DateCrawled  Price VehicleType  RegistrationYear Gearbox  Power  \\\n",
              "0  2016-03-24 11:52:17    480         NaN              1993  manual      0   \n",
              "1  2016-03-24 10:58:45  18300       coupe              2011  manual    190   \n",
              "\n",
              "  Model  Kilometer  RegistrationMonth  FuelType       Brand Repaired  \\\n",
              "0  golf     150000                  0    petrol  volkswagen      NaN   \n",
              "1   NaN     125000                  5  gasoline        audi      yes   \n",
              "\n",
              "           DateCreated  NumberOfPictures  PostalCode             LastSeen  \n",
              "0  2016-03-24 00:00:00                 0       70435  2016-04-07 03:16:57  \n",
              "1  2016-03-24 00:00:00                 0       66954  2016-04-07 01:46:50  "
            ]
          },
          "execution_count": 5,
          "metadata": {},
          "output_type": "execute_result"
        }
      ],
      "source": [
        "# смотрим 2 строчки таблицы\n",
        "df.head(2)"
      ]
    },
    {
      "cell_type": "code",
      "execution_count": null,
      "id": "fb73d475",
      "metadata": {
        "id": "fb73d475"
      },
      "outputs": [],
      "source": [
        "# функция для подсчетов типов\n",
        "def counter_of_type(data):\n",
        "    return Counter(data.dtypes)\n",
        ""
      ]
    },
    {
      "cell_type": "code",
      "execution_count": null,
      "id": "8d1b4937",
      "metadata": {
        "id": "8d1b4937"
      },
      "outputs": [],
      "source": [
        "# Функция для ознакомления с данными\n",
        "def preview(data,n_row=4,\n",
        "             head=True,\n",
        "             info=True,\n",
        "             columns=True,\n",
        "             shape=True,\n",
        "             isna=True,\n",
        "             duplicated=True,\n",
        "             dtypes_=True,\n",
        "            describe_=True,\n",
        "           clear_duples=True,\n",
        "           lower_and_sep_col=True):\n",
        "    global dct_nan\n",
        "    global df_nan_columns\n",
        "    dct_nan = {}\n",
        "    if head:\n",
        "        print(f'First {n_row} row(s) in the head of data')\n",
        "        display(data.head(n_row))\n",
        "        print('-'*30)\n",
        "    if info:\n",
        "        print('Data Information:')\n",
        "        display(data.info())\n",
        "        print('-'*30)\n",
        "    if columns:\n",
        "        print('Data columns:')\n",
        "        display(data.columns)\n",
        "        if lower_and_sep_col:\n",
        "            COLUMN_REG = \"(\\w)([A-Z])\"\n",
        "            repl = r\"\\1_\\2\"\n",
        "            data.columns = list(map(lambda x: re.sub(COLUMN_REG,repl,x).lower(),data.columns))\n",
        "            print('Lowered and sepperated by words columns:')\n",
        "            print(data.columns)\n",
        "            print('-'*30)\n",
        "    if shape:\n",
        "        print('Data shape:')\n",
        "        display(data.shape)\n",
        "        print('-'*30)\n",
        "    if isna:\n",
        "        print('Data isna by row mean:')\n",
        "        display(data.isna().mean())\n",
        "        print()\n",
        "        tmp = data.isna().mean()\n",
        "        for i in range(len(tmp)):\n",
        "\n",
        "            if tmp[i] > 0:\n",
        "                dct_nan[tmp.index[i]] = tmp[i]\n",
        "        if tmp.sum() > 0:\n",
        "            df_nan_columns = pd.DataFrame.from_dict(dct_nan.items())\n",
        "            df_nan_columns.columns = ['column','rate_of_nan']\n",
        "            display(df_nan_columns)\n",
        "        print('-'*30)\n",
        "    if duplicated:\n",
        "        print('Data clear duplicates sum:')\n",
        "        duplets = data.duplicated().sum()\n",
        "        display(duplets)\n",
        "        if duplets >1 and clear_duples:\n",
        "            data.drop_duplicates(inplace=True)\n",
        "            print('Successful delete of {0} duplicates'.format(duplets))\n",
        "        elif duplets == 1 and clear_duples:\n",
        "            data.drop_duplicates(inplace=True)\n",
        "            print('Successful delete of {0} duplicate'.format(duplets))\n",
        "        print('-'*30)\n",
        "    if dtypes_:\n",
        "        print('Data dtypes:')\n",
        "        display(data.dtypes)\n",
        "        print('Number of each type:')\n",
        "        print(counter_of_type(data))\n",
        "        print('-'*30)\n",
        "    if describe_:\n",
        "        print('Major statistics for data:')\n",
        "        display(data.describe())\n",
        ""
      ]
    },
    {
      "cell_type": "code",
      "execution_count": null,
      "id": "a8065802",
      "metadata": {
        "id": "a8065802",
        "outputId": "08145933-04b5-4bbd-f9c0-21c59cd4dd9e"
      },
      "outputs": [
        {
          "ename": "NameError",
          "evalue": "name 'df' is not defined",
          "output_type": "error",
          "traceback": [
            "\u001b[0;31m---------------------------------------------------------------------------\u001b[0m",
            "\u001b[0;31mNameError\u001b[0m                                 Traceback (most recent call last)",
            "\u001b[0;32m/tmp/ipykernel_93/1592436349.py\u001b[0m in \u001b[0;36m<module>\u001b[0;34m\u001b[0m\n\u001b[1;32m      1\u001b[0m \u001b[0;31m# используем функцию\u001b[0m\u001b[0;34m\u001b[0m\u001b[0;34m\u001b[0m\u001b[0;34m\u001b[0m\u001b[0m\n\u001b[0;32m----> 2\u001b[0;31m \u001b[0mpreview\u001b[0m\u001b[0;34m(\u001b[0m\u001b[0mdf\u001b[0m\u001b[0;34m)\u001b[0m\u001b[0;34m\u001b[0m\u001b[0;34m\u001b[0m\u001b[0m\n\u001b[0m",
            "\u001b[0;31mNameError\u001b[0m: name 'df' is not defined"
          ]
        }
      ],
      "source": [
        "# используем функцию\n",
        "preview(df)"
      ]
    },
    {
      "cell_type": "markdown",
      "id": "22b391f6",
      "metadata": {
        "id": "22b391f6"
      },
      "source": []
    },
    {
      "cell_type": "markdown",
      "id": "0523f96e",
      "metadata": {
        "id": "0523f96e"
      },
      "source": [
        "**Вывод:**\n",
        "\n",
        "\n",
        "\n",
        "Были найдены 4 явных дубликата, которые после запуска функции preview были удалены из настоящей таблицы. Стоит проверить наличие неявных дубликатов, поскольку есть столбцы с максимальным кол-вом уникальных значений, которые будут мешать выявлению дубликатов.\n",
        "\n",
        "\n"
      ]
    },
    {
      "cell_type": "code",
      "execution_count": null,
      "id": "2f0fe5b4",
      "metadata": {
        "scrolled": true,
        "id": "2f0fe5b4",
        "outputId": "2402df6e-680c-4aae-b29e-618c138ddd3b"
      },
      "outputs": [
        {
          "data": {
            "text/html": [
              "<div>\n",
              "<style scoped>\n",
              "    .dataframe tbody tr th:only-of-type {\n",
              "        vertical-align: middle;\n",
              "    }\n",
              "\n",
              "    .dataframe tbody tr th {\n",
              "        vertical-align: top;\n",
              "    }\n",
              "\n",
              "    .dataframe thead th {\n",
              "        text-align: right;\n",
              "    }\n",
              "</style>\n",
              "<table border=\"1\" class=\"dataframe\">\n",
              "  <thead>\n",
              "    <tr style=\"text-align: right;\">\n",
              "      <th></th>\n",
              "      <th>price</th>\n",
              "      <th>registration_year</th>\n",
              "      <th>power</th>\n",
              "      <th>kilometer</th>\n",
              "      <th>registration_month</th>\n",
              "      <th>number_of_pictures</th>\n",
              "      <th>postal_code</th>\n",
              "    </tr>\n",
              "  </thead>\n",
              "  <tbody>\n",
              "    <tr>\n",
              "      <th>price</th>\n",
              "      <td>1.000000</td>\n",
              "      <td>0.026916</td>\n",
              "      <td>0.158872</td>\n",
              "      <td>-0.333207</td>\n",
              "      <td>0.110580</td>\n",
              "      <td>NaN</td>\n",
              "      <td>0.076058</td>\n",
              "    </tr>\n",
              "    <tr>\n",
              "      <th>registration_year</th>\n",
              "      <td>0.026916</td>\n",
              "      <td>1.000000</td>\n",
              "      <td>-0.000828</td>\n",
              "      <td>-0.053448</td>\n",
              "      <td>-0.011619</td>\n",
              "      <td>NaN</td>\n",
              "      <td>-0.003459</td>\n",
              "    </tr>\n",
              "    <tr>\n",
              "      <th>power</th>\n",
              "      <td>0.158872</td>\n",
              "      <td>-0.000828</td>\n",
              "      <td>1.000000</td>\n",
              "      <td>0.024006</td>\n",
              "      <td>0.043379</td>\n",
              "      <td>NaN</td>\n",
              "      <td>0.021662</td>\n",
              "    </tr>\n",
              "    <tr>\n",
              "      <th>kilometer</th>\n",
              "      <td>-0.333207</td>\n",
              "      <td>-0.053448</td>\n",
              "      <td>0.024006</td>\n",
              "      <td>1.000000</td>\n",
              "      <td>0.009575</td>\n",
              "      <td>NaN</td>\n",
              "      <td>-0.007685</td>\n",
              "    </tr>\n",
              "    <tr>\n",
              "      <th>registration_month</th>\n",
              "      <td>0.110580</td>\n",
              "      <td>-0.011619</td>\n",
              "      <td>0.043379</td>\n",
              "      <td>0.009575</td>\n",
              "      <td>1.000000</td>\n",
              "      <td>NaN</td>\n",
              "      <td>0.013996</td>\n",
              "    </tr>\n",
              "    <tr>\n",
              "      <th>number_of_pictures</th>\n",
              "      <td>NaN</td>\n",
              "      <td>NaN</td>\n",
              "      <td>NaN</td>\n",
              "      <td>NaN</td>\n",
              "      <td>NaN</td>\n",
              "      <td>NaN</td>\n",
              "      <td>NaN</td>\n",
              "    </tr>\n",
              "    <tr>\n",
              "      <th>postal_code</th>\n",
              "      <td>0.076058</td>\n",
              "      <td>-0.003459</td>\n",
              "      <td>0.021662</td>\n",
              "      <td>-0.007685</td>\n",
              "      <td>0.013996</td>\n",
              "      <td>NaN</td>\n",
              "      <td>1.000000</td>\n",
              "    </tr>\n",
              "  </tbody>\n",
              "</table>\n",
              "</div>"
            ],
            "text/plain": [
              "                       price  registration_year     power  kilometer  \\\n",
              "price               1.000000           0.026916  0.158872  -0.333207   \n",
              "registration_year   0.026916           1.000000 -0.000828  -0.053448   \n",
              "power               0.158872          -0.000828  1.000000   0.024006   \n",
              "kilometer          -0.333207          -0.053448  0.024006   1.000000   \n",
              "registration_month  0.110580          -0.011619  0.043379   0.009575   \n",
              "number_of_pictures       NaN                NaN       NaN        NaN   \n",
              "postal_code         0.076058          -0.003459  0.021662  -0.007685   \n",
              "\n",
              "                    registration_month  number_of_pictures  postal_code  \n",
              "price                         0.110580                 NaN     0.076058  \n",
              "registration_year            -0.011619                 NaN    -0.003459  \n",
              "power                         0.043379                 NaN     0.021662  \n",
              "kilometer                     0.009575                 NaN    -0.007685  \n",
              "registration_month            1.000000                 NaN     0.013996  \n",
              "number_of_pictures                 NaN                 NaN          NaN  \n",
              "postal_code                   0.013996                 NaN     1.000000  "
            ]
          },
          "execution_count": 9,
          "metadata": {},
          "output_type": "execute_result"
        }
      ],
      "source": [
        "# корреляция столбцов\n",
        "df.select_dtypes(include='number').corr()"
      ]
    },
    {
      "cell_type": "code",
      "execution_count": null,
      "id": "f03ad825",
      "metadata": {
        "id": "f03ad825",
        "outputId": "f02670a1-b9e9-419e-f151-425caf4680f5"
      },
      "outputs": [
        {
          "data": {
            "text/html": [
              "<div>\n",
              "<style scoped>\n",
              "    .dataframe tbody tr th:only-of-type {\n",
              "        vertical-align: middle;\n",
              "    }\n",
              "\n",
              "    .dataframe tbody tr th {\n",
              "        vertical-align: top;\n",
              "    }\n",
              "\n",
              "    .dataframe thead th {\n",
              "        text-align: right;\n",
              "    }\n",
              "</style>\n",
              "<table border=\"1\" class=\"dataframe\">\n",
              "  <thead>\n",
              "    <tr style=\"text-align: right;\">\n",
              "      <th></th>\n",
              "      <th>price</th>\n",
              "      <th>registration_year</th>\n",
              "      <th>power</th>\n",
              "      <th>kilometer</th>\n",
              "      <th>registration_month</th>\n",
              "      <th>number_of_pictures</th>\n",
              "      <th>postal_code</th>\n",
              "    </tr>\n",
              "  </thead>\n",
              "  <tbody>\n",
              "    <tr>\n",
              "      <th>0</th>\n",
              "      <td>480</td>\n",
              "      <td>1993</td>\n",
              "      <td>0</td>\n",
              "      <td>150000</td>\n",
              "      <td>0</td>\n",
              "      <td>0</td>\n",
              "      <td>70435</td>\n",
              "    </tr>\n",
              "    <tr>\n",
              "      <th>1</th>\n",
              "      <td>18300</td>\n",
              "      <td>2011</td>\n",
              "      <td>190</td>\n",
              "      <td>125000</td>\n",
              "      <td>5</td>\n",
              "      <td>0</td>\n",
              "      <td>66954</td>\n",
              "    </tr>\n",
              "    <tr>\n",
              "      <th>2</th>\n",
              "      <td>9800</td>\n",
              "      <td>2004</td>\n",
              "      <td>163</td>\n",
              "      <td>125000</td>\n",
              "      <td>8</td>\n",
              "      <td>0</td>\n",
              "      <td>90480</td>\n",
              "    </tr>\n",
              "    <tr>\n",
              "      <th>3</th>\n",
              "      <td>1500</td>\n",
              "      <td>2001</td>\n",
              "      <td>75</td>\n",
              "      <td>150000</td>\n",
              "      <td>6</td>\n",
              "      <td>0</td>\n",
              "      <td>91074</td>\n",
              "    </tr>\n",
              "    <tr>\n",
              "      <th>4</th>\n",
              "      <td>3600</td>\n",
              "      <td>2008</td>\n",
              "      <td>69</td>\n",
              "      <td>90000</td>\n",
              "      <td>7</td>\n",
              "      <td>0</td>\n",
              "      <td>60437</td>\n",
              "    </tr>\n",
              "    <tr>\n",
              "      <th>...</th>\n",
              "      <td>...</td>\n",
              "      <td>...</td>\n",
              "      <td>...</td>\n",
              "      <td>...</td>\n",
              "      <td>...</td>\n",
              "      <td>...</td>\n",
              "      <td>...</td>\n",
              "    </tr>\n",
              "    <tr>\n",
              "      <th>354364</th>\n",
              "      <td>0</td>\n",
              "      <td>2005</td>\n",
              "      <td>0</td>\n",
              "      <td>150000</td>\n",
              "      <td>7</td>\n",
              "      <td>0</td>\n",
              "      <td>2694</td>\n",
              "    </tr>\n",
              "    <tr>\n",
              "      <th>354365</th>\n",
              "      <td>2200</td>\n",
              "      <td>2005</td>\n",
              "      <td>0</td>\n",
              "      <td>20000</td>\n",
              "      <td>1</td>\n",
              "      <td>0</td>\n",
              "      <td>39576</td>\n",
              "    </tr>\n",
              "    <tr>\n",
              "      <th>354366</th>\n",
              "      <td>1199</td>\n",
              "      <td>2000</td>\n",
              "      <td>101</td>\n",
              "      <td>125000</td>\n",
              "      <td>3</td>\n",
              "      <td>0</td>\n",
              "      <td>26135</td>\n",
              "    </tr>\n",
              "    <tr>\n",
              "      <th>354367</th>\n",
              "      <td>9200</td>\n",
              "      <td>1996</td>\n",
              "      <td>102</td>\n",
              "      <td>150000</td>\n",
              "      <td>3</td>\n",
              "      <td>0</td>\n",
              "      <td>87439</td>\n",
              "    </tr>\n",
              "    <tr>\n",
              "      <th>354368</th>\n",
              "      <td>3400</td>\n",
              "      <td>2002</td>\n",
              "      <td>100</td>\n",
              "      <td>150000</td>\n",
              "      <td>6</td>\n",
              "      <td>0</td>\n",
              "      <td>40764</td>\n",
              "    </tr>\n",
              "  </tbody>\n",
              "</table>\n",
              "<p>354365 rows × 7 columns</p>\n",
              "</div>"
            ],
            "text/plain": [
              "        price  registration_year  power  kilometer  registration_month  \\\n",
              "0         480               1993      0     150000                   0   \n",
              "1       18300               2011    190     125000                   5   \n",
              "2        9800               2004    163     125000                   8   \n",
              "3        1500               2001     75     150000                   6   \n",
              "4        3600               2008     69      90000                   7   \n",
              "...       ...                ...    ...        ...                 ...   \n",
              "354364      0               2005      0     150000                   7   \n",
              "354365   2200               2005      0      20000                   1   \n",
              "354366   1199               2000    101     125000                   3   \n",
              "354367   9200               1996    102     150000                   3   \n",
              "354368   3400               2002    100     150000                   6   \n",
              "\n",
              "        number_of_pictures  postal_code  \n",
              "0                        0        70435  \n",
              "1                        0        66954  \n",
              "2                        0        90480  \n",
              "3                        0        91074  \n",
              "4                        0        60437  \n",
              "...                    ...          ...  \n",
              "354364                   0         2694  \n",
              "354365                   0        39576  \n",
              "354366                   0        26135  \n",
              "354367                   0        87439  \n",
              "354368                   0        40764  \n",
              "\n",
              "[354365 rows x 7 columns]"
            ]
          },
          "execution_count": 10,
          "metadata": {},
          "output_type": "execute_result"
        }
      ],
      "source": [
        "# отобразим численные столбцы\n",
        "df.select_dtypes(include='number')"
      ]
    },
    {
      "cell_type": "code",
      "execution_count": null,
      "id": "9d17d5c9",
      "metadata": {
        "id": "9d17d5c9"
      },
      "outputs": [],
      "source": [
        "# копирую таблицы\n",
        "df_for_model = df.copy()"
      ]
    },
    {
      "cell_type": "code",
      "execution_count": null,
      "id": "f8da8214",
      "metadata": {
        "scrolled": false,
        "id": "f8da8214",
        "outputId": "6aa2936d-3f9d-4884-da3d-cf05205837b7"
      },
      "outputs": [
        {
          "data": {
            "text/plain": [
              "Index(['date_crawled', 'price', 'vehicle_type', 'registration_year', 'gearbox',\n",
              "       'power', 'model', 'kilometer', 'registration_month', 'fuel_type',\n",
              "       'brand', 'repaired', 'date_created', 'number_of_pictures',\n",
              "       'postal_code', 'last_seen'],\n",
              "      dtype='object')"
            ]
          },
          "execution_count": 12,
          "metadata": {},
          "output_type": "execute_result"
        }
      ],
      "source": [
        "# имена столбцов\n",
        "df_for_model.columns"
      ]
    },
    {
      "cell_type": "code",
      "execution_count": null,
      "id": "17fa69b4",
      "metadata": {
        "id": "17fa69b4"
      },
      "outputs": [],
      "source": [
        "# удаляем ненужный столбец\n",
        "df_for_model.drop(columns='date_crawled',axis=1,inplace=True)"
      ]
    },
    {
      "cell_type": "code",
      "execution_count": null,
      "id": "6355024c",
      "metadata": {
        "id": "6355024c",
        "outputId": "daeeffc4-bcaa-4c51-e1d8-79f023fe874e"
      },
      "outputs": [
        {
          "data": {
            "text/html": [
              "<div>\n",
              "<style scoped>\n",
              "    .dataframe tbody tr th:only-of-type {\n",
              "        vertical-align: middle;\n",
              "    }\n",
              "\n",
              "    .dataframe tbody tr th {\n",
              "        vertical-align: top;\n",
              "    }\n",
              "\n",
              "    .dataframe thead th {\n",
              "        text-align: right;\n",
              "    }\n",
              "</style>\n",
              "<table border=\"1\" class=\"dataframe\">\n",
              "  <thead>\n",
              "    <tr style=\"text-align: right;\">\n",
              "      <th></th>\n",
              "      <th>price</th>\n",
              "      <th>vehicle_type</th>\n",
              "      <th>registration_year</th>\n",
              "      <th>gearbox</th>\n",
              "      <th>power</th>\n",
              "      <th>model</th>\n",
              "      <th>kilometer</th>\n",
              "      <th>registration_month</th>\n",
              "      <th>fuel_type</th>\n",
              "      <th>brand</th>\n",
              "      <th>repaired</th>\n",
              "      <th>date_created</th>\n",
              "      <th>number_of_pictures</th>\n",
              "      <th>postal_code</th>\n",
              "      <th>last_seen</th>\n",
              "    </tr>\n",
              "  </thead>\n",
              "  <tbody>\n",
              "    <tr>\n",
              "      <th>0</th>\n",
              "      <td>480</td>\n",
              "      <td>NaN</td>\n",
              "      <td>1993</td>\n",
              "      <td>manual</td>\n",
              "      <td>0</td>\n",
              "      <td>golf</td>\n",
              "      <td>150000</td>\n",
              "      <td>0</td>\n",
              "      <td>petrol</td>\n",
              "      <td>volkswagen</td>\n",
              "      <td>NaN</td>\n",
              "      <td>2016-03-24 00:00:00</td>\n",
              "      <td>0</td>\n",
              "      <td>70435</td>\n",
              "      <td>2016-04-07 03:16:57</td>\n",
              "    </tr>\n",
              "    <tr>\n",
              "      <th>1</th>\n",
              "      <td>18300</td>\n",
              "      <td>coupe</td>\n",
              "      <td>2011</td>\n",
              "      <td>manual</td>\n",
              "      <td>190</td>\n",
              "      <td>NaN</td>\n",
              "      <td>125000</td>\n",
              "      <td>5</td>\n",
              "      <td>gasoline</td>\n",
              "      <td>audi</td>\n",
              "      <td>yes</td>\n",
              "      <td>2016-03-24 00:00:00</td>\n",
              "      <td>0</td>\n",
              "      <td>66954</td>\n",
              "      <td>2016-04-07 01:46:50</td>\n",
              "    </tr>\n",
              "    <tr>\n",
              "      <th>2</th>\n",
              "      <td>9800</td>\n",
              "      <td>suv</td>\n",
              "      <td>2004</td>\n",
              "      <td>auto</td>\n",
              "      <td>163</td>\n",
              "      <td>grand</td>\n",
              "      <td>125000</td>\n",
              "      <td>8</td>\n",
              "      <td>gasoline</td>\n",
              "      <td>jeep</td>\n",
              "      <td>NaN</td>\n",
              "      <td>2016-03-14 00:00:00</td>\n",
              "      <td>0</td>\n",
              "      <td>90480</td>\n",
              "      <td>2016-04-05 12:47:46</td>\n",
              "    </tr>\n",
              "    <tr>\n",
              "      <th>3</th>\n",
              "      <td>1500</td>\n",
              "      <td>small</td>\n",
              "      <td>2001</td>\n",
              "      <td>manual</td>\n",
              "      <td>75</td>\n",
              "      <td>golf</td>\n",
              "      <td>150000</td>\n",
              "      <td>6</td>\n",
              "      <td>petrol</td>\n",
              "      <td>volkswagen</td>\n",
              "      <td>no</td>\n",
              "      <td>2016-03-17 00:00:00</td>\n",
              "      <td>0</td>\n",
              "      <td>91074</td>\n",
              "      <td>2016-03-17 17:40:17</td>\n",
              "    </tr>\n",
              "    <tr>\n",
              "      <th>4</th>\n",
              "      <td>3600</td>\n",
              "      <td>small</td>\n",
              "      <td>2008</td>\n",
              "      <td>manual</td>\n",
              "      <td>69</td>\n",
              "      <td>fabia</td>\n",
              "      <td>90000</td>\n",
              "      <td>7</td>\n",
              "      <td>gasoline</td>\n",
              "      <td>skoda</td>\n",
              "      <td>no</td>\n",
              "      <td>2016-03-31 00:00:00</td>\n",
              "      <td>0</td>\n",
              "      <td>60437</td>\n",
              "      <td>2016-04-06 10:17:21</td>\n",
              "    </tr>\n",
              "  </tbody>\n",
              "</table>\n",
              "</div>"
            ],
            "text/plain": [
              "   price vehicle_type  registration_year gearbox  power  model  kilometer  \\\n",
              "0    480          NaN               1993  manual      0   golf     150000   \n",
              "1  18300        coupe               2011  manual    190    NaN     125000   \n",
              "2   9800          suv               2004    auto    163  grand     125000   \n",
              "3   1500        small               2001  manual     75   golf     150000   \n",
              "4   3600        small               2008  manual     69  fabia      90000   \n",
              "\n",
              "   registration_month fuel_type       brand repaired         date_created  \\\n",
              "0                   0    petrol  volkswagen      NaN  2016-03-24 00:00:00   \n",
              "1                   5  gasoline        audi      yes  2016-03-24 00:00:00   \n",
              "2                   8  gasoline        jeep      NaN  2016-03-14 00:00:00   \n",
              "3                   6    petrol  volkswagen       no  2016-03-17 00:00:00   \n",
              "4                   7  gasoline       skoda       no  2016-03-31 00:00:00   \n",
              "\n",
              "   number_of_pictures  postal_code            last_seen  \n",
              "0                   0        70435  2016-04-07 03:16:57  \n",
              "1                   0        66954  2016-04-07 01:46:50  \n",
              "2                   0        90480  2016-04-05 12:47:46  \n",
              "3                   0        91074  2016-03-17 17:40:17  \n",
              "4                   0        60437  2016-04-06 10:17:21  "
            ]
          },
          "execution_count": 14,
          "metadata": {},
          "output_type": "execute_result"
        }
      ],
      "source": [
        "# 5 строк проказываю\n",
        "df_for_model.head()"
      ]
    },
    {
      "cell_type": "code",
      "execution_count": null,
      "id": "b82ea088",
      "metadata": {
        "id": "b82ea088"
      },
      "outputs": [],
      "source": [
        "# список индексов\n",
        "crawled_del_duplets = df_for_model[df_for_model.duplicated() ==True].index"
      ]
    },
    {
      "cell_type": "code",
      "execution_count": null,
      "id": "712e364a",
      "metadata": {
        "scrolled": true,
        "id": "712e364a",
        "outputId": "6cfabde4-9d89-47fe-9fa9-8bd1f9534241"
      },
      "outputs": [
        {
          "data": {
            "text/html": [
              "<div>\n",
              "<style scoped>\n",
              "    .dataframe tbody tr th:only-of-type {\n",
              "        vertical-align: middle;\n",
              "    }\n",
              "\n",
              "    .dataframe tbody tr th {\n",
              "        vertical-align: top;\n",
              "    }\n",
              "\n",
              "    .dataframe thead th {\n",
              "        text-align: right;\n",
              "    }\n",
              "</style>\n",
              "<table border=\"1\" class=\"dataframe\">\n",
              "  <thead>\n",
              "    <tr style=\"text-align: right;\">\n",
              "      <th></th>\n",
              "      <th>price</th>\n",
              "      <th>vehicle_type</th>\n",
              "      <th>registration_year</th>\n",
              "      <th>gearbox</th>\n",
              "      <th>power</th>\n",
              "      <th>model</th>\n",
              "      <th>kilometer</th>\n",
              "      <th>registration_month</th>\n",
              "      <th>fuel_type</th>\n",
              "      <th>brand</th>\n",
              "      <th>repaired</th>\n",
              "      <th>date_created</th>\n",
              "      <th>number_of_pictures</th>\n",
              "      <th>postal_code</th>\n",
              "      <th>last_seen</th>\n",
              "    </tr>\n",
              "  </thead>\n",
              "  <tbody>\n",
              "    <tr>\n",
              "      <th>6689</th>\n",
              "      <td>15700</td>\n",
              "      <td>suv</td>\n",
              "      <td>2011</td>\n",
              "      <td>manual</td>\n",
              "      <td>190</td>\n",
              "      <td>other</td>\n",
              "      <td>90000</td>\n",
              "      <td>6</td>\n",
              "      <td>petrol</td>\n",
              "      <td>mini</td>\n",
              "      <td>no</td>\n",
              "      <td>2016-03-16 00:00:00</td>\n",
              "      <td>0</td>\n",
              "      <td>46562</td>\n",
              "      <td>2016-03-27 16:47:23</td>\n",
              "    </tr>\n",
              "    <tr>\n",
              "      <th>49694</th>\n",
              "      <td>15700</td>\n",
              "      <td>suv</td>\n",
              "      <td>2011</td>\n",
              "      <td>manual</td>\n",
              "      <td>189</td>\n",
              "      <td>other</td>\n",
              "      <td>90000</td>\n",
              "      <td>6</td>\n",
              "      <td>petrol</td>\n",
              "      <td>mini</td>\n",
              "      <td>no</td>\n",
              "      <td>2016-03-16 00:00:00</td>\n",
              "      <td>0</td>\n",
              "      <td>46562</td>\n",
              "      <td>2016-03-27 14:16:03</td>\n",
              "    </tr>\n",
              "    <tr>\n",
              "      <th>77480</th>\n",
              "      <td>15700</td>\n",
              "      <td>suv</td>\n",
              "      <td>2011</td>\n",
              "      <td>manual</td>\n",
              "      <td>189</td>\n",
              "      <td>other</td>\n",
              "      <td>90000</td>\n",
              "      <td>6</td>\n",
              "      <td>petrol</td>\n",
              "      <td>mini</td>\n",
              "      <td>no</td>\n",
              "      <td>2016-03-16 00:00:00</td>\n",
              "      <td>0</td>\n",
              "      <td>46562</td>\n",
              "      <td>2016-03-27 14:16:03</td>\n",
              "    </tr>\n",
              "    <tr>\n",
              "      <th>165821</th>\n",
              "      <td>3990</td>\n",
              "      <td>small</td>\n",
              "      <td>2007</td>\n",
              "      <td>manual</td>\n",
              "      <td>60</td>\n",
              "      <td>panda</td>\n",
              "      <td>90000</td>\n",
              "      <td>11</td>\n",
              "      <td>petrol</td>\n",
              "      <td>fiat</td>\n",
              "      <td>no</td>\n",
              "      <td>2016-03-30 00:00:00</td>\n",
              "      <td>0</td>\n",
              "      <td>46562</td>\n",
              "      <td>2016-04-05 23:17:40</td>\n",
              "    </tr>\n",
              "    <tr>\n",
              "      <th>245099</th>\n",
              "      <td>3750</td>\n",
              "      <td>small</td>\n",
              "      <td>2009</td>\n",
              "      <td>manual</td>\n",
              "      <td>65</td>\n",
              "      <td>other</td>\n",
              "      <td>90000</td>\n",
              "      <td>5</td>\n",
              "      <td>petrol</td>\n",
              "      <td>fiat</td>\n",
              "      <td>no</td>\n",
              "      <td>2016-03-19 00:00:00</td>\n",
              "      <td>0</td>\n",
              "      <td>46562</td>\n",
              "      <td>2016-03-28 19:48:17</td>\n",
              "    </tr>\n",
              "    <tr>\n",
              "      <th>269728</th>\n",
              "      <td>2350</td>\n",
              "      <td>small</td>\n",
              "      <td>2004</td>\n",
              "      <td>manual</td>\n",
              "      <td>75</td>\n",
              "      <td>clio</td>\n",
              "      <td>90000</td>\n",
              "      <td>1</td>\n",
              "      <td>petrol</td>\n",
              "      <td>renault</td>\n",
              "      <td>no</td>\n",
              "      <td>2016-03-24 00:00:00</td>\n",
              "      <td>0</td>\n",
              "      <td>46562</td>\n",
              "      <td>2016-04-06 23:45:12</td>\n",
              "    </tr>\n",
              "    <tr>\n",
              "      <th>276987</th>\n",
              "      <td>3750</td>\n",
              "      <td>small</td>\n",
              "      <td>2009</td>\n",
              "      <td>manual</td>\n",
              "      <td>65</td>\n",
              "      <td>other</td>\n",
              "      <td>90000</td>\n",
              "      <td>5</td>\n",
              "      <td>petrol</td>\n",
              "      <td>fiat</td>\n",
              "      <td>no</td>\n",
              "      <td>2016-03-19 00:00:00</td>\n",
              "      <td>0</td>\n",
              "      <td>46562</td>\n",
              "      <td>2016-03-28 20:18:51</td>\n",
              "    </tr>\n",
              "    <tr>\n",
              "      <th>286190</th>\n",
              "      <td>15700</td>\n",
              "      <td>suv</td>\n",
              "      <td>2011</td>\n",
              "      <td>manual</td>\n",
              "      <td>190</td>\n",
              "      <td>cooper</td>\n",
              "      <td>90000</td>\n",
              "      <td>6</td>\n",
              "      <td>petrol</td>\n",
              "      <td>mini</td>\n",
              "      <td>no</td>\n",
              "      <td>2016-03-16 00:00:00</td>\n",
              "      <td>0</td>\n",
              "      <td>46562</td>\n",
              "      <td>2016-04-06 00:45:57</td>\n",
              "    </tr>\n",
              "    <tr>\n",
              "      <th>289334</th>\n",
              "      <td>3750</td>\n",
              "      <td>small</td>\n",
              "      <td>2009</td>\n",
              "      <td>manual</td>\n",
              "      <td>64</td>\n",
              "      <td>punto</td>\n",
              "      <td>90000</td>\n",
              "      <td>5</td>\n",
              "      <td>petrol</td>\n",
              "      <td>fiat</td>\n",
              "      <td>no</td>\n",
              "      <td>2016-03-13 00:00:00</td>\n",
              "      <td>0</td>\n",
              "      <td>46562</td>\n",
              "      <td>2016-03-29 03:16:29</td>\n",
              "    </tr>\n",
              "    <tr>\n",
              "      <th>334938</th>\n",
              "      <td>2600</td>\n",
              "      <td>small</td>\n",
              "      <td>2004</td>\n",
              "      <td>manual</td>\n",
              "      <td>75</td>\n",
              "      <td>clio</td>\n",
              "      <td>90000</td>\n",
              "      <td>4</td>\n",
              "      <td>petrol</td>\n",
              "      <td>renault</td>\n",
              "      <td>no</td>\n",
              "      <td>2016-03-23 00:00:00</td>\n",
              "      <td>0</td>\n",
              "      <td>46562</td>\n",
              "      <td>2016-04-05 13:46:36</td>\n",
              "    </tr>\n",
              "  </tbody>\n",
              "</table>\n",
              "</div>"
            ],
            "text/plain": [
              "        price vehicle_type  registration_year gearbox  power   model  \\\n",
              "6689    15700          suv               2011  manual    190   other   \n",
              "49694   15700          suv               2011  manual    189   other   \n",
              "77480   15700          suv               2011  manual    189   other   \n",
              "165821   3990        small               2007  manual     60   panda   \n",
              "245099   3750        small               2009  manual     65   other   \n",
              "269728   2350        small               2004  manual     75    clio   \n",
              "276987   3750        small               2009  manual     65   other   \n",
              "286190  15700          suv               2011  manual    190  cooper   \n",
              "289334   3750        small               2009  manual     64   punto   \n",
              "334938   2600        small               2004  manual     75    clio   \n",
              "\n",
              "        kilometer  registration_month fuel_type    brand repaired  \\\n",
              "6689        90000                   6    petrol     mini       no   \n",
              "49694       90000                   6    petrol     mini       no   \n",
              "77480       90000                   6    petrol     mini       no   \n",
              "165821      90000                  11    petrol     fiat       no   \n",
              "245099      90000                   5    petrol     fiat       no   \n",
              "269728      90000                   1    petrol  renault       no   \n",
              "276987      90000                   5    petrol     fiat       no   \n",
              "286190      90000                   6    petrol     mini       no   \n",
              "289334      90000                   5    petrol     fiat       no   \n",
              "334938      90000                   4    petrol  renault       no   \n",
              "\n",
              "               date_created  number_of_pictures  postal_code  \\\n",
              "6689    2016-03-16 00:00:00                   0        46562   \n",
              "49694   2016-03-16 00:00:00                   0        46562   \n",
              "77480   2016-03-16 00:00:00                   0        46562   \n",
              "165821  2016-03-30 00:00:00                   0        46562   \n",
              "245099  2016-03-19 00:00:00                   0        46562   \n",
              "269728  2016-03-24 00:00:00                   0        46562   \n",
              "276987  2016-03-19 00:00:00                   0        46562   \n",
              "286190  2016-03-16 00:00:00                   0        46562   \n",
              "289334  2016-03-13 00:00:00                   0        46562   \n",
              "334938  2016-03-23 00:00:00                   0        46562   \n",
              "\n",
              "                  last_seen  \n",
              "6689    2016-03-27 16:47:23  \n",
              "49694   2016-03-27 14:16:03  \n",
              "77480   2016-03-27 14:16:03  \n",
              "165821  2016-04-05 23:17:40  \n",
              "245099  2016-03-28 19:48:17  \n",
              "269728  2016-04-06 23:45:12  \n",
              "276987  2016-03-28 20:18:51  \n",
              "286190  2016-04-06 00:45:57  \n",
              "289334  2016-03-29 03:16:29  \n",
              "334938  2016-04-05 13:46:36  "
            ]
          },
          "execution_count": 16,
          "metadata": {},
          "output_type": "execute_result"
        }
      ],
      "source": [
        "# посмотрим на возможные ошибки в объявлении от одного пользователя\n",
        "df_for_model[(df_for_model['postal_code'] == 46562) & (df_for_model['kilometer'] == 90000)]"
      ]
    },
    {
      "cell_type": "code",
      "execution_count": null,
      "id": "290b5a89",
      "metadata": {
        "id": "290b5a89",
        "outputId": "b7501e98-b268-454c-feb9-328f363920c8"
      },
      "outputs": [
        {
          "data": {
            "text/plain": [
              "0        40225\n",
              "75       24023\n",
              "60       15897\n",
              "150      14590\n",
              "101      13298\n",
              "         ...  \n",
              "323          1\n",
              "3454         1\n",
              "1056         1\n",
              "13636        1\n",
              "1158         1\n",
              "Name: power, Length: 712, dtype: int64"
            ]
          },
          "execution_count": 17,
          "metadata": {},
          "output_type": "execute_result"
        }
      ],
      "source": [
        "# смотрим на уникальные значения и количестве оных\n",
        "df_for_model['power'].value_counts()"
      ]
    },
    {
      "cell_type": "code",
      "execution_count": null,
      "id": "feb6e9c4",
      "metadata": {
        "id": "feb6e9c4",
        "outputId": "6eb36423-ff54-4d14-f9ef-ee3815f7e2f9"
      },
      "outputs": [
        {
          "data": {
            "text/plain": [
              "29876"
            ]
          },
          "execution_count": 18,
          "metadata": {},
          "output_type": "execute_result"
        }
      ],
      "source": [
        "# сколько дубликатов если выбрать столбцы\n",
        "# 'price','vehicle_type','registration_year','gearbox','power',\n",
        "# 'kilometer','registration_month','fuel_type','brand','repaired'\n",
        "df_for_model.loc[(df_for_model['power'] >= 189) & (df_for_model['power'] <= 190)]\n",
        "df_for_model.loc[:,['price','vehicle_type','registration_year','gearbox','power','kilometer','registration_month','fuel_type','brand','repaired']].duplicated().sum()"
      ]
    },
    {
      "cell_type": "code",
      "execution_count": null,
      "id": "f6fddff7",
      "metadata": {
        "id": "f6fddff7",
        "outputId": "28211680-dd37-4db9-af0c-f9f05c4aa4ec"
      },
      "outputs": [
        {
          "data": {
            "text/html": [
              "<div>\n",
              "<style scoped>\n",
              "    .dataframe tbody tr th:only-of-type {\n",
              "        vertical-align: middle;\n",
              "    }\n",
              "\n",
              "    .dataframe tbody tr th {\n",
              "        vertical-align: top;\n",
              "    }\n",
              "\n",
              "    .dataframe thead th {\n",
              "        text-align: right;\n",
              "    }\n",
              "</style>\n",
              "<table border=\"1\" class=\"dataframe\">\n",
              "  <thead>\n",
              "    <tr style=\"text-align: right;\">\n",
              "      <th></th>\n",
              "      <th>price</th>\n",
              "      <th>vehicle_type</th>\n",
              "      <th>registration_year</th>\n",
              "      <th>gearbox</th>\n",
              "      <th>kilometer</th>\n",
              "      <th>registration_month</th>\n",
              "    </tr>\n",
              "  </thead>\n",
              "  <tbody>\n",
              "    <tr>\n",
              "      <th>0</th>\n",
              "      <td>480</td>\n",
              "      <td>NaN</td>\n",
              "      <td>1993</td>\n",
              "      <td>manual</td>\n",
              "      <td>150000</td>\n",
              "      <td>0</td>\n",
              "    </tr>\n",
              "    <tr>\n",
              "      <th>1</th>\n",
              "      <td>18300</td>\n",
              "      <td>coupe</td>\n",
              "      <td>2011</td>\n",
              "      <td>manual</td>\n",
              "      <td>125000</td>\n",
              "      <td>5</td>\n",
              "    </tr>\n",
              "    <tr>\n",
              "      <th>2</th>\n",
              "      <td>9800</td>\n",
              "      <td>suv</td>\n",
              "      <td>2004</td>\n",
              "      <td>auto</td>\n",
              "      <td>125000</td>\n",
              "      <td>8</td>\n",
              "    </tr>\n",
              "    <tr>\n",
              "      <th>3</th>\n",
              "      <td>1500</td>\n",
              "      <td>small</td>\n",
              "      <td>2001</td>\n",
              "      <td>manual</td>\n",
              "      <td>150000</td>\n",
              "      <td>6</td>\n",
              "    </tr>\n",
              "    <tr>\n",
              "      <th>4</th>\n",
              "      <td>3600</td>\n",
              "      <td>small</td>\n",
              "      <td>2008</td>\n",
              "      <td>manual</td>\n",
              "      <td>90000</td>\n",
              "      <td>7</td>\n",
              "    </tr>\n",
              "    <tr>\n",
              "      <th>...</th>\n",
              "      <td>...</td>\n",
              "      <td>...</td>\n",
              "      <td>...</td>\n",
              "      <td>...</td>\n",
              "      <td>...</td>\n",
              "      <td>...</td>\n",
              "    </tr>\n",
              "    <tr>\n",
              "      <th>354364</th>\n",
              "      <td>0</td>\n",
              "      <td>NaN</td>\n",
              "      <td>2005</td>\n",
              "      <td>manual</td>\n",
              "      <td>150000</td>\n",
              "      <td>7</td>\n",
              "    </tr>\n",
              "    <tr>\n",
              "      <th>354365</th>\n",
              "      <td>2200</td>\n",
              "      <td>NaN</td>\n",
              "      <td>2005</td>\n",
              "      <td>NaN</td>\n",
              "      <td>20000</td>\n",
              "      <td>1</td>\n",
              "    </tr>\n",
              "    <tr>\n",
              "      <th>354366</th>\n",
              "      <td>1199</td>\n",
              "      <td>convertible</td>\n",
              "      <td>2000</td>\n",
              "      <td>auto</td>\n",
              "      <td>125000</td>\n",
              "      <td>3</td>\n",
              "    </tr>\n",
              "    <tr>\n",
              "      <th>354367</th>\n",
              "      <td>9200</td>\n",
              "      <td>bus</td>\n",
              "      <td>1996</td>\n",
              "      <td>manual</td>\n",
              "      <td>150000</td>\n",
              "      <td>3</td>\n",
              "    </tr>\n",
              "    <tr>\n",
              "      <th>354368</th>\n",
              "      <td>3400</td>\n",
              "      <td>wagon</td>\n",
              "      <td>2002</td>\n",
              "      <td>manual</td>\n",
              "      <td>150000</td>\n",
              "      <td>6</td>\n",
              "    </tr>\n",
              "  </tbody>\n",
              "</table>\n",
              "<p>354365 rows × 6 columns</p>\n",
              "</div>"
            ],
            "text/plain": [
              "        price vehicle_type  registration_year gearbox  kilometer  \\\n",
              "0         480          NaN               1993  manual     150000   \n",
              "1       18300        coupe               2011  manual     125000   \n",
              "2        9800          suv               2004    auto     125000   \n",
              "3        1500        small               2001  manual     150000   \n",
              "4        3600        small               2008  manual      90000   \n",
              "...       ...          ...                ...     ...        ...   \n",
              "354364      0          NaN               2005  manual     150000   \n",
              "354365   2200          NaN               2005     NaN      20000   \n",
              "354366   1199  convertible               2000    auto     125000   \n",
              "354367   9200          bus               1996  manual     150000   \n",
              "354368   3400        wagon               2002  manual     150000   \n",
              "\n",
              "        registration_month  \n",
              "0                        0  \n",
              "1                        5  \n",
              "2                        8  \n",
              "3                        6  \n",
              "4                        7  \n",
              "...                    ...  \n",
              "354364                   7  \n",
              "354365                   1  \n",
              "354366                   3  \n",
              "354367                   3  \n",
              "354368                   6  \n",
              "\n",
              "[354365 rows x 6 columns]"
            ]
          },
          "execution_count": 19,
          "metadata": {},
          "output_type": "execute_result"
        }
      ],
      "source": [
        "# таблица со столбцами\n",
        "# 'price','vehicle_type','registration_year','gearbox','kilometer','registration_month'\n",
        "df_for_model.loc[:,['price','vehicle_type','registration_year','gearbox','kilometer','registration_month']]"
      ]
    },
    {
      "cell_type": "code",
      "execution_count": null,
      "id": "aa938b60",
      "metadata": {
        "id": "aa938b60",
        "outputId": "c5db6ec5-ad9e-4771-bab4-47b517524882"
      },
      "outputs": [
        {
          "data": {
            "text/plain": [
              "117483"
            ]
          },
          "execution_count": 20,
          "metadata": {},
          "output_type": "execute_result"
        }
      ],
      "source": [
        "# сумма дубликатов в таблице со столбцами\n",
        "# 'price','vehicle_type','registration_year','gearbox','kilometer','registration_month'\n",
        "df_for_model.loc[:,['price','vehicle_type','registration_year','gearbox','kilometer','registration_month']].duplicated().sum()"
      ]
    },
    {
      "cell_type": "code",
      "execution_count": null,
      "id": "535bf8d9",
      "metadata": {
        "id": "535bf8d9",
        "outputId": "85b45c17-7c31-46f7-97d5-3bbc2bc7cba1"
      },
      "outputs": [
        {
          "data": {
            "text/html": [
              "<div>\n",
              "<style scoped>\n",
              "    .dataframe tbody tr th:only-of-type {\n",
              "        vertical-align: middle;\n",
              "    }\n",
              "\n",
              "    .dataframe tbody tr th {\n",
              "        vertical-align: top;\n",
              "    }\n",
              "\n",
              "    .dataframe thead th {\n",
              "        text-align: right;\n",
              "    }\n",
              "</style>\n",
              "<table border=\"1\" class=\"dataframe\">\n",
              "  <thead>\n",
              "    <tr style=\"text-align: right;\">\n",
              "      <th></th>\n",
              "      <th>price</th>\n",
              "      <th>vehicle_type</th>\n",
              "      <th>registration_year</th>\n",
              "      <th>gearbox</th>\n",
              "      <th>power</th>\n",
              "      <th>model</th>\n",
              "      <th>kilometer</th>\n",
              "      <th>registration_month</th>\n",
              "      <th>fuel_type</th>\n",
              "      <th>brand</th>\n",
              "      <th>repaired</th>\n",
              "      <th>date_created</th>\n",
              "      <th>number_of_pictures</th>\n",
              "      <th>postal_code</th>\n",
              "      <th>last_seen</th>\n",
              "    </tr>\n",
              "  </thead>\n",
              "  <tbody>\n",
              "    <tr>\n",
              "      <th>77479</th>\n",
              "      <td>850</td>\n",
              "      <td>bus</td>\n",
              "      <td>1995</td>\n",
              "      <td>auto</td>\n",
              "      <td>170</td>\n",
              "      <td>voyager</td>\n",
              "      <td>150000</td>\n",
              "      <td>1</td>\n",
              "      <td>NaN</td>\n",
              "      <td>chrysler</td>\n",
              "      <td>no</td>\n",
              "      <td>2016-03-21 00:00:00</td>\n",
              "      <td>0</td>\n",
              "      <td>31249</td>\n",
              "      <td>2016-04-05 22:45:39</td>\n",
              "    </tr>\n",
              "    <tr>\n",
              "      <th>77480</th>\n",
              "      <td>15700</td>\n",
              "      <td>suv</td>\n",
              "      <td>2011</td>\n",
              "      <td>manual</td>\n",
              "      <td>189</td>\n",
              "      <td>other</td>\n",
              "      <td>90000</td>\n",
              "      <td>6</td>\n",
              "      <td>petrol</td>\n",
              "      <td>mini</td>\n",
              "      <td>no</td>\n",
              "      <td>2016-03-16 00:00:00</td>\n",
              "      <td>0</td>\n",
              "      <td>46562</td>\n",
              "      <td>2016-03-27 14:16:03</td>\n",
              "    </tr>\n",
              "  </tbody>\n",
              "</table>\n",
              "</div>"
            ],
            "text/plain": [
              "       price vehicle_type  registration_year gearbox  power    model  \\\n",
              "77479    850          bus               1995    auto    170  voyager   \n",
              "77480  15700          suv               2011  manual    189    other   \n",
              "\n",
              "       kilometer  registration_month fuel_type     brand repaired  \\\n",
              "77479     150000                   1       NaN  chrysler       no   \n",
              "77480      90000                   6    petrol      mini       no   \n",
              "\n",
              "              date_created  number_of_pictures  postal_code  \\\n",
              "77479  2016-03-21 00:00:00                   0        31249   \n",
              "77480  2016-03-16 00:00:00                   0        46562   \n",
              "\n",
              "                 last_seen  \n",
              "77479  2016-04-05 22:45:39  \n",
              "77480  2016-03-27 14:16:03  "
            ]
          },
          "execution_count": 21,
          "metadata": {},
          "output_type": "execute_result"
        }
      ],
      "source": [
        "# смотрим на строки с индексами 77480,77479\n",
        "df_for_model.query('index in [77480,77479]')"
      ]
    },
    {
      "cell_type": "code",
      "execution_count": null,
      "id": "ce234661",
      "metadata": {
        "id": "ce234661",
        "outputId": "8be50940-7604-4027-89c6-1770256e91ea"
      },
      "outputs": [
        {
          "data": {
            "text/html": [
              "<div>\n",
              "<style scoped>\n",
              "    .dataframe tbody tr th:only-of-type {\n",
              "        vertical-align: middle;\n",
              "    }\n",
              "\n",
              "    .dataframe tbody tr th {\n",
              "        vertical-align: top;\n",
              "    }\n",
              "\n",
              "    .dataframe thead th {\n",
              "        text-align: right;\n",
              "    }\n",
              "</style>\n",
              "<table border=\"1\" class=\"dataframe\">\n",
              "  <thead>\n",
              "    <tr style=\"text-align: right;\">\n",
              "      <th></th>\n",
              "      <th>price</th>\n",
              "      <th>vehicle_type</th>\n",
              "      <th>registration_year</th>\n",
              "      <th>gearbox</th>\n",
              "      <th>power</th>\n",
              "      <th>model</th>\n",
              "      <th>kilometer</th>\n",
              "      <th>registration_month</th>\n",
              "      <th>fuel_type</th>\n",
              "      <th>brand</th>\n",
              "      <th>repaired</th>\n",
              "      <th>date_created</th>\n",
              "      <th>number_of_pictures</th>\n",
              "      <th>postal_code</th>\n",
              "      <th>last_seen</th>\n",
              "    </tr>\n",
              "  </thead>\n",
              "  <tbody>\n",
              "    <tr>\n",
              "      <th>77480</th>\n",
              "      <td>15700</td>\n",
              "      <td>suv</td>\n",
              "      <td>2011</td>\n",
              "      <td>manual</td>\n",
              "      <td>189</td>\n",
              "      <td>other</td>\n",
              "      <td>90000</td>\n",
              "      <td>6</td>\n",
              "      <td>petrol</td>\n",
              "      <td>mini</td>\n",
              "      <td>no</td>\n",
              "      <td>2016-03-16 00:00:00</td>\n",
              "      <td>0</td>\n",
              "      <td>46562</td>\n",
              "      <td>2016-03-27 14:16:03</td>\n",
              "    </tr>\n",
              "    <tr>\n",
              "      <th>84075</th>\n",
              "      <td>999</td>\n",
              "      <td>small</td>\n",
              "      <td>2002</td>\n",
              "      <td>manual</td>\n",
              "      <td>50</td>\n",
              "      <td>lupo</td>\n",
              "      <td>150000</td>\n",
              "      <td>6</td>\n",
              "      <td>petrol</td>\n",
              "      <td>volkswagen</td>\n",
              "      <td>no</td>\n",
              "      <td>2016-03-15 00:00:00</td>\n",
              "      <td>0</td>\n",
              "      <td>48499</td>\n",
              "      <td>2016-03-21 03:16:25</td>\n",
              "    </tr>\n",
              "    <tr>\n",
              "      <th>84868</th>\n",
              "      <td>6990</td>\n",
              "      <td>small</td>\n",
              "      <td>2008</td>\n",
              "      <td>manual</td>\n",
              "      <td>75</td>\n",
              "      <td>500</td>\n",
              "      <td>80000</td>\n",
              "      <td>1</td>\n",
              "      <td>gasoline</td>\n",
              "      <td>fiat</td>\n",
              "      <td>no</td>\n",
              "      <td>2016-04-03 00:00:00</td>\n",
              "      <td>0</td>\n",
              "      <td>65428</td>\n",
              "      <td>2016-04-07 13:16:12</td>\n",
              "    </tr>\n",
              "    <tr>\n",
              "      <th>87362</th>\n",
              "      <td>13990</td>\n",
              "      <td>wagon</td>\n",
              "      <td>2009</td>\n",
              "      <td>manual</td>\n",
              "      <td>190</td>\n",
              "      <td>a6</td>\n",
              "      <td>150000</td>\n",
              "      <td>7</td>\n",
              "      <td>gasoline</td>\n",
              "      <td>audi</td>\n",
              "      <td>no</td>\n",
              "      <td>2016-03-17 00:00:00</td>\n",
              "      <td>0</td>\n",
              "      <td>61350</td>\n",
              "      <td>2016-04-06 23:45:28</td>\n",
              "    </tr>\n",
              "    <tr>\n",
              "      <th>90786</th>\n",
              "      <td>6199</td>\n",
              "      <td>coupe</td>\n",
              "      <td>1999</td>\n",
              "      <td>manual</td>\n",
              "      <td>193</td>\n",
              "      <td>3er</td>\n",
              "      <td>150000</td>\n",
              "      <td>5</td>\n",
              "      <td>petrol</td>\n",
              "      <td>bmw</td>\n",
              "      <td>no</td>\n",
              "      <td>2016-04-01 00:00:00</td>\n",
              "      <td>0</td>\n",
              "      <td>99974</td>\n",
              "      <td>2016-04-07 06:15:25</td>\n",
              "    </tr>\n",
              "    <tr>\n",
              "      <th>...</th>\n",
              "      <td>...</td>\n",
              "      <td>...</td>\n",
              "      <td>...</td>\n",
              "      <td>...</td>\n",
              "      <td>...</td>\n",
              "      <td>...</td>\n",
              "      <td>...</td>\n",
              "      <td>...</td>\n",
              "      <td>...</td>\n",
              "      <td>...</td>\n",
              "      <td>...</td>\n",
              "      <td>...</td>\n",
              "      <td>...</td>\n",
              "      <td>...</td>\n",
              "      <td>...</td>\n",
              "    </tr>\n",
              "    <tr>\n",
              "      <th>333106</th>\n",
              "      <td>5500</td>\n",
              "      <td>wagon</td>\n",
              "      <td>2007</td>\n",
              "      <td>auto</td>\n",
              "      <td>163</td>\n",
              "      <td>3er</td>\n",
              "      <td>150000</td>\n",
              "      <td>7</td>\n",
              "      <td>gasoline</td>\n",
              "      <td>bmw</td>\n",
              "      <td>no</td>\n",
              "      <td>2016-03-24 00:00:00</td>\n",
              "      <td>0</td>\n",
              "      <td>12623</td>\n",
              "      <td>2016-04-06 21:46:54</td>\n",
              "    </tr>\n",
              "    <tr>\n",
              "      <th>345034</th>\n",
              "      <td>15000</td>\n",
              "      <td>convertible</td>\n",
              "      <td>1975</td>\n",
              "      <td>NaN</td>\n",
              "      <td>0</td>\n",
              "      <td>spider</td>\n",
              "      <td>50000</td>\n",
              "      <td>1</td>\n",
              "      <td>NaN</td>\n",
              "      <td>alfa_romeo</td>\n",
              "      <td>no</td>\n",
              "      <td>2016-04-03 00:00:00</td>\n",
              "      <td>0</td>\n",
              "      <td>51061</td>\n",
              "      <td>2016-04-05 18:17:30</td>\n",
              "    </tr>\n",
              "    <tr>\n",
              "      <th>349989</th>\n",
              "      <td>17999</td>\n",
              "      <td>wagon</td>\n",
              "      <td>2011</td>\n",
              "      <td>auto</td>\n",
              "      <td>143</td>\n",
              "      <td>a4</td>\n",
              "      <td>90000</td>\n",
              "      <td>8</td>\n",
              "      <td>gasoline</td>\n",
              "      <td>audi</td>\n",
              "      <td>no</td>\n",
              "      <td>2016-03-26 00:00:00</td>\n",
              "      <td>0</td>\n",
              "      <td>55130</td>\n",
              "      <td>2016-04-07 00:17:35</td>\n",
              "    </tr>\n",
              "    <tr>\n",
              "      <th>354151</th>\n",
              "      <td>8450</td>\n",
              "      <td>wagon</td>\n",
              "      <td>2007</td>\n",
              "      <td>auto</td>\n",
              "      <td>140</td>\n",
              "      <td>passat</td>\n",
              "      <td>150000</td>\n",
              "      <td>1</td>\n",
              "      <td>gasoline</td>\n",
              "      <td>volkswagen</td>\n",
              "      <td>no</td>\n",
              "      <td>2016-03-28 00:00:00</td>\n",
              "      <td>0</td>\n",
              "      <td>18233</td>\n",
              "      <td>2016-04-01 04:46:10</td>\n",
              "    </tr>\n",
              "    <tr>\n",
              "      <th>354281</th>\n",
              "      <td>6500</td>\n",
              "      <td>sedan</td>\n",
              "      <td>1993</td>\n",
              "      <td>auto</td>\n",
              "      <td>286</td>\n",
              "      <td>5er</td>\n",
              "      <td>150000</td>\n",
              "      <td>1</td>\n",
              "      <td>petrol</td>\n",
              "      <td>bmw</td>\n",
              "      <td>no</td>\n",
              "      <td>2016-03-07 00:00:00</td>\n",
              "      <td>0</td>\n",
              "      <td>81249</td>\n",
              "      <td>2016-04-05 15:17:12</td>\n",
              "    </tr>\n",
              "  </tbody>\n",
              "</table>\n",
              "<p>85 rows × 15 columns</p>\n",
              "</div>"
            ],
            "text/plain": [
              "        price vehicle_type  registration_year gearbox  power   model  \\\n",
              "77480   15700          suv               2011  manual    189   other   \n",
              "84075     999        small               2002  manual     50    lupo   \n",
              "84868    6990        small               2008  manual     75     500   \n",
              "87362   13990        wagon               2009  manual    190      a6   \n",
              "90786    6199        coupe               1999  manual    193     3er   \n",
              "...       ...          ...                ...     ...    ...     ...   \n",
              "333106   5500        wagon               2007    auto    163     3er   \n",
              "345034  15000  convertible               1975     NaN      0  spider   \n",
              "349989  17999        wagon               2011    auto    143      a4   \n",
              "354151   8450        wagon               2007    auto    140  passat   \n",
              "354281   6500        sedan               1993    auto    286     5er   \n",
              "\n",
              "        kilometer  registration_month fuel_type       brand repaired  \\\n",
              "77480       90000                   6    petrol        mini       no   \n",
              "84075      150000                   6    petrol  volkswagen       no   \n",
              "84868       80000                   1  gasoline        fiat       no   \n",
              "87362      150000                   7  gasoline        audi       no   \n",
              "90786      150000                   5    petrol         bmw       no   \n",
              "...           ...                 ...       ...         ...      ...   \n",
              "333106     150000                   7  gasoline         bmw       no   \n",
              "345034      50000                   1       NaN  alfa_romeo       no   \n",
              "349989      90000                   8  gasoline        audi       no   \n",
              "354151     150000                   1  gasoline  volkswagen       no   \n",
              "354281     150000                   1    petrol         bmw       no   \n",
              "\n",
              "               date_created  number_of_pictures  postal_code  \\\n",
              "77480   2016-03-16 00:00:00                   0        46562   \n",
              "84075   2016-03-15 00:00:00                   0        48499   \n",
              "84868   2016-04-03 00:00:00                   0        65428   \n",
              "87362   2016-03-17 00:00:00                   0        61350   \n",
              "90786   2016-04-01 00:00:00                   0        99974   \n",
              "...                     ...                 ...          ...   \n",
              "333106  2016-03-24 00:00:00                   0        12623   \n",
              "345034  2016-04-03 00:00:00                   0        51061   \n",
              "349989  2016-03-26 00:00:00                   0        55130   \n",
              "354151  2016-03-28 00:00:00                   0        18233   \n",
              "354281  2016-03-07 00:00:00                   0        81249   \n",
              "\n",
              "                  last_seen  \n",
              "77480   2016-03-27 14:16:03  \n",
              "84075   2016-03-21 03:16:25  \n",
              "84868   2016-04-07 13:16:12  \n",
              "87362   2016-04-06 23:45:28  \n",
              "90786   2016-04-07 06:15:25  \n",
              "...                     ...  \n",
              "333106  2016-04-06 21:46:54  \n",
              "345034  2016-04-05 18:17:30  \n",
              "349989  2016-04-07 00:17:35  \n",
              "354151  2016-04-01 04:46:10  \n",
              "354281  2016-04-05 15:17:12  \n",
              "\n",
              "[85 rows x 15 columns]"
            ]
          },
          "execution_count": 22,
          "metadata": {},
          "output_type": "execute_result"
        }
      ],
      "source": [
        "# строки с дубликатами\n",
        "df_for_model.query('index in @ crawled_del_duplets')"
      ]
    },
    {
      "cell_type": "code",
      "execution_count": null,
      "id": "3bf47331",
      "metadata": {
        "scrolled": true,
        "id": "3bf47331",
        "outputId": "43191f8a-1c7a-4d60-8f70-bfcab3fe6b29"
      },
      "outputs": [
        {
          "data": {
            "text/html": [
              "<div>\n",
              "<style scoped>\n",
              "    .dataframe tbody tr th:only-of-type {\n",
              "        vertical-align: middle;\n",
              "    }\n",
              "\n",
              "    .dataframe tbody tr th {\n",
              "        vertical-align: top;\n",
              "    }\n",
              "\n",
              "    .dataframe thead th {\n",
              "        text-align: right;\n",
              "    }\n",
              "</style>\n",
              "<table border=\"1\" class=\"dataframe\">\n",
              "  <thead>\n",
              "    <tr style=\"text-align: right;\">\n",
              "      <th></th>\n",
              "      <th>date_crawled</th>\n",
              "      <th>vehicle_type</th>\n",
              "      <th>gearbox</th>\n",
              "      <th>model</th>\n",
              "      <th>fuel_type</th>\n",
              "      <th>brand</th>\n",
              "      <th>repaired</th>\n",
              "      <th>date_created</th>\n",
              "      <th>last_seen</th>\n",
              "    </tr>\n",
              "  </thead>\n",
              "  <tbody>\n",
              "    <tr>\n",
              "      <th>0</th>\n",
              "      <td>2016-03-24 11:52:17</td>\n",
              "      <td>NaN</td>\n",
              "      <td>manual</td>\n",
              "      <td>golf</td>\n",
              "      <td>petrol</td>\n",
              "      <td>volkswagen</td>\n",
              "      <td>NaN</td>\n",
              "      <td>2016-03-24 00:00:00</td>\n",
              "      <td>2016-04-07 03:16:57</td>\n",
              "    </tr>\n",
              "    <tr>\n",
              "      <th>1</th>\n",
              "      <td>2016-03-24 10:58:45</td>\n",
              "      <td>coupe</td>\n",
              "      <td>manual</td>\n",
              "      <td>NaN</td>\n",
              "      <td>gasoline</td>\n",
              "      <td>audi</td>\n",
              "      <td>yes</td>\n",
              "      <td>2016-03-24 00:00:00</td>\n",
              "      <td>2016-04-07 01:46:50</td>\n",
              "    </tr>\n",
              "    <tr>\n",
              "      <th>2</th>\n",
              "      <td>2016-03-14 12:52:21</td>\n",
              "      <td>suv</td>\n",
              "      <td>auto</td>\n",
              "      <td>grand</td>\n",
              "      <td>gasoline</td>\n",
              "      <td>jeep</td>\n",
              "      <td>NaN</td>\n",
              "      <td>2016-03-14 00:00:00</td>\n",
              "      <td>2016-04-05 12:47:46</td>\n",
              "    </tr>\n",
              "    <tr>\n",
              "      <th>3</th>\n",
              "      <td>2016-03-17 16:54:04</td>\n",
              "      <td>small</td>\n",
              "      <td>manual</td>\n",
              "      <td>golf</td>\n",
              "      <td>petrol</td>\n",
              "      <td>volkswagen</td>\n",
              "      <td>no</td>\n",
              "      <td>2016-03-17 00:00:00</td>\n",
              "      <td>2016-03-17 17:40:17</td>\n",
              "    </tr>\n",
              "    <tr>\n",
              "      <th>4</th>\n",
              "      <td>2016-03-31 17:25:20</td>\n",
              "      <td>small</td>\n",
              "      <td>manual</td>\n",
              "      <td>fabia</td>\n",
              "      <td>gasoline</td>\n",
              "      <td>skoda</td>\n",
              "      <td>no</td>\n",
              "      <td>2016-03-31 00:00:00</td>\n",
              "      <td>2016-04-06 10:17:21</td>\n",
              "    </tr>\n",
              "    <tr>\n",
              "      <th>...</th>\n",
              "      <td>...</td>\n",
              "      <td>...</td>\n",
              "      <td>...</td>\n",
              "      <td>...</td>\n",
              "      <td>...</td>\n",
              "      <td>...</td>\n",
              "      <td>...</td>\n",
              "      <td>...</td>\n",
              "      <td>...</td>\n",
              "    </tr>\n",
              "    <tr>\n",
              "      <th>354364</th>\n",
              "      <td>2016-03-21 09:50:58</td>\n",
              "      <td>NaN</td>\n",
              "      <td>manual</td>\n",
              "      <td>colt</td>\n",
              "      <td>petrol</td>\n",
              "      <td>mitsubishi</td>\n",
              "      <td>yes</td>\n",
              "      <td>2016-03-21 00:00:00</td>\n",
              "      <td>2016-03-21 10:42:49</td>\n",
              "    </tr>\n",
              "    <tr>\n",
              "      <th>354365</th>\n",
              "      <td>2016-03-14 17:48:27</td>\n",
              "      <td>NaN</td>\n",
              "      <td>NaN</td>\n",
              "      <td>NaN</td>\n",
              "      <td>NaN</td>\n",
              "      <td>sonstige_autos</td>\n",
              "      <td>NaN</td>\n",
              "      <td>2016-03-14 00:00:00</td>\n",
              "      <td>2016-04-06 00:46:52</td>\n",
              "    </tr>\n",
              "    <tr>\n",
              "      <th>354366</th>\n",
              "      <td>2016-03-05 19:56:21</td>\n",
              "      <td>convertible</td>\n",
              "      <td>auto</td>\n",
              "      <td>fortwo</td>\n",
              "      <td>petrol</td>\n",
              "      <td>smart</td>\n",
              "      <td>no</td>\n",
              "      <td>2016-03-05 00:00:00</td>\n",
              "      <td>2016-03-11 18:17:12</td>\n",
              "    </tr>\n",
              "    <tr>\n",
              "      <th>354367</th>\n",
              "      <td>2016-03-19 18:57:12</td>\n",
              "      <td>bus</td>\n",
              "      <td>manual</td>\n",
              "      <td>transporter</td>\n",
              "      <td>gasoline</td>\n",
              "      <td>volkswagen</td>\n",
              "      <td>no</td>\n",
              "      <td>2016-03-19 00:00:00</td>\n",
              "      <td>2016-04-07 07:15:26</td>\n",
              "    </tr>\n",
              "    <tr>\n",
              "      <th>354368</th>\n",
              "      <td>2016-03-20 19:41:08</td>\n",
              "      <td>wagon</td>\n",
              "      <td>manual</td>\n",
              "      <td>golf</td>\n",
              "      <td>gasoline</td>\n",
              "      <td>volkswagen</td>\n",
              "      <td>NaN</td>\n",
              "      <td>2016-03-20 00:00:00</td>\n",
              "      <td>2016-03-24 12:45:21</td>\n",
              "    </tr>\n",
              "  </tbody>\n",
              "</table>\n",
              "<p>354365 rows × 9 columns</p>\n",
              "</div>"
            ],
            "text/plain": [
              "               date_crawled vehicle_type gearbox        model fuel_type  \\\n",
              "0       2016-03-24 11:52:17          NaN  manual         golf    petrol   \n",
              "1       2016-03-24 10:58:45        coupe  manual          NaN  gasoline   \n",
              "2       2016-03-14 12:52:21          suv    auto        grand  gasoline   \n",
              "3       2016-03-17 16:54:04        small  manual         golf    petrol   \n",
              "4       2016-03-31 17:25:20        small  manual        fabia  gasoline   \n",
              "...                     ...          ...     ...          ...       ...   \n",
              "354364  2016-03-21 09:50:58          NaN  manual         colt    petrol   \n",
              "354365  2016-03-14 17:48:27          NaN     NaN          NaN       NaN   \n",
              "354366  2016-03-05 19:56:21  convertible    auto       fortwo    petrol   \n",
              "354367  2016-03-19 18:57:12          bus  manual  transporter  gasoline   \n",
              "354368  2016-03-20 19:41:08        wagon  manual         golf  gasoline   \n",
              "\n",
              "                 brand repaired         date_created            last_seen  \n",
              "0           volkswagen      NaN  2016-03-24 00:00:00  2016-04-07 03:16:57  \n",
              "1                 audi      yes  2016-03-24 00:00:00  2016-04-07 01:46:50  \n",
              "2                 jeep      NaN  2016-03-14 00:00:00  2016-04-05 12:47:46  \n",
              "3           volkswagen       no  2016-03-17 00:00:00  2016-03-17 17:40:17  \n",
              "4                skoda       no  2016-03-31 00:00:00  2016-04-06 10:17:21  \n",
              "...                ...      ...                  ...                  ...  \n",
              "354364      mitsubishi      yes  2016-03-21 00:00:00  2016-03-21 10:42:49  \n",
              "354365  sonstige_autos      NaN  2016-03-14 00:00:00  2016-04-06 00:46:52  \n",
              "354366           smart       no  2016-03-05 00:00:00  2016-03-11 18:17:12  \n",
              "354367      volkswagen       no  2016-03-19 00:00:00  2016-04-07 07:15:26  \n",
              "354368      volkswagen      NaN  2016-03-20 00:00:00  2016-03-24 12:45:21  \n",
              "\n",
              "[354365 rows x 9 columns]"
            ]
          },
          "execution_count": 23,
          "metadata": {},
          "output_type": "execute_result"
        }
      ],
      "source": [
        "# таблица с объектами\n",
        "df.select_dtypes(exclude='number')"
      ]
    },
    {
      "cell_type": "code",
      "execution_count": null,
      "id": "ed34c9b6",
      "metadata": {
        "id": "ed34c9b6",
        "outputId": "e2b5cacb-4c75-405e-c6b5-abf0ead4c844"
      },
      "outputs": [
        {
          "data": {
            "text/plain": [
              "0    354365\n",
              "Name: number_of_pictures, dtype: int64"
            ]
          },
          "execution_count": 24,
          "metadata": {},
          "output_type": "execute_result"
        }
      ],
      "source": [
        "# уникальные значения в столбце number_of_pictures\n",
        "df['number_of_pictures'].value_counts()"
      ]
    },
    {
      "cell_type": "code",
      "execution_count": null,
      "id": "90c26755",
      "metadata": {
        "scrolled": true,
        "id": "90c26755",
        "outputId": "db99e71a-7ccb-4249-f941-070fdaf958d8"
      },
      "outputs": [
        {
          "data": {
            "text/html": [
              "<div>\n",
              "<style scoped>\n",
              "    .dataframe tbody tr th:only-of-type {\n",
              "        vertical-align: middle;\n",
              "    }\n",
              "\n",
              "    .dataframe tbody tr th {\n",
              "        vertical-align: top;\n",
              "    }\n",
              "\n",
              "    .dataframe thead th {\n",
              "        text-align: right;\n",
              "    }\n",
              "</style>\n",
              "<table border=\"1\" class=\"dataframe\">\n",
              "  <thead>\n",
              "    <tr style=\"text-align: right;\">\n",
              "      <th></th>\n",
              "      <th>column</th>\n",
              "      <th>rate_of_nan</th>\n",
              "    </tr>\n",
              "  </thead>\n",
              "  <tbody>\n",
              "    <tr>\n",
              "      <th>0</th>\n",
              "      <td>vehicle_type</td>\n",
              "      <td>0.105794</td>\n",
              "    </tr>\n",
              "    <tr>\n",
              "      <th>1</th>\n",
              "      <td>gearbox</td>\n",
              "      <td>0.055967</td>\n",
              "    </tr>\n",
              "    <tr>\n",
              "      <th>2</th>\n",
              "      <td>model</td>\n",
              "      <td>0.055606</td>\n",
              "    </tr>\n",
              "    <tr>\n",
              "      <th>3</th>\n",
              "      <td>fuel_type</td>\n",
              "      <td>0.092827</td>\n",
              "    </tr>\n",
              "    <tr>\n",
              "      <th>4</th>\n",
              "      <td>repaired</td>\n",
              "      <td>0.200791</td>\n",
              "    </tr>\n",
              "  </tbody>\n",
              "</table>\n",
              "</div>"
            ],
            "text/plain": [
              "         column  rate_of_nan\n",
              "0  vehicle_type     0.105794\n",
              "1       gearbox     0.055967\n",
              "2         model     0.055606\n",
              "3     fuel_type     0.092827\n",
              "4      repaired     0.200791"
            ]
          },
          "execution_count": 25,
          "metadata": {},
          "output_type": "execute_result"
        }
      ],
      "source": [
        "# таблица с пропущенными значениями\n",
        "df_nan_columns"
      ]
    },
    {
      "cell_type": "code",
      "execution_count": null,
      "id": "cff32451",
      "metadata": {
        "id": "cff32451"
      },
      "outputs": [],
      "source": [
        "# находим столбцы с категориальным значением other\n",
        "fill_other_lst = []\n",
        "def check_other_cat(data,rows):\n",
        "\n",
        "    for row in rows:\n",
        "        if 'other' in map(lambda x: str(x).strip().lower(),data[row].unique()):\n",
        "            fill_other_lst.append(row)"
      ]
    },
    {
      "cell_type": "code",
      "execution_count": null,
      "id": "5c8bcfa1",
      "metadata": {
        "id": "5c8bcfa1"
      },
      "outputs": [],
      "source": [
        "# применяем функцию вышеописанную\n",
        "check_other_cat(df_for_model,df_nan_columns['column'])"
      ]
    },
    {
      "cell_type": "code",
      "execution_count": null,
      "id": "0a0247eb",
      "metadata": {
        "id": "0a0247eb",
        "outputId": "35751b0d-1037-4e6b-bd7a-9a277f88327e"
      },
      "outputs": [
        {
          "data": {
            "text/plain": [
              "['vehicle_type', 'model', 'fuel_type']"
            ]
          },
          "execution_count": 28,
          "metadata": {},
          "output_type": "execute_result"
        }
      ],
      "source": [
        "# список столбцов, в которых есть other\n",
        "fill_other_lst"
      ]
    },
    {
      "cell_type": "markdown",
      "id": "25af04fb",
      "metadata": {
        "id": "25af04fb"
      },
      "source": [
        "**Вывод:**\n",
        "\n",
        "Подметим, что в столбце количества фотографий везде стоит 0.\n",
        "\n",
        "С точки зренья примитивной логики кол-во фотографий никак не дорлжно влиять на цену, а при том факте, что везде стоит \"0\", мы можем убрать весь столбец без каких-либо потерь\n",
        "\n",
        "Также, даты скачивания, создания анкеты, последняя активность владельца и почтовый индекс владельца объявления никак не влияет на стоимость автомобиля.\n",
        "\n",
        "Пропущенные значения в колонках `vehicle_type`, `model` и `fuel_type` стоит заменить на `other`. Остальные **NaN** удалю для чистоты данных.\n"
      ]
    },
    {
      "cell_type": "markdown",
      "id": "3b5ea9ff",
      "metadata": {
        "id": "3b5ea9ff"
      },
      "source": []
    },
    {
      "cell_type": "code",
      "execution_count": null,
      "id": "0ecb11cc",
      "metadata": {
        "id": "0ecb11cc"
      },
      "outputs": [],
      "source": [
        "# заполняем пропуски other\n",
        "for i in fill_other_lst:\n",
        "    df_for_model[i].fillna(value='other',inplace=True)"
      ]
    },
    {
      "cell_type": "code",
      "execution_count": null,
      "id": "79baac48",
      "metadata": {
        "id": "79baac48",
        "outputId": "27aa8341-b7dc-4b97-cefb-529ed0c457ab"
      },
      "outputs": [
        {
          "data": {
            "text/plain": [
              "0         0\n",
              "1         0\n",
              "2         0\n",
              "3         0\n",
              "4         0\n",
              "         ..\n",
              "354364    0\n",
              "354365    0\n",
              "354366    0\n",
              "354367    0\n",
              "354368    0\n",
              "Name: number_of_pictures, Length: 354365, dtype: int64"
            ]
          },
          "execution_count": 30,
          "metadata": {},
          "output_type": "execute_result"
        }
      ],
      "source": [
        "# смотрим на столбец\n",
        "df_for_model['number_of_pictures']"
      ]
    },
    {
      "cell_type": "code",
      "execution_count": null,
      "id": "5966ec87",
      "metadata": {
        "id": "5966ec87"
      },
      "outputs": [],
      "source": [
        "# удаляем ненужный признак\n",
        "df_for_model.drop('number_of_pictures',axis=1,inplace=True)"
      ]
    },
    {
      "cell_type": "code",
      "execution_count": null,
      "id": "c37ebfe9",
      "metadata": {
        "scrolled": false,
        "id": "c37ebfe9"
      },
      "outputs": [],
      "source": [
        "# смотрим корреляцию\n",
        "# df_for_model.select_dtypes(include='number').corr()"
      ]
    },
    {
      "cell_type": "code",
      "execution_count": null,
      "id": "7f4bdff1",
      "metadata": {
        "id": "7f4bdff1",
        "outputId": "38790345-3455-4141-f296-8aca6fee8a2c"
      },
      "outputs": [
        {
          "data": {
            "text/html": [
              "<div>\n",
              "<style scoped>\n",
              "    .dataframe tbody tr th:only-of-type {\n",
              "        vertical-align: middle;\n",
              "    }\n",
              "\n",
              "    .dataframe tbody tr th {\n",
              "        vertical-align: top;\n",
              "    }\n",
              "\n",
              "    .dataframe thead th {\n",
              "        text-align: right;\n",
              "    }\n",
              "</style>\n",
              "<table border=\"1\" class=\"dataframe\">\n",
              "  <thead>\n",
              "    <tr style=\"text-align: right;\">\n",
              "      <th></th>\n",
              "      <th>price</th>\n",
              "      <th>registration_year</th>\n",
              "      <th>power</th>\n",
              "      <th>kilometer</th>\n",
              "      <th>registration_month</th>\n",
              "      <th>postal_code</th>\n",
              "    </tr>\n",
              "  </thead>\n",
              "  <tbody>\n",
              "    <tr>\n",
              "      <th>price</th>\n",
              "      <td>1.000000</td>\n",
              "      <td>0.550986</td>\n",
              "      <td>0.512607</td>\n",
              "      <td>-0.314414</td>\n",
              "      <td>0.155245</td>\n",
              "      <td>0.078935</td>\n",
              "    </tr>\n",
              "    <tr>\n",
              "      <th>registration_year</th>\n",
              "      <td>0.550986</td>\n",
              "      <td>1.000000</td>\n",
              "      <td>0.160186</td>\n",
              "      <td>-0.294574</td>\n",
              "      <td>0.052692</td>\n",
              "      <td>0.034937</td>\n",
              "    </tr>\n",
              "    <tr>\n",
              "      <th>power</th>\n",
              "      <td>0.512607</td>\n",
              "      <td>0.160186</td>\n",
              "      <td>1.000000</td>\n",
              "      <td>0.084522</td>\n",
              "      <td>0.128823</td>\n",
              "      <td>0.081059</td>\n",
              "    </tr>\n",
              "    <tr>\n",
              "      <th>kilometer</th>\n",
              "      <td>-0.314414</td>\n",
              "      <td>-0.294574</td>\n",
              "      <td>0.084522</td>\n",
              "      <td>1.000000</td>\n",
              "      <td>-0.011115</td>\n",
              "      <td>-0.017076</td>\n",
              "    </tr>\n",
              "    <tr>\n",
              "      <th>registration_month</th>\n",
              "      <td>0.155245</td>\n",
              "      <td>0.052692</td>\n",
              "      <td>0.128823</td>\n",
              "      <td>-0.011115</td>\n",
              "      <td>1.000000</td>\n",
              "      <td>0.014936</td>\n",
              "    </tr>\n",
              "    <tr>\n",
              "      <th>postal_code</th>\n",
              "      <td>0.078935</td>\n",
              "      <td>0.034937</td>\n",
              "      <td>0.081059</td>\n",
              "      <td>-0.017076</td>\n",
              "      <td>0.014936</td>\n",
              "      <td>1.000000</td>\n",
              "    </tr>\n",
              "  </tbody>\n",
              "</table>\n",
              "</div>"
            ],
            "text/plain": [
              "                       price  registration_year     power  kilometer  \\\n",
              "price               1.000000           0.550986  0.512607  -0.314414   \n",
              "registration_year   0.550986           1.000000  0.160186  -0.294574   \n",
              "power               0.512607           0.160186  1.000000   0.084522   \n",
              "kilometer          -0.314414          -0.294574  0.084522   1.000000   \n",
              "registration_month  0.155245           0.052692  0.128823  -0.011115   \n",
              "postal_code         0.078935           0.034937  0.081059  -0.017076   \n",
              "\n",
              "                    registration_month  postal_code  \n",
              "price                         0.155245     0.078935  \n",
              "registration_year             0.052692     0.034937  \n",
              "power                         0.128823     0.081059  \n",
              "kilometer                    -0.011115    -0.017076  \n",
              "registration_month            1.000000     0.014936  \n",
              "postal_code                   0.014936     1.000000  "
            ]
          },
          "execution_count": 33,
          "metadata": {},
          "output_type": "execute_result"
        }
      ],
      "source": [
        "# смотрим корреляцию\n",
        "df_for_model.select_dtypes(include='number').corr(method='spearman')\n"
      ]
    },
    {
      "cell_type": "code",
      "execution_count": null,
      "id": "a77fcdb4",
      "metadata": {
        "id": "a77fcdb4",
        "outputId": "1b5b112e-b8df-4137-ef50-08c30c6913cb"
      },
      "outputs": [
        {
          "data": {
            "text/plain": [
              "price                     0\n",
              "vehicle_type              0\n",
              "registration_year         0\n",
              "gearbox               19833\n",
              "power                     0\n",
              "model                     0\n",
              "kilometer                 0\n",
              "registration_month        0\n",
              "fuel_type                 0\n",
              "brand                     0\n",
              "repaired              71154\n",
              "date_created              0\n",
              "postal_code               0\n",
              "last_seen                 0\n",
              "dtype: int64"
            ]
          },
          "execution_count": 34,
          "metadata": {},
          "output_type": "execute_result"
        }
      ],
      "source": [
        "#  смотрим пропущенные по всей таблицы\n",
        "df_for_model.isna().sum()"
      ]
    },
    {
      "cell_type": "code",
      "execution_count": null,
      "id": "56cd161a",
      "metadata": {
        "id": "56cd161a"
      },
      "outputs": [],
      "source": [
        "# отсекаем выбросы и аномальные значения\n",
        "df_for_model = df_for_model[df_for_model['power'].between(1,1000)]"
      ]
    },
    {
      "cell_type": "code",
      "execution_count": null,
      "id": "999a6738",
      "metadata": {
        "id": "999a6738",
        "outputId": "fc736ea0-3518-4651-9782-7fd4e8c8c7e0"
      },
      "outputs": [
        {
          "data": {
            "text/plain": [
              "gearbox\n",
              "auto      167.051917\n",
              "manual    109.115171\n",
              "Name: power, dtype: float64"
            ]
          },
          "execution_count": 36,
          "metadata": {},
          "output_type": "execute_result"
        }
      ],
      "source": [
        "#  смотрим среднее значение power по gearbox\n",
        "df_for_model.groupby('gearbox')['power'].mean()"
      ]
    },
    {
      "cell_type": "code",
      "execution_count": null,
      "id": "f5fc9a47",
      "metadata": {
        "id": "f5fc9a47"
      },
      "outputs": [],
      "source": [
        "# собираем таблицы по gearbox\n",
        "gearbox_auto_mean = df_for_model.groupby('gearbox')['power'].mean()[0]\n",
        "gearbox_manual_mean = df_for_model.groupby('gearbox')['power'].mean()[1]"
      ]
    },
    {
      "cell_type": "code",
      "execution_count": null,
      "id": "25a2e9ca",
      "metadata": {
        "id": "25a2e9ca"
      },
      "outputs": [],
      "source": [
        "# смотрим на столбец power с gearbox==manual и repaired значения пропущенные\n",
        "manual_rep_nan = df_for_model[((df_for_model['gearbox']=='manual') & (df_for_model['repaired'].isna()))]['power']"
      ]
    },
    {
      "cell_type": "code",
      "execution_count": null,
      "id": "16c338dc",
      "metadata": {
        "id": "16c338dc",
        "outputId": "cb2b0e59-fb67-4a2a-9c14-d88d02c24f10"
      },
      "outputs": [
        {
          "data": {
            "text/plain": [
              "1000"
            ]
          },
          "execution_count": 39,
          "metadata": {},
          "output_type": "execute_result"
        }
      ],
      "source": [
        "# максимальное значения power\n",
        "manual_rep_nan.max()"
      ]
    },
    {
      "cell_type": "code",
      "execution_count": null,
      "id": "aeaa45a2",
      "metadata": {
        "id": "aeaa45a2",
        "outputId": "6bafa214-634c-491c-9e02-39b6846f8e3c"
      },
      "outputs": [
        {
          "data": {
            "image/png": "[encoded data removed]",
            "text/plain": [
              "<Figure size 432x288 with 1 Axes>"
            ]
          },
          "metadata": {
            "needs_background": "light"
          },
          "output_type": "display_data"
        },
        {
          "data": {
            "text/plain": [
              "109.11517078983435"
            ]
          },
          "execution_count": 40,
          "metadata": {},
          "output_type": "execute_result"
        }
      ],
      "source": [
        "# смотрим на гистограмму power в таблицы gearbox==manual и repaired значения\n",
        "plt.hist(manual_rep_nan,bins=100,range=[manual_rep_nan.min(),manual_rep_nan.max()])\n",
        "plt.axvline(gearbox_manual_mean,color='r')\n",
        "plt.show()\n",
        "gearbox_manual_mean"
      ]
    },
    {
      "cell_type": "code",
      "execution_count": null,
      "id": "87fba5be",
      "metadata": {
        "id": "87fba5be"
      },
      "outputs": [],
      "source": [
        "# аналогично\n",
        "auto_rep_nan  = df_for_model[((df_for_model['gearbox']=='auto') & (df_for_model['repaired'].isna()))]['power']"
      ]
    },
    {
      "cell_type": "code",
      "execution_count": null,
      "id": "168ba9a9",
      "metadata": {
        "id": "168ba9a9",
        "outputId": "ec22c41d-96b1-4280-ed41-179c42bec2a2"
      },
      "outputs": [
        {
          "data": {
            "image/png": "[encoded data removed]",
            "text/plain": [
              "<Figure size 432x288 with 1 Axes>"
            ]
          },
          "metadata": {
            "needs_background": "light"
          },
          "output_type": "display_data"
        },
        {
          "data": {
            "text/plain": [
              "167.0519171928911"
            ]
          },
          "execution_count": 42,
          "metadata": {},
          "output_type": "execute_result"
        }
      ],
      "source": [
        "# смотрим на гистограмму power в таблицы gearbox==auto и repaired значения\n",
        "\n",
        "plt.hist(auto_rep_nan,bins=100,range=[auto_rep_nan.min(),auto_rep_nan.max()])\n",
        "plt.axvline(gearbox_auto_mean,color='r')\n",
        "plt.show()\n",
        "gearbox_auto_mean"
      ]
    },
    {
      "cell_type": "code",
      "execution_count": null,
      "id": "c4443ca7",
      "metadata": {
        "id": "c4443ca7"
      },
      "outputs": [],
      "source": [
        "# заполняем пропуски так, что меньше 110 это manual\n",
        "df_for_model.loc[((df_for_model['gearbox'].isna() == True) & (df_for_model['power']<=109)),'gearbox'] = 'manual'"
      ]
    },
    {
      "cell_type": "code",
      "execution_count": null,
      "id": "96892a9f",
      "metadata": {
        "id": "96892a9f"
      },
      "outputs": [],
      "source": [
        "# заполняем пропуски так, что больше 167 это auto\n",
        "\n",
        "df_for_model.loc[((df_for_model['gearbox'].isna() == True) & (df_for_model['power']>=167)),'gearbox'] = 'auto'"
      ]
    },
    {
      "cell_type": "code",
      "execution_count": null,
      "id": "1807e6ae",
      "metadata": {
        "id": "1807e6ae"
      },
      "outputs": [],
      "source": [
        "# считаем пропуски в gearbox\n",
        "gearbox_nan = df_for_model['gearbox'].isna().sum()"
      ]
    },
    {
      "cell_type": "code",
      "execution_count": null,
      "id": "f7f45132",
      "metadata": {
        "id": "f7f45132"
      },
      "outputs": [],
      "source": [
        "# заполняем случайно\n",
        "df_for_model['gearbox'].fillna(value='auto',limit=gearbox_nan//2,inplace=True)"
      ]
    },
    {
      "cell_type": "code",
      "execution_count": null,
      "id": "201dfced",
      "metadata": {
        "id": "201dfced"
      },
      "outputs": [],
      "source": [
        "# заполняем случайно\n",
        "\n",
        "df_for_model['gearbox'].fillna(value='manual',limit=gearbox_nan//2,inplace=True)"
      ]
    },
    {
      "cell_type": "code",
      "execution_count": null,
      "id": "bdd06a0f",
      "metadata": {
        "id": "bdd06a0f",
        "outputId": "7d7abe51-c38d-4c89-e987-1626f47f5687"
      },
      "outputs": [
        {
          "data": {
            "image/png": "[encoded data removed]",
            "text/plain": [
              "<Figure size 432x288 with 1 Axes>"
            ]
          },
          "metadata": {
            "needs_background": "light"
          },
          "output_type": "display_data"
        }
      ],
      "source": [
        "# посмотрим на разборс power относительно gearbox\n",
        "plt.hist(df_for_model[df_for_model['gearbox']=='auto']['power'],alpha=0.5,bins=50,color='red')\n",
        "plt.hist(df_for_model[df_for_model['gearbox']=='manual']['power'],alpha=0.4,bins=50,color='g')\n",
        "plt.show()"
      ]
    },
    {
      "cell_type": "code",
      "execution_count": null,
      "id": "d16cf03c",
      "metadata": {
        "id": "d16cf03c",
        "outputId": "f9e5db9d-a5d3-4828-fc4a-6918611e1d1f"
      },
      "outputs": [
        {
          "data": {
            "text/plain": [
              "49633"
            ]
          },
          "execution_count": 49,
          "metadata": {},
          "output_type": "execute_result"
        }
      ],
      "source": [
        "# пропуски в столбце repaired\n",
        "df_for_model['repaired'].isna().sum()"
      ]
    },
    {
      "cell_type": "code",
      "execution_count": null,
      "id": "3c65d2b7",
      "metadata": {
        "id": "3c65d2b7"
      },
      "outputs": [],
      "source": [
        "# функция для категоризации\n",
        "# цены\n",
        "def price_interval(row):\n",
        "    if row <= 5000:\n",
        "        return '0-5000'\n",
        "    if 5000 < row <= 10000:\n",
        "        return '5000-1000'\n",
        "    if 10000< row <= 15_000:\n",
        "        return '10000-15000'\n",
        "    if 15_000<row<=20000:\n",
        "        return '15000-20000'\n",
        "\n"
      ]
    },
    {
      "cell_type": "code",
      "execution_count": null,
      "id": "e65e0428",
      "metadata": {
        "id": "e65e0428"
      },
      "outputs": [],
      "source": [
        "# применяем функцию по категоризации\n",
        "df_for_model['price_interval'] = df_for_model['price'].apply(price_interval)"
      ]
    },
    {
      "cell_type": "code",
      "execution_count": null,
      "id": "f031864a",
      "metadata": {
        "id": "f031864a"
      },
      "outputs": [],
      "source": []
    },
    {
      "cell_type": "code",
      "execution_count": null,
      "id": "95f58736",
      "metadata": {
        "id": "95f58736"
      },
      "outputs": [],
      "source": [
        "# группировка по price_interval, repaired считаем сколько строк price\n",
        "tmp_1= df_for_model.groupby(['price_interval','repaired'])['price'].agg(['count'])"
      ]
    },
    {
      "cell_type": "code",
      "execution_count": null,
      "id": "122b1efb",
      "metadata": {
        "id": "122b1efb",
        "outputId": "7897e4ce-8bca-42d4-9f9e-9d65c0f1a52c"
      },
      "outputs": [
        {
          "data": {
            "text/html": [
              "<div>\n",
              "<style scoped>\n",
              "    .dataframe tbody tr th:only-of-type {\n",
              "        vertical-align: middle;\n",
              "    }\n",
              "\n",
              "    .dataframe tbody tr th {\n",
              "        vertical-align: top;\n",
              "    }\n",
              "\n",
              "    .dataframe thead th {\n",
              "        text-align: right;\n",
              "    }\n",
              "</style>\n",
              "<table border=\"1\" class=\"dataframe\">\n",
              "  <thead>\n",
              "    <tr style=\"text-align: right;\">\n",
              "      <th></th>\n",
              "      <th></th>\n",
              "      <th>count</th>\n",
              "    </tr>\n",
              "    <tr>\n",
              "      <th>price_interval</th>\n",
              "      <th>repaired</th>\n",
              "      <th></th>\n",
              "    </tr>\n",
              "  </thead>\n",
              "  <tbody>\n",
              "    <tr>\n",
              "      <th rowspan=\"2\" valign=\"top\">0-5000</th>\n",
              "      <th>no</th>\n",
              "      <td>139700</td>\n",
              "    </tr>\n",
              "    <tr>\n",
              "      <th>yes</th>\n",
              "      <td>28049</td>\n",
              "    </tr>\n",
              "    <tr>\n",
              "      <th rowspan=\"2\" valign=\"top\">10000-15000</th>\n",
              "      <th>no</th>\n",
              "      <td>24889</td>\n",
              "    </tr>\n",
              "    <tr>\n",
              "      <th>yes</th>\n",
              "      <td>600</td>\n",
              "    </tr>\n",
              "    <tr>\n",
              "      <th rowspan=\"2\" valign=\"top\">15000-20000</th>\n",
              "      <th>no</th>\n",
              "      <td>13394</td>\n",
              "    </tr>\n",
              "    <tr>\n",
              "      <th>yes</th>\n",
              "      <td>208</td>\n",
              "    </tr>\n",
              "    <tr>\n",
              "      <th rowspan=\"2\" valign=\"top\">5000-1000</th>\n",
              "      <th>no</th>\n",
              "      <td>54988</td>\n",
              "    </tr>\n",
              "    <tr>\n",
              "      <th>yes</th>\n",
              "      <td>2377</td>\n",
              "    </tr>\n",
              "  </tbody>\n",
              "</table>\n",
              "</div>"
            ],
            "text/plain": [
              "                          count\n",
              "price_interval repaired        \n",
              "0-5000         no        139700\n",
              "               yes        28049\n",
              "10000-15000    no         24889\n",
              "               yes          600\n",
              "15000-20000    no         13394\n",
              "               yes          208\n",
              "5000-1000      no         54988\n",
              "               yes         2377"
            ]
          },
          "execution_count": 53,
          "metadata": {},
          "output_type": "execute_result"
        }
      ],
      "source": [
        "tmp_1"
      ]
    },
    {
      "cell_type": "code",
      "execution_count": null,
      "id": "d30f5d9d",
      "metadata": {
        "id": "d30f5d9d"
      },
      "outputs": [],
      "source": [
        "# аналогия и делаем считаем снизу процент пропусков\n",
        "tmp_2 = df_for_model.groupby(['price_interval'])['repaired'].agg(['size','count'])"
      ]
    },
    {
      "cell_type": "code",
      "execution_count": null,
      "id": "6cc27d6d",
      "metadata": {
        "id": "6cc27d6d"
      },
      "outputs": [],
      "source": [
        "tmp_2['diff'] = tmp_2['size'] - tmp_2['count']"
      ]
    },
    {
      "cell_type": "code",
      "execution_count": null,
      "id": "0da8ec46",
      "metadata": {
        "id": "0da8ec46"
      },
      "outputs": [],
      "source": [
        "tmp_2['percent'] =  tmp_2['diff']/tmp_2['size']"
      ]
    },
    {
      "cell_type": "code",
      "execution_count": null,
      "id": "ec7df84d",
      "metadata": {
        "id": "ec7df84d",
        "outputId": "85e3bafe-431f-4194-d132-7a381550c91d"
      },
      "outputs": [
        {
          "data": {
            "text/html": [
              "<div>\n",
              "<style scoped>\n",
              "    .dataframe tbody tr th:only-of-type {\n",
              "        vertical-align: middle;\n",
              "    }\n",
              "\n",
              "    .dataframe tbody tr th {\n",
              "        vertical-align: top;\n",
              "    }\n",
              "\n",
              "    .dataframe thead th {\n",
              "        text-align: right;\n",
              "    }\n",
              "</style>\n",
              "<table border=\"1\" class=\"dataframe\">\n",
              "  <thead>\n",
              "    <tr style=\"text-align: right;\">\n",
              "      <th></th>\n",
              "      <th>size</th>\n",
              "      <th>count</th>\n",
              "      <th>diff</th>\n",
              "      <th>percent</th>\n",
              "    </tr>\n",
              "    <tr>\n",
              "      <th>price_interval</th>\n",
              "      <th></th>\n",
              "      <th></th>\n",
              "      <th></th>\n",
              "      <th></th>\n",
              "    </tr>\n",
              "  </thead>\n",
              "  <tbody>\n",
              "    <tr>\n",
              "      <th>0-5000</th>\n",
              "      <td>208343</td>\n",
              "      <td>167749</td>\n",
              "      <td>40594</td>\n",
              "      <td>0.194842</td>\n",
              "    </tr>\n",
              "    <tr>\n",
              "      <th>10000-15000</th>\n",
              "      <td>27423</td>\n",
              "      <td>25489</td>\n",
              "      <td>1934</td>\n",
              "      <td>0.070525</td>\n",
              "    </tr>\n",
              "    <tr>\n",
              "      <th>15000-20000</th>\n",
              "      <td>14442</td>\n",
              "      <td>13602</td>\n",
              "      <td>840</td>\n",
              "      <td>0.058164</td>\n",
              "    </tr>\n",
              "    <tr>\n",
              "      <th>5000-1000</th>\n",
              "      <td>63630</td>\n",
              "      <td>57365</td>\n",
              "      <td>6265</td>\n",
              "      <td>0.098460</td>\n",
              "    </tr>\n",
              "  </tbody>\n",
              "</table>\n",
              "</div>"
            ],
            "text/plain": [
              "                  size   count   diff   percent\n",
              "price_interval                                 \n",
              "0-5000          208343  167749  40594  0.194842\n",
              "10000-15000      27423   25489   1934  0.070525\n",
              "15000-20000      14442   13602    840  0.058164\n",
              "5000-1000        63630   57365   6265  0.098460"
            ]
          },
          "execution_count": 57,
          "metadata": {},
          "output_type": "execute_result"
        }
      ],
      "source": [
        "tmp_2"
      ]
    },
    {
      "cell_type": "code",
      "execution_count": null,
      "id": "11f096f8",
      "metadata": {
        "id": "11f096f8",
        "outputId": "9087eb67-2a23-4d2c-afdc-c4c905e11cee"
      },
      "outputs": [
        {
          "data": {
            "text/html": [
              "<div>\n",
              "<style scoped>\n",
              "    .dataframe tbody tr th:only-of-type {\n",
              "        vertical-align: middle;\n",
              "    }\n",
              "\n",
              "    .dataframe tbody tr th {\n",
              "        vertical-align: top;\n",
              "    }\n",
              "\n",
              "    .dataframe thead th {\n",
              "        text-align: right;\n",
              "    }\n",
              "</style>\n",
              "<table border=\"1\" class=\"dataframe\">\n",
              "  <thead>\n",
              "    <tr style=\"text-align: right;\">\n",
              "      <th></th>\n",
              "      <th>mean</th>\n",
              "    </tr>\n",
              "    <tr>\n",
              "      <th>repaired</th>\n",
              "      <th></th>\n",
              "    </tr>\n",
              "  </thead>\n",
              "  <tbody>\n",
              "    <tr>\n",
              "      <th>no</th>\n",
              "      <td>5429.309648</td>\n",
              "    </tr>\n",
              "    <tr>\n",
              "      <th>yes</th>\n",
              "      <td>2038.247038</td>\n",
              "    </tr>\n",
              "  </tbody>\n",
              "</table>\n",
              "</div>"
            ],
            "text/plain": [
              "                 mean\n",
              "repaired             \n",
              "no        5429.309648\n",
              "yes       2038.247038"
            ]
          },
          "execution_count": 58,
          "metadata": {},
          "output_type": "execute_result"
        }
      ],
      "source": [
        "df_for_model.groupby(['repaired'])['price'].agg(['mean'])"
      ]
    },
    {
      "cell_type": "code",
      "execution_count": null,
      "id": "5be2d80f",
      "metadata": {
        "id": "5be2d80f",
        "outputId": "940d0ca4-4f5b-45ab-f95d-42fba68b53d4"
      },
      "outputs": [
        {
          "data": {
            "text/plain": [
              "5205.8498263438905"
            ]
          },
          "execution_count": 59,
          "metadata": {},
          "output_type": "execute_result"
        }
      ],
      "source": [
        "#  средняя цена у машин, которые прошли ремонт\n",
        "df_for_model[((df_for_model['repaired']=='no')& (df_for_model['price']))]['price'].mean()"
      ]
    },
    {
      "cell_type": "code",
      "execution_count": null,
      "id": "dd66ae67",
      "metadata": {
        "id": "dd66ae67",
        "outputId": "56f930eb-4ff5-4e66-c2a5-f19e8cf7add6"
      },
      "outputs": [
        {
          "data": {
            "text/plain": [
              "2205.9805879090404"
            ]
          },
          "execution_count": 60,
          "metadata": {},
          "output_type": "execute_result"
        }
      ],
      "source": [
        "#  средняя цена у машин, которые не прошли ремонт\n",
        "\n",
        "\n",
        "df_for_model[((df_for_model['repaired']=='yes')& (df_for_model['price']))]['price'].mean()"
      ]
    },
    {
      "cell_type": "code",
      "execution_count": null,
      "id": "87fe4e92",
      "metadata": {
        "id": "87fe4e92",
        "outputId": "f5244651-197f-49a7-9334-c5323cd08041"
      },
      "outputs": [
        {
          "data": {
            "text/plain": [
              "<AxesSubplot:>"
            ]
          },
          "execution_count": 61,
          "metadata": {},
          "output_type": "execute_result"
        },
        {
          "data": {
            "image/png": "[encoded data removed]",
            "text/plain": [
              "<Figure size 432x288 with 1 Axes>"
            ]
          },
          "metadata": {
            "needs_background": "light"
          },
          "output_type": "display_data"
        }
      ],
      "source": [
        "# гистограмма вышего\n",
        "df_for_model[((df_for_model['repaired']=='no')& (df_for_model['price']))]['price'].hist()"
      ]
    },
    {
      "cell_type": "code",
      "execution_count": null,
      "id": "fa022685",
      "metadata": {
        "id": "fa022685",
        "outputId": "77dae591-cf9b-43b8-9ee3-ff96eb0b1847"
      },
      "outputs": [
        {
          "data": {
            "text/plain": [
              "<AxesSubplot:>"
            ]
          },
          "execution_count": 62,
          "metadata": {},
          "output_type": "execute_result"
        },
        {
          "data": {
            "image/png": "[encoded data removed]",
            "text/plain": [
              "<Figure size 432x288 with 1 Axes>"
            ]
          },
          "metadata": {
            "needs_background": "light"
          },
          "output_type": "display_data"
        }
      ],
      "source": [
        "# гистограмма вышего\n",
        "df_for_model[((df_for_model['repaired']=='yes')& (df_for_model['price']))]['price'].hist()"
      ]
    },
    {
      "cell_type": "code",
      "execution_count": null,
      "id": "504714c8",
      "metadata": {
        "id": "504714c8"
      },
      "outputs": [],
      "source": [
        "# заполняем относительно средней цены\n",
        "df_for_model.loc[((df_for_model['price']<=2205) &(df_for_model['repaired'].isna()==True)),'repaired']='yes'"
      ]
    },
    {
      "cell_type": "code",
      "execution_count": null,
      "id": "32158275",
      "metadata": {
        "id": "32158275"
      },
      "outputs": [],
      "source": [
        "# заполняем относительно средней цены\n",
        "\n",
        "df_for_model.loc[((df_for_model['price']>2205) &(df_for_model['repaired'].isna()==True)),'repaired']='no'"
      ]
    },
    {
      "cell_type": "code",
      "execution_count": null,
      "id": "220d2d87",
      "metadata": {
        "id": "220d2d87",
        "outputId": "98a8c6ca-a197-417d-e86a-2dc8d9593f2c"
      },
      "outputs": [
        {
          "data": {
            "text/html": [
              "<div>\n",
              "<style scoped>\n",
              "    .dataframe tbody tr th:only-of-type {\n",
              "        vertical-align: middle;\n",
              "    }\n",
              "\n",
              "    .dataframe tbody tr th {\n",
              "        vertical-align: top;\n",
              "    }\n",
              "\n",
              "    .dataframe thead th {\n",
              "        text-align: right;\n",
              "    }\n",
              "</style>\n",
              "<table border=\"1\" class=\"dataframe\">\n",
              "  <thead>\n",
              "    <tr style=\"text-align: right;\">\n",
              "      <th></th>\n",
              "      <th>price</th>\n",
              "      <th>registration_year</th>\n",
              "      <th>power</th>\n",
              "      <th>kilometer</th>\n",
              "      <th>registration_month</th>\n",
              "      <th>postal_code</th>\n",
              "    </tr>\n",
              "  </thead>\n",
              "  <tbody>\n",
              "    <tr>\n",
              "      <th>price</th>\n",
              "      <td>1.000000</td>\n",
              "      <td>0.593699</td>\n",
              "      <td>0.504080</td>\n",
              "      <td>-0.357265</td>\n",
              "      <td>0.103779</td>\n",
              "      <td>0.069718</td>\n",
              "    </tr>\n",
              "    <tr>\n",
              "      <th>registration_year</th>\n",
              "      <td>0.593699</td>\n",
              "      <td>1.000000</td>\n",
              "      <td>0.165097</td>\n",
              "      <td>-0.342641</td>\n",
              "      <td>0.035753</td>\n",
              "      <td>0.032281</td>\n",
              "    </tr>\n",
              "    <tr>\n",
              "      <th>power</th>\n",
              "      <td>0.504080</td>\n",
              "      <td>0.165097</td>\n",
              "      <td>1.000000</td>\n",
              "      <td>0.118378</td>\n",
              "      <td>0.048358</td>\n",
              "      <td>0.064349</td>\n",
              "    </tr>\n",
              "    <tr>\n",
              "      <th>kilometer</th>\n",
              "      <td>-0.357265</td>\n",
              "      <td>-0.342641</td>\n",
              "      <td>0.118378</td>\n",
              "      <td>1.000000</td>\n",
              "      <td>-0.023433</td>\n",
              "      <td>-0.018275</td>\n",
              "    </tr>\n",
              "    <tr>\n",
              "      <th>registration_month</th>\n",
              "      <td>0.103779</td>\n",
              "      <td>0.035753</td>\n",
              "      <td>0.048358</td>\n",
              "      <td>-0.023433</td>\n",
              "      <td>1.000000</td>\n",
              "      <td>0.006171</td>\n",
              "    </tr>\n",
              "    <tr>\n",
              "      <th>postal_code</th>\n",
              "      <td>0.069718</td>\n",
              "      <td>0.032281</td>\n",
              "      <td>0.064349</td>\n",
              "      <td>-0.018275</td>\n",
              "      <td>0.006171</td>\n",
              "      <td>1.000000</td>\n",
              "    </tr>\n",
              "  </tbody>\n",
              "</table>\n",
              "</div>"
            ],
            "text/plain": [
              "                       price  registration_year     power  kilometer  \\\n",
              "price               1.000000           0.593699  0.504080  -0.357265   \n",
              "registration_year   0.593699           1.000000  0.165097  -0.342641   \n",
              "power               0.504080           0.165097  1.000000   0.118378   \n",
              "kilometer          -0.357265          -0.342641  0.118378   1.000000   \n",
              "registration_month  0.103779           0.035753  0.048358  -0.023433   \n",
              "postal_code         0.069718           0.032281  0.064349  -0.018275   \n",
              "\n",
              "                    registration_month  postal_code  \n",
              "price                         0.103779     0.069718  \n",
              "registration_year             0.035753     0.032281  \n",
              "power                         0.048358     0.064349  \n",
              "kilometer                    -0.023433    -0.018275  \n",
              "registration_month            1.000000     0.006171  \n",
              "postal_code                   0.006171     1.000000  "
            ]
          },
          "execution_count": 65,
          "metadata": {},
          "output_type": "execute_result"
        }
      ],
      "source": [
        "# корелляция\n",
        "df_for_model.corr(method='spearman')"
      ]
    },
    {
      "cell_type": "code",
      "execution_count": null,
      "id": "ac88b072",
      "metadata": {
        "id": "ac88b072"
      },
      "outputs": [],
      "source": [
        "# заполняем пропуски и одновременно переводим в bool\n",
        "df_for_model['repaired'] = np.where(df_for_model['repaired']=='yes',1,0)"
      ]
    },
    {
      "cell_type": "code",
      "execution_count": null,
      "id": "e0f335da",
      "metadata": {
        "id": "e0f335da",
        "outputId": "59df914c-70d0-45e2-88d2-1269eab4757b"
      },
      "outputs": [
        {
          "data": {
            "text/plain": [
              "0"
            ]
          },
          "execution_count": 67,
          "metadata": {},
          "output_type": "execute_result"
        }
      ],
      "source": [
        "# проверка\n",
        "df_for_model['repaired'].isna().sum()"
      ]
    },
    {
      "cell_type": "code",
      "execution_count": null,
      "id": "cd2f3ce7",
      "metadata": {
        "id": "cd2f3ce7",
        "outputId": "81a0d5e4-f198-4809-a699-9c28de0c6f5b"
      },
      "outputs": [
        {
          "data": {
            "text/plain": [
              "price                 1.000000\n",
              "registration_year     0.593699\n",
              "power                 0.504080\n",
              "kilometer            -0.357265\n",
              "registration_month    0.103779\n",
              "repaired             -0.459297\n",
              "postal_code           0.069718\n",
              "Name: price, dtype: float64"
            ]
          },
          "execution_count": 68,
          "metadata": {},
          "output_type": "execute_result"
        }
      ],
      "source": [
        "# корреляция\n",
        "df_for_model.corr(method='spearman')['price']"
      ]
    },
    {
      "cell_type": "code",
      "execution_count": null,
      "id": "a4077a56",
      "metadata": {
        "id": "a4077a56"
      },
      "outputs": [],
      "source": [
        "# ProfileReport(df)"
      ]
    },
    {
      "cell_type": "code",
      "execution_count": null,
      "id": "d1f827c4",
      "metadata": {
        "id": "d1f827c4",
        "outputId": "fee46652-54e1-4eba-e240-39f6d33f2428"
      },
      "outputs": [
        {
          "data": {
            "image/png": "[encoded data removed]",
            "text/plain": [
              "<Figure size 432x288 with 1 Axes>"
            ]
          },
          "metadata": {
            "needs_background": "light"
          },
          "output_type": "display_data"
        }
      ],
      "source": [
        "# обрезаем год от первого автомобиля до сегодня\n",
        "plt.hist(df_for_model['registration_year'],bins=150,range=(1888,2023))\n",
        "plt.show()\n"
      ]
    },
    {
      "cell_type": "code",
      "execution_count": null,
      "id": "d1cc7463",
      "metadata": {
        "id": "d1cc7463"
      },
      "outputs": [],
      "source": [
        "# применяем отрез\n",
        "df_for_model = df_for_model[df_for_model['registration_year'].between(1888,2023)]"
      ]
    },
    {
      "cell_type": "code",
      "execution_count": null,
      "id": "5e509d72",
      "metadata": {
        "scrolled": true,
        "id": "5e509d72",
        "outputId": "a705f5f9-ead0-432b-fe56-15006b572116"
      },
      "outputs": [
        {
          "data": {
            "text/plain": [
              "1910"
            ]
          },
          "execution_count": 72,
          "metadata": {},
          "output_type": "execute_result"
        }
      ],
      "source": [
        "# проверка\n",
        "df_for_model.registration_year.min()"
      ]
    },
    {
      "cell_type": "code",
      "execution_count": null,
      "id": "ba0a47e7",
      "metadata": {
        "scrolled": true,
        "id": "ba0a47e7",
        "outputId": "fbacf058-db28-4424-ee0d-c294fcbc6ea1"
      },
      "outputs": [
        {
          "data": {
            "image/png": "[encoded data removed]",
            "text/plain": [
              "<Figure size 432x288 with 1 Axes>"
            ]
          },
          "metadata": {
            "needs_background": "light"
          },
          "output_type": "display_data"
        }
      ],
      "source": [
        "# проверка\n",
        "plt.hist(df_for_model['power'],bins=150,range=(0,1000))\n",
        "plt.show()"
      ]
    },
    {
      "cell_type": "code",
      "execution_count": null,
      "id": "80f3d1de",
      "metadata": {
        "id": "80f3d1de",
        "outputId": "80f37c53-ff82-4c24-b2b0-a0efb4c0d9b5"
      },
      "outputs": [
        {
          "data": {
            "text/plain": [
              "Index(['price', 'vehicle_type', 'registration_year', 'gearbox', 'power',\n",
              "       'model', 'kilometer', 'registration_month', 'fuel_type', 'brand',\n",
              "       'repaired', 'date_created', 'postal_code', 'last_seen',\n",
              "       'price_interval'],\n",
              "      dtype='object')"
            ]
          },
          "execution_count": 74,
          "metadata": {},
          "output_type": "execute_result"
        }
      ],
      "source": [
        "# имена стобцов\n",
        "df_for_model.columns"
      ]
    },
    {
      "cell_type": "code",
      "execution_count": null,
      "id": "cba70c1f",
      "metadata": {
        "id": "cba70c1f"
      },
      "outputs": [],
      "source": [
        "# удаляем столбцы 'last_seen','postal_code','date_created'\n",
        "df_for_model.drop(columns=['last_seen','postal_code','date_created'],axis=1,inplace=True)"
      ]
    },
    {
      "cell_type": "code",
      "execution_count": null,
      "id": "74d3513f",
      "metadata": {
        "id": "74d3513f",
        "outputId": "0f9f92c1-26a6-4ead-9c8a-f9aa60e71eb7"
      },
      "outputs": [
        {
          "data": {
            "text/html": [
              "<div>\n",
              "<style scoped>\n",
              "    .dataframe tbody tr th:only-of-type {\n",
              "        vertical-align: middle;\n",
              "    }\n",
              "\n",
              "    .dataframe tbody tr th {\n",
              "        vertical-align: top;\n",
              "    }\n",
              "\n",
              "    .dataframe thead th {\n",
              "        text-align: right;\n",
              "    }\n",
              "</style>\n",
              "<table border=\"1\" class=\"dataframe\">\n",
              "  <thead>\n",
              "    <tr style=\"text-align: right;\">\n",
              "      <th></th>\n",
              "      <th>price</th>\n",
              "      <th>vehicle_type</th>\n",
              "      <th>registration_year</th>\n",
              "      <th>gearbox</th>\n",
              "      <th>power</th>\n",
              "      <th>model</th>\n",
              "      <th>kilometer</th>\n",
              "      <th>registration_month</th>\n",
              "      <th>fuel_type</th>\n",
              "      <th>brand</th>\n",
              "      <th>repaired</th>\n",
              "      <th>price_interval</th>\n",
              "    </tr>\n",
              "  </thead>\n",
              "  <tbody>\n",
              "    <tr>\n",
              "      <th>1</th>\n",
              "      <td>18300</td>\n",
              "      <td>coupe</td>\n",
              "      <td>2011</td>\n",
              "      <td>manual</td>\n",
              "      <td>190</td>\n",
              "      <td>other</td>\n",
              "      <td>125000</td>\n",
              "      <td>5</td>\n",
              "      <td>gasoline</td>\n",
              "      <td>audi</td>\n",
              "      <td>1</td>\n",
              "      <td>15000-20000</td>\n",
              "    </tr>\n",
              "    <tr>\n",
              "      <th>2</th>\n",
              "      <td>9800</td>\n",
              "      <td>suv</td>\n",
              "      <td>2004</td>\n",
              "      <td>auto</td>\n",
              "      <td>163</td>\n",
              "      <td>grand</td>\n",
              "      <td>125000</td>\n",
              "      <td>8</td>\n",
              "      <td>gasoline</td>\n",
              "      <td>jeep</td>\n",
              "      <td>0</td>\n",
              "      <td>5000-1000</td>\n",
              "    </tr>\n",
              "    <tr>\n",
              "      <th>3</th>\n",
              "      <td>1500</td>\n",
              "      <td>small</td>\n",
              "      <td>2001</td>\n",
              "      <td>manual</td>\n",
              "      <td>75</td>\n",
              "      <td>golf</td>\n",
              "      <td>150000</td>\n",
              "      <td>6</td>\n",
              "      <td>petrol</td>\n",
              "      <td>volkswagen</td>\n",
              "      <td>0</td>\n",
              "      <td>0-5000</td>\n",
              "    </tr>\n",
              "    <tr>\n",
              "      <th>4</th>\n",
              "      <td>3600</td>\n",
              "      <td>small</td>\n",
              "      <td>2008</td>\n",
              "      <td>manual</td>\n",
              "      <td>69</td>\n",
              "      <td>fabia</td>\n",
              "      <td>90000</td>\n",
              "      <td>7</td>\n",
              "      <td>gasoline</td>\n",
              "      <td>skoda</td>\n",
              "      <td>0</td>\n",
              "      <td>0-5000</td>\n",
              "    </tr>\n",
              "    <tr>\n",
              "      <th>5</th>\n",
              "      <td>650</td>\n",
              "      <td>sedan</td>\n",
              "      <td>1995</td>\n",
              "      <td>manual</td>\n",
              "      <td>102</td>\n",
              "      <td>3er</td>\n",
              "      <td>150000</td>\n",
              "      <td>10</td>\n",
              "      <td>petrol</td>\n",
              "      <td>bmw</td>\n",
              "      <td>1</td>\n",
              "      <td>0-5000</td>\n",
              "    </tr>\n",
              "  </tbody>\n",
              "</table>\n",
              "</div>"
            ],
            "text/plain": [
              "   price vehicle_type  registration_year gearbox  power  model  kilometer  \\\n",
              "1  18300        coupe               2011  manual    190  other     125000   \n",
              "2   9800          suv               2004    auto    163  grand     125000   \n",
              "3   1500        small               2001  manual     75   golf     150000   \n",
              "4   3600        small               2008  manual     69  fabia      90000   \n",
              "5    650        sedan               1995  manual    102    3er     150000   \n",
              "\n",
              "   registration_month fuel_type       brand  repaired price_interval  \n",
              "1                   5  gasoline        audi         1    15000-20000  \n",
              "2                   8  gasoline        jeep         0      5000-1000  \n",
              "3                   6    petrol  volkswagen         0         0-5000  \n",
              "4                   7  gasoline       skoda         0         0-5000  \n",
              "5                  10    petrol         bmw         1         0-5000  "
            ]
          },
          "execution_count": 76,
          "metadata": {},
          "output_type": "execute_result"
        }
      ],
      "source": [
        "# смотрим голову таблицы\n",
        "df_for_model.head()"
      ]
    },
    {
      "cell_type": "code",
      "execution_count": null,
      "id": "2504608b",
      "metadata": {
        "scrolled": true,
        "id": "2504608b",
        "outputId": "097a5949-65aa-4097-fcf0-3071b8376508"
      },
      "outputs": [
        {
          "data": {
            "text/plain": [
              "26723"
            ]
          },
          "execution_count": 77,
          "metadata": {},
          "output_type": "execute_result"
        }
      ],
      "source": [
        "# сумма дубликатов\n",
        "df_for_model.duplicated().sum()"
      ]
    },
    {
      "cell_type": "code",
      "execution_count": null,
      "id": "3e8aa07d",
      "metadata": {
        "id": "3e8aa07d",
        "outputId": "53708221-3d21-455d-c663-8681b72d03a7"
      },
      "outputs": [
        {
          "data": {
            "text/plain": [
              "(313801, 12)"
            ]
          },
          "execution_count": 78,
          "metadata": {},
          "output_type": "execute_result"
        }
      ],
      "source": [
        "df_for_model.shape"
      ]
    },
    {
      "cell_type": "code",
      "execution_count": null,
      "id": "267ca0ef",
      "metadata": {
        "id": "267ca0ef"
      },
      "outputs": [],
      "source": [
        "# убираем дубликаты\n",
        "df_for_model.drop_duplicates(inplace=True)"
      ]
    },
    {
      "cell_type": "code",
      "execution_count": null,
      "id": "7a8ed2c5",
      "metadata": {
        "id": "7a8ed2c5"
      },
      "outputs": [],
      "source": [
        "# обновляем индексы\n",
        "df_for_model = df_for_model.reset_index(drop=True)"
      ]
    },
    {
      "cell_type": "code",
      "execution_count": null,
      "id": "4e733a4a",
      "metadata": {
        "id": "4e733a4a",
        "outputId": "dab67d4f-d2ae-4c59-9dea-68f7c51c42d5"
      },
      "outputs": [
        {
          "data": {
            "text/html": [
              "<div>\n",
              "<style scoped>\n",
              "    .dataframe tbody tr th:only-of-type {\n",
              "        vertical-align: middle;\n",
              "    }\n",
              "\n",
              "    .dataframe tbody tr th {\n",
              "        vertical-align: top;\n",
              "    }\n",
              "\n",
              "    .dataframe thead th {\n",
              "        text-align: right;\n",
              "    }\n",
              "</style>\n",
              "<table border=\"1\" class=\"dataframe\">\n",
              "  <thead>\n",
              "    <tr style=\"text-align: right;\">\n",
              "      <th></th>\n",
              "      <th>price</th>\n",
              "      <th>vehicle_type</th>\n",
              "      <th>registration_year</th>\n",
              "      <th>gearbox</th>\n",
              "      <th>power</th>\n",
              "      <th>model</th>\n",
              "      <th>kilometer</th>\n",
              "      <th>registration_month</th>\n",
              "      <th>fuel_type</th>\n",
              "      <th>brand</th>\n",
              "      <th>repaired</th>\n",
              "      <th>price_interval</th>\n",
              "    </tr>\n",
              "  </thead>\n",
              "  <tbody>\n",
              "    <tr>\n",
              "      <th>0</th>\n",
              "      <td>18300</td>\n",
              "      <td>coupe</td>\n",
              "      <td>2011</td>\n",
              "      <td>manual</td>\n",
              "      <td>190</td>\n",
              "      <td>other</td>\n",
              "      <td>125000</td>\n",
              "      <td>5</td>\n",
              "      <td>gasoline</td>\n",
              "      <td>audi</td>\n",
              "      <td>1</td>\n",
              "      <td>15000-20000</td>\n",
              "    </tr>\n",
              "    <tr>\n",
              "      <th>1</th>\n",
              "      <td>9800</td>\n",
              "      <td>suv</td>\n",
              "      <td>2004</td>\n",
              "      <td>auto</td>\n",
              "      <td>163</td>\n",
              "      <td>grand</td>\n",
              "      <td>125000</td>\n",
              "      <td>8</td>\n",
              "      <td>gasoline</td>\n",
              "      <td>jeep</td>\n",
              "      <td>0</td>\n",
              "      <td>5000-1000</td>\n",
              "    </tr>\n",
              "    <tr>\n",
              "      <th>2</th>\n",
              "      <td>1500</td>\n",
              "      <td>small</td>\n",
              "      <td>2001</td>\n",
              "      <td>manual</td>\n",
              "      <td>75</td>\n",
              "      <td>golf</td>\n",
              "      <td>150000</td>\n",
              "      <td>6</td>\n",
              "      <td>petrol</td>\n",
              "      <td>volkswagen</td>\n",
              "      <td>0</td>\n",
              "      <td>0-5000</td>\n",
              "    </tr>\n",
              "    <tr>\n",
              "      <th>3</th>\n",
              "      <td>3600</td>\n",
              "      <td>small</td>\n",
              "      <td>2008</td>\n",
              "      <td>manual</td>\n",
              "      <td>69</td>\n",
              "      <td>fabia</td>\n",
              "      <td>90000</td>\n",
              "      <td>7</td>\n",
              "      <td>gasoline</td>\n",
              "      <td>skoda</td>\n",
              "      <td>0</td>\n",
              "      <td>0-5000</td>\n",
              "    </tr>\n",
              "    <tr>\n",
              "      <th>4</th>\n",
              "      <td>650</td>\n",
              "      <td>sedan</td>\n",
              "      <td>1995</td>\n",
              "      <td>manual</td>\n",
              "      <td>102</td>\n",
              "      <td>3er</td>\n",
              "      <td>150000</td>\n",
              "      <td>10</td>\n",
              "      <td>petrol</td>\n",
              "      <td>bmw</td>\n",
              "      <td>1</td>\n",
              "      <td>0-5000</td>\n",
              "    </tr>\n",
              "    <tr>\n",
              "      <th>...</th>\n",
              "      <td>...</td>\n",
              "      <td>...</td>\n",
              "      <td>...</td>\n",
              "      <td>...</td>\n",
              "      <td>...</td>\n",
              "      <td>...</td>\n",
              "      <td>...</td>\n",
              "      <td>...</td>\n",
              "      <td>...</td>\n",
              "      <td>...</td>\n",
              "      <td>...</td>\n",
              "      <td>...</td>\n",
              "    </tr>\n",
              "    <tr>\n",
              "      <th>287073</th>\n",
              "      <td>5250</td>\n",
              "      <td>other</td>\n",
              "      <td>2016</td>\n",
              "      <td>auto</td>\n",
              "      <td>150</td>\n",
              "      <td>159</td>\n",
              "      <td>150000</td>\n",
              "      <td>12</td>\n",
              "      <td>other</td>\n",
              "      <td>alfa_romeo</td>\n",
              "      <td>0</td>\n",
              "      <td>5000-1000</td>\n",
              "    </tr>\n",
              "    <tr>\n",
              "      <th>287074</th>\n",
              "      <td>3200</td>\n",
              "      <td>sedan</td>\n",
              "      <td>2004</td>\n",
              "      <td>manual</td>\n",
              "      <td>225</td>\n",
              "      <td>leon</td>\n",
              "      <td>150000</td>\n",
              "      <td>5</td>\n",
              "      <td>petrol</td>\n",
              "      <td>seat</td>\n",
              "      <td>1</td>\n",
              "      <td>0-5000</td>\n",
              "    </tr>\n",
              "    <tr>\n",
              "      <th>287075</th>\n",
              "      <td>1199</td>\n",
              "      <td>convertible</td>\n",
              "      <td>2000</td>\n",
              "      <td>auto</td>\n",
              "      <td>101</td>\n",
              "      <td>fortwo</td>\n",
              "      <td>125000</td>\n",
              "      <td>3</td>\n",
              "      <td>petrol</td>\n",
              "      <td>smart</td>\n",
              "      <td>0</td>\n",
              "      <td>0-5000</td>\n",
              "    </tr>\n",
              "    <tr>\n",
              "      <th>287076</th>\n",
              "      <td>9200</td>\n",
              "      <td>bus</td>\n",
              "      <td>1996</td>\n",
              "      <td>manual</td>\n",
              "      <td>102</td>\n",
              "      <td>transporter</td>\n",
              "      <td>150000</td>\n",
              "      <td>3</td>\n",
              "      <td>gasoline</td>\n",
              "      <td>volkswagen</td>\n",
              "      <td>0</td>\n",
              "      <td>5000-1000</td>\n",
              "    </tr>\n",
              "    <tr>\n",
              "      <th>287077</th>\n",
              "      <td>3400</td>\n",
              "      <td>wagon</td>\n",
              "      <td>2002</td>\n",
              "      <td>manual</td>\n",
              "      <td>100</td>\n",
              "      <td>golf</td>\n",
              "      <td>150000</td>\n",
              "      <td>6</td>\n",
              "      <td>gasoline</td>\n",
              "      <td>volkswagen</td>\n",
              "      <td>0</td>\n",
              "      <td>0-5000</td>\n",
              "    </tr>\n",
              "  </tbody>\n",
              "</table>\n",
              "<p>287078 rows × 12 columns</p>\n",
              "</div>"
            ],
            "text/plain": [
              "        price vehicle_type  registration_year gearbox  power        model  \\\n",
              "0       18300        coupe               2011  manual    190        other   \n",
              "1        9800          suv               2004    auto    163        grand   \n",
              "2        1500        small               2001  manual     75         golf   \n",
              "3        3600        small               2008  manual     69        fabia   \n",
              "4         650        sedan               1995  manual    102          3er   \n",
              "...       ...          ...                ...     ...    ...          ...   \n",
              "287073   5250        other               2016    auto    150          159   \n",
              "287074   3200        sedan               2004  manual    225         leon   \n",
              "287075   1199  convertible               2000    auto    101       fortwo   \n",
              "287076   9200          bus               1996  manual    102  transporter   \n",
              "287077   3400        wagon               2002  manual    100         golf   \n",
              "\n",
              "        kilometer  registration_month fuel_type       brand  repaired  \\\n",
              "0          125000                   5  gasoline        audi         1   \n",
              "1          125000                   8  gasoline        jeep         0   \n",
              "2          150000                   6    petrol  volkswagen         0   \n",
              "3           90000                   7  gasoline       skoda         0   \n",
              "4          150000                  10    petrol         bmw         1   \n",
              "...           ...                 ...       ...         ...       ...   \n",
              "287073     150000                  12     other  alfa_romeo         0   \n",
              "287074     150000                   5    petrol        seat         1   \n",
              "287075     125000                   3    petrol       smart         0   \n",
              "287076     150000                   3  gasoline  volkswagen         0   \n",
              "287077     150000                   6  gasoline  volkswagen         0   \n",
              "\n",
              "       price_interval  \n",
              "0         15000-20000  \n",
              "1           5000-1000  \n",
              "2              0-5000  \n",
              "3              0-5000  \n",
              "4              0-5000  \n",
              "...               ...  \n",
              "287073      5000-1000  \n",
              "287074         0-5000  \n",
              "287075         0-5000  \n",
              "287076      5000-1000  \n",
              "287077         0-5000  \n",
              "\n",
              "[287078 rows x 12 columns]"
            ]
          },
          "execution_count": 81,
          "metadata": {},
          "output_type": "execute_result"
        }
      ],
      "source": [
        "df_for_model"
      ]
    },
    {
      "cell_type": "code",
      "execution_count": null,
      "id": "94abad03",
      "metadata": {
        "id": "94abad03",
        "outputId": "2618dd50-3e63-4961-d41c-fc6e0df318ac"
      },
      "outputs": [
        {
          "data": {
            "text/html": [
              "<div>\n",
              "<style scoped>\n",
              "    .dataframe tbody tr th:only-of-type {\n",
              "        vertical-align: middle;\n",
              "    }\n",
              "\n",
              "    .dataframe tbody tr th {\n",
              "        vertical-align: top;\n",
              "    }\n",
              "\n",
              "    .dataframe thead th {\n",
              "        text-align: right;\n",
              "    }\n",
              "</style>\n",
              "<table border=\"1\" class=\"dataframe\">\n",
              "  <thead>\n",
              "    <tr style=\"text-align: right;\">\n",
              "      <th></th>\n",
              "      <th>price</th>\n",
              "      <th>vehicle_type</th>\n",
              "      <th>registration_year</th>\n",
              "      <th>gearbox</th>\n",
              "      <th>power</th>\n",
              "      <th>model</th>\n",
              "      <th>kilometer</th>\n",
              "      <th>registration_month</th>\n",
              "      <th>fuel_type</th>\n",
              "      <th>brand</th>\n",
              "      <th>repaired</th>\n",
              "      <th>price_interval</th>\n",
              "    </tr>\n",
              "  </thead>\n",
              "  <tbody>\n",
              "    <tr>\n",
              "      <th>0</th>\n",
              "      <td>18300</td>\n",
              "      <td>coupe</td>\n",
              "      <td>2011</td>\n",
              "      <td>manual</td>\n",
              "      <td>190</td>\n",
              "      <td>other</td>\n",
              "      <td>125000</td>\n",
              "      <td>5</td>\n",
              "      <td>gasoline</td>\n",
              "      <td>audi</td>\n",
              "      <td>1</td>\n",
              "      <td>15000-20000</td>\n",
              "    </tr>\n",
              "    <tr>\n",
              "      <th>1</th>\n",
              "      <td>9800</td>\n",
              "      <td>suv</td>\n",
              "      <td>2004</td>\n",
              "      <td>auto</td>\n",
              "      <td>163</td>\n",
              "      <td>grand</td>\n",
              "      <td>125000</td>\n",
              "      <td>8</td>\n",
              "      <td>gasoline</td>\n",
              "      <td>jeep</td>\n",
              "      <td>0</td>\n",
              "      <td>5000-1000</td>\n",
              "    </tr>\n",
              "    <tr>\n",
              "      <th>2</th>\n",
              "      <td>1500</td>\n",
              "      <td>small</td>\n",
              "      <td>2001</td>\n",
              "      <td>manual</td>\n",
              "      <td>75</td>\n",
              "      <td>golf</td>\n",
              "      <td>150000</td>\n",
              "      <td>6</td>\n",
              "      <td>petrol</td>\n",
              "      <td>volkswagen</td>\n",
              "      <td>0</td>\n",
              "      <td>0-5000</td>\n",
              "    </tr>\n",
              "    <tr>\n",
              "      <th>3</th>\n",
              "      <td>3600</td>\n",
              "      <td>small</td>\n",
              "      <td>2008</td>\n",
              "      <td>manual</td>\n",
              "      <td>69</td>\n",
              "      <td>fabia</td>\n",
              "      <td>90000</td>\n",
              "      <td>7</td>\n",
              "      <td>gasoline</td>\n",
              "      <td>skoda</td>\n",
              "      <td>0</td>\n",
              "      <td>0-5000</td>\n",
              "    </tr>\n",
              "    <tr>\n",
              "      <th>4</th>\n",
              "      <td>650</td>\n",
              "      <td>sedan</td>\n",
              "      <td>1995</td>\n",
              "      <td>manual</td>\n",
              "      <td>102</td>\n",
              "      <td>3er</td>\n",
              "      <td>150000</td>\n",
              "      <td>10</td>\n",
              "      <td>petrol</td>\n",
              "      <td>bmw</td>\n",
              "      <td>1</td>\n",
              "      <td>0-5000</td>\n",
              "    </tr>\n",
              "    <tr>\n",
              "      <th>...</th>\n",
              "      <td>...</td>\n",
              "      <td>...</td>\n",
              "      <td>...</td>\n",
              "      <td>...</td>\n",
              "      <td>...</td>\n",
              "      <td>...</td>\n",
              "      <td>...</td>\n",
              "      <td>...</td>\n",
              "      <td>...</td>\n",
              "      <td>...</td>\n",
              "      <td>...</td>\n",
              "      <td>...</td>\n",
              "    </tr>\n",
              "    <tr>\n",
              "      <th>287073</th>\n",
              "      <td>5250</td>\n",
              "      <td>other</td>\n",
              "      <td>2016</td>\n",
              "      <td>auto</td>\n",
              "      <td>150</td>\n",
              "      <td>159</td>\n",
              "      <td>150000</td>\n",
              "      <td>12</td>\n",
              "      <td>other</td>\n",
              "      <td>alfa_romeo</td>\n",
              "      <td>0</td>\n",
              "      <td>5000-1000</td>\n",
              "    </tr>\n",
              "    <tr>\n",
              "      <th>287074</th>\n",
              "      <td>3200</td>\n",
              "      <td>sedan</td>\n",
              "      <td>2004</td>\n",
              "      <td>manual</td>\n",
              "      <td>225</td>\n",
              "      <td>leon</td>\n",
              "      <td>150000</td>\n",
              "      <td>5</td>\n",
              "      <td>petrol</td>\n",
              "      <td>seat</td>\n",
              "      <td>1</td>\n",
              "      <td>0-5000</td>\n",
              "    </tr>\n",
              "    <tr>\n",
              "      <th>287075</th>\n",
              "      <td>1199</td>\n",
              "      <td>convertible</td>\n",
              "      <td>2000</td>\n",
              "      <td>auto</td>\n",
              "      <td>101</td>\n",
              "      <td>fortwo</td>\n",
              "      <td>125000</td>\n",
              "      <td>3</td>\n",
              "      <td>petrol</td>\n",
              "      <td>smart</td>\n",
              "      <td>0</td>\n",
              "      <td>0-5000</td>\n",
              "    </tr>\n",
              "    <tr>\n",
              "      <th>287076</th>\n",
              "      <td>9200</td>\n",
              "      <td>bus</td>\n",
              "      <td>1996</td>\n",
              "      <td>manual</td>\n",
              "      <td>102</td>\n",
              "      <td>transporter</td>\n",
              "      <td>150000</td>\n",
              "      <td>3</td>\n",
              "      <td>gasoline</td>\n",
              "      <td>volkswagen</td>\n",
              "      <td>0</td>\n",
              "      <td>5000-1000</td>\n",
              "    </tr>\n",
              "    <tr>\n",
              "      <th>287077</th>\n",
              "      <td>3400</td>\n",
              "      <td>wagon</td>\n",
              "      <td>2002</td>\n",
              "      <td>manual</td>\n",
              "      <td>100</td>\n",
              "      <td>golf</td>\n",
              "      <td>150000</td>\n",
              "      <td>6</td>\n",
              "      <td>gasoline</td>\n",
              "      <td>volkswagen</td>\n",
              "      <td>0</td>\n",
              "      <td>0-5000</td>\n",
              "    </tr>\n",
              "  </tbody>\n",
              "</table>\n",
              "<p>287078 rows × 12 columns</p>\n",
              "</div>"
            ],
            "text/plain": [
              "        price vehicle_type  registration_year gearbox  power        model  \\\n",
              "0       18300        coupe               2011  manual    190        other   \n",
              "1        9800          suv               2004    auto    163        grand   \n",
              "2        1500        small               2001  manual     75         golf   \n",
              "3        3600        small               2008  manual     69        fabia   \n",
              "4         650        sedan               1995  manual    102          3er   \n",
              "...       ...          ...                ...     ...    ...          ...   \n",
              "287073   5250        other               2016    auto    150          159   \n",
              "287074   3200        sedan               2004  manual    225         leon   \n",
              "287075   1199  convertible               2000    auto    101       fortwo   \n",
              "287076   9200          bus               1996  manual    102  transporter   \n",
              "287077   3400        wagon               2002  manual    100         golf   \n",
              "\n",
              "        kilometer  registration_month fuel_type       brand  repaired  \\\n",
              "0          125000                   5  gasoline        audi         1   \n",
              "1          125000                   8  gasoline        jeep         0   \n",
              "2          150000                   6    petrol  volkswagen         0   \n",
              "3           90000                   7  gasoline       skoda         0   \n",
              "4          150000                  10    petrol         bmw         1   \n",
              "...           ...                 ...       ...         ...       ...   \n",
              "287073     150000                  12     other  alfa_romeo         0   \n",
              "287074     150000                   5    petrol        seat         1   \n",
              "287075     125000                   3    petrol       smart         0   \n",
              "287076     150000                   3  gasoline  volkswagen         0   \n",
              "287077     150000                   6  gasoline  volkswagen         0   \n",
              "\n",
              "       price_interval  \n",
              "0         15000-20000  \n",
              "1           5000-1000  \n",
              "2              0-5000  \n",
              "3              0-5000  \n",
              "4              0-5000  \n",
              "...               ...  \n",
              "287073      5000-1000  \n",
              "287074         0-5000  \n",
              "287075         0-5000  \n",
              "287076      5000-1000  \n",
              "287077         0-5000  \n",
              "\n",
              "[287078 rows x 12 columns]"
            ]
          },
          "execution_count": 82,
          "metadata": {},
          "output_type": "execute_result"
        }
      ],
      "source": [
        "df_for_model"
      ]
    },
    {
      "cell_type": "code",
      "execution_count": null,
      "id": "c02373e9",
      "metadata": {
        "id": "c02373e9"
      },
      "outputs": [],
      "source": [
        "# таблица с будущими категориальными значениями\n",
        "df_for_model_cat = df_for_model.copy()"
      ]
    },
    {
      "cell_type": "code",
      "execution_count": null,
      "id": "50d642f9",
      "metadata": {
        "id": "50d642f9",
        "outputId": "c866afb2-fac1-4e1e-c419-4a52bcc953e7"
      },
      "outputs": [
        {
          "data": {
            "text/html": [
              "<div>\n",
              "<style scoped>\n",
              "    .dataframe tbody tr th:only-of-type {\n",
              "        vertical-align: middle;\n",
              "    }\n",
              "\n",
              "    .dataframe tbody tr th {\n",
              "        vertical-align: top;\n",
              "    }\n",
              "\n",
              "    .dataframe thead th {\n",
              "        text-align: right;\n",
              "    }\n",
              "</style>\n",
              "<table border=\"1\" class=\"dataframe\">\n",
              "  <thead>\n",
              "    <tr style=\"text-align: right;\">\n",
              "      <th></th>\n",
              "      <th>vehicle_type</th>\n",
              "      <th>gearbox</th>\n",
              "      <th>model</th>\n",
              "      <th>fuel_type</th>\n",
              "      <th>brand</th>\n",
              "      <th>price_interval</th>\n",
              "    </tr>\n",
              "  </thead>\n",
              "  <tbody>\n",
              "    <tr>\n",
              "      <th>0</th>\n",
              "      <td>coupe</td>\n",
              "      <td>manual</td>\n",
              "      <td>other</td>\n",
              "      <td>gasoline</td>\n",
              "      <td>audi</td>\n",
              "      <td>15000-20000</td>\n",
              "    </tr>\n",
              "    <tr>\n",
              "      <th>1</th>\n",
              "      <td>suv</td>\n",
              "      <td>auto</td>\n",
              "      <td>grand</td>\n",
              "      <td>gasoline</td>\n",
              "      <td>jeep</td>\n",
              "      <td>5000-1000</td>\n",
              "    </tr>\n",
              "    <tr>\n",
              "      <th>2</th>\n",
              "      <td>small</td>\n",
              "      <td>manual</td>\n",
              "      <td>golf</td>\n",
              "      <td>petrol</td>\n",
              "      <td>volkswagen</td>\n",
              "      <td>0-5000</td>\n",
              "    </tr>\n",
              "    <tr>\n",
              "      <th>3</th>\n",
              "      <td>small</td>\n",
              "      <td>manual</td>\n",
              "      <td>fabia</td>\n",
              "      <td>gasoline</td>\n",
              "      <td>skoda</td>\n",
              "      <td>0-5000</td>\n",
              "    </tr>\n",
              "    <tr>\n",
              "      <th>4</th>\n",
              "      <td>sedan</td>\n",
              "      <td>manual</td>\n",
              "      <td>3er</td>\n",
              "      <td>petrol</td>\n",
              "      <td>bmw</td>\n",
              "      <td>0-5000</td>\n",
              "    </tr>\n",
              "    <tr>\n",
              "      <th>...</th>\n",
              "      <td>...</td>\n",
              "      <td>...</td>\n",
              "      <td>...</td>\n",
              "      <td>...</td>\n",
              "      <td>...</td>\n",
              "      <td>...</td>\n",
              "    </tr>\n",
              "    <tr>\n",
              "      <th>287073</th>\n",
              "      <td>other</td>\n",
              "      <td>auto</td>\n",
              "      <td>159</td>\n",
              "      <td>other</td>\n",
              "      <td>alfa_romeo</td>\n",
              "      <td>5000-1000</td>\n",
              "    </tr>\n",
              "    <tr>\n",
              "      <th>287074</th>\n",
              "      <td>sedan</td>\n",
              "      <td>manual</td>\n",
              "      <td>leon</td>\n",
              "      <td>petrol</td>\n",
              "      <td>seat</td>\n",
              "      <td>0-5000</td>\n",
              "    </tr>\n",
              "    <tr>\n",
              "      <th>287075</th>\n",
              "      <td>convertible</td>\n",
              "      <td>auto</td>\n",
              "      <td>fortwo</td>\n",
              "      <td>petrol</td>\n",
              "      <td>smart</td>\n",
              "      <td>0-5000</td>\n",
              "    </tr>\n",
              "    <tr>\n",
              "      <th>287076</th>\n",
              "      <td>bus</td>\n",
              "      <td>manual</td>\n",
              "      <td>transporter</td>\n",
              "      <td>gasoline</td>\n",
              "      <td>volkswagen</td>\n",
              "      <td>5000-1000</td>\n",
              "    </tr>\n",
              "    <tr>\n",
              "      <th>287077</th>\n",
              "      <td>wagon</td>\n",
              "      <td>manual</td>\n",
              "      <td>golf</td>\n",
              "      <td>gasoline</td>\n",
              "      <td>volkswagen</td>\n",
              "      <td>0-5000</td>\n",
              "    </tr>\n",
              "  </tbody>\n",
              "</table>\n",
              "<p>287078 rows × 6 columns</p>\n",
              "</div>"
            ],
            "text/plain": [
              "       vehicle_type gearbox        model fuel_type       brand price_interval\n",
              "0             coupe  manual        other  gasoline        audi    15000-20000\n",
              "1               suv    auto        grand  gasoline        jeep      5000-1000\n",
              "2             small  manual         golf    petrol  volkswagen         0-5000\n",
              "3             small  manual        fabia  gasoline       skoda         0-5000\n",
              "4             sedan  manual          3er    petrol         bmw         0-5000\n",
              "...             ...     ...          ...       ...         ...            ...\n",
              "287073        other    auto          159     other  alfa_romeo      5000-1000\n",
              "287074        sedan  manual         leon    petrol        seat         0-5000\n",
              "287075  convertible    auto       fortwo    petrol       smart         0-5000\n",
              "287076          bus  manual  transporter  gasoline  volkswagen      5000-1000\n",
              "287077        wagon  manual         golf  gasoline  volkswagen         0-5000\n",
              "\n",
              "[287078 rows x 6 columns]"
            ]
          },
          "execution_count": 84,
          "metadata": {},
          "output_type": "execute_result"
        }
      ],
      "source": [
        "df_for_model_cat.select_dtypes(exclude='number')"
      ]
    },
    {
      "cell_type": "code",
      "execution_count": null,
      "id": "6122ec12",
      "metadata": {
        "id": "6122ec12"
      },
      "outputs": [],
      "source": [
        "# обрезаем и уменьшаем регистры строк\n",
        "def strip_lower_str(row):\n",
        "    return row.strip().lower()"
      ]
    },
    {
      "cell_type": "code",
      "execution_count": null,
      "id": "c689565d",
      "metadata": {
        "id": "c689565d"
      },
      "outputs": [],
      "source": [
        "# имена категоиральных столбцов\n",
        "obj_columns = df_for_model_cat.select_dtypes(exclude='number').columns"
      ]
    },
    {
      "cell_type": "code",
      "execution_count": null,
      "id": "9285a563",
      "metadata": {
        "id": "9285a563"
      },
      "outputs": [],
      "source": [
        "# применяем ко всем столбцам функция\n",
        "for i in obj_columns:\n",
        "    df_for_model_cat[i] = df_for_model_cat[i].apply(strip_lower_str)"
      ]
    },
    {
      "cell_type": "code",
      "execution_count": null,
      "id": "0fa274a8",
      "metadata": {
        "id": "0fa274a8",
        "outputId": "e588a6cb-68ea-46a9-b177-ca32a0ce8ff0"
      },
      "outputs": [
        {
          "name": "stdout",
          "output_type": "stream",
          "text": [
            "Number of unique values in  vehicle_type\n",
            "8\n",
            "\n",
            "Unique values: \n",
            "sedan          76933\n",
            "small          65080\n",
            "wagon          54847\n",
            "bus            24442\n",
            "other          24281\n",
            "convertible    17462\n",
            "coupe          13972\n",
            "suv            10061\n",
            "Name: vehicle_type, dtype: int64\n",
            "------------------------------\n",
            "Number of unique values in  gearbox\n",
            "2\n",
            "\n",
            "Unique values: \n",
            "manual    229749\n",
            "auto       57329\n",
            "Name: gearbox, dtype: int64\n",
            "------------------------------\n",
            "Number of unique values in  model\n",
            "249\n",
            "\n",
            "Unique values: \n",
            "other                 32797\n",
            "golf                  24023\n",
            "3er                   16463\n",
            "polo                  10340\n",
            "corsa                  9622\n",
            "                      ...  \n",
            "samara                    5\n",
            "kalina                    4\n",
            "serie_3                   3\n",
            "rangerover                3\n",
            "range_rover_evoque        1\n",
            "Name: model, Length: 249, dtype: int64\n",
            "------------------------------\n",
            "Number of unique values in  fuel_type\n",
            "7\n",
            "\n",
            "Unique values: \n",
            "petrol      179397\n",
            "gasoline     81826\n",
            "other        20604\n",
            "lpg           4506\n",
            "cng            467\n",
            "hybrid         202\n",
            "electric        76\n",
            "Name: fuel_type, dtype: int64\n",
            "------------------------------\n",
            "Number of unique values in  brand\n",
            "40\n",
            "\n",
            "Unique values: \n",
            "volkswagen        62078\n",
            "opel              31692\n",
            "bmw               30685\n",
            "mercedes_benz     26212\n",
            "audi              24619\n",
            "ford              20140\n",
            "renault           13780\n",
            "peugeot            8993\n",
            "fiat               7554\n",
            "seat               5787\n",
            "skoda              4677\n",
            "mazda              4606\n",
            "smart              4334\n",
            "citroen            4208\n",
            "nissan             3957\n",
            "toyota             3892\n",
            "hyundai            2992\n",
            "mini               2798\n",
            "volvo              2680\n",
            "mitsubishi         2499\n",
            "honda              2409\n",
            "kia                2019\n",
            "alfa_romeo         1948\n",
            "suzuki             1907\n",
            "sonstige_autos     1881\n",
            "chevrolet          1419\n",
            "chrysler           1168\n",
            "dacia               761\n",
            "subaru              651\n",
            "daihatsu            610\n",
            "porsche             601\n",
            "jeep                566\n",
            "saab                456\n",
            "land_rover          443\n",
            "jaguar              419\n",
            "daewoo              408\n",
            "lancia              388\n",
            "rover               374\n",
            "trabant             313\n",
            "lada                154\n",
            "Name: brand, dtype: int64\n",
            "------------------------------\n",
            "Number of unique values in  price_interval\n",
            "4\n",
            "\n",
            "Unique values: \n",
            "0-5000         191419\n",
            "5000-1000       57462\n",
            "10000-15000     24903\n",
            "15000-20000     13294\n",
            "Name: price_interval, dtype: int64\n",
            "------------------------------\n"
          ]
        }
      ],
      "source": [
        "# поиск двоичных категоричных столбцов\n",
        "two_cat_lst_col = []\n",
        "for i in obj_columns:\n",
        "    print('Number of unique values in ', i)\n",
        "    n_unique = df_for_model_cat[i].nunique()\n",
        "    print(n_unique)\n",
        "    if n_unique <=2:\n",
        "        two_cat_lst_col.append(i)\n",
        "    print()\n",
        "    print('Unique values: ')\n",
        "    print(df_for_model_cat[i].value_counts())\n",
        "    print('-'*30)"
      ]
    },
    {
      "cell_type": "code",
      "execution_count": null,
      "id": "6b8c5cca",
      "metadata": {
        "id": "6b8c5cca",
        "outputId": "7365c938-fead-4078-ee5f-18e4c4651c5b"
      },
      "outputs": [
        {
          "data": {
            "text/plain": [
              "['gearbox']"
            ]
          },
          "execution_count": 89,
          "metadata": {},
          "output_type": "execute_result"
        }
      ],
      "source": [
        "\n",
        "two_cat_lst_col"
      ]
    },
    {
      "cell_type": "markdown",
      "id": "05d1fa34",
      "metadata": {
        "id": "05d1fa34"
      },
      "source": [
        "**ВЫВОД:**\n",
        "\n",
        "* Были очищены данные от выбросов\n",
        "* Пропущенные значения были заменены относительно средних значений в столбце `power` и `price` соответственно"
      ]
    },
    {
      "cell_type": "markdown",
      "id": "ecba68c4",
      "metadata": {
        "id": "ecba68c4"
      },
      "source": [
        "\n",
        "## Анализ моделей\n"
      ]
    },
    {
      "cell_type": "code",
      "execution_count": null,
      "id": "8ff03d75",
      "metadata": {
        "id": "8ff03d75"
      },
      "outputs": [],
      "source": [
        "df_for_model_cat.drop(columns='price_interval',inplace=True)"
      ]
    },
    {
      "cell_type": "code",
      "execution_count": null,
      "id": "59f262dd",
      "metadata": {
        "scrolled": true,
        "id": "59f262dd",
        "outputId": "69d8f913-cca3-447c-d9d1-c400b3bbac30"
      },
      "outputs": [
        {
          "data": {
            "text/plain": [
              "price                 0\n",
              "vehicle_type          0\n",
              "registration_year     0\n",
              "gearbox               0\n",
              "power                 0\n",
              "model                 0\n",
              "kilometer             0\n",
              "registration_month    0\n",
              "fuel_type             0\n",
              "brand                 0\n",
              "repaired              0\n",
              "dtype: int64"
            ]
          },
          "execution_count": 91,
          "metadata": {},
          "output_type": "execute_result"
        }
      ],
      "source": [
        "df_for_model_cat.isna().sum()"
      ]
    },
    {
      "cell_type": "code",
      "execution_count": null,
      "id": "8755d3bb",
      "metadata": {
        "id": "8755d3bb"
      },
      "outputs": [],
      "source": [
        "# таблица для catboost and lightgbm\n",
        "catlightgbm_df = df_for_model_cat.copy()\n"
      ]
    },
    {
      "cell_type": "code",
      "execution_count": null,
      "id": "cb68d4e5",
      "metadata": {
        "id": "cb68d4e5"
      },
      "outputs": [],
      "source": [
        "# обозначаем признаки и таргет для случайного леса\n",
        "features = df_for_model_cat.drop('price',axis=1)\n",
        "target = df_for_model_cat.price"
      ]
    },
    {
      "cell_type": "code",
      "execution_count": null,
      "id": "377f84dd",
      "metadata": {
        "id": "377f84dd"
      },
      "outputs": [],
      "source": [
        "rs=7\n"
      ]
    },
    {
      "cell_type": "code",
      "execution_count": null,
      "id": "b71b73f3",
      "metadata": {
        "id": "b71b73f3"
      },
      "outputs": [],
      "source": [
        "# делим на тренировочные и тестовые\n",
        "features_train,features_tv,target_train,target_tv=train_test_split(features,target,test_size=0.4,random_state=rs)\n"
      ]
    },
    {
      "cell_type": "code",
      "execution_count": null,
      "id": "41a58432",
      "metadata": {
        "id": "41a58432"
      },
      "outputs": [],
      "source": [
        "features_valid,features_test,target_valid,target_test=train_test_split(features_tv,target_tv,test_size=0.4,random_state=rs)\n"
      ]
    },
    {
      "cell_type": "code",
      "execution_count": null,
      "id": "d0018448",
      "metadata": {
        "id": "d0018448"
      },
      "outputs": [],
      "source": [
        "# иницилизация кодировщика\n",
        "OHE =  OneHotEncoder()"
      ]
    },
    {
      "cell_type": "code",
      "execution_count": null,
      "id": "1a5d8278",
      "metadata": {
        "id": "1a5d8278"
      },
      "outputs": [],
      "source": [
        "# столбец для OHE\n",
        "gearbox_train =  features_train['gearbox']"
      ]
    },
    {
      "cell_type": "code",
      "execution_count": null,
      "id": "cf8b9631",
      "metadata": {
        "scrolled": true,
        "id": "cf8b9631",
        "outputId": "6ea3cca9-17e2-4927-8087-f22ac86ce3d2"
      },
      "outputs": [
        {
          "data": {
            "text/plain": [
              "array(['manual', 'manual', 'manual', ..., 'manual', 'manual', 'manual'],\n",
              "      dtype=object)"
            ]
          },
          "execution_count": 99,
          "metadata": {},
          "output_type": "execute_result"
        }
      ],
      "source": [
        "gearbox_train.values"
      ]
    },
    {
      "cell_type": "code",
      "execution_count": null,
      "id": "915e6346",
      "metadata": {
        "id": "915e6346",
        "outputId": "afcf7638-4c8b-498a-dcaa-67f29663d106"
      },
      "outputs": [
        {
          "data": {
            "text/plain": [
              "manual    137819\n",
              "auto       34427\n",
              "Name: gearbox, dtype: int64"
            ]
          },
          "execution_count": 100,
          "metadata": {},
          "output_type": "execute_result"
        }
      ],
      "source": [
        "gearbox_train.value_counts()"
      ]
    },
    {
      "cell_type": "code",
      "execution_count": null,
      "id": "6f572111",
      "metadata": {
        "id": "6f572111"
      },
      "outputs": [],
      "source": [
        "gearbox_test = features_test['gearbox']"
      ]
    },
    {
      "cell_type": "code",
      "execution_count": null,
      "id": "66f46d18",
      "metadata": {
        "id": "66f46d18",
        "outputId": "04bd57d2-308a-491d-8552-fb26d1c7a6e5"
      },
      "outputs": [
        {
          "data": {
            "text/plain": [
              "manual    36907\n",
              "auto       9026\n",
              "Name: gearbox, dtype: int64"
            ]
          },
          "execution_count": 102,
          "metadata": {},
          "output_type": "execute_result"
        }
      ],
      "source": [
        "gearbox_test.value_counts()"
      ]
    },
    {
      "cell_type": "code",
      "execution_count": null,
      "id": "9aecbde0",
      "metadata": {
        "scrolled": true,
        "id": "9aecbde0",
        "outputId": "c286753d-cf5a-4e92-d3d1-364588c7f0a5"
      },
      "outputs": [
        {
          "data": {
            "text/plain": [
              "manual    55023\n",
              "auto      13876\n",
              "Name: gearbox, dtype: int64"
            ]
          },
          "execution_count": 103,
          "metadata": {},
          "output_type": "execute_result"
        }
      ],
      "source": [
        "gearbox_valid = features_valid['gearbox']\n",
        "gearbox_valid.value_counts()"
      ]
    },
    {
      "cell_type": "code",
      "execution_count": null,
      "id": "3defd42a",
      "metadata": {
        "id": "3defd42a"
      },
      "outputs": [],
      "source": [
        "tmp_0 = OHE.fit_transform(gearbox_train.values.reshape(-1, 1))\n",
        "tmp_1 = OHE.fit_transform(gearbox_test.values.reshape(-1, 1))\n",
        "tmp_2 = OHE.fit_transform(gearbox_valid.values.reshape(-1, 1))"
      ]
    },
    {
      "cell_type": "code",
      "execution_count": null,
      "id": "832c870a",
      "metadata": {
        "id": "832c870a"
      },
      "outputs": [],
      "source": [
        "gerbox_dt_ohe_0 = pd.DataFrame(tmp_0.toarray(),columns=OHE.categories_)\n",
        "gerbox_dt_ohe_1 = pd.DataFrame(tmp_1.toarray(),columns=OHE.categories_)\n",
        "gerbox_dt_ohe_2 = pd.DataFrame(tmp_2.toarray(),columns=OHE.categories_)"
      ]
    },
    {
      "cell_type": "code",
      "execution_count": null,
      "id": "5ae2ff46",
      "metadata": {
        "id": "5ae2ff46",
        "outputId": "f7242cfb-d8ea-4104-94bf-3739ad1fcdbc"
      },
      "outputs": [
        {
          "data": {
            "text/html": [
              "<div>\n",
              "<style scoped>\n",
              "    .dataframe tbody tr th:only-of-type {\n",
              "        vertical-align: middle;\n",
              "    }\n",
              "\n",
              "    .dataframe tbody tr th {\n",
              "        vertical-align: top;\n",
              "    }\n",
              "\n",
              "    .dataframe thead tr th {\n",
              "        text-align: left;\n",
              "    }\n",
              "</style>\n",
              "<table border=\"1\" class=\"dataframe\">\n",
              "  <thead>\n",
              "    <tr>\n",
              "      <th></th>\n",
              "      <th>auto</th>\n",
              "      <th>manual</th>\n",
              "    </tr>\n",
              "  </thead>\n",
              "  <tbody>\n",
              "    <tr>\n",
              "      <th>0</th>\n",
              "      <td>0.0</td>\n",
              "      <td>1.0</td>\n",
              "    </tr>\n",
              "  </tbody>\n",
              "</table>\n",
              "</div>"
            ],
            "text/plain": [
              "  auto manual\n",
              "0  0.0    1.0"
            ]
          },
          "execution_count": 106,
          "metadata": {},
          "output_type": "execute_result"
        }
      ],
      "source": [
        "gerbox_dt_ohe_0.head(1)"
      ]
    },
    {
      "cell_type": "code",
      "execution_count": null,
      "id": "e54b3378",
      "metadata": {
        "id": "e54b3378",
        "outputId": "2c0e53b2-6a55-4aa6-fd1d-f28203ab5f60"
      },
      "outputs": [
        {
          "data": {
            "text/html": [
              "<div>\n",
              "<style scoped>\n",
              "    .dataframe tbody tr th:only-of-type {\n",
              "        vertical-align: middle;\n",
              "    }\n",
              "\n",
              "    .dataframe tbody tr th {\n",
              "        vertical-align: top;\n",
              "    }\n",
              "\n",
              "    .dataframe thead tr th {\n",
              "        text-align: left;\n",
              "    }\n",
              "</style>\n",
              "<table border=\"1\" class=\"dataframe\">\n",
              "  <thead>\n",
              "    <tr>\n",
              "      <th></th>\n",
              "      <th>auto</th>\n",
              "      <th>manual</th>\n",
              "    </tr>\n",
              "  </thead>\n",
              "  <tbody>\n",
              "    <tr>\n",
              "      <th>0</th>\n",
              "      <td>0.0</td>\n",
              "      <td>1.0</td>\n",
              "    </tr>\n",
              "  </tbody>\n",
              "</table>\n",
              "</div>"
            ],
            "text/plain": [
              "  auto manual\n",
              "0  0.0    1.0"
            ]
          },
          "execution_count": 107,
          "metadata": {},
          "output_type": "execute_result"
        }
      ],
      "source": [
        "gerbox_dt_ohe_1.head(1)"
      ]
    },
    {
      "cell_type": "code",
      "execution_count": null,
      "id": "548d24cf",
      "metadata": {
        "scrolled": false,
        "id": "548d24cf",
        "outputId": "2ceab878-4a09-4be6-ca8e-02c8321b5212"
      },
      "outputs": [
        {
          "data": {
            "text/html": [
              "<div>\n",
              "<style scoped>\n",
              "    .dataframe tbody tr th:only-of-type {\n",
              "        vertical-align: middle;\n",
              "    }\n",
              "\n",
              "    .dataframe tbody tr th {\n",
              "        vertical-align: top;\n",
              "    }\n",
              "\n",
              "    .dataframe thead th {\n",
              "        text-align: right;\n",
              "    }\n",
              "</style>\n",
              "<table border=\"1\" class=\"dataframe\">\n",
              "  <thead>\n",
              "    <tr style=\"text-align: right;\">\n",
              "      <th></th>\n",
              "      <th>vehicle_type</th>\n",
              "      <th>registration_year</th>\n",
              "      <th>gearbox</th>\n",
              "      <th>power</th>\n",
              "      <th>model</th>\n",
              "      <th>kilometer</th>\n",
              "      <th>registration_month</th>\n",
              "      <th>fuel_type</th>\n",
              "      <th>brand</th>\n",
              "      <th>repaired</th>\n",
              "    </tr>\n",
              "  </thead>\n",
              "  <tbody>\n",
              "    <tr>\n",
              "      <th>148720</th>\n",
              "      <td>small</td>\n",
              "      <td>2006</td>\n",
              "      <td>manual</td>\n",
              "      <td>94</td>\n",
              "      <td>justy</td>\n",
              "      <td>30000</td>\n",
              "      <td>4</td>\n",
              "      <td>petrol</td>\n",
              "      <td>subaru</td>\n",
              "      <td>0</td>\n",
              "    </tr>\n",
              "  </tbody>\n",
              "</table>\n",
              "</div>"
            ],
            "text/plain": [
              "       vehicle_type  registration_year gearbox  power  model  kilometer  \\\n",
              "148720        small               2006  manual     94  justy      30000   \n",
              "\n",
              "        registration_month fuel_type   brand  repaired  \n",
              "148720                   4    petrol  subaru         0  "
            ]
          },
          "execution_count": 108,
          "metadata": {},
          "output_type": "execute_result"
        }
      ],
      "source": [
        "features_train.head(1)"
      ]
    },
    {
      "cell_type": "markdown",
      "id": "4bece370",
      "metadata": {
        "id": "4bece370"
      },
      "source": []
    },
    {
      "cell_type": "code",
      "execution_count": null,
      "id": "9e1bfa0c",
      "metadata": {
        "id": "9e1bfa0c"
      },
      "outputs": [],
      "source": [
        "# обнуляем индексы и обновляем\n",
        "features_train = features_train.reset_index(drop=True)"
      ]
    },
    {
      "cell_type": "code",
      "execution_count": null,
      "id": "f0fdb49c",
      "metadata": {
        "id": "f0fdb49c"
      },
      "outputs": [],
      "source": [
        "# обнуляем индексы и обновляем\n",
        "\n",
        "features_test = features_test.reset_index(drop=True)"
      ]
    },
    {
      "cell_type": "code",
      "execution_count": null,
      "id": "ea2c274e",
      "metadata": {
        "id": "ea2c274e"
      },
      "outputs": [],
      "source": [
        "# обнуляем индексы и обновляем\n",
        "features_valid = features_valid.reset_index(drop=True)"
      ]
    },
    {
      "cell_type": "code",
      "execution_count": null,
      "id": "2877c06f",
      "metadata": {
        "scrolled": true,
        "id": "2877c06f"
      },
      "outputs": [],
      "source": [
        "# присоединяем кодированные данные\n",
        "\n",
        "features_train = pd.concat([features_train,gerbox_dt_ohe_0],axis=1)"
      ]
    },
    {
      "cell_type": "code",
      "execution_count": null,
      "id": "d503f9c3",
      "metadata": {
        "id": "d503f9c3"
      },
      "outputs": [],
      "source": [
        "# присоединяем кодированные данные\n",
        "features_test= pd.concat([features_test,gerbox_dt_ohe_1],axis=1)"
      ]
    },
    {
      "cell_type": "code",
      "execution_count": null,
      "id": "c12f6d2b",
      "metadata": {
        "id": "c12f6d2b"
      },
      "outputs": [],
      "source": [
        "# присоединяем кодированные данные\n",
        "\n",
        "features_valid= pd.concat([features_valid,gerbox_dt_ohe_2],axis=1)"
      ]
    },
    {
      "cell_type": "code",
      "execution_count": null,
      "id": "67a736fb",
      "metadata": {
        "id": "67a736fb",
        "outputId": "208f22d8-f17b-4d07-9ea7-d6c6a3c57389"
      },
      "outputs": [
        {
          "data": {
            "text/html": [
              "<div>\n",
              "<style scoped>\n",
              "    .dataframe tbody tr th:only-of-type {\n",
              "        vertical-align: middle;\n",
              "    }\n",
              "\n",
              "    .dataframe tbody tr th {\n",
              "        vertical-align: top;\n",
              "    }\n",
              "\n",
              "    .dataframe thead th {\n",
              "        text-align: right;\n",
              "    }\n",
              "</style>\n",
              "<table border=\"1\" class=\"dataframe\">\n",
              "  <thead>\n",
              "    <tr style=\"text-align: right;\">\n",
              "      <th></th>\n",
              "      <th>price</th>\n",
              "      <th>vehicle_type</th>\n",
              "      <th>registration_year</th>\n",
              "      <th>gearbox</th>\n",
              "      <th>power</th>\n",
              "      <th>model</th>\n",
              "      <th>kilometer</th>\n",
              "      <th>registration_month</th>\n",
              "      <th>fuel_type</th>\n",
              "      <th>brand</th>\n",
              "      <th>repaired</th>\n",
              "    </tr>\n",
              "  </thead>\n",
              "  <tbody>\n",
              "    <tr>\n",
              "      <th>0</th>\n",
              "      <td>18300</td>\n",
              "      <td>coupe</td>\n",
              "      <td>2011</td>\n",
              "      <td>manual</td>\n",
              "      <td>190</td>\n",
              "      <td>other</td>\n",
              "      <td>125000</td>\n",
              "      <td>5</td>\n",
              "      <td>gasoline</td>\n",
              "      <td>audi</td>\n",
              "      <td>1</td>\n",
              "    </tr>\n",
              "    <tr>\n",
              "      <th>1</th>\n",
              "      <td>9800</td>\n",
              "      <td>suv</td>\n",
              "      <td>2004</td>\n",
              "      <td>auto</td>\n",
              "      <td>163</td>\n",
              "      <td>grand</td>\n",
              "      <td>125000</td>\n",
              "      <td>8</td>\n",
              "      <td>gasoline</td>\n",
              "      <td>jeep</td>\n",
              "      <td>0</td>\n",
              "    </tr>\n",
              "    <tr>\n",
              "      <th>2</th>\n",
              "      <td>1500</td>\n",
              "      <td>small</td>\n",
              "      <td>2001</td>\n",
              "      <td>manual</td>\n",
              "      <td>75</td>\n",
              "      <td>golf</td>\n",
              "      <td>150000</td>\n",
              "      <td>6</td>\n",
              "      <td>petrol</td>\n",
              "      <td>volkswagen</td>\n",
              "      <td>0</td>\n",
              "    </tr>\n",
              "    <tr>\n",
              "      <th>3</th>\n",
              "      <td>3600</td>\n",
              "      <td>small</td>\n",
              "      <td>2008</td>\n",
              "      <td>manual</td>\n",
              "      <td>69</td>\n",
              "      <td>fabia</td>\n",
              "      <td>90000</td>\n",
              "      <td>7</td>\n",
              "      <td>gasoline</td>\n",
              "      <td>skoda</td>\n",
              "      <td>0</td>\n",
              "    </tr>\n",
              "    <tr>\n",
              "      <th>4</th>\n",
              "      <td>650</td>\n",
              "      <td>sedan</td>\n",
              "      <td>1995</td>\n",
              "      <td>manual</td>\n",
              "      <td>102</td>\n",
              "      <td>3er</td>\n",
              "      <td>150000</td>\n",
              "      <td>10</td>\n",
              "      <td>petrol</td>\n",
              "      <td>bmw</td>\n",
              "      <td>1</td>\n",
              "    </tr>\n",
              "    <tr>\n",
              "      <th>...</th>\n",
              "      <td>...</td>\n",
              "      <td>...</td>\n",
              "      <td>...</td>\n",
              "      <td>...</td>\n",
              "      <td>...</td>\n",
              "      <td>...</td>\n",
              "      <td>...</td>\n",
              "      <td>...</td>\n",
              "      <td>...</td>\n",
              "      <td>...</td>\n",
              "      <td>...</td>\n",
              "    </tr>\n",
              "    <tr>\n",
              "      <th>287073</th>\n",
              "      <td>5250</td>\n",
              "      <td>other</td>\n",
              "      <td>2016</td>\n",
              "      <td>auto</td>\n",
              "      <td>150</td>\n",
              "      <td>159</td>\n",
              "      <td>150000</td>\n",
              "      <td>12</td>\n",
              "      <td>other</td>\n",
              "      <td>alfa_romeo</td>\n",
              "      <td>0</td>\n",
              "    </tr>\n",
              "    <tr>\n",
              "      <th>287074</th>\n",
              "      <td>3200</td>\n",
              "      <td>sedan</td>\n",
              "      <td>2004</td>\n",
              "      <td>manual</td>\n",
              "      <td>225</td>\n",
              "      <td>leon</td>\n",
              "      <td>150000</td>\n",
              "      <td>5</td>\n",
              "      <td>petrol</td>\n",
              "      <td>seat</td>\n",
              "      <td>1</td>\n",
              "    </tr>\n",
              "    <tr>\n",
              "      <th>287075</th>\n",
              "      <td>1199</td>\n",
              "      <td>convertible</td>\n",
              "      <td>2000</td>\n",
              "      <td>auto</td>\n",
              "      <td>101</td>\n",
              "      <td>fortwo</td>\n",
              "      <td>125000</td>\n",
              "      <td>3</td>\n",
              "      <td>petrol</td>\n",
              "      <td>smart</td>\n",
              "      <td>0</td>\n",
              "    </tr>\n",
              "    <tr>\n",
              "      <th>287076</th>\n",
              "      <td>9200</td>\n",
              "      <td>bus</td>\n",
              "      <td>1996</td>\n",
              "      <td>manual</td>\n",
              "      <td>102</td>\n",
              "      <td>transporter</td>\n",
              "      <td>150000</td>\n",
              "      <td>3</td>\n",
              "      <td>gasoline</td>\n",
              "      <td>volkswagen</td>\n",
              "      <td>0</td>\n",
              "    </tr>\n",
              "    <tr>\n",
              "      <th>287077</th>\n",
              "      <td>3400</td>\n",
              "      <td>wagon</td>\n",
              "      <td>2002</td>\n",
              "      <td>manual</td>\n",
              "      <td>100</td>\n",
              "      <td>golf</td>\n",
              "      <td>150000</td>\n",
              "      <td>6</td>\n",
              "      <td>gasoline</td>\n",
              "      <td>volkswagen</td>\n",
              "      <td>0</td>\n",
              "    </tr>\n",
              "  </tbody>\n",
              "</table>\n",
              "<p>287078 rows × 11 columns</p>\n",
              "</div>"
            ],
            "text/plain": [
              "        price vehicle_type  registration_year gearbox  power        model  \\\n",
              "0       18300        coupe               2011  manual    190        other   \n",
              "1        9800          suv               2004    auto    163        grand   \n",
              "2        1500        small               2001  manual     75         golf   \n",
              "3        3600        small               2008  manual     69        fabia   \n",
              "4         650        sedan               1995  manual    102          3er   \n",
              "...       ...          ...                ...     ...    ...          ...   \n",
              "287073   5250        other               2016    auto    150          159   \n",
              "287074   3200        sedan               2004  manual    225         leon   \n",
              "287075   1199  convertible               2000    auto    101       fortwo   \n",
              "287076   9200          bus               1996  manual    102  transporter   \n",
              "287077   3400        wagon               2002  manual    100         golf   \n",
              "\n",
              "        kilometer  registration_month fuel_type       brand  repaired  \n",
              "0          125000                   5  gasoline        audi         1  \n",
              "1          125000                   8  gasoline        jeep         0  \n",
              "2          150000                   6    petrol  volkswagen         0  \n",
              "3           90000                   7  gasoline       skoda         0  \n",
              "4          150000                  10    petrol         bmw         1  \n",
              "...           ...                 ...       ...         ...       ...  \n",
              "287073     150000                  12     other  alfa_romeo         0  \n",
              "287074     150000                   5    petrol        seat         1  \n",
              "287075     125000                   3    petrol       smart         0  \n",
              "287076     150000                   3  gasoline  volkswagen         0  \n",
              "287077     150000                   6  gasoline  volkswagen         0  \n",
              "\n",
              "[287078 rows x 11 columns]"
            ]
          },
          "execution_count": 115,
          "metadata": {},
          "output_type": "execute_result"
        }
      ],
      "source": [
        "df_for_model_cat"
      ]
    },
    {
      "cell_type": "code",
      "execution_count": null,
      "id": "91851c24",
      "metadata": {
        "id": "91851c24"
      },
      "outputs": [],
      "source": [
        "new_columns = ['vehicle_type', 'registration_year', 'gearbox',\n",
        "       'power', 'model', 'kilometer', 'registration_month', 'fuel_type',\n",
        "       'brand', 'repaired','auto','manual']"
      ]
    },
    {
      "cell_type": "code",
      "execution_count": null,
      "id": "539f5e4f",
      "metadata": {
        "id": "539f5e4f"
      },
      "outputs": [],
      "source": [
        "features_train.columns = new_columns\n",
        "features_test.columns = new_columns"
      ]
    },
    {
      "cell_type": "code",
      "execution_count": null,
      "id": "ffc95230",
      "metadata": {
        "id": "ffc95230"
      },
      "outputs": [],
      "source": [
        "BinEnc = category_encoders.BinaryEncoder()"
      ]
    },
    {
      "cell_type": "code",
      "execution_count": null,
      "id": "ae60491f",
      "metadata": {
        "scrolled": true,
        "id": "ae60491f",
        "outputId": "591169d6-9b09-4b6f-c13c-c70563c063b2"
      },
      "outputs": [
        {
          "data": {
            "text/html": [
              "<style>#sk-container-id-1 {color: black;background-color: white;}#sk-container-id-1 pre{padding: 0;}#sk-container-id-1 div.sk-toggleable {background-color: white;}#sk-container-id-1 label.sk-toggleable__label {cursor: pointer;display: block;width: 100%;margin-bottom: 0;padding: 0.3em;box-sizing: border-box;text-align: center;}#sk-container-id-1 label.sk-toggleable__label-arrow:before {content: \"▸\";float: left;margin-right: 0.25em;color: #696969;}#sk-container-id-1 label.sk-toggleable__label-arrow:hover:before {color: black;}#sk-container-id-1 div.sk-estimator:hover label.sk-toggleable__label-arrow:before {color: black;}#sk-container-id-1 div.sk-toggleable__content {max-height: 0;max-width: 0;overflow: hidden;text-align: left;background-color: #f0f8ff;}#sk-container-id-1 div.sk-toggleable__content pre {margin: 0.2em;color: black;border-radius: 0.25em;background-color: #f0f8ff;}#sk-container-id-1 input.sk-toggleable__control:checked~div.sk-toggleable__content {max-height: 200px;max-width: 100%;overflow: auto;}#sk-container-id-1 input.sk-toggleable__control:checked~label.sk-toggleable__label-arrow:before {content: \"▾\";}#sk-container-id-1 div.sk-estimator input.sk-toggleable__control:checked~label.sk-toggleable__label {background-color: #d4ebff;}#sk-container-id-1 div.sk-label input.sk-toggleable__control:checked~label.sk-toggleable__label {background-color: #d4ebff;}#sk-container-id-1 input.sk-hidden--visually {border: 0;clip: rect(1px 1px 1px 1px);clip: rect(1px, 1px, 1px, 1px);height: 1px;margin: -1px;overflow: hidden;padding: 0;position: absolute;width: 1px;}#sk-container-id-1 div.sk-estimator {font-family: monospace;background-color: #f0f8ff;border: 1px dotted black;border-radius: 0.25em;box-sizing: border-box;margin-bottom: 0.5em;}#sk-container-id-1 div.sk-estimator:hover {background-color: #d4ebff;}#sk-container-id-1 div.sk-parallel-item::after {content: \"\";width: 100%;border-bottom: 1px solid gray;flex-grow: 1;}#sk-container-id-1 div.sk-label:hover label.sk-toggleable__label {background-color: #d4ebff;}#sk-container-id-1 div.sk-serial::before {content: \"\";position: absolute;border-left: 1px solid gray;box-sizing: border-box;top: 0;bottom: 0;left: 50%;z-index: 0;}#sk-container-id-1 div.sk-serial {display: flex;flex-direction: column;align-items: center;background-color: white;padding-right: 0.2em;padding-left: 0.2em;position: relative;}#sk-container-id-1 div.sk-item {position: relative;z-index: 1;}#sk-container-id-1 div.sk-parallel {display: flex;align-items: stretch;justify-content: center;background-color: white;position: relative;}#sk-container-id-1 div.sk-item::before, #sk-container-id-1 div.sk-parallel-item::before {content: \"\";position: absolute;border-left: 1px solid gray;box-sizing: border-box;top: 0;bottom: 0;left: 50%;z-index: -1;}#sk-container-id-1 div.sk-parallel-item {display: flex;flex-direction: column;z-index: 1;position: relative;background-color: white;}#sk-container-id-1 div.sk-parallel-item:first-child::after {align-self: flex-end;width: 50%;}#sk-container-id-1 div.sk-parallel-item:last-child::after {align-self: flex-start;width: 50%;}#sk-container-id-1 div.sk-parallel-item:only-child::after {width: 0;}#sk-container-id-1 div.sk-dashed-wrapped {border: 1px dashed gray;margin: 0 0.4em 0.5em 0.4em;box-sizing: border-box;padding-bottom: 0.4em;background-color: white;}#sk-container-id-1 div.sk-label label {font-family: monospace;font-weight: bold;display: inline-block;line-height: 1.2em;}#sk-container-id-1 div.sk-label-container {text-align: center;}#sk-container-id-1 div.sk-container {/* jupyter's `normalize.less` sets `[hidden] { display: none; }` but bootstrap.min.css set `[hidden] { display: none !important; }` so we also need the `!important` here to be able to override the default hidden behavior on the sphinx rendered scikit-learn.org. See: https://github.com/scikit-learn/scikit-learn/issues/21755 */display: inline-block !important;position: relative;}#sk-container-id-1 div.sk-text-repr-fallback {display: none;}</style><div id=\"sk-container-id-1\" class=\"sk-top-container\"><div class=\"sk-text-repr-fallback\"><pre>BinaryEncoder(cols=[&#x27;vehicle_type&#x27;, &#x27;gearbox&#x27;, &#x27;model&#x27;, &#x27;fuel_type&#x27;, &#x27;brand&#x27;],\n",
              "              mapping=[{&#x27;col&#x27;: &#x27;vehicle_type&#x27;,\n",
              "                        &#x27;mapping&#x27;:     vehicle_type_0  vehicle_type_1  vehicle_type_2  vehicle_type_3\n",
              " 1               0               0               0               1\n",
              " 2               0               0               1               0\n",
              " 3               0               0               1               1\n",
              " 4               0               1               0               0\n",
              " 5               0               1               0               1\n",
              " 6               0               1               1               0\n",
              " 7               0               1               1               1\n",
              " 8               1               0               0               0\n",
              "-1               0               0               0               0\n",
              "-2               0               0               0               0},\n",
              "                       {&#x27;col&#x27;: &#x27;gearbox&#x27;,\n",
              "                        &#x27;mapping&#x27;:     gearbox_0  gearbox_1\n",
              " 1          0          1\n",
              " 2          1          0\n",
              "-1          0          0\n",
              "-2          0          0},\n",
              "                       {&#x27;col&#x27;: &#x27;model&#x27;,\n",
              "                        &#x27;mapping&#x27;:       model_0  model_1  model_2  model_3  model_4  mode...\n",
              "                        &#x27;mapping&#x27;:      brand_0  brand_1  brand_2  brand_3  brand_4  brand_5\n",
              " 1         0        0        0        0        0        1\n",
              " 2         0        0        0        0        1        0\n",
              " 3         0        0        0        0        1        1\n",
              " 4         0        0        0        1        0        0\n",
              " 5         0        0        0        1        0        1\n",
              " 6         0        0        0        1        1        0\n",
              " 7         0        0        0        1        1        1\n",
              " 8         0        0        1        0        0        0\n",
              " 9         0        0        1        0        0        1\n",
              " 10        0        0        1        0        1        0\n",
              " 11        0        0        1        0        1        1\n",
              " 12        0        0        1        1        0        0\n",
              " 13        0        0        1        1        0        1\n",
              " 14        0        0        1        1        1        0\n",
              " 15        0        0        1        1        1        1\n",
              " 16        0        1        0        0        0        0\n",
              " 17        0        1        0        0        0        1\n",
              " 18        0        1        0        0        1        0\n",
              " 19        0        1        0        0        1        1\n",
              " 20        0        1        0        1        0        0\n",
              " 21        0        1        0        1        0        1\n",
              " 22        0        1        0        1        1        0\n",
              " 23        0        1        0        1        1        1\n",
              " 24        0        1        1        0        0        0\n",
              " 25        0        1        1        0        0        1\n",
              " 26        0        1        1        0        1        0\n",
              " 27        0        1        1        0        1        1\n",
              " 28        0        1        1        1        0        0\n",
              " 29        0        1        1        1        0        1\n",
              " 30        0        1        1        1        1        0\n",
              " 31        0        1        1        1        1        1\n",
              " 32        1        0        0        0        0        0\n",
              " 33        1        0        0        0        0        1\n",
              " 34        1        0        0        0        1        0\n",
              " 35        1        0        0        0        1        1\n",
              " 36        1        0        0        1        0        0\n",
              " 37        1        0        0        1        0        1\n",
              " 38        1        0        0        1        1        0\n",
              " 39        1        0        0        1        1        1\n",
              " 40        1        0        1        0        0        0\n",
              "-1         0        0        0        0        0        0\n",
              "-2         0        0        0        0        0        0}])</pre><b>In a Jupyter environment, please rerun this cell to show the HTML representation or trust the notebook. <br />On GitHub, the HTML representation is unable to render, please try loading this page with nbviewer.org.</b></div><div class=\"sk-container\" hidden><div class=\"sk-item\"><div class=\"sk-estimator sk-toggleable\"><input class=\"sk-toggleable__control sk-hidden--visually\" id=\"sk-estimator-id-1\" type=\"checkbox\" checked><label for=\"sk-estimator-id-1\" class=\"sk-toggleable__label sk-toggleable__label-arrow\">BinaryEncoder</label><div class=\"sk-toggleable__content\"><pre>BinaryEncoder(cols=[&#x27;vehicle_type&#x27;, &#x27;gearbox&#x27;, &#x27;model&#x27;, &#x27;fuel_type&#x27;, &#x27;brand&#x27;],\n",
              "              mapping=[{&#x27;col&#x27;: &#x27;vehicle_type&#x27;,\n",
              "                        &#x27;mapping&#x27;:     vehicle_type_0  vehicle_type_1  vehicle_type_2  vehicle_type_3\n",
              " 1               0               0               0               1\n",
              " 2               0               0               1               0\n",
              " 3               0               0               1               1\n",
              " 4               0               1               0               0\n",
              " 5               0               1               0               1\n",
              " 6               0               1               1               0\n",
              " 7               0               1               1               1\n",
              " 8               1               0               0               0\n",
              "-1               0               0               0               0\n",
              "-2               0               0               0               0},\n",
              "                       {&#x27;col&#x27;: &#x27;gearbox&#x27;,\n",
              "                        &#x27;mapping&#x27;:     gearbox_0  gearbox_1\n",
              " 1          0          1\n",
              " 2          1          0\n",
              "-1          0          0\n",
              "-2          0          0},\n",
              "                       {&#x27;col&#x27;: &#x27;model&#x27;,\n",
              "                        &#x27;mapping&#x27;:       model_0  model_1  model_2  model_3  model_4  mode...\n",
              "                        &#x27;mapping&#x27;:      brand_0  brand_1  brand_2  brand_3  brand_4  brand_5\n",
              " 1         0        0        0        0        0        1\n",
              " 2         0        0        0        0        1        0\n",
              " 3         0        0        0        0        1        1\n",
              " 4         0        0        0        1        0        0\n",
              " 5         0        0        0        1        0        1\n",
              " 6         0        0        0        1        1        0\n",
              " 7         0        0        0        1        1        1\n",
              " 8         0        0        1        0        0        0\n",
              " 9         0        0        1        0        0        1\n",
              " 10        0        0        1        0        1        0\n",
              " 11        0        0        1        0        1        1\n",
              " 12        0        0        1        1        0        0\n",
              " 13        0        0        1        1        0        1\n",
              " 14        0        0        1        1        1        0\n",
              " 15        0        0        1        1        1        1\n",
              " 16        0        1        0        0        0        0\n",
              " 17        0        1        0        0        0        1\n",
              " 18        0        1        0        0        1        0\n",
              " 19        0        1        0        0        1        1\n",
              " 20        0        1        0        1        0        0\n",
              " 21        0        1        0        1        0        1\n",
              " 22        0        1        0        1        1        0\n",
              " 23        0        1        0        1        1        1\n",
              " 24        0        1        1        0        0        0\n",
              " 25        0        1        1        0        0        1\n",
              " 26        0        1        1        0        1        0\n",
              " 27        0        1        1        0        1        1\n",
              " 28        0        1        1        1        0        0\n",
              " 29        0        1        1        1        0        1\n",
              " 30        0        1        1        1        1        0\n",
              " 31        0        1        1        1        1        1\n",
              " 32        1        0        0        0        0        0\n",
              " 33        1        0        0        0        0        1\n",
              " 34        1        0        0        0        1        0\n",
              " 35        1        0        0        0        1        1\n",
              " 36        1        0        0        1        0        0\n",
              " 37        1        0        0        1        0        1\n",
              " 38        1        0        0        1        1        0\n",
              " 39        1        0        0        1        1        1\n",
              " 40        1        0        1        0        0        0\n",
              "-1         0        0        0        0        0        0\n",
              "-2         0        0        0        0        0        0}])</pre></div></div></div></div></div>"
            ],
            "text/plain": [
              "BinaryEncoder(cols=['vehicle_type', 'gearbox', 'model', 'fuel_type', 'brand'],\n",
              "              mapping=[{'col': 'vehicle_type',\n",
              "                        'mapping':     vehicle_type_0  vehicle_type_1  vehicle_type_2  vehicle_type_3\n",
              " 1               0               0               0               1\n",
              " 2               0               0               1               0\n",
              " 3               0               0               1               1\n",
              " 4               0               1               0               0\n",
              " 5               0               1               0               1\n",
              " 6               0               1               1               0\n",
              " 7               0               1               1               1\n",
              " 8               1               0               0               0\n",
              "-1               0               0               0               0\n",
              "-2               0               0               0               0},\n",
              "                       {'col': 'gearbox',\n",
              "                        'mapping':     gearbox_0  gearbox_1\n",
              " 1          0          1\n",
              " 2          1          0\n",
              "-1          0          0\n",
              "-2          0          0},\n",
              "                       {'col': 'model',\n",
              "                        'mapping':       model_0  model_1  model_2  model_3  model_4  mode...\n",
              "                        'mapping':      brand_0  brand_1  brand_2  brand_3  brand_4  brand_5\n",
              " 1         0        0        0        0        0        1\n",
              " 2         0        0        0        0        1        0\n",
              " 3         0        0        0        0        1        1\n",
              " 4         0        0        0        1        0        0\n",
              " 5         0        0        0        1        0        1\n",
              " 6         0        0        0        1        1        0\n",
              " 7         0        0        0        1        1        1\n",
              " 8         0        0        1        0        0        0\n",
              " 9         0        0        1        0        0        1\n",
              " 10        0        0        1        0        1        0\n",
              " 11        0        0        1        0        1        1\n",
              " 12        0        0        1        1        0        0\n",
              " 13        0        0        1        1        0        1\n",
              " 14        0        0        1        1        1        0\n",
              " 15        0        0        1        1        1        1\n",
              " 16        0        1        0        0        0        0\n",
              " 17        0        1        0        0        0        1\n",
              " 18        0        1        0        0        1        0\n",
              " 19        0        1        0        0        1        1\n",
              " 20        0        1        0        1        0        0\n",
              " 21        0        1        0        1        0        1\n",
              " 22        0        1        0        1        1        0\n",
              " 23        0        1        0        1        1        1\n",
              " 24        0        1        1        0        0        0\n",
              " 25        0        1        1        0        0        1\n",
              " 26        0        1        1        0        1        0\n",
              " 27        0        1        1        0        1        1\n",
              " 28        0        1        1        1        0        0\n",
              " 29        0        1        1        1        0        1\n",
              " 30        0        1        1        1        1        0\n",
              " 31        0        1        1        1        1        1\n",
              " 32        1        0        0        0        0        0\n",
              " 33        1        0        0        0        0        1\n",
              " 34        1        0        0        0        1        0\n",
              " 35        1        0        0        0        1        1\n",
              " 36        1        0        0        1        0        0\n",
              " 37        1        0        0        1        0        1\n",
              " 38        1        0        0        1        1        0\n",
              " 39        1        0        0        1        1        1\n",
              " 40        1        0        1        0        0        0\n",
              "-1         0        0        0        0        0        0\n",
              "-2         0        0        0        0        0        0}])"
            ]
          },
          "execution_count": 119,
          "metadata": {},
          "output_type": "execute_result"
        }
      ],
      "source": [
        "BinEnc.fit(features_train)"
      ]
    },
    {
      "cell_type": "code",
      "execution_count": null,
      "id": "947b5844",
      "metadata": {
        "id": "947b5844"
      },
      "outputs": [],
      "source": [
        "features_train = BinEnc.transform(features_train)\n",
        "features_test = BinEnc.transform(features_test)\n"
      ]
    },
    {
      "cell_type": "code",
      "execution_count": null,
      "id": "b5c97149",
      "metadata": {
        "id": "b5c97149"
      },
      "outputs": [],
      "source": [
        "#  с помощью библиотеки optuna\n",
        "#  подберем лучшие гиперпараметры\n",
        "def objective(trial):\n",
        "#\n",
        "    clf_name = trial.suggest_categorical('regressor',['RandomForest'])\n",
        "    if clf_name == 'RandomForest':\n",
        "        max_depth = trial.suggest_int('max_depth',5,25)\n",
        "        n_estimators = trial.suggest_int('n_estimators',50,200)\n",
        "        clf_obj = RandomForestRegressor(max_depth=max_depth,\n",
        "                                        n_estimators=n_estimators,\n",
        "                                        random_state=rs)\n",
        "\n",
        "    clf_obj.fit(features_train,target_train)\n",
        "    score = mean_squared_error(target_test,clf_obj.predict(features_test),squared=False)\n",
        "    RMSE = score.mean()\n",
        "    return RMSE\n",
        "\n"
      ]
    },
    {
      "cell_type": "code",
      "execution_count": null,
      "id": "58210e70",
      "metadata": {
        "id": "58210e70"
      },
      "outputs": [],
      "source": [
        "# np.random.seed(7)\n",
        "# if __name__ == '__main__':\n",
        "#     study = optuna.create_study(direction='minimize')\n",
        "#     study.optimize(objective, n_trials =100)\n",
        "#     print(study.best_trial)"
      ]
    },
    {
      "cell_type": "code",
      "execution_count": null,
      "id": "59f27bce",
      "metadata": {
        "id": "59f27bce"
      },
      "outputs": [],
      "source": [
        "# print(study.best_trial)"
      ]
    },
    {
      "cell_type": "code",
      "execution_count": null,
      "id": "03d911b2",
      "metadata": {
        "id": "03d911b2"
      },
      "outputs": [],
      "source": [
        "# обозначаем признаки и таргет для случайного леса\n",
        "features = catlightgbm_df.drop('price',axis=1)\n",
        "target = catlightgbm_df.price"
      ]
    },
    {
      "cell_type": "code",
      "execution_count": null,
      "id": "487192bc",
      "metadata": {
        "id": "487192bc"
      },
      "outputs": [],
      "source": [
        "# проделываем замену типов слбцов, чтобы воспользоваться встроенными\n",
        "# алгоритмами кодирования\n",
        "for col in features.select_dtypes(include=['object']):\n",
        "    features[col] = features[col].astype('category')"
      ]
    },
    {
      "cell_type": "code",
      "execution_count": null,
      "id": "c41acc97",
      "metadata": {
        "id": "c41acc97"
      },
      "outputs": [],
      "source": [
        "rs=7\n"
      ]
    },
    {
      "cell_type": "code",
      "execution_count": null,
      "id": "5eaa5d0e",
      "metadata": {
        "id": "5eaa5d0e",
        "outputId": "1a95dafe-9eab-4bcd-f3c1-874453137c54"
      },
      "outputs": [
        {
          "data": {
            "text/html": [
              "<div>\n",
              "<style scoped>\n",
              "    .dataframe tbody tr th:only-of-type {\n",
              "        vertical-align: middle;\n",
              "    }\n",
              "\n",
              "    .dataframe tbody tr th {\n",
              "        vertical-align: top;\n",
              "    }\n",
              "\n",
              "    .dataframe thead th {\n",
              "        text-align: right;\n",
              "    }\n",
              "</style>\n",
              "<table border=\"1\" class=\"dataframe\">\n",
              "  <thead>\n",
              "    <tr style=\"text-align: right;\">\n",
              "      <th></th>\n",
              "      <th>vehicle_type</th>\n",
              "      <th>registration_year</th>\n",
              "      <th>gearbox</th>\n",
              "      <th>power</th>\n",
              "      <th>model</th>\n",
              "      <th>kilometer</th>\n",
              "      <th>registration_month</th>\n",
              "      <th>fuel_type</th>\n",
              "      <th>brand</th>\n",
              "      <th>repaired</th>\n",
              "    </tr>\n",
              "  </thead>\n",
              "  <tbody>\n",
              "    <tr>\n",
              "      <th>0</th>\n",
              "      <td>coupe</td>\n",
              "      <td>2011</td>\n",
              "      <td>manual</td>\n",
              "      <td>190</td>\n",
              "      <td>other</td>\n",
              "      <td>125000</td>\n",
              "      <td>5</td>\n",
              "      <td>gasoline</td>\n",
              "      <td>audi</td>\n",
              "      <td>1</td>\n",
              "    </tr>\n",
              "    <tr>\n",
              "      <th>1</th>\n",
              "      <td>suv</td>\n",
              "      <td>2004</td>\n",
              "      <td>auto</td>\n",
              "      <td>163</td>\n",
              "      <td>grand</td>\n",
              "      <td>125000</td>\n",
              "      <td>8</td>\n",
              "      <td>gasoline</td>\n",
              "      <td>jeep</td>\n",
              "      <td>0</td>\n",
              "    </tr>\n",
              "    <tr>\n",
              "      <th>2</th>\n",
              "      <td>small</td>\n",
              "      <td>2001</td>\n",
              "      <td>manual</td>\n",
              "      <td>75</td>\n",
              "      <td>golf</td>\n",
              "      <td>150000</td>\n",
              "      <td>6</td>\n",
              "      <td>petrol</td>\n",
              "      <td>volkswagen</td>\n",
              "      <td>0</td>\n",
              "    </tr>\n",
              "    <tr>\n",
              "      <th>3</th>\n",
              "      <td>small</td>\n",
              "      <td>2008</td>\n",
              "      <td>manual</td>\n",
              "      <td>69</td>\n",
              "      <td>fabia</td>\n",
              "      <td>90000</td>\n",
              "      <td>7</td>\n",
              "      <td>gasoline</td>\n",
              "      <td>skoda</td>\n",
              "      <td>0</td>\n",
              "    </tr>\n",
              "    <tr>\n",
              "      <th>4</th>\n",
              "      <td>sedan</td>\n",
              "      <td>1995</td>\n",
              "      <td>manual</td>\n",
              "      <td>102</td>\n",
              "      <td>3er</td>\n",
              "      <td>150000</td>\n",
              "      <td>10</td>\n",
              "      <td>petrol</td>\n",
              "      <td>bmw</td>\n",
              "      <td>1</td>\n",
              "    </tr>\n",
              "    <tr>\n",
              "      <th>...</th>\n",
              "      <td>...</td>\n",
              "      <td>...</td>\n",
              "      <td>...</td>\n",
              "      <td>...</td>\n",
              "      <td>...</td>\n",
              "      <td>...</td>\n",
              "      <td>...</td>\n",
              "      <td>...</td>\n",
              "      <td>...</td>\n",
              "      <td>...</td>\n",
              "    </tr>\n",
              "    <tr>\n",
              "      <th>287073</th>\n",
              "      <td>other</td>\n",
              "      <td>2016</td>\n",
              "      <td>auto</td>\n",
              "      <td>150</td>\n",
              "      <td>159</td>\n",
              "      <td>150000</td>\n",
              "      <td>12</td>\n",
              "      <td>other</td>\n",
              "      <td>alfa_romeo</td>\n",
              "      <td>0</td>\n",
              "    </tr>\n",
              "    <tr>\n",
              "      <th>287074</th>\n",
              "      <td>sedan</td>\n",
              "      <td>2004</td>\n",
              "      <td>manual</td>\n",
              "      <td>225</td>\n",
              "      <td>leon</td>\n",
              "      <td>150000</td>\n",
              "      <td>5</td>\n",
              "      <td>petrol</td>\n",
              "      <td>seat</td>\n",
              "      <td>1</td>\n",
              "    </tr>\n",
              "    <tr>\n",
              "      <th>287075</th>\n",
              "      <td>convertible</td>\n",
              "      <td>2000</td>\n",
              "      <td>auto</td>\n",
              "      <td>101</td>\n",
              "      <td>fortwo</td>\n",
              "      <td>125000</td>\n",
              "      <td>3</td>\n",
              "      <td>petrol</td>\n",
              "      <td>smart</td>\n",
              "      <td>0</td>\n",
              "    </tr>\n",
              "    <tr>\n",
              "      <th>287076</th>\n",
              "      <td>bus</td>\n",
              "      <td>1996</td>\n",
              "      <td>manual</td>\n",
              "      <td>102</td>\n",
              "      <td>transporter</td>\n",
              "      <td>150000</td>\n",
              "      <td>3</td>\n",
              "      <td>gasoline</td>\n",
              "      <td>volkswagen</td>\n",
              "      <td>0</td>\n",
              "    </tr>\n",
              "    <tr>\n",
              "      <th>287077</th>\n",
              "      <td>wagon</td>\n",
              "      <td>2002</td>\n",
              "      <td>manual</td>\n",
              "      <td>100</td>\n",
              "      <td>golf</td>\n",
              "      <td>150000</td>\n",
              "      <td>6</td>\n",
              "      <td>gasoline</td>\n",
              "      <td>volkswagen</td>\n",
              "      <td>0</td>\n",
              "    </tr>\n",
              "  </tbody>\n",
              "</table>\n",
              "<p>287078 rows × 10 columns</p>\n",
              "</div>"
            ],
            "text/plain": [
              "       vehicle_type  registration_year gearbox  power        model  kilometer  \\\n",
              "0             coupe               2011  manual    190        other     125000   \n",
              "1               suv               2004    auto    163        grand     125000   \n",
              "2             small               2001  manual     75         golf     150000   \n",
              "3             small               2008  manual     69        fabia      90000   \n",
              "4             sedan               1995  manual    102          3er     150000   \n",
              "...             ...                ...     ...    ...          ...        ...   \n",
              "287073        other               2016    auto    150          159     150000   \n",
              "287074        sedan               2004  manual    225         leon     150000   \n",
              "287075  convertible               2000    auto    101       fortwo     125000   \n",
              "287076          bus               1996  manual    102  transporter     150000   \n",
              "287077        wagon               2002  manual    100         golf     150000   \n",
              "\n",
              "        registration_month fuel_type       brand  repaired  \n",
              "0                        5  gasoline        audi         1  \n",
              "1                        8  gasoline        jeep         0  \n",
              "2                        6    petrol  volkswagen         0  \n",
              "3                        7  gasoline       skoda         0  \n",
              "4                       10    petrol         bmw         1  \n",
              "...                    ...       ...         ...       ...  \n",
              "287073                  12     other  alfa_romeo         0  \n",
              "287074                   5    petrol        seat         1  \n",
              "287075                   3    petrol       smart         0  \n",
              "287076                   3  gasoline  volkswagen         0  \n",
              "287077                   6  gasoline  volkswagen         0  \n",
              "\n",
              "[287078 rows x 10 columns]"
            ]
          },
          "execution_count": 127,
          "metadata": {},
          "output_type": "execute_result"
        }
      ],
      "source": [
        "features\n"
      ]
    },
    {
      "cell_type": "code",
      "execution_count": null,
      "id": "80fe2a44",
      "metadata": {
        "id": "80fe2a44"
      },
      "outputs": [],
      "source": [
        "categorical_features=list(features.select_dtypes(include='category').columns)"
      ]
    },
    {
      "cell_type": "code",
      "execution_count": null,
      "id": "6017a6c5",
      "metadata": {
        "id": "6017a6c5"
      },
      "outputs": [],
      "source": [
        "# делим на тренировочные и тестовые\n",
        "features_train_catgbm,features_tv_catgbm,target_train_catgbm,target_tv_catgbm=train_test_split(features,target,test_size=0.4,random_state=rs)\n",
        "\n"
      ]
    },
    {
      "cell_type": "code",
      "execution_count": null,
      "id": "c705d81d",
      "metadata": {
        "id": "c705d81d"
      },
      "outputs": [],
      "source": [
        "# делим на тренировочные и тестовые\n",
        "features_valid_catgbm,features_test_catgbm,target_valid_catgbm,target_test_catgbm=train_test_split(features_tv_catgbm,\n",
        "                                                                                                   target_tv_catgbm,\n",
        "                                                                                                   test_size=0.4,\n",
        "                                                                                                   random_state=rs)\n",
        "\n"
      ]
    },
    {
      "cell_type": "code",
      "execution_count": null,
      "id": "bd73d784",
      "metadata": {
        "id": "bd73d784"
      },
      "outputs": [],
      "source": [
        "def objective(trial):\n",
        "    clf_name = trial.suggest_categorical('regressor',['CatBoost','LGBMRegressor'])\n",
        "    if clf_name == 'CatBoost':\n",
        "        depth = trial.suggest_int('depth',5,12)\n",
        "        iterations = trial.suggest_int('iterations',150,200)\n",
        "#         learning_rate = trial.suggest_int('learning_rate',0.01,0.15)\n",
        "        clf_obj =CatBoostRegressor(depth=depth,\n",
        "                                   iterations=iterations,\n",
        "                                  cat_features=categorical_features)\n",
        "    if clf_name == 'LGBMRegressor':\n",
        "        n_estimators =trial.suggest_int('n_estimators',100,200)\n",
        "        reg_alpha = trial.suggest_int('n_estimators',100,200)\n",
        "        reg_lambda = trial.suggest_int('n_estimators',100,200)\n",
        "        clf_obj =LGBMRegressor(objective='regression',\n",
        "                               n_estimators=n_estimators,\n",
        "                               boosting_type='gbdt')\n",
        "    clf_obj.fit(features_train_catgbm,target_train_catgbm)\n",
        "    score = mean_squared_error(target_test_catgbm,clf_obj.predict(features_test_catgbm),squared=False)\n",
        "    RMSE = score.mean()\n",
        "    return RMSE"
      ]
    },
    {
      "cell_type": "code",
      "execution_count": null,
      "id": "3427c059",
      "metadata": {
        "id": "3427c059"
      },
      "outputs": [],
      "source": [
        "# np.random.seed(7)\n",
        "# if __name__ == '__main__':\n",
        "#     study = optuna.create_study(direction='minimize')\n",
        "#     study.optimize(objective, n_trials =100)\n",
        "#     print(study.best_trial)"
      ]
    },
    {
      "cell_type": "code",
      "execution_count": null,
      "id": "236c6993",
      "metadata": {
        "id": "236c6993"
      },
      "outputs": [],
      "source": [
        "# print(study.best_trial)"
      ]
    },
    {
      "cell_type": "markdown",
      "id": "6aac1ea6",
      "metadata": {
        "id": "6aac1ea6"
      },
      "source": [
        "**Лучшая модель:**\n",
        "\n",
        "RMSE values=[1670.2254073363097],  params={'regressor': 'CatBoost', 'depth': 10, 'iterations': 200}\n",
        "\n",
        "\n",
        "\n",
        "\n",
        "FrozenTrial(number=15, values=[1670.2254073363097], datetime_start=datetime.datetime(2023, 3, 2, 19, 10, 27, 552168), datetime_complete=datetime.datetime(2023, 3, 2, 19, 10, 33, 746160), params={'regressor': 'CatBoost', 'depth': 10, 'iterations': 200}, distributions={'regressor': CategoricalDistribution(choices=('RandomForest', 'CatBoost', 'LGBMRegressor')), 'depth': IntDistribution(high=12, log=False, low=5, step=1), 'iterations': IntDistribution(high=200, log=False, low=150, step=1)}, user_attrs={}, system_attrs={}, intermediate_values={}, trial_id=15, state=TrialState.COMPLETE, value=None)"
      ]
    },
    {
      "cell_type": "markdown",
      "id": "42e06fa6",
      "metadata": {
        "id": "42e06fa6"
      },
      "source": [
        "\n",
        "## Обучение моделей"
      ]
    },
    {
      "cell_type": "markdown",
      "id": "57a3ece2",
      "metadata": {
        "id": "57a3ece2"
      },
      "source": [
        "### Catboost- лучшая модель"
      ]
    },
    {
      "cell_type": "code",
      "execution_count": null,
      "id": "66421650",
      "metadata": {
        "scrolled": true,
        "id": "66421650",
        "outputId": "ee45c628-fb9f-411c-cd15-1ee359889c34"
      },
      "outputs": [
        {
          "name": "stdout",
          "output_type": "stream",
          "text": [
            "Learning rate set to 0.341786\n",
            "0:\tlearn: 3510.2597350\ttotal: 411ms\tremaining: 1m 21s\n",
            "1:\tlearn: 2847.2378287\ttotal: 742ms\tremaining: 1m 13s\n",
            "2:\tlearn: 2444.8267227\ttotal: 1.04s\tremaining: 1m 8s\n",
            "3:\tlearn: 2199.7754961\ttotal: 1.31s\tremaining: 1m 4s\n",
            "4:\tlearn: 2056.8487500\ttotal: 1.57s\tremaining: 1m 1s\n",
            "5:\tlearn: 1967.0885889\ttotal: 1.83s\tremaining: 59.1s\n",
            "6:\tlearn: 1913.2019559\ttotal: 2.08s\tremaining: 57.3s\n",
            "7:\tlearn: 1876.6806461\ttotal: 2.34s\tremaining: 56.2s\n",
            "8:\tlearn: 1852.3080797\ttotal: 2.53s\tremaining: 53.7s\n",
            "9:\tlearn: 1831.3192693\ttotal: 2.77s\tremaining: 52.6s\n",
            "10:\tlearn: 1815.5604145\ttotal: 3.01s\tremaining: 51.7s\n",
            "11:\tlearn: 1793.3065528\ttotal: 3.24s\tremaining: 50.7s\n",
            "12:\tlearn: 1782.0826460\ttotal: 3.43s\tremaining: 49.3s\n",
            "13:\tlearn: 1762.9035892\ttotal: 3.64s\tremaining: 48.4s\n",
            "14:\tlearn: 1754.4641608\ttotal: 3.87s\tremaining: 47.7s\n",
            "15:\tlearn: 1745.1833900\ttotal: 4.08s\tremaining: 46.9s\n",
            "16:\tlearn: 1738.0213398\ttotal: 4.32s\tremaining: 46.5s\n",
            "17:\tlearn: 1733.2174613\ttotal: 4.57s\tremaining: 46.2s\n",
            "18:\tlearn: 1724.4069438\ttotal: 4.79s\tremaining: 45.7s\n",
            "19:\tlearn: 1716.3000529\ttotal: 4.99s\tremaining: 44.9s\n",
            "20:\tlearn: 1712.8858848\ttotal: 5.2s\tremaining: 44.3s\n",
            "21:\tlearn: 1707.1326803\ttotal: 5.44s\tremaining: 44s\n",
            "22:\tlearn: 1698.4871247\ttotal: 5.68s\tremaining: 43.7s\n",
            "23:\tlearn: 1694.3360456\ttotal: 5.87s\tremaining: 43s\n",
            "24:\tlearn: 1689.3856258\ttotal: 6.06s\tremaining: 42.4s\n",
            "25:\tlearn: 1683.7810070\ttotal: 6.27s\tremaining: 42s\n",
            "26:\tlearn: 1681.5028107\ttotal: 6.52s\tremaining: 41.8s\n",
            "27:\tlearn: 1676.7497471\ttotal: 6.77s\tremaining: 41.6s\n",
            "28:\tlearn: 1673.4742778\ttotal: 7.02s\tremaining: 41.4s\n",
            "29:\tlearn: 1666.5485671\ttotal: 7.24s\tremaining: 41s\n",
            "30:\tlearn: 1664.0666336\ttotal: 7.51s\tremaining: 41s\n",
            "31:\tlearn: 1662.0314432\ttotal: 7.74s\tremaining: 40.6s\n",
            "32:\tlearn: 1657.5218722\ttotal: 8.03s\tremaining: 40.6s\n",
            "33:\tlearn: 1652.6152987\ttotal: 8.26s\tremaining: 40.3s\n",
            "34:\tlearn: 1648.6444450\ttotal: 8.48s\tremaining: 40s\n",
            "35:\tlearn: 1646.6632328\ttotal: 8.72s\tremaining: 39.7s\n",
            "36:\tlearn: 1645.0048446\ttotal: 8.98s\tremaining: 39.5s\n",
            "37:\tlearn: 1643.1282219\ttotal: 9.25s\tremaining: 39.4s\n",
            "38:\tlearn: 1640.1823586\ttotal: 9.49s\tremaining: 39.2s\n",
            "39:\tlearn: 1634.7011981\ttotal: 9.73s\tremaining: 38.9s\n",
            "40:\tlearn: 1632.6102407\ttotal: 9.98s\tremaining: 38.7s\n",
            "41:\tlearn: 1630.2931726\ttotal: 10.2s\tremaining: 38.4s\n",
            "42:\tlearn: 1627.5264524\ttotal: 10.4s\tremaining: 38s\n",
            "43:\tlearn: 1624.9512864\ttotal: 10.7s\tremaining: 37.8s\n",
            "44:\tlearn: 1623.1033106\ttotal: 10.9s\tremaining: 37.5s\n",
            "45:\tlearn: 1620.6809944\ttotal: 11.1s\tremaining: 37.2s\n",
            "46:\tlearn: 1619.4479903\ttotal: 11.4s\tremaining: 37s\n",
            "47:\tlearn: 1616.7478562\ttotal: 11.6s\tremaining: 36.8s\n",
            "48:\tlearn: 1613.4499161\ttotal: 11.8s\tremaining: 36.5s\n",
            "49:\tlearn: 1610.7472774\ttotal: 12.1s\tremaining: 36.4s\n",
            "50:\tlearn: 1608.3100914\ttotal: 12.3s\tremaining: 36s\n",
            "51:\tlearn: 1605.2933582\ttotal: 12.6s\tremaining: 35.8s\n",
            "52:\tlearn: 1603.1009618\ttotal: 12.8s\tremaining: 35.5s\n",
            "53:\tlearn: 1599.9276709\ttotal: 13.1s\tremaining: 35.3s\n",
            "54:\tlearn: 1596.4525469\ttotal: 13.3s\tremaining: 35s\n",
            "55:\tlearn: 1592.5409212\ttotal: 13.5s\tremaining: 34.7s\n",
            "56:\tlearn: 1588.9524241\ttotal: 13.7s\tremaining: 34.5s\n",
            "57:\tlearn: 1588.1329667\ttotal: 14s\tremaining: 34.3s\n",
            "58:\tlearn: 1587.3360095\ttotal: 14.3s\tremaining: 34.2s\n",
            "59:\tlearn: 1585.2608462\ttotal: 14.6s\tremaining: 34s\n",
            "60:\tlearn: 1583.5787006\ttotal: 14.8s\tremaining: 33.8s\n",
            "61:\tlearn: 1580.7315497\ttotal: 15.1s\tremaining: 33.6s\n",
            "62:\tlearn: 1577.4182470\ttotal: 15.3s\tremaining: 33.3s\n",
            "63:\tlearn: 1575.1706054\ttotal: 15.6s\tremaining: 33.1s\n",
            "64:\tlearn: 1573.1620191\ttotal: 15.8s\tremaining: 32.9s\n",
            "65:\tlearn: 1570.4727376\ttotal: 16.1s\tremaining: 32.7s\n",
            "66:\tlearn: 1569.1196424\ttotal: 16.4s\tremaining: 32.5s\n",
            "67:\tlearn: 1567.4565172\ttotal: 16.6s\tremaining: 32.2s\n",
            "68:\tlearn: 1565.7135776\ttotal: 16.8s\tremaining: 31.9s\n",
            "69:\tlearn: 1562.9619692\ttotal: 17.1s\tremaining: 31.7s\n",
            "70:\tlearn: 1559.3875327\ttotal: 17.4s\tremaining: 31.5s\n",
            "71:\tlearn: 1558.8181468\ttotal: 17.7s\tremaining: 31.4s\n",
            "72:\tlearn: 1557.0699136\ttotal: 17.9s\tremaining: 31.1s\n",
            "73:\tlearn: 1554.9881288\ttotal: 18.1s\tremaining: 30.8s\n",
            "74:\tlearn: 1552.9956862\ttotal: 18.4s\tremaining: 30.6s\n",
            "75:\tlearn: 1551.1358779\ttotal: 18.6s\tremaining: 30.3s\n",
            "76:\tlearn: 1549.7939614\ttotal: 18.9s\tremaining: 30.2s\n",
            "77:\tlearn: 1547.9486910\ttotal: 19.1s\tremaining: 29.9s\n",
            "78:\tlearn: 1547.5153040\ttotal: 19.4s\tremaining: 29.7s\n",
            "79:\tlearn: 1545.5819994\ttotal: 19.7s\tremaining: 29.5s\n",
            "80:\tlearn: 1544.4208333\ttotal: 19.9s\tremaining: 29.2s\n",
            "81:\tlearn: 1542.4524060\ttotal: 20.1s\tremaining: 29s\n",
            "82:\tlearn: 1541.2749046\ttotal: 20.4s\tremaining: 28.7s\n",
            "83:\tlearn: 1540.4878143\ttotal: 20.6s\tremaining: 28.4s\n",
            "84:\tlearn: 1539.4654404\ttotal: 20.8s\tremaining: 28.2s\n",
            "85:\tlearn: 1537.8273146\ttotal: 21.1s\tremaining: 27.9s\n",
            "86:\tlearn: 1535.8689329\ttotal: 21.3s\tremaining: 27.6s\n",
            "87:\tlearn: 1533.7682386\ttotal: 21.5s\tremaining: 27.4s\n",
            "88:\tlearn: 1531.6027833\ttotal: 21.8s\tremaining: 27.1s\n",
            "89:\tlearn: 1530.8468632\ttotal: 22.1s\tremaining: 27s\n",
            "90:\tlearn: 1530.0989795\ttotal: 22.3s\tremaining: 26.7s\n",
            "91:\tlearn: 1527.9519210\ttotal: 22.6s\tremaining: 26.5s\n",
            "92:\tlearn: 1526.9510237\ttotal: 22.8s\tremaining: 26.3s\n",
            "93:\tlearn: 1525.6145445\ttotal: 23.1s\tremaining: 26s\n",
            "94:\tlearn: 1521.1455220\ttotal: 23.4s\tremaining: 25.9s\n",
            "95:\tlearn: 1520.3650949\ttotal: 23.7s\tremaining: 25.6s\n",
            "96:\tlearn: 1518.7332571\ttotal: 23.9s\tremaining: 25.4s\n",
            "97:\tlearn: 1515.5548552\ttotal: 24.2s\tremaining: 25.2s\n",
            "98:\tlearn: 1514.6693527\ttotal: 24.4s\tremaining: 24.9s\n",
            "99:\tlearn: 1512.9905923\ttotal: 24.8s\tremaining: 24.8s\n",
            "100:\tlearn: 1512.2617945\ttotal: 25s\tremaining: 24.5s\n",
            "101:\tlearn: 1510.8706857\ttotal: 25.3s\tremaining: 24.3s\n",
            "102:\tlearn: 1508.1832406\ttotal: 25.5s\tremaining: 24s\n",
            "103:\tlearn: 1507.1060588\ttotal: 25.8s\tremaining: 23.8s\n",
            "104:\tlearn: 1505.8075061\ttotal: 26s\tremaining: 23.5s\n",
            "105:\tlearn: 1504.7536522\ttotal: 26.2s\tremaining: 23.2s\n",
            "106:\tlearn: 1503.3633079\ttotal: 26.4s\tremaining: 23s\n",
            "107:\tlearn: 1502.6831229\ttotal: 26.7s\tremaining: 22.8s\n",
            "108:\tlearn: 1501.1575389\ttotal: 27s\tremaining: 22.5s\n",
            "109:\tlearn: 1499.9211918\ttotal: 27.3s\tremaining: 22.3s\n",
            "110:\tlearn: 1497.7964197\ttotal: 27.5s\tremaining: 22.1s\n",
            "111:\tlearn: 1496.5082553\ttotal: 27.8s\tremaining: 21.9s\n",
            "112:\tlearn: 1494.7010739\ttotal: 28.1s\tremaining: 21.6s\n",
            "113:\tlearn: 1493.6899690\ttotal: 28.4s\tremaining: 21.4s\n",
            "114:\tlearn: 1492.7663518\ttotal: 28.7s\tremaining: 21.2s\n",
            "115:\tlearn: 1492.5733877\ttotal: 29s\tremaining: 21s\n",
            "116:\tlearn: 1490.9684780\ttotal: 29.3s\tremaining: 20.8s\n",
            "117:\tlearn: 1490.8029523\ttotal: 29.5s\tremaining: 20.5s\n",
            "118:\tlearn: 1488.6706560\ttotal: 29.7s\tremaining: 20.2s\n",
            "119:\tlearn: 1487.3358362\ttotal: 30s\tremaining: 20s\n",
            "120:\tlearn: 1486.7010440\ttotal: 30.3s\tremaining: 19.8s\n",
            "121:\tlearn: 1486.4217814\ttotal: 30.6s\tremaining: 19.6s\n",
            "122:\tlearn: 1485.8823321\ttotal: 30.8s\tremaining: 19.3s\n",
            "123:\tlearn: 1485.5001826\ttotal: 31.1s\tremaining: 19s\n",
            "124:\tlearn: 1484.5564348\ttotal: 31.3s\tremaining: 18.8s\n",
            "125:\tlearn: 1483.3275002\ttotal: 31.5s\tremaining: 18.5s\n",
            "126:\tlearn: 1482.2839681\ttotal: 31.8s\tremaining: 18.3s\n",
            "127:\tlearn: 1479.9604288\ttotal: 32s\tremaining: 18s\n",
            "128:\tlearn: 1479.1471023\ttotal: 32.3s\tremaining: 17.8s\n",
            "129:\tlearn: 1477.2654432\ttotal: 32.5s\tremaining: 17.5s\n",
            "130:\tlearn: 1476.4183624\ttotal: 32.8s\tremaining: 17.3s\n",
            "131:\tlearn: 1475.1904883\ttotal: 33s\tremaining: 17s\n",
            "132:\tlearn: 1474.0012151\ttotal: 33.3s\tremaining: 16.8s\n",
            "133:\tlearn: 1472.9785707\ttotal: 33.6s\tremaining: 16.5s\n",
            "134:\tlearn: 1471.8567676\ttotal: 33.8s\tremaining: 16.3s\n",
            "135:\tlearn: 1469.9291192\ttotal: 34s\tremaining: 16s\n",
            "136:\tlearn: 1468.2964127\ttotal: 34.2s\tremaining: 15.7s\n",
            "137:\tlearn: 1467.6629108\ttotal: 34.5s\tremaining: 15.5s\n",
            "138:\tlearn: 1466.8642042\ttotal: 34.7s\tremaining: 15.2s\n",
            "139:\tlearn: 1465.8387399\ttotal: 35s\tremaining: 15s\n",
            "140:\tlearn: 1465.4950393\ttotal: 35.3s\tremaining: 14.8s\n",
            "141:\tlearn: 1464.9391646\ttotal: 35.5s\tremaining: 14.5s\n",
            "142:\tlearn: 1464.3974647\ttotal: 35.8s\tremaining: 14.3s\n",
            "143:\tlearn: 1463.2060861\ttotal: 36s\tremaining: 14s\n",
            "144:\tlearn: 1462.5188385\ttotal: 36.3s\tremaining: 13.8s\n",
            "145:\tlearn: 1461.5570607\ttotal: 36.5s\tremaining: 13.5s\n",
            "146:\tlearn: 1460.2239117\ttotal: 36.7s\tremaining: 13.2s\n",
            "147:\tlearn: 1458.6312999\ttotal: 37s\tremaining: 13s\n",
            "148:\tlearn: 1458.2332368\ttotal: 37.2s\tremaining: 12.7s\n",
            "149:\tlearn: 1457.2455160\ttotal: 37.6s\tremaining: 12.5s\n",
            "150:\tlearn: 1457.0614726\ttotal: 37.9s\tremaining: 12.3s\n",
            "151:\tlearn: 1455.8250352\ttotal: 38.2s\tremaining: 12.1s\n",
            "152:\tlearn: 1454.9525030\ttotal: 38.4s\tremaining: 11.8s\n",
            "153:\tlearn: 1454.0525929\ttotal: 38.7s\tremaining: 11.6s\n",
            "154:\tlearn: 1453.0277669\ttotal: 39s\tremaining: 11.3s\n",
            "155:\tlearn: 1452.5097245\ttotal: 39.3s\tremaining: 11.1s\n",
            "156:\tlearn: 1451.6446695\ttotal: 39.6s\tremaining: 10.9s\n",
            "157:\tlearn: 1451.1717541\ttotal: 39.9s\tremaining: 10.6s\n",
            "158:\tlearn: 1450.5703788\ttotal: 40.2s\tremaining: 10.4s\n",
            "159:\tlearn: 1449.0646291\ttotal: 40.4s\tremaining: 10.1s\n",
            "160:\tlearn: 1448.7358447\ttotal: 40.7s\tremaining: 9.85s\n",
            "161:\tlearn: 1448.4855328\ttotal: 41s\tremaining: 9.62s\n",
            "162:\tlearn: 1447.3254541\ttotal: 41.2s\tremaining: 9.36s\n",
            "163:\tlearn: 1446.5276867\ttotal: 41.5s\tremaining: 9.11s\n",
            "164:\tlearn: 1445.5398424\ttotal: 41.7s\tremaining: 8.85s\n",
            "165:\tlearn: 1444.7695653\ttotal: 42s\tremaining: 8.6s\n",
            "166:\tlearn: 1443.3769280\ttotal: 42.3s\tremaining: 8.36s\n",
            "167:\tlearn: 1441.7064729\ttotal: 42.5s\tremaining: 8.1s\n",
            "168:\tlearn: 1440.3332590\ttotal: 42.8s\tremaining: 7.85s\n",
            "169:\tlearn: 1439.7585327\ttotal: 43s\tremaining: 7.59s\n",
            "170:\tlearn: 1438.6726160\ttotal: 43.3s\tremaining: 7.33s\n",
            "171:\tlearn: 1437.0087660\ttotal: 43.5s\tremaining: 7.08s\n",
            "172:\tlearn: 1436.4502280\ttotal: 43.8s\tremaining: 6.83s\n",
            "173:\tlearn: 1435.7787623\ttotal: 44s\tremaining: 6.58s\n",
            "174:\tlearn: 1434.9742084\ttotal: 44.3s\tremaining: 6.33s\n",
            "175:\tlearn: 1433.7705001\ttotal: 44.6s\tremaining: 6.08s\n",
            "176:\tlearn: 1432.3115041\ttotal: 44.8s\tremaining: 5.83s\n",
            "177:\tlearn: 1430.9377808\ttotal: 45.1s\tremaining: 5.58s\n",
            "178:\tlearn: 1430.0221410\ttotal: 45.3s\tremaining: 5.32s\n",
            "179:\tlearn: 1429.2403719\ttotal: 45.6s\tremaining: 5.06s\n",
            "180:\tlearn: 1428.0335116\ttotal: 45.8s\tremaining: 4.81s\n",
            "181:\tlearn: 1426.8788040\ttotal: 46.1s\tremaining: 4.56s\n",
            "182:\tlearn: 1426.0234435\ttotal: 46.3s\tremaining: 4.3s\n",
            "183:\tlearn: 1425.4467728\ttotal: 46.5s\tremaining: 4.05s\n",
            "184:\tlearn: 1424.9587250\ttotal: 46.8s\tremaining: 3.8s\n",
            "185:\tlearn: 1424.3393448\ttotal: 47.1s\tremaining: 3.55s\n",
            "186:\tlearn: 1423.2536562\ttotal: 47.4s\tremaining: 3.29s\n",
            "187:\tlearn: 1422.2976531\ttotal: 47.7s\tremaining: 3.04s\n",
            "188:\tlearn: 1421.7827711\ttotal: 47.9s\tremaining: 2.79s\n",
            "189:\tlearn: 1420.9557484\ttotal: 48.2s\tremaining: 2.54s\n",
            "190:\tlearn: 1419.8422260\ttotal: 48.5s\tremaining: 2.28s\n",
            "191:\tlearn: 1418.8830664\ttotal: 48.8s\tremaining: 2.03s\n",
            "192:\tlearn: 1418.0513718\ttotal: 49.1s\tremaining: 1.78s\n",
            "193:\tlearn: 1417.2898159\ttotal: 49.3s\tremaining: 1.52s\n",
            "194:\tlearn: 1416.7636328\ttotal: 49.6s\tremaining: 1.27s\n",
            "195:\tlearn: 1416.1078797\ttotal: 49.8s\tremaining: 1.02s\n",
            "196:\tlearn: 1415.3043982\ttotal: 50.1s\tremaining: 763ms\n",
            "197:\tlearn: 1414.4138161\ttotal: 50.4s\tremaining: 509ms\n",
            "198:\tlearn: 1413.5764556\ttotal: 50.6s\tremaining: 254ms\n",
            "199:\tlearn: 1412.9572816\ttotal: 50.9s\tremaining: 0us\n",
            "CPU times: user 50.9 s, sys: 361 ms, total: 51.2 s\n",
            "Wall time: 52.2 s\n"
          ]
        },
        {
          "data": {
            "text/plain": [
              "<catboost.core.CatBoostRegressor at 0x7f108b626670>"
            ]
          },
          "execution_count": 134,
          "metadata": {},
          "output_type": "execute_result"
        }
      ],
      "source": [
        "%%time\n",
        "model=CatBoostRegressor(depth=10,iterations=200,cat_features=categorical_features)\n",
        "model.fit(features_train_catgbm,target_train_catgbm)\n"
      ]
    },
    {
      "cell_type": "code",
      "execution_count": null,
      "id": "2cd903ee",
      "metadata": {
        "id": "2cd903ee",
        "outputId": "79af0868-5929-4742-b357-a88c0ca1ff08"
      },
      "outputs": [
        {
          "name": "stdout",
          "output_type": "stream",
          "text": [
            "CPU times: user 257 ms, sys: 93 µs, total: 257 ms\n",
            "Wall time: 255 ms\n"
          ]
        }
      ],
      "source": [
        "%%time\n",
        "score = mean_squared_error(target_valid_catgbm,model.predict(features_valid_catgbm),squared=False)"
      ]
    },
    {
      "cell_type": "code",
      "execution_count": null,
      "id": "31f25af5",
      "metadata": {
        "scrolled": false,
        "id": "31f25af5",
        "outputId": "78b884eb-f817-4d8d-bf69-4cc92596c6c1"
      },
      "outputs": [
        {
          "data": {
            "text/plain": [
              "1671.5349657268462"
            ]
          },
          "execution_count": 136,
          "metadata": {},
          "output_type": "execute_result"
        }
      ],
      "source": [
        "score"
      ]
    },
    {
      "cell_type": "markdown",
      "id": "d41bde77",
      "metadata": {
        "id": "d41bde77"
      },
      "source": [
        "### LGMB"
      ]
    },
    {
      "cell_type": "code",
      "execution_count": null,
      "id": "1744d546",
      "metadata": {
        "id": "1744d546"
      },
      "outputs": [],
      "source": [
        "# Обучается долго.\n",
        "\n",
        "# model =LGBMRegressor(objective='regression',\n",
        "#                                n_estimators=100,\n",
        "#                                boosting_type='gbdt')\n",
        "# model.fit(features_train_catgbm,target_train_catgbm)"
      ]
    },
    {
      "cell_type": "code",
      "execution_count": null,
      "id": "aab63171",
      "metadata": {
        "id": "aab63171"
      },
      "outputs": [],
      "source": [
        "# # %%time\n",
        "# score = mean_squared_error(target_valid_catgbm,model.predict(features_vaid_catgbm),squared=False)"
      ]
    },
    {
      "cell_type": "code",
      "execution_count": null,
      "id": "4df22bbd",
      "metadata": {
        "scrolled": true,
        "id": "4df22bbd"
      },
      "outputs": [],
      "source": [
        "# score"
      ]
    },
    {
      "cell_type": "markdown",
      "id": "a5b886b4",
      "metadata": {
        "id": "a5b886b4"
      },
      "source": [
        "### Случайный лес"
      ]
    },
    {
      "cell_type": "code",
      "execution_count": null,
      "id": "2b47ede6",
      "metadata": {
        "id": "2b47ede6"
      },
      "outputs": [],
      "source": [
        "\n",
        "# # Обучается долго.\n",
        "\n",
        "# model = RandomForestRegressor(max_depth=23,n_estimators=188,random_state=rs)\n",
        "# model.fit(features_train,target_train)\n"
      ]
    },
    {
      "cell_type": "code",
      "execution_count": null,
      "id": "04052587",
      "metadata": {
        "scrolled": true,
        "id": "04052587"
      },
      "outputs": [],
      "source": [
        "# %%time\n",
        "# score = mean_squared_error(target_valid_catgbm,model.predict(features_vaid_catgbm),squared=False)"
      ]
    },
    {
      "cell_type": "code",
      "execution_count": null,
      "id": "ae03b3e7",
      "metadata": {
        "id": "ae03b3e7"
      },
      "outputs": [],
      "source": [
        "# score"
      ]
    },
    {
      "cell_type": "markdown",
      "id": "0573206b",
      "metadata": {
        "id": "0573206b"
      },
      "source": [
        "**ОБЩИЙ ВЫВОД:**\n",
        "\n",
        "Лучшая модель **Catboost**:\n",
        "\n",
        "* RMSE = **1671.5349657268462**\n",
        "* Время обучения = ~**1m**\n",
        "* Время предсказания = ~**312 ms**"
      ]
    }
  ],
  "metadata": {
    "ExecuteTimeLog": [
      {
        "duration": 19807,
        "start_time": "2023-03-04T04:15:51.658Z"
      },
      {
        "duration": 2924,
        "start_time": "2023-03-04T04:16:11.468Z"
      },
      {
        "duration": 0,
        "start_time": "2023-03-04T04:16:14.399Z"
      },
      {
        "duration": 0,
        "start_time": "2023-03-04T04:16:14.401Z"
      },
      {
        "duration": 0,
        "start_time": "2023-03-04T04:16:14.402Z"
      },
      {
        "duration": 0,
        "start_time": "2023-03-04T04:16:14.404Z"
      },
      {
        "duration": 0,
        "start_time": "2023-03-04T04:16:14.405Z"
      },
      {
        "duration": 0,
        "start_time": "2023-03-04T04:16:14.407Z"
      },
      {
        "duration": 0,
        "start_time": "2023-03-04T04:16:14.408Z"
      },
      {
        "duration": 0,
        "start_time": "2023-03-04T04:16:14.410Z"
      },
      {
        "duration": 0,
        "start_time": "2023-03-04T04:16:14.411Z"
      },
      {
        "duration": 0,
        "start_time": "2023-03-04T04:16:14.412Z"
      },
      {
        "duration": 0,
        "start_time": "2023-03-04T04:16:14.442Z"
      },
      {
        "duration": 0,
        "start_time": "2023-03-04T04:16:14.443Z"
      },
      {
        "duration": 0,
        "start_time": "2023-03-04T04:16:14.445Z"
      },
      {
        "duration": 0,
        "start_time": "2023-03-04T04:16:14.446Z"
      },
      {
        "duration": 0,
        "start_time": "2023-03-04T04:16:14.448Z"
      },
      {
        "duration": 0,
        "start_time": "2023-03-04T04:16:14.449Z"
      },
      {
        "duration": 0,
        "start_time": "2023-03-04T04:16:14.451Z"
      },
      {
        "duration": 0,
        "start_time": "2023-03-04T04:16:14.452Z"
      },
      {
        "duration": 0,
        "start_time": "2023-03-04T04:16:14.453Z"
      },
      {
        "duration": 0,
        "start_time": "2023-03-04T04:16:14.455Z"
      },
      {
        "duration": 0,
        "start_time": "2023-03-04T04:16:14.456Z"
      },
      {
        "duration": 0,
        "start_time": "2023-03-04T04:16:14.458Z"
      },
      {
        "duration": 0,
        "start_time": "2023-03-04T04:16:14.459Z"
      },
      {
        "duration": 0,
        "start_time": "2023-03-04T04:16:14.461Z"
      },
      {
        "duration": 0,
        "start_time": "2023-03-04T04:16:14.462Z"
      },
      {
        "duration": 0,
        "start_time": "2023-03-04T04:16:14.464Z"
      },
      {
        "duration": 0,
        "start_time": "2023-03-04T04:16:14.465Z"
      },
      {
        "duration": 0,
        "start_time": "2023-03-04T04:16:14.466Z"
      },
      {
        "duration": 0,
        "start_time": "2023-03-04T04:16:14.468Z"
      },
      {
        "duration": 0,
        "start_time": "2023-03-04T04:16:14.469Z"
      },
      {
        "duration": 0,
        "start_time": "2023-03-04T04:16:14.470Z"
      },
      {
        "duration": 0,
        "start_time": "2023-03-04T04:16:14.471Z"
      },
      {
        "duration": 0,
        "start_time": "2023-03-04T04:16:14.472Z"
      },
      {
        "duration": 0,
        "start_time": "2023-03-04T04:16:14.474Z"
      },
      {
        "duration": 0,
        "start_time": "2023-03-04T04:16:14.475Z"
      },
      {
        "duration": 0,
        "start_time": "2023-03-04T04:16:14.476Z"
      },
      {
        "duration": 0,
        "start_time": "2023-03-04T04:16:14.477Z"
      },
      {
        "duration": 0,
        "start_time": "2023-03-04T04:16:14.478Z"
      },
      {
        "duration": 0,
        "start_time": "2023-03-04T04:16:14.479Z"
      },
      {
        "duration": 0,
        "start_time": "2023-03-04T04:16:14.541Z"
      },
      {
        "duration": 0,
        "start_time": "2023-03-04T04:16:14.542Z"
      },
      {
        "duration": 0,
        "start_time": "2023-03-04T04:16:14.543Z"
      },
      {
        "duration": 0,
        "start_time": "2023-03-04T04:16:14.545Z"
      },
      {
        "duration": 0,
        "start_time": "2023-03-04T04:16:14.546Z"
      },
      {
        "duration": 0,
        "start_time": "2023-03-04T04:16:14.547Z"
      },
      {
        "duration": 0,
        "start_time": "2023-03-04T04:16:14.548Z"
      },
      {
        "duration": 0,
        "start_time": "2023-03-04T04:16:14.549Z"
      },
      {
        "duration": 0,
        "start_time": "2023-03-04T04:16:14.550Z"
      },
      {
        "duration": 0,
        "start_time": "2023-03-04T04:16:14.552Z"
      },
      {
        "duration": 0,
        "start_time": "2023-03-04T04:16:14.553Z"
      },
      {
        "duration": 0,
        "start_time": "2023-03-04T04:16:14.554Z"
      },
      {
        "duration": 0,
        "start_time": "2023-03-04T04:16:14.554Z"
      },
      {
        "duration": 0,
        "start_time": "2023-03-04T04:16:14.555Z"
      },
      {
        "duration": 0,
        "start_time": "2023-03-04T04:16:14.557Z"
      },
      {
        "duration": 0,
        "start_time": "2023-03-04T04:16:14.558Z"
      },
      {
        "duration": 0,
        "start_time": "2023-03-04T04:16:14.559Z"
      },
      {
        "duration": 0,
        "start_time": "2023-03-04T04:16:14.560Z"
      },
      {
        "duration": 0,
        "start_time": "2023-03-04T04:16:14.561Z"
      },
      {
        "duration": 0,
        "start_time": "2023-03-04T04:16:14.562Z"
      },
      {
        "duration": 0,
        "start_time": "2023-03-04T04:16:14.563Z"
      },
      {
        "duration": 0,
        "start_time": "2023-03-04T04:16:14.565Z"
      },
      {
        "duration": 1,
        "start_time": "2023-03-04T04:16:14.565Z"
      },
      {
        "duration": 0,
        "start_time": "2023-03-04T04:16:14.566Z"
      },
      {
        "duration": 0,
        "start_time": "2023-03-04T04:16:14.567Z"
      },
      {
        "duration": 0,
        "start_time": "2023-03-04T04:16:14.569Z"
      },
      {
        "duration": 0,
        "start_time": "2023-03-04T04:16:14.570Z"
      },
      {
        "duration": 0,
        "start_time": "2023-03-04T04:16:14.571Z"
      },
      {
        "duration": 0,
        "start_time": "2023-03-04T04:16:14.572Z"
      },
      {
        "duration": 0,
        "start_time": "2023-03-04T04:16:14.573Z"
      },
      {
        "duration": 0,
        "start_time": "2023-03-04T04:16:14.574Z"
      },
      {
        "duration": 0,
        "start_time": "2023-03-04T04:16:14.575Z"
      },
      {
        "duration": 0,
        "start_time": "2023-03-04T04:16:14.576Z"
      },
      {
        "duration": 0,
        "start_time": "2023-03-04T04:16:14.577Z"
      },
      {
        "duration": 0,
        "start_time": "2023-03-04T04:16:14.642Z"
      },
      {
        "duration": 0,
        "start_time": "2023-03-04T04:16:14.643Z"
      },
      {
        "duration": 0,
        "start_time": "2023-03-04T04:16:14.644Z"
      },
      {
        "duration": 0,
        "start_time": "2023-03-04T04:16:14.645Z"
      },
      {
        "duration": 0,
        "start_time": "2023-03-04T04:16:14.646Z"
      },
      {
        "duration": 0,
        "start_time": "2023-03-04T04:16:14.647Z"
      },
      {
        "duration": 0,
        "start_time": "2023-03-04T04:16:14.648Z"
      },
      {
        "duration": 0,
        "start_time": "2023-03-04T04:16:14.650Z"
      },
      {
        "duration": 0,
        "start_time": "2023-03-04T04:16:14.651Z"
      },
      {
        "duration": 0,
        "start_time": "2023-03-04T04:16:14.651Z"
      },
      {
        "duration": 0,
        "start_time": "2023-03-04T04:16:14.653Z"
      },
      {
        "duration": 1,
        "start_time": "2023-03-04T04:16:14.653Z"
      },
      {
        "duration": 0,
        "start_time": "2023-03-04T04:16:14.655Z"
      },
      {
        "duration": 0,
        "start_time": "2023-03-04T04:16:14.656Z"
      },
      {
        "duration": 0,
        "start_time": "2023-03-04T04:16:14.657Z"
      },
      {
        "duration": 0,
        "start_time": "2023-03-04T04:16:14.658Z"
      },
      {
        "duration": 0,
        "start_time": "2023-03-04T04:16:14.659Z"
      },
      {
        "duration": 0,
        "start_time": "2023-03-04T04:16:14.660Z"
      },
      {
        "duration": 0,
        "start_time": "2023-03-04T04:16:14.661Z"
      },
      {
        "duration": 0,
        "start_time": "2023-03-04T04:16:14.662Z"
      },
      {
        "duration": 0,
        "start_time": "2023-03-04T04:16:14.663Z"
      },
      {
        "duration": 0,
        "start_time": "2023-03-04T04:16:14.664Z"
      },
      {
        "duration": 0,
        "start_time": "2023-03-04T04:16:14.665Z"
      },
      {
        "duration": 0,
        "start_time": "2023-03-04T04:16:14.665Z"
      },
      {
        "duration": 0,
        "start_time": "2023-03-04T04:16:14.666Z"
      },
      {
        "duration": 0,
        "start_time": "2023-03-04T04:16:14.668Z"
      },
      {
        "duration": 0,
        "start_time": "2023-03-04T04:16:14.669Z"
      },
      {
        "duration": 0,
        "start_time": "2023-03-04T04:16:14.670Z"
      },
      {
        "duration": 0,
        "start_time": "2023-03-04T04:16:14.671Z"
      },
      {
        "duration": 0,
        "start_time": "2023-03-04T04:16:14.672Z"
      },
      {
        "duration": 0,
        "start_time": "2023-03-04T04:16:14.673Z"
      },
      {
        "duration": 0,
        "start_time": "2023-03-04T04:16:14.674Z"
      },
      {
        "duration": 0,
        "start_time": "2023-03-04T04:16:14.675Z"
      },
      {
        "duration": 0,
        "start_time": "2023-03-04T04:16:14.676Z"
      },
      {
        "duration": 0,
        "start_time": "2023-03-04T04:16:14.677Z"
      },
      {
        "duration": 1,
        "start_time": "2023-03-04T04:16:14.740Z"
      },
      {
        "duration": 0,
        "start_time": "2023-03-04T04:16:14.742Z"
      },
      {
        "duration": 0,
        "start_time": "2023-03-04T04:16:14.743Z"
      },
      {
        "duration": 0,
        "start_time": "2023-03-04T04:16:14.744Z"
      },
      {
        "duration": 0,
        "start_time": "2023-03-04T04:16:14.744Z"
      },
      {
        "duration": 0,
        "start_time": "2023-03-04T04:16:14.746Z"
      },
      {
        "duration": 0,
        "start_time": "2023-03-04T04:16:14.747Z"
      },
      {
        "duration": 0,
        "start_time": "2023-03-04T04:16:14.748Z"
      },
      {
        "duration": 0,
        "start_time": "2023-03-04T04:16:14.749Z"
      },
      {
        "duration": 0,
        "start_time": "2023-03-04T04:16:14.750Z"
      },
      {
        "duration": 0,
        "start_time": "2023-03-04T04:16:14.751Z"
      },
      {
        "duration": 25874,
        "start_time": "2023-03-04T06:46:04.912Z"
      },
      {
        "duration": 1613,
        "start_time": "2023-03-04T06:46:30.789Z"
      },
      {
        "duration": 0,
        "start_time": "2023-03-04T06:46:32.409Z"
      },
      {
        "duration": 0,
        "start_time": "2023-03-04T06:46:32.411Z"
      },
      {
        "duration": 0,
        "start_time": "2023-03-04T06:46:32.413Z"
      },
      {
        "duration": 0,
        "start_time": "2023-03-04T06:46:32.414Z"
      },
      {
        "duration": 0,
        "start_time": "2023-03-04T06:46:32.416Z"
      },
      {
        "duration": 0,
        "start_time": "2023-03-04T06:46:32.417Z"
      },
      {
        "duration": 0,
        "start_time": "2023-03-04T06:46:32.418Z"
      },
      {
        "duration": 0,
        "start_time": "2023-03-04T06:46:32.421Z"
      },
      {
        "duration": 0,
        "start_time": "2023-03-04T06:46:32.422Z"
      },
      {
        "duration": 0,
        "start_time": "2023-03-04T06:46:32.423Z"
      },
      {
        "duration": 0,
        "start_time": "2023-03-04T06:46:32.424Z"
      },
      {
        "duration": 0,
        "start_time": "2023-03-04T06:46:32.425Z"
      },
      {
        "duration": 0,
        "start_time": "2023-03-04T06:46:32.426Z"
      },
      {
        "duration": 0,
        "start_time": "2023-03-04T06:46:32.427Z"
      },
      {
        "duration": 0,
        "start_time": "2023-03-04T06:46:32.427Z"
      },
      {
        "duration": 0,
        "start_time": "2023-03-04T06:46:32.428Z"
      },
      {
        "duration": 0,
        "start_time": "2023-03-04T06:46:32.430Z"
      },
      {
        "duration": 0,
        "start_time": "2023-03-04T06:46:32.431Z"
      },
      {
        "duration": 0,
        "start_time": "2023-03-04T06:46:32.432Z"
      },
      {
        "duration": 0,
        "start_time": "2023-03-04T06:46:32.434Z"
      },
      {
        "duration": 0,
        "start_time": "2023-03-04T06:46:32.436Z"
      },
      {
        "duration": 0,
        "start_time": "2023-03-04T06:46:32.437Z"
      },
      {
        "duration": 0,
        "start_time": "2023-03-04T06:46:32.438Z"
      },
      {
        "duration": 0,
        "start_time": "2023-03-04T06:46:32.442Z"
      },
      {
        "duration": 0,
        "start_time": "2023-03-04T06:46:32.443Z"
      },
      {
        "duration": 0,
        "start_time": "2023-03-04T06:46:32.444Z"
      },
      {
        "duration": 0,
        "start_time": "2023-03-04T06:46:32.446Z"
      },
      {
        "duration": 0,
        "start_time": "2023-03-04T06:46:32.447Z"
      },
      {
        "duration": 0,
        "start_time": "2023-03-04T06:46:32.449Z"
      },
      {
        "duration": 0,
        "start_time": "2023-03-04T06:46:32.450Z"
      },
      {
        "duration": 1,
        "start_time": "2023-03-04T06:46:32.451Z"
      },
      {
        "duration": 0,
        "start_time": "2023-03-04T06:46:32.453Z"
      },
      {
        "duration": 0,
        "start_time": "2023-03-04T06:46:32.454Z"
      },
      {
        "duration": 0,
        "start_time": "2023-03-04T06:46:32.456Z"
      },
      {
        "duration": 0,
        "start_time": "2023-03-04T06:46:32.457Z"
      },
      {
        "duration": 0,
        "start_time": "2023-03-04T06:46:32.459Z"
      },
      {
        "duration": 0,
        "start_time": "2023-03-04T06:46:32.460Z"
      },
      {
        "duration": 0,
        "start_time": "2023-03-04T06:46:32.462Z"
      },
      {
        "duration": 0,
        "start_time": "2023-03-04T06:46:32.463Z"
      },
      {
        "duration": 0,
        "start_time": "2023-03-04T06:46:32.465Z"
      },
      {
        "duration": 0,
        "start_time": "2023-03-04T06:46:32.467Z"
      },
      {
        "duration": 0,
        "start_time": "2023-03-04T06:46:32.468Z"
      },
      {
        "duration": 0,
        "start_time": "2023-03-04T06:46:32.470Z"
      },
      {
        "duration": 0,
        "start_time": "2023-03-04T06:46:32.472Z"
      },
      {
        "duration": 0,
        "start_time": "2023-03-04T06:46:32.473Z"
      },
      {
        "duration": 0,
        "start_time": "2023-03-04T06:46:32.475Z"
      },
      {
        "duration": 0,
        "start_time": "2023-03-04T06:46:32.524Z"
      },
      {
        "duration": 0,
        "start_time": "2023-03-04T06:46:32.525Z"
      },
      {
        "duration": 0,
        "start_time": "2023-03-04T06:46:32.527Z"
      },
      {
        "duration": 0,
        "start_time": "2023-03-04T06:46:32.528Z"
      },
      {
        "duration": 0,
        "start_time": "2023-03-04T06:46:32.530Z"
      },
      {
        "duration": 0,
        "start_time": "2023-03-04T06:46:32.531Z"
      },
      {
        "duration": 0,
        "start_time": "2023-03-04T06:46:32.533Z"
      },
      {
        "duration": 0,
        "start_time": "2023-03-04T06:46:32.536Z"
      },
      {
        "duration": 0,
        "start_time": "2023-03-04T06:46:32.538Z"
      },
      {
        "duration": 0,
        "start_time": "2023-03-04T06:46:32.540Z"
      },
      {
        "duration": 0,
        "start_time": "2023-03-04T06:46:32.541Z"
      },
      {
        "duration": 0,
        "start_time": "2023-03-04T06:46:32.543Z"
      },
      {
        "duration": 0,
        "start_time": "2023-03-04T06:46:32.544Z"
      },
      {
        "duration": 0,
        "start_time": "2023-03-04T06:46:32.545Z"
      },
      {
        "duration": 0,
        "start_time": "2023-03-04T06:46:32.546Z"
      },
      {
        "duration": 0,
        "start_time": "2023-03-04T06:46:32.548Z"
      },
      {
        "duration": 0,
        "start_time": "2023-03-04T06:46:32.549Z"
      },
      {
        "duration": 0,
        "start_time": "2023-03-04T06:46:32.550Z"
      },
      {
        "duration": 0,
        "start_time": "2023-03-04T06:46:32.552Z"
      },
      {
        "duration": 0,
        "start_time": "2023-03-04T06:46:32.553Z"
      },
      {
        "duration": 0,
        "start_time": "2023-03-04T06:46:32.554Z"
      },
      {
        "duration": 0,
        "start_time": "2023-03-04T06:46:32.558Z"
      },
      {
        "duration": 0,
        "start_time": "2023-03-04T06:46:32.559Z"
      },
      {
        "duration": 0,
        "start_time": "2023-03-04T06:46:32.561Z"
      },
      {
        "duration": 0,
        "start_time": "2023-03-04T06:46:32.563Z"
      },
      {
        "duration": 0,
        "start_time": "2023-03-04T06:46:32.564Z"
      },
      {
        "duration": 0,
        "start_time": "2023-03-04T06:46:32.565Z"
      },
      {
        "duration": 0,
        "start_time": "2023-03-04T06:46:32.567Z"
      },
      {
        "duration": 1,
        "start_time": "2023-03-04T06:46:32.568Z"
      },
      {
        "duration": 0,
        "start_time": "2023-03-04T06:46:32.570Z"
      },
      {
        "duration": 0,
        "start_time": "2023-03-04T06:46:32.571Z"
      },
      {
        "duration": 0,
        "start_time": "2023-03-04T06:46:32.573Z"
      },
      {
        "duration": 0,
        "start_time": "2023-03-04T06:46:32.574Z"
      },
      {
        "duration": 0,
        "start_time": "2023-03-04T06:46:32.622Z"
      },
      {
        "duration": 0,
        "start_time": "2023-03-04T06:46:32.624Z"
      },
      {
        "duration": 0,
        "start_time": "2023-03-04T06:46:32.628Z"
      },
      {
        "duration": 0,
        "start_time": "2023-03-04T06:46:32.632Z"
      },
      {
        "duration": 0,
        "start_time": "2023-03-04T06:46:32.633Z"
      },
      {
        "duration": 0,
        "start_time": "2023-03-04T06:46:32.637Z"
      },
      {
        "duration": 0,
        "start_time": "2023-03-04T06:46:32.639Z"
      },
      {
        "duration": 0,
        "start_time": "2023-03-04T06:46:32.641Z"
      },
      {
        "duration": 0,
        "start_time": "2023-03-04T06:46:32.642Z"
      },
      {
        "duration": 0,
        "start_time": "2023-03-04T06:46:32.648Z"
      },
      {
        "duration": 0,
        "start_time": "2023-03-04T06:46:32.649Z"
      },
      {
        "duration": 0,
        "start_time": "2023-03-04T06:46:32.651Z"
      },
      {
        "duration": 0,
        "start_time": "2023-03-04T06:46:32.653Z"
      },
      {
        "duration": 0,
        "start_time": "2023-03-04T06:46:32.655Z"
      },
      {
        "duration": 1,
        "start_time": "2023-03-04T06:46:32.656Z"
      },
      {
        "duration": 0,
        "start_time": "2023-03-04T06:46:32.658Z"
      },
      {
        "duration": 0,
        "start_time": "2023-03-04T06:46:32.660Z"
      },
      {
        "duration": 0,
        "start_time": "2023-03-04T06:46:32.662Z"
      },
      {
        "duration": 0,
        "start_time": "2023-03-04T06:46:32.664Z"
      },
      {
        "duration": 0,
        "start_time": "2023-03-04T06:46:32.666Z"
      },
      {
        "duration": 0,
        "start_time": "2023-03-04T06:46:32.669Z"
      },
      {
        "duration": 0,
        "start_time": "2023-03-04T06:46:32.671Z"
      },
      {
        "duration": 0,
        "start_time": "2023-03-04T06:46:32.673Z"
      },
      {
        "duration": 0,
        "start_time": "2023-03-04T06:46:32.674Z"
      },
      {
        "duration": 0,
        "start_time": "2023-03-04T06:46:32.721Z"
      },
      {
        "duration": 0,
        "start_time": "2023-03-04T06:46:32.723Z"
      },
      {
        "duration": 1,
        "start_time": "2023-03-04T06:46:32.724Z"
      },
      {
        "duration": 0,
        "start_time": "2023-03-04T06:46:32.726Z"
      },
      {
        "duration": 0,
        "start_time": "2023-03-04T06:46:32.728Z"
      },
      {
        "duration": 0,
        "start_time": "2023-03-04T06:46:32.730Z"
      },
      {
        "duration": 0,
        "start_time": "2023-03-04T06:46:32.731Z"
      },
      {
        "duration": 0,
        "start_time": "2023-03-04T06:46:32.733Z"
      },
      {
        "duration": 0,
        "start_time": "2023-03-04T06:46:32.734Z"
      },
      {
        "duration": 0,
        "start_time": "2023-03-04T06:46:32.735Z"
      },
      {
        "duration": 0,
        "start_time": "2023-03-04T06:46:32.737Z"
      },
      {
        "duration": 0,
        "start_time": "2023-03-04T06:46:32.738Z"
      },
      {
        "duration": 0,
        "start_time": "2023-03-04T06:46:32.740Z"
      },
      {
        "duration": 0,
        "start_time": "2023-03-04T06:46:32.741Z"
      },
      {
        "duration": 0,
        "start_time": "2023-03-04T06:46:32.743Z"
      },
      {
        "duration": 0,
        "start_time": "2023-03-04T06:46:32.744Z"
      },
      {
        "duration": 21063,
        "start_time": "2023-03-04T06:47:37.847Z"
      },
      {
        "duration": 4760,
        "start_time": "2023-03-04T06:47:58.913Z"
      },
      {
        "duration": 3,
        "start_time": "2023-03-04T06:48:03.676Z"
      },
      {
        "duration": 371,
        "start_time": "2023-03-04T06:48:03.681Z"
      },
      {
        "duration": 0,
        "start_time": "2023-03-04T06:48:04.064Z"
      },
      {
        "duration": 0,
        "start_time": "2023-03-04T06:48:04.066Z"
      },
      {
        "duration": 0,
        "start_time": "2023-03-04T06:48:04.068Z"
      },
      {
        "duration": 0,
        "start_time": "2023-03-04T06:48:04.070Z"
      },
      {
        "duration": 0,
        "start_time": "2023-03-04T06:48:04.072Z"
      },
      {
        "duration": 0,
        "start_time": "2023-03-04T06:48:04.074Z"
      },
      {
        "duration": 0,
        "start_time": "2023-03-04T06:48:04.075Z"
      },
      {
        "duration": 0,
        "start_time": "2023-03-04T06:48:04.077Z"
      },
      {
        "duration": 0,
        "start_time": "2023-03-04T06:48:04.078Z"
      },
      {
        "duration": 0,
        "start_time": "2023-03-04T06:48:04.080Z"
      },
      {
        "duration": 0,
        "start_time": "2023-03-04T06:48:04.082Z"
      },
      {
        "duration": 0,
        "start_time": "2023-03-04T06:48:04.084Z"
      },
      {
        "duration": 0,
        "start_time": "2023-03-04T06:48:04.085Z"
      },
      {
        "duration": 0,
        "start_time": "2023-03-04T06:48:04.087Z"
      },
      {
        "duration": 1,
        "start_time": "2023-03-04T06:48:04.088Z"
      },
      {
        "duration": 0,
        "start_time": "2023-03-04T06:48:04.090Z"
      },
      {
        "duration": 0,
        "start_time": "2023-03-04T06:48:04.091Z"
      },
      {
        "duration": 0,
        "start_time": "2023-03-04T06:48:04.093Z"
      },
      {
        "duration": 0,
        "start_time": "2023-03-04T06:48:04.126Z"
      },
      {
        "duration": 0,
        "start_time": "2023-03-04T06:48:04.127Z"
      },
      {
        "duration": 0,
        "start_time": "2023-03-04T06:48:04.128Z"
      },
      {
        "duration": 0,
        "start_time": "2023-03-04T06:48:04.130Z"
      },
      {
        "duration": 0,
        "start_time": "2023-03-04T06:48:04.131Z"
      },
      {
        "duration": 0,
        "start_time": "2023-03-04T06:48:04.133Z"
      },
      {
        "duration": 0,
        "start_time": "2023-03-04T06:48:04.134Z"
      },
      {
        "duration": 1,
        "start_time": "2023-03-04T06:48:04.137Z"
      },
      {
        "duration": 0,
        "start_time": "2023-03-04T06:48:04.138Z"
      },
      {
        "duration": 0,
        "start_time": "2023-03-04T06:48:04.142Z"
      },
      {
        "duration": 0,
        "start_time": "2023-03-04T06:48:04.143Z"
      },
      {
        "duration": 0,
        "start_time": "2023-03-04T06:48:04.145Z"
      },
      {
        "duration": 0,
        "start_time": "2023-03-04T06:48:04.147Z"
      },
      {
        "duration": 0,
        "start_time": "2023-03-04T06:48:04.149Z"
      },
      {
        "duration": 1,
        "start_time": "2023-03-04T06:48:04.150Z"
      },
      {
        "duration": 0,
        "start_time": "2023-03-04T06:48:04.152Z"
      },
      {
        "duration": 0,
        "start_time": "2023-03-04T06:48:04.155Z"
      },
      {
        "duration": 0,
        "start_time": "2023-03-04T06:48:04.156Z"
      },
      {
        "duration": 0,
        "start_time": "2023-03-04T06:48:04.158Z"
      },
      {
        "duration": 0,
        "start_time": "2023-03-04T06:48:04.160Z"
      },
      {
        "duration": 0,
        "start_time": "2023-03-04T06:48:04.162Z"
      },
      {
        "duration": 0,
        "start_time": "2023-03-04T06:48:04.164Z"
      },
      {
        "duration": 0,
        "start_time": "2023-03-04T06:48:04.166Z"
      },
      {
        "duration": 0,
        "start_time": "2023-03-04T06:48:04.169Z"
      },
      {
        "duration": 0,
        "start_time": "2023-03-04T06:48:04.170Z"
      },
      {
        "duration": 0,
        "start_time": "2023-03-04T06:48:04.172Z"
      },
      {
        "duration": 0,
        "start_time": "2023-03-04T06:48:04.173Z"
      },
      {
        "duration": 0,
        "start_time": "2023-03-04T06:48:04.175Z"
      },
      {
        "duration": 0,
        "start_time": "2023-03-04T06:48:04.176Z"
      },
      {
        "duration": 0,
        "start_time": "2023-03-04T06:48:04.178Z"
      },
      {
        "duration": 0,
        "start_time": "2023-03-04T06:48:04.181Z"
      },
      {
        "duration": 0,
        "start_time": "2023-03-04T06:48:04.182Z"
      },
      {
        "duration": 0,
        "start_time": "2023-03-04T06:48:04.184Z"
      },
      {
        "duration": 0,
        "start_time": "2023-03-04T06:48:04.185Z"
      },
      {
        "duration": 0,
        "start_time": "2023-03-04T06:48:04.224Z"
      },
      {
        "duration": 0,
        "start_time": "2023-03-04T06:48:04.225Z"
      },
      {
        "duration": 0,
        "start_time": "2023-03-04T06:48:04.227Z"
      },
      {
        "duration": 0,
        "start_time": "2023-03-04T06:48:04.230Z"
      },
      {
        "duration": 0,
        "start_time": "2023-03-04T06:48:04.234Z"
      },
      {
        "duration": 0,
        "start_time": "2023-03-04T06:48:04.238Z"
      },
      {
        "duration": 0,
        "start_time": "2023-03-04T06:48:04.241Z"
      },
      {
        "duration": 0,
        "start_time": "2023-03-04T06:48:04.243Z"
      },
      {
        "duration": 0,
        "start_time": "2023-03-04T06:48:04.248Z"
      },
      {
        "duration": 0,
        "start_time": "2023-03-04T06:48:04.251Z"
      },
      {
        "duration": 0,
        "start_time": "2023-03-04T06:48:04.256Z"
      },
      {
        "duration": 0,
        "start_time": "2023-03-04T06:48:04.260Z"
      },
      {
        "duration": 0,
        "start_time": "2023-03-04T06:48:04.262Z"
      },
      {
        "duration": 0,
        "start_time": "2023-03-04T06:48:04.263Z"
      },
      {
        "duration": 0,
        "start_time": "2023-03-04T06:48:04.265Z"
      },
      {
        "duration": 0,
        "start_time": "2023-03-04T06:48:04.269Z"
      },
      {
        "duration": 0,
        "start_time": "2023-03-04T06:48:04.270Z"
      },
      {
        "duration": 0,
        "start_time": "2023-03-04T06:48:04.271Z"
      },
      {
        "duration": 0,
        "start_time": "2023-03-04T06:48:04.273Z"
      },
      {
        "duration": 0,
        "start_time": "2023-03-04T06:48:04.274Z"
      },
      {
        "duration": 0,
        "start_time": "2023-03-04T06:48:04.279Z"
      },
      {
        "duration": 0,
        "start_time": "2023-03-04T06:48:04.280Z"
      },
      {
        "duration": 0,
        "start_time": "2023-03-04T06:48:04.281Z"
      },
      {
        "duration": 0,
        "start_time": "2023-03-04T06:48:04.282Z"
      },
      {
        "duration": 0,
        "start_time": "2023-03-04T06:48:04.284Z"
      },
      {
        "duration": 0,
        "start_time": "2023-03-04T06:48:04.287Z"
      },
      {
        "duration": 0,
        "start_time": "2023-03-04T06:48:04.288Z"
      },
      {
        "duration": 0,
        "start_time": "2023-03-04T06:48:04.291Z"
      },
      {
        "duration": 0,
        "start_time": "2023-03-04T06:48:04.293Z"
      },
      {
        "duration": 0,
        "start_time": "2023-03-04T06:48:04.294Z"
      },
      {
        "duration": 0,
        "start_time": "2023-03-04T06:48:04.295Z"
      },
      {
        "duration": 0,
        "start_time": "2023-03-04T06:48:04.297Z"
      },
      {
        "duration": 0,
        "start_time": "2023-03-04T06:48:04.323Z"
      },
      {
        "duration": 0,
        "start_time": "2023-03-04T06:48:04.324Z"
      },
      {
        "duration": 0,
        "start_time": "2023-03-04T06:48:04.326Z"
      },
      {
        "duration": 0,
        "start_time": "2023-03-04T06:48:04.328Z"
      },
      {
        "duration": 0,
        "start_time": "2023-03-04T06:48:04.330Z"
      },
      {
        "duration": 0,
        "start_time": "2023-03-04T06:48:04.331Z"
      },
      {
        "duration": 0,
        "start_time": "2023-03-04T06:48:04.333Z"
      },
      {
        "duration": 0,
        "start_time": "2023-03-04T06:48:04.336Z"
      },
      {
        "duration": 0,
        "start_time": "2023-03-04T06:48:04.343Z"
      },
      {
        "duration": 0,
        "start_time": "2023-03-04T06:48:04.345Z"
      },
      {
        "duration": 0,
        "start_time": "2023-03-04T06:48:04.349Z"
      },
      {
        "duration": 0,
        "start_time": "2023-03-04T06:48:04.352Z"
      },
      {
        "duration": 0,
        "start_time": "2023-03-04T06:48:04.359Z"
      },
      {
        "duration": 0,
        "start_time": "2023-03-04T06:48:04.362Z"
      },
      {
        "duration": 0,
        "start_time": "2023-03-04T06:48:04.365Z"
      },
      {
        "duration": 0,
        "start_time": "2023-03-04T06:48:04.366Z"
      },
      {
        "duration": 0,
        "start_time": "2023-03-04T06:48:04.368Z"
      },
      {
        "duration": 0,
        "start_time": "2023-03-04T06:48:04.371Z"
      },
      {
        "duration": 0,
        "start_time": "2023-03-04T06:48:04.372Z"
      },
      {
        "duration": 0,
        "start_time": "2023-03-04T06:48:04.377Z"
      },
      {
        "duration": 0,
        "start_time": "2023-03-04T06:48:04.381Z"
      },
      {
        "duration": 0,
        "start_time": "2023-03-04T06:48:04.388Z"
      },
      {
        "duration": 0,
        "start_time": "2023-03-04T06:48:04.392Z"
      },
      {
        "duration": 0,
        "start_time": "2023-03-04T06:48:04.428Z"
      },
      {
        "duration": 0,
        "start_time": "2023-03-04T06:48:04.430Z"
      },
      {
        "duration": 0,
        "start_time": "2023-03-04T06:48:04.433Z"
      },
      {
        "duration": 0,
        "start_time": "2023-03-04T06:48:04.437Z"
      },
      {
        "duration": 0,
        "start_time": "2023-03-04T06:48:04.443Z"
      },
      {
        "duration": 0,
        "start_time": "2023-03-04T06:48:04.445Z"
      },
      {
        "duration": 0,
        "start_time": "2023-03-04T06:48:04.447Z"
      },
      {
        "duration": 0,
        "start_time": "2023-03-04T06:48:04.449Z"
      },
      {
        "duration": 0,
        "start_time": "2023-03-04T06:48:04.453Z"
      },
      {
        "duration": 0,
        "start_time": "2023-03-04T06:48:04.460Z"
      },
      {
        "duration": 13283,
        "start_time": "2023-03-04T06:49:16.750Z"
      },
      {
        "duration": 3190,
        "start_time": "2023-03-04T06:49:30.037Z"
      },
      {
        "duration": 6,
        "start_time": "2023-03-04T06:49:33.232Z"
      },
      {
        "duration": 2621,
        "start_time": "2023-03-04T06:49:33.249Z"
      },
      {
        "duration": 26,
        "start_time": "2023-03-04T06:49:35.873Z"
      },
      {
        "duration": 3,
        "start_time": "2023-03-04T06:49:35.904Z"
      },
      {
        "duration": 59,
        "start_time": "2023-03-04T06:49:35.910Z"
      },
      {
        "duration": 2228,
        "start_time": "2023-03-04T06:49:35.972Z"
      },
      {
        "duration": 154,
        "start_time": "2023-03-04T06:49:38.203Z"
      },
      {
        "duration": 26,
        "start_time": "2023-03-04T06:49:38.361Z"
      },
      {
        "duration": 69,
        "start_time": "2023-03-04T06:49:38.389Z"
      },
      {
        "duration": 20,
        "start_time": "2023-03-04T06:49:38.460Z"
      },
      {
        "duration": 69,
        "start_time": "2023-03-04T06:49:38.483Z"
      },
      {
        "duration": 47,
        "start_time": "2023-03-04T06:49:38.555Z"
      },
      {
        "duration": 513,
        "start_time": "2023-03-04T06:49:38.605Z"
      },
      {
        "duration": 49,
        "start_time": "2023-03-04T06:49:39.119Z"
      },
      {
        "duration": 120,
        "start_time": "2023-03-04T06:49:39.170Z"
      },
      {
        "duration": 275,
        "start_time": "2023-03-04T06:49:39.292Z"
      },
      {
        "duration": 26,
        "start_time": "2023-03-04T06:49:39.569Z"
      },
      {
        "duration": 125,
        "start_time": "2023-03-04T06:49:39.597Z"
      },
      {
        "duration": 27,
        "start_time": "2023-03-04T06:49:39.730Z"
      },
      {
        "duration": 55,
        "start_time": "2023-03-04T06:49:39.759Z"
      },
      {
        "duration": 63,
        "start_time": "2023-03-04T06:49:39.816Z"
      },
      {
        "duration": 21,
        "start_time": "2023-03-04T06:49:39.881Z"
      },
      {
        "duration": 74,
        "start_time": "2023-03-04T06:49:39.904Z"
      },
      {
        "duration": 5,
        "start_time": "2023-03-04T06:49:39.981Z"
      },
      {
        "duration": 185,
        "start_time": "2023-03-04T06:49:39.989Z"
      },
      {
        "duration": 6,
        "start_time": "2023-03-04T06:49:40.180Z"
      },
      {
        "duration": 106,
        "start_time": "2023-03-04T06:49:40.188Z"
      },
      {
        "duration": 12,
        "start_time": "2023-03-04T06:49:40.297Z"
      },
      {
        "duration": 95,
        "start_time": "2023-03-04T06:49:40.312Z"
      },
      {
        "duration": 105,
        "start_time": "2023-03-04T06:49:40.409Z"
      },
      {
        "duration": 207,
        "start_time": "2023-03-04T06:49:40.516Z"
      },
      {
        "duration": 70,
        "start_time": "2023-03-04T06:49:40.731Z"
      },
      {
        "duration": 42,
        "start_time": "2023-03-04T06:49:40.803Z"
      },
      {
        "duration": 127,
        "start_time": "2023-03-04T06:49:40.848Z"
      },
      {
        "duration": 74,
        "start_time": "2023-03-04T06:49:40.978Z"
      },
      {
        "duration": 36,
        "start_time": "2023-03-04T06:49:41.054Z"
      },
      {
        "duration": 512,
        "start_time": "2023-03-04T06:49:41.093Z"
      },
      {
        "duration": 70,
        "start_time": "2023-03-04T06:49:41.607Z"
      },
      {
        "duration": 485,
        "start_time": "2023-03-04T06:49:41.679Z"
      },
      {
        "duration": 36,
        "start_time": "2023-03-04T06:49:42.167Z"
      },
      {
        "duration": 54,
        "start_time": "2023-03-04T06:49:42.205Z"
      },
      {
        "duration": 54,
        "start_time": "2023-03-04T06:49:42.263Z"
      },
      {
        "duration": 92,
        "start_time": "2023-03-04T06:49:42.319Z"
      },
      {
        "duration": 45,
        "start_time": "2023-03-04T06:49:42.413Z"
      },
      {
        "duration": 723,
        "start_time": "2023-03-04T06:49:42.461Z"
      },
      {
        "duration": 37,
        "start_time": "2023-03-04T06:49:43.186Z"
      },
      {
        "duration": 23,
        "start_time": "2023-03-04T06:49:43.225Z"
      },
      {
        "duration": 220,
        "start_time": "2023-03-04T06:49:43.251Z"
      },
      {
        "duration": 121,
        "start_time": "2023-03-04T06:49:43.475Z"
      },
      {
        "duration": 10,
        "start_time": "2023-03-04T06:49:43.598Z"
      },
      {
        "duration": 89,
        "start_time": "2023-03-04T06:49:43.611Z"
      },
      {
        "duration": 5,
        "start_time": "2023-03-04T06:49:43.702Z"
      },
      {
        "duration": 10,
        "start_time": "2023-03-04T06:49:43.710Z"
      },
      {
        "duration": 82,
        "start_time": "2023-03-04T06:49:43.723Z"
      },
      {
        "duration": 73,
        "start_time": "2023-03-04T06:49:43.808Z"
      },
      {
        "duration": 132,
        "start_time": "2023-03-04T06:49:43.885Z"
      },
      {
        "duration": 44,
        "start_time": "2023-03-04T06:49:44.019Z"
      },
      {
        "duration": 309,
        "start_time": "2023-03-04T06:49:44.065Z"
      },
      {
        "duration": 290,
        "start_time": "2023-03-04T06:49:44.376Z"
      },
      {
        "duration": 39,
        "start_time": "2023-03-04T06:49:44.669Z"
      },
      {
        "duration": 111,
        "start_time": "2023-03-04T06:49:44.710Z"
      },
      {
        "duration": 149,
        "start_time": "2023-03-04T06:49:44.824Z"
      },
      {
        "duration": 110,
        "start_time": "2023-03-04T06:49:44.976Z"
      },
      {
        "duration": 32,
        "start_time": "2023-03-04T06:49:45.088Z"
      },
      {
        "duration": 172,
        "start_time": "2023-03-04T06:49:45.122Z"
      },
      {
        "duration": 3,
        "start_time": "2023-03-04T06:49:45.296Z"
      },
      {
        "duration": 496,
        "start_time": "2023-03-04T06:49:45.300Z"
      },
      {
        "duration": 84,
        "start_time": "2023-03-04T06:49:45.799Z"
      },
      {
        "duration": 10,
        "start_time": "2023-03-04T06:49:45.886Z"
      },
      {
        "duration": 495,
        "start_time": "2023-03-04T06:49:45.898Z"
      },
      {
        "duration": 7,
        "start_time": "2023-03-04T06:49:46.396Z"
      },
      {
        "duration": 66,
        "start_time": "2023-03-04T06:49:46.406Z"
      },
      {
        "duration": 30,
        "start_time": "2023-03-04T06:49:46.474Z"
      },
      {
        "duration": 211,
        "start_time": "2023-03-04T06:49:46.506Z"
      },
      {
        "duration": 5,
        "start_time": "2023-03-04T06:49:46.718Z"
      },
      {
        "duration": 273,
        "start_time": "2023-03-04T06:49:46.726Z"
      },
      {
        "duration": 36,
        "start_time": "2023-03-04T06:49:47.001Z"
      },
      {
        "duration": 36,
        "start_time": "2023-03-04T06:49:47.039Z"
      },
      {
        "duration": 215,
        "start_time": "2023-03-04T06:49:47.076Z"
      },
      {
        "duration": 33,
        "start_time": "2023-03-04T06:49:47.302Z"
      },
      {
        "duration": 62,
        "start_time": "2023-03-04T06:49:47.337Z"
      },
      {
        "duration": 55,
        "start_time": "2023-03-04T06:49:47.406Z"
      },
      {
        "duration": 41,
        "start_time": "2023-03-04T06:49:47.463Z"
      },
      {
        "duration": 37,
        "start_time": "2023-03-04T06:49:47.507Z"
      },
      {
        "duration": 781,
        "start_time": "2023-03-04T06:49:47.546Z"
      },
      {
        "duration": 693,
        "start_time": "2023-03-04T06:49:48.328Z"
      },
      {
        "duration": 15,
        "start_time": "2023-03-04T06:49:49.027Z"
      },
      {
        "duration": 61,
        "start_time": "2023-03-04T06:49:49.048Z"
      },
      {
        "duration": 6,
        "start_time": "2023-03-04T06:49:49.111Z"
      },
      {
        "duration": 83,
        "start_time": "2023-03-04T06:49:49.119Z"
      },
      {
        "duration": 111,
        "start_time": "2023-03-04T06:49:49.205Z"
      },
      {
        "duration": 8,
        "start_time": "2023-03-04T06:49:49.318Z"
      },
      {
        "duration": 75,
        "start_time": "2023-03-04T06:49:49.329Z"
      },
      {
        "duration": 29,
        "start_time": "2023-03-04T06:49:49.407Z"
      },
      {
        "duration": 85,
        "start_time": "2023-03-04T06:49:49.438Z"
      },
      {
        "duration": 117,
        "start_time": "2023-03-04T06:49:49.526Z"
      },
      {
        "duration": 35,
        "start_time": "2023-03-04T06:49:49.645Z"
      },
      {
        "duration": 10,
        "start_time": "2023-03-04T06:49:49.683Z"
      },
      {
        "duration": 147,
        "start_time": "2023-03-04T06:49:49.696Z"
      },
      {
        "duration": 5,
        "start_time": "2023-03-04T06:49:49.846Z"
      },
      {
        "duration": 35,
        "start_time": "2023-03-04T06:49:49.854Z"
      },
      {
        "duration": 9,
        "start_time": "2023-03-04T06:49:49.891Z"
      },
      {
        "duration": 20,
        "start_time": "2023-03-04T06:49:49.902Z"
      },
      {
        "duration": 50,
        "start_time": "2023-03-04T06:49:49.931Z"
      },
      {
        "duration": 2500,
        "start_time": "2023-03-04T06:49:49.984Z"
      },
      {
        "duration": 1411,
        "start_time": "2023-03-04T06:49:52.490Z"
      },
      {
        "duration": 25,
        "start_time": "2023-03-04T06:49:53.906Z"
      },
      {
        "duration": 157,
        "start_time": "2023-03-04T06:49:53.934Z"
      },
      {
        "duration": 16,
        "start_time": "2023-03-04T06:49:54.100Z"
      },
      {
        "duration": 266,
        "start_time": "2023-03-04T06:49:54.118Z"
      },
      {
        "duration": 13,
        "start_time": "2023-03-04T06:49:54.391Z"
      },
      {
        "duration": 204,
        "start_time": "2023-03-04T06:49:54.408Z"
      },
      {
        "duration": 98,
        "start_time": "2023-03-04T06:49:54.615Z"
      },
      {
        "duration": 23798,
        "start_time": "2023-03-04T06:49:54.715Z"
      },
      {
        "duration": 14,
        "start_time": "2023-03-04T06:50:18.516Z"
      },
      {
        "duration": 456014,
        "start_time": "2023-03-04T06:50:18.533Z"
      },
      {
        "duration": 15,
        "start_time": "2023-03-04T06:57:54.560Z"
      },
      {
        "duration": 101,
        "start_time": "2023-03-04T06:57:54.585Z"
      },
      {
        "duration": 164,
        "start_time": "2023-03-04T06:57:54.694Z"
      },
      {
        "duration": 22264,
        "start_time": "2023-03-04T16:17:40.378Z"
      },
      {
        "duration": 2573,
        "start_time": "2023-03-04T16:18:02.645Z"
      },
      {
        "duration": 2,
        "start_time": "2023-03-04T16:18:05.220Z"
      },
      {
        "duration": 1085,
        "start_time": "2023-03-04T16:18:05.224Z"
      },
      {
        "duration": 21,
        "start_time": "2023-03-04T16:18:06.311Z"
      },
      {
        "duration": 3,
        "start_time": "2023-03-04T16:18:06.334Z"
      },
      {
        "duration": 14,
        "start_time": "2023-03-04T16:18:06.339Z"
      },
      {
        "duration": 1444,
        "start_time": "2023-03-04T16:18:06.357Z"
      },
      {
        "duration": 104,
        "start_time": "2023-03-04T16:18:07.806Z"
      },
      {
        "duration": 18,
        "start_time": "2023-03-04T16:18:07.913Z"
      },
      {
        "duration": 60,
        "start_time": "2023-03-04T16:18:07.933Z"
      },
      {
        "duration": 9,
        "start_time": "2023-03-04T16:18:07.995Z"
      },
      {
        "duration": 43,
        "start_time": "2023-03-04T16:18:08.006Z"
      },
      {
        "duration": 11,
        "start_time": "2023-03-04T16:18:08.050Z"
      },
      {
        "duration": 308,
        "start_time": "2023-03-04T16:18:08.063Z"
      },
      {
        "duration": 19,
        "start_time": "2023-03-04T16:18:08.373Z"
      },
      {
        "duration": 10,
        "start_time": "2023-03-04T16:18:08.394Z"
      },
      {
        "duration": 172,
        "start_time": "2023-03-04T16:18:08.406Z"
      },
      {
        "duration": 29,
        "start_time": "2023-03-04T16:18:08.579Z"
      },
      {
        "duration": 70,
        "start_time": "2023-03-04T16:18:08.609Z"
      },
      {
        "duration": 35,
        "start_time": "2023-03-04T16:18:08.680Z"
      },
      {
        "duration": 25,
        "start_time": "2023-03-04T16:18:08.718Z"
      },
      {
        "duration": 55,
        "start_time": "2023-03-04T16:18:08.744Z"
      },
      {
        "duration": 8,
        "start_time": "2023-03-04T16:18:08.801Z"
      },
      {
        "duration": 6,
        "start_time": "2023-03-04T16:18:08.810Z"
      },
      {
        "duration": 6,
        "start_time": "2023-03-04T16:18:08.817Z"
      },
      {
        "duration": 111,
        "start_time": "2023-03-04T16:18:08.824Z"
      },
      {
        "duration": 4,
        "start_time": "2023-03-04T16:18:08.939Z"
      },
      {
        "duration": 58,
        "start_time": "2023-03-04T16:18:08.944Z"
      },
      {
        "duration": 5,
        "start_time": "2023-03-04T16:18:09.005Z"
      },
      {
        "duration": 25,
        "start_time": "2023-03-04T16:18:09.011Z"
      },
      {
        "duration": 87,
        "start_time": "2023-03-04T16:18:09.037Z"
      },
      {
        "duration": 111,
        "start_time": "2023-03-04T16:18:09.125Z"
      },
      {
        "duration": 38,
        "start_time": "2023-03-04T16:18:09.238Z"
      },
      {
        "duration": 32,
        "start_time": "2023-03-04T16:18:09.291Z"
      },
      {
        "duration": 40,
        "start_time": "2023-03-04T16:18:09.324Z"
      },
      {
        "duration": 61,
        "start_time": "2023-03-04T16:18:09.365Z"
      },
      {
        "duration": 3,
        "start_time": "2023-03-04T16:18:09.428Z"
      },
      {
        "duration": 399,
        "start_time": "2023-03-04T16:18:09.433Z"
      },
      {
        "duration": 37,
        "start_time": "2023-03-04T16:18:09.833Z"
      },
      {
        "duration": 340,
        "start_time": "2023-03-04T16:18:09.871Z"
      },
      {
        "duration": 20,
        "start_time": "2023-03-04T16:18:10.213Z"
      },
      {
        "duration": 19,
        "start_time": "2023-03-04T16:18:10.234Z"
      },
      {
        "duration": 13,
        "start_time": "2023-03-04T16:18:10.255Z"
      },
      {
        "duration": 22,
        "start_time": "2023-03-04T16:18:10.293Z"
      },
      {
        "duration": 15,
        "start_time": "2023-03-04T16:18:10.316Z"
      },
      {
        "duration": 387,
        "start_time": "2023-03-04T16:18:10.332Z"
      },
      {
        "duration": 14,
        "start_time": "2023-03-04T16:18:10.720Z"
      },
      {
        "duration": 3,
        "start_time": "2023-03-04T16:18:10.736Z"
      },
      {
        "duration": 72,
        "start_time": "2023-03-04T16:18:10.741Z"
      },
      {
        "duration": 56,
        "start_time": "2023-03-04T16:18:10.815Z"
      },
      {
        "duration": 7,
        "start_time": "2023-03-04T16:18:10.872Z"
      },
      {
        "duration": 40,
        "start_time": "2023-03-04T16:18:10.892Z"
      },
      {
        "duration": 4,
        "start_time": "2023-03-04T16:18:10.933Z"
      },
      {
        "duration": 6,
        "start_time": "2023-03-04T16:18:10.938Z"
      },
      {
        "duration": 8,
        "start_time": "2023-03-04T16:18:10.945Z"
      },
      {
        "duration": 49,
        "start_time": "2023-03-04T16:18:10.955Z"
      },
      {
        "duration": 101,
        "start_time": "2023-03-04T16:18:11.006Z"
      },
      {
        "duration": 20,
        "start_time": "2023-03-04T16:18:11.109Z"
      },
      {
        "duration": 179,
        "start_time": "2023-03-04T16:18:11.131Z"
      },
      {
        "duration": 146,
        "start_time": "2023-03-04T16:18:11.312Z"
      },
      {
        "duration": 19,
        "start_time": "2023-03-04T16:18:11.459Z"
      },
      {
        "duration": 41,
        "start_time": "2023-03-04T16:18:11.479Z"
      },
      {
        "duration": 45,
        "start_time": "2023-03-04T16:18:11.521Z"
      },
      {
        "duration": 39,
        "start_time": "2023-03-04T16:18:11.568Z"
      },
      {
        "duration": 5,
        "start_time": "2023-03-04T16:18:11.609Z"
      },
      {
        "duration": 62,
        "start_time": "2023-03-04T16:18:11.616Z"
      },
      {
        "duration": 3,
        "start_time": "2023-03-04T16:18:11.692Z"
      },
      {
        "duration": 303,
        "start_time": "2023-03-04T16:18:11.697Z"
      },
      {
        "duration": 39,
        "start_time": "2023-03-04T16:18:12.002Z"
      },
      {
        "duration": 3,
        "start_time": "2023-03-04T16:18:12.043Z"
      },
      {
        "duration": 273,
        "start_time": "2023-03-04T16:18:12.048Z"
      },
      {
        "duration": 4,
        "start_time": "2023-03-04T16:18:12.322Z"
      },
      {
        "duration": 21,
        "start_time": "2023-03-04T16:18:12.328Z"
      },
      {
        "duration": 10,
        "start_time": "2023-03-04T16:18:12.350Z"
      },
      {
        "duration": 174,
        "start_time": "2023-03-04T16:18:12.361Z"
      },
      {
        "duration": 4,
        "start_time": "2023-03-04T16:18:12.536Z"
      },
      {
        "duration": 157,
        "start_time": "2023-03-04T16:18:12.541Z"
      },
      {
        "duration": 33,
        "start_time": "2023-03-04T16:18:12.700Z"
      },
      {
        "duration": 16,
        "start_time": "2023-03-04T16:18:12.734Z"
      },
      {
        "duration": 125,
        "start_time": "2023-03-04T16:18:12.751Z"
      },
      {
        "duration": 27,
        "start_time": "2023-03-04T16:18:12.893Z"
      },
      {
        "duration": 14,
        "start_time": "2023-03-04T16:18:12.922Z"
      },
      {
        "duration": 24,
        "start_time": "2023-03-04T16:18:12.938Z"
      },
      {
        "duration": 8,
        "start_time": "2023-03-04T16:18:12.963Z"
      },
      {
        "duration": 39,
        "start_time": "2023-03-04T16:18:12.972Z"
      },
      {
        "duration": 402,
        "start_time": "2023-03-04T16:18:13.013Z"
      },
      {
        "duration": 359,
        "start_time": "2023-03-04T16:18:13.416Z"
      },
      {
        "duration": 3,
        "start_time": "2023-03-04T16:18:13.777Z"
      },
      {
        "duration": 14,
        "start_time": "2023-03-04T16:18:13.781Z"
      },
      {
        "duration": 25,
        "start_time": "2023-03-04T16:18:13.796Z"
      },
      {
        "duration": 8,
        "start_time": "2023-03-04T16:18:13.822Z"
      },
      {
        "duration": 64,
        "start_time": "2023-03-04T16:18:13.832Z"
      },
      {
        "duration": 5,
        "start_time": "2023-03-04T16:18:13.899Z"
      },
      {
        "duration": 15,
        "start_time": "2023-03-04T16:18:13.905Z"
      },
      {
        "duration": 20,
        "start_time": "2023-03-04T16:18:13.921Z"
      },
      {
        "duration": 20,
        "start_time": "2023-03-04T16:18:13.943Z"
      },
      {
        "duration": 49,
        "start_time": "2023-03-04T16:18:13.965Z"
      },
      {
        "duration": 12,
        "start_time": "2023-03-04T16:18:14.016Z"
      },
      {
        "duration": 14,
        "start_time": "2023-03-04T16:18:14.039Z"
      },
      {
        "duration": 104,
        "start_time": "2023-03-04T16:18:14.055Z"
      },
      {
        "duration": 4,
        "start_time": "2023-03-04T16:18:14.161Z"
      },
      {
        "duration": 8,
        "start_time": "2023-03-04T16:18:14.166Z"
      },
      {
        "duration": 6,
        "start_time": "2023-03-04T16:18:14.175Z"
      },
      {
        "duration": 19,
        "start_time": "2023-03-04T16:18:14.183Z"
      },
      {
        "duration": 13,
        "start_time": "2023-03-04T16:18:14.205Z"
      },
      {
        "duration": 2852,
        "start_time": "2023-03-04T16:18:14.219Z"
      },
      {
        "duration": 968,
        "start_time": "2023-03-04T16:18:17.073Z"
      },
      {
        "duration": 17,
        "start_time": "2023-03-04T16:18:18.042Z"
      },
      {
        "duration": 44,
        "start_time": "2023-03-04T16:18:18.060Z"
      },
      {
        "duration": 6,
        "start_time": "2023-03-04T16:18:18.107Z"
      },
      {
        "duration": 93,
        "start_time": "2023-03-04T16:18:18.115Z"
      },
      {
        "duration": 6,
        "start_time": "2023-03-04T16:18:18.209Z"
      },
      {
        "duration": 8,
        "start_time": "2023-03-04T16:18:18.216Z"
      },
      {
        "duration": 4,
        "start_time": "2023-03-04T16:18:18.226Z"
      },
      {
        "duration": 13297,
        "start_time": "2023-03-04T16:18:18.232Z"
      },
      {
        "duration": 4,
        "start_time": "2023-03-04T16:18:31.531Z"
      },
      {
        "duration": 15,
        "start_time": "2023-03-04T16:18:31.536Z"
      },
      {
        "duration": 12,
        "start_time": "2023-03-04T16:18:31.552Z"
      },
      {
        "duration": 9,
        "start_time": "2023-03-04T16:18:31.566Z"
      },
      {
        "duration": 13,
        "start_time": "2023-03-04T16:18:31.576Z"
      },
      {
        "duration": 5,
        "start_time": "2023-03-04T16:49:58.712Z"
      },
      {
        "duration": 3,
        "start_time": "2023-03-04T16:50:05.026Z"
      },
      {
        "duration": 50,
        "start_time": "2023-03-05T15:15:23.639Z"
      },
      {
        "duration": 1321,
        "start_time": "2023-03-05T15:15:25.833Z"
      },
      {
        "duration": 3,
        "start_time": "2023-03-05T15:15:28.112Z"
      },
      {
        "duration": 2907,
        "start_time": "2023-03-05T15:15:28.895Z"
      },
      {
        "duration": 22547,
        "start_time": "2023-03-05T15:15:34.568Z"
      },
      {
        "duration": 2679,
        "start_time": "2023-03-05T15:15:57.118Z"
      },
      {
        "duration": 2,
        "start_time": "2023-03-05T15:15:59.799Z"
      },
      {
        "duration": 805,
        "start_time": "2023-03-05T15:15:59.803Z"
      },
      {
        "duration": 34310,
        "start_time": "2023-03-05T15:16:00.609Z"
      },
      {
        "duration": 12,
        "start_time": "2023-03-05T15:33:29.926Z"
      },
      {
        "duration": 3,
        "start_time": "2023-03-05T15:33:30.095Z"
      },
      {
        "duration": 9,
        "start_time": "2023-03-05T15:33:30.263Z"
      },
      {
        "duration": 1305,
        "start_time": "2023-03-05T15:33:30.623Z"
      },
      {
        "duration": 98,
        "start_time": "2023-03-05T15:33:31.929Z"
      },
      {
        "duration": 28,
        "start_time": "2023-03-05T15:33:32.028Z"
      },
      {
        "duration": 67,
        "start_time": "2023-03-05T15:33:32.057Z"
      },
      {
        "duration": 4,
        "start_time": "2023-03-05T15:33:34.110Z"
      },
      {
        "duration": 42,
        "start_time": "2023-03-05T15:33:34.449Z"
      },
      {
        "duration": 14,
        "start_time": "2023-03-05T15:33:34.630Z"
      },
      {
        "duration": 271,
        "start_time": "2023-03-05T15:33:34.822Z"
      },
      {
        "duration": 14,
        "start_time": "2023-03-05T15:33:35.095Z"
      },
      {
        "duration": 8,
        "start_time": "2023-03-05T15:33:35.214Z"
      },
      {
        "duration": 163,
        "start_time": "2023-03-05T15:33:35.534Z"
      },
      {
        "duration": 19,
        "start_time": "2023-03-05T15:33:35.854Z"
      },
      {
        "duration": 73,
        "start_time": "2023-03-05T15:33:36.133Z"
      },
      {
        "duration": 19,
        "start_time": "2023-03-05T15:33:36.510Z"
      },
      {
        "duration": 9219,
        "start_time": "2023-03-05T17:02:20.712Z"
      },
      {
        "duration": 2336,
        "start_time": "2023-03-05T17:02:29.934Z"
      },
      {
        "duration": 2,
        "start_time": "2023-03-05T17:02:32.272Z"
      },
      {
        "duration": 759,
        "start_time": "2023-03-05T17:02:32.276Z"
      },
      {
        "duration": 22,
        "start_time": "2023-03-05T17:02:33.036Z"
      },
      {
        "duration": 3,
        "start_time": "2023-03-05T17:02:33.059Z"
      },
      {
        "duration": 10,
        "start_time": "2023-03-05T17:02:33.063Z"
      },
      {
        "duration": 1334,
        "start_time": "2023-03-05T17:02:33.074Z"
      },
      {
        "duration": 102,
        "start_time": "2023-03-05T17:02:34.409Z"
      },
      {
        "duration": 14,
        "start_time": "2023-03-05T17:02:34.513Z"
      },
      {
        "duration": 61,
        "start_time": "2023-03-05T17:02:34.528Z"
      },
      {
        "duration": 3,
        "start_time": "2023-03-05T17:02:34.591Z"
      },
      {
        "duration": 60,
        "start_time": "2023-03-05T17:02:34.595Z"
      },
      {
        "duration": 12,
        "start_time": "2023-03-05T17:02:34.657Z"
      },
      {
        "duration": 299,
        "start_time": "2023-03-05T17:02:34.670Z"
      },
      {
        "duration": 15,
        "start_time": "2023-03-05T17:02:34.970Z"
      },
      {
        "duration": 7,
        "start_time": "2023-03-05T17:02:34.986Z"
      },
      {
        "duration": 177,
        "start_time": "2023-03-05T17:02:34.995Z"
      },
      {
        "duration": 20,
        "start_time": "2023-03-05T17:02:35.174Z"
      },
      {
        "duration": 96,
        "start_time": "2023-03-05T17:02:35.196Z"
      },
      {
        "duration": 20,
        "start_time": "2023-03-05T17:02:35.294Z"
      },
      {
        "duration": 56,
        "start_time": "2023-03-05T17:02:35.316Z"
      },
      {
        "duration": 39,
        "start_time": "2023-03-05T17:02:35.374Z"
      },
      {
        "duration": 8,
        "start_time": "2023-03-05T17:02:35.414Z"
      },
      {
        "duration": 35,
        "start_time": "2023-03-05T17:02:35.423Z"
      },
      {
        "duration": 19,
        "start_time": "2023-03-05T17:02:35.460Z"
      },
      {
        "duration": 93,
        "start_time": "2023-03-05T17:02:35.480Z"
      },
      {
        "duration": 3,
        "start_time": "2023-03-05T17:02:35.579Z"
      },
      {
        "duration": 44,
        "start_time": "2023-03-05T17:02:35.585Z"
      },
      {
        "duration": 4,
        "start_time": "2023-03-05T17:02:35.631Z"
      },
      {
        "duration": 29,
        "start_time": "2023-03-05T17:02:35.655Z"
      },
      {
        "duration": 5,
        "start_time": "2023-03-05T17:02:35.685Z"
      },
      {
        "duration": 297,
        "start_time": "2023-03-05T17:02:35.692Z"
      },
      {
        "duration": 73,
        "start_time": "2023-03-05T17:02:35.991Z"
      },
      {
        "duration": 0,
        "start_time": "2023-03-05T17:02:36.066Z"
      },
      {
        "duration": 0,
        "start_time": "2023-03-05T17:02:36.067Z"
      },
      {
        "duration": 0,
        "start_time": "2023-03-05T17:02:36.068Z"
      },
      {
        "duration": 0,
        "start_time": "2023-03-05T17:02:36.069Z"
      },
      {
        "duration": 0,
        "start_time": "2023-03-05T17:02:36.070Z"
      },
      {
        "duration": 0,
        "start_time": "2023-03-05T17:02:36.071Z"
      },
      {
        "duration": 0,
        "start_time": "2023-03-05T17:02:36.072Z"
      },
      {
        "duration": 0,
        "start_time": "2023-03-05T17:02:36.073Z"
      },
      {
        "duration": 0,
        "start_time": "2023-03-05T17:02:36.073Z"
      },
      {
        "duration": 0,
        "start_time": "2023-03-05T17:02:36.074Z"
      },
      {
        "duration": 0,
        "start_time": "2023-03-05T17:02:36.075Z"
      },
      {
        "duration": 0,
        "start_time": "2023-03-05T17:02:36.076Z"
      },
      {
        "duration": 0,
        "start_time": "2023-03-05T17:02:36.077Z"
      },
      {
        "duration": 0,
        "start_time": "2023-03-05T17:02:36.078Z"
      },
      {
        "duration": 0,
        "start_time": "2023-03-05T17:02:36.079Z"
      },
      {
        "duration": 0,
        "start_time": "2023-03-05T17:02:36.079Z"
      },
      {
        "duration": 0,
        "start_time": "2023-03-05T17:02:36.080Z"
      },
      {
        "duration": 0,
        "start_time": "2023-03-05T17:02:36.081Z"
      },
      {
        "duration": 0,
        "start_time": "2023-03-05T17:02:36.082Z"
      },
      {
        "duration": 0,
        "start_time": "2023-03-05T17:02:36.083Z"
      },
      {
        "duration": 0,
        "start_time": "2023-03-05T17:02:36.084Z"
      },
      {
        "duration": 0,
        "start_time": "2023-03-05T17:02:36.085Z"
      },
      {
        "duration": 0,
        "start_time": "2023-03-05T17:02:36.086Z"
      },
      {
        "duration": 0,
        "start_time": "2023-03-05T17:02:36.087Z"
      },
      {
        "duration": 0,
        "start_time": "2023-03-05T17:02:36.088Z"
      },
      {
        "duration": 0,
        "start_time": "2023-03-05T17:02:36.089Z"
      },
      {
        "duration": 0,
        "start_time": "2023-03-05T17:02:36.089Z"
      },
      {
        "duration": 0,
        "start_time": "2023-03-05T17:02:36.090Z"
      },
      {
        "duration": 0,
        "start_time": "2023-03-05T17:02:36.091Z"
      },
      {
        "duration": 0,
        "start_time": "2023-03-05T17:02:36.092Z"
      },
      {
        "duration": 0,
        "start_time": "2023-03-05T17:02:36.093Z"
      },
      {
        "duration": 0,
        "start_time": "2023-03-05T17:02:36.094Z"
      },
      {
        "duration": 0,
        "start_time": "2023-03-05T17:02:36.094Z"
      },
      {
        "duration": 0,
        "start_time": "2023-03-05T17:02:36.095Z"
      },
      {
        "duration": 0,
        "start_time": "2023-03-05T17:02:36.096Z"
      },
      {
        "duration": 0,
        "start_time": "2023-03-05T17:02:36.097Z"
      },
      {
        "duration": 0,
        "start_time": "2023-03-05T17:02:36.098Z"
      },
      {
        "duration": 0,
        "start_time": "2023-03-05T17:02:36.098Z"
      },
      {
        "duration": 0,
        "start_time": "2023-03-05T17:02:36.099Z"
      },
      {
        "duration": 0,
        "start_time": "2023-03-05T17:02:36.100Z"
      },
      {
        "duration": 0,
        "start_time": "2023-03-05T17:02:36.101Z"
      },
      {
        "duration": 0,
        "start_time": "2023-03-05T17:02:36.102Z"
      },
      {
        "duration": 0,
        "start_time": "2023-03-05T17:02:36.103Z"
      },
      {
        "duration": 0,
        "start_time": "2023-03-05T17:02:36.104Z"
      },
      {
        "duration": 0,
        "start_time": "2023-03-05T17:02:36.155Z"
      },
      {
        "duration": 0,
        "start_time": "2023-03-05T17:02:36.156Z"
      },
      {
        "duration": 0,
        "start_time": "2023-03-05T17:02:36.157Z"
      },
      {
        "duration": 0,
        "start_time": "2023-03-05T17:02:36.158Z"
      },
      {
        "duration": 0,
        "start_time": "2023-03-05T17:02:36.159Z"
      },
      {
        "duration": 0,
        "start_time": "2023-03-05T17:02:36.159Z"
      },
      {
        "duration": 0,
        "start_time": "2023-03-05T17:02:36.160Z"
      },
      {
        "duration": 0,
        "start_time": "2023-03-05T17:02:36.161Z"
      },
      {
        "duration": 0,
        "start_time": "2023-03-05T17:02:36.162Z"
      },
      {
        "duration": 0,
        "start_time": "2023-03-05T17:02:36.162Z"
      },
      {
        "duration": 0,
        "start_time": "2023-03-05T17:02:36.163Z"
      },
      {
        "duration": 0,
        "start_time": "2023-03-05T17:02:36.164Z"
      },
      {
        "duration": 0,
        "start_time": "2023-03-05T17:02:36.165Z"
      },
      {
        "duration": 0,
        "start_time": "2023-03-05T17:02:36.166Z"
      },
      {
        "duration": 0,
        "start_time": "2023-03-05T17:02:36.167Z"
      },
      {
        "duration": 0,
        "start_time": "2023-03-05T17:02:36.168Z"
      },
      {
        "duration": 0,
        "start_time": "2023-03-05T17:02:36.168Z"
      },
      {
        "duration": 0,
        "start_time": "2023-03-05T17:02:36.169Z"
      },
      {
        "duration": 0,
        "start_time": "2023-03-05T17:02:36.170Z"
      },
      {
        "duration": 0,
        "start_time": "2023-03-05T17:02:36.171Z"
      },
      {
        "duration": 1,
        "start_time": "2023-03-05T17:02:36.171Z"
      },
      {
        "duration": 0,
        "start_time": "2023-03-05T17:02:36.172Z"
      },
      {
        "duration": 0,
        "start_time": "2023-03-05T17:02:36.173Z"
      },
      {
        "duration": 0,
        "start_time": "2023-03-05T17:02:36.174Z"
      },
      {
        "duration": 0,
        "start_time": "2023-03-05T17:02:36.175Z"
      },
      {
        "duration": 1,
        "start_time": "2023-03-05T17:02:36.175Z"
      },
      {
        "duration": 0,
        "start_time": "2023-03-05T17:02:36.176Z"
      },
      {
        "duration": 0,
        "start_time": "2023-03-05T17:02:36.177Z"
      },
      {
        "duration": 0,
        "start_time": "2023-03-05T17:02:36.178Z"
      },
      {
        "duration": 0,
        "start_time": "2023-03-05T17:02:36.179Z"
      },
      {
        "duration": 0,
        "start_time": "2023-03-05T17:02:36.180Z"
      },
      {
        "duration": 0,
        "start_time": "2023-03-05T17:02:36.181Z"
      },
      {
        "duration": 0,
        "start_time": "2023-03-05T17:02:36.182Z"
      },
      {
        "duration": 0,
        "start_time": "2023-03-05T17:02:36.183Z"
      },
      {
        "duration": 0,
        "start_time": "2023-03-05T17:02:36.183Z"
      },
      {
        "duration": 0,
        "start_time": "2023-03-05T17:02:36.184Z"
      },
      {
        "duration": 0,
        "start_time": "2023-03-05T17:02:36.185Z"
      },
      {
        "duration": 0,
        "start_time": "2023-03-05T17:02:36.186Z"
      },
      {
        "duration": 0,
        "start_time": "2023-03-05T17:02:36.187Z"
      },
      {
        "duration": 0,
        "start_time": "2023-03-05T17:02:36.188Z"
      },
      {
        "duration": 0,
        "start_time": "2023-03-05T17:02:36.189Z"
      },
      {
        "duration": 0,
        "start_time": "2023-03-05T17:02:36.190Z"
      },
      {
        "duration": 0,
        "start_time": "2023-03-05T17:02:36.255Z"
      },
      {
        "duration": 0,
        "start_time": "2023-03-05T17:02:36.257Z"
      },
      {
        "duration": 0,
        "start_time": "2023-03-05T17:02:36.258Z"
      },
      {
        "duration": 9193,
        "start_time": "2023-03-05T17:36:12.591Z"
      },
      {
        "duration": 2229,
        "start_time": "2023-03-05T17:36:21.786Z"
      },
      {
        "duration": 2,
        "start_time": "2023-03-05T17:36:24.017Z"
      },
      {
        "duration": 759,
        "start_time": "2023-03-05T17:36:24.021Z"
      },
      {
        "duration": 15,
        "start_time": "2023-03-05T17:36:24.781Z"
      },
      {
        "duration": 2,
        "start_time": "2023-03-05T17:36:24.798Z"
      },
      {
        "duration": 8,
        "start_time": "2023-03-05T17:36:24.802Z"
      },
      {
        "duration": 1318,
        "start_time": "2023-03-05T17:36:24.812Z"
      },
      {
        "duration": 109,
        "start_time": "2023-03-05T17:36:26.132Z"
      },
      {
        "duration": 19,
        "start_time": "2023-03-05T17:36:26.244Z"
      },
      {
        "duration": 50,
        "start_time": "2023-03-05T17:36:26.265Z"
      },
      {
        "duration": 4,
        "start_time": "2023-03-05T17:36:26.318Z"
      },
      {
        "duration": 73,
        "start_time": "2023-03-05T17:36:26.323Z"
      },
      {
        "duration": 16,
        "start_time": "2023-03-05T17:36:26.398Z"
      },
      {
        "duration": 297,
        "start_time": "2023-03-05T17:36:26.415Z"
      },
      {
        "duration": 15,
        "start_time": "2023-03-05T17:36:26.713Z"
      },
      {
        "duration": 7,
        "start_time": "2023-03-05T17:36:26.730Z"
      },
      {
        "duration": 200,
        "start_time": "2023-03-05T17:36:26.739Z"
      },
      {
        "duration": 30,
        "start_time": "2023-03-05T17:36:26.941Z"
      },
      {
        "duration": 96,
        "start_time": "2023-03-05T17:36:26.973Z"
      },
      {
        "duration": 17,
        "start_time": "2023-03-05T17:36:27.071Z"
      },
      {
        "duration": 27,
        "start_time": "2023-03-05T17:36:27.090Z"
      },
      {
        "duration": 58,
        "start_time": "2023-03-05T17:36:27.119Z"
      },
      {
        "duration": 7,
        "start_time": "2023-03-05T17:36:27.179Z"
      },
      {
        "duration": 6,
        "start_time": "2023-03-05T17:36:27.188Z"
      },
      {
        "duration": 9,
        "start_time": "2023-03-05T17:36:27.195Z"
      },
      {
        "duration": 101,
        "start_time": "2023-03-05T17:36:27.205Z"
      },
      {
        "duration": 3,
        "start_time": "2023-03-05T17:36:27.311Z"
      },
      {
        "duration": 58,
        "start_time": "2023-03-05T17:36:27.315Z"
      },
      {
        "duration": 5,
        "start_time": "2023-03-05T17:36:27.375Z"
      },
      {
        "duration": 29,
        "start_time": "2023-03-05T17:36:27.381Z"
      },
      {
        "duration": 2,
        "start_time": "2023-03-05T17:36:27.411Z"
      },
      {
        "duration": 310,
        "start_time": "2023-03-05T17:36:27.415Z"
      },
      {
        "duration": 95,
        "start_time": "2023-03-05T17:36:27.727Z"
      },
      {
        "duration": 54,
        "start_time": "2023-03-05T17:36:27.824Z"
      },
      {
        "duration": 23,
        "start_time": "2023-03-05T17:36:27.880Z"
      },
      {
        "duration": 65,
        "start_time": "2023-03-05T17:36:27.904Z"
      },
      {
        "duration": 41,
        "start_time": "2023-03-05T17:36:27.971Z"
      },
      {
        "duration": 5,
        "start_time": "2023-03-05T17:36:28.014Z"
      },
      {
        "duration": 323,
        "start_time": "2023-03-05T17:36:28.021Z"
      },
      {
        "duration": 35,
        "start_time": "2023-03-05T17:36:28.355Z"
      },
      {
        "duration": 342,
        "start_time": "2023-03-05T17:36:28.392Z"
      },
      {
        "duration": 32,
        "start_time": "2023-03-05T17:36:28.736Z"
      },
      {
        "duration": 20,
        "start_time": "2023-03-05T17:36:28.770Z"
      },
      {
        "duration": 13,
        "start_time": "2023-03-05T17:36:28.791Z"
      },
      {
        "duration": 16,
        "start_time": "2023-03-05T17:36:28.806Z"
      },
      {
        "duration": 43,
        "start_time": "2023-03-05T17:36:28.823Z"
      },
      {
        "duration": 387,
        "start_time": "2023-03-05T17:36:28.868Z"
      },
      {
        "duration": 17,
        "start_time": "2023-03-05T17:36:29.257Z"
      },
      {
        "duration": 3,
        "start_time": "2023-03-05T17:36:29.276Z"
      },
      {
        "duration": 81,
        "start_time": "2023-03-05T17:36:29.282Z"
      },
      {
        "duration": 58,
        "start_time": "2023-03-05T17:36:29.365Z"
      },
      {
        "duration": 7,
        "start_time": "2023-03-05T17:36:29.425Z"
      },
      {
        "duration": 56,
        "start_time": "2023-03-05T17:36:29.433Z"
      },
      {
        "duration": 3,
        "start_time": "2023-03-05T17:36:29.491Z"
      },
      {
        "duration": 4,
        "start_time": "2023-03-05T17:36:29.496Z"
      },
      {
        "duration": 9,
        "start_time": "2023-03-05T17:36:29.502Z"
      },
      {
        "duration": 60,
        "start_time": "2023-03-05T17:36:29.513Z"
      },
      {
        "duration": 95,
        "start_time": "2023-03-05T17:36:29.574Z"
      },
      {
        "duration": 22,
        "start_time": "2023-03-05T17:36:29.670Z"
      },
      {
        "duration": 177,
        "start_time": "2023-03-05T17:36:29.694Z"
      },
      {
        "duration": 152,
        "start_time": "2023-03-05T17:36:29.873Z"
      },
      {
        "duration": 29,
        "start_time": "2023-03-05T17:36:30.026Z"
      },
      {
        "duration": 19,
        "start_time": "2023-03-05T17:36:30.057Z"
      },
      {
        "duration": 247,
        "start_time": "2023-03-05T17:36:30.078Z"
      },
      {
        "duration": 37,
        "start_time": "2023-03-05T17:36:30.326Z"
      },
      {
        "duration": 5,
        "start_time": "2023-03-05T17:36:30.365Z"
      },
      {
        "duration": 300,
        "start_time": "2023-03-05T17:36:30.372Z"
      },
      {
        "duration": 2,
        "start_time": "2023-03-05T17:36:30.674Z"
      },
      {
        "duration": 292,
        "start_time": "2023-03-05T17:36:30.677Z"
      },
      {
        "duration": 35,
        "start_time": "2023-03-05T17:36:30.971Z"
      },
      {
        "duration": 19,
        "start_time": "2023-03-05T17:36:31.008Z"
      },
      {
        "duration": 264,
        "start_time": "2023-03-05T17:36:31.028Z"
      },
      {
        "duration": 3,
        "start_time": "2023-03-05T17:36:31.294Z"
      },
      {
        "duration": 40,
        "start_time": "2023-03-05T17:36:31.299Z"
      },
      {
        "duration": 35,
        "start_time": "2023-03-05T17:36:31.341Z"
      },
      {
        "duration": 162,
        "start_time": "2023-03-05T17:36:31.377Z"
      },
      {
        "duration": 3,
        "start_time": "2023-03-05T17:36:31.541Z"
      },
      {
        "duration": 188,
        "start_time": "2023-03-05T17:36:31.555Z"
      },
      {
        "duration": 32,
        "start_time": "2023-03-05T17:36:31.744Z"
      },
      {
        "duration": 18,
        "start_time": "2023-03-05T17:36:31.777Z"
      },
      {
        "duration": 19,
        "start_time": "2023-03-05T17:36:31.800Z"
      },
      {
        "duration": 39,
        "start_time": "2023-03-05T17:36:31.820Z"
      },
      {
        "duration": 28,
        "start_time": "2023-03-05T17:36:31.861Z"
      },
      {
        "duration": 5,
        "start_time": "2023-03-05T17:36:31.891Z"
      },
      {
        "duration": 26,
        "start_time": "2023-03-05T17:36:31.898Z"
      },
      {
        "duration": 393,
        "start_time": "2023-03-05T17:36:31.926Z"
      },
      {
        "duration": 380,
        "start_time": "2023-03-05T17:36:32.321Z"
      },
      {
        "duration": 4,
        "start_time": "2023-03-05T17:36:32.703Z"
      },
      {
        "duration": 207,
        "start_time": "2023-03-05T17:36:32.708Z"
      },
      {
        "duration": 0,
        "start_time": "2023-03-05T17:36:32.917Z"
      },
      {
        "duration": 0,
        "start_time": "2023-03-05T17:36:32.918Z"
      },
      {
        "duration": 0,
        "start_time": "2023-03-05T17:36:32.919Z"
      },
      {
        "duration": 0,
        "start_time": "2023-03-05T17:36:32.920Z"
      },
      {
        "duration": 0,
        "start_time": "2023-03-05T17:36:32.921Z"
      },
      {
        "duration": 0,
        "start_time": "2023-03-05T17:36:32.922Z"
      },
      {
        "duration": 0,
        "start_time": "2023-03-05T17:36:32.923Z"
      },
      {
        "duration": 0,
        "start_time": "2023-03-05T17:36:32.924Z"
      },
      {
        "duration": 0,
        "start_time": "2023-03-05T17:36:32.925Z"
      },
      {
        "duration": 0,
        "start_time": "2023-03-05T17:36:32.926Z"
      },
      {
        "duration": 0,
        "start_time": "2023-03-05T17:36:32.927Z"
      },
      {
        "duration": 0,
        "start_time": "2023-03-05T17:36:32.928Z"
      },
      {
        "duration": 0,
        "start_time": "2023-03-05T17:36:32.955Z"
      },
      {
        "duration": 0,
        "start_time": "2023-03-05T17:36:32.956Z"
      },
      {
        "duration": 0,
        "start_time": "2023-03-05T17:36:32.957Z"
      },
      {
        "duration": 0,
        "start_time": "2023-03-05T17:36:32.958Z"
      },
      {
        "duration": 0,
        "start_time": "2023-03-05T17:36:32.959Z"
      },
      {
        "duration": 0,
        "start_time": "2023-03-05T17:36:32.960Z"
      },
      {
        "duration": 0,
        "start_time": "2023-03-05T17:36:32.961Z"
      },
      {
        "duration": 0,
        "start_time": "2023-03-05T17:36:32.962Z"
      },
      {
        "duration": 0,
        "start_time": "2023-03-05T17:36:32.963Z"
      },
      {
        "duration": 0,
        "start_time": "2023-03-05T17:36:32.965Z"
      },
      {
        "duration": 0,
        "start_time": "2023-03-05T17:36:32.965Z"
      },
      {
        "duration": 0,
        "start_time": "2023-03-05T17:36:32.966Z"
      },
      {
        "duration": 0,
        "start_time": "2023-03-05T17:36:32.967Z"
      },
      {
        "duration": 0,
        "start_time": "2023-03-05T17:36:32.969Z"
      },
      {
        "duration": 0,
        "start_time": "2023-03-05T17:36:32.969Z"
      },
      {
        "duration": 0,
        "start_time": "2023-03-05T17:36:32.970Z"
      },
      {
        "duration": 0,
        "start_time": "2023-03-05T17:36:32.971Z"
      },
      {
        "duration": 0,
        "start_time": "2023-03-05T17:36:32.972Z"
      },
      {
        "duration": 0,
        "start_time": "2023-03-05T17:36:32.973Z"
      },
      {
        "duration": 0,
        "start_time": "2023-03-05T17:36:32.973Z"
      },
      {
        "duration": 0,
        "start_time": "2023-03-05T17:36:32.974Z"
      },
      {
        "duration": 23,
        "start_time": "2023-03-05T17:36:38.590Z"
      },
      {
        "duration": 3,
        "start_time": "2023-03-05T17:36:38.918Z"
      },
      {
        "duration": 85,
        "start_time": "2023-03-05T17:36:41.858Z"
      },
      {
        "duration": 3,
        "start_time": "2023-03-05T17:36:42.686Z"
      },
      {
        "duration": 3,
        "start_time": "2023-03-05T17:36:43.057Z"
      },
      {
        "duration": 4,
        "start_time": "2023-03-05T17:36:44.102Z"
      },
      {
        "duration": 112,
        "start_time": "2023-03-05T17:37:49.451Z"
      },
      {
        "duration": 12,
        "start_time": "2023-03-05T17:38:25.678Z"
      },
      {
        "duration": 9,
        "start_time": "2023-03-05T17:38:32.768Z"
      },
      {
        "duration": 11,
        "start_time": "2023-03-05T17:38:34.063Z"
      },
      {
        "duration": 11,
        "start_time": "2023-03-05T17:38:38.028Z"
      },
      {
        "duration": 11,
        "start_time": "2023-03-05T17:38:41.846Z"
      },
      {
        "duration": 11,
        "start_time": "2023-03-05T17:38:45.573Z"
      },
      {
        "duration": 10,
        "start_time": "2023-03-05T17:38:48.274Z"
      },
      {
        "duration": 8,
        "start_time": "2023-03-05T17:38:51.213Z"
      },
      {
        "duration": 7,
        "start_time": "2023-03-05T17:38:56.589Z"
      },
      {
        "duration": 11,
        "start_time": "2023-03-05T17:39:20.094Z"
      },
      {
        "duration": 10,
        "start_time": "2023-03-05T17:39:25.909Z"
      },
      {
        "duration": 19,
        "start_time": "2023-03-05T17:39:36.605Z"
      },
      {
        "duration": 10,
        "start_time": "2023-03-05T17:39:40.670Z"
      },
      {
        "duration": 9232,
        "start_time": "2023-03-05T17:40:23.363Z"
      },
      {
        "duration": 2287,
        "start_time": "2023-03-05T17:40:32.598Z"
      },
      {
        "duration": 3,
        "start_time": "2023-03-05T17:40:34.886Z"
      },
      {
        "duration": 789,
        "start_time": "2023-03-05T17:40:34.892Z"
      },
      {
        "duration": 15,
        "start_time": "2023-03-05T17:40:35.683Z"
      },
      {
        "duration": 6,
        "start_time": "2023-03-05T17:40:35.699Z"
      },
      {
        "duration": 10,
        "start_time": "2023-03-05T17:40:35.706Z"
      },
      {
        "duration": 1344,
        "start_time": "2023-03-05T17:40:35.717Z"
      },
      {
        "duration": 95,
        "start_time": "2023-03-05T17:40:37.062Z"
      },
      {
        "duration": 13,
        "start_time": "2023-03-05T17:40:37.160Z"
      },
      {
        "duration": 55,
        "start_time": "2023-03-05T17:40:37.174Z"
      },
      {
        "duration": 3,
        "start_time": "2023-03-05T17:40:37.230Z"
      },
      {
        "duration": 63,
        "start_time": "2023-03-05T17:40:37.235Z"
      },
      {
        "duration": 11,
        "start_time": "2023-03-05T17:40:37.300Z"
      },
      {
        "duration": 305,
        "start_time": "2023-03-05T17:40:37.312Z"
      },
      {
        "duration": 18,
        "start_time": "2023-03-05T17:40:37.618Z"
      },
      {
        "duration": 19,
        "start_time": "2023-03-05T17:40:37.638Z"
      },
      {
        "duration": 169,
        "start_time": "2023-03-05T17:40:37.659Z"
      },
      {
        "duration": 29,
        "start_time": "2023-03-05T17:40:37.830Z"
      },
      {
        "duration": 74,
        "start_time": "2023-03-05T17:40:37.861Z"
      },
      {
        "duration": 18,
        "start_time": "2023-03-05T17:40:37.956Z"
      },
      {
        "duration": 29,
        "start_time": "2023-03-05T17:40:37.977Z"
      },
      {
        "duration": 64,
        "start_time": "2023-03-05T17:40:38.008Z"
      },
      {
        "duration": 9,
        "start_time": "2023-03-05T17:40:38.074Z"
      },
      {
        "duration": 8,
        "start_time": "2023-03-05T17:40:38.085Z"
      },
      {
        "duration": 24,
        "start_time": "2023-03-05T17:40:38.095Z"
      },
      {
        "duration": 91,
        "start_time": "2023-03-05T17:40:38.120Z"
      },
      {
        "duration": 3,
        "start_time": "2023-03-05T17:40:38.217Z"
      },
      {
        "duration": 60,
        "start_time": "2023-03-05T17:40:38.222Z"
      },
      {
        "duration": 6,
        "start_time": "2023-03-05T17:40:38.283Z"
      },
      {
        "duration": 34,
        "start_time": "2023-03-05T17:40:38.291Z"
      },
      {
        "duration": 2,
        "start_time": "2023-03-05T17:40:38.327Z"
      },
      {
        "duration": 313,
        "start_time": "2023-03-05T17:40:38.331Z"
      },
      {
        "duration": 101,
        "start_time": "2023-03-05T17:40:38.646Z"
      },
      {
        "duration": 54,
        "start_time": "2023-03-05T17:40:38.755Z"
      },
      {
        "duration": 26,
        "start_time": "2023-03-05T17:40:38.810Z"
      },
      {
        "duration": 52,
        "start_time": "2023-03-05T17:40:38.838Z"
      },
      {
        "duration": 37,
        "start_time": "2023-03-05T17:40:38.892Z"
      },
      {
        "duration": 20,
        "start_time": "2023-03-05T17:40:38.930Z"
      },
      {
        "duration": 349,
        "start_time": "2023-03-05T17:40:38.954Z"
      },
      {
        "duration": 31,
        "start_time": "2023-03-05T17:40:39.305Z"
      },
      {
        "duration": 306,
        "start_time": "2023-03-05T17:40:39.338Z"
      },
      {
        "duration": 19,
        "start_time": "2023-03-05T17:40:39.655Z"
      },
      {
        "duration": 19,
        "start_time": "2023-03-05T17:40:39.676Z"
      },
      {
        "duration": 11,
        "start_time": "2023-03-05T17:40:39.697Z"
      },
      {
        "duration": 18,
        "start_time": "2023-03-05T17:40:39.710Z"
      },
      {
        "duration": 34,
        "start_time": "2023-03-05T17:40:39.730Z"
      },
      {
        "duration": 390,
        "start_time": "2023-03-05T17:40:39.766Z"
      },
      {
        "duration": 13,
        "start_time": "2023-03-05T17:40:40.158Z"
      },
      {
        "duration": 20,
        "start_time": "2023-03-05T17:40:40.172Z"
      },
      {
        "duration": 65,
        "start_time": "2023-03-05T17:40:40.194Z"
      },
      {
        "duration": 54,
        "start_time": "2023-03-05T17:40:40.261Z"
      },
      {
        "duration": 6,
        "start_time": "2023-03-05T17:40:40.317Z"
      },
      {
        "duration": 69,
        "start_time": "2023-03-05T17:40:40.325Z"
      },
      {
        "duration": 4,
        "start_time": "2023-03-05T17:40:40.396Z"
      },
      {
        "duration": 8,
        "start_time": "2023-03-05T17:40:40.401Z"
      },
      {
        "duration": 17,
        "start_time": "2023-03-05T17:40:40.410Z"
      },
      {
        "duration": 36,
        "start_time": "2023-03-05T17:40:40.429Z"
      },
      {
        "duration": 89,
        "start_time": "2023-03-05T17:40:40.467Z"
      },
      {
        "duration": 22,
        "start_time": "2023-03-05T17:40:40.557Z"
      },
      {
        "duration": 177,
        "start_time": "2023-03-05T17:40:40.580Z"
      },
      {
        "duration": 144,
        "start_time": "2023-03-05T17:40:40.758Z"
      },
      {
        "duration": 19,
        "start_time": "2023-03-05T17:40:40.904Z"
      },
      {
        "duration": 38,
        "start_time": "2023-03-05T17:40:40.925Z"
      },
      {
        "duration": 238,
        "start_time": "2023-03-05T17:40:40.965Z"
      },
      {
        "duration": 33,
        "start_time": "2023-03-05T17:40:41.204Z"
      },
      {
        "duration": 4,
        "start_time": "2023-03-05T17:40:41.238Z"
      },
      {
        "duration": 284,
        "start_time": "2023-03-05T17:40:41.255Z"
      },
      {
        "duration": 2,
        "start_time": "2023-03-05T17:40:41.541Z"
      },
      {
        "duration": 274,
        "start_time": "2023-03-05T17:40:41.544Z"
      },
      {
        "duration": 43,
        "start_time": "2023-03-05T17:40:41.820Z"
      },
      {
        "duration": 4,
        "start_time": "2023-03-05T17:40:41.864Z"
      },
      {
        "duration": 260,
        "start_time": "2023-03-05T17:40:41.869Z"
      },
      {
        "duration": 3,
        "start_time": "2023-03-05T17:40:42.131Z"
      },
      {
        "duration": 42,
        "start_time": "2023-03-05T17:40:42.136Z"
      },
      {
        "duration": 10,
        "start_time": "2023-03-05T17:40:42.180Z"
      },
      {
        "duration": 158,
        "start_time": "2023-03-05T17:40:42.191Z"
      },
      {
        "duration": 6,
        "start_time": "2023-03-05T17:40:42.351Z"
      },
      {
        "duration": 170,
        "start_time": "2023-03-05T17:40:42.359Z"
      },
      {
        "duration": 34,
        "start_time": "2023-03-05T17:40:42.531Z"
      },
      {
        "duration": 17,
        "start_time": "2023-03-05T17:40:42.566Z"
      },
      {
        "duration": 17,
        "start_time": "2023-03-05T17:40:42.588Z"
      },
      {
        "duration": 7,
        "start_time": "2023-03-05T17:40:42.606Z"
      },
      {
        "duration": 51,
        "start_time": "2023-03-05T17:40:42.615Z"
      },
      {
        "duration": 2,
        "start_time": "2023-03-05T17:40:42.667Z"
      },
      {
        "duration": 20,
        "start_time": "2023-03-05T17:40:42.671Z"
      },
      {
        "duration": 412,
        "start_time": "2023-03-05T17:40:42.693Z"
      },
      {
        "duration": 362,
        "start_time": "2023-03-05T17:40:43.107Z"
      },
      {
        "duration": 3,
        "start_time": "2023-03-05T17:40:43.471Z"
      },
      {
        "duration": 35,
        "start_time": "2023-03-05T17:40:43.476Z"
      },
      {
        "duration": 42,
        "start_time": "2023-03-05T17:40:43.513Z"
      },
      {
        "duration": 3,
        "start_time": "2023-03-05T17:40:43.556Z"
      },
      {
        "duration": 65,
        "start_time": "2023-03-05T17:40:43.560Z"
      },
      {
        "duration": 3,
        "start_time": "2023-03-05T17:40:43.627Z"
      },
      {
        "duration": 4,
        "start_time": "2023-03-05T17:40:43.632Z"
      },
      {
        "duration": 21,
        "start_time": "2023-03-05T17:40:43.638Z"
      },
      {
        "duration": 137,
        "start_time": "2023-03-05T17:40:43.661Z"
      },
      {
        "duration": 7,
        "start_time": "2023-03-05T17:40:43.800Z"
      },
      {
        "duration": 14,
        "start_time": "2023-03-05T17:40:43.808Z"
      },
      {
        "duration": 16,
        "start_time": "2023-03-05T17:40:43.823Z"
      },
      {
        "duration": 18,
        "start_time": "2023-03-05T17:40:43.840Z"
      },
      {
        "duration": 198,
        "start_time": "2023-03-05T17:40:43.859Z"
      },
      {
        "duration": 0,
        "start_time": "2023-03-05T17:40:44.059Z"
      },
      {
        "duration": 0,
        "start_time": "2023-03-05T17:40:44.060Z"
      },
      {
        "duration": 0,
        "start_time": "2023-03-05T17:40:44.061Z"
      },
      {
        "duration": 0,
        "start_time": "2023-03-05T17:40:44.062Z"
      },
      {
        "duration": 0,
        "start_time": "2023-03-05T17:40:44.063Z"
      },
      {
        "duration": 0,
        "start_time": "2023-03-05T17:40:44.064Z"
      },
      {
        "duration": 0,
        "start_time": "2023-03-05T17:40:44.065Z"
      },
      {
        "duration": 0,
        "start_time": "2023-03-05T17:40:44.065Z"
      },
      {
        "duration": 0,
        "start_time": "2023-03-05T17:40:44.066Z"
      },
      {
        "duration": 0,
        "start_time": "2023-03-05T17:40:44.067Z"
      },
      {
        "duration": 0,
        "start_time": "2023-03-05T17:40:44.068Z"
      },
      {
        "duration": 0,
        "start_time": "2023-03-05T17:40:44.070Z"
      },
      {
        "duration": 0,
        "start_time": "2023-03-05T17:40:44.070Z"
      },
      {
        "duration": 0,
        "start_time": "2023-03-05T17:40:44.071Z"
      },
      {
        "duration": 0,
        "start_time": "2023-03-05T17:40:44.072Z"
      },
      {
        "duration": 0,
        "start_time": "2023-03-05T17:40:44.073Z"
      },
      {
        "duration": 0,
        "start_time": "2023-03-05T17:40:44.074Z"
      },
      {
        "duration": 0,
        "start_time": "2023-03-05T17:40:44.074Z"
      },
      {
        "duration": 0,
        "start_time": "2023-03-05T17:40:44.075Z"
      },
      {
        "duration": 0,
        "start_time": "2023-03-05T17:40:44.077Z"
      },
      {
        "duration": 0,
        "start_time": "2023-03-05T17:40:44.077Z"
      },
      {
        "duration": 0,
        "start_time": "2023-03-05T17:40:44.078Z"
      },
      {
        "duration": 0,
        "start_time": "2023-03-05T17:40:44.079Z"
      },
      {
        "duration": 49,
        "start_time": "2023-03-06T07:46:40.181Z"
      },
      {
        "duration": 23178,
        "start_time": "2023-03-06T07:46:47.057Z"
      },
      {
        "duration": 2634,
        "start_time": "2023-03-06T07:47:10.237Z"
      },
      {
        "duration": 3,
        "start_time": "2023-03-06T07:47:12.872Z"
      },
      {
        "duration": 1060,
        "start_time": "2023-03-06T07:47:12.878Z"
      },
      {
        "duration": 16,
        "start_time": "2023-03-06T07:47:13.941Z"
      },
      {
        "duration": 3,
        "start_time": "2023-03-06T07:47:13.959Z"
      },
      {
        "duration": 9,
        "start_time": "2023-03-06T07:47:13.964Z"
      },
      {
        "duration": 1532,
        "start_time": "2023-03-06T07:47:13.975Z"
      },
      {
        "duration": 95,
        "start_time": "2023-03-06T07:47:15.509Z"
      },
      {
        "duration": 15,
        "start_time": "2023-03-06T07:47:15.606Z"
      },
      {
        "duration": 69,
        "start_time": "2023-03-06T07:47:15.623Z"
      },
      {
        "duration": 4,
        "start_time": "2023-03-06T07:47:15.694Z"
      },
      {
        "duration": 56,
        "start_time": "2023-03-06T07:47:15.699Z"
      },
      {
        "duration": 16,
        "start_time": "2023-03-06T07:47:15.757Z"
      },
      {
        "duration": 341,
        "start_time": "2023-03-06T07:47:15.780Z"
      },
      {
        "duration": 15,
        "start_time": "2023-03-06T07:47:16.122Z"
      },
      {
        "duration": 8,
        "start_time": "2023-03-06T07:47:16.147Z"
      },
      {
        "duration": 164,
        "start_time": "2023-03-06T07:47:16.156Z"
      },
      {
        "duration": 28,
        "start_time": "2023-03-06T07:47:16.322Z"
      },
      {
        "duration": 78,
        "start_time": "2023-03-06T07:47:16.352Z"
      },
      {
        "duration": 28,
        "start_time": "2023-03-06T07:47:16.431Z"
      },
      {
        "duration": 28,
        "start_time": "2023-03-06T07:47:16.460Z"
      },
      {
        "duration": 33,
        "start_time": "2023-03-06T07:47:16.490Z"
      },
      {
        "duration": 7,
        "start_time": "2023-03-06T07:47:16.547Z"
      },
      {
        "duration": 8,
        "start_time": "2023-03-06T07:47:16.556Z"
      },
      {
        "duration": 5,
        "start_time": "2023-03-06T07:47:16.565Z"
      },
      {
        "duration": 99,
        "start_time": "2023-03-06T07:47:16.571Z"
      },
      {
        "duration": 3,
        "start_time": "2023-03-06T07:47:16.675Z"
      },
      {
        "duration": 48,
        "start_time": "2023-03-06T07:47:16.680Z"
      },
      {
        "duration": 5,
        "start_time": "2023-03-06T07:47:16.730Z"
      },
      {
        "duration": 26,
        "start_time": "2023-03-06T07:47:16.747Z"
      },
      {
        "duration": 3,
        "start_time": "2023-03-06T07:47:16.774Z"
      },
      {
        "duration": 309,
        "start_time": "2023-03-06T07:47:16.779Z"
      },
      {
        "duration": 119,
        "start_time": "2023-03-06T07:47:17.090Z"
      },
      {
        "duration": 52,
        "start_time": "2023-03-06T07:47:17.211Z"
      },
      {
        "duration": 27,
        "start_time": "2023-03-06T07:47:17.265Z"
      },
      {
        "duration": 60,
        "start_time": "2023-03-06T07:47:17.294Z"
      },
      {
        "duration": 39,
        "start_time": "2023-03-06T07:47:17.356Z"
      },
      {
        "duration": 4,
        "start_time": "2023-03-06T07:47:17.397Z"
      },
      {
        "duration": 394,
        "start_time": "2023-03-06T07:47:17.402Z"
      },
      {
        "duration": 35,
        "start_time": "2023-03-06T07:47:17.798Z"
      },
      {
        "duration": 333,
        "start_time": "2023-03-06T07:47:17.835Z"
      },
      {
        "duration": 19,
        "start_time": "2023-03-06T07:47:18.170Z"
      },
      {
        "duration": 29,
        "start_time": "2023-03-06T07:47:18.191Z"
      },
      {
        "duration": 15,
        "start_time": "2023-03-06T07:47:18.221Z"
      },
      {
        "duration": 17,
        "start_time": "2023-03-06T07:47:18.248Z"
      },
      {
        "duration": 19,
        "start_time": "2023-03-06T07:47:18.266Z"
      },
      {
        "duration": 431,
        "start_time": "2023-03-06T07:47:18.287Z"
      },
      {
        "duration": 15,
        "start_time": "2023-03-06T07:47:18.720Z"
      },
      {
        "duration": 12,
        "start_time": "2023-03-06T07:47:18.737Z"
      },
      {
        "duration": 66,
        "start_time": "2023-03-06T07:47:18.751Z"
      },
      {
        "duration": 63,
        "start_time": "2023-03-06T07:47:18.819Z"
      },
      {
        "duration": 7,
        "start_time": "2023-03-06T07:47:18.884Z"
      },
      {
        "duration": 38,
        "start_time": "2023-03-06T07:47:18.893Z"
      },
      {
        "duration": 17,
        "start_time": "2023-03-06T07:47:18.933Z"
      },
      {
        "duration": 11,
        "start_time": "2023-03-06T07:47:18.951Z"
      },
      {
        "duration": 11,
        "start_time": "2023-03-06T07:47:18.963Z"
      },
      {
        "duration": 31,
        "start_time": "2023-03-06T07:47:18.976Z"
      },
      {
        "duration": 98,
        "start_time": "2023-03-06T07:47:19.008Z"
      },
      {
        "duration": 24,
        "start_time": "2023-03-06T07:47:19.108Z"
      },
      {
        "duration": 170,
        "start_time": "2023-03-06T07:47:19.148Z"
      },
      {
        "duration": 159,
        "start_time": "2023-03-06T07:47:19.319Z"
      },
      {
        "duration": 21,
        "start_time": "2023-03-06T07:47:19.480Z"
      },
      {
        "duration": 20,
        "start_time": "2023-03-06T07:47:19.502Z"
      },
      {
        "duration": 249,
        "start_time": "2023-03-06T07:47:19.524Z"
      },
      {
        "duration": 34,
        "start_time": "2023-03-06T07:47:19.774Z"
      },
      {
        "duration": 4,
        "start_time": "2023-03-06T07:47:19.810Z"
      },
      {
        "duration": 306,
        "start_time": "2023-03-06T07:47:19.815Z"
      },
      {
        "duration": 3,
        "start_time": "2023-03-06T07:47:20.122Z"
      },
      {
        "duration": 300,
        "start_time": "2023-03-06T07:47:20.126Z"
      },
      {
        "duration": 47,
        "start_time": "2023-03-06T07:47:20.428Z"
      },
      {
        "duration": 4,
        "start_time": "2023-03-06T07:47:20.477Z"
      },
      {
        "duration": 298,
        "start_time": "2023-03-06T07:47:20.483Z"
      },
      {
        "duration": 3,
        "start_time": "2023-03-06T07:47:20.783Z"
      },
      {
        "duration": 34,
        "start_time": "2023-03-06T07:47:20.787Z"
      },
      {
        "duration": 26,
        "start_time": "2023-03-06T07:47:20.823Z"
      },
      {
        "duration": 159,
        "start_time": "2023-03-06T07:47:20.850Z"
      },
      {
        "duration": 3,
        "start_time": "2023-03-06T07:47:21.011Z"
      },
      {
        "duration": 160,
        "start_time": "2023-03-06T07:47:21.016Z"
      },
      {
        "duration": 32,
        "start_time": "2023-03-06T07:47:21.177Z"
      },
      {
        "duration": 19,
        "start_time": "2023-03-06T07:47:21.211Z"
      },
      {
        "duration": 17,
        "start_time": "2023-03-06T07:47:21.250Z"
      },
      {
        "duration": 30,
        "start_time": "2023-03-06T07:47:21.269Z"
      },
      {
        "duration": 25,
        "start_time": "2023-03-06T07:47:21.300Z"
      },
      {
        "duration": 4,
        "start_time": "2023-03-06T07:47:21.327Z"
      },
      {
        "duration": 27,
        "start_time": "2023-03-06T07:47:21.332Z"
      },
      {
        "duration": 409,
        "start_time": "2023-03-06T07:47:21.361Z"
      },
      {
        "duration": 379,
        "start_time": "2023-03-06T07:47:21.772Z"
      },
      {
        "duration": 4,
        "start_time": "2023-03-06T07:47:22.153Z"
      },
      {
        "duration": 42,
        "start_time": "2023-03-06T07:47:22.158Z"
      },
      {
        "duration": 24,
        "start_time": "2023-03-06T07:47:22.202Z"
      },
      {
        "duration": 2,
        "start_time": "2023-03-06T07:47:22.228Z"
      },
      {
        "duration": 166,
        "start_time": "2023-03-06T07:47:22.231Z"
      },
      {
        "duration": 3,
        "start_time": "2023-03-06T07:47:22.398Z"
      },
      {
        "duration": 8,
        "start_time": "2023-03-06T07:47:22.402Z"
      },
      {
        "duration": 10,
        "start_time": "2023-03-06T07:47:22.411Z"
      },
      {
        "duration": 188,
        "start_time": "2023-03-06T07:47:22.422Z"
      },
      {
        "duration": 0,
        "start_time": "2023-03-06T07:47:22.612Z"
      },
      {
        "duration": 0,
        "start_time": "2023-03-06T07:47:22.613Z"
      },
      {
        "duration": 0,
        "start_time": "2023-03-06T07:47:22.615Z"
      },
      {
        "duration": 0,
        "start_time": "2023-03-06T07:47:22.615Z"
      },
      {
        "duration": 0,
        "start_time": "2023-03-06T07:47:22.616Z"
      },
      {
        "duration": 0,
        "start_time": "2023-03-06T07:47:22.617Z"
      },
      {
        "duration": 0,
        "start_time": "2023-03-06T07:47:22.619Z"
      },
      {
        "duration": 0,
        "start_time": "2023-03-06T07:47:22.620Z"
      },
      {
        "duration": 0,
        "start_time": "2023-03-06T07:47:22.621Z"
      },
      {
        "duration": 0,
        "start_time": "2023-03-06T07:47:22.622Z"
      },
      {
        "duration": 0,
        "start_time": "2023-03-06T07:47:22.623Z"
      },
      {
        "duration": 0,
        "start_time": "2023-03-06T07:47:22.624Z"
      },
      {
        "duration": 0,
        "start_time": "2023-03-06T07:47:22.624Z"
      },
      {
        "duration": 0,
        "start_time": "2023-03-06T07:47:22.625Z"
      },
      {
        "duration": 0,
        "start_time": "2023-03-06T07:47:22.648Z"
      },
      {
        "duration": 0,
        "start_time": "2023-03-06T07:47:22.650Z"
      },
      {
        "duration": 0,
        "start_time": "2023-03-06T07:47:22.651Z"
      },
      {
        "duration": 0,
        "start_time": "2023-03-06T07:47:22.652Z"
      },
      {
        "duration": 0,
        "start_time": "2023-03-06T07:47:22.653Z"
      },
      {
        "duration": 0,
        "start_time": "2023-03-06T07:47:22.654Z"
      },
      {
        "duration": 0,
        "start_time": "2023-03-06T07:47:22.655Z"
      },
      {
        "duration": 0,
        "start_time": "2023-03-06T07:47:22.656Z"
      },
      {
        "duration": 0,
        "start_time": "2023-03-06T07:47:22.657Z"
      },
      {
        "duration": 0,
        "start_time": "2023-03-06T07:47:22.658Z"
      },
      {
        "duration": 0,
        "start_time": "2023-03-06T07:47:22.659Z"
      },
      {
        "duration": 0,
        "start_time": "2023-03-06T07:47:22.660Z"
      },
      {
        "duration": 0,
        "start_time": "2023-03-06T07:47:22.661Z"
      },
      {
        "duration": 0,
        "start_time": "2023-03-06T07:47:22.662Z"
      },
      {
        "duration": 0,
        "start_time": "2023-03-06T07:47:22.663Z"
      },
      {
        "duration": 186,
        "start_time": "2023-03-06T08:06:34.583Z"
      },
      {
        "duration": 10,
        "start_time": "2023-03-06T08:06:39.284Z"
      },
      {
        "duration": 8,
        "start_time": "2023-03-06T08:06:39.600Z"
      },
      {
        "duration": 8,
        "start_time": "2023-03-06T08:06:39.784Z"
      },
      {
        "duration": 9,
        "start_time": "2023-03-06T08:06:43.591Z"
      },
      {
        "duration": 59,
        "start_time": "2023-03-06T08:06:48.320Z"
      },
      {
        "duration": 102,
        "start_time": "2023-03-06T08:06:48.518Z"
      },
      {
        "duration": 14,
        "start_time": "2023-03-06T08:06:48.937Z"
      },
      {
        "duration": 9,
        "start_time": "2023-03-06T08:07:51.280Z"
      },
      {
        "duration": 9,
        "start_time": "2023-03-06T08:07:51.486Z"
      },
      {
        "duration": 14,
        "start_time": "2023-03-06T08:07:57.591Z"
      },
      {
        "duration": 908,
        "start_time": "2023-03-06T08:08:02.856Z"
      },
      {
        "duration": 6,
        "start_time": "2023-03-06T08:08:07.312Z"
      },
      {
        "duration": 5,
        "start_time": "2023-03-06T08:08:13.031Z"
      },
      {
        "duration": 25,
        "start_time": "2023-03-06T08:08:30.290Z"
      },
      {
        "duration": 9443,
        "start_time": "2023-03-06T08:09:10.956Z"
      },
      {
        "duration": 2366,
        "start_time": "2023-03-06T08:09:20.401Z"
      },
      {
        "duration": 3,
        "start_time": "2023-03-06T08:09:22.769Z"
      },
      {
        "duration": 816,
        "start_time": "2023-03-06T08:09:22.774Z"
      },
      {
        "duration": 16,
        "start_time": "2023-03-06T08:09:23.591Z"
      },
      {
        "duration": 3,
        "start_time": "2023-03-06T08:09:23.608Z"
      },
      {
        "duration": 9,
        "start_time": "2023-03-06T08:09:23.613Z"
      },
      {
        "duration": 1453,
        "start_time": "2023-03-06T08:09:23.624Z"
      },
      {
        "duration": 100,
        "start_time": "2023-03-06T08:09:25.078Z"
      },
      {
        "duration": 14,
        "start_time": "2023-03-06T08:09:25.181Z"
      },
      {
        "duration": 63,
        "start_time": "2023-03-06T08:09:25.197Z"
      },
      {
        "duration": 4,
        "start_time": "2023-03-06T08:09:25.261Z"
      },
      {
        "duration": 54,
        "start_time": "2023-03-06T08:09:25.267Z"
      },
      {
        "duration": 25,
        "start_time": "2023-03-06T08:09:25.323Z"
      },
      {
        "duration": 358,
        "start_time": "2023-03-06T08:09:25.351Z"
      },
      {
        "duration": 15,
        "start_time": "2023-03-06T08:09:25.711Z"
      },
      {
        "duration": 21,
        "start_time": "2023-03-06T08:09:25.727Z"
      },
      {
        "duration": 166,
        "start_time": "2023-03-06T08:09:25.750Z"
      },
      {
        "duration": 31,
        "start_time": "2023-03-06T08:09:25.918Z"
      },
      {
        "duration": 77,
        "start_time": "2023-03-06T08:09:25.951Z"
      },
      {
        "duration": 31,
        "start_time": "2023-03-06T08:09:26.030Z"
      },
      {
        "duration": 28,
        "start_time": "2023-03-06T08:09:26.063Z"
      },
      {
        "duration": 37,
        "start_time": "2023-03-06T08:09:26.092Z"
      },
      {
        "duration": 20,
        "start_time": "2023-03-06T08:09:26.131Z"
      },
      {
        "duration": 6,
        "start_time": "2023-03-06T08:09:26.153Z"
      },
      {
        "duration": 5,
        "start_time": "2023-03-06T08:09:26.161Z"
      },
      {
        "duration": 105,
        "start_time": "2023-03-06T08:09:26.167Z"
      },
      {
        "duration": 4,
        "start_time": "2023-03-06T08:09:26.276Z"
      },
      {
        "duration": 48,
        "start_time": "2023-03-06T08:09:26.282Z"
      },
      {
        "duration": 16,
        "start_time": "2023-03-06T08:09:26.332Z"
      },
      {
        "duration": 24,
        "start_time": "2023-03-06T08:09:26.350Z"
      },
      {
        "duration": 3,
        "start_time": "2023-03-06T08:09:26.375Z"
      },
      {
        "duration": 318,
        "start_time": "2023-03-06T08:09:26.379Z"
      },
      {
        "duration": 112,
        "start_time": "2023-03-06T08:09:26.699Z"
      },
      {
        "duration": 57,
        "start_time": "2023-03-06T08:09:26.813Z"
      },
      {
        "duration": 28,
        "start_time": "2023-03-06T08:09:26.872Z"
      },
      {
        "duration": 59,
        "start_time": "2023-03-06T08:09:26.901Z"
      },
      {
        "duration": 42,
        "start_time": "2023-03-06T08:09:26.961Z"
      },
      {
        "duration": 18,
        "start_time": "2023-03-06T08:09:27.005Z"
      },
      {
        "duration": 353,
        "start_time": "2023-03-06T08:09:27.024Z"
      },
      {
        "duration": 34,
        "start_time": "2023-03-06T08:09:27.379Z"
      },
      {
        "duration": 364,
        "start_time": "2023-03-06T08:09:27.415Z"
      },
      {
        "duration": 20,
        "start_time": "2023-03-06T08:09:27.780Z"
      },
      {
        "duration": 26,
        "start_time": "2023-03-06T08:09:27.801Z"
      },
      {
        "duration": 24,
        "start_time": "2023-03-06T08:09:27.829Z"
      },
      {
        "duration": 19,
        "start_time": "2023-03-06T08:09:27.855Z"
      },
      {
        "duration": 19,
        "start_time": "2023-03-06T08:09:27.875Z"
      },
      {
        "duration": 443,
        "start_time": "2023-03-06T08:09:27.896Z"
      },
      {
        "duration": 17,
        "start_time": "2023-03-06T08:09:28.340Z"
      },
      {
        "duration": 5,
        "start_time": "2023-03-06T08:09:28.359Z"
      },
      {
        "duration": 64,
        "start_time": "2023-03-06T08:09:28.366Z"
      },
      {
        "duration": 68,
        "start_time": "2023-03-06T08:09:28.432Z"
      },
      {
        "duration": 7,
        "start_time": "2023-03-06T08:09:28.501Z"
      },
      {
        "duration": 51,
        "start_time": "2023-03-06T08:09:28.510Z"
      },
      {
        "duration": 3,
        "start_time": "2023-03-06T08:09:28.563Z"
      },
      {
        "duration": 8,
        "start_time": "2023-03-06T08:09:28.568Z"
      },
      {
        "duration": 14,
        "start_time": "2023-03-06T08:09:28.577Z"
      },
      {
        "duration": 34,
        "start_time": "2023-03-06T08:09:28.592Z"
      },
      {
        "duration": 90,
        "start_time": "2023-03-06T08:09:28.628Z"
      },
      {
        "duration": 34,
        "start_time": "2023-03-06T08:09:28.720Z"
      },
      {
        "duration": 178,
        "start_time": "2023-03-06T08:09:28.756Z"
      },
      {
        "duration": 163,
        "start_time": "2023-03-06T08:09:28.935Z"
      },
      {
        "duration": 21,
        "start_time": "2023-03-06T08:09:29.099Z"
      },
      {
        "duration": 34,
        "start_time": "2023-03-06T08:09:29.122Z"
      },
      {
        "duration": 253,
        "start_time": "2023-03-06T08:09:29.158Z"
      },
      {
        "duration": 41,
        "start_time": "2023-03-06T08:09:29.413Z"
      },
      {
        "duration": 4,
        "start_time": "2023-03-06T08:09:29.456Z"
      },
      {
        "duration": 309,
        "start_time": "2023-03-06T08:09:29.462Z"
      },
      {
        "duration": 2,
        "start_time": "2023-03-06T08:09:29.773Z"
      },
      {
        "duration": 306,
        "start_time": "2023-03-06T08:09:29.777Z"
      },
      {
        "duration": 43,
        "start_time": "2023-03-06T08:09:30.085Z"
      },
      {
        "duration": 18,
        "start_time": "2023-03-06T08:09:30.130Z"
      },
      {
        "duration": 290,
        "start_time": "2023-03-06T08:09:30.149Z"
      },
      {
        "duration": 7,
        "start_time": "2023-03-06T08:09:30.441Z"
      },
      {
        "duration": 59,
        "start_time": "2023-03-06T08:09:30.450Z"
      },
      {
        "duration": 46,
        "start_time": "2023-03-06T08:09:30.511Z"
      },
      {
        "duration": 166,
        "start_time": "2023-03-06T08:09:30.559Z"
      },
      {
        "duration": 4,
        "start_time": "2023-03-06T08:09:30.727Z"
      },
      {
        "duration": 187,
        "start_time": "2023-03-06T08:09:30.733Z"
      },
      {
        "duration": 33,
        "start_time": "2023-03-06T08:09:30.922Z"
      },
      {
        "duration": 19,
        "start_time": "2023-03-06T08:09:30.957Z"
      },
      {
        "duration": 26,
        "start_time": "2023-03-06T08:09:30.982Z"
      },
      {
        "duration": 31,
        "start_time": "2023-03-06T08:09:31.009Z"
      },
      {
        "duration": 38,
        "start_time": "2023-03-06T08:09:31.042Z"
      },
      {
        "duration": 4,
        "start_time": "2023-03-06T08:09:31.082Z"
      },
      {
        "duration": 46,
        "start_time": "2023-03-06T08:09:31.087Z"
      },
      {
        "duration": 436,
        "start_time": "2023-03-06T08:09:31.135Z"
      },
      {
        "duration": 396,
        "start_time": "2023-03-06T08:09:31.573Z"
      },
      {
        "duration": 4,
        "start_time": "2023-03-06T08:09:31.971Z"
      },
      {
        "duration": 59,
        "start_time": "2023-03-06T08:09:31.976Z"
      },
      {
        "duration": 37,
        "start_time": "2023-03-06T08:09:32.037Z"
      },
      {
        "duration": 34,
        "start_time": "2023-03-06T08:09:32.075Z"
      },
      {
        "duration": 20,
        "start_time": "2023-03-06T08:09:32.111Z"
      },
      {
        "duration": 167,
        "start_time": "2023-03-06T08:09:32.133Z"
      },
      {
        "duration": 3,
        "start_time": "2023-03-06T08:09:32.301Z"
      },
      {
        "duration": 39,
        "start_time": "2023-03-06T08:09:32.306Z"
      },
      {
        "duration": 198,
        "start_time": "2023-03-06T08:09:32.346Z"
      },
      {
        "duration": 0,
        "start_time": "2023-03-06T08:09:32.546Z"
      },
      {
        "duration": 0,
        "start_time": "2023-03-06T08:09:32.548Z"
      },
      {
        "duration": 1,
        "start_time": "2023-03-06T08:09:32.549Z"
      },
      {
        "duration": 0,
        "start_time": "2023-03-06T08:09:32.551Z"
      },
      {
        "duration": 0,
        "start_time": "2023-03-06T08:09:32.552Z"
      },
      {
        "duration": 0,
        "start_time": "2023-03-06T08:09:32.554Z"
      },
      {
        "duration": 0,
        "start_time": "2023-03-06T08:09:32.555Z"
      },
      {
        "duration": 0,
        "start_time": "2023-03-06T08:09:32.557Z"
      },
      {
        "duration": 0,
        "start_time": "2023-03-06T08:09:32.558Z"
      },
      {
        "duration": 0,
        "start_time": "2023-03-06T08:09:32.559Z"
      },
      {
        "duration": 0,
        "start_time": "2023-03-06T08:09:32.561Z"
      },
      {
        "duration": 0,
        "start_time": "2023-03-06T08:09:32.562Z"
      },
      {
        "duration": 1,
        "start_time": "2023-03-06T08:09:32.563Z"
      },
      {
        "duration": 0,
        "start_time": "2023-03-06T08:09:32.565Z"
      },
      {
        "duration": 0,
        "start_time": "2023-03-06T08:09:32.567Z"
      },
      {
        "duration": 0,
        "start_time": "2023-03-06T08:09:32.568Z"
      },
      {
        "duration": 0,
        "start_time": "2023-03-06T08:09:32.569Z"
      },
      {
        "duration": 0,
        "start_time": "2023-03-06T08:09:32.571Z"
      },
      {
        "duration": 0,
        "start_time": "2023-03-06T08:09:32.572Z"
      },
      {
        "duration": 0,
        "start_time": "2023-03-06T08:09:32.573Z"
      },
      {
        "duration": 0,
        "start_time": "2023-03-06T08:09:32.575Z"
      },
      {
        "duration": 0,
        "start_time": "2023-03-06T08:09:32.576Z"
      },
      {
        "duration": 0,
        "start_time": "2023-03-06T08:09:32.577Z"
      },
      {
        "duration": 0,
        "start_time": "2023-03-06T08:09:32.579Z"
      },
      {
        "duration": 0,
        "start_time": "2023-03-06T08:09:32.580Z"
      },
      {
        "duration": 0,
        "start_time": "2023-03-06T08:09:32.581Z"
      },
      {
        "duration": 0,
        "start_time": "2023-03-06T08:09:32.582Z"
      },
      {
        "duration": 0,
        "start_time": "2023-03-06T08:09:32.583Z"
      },
      {
        "duration": 0,
        "start_time": "2023-03-06T08:09:32.584Z"
      },
      {
        "duration": 0,
        "start_time": "2023-03-06T08:09:32.585Z"
      },
      {
        "duration": 11,
        "start_time": "2023-03-06T08:25:31.949Z"
      },
      {
        "duration": 4,
        "start_time": "2023-03-06T08:25:37.645Z"
      },
      {
        "duration": 3,
        "start_time": "2023-03-06T08:25:50.670Z"
      },
      {
        "duration": 5,
        "start_time": "2023-03-06T08:25:53.300Z"
      },
      {
        "duration": 40,
        "start_time": "2023-03-06T08:26:00.589Z"
      },
      {
        "duration": 50,
        "start_time": "2023-03-06T08:26:10.003Z"
      },
      {
        "duration": 165,
        "start_time": "2023-03-06T08:26:53.324Z"
      },
      {
        "duration": 10,
        "start_time": "2023-03-06T08:27:20.196Z"
      },
      {
        "duration": 6,
        "start_time": "2023-03-06T08:27:23.619Z"
      },
      {
        "duration": 6,
        "start_time": "2023-03-06T08:27:24.013Z"
      },
      {
        "duration": 12,
        "start_time": "2023-03-06T08:27:28.219Z"
      },
      {
        "duration": 12,
        "start_time": "2023-03-06T08:27:31.652Z"
      },
      {
        "duration": 8,
        "start_time": "2023-03-06T08:27:39.980Z"
      },
      {
        "duration": 8,
        "start_time": "2023-03-06T08:27:40.451Z"
      },
      {
        "duration": 10,
        "start_time": "2023-03-06T08:27:46.387Z"
      },
      {
        "duration": 16,
        "start_time": "2023-03-06T08:28:43.626Z"
      },
      {
        "duration": 286,
        "start_time": "2023-03-06T08:28:48.483Z"
      },
      {
        "duration": 18,
        "start_time": "2023-03-06T08:29:00.539Z"
      },
      {
        "duration": 170,
        "start_time": "2023-03-06T08:29:25.196Z"
      },
      {
        "duration": 145,
        "start_time": "2023-03-06T08:29:38.955Z"
      },
      {
        "duration": 232,
        "start_time": "2023-03-06T08:29:45.052Z"
      },
      {
        "duration": 131,
        "start_time": "2023-03-06T08:30:08.226Z"
      },
      {
        "duration": 144,
        "start_time": "2023-03-06T08:30:25.427Z"
      },
      {
        "duration": 58,
        "start_time": "2023-03-06T08:32:36.696Z"
      },
      {
        "duration": 39,
        "start_time": "2023-03-06T08:33:02.766Z"
      },
      {
        "duration": 13,
        "start_time": "2023-03-06T08:33:09.025Z"
      },
      {
        "duration": 37,
        "start_time": "2023-03-06T08:33:22.434Z"
      },
      {
        "duration": 33,
        "start_time": "2023-03-06T08:33:33.985Z"
      },
      {
        "duration": 17,
        "start_time": "2023-03-06T08:33:36.864Z"
      },
      {
        "duration": 39,
        "start_time": "2023-03-06T08:33:46.424Z"
      },
      {
        "duration": 25,
        "start_time": "2023-03-06T08:33:46.974Z"
      },
      {
        "duration": 65,
        "start_time": "2023-03-06T08:36:56.639Z"
      },
      {
        "duration": 22,
        "start_time": "2023-03-06T08:36:58.835Z"
      },
      {
        "duration": 40,
        "start_time": "2023-03-06T08:37:08.648Z"
      },
      {
        "duration": 20,
        "start_time": "2023-03-06T08:37:10.467Z"
      },
      {
        "duration": 11,
        "start_time": "2023-03-06T08:37:54.570Z"
      },
      {
        "duration": 3,
        "start_time": "2023-03-06T08:37:57.181Z"
      },
      {
        "duration": 211,
        "start_time": "2023-03-06T08:37:57.374Z"
      },
      {
        "duration": 5,
        "start_time": "2023-03-06T08:38:11.613Z"
      },
      {
        "duration": 3,
        "start_time": "2023-03-06T08:38:18.154Z"
      },
      {
        "duration": 5,
        "start_time": "2023-03-06T08:38:20.013Z"
      },
      {
        "duration": 2,
        "start_time": "2023-03-06T08:38:30.511Z"
      },
      {
        "duration": 2018,
        "start_time": "2023-03-06T08:38:34.613Z"
      },
      {
        "duration": 1511,
        "start_time": "2023-03-06T08:39:12.231Z"
      },
      {
        "duration": 4,
        "start_time": "2023-03-06T08:48:47.163Z"
      },
      {
        "duration": 90,
        "start_time": "2023-03-06T08:48:50.990Z"
      },
      {
        "duration": 4,
        "start_time": "2023-03-06T08:49:11.152Z"
      },
      {
        "duration": 96,
        "start_time": "2023-03-06T08:49:17.069Z"
      },
      {
        "duration": 41,
        "start_time": "2023-03-06T08:49:26.266Z"
      },
      {
        "duration": 4,
        "start_time": "2023-03-06T08:50:33.270Z"
      },
      {
        "duration": 106,
        "start_time": "2023-03-06T08:50:41.845Z"
      },
      {
        "duration": 4,
        "start_time": "2023-03-06T08:50:51.325Z"
      },
      {
        "duration": 114541,
        "start_time": "2023-03-06T08:50:52.694Z"
      },
      {
        "duration": 29,
        "start_time": "2023-03-06T09:03:43.212Z"
      },
      {
        "duration": 177,
        "start_time": "2023-03-06T09:03:43.701Z"
      },
      {
        "duration": 3,
        "start_time": "2023-03-06T09:03:48.985Z"
      },
      {
        "duration": 49,
        "start_time": "2023-03-06T09:03:49.612Z"
      },
      {
        "duration": 5,
        "start_time": "2023-03-06T09:03:51.012Z"
      },
      {
        "duration": 990,
        "start_time": "2023-03-06T09:03:52.930Z"
      },
      {
        "duration": 13,
        "start_time": "2023-03-06T09:05:04.291Z"
      },
      {
        "duration": 11,
        "start_time": "2023-03-06T09:05:11.762Z"
      },
      {
        "duration": 25,
        "start_time": "2023-03-06T09:05:19.412Z"
      },
      {
        "duration": 23,
        "start_time": "2023-03-06T09:05:28.682Z"
      },
      {
        "duration": 9,
        "start_time": "2023-03-06T09:05:39.715Z"
      },
      {
        "duration": 8,
        "start_time": "2023-03-06T09:05:52.301Z"
      },
      {
        "duration": 7,
        "start_time": "2023-03-06T09:06:01.294Z"
      },
      {
        "duration": 5,
        "start_time": "2023-03-06T09:06:02.203Z"
      },
      {
        "duration": 37,
        "start_time": "2023-03-06T09:06:02.981Z"
      },
      {
        "duration": 4,
        "start_time": "2023-03-06T09:06:12.658Z"
      },
      {
        "duration": 4,
        "start_time": "2023-03-06T09:06:15.657Z"
      },
      {
        "duration": 4,
        "start_time": "2023-03-06T09:06:20.974Z"
      },
      {
        "duration": 7,
        "start_time": "2023-03-06T09:06:25.778Z"
      },
      {
        "duration": 111373,
        "start_time": "2023-03-06T09:06:27.907Z"
      },
      {
        "duration": 592799,
        "start_time": "2023-03-06T09:08:19.990Z"
      },
      {
        "duration": 69,
        "start_time": "2023-03-06T09:19:31.060Z"
      },
      {
        "duration": 1040,
        "start_time": "2023-03-06T09:19:40.895Z"
      },
      {
        "duration": 60,
        "start_time": "2023-03-06T09:19:41.938Z"
      },
      {
        "duration": 14,
        "start_time": "2023-03-06T09:19:41.999Z"
      },
      {
        "duration": 37,
        "start_time": "2023-03-06T09:20:26.200Z"
      },
      {
        "duration": 6,
        "start_time": "2023-03-06T09:20:27.676Z"
      },
      {
        "duration": 10613,
        "start_time": "2023-03-06T09:20:33.472Z"
      },
      {
        "duration": 7893,
        "start_time": "2023-03-06T09:20:45.177Z"
      },
      {
        "duration": 56621,
        "start_time": "2023-03-06T09:21:37.794Z"
      },
      {
        "duration": 438,
        "start_time": "2023-03-06T09:22:34.417Z"
      },
      {
        "duration": 4,
        "start_time": "2023-03-06T09:23:04.375Z"
      },
      {
        "duration": 4,
        "start_time": "2023-03-06T09:23:14.128Z"
      },
      {
        "duration": 4761,
        "start_time": "2023-03-06T09:23:21.304Z"
      },
      {
        "duration": 1291,
        "start_time": "2023-03-06T09:23:26.067Z"
      },
      {
        "duration": 5,
        "start_time": "2023-03-06T09:23:31.129Z"
      },
      {
        "duration": 4,
        "start_time": "2023-03-06T09:23:36.846Z"
      },
      {
        "duration": 58,
        "start_time": "2023-03-06T09:23:40.978Z"
      },
      {
        "duration": 98,
        "start_time": "2023-03-06T09:24:38.428Z"
      },
      {
        "duration": 4,
        "start_time": "2023-03-06T09:24:38.887Z"
      },
      {
        "duration": 193,
        "start_time": "2023-03-06T09:24:39.331Z"
      },
      {
        "duration": 4,
        "start_time": "2023-03-06T09:24:39.863Z"
      },
      {
        "duration": 3,
        "start_time": "2023-03-06T09:24:41.307Z"
      },
      {
        "duration": 5,
        "start_time": "2023-03-06T09:24:41.501Z"
      },
      {
        "duration": 60,
        "start_time": "2023-03-06T09:24:41.703Z"
      },
      {
        "duration": 3,
        "start_time": "2023-03-06T09:24:41.959Z"
      },
      {
        "duration": 39,
        "start_time": "2023-03-06T09:24:42.125Z"
      },
      {
        "duration": 184,
        "start_time": "2023-03-06T09:24:42.983Z"
      },
      {
        "duration": 9,
        "start_time": "2023-03-06T09:24:44.303Z"
      },
      {
        "duration": 10,
        "start_time": "2023-03-06T09:24:44.804Z"
      },
      {
        "duration": 8,
        "start_time": "2023-03-06T09:24:45.179Z"
      },
      {
        "duration": 15,
        "start_time": "2023-03-06T09:24:45.700Z"
      },
      {
        "duration": 34,
        "start_time": "2023-03-06T09:24:46.598Z"
      },
      {
        "duration": 23,
        "start_time": "2023-03-06T09:24:47.001Z"
      },
      {
        "duration": 73,
        "start_time": "2023-03-06T09:24:47.915Z"
      },
      {
        "duration": 39,
        "start_time": "2023-03-06T09:24:48.132Z"
      },
      {
        "duration": 22,
        "start_time": "2023-03-06T09:24:48.893Z"
      },
      {
        "duration": 22,
        "start_time": "2023-03-06T09:24:50.503Z"
      },
      {
        "duration": 4,
        "start_time": "2023-03-06T09:24:50.687Z"
      },
      {
        "duration": 3,
        "start_time": "2023-03-06T09:24:50.924Z"
      },
      {
        "duration": 5,
        "start_time": "2023-03-06T09:24:54.203Z"
      },
      {
        "duration": 2223,
        "start_time": "2023-03-06T09:24:54.403Z"
      },
      {
        "duration": 1659,
        "start_time": "2023-03-06T09:24:56.628Z"
      },
      {
        "duration": 6,
        "start_time": "2023-03-06T09:25:15.612Z"
      },
      {
        "duration": 5801,
        "start_time": "2023-03-06T09:25:17.623Z"
      },
      {
        "duration": 97,
        "start_time": "2023-03-06T09:25:28.479Z"
      },
      {
        "duration": 170691,
        "start_time": "2023-03-06T09:25:38.053Z"
      },
      {
        "duration": 8716,
        "start_time": "2023-03-06T09:28:28.748Z"
      },
      {
        "duration": 4,
        "start_time": "2023-03-06T09:28:37.466Z"
      },
      {
        "duration": 4,
        "start_time": "2023-03-06T09:36:18.136Z"
      },
      {
        "duration": 25,
        "start_time": "2023-03-06T09:36:18.737Z"
      },
      {
        "duration": 11,
        "start_time": "2023-03-06T09:36:19.101Z"
      },
      {
        "duration": 4,
        "start_time": "2023-03-06T09:36:37.599Z"
      },
      {
        "duration": 16,
        "start_time": "2023-03-06T09:36:43.599Z"
      },
      {
        "duration": 51,
        "start_time": "2023-03-06T09:38:09.589Z"
      },
      {
        "duration": 10231,
        "start_time": "2023-03-06T09:38:24.200Z"
      },
      {
        "duration": 3836,
        "start_time": "2023-03-06T09:38:34.433Z"
      },
      {
        "duration": 3,
        "start_time": "2023-03-06T09:38:38.271Z"
      },
      {
        "duration": 1315,
        "start_time": "2023-03-06T09:38:38.276Z"
      },
      {
        "duration": 18,
        "start_time": "2023-03-06T09:38:39.593Z"
      },
      {
        "duration": 3,
        "start_time": "2023-03-06T09:38:39.612Z"
      },
      {
        "duration": 10,
        "start_time": "2023-03-06T09:38:39.617Z"
      },
      {
        "duration": 1657,
        "start_time": "2023-03-06T09:38:39.628Z"
      },
      {
        "duration": 110,
        "start_time": "2023-03-06T09:38:41.288Z"
      },
      {
        "duration": 15,
        "start_time": "2023-03-06T09:38:41.402Z"
      },
      {
        "duration": 71,
        "start_time": "2023-03-06T09:38:41.418Z"
      },
      {
        "duration": 4,
        "start_time": "2023-03-06T09:38:41.490Z"
      },
      {
        "duration": 64,
        "start_time": "2023-03-06T09:38:41.496Z"
      },
      {
        "duration": 22,
        "start_time": "2023-03-06T09:38:41.562Z"
      },
      {
        "duration": 377,
        "start_time": "2023-03-06T09:38:41.586Z"
      },
      {
        "duration": 17,
        "start_time": "2023-03-06T09:38:41.969Z"
      },
      {
        "duration": 11,
        "start_time": "2023-03-06T09:38:41.987Z"
      },
      {
        "duration": 190,
        "start_time": "2023-03-06T09:38:42.000Z"
      },
      {
        "duration": 18,
        "start_time": "2023-03-06T09:38:42.192Z"
      },
      {
        "duration": 100,
        "start_time": "2023-03-06T09:38:42.212Z"
      },
      {
        "duration": 19,
        "start_time": "2023-03-06T09:38:42.313Z"
      },
      {
        "duration": 32,
        "start_time": "2023-03-06T09:38:42.348Z"
      },
      {
        "duration": 34,
        "start_time": "2023-03-06T09:38:42.382Z"
      },
      {
        "duration": 45,
        "start_time": "2023-03-06T09:38:42.418Z"
      },
      {
        "duration": 7,
        "start_time": "2023-03-06T09:38:42.465Z"
      },
      {
        "duration": 8,
        "start_time": "2023-03-06T09:38:42.473Z"
      },
      {
        "duration": 96,
        "start_time": "2023-03-06T09:38:42.482Z"
      },
      {
        "duration": 4,
        "start_time": "2023-03-06T09:38:42.584Z"
      },
      {
        "duration": 87,
        "start_time": "2023-03-06T09:38:42.589Z"
      },
      {
        "duration": 6,
        "start_time": "2023-03-06T09:38:42.678Z"
      },
      {
        "duration": 26,
        "start_time": "2023-03-06T09:38:42.685Z"
      },
      {
        "duration": 3,
        "start_time": "2023-03-06T09:38:42.713Z"
      },
      {
        "duration": 347,
        "start_time": "2023-03-06T09:38:42.717Z"
      },
      {
        "duration": 121,
        "start_time": "2023-03-06T09:38:43.066Z"
      },
      {
        "duration": 44,
        "start_time": "2023-03-06T09:38:43.189Z"
      },
      {
        "duration": 49,
        "start_time": "2023-03-06T09:38:43.235Z"
      },
      {
        "duration": 55,
        "start_time": "2023-03-06T09:38:43.286Z"
      },
      {
        "duration": 49,
        "start_time": "2023-03-06T09:38:43.349Z"
      },
      {
        "duration": 4,
        "start_time": "2023-03-06T09:38:43.400Z"
      },
      {
        "duration": 375,
        "start_time": "2023-03-06T09:38:43.406Z"
      },
      {
        "duration": 49,
        "start_time": "2023-03-06T09:38:43.782Z"
      },
      {
        "duration": 435,
        "start_time": "2023-03-06T09:38:43.832Z"
      },
      {
        "duration": 20,
        "start_time": "2023-03-06T09:38:44.269Z"
      },
      {
        "duration": 26,
        "start_time": "2023-03-06T09:38:44.291Z"
      },
      {
        "duration": 15,
        "start_time": "2023-03-06T09:38:44.318Z"
      },
      {
        "duration": 25,
        "start_time": "2023-03-06T09:38:44.349Z"
      },
      {
        "duration": 17,
        "start_time": "2023-03-06T09:38:44.376Z"
      },
      {
        "duration": 469,
        "start_time": "2023-03-06T09:38:44.395Z"
      },
      {
        "duration": 18,
        "start_time": "2023-03-06T09:38:44.866Z"
      },
      {
        "duration": 7,
        "start_time": "2023-03-06T09:38:44.886Z"
      },
      {
        "duration": 80,
        "start_time": "2023-03-06T09:38:44.895Z"
      },
      {
        "duration": 57,
        "start_time": "2023-03-06T09:38:44.977Z"
      },
      {
        "duration": 20,
        "start_time": "2023-03-06T09:38:45.036Z"
      },
      {
        "duration": 48,
        "start_time": "2023-03-06T09:38:45.058Z"
      },
      {
        "duration": 4,
        "start_time": "2023-03-06T09:38:45.108Z"
      },
      {
        "duration": 14,
        "start_time": "2023-03-06T09:38:45.113Z"
      },
      {
        "duration": 18,
        "start_time": "2023-03-06T09:38:45.128Z"
      },
      {
        "duration": 53,
        "start_time": "2023-03-06T09:38:45.150Z"
      },
      {
        "duration": 97,
        "start_time": "2023-03-06T09:38:45.205Z"
      },
      {
        "duration": 24,
        "start_time": "2023-03-06T09:38:45.304Z"
      },
      {
        "duration": 195,
        "start_time": "2023-03-06T09:38:45.329Z"
      },
      {
        "duration": 181,
        "start_time": "2023-03-06T09:38:45.526Z"
      },
      {
        "duration": 41,
        "start_time": "2023-03-06T09:38:45.710Z"
      },
      {
        "duration": 28,
        "start_time": "2023-03-06T09:38:45.753Z"
      },
      {
        "duration": 273,
        "start_time": "2023-03-06T09:38:45.783Z"
      },
      {
        "duration": 38,
        "start_time": "2023-03-06T09:38:46.057Z"
      },
      {
        "duration": 5,
        "start_time": "2023-03-06T09:38:46.097Z"
      },
      {
        "duration": 316,
        "start_time": "2023-03-06T09:38:46.103Z"
      },
      {
        "duration": 3,
        "start_time": "2023-03-06T09:38:46.421Z"
      },
      {
        "duration": 341,
        "start_time": "2023-03-06T09:38:46.426Z"
      },
      {
        "duration": 44,
        "start_time": "2023-03-06T09:38:46.769Z"
      },
      {
        "duration": 5,
        "start_time": "2023-03-06T09:38:46.815Z"
      },
      {
        "duration": 317,
        "start_time": "2023-03-06T09:38:46.822Z"
      },
      {
        "duration": 23,
        "start_time": "2023-03-06T09:38:47.140Z"
      },
      {
        "duration": 34,
        "start_time": "2023-03-06T09:38:47.164Z"
      },
      {
        "duration": 19,
        "start_time": "2023-03-06T09:38:47.200Z"
      },
      {
        "duration": 156,
        "start_time": "2023-03-06T09:38:47.220Z"
      },
      {
        "duration": 4,
        "start_time": "2023-03-06T09:38:47.378Z"
      },
      {
        "duration": 181,
        "start_time": "2023-03-06T09:38:47.384Z"
      },
      {
        "duration": 30,
        "start_time": "2023-03-06T09:38:47.567Z"
      },
      {
        "duration": 18,
        "start_time": "2023-03-06T09:38:47.599Z"
      },
      {
        "duration": 41,
        "start_time": "2023-03-06T09:38:47.624Z"
      },
      {
        "duration": 12,
        "start_time": "2023-03-06T09:38:47.667Z"
      },
      {
        "duration": 27,
        "start_time": "2023-03-06T09:38:47.680Z"
      },
      {
        "duration": 5,
        "start_time": "2023-03-06T09:38:47.709Z"
      },
      {
        "duration": 42,
        "start_time": "2023-03-06T09:38:47.715Z"
      },
      {
        "duration": 467,
        "start_time": "2023-03-06T09:38:47.759Z"
      },
      {
        "duration": 440,
        "start_time": "2023-03-06T09:38:48.228Z"
      },
      {
        "duration": 4,
        "start_time": "2023-03-06T09:38:48.670Z"
      },
      {
        "duration": 42,
        "start_time": "2023-03-06T09:38:48.676Z"
      },
      {
        "duration": 79,
        "start_time": "2023-03-06T09:38:48.720Z"
      },
      {
        "duration": 233,
        "start_time": "2023-03-06T09:38:48.801Z"
      },
      {
        "duration": 0,
        "start_time": "2023-03-06T09:38:49.036Z"
      },
      {
        "duration": 0,
        "start_time": "2023-03-06T09:38:49.037Z"
      },
      {
        "duration": 0,
        "start_time": "2023-03-06T09:38:49.039Z"
      },
      {
        "duration": 0,
        "start_time": "2023-03-06T09:38:49.039Z"
      },
      {
        "duration": 0,
        "start_time": "2023-03-06T09:38:49.041Z"
      },
      {
        "duration": 0,
        "start_time": "2023-03-06T09:38:49.052Z"
      },
      {
        "duration": 0,
        "start_time": "2023-03-06T09:38:49.052Z"
      },
      {
        "duration": 0,
        "start_time": "2023-03-06T09:38:49.054Z"
      },
      {
        "duration": 0,
        "start_time": "2023-03-06T09:38:49.055Z"
      },
      {
        "duration": 0,
        "start_time": "2023-03-06T09:38:49.057Z"
      },
      {
        "duration": 0,
        "start_time": "2023-03-06T09:38:49.058Z"
      },
      {
        "duration": 0,
        "start_time": "2023-03-06T09:38:49.059Z"
      },
      {
        "duration": 0,
        "start_time": "2023-03-06T09:38:49.060Z"
      },
      {
        "duration": 0,
        "start_time": "2023-03-06T09:38:49.060Z"
      },
      {
        "duration": 0,
        "start_time": "2023-03-06T09:38:49.063Z"
      },
      {
        "duration": 0,
        "start_time": "2023-03-06T09:38:49.065Z"
      },
      {
        "duration": 0,
        "start_time": "2023-03-06T09:38:49.067Z"
      },
      {
        "duration": 0,
        "start_time": "2023-03-06T09:38:49.068Z"
      },
      {
        "duration": 0,
        "start_time": "2023-03-06T09:38:49.070Z"
      },
      {
        "duration": 0,
        "start_time": "2023-03-06T09:38:49.071Z"
      },
      {
        "duration": 0,
        "start_time": "2023-03-06T09:38:49.072Z"
      },
      {
        "duration": 0,
        "start_time": "2023-03-06T09:38:49.073Z"
      },
      {
        "duration": 0,
        "start_time": "2023-03-06T09:38:49.075Z"
      },
      {
        "duration": 0,
        "start_time": "2023-03-06T09:38:49.075Z"
      },
      {
        "duration": 0,
        "start_time": "2023-03-06T09:38:49.076Z"
      },
      {
        "duration": 0,
        "start_time": "2023-03-06T09:38:49.078Z"
      },
      {
        "duration": 0,
        "start_time": "2023-03-06T09:38:49.079Z"
      },
      {
        "duration": 0,
        "start_time": "2023-03-06T09:38:49.080Z"
      },
      {
        "duration": 0,
        "start_time": "2023-03-06T09:38:49.081Z"
      },
      {
        "duration": 0,
        "start_time": "2023-03-06T09:38:49.082Z"
      },
      {
        "duration": 0,
        "start_time": "2023-03-06T09:38:49.083Z"
      },
      {
        "duration": 0,
        "start_time": "2023-03-06T09:38:49.083Z"
      },
      {
        "duration": 0,
        "start_time": "2023-03-06T09:38:49.084Z"
      },
      {
        "duration": 0,
        "start_time": "2023-03-06T09:38:49.085Z"
      },
      {
        "duration": 0,
        "start_time": "2023-03-06T09:38:49.086Z"
      },
      {
        "duration": 0,
        "start_time": "2023-03-06T09:38:49.087Z"
      },
      {
        "duration": 0,
        "start_time": "2023-03-06T09:38:49.088Z"
      },
      {
        "duration": 0,
        "start_time": "2023-03-06T09:38:49.089Z"
      },
      {
        "duration": 0,
        "start_time": "2023-03-06T09:38:49.090Z"
      },
      {
        "duration": 0,
        "start_time": "2023-03-06T09:38:49.091Z"
      },
      {
        "duration": 0,
        "start_time": "2023-03-06T09:38:49.092Z"
      },
      {
        "duration": 0,
        "start_time": "2023-03-06T09:38:49.153Z"
      },
      {
        "duration": 0,
        "start_time": "2023-03-06T09:38:49.154Z"
      },
      {
        "duration": 0,
        "start_time": "2023-03-06T09:38:49.155Z"
      },
      {
        "duration": 1,
        "start_time": "2023-03-06T09:38:49.155Z"
      },
      {
        "duration": 0,
        "start_time": "2023-03-06T09:38:49.162Z"
      },
      {
        "duration": 0,
        "start_time": "2023-03-06T09:38:49.163Z"
      },
      {
        "duration": 0,
        "start_time": "2023-03-06T09:38:49.164Z"
      },
      {
        "duration": 0,
        "start_time": "2023-03-06T09:38:49.165Z"
      },
      {
        "duration": 18,
        "start_time": "2023-03-06T09:42:49.696Z"
      },
      {
        "duration": 27,
        "start_time": "2023-03-06T09:42:49.889Z"
      },
      {
        "duration": 3,
        "start_time": "2023-03-06T09:42:50.002Z"
      },
      {
        "duration": 167,
        "start_time": "2023-03-06T09:42:50.308Z"
      },
      {
        "duration": 3,
        "start_time": "2023-03-06T09:42:50.477Z"
      },
      {
        "duration": 3,
        "start_time": "2023-03-06T09:42:50.595Z"
      },
      {
        "duration": 4,
        "start_time": "2023-03-06T09:42:50.791Z"
      },
      {
        "duration": 58,
        "start_time": "2023-03-06T09:42:50.907Z"
      },
      {
        "duration": 3,
        "start_time": "2023-03-06T09:42:51.108Z"
      },
      {
        "duration": 39,
        "start_time": "2023-03-06T09:42:51.901Z"
      },
      {
        "duration": 184,
        "start_time": "2023-03-06T09:42:52.021Z"
      },
      {
        "duration": 11,
        "start_time": "2023-03-06T09:42:52.325Z"
      },
      {
        "duration": 9,
        "start_time": "2023-03-06T09:42:52.500Z"
      },
      {
        "duration": 8,
        "start_time": "2023-03-06T09:42:52.697Z"
      },
      {
        "duration": 14,
        "start_time": "2023-03-06T09:42:52.817Z"
      },
      {
        "duration": 40,
        "start_time": "2023-03-06T09:42:53.199Z"
      },
      {
        "duration": 29,
        "start_time": "2023-03-06T09:42:53.336Z"
      },
      {
        "duration": 71,
        "start_time": "2023-03-06T09:42:53.525Z"
      },
      {
        "duration": 42,
        "start_time": "2023-03-06T09:42:53.725Z"
      },
      {
        "duration": 31,
        "start_time": "2023-03-06T09:42:53.903Z"
      },
      {
        "duration": 25,
        "start_time": "2023-03-06T09:42:54.098Z"
      },
      {
        "duration": 3,
        "start_time": "2023-03-06T09:43:03.494Z"
      },
      {
        "duration": 3,
        "start_time": "2023-03-06T09:43:03.697Z"
      },
      {
        "duration": 4,
        "start_time": "2023-03-06T09:43:04.009Z"
      },
      {
        "duration": 2339,
        "start_time": "2023-03-06T09:43:04.197Z"
      },
      {
        "duration": 1784,
        "start_time": "2023-03-06T09:43:06.539Z"
      },
      {
        "duration": 4,
        "start_time": "2023-03-06T09:43:08.325Z"
      },
      {
        "duration": 7,
        "start_time": "2023-03-06T09:43:08.331Z"
      },
      {
        "duration": 26,
        "start_time": "2023-03-06T09:43:08.340Z"
      },
      {
        "duration": 0,
        "start_time": "2023-03-06T09:43:08.368Z"
      },
      {
        "duration": 0,
        "start_time": "2023-03-06T09:43:08.369Z"
      },
      {
        "duration": 0,
        "start_time": "2023-03-06T09:43:08.370Z"
      },
      {
        "duration": 0,
        "start_time": "2023-03-06T09:43:08.371Z"
      },
      {
        "duration": 0,
        "start_time": "2023-03-06T09:43:08.372Z"
      },
      {
        "duration": 0,
        "start_time": "2023-03-06T09:43:08.373Z"
      },
      {
        "duration": 0,
        "start_time": "2023-03-06T09:43:08.374Z"
      },
      {
        "duration": 0,
        "start_time": "2023-03-06T09:43:08.375Z"
      },
      {
        "duration": 0,
        "start_time": "2023-03-06T09:43:08.376Z"
      },
      {
        "duration": 60,
        "start_time": "2023-03-06T09:43:08.596Z"
      },
      {
        "duration": 30,
        "start_time": "2023-03-06T09:43:13.611Z"
      },
      {
        "duration": 190,
        "start_time": "2023-03-06T09:43:13.796Z"
      },
      {
        "duration": 2,
        "start_time": "2023-03-06T09:43:14.000Z"
      },
      {
        "duration": 27,
        "start_time": "2023-03-06T09:43:14.192Z"
      },
      {
        "duration": 9,
        "start_time": "2023-03-06T09:43:14.395Z"
      },
      {
        "duration": 35,
        "start_time": "2023-03-06T09:43:16.497Z"
      },
      {
        "duration": 62888,
        "start_time": "2023-03-06T09:43:18.500Z"
      },
      {
        "duration": 477,
        "start_time": "2023-03-06T09:44:21.390Z"
      },
      {
        "duration": 4,
        "start_time": "2023-03-06T09:44:21.869Z"
      },
      {
        "duration": 366104,
        "start_time": "2023-03-06T09:44:21.875Z"
      },
      {
        "duration": 0,
        "start_time": "2023-03-06T09:50:27.981Z"
      },
      {
        "duration": 0,
        "start_time": "2023-03-06T09:50:27.982Z"
      },
      {
        "duration": 0,
        "start_time": "2023-03-06T09:50:27.983Z"
      },
      {
        "duration": 0,
        "start_time": "2023-03-06T09:50:27.984Z"
      },
      {
        "duration": 0,
        "start_time": "2023-03-06T09:50:27.986Z"
      },
      {
        "duration": 0,
        "start_time": "2023-03-06T09:50:27.987Z"
      },
      {
        "duration": 0,
        "start_time": "2023-03-06T09:50:27.988Z"
      },
      {
        "duration": 236958,
        "start_time": "2023-03-06T09:50:30.528Z"
      },
      {
        "duration": 0,
        "start_time": "2023-03-06T09:54:27.489Z"
      },
      {
        "duration": 0,
        "start_time": "2023-03-06T09:54:27.490Z"
      },
      {
        "duration": 10496,
        "start_time": "2023-03-06T09:57:00.907Z"
      },
      {
        "duration": 2420,
        "start_time": "2023-03-06T09:57:11.405Z"
      },
      {
        "duration": 3,
        "start_time": "2023-03-06T09:57:13.826Z"
      },
      {
        "duration": 917,
        "start_time": "2023-03-06T09:57:13.831Z"
      },
      {
        "duration": 27,
        "start_time": "2023-03-06T09:57:14.749Z"
      },
      {
        "duration": 2,
        "start_time": "2023-03-06T09:57:14.778Z"
      },
      {
        "duration": 15,
        "start_time": "2023-03-06T09:57:14.782Z"
      },
      {
        "duration": 1710,
        "start_time": "2023-03-06T09:57:14.798Z"
      },
      {
        "duration": 105,
        "start_time": "2023-03-06T09:57:16.510Z"
      },
      {
        "duration": 15,
        "start_time": "2023-03-06T09:57:16.619Z"
      },
      {
        "duration": 68,
        "start_time": "2023-03-06T09:57:16.636Z"
      },
      {
        "duration": 4,
        "start_time": "2023-03-06T09:57:16.706Z"
      },
      {
        "duration": 68,
        "start_time": "2023-03-06T09:57:16.712Z"
      },
      {
        "duration": 13,
        "start_time": "2023-03-06T09:57:16.782Z"
      },
      {
        "duration": 356,
        "start_time": "2023-03-06T09:57:16.797Z"
      },
      {
        "duration": 20,
        "start_time": "2023-03-06T09:57:17.155Z"
      },
      {
        "duration": 8,
        "start_time": "2023-03-06T09:57:17.177Z"
      },
      {
        "duration": 207,
        "start_time": "2023-03-06T09:57:17.187Z"
      },
      {
        "duration": 19,
        "start_time": "2023-03-06T09:57:17.396Z"
      },
      {
        "duration": 103,
        "start_time": "2023-03-06T09:57:17.416Z"
      },
      {
        "duration": 19,
        "start_time": "2023-03-06T09:57:17.520Z"
      },
      {
        "duration": 44,
        "start_time": "2023-03-06T09:57:17.540Z"
      },
      {
        "duration": 35,
        "start_time": "2023-03-06T09:57:17.586Z"
      },
      {
        "duration": 7,
        "start_time": "2023-03-06T09:57:17.623Z"
      },
      {
        "duration": 42,
        "start_time": "2023-03-06T09:57:17.632Z"
      },
      {
        "duration": 6,
        "start_time": "2023-03-06T09:57:17.675Z"
      },
      {
        "duration": 99,
        "start_time": "2023-03-06T09:57:17.683Z"
      },
      {
        "duration": 3,
        "start_time": "2023-03-06T09:57:17.786Z"
      },
      {
        "duration": 50,
        "start_time": "2023-03-06T09:57:17.791Z"
      },
      {
        "duration": 5,
        "start_time": "2023-03-06T09:57:17.843Z"
      },
      {
        "duration": 38,
        "start_time": "2023-03-06T09:57:17.865Z"
      },
      {
        "duration": 2,
        "start_time": "2023-03-06T09:57:17.905Z"
      },
      {
        "duration": 347,
        "start_time": "2023-03-06T09:57:17.909Z"
      },
      {
        "duration": 131,
        "start_time": "2023-03-06T09:57:18.258Z"
      },
      {
        "duration": 43,
        "start_time": "2023-03-06T09:57:18.391Z"
      },
      {
        "duration": 49,
        "start_time": "2023-03-06T09:57:18.436Z"
      },
      {
        "duration": 45,
        "start_time": "2023-03-06T09:57:18.487Z"
      },
      {
        "duration": 62,
        "start_time": "2023-03-06T09:57:18.534Z"
      },
      {
        "duration": 4,
        "start_time": "2023-03-06T09:57:18.598Z"
      },
      {
        "duration": 395,
        "start_time": "2023-03-06T09:57:18.604Z"
      },
      {
        "duration": 39,
        "start_time": "2023-03-06T09:57:19.002Z"
      },
      {
        "duration": 368,
        "start_time": "2023-03-06T09:57:19.042Z"
      },
      {
        "duration": 21,
        "start_time": "2023-03-06T09:57:19.411Z"
      },
      {
        "duration": 40,
        "start_time": "2023-03-06T09:57:19.434Z"
      },
      {
        "duration": 16,
        "start_time": "2023-03-06T09:57:19.476Z"
      },
      {
        "duration": 19,
        "start_time": "2023-03-06T09:57:19.494Z"
      },
      {
        "duration": 18,
        "start_time": "2023-03-06T09:57:19.515Z"
      },
      {
        "duration": 454,
        "start_time": "2023-03-06T09:57:19.535Z"
      },
      {
        "duration": 16,
        "start_time": "2023-03-06T09:57:19.990Z"
      },
      {
        "duration": 14,
        "start_time": "2023-03-06T09:57:20.007Z"
      },
      {
        "duration": 97,
        "start_time": "2023-03-06T09:57:20.022Z"
      },
      {
        "duration": 70,
        "start_time": "2023-03-06T09:57:20.121Z"
      },
      {
        "duration": 6,
        "start_time": "2023-03-06T09:57:20.193Z"
      },
      {
        "duration": 45,
        "start_time": "2023-03-06T09:57:20.201Z"
      },
      {
        "duration": 22,
        "start_time": "2023-03-06T09:57:20.248Z"
      },
      {
        "duration": 11,
        "start_time": "2023-03-06T09:57:20.272Z"
      },
      {
        "duration": 10,
        "start_time": "2023-03-06T09:57:20.285Z"
      },
      {
        "duration": 33,
        "start_time": "2023-03-06T09:57:20.297Z"
      },
      {
        "duration": 95,
        "start_time": "2023-03-06T09:57:20.331Z"
      },
      {
        "duration": 39,
        "start_time": "2023-03-06T09:57:20.428Z"
      },
      {
        "duration": 199,
        "start_time": "2023-03-06T09:57:20.469Z"
      },
      {
        "duration": 167,
        "start_time": "2023-03-06T09:57:20.669Z"
      },
      {
        "duration": 39,
        "start_time": "2023-03-06T09:57:20.838Z"
      },
      {
        "duration": 37,
        "start_time": "2023-03-06T09:57:20.878Z"
      },
      {
        "duration": 286,
        "start_time": "2023-03-06T09:57:20.917Z"
      },
      {
        "duration": 37,
        "start_time": "2023-03-06T09:57:21.205Z"
      },
      {
        "duration": 32,
        "start_time": "2023-03-06T09:57:21.244Z"
      },
      {
        "duration": 387,
        "start_time": "2023-03-06T09:57:21.277Z"
      },
      {
        "duration": 7,
        "start_time": "2023-03-06T09:57:21.666Z"
      },
      {
        "duration": 338,
        "start_time": "2023-03-06T09:57:21.675Z"
      },
      {
        "duration": 59,
        "start_time": "2023-03-06T09:57:22.014Z"
      },
      {
        "duration": 6,
        "start_time": "2023-03-06T09:57:22.075Z"
      },
      {
        "duration": 325,
        "start_time": "2023-03-06T09:57:22.083Z"
      },
      {
        "duration": 5,
        "start_time": "2023-03-06T09:57:22.410Z"
      },
      {
        "duration": 56,
        "start_time": "2023-03-06T09:57:22.417Z"
      },
      {
        "duration": 12,
        "start_time": "2023-03-06T09:57:22.476Z"
      },
      {
        "duration": 163,
        "start_time": "2023-03-06T09:57:22.490Z"
      },
      {
        "duration": 13,
        "start_time": "2023-03-06T09:57:22.654Z"
      },
      {
        "duration": 169,
        "start_time": "2023-03-06T09:57:22.670Z"
      },
      {
        "duration": 36,
        "start_time": "2023-03-06T09:57:22.841Z"
      },
      {
        "duration": 18,
        "start_time": "2023-03-06T09:57:22.879Z"
      },
      {
        "duration": 21,
        "start_time": "2023-03-06T09:57:22.904Z"
      },
      {
        "duration": 34,
        "start_time": "2023-03-06T09:57:22.926Z"
      },
      {
        "duration": 37,
        "start_time": "2023-03-06T09:57:22.963Z"
      },
      {
        "duration": 3,
        "start_time": "2023-03-06T09:57:23.002Z"
      },
      {
        "duration": 28,
        "start_time": "2023-03-06T09:57:23.006Z"
      },
      {
        "duration": 476,
        "start_time": "2023-03-06T09:57:23.036Z"
      },
      {
        "duration": 427,
        "start_time": "2023-03-06T09:57:23.514Z"
      },
      {
        "duration": 23,
        "start_time": "2023-03-06T09:57:23.943Z"
      },
      {
        "duration": 50,
        "start_time": "2023-03-06T09:57:23.969Z"
      },
      {
        "duration": 78,
        "start_time": "2023-03-06T09:57:24.021Z"
      },
      {
        "duration": 18,
        "start_time": "2023-03-06T09:57:24.101Z"
      },
      {
        "duration": 23,
        "start_time": "2023-03-06T09:57:24.120Z"
      },
      {
        "duration": 3,
        "start_time": "2023-03-06T09:57:24.145Z"
      },
      {
        "duration": 181,
        "start_time": "2023-03-06T09:57:24.167Z"
      },
      {
        "duration": 2,
        "start_time": "2023-03-06T09:57:24.350Z"
      },
      {
        "duration": 24,
        "start_time": "2023-03-06T09:57:24.354Z"
      },
      {
        "duration": 7,
        "start_time": "2023-03-06T09:57:24.380Z"
      },
      {
        "duration": 59,
        "start_time": "2023-03-06T09:57:24.388Z"
      },
      {
        "duration": 19,
        "start_time": "2023-03-06T09:57:24.449Z"
      },
      {
        "duration": 40,
        "start_time": "2023-03-06T09:57:24.472Z"
      },
      {
        "duration": 191,
        "start_time": "2023-03-06T09:57:24.513Z"
      },
      {
        "duration": 9,
        "start_time": "2023-03-06T09:57:24.706Z"
      },
      {
        "duration": 11,
        "start_time": "2023-03-06T09:57:24.717Z"
      },
      {
        "duration": 11,
        "start_time": "2023-03-06T09:57:24.729Z"
      },
      {
        "duration": 29,
        "start_time": "2023-03-06T09:57:24.742Z"
      },
      {
        "duration": 48,
        "start_time": "2023-03-06T09:57:24.772Z"
      },
      {
        "duration": 30,
        "start_time": "2023-03-06T09:57:24.822Z"
      },
      {
        "duration": 71,
        "start_time": "2023-03-06T09:57:24.854Z"
      },
      {
        "duration": 50,
        "start_time": "2023-03-06T09:57:24.926Z"
      },
      {
        "duration": 21,
        "start_time": "2023-03-06T09:57:24.978Z"
      },
      {
        "duration": 16,
        "start_time": "2023-03-06T09:57:25.001Z"
      },
      {
        "duration": 3,
        "start_time": "2023-03-06T09:57:25.018Z"
      },
      {
        "duration": 45,
        "start_time": "2023-03-06T09:57:25.022Z"
      },
      {
        "duration": 12,
        "start_time": "2023-03-06T09:57:25.068Z"
      },
      {
        "duration": 2357,
        "start_time": "2023-03-06T09:57:25.081Z"
      },
      {
        "duration": 1771,
        "start_time": "2023-03-06T09:57:27.439Z"
      },
      {
        "duration": 3,
        "start_time": "2023-03-06T09:57:29.212Z"
      },
      {
        "duration": 11,
        "start_time": "2023-03-06T09:57:29.217Z"
      },
      {
        "duration": 209,
        "start_time": "2023-03-06T09:57:29.230Z"
      },
      {
        "duration": 0,
        "start_time": "2023-03-06T09:57:29.441Z"
      },
      {
        "duration": 0,
        "start_time": "2023-03-06T09:57:29.443Z"
      },
      {
        "duration": 0,
        "start_time": "2023-03-06T09:57:29.444Z"
      },
      {
        "duration": 0,
        "start_time": "2023-03-06T09:57:29.445Z"
      },
      {
        "duration": 0,
        "start_time": "2023-03-06T09:57:29.446Z"
      },
      {
        "duration": 0,
        "start_time": "2023-03-06T09:57:29.457Z"
      },
      {
        "duration": 0,
        "start_time": "2023-03-06T09:57:29.457Z"
      },
      {
        "duration": 0,
        "start_time": "2023-03-06T09:57:29.458Z"
      },
      {
        "duration": 0,
        "start_time": "2023-03-06T09:57:29.463Z"
      },
      {
        "duration": 0,
        "start_time": "2023-03-06T09:57:29.463Z"
      },
      {
        "duration": 0,
        "start_time": "2023-03-06T09:57:29.464Z"
      },
      {
        "duration": 0,
        "start_time": "2023-03-06T09:57:29.469Z"
      },
      {
        "duration": 0,
        "start_time": "2023-03-06T09:57:29.470Z"
      },
      {
        "duration": 0,
        "start_time": "2023-03-06T09:57:29.470Z"
      },
      {
        "duration": 0,
        "start_time": "2023-03-06T09:57:29.471Z"
      },
      {
        "duration": 0,
        "start_time": "2023-03-06T09:57:29.472Z"
      },
      {
        "duration": 0,
        "start_time": "2023-03-06T09:57:29.472Z"
      },
      {
        "duration": 0,
        "start_time": "2023-03-06T09:57:29.473Z"
      },
      {
        "duration": 0,
        "start_time": "2023-03-06T09:57:29.473Z"
      },
      {
        "duration": 0,
        "start_time": "2023-03-06T09:57:29.474Z"
      },
      {
        "duration": 0,
        "start_time": "2023-03-06T09:57:29.476Z"
      },
      {
        "duration": 0,
        "start_time": "2023-03-06T09:57:29.477Z"
      },
      {
        "duration": 3,
        "start_time": "2023-03-06T09:58:02.335Z"
      },
      {
        "duration": 32,
        "start_time": "2023-03-06T09:58:02.517Z"
      },
      {
        "duration": 198,
        "start_time": "2023-03-06T09:58:02.649Z"
      },
      {
        "duration": 14,
        "start_time": "2023-03-06T09:58:02.849Z"
      },
      {
        "duration": 24,
        "start_time": "2023-03-06T09:58:03.012Z"
      },
      {
        "duration": 8,
        "start_time": "2023-03-06T09:58:03.121Z"
      },
      {
        "duration": 49,
        "start_time": "2023-03-06T09:58:04.344Z"
      },
      {
        "duration": 8,
        "start_time": "2023-03-06T09:58:05.018Z"
      },
      {
        "duration": 62989,
        "start_time": "2023-03-06T09:58:09.336Z"
      },
      {
        "duration": 517,
        "start_time": "2023-03-06T09:59:12.327Z"
      },
      {
        "duration": 5,
        "start_time": "2023-03-06T09:59:12.845Z"
      },
      {
        "duration": 4,
        "start_time": "2023-03-06T09:59:12.856Z"
      },
      {
        "duration": 16,
        "start_time": "2023-03-06T09:59:12.862Z"
      },
      {
        "duration": 174904,
        "start_time": "2023-03-06T09:59:12.880Z"
      },
      {
        "duration": 9453,
        "start_time": "2023-03-06T10:02:07.786Z"
      },
      {
        "duration": 5,
        "start_time": "2023-03-06T10:02:17.240Z"
      },
      {
        "duration": 107,
        "start_time": "2023-03-06T10:05:21.328Z"
      },
      {
        "duration": 71,
        "start_time": "2023-03-06T10:05:21.436Z"
      },
      {
        "duration": 10430,
        "start_time": "2023-03-06T10:05:28.722Z"
      },
      {
        "duration": 3772,
        "start_time": "2023-03-06T10:05:39.154Z"
      },
      {
        "duration": 2,
        "start_time": "2023-03-06T10:05:42.929Z"
      },
      {
        "duration": 1162,
        "start_time": "2023-03-06T10:05:42.933Z"
      },
      {
        "duration": 16,
        "start_time": "2023-03-06T10:05:44.097Z"
      },
      {
        "duration": 3,
        "start_time": "2023-03-06T10:05:44.115Z"
      },
      {
        "duration": 9,
        "start_time": "2023-03-06T10:05:44.120Z"
      },
      {
        "duration": 1668,
        "start_time": "2023-03-06T10:05:44.131Z"
      },
      {
        "duration": 106,
        "start_time": "2023-03-06T10:05:45.801Z"
      },
      {
        "duration": 15,
        "start_time": "2023-03-06T10:05:45.909Z"
      },
      {
        "duration": 71,
        "start_time": "2023-03-06T10:05:45.925Z"
      },
      {
        "duration": 4,
        "start_time": "2023-03-06T10:05:45.998Z"
      },
      {
        "duration": 70,
        "start_time": "2023-03-06T10:05:46.004Z"
      },
      {
        "duration": 13,
        "start_time": "2023-03-06T10:05:46.078Z"
      },
      {
        "duration": 348,
        "start_time": "2023-03-06T10:05:46.092Z"
      },
      {
        "duration": 25,
        "start_time": "2023-03-06T10:05:46.442Z"
      },
      {
        "duration": 9,
        "start_time": "2023-03-06T10:05:46.469Z"
      },
      {
        "duration": 193,
        "start_time": "2023-03-06T10:05:46.482Z"
      },
      {
        "duration": 18,
        "start_time": "2023-03-06T10:05:46.676Z"
      },
      {
        "duration": 109,
        "start_time": "2023-03-06T10:05:46.695Z"
      },
      {
        "duration": 18,
        "start_time": "2023-03-06T10:05:46.806Z"
      },
      {
        "duration": 51,
        "start_time": "2023-03-06T10:05:46.825Z"
      },
      {
        "duration": 34,
        "start_time": "2023-03-06T10:05:46.878Z"
      },
      {
        "duration": 19,
        "start_time": "2023-03-06T10:05:46.914Z"
      },
      {
        "duration": 9,
        "start_time": "2023-03-06T10:05:46.935Z"
      },
      {
        "duration": 10,
        "start_time": "2023-03-06T10:05:46.959Z"
      },
      {
        "duration": 94,
        "start_time": "2023-03-06T10:05:46.971Z"
      },
      {
        "duration": 7,
        "start_time": "2023-03-06T10:05:47.066Z"
      },
      {
        "duration": 51,
        "start_time": "2023-03-06T10:05:47.075Z"
      },
      {
        "duration": 5,
        "start_time": "2023-03-06T10:05:47.128Z"
      },
      {
        "duration": 47,
        "start_time": "2023-03-06T10:05:47.135Z"
      },
      {
        "duration": 8,
        "start_time": "2023-03-06T10:05:47.184Z"
      },
      {
        "duration": 326,
        "start_time": "2023-03-06T10:05:47.193Z"
      },
      {
        "duration": 122,
        "start_time": "2023-03-06T10:05:47.520Z"
      },
      {
        "duration": 61,
        "start_time": "2023-03-06T10:05:47.644Z"
      },
      {
        "duration": 26,
        "start_time": "2023-03-06T10:05:47.707Z"
      },
      {
        "duration": 59,
        "start_time": "2023-03-06T10:05:47.735Z"
      },
      {
        "duration": 41,
        "start_time": "2023-03-06T10:05:47.795Z"
      },
      {
        "duration": 20,
        "start_time": "2023-03-06T10:05:47.838Z"
      },
      {
        "duration": 369,
        "start_time": "2023-03-06T10:05:47.860Z"
      },
      {
        "duration": 68,
        "start_time": "2023-03-06T10:05:48.237Z"
      },
      {
        "duration": 374,
        "start_time": "2023-03-06T10:05:48.307Z"
      },
      {
        "duration": 20,
        "start_time": "2023-03-06T10:05:48.682Z"
      },
      {
        "duration": 27,
        "start_time": "2023-03-06T10:05:48.704Z"
      },
      {
        "duration": 38,
        "start_time": "2023-03-06T10:05:48.732Z"
      },
      {
        "duration": 44,
        "start_time": "2023-03-06T10:05:48.773Z"
      },
      {
        "duration": 35,
        "start_time": "2023-03-06T10:05:48.820Z"
      },
      {
        "duration": 352,
        "start_time": "2023-03-06T10:05:48.859Z"
      },
      {
        "duration": 15,
        "start_time": "2023-03-06T10:05:49.213Z"
      },
      {
        "duration": 28,
        "start_time": "2023-03-06T10:05:49.230Z"
      },
      {
        "duration": 87,
        "start_time": "2023-03-06T10:05:49.260Z"
      },
      {
        "duration": 64,
        "start_time": "2023-03-06T10:05:49.349Z"
      },
      {
        "duration": 7,
        "start_time": "2023-03-06T10:05:49.415Z"
      },
      {
        "duration": 55,
        "start_time": "2023-03-06T10:05:49.424Z"
      },
      {
        "duration": 4,
        "start_time": "2023-03-06T10:05:49.481Z"
      },
      {
        "duration": 22,
        "start_time": "2023-03-06T10:05:49.486Z"
      },
      {
        "duration": 28,
        "start_time": "2023-03-06T10:05:49.510Z"
      },
      {
        "duration": 172,
        "start_time": "2023-03-06T10:05:49.540Z"
      },
      {
        "duration": 102,
        "start_time": "2023-03-06T10:05:49.714Z"
      },
      {
        "duration": 24,
        "start_time": "2023-03-06T10:05:49.818Z"
      },
      {
        "duration": 201,
        "start_time": "2023-03-06T10:05:49.844Z"
      },
      {
        "duration": 170,
        "start_time": "2023-03-06T10:05:50.047Z"
      },
      {
        "duration": 21,
        "start_time": "2023-03-06T10:05:50.219Z"
      },
      {
        "duration": 39,
        "start_time": "2023-03-06T10:05:50.241Z"
      },
      {
        "duration": 263,
        "start_time": "2023-03-06T10:05:50.281Z"
      },
      {
        "duration": 44,
        "start_time": "2023-03-06T10:05:50.546Z"
      },
      {
        "duration": 8,
        "start_time": "2023-03-06T10:05:50.592Z"
      },
      {
        "duration": 369,
        "start_time": "2023-03-06T10:05:50.602Z"
      },
      {
        "duration": 3,
        "start_time": "2023-03-06T10:05:50.974Z"
      },
      {
        "duration": 337,
        "start_time": "2023-03-06T10:05:50.979Z"
      },
      {
        "duration": 52,
        "start_time": "2023-03-06T10:05:51.317Z"
      },
      {
        "duration": 5,
        "start_time": "2023-03-06T10:05:51.372Z"
      },
      {
        "duration": 318,
        "start_time": "2023-03-06T10:05:51.379Z"
      },
      {
        "duration": 4,
        "start_time": "2023-03-06T10:05:51.699Z"
      },
      {
        "duration": 42,
        "start_time": "2023-03-06T10:05:51.705Z"
      },
      {
        "duration": 44,
        "start_time": "2023-03-06T10:05:51.749Z"
      },
      {
        "duration": 165,
        "start_time": "2023-03-06T10:05:51.795Z"
      },
      {
        "duration": 4,
        "start_time": "2023-03-06T10:05:51.963Z"
      },
      {
        "duration": 172,
        "start_time": "2023-03-06T10:05:51.968Z"
      },
      {
        "duration": 40,
        "start_time": "2023-03-06T10:05:52.142Z"
      },
      {
        "duration": 18,
        "start_time": "2023-03-06T10:05:52.184Z"
      },
      {
        "duration": 24,
        "start_time": "2023-03-06T10:05:52.204Z"
      },
      {
        "duration": 30,
        "start_time": "2023-03-06T10:05:52.230Z"
      },
      {
        "duration": 36,
        "start_time": "2023-03-06T10:05:52.267Z"
      },
      {
        "duration": 2,
        "start_time": "2023-03-06T10:05:52.305Z"
      },
      {
        "duration": 22,
        "start_time": "2023-03-06T10:05:52.309Z"
      },
      {
        "duration": 438,
        "start_time": "2023-03-06T10:05:52.333Z"
      },
      {
        "duration": 421,
        "start_time": "2023-03-06T10:05:52.777Z"
      },
      {
        "duration": 5,
        "start_time": "2023-03-06T10:05:53.200Z"
      },
      {
        "duration": 60,
        "start_time": "2023-03-06T10:05:53.207Z"
      },
      {
        "duration": 73,
        "start_time": "2023-03-06T10:05:53.268Z"
      },
      {
        "duration": 45,
        "start_time": "2023-03-06T10:05:53.343Z"
      },
      {
        "duration": 28,
        "start_time": "2023-03-06T10:05:53.390Z"
      },
      {
        "duration": 19,
        "start_time": "2023-03-06T10:05:53.420Z"
      },
      {
        "duration": 164,
        "start_time": "2023-03-06T10:05:53.441Z"
      },
      {
        "duration": 3,
        "start_time": "2023-03-06T10:05:53.606Z"
      },
      {
        "duration": 9,
        "start_time": "2023-03-06T10:05:53.610Z"
      },
      {
        "duration": 9,
        "start_time": "2023-03-06T10:05:53.620Z"
      },
      {
        "duration": 68,
        "start_time": "2023-03-06T10:05:53.630Z"
      },
      {
        "duration": 8,
        "start_time": "2023-03-06T10:05:53.700Z"
      },
      {
        "duration": 58,
        "start_time": "2023-03-06T10:05:53.710Z"
      },
      {
        "duration": 197,
        "start_time": "2023-03-06T10:05:53.770Z"
      },
      {
        "duration": 10,
        "start_time": "2023-03-06T10:05:53.969Z"
      },
      {
        "duration": 12,
        "start_time": "2023-03-06T10:05:53.981Z"
      },
      {
        "duration": 11,
        "start_time": "2023-03-06T10:05:53.995Z"
      },
      {
        "duration": 12,
        "start_time": "2023-03-06T10:05:54.007Z"
      },
      {
        "duration": 58,
        "start_time": "2023-03-06T10:05:54.021Z"
      },
      {
        "duration": 28,
        "start_time": "2023-03-06T10:05:54.081Z"
      },
      {
        "duration": 78,
        "start_time": "2023-03-06T10:05:54.111Z"
      },
      {
        "duration": 49,
        "start_time": "2023-03-06T10:05:54.191Z"
      },
      {
        "duration": 38,
        "start_time": "2023-03-06T10:05:54.242Z"
      },
      {
        "duration": 23,
        "start_time": "2023-03-06T10:05:54.283Z"
      },
      {
        "duration": 14,
        "start_time": "2023-03-06T10:05:54.308Z"
      },
      {
        "duration": 6,
        "start_time": "2023-03-06T10:05:54.324Z"
      },
      {
        "duration": 3,
        "start_time": "2023-03-06T10:05:54.333Z"
      },
      {
        "duration": 2453,
        "start_time": "2023-03-06T10:05:54.338Z"
      },
      {
        "duration": 1904,
        "start_time": "2023-03-06T10:05:56.792Z"
      },
      {
        "duration": 8,
        "start_time": "2023-03-06T10:05:58.697Z"
      },
      {
        "duration": 15,
        "start_time": "2023-03-06T10:05:58.708Z"
      },
      {
        "duration": 12,
        "start_time": "2023-03-06T10:05:58.725Z"
      },
      {
        "duration": 42,
        "start_time": "2023-03-06T10:05:58.739Z"
      },
      {
        "duration": 202,
        "start_time": "2023-03-06T10:05:58.789Z"
      },
      {
        "duration": 3,
        "start_time": "2023-03-06T10:05:58.993Z"
      },
      {
        "duration": 27,
        "start_time": "2023-03-06T10:05:58.997Z"
      },
      {
        "duration": 7,
        "start_time": "2023-03-06T10:05:59.025Z"
      },
      {
        "duration": 211,
        "start_time": "2023-03-06T10:05:59.034Z"
      },
      {
        "duration": 6,
        "start_time": "2023-03-06T10:05:59.247Z"
      },
      {
        "duration": 29,
        "start_time": "2023-03-06T10:05:59.255Z"
      },
      {
        "duration": 15,
        "start_time": "2023-03-06T10:05:59.285Z"
      },
      {
        "duration": 212,
        "start_time": "2023-03-06T10:05:59.302Z"
      },
      {
        "duration": 0,
        "start_time": "2023-03-06T10:05:59.516Z"
      },
      {
        "duration": 0,
        "start_time": "2023-03-06T10:05:59.517Z"
      },
      {
        "duration": 0,
        "start_time": "2023-03-06T10:05:59.519Z"
      },
      {
        "duration": 0,
        "start_time": "2023-03-06T10:05:59.521Z"
      },
      {
        "duration": 0,
        "start_time": "2023-03-06T10:05:59.522Z"
      },
      {
        "duration": 0,
        "start_time": "2023-03-06T10:05:59.524Z"
      },
      {
        "duration": 0,
        "start_time": "2023-03-06T10:05:59.525Z"
      },
      {
        "duration": 0,
        "start_time": "2023-03-06T10:05:59.526Z"
      },
      {
        "duration": 0,
        "start_time": "2023-03-06T10:05:59.528Z"
      },
      {
        "duration": 0,
        "start_time": "2023-03-06T10:05:59.529Z"
      },
      {
        "duration": 0,
        "start_time": "2023-03-06T10:05:59.530Z"
      },
      {
        "duration": 0,
        "start_time": "2023-03-06T10:05:59.561Z"
      },
      {
        "duration": 0,
        "start_time": "2023-03-06T10:05:59.561Z"
      },
      {
        "duration": 0,
        "start_time": "2023-03-06T10:05:59.562Z"
      },
      {
        "duration": 62795,
        "start_time": "2023-03-06T10:09:55.312Z"
      },
      {
        "duration": 482,
        "start_time": "2023-03-06T10:10:58.109Z"
      },
      {
        "duration": 4,
        "start_time": "2023-03-06T10:10:58.593Z"
      },
      {
        "duration": 98,
        "start_time": "2023-03-06T10:11:06.919Z"
      },
      {
        "duration": 5,
        "start_time": "2023-03-06T10:11:07.541Z"
      },
      {
        "duration": 35,
        "start_time": "2023-03-06T10:13:42.991Z"
      },
      {
        "duration": 26,
        "start_time": "2023-03-06T10:13:43.245Z"
      },
      {
        "duration": 16,
        "start_time": "2023-03-06T10:14:45.245Z"
      },
      {
        "duration": 44,
        "start_time": "2023-03-06T10:14:46.827Z"
      },
      {
        "duration": 16,
        "start_time": "2023-03-06T10:14:47.212Z"
      },
      {
        "duration": 7,
        "start_time": "2023-03-06T10:16:30.373Z"
      },
      {
        "duration": 38,
        "start_time": "2023-03-06T10:18:37.413Z"
      },
      {
        "duration": 16,
        "start_time": "2023-03-06T10:18:37.609Z"
      },
      {
        "duration": 2,
        "start_time": "2023-03-06T10:18:37.747Z"
      },
      {
        "duration": 3,
        "start_time": "2023-03-06T10:18:37.921Z"
      },
      {
        "duration": 10,
        "start_time": "2023-03-06T10:18:38.057Z"
      },
      {
        "duration": 6,
        "start_time": "2023-03-06T10:18:38.229Z"
      },
      {
        "duration": 15,
        "start_time": "2023-03-06T10:18:38.417Z"
      },
      {
        "duration": 16,
        "start_time": "2023-03-06T10:18:38.554Z"
      },
      {
        "duration": 7,
        "start_time": "2023-03-06T10:18:38.727Z"
      },
      {
        "duration": 444,
        "start_time": "2023-03-06T10:18:38.909Z"
      },
      {
        "duration": 0,
        "start_time": "2023-03-06T10:18:39.354Z"
      },
      {
        "duration": 8,
        "start_time": "2023-03-06T10:18:39.414Z"
      },
      {
        "duration": 10,
        "start_time": "2023-03-06T10:18:39.605Z"
      },
      {
        "duration": 11,
        "start_time": "2023-03-06T10:18:39.813Z"
      },
      {
        "duration": 5,
        "start_time": "2023-03-06T10:18:40.147Z"
      },
      {
        "duration": 5,
        "start_time": "2023-03-06T10:18:40.612Z"
      },
      {
        "duration": 7,
        "start_time": "2023-03-06T10:18:40.739Z"
      },
      {
        "duration": 15,
        "start_time": "2023-03-06T10:18:40.929Z"
      },
      {
        "duration": 23,
        "start_time": "2023-03-06T10:18:41.547Z"
      },
      {
        "duration": 23,
        "start_time": "2023-03-06T10:18:41.755Z"
      },
      {
        "duration": 22,
        "start_time": "2023-03-06T10:18:52.537Z"
      },
      {
        "duration": 4,
        "start_time": "2023-03-06T10:20:05.281Z"
      },
      {
        "duration": 4,
        "start_time": "2023-03-06T10:20:05.628Z"
      },
      {
        "duration": 5,
        "start_time": "2023-03-06T10:20:06.025Z"
      },
      {
        "duration": 6,
        "start_time": "2023-03-06T10:20:07.013Z"
      },
      {
        "duration": 4,
        "start_time": "2023-03-06T10:20:07.842Z"
      },
      {
        "duration": 7,
        "start_time": "2023-03-06T10:20:08.414Z"
      },
      {
        "duration": 8,
        "start_time": "2023-03-06T10:20:10.422Z"
      },
      {
        "duration": 239,
        "start_time": "2023-03-06T10:20:11.209Z"
      },
      {
        "duration": 389,
        "start_time": "2023-03-06T10:20:17.929Z"
      },
      {
        "duration": 21,
        "start_time": "2023-03-06T10:20:53.726Z"
      },
      {
        "duration": 387,
        "start_time": "2023-03-06T10:23:09.563Z"
      },
      {
        "duration": 7,
        "start_time": "2023-03-06T11:09:00.797Z"
      },
      {
        "duration": 6,
        "start_time": "2023-03-06T11:09:13.547Z"
      },
      {
        "duration": 21,
        "start_time": "2023-03-06T11:09:20.906Z"
      },
      {
        "duration": 6,
        "start_time": "2023-03-06T11:09:30.798Z"
      },
      {
        "duration": 5,
        "start_time": "2023-03-06T11:09:37.712Z"
      },
      {
        "duration": 19,
        "start_time": "2023-03-06T11:09:41.611Z"
      },
      {
        "duration": 16,
        "start_time": "2023-03-06T11:09:52.493Z"
      },
      {
        "duration": 13,
        "start_time": "2023-03-06T11:09:59.758Z"
      },
      {
        "duration": 312,
        "start_time": "2023-03-06T11:13:16.087Z"
      },
      {
        "duration": 26,
        "start_time": "2023-03-06T11:13:25.849Z"
      },
      {
        "duration": 418,
        "start_time": "2023-03-06T11:14:23.338Z"
      },
      {
        "duration": 27,
        "start_time": "2023-03-06T11:14:29.047Z"
      },
      {
        "duration": 10123,
        "start_time": "2023-03-06T11:14:33.431Z"
      },
      {
        "duration": 4068,
        "start_time": "2023-03-06T11:14:43.557Z"
      },
      {
        "duration": 3,
        "start_time": "2023-03-06T11:14:47.627Z"
      },
      {
        "duration": 914,
        "start_time": "2023-03-06T11:14:47.631Z"
      },
      {
        "duration": 23,
        "start_time": "2023-03-06T11:14:48.547Z"
      },
      {
        "duration": 6,
        "start_time": "2023-03-06T11:14:48.577Z"
      },
      {
        "duration": 9,
        "start_time": "2023-03-06T11:14:48.585Z"
      },
      {
        "duration": 1533,
        "start_time": "2023-03-06T11:14:48.596Z"
      },
      {
        "duration": 98,
        "start_time": "2023-03-06T11:14:50.131Z"
      },
      {
        "duration": 14,
        "start_time": "2023-03-06T11:14:50.231Z"
      },
      {
        "duration": 59,
        "start_time": "2023-03-06T11:14:50.257Z"
      },
      {
        "duration": 4,
        "start_time": "2023-03-06T11:14:50.318Z"
      },
      {
        "duration": 69,
        "start_time": "2023-03-06T11:14:50.323Z"
      },
      {
        "duration": 20,
        "start_time": "2023-03-06T11:14:50.396Z"
      },
      {
        "duration": 339,
        "start_time": "2023-03-06T11:14:50.418Z"
      },
      {
        "duration": 21,
        "start_time": "2023-03-06T11:14:50.764Z"
      },
      {
        "duration": 15,
        "start_time": "2023-03-06T11:14:50.786Z"
      },
      {
        "duration": 182,
        "start_time": "2023-03-06T11:14:50.802Z"
      },
      {
        "duration": 17,
        "start_time": "2023-03-06T11:14:50.985Z"
      },
      {
        "duration": 123,
        "start_time": "2023-03-06T11:14:51.003Z"
      },
      {
        "duration": 18,
        "start_time": "2023-03-06T11:14:51.128Z"
      },
      {
        "duration": 34,
        "start_time": "2023-03-06T11:14:51.161Z"
      },
      {
        "duration": 33,
        "start_time": "2023-03-06T11:14:51.197Z"
      },
      {
        "duration": 41,
        "start_time": "2023-03-06T11:14:51.232Z"
      },
      {
        "duration": 6,
        "start_time": "2023-03-06T11:14:51.275Z"
      },
      {
        "duration": 6,
        "start_time": "2023-03-06T11:14:51.283Z"
      },
      {
        "duration": 114,
        "start_time": "2023-03-06T11:14:51.290Z"
      },
      {
        "duration": 3,
        "start_time": "2023-03-06T11:14:51.406Z"
      },
      {
        "duration": 65,
        "start_time": "2023-03-06T11:14:51.411Z"
      },
      {
        "duration": 5,
        "start_time": "2023-03-06T11:14:51.478Z"
      },
      {
        "duration": 32,
        "start_time": "2023-03-06T11:14:51.484Z"
      },
      {
        "duration": 2,
        "start_time": "2023-03-06T11:14:51.518Z"
      },
      {
        "duration": 330,
        "start_time": "2023-03-06T11:14:51.522Z"
      },
      {
        "duration": 133,
        "start_time": "2023-03-06T11:14:51.854Z"
      },
      {
        "duration": 43,
        "start_time": "2023-03-06T11:14:51.988Z"
      },
      {
        "duration": 58,
        "start_time": "2023-03-06T11:14:52.032Z"
      },
      {
        "duration": 61,
        "start_time": "2023-03-06T11:14:52.092Z"
      },
      {
        "duration": 49,
        "start_time": "2023-03-06T11:14:52.155Z"
      },
      {
        "duration": 7,
        "start_time": "2023-03-06T11:14:52.206Z"
      },
      {
        "duration": 389,
        "start_time": "2023-03-06T11:14:52.215Z"
      },
      {
        "duration": 35,
        "start_time": "2023-03-06T11:14:52.611Z"
      },
      {
        "duration": 369,
        "start_time": "2023-03-06T11:14:52.647Z"
      },
      {
        "duration": 21,
        "start_time": "2023-03-06T11:14:53.017Z"
      },
      {
        "duration": 41,
        "start_time": "2023-03-06T11:14:53.040Z"
      },
      {
        "duration": 23,
        "start_time": "2023-03-06T11:14:53.083Z"
      },
      {
        "duration": 22,
        "start_time": "2023-03-06T11:14:53.108Z"
      },
      {
        "duration": 18,
        "start_time": "2023-03-06T11:14:53.132Z"
      },
      {
        "duration": 365,
        "start_time": "2023-03-06T11:14:53.158Z"
      },
      {
        "duration": 16,
        "start_time": "2023-03-06T11:14:53.524Z"
      },
      {
        "duration": 46,
        "start_time": "2023-03-06T11:14:53.542Z"
      },
      {
        "duration": 98,
        "start_time": "2023-03-06T11:14:53.589Z"
      },
      {
        "duration": 72,
        "start_time": "2023-03-06T11:14:53.689Z"
      },
      {
        "duration": 11,
        "start_time": "2023-03-06T11:14:53.767Z"
      },
      {
        "duration": 61,
        "start_time": "2023-03-06T11:14:53.779Z"
      },
      {
        "duration": 4,
        "start_time": "2023-03-06T11:14:53.841Z"
      },
      {
        "duration": 33,
        "start_time": "2023-03-06T11:14:53.847Z"
      },
      {
        "duration": 18,
        "start_time": "2023-03-06T11:14:53.881Z"
      },
      {
        "duration": 184,
        "start_time": "2023-03-06T11:14:53.901Z"
      },
      {
        "duration": 103,
        "start_time": "2023-03-06T11:14:54.087Z"
      },
      {
        "duration": 26,
        "start_time": "2023-03-06T11:14:54.192Z"
      },
      {
        "duration": 211,
        "start_time": "2023-03-06T11:14:54.220Z"
      },
      {
        "duration": 176,
        "start_time": "2023-03-06T11:14:54.433Z"
      },
      {
        "duration": 21,
        "start_time": "2023-03-06T11:14:54.611Z"
      },
      {
        "duration": 45,
        "start_time": "2023-03-06T11:14:54.633Z"
      },
      {
        "duration": 260,
        "start_time": "2023-03-06T11:14:54.680Z"
      },
      {
        "duration": 49,
        "start_time": "2023-03-06T11:14:54.941Z"
      },
      {
        "duration": 5,
        "start_time": "2023-03-06T11:14:54.992Z"
      },
      {
        "duration": 362,
        "start_time": "2023-03-06T11:14:54.998Z"
      },
      {
        "duration": 9,
        "start_time": "2023-03-06T11:14:55.370Z"
      },
      {
        "duration": 406,
        "start_time": "2023-03-06T11:14:55.381Z"
      },
      {
        "duration": 40,
        "start_time": "2023-03-06T11:14:55.790Z"
      },
      {
        "duration": 5,
        "start_time": "2023-03-06T11:14:55.832Z"
      },
      {
        "duration": 345,
        "start_time": "2023-03-06T11:14:55.839Z"
      },
      {
        "duration": 5,
        "start_time": "2023-03-06T11:14:56.186Z"
      },
      {
        "duration": 57,
        "start_time": "2023-03-06T11:14:56.193Z"
      },
      {
        "duration": 43,
        "start_time": "2023-03-06T11:14:56.252Z"
      },
      {
        "duration": 195,
        "start_time": "2023-03-06T11:14:56.297Z"
      },
      {
        "duration": 4,
        "start_time": "2023-03-06T11:14:56.494Z"
      },
      {
        "duration": 215,
        "start_time": "2023-03-06T11:14:56.501Z"
      },
      {
        "duration": 42,
        "start_time": "2023-03-06T11:14:56.718Z"
      },
      {
        "duration": 23,
        "start_time": "2023-03-06T11:14:56.764Z"
      },
      {
        "duration": 19,
        "start_time": "2023-03-06T11:14:56.789Z"
      },
      {
        "duration": 28,
        "start_time": "2023-03-06T11:14:56.809Z"
      },
      {
        "duration": 35,
        "start_time": "2023-03-06T11:14:56.839Z"
      },
      {
        "duration": 2,
        "start_time": "2023-03-06T11:14:56.879Z"
      },
      {
        "duration": 27,
        "start_time": "2023-03-06T11:14:56.883Z"
      },
      {
        "duration": 442,
        "start_time": "2023-03-06T11:14:56.911Z"
      },
      {
        "duration": 449,
        "start_time": "2023-03-06T11:14:57.355Z"
      },
      {
        "duration": 4,
        "start_time": "2023-03-06T11:14:57.806Z"
      },
      {
        "duration": 74,
        "start_time": "2023-03-06T11:14:57.812Z"
      },
      {
        "duration": 58,
        "start_time": "2023-03-06T11:14:57.888Z"
      },
      {
        "duration": 29,
        "start_time": "2023-03-06T11:14:57.948Z"
      },
      {
        "duration": 27,
        "start_time": "2023-03-06T11:14:57.979Z"
      },
      {
        "duration": 19,
        "start_time": "2023-03-06T11:14:58.008Z"
      },
      {
        "duration": 171,
        "start_time": "2023-03-06T11:14:58.028Z"
      },
      {
        "duration": 58,
        "start_time": "2023-03-06T11:14:58.200Z"
      },
      {
        "duration": 15,
        "start_time": "2023-03-06T11:14:58.259Z"
      },
      {
        "duration": 7,
        "start_time": "2023-03-06T11:14:58.276Z"
      },
      {
        "duration": 9,
        "start_time": "2023-03-06T11:14:58.285Z"
      },
      {
        "duration": 64,
        "start_time": "2023-03-06T11:14:58.296Z"
      },
      {
        "duration": 15,
        "start_time": "2023-03-06T11:14:58.363Z"
      },
      {
        "duration": 28,
        "start_time": "2023-03-06T11:14:58.380Z"
      },
      {
        "duration": 34,
        "start_time": "2023-03-06T11:14:58.410Z"
      },
      {
        "duration": 181,
        "start_time": "2023-03-06T11:14:58.447Z"
      },
      {
        "duration": 9,
        "start_time": "2023-03-06T11:14:58.629Z"
      },
      {
        "duration": 26,
        "start_time": "2023-03-06T11:14:58.640Z"
      },
      {
        "duration": 13,
        "start_time": "2023-03-06T11:14:58.668Z"
      },
      {
        "duration": 11,
        "start_time": "2023-03-06T11:14:58.682Z"
      },
      {
        "duration": 41,
        "start_time": "2023-03-06T11:14:58.695Z"
      },
      {
        "duration": 29,
        "start_time": "2023-03-06T11:14:58.738Z"
      },
      {
        "duration": 66,
        "start_time": "2023-03-06T11:14:58.768Z"
      },
      {
        "duration": 18,
        "start_time": "2023-03-06T11:14:58.836Z"
      },
      {
        "duration": 147,
        "start_time": "2023-03-06T11:14:58.856Z"
      },
      {
        "duration": 17,
        "start_time": "2023-03-06T11:14:59.005Z"
      },
      {
        "duration": 10,
        "start_time": "2023-03-06T11:14:59.024Z"
      },
      {
        "duration": 9,
        "start_time": "2023-03-06T11:14:59.036Z"
      },
      {
        "duration": 14,
        "start_time": "2023-03-06T11:14:59.046Z"
      },
      {
        "duration": 2162,
        "start_time": "2023-03-06T11:14:59.067Z"
      },
      {
        "duration": 1486,
        "start_time": "2023-03-06T11:15:01.230Z"
      },
      {
        "duration": 4,
        "start_time": "2023-03-06T11:15:02.717Z"
      },
      {
        "duration": 26,
        "start_time": "2023-03-06T11:15:02.723Z"
      },
      {
        "duration": 29,
        "start_time": "2023-03-06T11:15:02.756Z"
      },
      {
        "duration": 65,
        "start_time": "2023-03-06T11:15:02.787Z"
      },
      {
        "duration": 198,
        "start_time": "2023-03-06T11:15:02.854Z"
      },
      {
        "duration": 8,
        "start_time": "2023-03-06T11:15:03.057Z"
      },
      {
        "duration": 42,
        "start_time": "2023-03-06T11:15:03.073Z"
      },
      {
        "duration": 13,
        "start_time": "2023-03-06T11:15:03.117Z"
      },
      {
        "duration": 62,
        "start_time": "2023-03-06T11:15:03.132Z"
      },
      {
        "duration": 19,
        "start_time": "2023-03-06T11:15:03.196Z"
      },
      {
        "duration": 27,
        "start_time": "2023-03-06T11:15:03.217Z"
      },
      {
        "duration": 30,
        "start_time": "2023-03-06T11:15:03.246Z"
      },
      {
        "duration": 10,
        "start_time": "2023-03-06T11:15:03.278Z"
      },
      {
        "duration": 63254,
        "start_time": "2023-03-06T11:15:03.290Z"
      },
      {
        "duration": 520,
        "start_time": "2023-03-06T11:16:06.546Z"
      },
      {
        "duration": 15,
        "start_time": "2023-03-06T11:16:07.070Z"
      },
      {
        "duration": 0,
        "start_time": "2023-03-06T11:16:07.087Z"
      },
      {
        "duration": 0,
        "start_time": "2023-03-06T11:16:07.088Z"
      },
      {
        "duration": 0,
        "start_time": "2023-03-06T11:16:07.089Z"
      },
      {
        "duration": 0,
        "start_time": "2023-03-06T11:16:07.090Z"
      },
      {
        "duration": 0,
        "start_time": "2023-03-06T11:16:07.091Z"
      },
      {
        "duration": 0,
        "start_time": "2023-03-06T11:16:07.092Z"
      },
      {
        "duration": 0,
        "start_time": "2023-03-06T11:16:07.093Z"
      },
      {
        "duration": 0,
        "start_time": "2023-03-06T11:16:07.095Z"
      },
      {
        "duration": 0,
        "start_time": "2023-03-06T11:16:07.096Z"
      },
      {
        "duration": 0,
        "start_time": "2023-03-06T11:16:07.097Z"
      },
      {
        "duration": 313,
        "start_time": "2023-03-06T11:16:50.298Z"
      },
      {
        "duration": 6,
        "start_time": "2023-03-06T11:16:51.767Z"
      },
      {
        "duration": 58,
        "start_time": "2023-03-06T11:17:03.585Z"
      },
      {
        "duration": 5,
        "start_time": "2023-03-06T11:17:04.074Z"
      },
      {
        "duration": 50,
        "start_time": "2023-03-06T11:17:17.515Z"
      },
      {
        "duration": 12,
        "start_time": "2023-03-06T11:17:17.759Z"
      },
      {
        "duration": 56,
        "start_time": "2023-03-06T11:17:40.358Z"
      },
      {
        "duration": 77410,
        "start_time": "2023-03-06T11:17:43.301Z"
      },
      {
        "duration": 0,
        "start_time": "2023-03-06T11:19:00.714Z"
      },
      {
        "duration": 0,
        "start_time": "2023-03-06T11:19:00.715Z"
      },
      {
        "duration": 11716,
        "start_time": "2023-03-06T11:19:14.749Z"
      },
      {
        "duration": 3435,
        "start_time": "2023-03-06T11:19:26.471Z"
      },
      {
        "duration": 3,
        "start_time": "2023-03-06T11:19:29.908Z"
      },
      {
        "duration": 936,
        "start_time": "2023-03-06T11:19:29.914Z"
      },
      {
        "duration": 27,
        "start_time": "2023-03-06T11:19:30.852Z"
      },
      {
        "duration": 51,
        "start_time": "2023-03-06T11:19:30.880Z"
      },
      {
        "duration": 55,
        "start_time": "2023-03-06T11:19:30.933Z"
      },
      {
        "duration": 1619,
        "start_time": "2023-03-06T11:19:30.990Z"
      },
      {
        "duration": 105,
        "start_time": "2023-03-06T11:19:32.611Z"
      },
      {
        "duration": 14,
        "start_time": "2023-03-06T11:19:32.719Z"
      },
      {
        "duration": 121,
        "start_time": "2023-03-06T11:19:32.736Z"
      },
      {
        "duration": 11,
        "start_time": "2023-03-06T11:19:32.864Z"
      },
      {
        "duration": 71,
        "start_time": "2023-03-06T11:19:32.876Z"
      },
      {
        "duration": 26,
        "start_time": "2023-03-06T11:19:32.949Z"
      },
      {
        "duration": 510,
        "start_time": "2023-03-06T11:19:32.979Z"
      },
      {
        "duration": 76,
        "start_time": "2023-03-06T11:19:33.490Z"
      },
      {
        "duration": 11,
        "start_time": "2023-03-06T11:19:33.567Z"
      },
      {
        "duration": 343,
        "start_time": "2023-03-06T11:19:33.579Z"
      },
      {
        "duration": 39,
        "start_time": "2023-03-06T11:19:33.924Z"
      },
      {
        "duration": 95,
        "start_time": "2023-03-06T11:19:33.965Z"
      },
      {
        "duration": 25,
        "start_time": "2023-03-06T11:19:34.062Z"
      },
      {
        "duration": 50,
        "start_time": "2023-03-06T11:19:34.090Z"
      },
      {
        "duration": 64,
        "start_time": "2023-03-06T11:19:34.142Z"
      },
      {
        "duration": 11,
        "start_time": "2023-03-06T11:19:34.209Z"
      },
      {
        "duration": 22,
        "start_time": "2023-03-06T11:19:34.223Z"
      },
      {
        "duration": 11,
        "start_time": "2023-03-06T11:19:34.248Z"
      },
      {
        "duration": 142,
        "start_time": "2023-03-06T11:19:34.261Z"
      },
      {
        "duration": 4,
        "start_time": "2023-03-06T11:19:34.409Z"
      },
      {
        "duration": 81,
        "start_time": "2023-03-06T11:19:34.416Z"
      },
      {
        "duration": 7,
        "start_time": "2023-03-06T11:19:34.499Z"
      },
      {
        "duration": 29,
        "start_time": "2023-03-06T11:19:34.507Z"
      },
      {
        "duration": 3,
        "start_time": "2023-03-06T11:19:34.538Z"
      },
      {
        "duration": 355,
        "start_time": "2023-03-06T11:19:34.561Z"
      },
      {
        "duration": 135,
        "start_time": "2023-03-06T11:19:34.917Z"
      },
      {
        "duration": 45,
        "start_time": "2023-03-06T11:19:35.058Z"
      },
      {
        "duration": 27,
        "start_time": "2023-03-06T11:19:35.104Z"
      },
      {
        "duration": 92,
        "start_time": "2023-03-06T11:19:35.132Z"
      },
      {
        "duration": 70,
        "start_time": "2023-03-06T11:19:35.225Z"
      },
      {
        "duration": 78,
        "start_time": "2023-03-06T11:19:35.298Z"
      },
      {
        "duration": 428,
        "start_time": "2023-03-06T11:19:35.381Z"
      },
      {
        "duration": 55,
        "start_time": "2023-03-06T11:19:35.811Z"
      },
      {
        "duration": 379,
        "start_time": "2023-03-06T11:19:35.873Z"
      },
      {
        "duration": 33,
        "start_time": "2023-03-06T11:19:36.254Z"
      },
      {
        "duration": 38,
        "start_time": "2023-03-06T11:19:36.289Z"
      },
      {
        "duration": 41,
        "start_time": "2023-03-06T11:19:36.329Z"
      },
      {
        "duration": 43,
        "start_time": "2023-03-06T11:19:36.372Z"
      },
      {
        "duration": 21,
        "start_time": "2023-03-06T11:19:36.417Z"
      },
      {
        "duration": 501,
        "start_time": "2023-03-06T11:19:36.440Z"
      },
      {
        "duration": 27,
        "start_time": "2023-03-06T11:19:36.943Z"
      },
      {
        "duration": 11,
        "start_time": "2023-03-06T11:19:36.974Z"
      },
      {
        "duration": 88,
        "start_time": "2023-03-06T11:19:36.987Z"
      },
      {
        "duration": 76,
        "start_time": "2023-03-06T11:19:37.077Z"
      },
      {
        "duration": 10,
        "start_time": "2023-03-06T11:19:37.155Z"
      },
      {
        "duration": 56,
        "start_time": "2023-03-06T11:19:37.171Z"
      },
      {
        "duration": 6,
        "start_time": "2023-03-06T11:19:37.229Z"
      },
      {
        "duration": 7,
        "start_time": "2023-03-06T11:19:37.236Z"
      },
      {
        "duration": 18,
        "start_time": "2023-03-06T11:19:37.245Z"
      },
      {
        "duration": 49,
        "start_time": "2023-03-06T11:19:37.264Z"
      },
      {
        "duration": 106,
        "start_time": "2023-03-06T11:19:37.314Z"
      },
      {
        "duration": 42,
        "start_time": "2023-03-06T11:19:37.422Z"
      },
      {
        "duration": 184,
        "start_time": "2023-03-06T11:19:37.469Z"
      },
      {
        "duration": 186,
        "start_time": "2023-03-06T11:19:37.655Z"
      },
      {
        "duration": 31,
        "start_time": "2023-03-06T11:19:37.843Z"
      },
      {
        "duration": 43,
        "start_time": "2023-03-06T11:19:37.876Z"
      },
      {
        "duration": 275,
        "start_time": "2023-03-06T11:19:37.921Z"
      },
      {
        "duration": 36,
        "start_time": "2023-03-06T11:19:38.199Z"
      },
      {
        "duration": 22,
        "start_time": "2023-03-06T11:19:38.237Z"
      },
      {
        "duration": 319,
        "start_time": "2023-03-06T11:19:38.263Z"
      },
      {
        "duration": 2,
        "start_time": "2023-03-06T11:19:38.584Z"
      },
      {
        "duration": 331,
        "start_time": "2023-03-06T11:19:38.587Z"
      },
      {
        "duration": 57,
        "start_time": "2023-03-06T11:19:38.919Z"
      },
      {
        "duration": 6,
        "start_time": "2023-03-06T11:19:38.979Z"
      },
      {
        "duration": 341,
        "start_time": "2023-03-06T11:19:38.986Z"
      },
      {
        "duration": 4,
        "start_time": "2023-03-06T11:19:39.330Z"
      },
      {
        "duration": 64,
        "start_time": "2023-03-06T11:19:39.336Z"
      },
      {
        "duration": 11,
        "start_time": "2023-03-06T11:19:39.402Z"
      },
      {
        "duration": 197,
        "start_time": "2023-03-06T11:19:39.415Z"
      },
      {
        "duration": 4,
        "start_time": "2023-03-06T11:19:39.615Z"
      },
      {
        "duration": 188,
        "start_time": "2023-03-06T11:19:39.621Z"
      },
      {
        "duration": 34,
        "start_time": "2023-03-06T11:19:39.811Z"
      },
      {
        "duration": 30,
        "start_time": "2023-03-06T11:19:39.847Z"
      },
      {
        "duration": 19,
        "start_time": "2023-03-06T11:19:39.886Z"
      },
      {
        "duration": 15,
        "start_time": "2023-03-06T11:19:39.907Z"
      },
      {
        "duration": 52,
        "start_time": "2023-03-06T11:19:39.924Z"
      },
      {
        "duration": 4,
        "start_time": "2023-03-06T11:19:39.978Z"
      },
      {
        "duration": 40,
        "start_time": "2023-03-06T11:19:39.984Z"
      },
      {
        "duration": 449,
        "start_time": "2023-03-06T11:19:40.026Z"
      },
      {
        "duration": 460,
        "start_time": "2023-03-06T11:19:40.479Z"
      },
      {
        "duration": 4,
        "start_time": "2023-03-06T11:19:40.941Z"
      },
      {
        "duration": 67,
        "start_time": "2023-03-06T11:19:40.948Z"
      },
      {
        "duration": 71,
        "start_time": "2023-03-06T11:19:41.017Z"
      },
      {
        "duration": 18,
        "start_time": "2023-03-06T11:19:41.090Z"
      },
      {
        "duration": 55,
        "start_time": "2023-03-06T11:19:41.110Z"
      },
      {
        "duration": 5,
        "start_time": "2023-03-06T11:19:41.168Z"
      },
      {
        "duration": 178,
        "start_time": "2023-03-06T11:19:41.175Z"
      },
      {
        "duration": 56,
        "start_time": "2023-03-06T11:19:41.355Z"
      },
      {
        "duration": 3,
        "start_time": "2023-03-06T11:19:41.413Z"
      },
      {
        "duration": 6,
        "start_time": "2023-03-06T11:19:41.417Z"
      },
      {
        "duration": 6,
        "start_time": "2023-03-06T11:19:41.425Z"
      },
      {
        "duration": 79,
        "start_time": "2023-03-06T11:19:41.433Z"
      },
      {
        "duration": 6,
        "start_time": "2023-03-06T11:19:41.514Z"
      },
      {
        "duration": 48,
        "start_time": "2023-03-06T11:19:41.522Z"
      },
      {
        "duration": 28,
        "start_time": "2023-03-06T11:19:41.575Z"
      },
      {
        "duration": 218,
        "start_time": "2023-03-06T11:19:41.605Z"
      },
      {
        "duration": 11,
        "start_time": "2023-03-06T11:19:41.825Z"
      },
      {
        "duration": 24,
        "start_time": "2023-03-06T11:19:41.837Z"
      },
      {
        "duration": 9,
        "start_time": "2023-03-06T11:19:41.870Z"
      },
      {
        "duration": 15,
        "start_time": "2023-03-06T11:19:41.881Z"
      },
      {
        "duration": 40,
        "start_time": "2023-03-06T11:19:41.897Z"
      },
      {
        "duration": 20,
        "start_time": "2023-03-06T11:19:41.939Z"
      },
      {
        "duration": 83,
        "start_time": "2023-03-06T11:19:41.960Z"
      },
      {
        "duration": 28,
        "start_time": "2023-03-06T11:19:42.044Z"
      },
      {
        "duration": 179,
        "start_time": "2023-03-06T11:19:42.076Z"
      },
      {
        "duration": 25,
        "start_time": "2023-03-06T11:19:42.258Z"
      },
      {
        "duration": 10,
        "start_time": "2023-03-06T11:19:42.285Z"
      },
      {
        "duration": 6,
        "start_time": "2023-03-06T11:19:42.297Z"
      },
      {
        "duration": 6,
        "start_time": "2023-03-06T11:19:42.305Z"
      },
      {
        "duration": 2609,
        "start_time": "2023-03-06T11:19:42.313Z"
      },
      {
        "duration": 1542,
        "start_time": "2023-03-06T11:19:44.925Z"
      },
      {
        "duration": 5,
        "start_time": "2023-03-06T11:19:46.473Z"
      },
      {
        "duration": 16,
        "start_time": "2023-03-06T11:19:46.480Z"
      },
      {
        "duration": 5,
        "start_time": "2023-03-06T11:19:46.498Z"
      },
      {
        "duration": 33,
        "start_time": "2023-03-06T11:19:46.505Z"
      },
      {
        "duration": 185,
        "start_time": "2023-03-06T11:19:46.540Z"
      },
      {
        "duration": 3,
        "start_time": "2023-03-06T11:19:46.727Z"
      },
      {
        "duration": 45,
        "start_time": "2023-03-06T11:19:46.732Z"
      },
      {
        "duration": 13,
        "start_time": "2023-03-06T11:19:46.779Z"
      },
      {
        "duration": 41,
        "start_time": "2023-03-06T11:19:46.794Z"
      },
      {
        "duration": 37,
        "start_time": "2023-03-06T11:19:46.837Z"
      },
      {
        "duration": 6,
        "start_time": "2023-03-06T11:19:46.876Z"
      },
      {
        "duration": 15,
        "start_time": "2023-03-06T11:19:46.885Z"
      },
      {
        "duration": 7,
        "start_time": "2023-03-06T11:19:46.902Z"
      },
      {
        "duration": 64207,
        "start_time": "2023-03-06T11:19:46.911Z"
      },
      {
        "duration": 317,
        "start_time": "2023-03-06T11:20:51.119Z"
      },
      {
        "duration": 5,
        "start_time": "2023-03-06T11:20:51.438Z"
      },
      {
        "duration": 14,
        "start_time": "2023-03-06T11:20:51.445Z"
      },
      {
        "duration": 30,
        "start_time": "2023-03-06T11:20:51.461Z"
      },
      {
        "duration": 9,
        "start_time": "2023-03-06T11:20:51.493Z"
      },
      {
        "duration": 8,
        "start_time": "2023-03-06T11:20:51.504Z"
      },
      {
        "duration": 9,
        "start_time": "2023-03-06T11:20:51.514Z"
      },
      {
        "duration": 5,
        "start_time": "2023-03-06T11:20:51.525Z"
      },
      {
        "duration": 5,
        "start_time": "2023-03-06T11:20:51.532Z"
      },
      {
        "duration": 8,
        "start_time": "2023-03-06T11:20:51.539Z"
      },
      {
        "duration": 31,
        "start_time": "2023-03-06T11:22:43.548Z"
      },
      {
        "duration": 13,
        "start_time": "2023-03-06T11:23:03.540Z"
      },
      {
        "duration": 15,
        "start_time": "2023-03-06T11:23:04.252Z"
      },
      {
        "duration": 7,
        "start_time": "2023-03-06T11:23:04.414Z"
      },
      {
        "duration": 62,
        "start_time": "2023-03-06T11:23:04.540Z"
      },
      {
        "duration": 18,
        "start_time": "2023-03-06T11:23:05.998Z"
      },
      {
        "duration": 3,
        "start_time": "2023-03-06T11:23:06.791Z"
      },
      {
        "duration": 457,
        "start_time": "2023-03-06T11:23:06.987Z"
      },
      {
        "duration": 68,
        "start_time": "2023-03-06T11:23:16.695Z"
      },
      {
        "duration": 24,
        "start_time": "2023-03-06T11:23:16.820Z"
      },
      {
        "duration": 4,
        "start_time": "2023-03-06T11:23:16.978Z"
      },
      {
        "duration": 3,
        "start_time": "2023-03-06T11:23:17.228Z"
      },
      {
        "duration": 6,
        "start_time": "2023-03-06T11:23:17.403Z"
      },
      {
        "duration": 8,
        "start_time": "2023-03-06T11:23:17.532Z"
      },
      {
        "duration": 9,
        "start_time": "2023-03-06T11:23:17.710Z"
      },
      {
        "duration": 9,
        "start_time": "2023-03-06T11:23:17.915Z"
      },
      {
        "duration": 17,
        "start_time": "2023-03-06T11:23:18.036Z"
      },
      {
        "duration": 336,
        "start_time": "2023-03-06T11:23:18.204Z"
      },
      {
        "duration": 28,
        "start_time": "2023-03-06T11:23:18.555Z"
      },
      {
        "duration": 8,
        "start_time": "2023-03-06T11:23:18.724Z"
      },
      {
        "duration": 12,
        "start_time": "2023-03-06T11:23:18.912Z"
      },
      {
        "duration": 12,
        "start_time": "2023-03-06T11:23:19.099Z"
      },
      {
        "duration": 10570,
        "start_time": "2023-03-06T11:23:26.300Z"
      },
      {
        "duration": 2633,
        "start_time": "2023-03-06T11:23:36.875Z"
      },
      {
        "duration": 3,
        "start_time": "2023-03-06T11:23:39.511Z"
      },
      {
        "duration": 919,
        "start_time": "2023-03-06T11:23:39.516Z"
      },
      {
        "duration": 25,
        "start_time": "2023-03-06T11:23:40.438Z"
      },
      {
        "duration": 5,
        "start_time": "2023-03-06T11:23:40.469Z"
      },
      {
        "duration": 16,
        "start_time": "2023-03-06T11:23:40.477Z"
      },
      {
        "duration": 1674,
        "start_time": "2023-03-06T11:23:40.495Z"
      },
      {
        "duration": 101,
        "start_time": "2023-03-06T11:23:42.176Z"
      },
      {
        "duration": 16,
        "start_time": "2023-03-06T11:23:42.279Z"
      },
      {
        "duration": 61,
        "start_time": "2023-03-06T11:23:42.297Z"
      },
      {
        "duration": 14,
        "start_time": "2023-03-06T11:23:42.360Z"
      },
      {
        "duration": 57,
        "start_time": "2023-03-06T11:23:42.376Z"
      },
      {
        "duration": 37,
        "start_time": "2023-03-06T11:23:42.437Z"
      },
      {
        "duration": 354,
        "start_time": "2023-03-06T11:23:42.476Z"
      },
      {
        "duration": 16,
        "start_time": "2023-03-06T11:23:42.831Z"
      },
      {
        "duration": 15,
        "start_time": "2023-03-06T11:23:42.861Z"
      },
      {
        "duration": 191,
        "start_time": "2023-03-06T11:23:42.878Z"
      },
      {
        "duration": 20,
        "start_time": "2023-03-06T11:23:43.075Z"
      },
      {
        "duration": 142,
        "start_time": "2023-03-06T11:23:43.097Z"
      },
      {
        "duration": 35,
        "start_time": "2023-03-06T11:23:43.241Z"
      },
      {
        "duration": 43,
        "start_time": "2023-03-06T11:23:43.279Z"
      },
      {
        "duration": 57,
        "start_time": "2023-03-06T11:23:43.324Z"
      },
      {
        "duration": 37,
        "start_time": "2023-03-06T11:23:43.384Z"
      },
      {
        "duration": 8,
        "start_time": "2023-03-06T11:23:43.423Z"
      },
      {
        "duration": 8,
        "start_time": "2023-03-06T11:23:43.433Z"
      },
      {
        "duration": 142,
        "start_time": "2023-03-06T11:23:43.442Z"
      },
      {
        "duration": 9,
        "start_time": "2023-03-06T11:23:43.593Z"
      },
      {
        "duration": 77,
        "start_time": "2023-03-06T11:23:43.604Z"
      },
      {
        "duration": 9,
        "start_time": "2023-03-06T11:23:43.683Z"
      },
      {
        "duration": 54,
        "start_time": "2023-03-06T11:23:43.694Z"
      },
      {
        "duration": 3,
        "start_time": "2023-03-06T11:23:43.750Z"
      },
      {
        "duration": 370,
        "start_time": "2023-03-06T11:23:43.755Z"
      },
      {
        "duration": 148,
        "start_time": "2023-03-06T11:23:44.127Z"
      },
      {
        "duration": 61,
        "start_time": "2023-03-06T11:23:44.277Z"
      },
      {
        "duration": 38,
        "start_time": "2023-03-06T11:23:44.340Z"
      },
      {
        "duration": 47,
        "start_time": "2023-03-06T11:23:44.381Z"
      },
      {
        "duration": 55,
        "start_time": "2023-03-06T11:23:44.429Z"
      },
      {
        "duration": 5,
        "start_time": "2023-03-06T11:23:44.487Z"
      },
      {
        "duration": 387,
        "start_time": "2023-03-06T11:23:44.494Z"
      },
      {
        "duration": 56,
        "start_time": "2023-03-06T11:23:44.887Z"
      },
      {
        "duration": 394,
        "start_time": "2023-03-06T11:23:44.945Z"
      },
      {
        "duration": 34,
        "start_time": "2023-03-06T11:23:45.340Z"
      },
      {
        "duration": 39,
        "start_time": "2023-03-06T11:23:45.377Z"
      },
      {
        "duration": 46,
        "start_time": "2023-03-06T11:23:45.418Z"
      },
      {
        "duration": 43,
        "start_time": "2023-03-06T11:23:45.476Z"
      },
      {
        "duration": 50,
        "start_time": "2023-03-06T11:23:45.521Z"
      },
      {
        "duration": 421,
        "start_time": "2023-03-06T11:23:45.575Z"
      },
      {
        "duration": 27,
        "start_time": "2023-03-06T11:23:45.998Z"
      },
      {
        "duration": 23,
        "start_time": "2023-03-06T11:23:46.027Z"
      },
      {
        "duration": 74,
        "start_time": "2023-03-06T11:23:46.053Z"
      },
      {
        "duration": 76,
        "start_time": "2023-03-06T11:23:46.129Z"
      },
      {
        "duration": 8,
        "start_time": "2023-03-06T11:23:46.207Z"
      },
      {
        "duration": 61,
        "start_time": "2023-03-06T11:23:46.217Z"
      },
      {
        "duration": 5,
        "start_time": "2023-03-06T11:23:46.281Z"
      },
      {
        "duration": 8,
        "start_time": "2023-03-06T11:23:46.288Z"
      },
      {
        "duration": 12,
        "start_time": "2023-03-06T11:23:46.299Z"
      },
      {
        "duration": 191,
        "start_time": "2023-03-06T11:23:46.313Z"
      },
      {
        "duration": 96,
        "start_time": "2023-03-06T11:23:46.505Z"
      },
      {
        "duration": 25,
        "start_time": "2023-03-06T11:23:46.603Z"
      },
      {
        "duration": 206,
        "start_time": "2023-03-06T11:23:46.630Z"
      },
      {
        "duration": 176,
        "start_time": "2023-03-06T11:23:46.838Z"
      },
      {
        "duration": 21,
        "start_time": "2023-03-06T11:23:47.016Z"
      },
      {
        "duration": 35,
        "start_time": "2023-03-06T11:23:47.039Z"
      },
      {
        "duration": 266,
        "start_time": "2023-03-06T11:23:47.079Z"
      },
      {
        "duration": 50,
        "start_time": "2023-03-06T11:23:47.347Z"
      },
      {
        "duration": 5,
        "start_time": "2023-03-06T11:23:47.399Z"
      },
      {
        "duration": 332,
        "start_time": "2023-03-06T11:23:47.406Z"
      },
      {
        "duration": 2,
        "start_time": "2023-03-06T11:23:47.740Z"
      },
      {
        "duration": 366,
        "start_time": "2023-03-06T11:23:47.744Z"
      },
      {
        "duration": 67,
        "start_time": "2023-03-06T11:23:48.113Z"
      },
      {
        "duration": 6,
        "start_time": "2023-03-06T11:23:48.182Z"
      },
      {
        "duration": 338,
        "start_time": "2023-03-06T11:23:48.190Z"
      },
      {
        "duration": 5,
        "start_time": "2023-03-06T11:23:48.529Z"
      },
      {
        "duration": 64,
        "start_time": "2023-03-06T11:23:48.536Z"
      },
      {
        "duration": 15,
        "start_time": "2023-03-06T11:23:48.603Z"
      },
      {
        "duration": 216,
        "start_time": "2023-03-06T11:23:48.619Z"
      },
      {
        "duration": 5,
        "start_time": "2023-03-06T11:23:48.837Z"
      },
      {
        "duration": 182,
        "start_time": "2023-03-06T11:23:48.844Z"
      },
      {
        "duration": 47,
        "start_time": "2023-03-06T11:23:49.028Z"
      },
      {
        "duration": 19,
        "start_time": "2023-03-06T11:23:49.079Z"
      },
      {
        "duration": 17,
        "start_time": "2023-03-06T11:23:49.100Z"
      },
      {
        "duration": 14,
        "start_time": "2023-03-06T11:23:49.119Z"
      },
      {
        "duration": 53,
        "start_time": "2023-03-06T11:23:49.135Z"
      },
      {
        "duration": 3,
        "start_time": "2023-03-06T11:23:49.191Z"
      },
      {
        "duration": 27,
        "start_time": "2023-03-06T11:23:49.196Z"
      },
      {
        "duration": 478,
        "start_time": "2023-03-06T11:23:49.225Z"
      },
      {
        "duration": 464,
        "start_time": "2023-03-06T11:23:49.704Z"
      },
      {
        "duration": 5,
        "start_time": "2023-03-06T11:23:50.177Z"
      },
      {
        "duration": 43,
        "start_time": "2023-03-06T11:23:50.184Z"
      },
      {
        "duration": 71,
        "start_time": "2023-03-06T11:23:50.229Z"
      },
      {
        "duration": 20,
        "start_time": "2023-03-06T11:23:50.302Z"
      },
      {
        "duration": 46,
        "start_time": "2023-03-06T11:23:50.324Z"
      },
      {
        "duration": 13,
        "start_time": "2023-03-06T11:23:50.371Z"
      },
      {
        "duration": 169,
        "start_time": "2023-03-06T11:23:50.386Z"
      },
      {
        "duration": 54,
        "start_time": "2023-03-06T11:23:50.557Z"
      },
      {
        "duration": 3,
        "start_time": "2023-03-06T11:23:50.613Z"
      },
      {
        "duration": 7,
        "start_time": "2023-03-06T11:23:50.617Z"
      },
      {
        "duration": 6,
        "start_time": "2023-03-06T11:23:50.626Z"
      },
      {
        "duration": 84,
        "start_time": "2023-03-06T11:23:50.634Z"
      },
      {
        "duration": 5,
        "start_time": "2023-03-06T11:23:50.720Z"
      },
      {
        "duration": 21,
        "start_time": "2023-03-06T11:23:50.727Z"
      },
      {
        "duration": 46,
        "start_time": "2023-03-06T11:23:50.762Z"
      },
      {
        "duration": 177,
        "start_time": "2023-03-06T11:23:50.810Z"
      },
      {
        "duration": 11,
        "start_time": "2023-03-06T11:23:50.988Z"
      },
      {
        "duration": 8,
        "start_time": "2023-03-06T11:23:51.000Z"
      },
      {
        "duration": 13,
        "start_time": "2023-03-06T11:23:51.009Z"
      },
      {
        "duration": 15,
        "start_time": "2023-03-06T11:23:51.024Z"
      },
      {
        "duration": 37,
        "start_time": "2023-03-06T11:23:51.057Z"
      },
      {
        "duration": 13,
        "start_time": "2023-03-06T11:23:51.096Z"
      },
      {
        "duration": 18,
        "start_time": "2023-03-06T11:23:51.111Z"
      },
      {
        "duration": 92,
        "start_time": "2023-03-06T11:23:51.130Z"
      },
      {
        "duration": 21,
        "start_time": "2023-03-06T11:23:51.225Z"
      },
      {
        "duration": 41,
        "start_time": "2023-03-06T11:23:51.248Z"
      },
      {
        "duration": 24,
        "start_time": "2023-03-06T11:23:51.291Z"
      },
      {
        "duration": 11,
        "start_time": "2023-03-06T11:23:51.317Z"
      },
      {
        "duration": 18,
        "start_time": "2023-03-06T11:23:51.329Z"
      },
      {
        "duration": 10,
        "start_time": "2023-03-06T11:23:51.349Z"
      },
      {
        "duration": 2382,
        "start_time": "2023-03-06T11:23:51.362Z"
      },
      {
        "duration": 1464,
        "start_time": "2023-03-06T11:23:53.746Z"
      },
      {
        "duration": 4,
        "start_time": "2023-03-06T11:23:55.212Z"
      },
      {
        "duration": 2,
        "start_time": "2023-03-06T11:23:55.224Z"
      },
      {
        "duration": 23,
        "start_time": "2023-03-06T11:23:55.228Z"
      },
      {
        "duration": 54,
        "start_time": "2023-03-06T11:23:55.253Z"
      },
      {
        "duration": 195,
        "start_time": "2023-03-06T11:23:55.310Z"
      },
      {
        "duration": 3,
        "start_time": "2023-03-06T11:23:55.508Z"
      },
      {
        "duration": 46,
        "start_time": "2023-03-06T11:23:55.514Z"
      },
      {
        "duration": 18,
        "start_time": "2023-03-06T11:23:55.562Z"
      },
      {
        "duration": 78,
        "start_time": "2023-03-06T11:23:55.581Z"
      },
      {
        "duration": 25,
        "start_time": "2023-03-06T11:23:55.661Z"
      },
      {
        "duration": 16,
        "start_time": "2023-03-06T11:23:55.688Z"
      },
      {
        "duration": 18,
        "start_time": "2023-03-06T11:23:55.706Z"
      },
      {
        "duration": 14,
        "start_time": "2023-03-06T11:23:55.726Z"
      },
      {
        "duration": 65981,
        "start_time": "2023-03-06T11:23:55.742Z"
      },
      {
        "duration": 322,
        "start_time": "2023-03-06T11:25:01.725Z"
      },
      {
        "duration": 24,
        "start_time": "2023-03-06T11:25:02.049Z"
      },
      {
        "duration": 40,
        "start_time": "2023-03-06T11:25:02.080Z"
      },
      {
        "duration": 68,
        "start_time": "2023-03-06T11:25:02.122Z"
      },
      {
        "duration": 84,
        "start_time": "2023-03-06T11:25:02.193Z"
      },
      {
        "duration": 41,
        "start_time": "2023-03-06T11:25:02.280Z"
      },
      {
        "duration": 61,
        "start_time": "2023-03-06T11:25:02.323Z"
      },
      {
        "duration": 49,
        "start_time": "2023-03-06T11:25:02.386Z"
      },
      {
        "duration": 54,
        "start_time": "2023-03-06T11:25:02.437Z"
      },
      {
        "duration": 94,
        "start_time": "2023-03-06T11:25:02.493Z"
      },
      {
        "duration": 23374,
        "start_time": "2023-03-06T21:23:27.770Z"
      },
      {
        "duration": 2780,
        "start_time": "2023-03-06T21:23:51.147Z"
      },
      {
        "duration": 3,
        "start_time": "2023-03-06T21:23:53.929Z"
      },
      {
        "duration": 2821,
        "start_time": "2023-03-06T21:23:53.935Z"
      },
      {
        "duration": 19,
        "start_time": "2023-03-06T21:23:56.757Z"
      },
      {
        "duration": 3,
        "start_time": "2023-03-06T21:23:56.777Z"
      },
      {
        "duration": 9,
        "start_time": "2023-03-06T21:23:56.782Z"
      },
      {
        "duration": 1442,
        "start_time": "2023-03-06T21:23:56.792Z"
      },
      {
        "duration": 94,
        "start_time": "2023-03-06T21:23:58.235Z"
      },
      {
        "duration": 15,
        "start_time": "2023-03-06T21:23:58.331Z"
      },
      {
        "duration": 71,
        "start_time": "2023-03-06T21:23:58.348Z"
      },
      {
        "duration": 4,
        "start_time": "2023-03-06T21:23:58.420Z"
      },
      {
        "duration": 59,
        "start_time": "2023-03-06T21:23:58.425Z"
      },
      {
        "duration": 15,
        "start_time": "2023-03-06T21:23:58.485Z"
      },
      {
        "duration": 334,
        "start_time": "2023-03-06T21:23:58.502Z"
      },
      {
        "duration": 15,
        "start_time": "2023-03-06T21:23:58.838Z"
      },
      {
        "duration": 7,
        "start_time": "2023-03-06T21:23:58.854Z"
      },
      {
        "duration": 170,
        "start_time": "2023-03-06T21:23:58.863Z"
      },
      {
        "duration": 26,
        "start_time": "2023-03-06T21:23:59.035Z"
      },
      {
        "duration": 95,
        "start_time": "2023-03-06T21:23:59.063Z"
      },
      {
        "duration": 18,
        "start_time": "2023-03-06T21:23:59.160Z"
      },
      {
        "duration": 44,
        "start_time": "2023-03-06T21:23:59.180Z"
      },
      {
        "duration": 35,
        "start_time": "2023-03-06T21:23:59.227Z"
      },
      {
        "duration": 6,
        "start_time": "2023-03-06T21:23:59.263Z"
      },
      {
        "duration": 6,
        "start_time": "2023-03-06T21:23:59.271Z"
      },
      {
        "duration": 38,
        "start_time": "2023-03-06T21:23:59.278Z"
      },
      {
        "duration": 74,
        "start_time": "2023-03-06T21:23:59.318Z"
      },
      {
        "duration": 3,
        "start_time": "2023-03-06T21:23:59.396Z"
      },
      {
        "duration": 47,
        "start_time": "2023-03-06T21:23:59.400Z"
      },
      {
        "duration": 5,
        "start_time": "2023-03-06T21:23:59.449Z"
      },
      {
        "duration": 27,
        "start_time": "2023-03-06T21:23:59.455Z"
      },
      {
        "duration": 2,
        "start_time": "2023-03-06T21:23:59.484Z"
      },
      {
        "duration": 334,
        "start_time": "2023-03-06T21:23:59.487Z"
      },
      {
        "duration": 93,
        "start_time": "2023-03-06T21:23:59.824Z"
      },
      {
        "duration": 42,
        "start_time": "2023-03-06T21:23:59.919Z"
      },
      {
        "duration": 23,
        "start_time": "2023-03-06T21:23:59.963Z"
      },
      {
        "duration": 62,
        "start_time": "2023-03-06T21:23:59.987Z"
      },
      {
        "duration": 35,
        "start_time": "2023-03-06T21:24:00.050Z"
      },
      {
        "duration": 20,
        "start_time": "2023-03-06T21:24:00.087Z"
      },
      {
        "duration": 401,
        "start_time": "2023-03-06T21:24:00.109Z"
      },
      {
        "duration": 34,
        "start_time": "2023-03-06T21:24:00.512Z"
      },
      {
        "duration": 374,
        "start_time": "2023-03-06T21:24:00.548Z"
      },
      {
        "duration": 17,
        "start_time": "2023-03-06T21:24:00.923Z"
      },
      {
        "duration": 46,
        "start_time": "2023-03-06T21:24:00.942Z"
      },
      {
        "duration": 40,
        "start_time": "2023-03-06T21:24:00.989Z"
      },
      {
        "duration": 34,
        "start_time": "2023-03-06T21:24:01.031Z"
      },
      {
        "duration": 34,
        "start_time": "2023-03-06T21:24:01.067Z"
      },
      {
        "duration": 478,
        "start_time": "2023-03-06T21:24:01.103Z"
      },
      {
        "duration": 29,
        "start_time": "2023-03-06T21:24:01.584Z"
      },
      {
        "duration": 21,
        "start_time": "2023-03-06T21:24:01.615Z"
      },
      {
        "duration": 62,
        "start_time": "2023-03-06T21:24:01.637Z"
      },
      {
        "duration": 73,
        "start_time": "2023-03-06T21:24:01.701Z"
      },
      {
        "duration": 7,
        "start_time": "2023-03-06T21:24:01.776Z"
      },
      {
        "duration": 44,
        "start_time": "2023-03-06T21:24:01.785Z"
      },
      {
        "duration": 4,
        "start_time": "2023-03-06T21:24:01.831Z"
      },
      {
        "duration": 25,
        "start_time": "2023-03-06T21:24:01.837Z"
      },
      {
        "duration": 42,
        "start_time": "2023-03-06T21:24:01.864Z"
      },
      {
        "duration": 43,
        "start_time": "2023-03-06T21:24:01.908Z"
      },
      {
        "duration": 86,
        "start_time": "2023-03-06T21:24:01.953Z"
      },
      {
        "duration": 25,
        "start_time": "2023-03-06T21:24:02.041Z"
      },
      {
        "duration": 188,
        "start_time": "2023-03-06T21:24:02.068Z"
      },
      {
        "duration": 169,
        "start_time": "2023-03-06T21:24:02.257Z"
      },
      {
        "duration": 19,
        "start_time": "2023-03-06T21:24:02.428Z"
      },
      {
        "duration": 18,
        "start_time": "2023-03-06T21:24:02.449Z"
      },
      {
        "duration": 260,
        "start_time": "2023-03-06T21:24:02.469Z"
      },
      {
        "duration": 38,
        "start_time": "2023-03-06T21:24:02.730Z"
      },
      {
        "duration": 5,
        "start_time": "2023-03-06T21:24:02.770Z"
      },
      {
        "duration": 320,
        "start_time": "2023-03-06T21:24:02.776Z"
      },
      {
        "duration": 2,
        "start_time": "2023-03-06T21:24:03.097Z"
      },
      {
        "duration": 305,
        "start_time": "2023-03-06T21:24:03.112Z"
      },
      {
        "duration": 46,
        "start_time": "2023-03-06T21:24:03.419Z"
      },
      {
        "duration": 5,
        "start_time": "2023-03-06T21:24:03.466Z"
      },
      {
        "duration": 318,
        "start_time": "2023-03-06T21:24:03.472Z"
      },
      {
        "duration": 5,
        "start_time": "2023-03-06T21:24:03.792Z"
      },
      {
        "duration": 40,
        "start_time": "2023-03-06T21:24:03.799Z"
      },
      {
        "duration": 11,
        "start_time": "2023-03-06T21:24:03.841Z"
      },
      {
        "duration": 160,
        "start_time": "2023-03-06T21:24:03.854Z"
      },
      {
        "duration": 8,
        "start_time": "2023-03-06T21:24:04.016Z"
      },
      {
        "duration": 198,
        "start_time": "2023-03-06T21:24:04.025Z"
      },
      {
        "duration": 35,
        "start_time": "2023-03-06T21:24:04.226Z"
      },
      {
        "duration": 28,
        "start_time": "2023-03-06T21:24:04.263Z"
      },
      {
        "duration": 26,
        "start_time": "2023-03-06T21:24:04.320Z"
      },
      {
        "duration": 13,
        "start_time": "2023-03-06T21:24:04.348Z"
      },
      {
        "duration": 26,
        "start_time": "2023-03-06T21:24:04.362Z"
      },
      {
        "duration": 2,
        "start_time": "2023-03-06T21:24:04.413Z"
      },
      {
        "duration": 20,
        "start_time": "2023-03-06T21:24:04.417Z"
      },
      {
        "duration": 404,
        "start_time": "2023-03-06T21:24:04.438Z"
      },
      {
        "duration": 367,
        "start_time": "2023-03-06T21:24:04.844Z"
      },
      {
        "duration": 4,
        "start_time": "2023-03-06T21:24:05.212Z"
      },
      {
        "duration": 39,
        "start_time": "2023-03-06T21:24:05.217Z"
      },
      {
        "duration": 62,
        "start_time": "2023-03-06T21:24:05.257Z"
      },
      {
        "duration": 19,
        "start_time": "2023-03-06T21:24:05.321Z"
      },
      {
        "duration": 29,
        "start_time": "2023-03-06T21:24:05.341Z"
      },
      {
        "duration": 6,
        "start_time": "2023-03-06T21:24:05.371Z"
      },
      {
        "duration": 195,
        "start_time": "2023-03-06T21:24:05.378Z"
      },
      {
        "duration": 55,
        "start_time": "2023-03-06T21:24:05.575Z"
      },
      {
        "duration": 2,
        "start_time": "2023-03-06T21:24:05.632Z"
      },
      {
        "duration": 4,
        "start_time": "2023-03-06T21:24:05.636Z"
      },
      {
        "duration": 5,
        "start_time": "2023-03-06T21:24:05.641Z"
      },
      {
        "duration": 70,
        "start_time": "2023-03-06T21:24:05.648Z"
      },
      {
        "duration": 6,
        "start_time": "2023-03-06T21:24:05.720Z"
      },
      {
        "duration": 21,
        "start_time": "2023-03-06T21:24:05.727Z"
      },
      {
        "duration": 28,
        "start_time": "2023-03-06T21:24:05.750Z"
      },
      {
        "duration": 218,
        "start_time": "2023-03-06T21:24:05.780Z"
      },
      {
        "duration": 15,
        "start_time": "2023-03-06T21:24:06.000Z"
      },
      {
        "duration": 9,
        "start_time": "2023-03-06T21:24:06.017Z"
      },
      {
        "duration": 9,
        "start_time": "2023-03-06T21:24:06.028Z"
      },
      {
        "duration": 13,
        "start_time": "2023-03-06T21:24:06.039Z"
      },
      {
        "duration": 69,
        "start_time": "2023-03-06T21:24:06.054Z"
      },
      {
        "duration": 24,
        "start_time": "2023-03-06T21:24:06.125Z"
      },
      {
        "duration": 26,
        "start_time": "2023-03-06T21:24:06.151Z"
      },
      {
        "duration": 64,
        "start_time": "2023-03-06T21:24:06.178Z"
      },
      {
        "duration": 20,
        "start_time": "2023-03-06T21:24:06.243Z"
      },
      {
        "duration": 28,
        "start_time": "2023-03-06T21:24:06.265Z"
      },
      {
        "duration": 31,
        "start_time": "2023-03-06T21:24:06.294Z"
      },
      {
        "duration": 4,
        "start_time": "2023-03-06T21:24:06.326Z"
      },
      {
        "duration": 5,
        "start_time": "2023-03-06T21:24:06.332Z"
      },
      {
        "duration": 4,
        "start_time": "2023-03-06T21:24:06.339Z"
      },
      {
        "duration": 2289,
        "start_time": "2023-03-06T21:24:06.345Z"
      },
      {
        "duration": 1412,
        "start_time": "2023-03-06T21:24:08.635Z"
      },
      {
        "duration": 4,
        "start_time": "2023-03-06T21:24:10.048Z"
      },
      {
        "duration": 13,
        "start_time": "2023-03-06T21:24:10.054Z"
      },
      {
        "duration": 5,
        "start_time": "2023-03-06T21:24:10.068Z"
      },
      {
        "duration": 32,
        "start_time": "2023-03-06T21:24:10.075Z"
      },
      {
        "duration": 175,
        "start_time": "2023-03-06T21:24:10.108Z"
      },
      {
        "duration": 3,
        "start_time": "2023-03-06T21:24:10.284Z"
      },
      {
        "duration": 27,
        "start_time": "2023-03-06T21:24:10.288Z"
      },
      {
        "duration": 6,
        "start_time": "2023-03-06T21:24:10.317Z"
      },
      {
        "duration": 39,
        "start_time": "2023-03-06T21:24:10.325Z"
      },
      {
        "duration": 17,
        "start_time": "2023-03-06T21:24:10.366Z"
      },
      {
        "duration": 28,
        "start_time": "2023-03-06T21:24:10.384Z"
      },
      {
        "duration": 4,
        "start_time": "2023-03-06T21:24:10.414Z"
      },
      {
        "duration": 5,
        "start_time": "2023-03-06T21:24:10.419Z"
      },
      {
        "duration": 55432,
        "start_time": "2023-03-06T21:24:10.425Z"
      },
      {
        "duration": 288,
        "start_time": "2023-03-06T21:25:05.858Z"
      },
      {
        "duration": 4,
        "start_time": "2023-03-06T21:25:06.148Z"
      },
      {
        "duration": 5,
        "start_time": "2023-03-06T21:25:06.153Z"
      },
      {
        "duration": 17,
        "start_time": "2023-03-06T21:25:06.159Z"
      },
      {
        "duration": 6,
        "start_time": "2023-03-06T21:25:06.178Z"
      },
      {
        "duration": 4,
        "start_time": "2023-03-06T21:25:06.185Z"
      },
      {
        "duration": 4,
        "start_time": "2023-03-06T21:25:06.190Z"
      },
      {
        "duration": 5,
        "start_time": "2023-03-06T21:25:06.196Z"
      },
      {
        "duration": 9,
        "start_time": "2023-03-06T21:25:06.203Z"
      },
      {
        "duration": 29,
        "start_time": "2023-03-06T21:25:06.214Z"
      },
      {
        "duration": 23214,
        "start_time": "2023-03-07T22:57:55.443Z"
      },
      {
        "duration": 2872,
        "start_time": "2023-03-07T22:58:18.659Z"
      },
      {
        "duration": 2,
        "start_time": "2023-03-07T22:58:21.533Z"
      },
      {
        "duration": 1003,
        "start_time": "2023-03-07T22:58:21.538Z"
      },
      {
        "duration": 15,
        "start_time": "2023-03-07T22:58:22.542Z"
      },
      {
        "duration": 19,
        "start_time": "2023-03-07T22:58:22.558Z"
      },
      {
        "duration": 10,
        "start_time": "2023-03-07T22:58:22.578Z"
      },
      {
        "duration": 1404,
        "start_time": "2023-03-07T22:58:22.590Z"
      },
      {
        "duration": 101,
        "start_time": "2023-03-07T22:58:23.996Z"
      },
      {
        "duration": 15,
        "start_time": "2023-03-07T22:58:24.099Z"
      },
      {
        "duration": 71,
        "start_time": "2023-03-07T22:58:24.115Z"
      },
      {
        "duration": 4,
        "start_time": "2023-03-07T22:58:24.187Z"
      },
      {
        "duration": 68,
        "start_time": "2023-03-07T22:58:24.193Z"
      },
      {
        "duration": 16,
        "start_time": "2023-03-07T22:58:24.263Z"
      },
      {
        "duration": 362,
        "start_time": "2023-03-07T22:58:24.281Z"
      },
      {
        "duration": 15,
        "start_time": "2023-03-07T22:58:24.645Z"
      },
      {
        "duration": 8,
        "start_time": "2023-03-07T22:58:24.662Z"
      },
      {
        "duration": 177,
        "start_time": "2023-03-07T22:58:24.672Z"
      },
      {
        "duration": 19,
        "start_time": "2023-03-07T22:58:24.851Z"
      },
      {
        "duration": 101,
        "start_time": "2023-03-07T22:58:24.872Z"
      },
      {
        "duration": 18,
        "start_time": "2023-03-07T22:58:24.975Z"
      },
      {
        "duration": 45,
        "start_time": "2023-03-07T22:58:24.995Z"
      },
      {
        "duration": 39,
        "start_time": "2023-03-07T22:58:25.042Z"
      },
      {
        "duration": 7,
        "start_time": "2023-03-07T22:58:25.084Z"
      },
      {
        "duration": 6,
        "start_time": "2023-03-07T22:58:25.093Z"
      },
      {
        "duration": 4,
        "start_time": "2023-03-07T22:58:25.132Z"
      },
      {
        "duration": 75,
        "start_time": "2023-03-07T22:58:25.138Z"
      },
      {
        "duration": 15,
        "start_time": "2023-03-07T22:58:25.217Z"
      },
      {
        "duration": 39,
        "start_time": "2023-03-07T22:58:25.233Z"
      },
      {
        "duration": 5,
        "start_time": "2023-03-07T22:58:25.273Z"
      },
      {
        "duration": 39,
        "start_time": "2023-03-07T22:58:25.279Z"
      },
      {
        "duration": 12,
        "start_time": "2023-03-07T22:58:25.320Z"
      },
      {
        "duration": 283,
        "start_time": "2023-03-07T22:58:25.333Z"
      },
      {
        "duration": 89,
        "start_time": "2023-03-07T22:58:25.618Z"
      },
      {
        "duration": 70,
        "start_time": "2023-03-07T22:58:25.709Z"
      },
      {
        "duration": 31,
        "start_time": "2023-03-07T22:58:25.781Z"
      },
      {
        "duration": 66,
        "start_time": "2023-03-07T22:58:25.814Z"
      },
      {
        "duration": 41,
        "start_time": "2023-03-07T22:58:25.882Z"
      },
      {
        "duration": 8,
        "start_time": "2023-03-07T22:58:25.925Z"
      },
      {
        "duration": 311,
        "start_time": "2023-03-07T22:58:25.936Z"
      },
      {
        "duration": 32,
        "start_time": "2023-03-07T22:58:26.249Z"
      },
      {
        "duration": 352,
        "start_time": "2023-03-07T22:58:26.282Z"
      },
      {
        "duration": 17,
        "start_time": "2023-03-07T22:58:26.636Z"
      },
      {
        "duration": 16,
        "start_time": "2023-03-07T22:58:26.654Z"
      },
      {
        "duration": 14,
        "start_time": "2023-03-07T22:58:26.672Z"
      },
      {
        "duration": 21,
        "start_time": "2023-03-07T22:58:26.687Z"
      },
      {
        "duration": 32,
        "start_time": "2023-03-07T22:58:26.710Z"
      },
      {
        "duration": 298,
        "start_time": "2023-03-07T22:58:26.744Z"
      },
      {
        "duration": 14,
        "start_time": "2023-03-07T22:58:27.043Z"
      },
      {
        "duration": 6,
        "start_time": "2023-03-07T22:58:27.059Z"
      },
      {
        "duration": 76,
        "start_time": "2023-03-07T22:58:27.067Z"
      },
      {
        "duration": 55,
        "start_time": "2023-03-07T22:58:27.145Z"
      },
      {
        "duration": 6,
        "start_time": "2023-03-07T22:58:27.202Z"
      },
      {
        "duration": 48,
        "start_time": "2023-03-07T22:58:27.210Z"
      },
      {
        "duration": 4,
        "start_time": "2023-03-07T22:58:27.260Z"
      },
      {
        "duration": 7,
        "start_time": "2023-03-07T22:58:27.265Z"
      },
      {
        "duration": 10,
        "start_time": "2023-03-07T22:58:27.274Z"
      },
      {
        "duration": 186,
        "start_time": "2023-03-07T22:58:27.285Z"
      },
      {
        "duration": 104,
        "start_time": "2023-03-07T22:58:27.473Z"
      },
      {
        "duration": 25,
        "start_time": "2023-03-07T22:58:27.579Z"
      },
      {
        "duration": 182,
        "start_time": "2023-03-07T22:58:27.606Z"
      },
      {
        "duration": 149,
        "start_time": "2023-03-07T22:58:27.790Z"
      },
      {
        "duration": 18,
        "start_time": "2023-03-07T22:58:27.941Z"
      },
      {
        "duration": 18,
        "start_time": "2023-03-07T22:58:27.961Z"
      },
      {
        "duration": 254,
        "start_time": "2023-03-07T22:58:27.980Z"
      },
      {
        "duration": 36,
        "start_time": "2023-03-07T22:58:28.236Z"
      },
      {
        "duration": 5,
        "start_time": "2023-03-07T22:58:28.273Z"
      },
      {
        "duration": 301,
        "start_time": "2023-03-07T22:58:28.279Z"
      },
      {
        "duration": 2,
        "start_time": "2023-03-07T22:58:28.582Z"
      },
      {
        "duration": 288,
        "start_time": "2023-03-07T22:58:28.585Z"
      },
      {
        "duration": 46,
        "start_time": "2023-03-07T22:58:28.875Z"
      },
      {
        "duration": 9,
        "start_time": "2023-03-07T22:58:28.923Z"
      },
      {
        "duration": 277,
        "start_time": "2023-03-07T22:58:28.933Z"
      },
      {
        "duration": 4,
        "start_time": "2023-03-07T22:58:29.211Z"
      },
      {
        "duration": 39,
        "start_time": "2023-03-07T22:58:29.216Z"
      },
      {
        "duration": 10,
        "start_time": "2023-03-07T22:58:29.257Z"
      },
      {
        "duration": 142,
        "start_time": "2023-03-07T22:58:29.269Z"
      },
      {
        "duration": 3,
        "start_time": "2023-03-07T22:58:29.413Z"
      },
      {
        "duration": 153,
        "start_time": "2023-03-07T22:58:29.418Z"
      },
      {
        "duration": 34,
        "start_time": "2023-03-07T22:58:29.573Z"
      },
      {
        "duration": 30,
        "start_time": "2023-03-07T22:58:29.609Z"
      },
      {
        "duration": 18,
        "start_time": "2023-03-07T22:58:29.646Z"
      },
      {
        "duration": 11,
        "start_time": "2023-03-07T22:58:29.665Z"
      },
      {
        "duration": 22,
        "start_time": "2023-03-07T22:58:29.677Z"
      },
      {
        "duration": 31,
        "start_time": "2023-03-07T22:58:29.700Z"
      },
      {
        "duration": 21,
        "start_time": "2023-03-07T22:58:29.733Z"
      },
      {
        "duration": 433,
        "start_time": "2023-03-07T22:58:29.756Z"
      },
      {
        "duration": 385,
        "start_time": "2023-03-07T22:58:30.191Z"
      },
      {
        "duration": 3,
        "start_time": "2023-03-07T22:58:30.578Z"
      },
      {
        "duration": 70,
        "start_time": "2023-03-07T22:58:30.583Z"
      },
      {
        "duration": 89,
        "start_time": "2023-03-07T22:58:30.655Z"
      },
      {
        "duration": 36,
        "start_time": "2023-03-07T22:58:30.746Z"
      },
      {
        "duration": 31,
        "start_time": "2023-03-07T22:58:30.784Z"
      },
      {
        "duration": 18,
        "start_time": "2023-03-07T22:58:30.817Z"
      },
      {
        "duration": 218,
        "start_time": "2023-03-07T22:58:30.836Z"
      },
      {
        "duration": 60,
        "start_time": "2023-03-07T22:58:31.056Z"
      },
      {
        "duration": 2,
        "start_time": "2023-03-07T22:58:31.118Z"
      },
      {
        "duration": 20,
        "start_time": "2023-03-07T22:58:31.130Z"
      },
      {
        "duration": 23,
        "start_time": "2023-03-07T22:58:31.152Z"
      },
      {
        "duration": 73,
        "start_time": "2023-03-07T22:58:31.177Z"
      },
      {
        "duration": 17,
        "start_time": "2023-03-07T22:58:31.252Z"
      },
      {
        "duration": 39,
        "start_time": "2023-03-07T22:58:31.271Z"
      },
      {
        "duration": 35,
        "start_time": "2023-03-07T22:58:31.311Z"
      },
      {
        "duration": 175,
        "start_time": "2023-03-07T22:58:31.348Z"
      },
      {
        "duration": 12,
        "start_time": "2023-03-07T22:58:31.525Z"
      },
      {
        "duration": 20,
        "start_time": "2023-03-07T22:58:31.538Z"
      },
      {
        "duration": 24,
        "start_time": "2023-03-07T22:58:31.560Z"
      },
      {
        "duration": 34,
        "start_time": "2023-03-07T22:58:31.585Z"
      },
      {
        "duration": 66,
        "start_time": "2023-03-07T22:58:31.620Z"
      },
      {
        "duration": 34,
        "start_time": "2023-03-07T22:58:31.687Z"
      },
      {
        "duration": 49,
        "start_time": "2023-03-07T22:58:31.722Z"
      },
      {
        "duration": 94,
        "start_time": "2023-03-07T22:58:31.773Z"
      },
      {
        "duration": 25,
        "start_time": "2023-03-07T22:58:31.869Z"
      },
      {
        "duration": 47,
        "start_time": "2023-03-07T22:58:31.896Z"
      },
      {
        "duration": 16,
        "start_time": "2023-03-07T22:58:31.945Z"
      },
      {
        "duration": 22,
        "start_time": "2023-03-07T22:58:31.963Z"
      },
      {
        "duration": 19,
        "start_time": "2023-03-07T22:58:31.987Z"
      },
      {
        "duration": 7,
        "start_time": "2023-03-07T22:58:32.007Z"
      },
      {
        "duration": 2656,
        "start_time": "2023-03-07T22:58:32.015Z"
      },
      {
        "duration": 1421,
        "start_time": "2023-03-07T22:58:34.672Z"
      },
      {
        "duration": 4,
        "start_time": "2023-03-07T22:58:36.095Z"
      },
      {
        "duration": 18,
        "start_time": "2023-03-07T22:58:36.100Z"
      },
      {
        "duration": 5,
        "start_time": "2023-03-07T22:58:36.119Z"
      },
      {
        "duration": 38,
        "start_time": "2023-03-07T22:58:36.125Z"
      },
      {
        "duration": 201,
        "start_time": "2023-03-07T22:58:36.165Z"
      },
      {
        "duration": 3,
        "start_time": "2023-03-07T22:58:36.367Z"
      },
      {
        "duration": 25,
        "start_time": "2023-03-07T22:58:36.373Z"
      },
      {
        "duration": 7,
        "start_time": "2023-03-07T22:58:36.399Z"
      },
      {
        "duration": 53,
        "start_time": "2023-03-07T22:58:36.407Z"
      },
      {
        "duration": 16,
        "start_time": "2023-03-07T22:58:36.462Z"
      },
      {
        "duration": 4,
        "start_time": "2023-03-07T22:58:36.480Z"
      },
      {
        "duration": 6,
        "start_time": "2023-03-07T22:58:36.485Z"
      },
      {
        "duration": 6,
        "start_time": "2023-03-07T22:58:36.493Z"
      },
      {
        "duration": 52199,
        "start_time": "2023-03-07T22:58:36.500Z"
      },
      {
        "duration": 259,
        "start_time": "2023-03-07T22:59:28.700Z"
      },
      {
        "duration": 4,
        "start_time": "2023-03-07T22:59:28.960Z"
      },
      {
        "duration": 8,
        "start_time": "2023-03-07T22:59:28.966Z"
      },
      {
        "duration": 11,
        "start_time": "2023-03-07T22:59:28.976Z"
      },
      {
        "duration": 5,
        "start_time": "2023-03-07T22:59:28.988Z"
      },
      {
        "duration": 7,
        "start_time": "2023-03-07T22:59:28.995Z"
      },
      {
        "duration": 8,
        "start_time": "2023-03-07T22:59:29.003Z"
      },
      {
        "duration": 9,
        "start_time": "2023-03-07T22:59:29.012Z"
      },
      {
        "duration": 14,
        "start_time": "2023-04-01T13:59:45.058Z"
      },
      {
        "duration": 40,
        "start_time": "2023-04-01T13:59:46.133Z"
      }
    ],
    "kernelspec": {
      "display_name": "Python 3 (ipykernel)",
      "language": "python",
      "name": "python3"
    },
    "language_info": {
      "codemirror_mode": {
        "name": "ipython",
        "version": 3
      },
      "file_extension": ".py",
      "mimetype": "text/x-python",
      "name": "python",
      "nbconvert_exporter": "python",
      "pygments_lexer": "ipython3",
      "version": "3.9.5"
    },
    "toc": {
      "base_numbering": 1,
      "nav_menu": {},
      "number_sections": true,
      "sideBar": true,
      "skip_h1_title": false,
      "title_cell": "Table of Contents",
      "title_sidebar": "Contents",
      "toc_cell": false,
      "toc_position": {},
      "toc_section_display": true,
      "toc_window_display": false
    },
    "colab": {
      "provenance": []
    }
  },
  "nbformat": 4,
  "nbformat_minor": 5
}