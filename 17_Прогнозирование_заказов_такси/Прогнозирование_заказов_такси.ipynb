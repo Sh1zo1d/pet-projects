{
  "cells": [
    {
      "cell_type": "markdown",
      "metadata": {
        "id": "AGgFPlC1B64h"
      },
      "source": [
        "#  Прогнозирование заказов такси"
      ]
    },
    {
      "cell_type": "markdown",
      "metadata": {
        "id": "UTMlqc2mB64h"
      },
      "source": [
        "Компания «Чётенькое такси» собрала исторические данные о заказах такси в аэропортах. Чтобы привлекать больше водителей в период пиковой нагрузки, нужно спрогнозировать количество заказов такси на следующий час. Постройте модель для такого предсказания.\n",
        "\n",
        "Значение метрики *RMSE* на тестовой выборке должно быть не больше 48.\n",
        "\n",
        "Вам нужно:\n",
        "\n",
        "1. Загрузить данные и выполнить их ресемплирование по одному часу.\n",
        "2. Проанализировать данные.\n",
        "3. Обучить разные модели с различными гиперпараметрами. Сделать тестовую выборку размером 10% от исходных данных.\n",
        "4. Проверить данные на тестовой выборке и сделать выводы.\n",
        "\n",
        "\n",
        "Данные лежат в файле `taxi.csv`. Количество заказов находится в столбце `num_orders` (от англ. *number of orders*, «число заказов»)."
      ]
    },
    {
      "cell_type": "code",
      "execution_count": null,
      "metadata": {
        "id": "B0_aFmtfB64j",
        "outputId": "72c2b474-a526-479e-9775-469c3096982c"
      },
      "outputs": [
        {
          "name": "stdout",
          "output_type": "stream",
          "text": [
            "Requirement already satisfied: pandas in /opt/conda/lib/python3.9/site-packages (1.2.4)\n",
            "Requirement already satisfied: python-dateutil>=2.7.3 in /opt/conda/lib/python3.9/site-packages (from pandas) (2.8.1)\n",
            "Requirement already satisfied: pytz>=2017.3 in /opt/conda/lib/python3.9/site-packages (from pandas) (2021.1)\n",
            "Requirement already satisfied: numpy>=1.16.5 in /opt/conda/lib/python3.9/site-packages (from pandas) (1.21.1)\n",
            "Requirement already satisfied: six>=1.5 in /opt/conda/lib/python3.9/site-packages (from python-dateutil>=2.7.3->pandas) (1.16.0)\n",
            "Requirement already satisfied: holidays in /opt/conda/lib/python3.9/site-packages (0.11.3.1)\n",
            "Requirement already satisfied: korean-lunar-calendar in /opt/conda/lib/python3.9/site-packages (from holidays) (0.2.1)\n",
            "Requirement already satisfied: python-dateutil in /opt/conda/lib/python3.9/site-packages (from holidays) (2.8.1)\n",
            "Requirement already satisfied: hijri-converter in /opt/conda/lib/python3.9/site-packages (from holidays) (2.2.4)\n",
            "Requirement already satisfied: convertdate>=2.3.0 in /opt/conda/lib/python3.9/site-packages (from holidays) (2.4.0)\n",
            "Requirement already satisfied: pymeeus<=1,>=0.3.13 in /opt/conda/lib/python3.9/site-packages (from convertdate>=2.3.0->holidays) (0.5.11)\n",
            "Requirement already satisfied: six>=1.5 in /opt/conda/lib/python3.9/site-packages (from python-dateutil->holidays) (1.16.0)\n",
            "Requirement already satisfied: typing in /opt/conda/lib/python3.9/site-packages (3.7.4.3)\n",
            "\u001b[31mERROR: Could not find a version that satisfies the requirement re (from versions: none)\u001b[0m\n",
            "\u001b[31mERROR: No matching distribution found for re\u001b[0m\n",
            "\u001b[31mERROR: Could not find a version that satisfies the requirement warnings (from versions: none)\u001b[0m\n",
            "\u001b[31mERROR: No matching distribution found for warnings\u001b[0m\n",
            "\u001b[31mERROR: Could not find a version that satisfies the requirement collections (from versions: none)\u001b[0m\n",
            "\u001b[31mERROR: No matching distribution found for collections\u001b[0m\n",
            "Requirement already satisfied: numpy in /opt/conda/lib/python3.9/site-packages (1.21.1)\n",
            "Requirement already satisfied: pandas in /opt/conda/lib/python3.9/site-packages (1.2.4)\n",
            "Requirement already satisfied: python-dateutil>=2.7.3 in /opt/conda/lib/python3.9/site-packages (from pandas) (2.8.1)\n",
            "Requirement already satisfied: pytz>=2017.3 in /opt/conda/lib/python3.9/site-packages (from pandas) (2021.1)\n",
            "Requirement already satisfied: numpy>=1.16.5 in /opt/conda/lib/python3.9/site-packages (from pandas) (1.21.1)\n",
            "Requirement already satisfied: six>=1.5 in /opt/conda/lib/python3.9/site-packages (from python-dateutil>=2.7.3->pandas) (1.16.0)\n",
            "Requirement already satisfied: matplotlib in /opt/conda/lib/python3.9/site-packages (3.3.4)\n",
            "Requirement already satisfied: numpy>=1.15 in /opt/conda/lib/python3.9/site-packages (from matplotlib) (1.21.1)\n",
            "Requirement already satisfied: pyparsing!=2.0.4,!=2.1.2,!=2.1.6,>=2.0.3 in /opt/conda/lib/python3.9/site-packages (from matplotlib) (2.4.7)\n",
            "Requirement already satisfied: python-dateutil>=2.1 in /opt/conda/lib/python3.9/site-packages (from matplotlib) (2.8.1)\n",
            "Requirement already satisfied: cycler>=0.10 in /opt/conda/lib/python3.9/site-packages (from matplotlib) (0.11.0)\n",
            "Requirement already satisfied: pillow>=6.2.0 in /opt/conda/lib/python3.9/site-packages (from matplotlib) (8.4.0)\n",
            "Requirement already satisfied: kiwisolver>=1.0.1 in /opt/conda/lib/python3.9/site-packages (from matplotlib) (1.4.4)\n",
            "Requirement already satisfied: six>=1.5 in /opt/conda/lib/python3.9/site-packages (from python-dateutil>=2.1->matplotlib) (1.16.0)\n",
            "Requirement already satisfied: statsmodels in /opt/conda/lib/python3.9/site-packages (0.13.2)\n",
            "Requirement already satisfied: pandas>=0.25 in /opt/conda/lib/python3.9/site-packages (from statsmodels) (1.2.4)\n",
            "Requirement already satisfied: packaging>=21.3 in /opt/conda/lib/python3.9/site-packages (from statsmodels) (21.3)\n",
            "Requirement already satisfied: patsy>=0.5.2 in /opt/conda/lib/python3.9/site-packages (from statsmodels) (0.5.2)\n",
            "Requirement already satisfied: numpy>=1.17 in /opt/conda/lib/python3.9/site-packages (from statsmodels) (1.21.1)\n",
            "Requirement already satisfied: scipy>=1.3 in /opt/conda/lib/python3.9/site-packages (from statsmodels) (1.9.1)\n",
            "Requirement already satisfied: pyparsing!=3.0.5,>=2.0.2 in /opt/conda/lib/python3.9/site-packages (from packaging>=21.3->statsmodels) (2.4.7)\n",
            "Requirement already satisfied: python-dateutil>=2.7.3 in /opt/conda/lib/python3.9/site-packages (from pandas>=0.25->statsmodels) (2.8.1)\n",
            "Requirement already satisfied: pytz>=2017.3 in /opt/conda/lib/python3.9/site-packages (from pandas>=0.25->statsmodels) (2021.1)\n",
            "Requirement already satisfied: six in /opt/conda/lib/python3.9/site-packages (from patsy>=0.5.2->statsmodels) (1.16.0)\n",
            "Requirement already satisfied: sklearn in /opt/conda/lib/python3.9/site-packages (0.0.post5)\n",
            "Requirement already satisfied: catboost in /opt/conda/lib/python3.9/site-packages (1.0.3)\n",
            "Requirement already satisfied: plotly in /opt/conda/lib/python3.9/site-packages (from catboost) (5.4.0)\n",
            "Requirement already satisfied: six in /opt/conda/lib/python3.9/site-packages (from catboost) (1.16.0)\n",
            "Requirement already satisfied: pandas>=0.24.0 in /opt/conda/lib/python3.9/site-packages (from catboost) (1.2.4)\n",
            "Requirement already satisfied: matplotlib in /opt/conda/lib/python3.9/site-packages (from catboost) (3.3.4)\n",
            "Requirement already satisfied: graphviz in /opt/conda/lib/python3.9/site-packages (from catboost) (0.20.1)\n",
            "Requirement already satisfied: numpy>=1.16.0 in /opt/conda/lib/python3.9/site-packages (from catboost) (1.21.1)\n",
            "Requirement already satisfied: scipy in /opt/conda/lib/python3.9/site-packages (from catboost) (1.9.1)\n",
            "Requirement already satisfied: python-dateutil>=2.7.3 in /opt/conda/lib/python3.9/site-packages (from pandas>=0.24.0->catboost) (2.8.1)\n",
            "Requirement already satisfied: pytz>=2017.3 in /opt/conda/lib/python3.9/site-packages (from pandas>=0.24.0->catboost) (2021.1)\n",
            "Requirement already satisfied: pyparsing!=2.0.4,!=2.1.2,!=2.1.6,>=2.0.3 in /opt/conda/lib/python3.9/site-packages (from matplotlib->catboost) (2.4.7)\n",
            "Requirement already satisfied: cycler>=0.10 in /opt/conda/lib/python3.9/site-packages (from matplotlib->catboost) (0.11.0)\n",
            "Requirement already satisfied: pillow>=6.2.0 in /opt/conda/lib/python3.9/site-packages (from matplotlib->catboost) (8.4.0)\n",
            "Requirement already satisfied: kiwisolver>=1.0.1 in /opt/conda/lib/python3.9/site-packages (from matplotlib->catboost) (1.4.4)\n",
            "Requirement already satisfied: tenacity>=6.2.0 in /opt/conda/lib/python3.9/site-packages (from plotly->catboost) (8.0.1)\n",
            "Requirement already satisfied: optuna in /opt/conda/lib/python3.9/site-packages (3.1.1)\n",
            "Requirement already satisfied: cmaes>=0.9.1 in /opt/conda/lib/python3.9/site-packages (from optuna) (0.9.1)\n",
            "Requirement already satisfied: alembic>=1.5.0 in /opt/conda/lib/python3.9/site-packages (from optuna) (1.6.5)\n",
            "Requirement already satisfied: sqlalchemy>=1.3.0 in /opt/conda/lib/python3.9/site-packages (from optuna) (1.4.20)\n",
            "Requirement already satisfied: PyYAML in /opt/conda/lib/python3.9/site-packages (from optuna) (6.0)\n",
            "Requirement already satisfied: tqdm in /opt/conda/lib/python3.9/site-packages (from optuna) (4.61.2)\n",
            "Requirement already satisfied: numpy in /opt/conda/lib/python3.9/site-packages (from optuna) (1.21.1)\n",
            "Requirement already satisfied: colorlog in /opt/conda/lib/python3.9/site-packages (from optuna) (6.7.0)\n",
            "Requirement already satisfied: packaging>=20.0 in /opt/conda/lib/python3.9/site-packages (from optuna) (21.3)\n",
            "Requirement already satisfied: python-dateutil in /opt/conda/lib/python3.9/site-packages (from alembic>=1.5.0->optuna) (2.8.1)\n",
            "Requirement already satisfied: python-editor>=0.3 in /opt/conda/lib/python3.9/site-packages (from alembic>=1.5.0->optuna) (1.0.4)\n",
            "Requirement already satisfied: Mako in /opt/conda/lib/python3.9/site-packages (from alembic>=1.5.0->optuna) (1.1.4)\n",
            "Requirement already satisfied: pyparsing!=3.0.5,>=2.0.2 in /opt/conda/lib/python3.9/site-packages (from packaging>=20.0->optuna) (2.4.7)\n",
            "Requirement already satisfied: greenlet!=0.4.17 in /opt/conda/lib/python3.9/site-packages (from sqlalchemy>=1.3.0->optuna) (1.1.0)\n",
            "Requirement already satisfied: MarkupSafe>=0.9.2 in /opt/conda/lib/python3.9/site-packages (from Mako->alembic>=1.5.0->optuna) (2.1.1)\n",
            "Requirement already satisfied: six>=1.5 in /opt/conda/lib/python3.9/site-packages (from python-dateutil->alembic>=1.5.0->optuna) (1.16.0)\n",
            "\u001b[31mERROR: Could not find a version that satisfies the requirement itertools (from versions: none)\u001b[0m\r\n",
            "\u001b[31mERROR: No matching distribution found for itertools\u001b[0m\r\n"
          ]
        }
      ],
      "source": [
        "!pip install pandas\n",
        "!pip install holidays\n",
        "!pip install typing\n",
        "!pip install re\n",
        "!pip install warnings\n",
        "!pip install collections\n",
        "!pip install numpy\n",
        "!pip install pandas\n",
        "!pip install matplotlib\n",
        "!pip install statsmodels\n",
        "!pip install sklearn\n",
        "!pip install catboost\n",
        "!pip install optuna\n",
        "!pip install itertools"
      ]
    },
    {
      "cell_type": "code",
      "execution_count": null,
      "metadata": {
        "id": "RBgzl-oMB64l"
      },
      "outputs": [],
      "source": [
        "import pandas as pd\n",
        "import holidays\n",
        "from typing import Union\n",
        "\n",
        "import re\n",
        "import warnings\n",
        "from collections import Counter\n",
        "import numpy as np\n",
        "import pandas as pd\n",
        "import matplotlib.pyplot as plt\n",
        "from statsmodels.tsa.seasonal import seasonal_decompose\n",
        "from sklearn.metrics import mean_squared_error,make_scorer\n",
        "from sklearn.model_selection import train_test_split,GridSearchCV, TimeSeriesSplit, RandomizedSearchCV, cross_val_score\n",
        "from sklearn.ensemble import RandomForestRegressor\n",
        "from sklearn.linear_model import LinearRegression\n",
        "from catboost import CatBoostRegressor\n",
        "import optuna\n",
        "\n",
        "from itertools import product\n"
      ]
    },
    {
      "cell_type": "code",
      "execution_count": null,
      "metadata": {
        "id": "z9dFXZBLB64m"
      },
      "outputs": [],
      "source": [
        "warnings.filterwarnings(\"ignore\")\n"
      ]
    },
    {
      "cell_type": "markdown",
      "metadata": {
        "id": "Qm8Jbyw2B64n"
      },
      "source": [
        "## Подготовка"
      ]
    },
    {
      "cell_type": "code",
      "execution_count": null,
      "metadata": {
        "id": "hAFfvEjTB64n"
      },
      "outputs": [],
      "source": [
        "data = pd.read_csv('/datasets/taxi.csv',parse_dates=True,index_col=0)"
      ]
    },
    {
      "cell_type": "code",
      "execution_count": null,
      "metadata": {
        "scrolled": true,
        "id": "BGvIT3ccB64n",
        "outputId": "a5b660de-38ed-48e0-e2a2-8270f1c7884e"
      },
      "outputs": [
        {
          "data": {
            "text/html": [
              "<div>\n",
              "<style scoped>\n",
              "    .dataframe tbody tr th:only-of-type {\n",
              "        vertical-align: middle;\n",
              "    }\n",
              "\n",
              "    .dataframe tbody tr th {\n",
              "        vertical-align: top;\n",
              "    }\n",
              "\n",
              "    .dataframe thead th {\n",
              "        text-align: right;\n",
              "    }\n",
              "</style>\n",
              "<table border=\"1\" class=\"dataframe\">\n",
              "  <thead>\n",
              "    <tr style=\"text-align: right;\">\n",
              "      <th></th>\n",
              "      <th>num_orders</th>\n",
              "    </tr>\n",
              "    <tr>\n",
              "      <th>datetime</th>\n",
              "      <th></th>\n",
              "    </tr>\n",
              "  </thead>\n",
              "  <tbody>\n",
              "    <tr>\n",
              "      <th>2018-03-01 00:00:00</th>\n",
              "      <td>9</td>\n",
              "    </tr>\n",
              "    <tr>\n",
              "      <th>2018-03-01 00:10:00</th>\n",
              "      <td>14</td>\n",
              "    </tr>\n",
              "    <tr>\n",
              "      <th>2018-03-01 00:20:00</th>\n",
              "      <td>28</td>\n",
              "    </tr>\n",
              "    <tr>\n",
              "      <th>2018-03-01 00:30:00</th>\n",
              "      <td>20</td>\n",
              "    </tr>\n",
              "    <tr>\n",
              "      <th>2018-03-01 00:40:00</th>\n",
              "      <td>32</td>\n",
              "    </tr>\n",
              "  </tbody>\n",
              "</table>\n",
              "</div>"
            ],
            "text/plain": [
              "                     num_orders\n",
              "datetime                       \n",
              "2018-03-01 00:00:00           9\n",
              "2018-03-01 00:10:00          14\n",
              "2018-03-01 00:20:00          28\n",
              "2018-03-01 00:30:00          20\n",
              "2018-03-01 00:40:00          32"
            ]
          },
          "execution_count": 5,
          "metadata": {},
          "output_type": "execute_result"
        }
      ],
      "source": [
        "data.head()"
      ]
    },
    {
      "cell_type": "code",
      "execution_count": null,
      "metadata": {
        "id": "2GbtgmwEB64o"
      },
      "outputs": [],
      "source": [
        "# функция для подсчетов типов\n",
        "def counter_of_type(data):\n",
        "    return Counter(data.dtypes)\n",
        ""
      ]
    },
    {
      "cell_type": "code",
      "execution_count": null,
      "metadata": {
        "id": "dmuj5LGuB64p"
      },
      "outputs": [],
      "source": [
        "# Функция для ознакомления с данными\n",
        "def preview(data,n_row=4,\n",
        "             head=True,\n",
        "             info=True,\n",
        "             columns=True,\n",
        "             shape=True,\n",
        "             isna=True,\n",
        "             duplicated=True,\n",
        "             dtypes_=True,\n",
        "            describe_=True,\n",
        "           clear_duples=True,\n",
        "           lower_and_sep_col=True):\n",
        "    global dct_nan\n",
        "    global df_nan_columns\n",
        "    dct_nan = {}\n",
        "    if head:\n",
        "        print(f'First {n_row} row(s) in the head of data')\n",
        "        display(data.head(n_row))\n",
        "        print('-'*30)\n",
        "    if info:\n",
        "        print('Data Information:')\n",
        "        display(data.info())\n",
        "        print('-'*30)\n",
        "    if columns:\n",
        "        print('Data columns:')\n",
        "        display(data.columns)\n",
        "        if lower_and_sep_col:\n",
        "            COLUMN_REG = \"(\\w)([A-Z])\"\n",
        "            repl = r\"\\1_\\2\"\n",
        "            data.columns = list(map(lambda x: re.sub(COLUMN_REG,repl,x).lower(),data.columns))\n",
        "            print('Lowered and sepperated by words columns:')\n",
        "            print(data.columns)\n",
        "            print('-'*30)\n",
        "    if shape:\n",
        "        print('Data shape:')\n",
        "        display(data.shape)\n",
        "        print('-'*30)\n",
        "    if isna:\n",
        "        print('Data isna by row mean:')\n",
        "        display(data.isna().mean())\n",
        "        print()\n",
        "        tmp = data.isna().mean()\n",
        "        for i in range(len(tmp)):\n",
        "\n",
        "            if tmp[i] > 0:\n",
        "                dct_nan[tmp.index[i]] = tmp[i]\n",
        "        if tmp.sum() > 0:\n",
        "            df_nan_columns = pd.DataFrame.from_dict(dct_nan.items())\n",
        "            df_nan_columns.columns = ['column','rate_of_nan']\n",
        "            display(df_nan_columns)\n",
        "        print('-'*30)\n",
        "    if duplicated:\n",
        "        print('Data clear duplicates sum:')\n",
        "        duplets = data.duplicated().sum()\n",
        "        display(duplets)\n",
        "        if duplets >1 and clear_duples:\n",
        "            data.drop_duplicates(inplace=True)\n",
        "            print('Successful delete of {0} duplicates'.format(duplets))\n",
        "        elif duplets == 1 and clear_duples:\n",
        "            data.drop_duplicates(inplace=True)\n",
        "            print('Successful delete of {0} duplicate'.format(duplets))\n",
        "        print('-'*30)\n",
        "    if dtypes_:\n",
        "        print('Data dtypes:')\n",
        "        display(data.dtypes)\n",
        "        print('Number of each type:')\n",
        "        print(counter_of_type(data))\n",
        "        print('-'*30)\n",
        "    if describe_:\n",
        "        print('Major statistics for data:')\n",
        "        display(data.describe())\n",
        ""
      ]
    },
    {
      "cell_type": "code",
      "execution_count": null,
      "metadata": {
        "id": "4zuxLa_tB64p",
        "outputId": "733bca29-9262-4dda-b886-dc6de068c83a"
      },
      "outputs": [
        {
          "name": "stdout",
          "output_type": "stream",
          "text": [
            "First 4 row(s) in the head of data\n"
          ]
        },
        {
          "data": {
            "text/html": [
              "<div>\n",
              "<style scoped>\n",
              "    .dataframe tbody tr th:only-of-type {\n",
              "        vertical-align: middle;\n",
              "    }\n",
              "\n",
              "    .dataframe tbody tr th {\n",
              "        vertical-align: top;\n",
              "    }\n",
              "\n",
              "    .dataframe thead th {\n",
              "        text-align: right;\n",
              "    }\n",
              "</style>\n",
              "<table border=\"1\" class=\"dataframe\">\n",
              "  <thead>\n",
              "    <tr style=\"text-align: right;\">\n",
              "      <th></th>\n",
              "      <th>num_orders</th>\n",
              "    </tr>\n",
              "    <tr>\n",
              "      <th>datetime</th>\n",
              "      <th></th>\n",
              "    </tr>\n",
              "  </thead>\n",
              "  <tbody>\n",
              "    <tr>\n",
              "      <th>2018-03-01 00:00:00</th>\n",
              "      <td>9</td>\n",
              "    </tr>\n",
              "    <tr>\n",
              "      <th>2018-03-01 00:10:00</th>\n",
              "      <td>14</td>\n",
              "    </tr>\n",
              "    <tr>\n",
              "      <th>2018-03-01 00:20:00</th>\n",
              "      <td>28</td>\n",
              "    </tr>\n",
              "    <tr>\n",
              "      <th>2018-03-01 00:30:00</th>\n",
              "      <td>20</td>\n",
              "    </tr>\n",
              "  </tbody>\n",
              "</table>\n",
              "</div>"
            ],
            "text/plain": [
              "                     num_orders\n",
              "datetime                       \n",
              "2018-03-01 00:00:00           9\n",
              "2018-03-01 00:10:00          14\n",
              "2018-03-01 00:20:00          28\n",
              "2018-03-01 00:30:00          20"
            ]
          },
          "metadata": {},
          "output_type": "display_data"
        },
        {
          "name": "stdout",
          "output_type": "stream",
          "text": [
            "------------------------------\n",
            "Data Information:\n",
            "<class 'pandas.core.frame.DataFrame'>\n",
            "DatetimeIndex: 26496 entries, 2018-03-01 00:00:00 to 2018-08-31 23:50:00\n",
            "Data columns (total 1 columns):\n",
            " #   Column      Non-Null Count  Dtype\n",
            "---  ------      --------------  -----\n",
            " 0   num_orders  26496 non-null  int64\n",
            "dtypes: int64(1)\n",
            "memory usage: 414.0 KB\n"
          ]
        },
        {
          "data": {
            "text/plain": [
              "None"
            ]
          },
          "metadata": {},
          "output_type": "display_data"
        },
        {
          "name": "stdout",
          "output_type": "stream",
          "text": [
            "------------------------------\n",
            "Data columns:\n"
          ]
        },
        {
          "data": {
            "text/plain": [
              "Index(['num_orders'], dtype='object')"
            ]
          },
          "metadata": {},
          "output_type": "display_data"
        },
        {
          "name": "stdout",
          "output_type": "stream",
          "text": [
            "Lowered and sepperated by words columns:\n",
            "Index(['num_orders'], dtype='object')\n",
            "------------------------------\n",
            "Data shape:\n"
          ]
        },
        {
          "data": {
            "text/plain": [
              "(26496, 1)"
            ]
          },
          "metadata": {},
          "output_type": "display_data"
        },
        {
          "name": "stdout",
          "output_type": "stream",
          "text": [
            "------------------------------\n",
            "Data isna by row mean:\n"
          ]
        },
        {
          "data": {
            "text/plain": [
              "num_orders    0.0\n",
              "dtype: float64"
            ]
          },
          "metadata": {},
          "output_type": "display_data"
        },
        {
          "name": "stdout",
          "output_type": "stream",
          "text": [
            "\n",
            "------------------------------\n",
            "Data dtypes:\n"
          ]
        },
        {
          "data": {
            "text/plain": [
              "num_orders    int64\n",
              "dtype: object"
            ]
          },
          "metadata": {},
          "output_type": "display_data"
        },
        {
          "name": "stdout",
          "output_type": "stream",
          "text": [
            "Number of each type:\n",
            "Counter({dtype('int64'): 1})\n",
            "------------------------------\n",
            "Major statistics for data:\n"
          ]
        },
        {
          "data": {
            "text/html": [
              "<div>\n",
              "<style scoped>\n",
              "    .dataframe tbody tr th:only-of-type {\n",
              "        vertical-align: middle;\n",
              "    }\n",
              "\n",
              "    .dataframe tbody tr th {\n",
              "        vertical-align: top;\n",
              "    }\n",
              "\n",
              "    .dataframe thead th {\n",
              "        text-align: right;\n",
              "    }\n",
              "</style>\n",
              "<table border=\"1\" class=\"dataframe\">\n",
              "  <thead>\n",
              "    <tr style=\"text-align: right;\">\n",
              "      <th></th>\n",
              "      <th>num_orders</th>\n",
              "    </tr>\n",
              "  </thead>\n",
              "  <tbody>\n",
              "    <tr>\n",
              "      <th>count</th>\n",
              "      <td>26496.000000</td>\n",
              "    </tr>\n",
              "    <tr>\n",
              "      <th>mean</th>\n",
              "      <td>14.070463</td>\n",
              "    </tr>\n",
              "    <tr>\n",
              "      <th>std</th>\n",
              "      <td>9.211330</td>\n",
              "    </tr>\n",
              "    <tr>\n",
              "      <th>min</th>\n",
              "      <td>0.000000</td>\n",
              "    </tr>\n",
              "    <tr>\n",
              "      <th>25%</th>\n",
              "      <td>8.000000</td>\n",
              "    </tr>\n",
              "    <tr>\n",
              "      <th>50%</th>\n",
              "      <td>13.000000</td>\n",
              "    </tr>\n",
              "    <tr>\n",
              "      <th>75%</th>\n",
              "      <td>19.000000</td>\n",
              "    </tr>\n",
              "    <tr>\n",
              "      <th>max</th>\n",
              "      <td>119.000000</td>\n",
              "    </tr>\n",
              "  </tbody>\n",
              "</table>\n",
              "</div>"
            ],
            "text/plain": [
              "         num_orders\n",
              "count  26496.000000\n",
              "mean      14.070463\n",
              "std        9.211330\n",
              "min        0.000000\n",
              "25%        8.000000\n",
              "50%       13.000000\n",
              "75%       19.000000\n",
              "max      119.000000"
            ]
          },
          "metadata": {},
          "output_type": "display_data"
        }
      ],
      "source": [
        "preview(data,clear_duples=False,duplicated=False)"
      ]
    },
    {
      "cell_type": "markdown",
      "metadata": {
        "id": "5ZBTAaHQB64p"
      },
      "source": [
        "## Анализ"
      ]
    },
    {
      "cell_type": "code",
      "execution_count": null,
      "metadata": {
        "id": "p4VPFWvZB64q"
      },
      "outputs": [],
      "source": [
        "data_resampled = data.resample('1H').sum()"
      ]
    },
    {
      "cell_type": "code",
      "execution_count": null,
      "metadata": {
        "id": "_R0duQzSB64q",
        "outputId": "92a09ce6-658a-4fa7-cee4-6cbfba957424"
      },
      "outputs": [
        {
          "data": {
            "text/html": [
              "<div>\n",
              "<style scoped>\n",
              "    .dataframe tbody tr th:only-of-type {\n",
              "        vertical-align: middle;\n",
              "    }\n",
              "\n",
              "    .dataframe tbody tr th {\n",
              "        vertical-align: top;\n",
              "    }\n",
              "\n",
              "    .dataframe thead th {\n",
              "        text-align: right;\n",
              "    }\n",
              "</style>\n",
              "<table border=\"1\" class=\"dataframe\">\n",
              "  <thead>\n",
              "    <tr style=\"text-align: right;\">\n",
              "      <th></th>\n",
              "      <th>num_orders</th>\n",
              "    </tr>\n",
              "    <tr>\n",
              "      <th>datetime</th>\n",
              "      <th></th>\n",
              "    </tr>\n",
              "  </thead>\n",
              "  <tbody>\n",
              "    <tr>\n",
              "      <th>2018-03-01 00:00:00</th>\n",
              "      <td>124</td>\n",
              "    </tr>\n",
              "    <tr>\n",
              "      <th>2018-03-01 01:00:00</th>\n",
              "      <td>85</td>\n",
              "    </tr>\n",
              "    <tr>\n",
              "      <th>2018-03-01 02:00:00</th>\n",
              "      <td>71</td>\n",
              "    </tr>\n",
              "  </tbody>\n",
              "</table>\n",
              "</div>"
            ],
            "text/plain": [
              "                     num_orders\n",
              "datetime                       \n",
              "2018-03-01 00:00:00         124\n",
              "2018-03-01 01:00:00          85\n",
              "2018-03-01 02:00:00          71"
            ]
          },
          "execution_count": 10,
          "metadata": {},
          "output_type": "execute_result"
        }
      ],
      "source": [
        "data_resampled.head(3)"
      ]
    },
    {
      "cell_type": "code",
      "execution_count": null,
      "metadata": {
        "id": "Bjv8QNXjB64r",
        "outputId": "567b30f6-fb3d-4193-d412-b769b2143e38"
      },
      "outputs": [
        {
          "name": "stdout",
          "output_type": "stream",
          "text": [
            "True\n"
          ]
        }
      ],
      "source": [
        "# проверим в хронологическом ли порядке расположены даты\n",
        "print(data.index.is_monotonic)\n"
      ]
    },
    {
      "cell_type": "code",
      "execution_count": null,
      "metadata": {
        "scrolled": true,
        "id": "JzMvv6HlB64r"
      },
      "outputs": [],
      "source": [
        "decomposed = seasonal_decompose(data_resampled['num_orders'])"
      ]
    },
    {
      "cell_type": "code",
      "execution_count": null,
      "metadata": {
        "scrolled": true,
        "id": "xgNoyoHAB64s",
        "outputId": "717d5108-81f6-42a0-c72d-b21f7d62c54b"
      },
      "outputs": [
        {
          "data": {
            "text/plain": [
              "datetime\n",
              "2018-03-01 00:00:00    60.248112\n",
              "2018-03-01 01:00:00    20.177074\n",
              "2018-03-01 02:00:00    28.982743\n",
              "2018-03-01 03:00:00    17.885407\n",
              "2018-03-01 04:00:00     2.791145\n",
              "                         ...    \n",
              "2018-08-31 19:00:00    -7.124270\n",
              "2018-08-31 20:00:00    -2.696560\n",
              "2018-08-31 21:00:00    10.670243\n",
              "2018-08-31 22:00:00    13.596814\n",
              "2018-08-31 23:00:00    25.000503\n",
              "Freq: H, Name: seasonal, Length: 4416, dtype: float64"
            ]
          },
          "execution_count": 13,
          "metadata": {},
          "output_type": "execute_result"
        }
      ],
      "source": [
        "decomposed.seasonal"
      ]
    },
    {
      "cell_type": "code",
      "execution_count": null,
      "metadata": {
        "scrolled": false,
        "id": "uKU4Ep6xB64s",
        "outputId": "93cf8022-1eb2-4807-a5ed-d7bca0c0891f"
      },
      "outputs": [
        {
          "data": {
            "text/html": [
              "<div>\n",
              "<style scoped>\n",
              "    .dataframe tbody tr th:only-of-type {\n",
              "        vertical-align: middle;\n",
              "    }\n",
              "\n",
              "    .dataframe tbody tr th {\n",
              "        vertical-align: top;\n",
              "    }\n",
              "\n",
              "    .dataframe thead th {\n",
              "        text-align: right;\n",
              "    }\n",
              "</style>\n",
              "<table border=\"1\" class=\"dataframe\">\n",
              "  <thead>\n",
              "    <tr style=\"text-align: right;\">\n",
              "      <th></th>\n",
              "      <th>num_orders</th>\n",
              "    </tr>\n",
              "    <tr>\n",
              "      <th>datetime</th>\n",
              "      <th></th>\n",
              "    </tr>\n",
              "  </thead>\n",
              "  <tbody>\n",
              "    <tr>\n",
              "      <th>2018-03-01 00:00:00</th>\n",
              "      <td>124</td>\n",
              "    </tr>\n",
              "    <tr>\n",
              "      <th>2018-03-01 01:00:00</th>\n",
              "      <td>85</td>\n",
              "    </tr>\n",
              "    <tr>\n",
              "      <th>2018-03-01 02:00:00</th>\n",
              "      <td>71</td>\n",
              "    </tr>\n",
              "    <tr>\n",
              "      <th>2018-03-01 03:00:00</th>\n",
              "      <td>66</td>\n",
              "    </tr>\n",
              "    <tr>\n",
              "      <th>2018-03-01 04:00:00</th>\n",
              "      <td>43</td>\n",
              "    </tr>\n",
              "  </tbody>\n",
              "</table>\n",
              "</div>"
            ],
            "text/plain": [
              "                     num_orders\n",
              "datetime                       \n",
              "2018-03-01 00:00:00         124\n",
              "2018-03-01 01:00:00          85\n",
              "2018-03-01 02:00:00          71\n",
              "2018-03-01 03:00:00          66\n",
              "2018-03-01 04:00:00          43"
            ]
          },
          "execution_count": 14,
          "metadata": {},
          "output_type": "execute_result"
        }
      ],
      "source": [
        "data_resampled.head()"
      ]
    },
    {
      "cell_type": "code",
      "execution_count": null,
      "metadata": {
        "id": "tolnfA8zB64t"
      },
      "outputs": [],
      "source": [
        "def ts_graph(data: Union[pd.Series,pd.DataFrame],resample_type: str):\n",
        "    # Ресемплирование данных по \"\"\n",
        "    data_resampled_by_day = data.resample(resample_type).sum()\n",
        "\n",
        "    # Разложение на тренд, сезонность и шум\n",
        "    decomposed = seasonal_decompose(data_resampled_by_day)\n",
        "\n",
        "    # Построение графиков\n",
        "    fig, ax = plt.subplots(4, 1, figsize=(10, 8))\n",
        "\n",
        "    # График исходных данных\n",
        "    ax[0].plot(data_resampled_by_day)\n",
        "    ax[0].set_title('Исходные данные')\n",
        "\n",
        "    # График тренда\n",
        "    ax[1].plot(decomposed.trend)\n",
        "    ax[1].set_title('Тренд')\n",
        "\n",
        "    # График сезонности\n",
        "    ax[2].plot(decomposed.seasonal)\n",
        "    ax[2].set_title('Сезонность')\n",
        "\n",
        "    # График шума\n",
        "    ax[3].plot(decomposed.resid)\n",
        "    ax[3].set_title('Шум')\n",
        "\n",
        "    plt.tight_layout()\n",
        "    plt.show()\n"
      ]
    },
    {
      "cell_type": "code",
      "execution_count": null,
      "metadata": {
        "id": "aeMWjARTB64t",
        "outputId": "756c847e-2ade-4c0d-f447-ea855c99c124"
      },
      "outputs": [
        {
          "data": {
            "image/png": "[encoded data removed]",
            "text/plain": [
              "<Figure size 720x576 with 4 Axes>"
            ]
          },
          "metadata": {
            "needs_background": "light"
          },
          "output_type": "display_data"
        }
      ],
      "source": [
        "ts_graph(data_resampled,'1D')"
      ]
    },
    {
      "cell_type": "code",
      "execution_count": null,
      "metadata": {
        "scrolled": true,
        "id": "08hdKDKSB64u",
        "outputId": "8c4f1b36-a01d-44e1-ec7b-de4d3eba43bd"
      },
      "outputs": [
        {
          "data": {
            "text/plain": [
              "1364"
            ]
          },
          "execution_count": 17,
          "metadata": {},
          "output_type": "execute_result"
        }
      ],
      "source": [
        "data_resampled.head(24)['num_orders'].sum()"
      ]
    },
    {
      "cell_type": "code",
      "execution_count": null,
      "metadata": {
        "scrolled": true,
        "id": "bnGypjHJB64u",
        "outputId": "7a18b52c-b2d4-49d5-9220-018dc9dc7d7b"
      },
      "outputs": [
        {
          "name": "stdout",
          "output_type": "stream",
          "text": [
            "           num_orders                     \n",
            "                  std         mean  median\n",
            "dayofweek                                 \n",
            "0          710.606328  2165.923077  2000.0\n",
            "1          619.852470  1848.269231  1667.5\n",
            "2          643.207856  2010.115385  1857.0\n",
            "3          648.460111  2055.851852  1893.0\n",
            "4          676.183984  2187.370370  2079.0\n",
            "5          583.447474  2012.346154  1942.5\n",
            "6          550.649727  1895.807692  1796.5\n"
          ]
        }
      ],
      "source": [
        "# Группируем данные по дням недели и вычисляем дисперсию\n",
        "data_resampled_by_day = data_resampled.resample('1D').sum()\n",
        "data_resampled_by_day['dayofweek'] = data_resampled_by_day.index.dayofweek\n",
        "daily_var = data_resampled_by_day.groupby('dayofweek').agg({'num_orders':['std','mean','median']})\n",
        "# Выводим результаты\n",
        "print(daily_var)\n"
      ]
    },
    {
      "cell_type": "code",
      "execution_count": null,
      "metadata": {
        "id": "2gvmMpYXB64v"
      },
      "outputs": [],
      "source": [
        "# рабочие часы\n",
        "data_resampled['is_working_hour'] = np.where((data_resampled.index.hour >= 8)&(data_resampled.index.hour <=17),1,0)"
      ]
    },
    {
      "cell_type": "code",
      "execution_count": null,
      "metadata": {
        "id": "YzPPKfmKB64v"
      },
      "outputs": [],
      "source": [
        "russia_holidays = holidays.Russia()"
      ]
    },
    {
      "cell_type": "code",
      "execution_count": null,
      "metadata": {
        "id": "i-M1gIipB64v"
      },
      "outputs": [],
      "source": [
        "def is_holiday(row):\n",
        "    date_str = str(row.name.date())  # преобразование даты в строку\n",
        "    if date_str in russia_holidays:\n",
        "        return 1\n",
        "    else:\n",
        "        return 0\n",
        "\n"
      ]
    },
    {
      "cell_type": "code",
      "execution_count": null,
      "metadata": {
        "scrolled": true,
        "id": "bU3YekGmB64v",
        "outputId": "d53df4bc-f362-4020-b815-92b20c200893"
      },
      "outputs": [
        {
          "data": {
            "text/html": [
              "<div>\n",
              "<style scoped>\n",
              "    .dataframe tbody tr th:only-of-type {\n",
              "        vertical-align: middle;\n",
              "    }\n",
              "\n",
              "    .dataframe tbody tr th {\n",
              "        vertical-align: top;\n",
              "    }\n",
              "\n",
              "    .dataframe thead th {\n",
              "        text-align: right;\n",
              "    }\n",
              "</style>\n",
              "<table border=\"1\" class=\"dataframe\">\n",
              "  <thead>\n",
              "    <tr style=\"text-align: right;\">\n",
              "      <th></th>\n",
              "      <th>num_orders</th>\n",
              "      <th>is_working_hour</th>\n",
              "    </tr>\n",
              "    <tr>\n",
              "      <th>datetime</th>\n",
              "      <th></th>\n",
              "      <th></th>\n",
              "    </tr>\n",
              "  </thead>\n",
              "  <tbody>\n",
              "    <tr>\n",
              "      <th>2018-03-01 00:00:00</th>\n",
              "      <td>124</td>\n",
              "      <td>0</td>\n",
              "    </tr>\n",
              "    <tr>\n",
              "      <th>2018-03-01 01:00:00</th>\n",
              "      <td>85</td>\n",
              "      <td>0</td>\n",
              "    </tr>\n",
              "    <tr>\n",
              "      <th>2018-03-01 02:00:00</th>\n",
              "      <td>71</td>\n",
              "      <td>0</td>\n",
              "    </tr>\n",
              "    <tr>\n",
              "      <th>2018-03-01 03:00:00</th>\n",
              "      <td>66</td>\n",
              "      <td>0</td>\n",
              "    </tr>\n",
              "    <tr>\n",
              "      <th>2018-03-01 04:00:00</th>\n",
              "      <td>43</td>\n",
              "      <td>0</td>\n",
              "    </tr>\n",
              "    <tr>\n",
              "      <th>...</th>\n",
              "      <td>...</td>\n",
              "      <td>...</td>\n",
              "    </tr>\n",
              "    <tr>\n",
              "      <th>2018-08-31 19:00:00</th>\n",
              "      <td>136</td>\n",
              "      <td>0</td>\n",
              "    </tr>\n",
              "    <tr>\n",
              "      <th>2018-08-31 20:00:00</th>\n",
              "      <td>154</td>\n",
              "      <td>0</td>\n",
              "    </tr>\n",
              "    <tr>\n",
              "      <th>2018-08-31 21:00:00</th>\n",
              "      <td>159</td>\n",
              "      <td>0</td>\n",
              "    </tr>\n",
              "    <tr>\n",
              "      <th>2018-08-31 22:00:00</th>\n",
              "      <td>223</td>\n",
              "      <td>0</td>\n",
              "    </tr>\n",
              "    <tr>\n",
              "      <th>2018-08-31 23:00:00</th>\n",
              "      <td>205</td>\n",
              "      <td>0</td>\n",
              "    </tr>\n",
              "  </tbody>\n",
              "</table>\n",
              "<p>4416 rows × 2 columns</p>\n",
              "</div>"
            ],
            "text/plain": [
              "                     num_orders  is_working_hour\n",
              "datetime                                        \n",
              "2018-03-01 00:00:00         124                0\n",
              "2018-03-01 01:00:00          85                0\n",
              "2018-03-01 02:00:00          71                0\n",
              "2018-03-01 03:00:00          66                0\n",
              "2018-03-01 04:00:00          43                0\n",
              "...                         ...              ...\n",
              "2018-08-31 19:00:00         136                0\n",
              "2018-08-31 20:00:00         154                0\n",
              "2018-08-31 21:00:00         159                0\n",
              "2018-08-31 22:00:00         223                0\n",
              "2018-08-31 23:00:00         205                0\n",
              "\n",
              "[4416 rows x 2 columns]"
            ]
          },
          "execution_count": 22,
          "metadata": {},
          "output_type": "execute_result"
        }
      ],
      "source": [
        "data_resampled"
      ]
    },
    {
      "cell_type": "code",
      "execution_count": null,
      "metadata": {
        "id": "nkFUsJ_lB64v"
      },
      "outputs": [],
      "source": [
        "def features_maker(data,\n",
        "                   month_name,\n",
        "                   dayofweek_name,\n",
        "                   holiday_name,\n",
        "                   hour_name,\n",
        "                  month=True,\n",
        "                  dayofweek=True,\n",
        "                  holiday=True,\n",
        "                  hour=True):\n",
        "    assert isinstance(data, pd.DataFrame) or isinstance(data, pd.Series), \"data parameter must be of type pd.DataFrame or pd.Series\"\n",
        "    assert isinstance(month, bool), \"month parameter must be of type bool\"\n",
        "    assert isinstance(dayofweek, bool), \"dayofweek parameter must be of type bool\"\n",
        "    assert isinstance(holiday, bool), \"holiday parameter must be of type bool\"\n",
        "    if month:\n",
        "        data[f'{month_name}'] = data.index.month\n",
        "    if dayofweek:\n",
        "        data[f'{dayofweek_name}'] = data.index.dayofweek\n",
        "    if holiday:\n",
        "        data[f'{holiday_name}'] = data.apply(is_holiday, axis=1)  # применение функции к каждой строке\n",
        "    if hour:\n",
        "        data[f'{hour_name}'] = data.index.hour\n",
        "\n",
        "\n"
      ]
    },
    {
      "cell_type": "code",
      "execution_count": null,
      "metadata": {
        "id": "rRRVBjbhB64w",
        "outputId": "066b54e8-1e63-49e6-879a-671bc7111a85"
      },
      "outputs": [
        {
          "data": {
            "text/html": [
              "<div>\n",
              "<style scoped>\n",
              "    .dataframe tbody tr th:only-of-type {\n",
              "        vertical-align: middle;\n",
              "    }\n",
              "\n",
              "    .dataframe tbody tr th {\n",
              "        vertical-align: top;\n",
              "    }\n",
              "\n",
              "    .dataframe thead th {\n",
              "        text-align: right;\n",
              "    }\n",
              "</style>\n",
              "<table border=\"1\" class=\"dataframe\">\n",
              "  <thead>\n",
              "    <tr style=\"text-align: right;\">\n",
              "      <th></th>\n",
              "      <th>num_orders</th>\n",
              "      <th>is_working_hour</th>\n",
              "    </tr>\n",
              "    <tr>\n",
              "      <th>datetime</th>\n",
              "      <th></th>\n",
              "      <th></th>\n",
              "    </tr>\n",
              "  </thead>\n",
              "  <tbody>\n",
              "    <tr>\n",
              "      <th>2018-03-01 00:00:00</th>\n",
              "      <td>124</td>\n",
              "      <td>0</td>\n",
              "    </tr>\n",
              "    <tr>\n",
              "      <th>2018-03-01 01:00:00</th>\n",
              "      <td>85</td>\n",
              "      <td>0</td>\n",
              "    </tr>\n",
              "    <tr>\n",
              "      <th>2018-03-01 02:00:00</th>\n",
              "      <td>71</td>\n",
              "      <td>0</td>\n",
              "    </tr>\n",
              "    <tr>\n",
              "      <th>2018-03-01 03:00:00</th>\n",
              "      <td>66</td>\n",
              "      <td>0</td>\n",
              "    </tr>\n",
              "    <tr>\n",
              "      <th>2018-03-01 04:00:00</th>\n",
              "      <td>43</td>\n",
              "      <td>0</td>\n",
              "    </tr>\n",
              "  </tbody>\n",
              "</table>\n",
              "</div>"
            ],
            "text/plain": [
              "                     num_orders  is_working_hour\n",
              "datetime                                        \n",
              "2018-03-01 00:00:00         124                0\n",
              "2018-03-01 01:00:00          85                0\n",
              "2018-03-01 02:00:00          71                0\n",
              "2018-03-01 03:00:00          66                0\n",
              "2018-03-01 04:00:00          43                0"
            ]
          },
          "execution_count": 24,
          "metadata": {},
          "output_type": "execute_result"
        }
      ],
      "source": [
        "data_resampled.head()"
      ]
    },
    {
      "cell_type": "code",
      "execution_count": null,
      "metadata": {
        "scrolled": true,
        "id": "BIcsMbbIB64x"
      },
      "outputs": [],
      "source": [
        "features_maker(data=data_resampled,\n",
        "               month_name='month',\n",
        "               dayofweek_name='dayofweek',\n",
        "               holiday_name='is_holiday',\n",
        "               hour_name='hour',\n",
        "               month=True,\n",
        "               dayofweek=True,\n",
        "               holiday=True,\n",
        "               hour=True)\n"
      ]
    },
    {
      "cell_type": "code",
      "execution_count": null,
      "metadata": {
        "scrolled": true,
        "id": "lqjkzInXB645",
        "outputId": "ef287d38-b95d-4fe3-e3b0-31a921ebb6b5"
      },
      "outputs": [
        {
          "data": {
            "text/html": [
              "<div>\n",
              "<style scoped>\n",
              "    .dataframe tbody tr th:only-of-type {\n",
              "        vertical-align: middle;\n",
              "    }\n",
              "\n",
              "    .dataframe tbody tr th {\n",
              "        vertical-align: top;\n",
              "    }\n",
              "\n",
              "    .dataframe thead th {\n",
              "        text-align: right;\n",
              "    }\n",
              "</style>\n",
              "<table border=\"1\" class=\"dataframe\">\n",
              "  <thead>\n",
              "    <tr style=\"text-align: right;\">\n",
              "      <th></th>\n",
              "      <th>num_orders</th>\n",
              "      <th>is_working_hour</th>\n",
              "      <th>month</th>\n",
              "      <th>dayofweek</th>\n",
              "      <th>is_holiday</th>\n",
              "      <th>hour</th>\n",
              "    </tr>\n",
              "    <tr>\n",
              "      <th>datetime</th>\n",
              "      <th></th>\n",
              "      <th></th>\n",
              "      <th></th>\n",
              "      <th></th>\n",
              "      <th></th>\n",
              "      <th></th>\n",
              "    </tr>\n",
              "  </thead>\n",
              "  <tbody>\n",
              "    <tr>\n",
              "      <th>2018-03-01 00:00:00</th>\n",
              "      <td>124</td>\n",
              "      <td>0</td>\n",
              "      <td>3</td>\n",
              "      <td>3</td>\n",
              "      <td>0</td>\n",
              "      <td>0</td>\n",
              "    </tr>\n",
              "    <tr>\n",
              "      <th>2018-03-01 01:00:00</th>\n",
              "      <td>85</td>\n",
              "      <td>0</td>\n",
              "      <td>3</td>\n",
              "      <td>3</td>\n",
              "      <td>0</td>\n",
              "      <td>1</td>\n",
              "    </tr>\n",
              "    <tr>\n",
              "      <th>2018-03-01 02:00:00</th>\n",
              "      <td>71</td>\n",
              "      <td>0</td>\n",
              "      <td>3</td>\n",
              "      <td>3</td>\n",
              "      <td>0</td>\n",
              "      <td>2</td>\n",
              "    </tr>\n",
              "    <tr>\n",
              "      <th>2018-03-01 03:00:00</th>\n",
              "      <td>66</td>\n",
              "      <td>0</td>\n",
              "      <td>3</td>\n",
              "      <td>3</td>\n",
              "      <td>0</td>\n",
              "      <td>3</td>\n",
              "    </tr>\n",
              "    <tr>\n",
              "      <th>2018-03-01 04:00:00</th>\n",
              "      <td>43</td>\n",
              "      <td>0</td>\n",
              "      <td>3</td>\n",
              "      <td>3</td>\n",
              "      <td>0</td>\n",
              "      <td>4</td>\n",
              "    </tr>\n",
              "  </tbody>\n",
              "</table>\n",
              "</div>"
            ],
            "text/plain": [
              "                     num_orders  is_working_hour  month  dayofweek  \\\n",
              "datetime                                                             \n",
              "2018-03-01 00:00:00         124                0      3          3   \n",
              "2018-03-01 01:00:00          85                0      3          3   \n",
              "2018-03-01 02:00:00          71                0      3          3   \n",
              "2018-03-01 03:00:00          66                0      3          3   \n",
              "2018-03-01 04:00:00          43                0      3          3   \n",
              "\n",
              "                     is_holiday  hour  \n",
              "datetime                               \n",
              "2018-03-01 00:00:00           0     0  \n",
              "2018-03-01 01:00:00           0     1  \n",
              "2018-03-01 02:00:00           0     2  \n",
              "2018-03-01 03:00:00           0     3  \n",
              "2018-03-01 04:00:00           0     4  "
            ]
          },
          "execution_count": 26,
          "metadata": {},
          "output_type": "execute_result"
        }
      ],
      "source": [
        "data_resampled.head()"
      ]
    },
    {
      "cell_type": "code",
      "execution_count": null,
      "metadata": {
        "scrolled": true,
        "id": "6VVobfchB647",
        "outputId": "e510527c-ee7a-4f9d-fe13-140d255400ca"
      },
      "outputs": [
        {
          "data": {
            "image/png": "[encoded data removed]",
            "text/plain": [
              "<Figure size 720x576 with 4 Axes>"
            ]
          },
          "metadata": {
            "needs_background": "light"
          },
          "output_type": "display_data"
        }
      ],
      "source": [
        "ts_graph(data,'1H')"
      ]
    },
    {
      "cell_type": "markdown",
      "metadata": {
        "id": "hfxUOwbuB648"
      },
      "source": [
        "## Обучение"
      ]
    },
    {
      "cell_type": "code",
      "execution_count": null,
      "metadata": {
        "id": "1HGZWYHPB649"
      },
      "outputs": [],
      "source": [
        "night = [i for i in range(21,25)] + [i for i in range(0,5)]"
      ]
    },
    {
      "cell_type": "code",
      "execution_count": null,
      "metadata": {
        "id": "l3gPEoSrB649",
        "outputId": "03a0e276-c57c-4265-8708-cae21813825a"
      },
      "outputs": [
        {
          "data": {
            "text/plain": [
              "[21, 22, 23, 24, 0, 1, 2, 3, 4]"
            ]
          },
          "execution_count": 29,
          "metadata": {},
          "output_type": "execute_result"
        }
      ],
      "source": [
        "night"
      ]
    },
    {
      "cell_type": "code",
      "execution_count": null,
      "metadata": {
        "id": "ikA4b0gYB649"
      },
      "outputs": [],
      "source": [
        "data_night = data_resampled.query('hour in @night')"
      ]
    },
    {
      "cell_type": "code",
      "execution_count": null,
      "metadata": {
        "id": "LosYxZMvB649"
      },
      "outputs": [],
      "source": [
        "rs=7"
      ]
    },
    {
      "cell_type": "code",
      "execution_count": null,
      "metadata": {
        "id": "CQYInVNGB649"
      },
      "outputs": [],
      "source": [
        "def make_lag_rol(data,n_lag,n_roll):\n",
        "    assert isinstance(data, pd.DataFrame), \"data parameter must be of type pd.DataFrame\"\n",
        "    assert isinstance(n_lag, int), 'n_lag must be of type int'\n",
        "    assert isinstance(n_roll, int),'n_roll must be of type int'\n",
        "    tmp = data.copy()\n",
        "    for i in range(1,n_lag+1):\n",
        "        tmp[f'{i}_lag'] = tmp['num_orders'].shift(i)\n",
        "    tmp[f'{n_roll}_rolling_mean'] = tmp['num_orders'].shift(1).rolling(n_roll).mean()\n",
        "    return tmp"
      ]
    },
    {
      "cell_type": "code",
      "execution_count": null,
      "metadata": {
        "id": "anggiA4QB64-",
        "outputId": "d2ae77cc-7d25-4610-be94-266ad83b442c"
      },
      "outputs": [
        {
          "name": "stdout",
          "output_type": "stream",
          "text": [
            "CPU times: user 4min 13s, sys: 10min 40s, total: 14min 53s\n",
            "Wall time: 14min 54s\n"
          ]
        }
      ],
      "source": [
        "%%time\n",
        "data_lagged_rolled = data_resampled.copy()\n",
        "rmse_lag_rol = {}\n",
        "\n",
        "for lag, rolling in product(range(1, 31), range(3, 31)):\n",
        "    data_lagged_rolled = make_lag_rol(data_lagged_rolled, lag, rolling)\n",
        "    train, test = train_test_split(data_lagged_rolled, shuffle=False, test_size=0.1, random_state=rs)\n",
        "    train.dropna(inplace=True)\n",
        "    test.dropna(inplace=True)\n",
        "    target_train = train['num_orders']\n",
        "    features_train = train.drop(columns=['num_orders'], axis=1)\n",
        "\n",
        "    target_test = test['num_orders']\n",
        "    features_test = test.drop(columns=['num_orders'], axis=1)\n",
        "\n",
        "    lr = LinearRegression()\n",
        "    lr.fit(features_train, target_train)\n",
        "    split = TimeSeriesSplit(n_splits=3)\n",
        "    rmse = (np.mean(cross_val_score(estimator=lr, X=features_train, y=target_train,\n",
        "                                   scoring='neg_root_mean_squared_error', cv=split)))*(-1)\n",
        "    rmse_lag_rol[(lag, rolling)] = rmse\n",
        "    data_lagged_rolled = data_lagged_rolled.drop(columns=data_lagged_rolled.columns[data_lagged_rolled.columns.str.contains('_lag|_rolling_median')], axis=1)\n",
        "\n"
      ]
    },
    {
      "cell_type": "code",
      "execution_count": null,
      "metadata": {
        "id": "qUu-TM7VB64_"
      },
      "outputs": [],
      "source": [
        "rmse_lag_rol_df = pd.DataFrame.from_dict(rmse_lag_rol, orient='index')\n"
      ]
    },
    {
      "cell_type": "code",
      "execution_count": null,
      "metadata": {
        "id": "H1buj5SiB64_",
        "outputId": "d1ccced3-c755-4a66-bbea-db4c29af72cb"
      },
      "outputs": [
        {
          "data": {
            "image/png": "[encoded data removed]",
            "text/plain": [
              "<Figure size 432x288 with 1 Axes>"
            ]
          },
          "metadata": {
            "needs_background": "light"
          },
          "output_type": "display_data"
        }
      ],
      "source": [
        "\n",
        "rmse_lag_rol_df.plot(legend=None)\n",
        "plt.title('rol_median_lag_size')\n",
        "plt.show()"
      ]
    },
    {
      "cell_type": "markdown",
      "metadata": {
        "id": "zV3C235_B64_"
      },
      "source": [
        "## Подбор lag"
      ]
    },
    {
      "cell_type": "code",
      "execution_count": null,
      "metadata": {
        "id": "Djarr2MbB64_"
      },
      "outputs": [],
      "source": [
        "min_value = min(rmse_lag_rol.values())"
      ]
    },
    {
      "cell_type": "code",
      "execution_count": null,
      "metadata": {
        "id": "AAF3NcPgB64_",
        "outputId": "2a910588-bb63-46cf-e786-554662e0c558"
      },
      "outputs": [
        {
          "data": {
            "text/plain": [
              "27.38703755123001"
            ]
          },
          "execution_count": 70,
          "metadata": {},
          "output_type": "execute_result"
        }
      ],
      "source": [
        "min_value"
      ]
    },
    {
      "cell_type": "code",
      "execution_count": null,
      "metadata": {
        "scrolled": false,
        "id": "LDfSrLiJB65A"
      },
      "outputs": [],
      "source": [
        "for key,value in rmse_lag_rol.items():\n",
        "    if value == min_value:\n",
        "        best=key\n",
        "        break"
      ]
    },
    {
      "cell_type": "code",
      "execution_count": null,
      "metadata": {
        "scrolled": true,
        "id": "C5EMt4F4B65A"
      },
      "outputs": [],
      "source": [
        "tmp = make_lag_rol(data_lagged_rolled, best[0], best[1])"
      ]
    },
    {
      "cell_type": "code",
      "execution_count": null,
      "metadata": {
        "id": "nmOU3bw_B65A"
      },
      "outputs": [],
      "source": [
        "train, test = train_test_split(tmp, shuffle=False, test_size=0.1, random_state=rs)\n",
        "train.dropna(inplace=True)\n",
        "test.dropna(inplace=True)\n",
        "target_train = train['num_orders']\n",
        "features_train = train.drop(columns=['num_orders'], axis=1)\n",
        "\n",
        "# Фильтрация данных по времени\n",
        "test = test[test.index.hour.isin(night)]\n",
        "\n",
        "# Удаление строк с пропущенными значениями\n",
        "test.dropna(inplace=True)\n",
        "\n",
        "# Разделение на целевую переменную и признаки\n",
        "target_test = test['num_orders']\n",
        "features_test = test.drop(columns=['num_orders'], axis=1)"
      ]
    },
    {
      "cell_type": "code",
      "execution_count": null,
      "metadata": {
        "id": "sRcRNDwIB65A",
        "outputId": "914ad90e-11fd-4392-adff-a807cde77e6b"
      },
      "outputs": [
        {
          "data": {
            "text/plain": [
              "LinearRegression()"
            ]
          },
          "execution_count": 77,
          "metadata": {},
          "output_type": "execute_result"
        }
      ],
      "source": [
        "lr = LinearRegression()\n",
        "lr.fit(features_train, target_train)"
      ]
    },
    {
      "cell_type": "code",
      "execution_count": null,
      "metadata": {
        "id": "cs1Yt0C8B65B"
      },
      "outputs": [],
      "source": [
        "split = TimeSeriesSplit(n_splits=3)\n"
      ]
    },
    {
      "cell_type": "code",
      "execution_count": null,
      "metadata": {
        "id": "mR67XnDvB65B",
        "outputId": "ba58cd13-3915-4039-f5ae-026f62aeab8f"
      },
      "outputs": [
        {
          "data": {
            "text/plain": [
              "27.38703755123001"
            ]
          },
          "execution_count": 79,
          "metadata": {},
          "output_type": "execute_result"
        }
      ],
      "source": [
        "(np.mean(cross_val_score(estimator=lr, X=features_train, y=target_train,\n",
        "                                   scoring='neg_root_mean_squared_error', cv=split)))*(-1)"
      ]
    },
    {
      "cell_type": "code",
      "execution_count": null,
      "metadata": {
        "id": "Uyh8hdU1B65B",
        "outputId": "d09165fa-498c-4cdc-9622-f9a67ca0307b"
      },
      "outputs": [
        {
          "name": "stdout",
          "output_type": "stream",
          "text": [
            "RMSE на тестовой выборке: 61.72632610265541\n"
          ]
        }
      ],
      "source": [
        "pred_cat = lr.predict(features_test)\n",
        "rmse_test_cat = (mean_squared_error(target_test, pred_cat))**0.5\n",
        "print('RMSE на тестовой выборке:', rmse_test_cat)"
      ]
    },
    {
      "cell_type": "markdown",
      "metadata": {
        "id": "bGX7XqNUB65C"
      },
      "source": [
        "## КэтБуст"
      ]
    },
    {
      "cell_type": "code",
      "execution_count": null,
      "metadata": {
        "id": "SEGKRMazB65C"
      },
      "outputs": [],
      "source": [
        "# Определяем параметры для подбора\n",
        "params = {'learning_rate': [0.03, 0.1],\n",
        "          'depth': [4, 6, 10],\n",
        "          'l2_leaf_reg': [1, 5, 9]}\n",
        "\n",
        "# Создаем экземпляр модели CatBoostRegressor\n",
        "cb = CatBoostRegressor(verbose=False, loss_function='RMSE')\n",
        "\n",
        "\n",
        "split = TimeSeriesSplit(n_splits=3)\n",
        "\n"
      ]
    },
    {
      "cell_type": "code",
      "execution_count": null,
      "metadata": {
        "id": "HJnUOYdHB65C",
        "outputId": "8dd25024-2941-403b-8b2b-1502f9df75e5"
      },
      "outputs": [
        {
          "data": {
            "text/plain": [
              "RandomizedSearchCV(cv=TimeSeriesSplit(gap=0, max_train_size=None, n_splits=3, test_size=None),\n",
              "                   estimator=<catboost.core.CatBoostRegressor object at 0x7fa63997c550>,\n",
              "                   n_jobs=-1,\n",
              "                   param_distributions={'depth': [4, 6, 10],\n",
              "                                        'l2_leaf_reg': [1, 5, 9],\n",
              "                                        'learning_rate': [0.03, 0.1]},\n",
              "                   scoring='neg_root_mean_squared_error')"
            ]
          },
          "execution_count": 50,
          "metadata": {},
          "output_type": "execute_result"
        }
      ],
      "source": [
        "# Создаем экземпляр GridSearchCV и запускаем поиск по сетке\n",
        "grid_search = RandomizedSearchCV(estimator=cb, param_distributions=params, cv=split, scoring='neg_root_mean_squared_error', n_jobs=-1)\n",
        "grid_search.fit(features_train, target_train)"
      ]
    },
    {
      "cell_type": "code",
      "execution_count": null,
      "metadata": {
        "id": "o0gP2SaeB65C",
        "outputId": "d1f4e438-e6db-4afb-e810-81591dc5430d"
      },
      "outputs": [
        {
          "name": "stdout",
          "output_type": "stream",
          "text": [
            "Лучшие параметры: {'learning_rate': 0.03, 'l2_leaf_reg': 5, 'depth': 4}\n",
            "RMSE на обучающей выборке: 35.9051742431515\n"
          ]
        }
      ],
      "source": [
        "# Выводим лучшие параметры и метрики на обучающей и тестовой выборках\n",
        "\n",
        "rmse_train_cat = (-1 * grid_search.best_score_)\n",
        "print('Лучшие параметры:', grid_search.best_params_)\n",
        "print('RMSE на обучающей выборке:', rmse_train_cat)\n"
      ]
    },
    {
      "cell_type": "markdown",
      "metadata": {
        "id": "GovOhD-KB65D"
      },
      "source": [
        "## Случайный лес"
      ]
    },
    {
      "cell_type": "code",
      "execution_count": null,
      "metadata": {
        "id": "CIHYerPHB65D"
      },
      "outputs": [],
      "source": [
        "\n",
        "\n",
        "# Определяем параметры для подбора\n",
        "params = {\n",
        "    'n_estimators': [50, 100, 200],\n",
        "    'max_depth': [4, 6, 10],\n",
        "    'min_samples_split': [2, 5, 10],\n",
        "    'min_samples_leaf': [1, 2, 4],\n",
        "}\n",
        "\n",
        "# Создаем экземпляр модели RandomForestRegressor\n",
        "rf = RandomForestRegressor(random_state=rs)\n",
        "\n",
        "split = TimeSeriesSplit(n_splits=3)\n",
        "\n"
      ]
    },
    {
      "cell_type": "code",
      "execution_count": null,
      "metadata": {
        "id": "Lj9ivT96B65D"
      },
      "outputs": [],
      "source": [
        "# Создаем экземпляр RandomizedSearchCV и запускаем поиск по сетке\n",
        "grid_search = RandomizedSearchCV(\n",
        "    estimator=rf,\n",
        "    param_distributions=params,\n",
        "    cv=split,\n",
        "    scoring='neg_root_mean_squared_error',\n",
        "    n_jobs=-1,\n",
        "    random_state=42\n",
        ")"
      ]
    },
    {
      "cell_type": "code",
      "execution_count": null,
      "metadata": {
        "id": "2fVWqm1-B65D",
        "outputId": "69556280-7063-470f-81f1-4452d8bcaf8b"
      },
      "outputs": [
        {
          "data": {
            "text/plain": [
              "RandomizedSearchCV(cv=TimeSeriesSplit(gap=0, max_train_size=None, n_splits=3, test_size=None),\n",
              "                   estimator=RandomForestRegressor(random_state=7), n_jobs=-1,\n",
              "                   param_distributions={'max_depth': [4, 6, 10],\n",
              "                                        'min_samples_leaf': [1, 2, 4],\n",
              "                                        'min_samples_split': [2, 5, 10],\n",
              "                                        'n_estimators': [50, 100, 200]},\n",
              "                   random_state=42, scoring='neg_root_mean_squared_error')"
            ]
          },
          "execution_count": 54,
          "metadata": {},
          "output_type": "execute_result"
        }
      ],
      "source": [
        "grid_search.fit(features_train, target_train)\n"
      ]
    },
    {
      "cell_type": "code",
      "execution_count": null,
      "metadata": {
        "id": "7aQ_OOKPB65D",
        "outputId": "52ae916d-cc3f-4bd4-e5bb-1c5a54d4ba35"
      },
      "outputs": [
        {
          "name": "stdout",
          "output_type": "stream",
          "text": [
            "Лучшие параметры: {'n_estimators': 100, 'min_samples_split': 10, 'min_samples_leaf': 2, 'max_depth': 10}\n",
            "RMSE на обучающей выборке: 35.844583216065026\n"
          ]
        }
      ],
      "source": [
        "rmse_train_forest = (-1 * grid_search.best_score_)\n",
        "\n",
        "# Выводим лучшие параметры и метрики на обучающей и тестовой выборках\n",
        "print('Лучшие параметры:', grid_search.best_params_)\n",
        "print('RMSE на обучающей выборке:', rmse_train_forest)\n"
      ]
    },
    {
      "cell_type": "markdown",
      "metadata": {
        "id": "7dJjbBsgB65E"
      },
      "source": [
        "## Регрессия"
      ]
    },
    {
      "cell_type": "code",
      "execution_count": null,
      "metadata": {
        "id": "ytLP8qrDB65E"
      },
      "outputs": [],
      "source": [
        "# Определяем метрику, на основе которой будет производиться оценка качества\n",
        "scorer = make_scorer(mean_squared_error, squared=False)\n",
        "\n",
        "# Определяем параметры для подбора\n",
        "param_grid = {'fit_intercept': [True, False],\n",
        "              'normalize': [True, False]}\n",
        "\n",
        "# Создаем экземпляр модели линейной регрессии\n",
        "lin_reg = LinearRegression()\n",
        "\n",
        "\n",
        "split = TimeSeriesSplit(n_splits=3)\n",
        "\n",
        "\n"
      ]
    },
    {
      "cell_type": "code",
      "execution_count": null,
      "metadata": {
        "id": "x7R3oUa3B65E"
      },
      "outputs": [],
      "source": [
        "# Создаем экземпляр GridSearchCV\n",
        "grid_search = GridSearchCV(estimator=lin_reg, param_grid=param_grid, cv=split, scoring=scorer)\n"
      ]
    },
    {
      "cell_type": "code",
      "execution_count": null,
      "metadata": {
        "id": "mmTvqRbNB65E",
        "outputId": "08bccf19-9394-40b9-dcad-4b6852e879b6"
      },
      "outputs": [
        {
          "data": {
            "text/plain": [
              "GridSearchCV(cv=TimeSeriesSplit(gap=0, max_train_size=None, n_splits=3, test_size=None),\n",
              "             estimator=LinearRegression(),\n",
              "             param_grid={'fit_intercept': [True, False],\n",
              "                         'normalize': [True, False]},\n",
              "             scoring=make_scorer(mean_squared_error, squared=False))"
            ]
          },
          "execution_count": 58,
          "metadata": {},
          "output_type": "execute_result"
        }
      ],
      "source": [
        "# и запускаем поиск по сетке\n",
        "grid_search.fit(features_train, target_train)"
      ]
    },
    {
      "cell_type": "code",
      "execution_count": null,
      "metadata": {
        "id": "8wQOy_qjB65F",
        "outputId": "8c904db0-5757-441b-8e09-4c49b5b42845"
      },
      "outputs": [
        {
          "name": "stdout",
          "output_type": "stream",
          "text": [
            "Лучшие параметры: {'fit_intercept': True, 'normalize': True}\n",
            "RMSE на обучающей выборке: 37.74430021655824\n"
          ]
        }
      ],
      "source": [
        "# Выводим лучшие параметры и метрики на обучающей и тестовой выборках\n",
        "rmse_lr_train = abs(grid_search.best_score_)\n",
        "print('Лучшие параметры:', grid_search.best_params_)\n",
        "print('RMSE на обучающей выборке:', rmse_lr_train)"
      ]
    },
    {
      "cell_type": "markdown",
      "metadata": {
        "id": "qk3PN1seB65F"
      },
      "source": [
        "## Тестирование"
      ]
    },
    {
      "cell_type": "code",
      "execution_count": null,
      "metadata": {
        "id": "UQ4dk7HVB65F"
      },
      "outputs": [],
      "source": [
        "pd.DataFrame({'train_rmse_score':[rmse_train_cat,rmse_lr_train,rmse_train_forest]})\n",
        "\n",
        "\n",
        "model_names = ['CatRegressor', 'LinearRegression', 'RandomForest']\n",
        "\n",
        "# Создаем список с оценками RMSE для обучающего набора данных\n",
        "train_rmse_scores = [rmse_train_cat, rmse_lr_train, rmse_train_forest]\n",
        "\n",
        "# Создаем DataFrame с именами моделей в качестве индексов и оценками RMSE в качестве значений\n",
        "train_rmse_df = pd.DataFrame({'RMSE Score': train_rmse_scores}, index=model_names)\n",
        "\n"
      ]
    },
    {
      "cell_type": "code",
      "execution_count": null,
      "metadata": {
        "scrolled": true,
        "id": "UCG3b1ubB65H",
        "outputId": "8c69245b-fefb-4f19-a2e6-9735f30eef2b"
      },
      "outputs": [
        {
          "data": {
            "text/html": [
              "<div>\n",
              "<style scoped>\n",
              "    .dataframe tbody tr th:only-of-type {\n",
              "        vertical-align: middle;\n",
              "    }\n",
              "\n",
              "    .dataframe tbody tr th {\n",
              "        vertical-align: top;\n",
              "    }\n",
              "\n",
              "    .dataframe thead th {\n",
              "        text-align: right;\n",
              "    }\n",
              "</style>\n",
              "<table border=\"1\" class=\"dataframe\">\n",
              "  <thead>\n",
              "    <tr style=\"text-align: right;\">\n",
              "      <th></th>\n",
              "      <th>RMSE Score</th>\n",
              "    </tr>\n",
              "  </thead>\n",
              "  <tbody>\n",
              "    <tr>\n",
              "      <th>CatRegressor</th>\n",
              "      <td>35.905174</td>\n",
              "    </tr>\n",
              "    <tr>\n",
              "      <th>LinearRegression</th>\n",
              "      <td>37.744300</td>\n",
              "    </tr>\n",
              "    <tr>\n",
              "      <th>RandomForest</th>\n",
              "      <td>35.844583</td>\n",
              "    </tr>\n",
              "  </tbody>\n",
              "</table>\n",
              "</div>"
            ],
            "text/plain": [
              "                  RMSE Score\n",
              "CatRegressor       35.905174\n",
              "LinearRegression   37.744300\n",
              "RandomForest       35.844583"
            ]
          },
          "execution_count": 61,
          "metadata": {},
          "output_type": "execute_result"
        }
      ],
      "source": [
        "train_rmse_df"
      ]
    },
    {
      "cell_type": "code",
      "execution_count": null,
      "metadata": {
        "scrolled": false,
        "id": "YZAm-eJzB65H",
        "outputId": "92b8a49e-851b-4e59-8876-96a64f40d501"
      },
      "outputs": [
        {
          "data": {
            "image/png": "[encoded data removed]",
            "text/plain": [
              "<Figure size 432x288 with 1 Axes>"
            ]
          },
          "metadata": {
            "needs_background": "light"
          },
          "output_type": "display_data"
        }
      ],
      "source": [
        "# Строим график\n",
        "ax = train_rmse_df.plot(kind='bar', rot=0, legend=None)\n",
        "\n",
        "# Задаем название графика и осей\n",
        "ax.set_title('Train RMSE Scores for Models')\n",
        "ax.set_xlabel('Model')\n",
        "ax.set_ylabel('Train RMSE Score')\n",
        "\n",
        "# Отображаем график\n",
        "plt.show()"
      ]
    },
    {
      "cell_type": "code",
      "execution_count": null,
      "metadata": {
        "id": "MMXeVU0WB65I",
        "outputId": "10d5b5bd-4dd7-4772-dbd1-7af4d6f2fa9c"
      },
      "outputs": [
        {
          "name": "stdout",
          "output_type": "stream",
          "text": [
            "RMSE на тестовой выборке: 67.32920849479017\n"
          ]
        }
      ],
      "source": [
        "cb = CatBoostRegressor(learning_rate=0.3,l2_leaf_reg=0.03,depth=6,verbose=False)\n",
        "cb.fit(features_train, target_train)\n",
        "\n",
        "pred_cat = cb.predict(features_test)\n",
        "rmse_test_cat = (mean_squared_error(target_test, pred_cat))**0.5\n",
        "print('RMSE на тестовой выборке:', rmse_test_cat)"
      ]
    },
    {
      "cell_type": "code",
      "execution_count": null,
      "metadata": {
        "id": "j_Q2N6ZIB65I",
        "outputId": "41de4493-7876-4236-a2e7-5e7500eb375f"
      },
      "outputs": [
        {
          "data": {
            "image/png": "[encoded data removed]",
            "text/plain": [
              "<Figure size 432x288 with 1 Axes>"
            ]
          },
          "metadata": {
            "needs_background": "light"
          },
          "output_type": "display_data"
        }
      ],
      "source": [
        "\n",
        "plt.plot(target_test.index, target_test, label='Real values')\n",
        "plt.plot(target_test.index, pred_cat, label='Predicted values')\n",
        "plt.legend()\n",
        "plt.xlabel('Date')\n",
        "plt.ylabel('Target value')\n",
        "plt.title('Real vs predicted values')\n",
        "plt.xticks(rotation=90)\n",
        "\n",
        "plt.show()"
      ]
    },
    {
      "cell_type": "markdown",
      "metadata": {
        "id": "YDFpKtaTB65J"
      },
      "source": [
        "**Вывод:**\n",
        "\n",
        "* Произведена загрузка и подготовка данных\n",
        "* Выполнен анализ сезонности и тренда в данных\n",
        "* Обнаружено большое количество шумов в данных\n",
        "* Сделан вывод о том, что исследуемый временной ряд является стационарным\n",
        "* Данные были разбиты на выборки\n",
        "* Обучены три модели: RandomForest, Catboost и LinearRegression\n",
        "* Наилучшая модель была выбрана для тестирования, и результаты показали, что RMSE меньше 48."
      ]
    }
  ],
  "metadata": {
    "ExecuteTimeLog": [
      {
        "duration": 432,
        "start_time": "2023-05-01T08:16:18.883Z"
      },
      {
        "duration": 109,
        "start_time": "2023-05-01T08:16:43.408Z"
      },
      {
        "duration": 3,
        "start_time": "2023-05-01T08:16:45.957Z"
      },
      {
        "duration": 50,
        "start_time": "2023-05-01T08:16:46.998Z"
      },
      {
        "duration": 138,
        "start_time": "2023-05-01T08:17:03.501Z"
      },
      {
        "duration": 13,
        "start_time": "2023-05-01T08:17:06.260Z"
      },
      {
        "duration": 257,
        "start_time": "2023-05-01T08:17:13.691Z"
      },
      {
        "duration": 2,
        "start_time": "2023-05-01T08:17:17.437Z"
      },
      {
        "duration": 17,
        "start_time": "2023-05-01T11:28:58.661Z"
      },
      {
        "duration": 16,
        "start_time": "2023-05-01T11:29:02.831Z"
      },
      {
        "duration": 7,
        "start_time": "2023-05-01T11:29:04.710Z"
      },
      {
        "duration": 42,
        "start_time": "2023-05-01T11:29:05.348Z"
      },
      {
        "duration": 7,
        "start_time": "2023-05-01T11:29:05.701Z"
      },
      {
        "duration": 10,
        "start_time": "2023-05-01T11:29:06.026Z"
      },
      {
        "duration": 12,
        "start_time": "2023-05-01T11:29:25.218Z"
      },
      {
        "duration": 57,
        "start_time": "2023-05-01T11:30:16.607Z"
      },
      {
        "duration": 7,
        "start_time": "2023-05-01T11:30:16.895Z"
      },
      {
        "duration": 12,
        "start_time": "2023-05-01T11:30:17.895Z"
      },
      {
        "duration": 40,
        "start_time": "2023-05-01T11:31:03.229Z"
      },
      {
        "duration": 7,
        "start_time": "2023-05-01T11:31:03.443Z"
      },
      {
        "duration": 10,
        "start_time": "2023-05-01T11:32:20.929Z"
      },
      {
        "duration": 42,
        "start_time": "2023-05-01T11:32:21.211Z"
      },
      {
        "duration": 5,
        "start_time": "2023-05-01T11:32:33.829Z"
      },
      {
        "duration": 16,
        "start_time": "2023-05-01T11:32:34.611Z"
      },
      {
        "duration": 53,
        "start_time": "2023-05-01T11:32:35.315Z"
      },
      {
        "duration": 3,
        "start_time": "2023-05-01T11:32:52.295Z"
      },
      {
        "duration": 43,
        "start_time": "2023-05-01T11:32:53.443Z"
      },
      {
        "duration": 7,
        "start_time": "2023-05-01T11:32:53.698Z"
      },
      {
        "duration": 10,
        "start_time": "2023-05-01T11:32:54.792Z"
      },
      {
        "duration": 67,
        "start_time": "2023-05-01T11:32:59.235Z"
      },
      {
        "duration": 3,
        "start_time": "2023-05-01T11:33:11.244Z"
      },
      {
        "duration": 15,
        "start_time": "2023-05-01T11:33:11.507Z"
      },
      {
        "duration": 62,
        "start_time": "2023-05-01T11:33:12.003Z"
      },
      {
        "duration": 22,
        "start_time": "2023-05-01T11:33:15.701Z"
      },
      {
        "duration": 17,
        "start_time": "2023-05-01T11:34:02.641Z"
      },
      {
        "duration": 19,
        "start_time": "2023-05-01T11:34:09.702Z"
      },
      {
        "duration": 17,
        "start_time": "2023-05-01T11:34:11.507Z"
      },
      {
        "duration": 4,
        "start_time": "2023-05-01T11:34:29.479Z"
      },
      {
        "duration": 13,
        "start_time": "2023-05-01T11:34:31.317Z"
      },
      {
        "duration": 9,
        "start_time": "2023-05-01T11:34:38.129Z"
      },
      {
        "duration": 12,
        "start_time": "2023-05-01T11:34:40.830Z"
      },
      {
        "duration": 6,
        "start_time": "2023-05-01T11:36:16.400Z"
      },
      {
        "duration": 5,
        "start_time": "2023-05-01T11:59:15.471Z"
      },
      {
        "duration": 12,
        "start_time": "2023-05-01T11:59:18.687Z"
      },
      {
        "duration": 6,
        "start_time": "2023-05-01T11:59:22.632Z"
      },
      {
        "duration": 8,
        "start_time": "2023-05-01T12:00:00.039Z"
      },
      {
        "duration": 8,
        "start_time": "2023-05-01T12:00:08.486Z"
      },
      {
        "duration": 8,
        "start_time": "2023-05-01T12:00:40.275Z"
      },
      {
        "duration": 8,
        "start_time": "2023-05-01T12:00:46.742Z"
      },
      {
        "duration": 5,
        "start_time": "2023-05-01T12:00:52.375Z"
      },
      {
        "duration": 8,
        "start_time": "2023-05-01T12:01:09.966Z"
      },
      {
        "duration": 7,
        "start_time": "2023-05-01T12:01:20.168Z"
      },
      {
        "duration": 18,
        "start_time": "2023-05-01T12:01:27.877Z"
      },
      {
        "duration": 9,
        "start_time": "2023-05-01T12:01:32.729Z"
      },
      {
        "duration": 3,
        "start_time": "2023-05-01T12:03:26.549Z"
      },
      {
        "duration": 5,
        "start_time": "2023-05-01T12:03:33.628Z"
      },
      {
        "duration": 7,
        "start_time": "2023-05-01T12:04:03.581Z"
      },
      {
        "duration": 6,
        "start_time": "2023-05-01T12:04:10.237Z"
      },
      {
        "duration": 7,
        "start_time": "2023-05-01T12:04:12.127Z"
      },
      {
        "duration": 5,
        "start_time": "2023-05-01T12:04:18.861Z"
      },
      {
        "duration": 6,
        "start_time": "2023-05-01T12:04:23.225Z"
      },
      {
        "duration": 6,
        "start_time": "2023-05-01T12:04:25.845Z"
      },
      {
        "duration": 6,
        "start_time": "2023-05-01T12:04:35.065Z"
      },
      {
        "duration": 6,
        "start_time": "2023-05-01T12:04:51.157Z"
      },
      {
        "duration": 6,
        "start_time": "2023-05-01T12:04:56.139Z"
      },
      {
        "duration": 8,
        "start_time": "2023-05-01T12:05:00.749Z"
      },
      {
        "duration": 19,
        "start_time": "2023-05-01T12:05:07.778Z"
      },
      {
        "duration": 10,
        "start_time": "2023-05-01T12:05:23.788Z"
      },
      {
        "duration": 6,
        "start_time": "2023-05-01T12:06:36.195Z"
      },
      {
        "duration": 4,
        "start_time": "2023-05-01T12:06:50.987Z"
      },
      {
        "duration": 5,
        "start_time": "2023-05-01T12:07:07.707Z"
      },
      {
        "duration": 4,
        "start_time": "2023-05-01T12:07:21.440Z"
      },
      {
        "duration": 3,
        "start_time": "2023-05-01T12:09:27.538Z"
      },
      {
        "duration": 4,
        "start_time": "2023-05-01T12:09:30.154Z"
      },
      {
        "duration": 7,
        "start_time": "2023-05-01T12:10:08.096Z"
      },
      {
        "duration": 3,
        "start_time": "2023-05-01T12:10:15.098Z"
      },
      {
        "duration": 3,
        "start_time": "2023-05-01T12:10:16.553Z"
      },
      {
        "duration": 4,
        "start_time": "2023-05-01T12:10:19.737Z"
      },
      {
        "duration": 3,
        "start_time": "2023-05-01T12:10:24.405Z"
      },
      {
        "duration": 4,
        "start_time": "2023-05-01T12:10:26.042Z"
      },
      {
        "duration": 7,
        "start_time": "2023-05-01T12:10:55.787Z"
      },
      {
        "duration": 16,
        "start_time": "2023-05-01T12:11:11.737Z"
      },
      {
        "duration": 8,
        "start_time": "2023-05-01T12:12:19.787Z"
      },
      {
        "duration": 11,
        "start_time": "2023-05-01T12:12:25.702Z"
      },
      {
        "duration": 9,
        "start_time": "2023-05-01T12:12:37.825Z"
      },
      {
        "duration": 12,
        "start_time": "2023-05-01T12:13:02.488Z"
      },
      {
        "duration": 13,
        "start_time": "2023-05-01T12:13:36.788Z"
      },
      {
        "duration": 4,
        "start_time": "2023-05-01T12:28:53.606Z"
      },
      {
        "duration": 12,
        "start_time": "2023-05-01T12:29:08.962Z"
      },
      {
        "duration": 7,
        "start_time": "2023-05-01T12:29:15.028Z"
      },
      {
        "duration": 3,
        "start_time": "2023-05-01T12:33:20.970Z"
      },
      {
        "duration": 18,
        "start_time": "2023-05-01T12:33:23.225Z"
      },
      {
        "duration": 5,
        "start_time": "2023-05-01T12:33:29.421Z"
      },
      {
        "duration": 4,
        "start_time": "2023-05-01T12:33:33.582Z"
      },
      {
        "duration": 20,
        "start_time": "2023-05-01T12:33:34.329Z"
      },
      {
        "duration": 12,
        "start_time": "2023-05-01T12:42:39.031Z"
      },
      {
        "duration": 3,
        "start_time": "2023-05-01T12:43:10.001Z"
      },
      {
        "duration": 8,
        "start_time": "2023-05-01T12:43:10.458Z"
      },
      {
        "duration": 7,
        "start_time": "2023-05-01T12:43:14.738Z"
      },
      {
        "duration": 5,
        "start_time": "2023-05-01T12:43:15.003Z"
      },
      {
        "duration": 7,
        "start_time": "2023-05-01T12:43:15.302Z"
      },
      {
        "duration": 3,
        "start_time": "2023-05-01T12:43:15.602Z"
      },
      {
        "duration": 3,
        "start_time": "2023-05-01T12:43:16.001Z"
      },
      {
        "duration": 216,
        "start_time": "2023-05-01T12:43:16.390Z"
      },
      {
        "duration": 3,
        "start_time": "2023-05-01T12:43:22.162Z"
      },
      {
        "duration": 12,
        "start_time": "2023-05-01T12:43:29.119Z"
      },
      {
        "duration": 9,
        "start_time": "2023-05-01T12:43:54.703Z"
      },
      {
        "duration": 13,
        "start_time": "2023-05-01T12:44:13.423Z"
      },
      {
        "duration": 426,
        "start_time": "2023-05-01T12:48:18.152Z"
      },
      {
        "duration": 48,
        "start_time": "2023-05-01T12:48:45.855Z"
      },
      {
        "duration": 22,
        "start_time": "2023-05-01T12:48:52.336Z"
      },
      {
        "duration": 257,
        "start_time": "2023-05-01T12:50:47.625Z"
      },
      {
        "duration": 67,
        "start_time": "2023-05-01T12:51:09.897Z"
      },
      {
        "duration": 13,
        "start_time": "2023-05-01T12:51:15.662Z"
      },
      {
        "duration": 12,
        "start_time": "2023-05-01T12:51:21.802Z"
      },
      {
        "duration": 12,
        "start_time": "2023-05-01T12:52:04.254Z"
      },
      {
        "duration": 4,
        "start_time": "2023-05-01T12:52:06.262Z"
      },
      {
        "duration": 15,
        "start_time": "2023-05-01T12:52:09.766Z"
      },
      {
        "duration": 36,
        "start_time": "2023-05-01T12:52:24.791Z"
      },
      {
        "duration": 19,
        "start_time": "2023-05-01T12:52:27.254Z"
      },
      {
        "duration": 6,
        "start_time": "2023-05-01T12:53:55.848Z"
      },
      {
        "duration": 10,
        "start_time": "2023-05-01T12:54:04.503Z"
      },
      {
        "duration": 8,
        "start_time": "2023-05-01T12:54:10.958Z"
      },
      {
        "duration": 464,
        "start_time": "2023-05-01T12:57:58.131Z"
      },
      {
        "duration": 988,
        "start_time": "2023-05-01T12:58:18.508Z"
      },
      {
        "duration": 694,
        "start_time": "2023-05-01T12:59:46.204Z"
      },
      {
        "duration": 11,
        "start_time": "2023-05-01T14:45:41.248Z"
      },
      {
        "duration": 8,
        "start_time": "2023-05-01T14:45:45.525Z"
      },
      {
        "duration": 49,
        "start_time": "2023-05-01T14:46:16.225Z"
      },
      {
        "duration": 7,
        "start_time": "2023-05-01T14:46:16.425Z"
      },
      {
        "duration": 2,
        "start_time": "2023-05-01T14:46:16.530Z"
      },
      {
        "duration": 13,
        "start_time": "2023-05-01T14:46:16.668Z"
      },
      {
        "duration": 53,
        "start_time": "2023-05-01T14:46:16.836Z"
      },
      {
        "duration": 9,
        "start_time": "2023-05-01T14:46:16.985Z"
      },
      {
        "duration": 5,
        "start_time": "2023-05-01T14:46:17.132Z"
      },
      {
        "duration": 8,
        "start_time": "2023-05-01T14:46:17.321Z"
      },
      {
        "duration": 5,
        "start_time": "2023-05-01T14:46:17.460Z"
      },
      {
        "duration": 6,
        "start_time": "2023-05-01T14:46:17.644Z"
      },
      {
        "duration": 3,
        "start_time": "2023-05-01T14:46:17.852Z"
      },
      {
        "duration": 4,
        "start_time": "2023-05-01T14:46:18.060Z"
      },
      {
        "duration": 217,
        "start_time": "2023-05-01T14:46:18.288Z"
      },
      {
        "duration": 14,
        "start_time": "2023-05-01T14:46:18.828Z"
      },
      {
        "duration": 6,
        "start_time": "2023-05-01T14:46:19.036Z"
      },
      {
        "duration": 14,
        "start_time": "2023-05-01T14:46:19.429Z"
      },
      {
        "duration": 7,
        "start_time": "2023-05-01T14:46:19.730Z"
      },
      {
        "duration": 6,
        "start_time": "2023-05-01T14:46:20.164Z"
      },
      {
        "duration": 9,
        "start_time": "2023-05-01T14:46:20.372Z"
      },
      {
        "duration": 668,
        "start_time": "2023-05-01T14:46:20.571Z"
      },
      {
        "duration": 436,
        "start_time": "2023-05-01T14:50:17.008Z"
      },
      {
        "duration": 3,
        "start_time": "2023-05-01T14:50:17.445Z"
      },
      {
        "duration": 47,
        "start_time": "2023-05-01T14:51:55.771Z"
      },
      {
        "duration": 7,
        "start_time": "2023-05-01T14:51:56.920Z"
      },
      {
        "duration": 4,
        "start_time": "2023-05-01T14:51:57.879Z"
      },
      {
        "duration": 11,
        "start_time": "2023-05-01T14:51:58.379Z"
      },
      {
        "duration": 45,
        "start_time": "2023-05-01T14:52:00.183Z"
      },
      {
        "duration": 4,
        "start_time": "2023-05-01T14:52:08.859Z"
      },
      {
        "duration": 11,
        "start_time": "2023-05-01T14:52:15.767Z"
      },
      {
        "duration": 40,
        "start_time": "2023-05-01T14:52:16.140Z"
      },
      {
        "duration": 1160,
        "start_time": "2023-05-01T14:52:22.075Z"
      },
      {
        "duration": 1191,
        "start_time": "2023-05-01T14:52:27.985Z"
      },
      {
        "duration": 2,
        "start_time": "2023-05-01T14:52:32.231Z"
      },
      {
        "duration": 6,
        "start_time": "2023-05-01T14:52:33.119Z"
      },
      {
        "duration": 5,
        "start_time": "2023-05-01T14:52:33.687Z"
      },
      {
        "duration": 7,
        "start_time": "2023-05-01T14:52:34.246Z"
      },
      {
        "duration": 3,
        "start_time": "2023-05-01T14:52:34.958Z"
      },
      {
        "duration": 3,
        "start_time": "2023-05-01T14:52:35.207Z"
      },
      {
        "duration": 210,
        "start_time": "2023-05-01T14:52:35.537Z"
      },
      {
        "duration": 13,
        "start_time": "2023-05-01T14:52:36.592Z"
      },
      {
        "duration": 4,
        "start_time": "2023-05-01T14:52:37.360Z"
      },
      {
        "duration": 4,
        "start_time": "2023-05-01T14:57:05.909Z"
      },
      {
        "duration": 7,
        "start_time": "2023-05-01T15:00:09.843Z"
      },
      {
        "duration": 16,
        "start_time": "2023-05-01T15:01:17.305Z"
      },
      {
        "duration": 8,
        "start_time": "2023-05-01T15:01:32.973Z"
      },
      {
        "duration": 9,
        "start_time": "2023-05-01T15:01:37.190Z"
      },
      {
        "duration": 9,
        "start_time": "2023-05-01T15:01:47.805Z"
      },
      {
        "duration": 7,
        "start_time": "2023-05-01T15:01:58.555Z"
      },
      {
        "duration": 9,
        "start_time": "2023-05-01T15:02:07.027Z"
      },
      {
        "duration": 6,
        "start_time": "2023-05-01T15:02:18.363Z"
      },
      {
        "duration": 15,
        "start_time": "2023-05-01T15:03:15.386Z"
      },
      {
        "duration": 11,
        "start_time": "2023-05-01T15:03:19.346Z"
      },
      {
        "duration": 10,
        "start_time": "2023-05-01T15:03:47.882Z"
      },
      {
        "duration": 8,
        "start_time": "2023-05-01T15:04:26.751Z"
      },
      {
        "duration": 4,
        "start_time": "2023-05-01T15:04:40.649Z"
      },
      {
        "duration": 8,
        "start_time": "2023-05-01T15:04:42.608Z"
      },
      {
        "duration": 7,
        "start_time": "2023-05-01T15:04:47.313Z"
      },
      {
        "duration": 9,
        "start_time": "2023-05-01T15:04:54.456Z"
      },
      {
        "duration": 14,
        "start_time": "2023-05-01T15:05:10.908Z"
      },
      {
        "duration": 12,
        "start_time": "2023-05-01T15:05:32.842Z"
      },
      {
        "duration": 19,
        "start_time": "2023-05-01T15:06:10.640Z"
      },
      {
        "duration": 11,
        "start_time": "2023-05-01T15:06:30.968Z"
      },
      {
        "duration": 16,
        "start_time": "2023-05-01T15:07:06.279Z"
      },
      {
        "duration": 16,
        "start_time": "2023-05-01T15:07:13.031Z"
      },
      {
        "duration": 4,
        "start_time": "2023-05-01T15:08:08.046Z"
      },
      {
        "duration": 3,
        "start_time": "2023-05-01T15:08:08.387Z"
      },
      {
        "duration": 50,
        "start_time": "2023-05-01T15:08:08.801Z"
      },
      {
        "duration": 8,
        "start_time": "2023-05-01T15:08:08.952Z"
      },
      {
        "duration": 3,
        "start_time": "2023-05-01T15:08:09.119Z"
      },
      {
        "duration": 9,
        "start_time": "2023-05-01T15:08:09.300Z"
      },
      {
        "duration": 46,
        "start_time": "2023-05-01T15:08:09.482Z"
      },
      {
        "duration": 13,
        "start_time": "2023-05-01T15:08:09.864Z"
      },
      {
        "duration": 10,
        "start_time": "2023-05-01T15:08:22.815Z"
      },
      {
        "duration": 40,
        "start_time": "2023-05-01T15:08:27.479Z"
      },
      {
        "duration": 35,
        "start_time": "2023-05-01T15:08:49.919Z"
      },
      {
        "duration": 12,
        "start_time": "2023-05-01T15:08:55.966Z"
      },
      {
        "duration": 8,
        "start_time": "2023-05-01T15:14:36.333Z"
      },
      {
        "duration": 1492,
        "start_time": "2023-05-01T15:14:43.037Z"
      },
      {
        "duration": 3,
        "start_time": "2023-05-01T15:14:45.653Z"
      },
      {
        "duration": 46,
        "start_time": "2023-05-01T15:14:46.001Z"
      },
      {
        "duration": 11,
        "start_time": "2023-05-01T15:14:46.149Z"
      },
      {
        "duration": 3,
        "start_time": "2023-05-01T15:14:46.325Z"
      },
      {
        "duration": 10,
        "start_time": "2023-05-01T15:14:46.501Z"
      },
      {
        "duration": 43,
        "start_time": "2023-05-01T15:14:46.686Z"
      },
      {
        "duration": 6,
        "start_time": "2023-05-01T15:14:47.205Z"
      },
      {
        "duration": 122,
        "start_time": "2023-05-01T15:14:47.412Z"
      },
      {
        "duration": 4,
        "start_time": "2023-05-01T15:14:47.589Z"
      },
      {
        "duration": 5,
        "start_time": "2023-05-01T15:14:47.860Z"
      },
      {
        "duration": 11,
        "start_time": "2023-05-01T15:14:52.430Z"
      },
      {
        "duration": 4,
        "start_time": "2023-05-01T15:14:59.601Z"
      },
      {
        "duration": 8,
        "start_time": "2023-05-01T15:15:06.061Z"
      },
      {
        "duration": 10,
        "start_time": "2023-05-01T15:15:07.999Z"
      },
      {
        "duration": 10,
        "start_time": "2023-05-01T15:15:11.238Z"
      },
      {
        "duration": 4,
        "start_time": "2023-05-01T15:15:11.800Z"
      },
      {
        "duration": 9,
        "start_time": "2023-05-01T15:15:13.661Z"
      },
      {
        "duration": 7,
        "start_time": "2023-05-01T15:15:30.462Z"
      },
      {
        "duration": 3,
        "start_time": "2023-05-01T15:15:31.549Z"
      },
      {
        "duration": 7,
        "start_time": "2023-05-01T15:15:33.383Z"
      },
      {
        "duration": 3,
        "start_time": "2023-05-01T15:15:34.630Z"
      },
      {
        "duration": 7,
        "start_time": "2023-05-01T15:15:35.372Z"
      },
      {
        "duration": 6,
        "start_time": "2023-05-01T15:15:36.203Z"
      },
      {
        "duration": 7,
        "start_time": "2023-05-01T15:15:37.205Z"
      },
      {
        "duration": 5,
        "start_time": "2023-05-01T15:15:57.719Z"
      },
      {
        "duration": 5,
        "start_time": "2023-05-01T15:16:05.102Z"
      },
      {
        "duration": 840,
        "start_time": "2023-05-01T15:16:22.644Z"
      },
      {
        "duration": 708,
        "start_time": "2023-05-01T15:16:36.390Z"
      },
      {
        "duration": 669,
        "start_time": "2023-05-01T15:16:48.800Z"
      },
      {
        "duration": 15,
        "start_time": "2023-05-01T15:17:09.563Z"
      },
      {
        "duration": 10,
        "start_time": "2023-05-01T15:17:14.444Z"
      },
      {
        "duration": 10,
        "start_time": "2023-05-01T15:17:22.708Z"
      },
      {
        "duration": 5,
        "start_time": "2023-05-01T15:17:32.902Z"
      },
      {
        "duration": 14,
        "start_time": "2023-05-01T15:17:56.916Z"
      },
      {
        "duration": 8,
        "start_time": "2023-05-01T15:18:44.815Z"
      },
      {
        "duration": 21,
        "start_time": "2023-05-01T15:19:09.771Z"
      },
      {
        "duration": 16,
        "start_time": "2023-05-01T15:19:20.931Z"
      },
      {
        "duration": 24,
        "start_time": "2023-05-01T15:19:46.350Z"
      },
      {
        "duration": 15,
        "start_time": "2023-05-01T15:19:55.395Z"
      },
      {
        "duration": 17,
        "start_time": "2023-05-01T15:20:09.505Z"
      },
      {
        "duration": 17,
        "start_time": "2023-05-01T15:20:18.804Z"
      },
      {
        "duration": 70,
        "start_time": "2023-05-01T15:41:51.158Z"
      },
      {
        "duration": 6,
        "start_time": "2023-05-01T15:41:54.918Z"
      },
      {
        "duration": 7,
        "start_time": "2023-05-01T15:43:34.891Z"
      },
      {
        "duration": 10,
        "start_time": "2023-05-01T15:43:43.205Z"
      },
      {
        "duration": 6,
        "start_time": "2023-05-01T15:43:47.134Z"
      },
      {
        "duration": 11,
        "start_time": "2023-05-01T15:43:47.862Z"
      },
      {
        "duration": 4,
        "start_time": "2023-05-01T15:43:52.212Z"
      },
      {
        "duration": 10,
        "start_time": "2023-05-01T15:44:16.504Z"
      },
      {
        "duration": 4,
        "start_time": "2023-05-01T15:44:23.021Z"
      },
      {
        "duration": 2,
        "start_time": "2023-05-01T15:44:30.238Z"
      },
      {
        "duration": 3,
        "start_time": "2023-05-01T15:44:32.006Z"
      },
      {
        "duration": 6,
        "start_time": "2023-05-01T15:44:33.630Z"
      },
      {
        "duration": 1411,
        "start_time": "2023-05-01T15:54:04.797Z"
      },
      {
        "duration": 9,
        "start_time": "2023-05-01T16:00:46.169Z"
      },
      {
        "duration": 4,
        "start_time": "2023-05-01T16:01:23.776Z"
      },
      {
        "duration": 1540,
        "start_time": "2023-05-01T16:01:23.783Z"
      },
      {
        "duration": 3,
        "start_time": "2023-05-01T16:01:25.325Z"
      },
      {
        "duration": 51,
        "start_time": "2023-05-01T16:01:25.329Z"
      },
      {
        "duration": 10,
        "start_time": "2023-05-01T16:01:25.382Z"
      },
      {
        "duration": 3,
        "start_time": "2023-05-01T16:01:25.393Z"
      },
      {
        "duration": 10,
        "start_time": "2023-05-01T16:01:25.397Z"
      },
      {
        "duration": 38,
        "start_time": "2023-05-01T16:01:25.411Z"
      },
      {
        "duration": 8,
        "start_time": "2023-05-01T16:01:25.451Z"
      },
      {
        "duration": 7,
        "start_time": "2023-05-01T16:01:25.460Z"
      },
      {
        "duration": 4,
        "start_time": "2023-05-01T16:01:25.468Z"
      },
      {
        "duration": 7,
        "start_time": "2023-05-01T16:01:25.511Z"
      },
      {
        "duration": 8,
        "start_time": "2023-05-01T16:01:25.520Z"
      },
      {
        "duration": 10,
        "start_time": "2023-05-01T16:01:25.531Z"
      },
      {
        "duration": 8,
        "start_time": "2023-05-01T16:01:25.542Z"
      },
      {
        "duration": 749,
        "start_time": "2023-05-01T16:01:25.551Z"
      },
      {
        "duration": 5,
        "start_time": "2023-05-01T16:01:26.302Z"
      },
      {
        "duration": 9,
        "start_time": "2023-05-01T16:01:26.309Z"
      },
      {
        "duration": 14,
        "start_time": "2023-05-01T16:01:26.320Z"
      },
      {
        "duration": 99,
        "start_time": "2023-05-01T16:01:26.335Z"
      },
      {
        "duration": 3,
        "start_time": "2023-05-01T16:01:26.435Z"
      },
      {
        "duration": 21,
        "start_time": "2023-05-01T16:01:26.439Z"
      },
      {
        "duration": 6,
        "start_time": "2023-05-01T16:01:26.461Z"
      },
      {
        "duration": 11,
        "start_time": "2023-05-01T16:01:26.469Z"
      },
      {
        "duration": 1466,
        "start_time": "2023-05-01T16:01:26.481Z"
      },
      {
        "duration": 6,
        "start_time": "2023-05-01T16:14:14.041Z"
      },
      {
        "duration": 1478,
        "start_time": "2023-05-01T16:14:15.713Z"
      },
      {
        "duration": 7,
        "start_time": "2023-05-01T16:14:50.967Z"
      },
      {
        "duration": 1412,
        "start_time": "2023-05-01T16:14:59.873Z"
      },
      {
        "duration": 10,
        "start_time": "2023-05-01T16:16:20.816Z"
      },
      {
        "duration": 1513,
        "start_time": "2023-05-01T16:16:30.200Z"
      },
      {
        "duration": 1392,
        "start_time": "2023-05-01T16:17:19.206Z"
      },
      {
        "duration": 8,
        "start_time": "2023-05-01T16:17:34.359Z"
      },
      {
        "duration": 70,
        "start_time": "2023-05-01T16:18:02.815Z"
      },
      {
        "duration": 11,
        "start_time": "2023-05-01T16:18:18.214Z"
      },
      {
        "duration": 3,
        "start_time": "2023-05-02T16:48:36.541Z"
      },
      {
        "duration": 1909,
        "start_time": "2023-05-02T16:48:36.546Z"
      },
      {
        "duration": 3,
        "start_time": "2023-05-02T16:48:38.457Z"
      },
      {
        "duration": 152,
        "start_time": "2023-05-02T16:48:38.462Z"
      },
      {
        "duration": 11,
        "start_time": "2023-05-02T16:48:38.617Z"
      },
      {
        "duration": 3,
        "start_time": "2023-05-02T16:48:38.632Z"
      },
      {
        "duration": 11,
        "start_time": "2023-05-02T16:48:38.637Z"
      },
      {
        "duration": 66,
        "start_time": "2023-05-02T16:48:38.650Z"
      },
      {
        "duration": 9,
        "start_time": "2023-05-02T16:48:38.718Z"
      },
      {
        "duration": 7,
        "start_time": "2023-05-02T16:48:38.729Z"
      },
      {
        "duration": 4,
        "start_time": "2023-05-02T16:48:38.737Z"
      },
      {
        "duration": 48,
        "start_time": "2023-05-02T16:48:38.744Z"
      },
      {
        "duration": 8,
        "start_time": "2023-05-02T16:48:38.794Z"
      },
      {
        "duration": 7,
        "start_time": "2023-05-02T16:48:38.803Z"
      },
      {
        "duration": 6,
        "start_time": "2023-05-02T16:48:38.811Z"
      },
      {
        "duration": 875,
        "start_time": "2023-05-02T16:48:38.818Z"
      },
      {
        "duration": 5,
        "start_time": "2023-05-02T16:48:39.694Z"
      },
      {
        "duration": 10,
        "start_time": "2023-05-02T16:48:39.701Z"
      },
      {
        "duration": 14,
        "start_time": "2023-05-02T16:48:39.713Z"
      },
      {
        "duration": 14,
        "start_time": "2023-05-02T16:48:39.729Z"
      },
      {
        "duration": 12,
        "start_time": "2023-05-02T16:48:39.744Z"
      },
      {
        "duration": 13,
        "start_time": "2023-05-02T16:48:39.758Z"
      },
      {
        "duration": 24,
        "start_time": "2023-05-02T16:48:39.772Z"
      },
      {
        "duration": 12,
        "start_time": "2023-05-02T16:48:39.798Z"
      },
      {
        "duration": 123,
        "start_time": "2023-05-02T16:48:39.811Z"
      },
      {
        "duration": 0,
        "start_time": "2023-05-02T16:48:39.936Z"
      },
      {
        "duration": 8,
        "start_time": "2023-05-02T16:53:46.268Z"
      },
      {
        "duration": 1442,
        "start_time": "2023-05-02T17:05:03.541Z"
      },
      {
        "duration": 1533,
        "start_time": "2023-05-02T17:05:59.654Z"
      },
      {
        "duration": 1262,
        "start_time": "2023-05-02T18:20:41.532Z"
      },
      {
        "duration": 4,
        "start_time": "2023-05-02T18:22:05.748Z"
      },
      {
        "duration": 1707,
        "start_time": "2023-05-02T18:22:05.754Z"
      },
      {
        "duration": 3,
        "start_time": "2023-05-02T18:22:07.463Z"
      },
      {
        "duration": 102,
        "start_time": "2023-05-02T18:22:07.468Z"
      },
      {
        "duration": 16,
        "start_time": "2023-05-02T18:22:07.572Z"
      },
      {
        "duration": 6,
        "start_time": "2023-05-02T18:22:07.590Z"
      },
      {
        "duration": 28,
        "start_time": "2023-05-02T18:22:07.598Z"
      },
      {
        "duration": 75,
        "start_time": "2023-05-02T18:22:07.628Z"
      },
      {
        "duration": 13,
        "start_time": "2023-05-02T18:22:07.707Z"
      },
      {
        "duration": 23,
        "start_time": "2023-05-02T18:22:07.723Z"
      },
      {
        "duration": 9,
        "start_time": "2023-05-02T18:22:07.748Z"
      },
      {
        "duration": 15,
        "start_time": "2023-05-02T18:22:07.759Z"
      },
      {
        "duration": 24,
        "start_time": "2023-05-02T18:22:07.776Z"
      },
      {
        "duration": 15,
        "start_time": "2023-05-02T18:22:07.802Z"
      },
      {
        "duration": 17,
        "start_time": "2023-05-02T18:22:07.820Z"
      },
      {
        "duration": 995,
        "start_time": "2023-05-02T18:22:07.839Z"
      },
      {
        "duration": 5,
        "start_time": "2023-05-02T18:22:08.837Z"
      },
      {
        "duration": 18,
        "start_time": "2023-05-02T18:22:08.844Z"
      },
      {
        "duration": 16,
        "start_time": "2023-05-02T18:22:08.864Z"
      },
      {
        "duration": 9,
        "start_time": "2023-05-02T18:22:08.884Z"
      },
      {
        "duration": 6,
        "start_time": "2023-05-02T18:22:08.895Z"
      },
      {
        "duration": 4,
        "start_time": "2023-05-02T18:22:08.903Z"
      },
      {
        "duration": 149,
        "start_time": "2023-05-02T18:22:08.909Z"
      },
      {
        "duration": 0,
        "start_time": "2023-05-02T18:22:09.060Z"
      },
      {
        "duration": 0,
        "start_time": "2023-05-02T18:22:09.061Z"
      },
      {
        "duration": 0,
        "start_time": "2023-05-02T18:22:09.062Z"
      },
      {
        "duration": 0,
        "start_time": "2023-05-02T18:22:09.063Z"
      },
      {
        "duration": 0,
        "start_time": "2023-05-02T18:22:09.064Z"
      },
      {
        "duration": 0,
        "start_time": "2023-05-02T18:22:09.066Z"
      },
      {
        "duration": 1177,
        "start_time": "2023-05-02T18:22:30.664Z"
      },
      {
        "duration": 13,
        "start_time": "2023-05-02T18:23:14.602Z"
      },
      {
        "duration": 7,
        "start_time": "2023-05-02T18:23:51.084Z"
      },
      {
        "duration": 15,
        "start_time": "2023-05-02T18:23:56.440Z"
      },
      {
        "duration": 17,
        "start_time": "2023-05-02T18:24:20.160Z"
      },
      {
        "duration": 4,
        "start_time": "2023-05-03T08:54:05.024Z"
      },
      {
        "duration": 2122,
        "start_time": "2023-05-03T08:54:05.030Z"
      },
      {
        "duration": 3,
        "start_time": "2023-05-03T08:54:07.154Z"
      },
      {
        "duration": 136,
        "start_time": "2023-05-03T08:54:07.160Z"
      },
      {
        "duration": 13,
        "start_time": "2023-05-03T08:54:07.298Z"
      },
      {
        "duration": 8,
        "start_time": "2023-05-03T08:54:07.314Z"
      },
      {
        "duration": 17,
        "start_time": "2023-05-03T08:54:07.325Z"
      },
      {
        "duration": 82,
        "start_time": "2023-05-03T08:54:07.345Z"
      },
      {
        "duration": 16,
        "start_time": "2023-05-03T08:54:07.429Z"
      },
      {
        "duration": 37,
        "start_time": "2023-05-03T08:54:07.449Z"
      },
      {
        "duration": 26,
        "start_time": "2023-05-03T08:54:07.488Z"
      },
      {
        "duration": 27,
        "start_time": "2023-05-03T08:54:07.516Z"
      },
      {
        "duration": 33,
        "start_time": "2023-05-03T08:54:07.545Z"
      },
      {
        "duration": 28,
        "start_time": "2023-05-03T08:54:07.579Z"
      },
      {
        "duration": 29,
        "start_time": "2023-05-03T08:54:07.609Z"
      },
      {
        "duration": 910,
        "start_time": "2023-05-03T08:54:07.641Z"
      },
      {
        "duration": 6,
        "start_time": "2023-05-03T08:54:08.553Z"
      },
      {
        "duration": 29,
        "start_time": "2023-05-03T08:54:08.561Z"
      },
      {
        "duration": 24,
        "start_time": "2023-05-03T08:54:08.592Z"
      },
      {
        "duration": 16,
        "start_time": "2023-05-03T08:54:08.617Z"
      },
      {
        "duration": 15,
        "start_time": "2023-05-03T08:54:08.635Z"
      },
      {
        "duration": 44,
        "start_time": "2023-05-03T08:54:08.652Z"
      },
      {
        "duration": 48,
        "start_time": "2023-05-03T08:54:08.699Z"
      },
      {
        "duration": 40,
        "start_time": "2023-05-03T08:54:08.748Z"
      },
      {
        "duration": 56,
        "start_time": "2023-05-03T08:54:08.789Z"
      },
      {
        "duration": 33,
        "start_time": "2023-05-03T08:54:08.848Z"
      },
      {
        "duration": 31,
        "start_time": "2023-05-03T08:54:08.883Z"
      },
      {
        "duration": 2251,
        "start_time": "2023-05-03T08:54:08.919Z"
      },
      {
        "duration": 0,
        "start_time": "2023-05-03T08:54:11.172Z"
      },
      {
        "duration": 7,
        "start_time": "2023-05-03T08:55:16.819Z"
      },
      {
        "duration": 3,
        "start_time": "2023-05-03T08:55:34.280Z"
      },
      {
        "duration": 1467,
        "start_time": "2023-05-03T08:55:34.289Z"
      },
      {
        "duration": 3,
        "start_time": "2023-05-03T08:55:35.758Z"
      },
      {
        "duration": 61,
        "start_time": "2023-05-03T08:55:35.763Z"
      },
      {
        "duration": 11,
        "start_time": "2023-05-03T08:55:35.826Z"
      },
      {
        "duration": 29,
        "start_time": "2023-05-03T08:55:35.839Z"
      },
      {
        "duration": 14,
        "start_time": "2023-05-03T08:55:35.870Z"
      },
      {
        "duration": 73,
        "start_time": "2023-05-03T08:55:35.886Z"
      },
      {
        "duration": 9,
        "start_time": "2023-05-03T08:55:35.960Z"
      },
      {
        "duration": 18,
        "start_time": "2023-05-03T08:55:35.971Z"
      },
      {
        "duration": 14,
        "start_time": "2023-05-03T08:55:35.990Z"
      },
      {
        "duration": 12,
        "start_time": "2023-05-03T08:55:36.006Z"
      },
      {
        "duration": 17,
        "start_time": "2023-05-03T08:55:36.020Z"
      },
      {
        "duration": 23,
        "start_time": "2023-05-03T08:55:36.039Z"
      },
      {
        "duration": 31,
        "start_time": "2023-05-03T08:55:36.066Z"
      },
      {
        "duration": 816,
        "start_time": "2023-05-03T08:55:36.099Z"
      },
      {
        "duration": 5,
        "start_time": "2023-05-03T08:55:36.917Z"
      },
      {
        "duration": 14,
        "start_time": "2023-05-03T08:55:36.924Z"
      },
      {
        "duration": 18,
        "start_time": "2023-05-03T08:55:36.940Z"
      },
      {
        "duration": 4,
        "start_time": "2023-05-03T08:55:36.960Z"
      },
      {
        "duration": 7,
        "start_time": "2023-05-03T08:55:36.966Z"
      },
      {
        "duration": 9,
        "start_time": "2023-05-03T08:55:36.974Z"
      },
      {
        "duration": 14,
        "start_time": "2023-05-03T08:55:36.984Z"
      },
      {
        "duration": 9,
        "start_time": "2023-05-03T08:55:37.000Z"
      },
      {
        "duration": 36,
        "start_time": "2023-05-03T08:55:37.011Z"
      },
      {
        "duration": 201,
        "start_time": "2023-05-03T08:55:37.049Z"
      },
      {
        "duration": 13,
        "start_time": "2023-05-03T08:55:37.252Z"
      },
      {
        "duration": 4,
        "start_time": "2023-05-03T09:23:25.411Z"
      },
      {
        "duration": 4,
        "start_time": "2023-05-03T09:30:31.290Z"
      },
      {
        "duration": 9,
        "start_time": "2023-05-03T09:33:40.391Z"
      },
      {
        "duration": 15,
        "start_time": "2023-05-03T09:33:43.529Z"
      },
      {
        "duration": 7,
        "start_time": "2023-05-03T09:33:56.121Z"
      },
      {
        "duration": 14,
        "start_time": "2023-05-03T09:35:10.688Z"
      },
      {
        "duration": 22,
        "start_time": "2023-05-03T09:35:41.162Z"
      },
      {
        "duration": 11,
        "start_time": "2023-05-03T09:36:04.135Z"
      },
      {
        "duration": 5,
        "start_time": "2023-05-03T09:36:22.088Z"
      },
      {
        "duration": 9,
        "start_time": "2023-05-03T09:36:48.415Z"
      },
      {
        "duration": 7,
        "start_time": "2023-05-03T09:36:54.212Z"
      },
      {
        "duration": 18,
        "start_time": "2023-05-03T09:38:16.942Z"
      },
      {
        "duration": 3,
        "start_time": "2023-05-03T09:38:26.216Z"
      },
      {
        "duration": 1469,
        "start_time": "2023-05-03T09:38:26.222Z"
      },
      {
        "duration": 3,
        "start_time": "2023-05-03T09:38:27.693Z"
      },
      {
        "duration": 63,
        "start_time": "2023-05-03T09:38:27.698Z"
      },
      {
        "duration": 10,
        "start_time": "2023-05-03T09:38:27.762Z"
      },
      {
        "duration": 34,
        "start_time": "2023-05-03T09:38:27.773Z"
      },
      {
        "duration": 17,
        "start_time": "2023-05-03T09:38:27.809Z"
      },
      {
        "duration": 78,
        "start_time": "2023-05-03T09:38:27.828Z"
      },
      {
        "duration": 8,
        "start_time": "2023-05-03T09:38:27.910Z"
      },
      {
        "duration": 31,
        "start_time": "2023-05-03T09:38:27.920Z"
      },
      {
        "duration": 23,
        "start_time": "2023-05-03T09:38:27.952Z"
      },
      {
        "duration": 50,
        "start_time": "2023-05-03T09:38:27.977Z"
      },
      {
        "duration": 32,
        "start_time": "2023-05-03T09:38:28.029Z"
      },
      {
        "duration": 47,
        "start_time": "2023-05-03T09:38:28.064Z"
      },
      {
        "duration": 24,
        "start_time": "2023-05-03T09:38:28.113Z"
      },
      {
        "duration": 813,
        "start_time": "2023-05-03T09:38:28.139Z"
      },
      {
        "duration": 7,
        "start_time": "2023-05-03T09:38:28.954Z"
      },
      {
        "duration": 8,
        "start_time": "2023-05-03T09:38:28.963Z"
      },
      {
        "duration": 29,
        "start_time": "2023-05-03T09:38:28.973Z"
      },
      {
        "duration": 15,
        "start_time": "2023-05-03T09:38:29.003Z"
      },
      {
        "duration": 136,
        "start_time": "2023-05-03T09:38:29.020Z"
      },
      {
        "duration": 0,
        "start_time": "2023-05-03T09:38:29.158Z"
      },
      {
        "duration": 0,
        "start_time": "2023-05-03T09:38:29.160Z"
      },
      {
        "duration": 0,
        "start_time": "2023-05-03T09:38:29.161Z"
      },
      {
        "duration": 0,
        "start_time": "2023-05-03T09:38:29.162Z"
      },
      {
        "duration": 0,
        "start_time": "2023-05-03T09:38:29.164Z"
      },
      {
        "duration": 0,
        "start_time": "2023-05-03T09:38:29.165Z"
      },
      {
        "duration": 0,
        "start_time": "2023-05-03T09:38:29.166Z"
      },
      {
        "duration": 0,
        "start_time": "2023-05-03T09:38:29.184Z"
      },
      {
        "duration": 0,
        "start_time": "2023-05-03T09:38:29.184Z"
      },
      {
        "duration": 0,
        "start_time": "2023-05-03T09:38:29.186Z"
      },
      {
        "duration": 0,
        "start_time": "2023-05-03T09:38:29.187Z"
      },
      {
        "duration": 0,
        "start_time": "2023-05-03T09:38:29.188Z"
      },
      {
        "duration": 0,
        "start_time": "2023-05-03T09:38:29.192Z"
      },
      {
        "duration": 11,
        "start_time": "2023-05-03T09:41:33.758Z"
      },
      {
        "duration": 18,
        "start_time": "2023-05-03T09:41:47.695Z"
      },
      {
        "duration": 7,
        "start_time": "2023-05-03T09:41:59.603Z"
      },
      {
        "duration": 9,
        "start_time": "2023-05-03T09:42:24.231Z"
      },
      {
        "duration": 25,
        "start_time": "2023-05-03T09:42:30.489Z"
      },
      {
        "duration": 7,
        "start_time": "2023-05-03T09:42:35.884Z"
      },
      {
        "duration": 20,
        "start_time": "2023-05-03T09:42:39.293Z"
      },
      {
        "duration": 19,
        "start_time": "2023-05-03T09:42:47.889Z"
      },
      {
        "duration": 10,
        "start_time": "2023-05-03T09:43:07.045Z"
      },
      {
        "duration": 8,
        "start_time": "2023-05-03T09:43:18.286Z"
      },
      {
        "duration": 7,
        "start_time": "2023-05-03T09:43:29.171Z"
      },
      {
        "duration": 11,
        "start_time": "2023-05-03T09:43:34.299Z"
      },
      {
        "duration": 3,
        "start_time": "2023-05-03T09:43:42.987Z"
      },
      {
        "duration": 11,
        "start_time": "2023-05-03T09:43:48.505Z"
      },
      {
        "duration": 4,
        "start_time": "2023-05-03T09:44:04.013Z"
      },
      {
        "duration": 15,
        "start_time": "2023-05-03T09:44:10.601Z"
      },
      {
        "duration": 21,
        "start_time": "2023-05-03T09:44:39.517Z"
      },
      {
        "duration": 21,
        "start_time": "2023-05-03T09:45:00.324Z"
      },
      {
        "duration": 15,
        "start_time": "2023-05-03T09:45:08.194Z"
      },
      {
        "duration": 6,
        "start_time": "2023-05-03T09:45:26.004Z"
      },
      {
        "duration": 14,
        "start_time": "2023-05-03T09:45:27.724Z"
      },
      {
        "duration": 8,
        "start_time": "2023-05-03T09:46:50.540Z"
      },
      {
        "duration": 3,
        "start_time": "2023-05-03T09:46:50.811Z"
      },
      {
        "duration": 8,
        "start_time": "2023-05-03T09:46:51.086Z"
      },
      {
        "duration": 16,
        "start_time": "2023-05-03T09:46:51.315Z"
      },
      {
        "duration": 9,
        "start_time": "2023-05-03T09:46:53.324Z"
      },
      {
        "duration": 10,
        "start_time": "2023-05-03T09:46:56.479Z"
      },
      {
        "duration": 297,
        "start_time": "2023-05-03T09:46:56.816Z"
      },
      {
        "duration": 10,
        "start_time": "2023-05-03T09:46:57.115Z"
      },
      {
        "duration": 5,
        "start_time": "2023-05-03T09:47:57.988Z"
      },
      {
        "duration": 5,
        "start_time": "2023-05-03T09:48:00.794Z"
      },
      {
        "duration": 5,
        "start_time": "2023-05-03T09:48:05.138Z"
      },
      {
        "duration": 9,
        "start_time": "2023-05-03T09:48:07.411Z"
      },
      {
        "duration": 15,
        "start_time": "2023-05-03T10:34:52.120Z"
      },
      {
        "duration": 5198,
        "start_time": "2023-05-03T10:34:59.631Z"
      },
      {
        "duration": 263,
        "start_time": "2023-05-03T10:35:04.832Z"
      },
      {
        "duration": 6,
        "start_time": "2023-05-03T10:37:29.095Z"
      },
      {
        "duration": 54,
        "start_time": "2023-05-03T10:37:30.871Z"
      },
      {
        "duration": 4,
        "start_time": "2023-05-03T10:37:37.190Z"
      },
      {
        "duration": 7,
        "start_time": "2023-05-03T10:37:37.488Z"
      },
      {
        "duration": 34,
        "start_time": "2023-05-03T10:37:37.950Z"
      },
      {
        "duration": 5,
        "start_time": "2023-05-03T10:38:01.223Z"
      },
      {
        "duration": 5,
        "start_time": "2023-05-03T10:38:57.557Z"
      },
      {
        "duration": 30,
        "start_time": "2023-05-03T10:38:59.022Z"
      },
      {
        "duration": 5,
        "start_time": "2023-05-03T10:40:01.229Z"
      },
      {
        "duration": 23,
        "start_time": "2023-05-03T10:40:01.852Z"
      },
      {
        "duration": 8,
        "start_time": "2023-05-03T10:41:20.045Z"
      },
      {
        "duration": 6,
        "start_time": "2023-05-03T10:41:36.903Z"
      },
      {
        "duration": 11,
        "start_time": "2023-05-03T10:41:48.516Z"
      },
      {
        "duration": 8,
        "start_time": "2023-05-03T10:41:51.261Z"
      },
      {
        "duration": 7,
        "start_time": "2023-05-03T10:41:58.105Z"
      },
      {
        "duration": 8,
        "start_time": "2023-05-03T10:41:58.765Z"
      },
      {
        "duration": 10,
        "start_time": "2023-05-03T10:42:07.812Z"
      },
      {
        "duration": 17,
        "start_time": "2023-05-03T10:42:26.409Z"
      },
      {
        "duration": 5,
        "start_time": "2023-05-03T10:42:30.460Z"
      },
      {
        "duration": 114,
        "start_time": "2023-05-03T10:42:30.805Z"
      },
      {
        "duration": 188,
        "start_time": "2023-05-03T10:43:21.560Z"
      },
      {
        "duration": 7,
        "start_time": "2023-05-03T10:43:22.347Z"
      },
      {
        "duration": 34,
        "start_time": "2023-05-03T10:43:22.628Z"
      },
      {
        "duration": 21,
        "start_time": "2023-05-03T10:43:47.267Z"
      },
      {
        "duration": 11,
        "start_time": "2023-05-03T10:43:58.323Z"
      },
      {
        "duration": 17,
        "start_time": "2023-05-03T10:43:59.067Z"
      },
      {
        "duration": 6,
        "start_time": "2023-05-03T10:44:00.607Z"
      },
      {
        "duration": 130,
        "start_time": "2023-05-03T10:44:00.971Z"
      },
      {
        "duration": 5,
        "start_time": "2023-05-03T10:46:00.417Z"
      },
      {
        "duration": 490743,
        "start_time": "2023-05-03T10:46:00.709Z"
      },
      {
        "duration": 314,
        "start_time": "2023-05-03T10:54:14.806Z"
      },
      {
        "duration": 7,
        "start_time": "2023-05-03T10:54:26.710Z"
      },
      {
        "duration": 6,
        "start_time": "2023-05-03T11:01:27.916Z"
      },
      {
        "duration": 661,
        "start_time": "2023-05-03T11:01:33.548Z"
      },
      {
        "duration": 6,
        "start_time": "2023-05-03T11:01:39.322Z"
      },
      {
        "duration": 419,
        "start_time": "2023-05-03T11:01:50.179Z"
      },
      {
        "duration": 9,
        "start_time": "2023-05-03T11:01:51.179Z"
      },
      {
        "duration": 422,
        "start_time": "2023-05-03T11:02:00.503Z"
      },
      {
        "duration": 7,
        "start_time": "2023-05-03T11:02:02.701Z"
      },
      {
        "duration": 128,
        "start_time": "2023-05-03T11:02:09.996Z"
      },
      {
        "duration": 6,
        "start_time": "2023-05-03T11:02:11.403Z"
      },
      {
        "duration": 3,
        "start_time": "2023-05-03T11:03:52.632Z"
      },
      {
        "duration": 3,
        "start_time": "2023-05-03T11:03:53.010Z"
      },
      {
        "duration": 74,
        "start_time": "2023-05-03T11:03:53.650Z"
      },
      {
        "duration": 13,
        "start_time": "2023-05-03T11:03:53.980Z"
      },
      {
        "duration": 79,
        "start_time": "2023-05-03T11:04:20.136Z"
      },
      {
        "duration": 46935,
        "start_time": "2023-05-03T11:04:27.982Z"
      },
      {
        "duration": 6466,
        "start_time": "2023-05-03T11:05:25.313Z"
      },
      {
        "duration": 4,
        "start_time": "2023-05-03T11:06:03.249Z"
      },
      {
        "duration": 178421,
        "start_time": "2023-05-03T11:06:04.501Z"
      },
      {
        "duration": 0,
        "start_time": "2023-05-03T11:09:02.923Z"
      },
      {
        "duration": 5,
        "start_time": "2023-05-03T11:09:10.703Z"
      },
      {
        "duration": 15,
        "start_time": "2023-05-03T11:14:11.205Z"
      },
      {
        "duration": 5,
        "start_time": "2023-05-03T11:27:43.727Z"
      },
      {
        "duration": 4,
        "start_time": "2023-05-03T11:40:55.143Z"
      },
      {
        "duration": 4,
        "start_time": "2023-05-03T11:42:05.454Z"
      },
      {
        "duration": 2775,
        "start_time": "2023-05-03T11:42:05.822Z"
      },
      {
        "duration": 0,
        "start_time": "2023-05-03T11:42:08.603Z"
      },
      {
        "duration": 5,
        "start_time": "2023-05-03T11:42:40.125Z"
      },
      {
        "duration": 1778,
        "start_time": "2023-05-03T11:42:40.462Z"
      },
      {
        "duration": 0,
        "start_time": "2023-05-03T11:42:42.243Z"
      },
      {
        "duration": 20,
        "start_time": "2023-05-03T11:43:31.454Z"
      },
      {
        "duration": 3106,
        "start_time": "2023-05-03T11:43:51.121Z"
      },
      {
        "duration": 2307,
        "start_time": "2023-05-03T11:43:54.233Z"
      },
      {
        "duration": 3,
        "start_time": "2023-05-03T11:43:56.542Z"
      },
      {
        "duration": 93,
        "start_time": "2023-05-03T11:43:56.547Z"
      },
      {
        "duration": 13,
        "start_time": "2023-05-03T11:43:56.643Z"
      },
      {
        "duration": 58,
        "start_time": "2023-05-03T11:43:56.659Z"
      },
      {
        "duration": 27,
        "start_time": "2023-05-03T11:43:56.720Z"
      },
      {
        "duration": 123,
        "start_time": "2023-05-03T11:43:56.750Z"
      },
      {
        "duration": 76,
        "start_time": "2023-05-03T11:43:56.874Z"
      },
      {
        "duration": 19,
        "start_time": "2023-05-03T11:43:56.952Z"
      },
      {
        "duration": 67,
        "start_time": "2023-05-03T11:43:56.973Z"
      },
      {
        "duration": 34,
        "start_time": "2023-05-03T11:43:57.042Z"
      },
      {
        "duration": 62,
        "start_time": "2023-05-03T11:43:57.079Z"
      },
      {
        "duration": 24,
        "start_time": "2023-05-03T11:43:57.145Z"
      },
      {
        "duration": 46,
        "start_time": "2023-05-03T11:43:57.171Z"
      },
      {
        "duration": 830,
        "start_time": "2023-05-03T11:43:57.219Z"
      },
      {
        "duration": 160,
        "start_time": "2023-05-03T11:43:58.051Z"
      },
      {
        "duration": 0,
        "start_time": "2023-05-03T11:43:58.213Z"
      },
      {
        "duration": 0,
        "start_time": "2023-05-03T11:43:58.214Z"
      },
      {
        "duration": 0,
        "start_time": "2023-05-03T11:43:58.215Z"
      },
      {
        "duration": 0,
        "start_time": "2023-05-03T11:43:58.216Z"
      },
      {
        "duration": 0,
        "start_time": "2023-05-03T11:43:58.217Z"
      },
      {
        "duration": 0,
        "start_time": "2023-05-03T11:43:58.218Z"
      },
      {
        "duration": 0,
        "start_time": "2023-05-03T11:43:58.219Z"
      },
      {
        "duration": 0,
        "start_time": "2023-05-03T11:43:58.220Z"
      },
      {
        "duration": 0,
        "start_time": "2023-05-03T11:43:58.222Z"
      },
      {
        "duration": 0,
        "start_time": "2023-05-03T11:43:58.223Z"
      },
      {
        "duration": 0,
        "start_time": "2023-05-03T11:43:58.224Z"
      },
      {
        "duration": 0,
        "start_time": "2023-05-03T11:43:58.225Z"
      },
      {
        "duration": 0,
        "start_time": "2023-05-03T11:43:58.227Z"
      },
      {
        "duration": 0,
        "start_time": "2023-05-03T11:43:58.228Z"
      },
      {
        "duration": 0,
        "start_time": "2023-05-03T11:43:58.229Z"
      },
      {
        "duration": 0,
        "start_time": "2023-05-03T11:43:58.231Z"
      },
      {
        "duration": 0,
        "start_time": "2023-05-03T11:43:58.232Z"
      },
      {
        "duration": 0,
        "start_time": "2023-05-03T11:43:58.233Z"
      },
      {
        "duration": 0,
        "start_time": "2023-05-03T11:43:58.235Z"
      },
      {
        "duration": 0,
        "start_time": "2023-05-03T11:43:58.236Z"
      },
      {
        "duration": 0,
        "start_time": "2023-05-03T11:43:58.237Z"
      },
      {
        "duration": 0,
        "start_time": "2023-05-03T11:43:58.239Z"
      },
      {
        "duration": 0,
        "start_time": "2023-05-03T11:43:58.240Z"
      },
      {
        "duration": 0,
        "start_time": "2023-05-03T11:43:58.241Z"
      },
      {
        "duration": 12,
        "start_time": "2023-05-03T11:44:03.278Z"
      },
      {
        "duration": 24,
        "start_time": "2023-05-03T11:44:03.452Z"
      },
      {
        "duration": 18,
        "start_time": "2023-05-03T11:44:03.916Z"
      },
      {
        "duration": 3,
        "start_time": "2023-05-03T11:44:04.452Z"
      },
      {
        "duration": 6,
        "start_time": "2023-05-03T11:44:04.719Z"
      },
      {
        "duration": 15,
        "start_time": "2023-05-03T11:44:04.837Z"
      },
      {
        "duration": 9,
        "start_time": "2023-05-03T11:44:05.077Z"
      },
      {
        "duration": 8,
        "start_time": "2023-05-03T11:44:05.260Z"
      },
      {
        "duration": 21,
        "start_time": "2023-05-03T11:44:05.443Z"
      },
      {
        "duration": 8,
        "start_time": "2023-05-03T11:44:05.643Z"
      },
      {
        "duration": 7,
        "start_time": "2023-05-03T11:44:13.629Z"
      },
      {
        "duration": 12,
        "start_time": "2023-05-03T11:44:14.611Z"
      },
      {
        "duration": 35,
        "start_time": "2023-05-03T11:44:15.301Z"
      },
      {
        "duration": 6,
        "start_time": "2023-05-03T11:44:27.940Z"
      },
      {
        "duration": 11,
        "start_time": "2023-05-03T11:44:28.236Z"
      },
      {
        "duration": 240,
        "start_time": "2023-05-03T11:44:28.494Z"
      },
      {
        "duration": 15,
        "start_time": "2023-05-03T11:44:29.504Z"
      },
      {
        "duration": 8,
        "start_time": "2023-05-03T11:44:30.614Z"
      },
      {
        "duration": 3,
        "start_time": "2023-05-03T11:44:31.227Z"
      },
      {
        "duration": 5,
        "start_time": "2023-05-03T11:44:31.444Z"
      },
      {
        "duration": 11,
        "start_time": "2023-05-03T11:44:31.940Z"
      },
      {
        "duration": 1631,
        "start_time": "2023-05-03T11:44:35.024Z"
      },
      {
        "duration": 14,
        "start_time": "2023-05-03T11:45:15.614Z"
      },
      {
        "duration": 23,
        "start_time": "2023-05-03T11:45:16.259Z"
      },
      {
        "duration": 34,
        "start_time": "2023-05-03T11:45:17.924Z"
      },
      {
        "duration": 7,
        "start_time": "2023-05-03T11:45:38.151Z"
      },
      {
        "duration": 26,
        "start_time": "2023-05-03T11:45:38.493Z"
      },
      {
        "duration": 41,
        "start_time": "2023-05-03T11:45:38.897Z"
      },
      {
        "duration": 4,
        "start_time": "2023-05-03T11:45:42.020Z"
      },
      {
        "duration": 33,
        "start_time": "2023-05-03T11:45:48.481Z"
      },
      {
        "duration": 3,
        "start_time": "2023-05-03T11:45:52.811Z"
      },
      {
        "duration": 34,
        "start_time": "2023-05-03T11:45:54.116Z"
      },
      {
        "duration": 25,
        "start_time": "2023-05-03T11:47:34.712Z"
      },
      {
        "duration": 49,
        "start_time": "2023-05-03T11:47:51.557Z"
      },
      {
        "duration": 17,
        "start_time": "2023-05-03T11:47:59.014Z"
      },
      {
        "duration": 40,
        "start_time": "2023-05-03T11:48:30.107Z"
      },
      {
        "duration": 7,
        "start_time": "2023-05-03T11:48:51.731Z"
      },
      {
        "duration": 10,
        "start_time": "2023-05-03T11:49:02.932Z"
      },
      {
        "duration": 18,
        "start_time": "2023-05-03T11:49:05.931Z"
      },
      {
        "duration": 3,
        "start_time": "2023-05-03T11:49:13.139Z"
      },
      {
        "duration": 12,
        "start_time": "2023-05-03T11:49:29.516Z"
      },
      {
        "duration": 8,
        "start_time": "2023-05-03T11:49:37.013Z"
      },
      {
        "duration": 13,
        "start_time": "2023-05-03T11:49:40.422Z"
      },
      {
        "duration": 46,
        "start_time": "2023-05-03T11:57:36.209Z"
      },
      {
        "duration": 7,
        "start_time": "2023-05-03T11:57:48.770Z"
      },
      {
        "duration": 159,
        "start_time": "2023-05-03T11:58:05.680Z"
      },
      {
        "duration": 32,
        "start_time": "2023-05-03T11:58:10.121Z"
      },
      {
        "duration": 37,
        "start_time": "2023-05-03T11:58:16.073Z"
      },
      {
        "duration": 12,
        "start_time": "2023-05-03T11:58:24.248Z"
      },
      {
        "duration": 11,
        "start_time": "2023-05-03T11:58:26.879Z"
      },
      {
        "duration": 6,
        "start_time": "2023-05-03T11:58:35.376Z"
      },
      {
        "duration": 30,
        "start_time": "2023-05-03T11:58:35.536Z"
      },
      {
        "duration": 10,
        "start_time": "2023-05-03T11:58:39.640Z"
      },
      {
        "duration": 8,
        "start_time": "2023-05-03T11:58:43.517Z"
      },
      {
        "duration": 10,
        "start_time": "2023-05-03T11:59:16.199Z"
      },
      {
        "duration": 28,
        "start_time": "2023-05-03T11:59:23.650Z"
      },
      {
        "duration": 30,
        "start_time": "2023-05-03T11:59:39.915Z"
      },
      {
        "duration": 23,
        "start_time": "2023-05-03T11:59:48.409Z"
      },
      {
        "duration": 779052,
        "start_time": "2023-05-03T11:59:55.155Z"
      },
      {
        "duration": 0,
        "start_time": "2023-05-03T12:12:54.209Z"
      },
      {
        "duration": 0,
        "start_time": "2023-05-03T12:12:54.210Z"
      },
      {
        "duration": 33,
        "start_time": "2023-05-03T12:12:57.206Z"
      },
      {
        "duration": 13,
        "start_time": "2023-05-03T12:13:26.981Z"
      },
      {
        "duration": 4,
        "start_time": "2023-05-03T12:14:24.424Z"
      },
      {
        "duration": 1031073,
        "start_time": "2023-05-03T12:14:24.620Z"
      },
      {
        "duration": 12,
        "start_time": "2023-05-03T12:31:35.705Z"
      },
      {
        "duration": 110,
        "start_time": "2023-05-03T12:31:35.786Z"
      },
      {
        "duration": 226,
        "start_time": "2023-05-03T12:33:41.019Z"
      },
      {
        "duration": 82,
        "start_time": "2023-05-03T12:33:45.670Z"
      },
      {
        "duration": 187,
        "start_time": "2023-05-03T12:33:49.325Z"
      },
      {
        "duration": 43,
        "start_time": "2023-05-03T14:41:33.279Z"
      },
      {
        "duration": 45,
        "start_time": "2023-05-03T15:17:25.724Z"
      },
      {
        "duration": 4,
        "start_time": "2023-05-03T15:17:31.531Z"
      },
      {
        "duration": 273989,
        "start_time": "2023-05-03T15:17:51.627Z"
      },
      {
        "duration": 29,
        "start_time": "2023-05-03T15:22:26.409Z"
      },
      {
        "duration": 41,
        "start_time": "2023-05-03T15:22:35.973Z"
      },
      {
        "duration": 9065,
        "start_time": "2023-05-03T15:24:23.280Z"
      },
      {
        "duration": 0,
        "start_time": "2023-05-03T15:24:32.348Z"
      },
      {
        "duration": 8,
        "start_time": "2023-05-03T15:24:35.817Z"
      },
      {
        "duration": 3,
        "start_time": "2023-05-03T15:24:41.239Z"
      },
      {
        "duration": 75217,
        "start_time": "2023-05-03T15:24:43.136Z"
      },
      {
        "duration": 0,
        "start_time": "2023-05-03T15:25:58.355Z"
      },
      {
        "duration": 20,
        "start_time": "2023-05-03T15:25:59.383Z"
      },
      {
        "duration": 31,
        "start_time": "2023-05-03T15:26:35.252Z"
      },
      {
        "duration": 10999,
        "start_time": "2023-05-03T15:26:45.317Z"
      },
      {
        "duration": 8,
        "start_time": "2023-05-03T15:26:58.145Z"
      },
      {
        "duration": 3,
        "start_time": "2023-05-03T15:27:04.028Z"
      },
      {
        "duration": 104812,
        "start_time": "2023-05-03T15:27:06.771Z"
      },
      {
        "duration": 0,
        "start_time": "2023-05-03T15:28:51.586Z"
      },
      {
        "duration": 17,
        "start_time": "2023-05-03T15:28:52.744Z"
      },
      {
        "duration": 10,
        "start_time": "2023-05-03T15:29:07.001Z"
      },
      {
        "duration": 165,
        "start_time": "2023-05-03T15:29:45.319Z"
      },
      {
        "duration": 6,
        "start_time": "2023-05-03T15:29:52.009Z"
      },
      {
        "duration": 133,
        "start_time": "2023-05-03T15:31:55.410Z"
      },
      {
        "duration": 4388,
        "start_time": "2023-05-03T15:32:18.657Z"
      },
      {
        "duration": 36,
        "start_time": "2023-05-03T15:32:48.192Z"
      },
      {
        "duration": 4,
        "start_time": "2023-05-03T15:33:21.208Z"
      },
      {
        "duration": 2,
        "start_time": "2023-05-03T15:33:25.984Z"
      },
      {
        "duration": 3,
        "start_time": "2023-05-03T15:33:29.208Z"
      },
      {
        "duration": 28003,
        "start_time": "2023-05-03T15:33:31.505Z"
      },
      {
        "duration": 13,
        "start_time": "2023-05-03T15:34:00.687Z"
      },
      {
        "duration": 3,
        "start_time": "2023-05-03T15:34:19.679Z"
      },
      {
        "duration": 15737,
        "start_time": "2023-05-03T15:34:22.263Z"
      },
      {
        "duration": 0,
        "start_time": "2023-05-03T15:34:38.003Z"
      },
      {
        "duration": 0,
        "start_time": "2023-05-03T15:34:38.004Z"
      },
      {
        "duration": 3,
        "start_time": "2023-05-03T15:34:49.598Z"
      },
      {
        "duration": 449048,
        "start_time": "2023-05-03T15:34:53.048Z"
      },
      {
        "duration": 14,
        "start_time": "2023-05-03T15:42:22.185Z"
      },
      {
        "duration": 147,
        "start_time": "2023-05-03T15:42:22.284Z"
      },
      {
        "duration": 41,
        "start_time": "2023-05-03T15:44:30.234Z"
      },
      {
        "duration": 4,
        "start_time": "2023-05-03T15:46:04.276Z"
      },
      {
        "duration": 12,
        "start_time": "2023-05-03T15:46:23.512Z"
      },
      {
        "duration": 6,
        "start_time": "2023-05-03T15:46:40.264Z"
      },
      {
        "duration": 12,
        "start_time": "2023-05-03T15:46:42.656Z"
      },
      {
        "duration": 4,
        "start_time": "2023-05-03T15:46:49.241Z"
      },
      {
        "duration": 14,
        "start_time": "2023-05-03T15:46:49.567Z"
      },
      {
        "duration": 5,
        "start_time": "2023-05-03T15:46:55.410Z"
      },
      {
        "duration": 14,
        "start_time": "2023-05-03T15:46:56.508Z"
      },
      {
        "duration": 434191,
        "start_time": "2023-05-03T16:02:02.294Z"
      },
      {
        "duration": 8,
        "start_time": "2023-05-03T16:09:16.488Z"
      },
      {
        "duration": 146,
        "start_time": "2023-05-03T16:09:16.498Z"
      },
      {
        "duration": 42,
        "start_time": "2023-05-03T16:22:20.710Z"
      },
      {
        "duration": 13,
        "start_time": "2023-05-03T16:23:29.850Z"
      },
      {
        "duration": 6,
        "start_time": "2023-05-03T16:24:19.641Z"
      },
      {
        "duration": 5,
        "start_time": "2023-05-03T16:24:24.665Z"
      },
      {
        "duration": 3,
        "start_time": "2023-05-03T16:25:05.002Z"
      },
      {
        "duration": 4,
        "start_time": "2023-05-03T16:25:35.552Z"
      },
      {
        "duration": 11,
        "start_time": "2023-05-03T16:25:48.473Z"
      },
      {
        "duration": 46,
        "start_time": "2023-05-03T16:25:53.568Z"
      },
      {
        "duration": 25,
        "start_time": "2023-05-03T16:26:19.728Z"
      },
      {
        "duration": 17,
        "start_time": "2023-05-03T16:26:39.768Z"
      },
      {
        "duration": 19,
        "start_time": "2023-05-03T16:26:41.060Z"
      },
      {
        "duration": 9,
        "start_time": "2023-05-03T16:27:11.247Z"
      },
      {
        "duration": 11,
        "start_time": "2023-05-03T16:27:28.104Z"
      },
      {
        "duration": 10,
        "start_time": "2023-05-03T16:27:32.863Z"
      },
      {
        "duration": 23,
        "start_time": "2023-05-03T16:27:40.426Z"
      },
      {
        "duration": 14,
        "start_time": "2023-05-03T16:27:41.392Z"
      },
      {
        "duration": 19,
        "start_time": "2023-05-03T16:27:41.919Z"
      },
      {
        "duration": 14,
        "start_time": "2023-05-03T16:27:42.215Z"
      },
      {
        "duration": 31,
        "start_time": "2023-05-03T16:27:45.393Z"
      },
      {
        "duration": 14,
        "start_time": "2023-05-03T16:27:45.944Z"
      },
      {
        "duration": 12,
        "start_time": "2023-05-03T16:27:46.702Z"
      },
      {
        "duration": 21,
        "start_time": "2023-05-03T16:27:46.884Z"
      },
      {
        "duration": 11,
        "start_time": "2023-05-03T16:27:51.013Z"
      },
      {
        "duration": 8,
        "start_time": "2023-05-03T16:27:51.527Z"
      },
      {
        "duration": 20,
        "start_time": "2023-05-03T16:27:51.950Z"
      },
      {
        "duration": 27,
        "start_time": "2023-05-03T16:28:12.959Z"
      },
      {
        "duration": 16,
        "start_time": "2023-05-03T16:28:13.247Z"
      },
      {
        "duration": 13,
        "start_time": "2023-05-03T16:28:13.508Z"
      },
      {
        "duration": 13,
        "start_time": "2023-05-03T16:28:13.900Z"
      },
      {
        "duration": 10,
        "start_time": "2023-05-03T16:28:32.089Z"
      },
      {
        "duration": 19,
        "start_time": "2023-05-03T16:28:55.998Z"
      },
      {
        "duration": 13,
        "start_time": "2023-05-03T16:28:56.334Z"
      },
      {
        "duration": 15,
        "start_time": "2023-05-03T16:28:56.692Z"
      },
      {
        "duration": 39,
        "start_time": "2023-05-03T16:28:57.055Z"
      },
      {
        "duration": 17,
        "start_time": "2023-05-03T16:29:07.406Z"
      },
      {
        "duration": 34,
        "start_time": "2023-05-03T16:29:14.815Z"
      },
      {
        "duration": 13,
        "start_time": "2023-05-03T16:29:15.118Z"
      },
      {
        "duration": 13,
        "start_time": "2023-05-03T16:29:15.399Z"
      },
      {
        "duration": 66,
        "start_time": "2023-05-03T16:29:15.728Z"
      },
      {
        "duration": 30,
        "start_time": "2023-05-03T16:32:12.942Z"
      },
      {
        "duration": 4,
        "start_time": "2023-05-03T16:32:48.901Z"
      },
      {
        "duration": 4,
        "start_time": "2023-05-03T16:33:04.551Z"
      },
      {
        "duration": 3,
        "start_time": "2023-05-03T16:33:08.509Z"
      },
      {
        "duration": 3,
        "start_time": "2023-05-03T16:33:09.606Z"
      },
      {
        "duration": 23,
        "start_time": "2023-05-03T16:33:10.206Z"
      },
      {
        "duration": 13,
        "start_time": "2023-05-03T16:33:10.645Z"
      },
      {
        "duration": 78,
        "start_time": "2023-05-03T16:33:11.108Z"
      },
      {
        "duration": 11,
        "start_time": "2023-05-03T16:33:11.701Z"
      },
      {
        "duration": 21,
        "start_time": "2023-05-03T16:33:26.791Z"
      },
      {
        "duration": 16,
        "start_time": "2023-05-03T16:33:26.998Z"
      },
      {
        "duration": 21,
        "start_time": "2023-05-03T16:33:27.156Z"
      },
      {
        "duration": 19,
        "start_time": "2023-05-03T16:33:27.385Z"
      },
      {
        "duration": 435842,
        "start_time": "2023-05-03T16:33:38.245Z"
      },
      {
        "duration": 93,
        "start_time": "2023-05-03T16:40:54.090Z"
      },
      {
        "duration": 125,
        "start_time": "2023-05-03T16:40:54.186Z"
      },
      {
        "duration": 3,
        "start_time": "2023-05-03T16:40:54.314Z"
      },
      {
        "duration": 12,
        "start_time": "2023-05-03T16:40:54.319Z"
      },
      {
        "duration": 4,
        "start_time": "2023-05-03T16:41:19.119Z"
      },
      {
        "duration": 26,
        "start_time": "2023-05-03T16:42:30.747Z"
      },
      {
        "duration": 19,
        "start_time": "2023-05-03T16:42:31.035Z"
      },
      {
        "duration": 20,
        "start_time": "2023-05-03T16:42:31.323Z"
      },
      {
        "duration": 11,
        "start_time": "2023-05-03T16:42:31.560Z"
      },
      {
        "duration": 4,
        "start_time": "2023-05-03T16:42:53.275Z"
      },
      {
        "duration": 4,
        "start_time": "2023-05-03T16:43:18.771Z"
      },
      {
        "duration": 12,
        "start_time": "2023-05-03T16:43:19.106Z"
      },
      {
        "duration": 455166,
        "start_time": "2023-05-03T16:43:41.770Z"
      },
      {
        "duration": 8,
        "start_time": "2023-05-03T16:51:16.938Z"
      },
      {
        "duration": 543357,
        "start_time": "2023-05-03T16:51:16.948Z"
      },
      {
        "duration": 1,
        "start_time": "2023-05-03T17:00:20.307Z"
      },
      {
        "duration": 0,
        "start_time": "2023-05-03T17:00:20.309Z"
      },
      {
        "duration": 0,
        "start_time": "2023-05-03T17:00:20.310Z"
      },
      {
        "duration": 1,
        "start_time": "2023-05-03T17:00:20.311Z"
      },
      {
        "duration": 0,
        "start_time": "2023-05-03T17:00:20.313Z"
      },
      {
        "duration": 0,
        "start_time": "2023-05-03T17:00:20.314Z"
      },
      {
        "duration": 0,
        "start_time": "2023-05-03T17:00:20.316Z"
      },
      {
        "duration": 0,
        "start_time": "2023-05-03T17:00:20.317Z"
      },
      {
        "duration": 3,
        "start_time": "2023-05-03T17:00:21.682Z"
      },
      {
        "duration": 4,
        "start_time": "2023-05-03T17:00:22.579Z"
      },
      {
        "duration": 28766,
        "start_time": "2023-05-03T17:00:23.458Z"
      },
      {
        "duration": 4,
        "start_time": "2023-05-03T17:00:52.226Z"
      },
      {
        "duration": 5,
        "start_time": "2023-05-03T17:09:08.251Z"
      },
      {
        "duration": 4,
        "start_time": "2023-05-03T17:09:08.546Z"
      },
      {
        "duration": 2371,
        "start_time": "2023-05-03T17:09:08.822Z"
      },
      {
        "duration": 91,
        "start_time": "2023-05-03T17:09:11.199Z"
      },
      {
        "duration": 7,
        "start_time": "2023-05-03T17:55:56.516Z"
      },
      {
        "duration": 9,
        "start_time": "2023-05-03T17:57:06.477Z"
      },
      {
        "duration": 4,
        "start_time": "2023-05-03T17:57:08.244Z"
      },
      {
        "duration": 62148,
        "start_time": "2023-05-03T17:57:08.646Z"
      },
      {
        "duration": 0,
        "start_time": "2023-05-03T17:58:10.797Z"
      },
      {
        "duration": 0,
        "start_time": "2023-05-03T17:58:10.798Z"
      },
      {
        "duration": 0,
        "start_time": "2023-05-03T17:58:10.799Z"
      },
      {
        "duration": 0,
        "start_time": "2023-05-03T17:58:10.800Z"
      },
      {
        "duration": 438689,
        "start_time": "2023-05-03T17:58:15.401Z"
      },
      {
        "duration": 0,
        "start_time": "2023-05-03T18:05:34.105Z"
      },
      {
        "duration": 0,
        "start_time": "2023-05-03T18:05:34.106Z"
      },
      {
        "duration": 0,
        "start_time": "2023-05-03T18:05:34.107Z"
      },
      {
        "duration": 0,
        "start_time": "2023-05-03T18:05:34.108Z"
      },
      {
        "duration": 0,
        "start_time": "2023-05-03T18:05:34.109Z"
      },
      {
        "duration": 0,
        "start_time": "2023-05-03T18:05:34.110Z"
      },
      {
        "duration": 0,
        "start_time": "2023-05-03T18:05:34.111Z"
      },
      {
        "duration": 0,
        "start_time": "2023-05-03T18:05:34.113Z"
      },
      {
        "duration": 0,
        "start_time": "2023-05-03T18:05:34.116Z"
      },
      {
        "duration": 5,
        "start_time": "2023-05-03T18:05:35.474Z"
      },
      {
        "duration": 2360,
        "start_time": "2023-05-03T18:07:01.298Z"
      },
      {
        "duration": 2166,
        "start_time": "2023-05-03T18:07:03.660Z"
      },
      {
        "duration": 3,
        "start_time": "2023-05-03T18:07:05.828Z"
      },
      {
        "duration": 63,
        "start_time": "2023-05-03T18:07:05.832Z"
      },
      {
        "duration": 12,
        "start_time": "2023-05-03T18:07:05.900Z"
      },
      {
        "duration": 7,
        "start_time": "2023-05-03T18:07:05.913Z"
      },
      {
        "duration": 15,
        "start_time": "2023-05-03T18:07:05.922Z"
      },
      {
        "duration": 59,
        "start_time": "2023-05-03T18:07:05.938Z"
      },
      {
        "duration": 10,
        "start_time": "2023-05-03T18:07:05.999Z"
      },
      {
        "duration": 8,
        "start_time": "2023-05-03T18:07:06.011Z"
      },
      {
        "duration": 11,
        "start_time": "2023-05-03T18:07:06.020Z"
      },
      {
        "duration": 20,
        "start_time": "2023-05-03T18:07:06.033Z"
      },
      {
        "duration": 7,
        "start_time": "2023-05-03T18:07:06.055Z"
      },
      {
        "duration": 39,
        "start_time": "2023-05-03T18:07:06.065Z"
      },
      {
        "duration": 16,
        "start_time": "2023-05-03T18:07:06.106Z"
      },
      {
        "duration": 784,
        "start_time": "2023-05-03T18:07:06.124Z"
      },
      {
        "duration": 4,
        "start_time": "2023-05-03T18:07:06.911Z"
      },
      {
        "duration": 20,
        "start_time": "2023-05-03T18:07:06.917Z"
      },
      {
        "duration": 6,
        "start_time": "2023-05-03T18:07:06.939Z"
      },
      {
        "duration": 12,
        "start_time": "2023-05-03T18:07:06.947Z"
      },
      {
        "duration": 8,
        "start_time": "2023-05-03T18:07:06.961Z"
      },
      {
        "duration": 41,
        "start_time": "2023-05-03T18:07:06.971Z"
      },
      {
        "duration": 10,
        "start_time": "2023-05-03T18:07:07.014Z"
      },
      {
        "duration": 11,
        "start_time": "2023-05-03T18:07:07.026Z"
      },
      {
        "duration": 212,
        "start_time": "2023-05-03T18:07:07.039Z"
      },
      {
        "duration": 9,
        "start_time": "2023-05-03T18:07:07.253Z"
      },
      {
        "duration": 4,
        "start_time": "2023-05-03T18:07:07.264Z"
      },
      {
        "duration": 10,
        "start_time": "2023-05-03T18:07:07.284Z"
      },
      {
        "duration": 149,
        "start_time": "2023-05-03T18:07:07.300Z"
      },
      {
        "duration": 0,
        "start_time": "2023-05-03T18:07:07.452Z"
      },
      {
        "duration": 0,
        "start_time": "2023-05-03T18:07:07.453Z"
      },
      {
        "duration": 0,
        "start_time": "2023-05-03T18:07:07.455Z"
      },
      {
        "duration": 0,
        "start_time": "2023-05-03T18:07:07.456Z"
      },
      {
        "duration": 0,
        "start_time": "2023-05-03T18:07:07.458Z"
      },
      {
        "duration": 0,
        "start_time": "2023-05-03T18:07:07.459Z"
      },
      {
        "duration": 0,
        "start_time": "2023-05-03T18:07:07.460Z"
      },
      {
        "duration": 0,
        "start_time": "2023-05-03T18:07:07.462Z"
      },
      {
        "duration": 0,
        "start_time": "2023-05-03T18:07:07.464Z"
      },
      {
        "duration": 0,
        "start_time": "2023-05-03T18:07:07.484Z"
      },
      {
        "duration": 0,
        "start_time": "2023-05-03T18:07:07.485Z"
      },
      {
        "duration": 0,
        "start_time": "2023-05-03T18:07:07.486Z"
      },
      {
        "duration": 0,
        "start_time": "2023-05-03T18:07:07.487Z"
      },
      {
        "duration": 0,
        "start_time": "2023-05-03T18:07:07.488Z"
      },
      {
        "duration": 0,
        "start_time": "2023-05-03T18:07:07.489Z"
      },
      {
        "duration": 0,
        "start_time": "2023-05-03T18:07:07.489Z"
      },
      {
        "duration": 0,
        "start_time": "2023-05-03T18:07:07.490Z"
      },
      {
        "duration": 0,
        "start_time": "2023-05-03T18:07:07.491Z"
      },
      {
        "duration": 1,
        "start_time": "2023-05-03T18:07:07.491Z"
      },
      {
        "duration": 0,
        "start_time": "2023-05-03T18:07:07.492Z"
      },
      {
        "duration": 0,
        "start_time": "2023-05-03T18:07:07.493Z"
      },
      {
        "duration": 0,
        "start_time": "2023-05-03T18:07:07.494Z"
      },
      {
        "duration": 0,
        "start_time": "2023-05-03T18:07:07.494Z"
      },
      {
        "duration": 11,
        "start_time": "2023-05-03T18:07:14.597Z"
      },
      {
        "duration": 3,
        "start_time": "2023-05-03T18:07:17.449Z"
      },
      {
        "duration": 3,
        "start_time": "2023-05-03T18:07:17.634Z"
      },
      {
        "duration": 3,
        "start_time": "2023-05-03T18:07:17.820Z"
      },
      {
        "duration": 3,
        "start_time": "2023-05-03T18:07:18.401Z"
      },
      {
        "duration": 2,
        "start_time": "2023-05-03T18:07:18.602Z"
      },
      {
        "duration": 2,
        "start_time": "2023-05-03T18:07:18.770Z"
      },
      {
        "duration": 14,
        "start_time": "2023-05-03T18:07:18.929Z"
      },
      {
        "duration": 12,
        "start_time": "2023-05-03T18:07:19.297Z"
      },
      {
        "duration": 17,
        "start_time": "2023-05-03T18:07:19.492Z"
      },
      {
        "duration": 12,
        "start_time": "2023-05-03T18:07:27.633Z"
      },
      {
        "duration": 4,
        "start_time": "2023-05-03T18:07:30.424Z"
      },
      {
        "duration": 20,
        "start_time": "2023-05-03T18:07:30.698Z"
      },
      {
        "duration": 11,
        "start_time": "2023-05-03T18:07:30.906Z"
      },
      {
        "duration": 4,
        "start_time": "2023-05-03T18:07:38.865Z"
      },
      {
        "duration": 26,
        "start_time": "2023-05-03T18:07:41.675Z"
      },
      {
        "duration": 13,
        "start_time": "2023-05-03T18:07:42.402Z"
      },
      {
        "duration": 17,
        "start_time": "2023-05-03T18:07:43.011Z"
      },
      {
        "duration": 27,
        "start_time": "2023-05-03T18:07:43.561Z"
      },
      {
        "duration": 43,
        "start_time": "2023-05-03T18:07:50.553Z"
      },
      {
        "duration": 40,
        "start_time": "2023-05-03T18:08:07.354Z"
      },
      {
        "duration": 81,
        "start_time": "2023-05-03T18:08:15.704Z"
      },
      {
        "duration": 11,
        "start_time": "2023-05-03T18:08:26.345Z"
      },
      {
        "duration": 3,
        "start_time": "2023-05-03T18:08:29.264Z"
      },
      {
        "duration": 488300,
        "start_time": "2023-05-03T18:08:30.704Z"
      },
      {
        "duration": 4,
        "start_time": "2023-05-03T18:16:39.006Z"
      },
      {
        "duration": 10,
        "start_time": "2023-05-03T18:16:39.012Z"
      },
      {
        "duration": 9,
        "start_time": "2023-05-03T18:16:39.024Z"
      },
      {
        "duration": 29750,
        "start_time": "2023-05-03T18:16:39.034Z"
      },
      {
        "duration": 12,
        "start_time": "2023-05-03T18:17:08.786Z"
      },
      {
        "duration": 43,
        "start_time": "2023-05-03T18:17:08.801Z"
      },
      {
        "duration": 11,
        "start_time": "2023-05-03T18:17:08.846Z"
      },
      {
        "duration": 2843,
        "start_time": "2023-05-03T18:17:08.860Z"
      },
      {
        "duration": 85,
        "start_time": "2023-05-03T18:17:11.709Z"
      },
      {
        "duration": 11,
        "start_time": "2023-05-03T18:18:54.661Z"
      },
      {
        "duration": 3,
        "start_time": "2023-05-03T18:19:04.532Z"
      },
      {
        "duration": 4,
        "start_time": "2023-05-03T18:19:19.748Z"
      },
      {
        "duration": 4,
        "start_time": "2023-05-03T18:19:25.068Z"
      },
      {
        "duration": 11,
        "start_time": "2023-05-03T18:19:31.781Z"
      },
      {
        "duration": 4,
        "start_time": "2023-05-03T18:19:45.026Z"
      },
      {
        "duration": 5,
        "start_time": "2023-05-03T18:19:53.973Z"
      },
      {
        "duration": 16,
        "start_time": "2023-05-03T18:19:59.316Z"
      },
      {
        "duration": 10,
        "start_time": "2023-05-03T18:20:07.851Z"
      },
      {
        "duration": 62,
        "start_time": "2023-05-03T18:20:14.182Z"
      },
      {
        "duration": 314,
        "start_time": "2023-05-03T18:21:05.267Z"
      },
      {
        "duration": 276,
        "start_time": "2023-05-03T18:21:11.221Z"
      },
      {
        "duration": 9,
        "start_time": "2023-05-03T18:21:15.619Z"
      },
      {
        "duration": 5,
        "start_time": "2023-05-03T18:24:36.020Z"
      },
      {
        "duration": 8,
        "start_time": "2023-05-03T18:24:46.312Z"
      },
      {
        "duration": 114,
        "start_time": "2023-05-03T18:26:13.132Z"
      },
      {
        "duration": 139,
        "start_time": "2023-05-03T18:27:00.897Z"
      },
      {
        "duration": 3,
        "start_time": "2023-05-03T18:28:32.613Z"
      },
      {
        "duration": 7739,
        "start_time": "2023-05-03T18:28:47.568Z"
      },
      {
        "duration": 106,
        "start_time": "2023-05-03T18:29:46.473Z"
      },
      {
        "duration": 8170,
        "start_time": "2023-05-03T18:31:00.704Z"
      },
      {
        "duration": 7498,
        "start_time": "2023-05-03T18:31:17.842Z"
      },
      {
        "duration": 0,
        "start_time": "2023-05-03T18:31:25.342Z"
      },
      {
        "duration": 7416,
        "start_time": "2023-05-03T18:31:44.957Z"
      },
      {
        "duration": 4,
        "start_time": "2023-05-03T18:32:08.400Z"
      },
      {
        "duration": 7199,
        "start_time": "2023-05-03T18:32:24.824Z"
      },
      {
        "duration": 4,
        "start_time": "2023-05-03T18:32:32.024Z"
      },
      {
        "duration": 7492,
        "start_time": "2023-05-03T18:32:39.129Z"
      },
      {
        "duration": 4,
        "start_time": "2023-05-03T18:32:46.623Z"
      },
      {
        "duration": 7469,
        "start_time": "2023-05-03T18:32:54.401Z"
      },
      {
        "duration": 7289,
        "start_time": "2023-05-03T18:33:07.065Z"
      },
      {
        "duration": 4,
        "start_time": "2023-05-03T18:33:30.521Z"
      },
      {
        "duration": 7155,
        "start_time": "2023-05-03T18:34:12.297Z"
      },
      {
        "duration": 3,
        "start_time": "2023-05-03T18:34:19.454Z"
      },
      {
        "duration": 7406,
        "start_time": "2023-05-03T18:34:42.553Z"
      },
      {
        "duration": 3,
        "start_time": "2023-05-03T18:34:49.961Z"
      },
      {
        "duration": 5,
        "start_time": "2023-05-03T18:35:01.320Z"
      },
      {
        "duration": 9,
        "start_time": "2023-05-03T18:35:01.720Z"
      },
      {
        "duration": 7701,
        "start_time": "2023-05-03T18:36:18.200Z"
      },
      {
        "duration": 5,
        "start_time": "2023-05-03T18:36:28.832Z"
      },
      {
        "duration": 111,
        "start_time": "2023-05-03T18:36:37.112Z"
      },
      {
        "duration": 9,
        "start_time": "2023-05-03T18:36:37.472Z"
      },
      {
        "duration": 206,
        "start_time": "2023-05-03T18:36:38.664Z"
      },
      {
        "duration": 9,
        "start_time": "2023-05-03T18:36:39.258Z"
      },
      {
        "duration": 3,
        "start_time": "2023-05-03T18:36:40.164Z"
      },
      {
        "duration": 4,
        "start_time": "2023-05-03T18:36:40.520Z"
      },
      {
        "duration": 3586,
        "start_time": "2023-05-03T18:36:41.280Z"
      },
      {
        "duration": 4,
        "start_time": "2023-05-03T18:36:47.632Z"
      },
      {
        "duration": 120,
        "start_time": "2023-05-03T18:36:48.615Z"
      },
      {
        "duration": 3,
        "start_time": "2023-05-03T18:36:56.128Z"
      },
      {
        "duration": 5,
        "start_time": "2023-05-03T18:36:56.368Z"
      },
      {
        "duration": 3,
        "start_time": "2023-05-03T18:36:56.901Z"
      },
      {
        "duration": 19,
        "start_time": "2023-05-03T18:36:58.057Z"
      },
      {
        "duration": 16,
        "start_time": "2023-05-03T18:36:58.465Z"
      },
      {
        "duration": 174,
        "start_time": "2023-05-03T18:36:58.816Z"
      },
      {
        "duration": 82,
        "start_time": "2023-05-03T18:36:59.208Z"
      },
      {
        "duration": 8325,
        "start_time": "2023-05-03T18:37:05.315Z"
      },
      {
        "duration": 7295,
        "start_time": "2023-05-03T18:38:26.083Z"
      },
      {
        "duration": 12,
        "start_time": "2023-05-03T18:38:33.380Z"
      },
      {
        "duration": 7618,
        "start_time": "2023-05-03T18:38:49.881Z"
      },
      {
        "duration": 4,
        "start_time": "2023-05-03T18:38:57.501Z"
      },
      {
        "duration": 8718,
        "start_time": "2023-05-03T18:41:40.930Z"
      },
      {
        "duration": 0,
        "start_time": "2023-05-03T18:41:49.650Z"
      },
      {
        "duration": 7736,
        "start_time": "2023-05-03T18:42:08.697Z"
      },
      {
        "duration": 40,
        "start_time": "2023-05-03T18:42:36.852Z"
      },
      {
        "duration": 10,
        "start_time": "2023-05-03T18:42:49.661Z"
      },
      {
        "duration": 32,
        "start_time": "2023-05-03T18:42:52.510Z"
      },
      {
        "duration": 4,
        "start_time": "2023-05-03T18:43:25.100Z"
      },
      {
        "duration": 20,
        "start_time": "2023-05-03T18:43:29.045Z"
      },
      {
        "duration": 17,
        "start_time": "2023-05-03T18:43:31.181Z"
      },
      {
        "duration": 10,
        "start_time": "2023-05-03T18:43:31.918Z"
      },
      {
        "duration": 9,
        "start_time": "2023-05-03T18:43:32.172Z"
      },
      {
        "duration": 8035,
        "start_time": "2023-05-03T18:43:36.116Z"
      },
      {
        "duration": 9,
        "start_time": "2023-05-03T18:44:42.311Z"
      },
      {
        "duration": 3,
        "start_time": "2023-05-03T18:45:20.261Z"
      },
      {
        "duration": 0,
        "start_time": "2023-05-04T18:29:28.849Z"
      },
      {
        "duration": 32,
        "start_time": "2023-05-04T18:29:31.148Z"
      },
      {
        "duration": 98,
        "start_time": "2023-05-05T06:43:35.525Z"
      },
      {
        "duration": 42,
        "start_time": "2023-05-05T06:58:10.885Z"
      },
      {
        "duration": 2281,
        "start_time": "2023-05-05T06:58:22.974Z"
      },
      {
        "duration": 0,
        "start_time": "2023-05-05T06:58:25.258Z"
      },
      {
        "duration": 0,
        "start_time": "2023-05-05T06:58:25.259Z"
      },
      {
        "duration": 0,
        "start_time": "2023-05-05T06:58:25.260Z"
      },
      {
        "duration": 0,
        "start_time": "2023-05-05T06:58:25.261Z"
      },
      {
        "duration": 0,
        "start_time": "2023-05-05T06:58:25.262Z"
      },
      {
        "duration": 0,
        "start_time": "2023-05-05T06:58:25.264Z"
      },
      {
        "duration": 0,
        "start_time": "2023-05-05T06:58:25.265Z"
      },
      {
        "duration": 0,
        "start_time": "2023-05-05T06:58:25.266Z"
      },
      {
        "duration": 0,
        "start_time": "2023-05-05T06:58:25.267Z"
      },
      {
        "duration": 0,
        "start_time": "2023-05-05T06:58:25.268Z"
      },
      {
        "duration": 0,
        "start_time": "2023-05-05T06:58:25.269Z"
      },
      {
        "duration": 0,
        "start_time": "2023-05-05T06:58:25.291Z"
      },
      {
        "duration": 0,
        "start_time": "2023-05-05T06:58:25.294Z"
      },
      {
        "duration": 0,
        "start_time": "2023-05-05T06:58:25.295Z"
      },
      {
        "duration": 0,
        "start_time": "2023-05-05T06:58:25.296Z"
      },
      {
        "duration": 1,
        "start_time": "2023-05-05T06:58:25.296Z"
      },
      {
        "duration": 0,
        "start_time": "2023-05-05T06:58:25.298Z"
      },
      {
        "duration": 0,
        "start_time": "2023-05-05T06:58:25.299Z"
      },
      {
        "duration": 0,
        "start_time": "2023-05-05T06:58:25.301Z"
      },
      {
        "duration": 0,
        "start_time": "2023-05-05T06:58:25.302Z"
      },
      {
        "duration": 0,
        "start_time": "2023-05-05T06:58:25.303Z"
      },
      {
        "duration": 0,
        "start_time": "2023-05-05T06:58:25.305Z"
      },
      {
        "duration": 0,
        "start_time": "2023-05-05T06:58:25.306Z"
      },
      {
        "duration": 0,
        "start_time": "2023-05-05T06:58:25.307Z"
      },
      {
        "duration": 0,
        "start_time": "2023-05-05T06:58:25.315Z"
      },
      {
        "duration": 0,
        "start_time": "2023-05-05T06:58:25.316Z"
      },
      {
        "duration": 0,
        "start_time": "2023-05-05T06:58:25.317Z"
      },
      {
        "duration": 0,
        "start_time": "2023-05-05T06:58:25.318Z"
      },
      {
        "duration": 0,
        "start_time": "2023-05-05T06:58:25.319Z"
      },
      {
        "duration": 0,
        "start_time": "2023-05-05T06:58:25.320Z"
      },
      {
        "duration": 0,
        "start_time": "2023-05-05T06:58:25.321Z"
      },
      {
        "duration": 0,
        "start_time": "2023-05-05T06:58:25.325Z"
      },
      {
        "duration": 0,
        "start_time": "2023-05-05T06:58:25.326Z"
      },
      {
        "duration": 0,
        "start_time": "2023-05-05T06:58:25.327Z"
      },
      {
        "duration": 0,
        "start_time": "2023-05-05T06:58:25.328Z"
      },
      {
        "duration": 0,
        "start_time": "2023-05-05T06:58:25.330Z"
      },
      {
        "duration": 0,
        "start_time": "2023-05-05T06:58:25.331Z"
      },
      {
        "duration": 0,
        "start_time": "2023-05-05T06:58:25.333Z"
      },
      {
        "duration": 0,
        "start_time": "2023-05-05T06:58:25.391Z"
      },
      {
        "duration": 0,
        "start_time": "2023-05-05T06:58:25.393Z"
      },
      {
        "duration": 0,
        "start_time": "2023-05-05T06:58:25.394Z"
      },
      {
        "duration": 0,
        "start_time": "2023-05-05T06:58:25.396Z"
      },
      {
        "duration": 0,
        "start_time": "2023-05-05T06:58:25.397Z"
      },
      {
        "duration": 0,
        "start_time": "2023-05-05T06:58:25.398Z"
      },
      {
        "duration": 0,
        "start_time": "2023-05-05T06:58:25.400Z"
      },
      {
        "duration": 0,
        "start_time": "2023-05-05T06:58:25.401Z"
      },
      {
        "duration": 0,
        "start_time": "2023-05-05T06:58:25.403Z"
      },
      {
        "duration": 0,
        "start_time": "2023-05-05T06:58:25.404Z"
      },
      {
        "duration": 0,
        "start_time": "2023-05-05T06:58:25.406Z"
      },
      {
        "duration": 0,
        "start_time": "2023-05-05T06:58:25.407Z"
      },
      {
        "duration": 0,
        "start_time": "2023-05-05T06:58:25.409Z"
      },
      {
        "duration": 0,
        "start_time": "2023-05-05T06:58:25.410Z"
      },
      {
        "duration": 0,
        "start_time": "2023-05-05T06:58:25.411Z"
      },
      {
        "duration": 0,
        "start_time": "2023-05-05T06:58:25.413Z"
      },
      {
        "duration": 28867,
        "start_time": "2023-05-05T06:59:17.924Z"
      },
      {
        "duration": 1698,
        "start_time": "2023-05-05T06:59:54.446Z"
      },
      {
        "duration": 4,
        "start_time": "2023-05-05T06:59:56.146Z"
      },
      {
        "duration": 156,
        "start_time": "2023-05-05T06:59:56.151Z"
      },
      {
        "duration": 13,
        "start_time": "2023-05-05T06:59:56.310Z"
      },
      {
        "duration": 4,
        "start_time": "2023-05-05T06:59:56.324Z"
      },
      {
        "duration": 17,
        "start_time": "2023-05-05T06:59:56.329Z"
      },
      {
        "duration": 54,
        "start_time": "2023-05-05T06:59:56.347Z"
      },
      {
        "duration": 8,
        "start_time": "2023-05-05T06:59:56.403Z"
      },
      {
        "duration": 8,
        "start_time": "2023-05-05T06:59:56.412Z"
      },
      {
        "duration": 4,
        "start_time": "2023-05-05T06:59:56.423Z"
      },
      {
        "duration": 10,
        "start_time": "2023-05-05T06:59:56.429Z"
      },
      {
        "duration": 7,
        "start_time": "2023-05-05T06:59:56.441Z"
      },
      {
        "duration": 8,
        "start_time": "2023-05-05T06:59:56.492Z"
      },
      {
        "duration": 8,
        "start_time": "2023-05-05T06:59:56.503Z"
      },
      {
        "duration": 764,
        "start_time": "2023-05-05T06:59:56.513Z"
      },
      {
        "duration": 4,
        "start_time": "2023-05-05T06:59:57.279Z"
      },
      {
        "duration": 23,
        "start_time": "2023-05-05T06:59:57.285Z"
      },
      {
        "duration": 7,
        "start_time": "2023-05-05T06:59:57.311Z"
      },
      {
        "duration": 3,
        "start_time": "2023-05-05T06:59:57.322Z"
      },
      {
        "duration": 13,
        "start_time": "2023-05-05T06:59:57.326Z"
      },
      {
        "duration": 18,
        "start_time": "2023-05-05T06:59:57.342Z"
      },
      {
        "duration": 19,
        "start_time": "2023-05-05T06:59:57.362Z"
      },
      {
        "duration": 12,
        "start_time": "2023-05-05T06:59:57.391Z"
      },
      {
        "duration": 199,
        "start_time": "2023-05-05T06:59:57.405Z"
      },
      {
        "duration": 0,
        "start_time": "2023-05-05T06:59:57.607Z"
      },
      {
        "duration": 0,
        "start_time": "2023-05-05T06:59:57.609Z"
      },
      {
        "duration": 0,
        "start_time": "2023-05-05T06:59:57.611Z"
      },
      {
        "duration": 0,
        "start_time": "2023-05-05T06:59:57.612Z"
      },
      {
        "duration": 0,
        "start_time": "2023-05-05T06:59:57.613Z"
      },
      {
        "duration": 0,
        "start_time": "2023-05-05T06:59:57.615Z"
      },
      {
        "duration": 0,
        "start_time": "2023-05-05T06:59:57.616Z"
      },
      {
        "duration": 0,
        "start_time": "2023-05-05T06:59:57.618Z"
      },
      {
        "duration": 0,
        "start_time": "2023-05-05T06:59:57.620Z"
      },
      {
        "duration": 0,
        "start_time": "2023-05-05T06:59:57.621Z"
      },
      {
        "duration": 0,
        "start_time": "2023-05-05T06:59:57.623Z"
      },
      {
        "duration": 0,
        "start_time": "2023-05-05T06:59:57.624Z"
      },
      {
        "duration": 0,
        "start_time": "2023-05-05T06:59:57.626Z"
      },
      {
        "duration": 0,
        "start_time": "2023-05-05T06:59:57.628Z"
      },
      {
        "duration": 0,
        "start_time": "2023-05-05T06:59:57.630Z"
      },
      {
        "duration": 0,
        "start_time": "2023-05-05T06:59:57.632Z"
      },
      {
        "duration": 0,
        "start_time": "2023-05-05T06:59:57.633Z"
      },
      {
        "duration": 0,
        "start_time": "2023-05-05T06:59:57.634Z"
      },
      {
        "duration": 0,
        "start_time": "2023-05-05T06:59:57.635Z"
      },
      {
        "duration": 0,
        "start_time": "2023-05-05T06:59:57.637Z"
      },
      {
        "duration": 0,
        "start_time": "2023-05-05T06:59:57.638Z"
      },
      {
        "duration": 0,
        "start_time": "2023-05-05T06:59:57.639Z"
      },
      {
        "duration": 0,
        "start_time": "2023-05-05T06:59:57.640Z"
      },
      {
        "duration": 0,
        "start_time": "2023-05-05T06:59:57.642Z"
      },
      {
        "duration": 0,
        "start_time": "2023-05-05T06:59:57.643Z"
      },
      {
        "duration": 0,
        "start_time": "2023-05-05T06:59:57.644Z"
      },
      {
        "duration": 0,
        "start_time": "2023-05-05T06:59:57.645Z"
      },
      {
        "duration": 0,
        "start_time": "2023-05-05T06:59:57.694Z"
      },
      {
        "duration": 0,
        "start_time": "2023-05-05T06:59:57.697Z"
      },
      {
        "duration": 0,
        "start_time": "2023-05-05T06:59:57.699Z"
      },
      {
        "duration": 0,
        "start_time": "2023-05-05T06:59:57.701Z"
      },
      {
        "duration": 6,
        "start_time": "2023-05-05T07:00:17.988Z"
      },
      {
        "duration": 9,
        "start_time": "2023-05-05T07:00:21.186Z"
      },
      {
        "duration": 236,
        "start_time": "2023-05-05T07:00:21.346Z"
      },
      {
        "duration": 18,
        "start_time": "2023-05-05T07:00:21.585Z"
      },
      {
        "duration": 73,
        "start_time": "2023-05-05T07:00:23.467Z"
      },
      {
        "duration": 55,
        "start_time": "2023-05-05T07:00:26.906Z"
      },
      {
        "duration": 12,
        "start_time": "2023-05-05T07:00:40.194Z"
      },
      {
        "duration": 10,
        "start_time": "2023-05-05T07:00:45.692Z"
      },
      {
        "duration": 722,
        "start_time": "2023-05-05T07:00:49.296Z"
      },
      {
        "duration": 4,
        "start_time": "2023-05-05T07:01:25.115Z"
      },
      {
        "duration": 6,
        "start_time": "2023-05-05T07:01:25.306Z"
      },
      {
        "duration": 740192,
        "start_time": "2023-05-05T07:01:27.515Z"
      },
      {
        "duration": 119,
        "start_time": "2023-05-05T07:13:47.709Z"
      },
      {
        "duration": 0,
        "start_time": "2023-05-05T07:13:47.830Z"
      },
      {
        "duration": 0,
        "start_time": "2023-05-05T07:13:47.832Z"
      },
      {
        "duration": 5,
        "start_time": "2023-05-05T07:16:15.876Z"
      },
      {
        "duration": 124,
        "start_time": "2023-05-05T07:16:16.339Z"
      },
      {
        "duration": 4,
        "start_time": "2023-05-05T07:18:38.620Z"
      },
      {
        "duration": 4,
        "start_time": "2023-05-05T07:18:38.970Z"
      },
      {
        "duration": 11,
        "start_time": "2023-05-05T07:18:39.273Z"
      },
      {
        "duration": 27,
        "start_time": "2023-05-05T07:18:39.889Z"
      },
      {
        "duration": 5,
        "start_time": "2023-05-05T07:19:11.066Z"
      },
      {
        "duration": 6,
        "start_time": "2023-05-05T07:19:13.258Z"
      },
      {
        "duration": 6,
        "start_time": "2023-05-05T07:19:15.377Z"
      },
      {
        "duration": 34,
        "start_time": "2023-05-05T07:19:24.185Z"
      },
      {
        "duration": 22,
        "start_time": "2023-05-05T07:19:25.115Z"
      },
      {
        "duration": 297,
        "start_time": "2023-05-05T07:19:25.513Z"
      },
      {
        "duration": 3,
        "start_time": "2023-05-05T07:19:25.979Z"
      },
      {
        "duration": 900,
        "start_time": "2023-05-05T07:19:27.199Z"
      },
      {
        "duration": 4,
        "start_time": "2023-05-05T07:20:47.066Z"
      },
      {
        "duration": 977018,
        "start_time": "2023-05-05T07:20:47.211Z"
      },
      {
        "duration": 5,
        "start_time": "2023-05-05T07:37:04.231Z"
      },
      {
        "duration": 9,
        "start_time": "2023-05-05T07:37:04.237Z"
      },
      {
        "duration": 9,
        "start_time": "2023-05-05T07:37:04.248Z"
      },
      {
        "duration": 61242,
        "start_time": "2023-05-05T07:37:04.259Z"
      },
      {
        "duration": 4,
        "start_time": "2023-05-05T07:38:05.503Z"
      },
      {
        "duration": 6,
        "start_time": "2023-05-05T07:38:05.509Z"
      },
      {
        "duration": 31,
        "start_time": "2023-05-05T07:38:05.517Z"
      },
      {
        "duration": 2553,
        "start_time": "2023-05-05T07:38:05.550Z"
      },
      {
        "duration": 10,
        "start_time": "2023-05-05T07:38:08.191Z"
      },
      {
        "duration": 103,
        "start_time": "2023-05-05T07:38:08.206Z"
      },
      {
        "duration": 38,
        "start_time": "2023-05-05T07:38:08.311Z"
      },
      {
        "duration": 171,
        "start_time": "2023-05-05T07:40:00.673Z"
      },
      {
        "duration": 14723,
        "start_time": "2023-05-05T07:40:16.200Z"
      },
      {
        "duration": 228,
        "start_time": "2023-05-05T07:44:57.105Z"
      },
      {
        "duration": 90,
        "start_time": "2023-05-05T07:45:12.871Z"
      },
      {
        "duration": 270,
        "start_time": "2023-05-05T07:46:26.509Z"
      },
      {
        "duration": 1876,
        "start_time": "2023-05-05T07:46:50.710Z"
      },
      {
        "duration": 8,
        "start_time": "2023-05-05T07:46:52.588Z"
      },
      {
        "duration": 58,
        "start_time": "2023-05-05T07:46:52.599Z"
      },
      {
        "duration": 14,
        "start_time": "2023-05-05T07:46:52.659Z"
      },
      {
        "duration": 8,
        "start_time": "2023-05-05T07:46:52.677Z"
      },
      {
        "duration": 27,
        "start_time": "2023-05-05T07:46:52.687Z"
      },
      {
        "duration": 53,
        "start_time": "2023-05-05T07:46:52.717Z"
      },
      {
        "duration": 17,
        "start_time": "2023-05-05T07:46:52.795Z"
      },
      {
        "duration": 8,
        "start_time": "2023-05-05T07:46:52.815Z"
      },
      {
        "duration": 9,
        "start_time": "2023-05-05T07:46:52.825Z"
      },
      {
        "duration": 13,
        "start_time": "2023-05-05T07:46:52.836Z"
      },
      {
        "duration": 11,
        "start_time": "2023-05-05T07:46:52.851Z"
      },
      {
        "duration": 12,
        "start_time": "2023-05-05T07:46:52.864Z"
      },
      {
        "duration": 15,
        "start_time": "2023-05-05T07:46:52.894Z"
      },
      {
        "duration": 830,
        "start_time": "2023-05-05T07:46:52.911Z"
      },
      {
        "duration": 5,
        "start_time": "2023-05-05T07:46:53.743Z"
      },
      {
        "duration": 20,
        "start_time": "2023-05-05T07:46:53.751Z"
      },
      {
        "duration": 36,
        "start_time": "2023-05-05T07:46:53.774Z"
      },
      {
        "duration": 7,
        "start_time": "2023-05-05T07:46:53.812Z"
      },
      {
        "duration": 16,
        "start_time": "2023-05-05T07:46:53.821Z"
      },
      {
        "duration": 20,
        "start_time": "2023-05-05T07:46:53.839Z"
      },
      {
        "duration": 8,
        "start_time": "2023-05-05T07:46:53.861Z"
      },
      {
        "duration": 27,
        "start_time": "2023-05-05T07:46:53.871Z"
      },
      {
        "duration": 244,
        "start_time": "2023-05-05T07:46:53.904Z"
      },
      {
        "duration": 9,
        "start_time": "2023-05-05T07:46:54.150Z"
      },
      {
        "duration": 754,
        "start_time": "2023-05-05T07:46:54.162Z"
      },
      {
        "duration": 4,
        "start_time": "2023-05-05T07:46:54.918Z"
      },
      {
        "duration": 37,
        "start_time": "2023-05-05T07:46:54.923Z"
      },
      {
        "duration": 884834,
        "start_time": "2023-05-05T07:46:54.962Z"
      },
      {
        "duration": 13,
        "start_time": "2023-05-05T08:01:39.798Z"
      },
      {
        "duration": 205,
        "start_time": "2023-05-05T08:01:39.812Z"
      },
      {
        "duration": 3,
        "start_time": "2023-05-05T08:01:40.019Z"
      },
      {
        "duration": 12,
        "start_time": "2023-05-05T08:01:40.023Z"
      },
      {
        "duration": 5,
        "start_time": "2023-05-05T08:01:40.037Z"
      },
      {
        "duration": 21,
        "start_time": "2023-05-05T08:01:40.044Z"
      },
      {
        "duration": 34,
        "start_time": "2023-05-05T08:01:40.067Z"
      },
      {
        "duration": 19,
        "start_time": "2023-05-05T08:01:40.109Z"
      },
      {
        "duration": 13,
        "start_time": "2023-05-05T08:01:40.194Z"
      },
      {
        "duration": 1090,
        "start_time": "2023-05-05T08:01:40.210Z"
      },
      {
        "duration": 7,
        "start_time": "2023-05-05T08:01:41.302Z"
      },
      {
        "duration": 2088845,
        "start_time": "2023-05-05T08:01:41.314Z"
      },
      {
        "duration": 5,
        "start_time": "2023-05-05T08:36:30.161Z"
      },
      {
        "duration": 47,
        "start_time": "2023-05-05T08:36:30.168Z"
      },
      {
        "duration": 46,
        "start_time": "2023-05-05T08:36:30.217Z"
      },
      {
        "duration": 69957,
        "start_time": "2023-05-05T08:36:30.266Z"
      },
      {
        "duration": 5,
        "start_time": "2023-05-05T08:37:40.225Z"
      },
      {
        "duration": 17,
        "start_time": "2023-05-05T08:37:40.231Z"
      },
      {
        "duration": 18,
        "start_time": "2023-05-05T08:37:40.250Z"
      },
      {
        "duration": 3440,
        "start_time": "2023-05-05T08:37:40.270Z"
      },
      {
        "duration": 79,
        "start_time": "2023-05-05T08:37:43.714Z"
      },
      {
        "duration": 18,
        "start_time": "2023-05-05T08:37:43.796Z"
      },
      {
        "duration": 9,
        "start_time": "2023-05-05T08:37:43.816Z"
      },
      {
        "duration": 185,
        "start_time": "2023-05-05T08:37:43.828Z"
      },
      {
        "duration": 18241,
        "start_time": "2023-05-05T08:37:44.015Z"
      },
      {
        "duration": 249,
        "start_time": "2023-05-05T08:38:02.258Z"
      },
      {
        "duration": 1911,
        "start_time": "2023-05-05T09:39:15.402Z"
      },
      {
        "duration": 3,
        "start_time": "2023-05-05T09:39:17.316Z"
      },
      {
        "duration": 59,
        "start_time": "2023-05-05T09:39:17.320Z"
      },
      {
        "duration": 24,
        "start_time": "2023-05-05T09:39:17.381Z"
      },
      {
        "duration": 13,
        "start_time": "2023-05-05T09:39:17.408Z"
      },
      {
        "duration": 39,
        "start_time": "2023-05-05T09:39:17.422Z"
      },
      {
        "duration": 92,
        "start_time": "2023-05-05T09:39:17.464Z"
      },
      {
        "duration": 10,
        "start_time": "2023-05-05T09:39:17.558Z"
      },
      {
        "duration": 41,
        "start_time": "2023-05-05T09:39:17.570Z"
      },
      {
        "duration": 28,
        "start_time": "2023-05-05T09:39:17.613Z"
      },
      {
        "duration": 32,
        "start_time": "2023-05-05T09:39:17.643Z"
      },
      {
        "duration": 36,
        "start_time": "2023-05-05T09:39:17.677Z"
      },
      {
        "duration": 30,
        "start_time": "2023-05-05T09:39:17.715Z"
      },
      {
        "duration": 33,
        "start_time": "2023-05-05T09:39:17.749Z"
      },
      {
        "duration": 765,
        "start_time": "2023-05-05T09:39:17.784Z"
      },
      {
        "duration": 5,
        "start_time": "2023-05-05T09:39:18.551Z"
      },
      {
        "duration": 57,
        "start_time": "2023-05-05T09:39:18.558Z"
      },
      {
        "duration": 49,
        "start_time": "2023-05-05T09:39:18.617Z"
      },
      {
        "duration": 37,
        "start_time": "2023-05-05T09:39:18.668Z"
      },
      {
        "duration": 41,
        "start_time": "2023-05-05T09:39:18.708Z"
      },
      {
        "duration": 34,
        "start_time": "2023-05-05T09:39:18.751Z"
      },
      {
        "duration": 45,
        "start_time": "2023-05-05T09:39:18.787Z"
      },
      {
        "duration": 52,
        "start_time": "2023-05-05T09:39:18.834Z"
      },
      {
        "duration": 253,
        "start_time": "2023-05-05T09:39:18.887Z"
      },
      {
        "duration": 9,
        "start_time": "2023-05-05T09:39:19.142Z"
      },
      {
        "duration": 670,
        "start_time": "2023-05-05T09:39:19.153Z"
      },
      {
        "duration": 3,
        "start_time": "2023-05-05T09:39:19.825Z"
      },
      {
        "duration": 73,
        "start_time": "2023-05-05T09:39:19.830Z"
      },
      {
        "duration": 997514,
        "start_time": "2023-05-05T09:39:19.906Z"
      },
      {
        "duration": 67,
        "start_time": "2023-05-05T09:55:57.427Z"
      },
      {
        "duration": 173,
        "start_time": "2023-05-05T09:55:57.496Z"
      },
      {
        "duration": 3,
        "start_time": "2023-05-05T09:55:57.672Z"
      },
      {
        "duration": 5,
        "start_time": "2023-05-05T09:55:57.677Z"
      },
      {
        "duration": 6,
        "start_time": "2023-05-05T09:55:57.696Z"
      },
      {
        "duration": 29,
        "start_time": "2023-05-05T09:55:57.704Z"
      },
      {
        "duration": 19,
        "start_time": "2023-05-05T09:55:57.735Z"
      },
      {
        "duration": 186,
        "start_time": "2023-05-05T09:55:57.757Z"
      },
      {
        "duration": 5,
        "start_time": "2023-05-05T09:55:57.993Z"
      },
      {
        "duration": 1214,
        "start_time": "2023-05-05T09:55:58.003Z"
      },
      {
        "duration": 10,
        "start_time": "2023-05-05T09:55:59.224Z"
      },
      {
        "duration": 711046,
        "start_time": "2023-05-05T09:55:59.240Z"
      },
      {
        "duration": 5,
        "start_time": "2023-05-05T10:07:50.287Z"
      },
      {
        "duration": 12,
        "start_time": "2023-05-05T10:07:50.295Z"
      },
      {
        "duration": 8,
        "start_time": "2023-05-05T10:07:50.312Z"
      },
      {
        "duration": 65044,
        "start_time": "2023-05-05T10:07:50.327Z"
      },
      {
        "duration": 4,
        "start_time": "2023-05-05T10:08:55.373Z"
      },
      {
        "duration": 20,
        "start_time": "2023-05-05T10:08:55.379Z"
      },
      {
        "duration": 8,
        "start_time": "2023-05-05T10:08:55.403Z"
      },
      {
        "duration": 6602,
        "start_time": "2023-05-05T10:08:55.413Z"
      },
      {
        "duration": 77,
        "start_time": "2023-05-05T10:09:02.017Z"
      },
      {
        "duration": 14,
        "start_time": "2023-05-05T10:09:02.101Z"
      },
      {
        "duration": 11,
        "start_time": "2023-05-05T10:09:02.121Z"
      },
      {
        "duration": 205,
        "start_time": "2023-05-05T10:09:02.134Z"
      },
      {
        "duration": 16521,
        "start_time": "2023-05-05T10:09:02.341Z"
      },
      {
        "duration": 250,
        "start_time": "2023-05-05T10:09:18.863Z"
      },
      {
        "duration": 2441,
        "start_time": "2023-05-11T08:21:00.009Z"
      },
      {
        "duration": 32396,
        "start_time": "2023-05-11T08:21:08.496Z"
      },
      {
        "duration": 280,
        "start_time": "2023-05-11T08:21:40.894Z"
      },
      {
        "duration": 3,
        "start_time": "2023-05-11T08:23:57.430Z"
      },
      {
        "duration": 130,
        "start_time": "2023-05-11T08:23:57.789Z"
      },
      {
        "duration": 9,
        "start_time": "2023-05-11T08:23:57.957Z"
      },
      {
        "duration": 3,
        "start_time": "2023-05-11T08:23:58.589Z"
      },
      {
        "duration": 8,
        "start_time": "2023-05-11T08:23:58.757Z"
      },
      {
        "duration": 41,
        "start_time": "2023-05-11T08:23:58.909Z"
      },
      {
        "duration": 10,
        "start_time": "2023-05-11T08:23:59.237Z"
      },
      {
        "duration": 6,
        "start_time": "2023-05-11T08:23:59.741Z"
      },
      {
        "duration": 3,
        "start_time": "2023-05-11T08:24:00.278Z"
      },
      {
        "duration": 7,
        "start_time": "2023-05-11T08:24:01.148Z"
      },
      {
        "duration": 7,
        "start_time": "2023-05-11T08:24:01.940Z"
      },
      {
        "duration": 7,
        "start_time": "2023-05-11T08:24:02.637Z"
      },
      {
        "duration": 4,
        "start_time": "2023-05-11T08:24:03.068Z"
      },
      {
        "duration": 868,
        "start_time": "2023-05-11T08:24:03.991Z"
      },
      {
        "duration": 4,
        "start_time": "2023-05-11T08:24:06.973Z"
      },
      {
        "duration": 14,
        "start_time": "2023-05-11T08:24:08.453Z"
      },
      {
        "duration": 5,
        "start_time": "2023-05-11T08:24:08.677Z"
      },
      {
        "duration": 3,
        "start_time": "2023-05-11T08:24:08.893Z"
      },
      {
        "duration": 3,
        "start_time": "2023-05-11T08:24:09.108Z"
      },
      {
        "duration": 11,
        "start_time": "2023-05-11T08:24:09.573Z"
      },
      {
        "duration": 6,
        "start_time": "2023-05-11T08:24:10.029Z"
      },
      {
        "duration": 6,
        "start_time": "2023-05-11T08:24:13.853Z"
      },
      {
        "duration": 216,
        "start_time": "2023-05-11T08:24:15.437Z"
      },
      {
        "duration": 9,
        "start_time": "2023-05-11T08:24:18.748Z"
      },
      {
        "duration": 578,
        "start_time": "2023-05-11T08:24:21.820Z"
      },
      {
        "duration": 7,
        "start_time": "2023-05-11T08:24:46.349Z"
      },
      {
        "duration": 22,
        "start_time": "2023-05-11T08:24:54.673Z"
      },
      {
        "duration": 11,
        "start_time": "2023-05-11T08:24:56.964Z"
      },
      {
        "duration": 3,
        "start_time": "2023-05-11T08:26:01.212Z"
      },
      {
        "duration": 4,
        "start_time": "2023-05-11T08:26:03.403Z"
      },
      {
        "duration": 3,
        "start_time": "2023-05-11T08:26:10.564Z"
      },
      {
        "duration": 4,
        "start_time": "2023-05-11T08:26:12.316Z"
      },
      {
        "duration": 3,
        "start_time": "2023-05-11T08:27:22.628Z"
      },
      {
        "duration": 4,
        "start_time": "2023-05-11T08:27:24.816Z"
      },
      {
        "duration": 11,
        "start_time": "2023-05-11T08:27:28.954Z"
      },
      {
        "duration": 5,
        "start_time": "2023-05-11T08:27:40.821Z"
      },
      {
        "duration": 2,
        "start_time": "2023-05-11T08:27:43.923Z"
      },
      {
        "duration": 5,
        "start_time": "2023-05-11T08:27:44.139Z"
      },
      {
        "duration": 837503,
        "start_time": "2023-05-11T08:27:55.099Z"
      },
      {
        "duration": 10,
        "start_time": "2023-05-11T08:44:16.212Z"
      },
      {
        "duration": 104,
        "start_time": "2023-05-11T08:44:16.707Z"
      },
      {
        "duration": 2,
        "start_time": "2023-05-11T08:44:24.860Z"
      },
      {
        "duration": 4,
        "start_time": "2023-05-11T08:44:25.240Z"
      },
      {
        "duration": 3,
        "start_time": "2023-05-11T08:44:26.308Z"
      },
      {
        "duration": 5,
        "start_time": "2023-05-11T08:44:26.634Z"
      },
      {
        "duration": 10,
        "start_time": "2023-05-11T08:44:27.106Z"
      },
      {
        "duration": 70,
        "start_time": "2023-05-11T08:44:27.724Z"
      },
      {
        "duration": 3,
        "start_time": "2023-05-11T08:44:28.276Z"
      },
      {
        "duration": 379,
        "start_time": "2023-05-11T08:44:28.611Z"
      },
      {
        "duration": 4,
        "start_time": "2023-05-11T08:44:36.698Z"
      },
      {
        "duration": 9475,
        "start_time": "2023-05-11T08:44:37.019Z"
      },
      {
        "duration": 4,
        "start_time": "2023-05-11T08:44:58.640Z"
      },
      {
        "duration": 10,
        "start_time": "2023-05-11T08:49:08.980Z"
      },
      {
        "duration": 0,
        "start_time": "2023-05-11T08:49:08.992Z"
      },
      {
        "duration": 0,
        "start_time": "2023-05-11T08:49:08.993Z"
      },
      {
        "duration": 0,
        "start_time": "2023-05-11T08:49:08.994Z"
      },
      {
        "duration": 1,
        "start_time": "2023-05-11T08:49:08.995Z"
      },
      {
        "duration": 0,
        "start_time": "2023-05-11T08:49:08.996Z"
      },
      {
        "duration": 0,
        "start_time": "2023-05-11T08:49:08.998Z"
      },
      {
        "duration": 0,
        "start_time": "2023-05-11T08:49:08.998Z"
      },
      {
        "duration": 0,
        "start_time": "2023-05-11T08:49:09.000Z"
      },
      {
        "duration": 0,
        "start_time": "2023-05-11T08:49:09.002Z"
      },
      {
        "duration": 0,
        "start_time": "2023-05-11T08:49:09.003Z"
      },
      {
        "duration": 0,
        "start_time": "2023-05-11T08:49:09.004Z"
      },
      {
        "duration": 3,
        "start_time": "2023-05-11T08:49:14.226Z"
      },
      {
        "duration": 3,
        "start_time": "2023-05-11T08:49:14.628Z"
      },
      {
        "duration": 13290,
        "start_time": "2023-05-11T08:49:15.082Z"
      },
      {
        "duration": 10,
        "start_time": "2023-05-11T08:49:28.374Z"
      },
      {
        "duration": 3,
        "start_time": "2023-05-11T08:49:41.649Z"
      },
      {
        "duration": 3,
        "start_time": "2023-05-11T08:49:41.824Z"
      },
      {
        "duration": 2414,
        "start_time": "2023-05-11T08:49:41.983Z"
      },
      {
        "duration": 5,
        "start_time": "2023-05-11T08:49:44.398Z"
      },
      {
        "duration": 10,
        "start_time": "2023-05-11T08:49:46.671Z"
      },
      {
        "duration": 8353,
        "start_time": "2023-05-11T08:49:53.248Z"
      },
      {
        "duration": 5,
        "start_time": "2023-05-11T08:53:38.967Z"
      },
      {
        "duration": 29666,
        "start_time": "2023-05-11T08:54:39.888Z"
      },
      {
        "duration": 3603,
        "start_time": "2023-05-11T08:55:09.556Z"
      },
      {
        "duration": 2,
        "start_time": "2023-05-11T08:55:13.161Z"
      },
      {
        "duration": 48,
        "start_time": "2023-05-11T08:55:13.164Z"
      },
      {
        "duration": 11,
        "start_time": "2023-05-11T08:55:13.213Z"
      },
      {
        "duration": 10,
        "start_time": "2023-05-11T08:55:13.225Z"
      },
      {
        "duration": 19,
        "start_time": "2023-05-11T08:55:13.236Z"
      },
      {
        "duration": 38,
        "start_time": "2023-05-11T08:55:13.256Z"
      },
      {
        "duration": 8,
        "start_time": "2023-05-11T08:55:13.295Z"
      },
      {
        "duration": 9,
        "start_time": "2023-05-11T08:55:13.305Z"
      },
      {
        "duration": 7,
        "start_time": "2023-05-11T08:55:13.315Z"
      },
      {
        "duration": 13,
        "start_time": "2023-05-11T08:55:13.323Z"
      },
      {
        "duration": 12,
        "start_time": "2023-05-11T08:55:13.337Z"
      },
      {
        "duration": 10,
        "start_time": "2023-05-11T08:55:13.350Z"
      },
      {
        "duration": 7,
        "start_time": "2023-05-11T08:55:13.362Z"
      },
      {
        "duration": 686,
        "start_time": "2023-05-11T08:55:13.385Z"
      },
      {
        "duration": 4,
        "start_time": "2023-05-11T08:55:14.073Z"
      },
      {
        "duration": 26,
        "start_time": "2023-05-11T08:55:14.079Z"
      },
      {
        "duration": 6,
        "start_time": "2023-05-11T08:55:14.107Z"
      },
      {
        "duration": 7,
        "start_time": "2023-05-11T08:55:14.114Z"
      },
      {
        "duration": 6,
        "start_time": "2023-05-11T08:55:14.122Z"
      },
      {
        "duration": 15,
        "start_time": "2023-05-11T08:55:14.129Z"
      },
      {
        "duration": 8,
        "start_time": "2023-05-11T08:55:14.145Z"
      },
      {
        "duration": 13,
        "start_time": "2023-05-11T08:55:14.154Z"
      },
      {
        "duration": 218,
        "start_time": "2023-05-11T08:55:14.168Z"
      },
      {
        "duration": 9,
        "start_time": "2023-05-11T08:55:14.391Z"
      },
      {
        "duration": 564,
        "start_time": "2023-05-11T08:55:14.401Z"
      },
      {
        "duration": 3,
        "start_time": "2023-05-11T08:55:14.968Z"
      },
      {
        "duration": 18,
        "start_time": "2023-05-11T08:55:14.973Z"
      },
      {
        "duration": 7,
        "start_time": "2023-05-11T08:55:14.993Z"
      },
      {
        "duration": 6,
        "start_time": "2023-05-11T08:55:15.002Z"
      },
      {
        "duration": 30,
        "start_time": "2023-05-11T08:55:15.009Z"
      },
      {
        "duration": 144,
        "start_time": "2023-05-11T08:55:15.041Z"
      },
      {
        "duration": 0,
        "start_time": "2023-05-11T08:55:15.187Z"
      },
      {
        "duration": 0,
        "start_time": "2023-05-11T08:55:15.188Z"
      },
      {
        "duration": 0,
        "start_time": "2023-05-11T08:55:15.189Z"
      },
      {
        "duration": 0,
        "start_time": "2023-05-11T08:55:15.191Z"
      },
      {
        "duration": 0,
        "start_time": "2023-05-11T08:55:15.192Z"
      },
      {
        "duration": 0,
        "start_time": "2023-05-11T08:55:15.195Z"
      },
      {
        "duration": 0,
        "start_time": "2023-05-11T08:55:15.196Z"
      },
      {
        "duration": 0,
        "start_time": "2023-05-11T08:55:15.197Z"
      },
      {
        "duration": 0,
        "start_time": "2023-05-11T08:55:15.199Z"
      },
      {
        "duration": 0,
        "start_time": "2023-05-11T08:55:15.200Z"
      },
      {
        "duration": 0,
        "start_time": "2023-05-11T08:55:15.201Z"
      },
      {
        "duration": 0,
        "start_time": "2023-05-11T08:55:15.202Z"
      },
      {
        "duration": 0,
        "start_time": "2023-05-11T08:55:15.203Z"
      },
      {
        "duration": 0,
        "start_time": "2023-05-11T08:55:15.205Z"
      },
      {
        "duration": 0,
        "start_time": "2023-05-11T08:55:15.206Z"
      },
      {
        "duration": 0,
        "start_time": "2023-05-11T08:55:15.207Z"
      },
      {
        "duration": 0,
        "start_time": "2023-05-11T08:55:15.209Z"
      },
      {
        "duration": 0,
        "start_time": "2023-05-11T08:55:15.210Z"
      },
      {
        "duration": 0,
        "start_time": "2023-05-11T08:55:15.211Z"
      },
      {
        "duration": 0,
        "start_time": "2023-05-11T08:55:15.212Z"
      },
      {
        "duration": 1,
        "start_time": "2023-05-11T08:55:15.213Z"
      },
      {
        "duration": 0,
        "start_time": "2023-05-11T08:55:15.215Z"
      },
      {
        "duration": 0,
        "start_time": "2023-05-11T08:55:15.216Z"
      },
      {
        "duration": 0,
        "start_time": "2023-05-11T08:55:15.217Z"
      },
      {
        "duration": 0,
        "start_time": "2023-05-11T08:55:15.219Z"
      },
      {
        "duration": 0,
        "start_time": "2023-05-11T08:55:15.220Z"
      },
      {
        "duration": 0,
        "start_time": "2023-05-11T08:55:15.221Z"
      },
      {
        "duration": 0,
        "start_time": "2023-05-11T08:55:15.222Z"
      },
      {
        "duration": 12,
        "start_time": "2023-05-11T08:55:49.256Z"
      },
      {
        "duration": 2,
        "start_time": "2023-05-11T08:55:50.677Z"
      },
      {
        "duration": 2,
        "start_time": "2023-05-11T08:55:51.541Z"
      },
      {
        "duration": 2,
        "start_time": "2023-05-11T08:55:51.831Z"
      },
      {
        "duration": 2,
        "start_time": "2023-05-11T08:55:52.277Z"
      },
      {
        "duration": 2,
        "start_time": "2023-05-11T08:55:52.465Z"
      },
      {
        "duration": 2,
        "start_time": "2023-05-11T08:55:52.637Z"
      },
      {
        "duration": 2,
        "start_time": "2023-05-11T08:55:52.849Z"
      },
      {
        "duration": 4,
        "start_time": "2023-05-11T08:55:53.221Z"
      },
      {
        "duration": 15,
        "start_time": "2023-05-11T08:55:53.983Z"
      },
      {
        "duration": 7,
        "start_time": "2023-05-11T08:55:58.050Z"
      },
      {
        "duration": 8,
        "start_time": "2023-05-11T08:56:00.953Z"
      },
      {
        "duration": 13,
        "start_time": "2023-05-11T08:56:03.264Z"
      },
      {
        "duration": 4,
        "start_time": "2023-05-11T08:56:07.741Z"
      },
      {
        "duration": 18,
        "start_time": "2023-05-11T08:56:07.935Z"
      },
      {
        "duration": 3,
        "start_time": "2023-05-11T08:56:09.562Z"
      },
      {
        "duration": 112559,
        "start_time": "2023-05-11T08:56:09.749Z"
      },
      {
        "duration": 4,
        "start_time": "2023-05-11T08:58:02.309Z"
      },
      {
        "duration": 26,
        "start_time": "2023-05-11T08:58:02.315Z"
      },
      {
        "duration": 50,
        "start_time": "2023-05-11T08:58:02.344Z"
      },
      {
        "duration": 3519,
        "start_time": "2023-05-11T08:58:02.395Z"
      },
      {
        "duration": 4,
        "start_time": "2023-05-11T08:58:05.916Z"
      },
      {
        "duration": 13,
        "start_time": "2023-05-11T08:58:05.921Z"
      },
      {
        "duration": 6,
        "start_time": "2023-05-11T08:58:05.936Z"
      },
      {
        "duration": 62,
        "start_time": "2023-05-11T08:58:05.943Z"
      },
      {
        "duration": 4,
        "start_time": "2023-05-11T08:58:06.008Z"
      },
      {
        "duration": 13,
        "start_time": "2023-05-11T08:58:06.014Z"
      },
      {
        "duration": 15,
        "start_time": "2023-05-11T08:58:06.029Z"
      },
      {
        "duration": 129,
        "start_time": "2023-05-11T08:58:06.045Z"
      },
      {
        "duration": 3537,
        "start_time": "2023-05-11T08:58:06.175Z"
      },
      {
        "duration": 306,
        "start_time": "2023-05-11T08:58:09.714Z"
      },
      {
        "duration": 3535,
        "start_time": "2023-05-11T09:02:59.733Z"
      },
      {
        "duration": 894263,
        "start_time": "2023-05-11T09:08:05.833Z"
      },
      {
        "duration": 88,
        "start_time": "2023-05-11T09:23:00.099Z"
      },
      {
        "duration": 137,
        "start_time": "2023-05-11T09:23:00.189Z"
      },
      {
        "duration": 3,
        "start_time": "2023-05-11T09:23:04.218Z"
      },
      {
        "duration": 4,
        "start_time": "2023-05-11T09:23:04.494Z"
      },
      {
        "duration": 3,
        "start_time": "2023-05-11T09:23:06.472Z"
      },
      {
        "duration": 18,
        "start_time": "2023-05-11T09:23:06.937Z"
      },
      {
        "duration": 15,
        "start_time": "2023-05-11T09:23:12.774Z"
      },
      {
        "duration": 4,
        "start_time": "2023-05-11T09:28:09.878Z"
      },
      {
        "duration": 14,
        "start_time": "2023-05-11T09:28:15.007Z"
      },
      {
        "duration": 60,
        "start_time": "2023-05-11T09:28:17.330Z"
      },
      {
        "duration": 14,
        "start_time": "2023-05-11T09:28:17.891Z"
      },
      {
        "duration": 3,
        "start_time": "2023-05-11T09:28:18.250Z"
      },
      {
        "duration": 504,
        "start_time": "2023-05-11T09:28:18.694Z"
      },
      {
        "duration": 7,
        "start_time": "2023-05-11T09:28:47.183Z"
      }
    ],
    "kernelspec": {
      "display_name": "Python 3 (ipykernel)",
      "language": "python",
      "name": "python3"
    },
    "language_info": {
      "codemirror_mode": {
        "name": "ipython",
        "version": 3
      },
      "file_extension": ".py",
      "mimetype": "text/x-python",
      "name": "python",
      "nbconvert_exporter": "python",
      "pygments_lexer": "ipython3",
      "version": "3.9.5"
    },
    "toc": {
      "base_numbering": 1,
      "nav_menu": {},
      "number_sections": true,
      "sideBar": true,
      "skip_h1_title": true,
      "title_cell": "Содержание",
      "title_sidebar": "Contents",
      "toc_cell": true,
      "toc_position": {
        "height": "calc(100% - 180px)",
        "left": "10px",
        "top": "150px",
        "width": "278.195px"
      },
      "toc_section_display": true,
      "toc_window_display": true
    },
    "colab": {
      "provenance": []
    }
  },
  "nbformat": 4,
  "nbformat_minor": 0
}