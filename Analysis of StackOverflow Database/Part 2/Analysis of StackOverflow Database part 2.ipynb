{
  "cells": [
    {
      "cell_type": "markdown",
      "metadata": {
        "id": "sRW85nPMDWKb"
      },
      "source": [
        "\n",
        "\n",
        "Необходимые данные находятся в таблицах схемы `stackoverflow`. Не забудьте подключиться к базе с помощью SQLAlchemy. Вспомните инструкцию из урока 11 «Когортный анализ. Представление результатов» в теме 2 «Установка и настройка базы данных и клиента базы данных».. Пример кода для подключения к базе и выгрузки результатов вы найдёте и в этой тетрадке.\n",
        "\n",
        "Некоторые задания включают дополнительные вопросы — не пропустите их. На часть вопросов можно ответить текстом, а для некоторых понадобится визуализация. Помните, что результат запроса можно выгрузить в датафрейм.\n",
        "\n",
        "Чтобы ожидаемый результат было легче представить, мы добавили к каждому заданию небольшой фрагмент итоговой таблицы. В запросах вы можете использовать любые подходящие названия полей."
      ]
    },
    {
      "cell_type": "code",
      "execution_count": null,
      "metadata": {
        "id": "wFvU-pW3ajCx"
      },
      "outputs": [],
      "source": [
        "# !pip install pandas\n",
        "# !pip install matplotlib\n",
        "# !pip install sqlalchemy\n",
        "# !pip install seaborn"
      ]
    },
    {
      "cell_type": "code",
      "execution_count": null,
      "metadata": {
        "id": "nlZBlglMDWKe"
      },
      "outputs": [],
      "source": [
        "import pandas as pd\n",
        "import matplotlib.pyplot as plt\n",
        "from sqlalchemy import create_engine\n",
        "import seaborn as sns"
      ]
    },
    {
      "cell_type": "markdown",
      "metadata": {
        "id": "XnOE3n28DWKg"
      },
      "source": [
        "### Конфигурация для подключения к базе данных `data-analyst-advanced-sql`\n",
        "Эта база данных содержит схему `stackoverflow`, с которой вы будете работать в проекте"
      ]
    },
    {
      "cell_type": "code",
      "execution_count": null,
      "metadata": {
        "id": "6p-yGp7qDWKg"
      },
      "outputs": [],
      "source": [
        "db_config = {\n",
        "    'user': 'praktikum_student', # имя пользователя\n",
        "    'pwd': 'Sdf4$2;d-d30pp', # пароль\n",
        "    'host': 'rc1b-wcoijxj3yxfsf3fs.mdb.yandexcloud.net',\n",
        "    'port': 6432, # порт подключения\n",
        "    'db': 'data-analyst-advanced-sql' # название базы данных\n",
        "}\n",
        "\n",
        "connection_string = 'postgresql://{}:{}@{}:{}/{}'.format(\n",
        "    db_config['user'],\n",
        "    db_config['pwd'],\n",
        "    db_config['host'],\n",
        "    db_config['port'],\n",
        "    db_config['db'],\n",
        ")"
      ]
    },
    {
      "cell_type": "markdown",
      "metadata": {
        "id": "2Rg8ZpS0DWKh"
      },
      "source": [
        "Создание подключения"
      ]
    },
    {
      "cell_type": "code",
      "execution_count": null,
      "metadata": {
        "id": "DamCUTR6DWKi"
      },
      "outputs": [],
      "source": [
        "engine = create_engine(connection_string)"
      ]
    },
    {
      "cell_type": "markdown",
      "metadata": {
        "id": "bel8XeSlDWKj"
      },
      "source": [
        "Пример запроса к базе данных\n",
        "\n",
        "`sample_df` является pandas-датафреймом."
      ]
    },
    {
      "cell_type": "code",
      "execution_count": null,
      "metadata": {
        "id": "6Z_fw0yLDWKk"
      },
      "outputs": [],
      "source": [
        "query = '''\n",
        "SELECT *\n",
        "FROM stackoverflow.users\n",
        "LIMIT 10;\n",
        "'''\n",
        "\n",
        "sample_df = pd.read_sql_query(query, con=engine)"
      ]
    },
    {
      "cell_type": "code",
      "execution_count": null,
      "metadata": {
        "id": "ZpuZ290oDWKk",
        "outputId": "22785a0a-e2bc-4559-ec3c-4879c4b377eb"
      },
      "outputs": [
        {
          "data": {
            "text/html": [
              "<div>\n",
              "<style scoped>\n",
              "    .dataframe tbody tr th:only-of-type {\n",
              "        vertical-align: middle;\n",
              "    }\n",
              "\n",
              "    .dataframe tbody tr th {\n",
              "        vertical-align: top;\n",
              "    }\n",
              "\n",
              "    .dataframe thead th {\n",
              "        text-align: right;\n",
              "    }\n",
              "</style>\n",
              "<table border=\"1\" class=\"dataframe\">\n",
              "  <thead>\n",
              "    <tr style=\"text-align: right;\">\n",
              "      <th></th>\n",
              "      <th>id</th>\n",
              "      <th>creation_date</th>\n",
              "      <th>display_name</th>\n",
              "      <th>last_access_date</th>\n",
              "      <th>location</th>\n",
              "      <th>reputation</th>\n",
              "      <th>views</th>\n",
              "    </tr>\n",
              "  </thead>\n",
              "  <tbody>\n",
              "    <tr>\n",
              "      <th>0</th>\n",
              "      <td>1</td>\n",
              "      <td>2008-07-31 14:22:31</td>\n",
              "      <td>Jeff Atwood</td>\n",
              "      <td>2018-08-29 02:34:23</td>\n",
              "      <td>El Cerrito, CA</td>\n",
              "      <td>44300</td>\n",
              "      <td>408587</td>\n",
              "    </tr>\n",
              "    <tr>\n",
              "      <th>1</th>\n",
              "      <td>2</td>\n",
              "      <td>2008-07-31 14:22:31</td>\n",
              "      <td>Geoff Dalgas</td>\n",
              "      <td>2018-08-23 17:31:56</td>\n",
              "      <td>Corvallis, OR</td>\n",
              "      <td>3491</td>\n",
              "      <td>23966</td>\n",
              "    </tr>\n",
              "    <tr>\n",
              "      <th>2</th>\n",
              "      <td>3</td>\n",
              "      <td>2008-07-31 14:22:31</td>\n",
              "      <td>Jarrod Dixon</td>\n",
              "      <td>2018-08-30 20:56:24</td>\n",
              "      <td>Raleigh, NC, United States</td>\n",
              "      <td>13418</td>\n",
              "      <td>24396</td>\n",
              "    </tr>\n",
              "    <tr>\n",
              "      <th>3</th>\n",
              "      <td>4</td>\n",
              "      <td>2008-07-31 14:22:31</td>\n",
              "      <td>Joel Spolsky</td>\n",
              "      <td>2018-08-14 22:18:15</td>\n",
              "      <td>New York, NY</td>\n",
              "      <td>28768</td>\n",
              "      <td>73755</td>\n",
              "    </tr>\n",
              "    <tr>\n",
              "      <th>4</th>\n",
              "      <td>5</td>\n",
              "      <td>2008-07-31 14:22:31</td>\n",
              "      <td>Jon Galloway</td>\n",
              "      <td>2018-08-29 16:48:36</td>\n",
              "      <td>San Diego, CA</td>\n",
              "      <td>39172</td>\n",
              "      <td>11700</td>\n",
              "    </tr>\n",
              "    <tr>\n",
              "      <th>5</th>\n",
              "      <td>8</td>\n",
              "      <td>2008-07-31 21:33:24</td>\n",
              "      <td>Eggs McLaren</td>\n",
              "      <td>2018-04-09 02:04:56</td>\n",
              "      <td>None</td>\n",
              "      <td>942</td>\n",
              "      <td>6372</td>\n",
              "    </tr>\n",
              "    <tr>\n",
              "      <th>6</th>\n",
              "      <td>9</td>\n",
              "      <td>2008-07-31 21:35:27</td>\n",
              "      <td>Kevin Dente</td>\n",
              "      <td>2018-08-30 18:18:03</td>\n",
              "      <td>Oakland, CA</td>\n",
              "      <td>14337</td>\n",
              "      <td>4949</td>\n",
              "    </tr>\n",
              "    <tr>\n",
              "      <th>7</th>\n",
              "      <td>11</td>\n",
              "      <td>2008-08-01 00:59:11</td>\n",
              "      <td>Anonymous User</td>\n",
              "      <td>2008-08-01 00:59:11</td>\n",
              "      <td>None</td>\n",
              "      <td>1890</td>\n",
              "      <td>2123</td>\n",
              "    </tr>\n",
              "    <tr>\n",
              "      <th>8</th>\n",
              "      <td>13</td>\n",
              "      <td>2008-08-01 04:18:05</td>\n",
              "      <td>Chris Jester-Young</td>\n",
              "      <td>2018-08-30 02:47:23</td>\n",
              "      <td>Raleigh, NC, United States</td>\n",
              "      <td>177138</td>\n",
              "      <td>35414</td>\n",
              "    </tr>\n",
              "    <tr>\n",
              "      <th>9</th>\n",
              "      <td>17</td>\n",
              "      <td>2008-08-01 12:02:22</td>\n",
              "      <td>Nick Berardi</td>\n",
              "      <td>2018-01-22 01:35:38</td>\n",
              "      <td>Issaquah, WA</td>\n",
              "      <td>44443</td>\n",
              "      <td>4786</td>\n",
              "    </tr>\n",
              "  </tbody>\n",
              "</table>\n",
              "</div>"
            ],
            "text/plain": [
              "   id       creation_date        display_name    last_access_date  \\\n",
              "0   1 2008-07-31 14:22:31         Jeff Atwood 2018-08-29 02:34:23   \n",
              "1   2 2008-07-31 14:22:31        Geoff Dalgas 2018-08-23 17:31:56   \n",
              "2   3 2008-07-31 14:22:31        Jarrod Dixon 2018-08-30 20:56:24   \n",
              "3   4 2008-07-31 14:22:31        Joel Spolsky 2018-08-14 22:18:15   \n",
              "4   5 2008-07-31 14:22:31        Jon Galloway 2018-08-29 16:48:36   \n",
              "5   8 2008-07-31 21:33:24        Eggs McLaren 2018-04-09 02:04:56   \n",
              "6   9 2008-07-31 21:35:27         Kevin Dente 2018-08-30 18:18:03   \n",
              "7  11 2008-08-01 00:59:11      Anonymous User 2008-08-01 00:59:11   \n",
              "8  13 2008-08-01 04:18:05  Chris Jester-Young 2018-08-30 02:47:23   \n",
              "9  17 2008-08-01 12:02:22        Nick Berardi 2018-01-22 01:35:38   \n",
              "\n",
              "                     location  reputation   views  \n",
              "0              El Cerrito, CA       44300  408587  \n",
              "1               Corvallis, OR        3491   23966  \n",
              "2  Raleigh, NC, United States       13418   24396  \n",
              "3                New York, NY       28768   73755  \n",
              "4               San Diego, CA       39172   11700  \n",
              "5                        None         942    6372  \n",
              "6                 Oakland, CA       14337    4949  \n",
              "7                        None        1890    2123  \n",
              "8  Raleigh, NC, United States      177138   35414  \n",
              "9                Issaquah, WA       44443    4786  "
            ]
          },
          "execution_count": 6,
          "metadata": {},
          "output_type": "execute_result"
        }
      ],
      "source": [
        "sample_df"
      ]
    },
    {
      "cell_type": "markdown",
      "metadata": {
        "id": "gnBMXkDBDWKm"
      },
      "source": [
        "# Задание 1"
      ]
    },
    {
      "cell_type": "markdown",
      "metadata": {
        "id": "vHsfOrrNDWKn"
      },
      "source": [
        "Выведите общую сумму просмотров постов за каждый месяц 2008 года. Если данных за какой-либо месяц в базе нет, такой месяц можно пропустить. Результат отсортируйте по убыванию общего количества просмотров."
      ]
    },
    {
      "cell_type": "markdown",
      "metadata": {
        "id": "N5rTgGNmDWKn"
      },
      "source": [
        "| month_date  | total_views |\n",
        "| ------------- | ------------- |\n",
        "| 2008-09-01  | 452928568  |\n",
        "| 2008-10-01  | 365400138  |\n",
        "| ...         | ... |"
      ]
    },
    {
      "cell_type": "code",
      "execution_count": null,
      "metadata": {
        "id": "eWvykcXTDWKo"
      },
      "outputs": [],
      "source": [
        "# напишите запрос\n",
        "query = \"\"\"\n",
        "SELECT DATE_TRUNC('MONTH',creation_date::date)::date AS month_date,\n",
        "SUM(views_count) AS total_views\n",
        "FROM stackoverflow.posts\n",
        "WHERE EXTRACT(YEAR FROM creation_date) = 2008\n",
        "GROUP BY DATE_TRUNC('MONTH',creation_date::date)::date\n",
        "ORDER BY total_views DESC\n",
        "\"\"\"\n",
        "\n",
        "# выполните запрос"
      ]
    },
    {
      "cell_type": "code",
      "execution_count": null,
      "metadata": {
        "id": "XMr_UeU6DWKo"
      },
      "outputs": [],
      "source": [
        "tmp = pd.read_sql_query(sql=query,con=engine)"
      ]
    },
    {
      "cell_type": "code",
      "execution_count": null,
      "metadata": {
        "id": "WU38u7HoajC1",
        "outputId": "b1237381-2495-46f0-ec66-014b5d50271d"
      },
      "outputs": [
        {
          "data": {
            "text/html": [
              "<div>\n",
              "<style scoped>\n",
              "    .dataframe tbody tr th:only-of-type {\n",
              "        vertical-align: middle;\n",
              "    }\n",
              "\n",
              "    .dataframe tbody tr th {\n",
              "        vertical-align: top;\n",
              "    }\n",
              "\n",
              "    .dataframe thead th {\n",
              "        text-align: right;\n",
              "    }\n",
              "</style>\n",
              "<table border=\"1\" class=\"dataframe\">\n",
              "  <thead>\n",
              "    <tr style=\"text-align: right;\">\n",
              "      <th></th>\n",
              "      <th>month_date</th>\n",
              "      <th>total_views</th>\n",
              "    </tr>\n",
              "  </thead>\n",
              "  <tbody>\n",
              "    <tr>\n",
              "      <th>0</th>\n",
              "      <td>2008-09-01</td>\n",
              "      <td>452928568</td>\n",
              "    </tr>\n",
              "    <tr>\n",
              "      <th>1</th>\n",
              "      <td>2008-10-01</td>\n",
              "      <td>365400138</td>\n",
              "    </tr>\n",
              "    <tr>\n",
              "      <th>2</th>\n",
              "      <td>2008-11-01</td>\n",
              "      <td>221759651</td>\n",
              "    </tr>\n",
              "    <tr>\n",
              "      <th>3</th>\n",
              "      <td>2008-12-01</td>\n",
              "      <td>197792841</td>\n",
              "    </tr>\n",
              "    <tr>\n",
              "      <th>4</th>\n",
              "      <td>2008-08-01</td>\n",
              "      <td>131367083</td>\n",
              "    </tr>\n",
              "    <tr>\n",
              "      <th>5</th>\n",
              "      <td>2008-07-01</td>\n",
              "      <td>669895</td>\n",
              "    </tr>\n",
              "  </tbody>\n",
              "</table>\n",
              "</div>"
            ],
            "text/plain": [
              "   month_date  total_views\n",
              "0  2008-09-01    452928568\n",
              "1  2008-10-01    365400138\n",
              "2  2008-11-01    221759651\n",
              "3  2008-12-01    197792841\n",
              "4  2008-08-01    131367083\n",
              "5  2008-07-01       669895"
            ]
          },
          "execution_count": 9,
          "metadata": {},
          "output_type": "execute_result"
        }
      ],
      "source": [
        "tmp"
      ]
    },
    {
      "cell_type": "markdown",
      "metadata": {
        "id": "I_ZvhOxkDWKp"
      },
      "source": [
        "Проанализируйте итоговую таблицу. Отличаются ли данные за разные месяцы? С чем могут быть связаны отличия?"
      ]
    },
    {
      "cell_type": "code",
      "execution_count": null,
      "metadata": {
        "scrolled": true,
        "id": "9eRD9I1CajC2",
        "outputId": "7fae205b-2e3e-4339-b6b7-583f5e5f5912"
      },
      "outputs": [
        {
          "data": {
            "image/png": "[encoded data removed]",
            "text/plain": [
              "<Figure size 432x288 with 1 Axes>"
            ]
          },
          "metadata": {
            "needs_background": "light"
          },
          "output_type": "display_data"
        }
      ],
      "source": [
        "sns.barplot(data=tmp,x='month_date',y='total_views')\n",
        "plt.xticks(rotation=45)\n",
        "plt.title('Общее кол-во публикаций по месяцам')\n",
        "plt.xlabel('Месяцы')\n",
        "plt.ylabel('Кол-во публикаций')\n",
        "plt.show()"
      ]
    },
    {
      "cell_type": "markdown",
      "metadata": {
        "id": "luxSj17oDWKq"
      },
      "source": [
        "**Вывод:**\n",
        "\n",
        "* Мы можем видеть из графика, что наибольшее кол-во публикаций приходится на сентябрь 2008 года - **452_928_568**, а минимальный июль 2008 года - **669_895**.  \n",
        "* 3 месяца с июль по сентябрь наблюдался резкий рост публикаций.\n",
        "* С октября по декабрь наблюдался спад.\n",
        "\n",
        "\n",
        "1) Спад мог быть обоснован тем, что обычно энтузиазм к любой вешщи будь то сайт, предмет или инструмент, в первое время очень большой и увеличивается большими темпами, но со временем угасает и нормализуется и переходит в естественность.\n",
        "\n",
        "2) Также тем, что на этом сайте в первое время любители и новички начали задавать простые вопросы, накопившиеся за все время и ненашедшие ответов. Более опытные ребята давали исчерпывающие ответы на оные вопросы."
      ]
    },
    {
      "cell_type": "markdown",
      "metadata": {
        "id": "FziIXkn5DWKr"
      },
      "source": [
        "# Задание 2"
      ]
    },
    {
      "cell_type": "markdown",
      "metadata": {
        "id": "fTGESZvYDWKr"
      },
      "source": [
        "Выведите имена самых активных пользователей, которые в первый месяц после регистрации (включая день регистрации) дали больше 100 ответов. Вопросы, которые задавали пользователи, не учитывайте. Для каждого имени пользователя выведите количество уникальных значений `user_id`. Отсортируйте результат по полю с именами в лексикографическом порядке."
      ]
    },
    {
      "cell_type": "markdown",
      "metadata": {
        "id": "W5-tv6Y3DWKs"
      },
      "source": [
        "| display_name | count |\n",
        "| ------------ | ----- |\n",
        "| 1800 INFORMATION | 1 |\n",
        "| Adam Bellaire | 1 |\n",
        "| Adam Davis | 1 |\n",
        "| ... | ... |"
      ]
    },
    {
      "cell_type": "code",
      "execution_count": null,
      "metadata": {
        "id": "fIO-y-YjDWKt"
      },
      "outputs": [],
      "source": [
        "# напишите запрос\n",
        "query = \"\"\"\n",
        "SELECT DISTINCT display_name AS display_name,COUNT(DISTINCT user_id)\n",
        "FROM stackoverflow.users AS u JOIN\n",
        "stackoverflow.posts AS p ON u.id = p.user_id\n",
        "WHERE post_type_id = 2 AND p.creation_date - u.creation_date < INTERVAL '1 MONTH'\n",
        "GROUP BY display_name\n",
        "HAVING COUNT(*) > 100\n",
        "ORDER BY 1\n",
        "\"\"\"\n",
        "\n",
        "# выполните запрос"
      ]
    },
    {
      "cell_type": "markdown",
      "metadata": {
        "id": "YIqqc-7HDWKt"
      },
      "source": [
        "<details>\n",
        "\n",
        "<summary>Подсказка</summary>\n",
        "Вам нужно присоединить несколько таблиц — изучите внимательнее описание базы. Чтобы добавить промежуток времени к дате, используйте ключевое слово INTERVAL, например, так: <дата> + INTERVAL '1 year 2 months 3 days'\n",
        ".</details>"
      ]
    },
    {
      "cell_type": "markdown",
      "metadata": {
        "id": "I3Wr82TplKpI"
      },
      "source": [
        "Какие аномалии наблюдаются в данных? О чём они говорят?"
      ]
    },
    {
      "cell_type": "code",
      "execution_count": null,
      "metadata": {
        "id": "mzEKnEPgajC4"
      },
      "outputs": [],
      "source": [
        "tmp = pd.read_sql_query(sql=query,con=engine)"
      ]
    },
    {
      "cell_type": "code",
      "execution_count": null,
      "metadata": {
        "scrolled": true,
        "id": "26Yfaj5tajC4",
        "outputId": "50726423-2d20-4b17-8a1a-9e9dfe647ea7"
      },
      "outputs": [
        {
          "data": {
            "text/html": [
              "<div>\n",
              "<style scoped>\n",
              "    .dataframe tbody tr th:only-of-type {\n",
              "        vertical-align: middle;\n",
              "    }\n",
              "\n",
              "    .dataframe tbody tr th {\n",
              "        vertical-align: top;\n",
              "    }\n",
              "\n",
              "    .dataframe thead th {\n",
              "        text-align: right;\n",
              "    }\n",
              "</style>\n",
              "<table border=\"1\" class=\"dataframe\">\n",
              "  <thead>\n",
              "    <tr style=\"text-align: right;\">\n",
              "      <th></th>\n",
              "      <th>display_name</th>\n",
              "      <th>count</th>\n",
              "    </tr>\n",
              "  </thead>\n",
              "  <tbody>\n",
              "    <tr>\n",
              "      <th>0</th>\n",
              "      <td>1800 INFORMATION</td>\n",
              "      <td>1</td>\n",
              "    </tr>\n",
              "    <tr>\n",
              "      <th>1</th>\n",
              "      <td>Adam Bellaire</td>\n",
              "      <td>1</td>\n",
              "    </tr>\n",
              "    <tr>\n",
              "      <th>2</th>\n",
              "      <td>Adam Davis</td>\n",
              "      <td>1</td>\n",
              "    </tr>\n",
              "    <tr>\n",
              "      <th>3</th>\n",
              "      <td>Adam Liss</td>\n",
              "      <td>1</td>\n",
              "    </tr>\n",
              "    <tr>\n",
              "      <th>4</th>\n",
              "      <td>Alan</td>\n",
              "      <td>8</td>\n",
              "    </tr>\n",
              "    <tr>\n",
              "      <th>...</th>\n",
              "      <td>...</td>\n",
              "      <td>...</td>\n",
              "    </tr>\n",
              "    <tr>\n",
              "      <th>71</th>\n",
              "      <td>leppie</td>\n",
              "      <td>1</td>\n",
              "    </tr>\n",
              "    <tr>\n",
              "      <th>72</th>\n",
              "      <td>lomaxx</td>\n",
              "      <td>1</td>\n",
              "    </tr>\n",
              "    <tr>\n",
              "      <th>73</th>\n",
              "      <td>mattlant</td>\n",
              "      <td>1</td>\n",
              "    </tr>\n",
              "    <tr>\n",
              "      <th>74</th>\n",
              "      <td>paxdiablo</td>\n",
              "      <td>1</td>\n",
              "    </tr>\n",
              "    <tr>\n",
              "      <th>75</th>\n",
              "      <td>tzot</td>\n",
              "      <td>1</td>\n",
              "    </tr>\n",
              "  </tbody>\n",
              "</table>\n",
              "<p>76 rows × 2 columns</p>\n",
              "</div>"
            ],
            "text/plain": [
              "        display_name  count\n",
              "0   1800 INFORMATION      1\n",
              "1      Adam Bellaire      1\n",
              "2         Adam Davis      1\n",
              "3          Adam Liss      1\n",
              "4               Alan      8\n",
              "..               ...    ...\n",
              "71            leppie      1\n",
              "72            lomaxx      1\n",
              "73          mattlant      1\n",
              "74         paxdiablo      1\n",
              "75              tzot      1\n",
              "\n",
              "[76 rows x 2 columns]"
            ]
          },
          "execution_count": 13,
          "metadata": {},
          "output_type": "execute_result"
        }
      ],
      "source": [
        "tmp"
      ]
    },
    {
      "cell_type": "code",
      "execution_count": null,
      "metadata": {
        "id": "CEIGGQ6ODWKy",
        "scrolled": false,
        "outputId": "95112a7f-19a6-4772-c28e-e1311f509056"
      },
      "outputs": [
        {
          "data": {
            "text/html": [
              "<div>\n",
              "<style scoped>\n",
              "    .dataframe tbody tr th:only-of-type {\n",
              "        vertical-align: middle;\n",
              "    }\n",
              "\n",
              "    .dataframe tbody tr th {\n",
              "        vertical-align: top;\n",
              "    }\n",
              "\n",
              "    .dataframe thead th {\n",
              "        text-align: right;\n",
              "    }\n",
              "</style>\n",
              "<table border=\"1\" class=\"dataframe\">\n",
              "  <thead>\n",
              "    <tr style=\"text-align: right;\">\n",
              "      <th></th>\n",
              "      <th>count</th>\n",
              "    </tr>\n",
              "  </thead>\n",
              "  <tbody>\n",
              "    <tr>\n",
              "      <th>sum</th>\n",
              "      <td>254</td>\n",
              "    </tr>\n",
              "    <tr>\n",
              "      <th>count</th>\n",
              "      <td>19</td>\n",
              "    </tr>\n",
              "  </tbody>\n",
              "</table>\n",
              "</div>"
            ],
            "text/plain": [
              "       count\n",
              "sum      254\n",
              "count     19"
            ]
          },
          "execution_count": 14,
          "metadata": {},
          "output_type": "execute_result"
        }
      ],
      "source": [
        "tmp[tmp['count'] > 1].agg({'count':['sum','count']})"
      ]
    },
    {
      "cell_type": "code",
      "execution_count": null,
      "metadata": {
        "id": "nRYrmIIOajC4",
        "outputId": "a79c1c12-d68a-46f9-83d0-854961934e51"
      },
      "outputs": [
        {
          "data": {
            "text/plain": [
              "57"
            ]
          },
          "execution_count": 15,
          "metadata": {},
          "output_type": "execute_result"
        }
      ],
      "source": [
        "tmp[tmp['count'] == 1]['count'].sum()"
      ]
    },
    {
      "cell_type": "markdown",
      "metadata": {
        "id": "ZX3ByfxmajC5"
      },
      "source": [
        "**Вывод:**\n",
        "\n",
        "Аномалий как таковых нет, просто бывает, что отображающие имена не являются уникальными как в нашем случае:\n",
        "\n",
        "* **254 пользователей с 19 неуникальными именами**\n",
        "* **57 уникальных отображающихся имен**"
      ]
    },
    {
      "cell_type": "markdown",
      "metadata": {
        "id": "JhM2xXj5DWKu"
      },
      "source": [
        "# Задание 3"
      ]
    },
    {
      "cell_type": "markdown",
      "metadata": {
        "id": "IS6xPqyyDWKu"
      },
      "source": [
        "Выведите количество постов за 2008 год по месяцам. Отберите посты от пользователей, которые зарегистрировались в сентябре 2008 года и сделали хотя бы один пост в декабре того же года. Отсортируйте таблицу по значению месяца по убыванию."
      ]
    },
    {
      "cell_type": "markdown",
      "metadata": {
        "id": "WmjhjV2xDWKv"
      },
      "source": [
        "| month | count |\n",
        "| ------|------ |\n",
        "| 2008-12-01 | 17641 |\n",
        "| 2008-11-01 | 18294 |\n",
        "| ... | ... |"
      ]
    },
    {
      "cell_type": "code",
      "execution_count": null,
      "metadata": {
        "id": "kVu0FB8WDWKv"
      },
      "outputs": [],
      "source": [
        "# напишите запрос\n",
        "query = \"\"\"\n",
        "SELECT DATE_TRUNC('MONTH',posts.creation_date::date)::date AS month, COUNT(*)\n",
        "FROM stackoverflow.posts\n",
        "WHERE user_id IN (SELECT DISTINCT user_id\n",
        "FROM stackoverflow.posts AS p JOIN\n",
        " stackoverflow.users AS u ON u.id = p.user_id\n",
        "WHERE (EXTRACT(YEAR FROM p.creation_date)= 2008 AND EXTRACT(MONTH FROM p.creation_date)=12) AND (EXTRACT(YEAR FROM u.creation_date)= 2008 AND EXTRACT(MONTH FROM u.creation_date)=9)\n",
        "GROUP BY user_id\n",
        "HAVING COUNT(*)!= 0)\n",
        "GROUP BY DATE_TRUNC('MONTH',posts.creation_date::date)::date\n",
        "ORDER BY month DESC\n",
        "\"\"\"\n",
        "\n",
        "# выполните запрос"
      ]
    },
    {
      "cell_type": "code",
      "execution_count": null,
      "metadata": {
        "id": "kLZl3GmMajC9"
      },
      "outputs": [],
      "source": [
        "tmp = pd.read_sql_query(sql=query,con=engine)"
      ]
    },
    {
      "cell_type": "code",
      "execution_count": null,
      "metadata": {
        "scrolled": false,
        "id": "lTTqzF5JajC9",
        "outputId": "c019d21b-2f32-4800-ea1f-14c43fff08e1"
      },
      "outputs": [
        {
          "data": {
            "text/html": [
              "<div>\n",
              "<style scoped>\n",
              "    .dataframe tbody tr th:only-of-type {\n",
              "        vertical-align: middle;\n",
              "    }\n",
              "\n",
              "    .dataframe tbody tr th {\n",
              "        vertical-align: top;\n",
              "    }\n",
              "\n",
              "    .dataframe thead th {\n",
              "        text-align: right;\n",
              "    }\n",
              "</style>\n",
              "<table border=\"1\" class=\"dataframe\">\n",
              "  <thead>\n",
              "    <tr style=\"text-align: right;\">\n",
              "      <th></th>\n",
              "      <th>month</th>\n",
              "      <th>count</th>\n",
              "    </tr>\n",
              "  </thead>\n",
              "  <tbody>\n",
              "    <tr>\n",
              "      <th>0</th>\n",
              "      <td>2008-12-01</td>\n",
              "      <td>17641</td>\n",
              "    </tr>\n",
              "    <tr>\n",
              "      <th>1</th>\n",
              "      <td>2008-11-01</td>\n",
              "      <td>18294</td>\n",
              "    </tr>\n",
              "    <tr>\n",
              "      <th>2</th>\n",
              "      <td>2008-10-01</td>\n",
              "      <td>27171</td>\n",
              "    </tr>\n",
              "    <tr>\n",
              "      <th>3</th>\n",
              "      <td>2008-09-01</td>\n",
              "      <td>24870</td>\n",
              "    </tr>\n",
              "    <tr>\n",
              "      <th>4</th>\n",
              "      <td>2008-08-01</td>\n",
              "      <td>32</td>\n",
              "    </tr>\n",
              "  </tbody>\n",
              "</table>\n",
              "</div>"
            ],
            "text/plain": [
              "        month  count\n",
              "0  2008-12-01  17641\n",
              "1  2008-11-01  18294\n",
              "2  2008-10-01  27171\n",
              "3  2008-09-01  24870\n",
              "4  2008-08-01     32"
            ]
          },
          "execution_count": 18,
          "metadata": {},
          "output_type": "execute_result"
        }
      ],
      "source": [
        "tmp"
      ]
    },
    {
      "cell_type": "markdown",
      "metadata": {
        "id": "Vnxn9DVHDWKx"
      },
      "source": [
        "Изучите данные: есть ли в них аномалии? Предположите, почему могли появиться аномальные значения."
      ]
    },
    {
      "cell_type": "markdown",
      "metadata": {
        "id": "a0dXhgDWajC9"
      },
      "source": [
        "Выведите количество постов за 2008 год по месяцам. Отберите посты от пользователей, которые зарегистрировались в сентябре 2008 года и сделали хотя бы один пост в декабре того же года. Отсортируйте таблицу по значению месяца по убыванию."
      ]
    },
    {
      "cell_type": "code",
      "execution_count": null,
      "metadata": {
        "id": "MMVIz4yMlKpN",
        "outputId": "b1aa835e-ee3b-43bf-bfbc-7dfe524d8bf3"
      },
      "outputs": [
        {
          "data": {
            "image/png": "[encoded data removed]",
            "text/plain": [
              "<Figure size 432x288 with 1 Axes>"
            ]
          },
          "metadata": {
            "needs_background": "light"
          },
          "output_type": "display_data"
        }
      ],
      "source": [
        "# напишите ваш ответ здесь\n",
        "sns.barplot(data=tmp,x='month',y='count')\n",
        "plt.xticks(rotation=45)\n",
        "plt.title('Общее кол-во публикаций по месяцам. (регистрация - сентябрь + минимум одна публикация в декабре)')\n",
        "plt.xlabel('Месяцы')\n",
        "plt.ylabel('Кол-во публикаций')\n",
        "plt.show()"
      ]
    },
    {
      "cell_type": "markdown",
      "metadata": {
        "id": "3Y2xTAHqajC-"
      },
      "source": [
        "**Вывод:**\n",
        "\n",
        "* В данных присутствуют аномалии ввиде 32 публикаций в августе 2008 года, потому что профили должны быть арегистрированы в сентябре, возможно они сделали их под видом гостя, а потом зарегистрировались.\n",
        "\n"
      ]
    },
    {
      "cell_type": "markdown",
      "metadata": {
        "id": "5Pcizm0DDWKz"
      },
      "source": [
        "# Задание 4"
      ]
    },
    {
      "cell_type": "markdown",
      "metadata": {
        "id": "KUZPF6vHDWKz"
      },
      "source": [
        "Используя данные о постах, выведите несколько полей:\n",
        "\n",
        "- идентификатор пользователя, который написал пост;\n",
        "- дата создания поста;\n",
        "- количество просмотров у текущего поста;\n",
        "- сумму просмотров постов автора с накоплением.\n",
        "\n",
        "Данные в таблице должны быть отсортированы по возрастанию идентификаторов пользователей, а данные об одном и том же пользователе — по возрастанию даты создания поста."
      ]
    },
    {
      "cell_type": "markdown",
      "metadata": {
        "id": "ZpsTUVDYDWK0"
      },
      "source": [
        "| user_id | creation_date | views_count | cumulative_count |\n",
        "| ------ | -------------- | ----------- | ---------------- |\n",
        "| 1 | 2008-07-31 23:41:00  | 480476   | 480476  |\n",
        "| 1 | 2008-07-31 23:55:38  | 136033 | 616509  |\n",
        "| 1 | 2008-07-31 23:56:41  | 0 |  616509  |\n",
        "| ... | ... | ... | ... |\n",
        "| 2 | 2008-07-31 23:56:41 | 79087  | 79087 |\n",
        "| 2 | 2008-08-01 05:09:56 | 65443 | 144530 |\n",
        "| ... | ...  | ...  | ...  |"
      ]
    },
    {
      "cell_type": "code",
      "execution_count": null,
      "metadata": {
        "id": "hDoJhMzfDWK0"
      },
      "outputs": [],
      "source": [
        "# напишите запрос\n",
        "query = '''\n",
        "SELECT user_id,\n",
        "creation_date,\n",
        "views_count,\n",
        "SUM(views_count) OVER (PARTITION BY user_id ORDER BY creation_date) AS cumulative_count\n",
        "FROM stackoverflow.posts\n",
        "ORDER BY 1,2\n",
        "\n",
        "'''\n",
        "\n",
        "# выполните запрос"
      ]
    },
    {
      "cell_type": "code",
      "execution_count": null,
      "metadata": {
        "id": "JCGYd9ffajC-"
      },
      "outputs": [],
      "source": [
        "tmp = pd.read_sql_query(sql=query,con=engine)"
      ]
    },
    {
      "cell_type": "code",
      "execution_count": null,
      "metadata": {
        "scrolled": false,
        "id": "YIGcCCvhajC_",
        "outputId": "7925398e-74cc-4a4a-b39b-544864ddd096"
      },
      "outputs": [
        {
          "data": {
            "text/html": [
              "<div>\n",
              "<style scoped>\n",
              "    .dataframe tbody tr th:only-of-type {\n",
              "        vertical-align: middle;\n",
              "    }\n",
              "\n",
              "    .dataframe tbody tr th {\n",
              "        vertical-align: top;\n",
              "    }\n",
              "\n",
              "    .dataframe thead th {\n",
              "        text-align: right;\n",
              "    }\n",
              "</style>\n",
              "<table border=\"1\" class=\"dataframe\">\n",
              "  <thead>\n",
              "    <tr style=\"text-align: right;\">\n",
              "      <th></th>\n",
              "      <th>user_id</th>\n",
              "      <th>creation_date</th>\n",
              "      <th>views_count</th>\n",
              "      <th>cumulative_count</th>\n",
              "    </tr>\n",
              "  </thead>\n",
              "  <tbody>\n",
              "    <tr>\n",
              "      <th>0</th>\n",
              "      <td>1</td>\n",
              "      <td>2008-07-31 23:41:00</td>\n",
              "      <td>480476</td>\n",
              "      <td>480476</td>\n",
              "    </tr>\n",
              "    <tr>\n",
              "      <th>1</th>\n",
              "      <td>1</td>\n",
              "      <td>2008-07-31 23:55:38</td>\n",
              "      <td>136033</td>\n",
              "      <td>616509</td>\n",
              "    </tr>\n",
              "    <tr>\n",
              "      <th>2</th>\n",
              "      <td>1</td>\n",
              "      <td>2008-07-31 23:56:41</td>\n",
              "      <td>0</td>\n",
              "      <td>616509</td>\n",
              "    </tr>\n",
              "    <tr>\n",
              "      <th>3</th>\n",
              "      <td>1</td>\n",
              "      <td>2008-08-04 02:45:08</td>\n",
              "      <td>0</td>\n",
              "      <td>616509</td>\n",
              "    </tr>\n",
              "    <tr>\n",
              "      <th>4</th>\n",
              "      <td>1</td>\n",
              "      <td>2008-08-04 04:31:03</td>\n",
              "      <td>0</td>\n",
              "      <td>616509</td>\n",
              "    </tr>\n",
              "    <tr>\n",
              "      <th>...</th>\n",
              "      <td>...</td>\n",
              "      <td>...</td>\n",
              "      <td>...</td>\n",
              "      <td>...</td>\n",
              "    </tr>\n",
              "    <tr>\n",
              "      <th>243791</th>\n",
              "      <td>5696608</td>\n",
              "      <td>2008-12-23 16:00:37</td>\n",
              "      <td>0</td>\n",
              "      <td>2804</td>\n",
              "    </tr>\n",
              "    <tr>\n",
              "      <th>243792</th>\n",
              "      <td>5696608</td>\n",
              "      <td>2008-12-23 17:35:09</td>\n",
              "      <td>0</td>\n",
              "      <td>2804</td>\n",
              "    </tr>\n",
              "    <tr>\n",
              "      <th>243793</th>\n",
              "      <td>5696608</td>\n",
              "      <td>2008-12-24 01:02:48</td>\n",
              "      <td>0</td>\n",
              "      <td>2804</td>\n",
              "    </tr>\n",
              "    <tr>\n",
              "      <th>243794</th>\n",
              "      <td>5696608</td>\n",
              "      <td>2008-12-30 14:34:45</td>\n",
              "      <td>0</td>\n",
              "      <td>2804</td>\n",
              "    </tr>\n",
              "    <tr>\n",
              "      <th>243795</th>\n",
              "      <td>5696608</td>\n",
              "      <td>2008-12-30 16:32:12</td>\n",
              "      <td>0</td>\n",
              "      <td>2804</td>\n",
              "    </tr>\n",
              "  </tbody>\n",
              "</table>\n",
              "<p>243796 rows × 4 columns</p>\n",
              "</div>"
            ],
            "text/plain": [
              "        user_id       creation_date  views_count  cumulative_count\n",
              "0             1 2008-07-31 23:41:00       480476            480476\n",
              "1             1 2008-07-31 23:55:38       136033            616509\n",
              "2             1 2008-07-31 23:56:41            0            616509\n",
              "3             1 2008-08-04 02:45:08            0            616509\n",
              "4             1 2008-08-04 04:31:03            0            616509\n",
              "...         ...                 ...          ...               ...\n",
              "243791  5696608 2008-12-23 16:00:37            0              2804\n",
              "243792  5696608 2008-12-23 17:35:09            0              2804\n",
              "243793  5696608 2008-12-24 01:02:48            0              2804\n",
              "243794  5696608 2008-12-30 14:34:45            0              2804\n",
              "243795  5696608 2008-12-30 16:32:12            0              2804\n",
              "\n",
              "[243796 rows x 4 columns]"
            ]
          },
          "execution_count": 22,
          "metadata": {},
          "output_type": "execute_result"
        }
      ],
      "source": [
        "tmp"
      ]
    },
    {
      "cell_type": "markdown",
      "metadata": {
        "id": "N0kHRHvIDWK2"
      },
      "source": [
        "# Задание 5"
      ]
    },
    {
      "cell_type": "markdown",
      "metadata": {
        "id": "gBgvmPtODWK2"
      },
      "source": [
        "Найдите среднее количество постов пользователей в день за август 2008 года. Отберите данные о пользователях, которые опубликовали больше 120 постов за август. Дни без публикаций не учитывайте.\n",
        "\n",
        "Отсортируйте результат по возрастанию среднего количества постов. Значения можно не округлять."
      ]
    },
    {
      "cell_type": "markdown",
      "metadata": {
        "id": "nfzR08BODWK3"
      },
      "source": [
        "| user_id | avg_daily |\n",
        "| ------- | --------- |\n",
        "| 116     | 4.777778  |\n",
        "| 234     | 5.208333  |\n",
        "| ...     | ... |"
      ]
    },
    {
      "cell_type": "code",
      "execution_count": null,
      "metadata": {
        "id": "YFyPNz5GDWK3"
      },
      "outputs": [],
      "source": [
        "# напишите запрос\n",
        "query = '''\n",
        "WITH user_id_more_120 AS\n",
        "(SELECT user_id\n",
        "FROM stackoverflow.posts\n",
        "WHERE EXTRACT(YEAR FROM posts.creation_date::date) = 2008 AND EXTRACT(MONTH FROM posts.creation_date::date) = 8\n",
        "GROUP BY user_id,DATE_TRUNC('MONTH',creation_date::date)::date\n",
        "HAVING COUNT(*) > 120)\n",
        "\n",
        "SELECT DISTINCT user_id, AVG(counter) OVER (PARTITION BY user_id)\n",
        "FROM\n",
        "(SELECT DISTINCT user_id, data_trunc, counter\n",
        "FROM (SELECT id,\n",
        "         user_id,\n",
        "         DATE_TRUNC('DAY', posts.creation_date)::date data_trunc,\n",
        "        COUNT(user_id) OVER (PARTITION BY user_id ORDER BY DATE_TRUNC('DAY', posts.creation_date)::date RANGE CURRENT ROW) AS counter\n",
        "FROM stackoverflow.posts\n",
        "WHERE posts.user_id IN(SELECT user_id\n",
        "FROM user_id_more_120) AND EXTRACT(YEAR FROM posts.creation_date::date) = 2008 AND EXTRACT(MONTH FROM posts.creation_date::date) = 8\n",
        "GROUP BY id,user_id, DATE_TRUNC('DAY', posts.creation_date)::date) AS tmp1) AS tmp2\n",
        "ORDER BY 2\n",
        "'''\n",
        "\n",
        "# выполните запрос"
      ]
    },
    {
      "cell_type": "code",
      "execution_count": null,
      "metadata": {
        "id": "a6RJHp5ZajDA"
      },
      "outputs": [],
      "source": [
        "tmp = pd.read_sql_query(sql=query,con=engine)"
      ]
    },
    {
      "cell_type": "code",
      "execution_count": null,
      "metadata": {
        "id": "Rf3a1tlnajDA",
        "outputId": "7bbdf6e0-9e2c-4800-95ee-33e90d817738"
      },
      "outputs": [
        {
          "data": {
            "text/html": [
              "<div>\n",
              "<style scoped>\n",
              "    .dataframe tbody tr th:only-of-type {\n",
              "        vertical-align: middle;\n",
              "    }\n",
              "\n",
              "    .dataframe tbody tr th {\n",
              "        vertical-align: top;\n",
              "    }\n",
              "\n",
              "    .dataframe thead th {\n",
              "        text-align: right;\n",
              "    }\n",
              "</style>\n",
              "<table border=\"1\" class=\"dataframe\">\n",
              "  <thead>\n",
              "    <tr style=\"text-align: right;\">\n",
              "      <th></th>\n",
              "      <th>user_id</th>\n",
              "      <th>avg</th>\n",
              "    </tr>\n",
              "  </thead>\n",
              "  <tbody>\n",
              "    <tr>\n",
              "      <th>0</th>\n",
              "      <td>116</td>\n",
              "      <td>4.777778</td>\n",
              "    </tr>\n",
              "    <tr>\n",
              "      <th>1</th>\n",
              "      <td>234</td>\n",
              "      <td>5.208333</td>\n",
              "    </tr>\n",
              "    <tr>\n",
              "      <th>2</th>\n",
              "      <td>91</td>\n",
              "      <td>5.681818</td>\n",
              "    </tr>\n",
              "    <tr>\n",
              "      <th>3</th>\n",
              "      <td>905</td>\n",
              "      <td>7.000000</td>\n",
              "    </tr>\n",
              "    <tr>\n",
              "      <th>4</th>\n",
              "      <td>383</td>\n",
              "      <td>7.277778</td>\n",
              "    </tr>\n",
              "  </tbody>\n",
              "</table>\n",
              "</div>"
            ],
            "text/plain": [
              "   user_id       avg\n",
              "0      116  4.777778\n",
              "1      234  5.208333\n",
              "2       91  5.681818\n",
              "3      905  7.000000\n",
              "4      383  7.277778"
            ]
          },
          "execution_count": 25,
          "metadata": {},
          "output_type": "execute_result"
        }
      ],
      "source": [
        "tmp"
      ]
    },
    {
      "cell_type": "markdown",
      "metadata": {
        "id": "EQ0dcFH4DWK5"
      },
      "source": [
        "# Задание 6"
      ]
    },
    {
      "cell_type": "markdown",
      "metadata": {
        "id": "c7flfg_hDWK5"
      },
      "source": [
        "Сколько в среднем дней в период с 1 по 7 декабря 2008 года пользователи взаимодействовали с платформой? Для каждого пользователя отберите дни, в которые он или она опубликовали хотя бы один пост. Нужно получить одно целое число — не забудьте округлить результат."
      ]
    },
    {
      "cell_type": "markdown",
      "metadata": {
        "id": "RC1Ibzm9DWK6"
      },
      "source": [
        "| result |\n",
        "| -----  |\n",
        "| <целое число> |"
      ]
    },
    {
      "cell_type": "code",
      "execution_count": null,
      "metadata": {
        "id": "kZ7LXTr6DWK6"
      },
      "outputs": [],
      "source": [
        "# напишите запрос\n",
        "query = '''\n",
        "SELECT ROUND(AVG(count))::int\n",
        "FROM\n",
        "(SELECT user_id,COUNT(DISTINCT DATE_TRUNC('day', creation_date)::date)\n",
        "FROM stackoverflow.posts\n",
        "WHERE DATE_TRUNC('day', creation_date)::date\n",
        "BETWEEN '2008-12-01' AND '2008-12-07'\n",
        "GROUP BY user_id\n",
        "HAVING COUNT(*) !=0) AS tmp1\n",
        "\n",
        "'''\n",
        "\n",
        "\n",
        "# выполните запрос"
      ]
    },
    {
      "cell_type": "code",
      "execution_count": null,
      "metadata": {
        "id": "7TkCk6PJajDB"
      },
      "outputs": [],
      "source": [
        "tmp = pd.read_sql_query(sql=query,con=engine)"
      ]
    },
    {
      "cell_type": "code",
      "execution_count": null,
      "metadata": {
        "id": "7HZ_m6OBajDC",
        "outputId": "2e50ec08-2030-42b5-e5fd-fccd5935d9d4"
      },
      "outputs": [
        {
          "data": {
            "text/html": [
              "<div>\n",
              "<style scoped>\n",
              "    .dataframe tbody tr th:only-of-type {\n",
              "        vertical-align: middle;\n",
              "    }\n",
              "\n",
              "    .dataframe tbody tr th {\n",
              "        vertical-align: top;\n",
              "    }\n",
              "\n",
              "    .dataframe thead th {\n",
              "        text-align: right;\n",
              "    }\n",
              "</style>\n",
              "<table border=\"1\" class=\"dataframe\">\n",
              "  <thead>\n",
              "    <tr style=\"text-align: right;\">\n",
              "      <th></th>\n",
              "      <th>round</th>\n",
              "    </tr>\n",
              "  </thead>\n",
              "  <tbody>\n",
              "    <tr>\n",
              "      <th>0</th>\n",
              "      <td>2</td>\n",
              "    </tr>\n",
              "  </tbody>\n",
              "</table>\n",
              "</div>"
            ],
            "text/plain": [
              "   round\n",
              "0      2"
            ]
          },
          "execution_count": 28,
          "metadata": {},
          "output_type": "execute_result"
        }
      ],
      "source": [
        "tmp"
      ]
    },
    {
      "cell_type": "markdown",
      "metadata": {
        "id": "UJFtNNggDWK7"
      },
      "source": [
        "Проанализируйте итоговую таблицу — какие выводы можно сделать?"
      ]
    },
    {
      "cell_type": "markdown",
      "metadata": {
        "id": "LfUuYz-1DWK8"
      },
      "source": [
        "\n",
        "**Вывод:**\n",
        "\n",
        "* В среднем пользователи были активны **2 дня** в первой недели декабря 2008 года"
      ]
    },
    {
      "cell_type": "markdown",
      "metadata": {
        "id": "wfOmqmfLDWK8"
      },
      "source": [
        "# Задание 7"
      ]
    },
    {
      "cell_type": "markdown",
      "metadata": {
        "id": "X4ARQimADWK9"
      },
      "source": [
        "Выведите историю активности каждого пользователя в таком виде: идентификатор пользователя, дата публикации поста. Отсортируйте вывод по возрастанию идентификаторов пользователей, а для каждого пользователя — по возрастанию даты публикации.\n",
        "\n",
        "Добавьте в таблицу новое поле: для каждого поста в нём будет указано название месяца предпоследней публикации пользователя относительно текущей. Если такой публикации нет, укажите `NULL`.  Python автоматически поменяет `NULL` на `None`, но дополнительно преобразовывать значения `None` вам не нужно.\n",
        "\n",
        "Посмотрите внимательно на образец таблицы: для первых двух постов предпоследней публикации нет, но, начиная с третьего поста, в новое поле входит нужный месяц. Для следующего пользователя в первые две записи поля `second_last_month` тоже войдёт `NULL`."
      ]
    },
    {
      "cell_type": "markdown",
      "metadata": {
        "id": "IGPjRP01DWK9"
      },
      "source": [
        "| user_id | creation_date | second_last_month |\n",
        "| ------- | ------------- | ----------------- |\n",
        "| 1       | 2008-07-31 23:41:00 | None |\n",
        "| 1       | 2008-07-31 23:55:38 | None |\n",
        "| 1       | 2008-07-31 23:56:41 | July |\n",
        "| 1       | 2008-08-04 02:45:08 | July |\n",
        "| 1       | 2008-08-04 04:31:03 | July |\n",
        "| 1       | 2008-08-04 08:04:42 | August |\n",
        "| ... | ... | ... |"
      ]
    },
    {
      "cell_type": "code",
      "execution_count": null,
      "metadata": {
        "id": "HzI1vhaMDWK-"
      },
      "outputs": [],
      "source": [
        "# напишите запрос\n",
        "query = '''\n",
        "SELECT user_id, creation_date, NTHVALUE(creation_date,2)\n",
        "FROM stackoverflow.posts\n",
        "ORDER BY 1,2\n",
        "'''\n",
        "\n",
        "# выполните запрос"
      ]
    },
    {
      "cell_type": "code",
      "execution_count": null,
      "metadata": {
        "id": "yb6k4-T7ajDE"
      },
      "outputs": [],
      "source": [
        "query = '''\n",
        "SELECT user_id, creation_date,\n",
        "(CASE\n",
        "WHEN EXTRACT(MONTH FROM LAG(creation_date,2) OVER (PARTITION BY user_id ORDER BY creation_date)) = 1 THEN 'Januar'\n",
        "WHEN EXTRACT(MONTH FROM LAG(creation_date,2) OVER (PARTITION BY user_id ORDER BY creation_date)) = 2 THEN 'February'\n",
        "WHEN EXTRACT(MONTH FROM LAG(creation_date,2) OVER (PARTITION BY user_id ORDER BY creation_date)) = 3 THEN 'March'\n",
        "WHEN EXTRACT(MONTH FROM LAG(creation_date,2) OVER (PARTITION BY user_id ORDER BY creation_date)) = 4 THEN 'April'\n",
        "WHEN EXTRACT(MONTH FROM LAG(creation_date,2) OVER (PARTITION BY user_id ORDER BY creation_date)) = 5 THEN 'May'\n",
        "WHEN EXTRACT(MONTH FROM LAG(creation_date,2) OVER (PARTITION BY user_id ORDER BY creation_date)) = 6 THEN 'June'\n",
        "WHEN EXTRACT(MONTH FROM LAG(creation_date,2) OVER (PARTITION BY user_id ORDER BY creation_date)) = 7 THEN 'July'\n",
        "WHEN EXTRACT(MONTH FROM LAG(creation_date,2) OVER (PARTITION BY user_id ORDER BY creation_date)) = 8 THEN 'August'\n",
        "WHEN EXTRACT(MONTH FROM LAG(creation_date,2) OVER (PARTITION BY user_id ORDER BY creation_date)) = 9 THEN 'September'\n",
        "WHEN EXTRACT(MONTH FROM LAG(creation_date,2) OVER (PARTITION BY user_id ORDER BY creation_date)) = 10 THEN 'October'\n",
        "WHEN EXTRACT(MONTH FROM LAG(creation_date,2) OVER (PARTITION BY user_id ORDER BY creation_date)) = 11 THEN 'November'\n",
        "WHEN EXTRACT(MONTH FROM LAG(creation_date,2) OVER (PARTITION BY user_id ORDER BY creation_date)) = 12 THEN 'December'\n",
        "END) AS second_last_month\n",
        "FROM stackoverflow.posts\n",
        "ORDER BY 1,2\n",
        "'''"
      ]
    },
    {
      "cell_type": "code",
      "execution_count": null,
      "metadata": {
        "id": "k497xxKKajDF"
      },
      "outputs": [],
      "source": [
        "tmp = pd.read_sql_query(sql=query,con=engine)"
      ]
    },
    {
      "cell_type": "code",
      "execution_count": null,
      "metadata": {
        "scrolled": true,
        "id": "5Ehold4dajDF",
        "outputId": "7615b85f-313c-4ab9-f71a-1eb014664bb9"
      },
      "outputs": [
        {
          "data": {
            "text/html": [
              "<div>\n",
              "<style scoped>\n",
              "    .dataframe tbody tr th:only-of-type {\n",
              "        vertical-align: middle;\n",
              "    }\n",
              "\n",
              "    .dataframe tbody tr th {\n",
              "        vertical-align: top;\n",
              "    }\n",
              "\n",
              "    .dataframe thead th {\n",
              "        text-align: right;\n",
              "    }\n",
              "</style>\n",
              "<table border=\"1\" class=\"dataframe\">\n",
              "  <thead>\n",
              "    <tr style=\"text-align: right;\">\n",
              "      <th></th>\n",
              "      <th>user_id</th>\n",
              "      <th>creation_date</th>\n",
              "      <th>second_last_month</th>\n",
              "    </tr>\n",
              "  </thead>\n",
              "  <tbody>\n",
              "    <tr>\n",
              "      <th>0</th>\n",
              "      <td>1</td>\n",
              "      <td>2008-07-31 23:41:00</td>\n",
              "      <td>None</td>\n",
              "    </tr>\n",
              "    <tr>\n",
              "      <th>1</th>\n",
              "      <td>1</td>\n",
              "      <td>2008-07-31 23:55:38</td>\n",
              "      <td>None</td>\n",
              "    </tr>\n",
              "    <tr>\n",
              "      <th>2</th>\n",
              "      <td>1</td>\n",
              "      <td>2008-07-31 23:56:41</td>\n",
              "      <td>July</td>\n",
              "    </tr>\n",
              "    <tr>\n",
              "      <th>3</th>\n",
              "      <td>1</td>\n",
              "      <td>2008-08-04 02:45:08</td>\n",
              "      <td>July</td>\n",
              "    </tr>\n",
              "    <tr>\n",
              "      <th>4</th>\n",
              "      <td>1</td>\n",
              "      <td>2008-08-04 04:31:03</td>\n",
              "      <td>July</td>\n",
              "    </tr>\n",
              "    <tr>\n",
              "      <th>...</th>\n",
              "      <td>...</td>\n",
              "      <td>...</td>\n",
              "      <td>...</td>\n",
              "    </tr>\n",
              "    <tr>\n",
              "      <th>243791</th>\n",
              "      <td>5696608</td>\n",
              "      <td>2008-12-23 16:00:37</td>\n",
              "      <td>December</td>\n",
              "    </tr>\n",
              "    <tr>\n",
              "      <th>243792</th>\n",
              "      <td>5696608</td>\n",
              "      <td>2008-12-23 17:35:09</td>\n",
              "      <td>December</td>\n",
              "    </tr>\n",
              "    <tr>\n",
              "      <th>243793</th>\n",
              "      <td>5696608</td>\n",
              "      <td>2008-12-24 01:02:48</td>\n",
              "      <td>December</td>\n",
              "    </tr>\n",
              "    <tr>\n",
              "      <th>243794</th>\n",
              "      <td>5696608</td>\n",
              "      <td>2008-12-30 14:34:45</td>\n",
              "      <td>December</td>\n",
              "    </tr>\n",
              "    <tr>\n",
              "      <th>243795</th>\n",
              "      <td>5696608</td>\n",
              "      <td>2008-12-30 16:32:12</td>\n",
              "      <td>December</td>\n",
              "    </tr>\n",
              "  </tbody>\n",
              "</table>\n",
              "<p>243796 rows × 3 columns</p>\n",
              "</div>"
            ],
            "text/plain": [
              "        user_id       creation_date second_last_month\n",
              "0             1 2008-07-31 23:41:00              None\n",
              "1             1 2008-07-31 23:55:38              None\n",
              "2             1 2008-07-31 23:56:41              July\n",
              "3             1 2008-08-04 02:45:08              July\n",
              "4             1 2008-08-04 04:31:03              July\n",
              "...         ...                 ...               ...\n",
              "243791  5696608 2008-12-23 16:00:37          December\n",
              "243792  5696608 2008-12-23 17:35:09          December\n",
              "243793  5696608 2008-12-24 01:02:48          December\n",
              "243794  5696608 2008-12-30 14:34:45          December\n",
              "243795  5696608 2008-12-30 16:32:12          December\n",
              "\n",
              "[243796 rows x 3 columns]"
            ]
          },
          "execution_count": 32,
          "metadata": {},
          "output_type": "execute_result"
        }
      ],
      "source": [
        "tmp"
      ]
    },
    {
      "cell_type": "markdown",
      "metadata": {
        "id": "tf9qq2yzDWK_"
      },
      "source": [
        "# Задание 8"
      ]
    },
    {
      "cell_type": "markdown",
      "metadata": {
        "id": "gfwLVXBYDWLA"
      },
      "source": [
        "Рассчитайте аналог Retention Rate по месяцам для пользователей StackOverflow. Объедините пользователей в когорты по месяцу их первого поста. Возвращение определяйте по наличию поста в текущем месяце."
      ]
    },
    {
      "cell_type": "markdown",
      "metadata": {
        "id": "kN2ic39WlKpl"
      },
      "source": [
        "| cohort_dt | session_date | users_cnt | cohort_users_cnt | retention_rate |\n",
        "| --- | --- | --- | --- | --- |\n",
        "| 2008-07-01 00:00:00 | 2008-07-01 00:00:00 | 3 | 3 | 100 |\n",
        "| 2008-07-01 00:00:00 | 2008-08-01 00:00:00 | 2 | 3 | 66,67 |\n",
        "| 2008-07-01 00:00:00 | 2008-09-01 00:00:00 | 1 | 3 | 33,33 |\n",
        "| 2008-07-01 00:00:00 | 2008-10-01 00:00:00 | 2 | 3 | 66,67 |\n",
        "| 2008-07-01 00:00:00 | 2008-11-01 00:00:00 | 1 | 3 | 33,33 |\n",
        "| 2008-07-01 00:00:00 | 2008-12-01 00:00:00 | 2 | 3 | 66,67 |\n",
        "| 2008-08-01 00:00:00 | 2008-08-01 00:00:00 | 2151 | 2151 | 100 |\n",
        "| ... | ... | ... | ... | ... |"
      ]
    },
    {
      "cell_type": "code",
      "execution_count": null,
      "metadata": {
        "id": "rd0mc2uBajDG"
      },
      "outputs": [],
      "source": [
        "query = '''\n",
        "WITH profile AS (\n",
        "SELECT DISTINCT user_id,\n",
        "DATE_TRUNC('MONTH',MIN(creation_date))::date AS cohort_dt\n",
        "FROM stackoverflow.posts\n",
        "GROUP BY user_id),\n",
        "counter_cohort AS (\n",
        "SELECT *, COUNT(user_id) OVER (PARTITION BY cohort_dt) AS cohort_cnt\n",
        "FROM profile),\n",
        "all_sessions AS (\n",
        "SELECT DISTINCT user_id,\n",
        "DATE_TRUNC('MONTH', creation_date)::date AS session_date\n",
        "FROM stackoverflow.posts\n",
        ")\n",
        "SELECT cohort_dt,\n",
        "session_date,\n",
        "COUNT(DISTINCT all_sessions.user_id) AS user_cnt,\n",
        "cohort_cnt,\n",
        "ROUND((COUNT(counter_cohort.user_id)::numeric / cohort_cnt::numeric)*100, 2) AS retention_rate\n",
        "FROM counter_cohort JOIN\n",
        "all_sessions ON all_sessions.user_id = counter_cohort.user_id\n",
        "GROUP BY 1,2,4\n",
        "\n",
        "\n",
        "'''"
      ]
    },
    {
      "cell_type": "code",
      "execution_count": null,
      "metadata": {
        "id": "-2WGZzS6ajDG"
      },
      "outputs": [],
      "source": [
        "tmp = pd.read_sql_query(sql=query,con=engine)"
      ]
    },
    {
      "cell_type": "code",
      "execution_count": null,
      "metadata": {
        "scrolled": true,
        "id": "pgcr45xoajDG",
        "outputId": "9bb76a53-b026-4402-eced-9f445c9925ed"
      },
      "outputs": [
        {
          "data": {
            "text/html": [
              "<div>\n",
              "<style scoped>\n",
              "    .dataframe tbody tr th:only-of-type {\n",
              "        vertical-align: middle;\n",
              "    }\n",
              "\n",
              "    .dataframe tbody tr th {\n",
              "        vertical-align: top;\n",
              "    }\n",
              "\n",
              "    .dataframe thead th {\n",
              "        text-align: right;\n",
              "    }\n",
              "</style>\n",
              "<table border=\"1\" class=\"dataframe\">\n",
              "  <thead>\n",
              "    <tr style=\"text-align: right;\">\n",
              "      <th></th>\n",
              "      <th>cohort_dt</th>\n",
              "      <th>session_date</th>\n",
              "      <th>user_cnt</th>\n",
              "      <th>cohort_cnt</th>\n",
              "      <th>retention_rate</th>\n",
              "    </tr>\n",
              "  </thead>\n",
              "  <tbody>\n",
              "    <tr>\n",
              "      <th>0</th>\n",
              "      <td>2008-07-01</td>\n",
              "      <td>2008-07-01</td>\n",
              "      <td>3</td>\n",
              "      <td>3</td>\n",
              "      <td>100.00</td>\n",
              "    </tr>\n",
              "    <tr>\n",
              "      <th>1</th>\n",
              "      <td>2008-07-01</td>\n",
              "      <td>2008-08-01</td>\n",
              "      <td>2</td>\n",
              "      <td>3</td>\n",
              "      <td>66.67</td>\n",
              "    </tr>\n",
              "    <tr>\n",
              "      <th>2</th>\n",
              "      <td>2008-07-01</td>\n",
              "      <td>2008-09-01</td>\n",
              "      <td>1</td>\n",
              "      <td>3</td>\n",
              "      <td>33.33</td>\n",
              "    </tr>\n",
              "    <tr>\n",
              "      <th>3</th>\n",
              "      <td>2008-07-01</td>\n",
              "      <td>2008-10-01</td>\n",
              "      <td>2</td>\n",
              "      <td>3</td>\n",
              "      <td>66.67</td>\n",
              "    </tr>\n",
              "    <tr>\n",
              "      <th>4</th>\n",
              "      <td>2008-07-01</td>\n",
              "      <td>2008-11-01</td>\n",
              "      <td>1</td>\n",
              "      <td>3</td>\n",
              "      <td>33.33</td>\n",
              "    </tr>\n",
              "    <tr>\n",
              "      <th>5</th>\n",
              "      <td>2008-07-01</td>\n",
              "      <td>2008-12-01</td>\n",
              "      <td>2</td>\n",
              "      <td>3</td>\n",
              "      <td>66.67</td>\n",
              "    </tr>\n",
              "    <tr>\n",
              "      <th>6</th>\n",
              "      <td>2008-08-01</td>\n",
              "      <td>2008-08-01</td>\n",
              "      <td>2151</td>\n",
              "      <td>2151</td>\n",
              "      <td>100.00</td>\n",
              "    </tr>\n",
              "    <tr>\n",
              "      <th>7</th>\n",
              "      <td>2008-08-01</td>\n",
              "      <td>2008-09-01</td>\n",
              "      <td>1571</td>\n",
              "      <td>2151</td>\n",
              "      <td>73.04</td>\n",
              "    </tr>\n",
              "    <tr>\n",
              "      <th>8</th>\n",
              "      <td>2008-08-01</td>\n",
              "      <td>2008-10-01</td>\n",
              "      <td>1275</td>\n",
              "      <td>2151</td>\n",
              "      <td>59.27</td>\n",
              "    </tr>\n",
              "    <tr>\n",
              "      <th>9</th>\n",
              "      <td>2008-08-01</td>\n",
              "      <td>2008-11-01</td>\n",
              "      <td>1050</td>\n",
              "      <td>2151</td>\n",
              "      <td>48.81</td>\n",
              "    </tr>\n",
              "    <tr>\n",
              "      <th>10</th>\n",
              "      <td>2008-08-01</td>\n",
              "      <td>2008-12-01</td>\n",
              "      <td>894</td>\n",
              "      <td>2151</td>\n",
              "      <td>41.56</td>\n",
              "    </tr>\n",
              "    <tr>\n",
              "      <th>11</th>\n",
              "      <td>2008-09-01</td>\n",
              "      <td>2008-09-01</td>\n",
              "      <td>7678</td>\n",
              "      <td>7678</td>\n",
              "      <td>100.00</td>\n",
              "    </tr>\n",
              "    <tr>\n",
              "      <th>12</th>\n",
              "      <td>2008-09-01</td>\n",
              "      <td>2008-10-01</td>\n",
              "      <td>4132</td>\n",
              "      <td>7678</td>\n",
              "      <td>53.82</td>\n",
              "    </tr>\n",
              "    <tr>\n",
              "      <th>13</th>\n",
              "      <td>2008-09-01</td>\n",
              "      <td>2008-11-01</td>\n",
              "      <td>2966</td>\n",
              "      <td>7678</td>\n",
              "      <td>38.63</td>\n",
              "    </tr>\n",
              "    <tr>\n",
              "      <th>14</th>\n",
              "      <td>2008-09-01</td>\n",
              "      <td>2008-12-01</td>\n",
              "      <td>2500</td>\n",
              "      <td>7678</td>\n",
              "      <td>32.56</td>\n",
              "    </tr>\n",
              "    <tr>\n",
              "      <th>15</th>\n",
              "      <td>2008-10-01</td>\n",
              "      <td>2008-10-01</td>\n",
              "      <td>3629</td>\n",
              "      <td>3629</td>\n",
              "      <td>100.00</td>\n",
              "    </tr>\n",
              "    <tr>\n",
              "      <th>16</th>\n",
              "      <td>2008-10-01</td>\n",
              "      <td>2008-11-01</td>\n",
              "      <td>1640</td>\n",
              "      <td>3629</td>\n",
              "      <td>45.19</td>\n",
              "    </tr>\n",
              "    <tr>\n",
              "      <th>17</th>\n",
              "      <td>2008-10-01</td>\n",
              "      <td>2008-12-01</td>\n",
              "      <td>1221</td>\n",
              "      <td>3629</td>\n",
              "      <td>33.65</td>\n",
              "    </tr>\n",
              "    <tr>\n",
              "      <th>18</th>\n",
              "      <td>2008-11-01</td>\n",
              "      <td>2008-11-01</td>\n",
              "      <td>2852</td>\n",
              "      <td>2852</td>\n",
              "      <td>100.00</td>\n",
              "    </tr>\n",
              "    <tr>\n",
              "      <th>19</th>\n",
              "      <td>2008-11-01</td>\n",
              "      <td>2008-12-01</td>\n",
              "      <td>1151</td>\n",
              "      <td>2852</td>\n",
              "      <td>40.36</td>\n",
              "    </tr>\n",
              "    <tr>\n",
              "      <th>20</th>\n",
              "      <td>2008-12-01</td>\n",
              "      <td>2008-12-01</td>\n",
              "      <td>2536</td>\n",
              "      <td>2536</td>\n",
              "      <td>100.00</td>\n",
              "    </tr>\n",
              "  </tbody>\n",
              "</table>\n",
              "</div>"
            ],
            "text/plain": [
              "     cohort_dt session_date  user_cnt  cohort_cnt  retention_rate\n",
              "0   2008-07-01   2008-07-01         3           3          100.00\n",
              "1   2008-07-01   2008-08-01         2           3           66.67\n",
              "2   2008-07-01   2008-09-01         1           3           33.33\n",
              "3   2008-07-01   2008-10-01         2           3           66.67\n",
              "4   2008-07-01   2008-11-01         1           3           33.33\n",
              "5   2008-07-01   2008-12-01         2           3           66.67\n",
              "6   2008-08-01   2008-08-01      2151        2151          100.00\n",
              "7   2008-08-01   2008-09-01      1571        2151           73.04\n",
              "8   2008-08-01   2008-10-01      1275        2151           59.27\n",
              "9   2008-08-01   2008-11-01      1050        2151           48.81\n",
              "10  2008-08-01   2008-12-01       894        2151           41.56\n",
              "11  2008-09-01   2008-09-01      7678        7678          100.00\n",
              "12  2008-09-01   2008-10-01      4132        7678           53.82\n",
              "13  2008-09-01   2008-11-01      2966        7678           38.63\n",
              "14  2008-09-01   2008-12-01      2500        7678           32.56\n",
              "15  2008-10-01   2008-10-01      3629        3629          100.00\n",
              "16  2008-10-01   2008-11-01      1640        3629           45.19\n",
              "17  2008-10-01   2008-12-01      1221        3629           33.65\n",
              "18  2008-11-01   2008-11-01      2852        2852          100.00\n",
              "19  2008-11-01   2008-12-01      1151        2852           40.36\n",
              "20  2008-12-01   2008-12-01      2536        2536          100.00"
            ]
          },
          "execution_count": 35,
          "metadata": {},
          "output_type": "execute_result"
        }
      ],
      "source": [
        "tmp"
      ]
    },
    {
      "cell_type": "markdown",
      "metadata": {
        "id": "Yavb5o9JDWLB"
      },
      "source": [
        "<details>\n",
        "\n",
        "<summary>Подсказка</summary>\n",
        "Вспомните, как выглядел запрос для расчёта Retention Rate в теории. Создайте две временные таблицы: `profile` и `sessions` (в ней будет информация о публикациях), а затем используйте их в основном запросе.\n",
        "\n",
        "Во временной таблице `profile` вам понадобятся три поля:\n",
        "\n",
        "- идентификатор пользователя;\n",
        "- дата первого поста пользователя, усечённая до месяца (признак начала когорты);\n",
        "- количество пользователей этой когорты.\n",
        "</details>"
      ]
    },
    {
      "cell_type": "markdown",
      "metadata": {
        "id": "_msBtnb2DWLC"
      },
      "source": [
        "Постройте тепловую карту Retention Rate. Какие аномалии или другие необычные явления удалось выявить? Сформулируйте гипотезы о возможных причинах."
      ]
    },
    {
      "cell_type": "code",
      "execution_count": null,
      "metadata": {
        "id": "qAEJc8H1DWLC",
        "outputId": "7e99b3b1-ba8a-4c12-ecfd-297429cc1d8c"
      },
      "outputs": [
        {
          "data": {
            "image/png": "[encoded data removed]",
            "text/plain": [
              "<Figure size 720x720 with 2 Axes>"
            ]
          },
          "metadata": {
            "needs_background": "light"
          },
          "output_type": "display_data"
        }
      ],
      "source": [
        "# постройте тепловую карту Retention Rate\n",
        "retention = tmp.pivot('cohort_dt', 'session_date', 'retention_rate')\n",
        "retention.index = [str(x)[0:10] for x in retention.index]\n",
        "retention.columns = [str(x)[0:10] for x in retention.columns]\n",
        "plt.figure(figsize=(10, 10))\n",
        "sns.heatmap(retention,\n",
        "            annot=True,\n",
        "            fmt='')\n",
        "plt.title('Тепловая карта')\n",
        "plt.show()"
      ]
    },
    {
      "cell_type": "markdown",
      "metadata": {
        "id": "EgOfIsI4DWLC"
      },
      "source": [
        "\n",
        "**Вывод:**\n",
        "\n",
        "* Аномалии:\n",
        "    * для первой когорты значения сменяют друг друга и скачут. Тогда как обычно удержание уменьшается по экспоненте либо линейно\n",
        "\n",
        "* Причина - вероятнее всего техническая для аномалий с чехардой, а для второго это  "
      ]
    },
    {
      "cell_type": "markdown",
      "metadata": {
        "id": "1k7oPWt5DWLK"
      },
      "source": [
        "# Задание 9\n"
      ]
    },
    {
      "cell_type": "markdown",
      "metadata": {
        "id": "ALsYVSyRDWLM"
      },
      "source": [
        "На сколько процентов менялось количество постов ежемесячно с 1 сентября по 31 декабря 2008 года? Отобразите таблицу со следующими полями:\n",
        "\n",
        "- номер месяца;\n",
        "- количество постов за месяц;\n",
        "- процент, который показывает, насколько изменилось количество постов в текущем месяце по сравнению с предыдущим.\n",
        "\n",
        "Если постов стало меньше, значение процента должно быть отрицательным, если больше — положительным. Округлите значение процента до двух знаков после запятой.\n",
        "\n",
        "Напомним, что при делении одного целого числа на другое в PostgreSQL в результате получится целое число, округлённое до ближайшего целого вниз. Чтобы этого избежать, переведите делимое в тип `numeric`."
      ]
    },
    {
      "cell_type": "markdown",
      "metadata": {
        "id": "u4E2zF8DDWLM"
      },
      "source": [
        "| creation_month | posts_count | percentage |\n",
        "| -------------- | ----------- | ---------- |\n",
        "| 9 | 70731 | Nan |\n",
        "| 10 | 63102 | -10.33 |\n",
        "| ... | ... | ... |"
      ]
    },
    {
      "cell_type": "code",
      "execution_count": null,
      "metadata": {
        "id": "Mb5pShStDWLN"
      },
      "outputs": [],
      "source": [
        "# напишите запрос\n",
        "query = '''\n",
        "SELECT EXTRACT(MONTH FROM creation_date::date) as creation_month, COUNT(*),\n",
        "ROUND((COUNT(*) - LAG(COUNT(*)) OVER ())::numeric / (LAG(COUNT(*)) OVER ())*100,2)\n",
        "FROM stackoverflow.posts\n",
        "WHERE (EXTRACT(MONTH FROM creation_date::date) BETWEEN 9 AND 12) AND (EXTRACT(YEAR FROM creation_date::date) = 2008)\n",
        "GROUP BY 1\n",
        "'''\n",
        "\n",
        "# выполните запрос"
      ]
    },
    {
      "cell_type": "code",
      "execution_count": null,
      "metadata": {
        "id": "C_h33ITkajDJ"
      },
      "outputs": [],
      "source": [
        "tmp = pd.read_sql_query(sql=query,con=engine)"
      ]
    },
    {
      "cell_type": "code",
      "execution_count": null,
      "metadata": {
        "scrolled": true,
        "id": "tA7fLRvVajDJ",
        "outputId": "c552c4d5-7924-4159-b710-19f2d51e844e"
      },
      "outputs": [
        {
          "data": {
            "text/html": [
              "<div>\n",
              "<style scoped>\n",
              "    .dataframe tbody tr th:only-of-type {\n",
              "        vertical-align: middle;\n",
              "    }\n",
              "\n",
              "    .dataframe tbody tr th {\n",
              "        vertical-align: top;\n",
              "    }\n",
              "\n",
              "    .dataframe thead th {\n",
              "        text-align: right;\n",
              "    }\n",
              "</style>\n",
              "<table border=\"1\" class=\"dataframe\">\n",
              "  <thead>\n",
              "    <tr style=\"text-align: right;\">\n",
              "      <th></th>\n",
              "      <th>creation_month</th>\n",
              "      <th>count</th>\n",
              "      <th>round</th>\n",
              "    </tr>\n",
              "  </thead>\n",
              "  <tbody>\n",
              "    <tr>\n",
              "      <th>0</th>\n",
              "      <td>9.0</td>\n",
              "      <td>70371</td>\n",
              "      <td>NaN</td>\n",
              "    </tr>\n",
              "    <tr>\n",
              "      <th>1</th>\n",
              "      <td>10.0</td>\n",
              "      <td>63102</td>\n",
              "      <td>-10.33</td>\n",
              "    </tr>\n",
              "    <tr>\n",
              "      <th>2</th>\n",
              "      <td>11.0</td>\n",
              "      <td>46975</td>\n",
              "      <td>-25.56</td>\n",
              "    </tr>\n",
              "    <tr>\n",
              "      <th>3</th>\n",
              "      <td>12.0</td>\n",
              "      <td>44592</td>\n",
              "      <td>-5.07</td>\n",
              "    </tr>\n",
              "  </tbody>\n",
              "</table>\n",
              "</div>"
            ],
            "text/plain": [
              "   creation_month  count  round\n",
              "0             9.0  70371    NaN\n",
              "1            10.0  63102 -10.33\n",
              "2            11.0  46975 -25.56\n",
              "3            12.0  44592  -5.07"
            ]
          },
          "execution_count": 39,
          "metadata": {},
          "output_type": "execute_result"
        }
      ],
      "source": [
        "tmp"
      ]
    },
    {
      "cell_type": "markdown",
      "metadata": {
        "id": "9NQE2y_MDWLP"
      },
      "source": [
        "Постройте круговую диаграмму с количеством постов по месяцам."
      ]
    },
    {
      "cell_type": "code",
      "execution_count": null,
      "metadata": {
        "id": "377ABjiVDWLP",
        "outputId": "0952fd84-ce7a-4d19-ed0b-85394389d8e2"
      },
      "outputs": [
        {
          "data": {
            "image/png": "[encoded data removed]",
            "text/plain": [
              "<Figure size 432x288 with 1 Axes>"
            ]
          },
          "metadata": {},
          "output_type": "display_data"
        }
      ],
      "source": [
        "# постройте круговую диаграмму с количеством постов по месяцам\n",
        "plt.pie(data=tmp,x='count',labels=['September','October','November','December'],autopct='%.0f%%',shadow=True,colors= [\"#00ebc1\", \"#00b8ba\", \"#0085b4\", \"#0051ad\", \"#001ea6\"])\n",
        "plt.title('Доля общего количества публикаций по месяцам')\n",
        "plt.show()\n"
      ]
    },
    {
      "cell_type": "markdown",
      "metadata": {
        "id": "YSZGUacFajDK"
      },
      "source": [
        "**Вывод:**\n",
        "* С сентября по декабрь 2008 года наблюдался стабильный упадок кол-ва публикаций по месяцам:\n",
        "    * **Сентябрь - 70_371**\n",
        "    * **Октябрь - 60_102**\n",
        "    * **Ноябрь - 46_975**\n",
        "    * **Декабрь - 44_592**\n",
        "    "
      ]
    },
    {
      "cell_type": "markdown",
      "metadata": {
        "id": "uw7qMtafDWLP"
      },
      "source": [
        "# Задание 10"
      ]
    },
    {
      "cell_type": "markdown",
      "metadata": {
        "id": "oRBpWKx3DWLQ"
      },
      "source": [
        "Выгрузите данные активности пользователя, который опубликовал больше всего постов за всё время. Выведите данные за октябрь 2008 года в таком виде:\n",
        "\n",
        "- номер недели;\n",
        "- дата и время последнего поста, опубликованного на этой неделе."
      ]
    },
    {
      "cell_type": "markdown",
      "metadata": {
        "id": "XjAWSn_3DWLQ"
      },
      "source": [
        "| week_creation | creation_date |\n",
        "| ------------- | ------------- |\n",
        "| 40 | 2008-10-05 09:00:58 |\n",
        "| 41 | 2008-10-12 21:22:23 |\n",
        "| ... | ... |"
      ]
    },
    {
      "cell_type": "code",
      "execution_count": null,
      "metadata": {
        "id": "9gD_67bDajDL"
      },
      "outputs": [],
      "source": [
        "# напишите запрос\n",
        "query = '''\n",
        "WITH max_posts_user AS (\n",
        "(SELECT users.id\n",
        "FROM stackoverflow.posts JOIN\n",
        "    stackoverflow.users ON posts.user_id = users.id\n",
        "GROUP BY users.id\n",
        "ORDER BY COUNT(*) DESC\n",
        "LIMIT 1))\n",
        "\n",
        "SELECT DISTINCT EXTRACT(WEEK FROM creation_date)::int, LAST_VALUE(creation_date) OVER (PARTITION BY EXTRACT(WEEK FROM creation_date)::int ORDER BY creation_date RANGE BETWEEN UNBOUNDED PRECEDING AND UNBOUNDED FOLLOWING)\n",
        "FROM stackoverflow.posts\n",
        "WHERE EXTRACT(MONTH FROM creation_date) = 10 AND user_id IN (SELECT *\n",
        "                                                             FROM max_posts_user)\n",
        "GROUP BY creation_date\n",
        "'''\n",
        "\n",
        "# выполните запрос"
      ]
    },
    {
      "cell_type": "code",
      "execution_count": null,
      "metadata": {
        "id": "fC2de8qyajDL"
      },
      "outputs": [],
      "source": [
        "tmp = pd.read_sql_query(sql=query,con=engine)"
      ]
    },
    {
      "cell_type": "code",
      "execution_count": null,
      "metadata": {
        "scrolled": true,
        "id": "ULZjpEmFajDL",
        "outputId": "168278bf-6897-481d-dd15-a3033bc7f898"
      },
      "outputs": [
        {
          "data": {
            "text/html": [
              "<div>\n",
              "<style scoped>\n",
              "    .dataframe tbody tr th:only-of-type {\n",
              "        vertical-align: middle;\n",
              "    }\n",
              "\n",
              "    .dataframe tbody tr th {\n",
              "        vertical-align: top;\n",
              "    }\n",
              "\n",
              "    .dataframe thead th {\n",
              "        text-align: right;\n",
              "    }\n",
              "</style>\n",
              "<table border=\"1\" class=\"dataframe\">\n",
              "  <thead>\n",
              "    <tr style=\"text-align: right;\">\n",
              "      <th></th>\n",
              "      <th>date_part</th>\n",
              "      <th>last_value</th>\n",
              "    </tr>\n",
              "  </thead>\n",
              "  <tbody>\n",
              "    <tr>\n",
              "      <th>0</th>\n",
              "      <td>40</td>\n",
              "      <td>2008-10-05 09:00:58</td>\n",
              "    </tr>\n",
              "    <tr>\n",
              "      <th>1</th>\n",
              "      <td>41</td>\n",
              "      <td>2008-10-12 21:22:23</td>\n",
              "    </tr>\n",
              "    <tr>\n",
              "      <th>2</th>\n",
              "      <td>42</td>\n",
              "      <td>2008-10-19 06:49:30</td>\n",
              "    </tr>\n",
              "    <tr>\n",
              "      <th>3</th>\n",
              "      <td>43</td>\n",
              "      <td>2008-10-26 21:44:36</td>\n",
              "    </tr>\n",
              "    <tr>\n",
              "      <th>4</th>\n",
              "      <td>44</td>\n",
              "      <td>2008-10-31 22:16:01</td>\n",
              "    </tr>\n",
              "  </tbody>\n",
              "</table>\n",
              "</div>"
            ],
            "text/plain": [
              "   date_part          last_value\n",
              "0         40 2008-10-05 09:00:58\n",
              "1         41 2008-10-12 21:22:23\n",
              "2         42 2008-10-19 06:49:30\n",
              "3         43 2008-10-26 21:44:36\n",
              "4         44 2008-10-31 22:16:01"
            ]
          },
          "execution_count": 43,
          "metadata": {},
          "output_type": "execute_result"
        }
      ],
      "source": [
        "tmp"
      ]
    },
    {
      "cell_type": "markdown",
      "metadata": {
        "id": "jmvKHThGajDL"
      },
      "source": [
        "# Общий вывод"
      ]
    },
    {
      "cell_type": "markdown",
      "metadata": {
        "id": "EFzfiY0zajDL"
      },
      "source": [
        "**Общий вывод:**\n",
        "\n",
        "\n",
        "С помощью библиотеки sqlalchemy были выполнены поставленные задачи. Данны соответствующие выводы.\n",
        "\n",
        "* **Задние 1 Анализ общего количества публикаций по месяцам**\n",
        "    * Максимальное кол-во публикаций равно **452_928_568** и приходится на сентябрь 2008 года\n",
        "    * Минимальное равно **669_895**, сделанные за июль 2008 года\n",
        "    * Ключевые выводы:\n",
        "        * 3 месяца с июль по сентябрь наблюдался резкий рост публикаций.\n",
        "        * С октября по декабрь наблюдался спад.\n",
        "        \n",
        "        \n",
        "* **Задание 2 Анализ отображающихся имен пользователей**\n",
        "    * **254 пользователей с 19 неуникальными именами**\n",
        "    * **57 уникальных отображающихся имен**\n",
        "\n",
        "* **Задание 3 Количество публикаций за 2008 год по месяцам, пользователей, зарегистрированных в сентябре 2008 года.**\n",
        "    * Были выявлены аномалии -   32 публикаций в августе 2008 года\n",
        "* **Задание 6 Сколько в среднем на первой недели декабря 2008 года пользователи взаимодействовали с сайтом.\n",
        "    * В среднем пользователи были активны **2 дня** в первой недели декабря 2008 года\n",
        "\n",
        "\n",
        "* **Задание 8 Когортный анализ**\n",
        "    * Аномалии: для первой когорты значения сменяют друг друга и скачут. Тогда как обычно удержание уменьшается по экспоненте либо линейно\n",
        "\n",
        "* **Задание 9 На сколько процентов менялось количество постов ежемесячно с 1 сентября по 31 декабря 2008 года**\n",
        "    * С сентября по декабрь 2008 года наблюдался стабильный упадок кол-ва публикаций по месяцам:\n",
        "        * **Сентябрь - 70_371**\n",
        "        * **Октябрь - 60_102**\n",
        "        * **Ноябрь - 46_975**\n",
        "        * **Декабрь - 44_592**\n",
        "    "
      ]
    }
  ],
  "metadata": {
    "ExecuteTimeLog": [
      {
        "duration": 911,
        "start_time": "2023-03-16T14:31:28.856Z"
      },
      {
        "duration": 4,
        "start_time": "2023-03-16T14:31:39.881Z"
      },
      {
        "duration": 6197,
        "start_time": "2023-03-16T14:31:40.692Z"
      },
      {
        "duration": 223,
        "start_time": "2023-03-16T14:31:48.797Z"
      },
      {
        "duration": 15,
        "start_time": "2023-03-16T15:22:43.213Z"
      },
      {
        "duration": 2,
        "start_time": "2023-03-16T16:03:46.709Z"
      },
      {
        "duration": 185,
        "start_time": "2023-03-16T16:06:08.306Z"
      },
      {
        "duration": 3,
        "start_time": "2023-03-16T16:06:34.127Z"
      },
      {
        "duration": 168,
        "start_time": "2023-03-16T16:06:34.720Z"
      },
      {
        "duration": 3,
        "start_time": "2023-03-16T16:09:24.679Z"
      },
      {
        "duration": 385,
        "start_time": "2023-03-16T16:09:25.376Z"
      },
      {
        "duration": 3,
        "start_time": "2023-03-16T16:09:40.624Z"
      },
      {
        "duration": 116,
        "start_time": "2023-03-16T16:09:40.893Z"
      },
      {
        "duration": 7,
        "start_time": "2023-03-16T16:09:49.407Z"
      },
      {
        "duration": 163,
        "start_time": "2023-03-16T16:10:24.312Z"
      },
      {
        "duration": 321,
        "start_time": "2023-03-16T16:14:27.264Z"
      },
      {
        "duration": 3235,
        "start_time": "2023-03-16T16:16:15.724Z"
      },
      {
        "duration": 5,
        "start_time": "2023-03-16T16:16:24.291Z"
      },
      {
        "duration": 238,
        "start_time": "2023-03-16T16:16:25.813Z"
      },
      {
        "duration": 4,
        "start_time": "2023-03-16T16:16:34.852Z"
      },
      {
        "duration": 115,
        "start_time": "2023-03-16T16:16:35.142Z"
      },
      {
        "duration": 209,
        "start_time": "2023-03-16T16:16:35.889Z"
      },
      {
        "duration": 13,
        "start_time": "2023-03-16T16:17:28.460Z"
      },
      {
        "duration": 75,
        "start_time": "2023-03-16T16:18:37.591Z"
      },
      {
        "duration": 76,
        "start_time": "2023-03-16T16:19:45.821Z"
      },
      {
        "duration": 72,
        "start_time": "2023-03-16T16:19:55.378Z"
      },
      {
        "duration": 3,
        "start_time": "2023-03-16T17:51:06.634Z"
      },
      {
        "duration": 99,
        "start_time": "2023-03-16T17:51:09.312Z"
      },
      {
        "duration": 4,
        "start_time": "2023-03-16T17:51:20.162Z"
      },
      {
        "duration": 75,
        "start_time": "2023-03-16T17:51:21.010Z"
      },
      {
        "duration": 7,
        "start_time": "2023-03-16T17:51:23.249Z"
      },
      {
        "duration": 3,
        "start_time": "2023-03-16T17:51:36.893Z"
      },
      {
        "duration": 84,
        "start_time": "2023-03-16T17:51:37.747Z"
      },
      {
        "duration": 8,
        "start_time": "2023-03-16T17:51:38.759Z"
      },
      {
        "duration": 4,
        "start_time": "2023-03-16T17:52:42.591Z"
      },
      {
        "duration": 103,
        "start_time": "2023-03-16T17:52:43.409Z"
      },
      {
        "duration": 5,
        "start_time": "2023-03-16T17:52:43.766Z"
      },
      {
        "duration": 3,
        "start_time": "2023-03-16T17:52:56.753Z"
      },
      {
        "duration": 113,
        "start_time": "2023-03-16T17:52:57.713Z"
      },
      {
        "duration": 3,
        "start_time": "2023-03-16T17:53:43.608Z"
      },
      {
        "duration": 129,
        "start_time": "2023-03-16T17:53:43.995Z"
      },
      {
        "duration": 10,
        "start_time": "2023-03-16T17:53:44.625Z"
      },
      {
        "duration": 4,
        "start_time": "2023-03-16T17:54:53.264Z"
      },
      {
        "duration": 122,
        "start_time": "2023-03-16T17:54:53.845Z"
      },
      {
        "duration": 9,
        "start_time": "2023-03-16T17:54:54.199Z"
      },
      {
        "duration": 2,
        "start_time": "2023-03-16T17:54:59.584Z"
      },
      {
        "duration": 119,
        "start_time": "2023-03-16T17:54:59.944Z"
      },
      {
        "duration": 9,
        "start_time": "2023-03-16T17:55:01.328Z"
      },
      {
        "duration": 461,
        "start_time": "2023-03-16T17:55:04.407Z"
      },
      {
        "duration": 2,
        "start_time": "2023-03-16T17:55:05.440Z"
      },
      {
        "duration": 90,
        "start_time": "2023-03-16T17:55:06.464Z"
      },
      {
        "duration": 3,
        "start_time": "2023-03-16T17:55:15.892Z"
      },
      {
        "duration": 132,
        "start_time": "2023-03-16T17:55:16.487Z"
      },
      {
        "duration": 10,
        "start_time": "2023-03-16T17:55:17.135Z"
      },
      {
        "duration": 3,
        "start_time": "2023-03-16T17:56:58.381Z"
      },
      {
        "duration": 122,
        "start_time": "2023-03-16T17:56:59.486Z"
      },
      {
        "duration": 16,
        "start_time": "2023-03-16T17:57:00.382Z"
      },
      {
        "duration": 3,
        "start_time": "2023-03-16T17:57:11.438Z"
      },
      {
        "duration": 102,
        "start_time": "2023-03-16T17:57:12.085Z"
      },
      {
        "duration": 8,
        "start_time": "2023-03-16T17:57:12.239Z"
      },
      {
        "duration": 3,
        "start_time": "2023-03-16T17:57:26.385Z"
      },
      {
        "duration": 130,
        "start_time": "2023-03-16T17:57:26.911Z"
      },
      {
        "duration": 9,
        "start_time": "2023-03-16T17:57:28.494Z"
      },
      {
        "duration": 3,
        "start_time": "2023-03-16T17:57:45.487Z"
      },
      {
        "duration": 142,
        "start_time": "2023-03-16T17:57:45.967Z"
      },
      {
        "duration": 12,
        "start_time": "2023-03-16T17:57:46.112Z"
      },
      {
        "duration": 4,
        "start_time": "2023-03-16T17:57:55.475Z"
      },
      {
        "duration": 129,
        "start_time": "2023-03-16T17:57:56.094Z"
      },
      {
        "duration": 8,
        "start_time": "2023-03-16T17:57:56.302Z"
      },
      {
        "duration": 2,
        "start_time": "2023-03-16T17:58:07.919Z"
      },
      {
        "duration": 3,
        "start_time": "2023-03-16T17:58:10.935Z"
      },
      {
        "duration": 116,
        "start_time": "2023-03-16T17:58:11.112Z"
      },
      {
        "duration": 11,
        "start_time": "2023-03-16T17:58:11.311Z"
      },
      {
        "duration": 7,
        "start_time": "2023-03-16T17:58:17.519Z"
      },
      {
        "duration": 3,
        "start_time": "2023-03-16T17:58:34.901Z"
      },
      {
        "duration": 159,
        "start_time": "2023-03-16T17:58:35.887Z"
      },
      {
        "duration": 9,
        "start_time": "2023-03-16T17:58:37.111Z"
      },
      {
        "duration": 3,
        "start_time": "2023-03-16T17:59:00.710Z"
      },
      {
        "duration": 162,
        "start_time": "2023-03-16T17:59:01.093Z"
      },
      {
        "duration": 6,
        "start_time": "2023-03-16T17:59:01.258Z"
      },
      {
        "duration": 3,
        "start_time": "2023-03-16T17:59:13.141Z"
      },
      {
        "duration": 157,
        "start_time": "2023-03-16T17:59:13.685Z"
      },
      {
        "duration": 9,
        "start_time": "2023-03-16T17:59:13.844Z"
      },
      {
        "duration": 3,
        "start_time": "2023-03-16T17:59:34.439Z"
      },
      {
        "duration": 156,
        "start_time": "2023-03-16T17:59:34.806Z"
      },
      {
        "duration": 8,
        "start_time": "2023-03-16T17:59:34.964Z"
      },
      {
        "duration": 164,
        "start_time": "2023-03-16T18:00:59.311Z"
      },
      {
        "duration": 11,
        "start_time": "2023-03-16T18:00:59.516Z"
      },
      {
        "duration": 3,
        "start_time": "2023-03-16T18:01:01.821Z"
      },
      {
        "duration": 177,
        "start_time": "2023-03-16T18:01:02.375Z"
      },
      {
        "duration": 8,
        "start_time": "2023-03-16T18:01:02.554Z"
      },
      {
        "duration": 3,
        "start_time": "2023-03-16T18:01:12.173Z"
      },
      {
        "duration": 158,
        "start_time": "2023-03-16T18:01:12.732Z"
      },
      {
        "duration": 9,
        "start_time": "2023-03-16T18:01:12.918Z"
      },
      {
        "duration": 4,
        "start_time": "2023-03-16T18:01:25.716Z"
      },
      {
        "duration": 157,
        "start_time": "2023-03-16T18:01:26.406Z"
      },
      {
        "duration": 9,
        "start_time": "2023-03-16T18:01:26.629Z"
      },
      {
        "duration": 3,
        "start_time": "2023-03-16T18:01:42.191Z"
      },
      {
        "duration": 169,
        "start_time": "2023-03-16T18:01:42.693Z"
      },
      {
        "duration": 11,
        "start_time": "2023-03-16T18:01:42.864Z"
      },
      {
        "duration": 4,
        "start_time": "2023-03-16T18:01:45.581Z"
      },
      {
        "duration": 171,
        "start_time": "2023-03-16T18:01:46.196Z"
      },
      {
        "duration": 11,
        "start_time": "2023-03-16T18:01:46.629Z"
      },
      {
        "duration": 4,
        "start_time": "2023-03-16T18:07:06.074Z"
      },
      {
        "duration": 104,
        "start_time": "2023-03-16T18:07:16.250Z"
      },
      {
        "duration": 3,
        "start_time": "2023-03-16T18:07:23.035Z"
      },
      {
        "duration": 122,
        "start_time": "2023-03-16T18:07:23.194Z"
      },
      {
        "duration": 7,
        "start_time": "2023-03-16T18:07:23.322Z"
      },
      {
        "duration": 3,
        "start_time": "2023-03-16T18:07:32.441Z"
      },
      {
        "duration": 104,
        "start_time": "2023-03-16T18:07:32.786Z"
      },
      {
        "duration": 3,
        "start_time": "2023-03-16T18:07:52.771Z"
      },
      {
        "duration": 125,
        "start_time": "2023-03-16T18:07:53.042Z"
      },
      {
        "duration": 3,
        "start_time": "2023-03-16T18:08:00.002Z"
      },
      {
        "duration": 85,
        "start_time": "2023-03-16T18:08:00.338Z"
      },
      {
        "duration": 3,
        "start_time": "2023-03-16T18:08:05.506Z"
      },
      {
        "duration": 107,
        "start_time": "2023-03-16T18:08:05.857Z"
      },
      {
        "duration": 13,
        "start_time": "2023-03-16T18:08:06.026Z"
      },
      {
        "duration": 3,
        "start_time": "2023-03-16T18:08:11.706Z"
      },
      {
        "duration": 81,
        "start_time": "2023-03-16T18:08:12.019Z"
      },
      {
        "duration": 9,
        "start_time": "2023-03-16T18:08:12.195Z"
      },
      {
        "duration": 1032,
        "start_time": "2023-03-17T07:49:07.695Z"
      },
      {
        "duration": 4,
        "start_time": "2023-03-17T07:49:08.729Z"
      },
      {
        "duration": 12419,
        "start_time": "2023-03-17T07:49:10.088Z"
      },
      {
        "duration": 3,
        "start_time": "2023-03-17T07:49:22.510Z"
      },
      {
        "duration": 311,
        "start_time": "2023-03-17T07:49:22.516Z"
      },
      {
        "duration": 17,
        "start_time": "2023-03-17T07:49:22.831Z"
      },
      {
        "duration": 18,
        "start_time": "2023-03-17T07:49:22.851Z"
      },
      {
        "duration": 925,
        "start_time": "2023-03-18T10:40:20.333Z"
      },
      {
        "duration": 3,
        "start_time": "2023-03-18T10:40:21.261Z"
      },
      {
        "duration": 12812,
        "start_time": "2023-03-18T10:40:21.638Z"
      },
      {
        "duration": 43,
        "start_time": "2023-03-18T10:40:34.452Z"
      },
      {
        "duration": 15,
        "start_time": "2023-03-18T10:40:34.497Z"
      },
      {
        "duration": 3,
        "start_time": "2023-03-18T10:40:34.514Z"
      },
      {
        "duration": 85,
        "start_time": "2023-03-18T10:40:34.518Z"
      },
      {
        "duration": 8,
        "start_time": "2023-03-18T10:40:34.604Z"
      },
      {
        "duration": 4,
        "start_time": "2023-03-18T10:40:34.613Z"
      },
      {
        "duration": 4,
        "start_time": "2023-03-18T10:40:34.619Z"
      },
      {
        "duration": 3,
        "start_time": "2023-03-18T10:41:01.531Z"
      },
      {
        "duration": 130,
        "start_time": "2023-03-18T10:41:02.643Z"
      },
      {
        "duration": 7,
        "start_time": "2023-03-18T10:41:02.892Z"
      },
      {
        "duration": 3,
        "start_time": "2023-03-18T10:42:07.755Z"
      },
      {
        "duration": 49,
        "start_time": "2023-03-18T10:42:08.019Z"
      },
      {
        "duration": 9,
        "start_time": "2023-03-18T10:42:08.224Z"
      },
      {
        "duration": 3,
        "start_time": "2023-03-18T10:42:18.700Z"
      },
      {
        "duration": 47,
        "start_time": "2023-03-18T10:42:18.955Z"
      },
      {
        "duration": 6,
        "start_time": "2023-03-18T10:42:19.202Z"
      },
      {
        "duration": 6,
        "start_time": "2023-03-18T10:42:23.859Z"
      },
      {
        "duration": 3,
        "start_time": "2023-03-18T10:46:48.552Z"
      },
      {
        "duration": 185,
        "start_time": "2023-03-18T10:46:49.963Z"
      },
      {
        "duration": 8,
        "start_time": "2023-03-18T10:46:50.360Z"
      },
      {
        "duration": 2,
        "start_time": "2023-03-18T10:47:22.489Z"
      },
      {
        "duration": 93,
        "start_time": "2023-03-18T10:47:25.088Z"
      },
      {
        "duration": 4,
        "start_time": "2023-03-18T10:47:35.313Z"
      },
      {
        "duration": 130,
        "start_time": "2023-03-18T10:47:36.937Z"
      },
      {
        "duration": 9,
        "start_time": "2023-03-18T10:47:37.504Z"
      },
      {
        "duration": 3,
        "start_time": "2023-03-18T10:48:01.368Z"
      },
      {
        "duration": 99,
        "start_time": "2023-03-18T10:48:04.129Z"
      },
      {
        "duration": 9,
        "start_time": "2023-03-18T10:48:04.356Z"
      },
      {
        "duration": 3,
        "start_time": "2023-03-18T10:48:15.216Z"
      },
      {
        "duration": 484,
        "start_time": "2023-03-18T10:48:15.985Z"
      },
      {
        "duration": 8,
        "start_time": "2023-03-18T10:48:16.480Z"
      },
      {
        "duration": 3,
        "start_time": "2023-03-18T10:49:12.240Z"
      },
      {
        "duration": 245,
        "start_time": "2023-03-18T10:49:16.367Z"
      },
      {
        "duration": 5,
        "start_time": "2023-03-18T10:49:16.696Z"
      },
      {
        "duration": 4,
        "start_time": "2023-03-18T10:49:24.219Z"
      },
      {
        "duration": 309,
        "start_time": "2023-03-18T10:49:25.552Z"
      },
      {
        "duration": 5,
        "start_time": "2023-03-18T10:49:25.863Z"
      },
      {
        "duration": 3,
        "start_time": "2023-03-18T10:58:24.092Z"
      },
      {
        "duration": 239,
        "start_time": "2023-03-18T10:58:24.923Z"
      },
      {
        "duration": 5,
        "start_time": "2023-03-18T10:58:25.164Z"
      },
      {
        "duration": 3,
        "start_time": "2023-03-18T10:58:36.257Z"
      },
      {
        "duration": 108,
        "start_time": "2023-03-18T10:58:37.602Z"
      },
      {
        "duration": 5,
        "start_time": "2023-03-18T10:58:37.948Z"
      },
      {
        "duration": 3,
        "start_time": "2023-03-18T10:58:44.339Z"
      },
      {
        "duration": 280,
        "start_time": "2023-03-18T10:58:44.996Z"
      },
      {
        "duration": 6,
        "start_time": "2023-03-18T10:58:45.698Z"
      },
      {
        "duration": 3,
        "start_time": "2023-03-18T11:05:27.724Z"
      },
      {
        "duration": 102,
        "start_time": "2023-03-18T11:05:28.310Z"
      },
      {
        "duration": 3,
        "start_time": "2023-03-18T11:05:35.582Z"
      },
      {
        "duration": 928,
        "start_time": "2023-03-18T11:05:36.679Z"
      },
      {
        "duration": 9,
        "start_time": "2023-03-18T11:05:38.375Z"
      },
      {
        "duration": 2,
        "start_time": "2023-03-18T11:06:18.782Z"
      },
      {
        "duration": 295,
        "start_time": "2023-03-18T11:06:19.972Z"
      },
      {
        "duration": 7,
        "start_time": "2023-03-18T11:06:20.269Z"
      },
      {
        "duration": 4,
        "start_time": "2023-03-18T11:07:38.877Z"
      },
      {
        "duration": 88,
        "start_time": "2023-03-18T11:07:40.099Z"
      },
      {
        "duration": 6,
        "start_time": "2023-03-18T11:07:40.238Z"
      },
      {
        "duration": 3,
        "start_time": "2023-03-18T11:07:50.107Z"
      },
      {
        "duration": 141,
        "start_time": "2023-03-18T11:07:51.038Z"
      },
      {
        "duration": 6,
        "start_time": "2023-03-18T11:07:51.357Z"
      },
      {
        "duration": 3,
        "start_time": "2023-03-18T11:08:41.077Z"
      },
      {
        "duration": 100,
        "start_time": "2023-03-18T11:08:42.546Z"
      },
      {
        "duration": 3,
        "start_time": "2023-03-18T11:08:50.164Z"
      },
      {
        "duration": 96,
        "start_time": "2023-03-18T11:08:52.149Z"
      },
      {
        "duration": 3,
        "start_time": "2023-03-18T11:08:59.443Z"
      },
      {
        "duration": 104,
        "start_time": "2023-03-18T11:09:00.741Z"
      },
      {
        "duration": 4,
        "start_time": "2023-03-18T11:09:32.757Z"
      },
      {
        "duration": 92,
        "start_time": "2023-03-18T11:09:33.325Z"
      },
      {
        "duration": 3,
        "start_time": "2023-03-18T11:09:37.941Z"
      },
      {
        "duration": 129,
        "start_time": "2023-03-18T11:09:38.370Z"
      },
      {
        "duration": 8,
        "start_time": "2023-03-18T11:09:39.210Z"
      },
      {
        "duration": 3,
        "start_time": "2023-03-18T11:09:55.955Z"
      },
      {
        "duration": 97,
        "start_time": "2023-03-18T11:09:58.213Z"
      },
      {
        "duration": 6,
        "start_time": "2023-03-18T11:09:58.410Z"
      },
      {
        "duration": 3,
        "start_time": "2023-03-18T11:21:44.460Z"
      },
      {
        "duration": 101,
        "start_time": "2023-03-18T11:21:45.949Z"
      },
      {
        "duration": 2,
        "start_time": "2023-03-18T11:22:01.398Z"
      },
      {
        "duration": 0,
        "start_time": "2023-03-18T11:27:08.827Z"
      },
      {
        "duration": 2,
        "start_time": "2023-03-18T11:28:00.969Z"
      },
      {
        "duration": 3,
        "start_time": "2023-03-18T11:28:02.299Z"
      },
      {
        "duration": 3,
        "start_time": "2023-03-18T11:28:02.810Z"
      },
      {
        "duration": 31,
        "start_time": "2023-03-18T11:28:03.504Z"
      },
      {
        "duration": 11,
        "start_time": "2023-03-18T11:28:03.746Z"
      },
      {
        "duration": 2,
        "start_time": "2023-03-18T11:28:04.707Z"
      },
      {
        "duration": 87,
        "start_time": "2023-03-18T11:28:04.899Z"
      },
      {
        "duration": 6,
        "start_time": "2023-03-18T11:28:05.507Z"
      },
      {
        "duration": 2,
        "start_time": "2023-03-18T11:28:06.099Z"
      },
      {
        "duration": 2,
        "start_time": "2023-03-18T11:28:06.331Z"
      },
      {
        "duration": 3,
        "start_time": "2023-03-18T11:28:07.114Z"
      },
      {
        "duration": 130,
        "start_time": "2023-03-18T11:28:07.810Z"
      },
      {
        "duration": 8,
        "start_time": "2023-03-18T11:28:08.049Z"
      },
      {
        "duration": 3,
        "start_time": "2023-03-18T11:28:08.434Z"
      },
      {
        "duration": 3,
        "start_time": "2023-03-18T11:28:09.699Z"
      },
      {
        "duration": 732,
        "start_time": "2023-03-18T11:30:43.285Z"
      },
      {
        "duration": 4,
        "start_time": "2023-03-18T11:30:45.474Z"
      },
      {
        "duration": 8033,
        "start_time": "2023-03-18T11:30:45.730Z"
      },
      {
        "duration": 58,
        "start_time": "2023-03-18T11:30:53.765Z"
      },
      {
        "duration": 3,
        "start_time": "2023-03-18T11:30:53.824Z"
      },
      {
        "duration": 57,
        "start_time": "2023-03-18T11:30:53.828Z"
      },
      {
        "duration": 15,
        "start_time": "2023-03-18T11:30:53.888Z"
      },
      {
        "duration": 3,
        "start_time": "2023-03-18T11:31:11.354Z"
      },
      {
        "duration": 106,
        "start_time": "2023-03-18T11:31:11.841Z"
      },
      {
        "duration": 8,
        "start_time": "2023-03-18T11:31:12.009Z"
      },
      {
        "duration": 3,
        "start_time": "2023-03-18T11:31:15.058Z"
      },
      {
        "duration": 49,
        "start_time": "2023-03-18T11:31:15.241Z"
      },
      {
        "duration": 8,
        "start_time": "2023-03-18T11:31:15.378Z"
      },
      {
        "duration": 3,
        "start_time": "2023-03-18T11:31:20.488Z"
      },
      {
        "duration": 8,
        "start_time": "2023-03-18T11:32:03.644Z"
      },
      {
        "duration": 61,
        "start_time": "2023-03-18T11:32:04.321Z"
      },
      {
        "duration": 652,
        "start_time": "2023-03-18T11:32:07.529Z"
      },
      {
        "duration": 3,
        "start_time": "2023-03-18T11:32:10.872Z"
      },
      {
        "duration": 4,
        "start_time": "2023-03-18T11:32:11.139Z"
      },
      {
        "duration": 2,
        "start_time": "2023-03-18T11:32:18.561Z"
      },
      {
        "duration": 37,
        "start_time": "2023-03-18T11:32:18.784Z"
      },
      {
        "duration": 8,
        "start_time": "2023-03-18T11:32:19.192Z"
      },
      {
        "duration": 7736,
        "start_time": "2023-03-18T11:32:22.450Z"
      },
      {
        "duration": 91,
        "start_time": "2023-03-18T11:32:30.188Z"
      },
      {
        "duration": 12,
        "start_time": "2023-03-18T11:32:30.281Z"
      },
      {
        "duration": 3,
        "start_time": "2023-03-18T11:33:04.961Z"
      },
      {
        "duration": 107,
        "start_time": "2023-03-18T11:33:05.375Z"
      },
      {
        "duration": 10,
        "start_time": "2023-03-18T11:33:05.719Z"
      },
      {
        "duration": 2,
        "start_time": "2023-03-18T11:34:40.952Z"
      },
      {
        "duration": 96,
        "start_time": "2023-03-18T11:34:41.476Z"
      },
      {
        "duration": 2,
        "start_time": "2023-03-18T11:34:55.328Z"
      },
      {
        "duration": 105,
        "start_time": "2023-03-18T11:34:55.664Z"
      },
      {
        "duration": 3,
        "start_time": "2023-03-18T11:35:25.831Z"
      },
      {
        "duration": 124,
        "start_time": "2023-03-18T11:35:26.191Z"
      },
      {
        "duration": 7,
        "start_time": "2023-03-18T11:35:26.760Z"
      },
      {
        "duration": 2,
        "start_time": "2023-03-18T11:35:41.328Z"
      },
      {
        "duration": 136,
        "start_time": "2023-03-18T11:35:41.688Z"
      },
      {
        "duration": 8,
        "start_time": "2023-03-18T11:35:42.031Z"
      },
      {
        "duration": 2,
        "start_time": "2023-03-18T11:41:03.254Z"
      },
      {
        "duration": 89,
        "start_time": "2023-03-18T11:41:12.581Z"
      },
      {
        "duration": 3,
        "start_time": "2023-03-18T11:41:16.516Z"
      },
      {
        "duration": 1077,
        "start_time": "2023-03-18T11:41:16.949Z"
      },
      {
        "duration": 11,
        "start_time": "2023-03-18T11:41:18.028Z"
      },
      {
        "duration": 3,
        "start_time": "2023-03-18T11:51:53.000Z"
      },
      {
        "duration": 92,
        "start_time": "2023-03-18T11:51:53.584Z"
      },
      {
        "duration": 3,
        "start_time": "2023-03-18T11:51:59.473Z"
      },
      {
        "duration": 2,
        "start_time": "2023-03-18T11:52:03.697Z"
      },
      {
        "duration": 45,
        "start_time": "2023-03-18T11:52:04.369Z"
      },
      {
        "duration": 7,
        "start_time": "2023-03-18T11:52:04.640Z"
      },
      {
        "duration": 3,
        "start_time": "2023-03-18T11:52:16.295Z"
      },
      {
        "duration": 43,
        "start_time": "2023-03-18T11:52:17.240Z"
      },
      {
        "duration": 6,
        "start_time": "2023-03-18T11:52:17.399Z"
      },
      {
        "duration": 3,
        "start_time": "2023-03-18T11:52:46.278Z"
      },
      {
        "duration": 47,
        "start_time": "2023-03-18T11:52:46.637Z"
      },
      {
        "duration": 6,
        "start_time": "2023-03-18T11:52:46.863Z"
      },
      {
        "duration": 3,
        "start_time": "2023-03-18T12:12:25.493Z"
      },
      {
        "duration": 47,
        "start_time": "2023-03-18T12:12:25.973Z"
      },
      {
        "duration": 6,
        "start_time": "2023-03-18T12:12:26.227Z"
      },
      {
        "duration": 3,
        "start_time": "2023-03-18T12:12:31.486Z"
      },
      {
        "duration": 155,
        "start_time": "2023-03-18T12:12:31.685Z"
      },
      {
        "duration": 7,
        "start_time": "2023-03-18T12:12:31.853Z"
      },
      {
        "duration": 3,
        "start_time": "2023-03-18T12:12:55.661Z"
      },
      {
        "duration": 48,
        "start_time": "2023-03-18T12:12:55.852Z"
      },
      {
        "duration": 9,
        "start_time": "2023-03-18T12:12:55.972Z"
      },
      {
        "duration": 3,
        "start_time": "2023-03-18T12:13:01.564Z"
      },
      {
        "duration": 195,
        "start_time": "2023-03-18T12:13:01.747Z"
      },
      {
        "duration": 6,
        "start_time": "2023-03-18T12:13:01.944Z"
      },
      {
        "duration": 3,
        "start_time": "2023-03-18T12:13:05.925Z"
      },
      {
        "duration": 48,
        "start_time": "2023-03-18T12:13:06.157Z"
      },
      {
        "duration": 7,
        "start_time": "2023-03-18T12:13:06.317Z"
      },
      {
        "duration": 3,
        "start_time": "2023-03-18T12:13:18.005Z"
      },
      {
        "duration": 1771,
        "start_time": "2023-03-18T12:13:18.557Z"
      },
      {
        "duration": 9,
        "start_time": "2023-03-18T12:13:20.330Z"
      },
      {
        "duration": 3,
        "start_time": "2023-03-18T12:13:43.998Z"
      },
      {
        "duration": 51,
        "start_time": "2023-03-18T12:13:44.219Z"
      },
      {
        "duration": 7,
        "start_time": "2023-03-18T12:13:44.430Z"
      },
      {
        "duration": 3,
        "start_time": "2023-03-18T12:13:52.158Z"
      },
      {
        "duration": 116,
        "start_time": "2023-03-18T12:13:52.573Z"
      },
      {
        "duration": 6,
        "start_time": "2023-03-18T12:13:52.876Z"
      },
      {
        "duration": 7,
        "start_time": "2023-03-18T12:14:04.213Z"
      },
      {
        "duration": 51,
        "start_time": "2023-03-18T12:14:04.614Z"
      },
      {
        "duration": 8,
        "start_time": "2023-03-18T12:14:05.088Z"
      },
      {
        "duration": 2,
        "start_time": "2023-03-18T12:15:10.126Z"
      },
      {
        "duration": 52,
        "start_time": "2023-03-18T12:15:10.652Z"
      },
      {
        "duration": 6,
        "start_time": "2023-03-18T12:15:10.852Z"
      },
      {
        "duration": 2,
        "start_time": "2023-03-18T12:15:16.700Z"
      },
      {
        "duration": 153,
        "start_time": "2023-03-18T12:15:17.079Z"
      },
      {
        "duration": 5,
        "start_time": "2023-03-18T12:15:17.437Z"
      },
      {
        "duration": 3,
        "start_time": "2023-03-18T12:15:20.479Z"
      },
      {
        "duration": 97,
        "start_time": "2023-03-18T12:15:20.677Z"
      },
      {
        "duration": 6,
        "start_time": "2023-03-18T12:15:20.908Z"
      },
      {
        "duration": 3,
        "start_time": "2023-03-18T12:15:31.637Z"
      },
      {
        "duration": 97,
        "start_time": "2023-03-18T12:15:31.879Z"
      },
      {
        "duration": 6,
        "start_time": "2023-03-18T12:15:32.398Z"
      },
      {
        "duration": 3,
        "start_time": "2023-03-18T12:15:48.045Z"
      },
      {
        "duration": 113,
        "start_time": "2023-03-18T12:15:48.517Z"
      },
      {
        "duration": 3,
        "start_time": "2023-03-18T12:16:08.397Z"
      },
      {
        "duration": 44,
        "start_time": "2023-03-18T12:16:08.629Z"
      },
      {
        "duration": 9,
        "start_time": "2023-03-18T12:16:09.307Z"
      },
      {
        "duration": 3,
        "start_time": "2023-03-18T12:16:15.852Z"
      },
      {
        "duration": 42,
        "start_time": "2023-03-18T12:16:16.044Z"
      },
      {
        "duration": 7,
        "start_time": "2023-03-18T12:16:16.213Z"
      },
      {
        "duration": 3,
        "start_time": "2023-03-18T12:16:41.052Z"
      },
      {
        "duration": 47,
        "start_time": "2023-03-18T12:16:41.333Z"
      },
      {
        "duration": 10,
        "start_time": "2023-03-18T12:16:41.555Z"
      },
      {
        "duration": 3,
        "start_time": "2023-03-18T12:16:59.206Z"
      },
      {
        "duration": 42,
        "start_time": "2023-03-18T12:16:59.340Z"
      },
      {
        "duration": 6,
        "start_time": "2023-03-18T12:16:59.479Z"
      },
      {
        "duration": 3,
        "start_time": "2023-03-18T12:17:06.917Z"
      },
      {
        "duration": 41,
        "start_time": "2023-03-18T12:17:07.261Z"
      },
      {
        "duration": 6,
        "start_time": "2023-03-18T12:17:07.444Z"
      },
      {
        "duration": 3,
        "start_time": "2023-03-18T12:17:43.916Z"
      },
      {
        "duration": 95,
        "start_time": "2023-03-18T12:17:44.262Z"
      },
      {
        "duration": 6,
        "start_time": "2023-03-18T12:17:44.531Z"
      },
      {
        "duration": 3,
        "start_time": "2023-03-18T12:17:50.083Z"
      },
      {
        "duration": 42,
        "start_time": "2023-03-18T12:17:50.267Z"
      },
      {
        "duration": 8,
        "start_time": "2023-03-18T12:17:50.419Z"
      },
      {
        "duration": 3,
        "start_time": "2023-03-18T12:18:15.451Z"
      },
      {
        "duration": 41,
        "start_time": "2023-03-18T12:18:15.963Z"
      },
      {
        "duration": 6,
        "start_time": "2023-03-18T12:18:16.115Z"
      },
      {
        "duration": 3,
        "start_time": "2023-03-18T12:18:20.027Z"
      },
      {
        "duration": 43,
        "start_time": "2023-03-18T12:18:20.179Z"
      },
      {
        "duration": 7,
        "start_time": "2023-03-18T12:18:20.316Z"
      },
      {
        "duration": 3,
        "start_time": "2023-03-18T12:18:25.970Z"
      },
      {
        "duration": 40,
        "start_time": "2023-03-18T12:18:26.701Z"
      },
      {
        "duration": 7,
        "start_time": "2023-03-18T12:18:26.849Z"
      },
      {
        "duration": 2,
        "start_time": "2023-03-18T12:18:34.731Z"
      },
      {
        "duration": 42,
        "start_time": "2023-03-18T12:18:34.987Z"
      },
      {
        "duration": 7,
        "start_time": "2023-03-18T12:18:35.171Z"
      },
      {
        "duration": 2,
        "start_time": "2023-03-18T12:20:15.667Z"
      },
      {
        "duration": 94,
        "start_time": "2023-03-18T12:20:16.266Z"
      },
      {
        "duration": 7,
        "start_time": "2023-03-18T12:20:16.483Z"
      },
      {
        "duration": 3,
        "start_time": "2023-03-18T12:20:26.826Z"
      },
      {
        "duration": 91,
        "start_time": "2023-03-18T12:20:27.003Z"
      },
      {
        "duration": 7,
        "start_time": "2023-03-18T12:20:27.226Z"
      },
      {
        "duration": 3,
        "start_time": "2023-03-18T12:20:39.418Z"
      },
      {
        "duration": 47,
        "start_time": "2023-03-18T12:20:39.673Z"
      },
      {
        "duration": 12,
        "start_time": "2023-03-18T12:20:40.002Z"
      },
      {
        "duration": 3,
        "start_time": "2023-03-18T12:21:38.233Z"
      },
      {
        "duration": 54,
        "start_time": "2023-03-18T12:21:38.557Z"
      },
      {
        "duration": 11,
        "start_time": "2023-03-18T12:21:38.738Z"
      },
      {
        "duration": 2,
        "start_time": "2023-03-18T12:22:06.113Z"
      },
      {
        "duration": 51,
        "start_time": "2023-03-18T12:22:06.633Z"
      },
      {
        "duration": 10,
        "start_time": "2023-03-18T12:22:06.858Z"
      },
      {
        "duration": 3,
        "start_time": "2023-03-18T12:22:14.577Z"
      },
      {
        "duration": 48,
        "start_time": "2023-03-18T12:22:14.938Z"
      },
      {
        "duration": 12,
        "start_time": "2023-03-18T12:22:15.217Z"
      },
      {
        "duration": 11,
        "start_time": "2023-03-18T12:26:10.015Z"
      },
      {
        "duration": 3,
        "start_time": "2023-03-18T12:26:13.528Z"
      },
      {
        "duration": 82,
        "start_time": "2023-03-18T12:26:13.647Z"
      },
      {
        "duration": 12,
        "start_time": "2023-03-18T12:26:13.775Z"
      },
      {
        "duration": 484,
        "start_time": "2023-03-18T12:27:06.333Z"
      },
      {
        "duration": 131,
        "start_time": "2023-03-18T12:27:27.232Z"
      },
      {
        "duration": 237,
        "start_time": "2023-03-18T12:30:03.318Z"
      },
      {
        "duration": 141,
        "start_time": "2023-03-18T12:30:06.343Z"
      },
      {
        "duration": 137,
        "start_time": "2023-03-18T12:30:47.317Z"
      },
      {
        "duration": 132,
        "start_time": "2023-03-18T12:30:49.877Z"
      },
      {
        "duration": 141,
        "start_time": "2023-03-18T12:30:54.286Z"
      },
      {
        "duration": 7,
        "start_time": "2023-03-18T12:31:02.470Z"
      },
      {
        "duration": 9,
        "start_time": "2023-03-18T12:31:06.278Z"
      },
      {
        "duration": 2,
        "start_time": "2023-03-18T14:02:44.879Z"
      },
      {
        "duration": 3,
        "start_time": "2023-03-18T14:07:43.857Z"
      },
      {
        "duration": 142,
        "start_time": "2023-03-18T14:07:44.110Z"
      },
      {
        "duration": 7,
        "start_time": "2023-03-18T14:07:44.264Z"
      },
      {
        "duration": 14,
        "start_time": "2023-03-18T14:07:45.018Z"
      },
      {
        "duration": 125,
        "start_time": "2023-03-18T14:07:51.618Z"
      },
      {
        "duration": 3,
        "start_time": "2023-03-18T14:37:16.112Z"
      },
      {
        "duration": 35,
        "start_time": "2023-03-18T14:37:16.410Z"
      },
      {
        "duration": 6,
        "start_time": "2023-03-18T14:37:16.602Z"
      },
      {
        "duration": 3,
        "start_time": "2023-03-18T14:38:43.345Z"
      },
      {
        "duration": 97,
        "start_time": "2023-03-18T14:38:43.634Z"
      },
      {
        "duration": 7,
        "start_time": "2023-03-18T14:38:43.762Z"
      },
      {
        "duration": 3,
        "start_time": "2023-03-18T14:38:47.810Z"
      },
      {
        "duration": 37,
        "start_time": "2023-03-18T14:38:47.930Z"
      },
      {
        "duration": 7,
        "start_time": "2023-03-18T14:38:48.076Z"
      },
      {
        "duration": 3,
        "start_time": "2023-03-18T14:40:54.162Z"
      },
      {
        "duration": 94,
        "start_time": "2023-03-18T14:40:54.641Z"
      },
      {
        "duration": 8,
        "start_time": "2023-03-18T14:40:54.841Z"
      },
      {
        "duration": 4,
        "start_time": "2023-03-18T14:41:15.703Z"
      },
      {
        "duration": 102,
        "start_time": "2023-03-18T14:41:15.953Z"
      },
      {
        "duration": 3,
        "start_time": "2023-03-18T14:41:42.657Z"
      },
      {
        "duration": 49,
        "start_time": "2023-03-18T14:41:42.905Z"
      },
      {
        "duration": 12,
        "start_time": "2023-03-18T14:41:43.929Z"
      },
      {
        "duration": 3,
        "start_time": "2023-03-18T14:42:26.816Z"
      },
      {
        "duration": 101,
        "start_time": "2023-03-18T14:42:27.160Z"
      },
      {
        "duration": 13,
        "start_time": "2023-03-18T14:42:27.440Z"
      },
      {
        "duration": 3,
        "start_time": "2023-03-18T14:42:33.719Z"
      },
      {
        "duration": 53,
        "start_time": "2023-03-18T14:42:33.913Z"
      },
      {
        "duration": 13,
        "start_time": "2023-03-18T14:42:34.137Z"
      },
      {
        "duration": 3,
        "start_time": "2023-03-18T14:42:39.811Z"
      },
      {
        "duration": 54,
        "start_time": "2023-03-18T14:42:40.131Z"
      },
      {
        "duration": 14,
        "start_time": "2023-03-18T14:42:40.352Z"
      },
      {
        "duration": 3,
        "start_time": "2023-03-18T14:47:14.621Z"
      },
      {
        "duration": 42,
        "start_time": "2023-03-18T14:47:14.861Z"
      },
      {
        "duration": 5,
        "start_time": "2023-03-18T14:47:15.092Z"
      },
      {
        "duration": 3,
        "start_time": "2023-03-18T14:49:03.568Z"
      },
      {
        "duration": 104,
        "start_time": "2023-03-18T14:49:04.038Z"
      },
      {
        "duration": 7,
        "start_time": "2023-03-18T14:49:04.705Z"
      },
      {
        "duration": 2,
        "start_time": "2023-03-18T14:49:10.629Z"
      },
      {
        "duration": 95,
        "start_time": "2023-03-18T14:49:10.906Z"
      },
      {
        "duration": 3,
        "start_time": "2023-03-18T14:49:17.009Z"
      },
      {
        "duration": 98,
        "start_time": "2023-03-18T14:49:17.325Z"
      },
      {
        "duration": 3,
        "start_time": "2023-03-18T14:49:29.061Z"
      },
      {
        "duration": 67,
        "start_time": "2023-03-18T14:49:29.302Z"
      },
      {
        "duration": 13,
        "start_time": "2023-03-18T14:49:29.549Z"
      },
      {
        "duration": 3,
        "start_time": "2023-03-18T14:49:37.261Z"
      },
      {
        "duration": 61,
        "start_time": "2023-03-18T14:49:37.404Z"
      },
      {
        "duration": 15,
        "start_time": "2023-03-18T14:49:37.861Z"
      },
      {
        "duration": 3,
        "start_time": "2023-03-18T15:23:36.027Z"
      },
      {
        "duration": 3,
        "start_time": "2023-03-18T15:23:41.638Z"
      },
      {
        "duration": 51,
        "start_time": "2023-03-18T15:23:41.830Z"
      },
      {
        "duration": 11,
        "start_time": "2023-03-18T15:23:42.014Z"
      },
      {
        "duration": 3,
        "start_time": "2023-03-18T15:25:13.299Z"
      },
      {
        "duration": 103,
        "start_time": "2023-03-18T15:25:13.444Z"
      },
      {
        "duration": 15,
        "start_time": "2023-03-18T15:25:13.631Z"
      },
      {
        "duration": 3,
        "start_time": "2023-03-18T15:25:19.829Z"
      },
      {
        "duration": 72,
        "start_time": "2023-03-18T15:25:19.964Z"
      },
      {
        "duration": 12,
        "start_time": "2023-03-18T15:25:21.340Z"
      },
      {
        "duration": 3,
        "start_time": "2023-03-18T15:25:40.527Z"
      },
      {
        "duration": 145,
        "start_time": "2023-03-18T15:25:40.722Z"
      },
      {
        "duration": 12,
        "start_time": "2023-03-18T15:25:40.922Z"
      },
      {
        "duration": 3,
        "start_time": "2023-03-18T15:26:00.427Z"
      },
      {
        "duration": 62,
        "start_time": "2023-03-18T15:26:00.610Z"
      },
      {
        "duration": 11,
        "start_time": "2023-03-18T15:26:00.726Z"
      },
      {
        "duration": 3,
        "start_time": "2023-03-18T15:27:52.016Z"
      },
      {
        "duration": 94,
        "start_time": "2023-03-18T15:27:52.267Z"
      },
      {
        "duration": 13,
        "start_time": "2023-03-18T15:27:52.709Z"
      },
      {
        "duration": 3,
        "start_time": "2023-03-18T15:28:06.137Z"
      },
      {
        "duration": 65,
        "start_time": "2023-03-18T15:28:06.305Z"
      },
      {
        "duration": 13,
        "start_time": "2023-03-18T15:28:07.335Z"
      },
      {
        "duration": 3,
        "start_time": "2023-03-18T15:28:16.509Z"
      },
      {
        "duration": 62,
        "start_time": "2023-03-18T15:28:16.728Z"
      },
      {
        "duration": 10,
        "start_time": "2023-03-18T15:28:17.018Z"
      },
      {
        "duration": 2,
        "start_time": "2023-03-18T15:28:22.800Z"
      },
      {
        "duration": 58,
        "start_time": "2023-03-18T15:28:22.947Z"
      },
      {
        "duration": 10,
        "start_time": "2023-03-18T15:28:23.131Z"
      },
      {
        "duration": 3,
        "start_time": "2023-03-18T15:28:53.036Z"
      },
      {
        "duration": 102,
        "start_time": "2023-03-18T15:28:53.362Z"
      },
      {
        "duration": 13,
        "start_time": "2023-03-18T15:28:53.728Z"
      },
      {
        "duration": 4,
        "start_time": "2023-03-18T15:29:01.618Z"
      },
      {
        "duration": 65,
        "start_time": "2023-03-18T15:29:01.910Z"
      },
      {
        "duration": 12,
        "start_time": "2023-03-18T15:29:02.696Z"
      },
      {
        "duration": 3,
        "start_time": "2023-03-18T15:29:08.818Z"
      },
      {
        "duration": 62,
        "start_time": "2023-03-18T15:29:09.010Z"
      },
      {
        "duration": 13,
        "start_time": "2023-03-18T15:29:09.110Z"
      },
      {
        "duration": 3,
        "start_time": "2023-03-18T15:29:41.718Z"
      },
      {
        "duration": 3,
        "start_time": "2023-03-18T15:29:46.130Z"
      },
      {
        "duration": 206,
        "start_time": "2023-03-18T15:29:46.267Z"
      },
      {
        "duration": 7,
        "start_time": "2023-03-18T15:29:46.476Z"
      },
      {
        "duration": 3,
        "start_time": "2023-03-18T15:29:54.144Z"
      },
      {
        "duration": 49,
        "start_time": "2023-03-18T15:29:54.310Z"
      },
      {
        "duration": 6,
        "start_time": "2023-03-18T15:29:54.459Z"
      },
      {
        "duration": 3,
        "start_time": "2023-03-18T15:30:06.208Z"
      },
      {
        "duration": 68,
        "start_time": "2023-03-18T15:30:06.415Z"
      },
      {
        "duration": 47,
        "start_time": "2023-03-18T15:30:11.545Z"
      },
      {
        "duration": 11,
        "start_time": "2023-03-18T15:30:11.705Z"
      },
      {
        "duration": 3,
        "start_time": "2023-03-18T15:30:56.934Z"
      },
      {
        "duration": 2,
        "start_time": "2023-03-18T15:30:57.180Z"
      },
      {
        "duration": 51,
        "start_time": "2023-03-18T15:30:57.705Z"
      },
      {
        "duration": 12,
        "start_time": "2023-03-18T15:30:57.945Z"
      },
      {
        "duration": 3,
        "start_time": "2023-03-18T15:31:37.153Z"
      },
      {
        "duration": 3,
        "start_time": "2023-03-18T15:31:37.429Z"
      },
      {
        "duration": 103,
        "start_time": "2023-03-18T15:31:37.615Z"
      },
      {
        "duration": 11,
        "start_time": "2023-03-18T15:31:37.746Z"
      },
      {
        "duration": 3,
        "start_time": "2023-03-18T15:31:41.719Z"
      },
      {
        "duration": 3,
        "start_time": "2023-03-18T15:31:41.782Z"
      },
      {
        "duration": 49,
        "start_time": "2023-03-18T15:31:41.923Z"
      },
      {
        "duration": 12,
        "start_time": "2023-03-18T15:31:42.449Z"
      },
      {
        "duration": 3,
        "start_time": "2023-03-18T15:32:48.203Z"
      },
      {
        "duration": 2,
        "start_time": "2023-03-18T15:32:48.409Z"
      },
      {
        "duration": 53,
        "start_time": "2023-03-18T15:32:48.561Z"
      },
      {
        "duration": 12,
        "start_time": "2023-03-18T15:32:48.765Z"
      },
      {
        "duration": 3,
        "start_time": "2023-03-18T15:40:49.009Z"
      },
      {
        "duration": 55,
        "start_time": "2023-03-18T15:40:49.548Z"
      },
      {
        "duration": 11,
        "start_time": "2023-03-18T15:40:49.940Z"
      },
      {
        "duration": 3,
        "start_time": "2023-03-18T15:40:56.336Z"
      },
      {
        "duration": 3,
        "start_time": "2023-03-18T15:40:56.705Z"
      },
      {
        "duration": 57,
        "start_time": "2023-03-18T15:40:56.986Z"
      },
      {
        "duration": 12,
        "start_time": "2023-03-18T15:40:57.170Z"
      },
      {
        "duration": 3,
        "start_time": "2023-03-18T15:41:03.817Z"
      },
      {
        "duration": 4,
        "start_time": "2023-03-18T15:41:04.038Z"
      },
      {
        "duration": 51,
        "start_time": "2023-03-18T15:41:04.245Z"
      },
      {
        "duration": 11,
        "start_time": "2023-03-18T15:41:04.445Z"
      },
      {
        "duration": 3,
        "start_time": "2023-03-18T15:41:19.021Z"
      },
      {
        "duration": 2,
        "start_time": "2023-03-18T15:41:19.164Z"
      },
      {
        "duration": 115,
        "start_time": "2023-03-18T15:41:19.340Z"
      },
      {
        "duration": 10,
        "start_time": "2023-03-18T15:41:19.641Z"
      },
      {
        "duration": 3,
        "start_time": "2023-03-18T15:41:28.244Z"
      },
      {
        "duration": 2,
        "start_time": "2023-03-18T15:41:28.444Z"
      },
      {
        "duration": 103,
        "start_time": "2023-03-18T15:41:28.705Z"
      },
      {
        "duration": 11,
        "start_time": "2023-03-18T15:41:29.020Z"
      },
      {
        "duration": 2,
        "start_time": "2023-03-18T15:41:32.556Z"
      },
      {
        "duration": 3,
        "start_time": "2023-03-18T15:41:32.771Z"
      },
      {
        "duration": 46,
        "start_time": "2023-03-18T15:41:32.940Z"
      },
      {
        "duration": 7,
        "start_time": "2023-03-18T15:41:33.148Z"
      },
      {
        "duration": 3,
        "start_time": "2023-03-18T15:53:30.406Z"
      },
      {
        "duration": 3,
        "start_time": "2023-03-18T15:53:30.543Z"
      },
      {
        "duration": 44,
        "start_time": "2023-03-18T15:53:30.696Z"
      },
      {
        "duration": 8,
        "start_time": "2023-03-18T15:53:30.844Z"
      },
      {
        "duration": 3,
        "start_time": "2023-03-18T16:07:41.793Z"
      },
      {
        "duration": 2,
        "start_time": "2023-03-18T16:07:45.838Z"
      },
      {
        "duration": 2,
        "start_time": "2023-03-18T16:07:46.023Z"
      },
      {
        "duration": 108,
        "start_time": "2023-03-18T16:07:46.208Z"
      },
      {
        "duration": 6,
        "start_time": "2023-03-18T16:07:46.438Z"
      },
      {
        "duration": 2,
        "start_time": "2023-03-18T16:08:06.907Z"
      },
      {
        "duration": 3,
        "start_time": "2023-03-18T16:08:07.631Z"
      },
      {
        "duration": 3,
        "start_time": "2023-03-18T16:08:07.825Z"
      },
      {
        "duration": 80,
        "start_time": "2023-03-18T16:08:08.008Z"
      },
      {
        "duration": 7,
        "start_time": "2023-03-18T16:08:08.205Z"
      },
      {
        "duration": 3,
        "start_time": "2023-03-18T16:08:15.203Z"
      },
      {
        "duration": 2,
        "start_time": "2023-03-18T16:08:15.330Z"
      },
      {
        "duration": 3,
        "start_time": "2023-03-18T16:08:15.504Z"
      },
      {
        "duration": 86,
        "start_time": "2023-03-18T16:08:15.704Z"
      },
      {
        "duration": 8,
        "start_time": "2023-03-18T16:08:15.960Z"
      },
      {
        "duration": 8,
        "start_time": "2023-03-18T16:08:29.456Z"
      },
      {
        "duration": 10,
        "start_time": "2023-03-18T16:08:35.451Z"
      },
      {
        "duration": 12,
        "start_time": "2023-03-18T16:08:48.522Z"
      },
      {
        "duration": 3,
        "start_time": "2023-03-18T16:23:11.538Z"
      },
      {
        "duration": 2,
        "start_time": "2023-03-18T16:23:12.416Z"
      },
      {
        "duration": 2,
        "start_time": "2023-03-18T16:23:12.719Z"
      },
      {
        "duration": 118,
        "start_time": "2023-03-18T16:23:12.985Z"
      },
      {
        "duration": 7,
        "start_time": "2023-03-18T16:23:13.440Z"
      },
      {
        "duration": 4,
        "start_time": "2023-03-18T16:43:03.097Z"
      },
      {
        "duration": 2,
        "start_time": "2023-03-18T16:43:03.310Z"
      },
      {
        "duration": 2,
        "start_time": "2023-03-18T16:43:03.510Z"
      },
      {
        "duration": 134,
        "start_time": "2023-03-18T16:43:03.707Z"
      },
      {
        "duration": 10,
        "start_time": "2023-03-18T16:43:04.151Z"
      },
      {
        "duration": 3,
        "start_time": "2023-03-18T16:43:42.021Z"
      },
      {
        "duration": 3,
        "start_time": "2023-03-18T16:43:42.237Z"
      },
      {
        "duration": 3,
        "start_time": "2023-03-18T16:43:42.421Z"
      },
      {
        "duration": 96,
        "start_time": "2023-03-18T16:43:42.601Z"
      },
      {
        "duration": 9,
        "start_time": "2023-03-18T16:43:42.732Z"
      },
      {
        "duration": 3,
        "start_time": "2023-03-18T16:43:50.141Z"
      },
      {
        "duration": 4,
        "start_time": "2023-03-18T16:43:50.289Z"
      },
      {
        "duration": 3,
        "start_time": "2023-03-18T16:43:50.409Z"
      },
      {
        "duration": 82,
        "start_time": "2023-03-18T16:43:50.516Z"
      },
      {
        "duration": 5,
        "start_time": "2023-03-18T16:43:50.617Z"
      },
      {
        "duration": 2,
        "start_time": "2023-03-18T17:31:51.589Z"
      },
      {
        "duration": 2,
        "start_time": "2023-03-18T17:31:51.778Z"
      },
      {
        "duration": 2,
        "start_time": "2023-03-18T17:31:51.952Z"
      },
      {
        "duration": 105,
        "start_time": "2023-03-18T17:31:52.128Z"
      },
      {
        "duration": 7,
        "start_time": "2023-03-18T17:31:52.304Z"
      },
      {
        "duration": 3,
        "start_time": "2023-03-18T17:32:01.160Z"
      },
      {
        "duration": 3,
        "start_time": "2023-03-18T17:32:01.327Z"
      },
      {
        "duration": 2,
        "start_time": "2023-03-18T17:32:01.503Z"
      },
      {
        "duration": 2,
        "start_time": "2023-03-18T17:32:04.432Z"
      },
      {
        "duration": 2,
        "start_time": "2023-03-18T17:32:04.648Z"
      },
      {
        "duration": 3,
        "start_time": "2023-03-18T17:32:04.815Z"
      },
      {
        "duration": 45,
        "start_time": "2023-03-18T17:32:04.996Z"
      },
      {
        "duration": 5,
        "start_time": "2023-03-18T17:32:05.144Z"
      },
      {
        "duration": 2,
        "start_time": "2023-03-18T17:32:12.656Z"
      },
      {
        "duration": 2,
        "start_time": "2023-03-18T17:32:12.997Z"
      },
      {
        "duration": 3,
        "start_time": "2023-03-18T17:32:13.158Z"
      },
      {
        "duration": 45,
        "start_time": "2023-03-18T17:32:13.312Z"
      },
      {
        "duration": 7,
        "start_time": "2023-03-18T17:32:13.489Z"
      },
      {
        "duration": 3,
        "start_time": "2023-03-18T17:53:43.526Z"
      },
      {
        "duration": 3,
        "start_time": "2023-03-18T17:53:43.909Z"
      },
      {
        "duration": 4,
        "start_time": "2023-03-18T17:53:44.125Z"
      },
      {
        "duration": 45,
        "start_time": "2023-03-18T17:53:44.303Z"
      },
      {
        "duration": 7,
        "start_time": "2023-03-18T17:53:44.461Z"
      },
      {
        "duration": 3,
        "start_time": "2023-03-18T17:54:19.566Z"
      },
      {
        "duration": 45,
        "start_time": "2023-03-18T17:54:20.551Z"
      },
      {
        "duration": 7,
        "start_time": "2023-03-18T17:54:20.709Z"
      },
      {
        "duration": 3,
        "start_time": "2023-03-18T18:09:18.101Z"
      },
      {
        "duration": 3,
        "start_time": "2023-03-18T18:09:25.454Z"
      },
      {
        "duration": 3,
        "start_time": "2023-03-18T18:09:25.654Z"
      },
      {
        "duration": 3,
        "start_time": "2023-03-18T18:09:25.814Z"
      },
      {
        "duration": 69,
        "start_time": "2023-03-18T18:09:25.950Z"
      },
      {
        "duration": 7,
        "start_time": "2023-03-18T18:09:26.158Z"
      },
      {
        "duration": 5,
        "start_time": "2023-03-18T18:09:31.735Z"
      },
      {
        "duration": 2,
        "start_time": "2023-03-18T18:09:47.519Z"
      },
      {
        "duration": 3,
        "start_time": "2023-03-18T18:09:47.863Z"
      },
      {
        "duration": 3,
        "start_time": "2023-03-18T18:09:47.985Z"
      },
      {
        "duration": 74,
        "start_time": "2023-03-18T18:09:48.118Z"
      },
      {
        "duration": 7,
        "start_time": "2023-03-18T18:09:48.238Z"
      },
      {
        "duration": 11,
        "start_time": "2023-03-18T18:09:51.814Z"
      },
      {
        "duration": 3,
        "start_time": "2023-03-18T18:10:16.536Z"
      },
      {
        "duration": 3,
        "start_time": "2023-03-18T18:10:16.838Z"
      },
      {
        "duration": 3,
        "start_time": "2023-03-18T18:10:16.999Z"
      },
      {
        "duration": 91,
        "start_time": "2023-03-18T18:10:17.126Z"
      },
      {
        "duration": 11,
        "start_time": "2023-03-18T18:10:17.273Z"
      },
      {
        "duration": 4,
        "start_time": "2023-03-18T18:10:37.701Z"
      },
      {
        "duration": 3,
        "start_time": "2023-03-18T18:10:37.846Z"
      },
      {
        "duration": 3,
        "start_time": "2023-03-18T18:10:38.005Z"
      },
      {
        "duration": 79,
        "start_time": "2023-03-18T18:10:38.111Z"
      },
      {
        "duration": 12,
        "start_time": "2023-03-18T18:10:38.854Z"
      },
      {
        "duration": 24,
        "start_time": "2023-03-18T18:11:03.107Z"
      },
      {
        "duration": 11,
        "start_time": "2023-03-18T18:11:06.413Z"
      },
      {
        "duration": 8,
        "start_time": "2023-03-18T18:11:08.830Z"
      },
      {
        "duration": 8,
        "start_time": "2023-03-18T18:11:14.942Z"
      },
      {
        "duration": 11,
        "start_time": "2023-03-18T18:11:23.705Z"
      },
      {
        "duration": 3,
        "start_time": "2023-03-18T18:11:36.013Z"
      },
      {
        "duration": 3,
        "start_time": "2023-03-18T18:11:36.309Z"
      },
      {
        "duration": 3,
        "start_time": "2023-03-18T18:11:36.453Z"
      },
      {
        "duration": 78,
        "start_time": "2023-03-18T18:11:36.603Z"
      },
      {
        "duration": 11,
        "start_time": "2023-03-18T18:11:37.205Z"
      },
      {
        "duration": 9,
        "start_time": "2023-03-18T18:11:50.325Z"
      },
      {
        "duration": 10,
        "start_time": "2023-03-18T18:11:53.230Z"
      },
      {
        "duration": 9,
        "start_time": "2023-03-18T18:11:57.109Z"
      },
      {
        "duration": 7,
        "start_time": "2023-03-18T18:12:04.664Z"
      },
      {
        "duration": 11,
        "start_time": "2023-03-18T18:12:10.506Z"
      },
      {
        "duration": 3,
        "start_time": "2023-03-18T18:12:24.236Z"
      },
      {
        "duration": 2,
        "start_time": "2023-03-18T18:12:25.501Z"
      },
      {
        "duration": 10,
        "start_time": "2023-03-18T18:12:25.505Z"
      },
      {
        "duration": 99,
        "start_time": "2023-03-18T18:12:25.703Z"
      },
      {
        "duration": 13,
        "start_time": "2023-03-18T18:12:25.920Z"
      },
      {
        "duration": 3,
        "start_time": "2023-03-18T18:12:33.341Z"
      },
      {
        "duration": 3,
        "start_time": "2023-03-18T18:12:33.503Z"
      },
      {
        "duration": 3,
        "start_time": "2023-03-18T18:12:33.613Z"
      },
      {
        "duration": 108,
        "start_time": "2023-03-18T18:12:33.757Z"
      },
      {
        "duration": 17,
        "start_time": "2023-03-18T18:12:33.894Z"
      },
      {
        "duration": 3,
        "start_time": "2023-03-18T18:15:10.705Z"
      },
      {
        "duration": 3,
        "start_time": "2023-03-18T18:15:11.123Z"
      },
      {
        "duration": 2,
        "start_time": "2023-03-18T18:15:11.324Z"
      },
      {
        "duration": 77,
        "start_time": "2023-03-18T18:15:11.516Z"
      },
      {
        "duration": 11,
        "start_time": "2023-03-18T18:15:12.076Z"
      },
      {
        "duration": 3,
        "start_time": "2023-03-18T18:17:50.843Z"
      },
      {
        "duration": 3,
        "start_time": "2023-03-18T18:17:51.050Z"
      },
      {
        "duration": 2,
        "start_time": "2023-03-18T18:17:51.242Z"
      },
      {
        "duration": 102,
        "start_time": "2023-03-18T18:17:51.439Z"
      },
      {
        "duration": 18,
        "start_time": "2023-03-18T18:17:51.627Z"
      },
      {
        "duration": 4,
        "start_time": "2023-03-18T18:18:04.626Z"
      },
      {
        "duration": 2,
        "start_time": "2023-03-18T18:18:04.946Z"
      },
      {
        "duration": 2,
        "start_time": "2023-03-18T18:18:05.108Z"
      },
      {
        "duration": 100,
        "start_time": "2023-03-18T18:18:05.220Z"
      },
      {
        "duration": 3,
        "start_time": "2023-03-18T18:18:14.555Z"
      },
      {
        "duration": 3,
        "start_time": "2023-03-18T18:18:14.674Z"
      },
      {
        "duration": 3,
        "start_time": "2023-03-18T18:18:14.834Z"
      },
      {
        "duration": 133,
        "start_time": "2023-03-18T18:18:14.971Z"
      },
      {
        "duration": 12,
        "start_time": "2023-03-18T18:18:15.138Z"
      },
      {
        "duration": 3,
        "start_time": "2023-03-18T18:18:29.379Z"
      },
      {
        "duration": 3,
        "start_time": "2023-03-18T18:18:29.701Z"
      },
      {
        "duration": 2,
        "start_time": "2023-03-18T18:18:29.834Z"
      },
      {
        "duration": 146,
        "start_time": "2023-03-18T18:18:30.008Z"
      },
      {
        "duration": 3,
        "start_time": "2023-03-18T18:18:55.658Z"
      },
      {
        "duration": 3,
        "start_time": "2023-03-18T18:18:56.011Z"
      },
      {
        "duration": 2,
        "start_time": "2023-03-18T18:18:56.236Z"
      },
      {
        "duration": 96,
        "start_time": "2023-03-18T18:18:56.513Z"
      },
      {
        "duration": 3,
        "start_time": "2023-03-18T18:19:08.240Z"
      },
      {
        "duration": 3,
        "start_time": "2023-03-18T18:19:08.370Z"
      },
      {
        "duration": 2,
        "start_time": "2023-03-18T18:19:08.514Z"
      },
      {
        "duration": 81,
        "start_time": "2023-03-18T18:19:08.651Z"
      },
      {
        "duration": 14,
        "start_time": "2023-03-18T18:19:09.650Z"
      },
      {
        "duration": 3,
        "start_time": "2023-03-18T18:19:47.041Z"
      },
      {
        "duration": 3,
        "start_time": "2023-03-18T18:19:47.207Z"
      },
      {
        "duration": 3,
        "start_time": "2023-03-18T18:19:47.369Z"
      },
      {
        "duration": 79,
        "start_time": "2023-03-18T18:19:47.537Z"
      },
      {
        "duration": 17,
        "start_time": "2023-03-18T18:19:47.753Z"
      },
      {
        "duration": 3,
        "start_time": "2023-03-18T18:20:39.625Z"
      },
      {
        "duration": 3,
        "start_time": "2023-03-18T18:20:39.761Z"
      },
      {
        "duration": 2,
        "start_time": "2023-03-18T18:20:39.906Z"
      },
      {
        "duration": 79,
        "start_time": "2023-03-18T18:20:40.024Z"
      },
      {
        "duration": 13,
        "start_time": "2023-03-18T18:20:40.208Z"
      },
      {
        "duration": 9,
        "start_time": "2023-03-18T18:20:59.857Z"
      },
      {
        "duration": 3,
        "start_time": "2023-03-18T18:21:51.933Z"
      },
      {
        "duration": 3,
        "start_time": "2023-03-18T18:21:52.108Z"
      },
      {
        "duration": 3,
        "start_time": "2023-03-18T18:21:52.308Z"
      },
      {
        "duration": 101,
        "start_time": "2023-03-18T18:21:52.614Z"
      },
      {
        "duration": 9,
        "start_time": "2023-03-18T18:21:52.873Z"
      },
      {
        "duration": 2,
        "start_time": "2023-03-18T18:22:00.834Z"
      },
      {
        "duration": 2,
        "start_time": "2023-03-18T18:22:00.945Z"
      },
      {
        "duration": 2,
        "start_time": "2023-03-18T18:22:01.109Z"
      },
      {
        "duration": 80,
        "start_time": "2023-03-18T18:22:01.204Z"
      },
      {
        "duration": 8,
        "start_time": "2023-03-18T18:22:01.769Z"
      },
      {
        "duration": 3,
        "start_time": "2023-03-18T18:22:16.205Z"
      },
      {
        "duration": 2,
        "start_time": "2023-03-18T18:22:16.416Z"
      },
      {
        "duration": 3,
        "start_time": "2023-03-18T18:22:16.640Z"
      },
      {
        "duration": 94,
        "start_time": "2023-03-18T18:22:16.760Z"
      },
      {
        "duration": 9,
        "start_time": "2023-03-18T18:22:17.105Z"
      },
      {
        "duration": 3,
        "start_time": "2023-03-18T18:23:16.441Z"
      },
      {
        "duration": 3,
        "start_time": "2023-03-18T18:23:16.617Z"
      },
      {
        "duration": 2,
        "start_time": "2023-03-18T18:23:16.782Z"
      },
      {
        "duration": 89,
        "start_time": "2023-03-18T18:23:16.935Z"
      },
      {
        "duration": 9,
        "start_time": "2023-03-18T18:23:17.119Z"
      },
      {
        "duration": 3,
        "start_time": "2023-03-18T18:23:40.128Z"
      },
      {
        "duration": 2,
        "start_time": "2023-03-18T18:23:40.306Z"
      },
      {
        "duration": 3,
        "start_time": "2023-03-18T18:23:40.407Z"
      },
      {
        "duration": 78,
        "start_time": "2023-03-18T18:23:40.536Z"
      },
      {
        "duration": 9,
        "start_time": "2023-03-18T18:23:41.041Z"
      },
      {
        "duration": 9,
        "start_time": "2023-03-18T18:24:09.769Z"
      },
      {
        "duration": 11,
        "start_time": "2023-03-18T18:24:54.608Z"
      },
      {
        "duration": 13,
        "start_time": "2023-03-18T18:25:01.100Z"
      },
      {
        "duration": 8,
        "start_time": "2023-03-18T18:25:45.706Z"
      },
      {
        "duration": 6,
        "start_time": "2023-03-18T18:25:58.310Z"
      },
      {
        "duration": 5,
        "start_time": "2023-03-18T18:28:39.373Z"
      },
      {
        "duration": 6,
        "start_time": "2023-03-18T18:28:47.710Z"
      },
      {
        "duration": 4,
        "start_time": "2023-03-18T18:28:52.862Z"
      },
      {
        "duration": 13,
        "start_time": "2023-03-18T18:29:12.907Z"
      },
      {
        "duration": 16,
        "start_time": "2023-03-18T18:30:01.981Z"
      },
      {
        "duration": 319,
        "start_time": "2023-03-18T18:30:27.357Z"
      },
      {
        "duration": 9,
        "start_time": "2023-03-18T18:30:36.654Z"
      },
      {
        "duration": 346,
        "start_time": "2023-03-18T18:30:52.933Z"
      },
      {
        "duration": 11,
        "start_time": "2023-03-18T18:31:03.637Z"
      },
      {
        "duration": 1123,
        "start_time": "2023-03-18T18:31:11.037Z"
      },
      {
        "duration": 7,
        "start_time": "2023-03-18T18:31:13.341Z"
      },
      {
        "duration": 5,
        "start_time": "2023-03-18T18:31:25.299Z"
      },
      {
        "duration": 3,
        "start_time": "2023-03-18T18:35:20.347Z"
      },
      {
        "duration": 2,
        "start_time": "2023-03-18T18:35:20.522Z"
      },
      {
        "duration": 3,
        "start_time": "2023-03-18T18:35:20.650Z"
      },
      {
        "duration": 77,
        "start_time": "2023-03-18T18:35:20.815Z"
      },
      {
        "duration": 12,
        "start_time": "2023-03-18T18:35:34.770Z"
      },
      {
        "duration": 3,
        "start_time": "2023-03-18T18:36:33.651Z"
      },
      {
        "duration": 3,
        "start_time": "2023-03-18T18:36:34.034Z"
      },
      {
        "duration": 2,
        "start_time": "2023-03-18T18:36:34.346Z"
      },
      {
        "duration": 97,
        "start_time": "2023-03-18T18:36:34.666Z"
      },
      {
        "duration": 3,
        "start_time": "2023-03-18T18:36:42.380Z"
      },
      {
        "duration": 3,
        "start_time": "2023-03-18T18:36:42.514Z"
      },
      {
        "duration": 2,
        "start_time": "2023-03-18T18:36:42.618Z"
      },
      {
        "duration": 77,
        "start_time": "2023-03-18T18:36:42.732Z"
      },
      {
        "duration": 9,
        "start_time": "2023-03-18T18:36:42.859Z"
      },
      {
        "duration": 3,
        "start_time": "2023-03-18T18:36:59.634Z"
      },
      {
        "duration": 2,
        "start_time": "2023-03-18T18:36:59.818Z"
      },
      {
        "duration": 2,
        "start_time": "2023-03-18T18:36:59.969Z"
      },
      {
        "duration": 78,
        "start_time": "2023-03-18T18:37:00.130Z"
      },
      {
        "duration": 11,
        "start_time": "2023-03-18T18:37:00.474Z"
      },
      {
        "duration": 3,
        "start_time": "2023-03-18T18:37:26.650Z"
      },
      {
        "duration": 3,
        "start_time": "2023-03-18T18:37:26.777Z"
      },
      {
        "duration": 3,
        "start_time": "2023-03-18T18:37:26.942Z"
      },
      {
        "duration": 98,
        "start_time": "2023-03-18T18:37:27.212Z"
      },
      {
        "duration": 3,
        "start_time": "2023-03-18T18:38:24.745Z"
      },
      {
        "duration": 2,
        "start_time": "2023-03-18T18:38:25.098Z"
      },
      {
        "duration": 3,
        "start_time": "2023-03-18T18:38:25.312Z"
      },
      {
        "duration": 79,
        "start_time": "2023-03-18T18:38:25.529Z"
      },
      {
        "duration": 12,
        "start_time": "2023-03-18T18:38:25.737Z"
      },
      {
        "duration": 3,
        "start_time": "2023-03-18T18:38:30.529Z"
      },
      {
        "duration": 3,
        "start_time": "2023-03-18T18:38:31.208Z"
      },
      {
        "duration": 2,
        "start_time": "2023-03-18T18:38:31.394Z"
      },
      {
        "duration": 80,
        "start_time": "2023-03-18T18:38:31.569Z"
      },
      {
        "duration": 11,
        "start_time": "2023-03-18T18:38:31.825Z"
      },
      {
        "duration": 3,
        "start_time": "2023-03-18T18:39:01.233Z"
      },
      {
        "duration": 3,
        "start_time": "2023-03-18T18:39:01.415Z"
      },
      {
        "duration": 3,
        "start_time": "2023-03-18T18:39:02.168Z"
      },
      {
        "duration": 109,
        "start_time": "2023-03-18T18:39:02.330Z"
      },
      {
        "duration": 10,
        "start_time": "2023-03-18T18:39:02.449Z"
      },
      {
        "duration": 3,
        "start_time": "2023-03-18T18:39:04.953Z"
      },
      {
        "duration": 2,
        "start_time": "2023-03-18T18:39:05.065Z"
      },
      {
        "duration": 3,
        "start_time": "2023-03-18T18:39:05.209Z"
      },
      {
        "duration": 96,
        "start_time": "2023-03-18T18:39:05.337Z"
      },
      {
        "duration": 12,
        "start_time": "2023-03-18T18:39:05.456Z"
      },
      {
        "duration": 3,
        "start_time": "2023-03-18T18:39:10.049Z"
      },
      {
        "duration": 3,
        "start_time": "2023-03-18T18:39:10.568Z"
      },
      {
        "duration": 3,
        "start_time": "2023-03-18T18:39:10.709Z"
      },
      {
        "duration": 76,
        "start_time": "2023-03-18T18:39:10.806Z"
      },
      {
        "duration": 10,
        "start_time": "2023-03-18T18:39:11.232Z"
      },
      {
        "duration": 3,
        "start_time": "2023-03-18T18:39:15.017Z"
      },
      {
        "duration": 3,
        "start_time": "2023-03-18T18:39:15.115Z"
      },
      {
        "duration": 2,
        "start_time": "2023-03-18T18:39:15.224Z"
      },
      {
        "duration": 79,
        "start_time": "2023-03-18T18:39:15.344Z"
      },
      {
        "duration": 10,
        "start_time": "2023-03-18T18:39:15.472Z"
      },
      {
        "duration": 3,
        "start_time": "2023-03-18T18:39:56.033Z"
      },
      {
        "duration": 3,
        "start_time": "2023-03-18T18:39:56.402Z"
      },
      {
        "duration": 2,
        "start_time": "2023-03-18T18:39:56.609Z"
      },
      {
        "duration": 78,
        "start_time": "2023-03-18T18:39:56.914Z"
      },
      {
        "duration": 10,
        "start_time": "2023-03-18T18:39:57.240Z"
      },
      {
        "duration": 4,
        "start_time": "2023-03-18T18:40:10.440Z"
      },
      {
        "duration": 2,
        "start_time": "2023-03-18T18:40:10.827Z"
      },
      {
        "duration": 2,
        "start_time": "2023-03-18T18:40:11.056Z"
      },
      {
        "duration": 149,
        "start_time": "2023-03-18T18:40:11.320Z"
      },
      {
        "duration": 2,
        "start_time": "2023-03-18T18:40:18.337Z"
      },
      {
        "duration": 2,
        "start_time": "2023-03-18T18:40:18.603Z"
      },
      {
        "duration": 2,
        "start_time": "2023-03-18T18:40:19.041Z"
      },
      {
        "duration": 76,
        "start_time": "2023-03-18T18:40:19.248Z"
      },
      {
        "duration": 11,
        "start_time": "2023-03-18T18:40:22.106Z"
      },
      {
        "duration": 3,
        "start_time": "2023-03-18T18:42:12.839Z"
      },
      {
        "duration": 3,
        "start_time": "2023-03-18T18:42:13.184Z"
      },
      {
        "duration": 2,
        "start_time": "2023-03-18T18:42:13.529Z"
      },
      {
        "duration": 95,
        "start_time": "2023-03-18T18:42:13.801Z"
      },
      {
        "duration": 13,
        "start_time": "2023-03-18T18:42:14.159Z"
      },
      {
        "duration": 3,
        "start_time": "2023-03-18T18:42:37.624Z"
      },
      {
        "duration": 2,
        "start_time": "2023-03-18T18:42:37.803Z"
      },
      {
        "duration": 3,
        "start_time": "2023-03-18T18:42:37.983Z"
      },
      {
        "duration": 82,
        "start_time": "2023-03-18T18:42:38.199Z"
      },
      {
        "duration": 8,
        "start_time": "2023-03-18T18:42:39.099Z"
      },
      {
        "duration": 3,
        "start_time": "2023-03-18T18:42:59.457Z"
      },
      {
        "duration": 3,
        "start_time": "2023-03-18T18:42:59.611Z"
      },
      {
        "duration": 2,
        "start_time": "2023-03-18T18:42:59.848Z"
      },
      {
        "duration": 80,
        "start_time": "2023-03-18T18:43:00.005Z"
      },
      {
        "duration": 11,
        "start_time": "2023-03-18T18:43:00.351Z"
      },
      {
        "duration": 3,
        "start_time": "2023-03-18T18:46:47.712Z"
      },
      {
        "duration": 2,
        "start_time": "2023-03-18T18:46:47.861Z"
      },
      {
        "duration": 3,
        "start_time": "2023-03-18T18:46:48.013Z"
      },
      {
        "duration": 77,
        "start_time": "2023-03-18T18:46:48.181Z"
      },
      {
        "duration": 7,
        "start_time": "2023-03-18T18:46:48.349Z"
      },
      {
        "duration": 3,
        "start_time": "2023-03-18T18:47:07.227Z"
      },
      {
        "duration": 2,
        "start_time": "2023-03-18T18:47:07.357Z"
      },
      {
        "duration": 2,
        "start_time": "2023-03-18T18:47:07.519Z"
      },
      {
        "duration": 77,
        "start_time": "2023-03-18T18:47:07.869Z"
      },
      {
        "duration": 7,
        "start_time": "2023-03-18T18:47:08.114Z"
      },
      {
        "duration": 3,
        "start_time": "2023-03-18T18:47:32.462Z"
      },
      {
        "duration": 2,
        "start_time": "2023-03-18T18:47:32.635Z"
      },
      {
        "duration": 3,
        "start_time": "2023-03-18T18:47:32.780Z"
      },
      {
        "duration": 78,
        "start_time": "2023-03-18T18:47:32.931Z"
      },
      {
        "duration": 6,
        "start_time": "2023-03-18T18:47:33.238Z"
      },
      {
        "duration": 3,
        "start_time": "2023-03-18T18:47:47.733Z"
      },
      {
        "duration": 3,
        "start_time": "2023-03-18T18:47:48.421Z"
      },
      {
        "duration": 2,
        "start_time": "2023-03-18T18:47:48.572Z"
      },
      {
        "duration": 77,
        "start_time": "2023-03-18T18:47:48.732Z"
      },
      {
        "duration": 9,
        "start_time": "2023-03-18T18:47:48.923Z"
      },
      {
        "duration": 6,
        "start_time": "2023-03-18T18:48:27.230Z"
      },
      {
        "duration": 8,
        "start_time": "2023-03-18T18:48:35.816Z"
      },
      {
        "duration": 9,
        "start_time": "2023-03-18T18:49:04.719Z"
      },
      {
        "duration": 5,
        "start_time": "2023-03-18T18:49:13.806Z"
      },
      {
        "duration": 8,
        "start_time": "2023-03-18T18:49:17.918Z"
      },
      {
        "duration": 3,
        "start_time": "2023-03-18T18:50:23.164Z"
      },
      {
        "duration": 3,
        "start_time": "2023-03-18T18:50:23.347Z"
      },
      {
        "duration": 2,
        "start_time": "2023-03-18T18:50:23.535Z"
      },
      {
        "duration": 96,
        "start_time": "2023-03-18T18:50:23.683Z"
      },
      {
        "duration": 7,
        "start_time": "2023-03-18T18:50:23.827Z"
      },
      {
        "duration": 3,
        "start_time": "2023-03-18T18:50:41.614Z"
      },
      {
        "duration": 2,
        "start_time": "2023-03-18T18:50:41.810Z"
      },
      {
        "duration": 2,
        "start_time": "2023-03-18T18:50:41.927Z"
      },
      {
        "duration": 102,
        "start_time": "2023-03-18T18:50:42.126Z"
      },
      {
        "duration": 3,
        "start_time": "2023-03-18T18:50:48.571Z"
      },
      {
        "duration": 2,
        "start_time": "2023-03-18T18:50:48.707Z"
      },
      {
        "duration": 2,
        "start_time": "2023-03-18T18:50:48.874Z"
      },
      {
        "duration": 76,
        "start_time": "2023-03-18T18:50:49.035Z"
      },
      {
        "duration": 8,
        "start_time": "2023-03-18T18:50:49.810Z"
      },
      {
        "duration": 4,
        "start_time": "2023-03-18T18:51:14.341Z"
      },
      {
        "duration": 3,
        "start_time": "2023-03-18T18:51:14.554Z"
      },
      {
        "duration": 2,
        "start_time": "2023-03-18T18:51:14.739Z"
      },
      {
        "duration": 78,
        "start_time": "2023-03-18T18:51:14.927Z"
      },
      {
        "duration": 9,
        "start_time": "2023-03-18T18:51:15.115Z"
      },
      {
        "duration": 3,
        "start_time": "2023-03-18T18:51:40.051Z"
      },
      {
        "duration": 3,
        "start_time": "2023-03-18T18:51:40.162Z"
      },
      {
        "duration": 3,
        "start_time": "2023-03-18T18:51:40.346Z"
      },
      {
        "duration": 75,
        "start_time": "2023-03-18T18:51:40.519Z"
      },
      {
        "duration": 8,
        "start_time": "2023-03-18T18:51:40.712Z"
      },
      {
        "duration": 3,
        "start_time": "2023-03-18T18:54:56.553Z"
      },
      {
        "duration": 2,
        "start_time": "2023-03-18T18:54:56.727Z"
      },
      {
        "duration": 2,
        "start_time": "2023-03-18T18:54:56.865Z"
      },
      {
        "duration": 85,
        "start_time": "2023-03-18T18:54:57.177Z"
      },
      {
        "duration": 7,
        "start_time": "2023-03-18T18:54:57.414Z"
      },
      {
        "duration": 3,
        "start_time": "2023-03-18T18:55:10.409Z"
      },
      {
        "duration": 2,
        "start_time": "2023-03-18T18:55:10.545Z"
      },
      {
        "duration": 3,
        "start_time": "2023-03-18T18:55:10.681Z"
      },
      {
        "duration": 78,
        "start_time": "2023-03-18T18:55:10.826Z"
      },
      {
        "duration": 7,
        "start_time": "2023-03-18T18:55:11.112Z"
      },
      {
        "duration": 10,
        "start_time": "2023-03-19T08:40:14.372Z"
      },
      {
        "duration": 2,
        "start_time": "2023-03-19T08:40:14.673Z"
      },
      {
        "duration": 5,
        "start_time": "2023-03-19T08:40:14.909Z"
      },
      {
        "duration": 50,
        "start_time": "2023-03-19T08:40:15.128Z"
      },
      {
        "duration": 1040,
        "start_time": "2023-03-19T08:40:19.729Z"
      },
      {
        "duration": 4,
        "start_time": "2023-03-19T08:40:20.771Z"
      },
      {
        "duration": 10468,
        "start_time": "2023-03-19T08:40:21.119Z"
      },
      {
        "duration": 561,
        "start_time": "2023-03-19T08:40:31.590Z"
      },
      {
        "duration": 3,
        "start_time": "2023-03-19T08:40:32.152Z"
      },
      {
        "duration": 24,
        "start_time": "2023-03-19T08:40:32.157Z"
      },
      {
        "duration": 5,
        "start_time": "2023-03-19T08:40:32.182Z"
      },
      {
        "duration": 442,
        "start_time": "2023-03-19T08:40:32.189Z"
      },
      {
        "duration": 12,
        "start_time": "2023-03-19T08:40:32.633Z"
      },
      {
        "duration": 3,
        "start_time": "2023-03-19T08:40:48.865Z"
      },
      {
        "duration": 3,
        "start_time": "2023-03-19T08:40:49.497Z"
      },
      {
        "duration": 2,
        "start_time": "2023-03-19T08:40:49.768Z"
      },
      {
        "duration": 141,
        "start_time": "2023-03-19T08:40:50.031Z"
      },
      {
        "duration": 9,
        "start_time": "2023-03-19T08:40:50.431Z"
      },
      {
        "duration": 6,
        "start_time": "2023-03-19T08:41:17.909Z"
      },
      {
        "duration": 5,
        "start_time": "2023-03-19T08:41:18.113Z"
      },
      {
        "duration": 5,
        "start_time": "2023-03-19T08:41:18.247Z"
      },
      {
        "duration": 108,
        "start_time": "2023-03-19T08:41:18.463Z"
      },
      {
        "duration": 10,
        "start_time": "2023-03-19T08:41:19.005Z"
      },
      {
        "duration": 3,
        "start_time": "2023-03-19T08:41:32.115Z"
      },
      {
        "duration": 2,
        "start_time": "2023-03-19T08:41:32.315Z"
      },
      {
        "duration": 4,
        "start_time": "2023-03-19T08:41:32.509Z"
      },
      {
        "duration": 114,
        "start_time": "2023-03-19T08:41:32.656Z"
      },
      {
        "duration": 15,
        "start_time": "2023-03-19T08:41:32.855Z"
      },
      {
        "duration": 5,
        "start_time": "2023-03-19T08:41:50.974Z"
      },
      {
        "duration": 5,
        "start_time": "2023-03-19T08:41:58.151Z"
      },
      {
        "duration": 12,
        "start_time": "2023-03-19T08:42:11.655Z"
      },
      {
        "duration": 6,
        "start_time": "2023-03-19T08:42:26.701Z"
      },
      {
        "duration": 2,
        "start_time": "2023-03-19T08:42:26.913Z"
      },
      {
        "duration": 2,
        "start_time": "2023-03-19T08:42:27.064Z"
      },
      {
        "duration": 116,
        "start_time": "2023-03-19T08:42:27.271Z"
      },
      {
        "duration": 14,
        "start_time": "2023-03-19T08:42:27.605Z"
      },
      {
        "duration": 3,
        "start_time": "2023-03-19T08:42:32.841Z"
      },
      {
        "duration": 3,
        "start_time": "2023-03-19T08:42:33.114Z"
      },
      {
        "duration": 2,
        "start_time": "2023-03-19T08:42:33.247Z"
      },
      {
        "duration": 118,
        "start_time": "2023-03-19T08:42:33.418Z"
      },
      {
        "duration": 12,
        "start_time": "2023-03-19T08:42:33.871Z"
      },
      {
        "duration": 3,
        "start_time": "2023-03-19T08:46:58.114Z"
      },
      {
        "duration": 3,
        "start_time": "2023-03-19T08:46:58.407Z"
      },
      {
        "duration": 3,
        "start_time": "2023-03-19T08:46:58.616Z"
      },
      {
        "duration": 1312,
        "start_time": "2023-03-19T08:46:58.810Z"
      },
      {
        "duration": 10,
        "start_time": "2023-03-19T08:47:00.124Z"
      },
      {
        "duration": 5,
        "start_time": "2023-03-19T08:47:12.662Z"
      },
      {
        "duration": 6,
        "start_time": "2023-03-19T08:47:16.629Z"
      },
      {
        "duration": 4,
        "start_time": "2023-03-19T08:47:40.197Z"
      },
      {
        "duration": 8,
        "start_time": "2023-03-19T08:47:40.203Z"
      },
      {
        "duration": 5,
        "start_time": "2023-03-19T08:47:40.212Z"
      },
      {
        "duration": 205,
        "start_time": "2023-03-19T08:47:40.218Z"
      },
      {
        "duration": 0,
        "start_time": "2023-03-19T08:47:40.425Z"
      },
      {
        "duration": 3,
        "start_time": "2023-03-19T08:47:48.262Z"
      },
      {
        "duration": 2,
        "start_time": "2023-03-19T08:47:48.413Z"
      },
      {
        "duration": 2,
        "start_time": "2023-03-19T08:47:48.540Z"
      },
      {
        "duration": 107,
        "start_time": "2023-03-19T08:47:48.670Z"
      },
      {
        "duration": 7,
        "start_time": "2023-03-19T08:47:50.829Z"
      },
      {
        "duration": 30,
        "start_time": "2023-03-19T08:47:54.474Z"
      },
      {
        "duration": 3,
        "start_time": "2023-03-19T08:48:04.661Z"
      },
      {
        "duration": 3,
        "start_time": "2023-03-19T08:48:05.108Z"
      },
      {
        "duration": 2,
        "start_time": "2023-03-19T08:48:05.413Z"
      },
      {
        "duration": 105,
        "start_time": "2023-03-19T08:48:05.725Z"
      },
      {
        "duration": 8,
        "start_time": "2023-03-19T08:48:06.125Z"
      },
      {
        "duration": 3,
        "start_time": "2023-03-19T08:48:16.402Z"
      },
      {
        "duration": 2,
        "start_time": "2023-03-19T08:48:17.003Z"
      },
      {
        "duration": 2,
        "start_time": "2023-03-19T08:48:17.203Z"
      },
      {
        "duration": 108,
        "start_time": "2023-03-19T08:48:17.357Z"
      },
      {
        "duration": 9,
        "start_time": "2023-03-19T08:48:17.533Z"
      },
      {
        "duration": 3,
        "start_time": "2023-03-19T08:48:32.140Z"
      },
      {
        "duration": 3,
        "start_time": "2023-03-19T08:48:32.444Z"
      },
      {
        "duration": 3,
        "start_time": "2023-03-19T08:48:33.229Z"
      },
      {
        "duration": 118,
        "start_time": "2023-03-19T08:48:33.540Z"
      },
      {
        "duration": 11,
        "start_time": "2023-03-19T08:48:33.932Z"
      },
      {
        "duration": 3,
        "start_time": "2023-03-19T08:48:51.452Z"
      },
      {
        "duration": 2,
        "start_time": "2023-03-19T08:48:51.620Z"
      },
      {
        "duration": 2,
        "start_time": "2023-03-19T08:48:51.815Z"
      },
      {
        "duration": 110,
        "start_time": "2023-03-19T08:48:51.988Z"
      },
      {
        "duration": 15,
        "start_time": "2023-03-19T08:48:52.389Z"
      },
      {
        "duration": 3,
        "start_time": "2023-03-19T08:48:59.104Z"
      },
      {
        "duration": 3,
        "start_time": "2023-03-19T08:48:59.302Z"
      },
      {
        "duration": 2,
        "start_time": "2023-03-19T08:48:59.453Z"
      },
      {
        "duration": 113,
        "start_time": "2023-03-19T08:48:59.619Z"
      },
      {
        "duration": 3,
        "start_time": "2023-03-19T08:49:02.628Z"
      },
      {
        "duration": 2,
        "start_time": "2023-03-19T08:49:02.812Z"
      },
      {
        "duration": 2,
        "start_time": "2023-03-19T08:49:02.972Z"
      },
      {
        "duration": 113,
        "start_time": "2023-03-19T08:49:03.157Z"
      },
      {
        "duration": 13,
        "start_time": "2023-03-19T08:49:03.502Z"
      },
      {
        "duration": 7,
        "start_time": "2023-03-19T08:53:06.209Z"
      },
      {
        "duration": 3,
        "start_time": "2023-03-19T08:53:06.554Z"
      },
      {
        "duration": 3,
        "start_time": "2023-03-19T08:53:06.837Z"
      },
      {
        "duration": 122,
        "start_time": "2023-03-19T08:53:07.119Z"
      },
      {
        "duration": 12,
        "start_time": "2023-03-19T08:53:07.410Z"
      },
      {
        "duration": 4,
        "start_time": "2023-03-19T08:53:12.755Z"
      },
      {
        "duration": 2,
        "start_time": "2023-03-19T08:53:12.914Z"
      },
      {
        "duration": 3,
        "start_time": "2023-03-19T08:53:13.015Z"
      },
      {
        "duration": 129,
        "start_time": "2023-03-19T08:53:13.130Z"
      },
      {
        "duration": 0,
        "start_time": "2023-03-19T08:53:13.261Z"
      },
      {
        "duration": 4,
        "start_time": "2023-03-19T08:53:22.418Z"
      },
      {
        "duration": 4,
        "start_time": "2023-03-19T08:53:22.538Z"
      },
      {
        "duration": 3,
        "start_time": "2023-03-19T08:53:22.676Z"
      },
      {
        "duration": 105,
        "start_time": "2023-03-19T08:53:22.818Z"
      },
      {
        "duration": 9,
        "start_time": "2023-03-19T08:53:23.324Z"
      },
      {
        "duration": 5,
        "start_time": "2023-03-19T08:54:08.690Z"
      },
      {
        "duration": 3,
        "start_time": "2023-03-19T08:54:08.835Z"
      },
      {
        "duration": 3,
        "start_time": "2023-03-19T08:54:08.954Z"
      },
      {
        "duration": 110,
        "start_time": "2023-03-19T08:54:09.141Z"
      },
      {
        "duration": 12,
        "start_time": "2023-03-19T08:54:09.310Z"
      },
      {
        "duration": 13,
        "start_time": "2023-03-19T08:54:17.257Z"
      },
      {
        "duration": 9,
        "start_time": "2023-03-19T08:54:27.299Z"
      },
      {
        "duration": 2,
        "start_time": "2023-03-19T08:54:27.420Z"
      },
      {
        "duration": 5,
        "start_time": "2023-03-19T08:54:27.592Z"
      },
      {
        "duration": 108,
        "start_time": "2023-03-19T08:54:27.753Z"
      },
      {
        "duration": 13,
        "start_time": "2023-03-19T08:54:28.001Z"
      },
      {
        "duration": 3,
        "start_time": "2023-03-19T08:54:34.834Z"
      },
      {
        "duration": 3,
        "start_time": "2023-03-19T08:54:35.114Z"
      },
      {
        "duration": 3,
        "start_time": "2023-03-19T08:54:35.323Z"
      },
      {
        "duration": 112,
        "start_time": "2023-03-19T08:54:35.511Z"
      },
      {
        "duration": 10,
        "start_time": "2023-03-19T08:54:35.729Z"
      },
      {
        "duration": 3,
        "start_time": "2023-03-19T09:28:00.242Z"
      },
      {
        "duration": 574,
        "start_time": "2023-03-19T09:28:00.426Z"
      },
      {
        "duration": 26,
        "start_time": "2023-03-19T09:28:01.002Z"
      },
      {
        "duration": 3,
        "start_time": "2023-03-19T09:33:56.275Z"
      },
      {
        "duration": 114,
        "start_time": "2023-03-19T09:33:56.607Z"
      },
      {
        "duration": 18,
        "start_time": "2023-03-19T09:33:57.007Z"
      },
      {
        "duration": 3,
        "start_time": "2023-03-19T09:34:02.807Z"
      },
      {
        "duration": 195,
        "start_time": "2023-03-19T09:34:03.111Z"
      },
      {
        "duration": 12,
        "start_time": "2023-03-19T09:34:03.711Z"
      },
      {
        "duration": 4,
        "start_time": "2023-03-19T09:34:25.119Z"
      },
      {
        "duration": 253,
        "start_time": "2023-03-19T09:34:25.310Z"
      },
      {
        "duration": 10,
        "start_time": "2023-03-19T09:34:25.565Z"
      },
      {
        "duration": 3,
        "start_time": "2023-03-19T09:35:26.471Z"
      },
      {
        "duration": 222,
        "start_time": "2023-03-19T09:35:26.718Z"
      },
      {
        "duration": 10,
        "start_time": "2023-03-19T09:35:26.942Z"
      },
      {
        "duration": 10,
        "start_time": "2023-03-19T09:35:40.892Z"
      },
      {
        "duration": 245,
        "start_time": "2023-03-19T09:35:41.054Z"
      },
      {
        "duration": 11,
        "start_time": "2023-03-19T09:35:41.414Z"
      },
      {
        "duration": 3,
        "start_time": "2023-03-19T09:35:45.208Z"
      },
      {
        "duration": 187,
        "start_time": "2023-03-19T09:35:45.374Z"
      },
      {
        "duration": 11,
        "start_time": "2023-03-19T09:35:45.573Z"
      },
      {
        "duration": 3,
        "start_time": "2023-03-19T09:37:28.811Z"
      },
      {
        "duration": 117,
        "start_time": "2023-03-19T09:37:29.048Z"
      },
      {
        "duration": 11,
        "start_time": "2023-03-19T09:37:29.314Z"
      },
      {
        "duration": 3,
        "start_time": "2023-03-19T09:37:39.262Z"
      },
      {
        "duration": 132,
        "start_time": "2023-03-19T09:37:39.490Z"
      },
      {
        "duration": 13,
        "start_time": "2023-03-19T09:37:39.810Z"
      },
      {
        "duration": 2,
        "start_time": "2023-03-19T09:37:48.958Z"
      },
      {
        "duration": 112,
        "start_time": "2023-03-19T09:37:49.214Z"
      },
      {
        "duration": 3,
        "start_time": "2023-03-19T09:38:00.526Z"
      },
      {
        "duration": 122,
        "start_time": "2023-03-19T09:38:00.908Z"
      },
      {
        "duration": 8,
        "start_time": "2023-03-19T09:38:08.397Z"
      },
      {
        "duration": 261,
        "start_time": "2023-03-19T09:38:08.543Z"
      },
      {
        "duration": 11,
        "start_time": "2023-03-19T09:38:09.669Z"
      },
      {
        "duration": 3,
        "start_time": "2023-03-19T09:38:14.118Z"
      },
      {
        "duration": 248,
        "start_time": "2023-03-19T09:38:14.518Z"
      },
      {
        "duration": 11,
        "start_time": "2023-03-19T09:38:14.768Z"
      },
      {
        "duration": 9,
        "start_time": "2023-03-19T09:38:32.638Z"
      },
      {
        "duration": 3,
        "start_time": "2023-03-19T09:39:00.021Z"
      },
      {
        "duration": 117,
        "start_time": "2023-03-19T09:39:00.365Z"
      },
      {
        "duration": 8,
        "start_time": "2023-03-19T09:39:00.724Z"
      },
      {
        "duration": 13,
        "start_time": "2023-03-19T09:39:03.902Z"
      },
      {
        "duration": 7,
        "start_time": "2023-03-19T09:39:05.773Z"
      },
      {
        "duration": 143,
        "start_time": "2023-03-19T09:39:10.992Z"
      },
      {
        "duration": 10,
        "start_time": "2023-03-19T09:39:11.156Z"
      },
      {
        "duration": 18,
        "start_time": "2023-03-19T09:39:19.491Z"
      },
      {
        "duration": 3,
        "start_time": "2023-03-19T09:39:44.220Z"
      },
      {
        "duration": 86,
        "start_time": "2023-03-19T09:39:44.677Z"
      },
      {
        "duration": 1292,
        "start_time": "2023-03-19T09:39:44.889Z"
      },
      {
        "duration": 29,
        "start_time": "2023-03-19T09:39:48.988Z"
      },
      {
        "duration": 7,
        "start_time": "2023-03-19T09:39:51.416Z"
      },
      {
        "duration": 3,
        "start_time": "2023-03-19T09:39:58.445Z"
      },
      {
        "duration": 69,
        "start_time": "2023-03-19T09:39:58.615Z"
      },
      {
        "duration": 7,
        "start_time": "2023-03-19T09:39:58.972Z"
      },
      {
        "duration": 153,
        "start_time": "2023-03-19T09:41:07.844Z"
      },
      {
        "duration": 3,
        "start_time": "2023-03-19T11:48:34.436Z"
      },
      {
        "duration": 156,
        "start_time": "2023-03-19T11:48:35.061Z"
      },
      {
        "duration": 20,
        "start_time": "2023-03-19T11:48:35.280Z"
      },
      {
        "duration": 10,
        "start_time": "2023-03-19T11:48:47.488Z"
      },
      {
        "duration": 173,
        "start_time": "2023-03-19T11:48:47.864Z"
      },
      {
        "duration": 8,
        "start_time": "2023-03-19T11:48:48.345Z"
      },
      {
        "duration": 3,
        "start_time": "2023-03-19T11:49:50.056Z"
      },
      {
        "duration": 1114,
        "start_time": "2023-03-19T11:49:50.175Z"
      },
      {
        "duration": 14,
        "start_time": "2023-03-19T11:49:51.300Z"
      },
      {
        "duration": 3,
        "start_time": "2023-03-19T11:50:10.559Z"
      },
      {
        "duration": 1087,
        "start_time": "2023-03-19T11:50:10.725Z"
      },
      {
        "duration": 18,
        "start_time": "2023-03-19T11:50:11.820Z"
      },
      {
        "duration": 4,
        "start_time": "2023-03-19T11:51:36.023Z"
      },
      {
        "duration": 131,
        "start_time": "2023-03-19T11:51:36.835Z"
      },
      {
        "duration": 11,
        "start_time": "2023-03-19T11:51:37.056Z"
      },
      {
        "duration": 5,
        "start_time": "2023-03-19T11:52:07.191Z"
      },
      {
        "duration": 1325,
        "start_time": "2023-03-19T11:52:07.425Z"
      },
      {
        "duration": 11,
        "start_time": "2023-03-19T11:52:08.753Z"
      },
      {
        "duration": 8,
        "start_time": "2023-03-19T11:53:13.020Z"
      },
      {
        "duration": 1401,
        "start_time": "2023-03-19T11:53:13.335Z"
      },
      {
        "duration": 23,
        "start_time": "2023-03-19T11:53:16.310Z"
      },
      {
        "duration": 12,
        "start_time": "2023-03-19T11:53:28.887Z"
      },
      {
        "duration": 1252,
        "start_time": "2023-03-19T11:53:29.129Z"
      },
      {
        "duration": 32,
        "start_time": "2023-03-19T11:53:30.383Z"
      },
      {
        "duration": 3,
        "start_time": "2023-03-19T11:53:48.330Z"
      },
      {
        "duration": 150,
        "start_time": "2023-03-19T11:53:48.630Z"
      },
      {
        "duration": 27,
        "start_time": "2023-03-19T11:53:48.818Z"
      },
      {
        "duration": 4,
        "start_time": "2023-03-19T11:54:27.072Z"
      },
      {
        "duration": 1592,
        "start_time": "2023-03-19T11:54:27.390Z"
      },
      {
        "duration": 28,
        "start_time": "2023-03-19T11:54:28.984Z"
      },
      {
        "duration": 6,
        "start_time": "2023-03-19T11:57:21.320Z"
      },
      {
        "duration": 128,
        "start_time": "2023-03-19T11:57:21.634Z"
      },
      {
        "duration": 2,
        "start_time": "2023-03-19T11:57:33.469Z"
      },
      {
        "duration": 130,
        "start_time": "2023-03-19T11:57:33.741Z"
      },
      {
        "duration": 3,
        "start_time": "2023-03-19T11:57:39.781Z"
      },
      {
        "duration": 156,
        "start_time": "2023-03-19T11:57:40.325Z"
      },
      {
        "duration": 2,
        "start_time": "2023-03-19T11:58:11.535Z"
      },
      {
        "duration": 1401,
        "start_time": "2023-03-19T11:58:11.750Z"
      },
      {
        "duration": 12,
        "start_time": "2023-03-19T11:58:13.153Z"
      },
      {
        "duration": 14,
        "start_time": "2023-03-19T11:58:19.725Z"
      },
      {
        "duration": 26,
        "start_time": "2023-03-19T11:58:22.182Z"
      },
      {
        "duration": 11,
        "start_time": "2023-03-19T11:58:34.897Z"
      },
      {
        "duration": 1364,
        "start_time": "2023-03-19T11:58:35.085Z"
      },
      {
        "duration": 14,
        "start_time": "2023-03-19T11:58:36.452Z"
      },
      {
        "duration": 3,
        "start_time": "2023-03-19T12:06:45.226Z"
      },
      {
        "duration": 1445,
        "start_time": "2023-03-19T12:06:45.442Z"
      },
      {
        "duration": 32,
        "start_time": "2023-03-19T12:06:46.889Z"
      },
      {
        "duration": 2,
        "start_time": "2023-03-19T12:06:59.378Z"
      },
      {
        "duration": 1274,
        "start_time": "2023-03-19T12:06:59.554Z"
      },
      {
        "duration": 10,
        "start_time": "2023-03-19T12:07:00.830Z"
      },
      {
        "duration": 3,
        "start_time": "2023-03-19T12:07:05.316Z"
      },
      {
        "duration": 1290,
        "start_time": "2023-03-19T12:07:05.433Z"
      },
      {
        "duration": 10,
        "start_time": "2023-03-19T12:07:06.726Z"
      },
      {
        "duration": 9,
        "start_time": "2023-03-19T12:08:02.693Z"
      },
      {
        "duration": 154,
        "start_time": "2023-03-19T12:08:03.089Z"
      },
      {
        "duration": 17,
        "start_time": "2023-03-19T12:08:03.287Z"
      },
      {
        "duration": 3,
        "start_time": "2023-03-19T12:08:16.163Z"
      },
      {
        "duration": 1332,
        "start_time": "2023-03-19T12:08:16.538Z"
      },
      {
        "duration": 9,
        "start_time": "2023-03-19T12:08:17.872Z"
      },
      {
        "duration": 11,
        "start_time": "2023-03-19T12:08:22.017Z"
      },
      {
        "duration": 14,
        "start_time": "2023-03-19T12:08:58.063Z"
      },
      {
        "duration": 3,
        "start_time": "2023-03-19T12:09:07.785Z"
      },
      {
        "duration": 1240,
        "start_time": "2023-03-19T12:09:08.516Z"
      },
      {
        "duration": 11,
        "start_time": "2023-03-19T12:09:09.758Z"
      },
      {
        "duration": 4,
        "start_time": "2023-03-19T12:11:22.619Z"
      },
      {
        "duration": 2290,
        "start_time": "2023-03-19T12:11:22.944Z"
      },
      {
        "duration": 12,
        "start_time": "2023-03-19T12:11:25.236Z"
      },
      {
        "duration": 3,
        "start_time": "2023-03-19T12:11:35.648Z"
      },
      {
        "duration": 2207,
        "start_time": "2023-03-19T12:11:35.812Z"
      },
      {
        "duration": 11,
        "start_time": "2023-03-19T12:11:38.022Z"
      },
      {
        "duration": 4,
        "start_time": "2023-03-19T12:11:50.368Z"
      },
      {
        "duration": 1163,
        "start_time": "2023-03-19T12:11:50.857Z"
      },
      {
        "duration": 11,
        "start_time": "2023-03-19T12:11:52.023Z"
      },
      {
        "duration": 3,
        "start_time": "2023-03-19T12:11:59.633Z"
      },
      {
        "duration": 3,
        "start_time": "2023-03-19T12:12:29.769Z"
      },
      {
        "duration": 4,
        "start_time": "2023-03-19T12:12:30.127Z"
      },
      {
        "duration": 4,
        "start_time": "2023-03-19T12:12:30.824Z"
      },
      {
        "duration": 3,
        "start_time": "2023-03-19T12:14:23.319Z"
      },
      {
        "duration": 1408,
        "start_time": "2023-03-19T12:14:24.184Z"
      },
      {
        "duration": 16,
        "start_time": "2023-03-19T12:14:25.602Z"
      },
      {
        "duration": 4,
        "start_time": "2023-03-19T12:14:31.719Z"
      },
      {
        "duration": 1184,
        "start_time": "2023-03-19T12:14:31.817Z"
      },
      {
        "duration": 14,
        "start_time": "2023-03-19T12:14:33.010Z"
      },
      {
        "duration": 10,
        "start_time": "2023-03-19T12:14:40.128Z"
      },
      {
        "duration": 3,
        "start_time": "2023-03-19T12:15:59.456Z"
      },
      {
        "duration": 1288,
        "start_time": "2023-03-19T12:15:59.847Z"
      },
      {
        "duration": 10,
        "start_time": "2023-03-19T12:16:01.138Z"
      },
      {
        "duration": 3,
        "start_time": "2023-03-19T12:16:12.951Z"
      },
      {
        "duration": 1195,
        "start_time": "2023-03-19T12:16:13.134Z"
      },
      {
        "duration": 10,
        "start_time": "2023-03-19T12:16:14.331Z"
      },
      {
        "duration": 4,
        "start_time": "2023-03-19T12:16:16.720Z"
      },
      {
        "duration": 1334,
        "start_time": "2023-03-19T12:16:16.871Z"
      },
      {
        "duration": 16,
        "start_time": "2023-03-19T12:16:18.208Z"
      },
      {
        "duration": 8,
        "start_time": "2023-03-19T12:32:24.427Z"
      },
      {
        "duration": 154,
        "start_time": "2023-03-19T12:32:24.812Z"
      },
      {
        "duration": 15,
        "start_time": "2023-03-19T12:32:25.247Z"
      },
      {
        "duration": 13,
        "start_time": "2023-03-19T12:32:34.907Z"
      },
      {
        "duration": 1603,
        "start_time": "2023-03-19T12:32:35.071Z"
      },
      {
        "duration": 30,
        "start_time": "2023-03-19T12:32:36.676Z"
      },
      {
        "duration": 14,
        "start_time": "2023-03-19T12:32:42.167Z"
      },
      {
        "duration": 6,
        "start_time": "2023-03-19T12:33:04.821Z"
      },
      {
        "duration": 1717,
        "start_time": "2023-03-19T12:33:05.104Z"
      },
      {
        "duration": 27,
        "start_time": "2023-03-19T12:33:06.830Z"
      },
      {
        "duration": 9,
        "start_time": "2023-03-19T12:33:58.489Z"
      },
      {
        "duration": 1429,
        "start_time": "2023-03-19T12:33:58.820Z"
      },
      {
        "duration": 13,
        "start_time": "2023-03-19T12:34:00.251Z"
      },
      {
        "duration": 4,
        "start_time": "2023-03-19T12:34:15.117Z"
      },
      {
        "duration": 1347,
        "start_time": "2023-03-19T12:34:15.525Z"
      },
      {
        "duration": 11,
        "start_time": "2023-03-19T12:34:20.061Z"
      },
      {
        "duration": 7,
        "start_time": "2023-03-19T12:34:34.024Z"
      },
      {
        "duration": 1302,
        "start_time": "2023-03-19T12:34:34.220Z"
      },
      {
        "duration": 14,
        "start_time": "2023-03-19T12:34:35.524Z"
      },
      {
        "duration": 3,
        "start_time": "2023-03-19T12:34:40.445Z"
      },
      {
        "duration": 1241,
        "start_time": "2023-03-19T12:34:40.711Z"
      },
      {
        "duration": 10,
        "start_time": "2023-03-19T12:34:41.954Z"
      },
      {
        "duration": 3,
        "start_time": "2023-03-19T12:35:00.725Z"
      },
      {
        "duration": 1247,
        "start_time": "2023-03-19T12:35:01.003Z"
      },
      {
        "duration": 12,
        "start_time": "2023-03-19T12:35:02.252Z"
      },
      {
        "duration": 3,
        "start_time": "2023-03-19T12:35:08.853Z"
      },
      {
        "duration": 155,
        "start_time": "2023-03-19T12:35:09.060Z"
      },
      {
        "duration": 14,
        "start_time": "2023-03-19T12:35:09.238Z"
      },
      {
        "duration": 5,
        "start_time": "2023-03-19T12:35:17.525Z"
      },
      {
        "duration": 1312,
        "start_time": "2023-03-19T12:35:17.740Z"
      },
      {
        "duration": 12,
        "start_time": "2023-03-19T12:35:19.054Z"
      },
      {
        "duration": 10,
        "start_time": "2023-03-19T12:36:11.312Z"
      },
      {
        "duration": 1188,
        "start_time": "2023-03-19T12:36:11.588Z"
      },
      {
        "duration": 38,
        "start_time": "2023-03-19T12:36:12.778Z"
      },
      {
        "duration": 6,
        "start_time": "2023-03-19T12:37:12.132Z"
      },
      {
        "duration": 1301,
        "start_time": "2023-03-19T12:37:12.351Z"
      },
      {
        "duration": 12,
        "start_time": "2023-03-19T12:37:13.654Z"
      },
      {
        "duration": 3,
        "start_time": "2023-03-19T12:37:41.442Z"
      },
      {
        "duration": 1415,
        "start_time": "2023-03-19T12:37:41.616Z"
      },
      {
        "duration": 16,
        "start_time": "2023-03-19T12:37:43.036Z"
      },
      {
        "duration": 3,
        "start_time": "2023-03-19T13:59:34.028Z"
      },
      {
        "duration": 152,
        "start_time": "2023-03-19T13:59:45.035Z"
      },
      {
        "duration": 11,
        "start_time": "2023-03-19T13:59:45.250Z"
      },
      {
        "duration": 2,
        "start_time": "2023-03-19T13:59:51.716Z"
      },
      {
        "duration": 204,
        "start_time": "2023-03-19T13:59:51.916Z"
      },
      {
        "duration": 10,
        "start_time": "2023-03-19T13:59:53.275Z"
      },
      {
        "duration": 3,
        "start_time": "2023-03-19T14:02:12.347Z"
      },
      {
        "duration": 133,
        "start_time": "2023-03-19T14:02:12.666Z"
      },
      {
        "duration": 3,
        "start_time": "2023-03-19T14:02:38.762Z"
      },
      {
        "duration": 301,
        "start_time": "2023-03-19T14:02:39.153Z"
      },
      {
        "duration": 23,
        "start_time": "2023-03-19T14:02:39.489Z"
      },
      {
        "duration": 7,
        "start_time": "2023-03-19T14:02:50.901Z"
      },
      {
        "duration": 2,
        "start_time": "2023-03-19T14:02:59.754Z"
      },
      {
        "duration": 597,
        "start_time": "2023-03-19T14:03:00.234Z"
      },
      {
        "duration": 11,
        "start_time": "2023-03-19T14:03:00.833Z"
      },
      {
        "duration": 8,
        "start_time": "2023-03-19T14:03:11.692Z"
      },
      {
        "duration": 3,
        "start_time": "2023-03-19T14:03:18.730Z"
      },
      {
        "duration": 554,
        "start_time": "2023-03-19T14:03:19.785Z"
      },
      {
        "duration": 5,
        "start_time": "2023-03-19T14:03:20.418Z"
      },
      {
        "duration": 3,
        "start_time": "2023-03-19T14:04:03.385Z"
      },
      {
        "duration": 453,
        "start_time": "2023-03-19T14:04:03.616Z"
      },
      {
        "duration": 5,
        "start_time": "2023-03-19T14:04:04.071Z"
      },
      {
        "duration": 16,
        "start_time": "2023-03-19T14:04:08.291Z"
      },
      {
        "duration": 5,
        "start_time": "2023-03-19T14:04:10.977Z"
      },
      {
        "duration": 3,
        "start_time": "2023-03-19T14:06:09.448Z"
      },
      {
        "duration": 555,
        "start_time": "2023-03-19T14:06:09.847Z"
      },
      {
        "duration": 6,
        "start_time": "2023-03-19T14:06:10.407Z"
      },
      {
        "duration": 3,
        "start_time": "2023-03-19T14:06:30.736Z"
      },
      {
        "duration": 2376,
        "start_time": "2023-03-19T14:06:30.983Z"
      },
      {
        "duration": 5,
        "start_time": "2023-03-19T14:06:33.361Z"
      },
      {
        "duration": 5,
        "start_time": "2023-03-19T14:06:36.079Z"
      },
      {
        "duration": 10,
        "start_time": "2023-03-19T14:06:43.463Z"
      },
      {
        "duration": 14,
        "start_time": "2023-03-19T14:07:15.145Z"
      },
      {
        "duration": 924,
        "start_time": "2023-03-19T14:07:33.314Z"
      },
      {
        "duration": 6,
        "start_time": "2023-03-19T14:07:37.440Z"
      },
      {
        "duration": 8,
        "start_time": "2023-03-19T14:08:07.326Z"
      },
      {
        "duration": 8,
        "start_time": "2023-03-19T14:08:09.423Z"
      },
      {
        "duration": 9,
        "start_time": "2023-03-19T14:08:23.318Z"
      },
      {
        "duration": 10,
        "start_time": "2023-03-19T14:08:29.742Z"
      },
      {
        "duration": 9,
        "start_time": "2023-03-19T14:08:37.708Z"
      },
      {
        "duration": 9,
        "start_time": "2023-03-19T14:08:46.316Z"
      },
      {
        "duration": 13,
        "start_time": "2023-03-19T14:09:00.818Z"
      },
      {
        "duration": 6,
        "start_time": "2023-03-19T14:09:56.886Z"
      },
      {
        "duration": 1419,
        "start_time": "2023-03-19T14:09:57.325Z"
      },
      {
        "duration": 10,
        "start_time": "2023-03-19T14:09:58.746Z"
      },
      {
        "duration": 2,
        "start_time": "2023-03-19T14:10:21.757Z"
      },
      {
        "duration": 133,
        "start_time": "2023-03-19T14:10:22.000Z"
      },
      {
        "duration": 10,
        "start_time": "2023-03-19T14:10:22.734Z"
      },
      {
        "duration": 3,
        "start_time": "2023-03-19T14:10:26.885Z"
      },
      {
        "duration": 146,
        "start_time": "2023-03-19T14:10:27.115Z"
      },
      {
        "duration": 3,
        "start_time": "2023-03-19T14:12:18.283Z"
      },
      {
        "duration": 150,
        "start_time": "2023-03-19T14:12:18.676Z"
      },
      {
        "duration": 3,
        "start_time": "2023-03-19T14:12:27.123Z"
      },
      {
        "duration": 1517,
        "start_time": "2023-03-19T14:12:27.451Z"
      },
      {
        "duration": 3,
        "start_time": "2023-03-19T14:12:33.971Z"
      },
      {
        "duration": 1501,
        "start_time": "2023-03-19T14:12:34.236Z"
      },
      {
        "duration": 11,
        "start_time": "2023-03-19T14:12:35.739Z"
      },
      {
        "duration": 4,
        "start_time": "2023-03-19T14:12:55.946Z"
      },
      {
        "duration": 1270,
        "start_time": "2023-03-19T14:12:56.619Z"
      },
      {
        "duration": 11,
        "start_time": "2023-03-19T14:12:58.523Z"
      },
      {
        "duration": 18,
        "start_time": "2023-03-19T14:13:08.987Z"
      },
      {
        "duration": 10,
        "start_time": "2023-03-19T14:13:12.117Z"
      },
      {
        "duration": 2,
        "start_time": "2023-03-19T14:14:09.666Z"
      },
      {
        "duration": 133,
        "start_time": "2023-03-19T14:14:10.225Z"
      },
      {
        "duration": 12,
        "start_time": "2023-03-19T14:14:10.482Z"
      },
      {
        "duration": 10,
        "start_time": "2023-03-19T14:14:16.805Z"
      },
      {
        "duration": 145,
        "start_time": "2023-03-19T14:14:17.074Z"
      },
      {
        "duration": 7,
        "start_time": "2023-03-19T14:14:17.515Z"
      },
      {
        "duration": 3,
        "start_time": "2023-03-19T14:14:24.850Z"
      },
      {
        "duration": 1475,
        "start_time": "2023-03-19T14:14:25.004Z"
      },
      {
        "duration": 30,
        "start_time": "2023-03-19T14:14:26.481Z"
      },
      {
        "duration": 3,
        "start_time": "2023-03-19T14:14:55.418Z"
      },
      {
        "duration": 1512,
        "start_time": "2023-03-19T14:14:55.649Z"
      },
      {
        "duration": 9,
        "start_time": "2023-03-19T14:14:57.163Z"
      },
      {
        "duration": 6,
        "start_time": "2023-03-19T14:15:14.316Z"
      },
      {
        "duration": 1328,
        "start_time": "2023-03-19T14:15:14.560Z"
      },
      {
        "duration": 25,
        "start_time": "2023-03-19T14:15:15.892Z"
      },
      {
        "duration": 4,
        "start_time": "2023-03-19T14:16:52.191Z"
      },
      {
        "duration": 1418,
        "start_time": "2023-03-19T14:16:52.386Z"
      },
      {
        "duration": 20,
        "start_time": "2023-03-19T14:16:53.807Z"
      },
      {
        "duration": 3,
        "start_time": "2023-03-19T14:18:56.839Z"
      },
      {
        "duration": 111,
        "start_time": "2023-03-19T14:18:57.030Z"
      },
      {
        "duration": 11,
        "start_time": "2023-03-19T14:18:57.247Z"
      },
      {
        "duration": 2,
        "start_time": "2023-03-19T14:19:03.447Z"
      },
      {
        "duration": 108,
        "start_time": "2023-03-19T14:19:03.664Z"
      },
      {
        "duration": 10,
        "start_time": "2023-03-19T14:19:04.255Z"
      },
      {
        "duration": 3,
        "start_time": "2023-03-19T14:19:09.813Z"
      },
      {
        "duration": 209,
        "start_time": "2023-03-19T14:19:10.040Z"
      },
      {
        "duration": 9,
        "start_time": "2023-03-19T14:19:10.631Z"
      },
      {
        "duration": 7,
        "start_time": "2023-03-19T14:19:15.017Z"
      },
      {
        "duration": 9,
        "start_time": "2023-03-19T14:19:21.160Z"
      },
      {
        "duration": 2,
        "start_time": "2023-03-19T14:19:23.930Z"
      },
      {
        "duration": 288,
        "start_time": "2023-03-19T14:19:25.047Z"
      },
      {
        "duration": 9,
        "start_time": "2023-03-19T14:19:25.337Z"
      },
      {
        "duration": 11,
        "start_time": "2023-03-19T14:19:29.487Z"
      },
      {
        "duration": 221,
        "start_time": "2023-03-19T14:19:29.639Z"
      },
      {
        "duration": 9,
        "start_time": "2023-03-19T14:19:29.862Z"
      },
      {
        "duration": 6,
        "start_time": "2023-03-19T14:20:53.109Z"
      },
      {
        "duration": 139,
        "start_time": "2023-03-19T14:20:53.377Z"
      },
      {
        "duration": 10,
        "start_time": "2023-03-19T14:20:53.618Z"
      },
      {
        "duration": 2,
        "start_time": "2023-03-19T14:20:57.516Z"
      },
      {
        "duration": 121,
        "start_time": "2023-03-19T14:20:57.780Z"
      },
      {
        "duration": 2,
        "start_time": "2023-03-19T14:21:01.818Z"
      },
      {
        "duration": 124,
        "start_time": "2023-03-19T14:21:01.990Z"
      },
      {
        "duration": 2,
        "start_time": "2023-03-19T14:21:06.062Z"
      },
      {
        "duration": 332,
        "start_time": "2023-03-19T14:21:06.287Z"
      },
      {
        "duration": 13,
        "start_time": "2023-03-19T14:21:06.741Z"
      },
      {
        "duration": 3,
        "start_time": "2023-03-19T14:25:24.419Z"
      },
      {
        "duration": 125,
        "start_time": "2023-03-19T14:25:24.682Z"
      },
      {
        "duration": 15,
        "start_time": "2023-03-19T14:25:24.891Z"
      },
      {
        "duration": 2,
        "start_time": "2023-03-19T14:25:34.617Z"
      },
      {
        "duration": 340,
        "start_time": "2023-03-19T14:25:34.887Z"
      },
      {
        "duration": 10,
        "start_time": "2023-03-19T14:25:35.539Z"
      },
      {
        "duration": 4,
        "start_time": "2023-03-19T14:29:39.121Z"
      },
      {
        "duration": 157,
        "start_time": "2023-03-19T14:29:39.581Z"
      },
      {
        "duration": 3,
        "start_time": "2023-03-19T14:30:00.129Z"
      },
      {
        "duration": 122,
        "start_time": "2023-03-19T14:30:00.530Z"
      },
      {
        "duration": 3,
        "start_time": "2023-03-19T14:30:02.782Z"
      },
      {
        "duration": 283,
        "start_time": "2023-03-19T14:30:03.017Z"
      },
      {
        "duration": 3,
        "start_time": "2023-03-19T14:30:13.117Z"
      },
      {
        "duration": 313,
        "start_time": "2023-03-19T14:30:13.317Z"
      },
      {
        "duration": 12,
        "start_time": "2023-03-19T14:30:14.114Z"
      },
      {
        "duration": 4,
        "start_time": "2023-03-19T14:30:51.113Z"
      },
      {
        "duration": 339,
        "start_time": "2023-03-19T14:30:51.432Z"
      },
      {
        "duration": 11,
        "start_time": "2023-03-19T14:30:51.918Z"
      },
      {
        "duration": 3,
        "start_time": "2023-03-19T14:30:57.717Z"
      },
      {
        "duration": 350,
        "start_time": "2023-03-19T14:30:58.077Z"
      },
      {
        "duration": 13,
        "start_time": "2023-03-19T14:30:58.429Z"
      },
      {
        "duration": 6,
        "start_time": "2023-03-19T14:31:05.288Z"
      },
      {
        "duration": 330,
        "start_time": "2023-03-19T14:31:05.585Z"
      },
      {
        "duration": 10,
        "start_time": "2023-03-19T14:31:05.918Z"
      },
      {
        "duration": 4,
        "start_time": "2023-03-19T14:31:46.608Z"
      },
      {
        "duration": 358,
        "start_time": "2023-03-19T14:31:46.879Z"
      },
      {
        "duration": 9,
        "start_time": "2023-03-19T14:31:47.239Z"
      },
      {
        "duration": 3,
        "start_time": "2023-03-19T14:32:03.552Z"
      },
      {
        "duration": 319,
        "start_time": "2023-03-19T14:32:03.816Z"
      },
      {
        "duration": 9,
        "start_time": "2023-03-19T14:32:04.137Z"
      },
      {
        "duration": 3,
        "start_time": "2023-03-19T14:32:40.612Z"
      },
      {
        "duration": 129,
        "start_time": "2023-03-19T14:32:41.012Z"
      },
      {
        "duration": 10,
        "start_time": "2023-03-19T14:32:41.238Z"
      },
      {
        "duration": 3,
        "start_time": "2023-03-19T14:32:49.685Z"
      },
      {
        "duration": 119,
        "start_time": "2023-03-19T14:32:49.993Z"
      },
      {
        "duration": 3,
        "start_time": "2023-03-19T14:32:53.520Z"
      },
      {
        "duration": 330,
        "start_time": "2023-03-19T14:32:53.801Z"
      },
      {
        "duration": 11,
        "start_time": "2023-03-19T14:32:54.312Z"
      },
      {
        "duration": 3,
        "start_time": "2023-03-19T14:33:17.084Z"
      },
      {
        "duration": 4,
        "start_time": "2023-03-19T14:33:18.096Z"
      },
      {
        "duration": 134,
        "start_time": "2023-03-19T14:33:18.385Z"
      },
      {
        "duration": 10,
        "start_time": "2023-03-19T14:33:18.621Z"
      },
      {
        "duration": 6,
        "start_time": "2023-03-19T14:33:22.897Z"
      },
      {
        "duration": 305,
        "start_time": "2023-03-19T14:33:23.231Z"
      },
      {
        "duration": 9,
        "start_time": "2023-03-19T14:33:23.728Z"
      },
      {
        "duration": 6,
        "start_time": "2023-03-19T14:33:31.286Z"
      },
      {
        "duration": 149,
        "start_time": "2023-03-19T14:33:31.483Z"
      },
      {
        "duration": 10,
        "start_time": "2023-03-19T14:33:31.767Z"
      },
      {
        "duration": 5,
        "start_time": "2023-03-19T14:33:43.016Z"
      },
      {
        "duration": 321,
        "start_time": "2023-03-19T14:33:43.351Z"
      },
      {
        "duration": 12,
        "start_time": "2023-03-19T14:33:43.750Z"
      },
      {
        "duration": 503,
        "start_time": "2023-03-19T15:04:36.043Z"
      },
      {
        "duration": 7,
        "start_time": "2023-03-19T15:05:01.092Z"
      },
      {
        "duration": 138,
        "start_time": "2023-03-19T15:05:01.329Z"
      },
      {
        "duration": 10,
        "start_time": "2023-03-19T15:05:01.561Z"
      },
      {
        "duration": 13,
        "start_time": "2023-03-19T15:05:11.419Z"
      },
      {
        "duration": 114,
        "start_time": "2023-03-19T15:05:11.875Z"
      },
      {
        "duration": 10,
        "start_time": "2023-03-19T15:05:12.345Z"
      },
      {
        "duration": 3,
        "start_time": "2023-03-19T15:05:26.977Z"
      },
      {
        "duration": 157,
        "start_time": "2023-03-19T15:05:27.275Z"
      },
      {
        "duration": 9,
        "start_time": "2023-03-19T15:05:27.730Z"
      },
      {
        "duration": 3,
        "start_time": "2023-03-19T15:05:34.378Z"
      },
      {
        "duration": 165,
        "start_time": "2023-03-19T15:05:34.577Z"
      },
      {
        "duration": 4,
        "start_time": "2023-03-19T15:05:39.928Z"
      },
      {
        "duration": 297,
        "start_time": "2023-03-19T15:05:40.146Z"
      },
      {
        "duration": 12,
        "start_time": "2023-03-19T15:05:40.445Z"
      },
      {
        "duration": 471,
        "start_time": "2023-03-19T15:05:42.161Z"
      },
      {
        "duration": 2,
        "start_time": "2023-03-19T15:29:39.239Z"
      },
      {
        "duration": 1504,
        "start_time": "2023-03-20T07:42:49.970Z"
      },
      {
        "duration": 5,
        "start_time": "2023-03-20T07:42:51.475Z"
      },
      {
        "duration": 7421,
        "start_time": "2023-03-20T07:42:51.895Z"
      },
      {
        "duration": 3,
        "start_time": "2023-03-20T07:43:31.416Z"
      },
      {
        "duration": 559,
        "start_time": "2023-03-20T07:43:31.790Z"
      },
      {
        "duration": 17,
        "start_time": "2023-03-20T07:43:33.159Z"
      },
      {
        "duration": 3,
        "start_time": "2023-03-20T07:43:43.757Z"
      },
      {
        "duration": 341,
        "start_time": "2023-03-20T07:43:43.919Z"
      },
      {
        "duration": 15,
        "start_time": "2023-03-20T07:43:44.262Z"
      },
      {
        "duration": 3,
        "start_time": "2023-03-20T07:46:28.118Z"
      },
      {
        "duration": 131,
        "start_time": "2023-03-20T07:46:38.725Z"
      },
      {
        "duration": 9,
        "start_time": "2023-03-20T07:46:38.982Z"
      },
      {
        "duration": 7,
        "start_time": "2023-03-20T07:47:30.541Z"
      },
      {
        "duration": 127,
        "start_time": "2023-03-20T07:47:30.718Z"
      },
      {
        "duration": 12,
        "start_time": "2023-03-20T07:47:30.958Z"
      },
      {
        "duration": 3,
        "start_time": "2023-03-20T07:47:51.869Z"
      },
      {
        "duration": 105,
        "start_time": "2023-03-20T07:47:52.382Z"
      },
      {
        "duration": 9,
        "start_time": "2023-03-20T07:47:52.565Z"
      },
      {
        "duration": 6,
        "start_time": "2023-03-20T07:47:56.573Z"
      },
      {
        "duration": 111,
        "start_time": "2023-03-20T07:47:56.763Z"
      },
      {
        "duration": 15,
        "start_time": "2023-03-20T07:47:56.958Z"
      },
      {
        "duration": 4,
        "start_time": "2023-03-20T07:48:06.573Z"
      },
      {
        "duration": 106,
        "start_time": "2023-03-20T07:48:06.813Z"
      },
      {
        "duration": 10,
        "start_time": "2023-03-20T07:48:07.004Z"
      },
      {
        "duration": 175,
        "start_time": "2023-03-20T07:50:23.846Z"
      },
      {
        "duration": 149,
        "start_time": "2023-03-20T07:50:50.046Z"
      },
      {
        "duration": 17,
        "start_time": "2023-03-20T07:51:26.657Z"
      },
      {
        "duration": 11,
        "start_time": "2023-03-20T07:52:00.754Z"
      },
      {
        "duration": 19,
        "start_time": "2023-03-20T07:52:01.587Z"
      },
      {
        "duration": 4,
        "start_time": "2023-03-20T07:52:08.162Z"
      },
      {
        "duration": 31,
        "start_time": "2023-03-20T07:52:08.351Z"
      },
      {
        "duration": 52,
        "start_time": "2023-03-20T07:52:18.627Z"
      },
      {
        "duration": 32,
        "start_time": "2023-03-20T07:52:25.997Z"
      },
      {
        "duration": 22,
        "start_time": "2023-03-20T07:52:38.825Z"
      },
      {
        "duration": 5,
        "start_time": "2023-03-20T07:52:49.306Z"
      },
      {
        "duration": 291,
        "start_time": "2023-03-20T07:52:49.588Z"
      },
      {
        "duration": 120,
        "start_time": "2023-03-20T07:53:11.810Z"
      },
      {
        "duration": 77,
        "start_time": "2023-03-20T07:53:19.314Z"
      },
      {
        "duration": 193,
        "start_time": "2023-03-20T07:53:26.002Z"
      },
      {
        "duration": 100,
        "start_time": "2023-03-20T07:53:56.351Z"
      },
      {
        "duration": 14,
        "start_time": "2023-03-20T07:54:08.800Z"
      },
      {
        "duration": 113,
        "start_time": "2023-03-20T07:54:25.177Z"
      },
      {
        "duration": 113,
        "start_time": "2023-03-20T07:58:10.695Z"
      },
      {
        "duration": 13,
        "start_time": "2023-03-20T07:59:01.561Z"
      },
      {
        "duration": 142,
        "start_time": "2023-03-20T07:59:24.194Z"
      },
      {
        "duration": 112,
        "start_time": "2023-03-20T08:00:36.057Z"
      },
      {
        "duration": 112,
        "start_time": "2023-03-20T08:00:38.684Z"
      },
      {
        "duration": 163,
        "start_time": "2023-03-20T08:00:41.894Z"
      },
      {
        "duration": 113,
        "start_time": "2023-03-20T08:00:46.165Z"
      },
      {
        "duration": 111,
        "start_time": "2023-03-20T08:00:50.198Z"
      },
      {
        "duration": 151,
        "start_time": "2023-03-20T08:01:09.092Z"
      },
      {
        "duration": 4,
        "start_time": "2023-03-20T08:02:31.494Z"
      },
      {
        "duration": 114,
        "start_time": "2023-03-20T08:02:32.357Z"
      },
      {
        "duration": 9,
        "start_time": "2023-03-20T08:02:33.154Z"
      },
      {
        "duration": 3,
        "start_time": "2023-03-20T08:02:38.972Z"
      },
      {
        "duration": 160,
        "start_time": "2023-03-20T08:02:39.420Z"
      },
      {
        "duration": 12,
        "start_time": "2023-03-20T08:02:39.583Z"
      },
      {
        "duration": 4,
        "start_time": "2023-03-20T08:02:51.324Z"
      },
      {
        "duration": 162,
        "start_time": "2023-03-20T08:02:52.397Z"
      },
      {
        "duration": 10,
        "start_time": "2023-03-20T08:02:52.668Z"
      },
      {
        "duration": 8,
        "start_time": "2023-03-20T08:03:01.172Z"
      },
      {
        "duration": 218,
        "start_time": "2023-03-20T08:03:01.778Z"
      },
      {
        "duration": 24,
        "start_time": "2023-03-20T08:03:02.627Z"
      },
      {
        "duration": 4,
        "start_time": "2023-03-20T08:03:12.875Z"
      },
      {
        "duration": 5,
        "start_time": "2023-03-20T08:04:19.867Z"
      },
      {
        "duration": 287,
        "start_time": "2023-03-20T08:04:20.988Z"
      },
      {
        "duration": 24,
        "start_time": "2023-03-20T08:04:21.333Z"
      },
      {
        "duration": 13,
        "start_time": "2023-03-20T08:04:28.352Z"
      },
      {
        "duration": 195,
        "start_time": "2023-03-20T08:04:28.989Z"
      },
      {
        "duration": 21,
        "start_time": "2023-03-20T08:04:29.352Z"
      },
      {
        "duration": 12,
        "start_time": "2023-03-20T08:06:44.797Z"
      },
      {
        "duration": 11,
        "start_time": "2023-03-20T08:07:24.383Z"
      },
      {
        "duration": 7,
        "start_time": "2023-03-20T08:08:38.223Z"
      },
      {
        "duration": 48,
        "start_time": "2023-03-20T08:09:12.673Z"
      },
      {
        "duration": 8,
        "start_time": "2023-03-20T08:09:15.311Z"
      },
      {
        "duration": 5,
        "start_time": "2023-03-20T08:09:21.256Z"
      },
      {
        "duration": 12,
        "start_time": "2023-03-20T08:09:49.304Z"
      },
      {
        "duration": 6,
        "start_time": "2023-03-20T08:09:58.823Z"
      },
      {
        "duration": 8,
        "start_time": "2023-03-20T08:11:57.551Z"
      },
      {
        "duration": 194,
        "start_time": "2023-03-20T08:12:01.175Z"
      },
      {
        "duration": 3,
        "start_time": "2023-03-20T08:12:04.102Z"
      },
      {
        "duration": 155,
        "start_time": "2023-03-20T08:12:04.230Z"
      },
      {
        "duration": 9,
        "start_time": "2023-03-20T08:12:04.387Z"
      },
      {
        "duration": 135,
        "start_time": "2023-03-20T08:12:04.686Z"
      },
      {
        "duration": 6,
        "start_time": "2023-03-20T08:12:16.062Z"
      },
      {
        "duration": 401,
        "start_time": "2023-03-20T08:12:16.418Z"
      },
      {
        "duration": 24,
        "start_time": "2023-03-20T08:12:16.821Z"
      },
      {
        "duration": 2,
        "start_time": "2023-03-20T08:12:52.273Z"
      },
      {
        "duration": 139,
        "start_time": "2023-03-20T08:12:52.973Z"
      },
      {
        "duration": 3,
        "start_time": "2023-03-20T08:12:56.406Z"
      },
      {
        "duration": 255,
        "start_time": "2023-03-20T08:12:56.718Z"
      },
      {
        "duration": 32,
        "start_time": "2023-03-20T08:12:57.022Z"
      },
      {
        "duration": 3,
        "start_time": "2023-03-20T08:13:04.468Z"
      },
      {
        "duration": 162,
        "start_time": "2023-03-20T08:13:04.764Z"
      },
      {
        "duration": 3,
        "start_time": "2023-03-20T08:13:20.166Z"
      },
      {
        "duration": 111,
        "start_time": "2023-03-20T08:13:20.658Z"
      },
      {
        "duration": 14,
        "start_time": "2023-03-20T08:13:21.326Z"
      },
      {
        "duration": 3,
        "start_time": "2023-03-20T08:13:25.389Z"
      },
      {
        "duration": 143,
        "start_time": "2023-03-20T08:13:25.717Z"
      },
      {
        "duration": 9,
        "start_time": "2023-03-20T08:13:25.990Z"
      },
      {
        "duration": 3,
        "start_time": "2023-03-20T08:53:15.099Z"
      },
      {
        "duration": 173,
        "start_time": "2023-03-20T08:53:15.337Z"
      },
      {
        "duration": 10,
        "start_time": "2023-03-20T08:53:15.528Z"
      },
      {
        "duration": 4,
        "start_time": "2023-03-20T08:53:21.795Z"
      },
      {
        "duration": 131,
        "start_time": "2023-03-20T08:53:22.098Z"
      },
      {
        "duration": 7,
        "start_time": "2023-03-20T08:53:22.666Z"
      },
      {
        "duration": 3,
        "start_time": "2023-03-20T08:53:41.583Z"
      },
      {
        "duration": 215,
        "start_time": "2023-03-20T08:53:41.770Z"
      },
      {
        "duration": 10,
        "start_time": "2023-03-20T08:53:43.074Z"
      },
      {
        "duration": 3,
        "start_time": "2023-03-20T08:53:59.026Z"
      },
      {
        "duration": 214,
        "start_time": "2023-03-20T08:53:59.226Z"
      },
      {
        "duration": 7,
        "start_time": "2023-03-20T08:53:59.497Z"
      },
      {
        "duration": 4,
        "start_time": "2023-03-20T08:58:28.904Z"
      },
      {
        "duration": 120,
        "start_time": "2023-03-20T08:58:29.112Z"
      },
      {
        "duration": 8,
        "start_time": "2023-03-20T08:58:29.305Z"
      },
      {
        "duration": 4,
        "start_time": "2023-03-20T08:58:36.505Z"
      },
      {
        "duration": 42,
        "start_time": "2023-03-20T08:58:36.856Z"
      },
      {
        "duration": 8,
        "start_time": "2023-03-20T08:58:37.256Z"
      },
      {
        "duration": 6,
        "start_time": "2023-03-20T08:58:46.708Z"
      },
      {
        "duration": 162,
        "start_time": "2023-03-20T08:58:48.334Z"
      },
      {
        "duration": 9,
        "start_time": "2023-03-20T08:58:48.664Z"
      },
      {
        "duration": 7,
        "start_time": "2023-03-20T08:59:12.464Z"
      },
      {
        "duration": 135,
        "start_time": "2023-03-20T08:59:12.761Z"
      },
      {
        "duration": 4,
        "start_time": "2023-03-20T08:59:20.103Z"
      },
      {
        "duration": 154,
        "start_time": "2023-03-20T08:59:20.352Z"
      },
      {
        "duration": 10,
        "start_time": "2023-03-20T08:59:31.346Z"
      },
      {
        "duration": 283,
        "start_time": "2023-03-20T08:59:31.727Z"
      },
      {
        "duration": 5,
        "start_time": "2023-03-20T08:59:49.935Z"
      },
      {
        "duration": 116,
        "start_time": "2023-03-20T08:59:51.300Z"
      },
      {
        "duration": 3,
        "start_time": "2023-03-20T08:59:57.701Z"
      },
      {
        "duration": 153,
        "start_time": "2023-03-20T08:59:57.908Z"
      },
      {
        "duration": 8,
        "start_time": "2023-03-20T08:59:58.063Z"
      },
      {
        "duration": 3,
        "start_time": "2023-03-20T09:02:03.566Z"
      },
      {
        "duration": 171,
        "start_time": "2023-03-20T09:02:04.164Z"
      },
      {
        "duration": 3,
        "start_time": "2023-03-20T09:02:10.112Z"
      },
      {
        "duration": 816,
        "start_time": "2023-03-20T09:02:10.308Z"
      },
      {
        "duration": 19,
        "start_time": "2023-03-20T09:02:11.126Z"
      },
      {
        "duration": 3,
        "start_time": "2023-03-20T09:02:15.462Z"
      },
      {
        "duration": 138,
        "start_time": "2023-03-20T09:02:15.863Z"
      },
      {
        "duration": 7,
        "start_time": "2023-03-20T09:02:16.151Z"
      },
      {
        "duration": 4,
        "start_time": "2023-03-20T09:03:30.805Z"
      },
      {
        "duration": 129,
        "start_time": "2023-03-20T09:03:31.038Z"
      },
      {
        "duration": 11,
        "start_time": "2023-03-20T09:03:31.301Z"
      },
      {
        "duration": 3,
        "start_time": "2023-03-20T09:04:05.726Z"
      },
      {
        "duration": 159,
        "start_time": "2023-03-20T09:04:05.950Z"
      },
      {
        "duration": 13,
        "start_time": "2023-03-20T09:04:06.208Z"
      },
      {
        "duration": 7,
        "start_time": "2023-03-20T09:04:42.842Z"
      },
      {
        "duration": 83,
        "start_time": "2023-03-20T09:04:43.366Z"
      },
      {
        "duration": 8,
        "start_time": "2023-03-20T09:04:43.566Z"
      },
      {
        "duration": 2,
        "start_time": "2023-03-20T09:04:51.327Z"
      },
      {
        "duration": 118,
        "start_time": "2023-03-20T09:04:51.630Z"
      },
      {
        "duration": 9,
        "start_time": "2023-03-20T09:04:51.869Z"
      },
      {
        "duration": 3,
        "start_time": "2023-03-20T09:05:16.015Z"
      },
      {
        "duration": 89,
        "start_time": "2023-03-20T09:05:16.430Z"
      },
      {
        "duration": 10,
        "start_time": "2023-03-20T09:05:16.603Z"
      },
      {
        "duration": 3,
        "start_time": "2023-03-20T09:05:51.959Z"
      },
      {
        "duration": 222,
        "start_time": "2023-03-20T09:05:53.110Z"
      },
      {
        "duration": 8,
        "start_time": "2023-03-20T09:05:53.407Z"
      },
      {
        "duration": 3,
        "start_time": "2023-03-20T09:05:58.350Z"
      },
      {
        "duration": 146,
        "start_time": "2023-03-20T09:05:59.814Z"
      },
      {
        "duration": 7,
        "start_time": "2023-03-20T09:06:00.447Z"
      },
      {
        "duration": 3,
        "start_time": "2023-03-20T09:08:35.112Z"
      },
      {
        "duration": 122,
        "start_time": "2023-03-20T09:08:35.917Z"
      },
      {
        "duration": 9,
        "start_time": "2023-03-20T09:08:36.229Z"
      },
      {
        "duration": 2,
        "start_time": "2023-03-20T09:08:51.910Z"
      },
      {
        "duration": 116,
        "start_time": "2023-03-20T09:08:52.248Z"
      },
      {
        "duration": 5,
        "start_time": "2023-03-20T09:09:00.237Z"
      },
      {
        "duration": 168,
        "start_time": "2023-03-20T09:09:00.601Z"
      },
      {
        "duration": 10,
        "start_time": "2023-03-20T09:09:01.249Z"
      },
      {
        "duration": 3,
        "start_time": "2023-03-20T09:09:15.973Z"
      },
      {
        "duration": 184,
        "start_time": "2023-03-20T09:09:16.364Z"
      },
      {
        "duration": 9,
        "start_time": "2023-03-20T09:09:16.756Z"
      },
      {
        "duration": 3,
        "start_time": "2023-03-20T09:09:42.364Z"
      },
      {
        "duration": 96,
        "start_time": "2023-03-20T09:09:43.907Z"
      },
      {
        "duration": 7,
        "start_time": "2023-03-20T09:09:44.460Z"
      },
      {
        "duration": 3,
        "start_time": "2023-03-20T09:10:04.202Z"
      },
      {
        "duration": 161,
        "start_time": "2023-03-20T09:10:04.447Z"
      },
      {
        "duration": 8,
        "start_time": "2023-03-20T09:10:04.803Z"
      },
      {
        "duration": 3,
        "start_time": "2023-03-20T09:10:42.206Z"
      },
      {
        "duration": 156,
        "start_time": "2023-03-20T09:10:42.524Z"
      },
      {
        "duration": 14,
        "start_time": "2023-03-20T09:10:42.828Z"
      },
      {
        "duration": 3,
        "start_time": "2023-03-20T09:10:53.102Z"
      },
      {
        "duration": 163,
        "start_time": "2023-03-20T09:10:53.515Z"
      },
      {
        "duration": 8,
        "start_time": "2023-03-20T09:10:54.172Z"
      },
      {
        "duration": 4,
        "start_time": "2023-03-20T09:11:38.637Z"
      },
      {
        "duration": 454,
        "start_time": "2023-03-20T09:11:38.956Z"
      },
      {
        "duration": 0,
        "start_time": "2023-03-20T09:11:39.412Z"
      },
      {
        "duration": 3,
        "start_time": "2023-03-20T09:11:47.756Z"
      },
      {
        "duration": 174,
        "start_time": "2023-03-20T09:11:48.502Z"
      },
      {
        "duration": 3,
        "start_time": "2023-03-20T09:12:02.620Z"
      },
      {
        "duration": 217,
        "start_time": "2023-03-20T09:12:03.002Z"
      },
      {
        "duration": 4,
        "start_time": "2023-03-20T09:12:15.051Z"
      },
      {
        "duration": 192,
        "start_time": "2023-03-20T09:12:15.268Z"
      },
      {
        "duration": 13,
        "start_time": "2023-03-20T09:12:16.147Z"
      },
      {
        "duration": 3,
        "start_time": "2023-03-20T09:12:37.267Z"
      },
      {
        "duration": 133,
        "start_time": "2023-03-20T09:12:37.563Z"
      },
      {
        "duration": 10,
        "start_time": "2023-03-20T09:12:37.905Z"
      },
      {
        "duration": 3,
        "start_time": "2023-03-20T09:12:55.052Z"
      },
      {
        "duration": 168,
        "start_time": "2023-03-20T09:12:55.412Z"
      },
      {
        "duration": 9,
        "start_time": "2023-03-20T09:12:56.047Z"
      },
      {
        "duration": 9,
        "start_time": "2023-03-20T09:13:12.636Z"
      },
      {
        "duration": 163,
        "start_time": "2023-03-20T09:13:12.963Z"
      },
      {
        "duration": 8,
        "start_time": "2023-03-20T09:13:13.315Z"
      },
      {
        "duration": 1378,
        "start_time": "2023-03-20T09:25:19.530Z"
      },
      {
        "duration": 5,
        "start_time": "2023-03-20T09:25:20.911Z"
      },
      {
        "duration": 6594,
        "start_time": "2023-03-20T09:25:20.918Z"
      },
      {
        "duration": 254,
        "start_time": "2023-03-20T09:25:27.514Z"
      },
      {
        "duration": 26,
        "start_time": "2023-03-20T09:25:27.770Z"
      },
      {
        "duration": 4,
        "start_time": "2023-03-20T09:25:27.798Z"
      },
      {
        "duration": 123,
        "start_time": "2023-03-20T09:25:27.804Z"
      },
      {
        "duration": 7,
        "start_time": "2023-03-20T09:25:27.929Z"
      },
      {
        "duration": 172,
        "start_time": "2023-03-20T09:25:27.938Z"
      },
      {
        "duration": 3,
        "start_time": "2023-03-20T09:25:28.113Z"
      },
      {
        "duration": 193,
        "start_time": "2023-03-20T09:25:28.131Z"
      },
      {
        "duration": 12,
        "start_time": "2023-03-20T09:25:28.326Z"
      },
      {
        "duration": 21,
        "start_time": "2023-03-20T09:25:28.340Z"
      },
      {
        "duration": 15,
        "start_time": "2023-03-20T09:25:28.363Z"
      },
      {
        "duration": 13,
        "start_time": "2023-03-20T09:25:28.380Z"
      },
      {
        "duration": 182,
        "start_time": "2023-03-20T09:25:28.395Z"
      },
      {
        "duration": 9,
        "start_time": "2023-03-20T09:25:28.580Z"
      },
      {
        "duration": 161,
        "start_time": "2023-03-20T09:25:28.591Z"
      },
      {
        "duration": 3,
        "start_time": "2023-03-20T09:25:28.755Z"
      },
      {
        "duration": 1583,
        "start_time": "2023-03-20T09:25:28.760Z"
      },
      {
        "duration": 18,
        "start_time": "2023-03-20T09:25:30.345Z"
      },
      {
        "duration": 40,
        "start_time": "2023-03-20T09:25:30.365Z"
      },
      {
        "duration": 181,
        "start_time": "2023-03-20T09:25:30.407Z"
      },
      {
        "duration": 8,
        "start_time": "2023-03-20T09:25:30.591Z"
      },
      {
        "duration": 53,
        "start_time": "2023-03-20T09:25:30.602Z"
      },
      {
        "duration": 90,
        "start_time": "2023-03-20T09:25:30.657Z"
      },
      {
        "duration": 9,
        "start_time": "2023-03-20T09:25:30.748Z"
      },
      {
        "duration": 22,
        "start_time": "2023-03-20T09:25:30.761Z"
      },
      {
        "duration": 23,
        "start_time": "2023-03-20T09:25:30.785Z"
      },
      {
        "duration": 1747,
        "start_time": "2023-03-20T09:25:30.810Z"
      },
      {
        "duration": 16,
        "start_time": "2023-03-20T09:25:32.559Z"
      },
      {
        "duration": 14,
        "start_time": "2023-03-20T09:25:32.577Z"
      },
      {
        "duration": 318,
        "start_time": "2023-03-20T09:25:32.592Z"
      },
      {
        "duration": 15,
        "start_time": "2023-03-20T09:25:32.912Z"
      },
      {
        "duration": 529,
        "start_time": "2023-03-20T09:25:32.929Z"
      },
      {
        "duration": 4,
        "start_time": "2023-03-20T09:25:33.461Z"
      },
      {
        "duration": 126,
        "start_time": "2023-03-20T09:25:33.467Z"
      },
      {
        "duration": 11,
        "start_time": "2023-03-20T09:25:33.596Z"
      },
      {
        "duration": 170,
        "start_time": "2023-03-20T09:25:33.609Z"
      },
      {
        "duration": 4,
        "start_time": "2023-03-20T09:25:33.781Z"
      },
      {
        "duration": 203,
        "start_time": "2023-03-20T09:25:33.787Z"
      },
      {
        "duration": 8,
        "start_time": "2023-03-20T09:25:33.992Z"
      },
      {
        "duration": 2,
        "start_time": "2023-03-20T09:26:20.934Z"
      },
      {
        "duration": 3,
        "start_time": "2023-03-20T10:46:36.698Z"
      },
      {
        "duration": 1096,
        "start_time": "2023-03-20T10:46:36.703Z"
      },
      {
        "duration": 3,
        "start_time": "2023-03-20T10:46:37.800Z"
      },
      {
        "duration": 8355,
        "start_time": "2023-03-20T10:46:37.805Z"
      },
      {
        "duration": 46,
        "start_time": "2023-03-20T10:46:46.162Z"
      },
      {
        "duration": 15,
        "start_time": "2023-03-20T10:46:46.209Z"
      },
      {
        "duration": 3,
        "start_time": "2023-03-20T10:46:46.225Z"
      },
      {
        "duration": 95,
        "start_time": "2023-03-20T10:46:46.230Z"
      },
      {
        "duration": 6,
        "start_time": "2023-03-20T10:46:46.327Z"
      },
      {
        "duration": 122,
        "start_time": "2023-03-20T10:46:46.335Z"
      },
      {
        "duration": 2,
        "start_time": "2023-03-20T10:46:46.459Z"
      },
      {
        "duration": 162,
        "start_time": "2023-03-20T10:46:46.463Z"
      },
      {
        "duration": 13,
        "start_time": "2023-03-20T10:46:46.627Z"
      },
      {
        "duration": 18,
        "start_time": "2023-03-20T10:46:46.643Z"
      },
      {
        "duration": 18,
        "start_time": "2023-03-20T10:46:46.663Z"
      },
      {
        "duration": 26,
        "start_time": "2023-03-20T10:46:46.682Z"
      },
      {
        "duration": 147,
        "start_time": "2023-03-20T10:46:46.709Z"
      },
      {
        "duration": 6,
        "start_time": "2023-03-20T10:46:46.857Z"
      },
      {
        "duration": 120,
        "start_time": "2023-03-20T10:46:46.864Z"
      },
      {
        "duration": 3,
        "start_time": "2023-03-20T10:46:46.985Z"
      },
      {
        "duration": 1191,
        "start_time": "2023-03-20T10:46:46.989Z"
      },
      {
        "duration": 9,
        "start_time": "2023-03-20T10:46:48.182Z"
      },
      {
        "duration": 5,
        "start_time": "2023-03-20T10:46:48.192Z"
      },
      {
        "duration": 80,
        "start_time": "2023-03-20T10:46:48.199Z"
      },
      {
        "duration": 7,
        "start_time": "2023-03-20T10:46:48.280Z"
      },
      {
        "duration": 5,
        "start_time": "2023-03-20T10:46:48.288Z"
      },
      {
        "duration": 42,
        "start_time": "2023-03-20T10:46:48.295Z"
      },
      {
        "duration": 5,
        "start_time": "2023-03-20T10:46:48.339Z"
      },
      {
        "duration": 6,
        "start_time": "2023-03-20T10:46:48.345Z"
      },
      {
        "duration": 8,
        "start_time": "2023-03-20T10:46:48.352Z"
      },
      {
        "duration": 1023,
        "start_time": "2023-03-20T10:46:48.362Z"
      },
      {
        "duration": 9,
        "start_time": "2023-03-20T10:46:49.387Z"
      },
      {
        "duration": 9,
        "start_time": "2023-03-20T10:46:49.397Z"
      },
      {
        "duration": 271,
        "start_time": "2023-03-20T10:46:49.407Z"
      },
      {
        "duration": 8,
        "start_time": "2023-03-20T10:46:49.680Z"
      },
      {
        "duration": 397,
        "start_time": "2023-03-20T10:46:49.690Z"
      },
      {
        "duration": 3,
        "start_time": "2023-03-20T10:46:50.088Z"
      },
      {
        "duration": 74,
        "start_time": "2023-03-20T10:46:50.092Z"
      },
      {
        "duration": 6,
        "start_time": "2023-03-20T10:46:50.168Z"
      },
      {
        "duration": 88,
        "start_time": "2023-03-20T10:46:50.176Z"
      },
      {
        "duration": 3,
        "start_time": "2023-03-20T10:46:50.267Z"
      },
      {
        "duration": 147,
        "start_time": "2023-03-20T10:46:50.271Z"
      },
      {
        "duration": 7,
        "start_time": "2023-03-20T10:46:50.419Z"
      },
      {
        "duration": 3,
        "start_time": "2023-03-20T10:51:07.173Z"
      },
      {
        "duration": 40,
        "start_time": "2023-03-20T10:51:09.488Z"
      },
      {
        "duration": 7,
        "start_time": "2023-03-20T10:51:10.137Z"
      },
      {
        "duration": 3,
        "start_time": "2023-03-20T10:53:22.023Z"
      },
      {
        "duration": 130,
        "start_time": "2023-03-20T10:53:22.743Z"
      },
      {
        "duration": 6,
        "start_time": "2023-03-20T10:53:23.420Z"
      },
      {
        "duration": 3,
        "start_time": "2023-03-20T10:53:24.534Z"
      },
      {
        "duration": 127,
        "start_time": "2023-03-20T10:53:25.359Z"
      },
      {
        "duration": 7,
        "start_time": "2023-03-20T10:53:25.998Z"
      },
      {
        "duration": 2,
        "start_time": "2023-03-20T10:53:26.654Z"
      },
      {
        "duration": 131,
        "start_time": "2023-03-20T10:53:27.197Z"
      },
      {
        "duration": 6,
        "start_time": "2023-03-20T10:53:27.719Z"
      },
      {
        "duration": 3,
        "start_time": "2023-03-20T10:53:36.917Z"
      },
      {
        "duration": 130,
        "start_time": "2023-03-20T10:53:37.597Z"
      },
      {
        "duration": 6,
        "start_time": "2023-03-20T10:53:38.139Z"
      },
      {
        "duration": 2,
        "start_time": "2023-03-20T10:53:38.638Z"
      },
      {
        "duration": 127,
        "start_time": "2023-03-20T10:53:39.125Z"
      },
      {
        "duration": 7,
        "start_time": "2023-03-20T10:53:39.798Z"
      },
      {
        "duration": 3,
        "start_time": "2023-03-20T10:54:37.250Z"
      },
      {
        "duration": 1130,
        "start_time": "2023-03-20T10:54:37.268Z"
      },
      {
        "duration": 3,
        "start_time": "2023-03-20T10:54:38.400Z"
      },
      {
        "duration": 7836,
        "start_time": "2023-03-20T10:54:38.405Z"
      },
      {
        "duration": 31,
        "start_time": "2023-03-20T10:54:46.243Z"
      },
      {
        "duration": 13,
        "start_time": "2023-03-20T10:54:46.275Z"
      },
      {
        "duration": 30,
        "start_time": "2023-03-20T10:54:46.290Z"
      },
      {
        "duration": 90,
        "start_time": "2023-03-20T10:54:46.322Z"
      },
      {
        "duration": 6,
        "start_time": "2023-03-20T10:54:46.414Z"
      },
      {
        "duration": 110,
        "start_time": "2023-03-20T10:54:46.421Z"
      },
      {
        "duration": 3,
        "start_time": "2023-03-20T10:54:46.533Z"
      },
      {
        "duration": 159,
        "start_time": "2023-03-20T10:54:46.538Z"
      },
      {
        "duration": 11,
        "start_time": "2023-03-20T10:54:46.698Z"
      },
      {
        "duration": 18,
        "start_time": "2023-03-20T10:54:46.711Z"
      },
      {
        "duration": 5,
        "start_time": "2023-03-20T10:54:46.730Z"
      },
      {
        "duration": 4,
        "start_time": "2023-03-20T10:54:46.736Z"
      },
      {
        "duration": 137,
        "start_time": "2023-03-20T10:54:46.741Z"
      },
      {
        "duration": 6,
        "start_time": "2023-03-20T10:54:46.879Z"
      },
      {
        "duration": 127,
        "start_time": "2023-03-20T10:54:46.886Z"
      },
      {
        "duration": 3,
        "start_time": "2023-03-20T10:54:47.015Z"
      },
      {
        "duration": 1113,
        "start_time": "2023-03-20T10:54:47.019Z"
      },
      {
        "duration": 10,
        "start_time": "2023-03-20T10:54:48.134Z"
      },
      {
        "duration": 6,
        "start_time": "2023-03-20T10:54:48.145Z"
      },
      {
        "duration": 83,
        "start_time": "2023-03-20T10:54:48.152Z"
      },
      {
        "duration": 8,
        "start_time": "2023-03-20T10:54:48.237Z"
      },
      {
        "duration": 5,
        "start_time": "2023-03-20T10:54:48.247Z"
      },
      {
        "duration": 50,
        "start_time": "2023-03-20T10:54:48.254Z"
      },
      {
        "duration": 6,
        "start_time": "2023-03-20T10:54:48.305Z"
      },
      {
        "duration": 4,
        "start_time": "2023-03-20T10:54:48.314Z"
      },
      {
        "duration": 7,
        "start_time": "2023-03-20T10:54:48.320Z"
      },
      {
        "duration": 994,
        "start_time": "2023-03-20T10:54:48.328Z"
      },
      {
        "duration": 9,
        "start_time": "2023-03-20T10:54:49.324Z"
      },
      {
        "duration": 6,
        "start_time": "2023-03-20T10:54:49.335Z"
      },
      {
        "duration": 271,
        "start_time": "2023-03-20T10:54:49.342Z"
      },
      {
        "duration": 8,
        "start_time": "2023-03-20T10:54:49.615Z"
      },
      {
        "duration": 338,
        "start_time": "2023-03-20T10:54:49.625Z"
      },
      {
        "duration": 2,
        "start_time": "2023-03-20T10:54:49.965Z"
      },
      {
        "duration": 81,
        "start_time": "2023-03-20T10:54:49.968Z"
      },
      {
        "duration": 7,
        "start_time": "2023-03-20T10:54:50.050Z"
      },
      {
        "duration": 86,
        "start_time": "2023-03-20T10:54:50.058Z"
      },
      {
        "duration": 2,
        "start_time": "2023-03-20T10:54:50.146Z"
      },
      {
        "duration": 183,
        "start_time": "2023-03-20T10:54:50.150Z"
      },
      {
        "duration": 6,
        "start_time": "2023-03-20T10:54:50.334Z"
      },
      {
        "duration": 2,
        "start_time": "2023-03-20T10:56:23.894Z"
      },
      {
        "duration": 40,
        "start_time": "2023-03-20T10:56:24.773Z"
      },
      {
        "duration": 5,
        "start_time": "2023-03-20T10:56:25.526Z"
      },
      {
        "duration": 2,
        "start_time": "2023-03-20T10:58:14.657Z"
      },
      {
        "duration": 190,
        "start_time": "2023-03-20T10:58:16.803Z"
      },
      {
        "duration": 86,
        "start_time": "2023-03-20T10:58:17.334Z"
      },
      {
        "duration": 3,
        "start_time": "2023-03-20T11:00:05.403Z"
      },
      {
        "duration": 125,
        "start_time": "2023-03-20T11:00:06.653Z"
      },
      {
        "duration": 2,
        "start_time": "2023-03-20T11:00:23.391Z"
      },
      {
        "duration": 59,
        "start_time": "2023-03-20T11:00:24.783Z"
      },
      {
        "duration": 11,
        "start_time": "2023-03-20T11:00:26.143Z"
      },
      {
        "duration": 3,
        "start_time": "2023-03-20T11:03:09.560Z"
      },
      {
        "duration": 133,
        "start_time": "2023-03-20T11:03:10.864Z"
      },
      {
        "duration": 3,
        "start_time": "2023-03-20T11:03:36.615Z"
      },
      {
        "duration": 42,
        "start_time": "2023-03-20T11:03:37.546Z"
      },
      {
        "duration": 6,
        "start_time": "2023-03-20T11:03:38.528Z"
      },
      {
        "duration": 3,
        "start_time": "2023-03-20T11:05:17.478Z"
      },
      {
        "duration": 1094,
        "start_time": "2023-03-20T11:05:17.483Z"
      },
      {
        "duration": 3,
        "start_time": "2023-03-20T11:05:18.578Z"
      },
      {
        "duration": 7944,
        "start_time": "2023-03-20T11:05:18.583Z"
      },
      {
        "duration": 42,
        "start_time": "2023-03-20T11:05:26.529Z"
      },
      {
        "duration": 14,
        "start_time": "2023-03-20T11:05:26.572Z"
      },
      {
        "duration": 3,
        "start_time": "2023-03-20T11:05:26.587Z"
      },
      {
        "duration": 82,
        "start_time": "2023-03-20T11:05:26.591Z"
      },
      {
        "duration": 6,
        "start_time": "2023-03-20T11:05:26.674Z"
      },
      {
        "duration": 129,
        "start_time": "2023-03-20T11:05:26.681Z"
      },
      {
        "duration": 2,
        "start_time": "2023-03-20T11:05:26.812Z"
      },
      {
        "duration": 171,
        "start_time": "2023-03-20T11:05:26.816Z"
      },
      {
        "duration": 8,
        "start_time": "2023-03-20T11:05:26.990Z"
      },
      {
        "duration": 9,
        "start_time": "2023-03-20T11:05:26.999Z"
      },
      {
        "duration": 7,
        "start_time": "2023-03-20T11:05:27.010Z"
      },
      {
        "duration": 6,
        "start_time": "2023-03-20T11:05:27.018Z"
      },
      {
        "duration": 141,
        "start_time": "2023-03-20T11:05:27.025Z"
      },
      {
        "duration": 6,
        "start_time": "2023-03-20T11:05:27.167Z"
      },
      {
        "duration": 106,
        "start_time": "2023-03-20T11:05:27.174Z"
      },
      {
        "duration": 2,
        "start_time": "2023-03-20T11:05:27.282Z"
      },
      {
        "duration": 1110,
        "start_time": "2023-03-20T11:05:27.286Z"
      },
      {
        "duration": 10,
        "start_time": "2023-03-20T11:05:28.398Z"
      },
      {
        "duration": 8,
        "start_time": "2023-03-20T11:05:28.410Z"
      },
      {
        "duration": 79,
        "start_time": "2023-03-20T11:05:28.424Z"
      },
      {
        "duration": 6,
        "start_time": "2023-03-20T11:05:28.505Z"
      },
      {
        "duration": 13,
        "start_time": "2023-03-20T11:05:28.512Z"
      },
      {
        "duration": 44,
        "start_time": "2023-03-20T11:05:28.527Z"
      },
      {
        "duration": 5,
        "start_time": "2023-03-20T11:05:28.573Z"
      },
      {
        "duration": 10,
        "start_time": "2023-03-20T11:05:28.580Z"
      },
      {
        "duration": 27,
        "start_time": "2023-03-20T11:05:28.591Z"
      },
      {
        "duration": 1009,
        "start_time": "2023-03-20T11:05:28.619Z"
      },
      {
        "duration": 9,
        "start_time": "2023-03-20T11:05:29.630Z"
      },
      {
        "duration": 6,
        "start_time": "2023-03-20T11:05:29.641Z"
      },
      {
        "duration": 270,
        "start_time": "2023-03-20T11:05:29.648Z"
      },
      {
        "duration": 9,
        "start_time": "2023-03-20T11:05:29.920Z"
      },
      {
        "duration": 360,
        "start_time": "2023-03-20T11:05:29.930Z"
      },
      {
        "duration": 2,
        "start_time": "2023-03-20T11:05:30.294Z"
      },
      {
        "duration": 150,
        "start_time": "2023-03-20T11:05:30.297Z"
      },
      {
        "duration": 6,
        "start_time": "2023-03-20T11:05:30.449Z"
      },
      {
        "duration": 134,
        "start_time": "2023-03-20T11:05:30.457Z"
      },
      {
        "duration": 3,
        "start_time": "2023-03-20T11:05:30.593Z"
      },
      {
        "duration": 178,
        "start_time": "2023-03-20T11:05:30.598Z"
      },
      {
        "duration": 8,
        "start_time": "2023-03-20T11:05:30.778Z"
      },
      {
        "duration": 11,
        "start_time": "2023-03-20T12:26:53.327Z"
      },
      {
        "duration": 63,
        "start_time": "2023-03-20T12:26:54.531Z"
      },
      {
        "duration": 10,
        "start_time": "2023-03-20T12:26:54.737Z"
      },
      {
        "duration": 1474,
        "start_time": "2023-03-20T12:26:58.781Z"
      },
      {
        "duration": 72,
        "start_time": "2023-03-20T12:27:34.281Z"
      },
      {
        "duration": 3,
        "start_time": "2023-03-20T12:27:36.913Z"
      },
      {
        "duration": 9,
        "start_time": "2023-03-20T12:27:37.240Z"
      },
      {
        "duration": 12,
        "start_time": "2023-03-20T12:27:37.523Z"
      },
      {
        "duration": 2,
        "start_time": "2023-03-20T12:27:39.669Z"
      },
      {
        "duration": 3,
        "start_time": "2023-03-20T12:27:39.971Z"
      },
      {
        "duration": 5,
        "start_time": "2023-03-20T12:27:40.293Z"
      },
      {
        "duration": 8534,
        "start_time": "2023-03-20T12:27:40.840Z"
      },
      {
        "duration": 2,
        "start_time": "2023-03-20T12:27:49.376Z"
      },
      {
        "duration": 162,
        "start_time": "2023-03-20T12:27:49.380Z"
      },
      {
        "duration": 12,
        "start_time": "2023-03-20T12:27:49.544Z"
      },
      {
        "duration": 148,
        "start_time": "2023-03-20T12:27:49.557Z"
      },
      {
        "duration": 155,
        "start_time": "2023-03-20T12:28:14.615Z"
      },
      {
        "duration": 17,
        "start_time": "2023-03-20T12:29:40.095Z"
      },
      {
        "duration": 3,
        "start_time": "2023-03-20T12:29:42.000Z"
      },
      {
        "duration": 137,
        "start_time": "2023-03-20T12:29:42.179Z"
      },
      {
        "duration": 8,
        "start_time": "2023-03-20T12:29:42.436Z"
      },
      {
        "duration": 156,
        "start_time": "2023-03-20T12:29:44.047Z"
      },
      {
        "duration": 152,
        "start_time": "2023-03-20T12:30:06.125Z"
      },
      {
        "duration": 3,
        "start_time": "2023-03-20T12:30:17.357Z"
      },
      {
        "duration": 43,
        "start_time": "2023-03-20T12:30:17.697Z"
      },
      {
        "duration": 7,
        "start_time": "2023-03-20T12:30:17.979Z"
      },
      {
        "duration": 4,
        "start_time": "2023-03-20T12:31:20.591Z"
      },
      {
        "duration": 44,
        "start_time": "2023-03-20T12:31:20.894Z"
      },
      {
        "duration": 7,
        "start_time": "2023-03-20T12:31:21.060Z"
      },
      {
        "duration": 3,
        "start_time": "2023-03-20T12:35:06.374Z"
      },
      {
        "duration": 137,
        "start_time": "2023-03-20T12:35:06.865Z"
      },
      {
        "duration": 8,
        "start_time": "2023-03-20T12:35:07.259Z"
      },
      {
        "duration": 3,
        "start_time": "2023-03-20T12:35:24.875Z"
      },
      {
        "duration": 150,
        "start_time": "2023-03-20T12:35:25.139Z"
      },
      {
        "duration": 7,
        "start_time": "2023-03-20T12:35:25.439Z"
      },
      {
        "duration": 5,
        "start_time": "2023-03-20T12:35:33.023Z"
      },
      {
        "duration": 122,
        "start_time": "2023-03-20T12:35:34.816Z"
      },
      {
        "duration": 6,
        "start_time": "2023-03-20T12:35:37.831Z"
      },
      {
        "duration": 38,
        "start_time": "2023-03-20T12:35:38.039Z"
      },
      {
        "duration": 6,
        "start_time": "2023-03-20T12:35:38.281Z"
      },
      {
        "duration": 3,
        "start_time": "2023-03-20T12:35:43.378Z"
      },
      {
        "duration": 38,
        "start_time": "2023-03-20T12:35:43.811Z"
      },
      {
        "duration": 6,
        "start_time": "2023-03-20T12:35:44.149Z"
      },
      {
        "duration": 130,
        "start_time": "2023-03-20T12:38:45.140Z"
      },
      {
        "duration": 6,
        "start_time": "2023-03-20T12:38:47.024Z"
      },
      {
        "duration": 71,
        "start_time": "2023-03-20T12:38:47.169Z"
      },
      {
        "duration": 9,
        "start_time": "2023-03-20T12:38:47.336Z"
      },
      {
        "duration": 202,
        "start_time": "2023-03-20T12:38:48.240Z"
      },
      {
        "duration": 3,
        "start_time": "2023-03-20T12:38:54.690Z"
      },
      {
        "duration": 1374,
        "start_time": "2023-03-20T12:38:54.696Z"
      },
      {
        "duration": 5,
        "start_time": "2023-03-20T12:38:56.072Z"
      },
      {
        "duration": 9083,
        "start_time": "2023-03-20T12:38:56.079Z"
      },
      {
        "duration": 80,
        "start_time": "2023-03-20T12:39:05.165Z"
      },
      {
        "duration": 17,
        "start_time": "2023-03-20T12:39:05.247Z"
      },
      {
        "duration": 4,
        "start_time": "2023-03-20T12:39:05.266Z"
      },
      {
        "duration": 92,
        "start_time": "2023-03-20T12:39:05.272Z"
      },
      {
        "duration": 7,
        "start_time": "2023-03-20T12:39:05.366Z"
      },
      {
        "duration": 175,
        "start_time": "2023-03-20T12:39:05.375Z"
      },
      {
        "duration": 4,
        "start_time": "2023-03-20T12:39:05.551Z"
      },
      {
        "duration": 172,
        "start_time": "2023-03-20T12:39:05.557Z"
      },
      {
        "duration": 10,
        "start_time": "2023-03-20T12:39:05.731Z"
      },
      {
        "duration": 9,
        "start_time": "2023-03-20T12:39:05.745Z"
      },
      {
        "duration": 7,
        "start_time": "2023-03-20T12:39:05.755Z"
      },
      {
        "duration": 13,
        "start_time": "2023-03-20T12:39:05.763Z"
      },
      {
        "duration": 137,
        "start_time": "2023-03-20T12:39:05.778Z"
      },
      {
        "duration": 10,
        "start_time": "2023-03-20T12:39:05.917Z"
      },
      {
        "duration": 174,
        "start_time": "2023-03-20T12:39:05.930Z"
      },
      {
        "duration": 4,
        "start_time": "2023-03-20T12:39:06.105Z"
      },
      {
        "duration": 1320,
        "start_time": "2023-03-20T12:39:06.110Z"
      },
      {
        "duration": 18,
        "start_time": "2023-03-20T12:39:07.437Z"
      },
      {
        "duration": 10,
        "start_time": "2023-03-20T12:39:07.457Z"
      },
      {
        "duration": 88,
        "start_time": "2023-03-20T12:39:07.469Z"
      },
      {
        "duration": 9,
        "start_time": "2023-03-20T12:39:07.560Z"
      },
      {
        "duration": 3,
        "start_time": "2023-03-20T12:39:07.571Z"
      },
      {
        "duration": 40,
        "start_time": "2023-03-20T12:39:07.576Z"
      },
      {
        "duration": 14,
        "start_time": "2023-03-20T12:39:07.618Z"
      },
      {
        "duration": 2,
        "start_time": "2023-03-20T12:39:07.641Z"
      },
      {
        "duration": 4,
        "start_time": "2023-03-20T12:39:07.645Z"
      },
      {
        "duration": 1188,
        "start_time": "2023-03-20T12:39:07.651Z"
      },
      {
        "duration": 11,
        "start_time": "2023-03-20T12:39:08.841Z"
      },
      {
        "duration": 4,
        "start_time": "2023-03-20T12:39:08.853Z"
      },
      {
        "duration": 282,
        "start_time": "2023-03-20T12:39:08.859Z"
      },
      {
        "duration": 11,
        "start_time": "2023-03-20T12:39:09.143Z"
      },
      {
        "duration": 426,
        "start_time": "2023-03-20T12:39:09.156Z"
      },
      {
        "duration": 2,
        "start_time": "2023-03-20T12:39:09.584Z"
      },
      {
        "duration": 81,
        "start_time": "2023-03-20T12:39:09.588Z"
      },
      {
        "duration": 9,
        "start_time": "2023-03-20T12:39:09.671Z"
      },
      {
        "duration": 146,
        "start_time": "2023-03-20T12:39:09.682Z"
      },
      {
        "duration": 7,
        "start_time": "2023-03-20T12:39:09.833Z"
      },
      {
        "duration": 145,
        "start_time": "2023-03-20T12:39:09.845Z"
      },
      {
        "duration": 10,
        "start_time": "2023-03-20T12:39:09.992Z"
      },
      {
        "duration": 7,
        "start_time": "2023-03-20T14:24:02.964Z"
      },
      {
        "duration": 48,
        "start_time": "2023-03-20T14:24:03.869Z"
      },
      {
        "duration": 6,
        "start_time": "2023-03-20T14:24:08.623Z"
      },
      {
        "duration": 1293,
        "start_time": "2023-03-20T14:24:08.640Z"
      },
      {
        "duration": 4,
        "start_time": "2023-03-20T14:24:09.935Z"
      },
      {
        "duration": 8820,
        "start_time": "2023-03-20T14:24:09.941Z"
      },
      {
        "duration": 38,
        "start_time": "2023-03-20T14:24:18.763Z"
      },
      {
        "duration": 12,
        "start_time": "2023-03-20T14:24:18.804Z"
      },
      {
        "duration": 3,
        "start_time": "2023-03-20T14:24:18.817Z"
      },
      {
        "duration": 103,
        "start_time": "2023-03-20T14:24:18.822Z"
      },
      {
        "duration": 7,
        "start_time": "2023-03-20T14:24:18.927Z"
      },
      {
        "duration": 133,
        "start_time": "2023-03-20T14:24:18.937Z"
      },
      {
        "duration": 3,
        "start_time": "2023-03-20T14:24:19.071Z"
      },
      {
        "duration": 172,
        "start_time": "2023-03-20T14:24:19.075Z"
      },
      {
        "duration": 11,
        "start_time": "2023-03-20T14:24:19.250Z"
      },
      {
        "duration": 12,
        "start_time": "2023-03-20T14:24:19.263Z"
      },
      {
        "duration": 5,
        "start_time": "2023-03-20T14:24:19.278Z"
      },
      {
        "duration": 11,
        "start_time": "2023-03-20T14:24:19.285Z"
      },
      {
        "duration": 147,
        "start_time": "2023-03-20T14:24:19.298Z"
      },
      {
        "duration": 7,
        "start_time": "2023-03-20T14:24:19.447Z"
      },
      {
        "duration": 125,
        "start_time": "2023-03-20T14:24:19.455Z"
      },
      {
        "duration": 2,
        "start_time": "2023-03-20T14:24:19.581Z"
      },
      {
        "duration": 1185,
        "start_time": "2023-03-20T14:24:19.585Z"
      },
      {
        "duration": 10,
        "start_time": "2023-03-20T14:24:20.771Z"
      },
      {
        "duration": 8,
        "start_time": "2023-03-20T14:24:20.783Z"
      },
      {
        "duration": 97,
        "start_time": "2023-03-20T14:24:20.792Z"
      },
      {
        "duration": 7,
        "start_time": "2023-03-20T14:24:20.890Z"
      },
      {
        "duration": 14,
        "start_time": "2023-03-20T14:24:20.898Z"
      },
      {
        "duration": 43,
        "start_time": "2023-03-20T14:24:20.913Z"
      },
      {
        "duration": 5,
        "start_time": "2023-03-20T14:24:20.957Z"
      },
      {
        "duration": 17,
        "start_time": "2023-03-20T14:24:20.963Z"
      },
      {
        "duration": 33,
        "start_time": "2023-03-20T14:24:20.982Z"
      },
      {
        "duration": 1090,
        "start_time": "2023-03-20T14:24:21.016Z"
      },
      {
        "duration": 9,
        "start_time": "2023-03-20T14:24:22.108Z"
      },
      {
        "duration": 19,
        "start_time": "2023-03-20T14:24:22.124Z"
      },
      {
        "duration": 302,
        "start_time": "2023-03-20T14:24:22.144Z"
      },
      {
        "duration": 11,
        "start_time": "2023-03-20T14:24:22.448Z"
      },
      {
        "duration": 392,
        "start_time": "2023-03-20T14:24:22.461Z"
      },
      {
        "duration": 2,
        "start_time": "2023-03-20T14:24:22.854Z"
      },
      {
        "duration": 86,
        "start_time": "2023-03-20T14:24:22.858Z"
      },
      {
        "duration": 6,
        "start_time": "2023-03-20T14:24:22.945Z"
      },
      {
        "duration": 92,
        "start_time": "2023-03-20T14:24:22.953Z"
      },
      {
        "duration": 3,
        "start_time": "2023-03-20T14:24:23.047Z"
      },
      {
        "duration": 147,
        "start_time": "2023-03-20T14:24:23.053Z"
      },
      {
        "duration": 6,
        "start_time": "2023-03-20T14:24:23.202Z"
      },
      {
        "duration": 3,
        "start_time": "2023-03-20T14:24:35.085Z"
      },
      {
        "duration": 37,
        "start_time": "2023-03-20T14:24:36.047Z"
      },
      {
        "duration": 6,
        "start_time": "2023-03-20T14:24:36.548Z"
      },
      {
        "duration": 3,
        "start_time": "2023-03-20T14:53:08.375Z"
      },
      {
        "duration": 213,
        "start_time": "2023-03-20T14:53:09.284Z"
      },
      {
        "duration": 3,
        "start_time": "2023-03-20T14:53:12.625Z"
      },
      {
        "duration": 109,
        "start_time": "2023-03-20T14:53:13.486Z"
      },
      {
        "duration": 2,
        "start_time": "2023-03-20T14:53:31.614Z"
      },
      {
        "duration": 3,
        "start_time": "2023-03-20T14:53:34.520Z"
      },
      {
        "duration": 37,
        "start_time": "2023-03-20T14:53:35.248Z"
      },
      {
        "duration": 6,
        "start_time": "2023-03-20T14:53:37.341Z"
      },
      {
        "duration": 2,
        "start_time": "2023-03-20T14:53:50.942Z"
      },
      {
        "duration": 37,
        "start_time": "2023-03-20T14:53:51.761Z"
      },
      {
        "duration": 5,
        "start_time": "2023-03-20T14:53:52.239Z"
      },
      {
        "duration": 4,
        "start_time": "2023-03-20T15:37:03.705Z"
      },
      {
        "duration": 1181,
        "start_time": "2023-03-20T15:37:03.710Z"
      },
      {
        "duration": 3,
        "start_time": "2023-03-20T15:37:04.892Z"
      },
      {
        "duration": 7612,
        "start_time": "2023-03-20T15:37:04.897Z"
      },
      {
        "duration": 54,
        "start_time": "2023-03-20T15:37:12.511Z"
      },
      {
        "duration": 18,
        "start_time": "2023-03-20T15:37:12.567Z"
      },
      {
        "duration": 11,
        "start_time": "2023-03-20T15:37:12.587Z"
      },
      {
        "duration": 93,
        "start_time": "2023-03-20T15:37:12.600Z"
      },
      {
        "duration": 6,
        "start_time": "2023-03-20T15:37:12.694Z"
      },
      {
        "duration": 136,
        "start_time": "2023-03-20T15:37:12.703Z"
      },
      {
        "duration": 3,
        "start_time": "2023-03-20T15:37:12.840Z"
      },
      {
        "duration": 168,
        "start_time": "2023-03-20T15:37:12.844Z"
      },
      {
        "duration": 9,
        "start_time": "2023-03-20T15:37:13.013Z"
      },
      {
        "duration": 12,
        "start_time": "2023-03-20T15:37:13.023Z"
      },
      {
        "duration": 4,
        "start_time": "2023-03-20T15:37:13.036Z"
      },
      {
        "duration": 9,
        "start_time": "2023-03-20T15:37:13.041Z"
      },
      {
        "duration": 141,
        "start_time": "2023-03-20T15:37:13.051Z"
      },
      {
        "duration": 6,
        "start_time": "2023-03-20T15:37:13.193Z"
      },
      {
        "duration": 143,
        "start_time": "2023-03-20T15:37:13.201Z"
      },
      {
        "duration": 3,
        "start_time": "2023-03-20T15:37:13.345Z"
      },
      {
        "duration": 1198,
        "start_time": "2023-03-20T15:37:13.349Z"
      },
      {
        "duration": 11,
        "start_time": "2023-03-20T15:37:14.549Z"
      },
      {
        "duration": 8,
        "start_time": "2023-03-20T15:37:14.561Z"
      },
      {
        "duration": 88,
        "start_time": "2023-03-20T15:37:14.570Z"
      },
      {
        "duration": 6,
        "start_time": "2023-03-20T15:37:14.660Z"
      },
      {
        "duration": 4,
        "start_time": "2023-03-20T15:37:14.668Z"
      },
      {
        "duration": 41,
        "start_time": "2023-03-20T15:37:14.674Z"
      },
      {
        "duration": 5,
        "start_time": "2023-03-20T15:37:14.717Z"
      },
      {
        "duration": 20,
        "start_time": "2023-03-20T15:37:14.724Z"
      },
      {
        "duration": 7,
        "start_time": "2023-03-20T15:37:14.746Z"
      },
      {
        "duration": 1077,
        "start_time": "2023-03-20T15:37:14.754Z"
      },
      {
        "duration": 10,
        "start_time": "2023-03-20T15:37:15.833Z"
      },
      {
        "duration": 5,
        "start_time": "2023-03-20T15:37:15.844Z"
      },
      {
        "duration": 304,
        "start_time": "2023-03-20T15:37:15.850Z"
      },
      {
        "duration": 9,
        "start_time": "2023-03-20T15:37:16.156Z"
      },
      {
        "duration": 323,
        "start_time": "2023-03-20T15:37:16.166Z"
      },
      {
        "duration": 3,
        "start_time": "2023-03-20T15:37:16.490Z"
      },
      {
        "duration": 75,
        "start_time": "2023-03-20T15:37:16.495Z"
      },
      {
        "duration": 6,
        "start_time": "2023-03-20T15:37:16.572Z"
      },
      {
        "duration": 93,
        "start_time": "2023-03-20T15:37:16.579Z"
      },
      {
        "duration": 3,
        "start_time": "2023-03-20T15:37:16.673Z"
      },
      {
        "duration": 147,
        "start_time": "2023-03-20T15:37:16.677Z"
      },
      {
        "duration": 6,
        "start_time": "2023-03-20T15:37:16.825Z"
      },
      {
        "duration": 2,
        "start_time": "2023-03-20T15:39:56.021Z"
      },
      {
        "duration": 47,
        "start_time": "2023-03-20T15:39:57.035Z"
      },
      {
        "duration": 10,
        "start_time": "2023-03-20T15:39:57.517Z"
      },
      {
        "duration": 3,
        "start_time": "2023-03-20T15:40:05.026Z"
      },
      {
        "duration": 38,
        "start_time": "2023-03-20T15:40:05.983Z"
      },
      {
        "duration": 5,
        "start_time": "2023-03-20T15:40:06.906Z"
      },
      {
        "duration": 3,
        "start_time": "2023-03-20T15:43:49.497Z"
      },
      {
        "duration": 1094,
        "start_time": "2023-03-20T15:43:49.501Z"
      },
      {
        "duration": 3,
        "start_time": "2023-03-20T15:43:50.597Z"
      },
      {
        "duration": 7769,
        "start_time": "2023-03-20T15:43:50.601Z"
      },
      {
        "duration": 37,
        "start_time": "2023-03-20T15:43:58.372Z"
      },
      {
        "duration": 14,
        "start_time": "2023-03-20T15:43:58.411Z"
      },
      {
        "duration": 2,
        "start_time": "2023-03-20T15:43:58.427Z"
      },
      {
        "duration": 83,
        "start_time": "2023-03-20T15:43:58.431Z"
      },
      {
        "duration": 6,
        "start_time": "2023-03-20T15:43:58.515Z"
      },
      {
        "duration": 128,
        "start_time": "2023-03-20T15:43:58.522Z"
      },
      {
        "duration": 2,
        "start_time": "2023-03-20T15:43:58.653Z"
      },
      {
        "duration": 154,
        "start_time": "2023-03-20T15:43:58.656Z"
      },
      {
        "duration": 9,
        "start_time": "2023-03-20T15:43:58.811Z"
      },
      {
        "duration": 15,
        "start_time": "2023-03-20T15:43:58.821Z"
      },
      {
        "duration": 5,
        "start_time": "2023-03-20T15:43:58.837Z"
      },
      {
        "duration": 12,
        "start_time": "2023-03-20T15:43:58.843Z"
      },
      {
        "duration": 146,
        "start_time": "2023-03-20T15:43:58.856Z"
      },
      {
        "duration": 6,
        "start_time": "2023-03-20T15:43:59.003Z"
      },
      {
        "duration": 140,
        "start_time": "2023-03-20T15:43:59.011Z"
      },
      {
        "duration": 2,
        "start_time": "2023-03-20T15:43:59.153Z"
      },
      {
        "duration": 1115,
        "start_time": "2023-03-20T15:43:59.157Z"
      },
      {
        "duration": 10,
        "start_time": "2023-03-20T15:44:00.274Z"
      },
      {
        "duration": 29,
        "start_time": "2023-03-20T15:44:00.286Z"
      },
      {
        "duration": 124,
        "start_time": "2023-03-20T15:44:00.316Z"
      },
      {
        "duration": 6,
        "start_time": "2023-03-20T15:44:00.442Z"
      },
      {
        "duration": 59,
        "start_time": "2023-03-20T15:44:00.450Z"
      },
      {
        "duration": 63,
        "start_time": "2023-03-20T15:44:00.510Z"
      },
      {
        "duration": 5,
        "start_time": "2023-03-20T15:44:00.575Z"
      },
      {
        "duration": 39,
        "start_time": "2023-03-20T15:44:00.584Z"
      },
      {
        "duration": 64,
        "start_time": "2023-03-20T15:44:00.625Z"
      },
      {
        "duration": 1146,
        "start_time": "2023-03-20T15:44:00.691Z"
      },
      {
        "duration": 13,
        "start_time": "2023-03-20T15:44:01.838Z"
      },
      {
        "duration": 8,
        "start_time": "2023-03-20T15:44:01.852Z"
      },
      {
        "duration": 331,
        "start_time": "2023-03-20T15:44:01.862Z"
      },
      {
        "duration": 10,
        "start_time": "2023-03-20T15:44:02.194Z"
      },
      {
        "duration": 423,
        "start_time": "2023-03-20T15:44:02.205Z"
      },
      {
        "duration": 3,
        "start_time": "2023-03-20T15:44:02.630Z"
      },
      {
        "duration": 109,
        "start_time": "2023-03-20T15:44:02.635Z"
      },
      {
        "duration": 7,
        "start_time": "2023-03-20T15:44:02.746Z"
      },
      {
        "duration": 92,
        "start_time": "2023-03-20T15:44:02.754Z"
      },
      {
        "duration": 2,
        "start_time": "2023-03-20T15:44:02.848Z"
      },
      {
        "duration": 156,
        "start_time": "2023-03-20T15:44:02.852Z"
      },
      {
        "duration": 6,
        "start_time": "2023-03-20T15:44:03.009Z"
      },
      {
        "duration": 7,
        "start_time": "2023-03-20T17:51:08.477Z"
      },
      {
        "duration": 1465,
        "start_time": "2023-03-20T17:51:25.021Z"
      },
      {
        "duration": 4,
        "start_time": "2023-03-20T17:51:26.490Z"
      },
      {
        "duration": 5654,
        "start_time": "2023-03-20T17:51:26.496Z"
      },
      {
        "duration": 276,
        "start_time": "2023-03-20T17:52:10.094Z"
      },
      {
        "duration": 11,
        "start_time": "2023-03-20T17:52:10.395Z"
      },
      {
        "duration": 3,
        "start_time": "2023-03-20T17:52:11.967Z"
      },
      {
        "duration": 3,
        "start_time": "2023-03-20T17:52:17.125Z"
      },
      {
        "duration": 67,
        "start_time": "2023-03-20T17:52:17.445Z"
      },
      {
        "duration": 2,
        "start_time": "2023-03-20T17:52:39.710Z"
      },
      {
        "duration": 192,
        "start_time": "2023-03-20T17:52:39.977Z"
      },
      {
        "duration": 6,
        "start_time": "2023-03-20T17:52:40.310Z"
      },
      {
        "duration": 2,
        "start_time": "2023-03-20T17:52:44.379Z"
      },
      {
        "duration": 99,
        "start_time": "2023-03-20T17:52:44.829Z"
      },
      {
        "duration": 2,
        "start_time": "2023-03-20T17:52:48.909Z"
      },
      {
        "duration": 106,
        "start_time": "2023-03-20T17:52:49.125Z"
      },
      {
        "duration": 2,
        "start_time": "2023-03-20T17:53:01.481Z"
      },
      {
        "duration": 121,
        "start_time": "2023-03-20T17:53:01.882Z"
      },
      {
        "duration": 10,
        "start_time": "2023-03-20T17:53:02.493Z"
      },
      {
        "duration": 3,
        "start_time": "2023-03-20T17:55:29.460Z"
      },
      {
        "duration": 105,
        "start_time": "2023-03-20T17:55:30.947Z"
      },
      {
        "duration": 3,
        "start_time": "2023-03-20T17:55:34.252Z"
      },
      {
        "duration": 12,
        "start_time": "2023-03-20T17:55:36.034Z"
      },
      {
        "duration": 3,
        "start_time": "2023-03-20T17:55:36.388Z"
      },
      {
        "duration": 152,
        "start_time": "2023-03-20T17:55:38.179Z"
      },
      {
        "duration": 8,
        "start_time": "2023-03-20T17:55:39.652Z"
      },
      {
        "duration": 2,
        "start_time": "2023-03-20T17:55:57.284Z"
      },
      {
        "duration": 70,
        "start_time": "2023-03-20T17:55:57.587Z"
      },
      {
        "duration": 6,
        "start_time": "2023-03-20T17:55:57.845Z"
      },
      {
        "duration": 2,
        "start_time": "2023-03-20T17:56:01.708Z"
      },
      {
        "duration": 73,
        "start_time": "2023-03-20T17:56:01.956Z"
      },
      {
        "duration": 6,
        "start_time": "2023-03-20T17:56:02.195Z"
      },
      {
        "duration": 10,
        "start_time": "2023-03-21T12:32:45.950Z"
      },
      {
        "duration": 41,
        "start_time": "2023-03-21T12:32:47.525Z"
      },
      {
        "duration": 4,
        "start_time": "2023-03-21T12:32:54.239Z"
      },
      {
        "duration": 1223,
        "start_time": "2023-03-21T12:32:54.245Z"
      },
      {
        "duration": 3,
        "start_time": "2023-03-21T12:32:55.471Z"
      },
      {
        "duration": 7049,
        "start_time": "2023-03-21T12:32:55.476Z"
      },
      {
        "duration": 247,
        "start_time": "2023-03-21T12:33:02.527Z"
      },
      {
        "duration": 14,
        "start_time": "2023-03-21T12:33:02.776Z"
      },
      {
        "duration": 33,
        "start_time": "2023-03-21T12:33:02.791Z"
      },
      {
        "duration": 168,
        "start_time": "2023-03-21T12:33:02.825Z"
      },
      {
        "duration": 6,
        "start_time": "2023-03-21T12:33:02.994Z"
      },
      {
        "duration": 143,
        "start_time": "2023-03-21T12:33:03.002Z"
      },
      {
        "duration": 3,
        "start_time": "2023-03-21T12:33:03.147Z"
      },
      {
        "duration": 216,
        "start_time": "2023-03-21T12:33:03.159Z"
      },
      {
        "duration": 10,
        "start_time": "2023-03-21T12:33:03.377Z"
      },
      {
        "duration": 28,
        "start_time": "2023-03-21T12:33:03.388Z"
      },
      {
        "duration": 10,
        "start_time": "2023-03-21T12:33:03.417Z"
      },
      {
        "duration": 7,
        "start_time": "2023-03-21T12:33:03.428Z"
      },
      {
        "duration": 173,
        "start_time": "2023-03-21T12:33:03.436Z"
      },
      {
        "duration": 6,
        "start_time": "2023-03-21T12:33:03.610Z"
      },
      {
        "duration": 144,
        "start_time": "2023-03-21T12:33:03.618Z"
      },
      {
        "duration": 3,
        "start_time": "2023-03-21T12:33:03.763Z"
      },
      {
        "duration": 1319,
        "start_time": "2023-03-21T12:33:03.768Z"
      },
      {
        "duration": 15,
        "start_time": "2023-03-21T12:33:05.088Z"
      },
      {
        "duration": 25,
        "start_time": "2023-03-21T12:33:05.105Z"
      },
      {
        "duration": 113,
        "start_time": "2023-03-21T12:33:05.132Z"
      },
      {
        "duration": 7,
        "start_time": "2023-03-21T12:33:05.247Z"
      },
      {
        "duration": 28,
        "start_time": "2023-03-21T12:33:05.256Z"
      },
      {
        "duration": 104,
        "start_time": "2023-03-21T12:33:05.285Z"
      },
      {
        "duration": 5,
        "start_time": "2023-03-21T12:33:05.391Z"
      },
      {
        "duration": 22,
        "start_time": "2023-03-21T12:33:05.399Z"
      },
      {
        "duration": 14,
        "start_time": "2023-03-21T12:33:05.423Z"
      },
      {
        "duration": 1126,
        "start_time": "2023-03-21T12:33:05.439Z"
      },
      {
        "duration": 13,
        "start_time": "2023-03-21T12:33:06.568Z"
      },
      {
        "duration": 11,
        "start_time": "2023-03-21T12:33:06.583Z"
      },
      {
        "duration": 309,
        "start_time": "2023-03-21T12:33:06.595Z"
      },
      {
        "duration": 9,
        "start_time": "2023-03-21T12:33:06.905Z"
      },
      {
        "duration": 397,
        "start_time": "2023-03-21T12:33:06.916Z"
      },
      {
        "duration": 2,
        "start_time": "2023-03-21T12:33:07.315Z"
      },
      {
        "duration": 113,
        "start_time": "2023-03-21T12:33:07.318Z"
      },
      {
        "duration": 7,
        "start_time": "2023-03-21T12:33:07.433Z"
      },
      {
        "duration": 96,
        "start_time": "2023-03-21T12:33:07.441Z"
      },
      {
        "duration": 2,
        "start_time": "2023-03-21T12:33:07.538Z"
      },
      {
        "duration": 183,
        "start_time": "2023-03-21T12:33:07.542Z"
      },
      {
        "duration": 8,
        "start_time": "2023-03-21T12:33:07.727Z"
      },
      {
        "duration": 2,
        "start_time": "2023-03-21T12:33:42.349Z"
      },
      {
        "duration": 71,
        "start_time": "2023-03-21T12:33:43.286Z"
      },
      {
        "duration": 6,
        "start_time": "2023-03-21T12:33:43.802Z"
      },
      {
        "duration": 3,
        "start_time": "2023-03-21T12:34:15.575Z"
      },
      {
        "duration": 247,
        "start_time": "2023-03-21T12:34:17.072Z"
      },
      {
        "duration": 106,
        "start_time": "2023-03-21T12:34:17.631Z"
      },
      {
        "duration": 3,
        "start_time": "2023-03-21T12:34:24.902Z"
      },
      {
        "duration": 135,
        "start_time": "2023-03-21T12:34:28.446Z"
      },
      {
        "duration": 9,
        "start_time": "2023-03-21T12:34:29.526Z"
      },
      {
        "duration": 2,
        "start_time": "2023-03-21T12:35:23.207Z"
      },
      {
        "duration": 164,
        "start_time": "2023-03-21T12:35:24.003Z"
      },
      {
        "duration": 2,
        "start_time": "2023-03-21T12:35:29.079Z"
      },
      {
        "duration": 69,
        "start_time": "2023-03-21T12:35:30.128Z"
      },
      {
        "duration": 6,
        "start_time": "2023-03-21T12:35:31.188Z"
      },
      {
        "duration": 3,
        "start_time": "2023-03-21T12:35:57.402Z"
      },
      {
        "duration": 75,
        "start_time": "2023-03-21T12:35:58.002Z"
      },
      {
        "duration": 6,
        "start_time": "2023-03-21T12:35:58.453Z"
      },
      {
        "duration": 3,
        "start_time": "2023-03-21T12:36:03.929Z"
      },
      {
        "duration": 69,
        "start_time": "2023-03-21T12:36:05.721Z"
      },
      {
        "duration": 6,
        "start_time": "2023-03-21T12:36:06.223Z"
      },
      {
        "duration": 2,
        "start_time": "2023-03-21T12:36:10.751Z"
      },
      {
        "duration": 69,
        "start_time": "2023-03-21T12:36:11.576Z"
      },
      {
        "duration": 5,
        "start_time": "2023-03-21T12:36:12.079Z"
      },
      {
        "duration": 3,
        "start_time": "2023-03-21T12:37:00.246Z"
      },
      {
        "duration": 1159,
        "start_time": "2023-03-21T12:37:00.251Z"
      },
      {
        "duration": 3,
        "start_time": "2023-03-21T12:37:01.413Z"
      },
      {
        "duration": 8465,
        "start_time": "2023-03-21T12:37:01.417Z"
      },
      {
        "duration": 277,
        "start_time": "2023-03-21T12:37:09.883Z"
      },
      {
        "duration": 16,
        "start_time": "2023-03-21T12:37:10.161Z"
      },
      {
        "duration": 10,
        "start_time": "2023-03-21T12:37:10.179Z"
      },
      {
        "duration": 129,
        "start_time": "2023-03-21T12:37:10.190Z"
      },
      {
        "duration": 5,
        "start_time": "2023-03-21T12:37:10.322Z"
      },
      {
        "duration": 126,
        "start_time": "2023-03-21T12:37:10.329Z"
      },
      {
        "duration": 5,
        "start_time": "2023-03-21T12:37:10.457Z"
      },
      {
        "duration": 203,
        "start_time": "2023-03-21T12:37:10.464Z"
      },
      {
        "duration": 12,
        "start_time": "2023-03-21T12:37:10.669Z"
      },
      {
        "duration": 10,
        "start_time": "2023-03-21T12:37:10.684Z"
      },
      {
        "duration": 5,
        "start_time": "2023-03-21T12:37:10.696Z"
      },
      {
        "duration": 5,
        "start_time": "2023-03-21T12:37:10.703Z"
      },
      {
        "duration": 175,
        "start_time": "2023-03-21T12:37:10.709Z"
      },
      {
        "duration": 5,
        "start_time": "2023-03-21T12:37:10.885Z"
      },
      {
        "duration": 130,
        "start_time": "2023-03-21T12:37:10.891Z"
      },
      {
        "duration": 2,
        "start_time": "2023-03-21T12:37:11.023Z"
      },
      {
        "duration": 1222,
        "start_time": "2023-03-21T12:37:11.026Z"
      },
      {
        "duration": 11,
        "start_time": "2023-03-21T12:37:12.249Z"
      },
      {
        "duration": 15,
        "start_time": "2023-03-21T12:37:12.261Z"
      },
      {
        "duration": 114,
        "start_time": "2023-03-21T12:37:12.279Z"
      },
      {
        "duration": 6,
        "start_time": "2023-03-21T12:37:12.395Z"
      },
      {
        "duration": 6,
        "start_time": "2023-03-21T12:37:12.403Z"
      },
      {
        "duration": 77,
        "start_time": "2023-03-21T12:37:12.411Z"
      },
      {
        "duration": 6,
        "start_time": "2023-03-21T12:37:12.489Z"
      },
      {
        "duration": 4,
        "start_time": "2023-03-21T12:37:12.497Z"
      },
      {
        "duration": 6,
        "start_time": "2023-03-21T12:37:12.503Z"
      },
      {
        "duration": 1151,
        "start_time": "2023-03-21T12:37:12.511Z"
      },
      {
        "duration": 13,
        "start_time": "2023-03-21T12:37:13.664Z"
      },
      {
        "duration": 27,
        "start_time": "2023-03-21T12:37:13.679Z"
      },
      {
        "duration": 337,
        "start_time": "2023-03-21T12:37:13.707Z"
      },
      {
        "duration": 11,
        "start_time": "2023-03-21T12:37:14.045Z"
      },
      {
        "duration": 382,
        "start_time": "2023-03-21T12:37:14.057Z"
      },
      {
        "duration": 3,
        "start_time": "2023-03-21T12:37:14.441Z"
      },
      {
        "duration": 144,
        "start_time": "2023-03-21T12:37:14.445Z"
      },
      {
        "duration": 10,
        "start_time": "2023-03-21T12:37:14.591Z"
      },
      {
        "duration": 167,
        "start_time": "2023-03-21T12:37:14.603Z"
      },
      {
        "duration": 5,
        "start_time": "2023-03-21T12:37:14.773Z"
      },
      {
        "duration": 193,
        "start_time": "2023-03-21T12:37:14.780Z"
      },
      {
        "duration": 6,
        "start_time": "2023-03-21T12:37:14.975Z"
      },
      {
        "duration": 3,
        "start_time": "2023-03-21T12:39:15.335Z"
      },
      {
        "duration": 70,
        "start_time": "2023-03-21T12:39:16.334Z"
      },
      {
        "duration": 5,
        "start_time": "2023-03-21T12:39:17.004Z"
      },
      {
        "duration": 2,
        "start_time": "2023-03-21T12:39:32.121Z"
      },
      {
        "duration": 1134,
        "start_time": "2023-03-21T12:39:32.125Z"
      },
      {
        "duration": 4,
        "start_time": "2023-03-21T12:39:33.260Z"
      },
      {
        "duration": 11931,
        "start_time": "2023-03-21T12:39:33.265Z"
      },
      {
        "duration": 251,
        "start_time": "2023-03-21T12:39:45.197Z"
      },
      {
        "duration": 15,
        "start_time": "2023-03-21T12:39:45.449Z"
      },
      {
        "duration": 13,
        "start_time": "2023-03-21T12:39:45.465Z"
      },
      {
        "duration": 121,
        "start_time": "2023-03-21T12:39:45.480Z"
      },
      {
        "duration": 5,
        "start_time": "2023-03-21T12:39:45.603Z"
      },
      {
        "duration": 126,
        "start_time": "2023-03-21T12:39:45.610Z"
      },
      {
        "duration": 3,
        "start_time": "2023-03-21T12:39:45.737Z"
      },
      {
        "duration": 202,
        "start_time": "2023-03-21T12:39:45.741Z"
      },
      {
        "duration": 8,
        "start_time": "2023-03-21T12:39:45.944Z"
      },
      {
        "duration": 14,
        "start_time": "2023-03-21T12:39:45.955Z"
      },
      {
        "duration": 16,
        "start_time": "2023-03-21T12:39:45.971Z"
      },
      {
        "duration": 20,
        "start_time": "2023-03-21T12:39:45.988Z"
      },
      {
        "duration": 177,
        "start_time": "2023-03-21T12:39:46.010Z"
      },
      {
        "duration": 7,
        "start_time": "2023-03-21T12:39:46.188Z"
      },
      {
        "duration": 147,
        "start_time": "2023-03-21T12:39:46.196Z"
      },
      {
        "duration": 2,
        "start_time": "2023-03-21T12:39:46.345Z"
      },
      {
        "duration": 1235,
        "start_time": "2023-03-21T12:39:46.348Z"
      },
      {
        "duration": 10,
        "start_time": "2023-03-21T12:39:47.585Z"
      },
      {
        "duration": 20,
        "start_time": "2023-03-21T12:39:47.596Z"
      },
      {
        "duration": 128,
        "start_time": "2023-03-21T12:39:47.618Z"
      },
      {
        "duration": 6,
        "start_time": "2023-03-21T12:39:47.747Z"
      },
      {
        "duration": 22,
        "start_time": "2023-03-21T12:39:47.755Z"
      },
      {
        "duration": 86,
        "start_time": "2023-03-21T12:39:47.779Z"
      },
      {
        "duration": 6,
        "start_time": "2023-03-21T12:39:47.866Z"
      },
      {
        "duration": 17,
        "start_time": "2023-03-21T12:39:47.873Z"
      },
      {
        "duration": 5,
        "start_time": "2023-03-21T12:39:47.891Z"
      },
      {
        "duration": 1088,
        "start_time": "2023-03-21T12:39:47.897Z"
      },
      {
        "duration": 9,
        "start_time": "2023-03-21T12:39:48.987Z"
      },
      {
        "duration": 9,
        "start_time": "2023-03-21T12:39:48.998Z"
      },
      {
        "duration": 342,
        "start_time": "2023-03-21T12:39:49.009Z"
      },
      {
        "duration": 9,
        "start_time": "2023-03-21T12:39:49.353Z"
      },
      {
        "duration": 349,
        "start_time": "2023-03-21T12:39:49.364Z"
      },
      {
        "duration": 2,
        "start_time": "2023-03-21T12:39:49.715Z"
      },
      {
        "duration": 116,
        "start_time": "2023-03-21T12:39:49.718Z"
      },
      {
        "duration": 7,
        "start_time": "2023-03-21T12:39:49.836Z"
      },
      {
        "duration": 108,
        "start_time": "2023-03-21T12:39:49.844Z"
      },
      {
        "duration": 2,
        "start_time": "2023-03-21T12:39:49.956Z"
      },
      {
        "duration": 196,
        "start_time": "2023-03-21T12:39:49.960Z"
      },
      {
        "duration": 7,
        "start_time": "2023-03-21T12:39:50.157Z"
      },
      {
        "duration": 3,
        "start_time": "2023-03-21T15:51:47.834Z"
      },
      {
        "duration": 1354,
        "start_time": "2023-03-21T15:51:48.112Z"
      },
      {
        "duration": 3,
        "start_time": "2023-03-21T15:51:49.679Z"
      },
      {
        "duration": 8496,
        "start_time": "2023-03-21T15:51:50.120Z"
      },
      {
        "duration": 5,
        "start_time": "2023-03-21T15:52:04.336Z"
      },
      {
        "duration": 258,
        "start_time": "2023-03-21T15:52:04.847Z"
      },
      {
        "duration": 9,
        "start_time": "2023-03-21T15:52:05.170Z"
      },
      {
        "duration": 2,
        "start_time": "2023-03-21T15:52:17.222Z"
      },
      {
        "duration": 44,
        "start_time": "2023-03-21T15:52:17.449Z"
      },
      {
        "duration": 11,
        "start_time": "2023-03-21T15:52:18.112Z"
      },
      {
        "duration": 3,
        "start_time": "2023-03-21T15:53:01.156Z"
      },
      {
        "duration": 96,
        "start_time": "2023-03-21T15:53:05.362Z"
      },
      {
        "duration": 8,
        "start_time": "2023-03-21T15:53:05.681Z"
      },
      {
        "duration": 3,
        "start_time": "2023-03-21T15:53:28.464Z"
      },
      {
        "duration": 96,
        "start_time": "2023-03-21T15:53:29.459Z"
      },
      {
        "duration": 4,
        "start_time": "2023-03-21T15:53:37.654Z"
      },
      {
        "duration": 2,
        "start_time": "2023-03-21T15:53:39.416Z"
      },
      {
        "duration": 46,
        "start_time": "2023-03-21T15:53:39.720Z"
      },
      {
        "duration": 9,
        "start_time": "2023-03-21T15:53:41.243Z"
      },
      {
        "duration": 118,
        "start_time": "2023-03-21T15:53:41.936Z"
      },
      {
        "duration": 2,
        "start_time": "2023-03-21T15:53:56.482Z"
      },
      {
        "duration": 123,
        "start_time": "2023-03-21T15:53:57.488Z"
      },
      {
        "duration": 3,
        "start_time": "2023-03-21T15:54:09.884Z"
      },
      {
        "duration": 97,
        "start_time": "2023-03-21T15:54:10.360Z"
      },
      {
        "duration": 7,
        "start_time": "2023-03-21T15:54:11.457Z"
      },
      {
        "duration": 2,
        "start_time": "2023-03-21T15:54:45.198Z"
      },
      {
        "duration": 46,
        "start_time": "2023-03-21T15:54:46.432Z"
      },
      {
        "duration": 8,
        "start_time": "2023-03-21T15:54:47.040Z"
      },
      {
        "duration": 3,
        "start_time": "2023-03-21T15:55:01.721Z"
      },
      {
        "duration": 49,
        "start_time": "2023-03-21T15:55:02.904Z"
      },
      {
        "duration": 8,
        "start_time": "2023-03-21T15:55:03.303Z"
      },
      {
        "duration": 3,
        "start_time": "2023-03-21T15:55:14.631Z"
      },
      {
        "duration": 3,
        "start_time": "2023-03-21T15:55:17.856Z"
      },
      {
        "duration": 37,
        "start_time": "2023-03-21T15:55:18.031Z"
      },
      {
        "duration": 7,
        "start_time": "2023-03-21T15:55:18.211Z"
      },
      {
        "duration": 3,
        "start_time": "2023-03-21T15:55:26.735Z"
      },
      {
        "duration": 1284,
        "start_time": "2023-03-21T15:55:26.740Z"
      },
      {
        "duration": 3,
        "start_time": "2023-03-21T15:55:28.026Z"
      },
      {
        "duration": 8695,
        "start_time": "2023-03-21T15:55:28.031Z"
      },
      {
        "duration": 63,
        "start_time": "2023-03-21T15:55:36.728Z"
      },
      {
        "duration": 16,
        "start_time": "2023-03-21T15:55:36.793Z"
      },
      {
        "duration": 4,
        "start_time": "2023-03-21T15:55:36.811Z"
      },
      {
        "duration": 86,
        "start_time": "2023-03-21T15:55:36.816Z"
      },
      {
        "duration": 6,
        "start_time": "2023-03-21T15:55:36.904Z"
      },
      {
        "duration": 136,
        "start_time": "2023-03-21T15:55:36.911Z"
      },
      {
        "duration": 3,
        "start_time": "2023-03-21T15:55:37.048Z"
      },
      {
        "duration": 164,
        "start_time": "2023-03-21T15:55:37.052Z"
      },
      {
        "duration": 9,
        "start_time": "2023-03-21T15:55:37.217Z"
      },
      {
        "duration": 8,
        "start_time": "2023-03-21T15:55:37.229Z"
      },
      {
        "duration": 8,
        "start_time": "2023-03-21T15:55:37.239Z"
      },
      {
        "duration": 8,
        "start_time": "2023-03-21T15:55:37.248Z"
      },
      {
        "duration": 134,
        "start_time": "2023-03-21T15:55:37.258Z"
      },
      {
        "duration": 7,
        "start_time": "2023-03-21T15:55:37.394Z"
      },
      {
        "duration": 165,
        "start_time": "2023-03-21T15:55:37.403Z"
      },
      {
        "duration": 3,
        "start_time": "2023-03-21T15:55:37.569Z"
      },
      {
        "duration": 1260,
        "start_time": "2023-03-21T15:55:37.573Z"
      },
      {
        "duration": 25,
        "start_time": "2023-03-21T15:55:38.834Z"
      },
      {
        "duration": 3,
        "start_time": "2023-03-21T15:55:38.860Z"
      },
      {
        "duration": 92,
        "start_time": "2023-03-21T15:55:38.864Z"
      },
      {
        "duration": 6,
        "start_time": "2023-03-21T15:55:38.958Z"
      },
      {
        "duration": 3,
        "start_time": "2023-03-21T15:55:38.966Z"
      },
      {
        "duration": 39,
        "start_time": "2023-03-21T15:55:38.970Z"
      },
      {
        "duration": 7,
        "start_time": "2023-03-21T15:55:39.011Z"
      },
      {
        "duration": 3,
        "start_time": "2023-03-21T15:55:39.020Z"
      },
      {
        "duration": 4,
        "start_time": "2023-03-21T15:55:39.024Z"
      },
      {
        "duration": 1119,
        "start_time": "2023-03-21T15:55:39.030Z"
      },
      {
        "duration": 9,
        "start_time": "2023-03-21T15:55:40.153Z"
      },
      {
        "duration": 4,
        "start_time": "2023-03-21T15:55:40.164Z"
      },
      {
        "duration": 279,
        "start_time": "2023-03-21T15:55:40.169Z"
      },
      {
        "duration": 11,
        "start_time": "2023-03-21T15:55:40.450Z"
      },
      {
        "duration": 394,
        "start_time": "2023-03-21T15:55:40.462Z"
      },
      {
        "duration": 3,
        "start_time": "2023-03-21T15:55:40.857Z"
      },
      {
        "duration": 89,
        "start_time": "2023-03-21T15:55:40.861Z"
      },
      {
        "duration": 10,
        "start_time": "2023-03-21T15:55:40.953Z"
      },
      {
        "duration": 114,
        "start_time": "2023-03-21T15:55:40.965Z"
      },
      {
        "duration": 3,
        "start_time": "2023-03-21T15:55:41.083Z"
      },
      {
        "duration": 129,
        "start_time": "2023-03-21T15:55:41.088Z"
      },
      {
        "duration": 7,
        "start_time": "2023-03-21T15:55:41.219Z"
      },
      {
        "duration": 2,
        "start_time": "2023-03-21T15:56:22.529Z"
      },
      {
        "duration": 34,
        "start_time": "2023-03-21T15:56:22.700Z"
      },
      {
        "duration": 6,
        "start_time": "2023-03-21T15:56:23.101Z"
      },
      {
        "duration": 3,
        "start_time": "2023-03-21T15:56:27.404Z"
      },
      {
        "duration": 48,
        "start_time": "2023-03-21T15:56:28.023Z"
      },
      {
        "duration": 6,
        "start_time": "2023-03-21T15:56:28.256Z"
      },
      {
        "duration": 2,
        "start_time": "2023-03-21T15:56:31.368Z"
      },
      {
        "duration": 47,
        "start_time": "2023-03-21T15:56:32.030Z"
      },
      {
        "duration": 7,
        "start_time": "2023-03-21T15:56:32.238Z"
      },
      {
        "duration": 2,
        "start_time": "2023-03-21T15:56:46.125Z"
      },
      {
        "duration": 45,
        "start_time": "2023-03-21T15:56:46.658Z"
      },
      {
        "duration": 19,
        "start_time": "2023-03-21T15:56:46.936Z"
      },
      {
        "duration": 2,
        "start_time": "2023-03-21T15:56:54.368Z"
      },
      {
        "duration": 36,
        "start_time": "2023-03-21T15:56:54.656Z"
      },
      {
        "duration": 6,
        "start_time": "2023-03-21T15:56:54.904Z"
      },
      {
        "duration": 5,
        "start_time": "2023-03-22T10:44:44.292Z"
      },
      {
        "duration": 1430,
        "start_time": "2023-03-22T10:44:44.300Z"
      },
      {
        "duration": 4,
        "start_time": "2023-03-22T10:44:45.731Z"
      },
      {
        "duration": 8149,
        "start_time": "2023-03-22T10:44:45.737Z"
      },
      {
        "duration": 61,
        "start_time": "2023-03-22T10:44:53.888Z"
      },
      {
        "duration": 16,
        "start_time": "2023-03-22T10:44:53.951Z"
      },
      {
        "duration": 32,
        "start_time": "2023-03-22T10:44:53.968Z"
      },
      {
        "duration": 111,
        "start_time": "2023-03-22T10:44:54.002Z"
      },
      {
        "duration": 8,
        "start_time": "2023-03-22T10:44:54.115Z"
      },
      {
        "duration": 186,
        "start_time": "2023-03-22T10:44:54.125Z"
      },
      {
        "duration": 3,
        "start_time": "2023-03-22T10:44:54.313Z"
      },
      {
        "duration": 164,
        "start_time": "2023-03-22T10:44:54.318Z"
      },
      {
        "duration": 10,
        "start_time": "2023-03-22T10:44:54.484Z"
      },
      {
        "duration": 13,
        "start_time": "2023-03-22T10:44:54.498Z"
      },
      {
        "duration": 9,
        "start_time": "2023-03-22T10:44:54.514Z"
      },
      {
        "duration": 6,
        "start_time": "2023-03-22T10:44:54.525Z"
      },
      {
        "duration": 145,
        "start_time": "2023-03-22T10:44:54.533Z"
      },
      {
        "duration": 7,
        "start_time": "2023-03-22T10:44:54.680Z"
      },
      {
        "duration": 169,
        "start_time": "2023-03-22T10:44:54.689Z"
      },
      {
        "duration": 2,
        "start_time": "2023-03-22T10:44:54.860Z"
      },
      {
        "duration": 1306,
        "start_time": "2023-03-22T10:44:54.864Z"
      },
      {
        "duration": 19,
        "start_time": "2023-03-22T10:44:56.172Z"
      },
      {
        "duration": 4,
        "start_time": "2023-03-22T10:44:56.194Z"
      },
      {
        "duration": 88,
        "start_time": "2023-03-22T10:44:56.201Z"
      },
      {
        "duration": 9,
        "start_time": "2023-03-22T10:44:56.292Z"
      },
      {
        "duration": 11,
        "start_time": "2023-03-22T10:44:56.303Z"
      },
      {
        "duration": 55,
        "start_time": "2023-03-22T10:44:56.316Z"
      },
      {
        "duration": 7,
        "start_time": "2023-03-22T10:44:56.372Z"
      },
      {
        "duration": 13,
        "start_time": "2023-03-22T10:44:56.381Z"
      },
      {
        "duration": 20,
        "start_time": "2023-03-22T10:44:56.397Z"
      },
      {
        "duration": 1241,
        "start_time": "2023-03-22T10:44:56.419Z"
      },
      {
        "duration": 11,
        "start_time": "2023-03-22T10:44:57.662Z"
      },
      {
        "duration": 16,
        "start_time": "2023-03-22T10:44:57.674Z"
      },
      {
        "duration": 283,
        "start_time": "2023-03-22T10:44:57.693Z"
      },
      {
        "duration": 10,
        "start_time": "2023-03-22T10:44:57.977Z"
      },
      {
        "duration": 392,
        "start_time": "2023-03-22T10:44:57.988Z"
      },
      {
        "duration": 3,
        "start_time": "2023-03-22T10:44:58.389Z"
      },
      {
        "duration": 77,
        "start_time": "2023-03-22T10:44:58.394Z"
      },
      {
        "duration": 10,
        "start_time": "2023-03-22T10:44:58.473Z"
      },
      {
        "duration": 153,
        "start_time": "2023-03-22T10:44:58.485Z"
      },
      {
        "duration": 3,
        "start_time": "2023-03-22T10:44:58.643Z"
      },
      {
        "duration": 136,
        "start_time": "2023-03-22T10:44:58.648Z"
      },
      {
        "duration": 6,
        "start_time": "2023-03-22T10:44:58.786Z"
      },
      {
        "duration": 3,
        "start_time": "2023-03-22T10:45:24.600Z"
      },
      {
        "duration": 36,
        "start_time": "2023-03-22T10:45:25.720Z"
      },
      {
        "duration": 9,
        "start_time": "2023-03-22T10:45:26.202Z"
      },
      {
        "duration": 3,
        "start_time": "2023-03-22T10:46:36.075Z"
      },
      {
        "duration": 37,
        "start_time": "2023-03-22T10:46:36.799Z"
      },
      {
        "duration": 6,
        "start_time": "2023-03-22T10:46:37.293Z"
      },
      {
        "duration": 4,
        "start_time": "2023-03-22T10:47:22.680Z"
      },
      {
        "duration": 1288,
        "start_time": "2023-03-22T10:47:22.687Z"
      },
      {
        "duration": 4,
        "start_time": "2023-03-22T10:47:23.976Z"
      },
      {
        "duration": 8390,
        "start_time": "2023-03-22T10:47:23.989Z"
      },
      {
        "duration": 60,
        "start_time": "2023-03-22T10:47:32.381Z"
      },
      {
        "duration": 19,
        "start_time": "2023-03-22T10:47:32.443Z"
      },
      {
        "duration": 13,
        "start_time": "2023-03-22T10:47:32.464Z"
      },
      {
        "duration": 94,
        "start_time": "2023-03-22T10:47:32.478Z"
      },
      {
        "duration": 8,
        "start_time": "2023-03-22T10:47:32.574Z"
      },
      {
        "duration": 191,
        "start_time": "2023-03-22T10:47:32.586Z"
      },
      {
        "duration": 3,
        "start_time": "2023-03-22T10:47:32.778Z"
      },
      {
        "duration": 175,
        "start_time": "2023-03-22T10:47:32.787Z"
      },
      {
        "duration": 9,
        "start_time": "2023-03-22T10:47:32.964Z"
      },
      {
        "duration": 14,
        "start_time": "2023-03-22T10:47:32.976Z"
      },
      {
        "duration": 18,
        "start_time": "2023-03-22T10:47:32.992Z"
      },
      {
        "duration": 5,
        "start_time": "2023-03-22T10:47:33.012Z"
      },
      {
        "duration": 139,
        "start_time": "2023-03-22T10:47:33.020Z"
      },
      {
        "duration": 8,
        "start_time": "2023-03-22T10:47:33.161Z"
      },
      {
        "duration": 148,
        "start_time": "2023-03-22T10:47:33.170Z"
      },
      {
        "duration": 3,
        "start_time": "2023-03-22T10:47:33.320Z"
      },
      {
        "duration": 1272,
        "start_time": "2023-03-22T10:47:33.325Z"
      },
      {
        "duration": 12,
        "start_time": "2023-03-22T10:47:34.599Z"
      },
      {
        "duration": 8,
        "start_time": "2023-03-22T10:47:34.613Z"
      },
      {
        "duration": 93,
        "start_time": "2023-03-22T10:47:34.622Z"
      },
      {
        "duration": 10,
        "start_time": "2023-03-22T10:47:34.717Z"
      },
      {
        "duration": 10,
        "start_time": "2023-03-22T10:47:34.729Z"
      },
      {
        "duration": 39,
        "start_time": "2023-03-22T10:47:34.741Z"
      },
      {
        "duration": 5,
        "start_time": "2023-03-22T10:47:34.782Z"
      },
      {
        "duration": 4,
        "start_time": "2023-03-22T10:47:34.789Z"
      },
      {
        "duration": 4,
        "start_time": "2023-03-22T10:47:34.795Z"
      },
      {
        "duration": 1243,
        "start_time": "2023-03-22T10:47:34.801Z"
      },
      {
        "duration": 12,
        "start_time": "2023-03-22T10:47:36.046Z"
      },
      {
        "duration": 3,
        "start_time": "2023-03-22T10:47:36.060Z"
      },
      {
        "duration": 275,
        "start_time": "2023-03-22T10:47:36.065Z"
      },
      {
        "duration": 10,
        "start_time": "2023-03-22T10:47:36.342Z"
      },
      {
        "duration": 437,
        "start_time": "2023-03-22T10:47:36.353Z"
      },
      {
        "duration": 3,
        "start_time": "2023-03-22T10:47:36.792Z"
      },
      {
        "duration": 84,
        "start_time": "2023-03-22T10:47:36.798Z"
      },
      {
        "duration": 10,
        "start_time": "2023-03-22T10:47:36.886Z"
      },
      {
        "duration": 185,
        "start_time": "2023-03-22T10:47:36.898Z"
      },
      {
        "duration": 3,
        "start_time": "2023-03-22T10:47:37.090Z"
      },
      {
        "duration": 146,
        "start_time": "2023-03-22T10:47:37.094Z"
      },
      {
        "duration": 7,
        "start_time": "2023-03-22T10:47:37.242Z"
      }
    ],
    "colab": {
      "provenance": []
    },
    "kernelspec": {
      "display_name": "Python 3 (ipykernel)",
      "language": "python",
      "name": "python3"
    },
    "language_info": {
      "codemirror_mode": {
        "name": "ipython",
        "version": 3
      },
      "file_extension": ".py",
      "mimetype": "text/x-python",
      "name": "python",
      "nbconvert_exporter": "python",
      "pygments_lexer": "ipython3",
      "version": "3.9.5"
    },
    "toc": {
      "base_numbering": 1,
      "nav_menu": {},
      "number_sections": true,
      "sideBar": true,
      "skip_h1_title": true,
      "title_cell": "Table of Contents",
      "title_sidebar": "Contents",
      "toc_cell": false,
      "toc_position": {},
      "toc_section_display": true,
      "toc_window_display": false
    }
  },
  "nbformat": 4,
  "nbformat_minor": 0
}