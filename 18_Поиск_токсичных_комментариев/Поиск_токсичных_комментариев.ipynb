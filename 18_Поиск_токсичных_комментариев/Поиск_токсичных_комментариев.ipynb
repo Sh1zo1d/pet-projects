{
  "cells": [
    {
      "cell_type": "markdown",
      "metadata": {
        "id": "KEsDLRLQCqrs"
      },
      "source": [
        "# Проект для «Викишоп»"
      ]
    },
    {
      "cell_type": "markdown",
      "metadata": {
        "id": "Y7Sg9wtrCqrs"
      },
      "source": [
        "Интернет-магазин «Викишоп» запускает новый сервис. Теперь пользователи могут редактировать и дополнять описания товаров, как в вики-сообществах. То есть клиенты предлагают свои правки и комментируют изменения других. Магазину нужен инструмент, который будет искать токсичные комментарии и отправлять их на модерацию.\n",
        "\n",
        "Обучите модель классифицировать комментарии на позитивные и негативные. В вашем распоряжении набор данных с разметкой о токсичности правок.\n",
        "\n",
        "Постройте модель со значением метрики качества *F1* не меньше 0.75.\n",
        "\n",
        "**Инструкция по выполнению проекта**\n",
        "\n",
        "1. Загрузите и подготовьте данные.\n",
        "2. Обучите разные модели.\n",
        "3. Сделайте выводы.\n",
        "\n",
        "Для выполнения проекта применять *BERT* необязательно, но вы можете попробовать.\n",
        "\n",
        "**Описание данных**\n",
        "\n",
        "Данные находятся в файле `toxic_comments.csv`. Столбец *text* в нём содержит текст комментария, а *toxic* — целевой признак."
      ]
    },
    {
      "cell_type": "markdown",
      "metadata": {
        "id": "SKYT9ezpCqrs"
      },
      "source": [
        "## Подготовка"
      ]
    },
    {
      "cell_type": "code",
      "execution_count": null,
      "metadata": {
        "id": "65ljisf_Cqrs",
        "outputId": "90809383-9bb1-4b96-9917-02913fce2cf9"
      },
      "outputs": [
        {
          "name": "stdout",
          "output_type": "stream",
          "text": [
            "Requirement already satisfied: pandas in /opt/conda/lib/python3.9/site-packages (1.2.4)\n",
            "Requirement already satisfied: python-dateutil>=2.7.3 in /opt/conda/lib/python3.9/site-packages (from pandas) (2.8.1)\n",
            "Requirement already satisfied: pytz>=2017.3 in /opt/conda/lib/python3.9/site-packages (from pandas) (2021.1)\n",
            "Requirement already satisfied: numpy>=1.16.5 in /opt/conda/lib/python3.9/site-packages (from pandas) (1.21.1)\n",
            "Requirement already satisfied: six>=1.5 in /opt/conda/lib/python3.9/site-packages (from python-dateutil>=2.7.3->pandas) (1.16.0)\n",
            "\u001b[31mERROR: Could not find a version that satisfies the requirement warnings (from versions: none)\u001b[0m\n",
            "\u001b[31mERROR: No matching distribution found for warnings\u001b[0m\n",
            "Requirement already satisfied: numpy in /opt/conda/lib/python3.9/site-packages (1.21.1)\n",
            "Collecting optuna\n",
            "  Downloading optuna-3.2.0-py3-none-any.whl (390 kB)\n",
            "\u001b[K     |████████████████████████████████| 390 kB 951 kB/s eta 0:00:01\n",
            "\u001b[?25hRequirement already satisfied: PyYAML in /opt/conda/lib/python3.9/site-packages (from optuna) (6.0)\n",
            "Requirement already satisfied: tqdm in /opt/conda/lib/python3.9/site-packages (from optuna) (4.61.2)\n",
            "Requirement already satisfied: packaging>=20.0 in /opt/conda/lib/python3.9/site-packages (from optuna) (21.3)\n",
            "Collecting colorlog\n",
            "  Downloading colorlog-6.7.0-py2.py3-none-any.whl (11 kB)\n",
            "Requirement already satisfied: sqlalchemy>=1.3.0 in /opt/conda/lib/python3.9/site-packages (from optuna) (1.4.20)\n",
            "Requirement already satisfied: numpy in /opt/conda/lib/python3.9/site-packages (from optuna) (1.21.1)\n",
            "Collecting cmaes>=0.9.1\n",
            "  Downloading cmaes-0.9.1-py3-none-any.whl (21 kB)\n",
            "Requirement already satisfied: alembic>=1.5.0 in /opt/conda/lib/python3.9/site-packages (from optuna) (1.6.5)\n",
            "Requirement already satisfied: python-dateutil in /opt/conda/lib/python3.9/site-packages (from alembic>=1.5.0->optuna) (2.8.1)\n",
            "Requirement already satisfied: python-editor>=0.3 in /opt/conda/lib/python3.9/site-packages (from alembic>=1.5.0->optuna) (1.0.4)\n",
            "Requirement already satisfied: Mako in /opt/conda/lib/python3.9/site-packages (from alembic>=1.5.0->optuna) (1.1.4)\n",
            "Requirement already satisfied: pyparsing!=3.0.5,>=2.0.2 in /opt/conda/lib/python3.9/site-packages (from packaging>=20.0->optuna) (2.4.7)\n",
            "Requirement already satisfied: greenlet!=0.4.17 in /opt/conda/lib/python3.9/site-packages (from sqlalchemy>=1.3.0->optuna) (1.1.0)\n",
            "Requirement already satisfied: MarkupSafe>=0.9.2 in /opt/conda/lib/python3.9/site-packages (from Mako->alembic>=1.5.0->optuna) (2.1.1)\n",
            "Requirement already satisfied: six>=1.5 in /opt/conda/lib/python3.9/site-packages (from python-dateutil->alembic>=1.5.0->optuna) (1.16.0)\n",
            "Installing collected packages: colorlog, cmaes, optuna\n",
            "Successfully installed cmaes-0.9.1 colorlog-6.7.0 optuna-3.2.0\n",
            "\u001b[31mERROR: Could not find a version that satisfies the requirement re (from versions: none)\u001b[0m\n",
            "\u001b[31mERROR: No matching distribution found for re\u001b[0m\n",
            "\u001b[31mERROR: Could not find a version that satisfies the requirement collections (from versions: none)\u001b[0m\n",
            "\u001b[31mERROR: No matching distribution found for collections\u001b[0m\n",
            "Requirement already satisfied: torch in /opt/conda/lib/python3.9/site-packages (1.10.0)\n",
            "Requirement already satisfied: typing-extensions in /opt/conda/lib/python3.9/site-packages (from torch) (4.3.0)\n",
            "\u001b[31mERROR: Could not find a version that satisfies the requirement math (from versions: none)\u001b[0m\n",
            "\u001b[31mERROR: No matching distribution found for math\u001b[0m\n",
            "Requirement already satisfied: matplotlib in /opt/conda/lib/python3.9/site-packages (3.3.4)\n",
            "Requirement already satisfied: kiwisolver>=1.0.1 in /opt/conda/lib/python3.9/site-packages (from matplotlib) (1.4.4)\n",
            "Requirement already satisfied: cycler>=0.10 in /opt/conda/lib/python3.9/site-packages (from matplotlib) (0.11.0)\n",
            "Requirement already satisfied: python-dateutil>=2.1 in /opt/conda/lib/python3.9/site-packages (from matplotlib) (2.8.1)\n",
            "Requirement already satisfied: numpy>=1.15 in /opt/conda/lib/python3.9/site-packages (from matplotlib) (1.21.1)\n",
            "Requirement already satisfied: pillow>=6.2.0 in /opt/conda/lib/python3.9/site-packages (from matplotlib) (8.4.0)\n",
            "Requirement already satisfied: pyparsing!=2.0.4,!=2.1.2,!=2.1.6,>=2.0.3 in /opt/conda/lib/python3.9/site-packages (from matplotlib) (2.4.7)\n",
            "Requirement already satisfied: six>=1.5 in /opt/conda/lib/python3.9/site-packages (from python-dateutil>=2.1->matplotlib) (1.16.0)\n",
            "Collecting sklearn\n",
            "  Downloading sklearn-0.0.post5.tar.gz (3.7 kB)\n",
            "Building wheels for collected packages: sklearn\n",
            "  Building wheel for sklearn (setup.py) ... \u001b[?25ldone\n",
            "\u001b[?25h  Created wheel for sklearn: filename=sklearn-0.0.post5-py3-none-any.whl size=2360 sha256=2976b85d21c6dea719eef8fbce3f56cd1552ac8c696b23097610be78f8cfec46\n",
            "  Stored in directory: /home/jovyan/.cache/pip/wheels/36/49/c9/2374f1dee1b599effabf63d948635e6608f62d0ccde027b7e2\n",
            "Successfully built sklearn\n",
            "Installing collected packages: sklearn\n",
            "Successfully installed sklearn-0.0.post5\n",
            "Requirement already satisfied: spacy in /opt/conda/lib/python3.9/site-packages (3.2.0)\n",
            "Requirement already satisfied: typer<0.5.0,>=0.3.0 in /opt/conda/lib/python3.9/site-packages (from spacy) (0.4.2)\n",
            "Requirement already satisfied: numpy>=1.15.0 in /opt/conda/lib/python3.9/site-packages (from spacy) (1.21.1)\n",
            "Requirement already satisfied: srsly<3.0.0,>=2.4.1 in /opt/conda/lib/python3.9/site-packages (from spacy) (2.4.4)\n",
            "Requirement already satisfied: wasabi<1.1.0,>=0.8.1 in /opt/conda/lib/python3.9/site-packages (from spacy) (0.10.1)\n",
            "Requirement already satisfied: catalogue<2.1.0,>=2.0.6 in /opt/conda/lib/python3.9/site-packages (from spacy) (2.0.8)\n",
            "Requirement already satisfied: preshed<3.1.0,>=3.0.2 in /opt/conda/lib/python3.9/site-packages (from spacy) (3.0.7)\n",
            "Requirement already satisfied: requests<3.0.0,>=2.13.0 in /opt/conda/lib/python3.9/site-packages (from spacy) (2.25.1)\n",
            "Requirement already satisfied: cymem<2.1.0,>=2.0.2 in /opt/conda/lib/python3.9/site-packages (from spacy) (2.0.6)\n",
            "Requirement already satisfied: pathy>=0.3.5 in /opt/conda/lib/python3.9/site-packages (from spacy) (0.6.2)\n",
            "Requirement already satisfied: pydantic!=1.8,!=1.8.1,<1.9.0,>=1.7.4 in /opt/conda/lib/python3.9/site-packages (from spacy) (1.8.2)\n",
            "Requirement already satisfied: thinc<8.1.0,>=8.0.12 in /opt/conda/lib/python3.9/site-packages (from spacy) (8.0.17)\n",
            "Requirement already satisfied: langcodes<4.0.0,>=3.2.0 in /opt/conda/lib/python3.9/site-packages (from spacy) (3.3.0)\n",
            "Requirement already satisfied: packaging>=20.0 in /opt/conda/lib/python3.9/site-packages (from spacy) (21.3)\n",
            "Requirement already satisfied: setuptools in /opt/conda/lib/python3.9/site-packages (from spacy) (49.6.0.post20210108)\n",
            "Requirement already satisfied: spacy-loggers<2.0.0,>=1.0.0 in /opt/conda/lib/python3.9/site-packages (from spacy) (1.0.3)\n",
            "Requirement already satisfied: murmurhash<1.1.0,>=0.28.0 in /opt/conda/lib/python3.9/site-packages (from spacy) (1.0.8)\n",
            "Requirement already satisfied: tqdm<5.0.0,>=4.38.0 in /opt/conda/lib/python3.9/site-packages (from spacy) (4.61.2)\n",
            "Requirement already satisfied: blis<0.8.0,>=0.4.0 in /opt/conda/lib/python3.9/site-packages (from spacy) (0.7.8)\n",
            "Requirement already satisfied: spacy-legacy<3.1.0,>=3.0.8 in /opt/conda/lib/python3.9/site-packages (from spacy) (3.0.10)\n",
            "Requirement already satisfied: jinja2 in /opt/conda/lib/python3.9/site-packages (from spacy) (3.0.1)\n",
            "Requirement already satisfied: pyparsing!=3.0.5,>=2.0.2 in /opt/conda/lib/python3.9/site-packages (from packaging>=20.0->spacy) (2.4.7)\n",
            "Requirement already satisfied: smart-open<6.0.0,>=5.2.1 in /opt/conda/lib/python3.9/site-packages (from pathy>=0.3.5->spacy) (5.2.1)\n",
            "Requirement already satisfied: typing-extensions>=3.7.4.3 in /opt/conda/lib/python3.9/site-packages (from pydantic!=1.8,!=1.8.1,<1.9.0,>=1.7.4->spacy) (4.3.0)\n",
            "Requirement already satisfied: idna<3,>=2.5 in /opt/conda/lib/python3.9/site-packages (from requests<3.0.0,>=2.13.0->spacy) (2.10)\n",
            "Requirement already satisfied: chardet<5,>=3.0.2 in /opt/conda/lib/python3.9/site-packages (from requests<3.0.0,>=2.13.0->spacy) (4.0.0)\n",
            "Requirement already satisfied: certifi>=2017.4.17 in /opt/conda/lib/python3.9/site-packages (from requests<3.0.0,>=2.13.0->spacy) (2022.6.15)\n",
            "Requirement already satisfied: urllib3<1.27,>=1.21.1 in /opt/conda/lib/python3.9/site-packages (from requests<3.0.0,>=2.13.0->spacy) (1.26.6)\n",
            "Requirement already satisfied: click<9.0.0,>=7.1.1 in /opt/conda/lib/python3.9/site-packages (from typer<0.5.0,>=0.3.0->spacy) (8.1.3)\n",
            "Requirement already satisfied: MarkupSafe>=2.0 in /opt/conda/lib/python3.9/site-packages (from jinja2->spacy) (2.1.1)\n",
            "Requirement already satisfied: tqdm in /opt/conda/lib/python3.9/site-packages (4.61.2)\n",
            "Requirement already satisfied: nltk in /opt/conda/lib/python3.9/site-packages (3.6.1)\n",
            "Requirement already satisfied: regex in /opt/conda/lib/python3.9/site-packages (from nltk) (2022.8.17)\n",
            "Requirement already satisfied: click in /opt/conda/lib/python3.9/site-packages (from nltk) (8.1.3)\n",
            "Requirement already satisfied: joblib in /opt/conda/lib/python3.9/site-packages (from nltk) (1.1.0)\n",
            "Requirement already satisfied: tqdm in /opt/conda/lib/python3.9/site-packages (from nltk) (4.61.2)\n",
            "Collecting imblearn\n",
            "  Downloading imblearn-0.0-py2.py3-none-any.whl (1.9 kB)\n",
            "Collecting imbalanced-learn\n",
            "  Downloading imbalanced_learn-0.10.1-py3-none-any.whl (226 kB)\n",
            "\u001b[K     |████████████████████████████████| 226 kB 1.0 MB/s eta 0:00:01\n",
            "\u001b[?25hCollecting scikit-learn>=1.0.2\n",
            "  Downloading scikit_learn-1.2.2-cp39-cp39-manylinux_2_17_x86_64.manylinux2014_x86_64.whl (9.6 MB)\n",
            "\u001b[K     |████████████████████████████████| 9.6 MB 2.6 MB/s eta 0:00:01\n",
            "\u001b[?25hRequirement already satisfied: scipy>=1.3.2 in /opt/conda/lib/python3.9/site-packages (from imbalanced-learn->imblearn) (1.9.1)\n",
            "Collecting joblib>=1.1.1\n",
            "  Downloading joblib-1.2.0-py3-none-any.whl (297 kB)\n",
            "\u001b[K     |████████████████████████████████| 297 kB 9.8 MB/s eta 0:00:01\n",
            "\u001b[?25hRequirement already satisfied: threadpoolctl>=2.0.0 in /opt/conda/lib/python3.9/site-packages (from imbalanced-learn->imblearn) (3.1.0)\n",
            "Requirement already satisfied: numpy>=1.17.3 in /opt/conda/lib/python3.9/site-packages (from imbalanced-learn->imblearn) (1.21.1)\n",
            "Installing collected packages: joblib, scikit-learn, imbalanced-learn, imblearn\n",
            "  Attempting uninstall: joblib\n",
            "    Found existing installation: joblib 1.1.0\n",
            "    Uninstalling joblib-1.1.0:\n",
            "      Successfully uninstalled joblib-1.1.0\n",
            "  Attempting uninstall: scikit-learn\n",
            "    Found existing installation: scikit-learn 0.24.1\n",
            "    Uninstalling scikit-learn-0.24.1:\n",
            "      Successfully uninstalled scikit-learn-0.24.1\n",
            "Successfully installed imbalanced-learn-0.10.1 imblearn-0.0 joblib-1.2.0 scikit-learn-1.2.2\n"
          ]
        }
      ],
      "source": [
        "!pip install pandas\n",
        "!pip install warnings\n",
        "!pip install numpy\n",
        "!pip install optuna\n",
        "!pip install re\n",
        "!pip install collections\n",
        "!pip install torch\n",
        "!pip install math\n",
        "!pip install matplotlib\n",
        "!pip install sklearn\n",
        "!pip install spacy\n",
        "!pip install tqdm\n",
        "!pip install nltk\n",
        "!pip install imblearn"
      ]
    },
    {
      "cell_type": "code",
      "execution_count": null,
      "metadata": {
        "id": "ejVC5nQtCqrv"
      },
      "outputs": [],
      "source": [
        "import pandas as pd\n",
        "import warnings\n",
        "from sklearn.model_selection import train_test_split,cross_val_score,cross_val_predict\n",
        "import numpy as np\n",
        "import optuna\n",
        "import re\n",
        "from collections import Counter\n",
        "from sklearn.metrics import accuracy_score,recall_score, fbeta_score,roc_auc_score,make_scorer\n",
        "from sklearn.metrics import f1_score, precision_score,classification_report,balanced_accuracy_score\n",
        "import nltk\n",
        "from sklearn.linear_model import LogisticRegression\n",
        "from sklearn.ensemble import RandomForestClassifier\n",
        "from nltk.corpus import stopwords\n",
        "import torch\n",
        "from nltk.corpus import stopwords\n",
        "from nltk.tokenize import word_tokenize\n",
        "from sklearn.feature_extraction.text import CountVectorizer\n",
        "from math  import ceil\n",
        "from sklearn.utils.class_weight import compute_class_weight\n",
        "from sklearn.utils import shuffle\n",
        "from catboost import CatBoostClassifier\n",
        "from sklearn.model_selection import GridSearchCV\n",
        "import matplotlib.pyplot as plt\n",
        "from sklearn.feature_extraction.text import TfidfVectorizer\n",
        "from nltk.stem import WordNetLemmatizer\n",
        "import spacy\n",
        "from tqdm import tqdm\n",
        "from nltk.corpus import wordnet\n",
        "from sklearn.tree import DecisionTreeClassifier\n",
        "from imblearn.pipeline import Pipeline as imbPipeline\n",
        "from sklearn.pipeline import Pipeline\n",
        "from sklearn.experimental import enable_halving_search_cv\n",
        "from sklearn.model_selection import HalvingGridSearchCV\n",
        "from imblearn.over_sampling import RandomOverSampler\n",
        "from imblearn.under_sampling import RandomUnderSampler\n",
        "from sklearn.metrics import RocCurveDisplay,ConfusionMatrixDisplay\n"
      ]
    },
    {
      "cell_type": "code",
      "execution_count": null,
      "metadata": {
        "id": "u1SJofdxCqrv"
      },
      "outputs": [],
      "source": []
    },
    {
      "cell_type": "code",
      "execution_count": null,
      "metadata": {
        "id": "DLbyykRzCqrw",
        "outputId": "73d57672-c760-4978-fd9a-ae3ae15ed394"
      },
      "outputs": [
        {
          "name": "stderr",
          "output_type": "stream",
          "text": [
            "[nltk_data] Downloading package wordnet to /home/jovyan/nltk_data...\n",
            "[nltk_data]   Package wordnet is already up-to-date!\n",
            "[nltk_data] Downloading package averaged_perceptron_tagger to\n",
            "[nltk_data]     /home/jovyan/nltk_data...\n",
            "[nltk_data]   Unzipping taggers/averaged_perceptron_tagger.zip.\n"
          ]
        },
        {
          "data": {
            "text/plain": [
              "True"
            ]
          },
          "execution_count": 4,
          "metadata": {},
          "output_type": "execute_result"
        }
      ],
      "source": [
        "nltk.download('wordnet')\n",
        "nltk.download('averaged_perceptron_tagger')"
      ]
    },
    {
      "cell_type": "code",
      "execution_count": null,
      "metadata": {
        "id": "9WDgsj2XCqrw"
      },
      "outputs": [],
      "source": [
        "warnings.filterwarnings('ignore')\n"
      ]
    },
    {
      "cell_type": "code",
      "execution_count": null,
      "metadata": {
        "id": "iiOsXOniCqrw"
      },
      "outputs": [],
      "source": [
        "# функция для подсчетов типов\n",
        "def counter_of_type(data):\n",
        "    return Counter(data.dtypes)\n",
        ""
      ]
    },
    {
      "cell_type": "code",
      "execution_count": null,
      "metadata": {
        "id": "XotazZgeCqrw"
      },
      "outputs": [],
      "source": [
        "# Функция для ознакомления с данными\n",
        "def preview(data,n_row=4,\n",
        "             head=True,\n",
        "             info=True,\n",
        "             columns=True,\n",
        "             shape=True,\n",
        "             isna=True,\n",
        "             duplicated=True,\n",
        "             dtypes_=True,\n",
        "            describe_=True,\n",
        "           clear_duples=True,\n",
        "           lower_and_sep_col=True):\n",
        "    global dct_nan\n",
        "    global df_nan_columns\n",
        "    dct_nan = {}\n",
        "    if head:\n",
        "        print(f'First {n_row} row(s) in the head of data')\n",
        "        display(data.head(n_row))\n",
        "        print('-'*30)\n",
        "    if info:\n",
        "        print('Data Information:')\n",
        "        display(data.info())\n",
        "        print('-'*30)\n",
        "    if columns:\n",
        "        print('Data columns:')\n",
        "        display(data.columns)\n",
        "        if lower_and_sep_col:\n",
        "            COLUMN_REG = \"(\\w) (\\w)\"\n",
        "            repl = r\"\\1_\\2\"\n",
        "            data.columns = list(map(lambda x: re.sub(COLUMN_REG,repl,x).lower(),data.columns))\n",
        "            print('Lowered and sepperated by words columns:')\n",
        "            print(data.columns)\n",
        "            print('-'*30)\n",
        "    if shape:\n",
        "        print('Data shape:')\n",
        "        display(data.shape)\n",
        "        print('-'*30)\n",
        "    if isna:\n",
        "        print('Data isna by row mean:')\n",
        "        display(data.isna().mean())\n",
        "        print()\n",
        "        tmp = data.isna().mean()\n",
        "        for i in range(len(tmp)):\n",
        "\n",
        "            if tmp[i] > 0:\n",
        "                dct_nan[tmp.index[i]] = tmp[i]\n",
        "        if tmp.sum() > 0:\n",
        "            df_nan_columns = pd.DataFrame.from_dict(dct_nan.items())\n",
        "            df_nan_columns.columns = ['column','rate_of_nan']\n",
        "            display(df_nan_columns)\n",
        "        print('-'*30)\n",
        "    if duplicated:\n",
        "        print('Data clear duplicates sum:')\n",
        "        duplets = data.duplicated().sum()\n",
        "        display(duplets)\n",
        "        if duplets >1 and clear_duples:\n",
        "            data.drop_duplicates(inplace=True)\n",
        "            print('Successful delete of {0} duplicates'.format(duplets))\n",
        "        elif duplets == 1 and clear_duples:\n",
        "            data.drop_duplicates(inplace=True)\n",
        "            print('Successful delete of {0} duplicate'.format(duplets))\n",
        "        print('-'*30)\n",
        "    if dtypes_:\n",
        "        print('Data dtypes:')\n",
        "        display(data.dtypes)\n",
        "        print('Number of each type:')\n",
        "        print(counter_of_type(data))\n",
        "        print('-'*30)\n",
        "    if describe_:\n",
        "        print('Major statistics for data:')\n",
        "        display(data.describe())\n",
        ""
      ]
    },
    {
      "cell_type": "code",
      "execution_count": null,
      "metadata": {
        "id": "1wgP8DeUCqry"
      },
      "outputs": [],
      "source": [
        "data = pd.read_csv('/datasets/toxic_comments.csv',index_col=0)"
      ]
    },
    {
      "cell_type": "code",
      "execution_count": null,
      "metadata": {
        "id": "EKeUG6blCqry",
        "outputId": "ab966fe6-5bea-46d8-ab0f-2d84f5f99bf3"
      },
      "outputs": [
        {
          "name": "stdout",
          "output_type": "stream",
          "text": [
            "First 4 row(s) in the head of data\n"
          ]
        },
        {
          "data": {
            "text/html": [
              "<div>\n",
              "<style scoped>\n",
              "    .dataframe tbody tr th:only-of-type {\n",
              "        vertical-align: middle;\n",
              "    }\n",
              "\n",
              "    .dataframe tbody tr th {\n",
              "        vertical-align: top;\n",
              "    }\n",
              "\n",
              "    .dataframe thead th {\n",
              "        text-align: right;\n",
              "    }\n",
              "</style>\n",
              "<table border=\"1\" class=\"dataframe\">\n",
              "  <thead>\n",
              "    <tr style=\"text-align: right;\">\n",
              "      <th></th>\n",
              "      <th>text</th>\n",
              "      <th>toxic</th>\n",
              "    </tr>\n",
              "  </thead>\n",
              "  <tbody>\n",
              "    <tr>\n",
              "      <th>0</th>\n",
              "      <td>Explanation\\nWhy the edits made under my usern...</td>\n",
              "      <td>0</td>\n",
              "    </tr>\n",
              "    <tr>\n",
              "      <th>1</th>\n",
              "      <td>D'aww! He matches this background colour I'm s...</td>\n",
              "      <td>0</td>\n",
              "    </tr>\n",
              "    <tr>\n",
              "      <th>2</th>\n",
              "      <td>Hey man, I'm really not trying to edit war. It...</td>\n",
              "      <td>0</td>\n",
              "    </tr>\n",
              "    <tr>\n",
              "      <th>3</th>\n",
              "      <td>\"\\nMore\\nI can't make any real suggestions on ...</td>\n",
              "      <td>0</td>\n",
              "    </tr>\n",
              "  </tbody>\n",
              "</table>\n",
              "</div>"
            ],
            "text/plain": [
              "                                                text  toxic\n",
              "0  Explanation\\nWhy the edits made under my usern...      0\n",
              "1  D'aww! He matches this background colour I'm s...      0\n",
              "2  Hey man, I'm really not trying to edit war. It...      0\n",
              "3  \"\\nMore\\nI can't make any real suggestions on ...      0"
            ]
          },
          "metadata": {},
          "output_type": "display_data"
        },
        {
          "name": "stdout",
          "output_type": "stream",
          "text": [
            "------------------------------\n",
            "Data Information:\n",
            "<class 'pandas.core.frame.DataFrame'>\n",
            "Int64Index: 159292 entries, 0 to 159450\n",
            "Data columns (total 2 columns):\n",
            " #   Column  Non-Null Count   Dtype \n",
            "---  ------  --------------   ----- \n",
            " 0   text    159292 non-null  object\n",
            " 1   toxic   159292 non-null  int64 \n",
            "dtypes: int64(1), object(1)\n",
            "memory usage: 3.6+ MB\n"
          ]
        },
        {
          "data": {
            "text/plain": [
              "None"
            ]
          },
          "metadata": {},
          "output_type": "display_data"
        },
        {
          "name": "stdout",
          "output_type": "stream",
          "text": [
            "------------------------------\n",
            "Data columns:\n"
          ]
        },
        {
          "data": {
            "text/plain": [
              "Index(['text', 'toxic'], dtype='object')"
            ]
          },
          "metadata": {},
          "output_type": "display_data"
        },
        {
          "name": "stdout",
          "output_type": "stream",
          "text": [
            "Data shape:\n"
          ]
        },
        {
          "data": {
            "text/plain": [
              "(159292, 2)"
            ]
          },
          "metadata": {},
          "output_type": "display_data"
        },
        {
          "name": "stdout",
          "output_type": "stream",
          "text": [
            "------------------------------\n",
            "Data isna by row mean:\n"
          ]
        },
        {
          "data": {
            "text/plain": [
              "text     0.0\n",
              "toxic    0.0\n",
              "dtype: float64"
            ]
          },
          "metadata": {},
          "output_type": "display_data"
        },
        {
          "name": "stdout",
          "output_type": "stream",
          "text": [
            "\n",
            "------------------------------\n",
            "Data clear duplicates sum:\n"
          ]
        },
        {
          "data": {
            "text/plain": [
              "0"
            ]
          },
          "metadata": {},
          "output_type": "display_data"
        },
        {
          "name": "stdout",
          "output_type": "stream",
          "text": [
            "------------------------------\n",
            "Data dtypes:\n"
          ]
        },
        {
          "data": {
            "text/plain": [
              "text     object\n",
              "toxic     int64\n",
              "dtype: object"
            ]
          },
          "metadata": {},
          "output_type": "display_data"
        },
        {
          "name": "stdout",
          "output_type": "stream",
          "text": [
            "Number of each type:\n",
            "Counter({dtype('O'): 1, dtype('int64'): 1})\n",
            "------------------------------\n",
            "Major statistics for data:\n"
          ]
        },
        {
          "data": {
            "text/html": [
              "<div>\n",
              "<style scoped>\n",
              "    .dataframe tbody tr th:only-of-type {\n",
              "        vertical-align: middle;\n",
              "    }\n",
              "\n",
              "    .dataframe tbody tr th {\n",
              "        vertical-align: top;\n",
              "    }\n",
              "\n",
              "    .dataframe thead th {\n",
              "        text-align: right;\n",
              "    }\n",
              "</style>\n",
              "<table border=\"1\" class=\"dataframe\">\n",
              "  <thead>\n",
              "    <tr style=\"text-align: right;\">\n",
              "      <th></th>\n",
              "      <th>toxic</th>\n",
              "    </tr>\n",
              "  </thead>\n",
              "  <tbody>\n",
              "    <tr>\n",
              "      <th>count</th>\n",
              "      <td>159292.000000</td>\n",
              "    </tr>\n",
              "    <tr>\n",
              "      <th>mean</th>\n",
              "      <td>0.101612</td>\n",
              "    </tr>\n",
              "    <tr>\n",
              "      <th>std</th>\n",
              "      <td>0.302139</td>\n",
              "    </tr>\n",
              "    <tr>\n",
              "      <th>min</th>\n",
              "      <td>0.000000</td>\n",
              "    </tr>\n",
              "    <tr>\n",
              "      <th>25%</th>\n",
              "      <td>0.000000</td>\n",
              "    </tr>\n",
              "    <tr>\n",
              "      <th>50%</th>\n",
              "      <td>0.000000</td>\n",
              "    </tr>\n",
              "    <tr>\n",
              "      <th>75%</th>\n",
              "      <td>0.000000</td>\n",
              "    </tr>\n",
              "    <tr>\n",
              "      <th>max</th>\n",
              "      <td>1.000000</td>\n",
              "    </tr>\n",
              "  </tbody>\n",
              "</table>\n",
              "</div>"
            ],
            "text/plain": [
              "               toxic\n",
              "count  159292.000000\n",
              "mean        0.101612\n",
              "std         0.302139\n",
              "min         0.000000\n",
              "25%         0.000000\n",
              "50%         0.000000\n",
              "75%         0.000000\n",
              "max         1.000000"
            ]
          },
          "metadata": {},
          "output_type": "display_data"
        }
      ],
      "source": [
        "preview(data,lower_and_sep_col=False)"
      ]
    },
    {
      "cell_type": "code",
      "execution_count": null,
      "metadata": {
        "id": "GONm2cV0Cqrz",
        "outputId": "438b2d3b-e154-447e-ae66-108ea5f52325"
      },
      "outputs": [
        {
          "data": {
            "text/plain": [
              "0.10161213369158527"
            ]
          },
          "execution_count": 10,
          "metadata": {},
          "output_type": "execute_result"
        }
      ],
      "source": [
        "data['toxic'].mean()"
      ]
    },
    {
      "cell_type": "code",
      "execution_count": null,
      "metadata": {
        "id": "wFflAz1qCqrz",
        "outputId": "9a0e63c1-50f2-4348-9e57-c0e57201eebb"
      },
      "outputs": [
        {
          "data": {
            "text/html": [
              "<div>\n",
              "<style scoped>\n",
              "    .dataframe tbody tr th:only-of-type {\n",
              "        vertical-align: middle;\n",
              "    }\n",
              "\n",
              "    .dataframe tbody tr th {\n",
              "        vertical-align: top;\n",
              "    }\n",
              "\n",
              "    .dataframe thead th {\n",
              "        text-align: right;\n",
              "    }\n",
              "</style>\n",
              "<table border=\"1\" class=\"dataframe\">\n",
              "  <thead>\n",
              "    <tr style=\"text-align: right;\">\n",
              "      <th></th>\n",
              "      <th>text</th>\n",
              "      <th>toxic</th>\n",
              "    </tr>\n",
              "  </thead>\n",
              "  <tbody>\n",
              "    <tr>\n",
              "      <th>0</th>\n",
              "      <td>Explanation\\nWhy the edits made under my usern...</td>\n",
              "      <td>0</td>\n",
              "    </tr>\n",
              "    <tr>\n",
              "      <th>1</th>\n",
              "      <td>D'aww! He matches this background colour I'm s...</td>\n",
              "      <td>0</td>\n",
              "    </tr>\n",
              "    <tr>\n",
              "      <th>2</th>\n",
              "      <td>Hey man, I'm really not trying to edit war. It...</td>\n",
              "      <td>0</td>\n",
              "    </tr>\n",
              "    <tr>\n",
              "      <th>3</th>\n",
              "      <td>\"\\nMore\\nI can't make any real suggestions on ...</td>\n",
              "      <td>0</td>\n",
              "    </tr>\n",
              "    <tr>\n",
              "      <th>4</th>\n",
              "      <td>You, sir, are my hero. Any chance you remember...</td>\n",
              "      <td>0</td>\n",
              "    </tr>\n",
              "  </tbody>\n",
              "</table>\n",
              "</div>"
            ],
            "text/plain": [
              "                                                text  toxic\n",
              "0  Explanation\\nWhy the edits made under my usern...      0\n",
              "1  D'aww! He matches this background colour I'm s...      0\n",
              "2  Hey man, I'm really not trying to edit war. It...      0\n",
              "3  \"\\nMore\\nI can't make any real suggestions on ...      0\n",
              "4  You, sir, are my hero. Any chance you remember...      0"
            ]
          },
          "execution_count": 11,
          "metadata": {},
          "output_type": "execute_result"
        }
      ],
      "source": [
        "data.head()"
      ]
    },
    {
      "cell_type": "code",
      "execution_count": null,
      "metadata": {
        "id": "xacGz4CRCqrz"
      },
      "outputs": [],
      "source": [
        "LETTER_CLEAN = r\"[^a-zA-Z']\"\n"
      ]
    },
    {
      "cell_type": "code",
      "execution_count": null,
      "metadata": {
        "id": "CVOcfY9hCqr0"
      },
      "outputs": [],
      "source": [
        "sep = ' '"
      ]
    },
    {
      "cell_type": "code",
      "execution_count": null,
      "metadata": {
        "id": "swssbT1vCqr0"
      },
      "outputs": [],
      "source": [
        "def cleaner(text, cleaner_):\n",
        "    return re.sub(cleaner_, ' ', text)"
      ]
    },
    {
      "cell_type": "code",
      "execution_count": null,
      "metadata": {
        "id": "bab22bbd"
      },
      "outputs": [],
      "source": [
        "\n",
        "\n",
        "data['text']= data['text'].apply(cleaner, cleaner_=LETTER_CLEAN)"
      ]
    },
    {
      "cell_type": "code",
      "execution_count": null,
      "metadata": {
        "id": "a97da330"
      },
      "outputs": [],
      "source": [
        "# Удаление стоп-слов\n",
        "stop_words = set(stopwords.words(\"english\"))"
      ]
    },
    {
      "cell_type": "code",
      "execution_count": null,
      "metadata": {
        "id": "96d248c5"
      },
      "outputs": [],
      "source": [
        "\n",
        "\n",
        "def tokenise_text(text):\n",
        "    # Токенизация текста\n",
        "    pattern = r\"\\b\\w+(?:'\\w+)?\\b\"\n",
        "    tokens = re.findall(pattern, text.lower().strip())\n",
        "    return tokens\n"
      ]
    },
    {
      "cell_type": "code",
      "execution_count": null,
      "metadata": {
        "scrolled": false,
        "id": "194ee009"
      },
      "outputs": [],
      "source": [
        "data['text'] = data['text'].apply(tokenise_text)"
      ]
    },
    {
      "cell_type": "code",
      "execution_count": null,
      "metadata": {
        "id": "j5BCXNOoCqr0"
      },
      "outputs": [],
      "source": [
        "\n",
        "\n",
        "def remove_stopwords(text):\n",
        "    filtered_tokens = [token for token in text if token not in stop_words]  # Удаление стоп-слов\n",
        "    return ' '.join(filtered_tokens)\n"
      ]
    },
    {
      "cell_type": "code",
      "execution_count": null,
      "metadata": {
        "scrolled": true,
        "id": "r7hp13_nCqr0"
      },
      "outputs": [],
      "source": [
        "data['text'] =data['text'].apply(remove_stopwords)"
      ]
    },
    {
      "cell_type": "code",
      "execution_count": null,
      "metadata": {
        "scrolled": false,
        "id": "s7RqayhiCqr0",
        "outputId": "454e67c0-582d-4c5f-d503-25fced3ed3f3"
      },
      "outputs": [
        {
          "data": {
            "text/plain": [
              "0    143106\n",
              "1     16186\n",
              "Name: toxic, dtype: int64"
            ]
          },
          "execution_count": 21,
          "metadata": {},
          "output_type": "execute_result"
        }
      ],
      "source": [
        "data['toxic'].value_counts()"
      ]
    },
    {
      "cell_type": "code",
      "execution_count": null,
      "metadata": {
        "scrolled": true,
        "id": "_bEJlmZ0Cqr1",
        "outputId": "38c2dc24-24e2-4c1c-9f95-d1f8b1ae56b1"
      },
      "outputs": [
        {
          "data": {
            "text/plain": [
              "0         explanation edits made username hardcore metal...\n",
              "1         d'aww matches background colour i'm seemingly ...\n",
              "2         hey man i'm really trying edit war guy constan...\n",
              "3         can't make real suggestions improvement wonder...\n",
              "4                      sir hero chance remember page that's\n",
              "                                ...                        \n",
              "159446    second time asking view completely contradicts...\n",
              "159447                 ashamed horrible thing put talk page\n",
              "159448    spitzer umm theres actual article prostitution...\n",
              "159449    looks like actually put speedy first version d...\n",
              "159450    really think understand came idea bad right aw...\n",
              "Name: text, Length: 159292, dtype: object"
            ]
          },
          "execution_count": 22,
          "metadata": {},
          "output_type": "execute_result"
        }
      ],
      "source": [
        "data['text']"
      ]
    },
    {
      "cell_type": "code",
      "execution_count": null,
      "metadata": {
        "id": "Rum4sKGuCqr1"
      },
      "outputs": [],
      "source": [
        "def get_wordnet_pos(word):\n",
        "    tag = nltk.pos_tag([word])[0][1][0].upper()\n",
        "    tag_dict = {\"J\": wordnet.ADJ,\n",
        "                \"N\": wordnet.NOUN,\n",
        "                \"V\": wordnet.VERB,\n",
        "                \"R\": wordnet.ADV}\n",
        "    return tag_dict.get(tag, wordnet.NOUN)"
      ]
    },
    {
      "cell_type": "code",
      "execution_count": null,
      "metadata": {
        "id": "9-foH7FACqr1"
      },
      "outputs": [],
      "source": [
        "lemmatizer = WordNetLemmatizer()"
      ]
    },
    {
      "cell_type": "code",
      "execution_count": null,
      "metadata": {
        "id": "-I9Pqo5zCqr1"
      },
      "outputs": [],
      "source": [
        "def lemmatize_text(text):\n",
        "    lemmatizer = nltk.WordNetLemmatizer()\n",
        "    lemmatized_tokens = []\n",
        "    for token in nltk.word_tokenize(text):\n",
        "        lemmatized_token = lemmatizer.lemmatize(token, get_wordnet_pos(token))\n",
        "        lemmatized_tokens.append(lemmatized_token)\n",
        "    return ' '.join(lemmatized_tokens)\n",
        "\n"
      ]
    },
    {
      "cell_type": "code",
      "execution_count": null,
      "metadata": {
        "id": "qIqnr7BaCqr1"
      },
      "outputs": [],
      "source": [
        "\n",
        "data['lemm_text'] = data['text'].apply(lambda x: lemmatize_text(x))\n"
      ]
    },
    {
      "cell_type": "code",
      "execution_count": null,
      "metadata": {
        "id": "ij2IJ5emCqr2",
        "outputId": "f1016978-4fbf-41ea-fd5b-bd2d83c9194d"
      },
      "outputs": [
        {
          "data": {
            "text/plain": [
              "0    explanation edits make username hardcore metal...\n",
              "1    d'aww match background colour i 'm seemingly s...\n",
              "2    hey man i 'm really try edit war guy constantl...\n",
              "3    ca n't make real suggestion improvement wonder...\n",
              "4                sir hero chance remember page that 's\n",
              "Name: lemm_text, dtype: object"
            ]
          },
          "execution_count": 27,
          "metadata": {},
          "output_type": "execute_result"
        }
      ],
      "source": [
        "# Вывод первых 5 строк с отфильтрованными данными\n",
        "data['lemm_text'].head()"
      ]
    },
    {
      "cell_type": "markdown",
      "metadata": {
        "id": "4SODW03YCqr2"
      },
      "source": [
        "## Обучение"
      ]
    },
    {
      "cell_type": "code",
      "execution_count": null,
      "metadata": {
        "id": "XH4Px1aiCqr2"
      },
      "outputs": [],
      "source": [
        "# для тестовой и валидационной выборках лучшей модели\n",
        "def metrics_check(target_valid,predict_valid):\n",
        "    print(f'Accuracy для тестовой выборки: {accuracy_score(target_valid,predict_valid)}')\n",
        "    print('-'*100)\n",
        "    print(f'Balanced accuracy для тестовой выборки: {balanced_accuracy_score(target_valid,predict_valid)}')\n",
        "    print('-'*100)\n",
        "    print(f'F1-score для тестовой выборки: {f1_score(target_valid,predict_valid)}')\n",
        "    print('-'*100)\n",
        "    print(f'Precision score для тестовой выборки: {precision_score(target_valid,predict_valid)}')\n",
        "    print('-'*100)\n",
        "    print(f'Recall score для тестовой выборки: {recall_score(target_valid,predict_valid)}')\n",
        "    print('-'*100)\n",
        "    print(f'F-beta score для тестовой выборки: {fbeta_score(target_valid,predict_valid,beta=1)}')\n",
        "    print('-'*100)"
      ]
    },
    {
      "cell_type": "code",
      "execution_count": null,
      "metadata": {
        "id": "6qPHE3ccCqr6"
      },
      "outputs": [],
      "source": [
        "def valuate(model_,features_train_,features_test_,target_train_,target_test_):\n",
        "\n",
        "    model_.fit(features_train_,target_train_)\n",
        "    predicted = model_.predict(features_test_)\n",
        "\n",
        "\n",
        "\n",
        "    print('-'*30)\n",
        "    print('Метрики')\n",
        "    metrics_check(target_test_,predicted)\n",
        "\n",
        "    print('-'*30)\n",
        "    print('Отчет по классификации')\n",
        "    print(classification_report(target_test_,predicted))"
      ]
    },
    {
      "cell_type": "markdown",
      "metadata": {
        "id": "ZKlogR9JCqr7"
      },
      "source": [
        "### stratify class_weight and upsampling"
      ]
    },
    {
      "cell_type": "code",
      "execution_count": null,
      "metadata": {
        "id": "NYHa4_MjCqr7"
      },
      "outputs": [],
      "source": [
        "rs=7"
      ]
    },
    {
      "cell_type": "code",
      "execution_count": null,
      "metadata": {
        "id": "7ekxPVB3Cqr7",
        "outputId": "a18b8f3d-56eb-4186-cc41-bcf1b80525ba"
      },
      "outputs": [
        {
          "data": {
            "text/html": [
              "<div>\n",
              "<style scoped>\n",
              "    .dataframe tbody tr th:only-of-type {\n",
              "        vertical-align: middle;\n",
              "    }\n",
              "\n",
              "    .dataframe tbody tr th {\n",
              "        vertical-align: top;\n",
              "    }\n",
              "\n",
              "    .dataframe thead th {\n",
              "        text-align: right;\n",
              "    }\n",
              "</style>\n",
              "<table border=\"1\" class=\"dataframe\">\n",
              "  <thead>\n",
              "    <tr style=\"text-align: right;\">\n",
              "      <th></th>\n",
              "      <th>text</th>\n",
              "      <th>toxic</th>\n",
              "      <th>lemm_text</th>\n",
              "    </tr>\n",
              "  </thead>\n",
              "  <tbody>\n",
              "    <tr>\n",
              "      <th>0</th>\n",
              "      <td>explanation edits made username hardcore metal...</td>\n",
              "      <td>0</td>\n",
              "      <td>explanation edits make username hardcore metal...</td>\n",
              "    </tr>\n",
              "    <tr>\n",
              "      <th>1</th>\n",
              "      <td>d'aww matches background colour i'm seemingly ...</td>\n",
              "      <td>0</td>\n",
              "      <td>d'aww match background colour i 'm seemingly s...</td>\n",
              "    </tr>\n",
              "    <tr>\n",
              "      <th>2</th>\n",
              "      <td>hey man i'm really trying edit war guy constan...</td>\n",
              "      <td>0</td>\n",
              "      <td>hey man i 'm really try edit war guy constantl...</td>\n",
              "    </tr>\n",
              "    <tr>\n",
              "      <th>3</th>\n",
              "      <td>can't make real suggestions improvement wonder...</td>\n",
              "      <td>0</td>\n",
              "      <td>ca n't make real suggestion improvement wonder...</td>\n",
              "    </tr>\n",
              "    <tr>\n",
              "      <th>4</th>\n",
              "      <td>sir hero chance remember page that's</td>\n",
              "      <td>0</td>\n",
              "      <td>sir hero chance remember page that 's</td>\n",
              "    </tr>\n",
              "    <tr>\n",
              "      <th>...</th>\n",
              "      <td>...</td>\n",
              "      <td>...</td>\n",
              "      <td>...</td>\n",
              "    </tr>\n",
              "    <tr>\n",
              "      <th>159446</th>\n",
              "      <td>second time asking view completely contradicts...</td>\n",
              "      <td>0</td>\n",
              "      <td>second time ask view completely contradicts co...</td>\n",
              "    </tr>\n",
              "    <tr>\n",
              "      <th>159447</th>\n",
              "      <td>ashamed horrible thing put talk page</td>\n",
              "      <td>0</td>\n",
              "      <td>ashamed horrible thing put talk page</td>\n",
              "    </tr>\n",
              "    <tr>\n",
              "      <th>159448</th>\n",
              "      <td>spitzer umm theres actual article prostitution...</td>\n",
              "      <td>0</td>\n",
              "      <td>spitzer umm there actual article prostitution ...</td>\n",
              "    </tr>\n",
              "    <tr>\n",
              "      <th>159449</th>\n",
              "      <td>looks like actually put speedy first version d...</td>\n",
              "      <td>0</td>\n",
              "      <td>look like actually put speedy first version de...</td>\n",
              "    </tr>\n",
              "    <tr>\n",
              "      <th>159450</th>\n",
              "      <td>really think understand came idea bad right aw...</td>\n",
              "      <td>0</td>\n",
              "      <td>really think understand come idea bad right aw...</td>\n",
              "    </tr>\n",
              "  </tbody>\n",
              "</table>\n",
              "<p>159292 rows × 3 columns</p>\n",
              "</div>"
            ],
            "text/plain": [
              "                                                     text  toxic  \\\n",
              "0       explanation edits made username hardcore metal...      0   \n",
              "1       d'aww matches background colour i'm seemingly ...      0   \n",
              "2       hey man i'm really trying edit war guy constan...      0   \n",
              "3       can't make real suggestions improvement wonder...      0   \n",
              "4                    sir hero chance remember page that's      0   \n",
              "...                                                   ...    ...   \n",
              "159446  second time asking view completely contradicts...      0   \n",
              "159447               ashamed horrible thing put talk page      0   \n",
              "159448  spitzer umm theres actual article prostitution...      0   \n",
              "159449  looks like actually put speedy first version d...      0   \n",
              "159450  really think understand came idea bad right aw...      0   \n",
              "\n",
              "                                                lemm_text  \n",
              "0       explanation edits make username hardcore metal...  \n",
              "1       d'aww match background colour i 'm seemingly s...  \n",
              "2       hey man i 'm really try edit war guy constantl...  \n",
              "3       ca n't make real suggestion improvement wonder...  \n",
              "4                   sir hero chance remember page that 's  \n",
              "...                                                   ...  \n",
              "159446  second time ask view completely contradicts co...  \n",
              "159447               ashamed horrible thing put talk page  \n",
              "159448  spitzer umm there actual article prostitution ...  \n",
              "159449  look like actually put speedy first version de...  \n",
              "159450  really think understand come idea bad right aw...  \n",
              "\n",
              "[159292 rows x 3 columns]"
            ]
          },
          "execution_count": 31,
          "metadata": {},
          "output_type": "execute_result"
        }
      ],
      "source": [
        "data"
      ]
    },
    {
      "cell_type": "code",
      "execution_count": null,
      "metadata": {
        "scrolled": false,
        "id": "FOEmZJN5Cqr7",
        "outputId": "df37c6cf-9423-44d1-ba7f-557b5595c75a"
      },
      "outputs": [
        {
          "name": "stdout",
          "output_type": "stream",
          "text": [
            "<class 'pandas.core.frame.DataFrame'>\n",
            "Int64Index: 159292 entries, 0 to 159450\n",
            "Data columns (total 3 columns):\n",
            " #   Column     Non-Null Count   Dtype \n",
            "---  ------     --------------   ----- \n",
            " 0   text       159292 non-null  object\n",
            " 1   toxic      159292 non-null  int64 \n",
            " 2   lemm_text  159292 non-null  object\n",
            "dtypes: int64(1), object(2)\n",
            "memory usage: 4.9+ MB\n"
          ]
        }
      ],
      "source": [
        "data.info()"
      ]
    },
    {
      "cell_type": "code",
      "execution_count": null,
      "metadata": {
        "id": "je1lINgYCqr7"
      },
      "outputs": [],
      "source": [
        "features = data['lemm_text']\n",
        "target = data['toxic']"
      ]
    },
    {
      "cell_type": "code",
      "execution_count": null,
      "metadata": {
        "id": "D_kwncA0Cqr8"
      },
      "outputs": [],
      "source": [
        "features_train,features_test,target_train,target_test=train_test_split(features,\n",
        "                                                                       target,\n",
        "                                                                       test_size=0.3,\n",
        "                                                                       random_state=rs)"
      ]
    },
    {
      "cell_type": "code",
      "execution_count": null,
      "metadata": {
        "id": "wmlF3R_uCqr8"
      },
      "outputs": [],
      "source": [
        "corpus_lemm_train = features_train\n",
        "\n",
        "count_tf_idf = TfidfVectorizer(stop_words='english',analyzer='word')\n",
        "\n",
        "\n",
        "tf_idf_train = count_tf_idf.fit_transform(corpus_lemm_train)\n",
        "\n",
        "\n",
        "corpus_lemm_test = features_test.values\n",
        "\n",
        "\n",
        "tf_idf_test = count_tf_idf.transform(corpus_lemm_test)\n"
      ]
    },
    {
      "cell_type": "code",
      "execution_count": null,
      "metadata": {
        "scrolled": false,
        "id": "DQtnOt2fCqr8",
        "outputId": "6e3e094c-2b69-4a1c-d224-a6f236967271"
      },
      "outputs": [
        {
          "name": "stdout",
          "output_type": "stream",
          "text": [
            "n_iterations: 4\n",
            "n_required_iterations: 4\n",
            "n_possible_iterations: 4\n",
            "min_resources_: 4129\n",
            "max_resources_: 111504\n",
            "aggressive_elimination: False\n",
            "factor: 3\n",
            "----------\n",
            "iter: 0\n",
            "n_candidates: 27\n",
            "n_resources: 4129\n",
            "Fitting 3 folds for each of 27 candidates, totalling 81 fits\n",
            "[CV 1/3] END logreg__C=1, tfidf__max_df=0.25, tfidf__ngram_range=(1, 1);, score=(train=0.967, test=0.648) total time=   5.3s\n",
            "[CV 2/3] END logreg__C=1, tfidf__max_df=0.25, tfidf__ngram_range=(1, 1);, score=(train=0.980, test=0.710) total time=   2.1s\n",
            "[CV 3/3] END logreg__C=1, tfidf__max_df=0.25, tfidf__ngram_range=(1, 1);, score=(train=0.963, test=0.653) total time=   3.0s\n",
            "[CV 1/3] END logreg__C=1, tfidf__max_df=0.25, tfidf__ngram_range=(1, 2);, score=(train=0.996, test=0.625) total time=   7.2s\n",
            "[CV 2/3] END logreg__C=1, tfidf__max_df=0.25, tfidf__ngram_range=(1, 2);, score=(train=0.998, test=0.706) total time=   7.4s\n",
            "[CV 3/3] END logreg__C=1, tfidf__max_df=0.25, tfidf__ngram_range=(1, 2);, score=(train=0.998, test=0.596) total time=   8.2s\n",
            "[CV 1/3] END logreg__C=1, tfidf__max_df=0.25, tfidf__ngram_range=(1, 3);, score=(train=0.996, test=0.606) total time=  10.1s\n",
            "[CV 2/3] END logreg__C=1, tfidf__max_df=0.25, tfidf__ngram_range=(1, 3);, score=(train=0.998, test=0.720) total time=  18.3s\n",
            "[CV 3/3] END logreg__C=1, tfidf__max_df=0.25, tfidf__ngram_range=(1, 3);, score=(train=1.000, test=0.589) total time=  10.9s\n",
            "[CV 1/3] END logreg__C=1, tfidf__max_df=0.5, tfidf__ngram_range=(1, 1);, score=(train=0.967, test=0.648) total time=   1.2s\n",
            "[CV 2/3] END logreg__C=1, tfidf__max_df=0.5, tfidf__ngram_range=(1, 1);, score=(train=0.980, test=0.710) total time=   3.2s\n",
            "[CV 3/3] END logreg__C=1, tfidf__max_df=0.5, tfidf__ngram_range=(1, 1);, score=(train=0.963, test=0.653) total time=   1.5s\n",
            "[CV 1/3] END logreg__C=1, tfidf__max_df=0.5, tfidf__ngram_range=(1, 2);, score=(train=0.996, test=0.625) total time=   8.3s\n",
            "[CV 2/3] END logreg__C=1, tfidf__max_df=0.5, tfidf__ngram_range=(1, 2);, score=(train=0.998, test=0.706) total time=   6.7s\n",
            "[CV 3/3] END logreg__C=1, tfidf__max_df=0.5, tfidf__ngram_range=(1, 2);, score=(train=0.998, test=0.596) total time=   9.7s\n",
            "[CV 1/3] END logreg__C=1, tfidf__max_df=0.5, tfidf__ngram_range=(1, 3);, score=(train=0.996, test=0.606) total time=   9.4s\n",
            "[CV 2/3] END logreg__C=1, tfidf__max_df=0.5, tfidf__ngram_range=(1, 3);, score=(train=0.998, test=0.720) total time=  19.0s\n",
            "[CV 3/3] END logreg__C=1, tfidf__max_df=0.5, tfidf__ngram_range=(1, 3);, score=(train=1.000, test=0.589) total time=  10.8s\n",
            "[CV 1/3] END logreg__C=1, tfidf__max_df=0.75, tfidf__ngram_range=(1, 1);, score=(train=0.967, test=0.648) total time=   2.0s\n",
            "[CV 2/3] END logreg__C=1, tfidf__max_df=0.75, tfidf__ngram_range=(1, 1);, score=(train=0.980, test=0.710) total time=   1.4s\n",
            "[CV 3/3] END logreg__C=1, tfidf__max_df=0.75, tfidf__ngram_range=(1, 1);, score=(train=0.963, test=0.653) total time=   4.6s\n",
            "[CV 1/3] END logreg__C=1, tfidf__max_df=0.75, tfidf__ngram_range=(1, 2);, score=(train=0.996, test=0.625) total time=   8.7s\n",
            "[CV 2/3] END logreg__C=1, tfidf__max_df=0.75, tfidf__ngram_range=(1, 2);, score=(train=0.998, test=0.706) total time=   6.0s\n",
            "[CV 3/3] END logreg__C=1, tfidf__max_df=0.75, tfidf__ngram_range=(1, 2);, score=(train=0.998, test=0.596) total time=   9.0s\n",
            "[CV 1/3] END logreg__C=1, tfidf__max_df=0.75, tfidf__ngram_range=(1, 3);, score=(train=0.996, test=0.606) total time=   9.6s\n",
            "[CV 2/3] END logreg__C=1, tfidf__max_df=0.75, tfidf__ngram_range=(1, 3);, score=(train=0.998, test=0.720) total time=  16.5s\n",
            "[CV 3/3] END logreg__C=1, tfidf__max_df=0.75, tfidf__ngram_range=(1, 3);, score=(train=1.000, test=0.589) total time=   8.5s\n",
            "[CV 1/3] END logreg__C=2, tfidf__max_df=0.25, tfidf__ngram_range=(1, 1);, score=(train=0.981, test=0.645) total time=   3.8s\n",
            "[CV 2/3] END logreg__C=2, tfidf__max_df=0.25, tfidf__ngram_range=(1, 1);, score=(train=0.992, test=0.719) total time=   2.5s\n",
            "[CV 3/3] END logreg__C=2, tfidf__max_df=0.25, tfidf__ngram_range=(1, 1);, score=(train=0.983, test=0.650) total time=   2.4s\n",
            "[CV 1/3] END logreg__C=2, tfidf__max_df=0.25, tfidf__ngram_range=(1, 2);, score=(train=0.996, test=0.615) total time=  15.7s\n",
            "[CV 2/3] END logreg__C=2, tfidf__max_df=0.25, tfidf__ngram_range=(1, 2);, score=(train=0.998, test=0.716) total time=  10.0s\n",
            "[CV 3/3] END logreg__C=2, tfidf__max_df=0.25, tfidf__ngram_range=(1, 2);, score=(train=1.000, test=0.590) total time=  18.5s\n",
            "[CV 1/3] END logreg__C=2, tfidf__max_df=0.25, tfidf__ngram_range=(1, 3);, score=(train=0.996, test=0.602) total time=  15.8s\n",
            "[CV 2/3] END logreg__C=2, tfidf__max_df=0.25, tfidf__ngram_range=(1, 3);, score=(train=0.998, test=0.705) total time=  13.6s\n",
            "[CV 3/3] END logreg__C=2, tfidf__max_df=0.25, tfidf__ngram_range=(1, 3);, score=(train=1.000, test=0.578) total time=  20.4s\n",
            "[CV 1/3] END logreg__C=2, tfidf__max_df=0.5, tfidf__ngram_range=(1, 1);, score=(train=0.981, test=0.645) total time=   3.1s\n",
            "[CV 2/3] END logreg__C=2, tfidf__max_df=0.5, tfidf__ngram_range=(1, 1);, score=(train=0.992, test=0.719) total time=   1.5s\n",
            "[CV 3/3] END logreg__C=2, tfidf__max_df=0.5, tfidf__ngram_range=(1, 1);, score=(train=0.983, test=0.650) total time=   3.0s\n",
            "[CV 1/3] END logreg__C=2, tfidf__max_df=0.5, tfidf__ngram_range=(1, 2);, score=(train=0.996, test=0.615) total time=  17.1s\n",
            "[CV 2/3] END logreg__C=2, tfidf__max_df=0.5, tfidf__ngram_range=(1, 2);, score=(train=0.998, test=0.716) total time=   8.5s\n",
            "[CV 3/3] END logreg__C=2, tfidf__max_df=0.5, tfidf__ngram_range=(1, 2);, score=(train=1.000, test=0.590) total time=  18.9s\n",
            "[CV 1/3] END logreg__C=2, tfidf__max_df=0.5, tfidf__ngram_range=(1, 3);, score=(train=0.996, test=0.602) total time=  18.5s\n",
            "[CV 2/3] END logreg__C=2, tfidf__max_df=0.5, tfidf__ngram_range=(1, 3);, score=(train=0.998, test=0.705) total time=  13.3s\n",
            "[CV 3/3] END logreg__C=2, tfidf__max_df=0.5, tfidf__ngram_range=(1, 3);, score=(train=1.000, test=0.578) total time=  21.3s\n",
            "[CV 1/3] END logreg__C=2, tfidf__max_df=0.75, tfidf__ngram_range=(1, 1);, score=(train=0.981, test=0.645) total time=   2.8s\n",
            "[CV 2/3] END logreg__C=2, tfidf__max_df=0.75, tfidf__ngram_range=(1, 1);, score=(train=0.992, test=0.719) total time=   4.5s\n",
            "[CV 3/3] END logreg__C=2, tfidf__max_df=0.75, tfidf__ngram_range=(1, 1);, score=(train=0.983, test=0.650) total time=   4.6s\n",
            "[CV 1/3] END logreg__C=2, tfidf__max_df=0.75, tfidf__ngram_range=(1, 2);, score=(train=0.996, test=0.615) total time=  14.3s\n",
            "[CV 2/3] END logreg__C=2, tfidf__max_df=0.75, tfidf__ngram_range=(1, 2);, score=(train=0.998, test=0.716) total time=   8.8s\n",
            "[CV 3/3] END logreg__C=2, tfidf__max_df=0.75, tfidf__ngram_range=(1, 2);, score=(train=1.000, test=0.590) total time=  17.7s\n",
            "[CV 1/3] END logreg__C=2, tfidf__max_df=0.75, tfidf__ngram_range=(1, 3);, score=(train=0.996, test=0.602) total time=  18.7s\n",
            "[CV 2/3] END logreg__C=2, tfidf__max_df=0.75, tfidf__ngram_range=(1, 3);, score=(train=0.998, test=0.705) total time=  14.5s\n",
            "[CV 3/3] END logreg__C=2, tfidf__max_df=0.75, tfidf__ngram_range=(1, 3);, score=(train=1.000, test=0.578) total time=  21.8s\n",
            "[CV 1/3] END logreg__C=6, tfidf__max_df=0.25, tfidf__ngram_range=(1, 1);, score=(train=0.995, test=0.633) total time=   4.0s\n",
            "[CV 2/3] END logreg__C=6, tfidf__max_df=0.25, tfidf__ngram_range=(1, 1);, score=(train=1.000, test=0.700) total time=   6.6s\n",
            "[CV 3/3] END logreg__C=6, tfidf__max_df=0.25, tfidf__ngram_range=(1, 1);, score=(train=0.989, test=0.641) total time=   7.9s\n",
            "[CV 1/3] END logreg__C=6, tfidf__max_df=0.25, tfidf__ngram_range=(1, 2);, score=(train=0.996, test=0.609) total time=  16.4s\n",
            "[CV 2/3] END logreg__C=6, tfidf__max_df=0.25, tfidf__ngram_range=(1, 2);, score=(train=1.000, test=0.710) total time=  17.6s\n",
            "[CV 3/3] END logreg__C=6, tfidf__max_df=0.25, tfidf__ngram_range=(1, 2);, score=(train=1.000, test=0.595) total time=  20.9s\n",
            "[CV 1/3] END logreg__C=6, tfidf__max_df=0.25, tfidf__ngram_range=(1, 3);, score=(train=0.998, test=0.602) total time=  25.2s\n",
            "[CV 2/3] END logreg__C=6, tfidf__max_df=0.25, tfidf__ngram_range=(1, 3);, score=(train=1.000, test=0.702) total time=  23.6s\n",
            "[CV 3/3] END logreg__C=6, tfidf__max_df=0.25, tfidf__ngram_range=(1, 3);, score=(train=1.000, test=0.574) total time=  19.8s\n",
            "[CV 1/3] END logreg__C=6, tfidf__max_df=0.5, tfidf__ngram_range=(1, 1);, score=(train=0.995, test=0.633) total time=   4.7s\n",
            "[CV 2/3] END logreg__C=6, tfidf__max_df=0.5, tfidf__ngram_range=(1, 1);, score=(train=1.000, test=0.700) total time=   2.7s\n",
            "[CV 3/3] END logreg__C=6, tfidf__max_df=0.5, tfidf__ngram_range=(1, 1);, score=(train=0.989, test=0.641) total time=   2.7s\n",
            "[CV 1/3] END logreg__C=6, tfidf__max_df=0.5, tfidf__ngram_range=(1, 2);, score=(train=0.996, test=0.609) total time=  17.6s\n",
            "[CV 2/3] END logreg__C=6, tfidf__max_df=0.5, tfidf__ngram_range=(1, 2);, score=(train=1.000, test=0.710) total time=  15.2s\n",
            "[CV 3/3] END logreg__C=6, tfidf__max_df=0.5, tfidf__ngram_range=(1, 2);, score=(train=1.000, test=0.595) total time=  26.2s\n",
            "[CV 1/3] END logreg__C=6, tfidf__max_df=0.5, tfidf__ngram_range=(1, 3);, score=(train=0.998, test=0.602) total time=  25.0s\n",
            "[CV 2/3] END logreg__C=6, tfidf__max_df=0.5, tfidf__ngram_range=(1, 3);, score=(train=1.000, test=0.702) total time=  25.0s\n",
            "[CV 3/3] END logreg__C=6, tfidf__max_df=0.5, tfidf__ngram_range=(1, 3);, score=(train=1.000, test=0.574) total time=  20.4s\n",
            "[CV 1/3] END logreg__C=6, tfidf__max_df=0.75, tfidf__ngram_range=(1, 1);, score=(train=0.995, test=0.633) total time=   3.4s\n",
            "[CV 2/3] END logreg__C=6, tfidf__max_df=0.75, tfidf__ngram_range=(1, 1);, score=(train=1.000, test=0.700) total time=   5.5s\n",
            "[CV 3/3] END logreg__C=6, tfidf__max_df=0.75, tfidf__ngram_range=(1, 1);, score=(train=0.989, test=0.641) total time=   4.0s\n",
            "[CV 1/3] END logreg__C=6, tfidf__max_df=0.75, tfidf__ngram_range=(1, 2);, score=(train=0.996, test=0.609) total time=  16.2s\n",
            "[CV 2/3] END logreg__C=6, tfidf__max_df=0.75, tfidf__ngram_range=(1, 2);, score=(train=1.000, test=0.710) total time=  13.4s\n",
            "[CV 3/3] END logreg__C=6, tfidf__max_df=0.75, tfidf__ngram_range=(1, 2);, score=(train=1.000, test=0.595) total time=  26.1s\n",
            "[CV 1/3] END logreg__C=6, tfidf__max_df=0.75, tfidf__ngram_range=(1, 3);, score=(train=0.998, test=0.602) total time=  25.6s\n",
            "[CV 2/3] END logreg__C=6, tfidf__max_df=0.75, tfidf__ngram_range=(1, 3);, score=(train=1.000, test=0.702) total time=  21.8s\n",
            "[CV 3/3] END logreg__C=6, tfidf__max_df=0.75, tfidf__ngram_range=(1, 3);, score=(train=1.000, test=0.574) total time=  20.5s\n",
            "----------\n",
            "iter: 1\n",
            "n_candidates: 9\n",
            "n_resources: 12387\n",
            "Fitting 3 folds for each of 9 candidates, totalling 27 fits\n",
            "[CV 1/3] END logreg__C=6, tfidf__max_df=0.25, tfidf__ngram_range=(1, 1);, score=(train=0.984, test=0.709) total time=   3.9s\n",
            "[CV 2/3] END logreg__C=6, tfidf__max_df=0.25, tfidf__ngram_range=(1, 1);, score=(train=0.980, test=0.739) total time=   7.8s\n",
            "[CV 3/3] END logreg__C=6, tfidf__max_df=0.25, tfidf__ngram_range=(1, 1);, score=(train=0.983, test=0.752) total time=   5.9s\n",
            "[CV 1/3] END logreg__C=6, tfidf__max_df=0.5, tfidf__ngram_range=(1, 1);, score=(train=0.984, test=0.709) total time=   6.7s\n",
            "[CV 2/3] END logreg__C=6, tfidf__max_df=0.5, tfidf__ngram_range=(1, 1);, score=(train=0.980, test=0.739) total time=  14.6s\n",
            "[CV 3/3] END logreg__C=6, tfidf__max_df=0.5, tfidf__ngram_range=(1, 1);, score=(train=0.983, test=0.752) total time=   6.2s\n",
            "[CV 1/3] END logreg__C=6, tfidf__max_df=0.75, tfidf__ngram_range=(1, 1);, score=(train=0.984, test=0.709) total time=   6.0s\n",
            "[CV 2/3] END logreg__C=6, tfidf__max_df=0.75, tfidf__ngram_range=(1, 1);, score=(train=0.980, test=0.739) total time=  18.1s\n",
            "[CV 3/3] END logreg__C=6, tfidf__max_df=0.75, tfidf__ngram_range=(1, 1);, score=(train=0.983, test=0.752) total time=   8.1s\n",
            "[CV 1/3] END logreg__C=1, tfidf__max_df=0.75, tfidf__ngram_range=(1, 1);, score=(train=0.937, test=0.698) total time=   8.8s\n",
            "[CV 2/3] END logreg__C=1, tfidf__max_df=0.75, tfidf__ngram_range=(1, 1);, score=(train=0.927, test=0.714) total time=   6.9s\n",
            "[CV 3/3] END logreg__C=1, tfidf__max_df=0.75, tfidf__ngram_range=(1, 1);, score=(train=0.935, test=0.747) total time=   4.2s\n",
            "[CV 1/3] END logreg__C=1, tfidf__max_df=0.5, tfidf__ngram_range=(1, 1);, score=(train=0.937, test=0.698) total time=   6.8s\n",
            "[CV 2/3] END logreg__C=1, tfidf__max_df=0.5, tfidf__ngram_range=(1, 1);, score=(train=0.927, test=0.714) total time=   5.1s\n",
            "[CV 3/3] END logreg__C=1, tfidf__max_df=0.5, tfidf__ngram_range=(1, 1);, score=(train=0.935, test=0.747) total time=   6.5s\n",
            "[CV 1/3] END logreg__C=1, tfidf__max_df=0.25, tfidf__ngram_range=(1, 1);, score=(train=0.937, test=0.698) total time=   3.5s\n",
            "[CV 2/3] END logreg__C=1, tfidf__max_df=0.25, tfidf__ngram_range=(1, 1);, score=(train=0.927, test=0.714) total time=   7.6s\n",
            "[CV 3/3] END logreg__C=1, tfidf__max_df=0.25, tfidf__ngram_range=(1, 1);, score=(train=0.935, test=0.747) total time=   6.3s\n",
            "[CV 1/3] END logreg__C=2, tfidf__max_df=0.75, tfidf__ngram_range=(1, 1);, score=(train=0.959, test=0.703) total time=   6.8s\n",
            "[CV 2/3] END logreg__C=2, tfidf__max_df=0.75, tfidf__ngram_range=(1, 1);, score=(train=0.951, test=0.724) total time=   6.0s\n",
            "[CV 3/3] END logreg__C=2, tfidf__max_df=0.75, tfidf__ngram_range=(1, 1);, score=(train=0.959, test=0.749) total time=   4.7s\n",
            "[CV 1/3] END logreg__C=2, tfidf__max_df=0.25, tfidf__ngram_range=(1, 1);, score=(train=0.959, test=0.703) total time=   3.6s\n",
            "[CV 2/3] END logreg__C=2, tfidf__max_df=0.25, tfidf__ngram_range=(1, 1);, score=(train=0.951, test=0.724) total time=   6.6s\n",
            "[CV 3/3] END logreg__C=2, tfidf__max_df=0.25, tfidf__ngram_range=(1, 1);, score=(train=0.959, test=0.749) total time=   4.8s\n",
            "[CV 1/3] END logreg__C=2, tfidf__max_df=0.5, tfidf__ngram_range=(1, 1);, score=(train=0.959, test=0.703) total time=   4.6s\n",
            "[CV 2/3] END logreg__C=2, tfidf__max_df=0.5, tfidf__ngram_range=(1, 1);, score=(train=0.951, test=0.724) total time=   7.1s\n",
            "[CV 3/3] END logreg__C=2, tfidf__max_df=0.5, tfidf__ngram_range=(1, 1);, score=(train=0.959, test=0.749) total time=   4.2s\n",
            "----------\n",
            "iter: 2\n",
            "n_candidates: 3\n",
            "n_resources: 37161\n",
            "Fitting 3 folds for each of 3 candidates, totalling 9 fits\n",
            "[CV 1/3] END logreg__C=6, tfidf__max_df=0.25, tfidf__ngram_range=(1, 1);, score=(train=0.967, test=0.763) total time=  19.8s\n",
            "[CV 2/3] END logreg__C=6, tfidf__max_df=0.25, tfidf__ngram_range=(1, 1);, score=(train=0.963, test=0.755) total time=  18.5s\n",
            "[CV 3/3] END logreg__C=6, tfidf__max_df=0.25, tfidf__ngram_range=(1, 1);, score=(train=0.960, test=0.758) total time=  28.2s\n",
            "[CV 1/3] END logreg__C=6, tfidf__max_df=0.5, tfidf__ngram_range=(1, 1);, score=(train=0.967, test=0.763) total time=  22.3s\n",
            "[CV 2/3] END logreg__C=6, tfidf__max_df=0.5, tfidf__ngram_range=(1, 1);, score=(train=0.963, test=0.755) total time=  19.4s\n",
            "[CV 3/3] END logreg__C=6, tfidf__max_df=0.5, tfidf__ngram_range=(1, 1);, score=(train=0.960, test=0.758) total time=  29.1s\n",
            "[CV 1/3] END logreg__C=6, tfidf__max_df=0.75, tfidf__ngram_range=(1, 1);, score=(train=0.967, test=0.763) total time=  23.5s\n",
            "[CV 2/3] END logreg__C=6, tfidf__max_df=0.75, tfidf__ngram_range=(1, 1);, score=(train=0.963, test=0.755) total time=  22.7s\n",
            "[CV 3/3] END logreg__C=6, tfidf__max_df=0.75, tfidf__ngram_range=(1, 1);, score=(train=0.960, test=0.758) total time=  26.9s\n",
            "----------\n",
            "iter: 3\n",
            "n_candidates: 1\n",
            "n_resources: 111483\n",
            "Fitting 3 folds for each of 1 candidates, totalling 3 fits\n",
            "[CV 1/3] END logreg__C=6, tfidf__max_df=0.75, tfidf__ngram_range=(1, 1);, score=(train=0.930, test=0.762) total time=  47.7s\n",
            "[CV 2/3] END logreg__C=6, tfidf__max_df=0.75, tfidf__ngram_range=(1, 1);, score=(train=0.931, test=0.767) total time=  48.6s\n",
            "[CV 3/3] END logreg__C=6, tfidf__max_df=0.75, tfidf__ngram_range=(1, 1);, score=(train=0.927, test=0.763) total time=  49.3s\n",
            "Best score: 0.7642217362062902, Best params: {'logreg__C': 6, 'tfidf__max_df': 0.75, 'tfidf__ngram_range': (1, 1)}\n"
          ]
        }
      ],
      "source": [
        "pipeline_oversampling = imbPipeline([\n",
        "    ('tfidf', TfidfVectorizer()),\n",
        "    ('oversampling', RandomOverSampler(random_state=0)),\n",
        "    ('logreg', LogisticRegression(random_state=42))])\n",
        "\n",
        "\n",
        "parameters = {\n",
        "    'tfidf__max_df': (0.25, 0.5, 0.75),\n",
        "    'tfidf__ngram_range': [(1, 1), (1, 2), (1, 3)],\n",
        "    'logreg__C': [1,2,6]\n",
        "}\n",
        "\n",
        "grid_search_tune = HalvingGridSearchCV(pipeline_oversampling, parameters, cv=3, n_jobs=-1, scoring='f1', verbose=3)\n",
        "grid_search_tune.fit(features_train, target_train)\n",
        "\n",
        "print(f\"Best score: {abs(grid_search_tune.best_score_)}, Best params: {grid_search_tune.best_params_}\")"
      ]
    },
    {
      "cell_type": "markdown",
      "metadata": {
        "id": "ujkqSvn9Cqr8"
      },
      "source": [
        "Best score: 0.7644088944508399, Best params: {'logreg__C': 6, 'tfidf__max_df': 0.75, 'tfidf__ngram_range': (1, 1)}"
      ]
    },
    {
      "cell_type": "code",
      "execution_count": null,
      "metadata": {
        "id": "FV9ZSrJ6Cqr9"
      },
      "outputs": [],
      "source": [
        "tfidf_max = 0.75\n",
        "ngram_range = (1, 1)\n",
        "corpus_lemm_train = features_train\n",
        "count_tf_idf = TfidfVectorizer(stop_words='english', analyzer='word', max_df=tfidf_max, ngram_range=ngram_range)\n",
        "tf_idf_train = count_tf_idf.fit_transform(corpus_lemm_train)\n",
        "corpus_lemm_test = features_test.values\n",
        "tf_idf_test = count_tf_idf.transform(corpus_lemm_test)\n"
      ]
    },
    {
      "cell_type": "code",
      "execution_count": null,
      "metadata": {
        "id": "_t0xylNHCqr9",
        "outputId": "83dc9b54-df10-48de-c50c-e7d4604f183a"
      },
      "outputs": [
        {
          "data": {
            "text/plain": [
              "{'C': 9, 'class_weight': None, 'max_iter': 10}"
            ]
          },
          "execution_count": 38,
          "metadata": {},
          "output_type": "execute_result"
        }
      ],
      "source": [
        "clf_lr = LogisticRegression(random_state=rs, solver='sag',class_weight='balanced')\n",
        "parametrs_lr = { 'C': range (1, 11,2),\n",
        "              'max_iter': range (10,15,2),\n",
        "                'class_weight': [None, 'balanced']\n",
        "              }\n",
        "\n",
        "grid_lr = GridSearchCV(clf_lr, parametrs_lr, cv=3, scoring='f1')\n",
        "grid_lr.fit(tf_idf_train, target_train)\n",
        "grid_lr.best_params_"
      ]
    },
    {
      "cell_type": "code",
      "execution_count": null,
      "metadata": {
        "scrolled": true,
        "id": "C-P4f2y_Cqr-",
        "outputId": "cdb88997-b870-4c59-8002-4f83f82767b6"
      },
      "outputs": [
        {
          "data": {
            "text/plain": [
              "0.759354089351727"
            ]
          },
          "execution_count": 39,
          "metadata": {},
          "output_type": "execute_result"
        }
      ],
      "source": [
        "grid_lr.best_score_"
      ]
    },
    {
      "cell_type": "code",
      "execution_count": null,
      "metadata": {
        "id": "-UHjSwpgCqr-"
      },
      "outputs": [],
      "source": [
        "model= LogisticRegression(random_state=rs, solver='sag',class_weight='balanced',max_iter=12,C=4)"
      ]
    },
    {
      "cell_type": "code",
      "execution_count": null,
      "metadata": {
        "id": "qeVO26roCqr-",
        "outputId": "6cf14e57-d324-482d-a6ba-47156d065b4c"
      },
      "outputs": [
        {
          "data": {
            "text/html": [
              "<style>#sk-container-id-1 {color: black;background-color: white;}#sk-container-id-1 pre{padding: 0;}#sk-container-id-1 div.sk-toggleable {background-color: white;}#sk-container-id-1 label.sk-toggleable__label {cursor: pointer;display: block;width: 100%;margin-bottom: 0;padding: 0.3em;box-sizing: border-box;text-align: center;}#sk-container-id-1 label.sk-toggleable__label-arrow:before {content: \"▸\";float: left;margin-right: 0.25em;color: #696969;}#sk-container-id-1 label.sk-toggleable__label-arrow:hover:before {color: black;}#sk-container-id-1 div.sk-estimator:hover label.sk-toggleable__label-arrow:before {color: black;}#sk-container-id-1 div.sk-toggleable__content {max-height: 0;max-width: 0;overflow: hidden;text-align: left;background-color: #f0f8ff;}#sk-container-id-1 div.sk-toggleable__content pre {margin: 0.2em;color: black;border-radius: 0.25em;background-color: #f0f8ff;}#sk-container-id-1 input.sk-toggleable__control:checked~div.sk-toggleable__content {max-height: 200px;max-width: 100%;overflow: auto;}#sk-container-id-1 input.sk-toggleable__control:checked~label.sk-toggleable__label-arrow:before {content: \"▾\";}#sk-container-id-1 div.sk-estimator input.sk-toggleable__control:checked~label.sk-toggleable__label {background-color: #d4ebff;}#sk-container-id-1 div.sk-label input.sk-toggleable__control:checked~label.sk-toggleable__label {background-color: #d4ebff;}#sk-container-id-1 input.sk-hidden--visually {border: 0;clip: rect(1px 1px 1px 1px);clip: rect(1px, 1px, 1px, 1px);height: 1px;margin: -1px;overflow: hidden;padding: 0;position: absolute;width: 1px;}#sk-container-id-1 div.sk-estimator {font-family: monospace;background-color: #f0f8ff;border: 1px dotted black;border-radius: 0.25em;box-sizing: border-box;margin-bottom: 0.5em;}#sk-container-id-1 div.sk-estimator:hover {background-color: #d4ebff;}#sk-container-id-1 div.sk-parallel-item::after {content: \"\";width: 100%;border-bottom: 1px solid gray;flex-grow: 1;}#sk-container-id-1 div.sk-label:hover label.sk-toggleable__label {background-color: #d4ebff;}#sk-container-id-1 div.sk-serial::before {content: \"\";position: absolute;border-left: 1px solid gray;box-sizing: border-box;top: 0;bottom: 0;left: 50%;z-index: 0;}#sk-container-id-1 div.sk-serial {display: flex;flex-direction: column;align-items: center;background-color: white;padding-right: 0.2em;padding-left: 0.2em;position: relative;}#sk-container-id-1 div.sk-item {position: relative;z-index: 1;}#sk-container-id-1 div.sk-parallel {display: flex;align-items: stretch;justify-content: center;background-color: white;position: relative;}#sk-container-id-1 div.sk-item::before, #sk-container-id-1 div.sk-parallel-item::before {content: \"\";position: absolute;border-left: 1px solid gray;box-sizing: border-box;top: 0;bottom: 0;left: 50%;z-index: -1;}#sk-container-id-1 div.sk-parallel-item {display: flex;flex-direction: column;z-index: 1;position: relative;background-color: white;}#sk-container-id-1 div.sk-parallel-item:first-child::after {align-self: flex-end;width: 50%;}#sk-container-id-1 div.sk-parallel-item:last-child::after {align-self: flex-start;width: 50%;}#sk-container-id-1 div.sk-parallel-item:only-child::after {width: 0;}#sk-container-id-1 div.sk-dashed-wrapped {border: 1px dashed gray;margin: 0 0.4em 0.5em 0.4em;box-sizing: border-box;padding-bottom: 0.4em;background-color: white;}#sk-container-id-1 div.sk-label label {font-family: monospace;font-weight: bold;display: inline-block;line-height: 1.2em;}#sk-container-id-1 div.sk-label-container {text-align: center;}#sk-container-id-1 div.sk-container {/* jupyter's `normalize.less` sets `[hidden] { display: none; }` but bootstrap.min.css set `[hidden] { display: none !important; }` so we also need the `!important` here to be able to override the default hidden behavior on the sphinx rendered scikit-learn.org. See: https://github.com/scikit-learn/scikit-learn/issues/21755 */display: inline-block !important;position: relative;}#sk-container-id-1 div.sk-text-repr-fallback {display: none;}</style><div id=\"sk-container-id-1\" class=\"sk-top-container\"><div class=\"sk-text-repr-fallback\"><pre>LogisticRegression(C=4, class_weight=&#x27;balanced&#x27;, max_iter=12, random_state=7,\n",
              "                   solver=&#x27;sag&#x27;)</pre><b>In a Jupyter environment, please rerun this cell to show the HTML representation or trust the notebook. <br />On GitHub, the HTML representation is unable to render, please try loading this page with nbviewer.org.</b></div><div class=\"sk-container\" hidden><div class=\"sk-item\"><div class=\"sk-estimator sk-toggleable\"><input class=\"sk-toggleable__control sk-hidden--visually\" id=\"sk-estimator-id-1\" type=\"checkbox\" checked><label for=\"sk-estimator-id-1\" class=\"sk-toggleable__label sk-toggleable__label-arrow\">LogisticRegression</label><div class=\"sk-toggleable__content\"><pre>LogisticRegression(C=4, class_weight=&#x27;balanced&#x27;, max_iter=12, random_state=7,\n",
              "                   solver=&#x27;sag&#x27;)</pre></div></div></div></div></div>"
            ],
            "text/plain": [
              "LogisticRegression(C=4, class_weight='balanced', max_iter=12, random_state=7,\n",
              "                   solver='sag')"
            ]
          },
          "execution_count": 41,
          "metadata": {},
          "output_type": "execute_result"
        }
      ],
      "source": [
        "model.fit(tf_idf_train,target_train)"
      ]
    },
    {
      "cell_type": "code",
      "execution_count": null,
      "metadata": {
        "id": "S1-zqcFKCqr-"
      },
      "outputs": [],
      "source": [
        "prediction = model.predict(tf_idf_test)"
      ]
    },
    {
      "cell_type": "code",
      "execution_count": null,
      "metadata": {
        "id": "GEqBubwtCqr_"
      },
      "outputs": [],
      "source": [
        "score_test= f1_score(prediction,target_test)"
      ]
    },
    {
      "cell_type": "code",
      "execution_count": null,
      "metadata": {
        "scrolled": false,
        "id": "2Fey2kJcCqr_",
        "outputId": "d9c316da-76c3-4bdc-93d9-dad01b27c2b4"
      },
      "outputs": [
        {
          "data": {
            "text/plain": [
              "0.743801652892562"
            ]
          },
          "execution_count": 44,
          "metadata": {},
          "output_type": "execute_result"
        }
      ],
      "source": [
        "score_test"
      ]
    },
    {
      "cell_type": "code",
      "execution_count": null,
      "metadata": {
        "id": "f2Duzbz-Cqr_"
      },
      "outputs": [],
      "source": [
        "def lr_best_hold(model):\n",
        "    # Определение пороговых значений\n",
        "    thresholds = np.arange(0.3, 0.8, 0.1)\n",
        "\n",
        "    best_score = 0\n",
        "    best_threshold = 0\n",
        "\n",
        "    # Перебор порогов и выбор лучшего на основе F1-меры\n",
        "\n",
        "    cross_proba = cross_val_predict(model, tf_idf_train, target_train, method='predict_proba')\n",
        "    for threshold in thresholds:\n",
        "        # Пороговое значение для классификации\n",
        "        y_pred = (cross_proba[:, 1] > threshold).astype(int)\n",
        "\n",
        "        # Вычисление F1-меры\n",
        "        score = f1_score(target_train, y_pred)\n",
        "\n",
        "        # Проверка, является ли текущая F1-мера лучшей\n",
        "        if score > best_score:\n",
        "            best_score = score\n",
        "            best_threshold = threshold\n",
        "\n",
        "    # Вывод лучшего порога и соответствующей F1-меры\n",
        "    print('Лучший порог:', best_threshold)\n",
        "    print('Лучшая F1-мера:', best_score)"
      ]
    },
    {
      "cell_type": "code",
      "execution_count": null,
      "metadata": {
        "scrolled": false,
        "id": "4gzpuHKOCqr_",
        "outputId": "c1b068be-d99f-437f-a5d7-b6f0dc0f1c96"
      },
      "outputs": [
        {
          "name": "stdout",
          "output_type": "stream",
          "text": [
            "Лучший порог: 0.7000000000000002\n",
            "Лучшая F1-мера: 0.7695666014825593\n"
          ]
        }
      ],
      "source": [
        "lr_best_hold(model)"
      ]
    },
    {
      "cell_type": "markdown",
      "metadata": {
        "id": "7HoWn1UACqsA"
      },
      "source": [
        "**Вывод:**\n",
        "\n",
        "Классическая модель без каких-либо противодействий дизбалансу дает **f1 = 0.77** на тренировочной с порогом 0.7. Далее протестируем модели, в которых будем использовать stratify и весы ."
      ]
    },
    {
      "cell_type": "code",
      "execution_count": null,
      "metadata": {
        "id": "GHtc2YvOCqsB",
        "outputId": "8baefd77-13b9-4c7a-cf61-8ebc77e76dc0"
      },
      "outputs": [
        {
          "name": "stdout",
          "output_type": "stream",
          "text": [
            "Train Class weights: [0.55699086 4.88666842]\n",
            "Test Class weights: [0.55553231 5.00188403]\n"
          ]
        }
      ],
      "source": [
        "\n",
        "train_class_weights = compute_class_weight(class_weight='balanced', classes=[0, 1], y=target_train)\n",
        "print(\"Train Class weights:\", train_class_weights)\n",
        "test_class_weights = compute_class_weight(class_weight='balanced', classes=[0, 1], y=target_test)\n",
        "print(\"Test Class weights:\", test_class_weights)"
      ]
    },
    {
      "cell_type": "code",
      "execution_count": null,
      "metadata": {
        "id": "g7k73xv9CqsB"
      },
      "outputs": [],
      "source": [
        "train_class_weights = {0:train_class_weights[0],1:train_class_weights[1]}"
      ]
    },
    {
      "cell_type": "code",
      "execution_count": null,
      "metadata": {
        "id": "AjRVRBuiCqsB"
      },
      "outputs": [],
      "source": [
        "test_class_weights = {0:test_class_weights[0],1:test_class_weights[1]}"
      ]
    },
    {
      "cell_type": "markdown",
      "metadata": {
        "id": "rBJsXmfuCqsD"
      },
      "source": [
        "### DecisionTreeClassifier"
      ]
    },
    {
      "cell_type": "code",
      "execution_count": null,
      "metadata": {
        "id": "qXikxzuUCqsD"
      },
      "outputs": [],
      "source": [
        "\n",
        "def objective(trial):\n",
        "    # Определение гиперпараметров для оптимизации\n",
        "    max_depth = trial.suggest_int('max_depth', 3, 10)\n",
        "    min_samples_split = trial.suggest_int('min_samples_split', 2, 10)\n",
        "    criterion = trial.suggest_categorical('criterion', ['gini', 'entropy'])\n",
        "\n",
        "    # Создание и обучение модели\n",
        "    model = DecisionTreeClassifier(max_depth=max_depth, min_samples_split=min_samples_split, criterion=criterion)\n",
        "\n",
        "    # Выполнение кросс-валидации\n",
        "    scorer = make_scorer(f1_score)\n",
        "    scores = cross_val_score(model, tf_idf_train, target_train, cv=3, scoring='f1')\n",
        "\n",
        "    # Вычисление среднего значения F-меры по всем фолдам\n",
        "    mean_score = scores.mean()\n",
        "\n",
        "    return mean_score\n",
        "\n",
        "\n",
        "\n"
      ]
    },
    {
      "cell_type": "code",
      "execution_count": null,
      "metadata": {
        "id": "ztqh-i6uCqsE",
        "outputId": "807e70d2-0d18-4df8-88cd-3eb44d76e27e"
      },
      "outputs": [
        {
          "name": "stderr",
          "output_type": "stream",
          "text": [
            "[I 2023-06-08 19:32:25,794] A new study created in memory with name: no-name-cade8cb0-139c-46b7-8dea-0a9bc5fb6977\n",
            "[I 2023-06-08 19:32:52,910] Trial 0 finished with value: 0.5837234646552739 and parameters: {'max_depth': 8, 'min_samples_split': 2, 'criterion': 'gini'}. Best is trial 0 with value: 0.5837234646552739.\n",
            "[I 2023-06-08 19:33:17,061] Trial 1 finished with value: 0.5316950613879688 and parameters: {'max_depth': 5, 'min_samples_split': 7, 'criterion': 'gini'}. Best is trial 0 with value: 0.5837234646552739.\n",
            "[I 2023-06-08 19:33:47,773] Trial 2 finished with value: 0.6052682781092263 and parameters: {'max_depth': 10, 'min_samples_split': 2, 'criterion': 'gini'}. Best is trial 2 with value: 0.6052682781092263.\n",
            "[I 2023-06-08 19:34:10,435] Trial 3 finished with value: 0.5096818006733916 and parameters: {'max_depth': 4, 'min_samples_split': 2, 'criterion': 'gini'}. Best is trial 2 with value: 0.6052682781092263.\n",
            "[I 2023-06-08 19:34:41,716] Trial 4 finished with value: 0.5921190399310503 and parameters: {'max_depth': 10, 'min_samples_split': 8, 'criterion': 'entropy'}. Best is trial 2 with value: 0.6052682781092263.\n",
            "[I 2023-06-08 19:35:09,994] Trial 5 finished with value: 0.6056588213494216 and parameters: {'max_depth': 10, 'min_samples_split': 8, 'criterion': 'gini'}. Best is trial 5 with value: 0.6056588213494216.\n",
            "[I 2023-06-08 19:35:37,738] Trial 6 finished with value: 0.596352565874127 and parameters: {'max_depth': 9, 'min_samples_split': 6, 'criterion': 'gini'}. Best is trial 5 with value: 0.6056588213494216.\n",
            "[I 2023-06-08 19:36:04,948] Trial 7 finished with value: 0.5673013529799451 and parameters: {'max_depth': 7, 'min_samples_split': 3, 'criterion': 'gini'}. Best is trial 5 with value: 0.6056588213494216.\n",
            "[I 2023-06-08 19:36:34,088] Trial 8 finished with value: 0.6049328681334737 and parameters: {'max_depth': 10, 'min_samples_split': 8, 'criterion': 'gini'}. Best is trial 5 with value: 0.6056588213494216.\n",
            "[I 2023-06-08 19:37:02,208] Trial 9 finished with value: 0.5964678334188483 and parameters: {'max_depth': 9, 'min_samples_split': 9, 'criterion': 'gini'}. Best is trial 5 with value: 0.6056588213494216.\n",
            "[I 2023-06-08 19:37:29,299] Trial 10 finished with value: 0.5364366923886359 and parameters: {'max_depth': 6, 'min_samples_split': 5, 'criterion': 'entropy'}. Best is trial 5 with value: 0.6056588213494216.\n",
            "[I 2023-06-08 19:37:58,576] Trial 11 finished with value: 0.5639766562840978 and parameters: {'max_depth': 8, 'min_samples_split': 10, 'criterion': 'entropy'}. Best is trial 5 with value: 0.6056588213494216.\n",
            "[I 2023-06-08 19:38:21,636] Trial 12 finished with value: 0.47479112426224007 and parameters: {'max_depth': 3, 'min_samples_split': 4, 'criterion': 'gini'}. Best is trial 5 with value: 0.6056588213494216.\n",
            "[I 2023-06-08 19:38:50,667] Trial 13 finished with value: 0.6046278288375216 and parameters: {'max_depth': 10, 'min_samples_split': 6, 'criterion': 'gini'}. Best is trial 5 with value: 0.6056588213494216.\n",
            "[I 2023-06-08 19:39:18,071] Trial 14 finished with value: 0.5827890379949039 and parameters: {'max_depth': 8, 'min_samples_split': 10, 'criterion': 'gini'}. Best is trial 5 with value: 0.6056588213494216.\n",
            "[I 2023-06-08 19:39:48,597] Trial 15 finished with value: 0.5766822269131974 and parameters: {'max_depth': 9, 'min_samples_split': 4, 'criterion': 'entropy'}. Best is trial 5 with value: 0.6056588213494216.\n",
            "[I 2023-06-08 19:40:14,668] Trial 16 finished with value: 0.56622473415788 and parameters: {'max_depth': 7, 'min_samples_split': 7, 'criterion': 'gini'}. Best is trial 5 with value: 0.6056588213494216.\n",
            "[I 2023-06-08 19:40:43,357] Trial 17 finished with value: 0.6052580147097004 and parameters: {'max_depth': 10, 'min_samples_split': 5, 'criterion': 'gini'}. Best is trial 5 with value: 0.6056588213494216.\n",
            "[I 2023-06-08 19:41:11,004] Trial 18 finished with value: 0.5361177733599722 and parameters: {'max_depth': 6, 'min_samples_split': 8, 'criterion': 'entropy'}. Best is trial 5 with value: 0.6056588213494216.\n",
            "[I 2023-06-08 19:41:39,751] Trial 19 finished with value: 0.5963147169596857 and parameters: {'max_depth': 9, 'min_samples_split': 3, 'criterion': 'gini'}. Best is trial 5 with value: 0.6056588213494216.\n"
          ]
        }
      ],
      "source": [
        "\n",
        "study = optuna.create_study(direction='maximize')\n",
        "study.optimize(objective, n_trials=20)\n",
        "\n"
      ]
    },
    {
      "cell_type": "code",
      "execution_count": null,
      "metadata": {
        "id": "D7Fca_OsCqsE",
        "outputId": "0399e69d-c6a0-442e-b2d1-fef451bf0d77"
      },
      "outputs": [
        {
          "name": "stdout",
          "output_type": "stream",
          "text": [
            "Лучшие гиперпараметры: {'max_depth': 10, 'min_samples_split': 8, 'criterion': 'gini'}\n",
            "Лучшее значение F-меры: 0.6056588213494216\n"
          ]
        }
      ],
      "source": [
        "best_params = study.best_params\n",
        "best_score = study.best_value\n",
        "\n",
        "print(\"Лучшие гиперпараметры:\", best_params)\n",
        "print(\"Лучшее значение F-меры:\", best_score)"
      ]
    },
    {
      "cell_type": "markdown",
      "metadata": {
        "id": "5wQGOCpcCqsF"
      },
      "source": [
        "### RandomForest"
      ]
    },
    {
      "cell_type": "code",
      "execution_count": null,
      "metadata": {
        "id": "rMH8WZMVCqsF"
      },
      "outputs": [],
      "source": [
        "\n",
        "\n",
        "#  с помощью библиотеки optuna\n",
        "#  подберем лучшие гиперпараметры\n",
        "# максимизируя F1-score\n",
        "def objective(trial):\n",
        "    clf_name = trial.suggest_categorical('classifier',['RandomForest'])\n",
        "    if clf_name == 'RandomForest':\n",
        "        max_depth = trial.suggest_int('max_depth',5,15)\n",
        "        n_estimators = trial.suggest_int('n_estimators',5,150)\n",
        "        criterion = trial.suggest_categorical('criterion',['gini','entropy'])\n",
        "        clf_obj = RandomForestClassifier(criterion=criterion,\n",
        "                                         max_depth=max_depth,\n",
        "                                         n_estimators=n_estimators,\n",
        "                                         class_weight=train_class_weights,\n",
        "                                         random_state=rs)\n",
        "\n",
        "    # Определяем метрику, на основе которой будет производиться оценка качества\n",
        "    scorer = make_scorer(f1_score)\n",
        "    clf_obj.fit(tf_idf_train,target_train)\n",
        "    # Выполняем кросс-валидацию\n",
        "    scores = cross_val_score(clf_obj, tf_idf_train, target_train, cv=3, scoring=scorer)\n",
        "    # Вычисляем среднее значение F-меры по всем фолдам\n",
        "    mean_score = scores.mean()\n",
        "    return mean_score"
      ]
    },
    {
      "cell_type": "code",
      "execution_count": null,
      "metadata": {
        "scrolled": true,
        "id": "wf84d_ufCqsF",
        "outputId": "62d8b111-c892-475a-d414-6da624b77f4e"
      },
      "outputs": [
        {
          "name": "stderr",
          "output_type": "stream",
          "text": [
            "[I 2023-06-08 19:41:39,783] A new study created in memory with name: no-name-2190e65e-abd0-4ad6-afaf-ff04cdec6153\n",
            "[I 2023-06-08 19:42:37,113] Trial 0 finished with value: 0.3665858035984691 and parameters: {'classifier': 'RandomForest', 'max_depth': 9, 'n_estimators': 106, 'criterion': 'entropy'}. Best is trial 0 with value: 0.3665858035984691.\n",
            "[I 2023-06-08 19:42:41,514] Trial 1 finished with value: 0.25667370376463533 and parameters: {'classifier': 'RandomForest', 'max_depth': 7, 'n_estimators': 10, 'criterion': 'gini'}. Best is trial 0 with value: 0.3665858035984691.\n",
            "[I 2023-06-08 19:43:13,222] Trial 2 finished with value: 0.3470431860919608 and parameters: {'classifier': 'RandomForest', 'max_depth': 9, 'n_estimators': 57, 'criterion': 'entropy'}. Best is trial 0 with value: 0.3665858035984691.\n",
            "[I 2023-06-08 19:44:15,939] Trial 3 finished with value: 0.36178814805394527 and parameters: {'classifier': 'RandomForest', 'max_depth': 9, 'n_estimators': 115, 'criterion': 'gini'}. Best is trial 0 with value: 0.3665858035984691.\n",
            "[I 2023-06-08 19:45:31,675] Trial 4 finished with value: 0.38215822629709506 and parameters: {'classifier': 'RandomForest', 'max_depth': 14, 'n_estimators': 89, 'criterion': 'entropy'}. Best is trial 4 with value: 0.38215822629709506.\n",
            "[I 2023-06-08 19:46:23,277] Trial 5 finished with value: 0.36976467399796437 and parameters: {'classifier': 'RandomForest', 'max_depth': 11, 'n_estimators': 77, 'criterion': 'entropy'}. Best is trial 4 with value: 0.38215822629709506.\n",
            "[I 2023-06-08 19:47:17,953] Trial 6 finished with value: 0.3597727929859514 and parameters: {'classifier': 'RandomForest', 'max_depth': 9, 'n_estimators': 104, 'criterion': 'gini'}. Best is trial 4 with value: 0.38215822629709506.\n",
            "[I 2023-06-08 19:47:36,305] Trial 7 finished with value: 0.3309830724786654 and parameters: {'classifier': 'RandomForest', 'max_depth': 8, 'n_estimators': 36, 'criterion': 'entropy'}. Best is trial 4 with value: 0.38215822629709506.\n",
            "[I 2023-06-08 19:48:36,245] Trial 8 finished with value: 0.36945208940019697 and parameters: {'classifier': 'RandomForest', 'max_depth': 11, 'n_estimators': 90, 'criterion': 'entropy'}. Best is trial 4 with value: 0.38215822629709506.\n",
            "[I 2023-06-08 19:49:37,306] Trial 9 finished with value: 0.3719202755805604 and parameters: {'classifier': 'RandomForest', 'max_depth': 10, 'n_estimators': 103, 'criterion': 'entropy'}. Best is trial 4 with value: 0.38215822629709506.\n",
            "[I 2023-06-08 19:51:46,098] Trial 10 finished with value: 0.39985746671716177 and parameters: {'classifier': 'RandomForest', 'max_depth': 15, 'n_estimators': 138, 'criterion': 'gini'}. Best is trial 10 with value: 0.39985746671716177.\n",
            "[I 2023-06-08 19:54:00,275] Trial 11 finished with value: 0.40007593321692414 and parameters: {'classifier': 'RandomForest', 'max_depth': 15, 'n_estimators': 142, 'criterion': 'gini'}. Best is trial 11 with value: 0.40007593321692414.\n",
            "[I 2023-06-08 19:56:20,313] Trial 12 finished with value: 0.4011400654925959 and parameters: {'classifier': 'RandomForest', 'max_depth': 15, 'n_estimators': 150, 'criterion': 'gini'}. Best is trial 12 with value: 0.4011400654925959.\n",
            "[I 2023-06-08 19:58:18,137] Trial 13 finished with value: 0.4019204466311461 and parameters: {'classifier': 'RandomForest', 'max_depth': 13, 'n_estimators': 149, 'criterion': 'gini'}. Best is trial 13 with value: 0.4019204466311461.\n",
            "[I 2023-06-08 20:00:17,196] Trial 14 finished with value: 0.4013956343809057 and parameters: {'classifier': 'RandomForest', 'max_depth': 13, 'n_estimators': 150, 'criterion': 'gini'}. Best is trial 13 with value: 0.4019204466311461.\n",
            "[I 2023-06-08 20:02:00,312] Trial 15 finished with value: 0.39258227524083916 and parameters: {'classifier': 'RandomForest', 'max_depth': 13, 'n_estimators': 130, 'criterion': 'gini'}. Best is trial 13 with value: 0.4019204466311461.\n",
            "[I 2023-06-08 20:03:42,808] Trial 16 finished with value: 0.3920539154434059 and parameters: {'classifier': 'RandomForest', 'max_depth': 13, 'n_estimators': 126, 'criterion': 'gini'}. Best is trial 13 with value: 0.4019204466311461.\n",
            "[I 2023-06-08 20:05:11,162] Trial 17 finished with value: 0.38772522390371567 and parameters: {'classifier': 'RandomForest', 'max_depth': 12, 'n_estimators': 123, 'criterion': 'gini'}. Best is trial 13 with value: 0.4019204466311461.\n",
            "[I 2023-06-08 20:05:30,192] Trial 18 finished with value: 0.31738579806233796 and parameters: {'classifier': 'RandomForest', 'max_depth': 5, 'n_estimators': 61, 'criterion': 'gini'}. Best is trial 13 with value: 0.4019204466311461.\n",
            "[I 2023-06-08 20:07:17,170] Trial 19 finished with value: 0.39656090137603756 and parameters: {'classifier': 'RandomForest', 'max_depth': 13, 'n_estimators': 137, 'criterion': 'gini'}. Best is trial 13 with value: 0.4019204466311461.\n",
            "[I 2023-06-08 20:09:06,540] Trial 20 finished with value: 0.40065979905088644 and parameters: {'classifier': 'RandomForest', 'max_depth': 12, 'n_estimators': 150, 'criterion': 'gini'}. Best is trial 13 with value: 0.4019204466311461.\n",
            "[I 2023-06-08 20:11:02,595] Trial 21 finished with value: 0.4034742026940292 and parameters: {'classifier': 'RandomForest', 'max_depth': 14, 'n_estimators': 146, 'criterion': 'gini'}. Best is trial 21 with value: 0.4034742026940292.\n",
            "[I 2023-06-08 20:12:36,435] Trial 22 finished with value: 0.393203729237986 and parameters: {'classifier': 'RandomForest', 'max_depth': 14, 'n_estimators': 119, 'criterion': 'gini'}. Best is trial 21 with value: 0.4034742026940292.\n",
            "[I 2023-06-08 20:14:33,631] Trial 23 finished with value: 0.40258826899025735 and parameters: {'classifier': 'RandomForest', 'max_depth': 14, 'n_estimators': 148, 'criterion': 'gini'}. Best is trial 21 with value: 0.4034742026940292.\n",
            "[I 2023-06-08 20:16:19,450] Trial 24 finished with value: 0.3952249566839882 and parameters: {'classifier': 'RandomForest', 'max_depth': 14, 'n_estimators': 134, 'criterion': 'gini'}. Best is trial 21 with value: 0.4034742026940292.\n"
          ]
        },
        {
          "name": "stdout",
          "output_type": "stream",
          "text": [
            "FrozenTrial(number=21, state=TrialState.COMPLETE, values=[0.4034742026940292], datetime_start=datetime.datetime(2023, 6, 8, 20, 9, 6, 541945), datetime_complete=datetime.datetime(2023, 6, 8, 20, 11, 2, 594899), params={'classifier': 'RandomForest', 'max_depth': 14, 'n_estimators': 146, 'criterion': 'gini'}, user_attrs={}, system_attrs={}, intermediate_values={}, distributions={'classifier': CategoricalDistribution(choices=('RandomForest',)), 'max_depth': IntDistribution(high=15, log=False, low=5, step=1), 'n_estimators': IntDistribution(high=150, log=False, low=5, step=1), 'criterion': CategoricalDistribution(choices=('gini', 'entropy'))}, trial_id=21, value=None)\n"
          ]
        }
      ],
      "source": [
        "np.random.seed(7)\n",
        "if __name__ == '__main__':\n",
        "    study = optuna.create_study(direction='maximize')\n",
        "    study.optimize(objective, n_trials =25)\n",
        "    print(study.best_trial)"
      ]
    },
    {
      "cell_type": "markdown",
      "metadata": {
        "id": "VBICa2CvCqsG"
      },
      "source": [
        "FrozenTrial(number=25, state=TrialState.COMPLETE, values=[0.8352434645068002], datetime_start=datetime.datetime(2023, 6, 7, 20, 21, 36, 592299), datetime_complete=datetime.datetime(2023, 6, 7, 20, 28, 5, 742428), params={'classifier': 'RandomForest', 'max_depth': 15, 'n_estimators': 139, 'criterion': 'gini'}, user_attrs={}, system_attrs={}, intermediate_values={}, distributions={'classifier': CategoricalDistribution(choices=('RandomForest',)), 'max_depth': IntDistribution(high=15, log=False, low=5, step=1), 'n_estimators': IntDistribution(high=150, log=False, low=5, step=1), 'criterion': CategoricalDistribution(choices=('gini', 'entropy'))}, trial_id=25, value=None)"
      ]
    },
    {
      "cell_type": "markdown",
      "metadata": {
        "id": "RdOT_hXmCqsG"
      },
      "source": [
        "### Logistic"
      ]
    },
    {
      "cell_type": "code",
      "execution_count": null,
      "metadata": {
        "id": "Dcpy5JTyCqsG",
        "outputId": "714cc738-9f62-4a3e-dc99-b0fe5a1f28ad"
      },
      "outputs": [
        {
          "data": {
            "text/plain": [
              "{'C': 9, 'class_weight': None, 'max_iter': 10}"
            ]
          },
          "execution_count": 55,
          "metadata": {},
          "output_type": "execute_result"
        }
      ],
      "source": [
        "clf_lr = LogisticRegression(random_state=rs, solver='sag',class_weight='balanced')\n",
        "parametrs_lr = { 'C': range (1, 11,2),\n",
        "              'max_iter': range (10,15,2),\n",
        "                'class_weight': [None, 'balanced']\n",
        "              }\n",
        "\n",
        "grid_lr = GridSearchCV(clf_lr, parametrs_lr, cv=3, scoring='f1')\n",
        "grid_lr.fit(tf_idf_train, target_train)\n",
        "grid_lr.best_params_"
      ]
    },
    {
      "cell_type": "code",
      "execution_count": null,
      "metadata": {
        "id": "rTbNenClCqsG",
        "outputId": "57d6c7a2-7ab5-4290-f127-7ae5f4cdd78f"
      },
      "outputs": [
        {
          "data": {
            "text/plain": [
              "0.759354089351727"
            ]
          },
          "execution_count": 57,
          "metadata": {},
          "output_type": "execute_result"
        }
      ],
      "source": [
        "grid_lr.best_score_"
      ]
    },
    {
      "cell_type": "code",
      "execution_count": null,
      "metadata": {
        "scrolled": true,
        "id": "JyVQeditCqsH",
        "outputId": "3dcd0e3a-4e15-4249-a513-53d428ec23f9"
      },
      "outputs": [
        {
          "name": "stdout",
          "output_type": "stream",
          "text": [
            "F1-score на обучающей выборке: 0.8313689936536718\n"
          ]
        }
      ],
      "source": [
        "# создание экземпляра логистической регрессии\n",
        "best_model = LogisticRegression(C=1,penalty='l2',solver='sag',class_weight='balanced',random_state=rs)\n",
        "best_model.fit(tf_idf_train,target_train)\n",
        "print('F1-score на обучающей выборке:', f1_score(target_train,best_model.predict(tf_idf_train)))\n"
      ]
    },
    {
      "cell_type": "code",
      "execution_count": null,
      "metadata": {
        "scrolled": true,
        "id": "05aWNKO9CqsH",
        "outputId": "59cbffd5-b2fa-40e5-d1fa-1ce8717b4283"
      },
      "outputs": [
        {
          "data": {
            "text/plain": [
              "0.7401358047348138"
            ]
          },
          "execution_count": 60,
          "metadata": {},
          "output_type": "execute_result"
        }
      ],
      "source": [
        "f1_score(target_test,best_model.predict(tf_idf_test))"
      ]
    },
    {
      "cell_type": "code",
      "execution_count": null,
      "metadata": {
        "scrolled": true,
        "id": "pH76DpsmCqsH",
        "outputId": "189b329c-d2ea-4d8f-b5d9-68ef30cd9e55"
      },
      "outputs": [
        {
          "name": "stdout",
          "output_type": "stream",
          "text": [
            "Лучший порог: 0.7000000000000002\n",
            "Лучшая F1-мера: 0.7704041296563271\n"
          ]
        }
      ],
      "source": [
        "lr_best_hold(best_model)"
      ]
    },
    {
      "cell_type": "markdown",
      "metadata": {
        "id": "FwupIEI-CqsI"
      },
      "source": [
        "## Выводы"
      ]
    },
    {
      "cell_type": "code",
      "execution_count": null,
      "metadata": {
        "scrolled": true,
        "id": "wVgHXsZtCqsI",
        "outputId": "99106aae-2d8d-4d34-aed8-2dc7831fc892"
      },
      "outputs": [
        {
          "data": {
            "text/html": [
              "<style>#sk-container-id-2 {color: black;background-color: white;}#sk-container-id-2 pre{padding: 0;}#sk-container-id-2 div.sk-toggleable {background-color: white;}#sk-container-id-2 label.sk-toggleable__label {cursor: pointer;display: block;width: 100%;margin-bottom: 0;padding: 0.3em;box-sizing: border-box;text-align: center;}#sk-container-id-2 label.sk-toggleable__label-arrow:before {content: \"▸\";float: left;margin-right: 0.25em;color: #696969;}#sk-container-id-2 label.sk-toggleable__label-arrow:hover:before {color: black;}#sk-container-id-2 div.sk-estimator:hover label.sk-toggleable__label-arrow:before {color: black;}#sk-container-id-2 div.sk-toggleable__content {max-height: 0;max-width: 0;overflow: hidden;text-align: left;background-color: #f0f8ff;}#sk-container-id-2 div.sk-toggleable__content pre {margin: 0.2em;color: black;border-radius: 0.25em;background-color: #f0f8ff;}#sk-container-id-2 input.sk-toggleable__control:checked~div.sk-toggleable__content {max-height: 200px;max-width: 100%;overflow: auto;}#sk-container-id-2 input.sk-toggleable__control:checked~label.sk-toggleable__label-arrow:before {content: \"▾\";}#sk-container-id-2 div.sk-estimator input.sk-toggleable__control:checked~label.sk-toggleable__label {background-color: #d4ebff;}#sk-container-id-2 div.sk-label input.sk-toggleable__control:checked~label.sk-toggleable__label {background-color: #d4ebff;}#sk-container-id-2 input.sk-hidden--visually {border: 0;clip: rect(1px 1px 1px 1px);clip: rect(1px, 1px, 1px, 1px);height: 1px;margin: -1px;overflow: hidden;padding: 0;position: absolute;width: 1px;}#sk-container-id-2 div.sk-estimator {font-family: monospace;background-color: #f0f8ff;border: 1px dotted black;border-radius: 0.25em;box-sizing: border-box;margin-bottom: 0.5em;}#sk-container-id-2 div.sk-estimator:hover {background-color: #d4ebff;}#sk-container-id-2 div.sk-parallel-item::after {content: \"\";width: 100%;border-bottom: 1px solid gray;flex-grow: 1;}#sk-container-id-2 div.sk-label:hover label.sk-toggleable__label {background-color: #d4ebff;}#sk-container-id-2 div.sk-serial::before {content: \"\";position: absolute;border-left: 1px solid gray;box-sizing: border-box;top: 0;bottom: 0;left: 50%;z-index: 0;}#sk-container-id-2 div.sk-serial {display: flex;flex-direction: column;align-items: center;background-color: white;padding-right: 0.2em;padding-left: 0.2em;position: relative;}#sk-container-id-2 div.sk-item {position: relative;z-index: 1;}#sk-container-id-2 div.sk-parallel {display: flex;align-items: stretch;justify-content: center;background-color: white;position: relative;}#sk-container-id-2 div.sk-item::before, #sk-container-id-2 div.sk-parallel-item::before {content: \"\";position: absolute;border-left: 1px solid gray;box-sizing: border-box;top: 0;bottom: 0;left: 50%;z-index: -1;}#sk-container-id-2 div.sk-parallel-item {display: flex;flex-direction: column;z-index: 1;position: relative;background-color: white;}#sk-container-id-2 div.sk-parallel-item:first-child::after {align-self: flex-end;width: 50%;}#sk-container-id-2 div.sk-parallel-item:last-child::after {align-self: flex-start;width: 50%;}#sk-container-id-2 div.sk-parallel-item:only-child::after {width: 0;}#sk-container-id-2 div.sk-dashed-wrapped {border: 1px dashed gray;margin: 0 0.4em 0.5em 0.4em;box-sizing: border-box;padding-bottom: 0.4em;background-color: white;}#sk-container-id-2 div.sk-label label {font-family: monospace;font-weight: bold;display: inline-block;line-height: 1.2em;}#sk-container-id-2 div.sk-label-container {text-align: center;}#sk-container-id-2 div.sk-container {/* jupyter's `normalize.less` sets `[hidden] { display: none; }` but bootstrap.min.css set `[hidden] { display: none !important; }` so we also need the `!important` here to be able to override the default hidden behavior on the sphinx rendered scikit-learn.org. See: https://github.com/scikit-learn/scikit-learn/issues/21755 */display: inline-block !important;position: relative;}#sk-container-id-2 div.sk-text-repr-fallback {display: none;}</style><div id=\"sk-container-id-2\" class=\"sk-top-container\"><div class=\"sk-text-repr-fallback\"><pre>LogisticRegression(C=4, class_weight=&#x27;balanced&#x27;, max_iter=12, random_state=7,\n",
              "                   solver=&#x27;sag&#x27;)</pre><b>In a Jupyter environment, please rerun this cell to show the HTML representation or trust the notebook. <br />On GitHub, the HTML representation is unable to render, please try loading this page with nbviewer.org.</b></div><div class=\"sk-container\" hidden><div class=\"sk-item\"><div class=\"sk-estimator sk-toggleable\"><input class=\"sk-toggleable__control sk-hidden--visually\" id=\"sk-estimator-id-2\" type=\"checkbox\" checked><label for=\"sk-estimator-id-2\" class=\"sk-toggleable__label sk-toggleable__label-arrow\">LogisticRegression</label><div class=\"sk-toggleable__content\"><pre>LogisticRegression(C=4, class_weight=&#x27;balanced&#x27;, max_iter=12, random_state=7,\n",
              "                   solver=&#x27;sag&#x27;)</pre></div></div></div></div></div>"
            ],
            "text/plain": [
              "LogisticRegression(C=4, class_weight='balanced', max_iter=12, random_state=7,\n",
              "                   solver='sag')"
            ]
          },
          "execution_count": 62,
          "metadata": {},
          "output_type": "execute_result"
        }
      ],
      "source": [
        "model"
      ]
    },
    {
      "cell_type": "code",
      "execution_count": null,
      "metadata": {
        "id": "JbnBEMCPCqsI",
        "outputId": "a29a32aa-9614-4f6d-d61c-4efd79cca01b"
      },
      "outputs": [
        {
          "data": {
            "text/html": [
              "<style>#sk-container-id-3 {color: black;background-color: white;}#sk-container-id-3 pre{padding: 0;}#sk-container-id-3 div.sk-toggleable {background-color: white;}#sk-container-id-3 label.sk-toggleable__label {cursor: pointer;display: block;width: 100%;margin-bottom: 0;padding: 0.3em;box-sizing: border-box;text-align: center;}#sk-container-id-3 label.sk-toggleable__label-arrow:before {content: \"▸\";float: left;margin-right: 0.25em;color: #696969;}#sk-container-id-3 label.sk-toggleable__label-arrow:hover:before {color: black;}#sk-container-id-3 div.sk-estimator:hover label.sk-toggleable__label-arrow:before {color: black;}#sk-container-id-3 div.sk-toggleable__content {max-height: 0;max-width: 0;overflow: hidden;text-align: left;background-color: #f0f8ff;}#sk-container-id-3 div.sk-toggleable__content pre {margin: 0.2em;color: black;border-radius: 0.25em;background-color: #f0f8ff;}#sk-container-id-3 input.sk-toggleable__control:checked~div.sk-toggleable__content {max-height: 200px;max-width: 100%;overflow: auto;}#sk-container-id-3 input.sk-toggleable__control:checked~label.sk-toggleable__label-arrow:before {content: \"▾\";}#sk-container-id-3 div.sk-estimator input.sk-toggleable__control:checked~label.sk-toggleable__label {background-color: #d4ebff;}#sk-container-id-3 div.sk-label input.sk-toggleable__control:checked~label.sk-toggleable__label {background-color: #d4ebff;}#sk-container-id-3 input.sk-hidden--visually {border: 0;clip: rect(1px 1px 1px 1px);clip: rect(1px, 1px, 1px, 1px);height: 1px;margin: -1px;overflow: hidden;padding: 0;position: absolute;width: 1px;}#sk-container-id-3 div.sk-estimator {font-family: monospace;background-color: #f0f8ff;border: 1px dotted black;border-radius: 0.25em;box-sizing: border-box;margin-bottom: 0.5em;}#sk-container-id-3 div.sk-estimator:hover {background-color: #d4ebff;}#sk-container-id-3 div.sk-parallel-item::after {content: \"\";width: 100%;border-bottom: 1px solid gray;flex-grow: 1;}#sk-container-id-3 div.sk-label:hover label.sk-toggleable__label {background-color: #d4ebff;}#sk-container-id-3 div.sk-serial::before {content: \"\";position: absolute;border-left: 1px solid gray;box-sizing: border-box;top: 0;bottom: 0;left: 50%;z-index: 0;}#sk-container-id-3 div.sk-serial {display: flex;flex-direction: column;align-items: center;background-color: white;padding-right: 0.2em;padding-left: 0.2em;position: relative;}#sk-container-id-3 div.sk-item {position: relative;z-index: 1;}#sk-container-id-3 div.sk-parallel {display: flex;align-items: stretch;justify-content: center;background-color: white;position: relative;}#sk-container-id-3 div.sk-item::before, #sk-container-id-3 div.sk-parallel-item::before {content: \"\";position: absolute;border-left: 1px solid gray;box-sizing: border-box;top: 0;bottom: 0;left: 50%;z-index: -1;}#sk-container-id-3 div.sk-parallel-item {display: flex;flex-direction: column;z-index: 1;position: relative;background-color: white;}#sk-container-id-3 div.sk-parallel-item:first-child::after {align-self: flex-end;width: 50%;}#sk-container-id-3 div.sk-parallel-item:last-child::after {align-self: flex-start;width: 50%;}#sk-container-id-3 div.sk-parallel-item:only-child::after {width: 0;}#sk-container-id-3 div.sk-dashed-wrapped {border: 1px dashed gray;margin: 0 0.4em 0.5em 0.4em;box-sizing: border-box;padding-bottom: 0.4em;background-color: white;}#sk-container-id-3 div.sk-label label {font-family: monospace;font-weight: bold;display: inline-block;line-height: 1.2em;}#sk-container-id-3 div.sk-label-container {text-align: center;}#sk-container-id-3 div.sk-container {/* jupyter's `normalize.less` sets `[hidden] { display: none; }` but bootstrap.min.css set `[hidden] { display: none !important; }` so we also need the `!important` here to be able to override the default hidden behavior on the sphinx rendered scikit-learn.org. See: https://github.com/scikit-learn/scikit-learn/issues/21755 */display: inline-block !important;position: relative;}#sk-container-id-3 div.sk-text-repr-fallback {display: none;}</style><div id=\"sk-container-id-3\" class=\"sk-top-container\"><div class=\"sk-text-repr-fallback\"><pre>LogisticRegression(C=4, class_weight=&#x27;balanced&#x27;, max_iter=12, random_state=7,\n",
              "                   solver=&#x27;sag&#x27;)</pre><b>In a Jupyter environment, please rerun this cell to show the HTML representation or trust the notebook. <br />On GitHub, the HTML representation is unable to render, please try loading this page with nbviewer.org.</b></div><div class=\"sk-container\" hidden><div class=\"sk-item\"><div class=\"sk-estimator sk-toggleable\"><input class=\"sk-toggleable__control sk-hidden--visually\" id=\"sk-estimator-id-3\" type=\"checkbox\" checked><label for=\"sk-estimator-id-3\" class=\"sk-toggleable__label sk-toggleable__label-arrow\">LogisticRegression</label><div class=\"sk-toggleable__content\"><pre>LogisticRegression(C=4, class_weight=&#x27;balanced&#x27;, max_iter=12, random_state=7,\n",
              "                   solver=&#x27;sag&#x27;)</pre></div></div></div></div></div>"
            ],
            "text/plain": [
              "LogisticRegression(C=4, class_weight='balanced', max_iter=12, random_state=7,\n",
              "                   solver='sag')"
            ]
          },
          "execution_count": 63,
          "metadata": {},
          "output_type": "execute_result"
        }
      ],
      "source": [
        "model.fit(tf_idf_train,target_train)"
      ]
    },
    {
      "cell_type": "code",
      "execution_count": null,
      "metadata": {
        "id": "qy-CHZeHCqsJ"
      },
      "outputs": [],
      "source": [
        "prediction = model.predict(tf_idf_test)"
      ]
    },
    {
      "cell_type": "code",
      "execution_count": null,
      "metadata": {
        "id": "Pijs63-XCqsJ"
      },
      "outputs": [],
      "source": [
        "proba = model.predict_proba(tf_idf_test)\n",
        "\n",
        "threshold = 0.7\n",
        "predictions = (proba[:, 1] >= threshold).astype(int)"
      ]
    },
    {
      "cell_type": "code",
      "execution_count": null,
      "metadata": {
        "scrolled": true,
        "id": "5cVz8LgzCqsJ",
        "outputId": "e05e0739-3a45-40bd-e836-9d072c2f6165"
      },
      "outputs": [
        {
          "data": {
            "text/html": [
              "<style>#sk-container-id-4 {color: black;background-color: white;}#sk-container-id-4 pre{padding: 0;}#sk-container-id-4 div.sk-toggleable {background-color: white;}#sk-container-id-4 label.sk-toggleable__label {cursor: pointer;display: block;width: 100%;margin-bottom: 0;padding: 0.3em;box-sizing: border-box;text-align: center;}#sk-container-id-4 label.sk-toggleable__label-arrow:before {content: \"▸\";float: left;margin-right: 0.25em;color: #696969;}#sk-container-id-4 label.sk-toggleable__label-arrow:hover:before {color: black;}#sk-container-id-4 div.sk-estimator:hover label.sk-toggleable__label-arrow:before {color: black;}#sk-container-id-4 div.sk-toggleable__content {max-height: 0;max-width: 0;overflow: hidden;text-align: left;background-color: #f0f8ff;}#sk-container-id-4 div.sk-toggleable__content pre {margin: 0.2em;color: black;border-radius: 0.25em;background-color: #f0f8ff;}#sk-container-id-4 input.sk-toggleable__control:checked~div.sk-toggleable__content {max-height: 200px;max-width: 100%;overflow: auto;}#sk-container-id-4 input.sk-toggleable__control:checked~label.sk-toggleable__label-arrow:before {content: \"▾\";}#sk-container-id-4 div.sk-estimator input.sk-toggleable__control:checked~label.sk-toggleable__label {background-color: #d4ebff;}#sk-container-id-4 div.sk-label input.sk-toggleable__control:checked~label.sk-toggleable__label {background-color: #d4ebff;}#sk-container-id-4 input.sk-hidden--visually {border: 0;clip: rect(1px 1px 1px 1px);clip: rect(1px, 1px, 1px, 1px);height: 1px;margin: -1px;overflow: hidden;padding: 0;position: absolute;width: 1px;}#sk-container-id-4 div.sk-estimator {font-family: monospace;background-color: #f0f8ff;border: 1px dotted black;border-radius: 0.25em;box-sizing: border-box;margin-bottom: 0.5em;}#sk-container-id-4 div.sk-estimator:hover {background-color: #d4ebff;}#sk-container-id-4 div.sk-parallel-item::after {content: \"\";width: 100%;border-bottom: 1px solid gray;flex-grow: 1;}#sk-container-id-4 div.sk-label:hover label.sk-toggleable__label {background-color: #d4ebff;}#sk-container-id-4 div.sk-serial::before {content: \"\";position: absolute;border-left: 1px solid gray;box-sizing: border-box;top: 0;bottom: 0;left: 50%;z-index: 0;}#sk-container-id-4 div.sk-serial {display: flex;flex-direction: column;align-items: center;background-color: white;padding-right: 0.2em;padding-left: 0.2em;position: relative;}#sk-container-id-4 div.sk-item {position: relative;z-index: 1;}#sk-container-id-4 div.sk-parallel {display: flex;align-items: stretch;justify-content: center;background-color: white;position: relative;}#sk-container-id-4 div.sk-item::before, #sk-container-id-4 div.sk-parallel-item::before {content: \"\";position: absolute;border-left: 1px solid gray;box-sizing: border-box;top: 0;bottom: 0;left: 50%;z-index: -1;}#sk-container-id-4 div.sk-parallel-item {display: flex;flex-direction: column;z-index: 1;position: relative;background-color: white;}#sk-container-id-4 div.sk-parallel-item:first-child::after {align-self: flex-end;width: 50%;}#sk-container-id-4 div.sk-parallel-item:last-child::after {align-self: flex-start;width: 50%;}#sk-container-id-4 div.sk-parallel-item:only-child::after {width: 0;}#sk-container-id-4 div.sk-dashed-wrapped {border: 1px dashed gray;margin: 0 0.4em 0.5em 0.4em;box-sizing: border-box;padding-bottom: 0.4em;background-color: white;}#sk-container-id-4 div.sk-label label {font-family: monospace;font-weight: bold;display: inline-block;line-height: 1.2em;}#sk-container-id-4 div.sk-label-container {text-align: center;}#sk-container-id-4 div.sk-container {/* jupyter's `normalize.less` sets `[hidden] { display: none; }` but bootstrap.min.css set `[hidden] { display: none !important; }` so we also need the `!important` here to be able to override the default hidden behavior on the sphinx rendered scikit-learn.org. See: https://github.com/scikit-learn/scikit-learn/issues/21755 */display: inline-block !important;position: relative;}#sk-container-id-4 div.sk-text-repr-fallback {display: none;}</style><div id=\"sk-container-id-4\" class=\"sk-top-container\"><div class=\"sk-text-repr-fallback\"><pre>LogisticRegression(C=4, class_weight=&#x27;balanced&#x27;, max_iter=12, random_state=7,\n",
              "                   solver=&#x27;sag&#x27;)</pre><b>In a Jupyter environment, please rerun this cell to show the HTML representation or trust the notebook. <br />On GitHub, the HTML representation is unable to render, please try loading this page with nbviewer.org.</b></div><div class=\"sk-container\" hidden><div class=\"sk-item\"><div class=\"sk-estimator sk-toggleable\"><input class=\"sk-toggleable__control sk-hidden--visually\" id=\"sk-estimator-id-4\" type=\"checkbox\" checked><label for=\"sk-estimator-id-4\" class=\"sk-toggleable__label sk-toggleable__label-arrow\">LogisticRegression</label><div class=\"sk-toggleable__content\"><pre>LogisticRegression(C=4, class_weight=&#x27;balanced&#x27;, max_iter=12, random_state=7,\n",
              "                   solver=&#x27;sag&#x27;)</pre></div></div></div></div></div>"
            ],
            "text/plain": [
              "LogisticRegression(C=4, class_weight='balanced', max_iter=12, random_state=7,\n",
              "                   solver='sag')"
            ]
          },
          "execution_count": 66,
          "metadata": {},
          "output_type": "execute_result"
        }
      ],
      "source": [
        "model"
      ]
    },
    {
      "cell_type": "code",
      "execution_count": null,
      "metadata": {
        "id": "suH9faCKCqsJ",
        "outputId": "1c172782-f134-4eea-a5ba-373dfd8765e7"
      },
      "outputs": [
        {
          "data": {
            "text/plain": [
              "0.7705160744500846"
            ]
          },
          "execution_count": 67,
          "metadata": {},
          "output_type": "execute_result"
        }
      ],
      "source": [
        "f1_score(predictions,target_test)"
      ]
    },
    {
      "cell_type": "markdown",
      "metadata": {
        "id": "gJT8GbLBCqsJ"
      },
      "source": [
        "Лучшая модель:\n",
        "\n",
        "LogisticRegression(C=4, class_weight='balanced', max_iter=12, random_state=7,\n",
        "                   solver='sag')\n",
        "                   \n",
        "Классическая модель без каких-либо противодействий дизбалансу дает f1 = 0.77.\n",
        "\n",
        "\n",
        "\n",
        "\n",
        "\n",
        "Лучшая F1-мера на тестовой выборке:\n",
        "\n",
        "F1-score для тестовой выборки: 0.77\n",
        "\n",
        "\n",
        "\n",
        "\n",
        "\n",
        "\n",
        "Модель с statify, весами и дала максимально 0.769\n",
        "\n"
      ]
    }
  ],
  "metadata": {
    "ExecuteTimeLog": [
      {
        "duration": 1308,
        "start_time": "2023-05-28T11:10:33.211Z"
      },
      {
        "duration": 22299,
        "start_time": "2023-05-28T11:11:00.001Z"
      },
      {
        "duration": 17949,
        "start_time": "2023-05-28T11:11:31.140Z"
      },
      {
        "duration": 1006,
        "start_time": "2023-05-28T11:11:49.091Z"
      },
      {
        "duration": 2604,
        "start_time": "2023-05-28T11:13:44.293Z"
      },
      {
        "duration": 90,
        "start_time": "2023-05-28T11:14:31.457Z"
      },
      {
        "duration": 10,
        "start_time": "2023-05-28T11:14:31.894Z"
      },
      {
        "duration": 3,
        "start_time": "2023-05-28T11:14:34.808Z"
      },
      {
        "duration": 16,
        "start_time": "2023-05-28T11:14:34.992Z"
      },
      {
        "duration": 383,
        "start_time": "2023-05-28T11:14:35.920Z"
      },
      {
        "duration": 6,
        "start_time": "2023-05-28T11:14:36.447Z"
      },
      {
        "duration": 11,
        "start_time": "2023-05-28T11:14:36.919Z"
      },
      {
        "duration": 3,
        "start_time": "2023-05-28T11:14:37.207Z"
      },
      {
        "duration": 2,
        "start_time": "2023-05-28T11:14:37.491Z"
      },
      {
        "duration": 3,
        "start_time": "2023-05-28T11:14:37.712Z"
      },
      {
        "duration": 3842,
        "start_time": "2023-05-28T11:14:37.986Z"
      },
      {
        "duration": 8,
        "start_time": "2023-05-28T11:14:41.830Z"
      },
      {
        "duration": 31,
        "start_time": "2023-05-28T11:14:41.839Z"
      },
      {
        "duration": 39981,
        "start_time": "2023-05-28T11:14:43.200Z"
      },
      {
        "duration": 9,
        "start_time": "2023-05-28T11:16:50.298Z"
      },
      {
        "duration": 40800,
        "start_time": "2023-05-28T11:17:57.056Z"
      },
      {
        "duration": 3,
        "start_time": "2023-05-28T11:19:53.691Z"
      },
      {
        "duration": 2,
        "start_time": "2023-05-28T11:20:40.195Z"
      },
      {
        "duration": 4,
        "start_time": "2023-05-28T11:20:40.413Z"
      },
      {
        "duration": 5320,
        "start_time": "2023-05-28T11:20:51.880Z"
      },
      {
        "duration": 4,
        "start_time": "2023-05-28T11:21:44.038Z"
      },
      {
        "duration": 5081,
        "start_time": "2023-05-28T11:21:44.438Z"
      },
      {
        "duration": 8,
        "start_time": "2023-05-28T11:22:41.087Z"
      },
      {
        "duration": 81922,
        "start_time": "2023-05-28T11:22:42.108Z"
      },
      {
        "duration": 3,
        "start_time": "2023-05-28T11:24:46.756Z"
      },
      {
        "duration": 4483,
        "start_time": "2023-05-28T11:24:48.991Z"
      },
      {
        "duration": 3,
        "start_time": "2023-05-28T11:25:36.777Z"
      },
      {
        "duration": 8,
        "start_time": "2023-05-28T11:25:47.245Z"
      },
      {
        "duration": 40,
        "start_time": "2023-05-28T11:25:47.638Z"
      },
      {
        "duration": 3808,
        "start_time": "2023-05-28T11:26:35.994Z"
      },
      {
        "duration": 5,
        "start_time": "2023-05-28T11:26:41.124Z"
      },
      {
        "duration": 3,
        "start_time": "2023-05-28T11:26:41.295Z"
      },
      {
        "duration": 10,
        "start_time": "2023-05-28T11:26:41.509Z"
      },
      {
        "duration": 2511,
        "start_time": "2023-05-28T11:26:41.710Z"
      },
      {
        "duration": 371,
        "start_time": "2023-05-28T11:26:44.223Z"
      },
      {
        "duration": 5,
        "start_time": "2023-05-28T11:26:44.596Z"
      },
      {
        "duration": 30,
        "start_time": "2023-05-28T11:26:44.604Z"
      },
      {
        "duration": 9,
        "start_time": "2023-05-28T11:26:44.637Z"
      },
      {
        "duration": 8,
        "start_time": "2023-05-28T11:26:44.647Z"
      },
      {
        "duration": 6,
        "start_time": "2023-05-28T11:26:44.657Z"
      },
      {
        "duration": 3400,
        "start_time": "2023-05-28T11:26:44.665Z"
      },
      {
        "duration": 4,
        "start_time": "2023-05-28T11:26:48.067Z"
      },
      {
        "duration": 17,
        "start_time": "2023-05-28T11:26:48.073Z"
      },
      {
        "duration": 4851,
        "start_time": "2023-05-28T11:26:48.092Z"
      },
      {
        "duration": 5278,
        "start_time": "2023-05-28T11:26:54.526Z"
      },
      {
        "duration": 4,
        "start_time": "2023-05-28T11:27:00.696Z"
      },
      {
        "duration": 3,
        "start_time": "2023-05-28T11:27:21.509Z"
      },
      {
        "duration": 3,
        "start_time": "2023-05-28T11:27:25.793Z"
      },
      {
        "duration": 536,
        "start_time": "2023-05-28T11:27:41.577Z"
      },
      {
        "duration": 3,
        "start_time": "2023-05-28T11:29:13.495Z"
      },
      {
        "duration": 411,
        "start_time": "2023-05-28T11:29:13.979Z"
      },
      {
        "duration": 3,
        "start_time": "2023-05-28T11:29:21.187Z"
      },
      {
        "duration": 1987,
        "start_time": "2023-05-28T11:29:22.124Z"
      },
      {
        "duration": 1910,
        "start_time": "2023-05-28T11:29:41.258Z"
      },
      {
        "duration": 13,
        "start_time": "2023-05-28T11:29:45.010Z"
      },
      {
        "duration": 11,
        "start_time": "2023-05-28T11:30:02.354Z"
      },
      {
        "duration": 6,
        "start_time": "2023-05-28T11:32:00.594Z"
      },
      {
        "duration": 25,
        "start_time": "2023-05-28T11:37:43.562Z"
      },
      {
        "duration": 8,
        "start_time": "2023-05-28T11:38:01.837Z"
      },
      {
        "duration": 21,
        "start_time": "2023-05-28T11:43:00.526Z"
      },
      {
        "duration": 28,
        "start_time": "2023-05-28T11:43:13.219Z"
      },
      {
        "duration": 5,
        "start_time": "2023-05-28T11:51:30.225Z"
      },
      {
        "duration": 5,
        "start_time": "2023-05-28T11:52:23.383Z"
      },
      {
        "duration": 14,
        "start_time": "2023-05-28T11:59:17.990Z"
      },
      {
        "duration": 13,
        "start_time": "2023-05-28T11:59:21.701Z"
      },
      {
        "duration": 7,
        "start_time": "2023-05-28T11:59:25.248Z"
      },
      {
        "duration": 47,
        "start_time": "2023-05-28T11:59:26.083Z"
      },
      {
        "duration": 39,
        "start_time": "2023-05-28T12:02:05.249Z"
      },
      {
        "duration": 235,
        "start_time": "2023-05-28T12:02:41.754Z"
      },
      {
        "duration": 253,
        "start_time": "2023-05-28T12:02:45.932Z"
      },
      {
        "duration": 131,
        "start_time": "2023-05-28T12:02:50.875Z"
      },
      {
        "duration": 6437,
        "start_time": "2023-05-28T12:02:59.653Z"
      },
      {
        "duration": 4,
        "start_time": "2023-05-28T12:03:17.684Z"
      },
      {
        "duration": 9,
        "start_time": "2023-05-28T12:03:23.149Z"
      },
      {
        "duration": 5,
        "start_time": "2023-05-28T12:04:38.523Z"
      },
      {
        "duration": 6240,
        "start_time": "2023-05-28T12:04:39.396Z"
      },
      {
        "duration": 15,
        "start_time": "2023-05-28T12:04:46.478Z"
      },
      {
        "duration": 3,
        "start_time": "2023-05-28T12:04:49.683Z"
      },
      {
        "duration": 5857,
        "start_time": "2023-05-28T12:04:51.195Z"
      },
      {
        "duration": 12,
        "start_time": "2023-05-28T12:04:57.522Z"
      },
      {
        "duration": 27,
        "start_time": "2023-05-28T12:05:02.191Z"
      },
      {
        "duration": 5,
        "start_time": "2023-05-28T12:05:05.230Z"
      },
      {
        "duration": 5,
        "start_time": "2023-05-28T12:05:52.982Z"
      },
      {
        "duration": 4,
        "start_time": "2023-05-28T12:06:02.374Z"
      },
      {
        "duration": 11,
        "start_time": "2023-05-28T12:06:03.826Z"
      },
      {
        "duration": 8,
        "start_time": "2023-05-28T12:06:30.447Z"
      },
      {
        "duration": 56,
        "start_time": "2023-05-28T12:06:38.122Z"
      },
      {
        "duration": 6,
        "start_time": "2023-05-28T12:07:04.099Z"
      },
      {
        "duration": 2860,
        "start_time": "2023-05-28T12:07:07.112Z"
      },
      {
        "duration": 5,
        "start_time": "2023-05-28T12:07:18.715Z"
      },
      {
        "duration": 60829,
        "start_time": "2023-05-28T12:07:21.323Z"
      },
      {
        "duration": 28,
        "start_time": "2023-05-28T12:08:41.087Z"
      },
      {
        "duration": 5,
        "start_time": "2023-05-28T12:09:22.890Z"
      },
      {
        "duration": 0,
        "start_time": "2023-05-28T12:10:00.387Z"
      },
      {
        "duration": 18,
        "start_time": "2023-05-28T12:11:48.856Z"
      },
      {
        "duration": 5,
        "start_time": "2023-05-28T12:12:02.496Z"
      },
      {
        "duration": 16363,
        "start_time": "2023-05-28T12:23:27.610Z"
      },
      {
        "duration": 2950,
        "start_time": "2023-05-28T12:23:43.976Z"
      },
      {
        "duration": 3,
        "start_time": "2023-05-28T12:23:46.927Z"
      },
      {
        "duration": 3,
        "start_time": "2023-05-28T12:23:46.933Z"
      },
      {
        "duration": 44,
        "start_time": "2023-05-28T12:23:46.938Z"
      },
      {
        "duration": 1063,
        "start_time": "2023-05-28T12:23:46.983Z"
      },
      {
        "duration": 370,
        "start_time": "2023-05-28T12:23:48.047Z"
      },
      {
        "duration": 7,
        "start_time": "2023-05-28T12:23:48.425Z"
      },
      {
        "duration": 40,
        "start_time": "2023-05-28T12:23:48.436Z"
      },
      {
        "duration": 15,
        "start_time": "2023-05-28T12:23:48.479Z"
      },
      {
        "duration": 13,
        "start_time": "2023-05-28T12:23:48.496Z"
      },
      {
        "duration": 18,
        "start_time": "2023-05-28T12:23:48.510Z"
      },
      {
        "duration": 4030,
        "start_time": "2023-05-28T12:23:48.529Z"
      },
      {
        "duration": 4,
        "start_time": "2023-05-28T12:23:52.561Z"
      },
      {
        "duration": 11,
        "start_time": "2023-05-28T12:23:52.567Z"
      },
      {
        "duration": 5708,
        "start_time": "2023-05-28T12:23:52.580Z"
      },
      {
        "duration": 3,
        "start_time": "2023-05-28T12:23:58.290Z"
      },
      {
        "duration": 2145,
        "start_time": "2023-05-28T12:23:58.294Z"
      },
      {
        "duration": 18,
        "start_time": "2023-05-28T12:24:00.448Z"
      },
      {
        "duration": 26,
        "start_time": "2023-05-28T12:24:00.468Z"
      },
      {
        "duration": 96,
        "start_time": "2023-05-28T12:24:00.496Z"
      },
      {
        "duration": 80,
        "start_time": "2023-05-28T12:24:00.593Z"
      },
      {
        "duration": 59,
        "start_time": "2023-05-28T12:24:00.675Z"
      },
      {
        "duration": 86,
        "start_time": "2023-05-28T12:24:00.737Z"
      },
      {
        "duration": 463,
        "start_time": "2023-05-28T12:24:00.832Z"
      },
      {
        "duration": 4,
        "start_time": "2023-05-28T12:24:01.298Z"
      },
      {
        "duration": 5622,
        "start_time": "2023-05-28T12:24:01.304Z"
      },
      {
        "duration": 33,
        "start_time": "2023-05-28T12:24:06.930Z"
      },
      {
        "duration": 7,
        "start_time": "2023-05-28T12:24:06.965Z"
      },
      {
        "duration": 7,
        "start_time": "2023-05-28T12:24:06.975Z"
      },
      {
        "duration": 8,
        "start_time": "2023-05-28T12:24:06.984Z"
      },
      {
        "duration": 15498,
        "start_time": "2023-05-28T12:27:10.154Z"
      },
      {
        "duration": 2214,
        "start_time": "2023-05-28T12:27:25.654Z"
      },
      {
        "duration": 3,
        "start_time": "2023-05-28T12:27:27.871Z"
      },
      {
        "duration": 22,
        "start_time": "2023-05-28T12:27:27.876Z"
      },
      {
        "duration": 40,
        "start_time": "2023-05-28T12:27:27.901Z"
      },
      {
        "duration": 1056,
        "start_time": "2023-05-28T12:27:27.944Z"
      },
      {
        "duration": 410,
        "start_time": "2023-05-28T12:27:29.002Z"
      },
      {
        "duration": 11,
        "start_time": "2023-05-28T12:27:29.425Z"
      },
      {
        "duration": 50,
        "start_time": "2023-05-28T12:27:29.440Z"
      },
      {
        "duration": 11,
        "start_time": "2023-05-28T12:27:29.492Z"
      },
      {
        "duration": 4,
        "start_time": "2023-05-28T12:27:29.506Z"
      },
      {
        "duration": 40,
        "start_time": "2023-05-28T12:27:29.512Z"
      },
      {
        "duration": 3917,
        "start_time": "2023-05-28T12:27:29.554Z"
      },
      {
        "duration": 5,
        "start_time": "2023-05-28T12:27:33.475Z"
      },
      {
        "duration": 13,
        "start_time": "2023-05-28T12:27:33.481Z"
      },
      {
        "duration": 6065,
        "start_time": "2023-05-28T12:27:33.496Z"
      },
      {
        "duration": 4,
        "start_time": "2023-05-28T12:27:39.563Z"
      },
      {
        "duration": 2213,
        "start_time": "2023-05-28T12:27:39.568Z"
      },
      {
        "duration": 6,
        "start_time": "2023-05-28T12:27:41.783Z"
      },
      {
        "duration": 35,
        "start_time": "2023-05-28T12:27:41.791Z"
      },
      {
        "duration": 30,
        "start_time": "2023-05-28T12:27:41.829Z"
      },
      {
        "duration": 5,
        "start_time": "2023-05-28T12:27:41.861Z"
      },
      {
        "duration": 25,
        "start_time": "2023-05-28T12:27:41.868Z"
      },
      {
        "duration": 48,
        "start_time": "2023-05-28T12:27:41.895Z"
      },
      {
        "duration": 407,
        "start_time": "2023-05-28T12:27:41.948Z"
      },
      {
        "duration": 3,
        "start_time": "2023-05-28T12:27:42.361Z"
      },
      {
        "duration": 5604,
        "start_time": "2023-05-28T12:27:42.366Z"
      },
      {
        "duration": 20,
        "start_time": "2023-05-28T12:27:47.972Z"
      },
      {
        "duration": 72,
        "start_time": "2023-05-28T12:27:47.993Z"
      },
      {
        "duration": 7,
        "start_time": "2023-05-28T12:27:48.067Z"
      },
      {
        "duration": 14,
        "start_time": "2023-05-28T12:27:48.075Z"
      },
      {
        "duration": 999378,
        "start_time": "2023-05-28T12:27:48.091Z"
      },
      {
        "duration": 0,
        "start_time": "2023-05-28T12:44:27.471Z"
      },
      {
        "duration": 0,
        "start_time": "2023-05-28T12:44:27.472Z"
      },
      {
        "duration": 0,
        "start_time": "2023-05-28T12:44:27.473Z"
      },
      {
        "duration": 0,
        "start_time": "2023-05-28T12:44:27.474Z"
      },
      {
        "duration": 0,
        "start_time": "2023-05-28T12:44:27.475Z"
      },
      {
        "duration": 0,
        "start_time": "2023-05-28T12:44:27.476Z"
      },
      {
        "duration": 0,
        "start_time": "2023-05-28T12:44:27.477Z"
      },
      {
        "duration": 18,
        "start_time": "2023-05-28T12:44:31.463Z"
      },
      {
        "duration": 32,
        "start_time": "2023-05-28T12:44:32.349Z"
      },
      {
        "duration": 5,
        "start_time": "2023-05-28T12:44:46.467Z"
      },
      {
        "duration": 1492063,
        "start_time": "2023-05-28T12:44:47.010Z"
      },
      {
        "duration": 17801,
        "start_time": "2023-05-28T14:09:42.304Z"
      },
      {
        "duration": 3192,
        "start_time": "2023-05-28T14:10:00.108Z"
      },
      {
        "duration": 6,
        "start_time": "2023-05-28T14:10:03.302Z"
      },
      {
        "duration": 96,
        "start_time": "2023-05-28T14:10:03.310Z"
      },
      {
        "duration": 81,
        "start_time": "2023-05-28T14:10:03.407Z"
      },
      {
        "duration": 1114,
        "start_time": "2023-05-28T14:10:03.490Z"
      },
      {
        "duration": 431,
        "start_time": "2023-05-28T14:10:04.605Z"
      },
      {
        "duration": 9,
        "start_time": "2023-05-28T14:10:05.037Z"
      },
      {
        "duration": 70,
        "start_time": "2023-05-28T14:10:05.049Z"
      },
      {
        "duration": 88,
        "start_time": "2023-05-28T14:10:05.123Z"
      },
      {
        "duration": 79,
        "start_time": "2023-05-28T14:10:05.214Z"
      },
      {
        "duration": 63,
        "start_time": "2023-05-28T14:10:05.295Z"
      },
      {
        "duration": 4644,
        "start_time": "2023-05-28T14:10:05.359Z"
      },
      {
        "duration": 6,
        "start_time": "2023-05-28T14:10:10.005Z"
      },
      {
        "duration": 8,
        "start_time": "2023-05-28T14:10:10.013Z"
      },
      {
        "duration": 6641,
        "start_time": "2023-05-28T14:10:10.030Z"
      },
      {
        "duration": 7,
        "start_time": "2023-05-28T14:10:16.678Z"
      },
      {
        "duration": 2289,
        "start_time": "2023-05-28T14:10:16.686Z"
      },
      {
        "duration": 9,
        "start_time": "2023-05-28T14:10:18.977Z"
      },
      {
        "duration": 16,
        "start_time": "2023-05-28T14:10:18.988Z"
      },
      {
        "duration": 15,
        "start_time": "2023-05-28T14:10:19.005Z"
      },
      {
        "duration": 42,
        "start_time": "2023-05-28T14:10:19.021Z"
      },
      {
        "duration": 31,
        "start_time": "2023-05-28T14:10:19.067Z"
      },
      {
        "duration": 21,
        "start_time": "2023-05-28T14:10:19.100Z"
      },
      {
        "duration": 463,
        "start_time": "2023-05-28T14:10:19.123Z"
      },
      {
        "duration": 3,
        "start_time": "2023-05-28T14:10:19.588Z"
      },
      {
        "duration": 6391,
        "start_time": "2023-05-28T14:10:19.593Z"
      },
      {
        "duration": 18,
        "start_time": "2023-05-28T14:10:25.987Z"
      },
      {
        "duration": 76,
        "start_time": "2023-05-28T14:10:26.007Z"
      },
      {
        "duration": 20,
        "start_time": "2023-05-28T14:10:26.085Z"
      },
      {
        "duration": 268,
        "start_time": "2023-05-28T14:10:26.107Z"
      },
      {
        "duration": 0,
        "start_time": "2023-05-28T14:10:26.383Z"
      },
      {
        "duration": 0,
        "start_time": "2023-05-28T14:10:26.384Z"
      },
      {
        "duration": 0,
        "start_time": "2023-05-28T14:10:26.385Z"
      },
      {
        "duration": 0,
        "start_time": "2023-05-28T14:10:26.386Z"
      },
      {
        "duration": 1,
        "start_time": "2023-05-28T14:10:26.387Z"
      },
      {
        "duration": 0,
        "start_time": "2023-05-28T14:10:26.389Z"
      },
      {
        "duration": 0,
        "start_time": "2023-05-28T14:10:26.390Z"
      },
      {
        "duration": 0,
        "start_time": "2023-05-28T14:10:26.392Z"
      },
      {
        "duration": 0,
        "start_time": "2023-05-28T14:10:26.393Z"
      },
      {
        "duration": 0,
        "start_time": "2023-05-28T14:10:26.394Z"
      },
      {
        "duration": 17613,
        "start_time": "2023-05-28T14:20:41.957Z"
      },
      {
        "duration": 2487,
        "start_time": "2023-05-28T14:20:59.579Z"
      },
      {
        "duration": 8,
        "start_time": "2023-05-28T14:21:02.068Z"
      },
      {
        "duration": 32,
        "start_time": "2023-05-28T14:21:02.080Z"
      },
      {
        "duration": 70,
        "start_time": "2023-05-28T14:21:02.116Z"
      },
      {
        "duration": 1126,
        "start_time": "2023-05-28T14:21:02.188Z"
      },
      {
        "duration": 487,
        "start_time": "2023-05-28T14:21:03.316Z"
      },
      {
        "duration": 7,
        "start_time": "2023-05-28T14:21:03.806Z"
      },
      {
        "duration": 77,
        "start_time": "2023-05-28T14:21:03.815Z"
      },
      {
        "duration": 6,
        "start_time": "2023-05-28T14:21:03.894Z"
      },
      {
        "duration": 6,
        "start_time": "2023-05-28T14:21:03.902Z"
      },
      {
        "duration": 7,
        "start_time": "2023-05-28T14:21:03.910Z"
      },
      {
        "duration": 4641,
        "start_time": "2023-05-28T14:21:03.919Z"
      },
      {
        "duration": 6,
        "start_time": "2023-05-28T14:21:08.563Z"
      },
      {
        "duration": 20,
        "start_time": "2023-05-28T14:21:08.570Z"
      },
      {
        "duration": 6332,
        "start_time": "2023-05-28T14:21:08.592Z"
      },
      {
        "duration": 7,
        "start_time": "2023-05-28T14:21:14.926Z"
      },
      {
        "duration": 2379,
        "start_time": "2023-05-28T14:21:14.935Z"
      },
      {
        "duration": 27,
        "start_time": "2023-05-28T14:21:17.317Z"
      },
      {
        "duration": 34,
        "start_time": "2023-05-28T14:21:17.351Z"
      },
      {
        "duration": 23,
        "start_time": "2023-05-28T14:21:17.387Z"
      },
      {
        "duration": 70,
        "start_time": "2023-05-28T14:21:17.411Z"
      },
      {
        "duration": 16,
        "start_time": "2023-05-28T14:21:17.483Z"
      },
      {
        "duration": 54,
        "start_time": "2023-05-28T14:21:17.501Z"
      },
      {
        "duration": 445,
        "start_time": "2023-05-28T14:21:17.562Z"
      },
      {
        "duration": 3,
        "start_time": "2023-05-28T14:21:18.009Z"
      },
      {
        "duration": 6220,
        "start_time": "2023-05-28T14:21:18.014Z"
      },
      {
        "duration": 40,
        "start_time": "2023-05-28T14:21:24.235Z"
      },
      {
        "duration": 28,
        "start_time": "2023-05-28T14:21:24.277Z"
      },
      {
        "duration": 15,
        "start_time": "2023-05-28T14:21:24.307Z"
      },
      {
        "duration": 67,
        "start_time": "2023-05-28T14:21:24.324Z"
      },
      {
        "duration": 105197,
        "start_time": "2023-05-28T14:21:24.393Z"
      },
      {
        "duration": 0,
        "start_time": "2023-05-28T14:23:09.595Z"
      },
      {
        "duration": 0,
        "start_time": "2023-05-28T14:23:09.597Z"
      },
      {
        "duration": 0,
        "start_time": "2023-05-28T14:23:09.599Z"
      },
      {
        "duration": 0,
        "start_time": "2023-05-28T14:23:09.600Z"
      },
      {
        "duration": 0,
        "start_time": "2023-05-28T14:23:09.601Z"
      },
      {
        "duration": 0,
        "start_time": "2023-05-28T14:23:09.603Z"
      },
      {
        "duration": 0,
        "start_time": "2023-05-28T14:23:09.604Z"
      },
      {
        "duration": 15655,
        "start_time": "2023-05-28T14:56:39.014Z"
      },
      {
        "duration": 2465,
        "start_time": "2023-05-28T14:56:54.671Z"
      },
      {
        "duration": 7,
        "start_time": "2023-05-28T14:56:57.142Z"
      },
      {
        "duration": 25,
        "start_time": "2023-05-28T14:56:57.152Z"
      },
      {
        "duration": 13,
        "start_time": "2023-05-28T14:56:57.178Z"
      },
      {
        "duration": 973,
        "start_time": "2023-05-28T14:56:57.193Z"
      },
      {
        "duration": 413,
        "start_time": "2023-05-28T14:56:58.169Z"
      },
      {
        "duration": 6,
        "start_time": "2023-05-28T14:56:58.584Z"
      },
      {
        "duration": 16,
        "start_time": "2023-05-28T14:56:58.591Z"
      },
      {
        "duration": 9,
        "start_time": "2023-05-28T14:56:58.610Z"
      },
      {
        "duration": 34,
        "start_time": "2023-05-28T14:56:58.628Z"
      },
      {
        "duration": 17,
        "start_time": "2023-05-28T14:56:58.664Z"
      },
      {
        "duration": 4141,
        "start_time": "2023-05-28T14:56:58.683Z"
      },
      {
        "duration": 5,
        "start_time": "2023-05-28T14:57:02.835Z"
      },
      {
        "duration": 39,
        "start_time": "2023-05-28T14:57:02.842Z"
      },
      {
        "duration": 6051,
        "start_time": "2023-05-28T14:57:02.882Z"
      },
      {
        "duration": 3,
        "start_time": "2023-05-28T14:57:08.934Z"
      },
      {
        "duration": 2376,
        "start_time": "2023-05-28T14:57:08.943Z"
      },
      {
        "duration": 19,
        "start_time": "2023-05-28T14:57:11.329Z"
      },
      {
        "duration": 15,
        "start_time": "2023-05-28T14:57:11.355Z"
      },
      {
        "duration": 13,
        "start_time": "2023-05-28T14:57:11.372Z"
      },
      {
        "duration": 9,
        "start_time": "2023-05-28T14:57:11.386Z"
      },
      {
        "duration": 15,
        "start_time": "2023-05-28T14:57:11.397Z"
      },
      {
        "duration": 27,
        "start_time": "2023-05-28T14:57:11.413Z"
      },
      {
        "duration": 450,
        "start_time": "2023-05-28T14:57:11.443Z"
      },
      {
        "duration": 3,
        "start_time": "2023-05-28T14:57:11.895Z"
      },
      {
        "duration": 6097,
        "start_time": "2023-05-28T14:57:11.899Z"
      },
      {
        "duration": 32,
        "start_time": "2023-05-28T14:57:17.999Z"
      },
      {
        "duration": 2,
        "start_time": "2023-05-28T14:57:18.033Z"
      },
      {
        "duration": 55,
        "start_time": "2023-05-28T14:57:18.036Z"
      },
      {
        "duration": 14,
        "start_time": "2023-05-28T14:57:18.093Z"
      },
      {
        "duration": 9,
        "start_time": "2023-05-28T14:57:18.108Z"
      },
      {
        "duration": 30987,
        "start_time": "2023-05-28T14:57:18.118Z"
      },
      {
        "duration": 0,
        "start_time": "2023-05-28T14:57:49.107Z"
      },
      {
        "duration": 0,
        "start_time": "2023-05-28T14:57:49.108Z"
      },
      {
        "duration": 0,
        "start_time": "2023-05-28T14:57:49.109Z"
      },
      {
        "duration": 0,
        "start_time": "2023-05-28T14:57:49.111Z"
      },
      {
        "duration": 0,
        "start_time": "2023-05-28T14:57:49.125Z"
      },
      {
        "duration": 0,
        "start_time": "2023-05-28T14:57:49.126Z"
      },
      {
        "duration": 0,
        "start_time": "2023-05-28T14:57:49.127Z"
      },
      {
        "duration": 0,
        "start_time": "2023-05-28T14:57:49.128Z"
      },
      {
        "duration": 0,
        "start_time": "2023-05-28T14:57:49.129Z"
      },
      {
        "duration": 121,
        "start_time": "2023-05-28T15:00:04.762Z"
      },
      {
        "duration": 89,
        "start_time": "2023-05-28T15:00:12.423Z"
      },
      {
        "duration": 22207,
        "start_time": "2023-05-28T15:00:16.168Z"
      },
      {
        "duration": 23884,
        "start_time": "2023-05-28T15:00:52.599Z"
      },
      {
        "duration": 28,
        "start_time": "2023-05-28T15:02:54.115Z"
      },
      {
        "duration": 152,
        "start_time": "2023-05-28T15:02:57.267Z"
      },
      {
        "duration": 4,
        "start_time": "2023-05-28T15:03:19.799Z"
      },
      {
        "duration": 1336,
        "start_time": "2023-05-28T15:03:20.416Z"
      },
      {
        "duration": 13,
        "start_time": "2023-05-28T15:03:28.922Z"
      },
      {
        "duration": 16,
        "start_time": "2023-05-28T15:03:37.801Z"
      },
      {
        "duration": 52,
        "start_time": "2023-05-28T15:03:38.107Z"
      },
      {
        "duration": 49,
        "start_time": "2023-05-28T15:03:53.614Z"
      },
      {
        "duration": 93,
        "start_time": "2023-05-28T15:04:24.666Z"
      },
      {
        "duration": 89,
        "start_time": "2023-05-28T15:04:25.707Z"
      },
      {
        "duration": 6,
        "start_time": "2023-05-28T15:04:28.916Z"
      },
      {
        "duration": 5834,
        "start_time": "2023-05-28T15:04:52.253Z"
      },
      {
        "duration": 7,
        "start_time": "2023-05-28T15:06:02.249Z"
      },
      {
        "duration": 8,
        "start_time": "2023-05-28T15:06:57.521Z"
      },
      {
        "duration": 123,
        "start_time": "2023-05-28T15:07:14.456Z"
      },
      {
        "duration": 20761,
        "start_time": "2023-05-28T15:07:30.840Z"
      },
      {
        "duration": 125,
        "start_time": "2023-05-28T15:07:51.603Z"
      },
      {
        "duration": 15,
        "start_time": "2023-05-28T15:10:15.025Z"
      },
      {
        "duration": 20710,
        "start_time": "2023-05-28T15:10:25.315Z"
      },
      {
        "duration": 138,
        "start_time": "2023-05-28T15:10:46.034Z"
      },
      {
        "duration": 10,
        "start_time": "2023-05-28T15:10:50.867Z"
      },
      {
        "duration": 88,
        "start_time": "2023-05-28T15:11:10.453Z"
      },
      {
        "duration": 85,
        "start_time": "2023-05-28T15:11:11.607Z"
      },
      {
        "duration": 7,
        "start_time": "2023-05-28T15:11:15.879Z"
      },
      {
        "duration": 90,
        "start_time": "2023-05-28T15:11:19.903Z"
      },
      {
        "duration": 15,
        "start_time": "2023-05-28T15:11:21.043Z"
      },
      {
        "duration": 3,
        "start_time": "2023-05-28T15:11:38.697Z"
      },
      {
        "duration": 24,
        "start_time": "2023-05-28T15:11:40.522Z"
      },
      {
        "duration": 19,
        "start_time": "2023-05-28T15:11:44.950Z"
      },
      {
        "duration": 3,
        "start_time": "2023-05-28T15:11:51.099Z"
      },
      {
        "duration": 15,
        "start_time": "2023-05-28T15:11:52.055Z"
      },
      {
        "duration": 16,
        "start_time": "2023-05-28T15:11:54.895Z"
      },
      {
        "duration": 10,
        "start_time": "2023-05-28T15:11:58.596Z"
      },
      {
        "duration": 4,
        "start_time": "2023-05-28T15:12:02.695Z"
      },
      {
        "duration": 7,
        "start_time": "2023-05-28T15:12:06.395Z"
      },
      {
        "duration": 4,
        "start_time": "2023-05-28T15:12:06.801Z"
      },
      {
        "duration": 97,
        "start_time": "2023-05-28T15:12:08.569Z"
      },
      {
        "duration": 87,
        "start_time": "2023-05-28T15:12:08.860Z"
      },
      {
        "duration": 6989,
        "start_time": "2023-05-28T15:12:09.300Z"
      },
      {
        "duration": 6,
        "start_time": "2023-05-28T15:12:16.290Z"
      },
      {
        "duration": 20358,
        "start_time": "2023-05-28T15:12:16.298Z"
      },
      {
        "duration": 118,
        "start_time": "2023-05-28T15:12:36.658Z"
      },
      {
        "duration": 11,
        "start_time": "2023-05-28T15:12:36.777Z"
      },
      {
        "duration": 1072,
        "start_time": "2023-05-28T15:12:38.292Z"
      },
      {
        "duration": 3,
        "start_time": "2023-05-28T15:12:51.818Z"
      },
      {
        "duration": 454,
        "start_time": "2023-05-28T15:12:52.316Z"
      },
      {
        "duration": 7,
        "start_time": "2023-05-28T15:13:04.708Z"
      },
      {
        "duration": 692,
        "start_time": "2023-05-28T15:13:07.152Z"
      },
      {
        "duration": 6,
        "start_time": "2023-05-28T15:14:41.501Z"
      },
      {
        "duration": 5,
        "start_time": "2023-05-28T15:14:50.508Z"
      },
      {
        "duration": 910565,
        "start_time": "2023-05-28T15:14:50.993Z"
      },
      {
        "duration": 0,
        "start_time": "2023-05-28T15:30:01.559Z"
      },
      {
        "duration": 3,
        "start_time": "2023-05-28T15:45:42.988Z"
      },
      {
        "duration": 147,
        "start_time": "2023-05-28T15:46:33.414Z"
      },
      {
        "duration": 4044,
        "start_time": "2023-05-28T15:46:33.853Z"
      },
      {
        "duration": 1598,
        "start_time": "2023-05-28T15:46:37.899Z"
      },
      {
        "duration": 5,
        "start_time": "2023-05-28T15:46:39.499Z"
      },
      {
        "duration": 49,
        "start_time": "2023-05-28T15:46:39.506Z"
      },
      {
        "duration": 11,
        "start_time": "2023-05-28T15:46:39.557Z"
      },
      {
        "duration": 7,
        "start_time": "2023-05-28T15:46:39.569Z"
      },
      {
        "duration": 3,
        "start_time": "2023-05-28T15:46:39.692Z"
      },
      {
        "duration": 5916,
        "start_time": "2023-05-28T15:46:50.493Z"
      },
      {
        "duration": 137,
        "start_time": "2023-05-28T15:48:00.350Z"
      },
      {
        "duration": 7675,
        "start_time": "2023-05-28T15:48:03.338Z"
      },
      {
        "duration": 958,
        "start_time": "2023-05-28T15:48:59.099Z"
      },
      {
        "duration": 15,
        "start_time": "2023-05-28T15:54:36.042Z"
      },
      {
        "duration": 7,
        "start_time": "2023-05-28T15:54:38.798Z"
      },
      {
        "duration": 3,
        "start_time": "2023-05-28T15:54:41.358Z"
      },
      {
        "duration": 3446,
        "start_time": "2023-05-28T15:54:42.751Z"
      },
      {
        "duration": 20,
        "start_time": "2023-05-28T16:04:15.277Z"
      },
      {
        "duration": 5,
        "start_time": "2023-05-28T16:05:19.151Z"
      },
      {
        "duration": 82,
        "start_time": "2023-05-28T16:05:23.641Z"
      },
      {
        "duration": 4,
        "start_time": "2023-05-28T16:05:24.497Z"
      },
      {
        "duration": 178,
        "start_time": "2023-05-28T16:05:25.176Z"
      },
      {
        "duration": 7,
        "start_time": "2023-05-28T16:05:31.668Z"
      },
      {
        "duration": 9,
        "start_time": "2023-05-28T16:05:41.120Z"
      },
      {
        "duration": 408,
        "start_time": "2023-05-28T16:05:41.946Z"
      },
      {
        "duration": 5,
        "start_time": "2023-05-28T16:05:54.272Z"
      },
      {
        "duration": 3,
        "start_time": "2023-05-28T16:05:54.471Z"
      },
      {
        "duration": 3,
        "start_time": "2023-05-28T16:05:54.672Z"
      },
      {
        "duration": 10,
        "start_time": "2023-05-28T16:05:54.854Z"
      },
      {
        "duration": 821,
        "start_time": "2023-05-28T16:05:55.006Z"
      },
      {
        "duration": 364,
        "start_time": "2023-05-28T16:05:55.833Z"
      },
      {
        "duration": 5,
        "start_time": "2023-05-28T16:05:56.198Z"
      },
      {
        "duration": 21,
        "start_time": "2023-05-28T16:05:56.204Z"
      },
      {
        "duration": 3,
        "start_time": "2023-05-28T16:05:56.354Z"
      },
      {
        "duration": 3,
        "start_time": "2023-05-28T16:05:56.575Z"
      },
      {
        "duration": 3,
        "start_time": "2023-05-28T16:05:56.871Z"
      },
      {
        "duration": 3609,
        "start_time": "2023-05-28T16:05:57.199Z"
      },
      {
        "duration": 3,
        "start_time": "2023-05-28T16:06:00.812Z"
      },
      {
        "duration": 84,
        "start_time": "2023-05-28T16:06:00.824Z"
      },
      {
        "duration": 5347,
        "start_time": "2023-05-28T16:06:00.910Z"
      },
      {
        "duration": 4,
        "start_time": "2023-05-28T16:06:06.261Z"
      },
      {
        "duration": 2213,
        "start_time": "2023-05-28T16:06:06.267Z"
      },
      {
        "duration": 7,
        "start_time": "2023-05-28T16:06:08.482Z"
      },
      {
        "duration": 20,
        "start_time": "2023-05-28T16:06:08.491Z"
      },
      {
        "duration": 43,
        "start_time": "2023-05-28T16:06:08.513Z"
      },
      {
        "duration": 5,
        "start_time": "2023-05-28T16:06:13.823Z"
      },
      {
        "duration": 18,
        "start_time": "2023-05-28T16:06:14.879Z"
      },
      {
        "duration": 17,
        "start_time": "2023-05-28T16:06:18.399Z"
      },
      {
        "duration": 3,
        "start_time": "2023-05-28T16:06:19.103Z"
      },
      {
        "duration": 92,
        "start_time": "2023-05-28T16:06:19.623Z"
      },
      {
        "duration": 6,
        "start_time": "2023-05-28T16:06:29.878Z"
      },
      {
        "duration": 106,
        "start_time": "2023-05-28T16:06:33.972Z"
      },
      {
        "duration": 13,
        "start_time": "2023-05-28T16:07:08.375Z"
      },
      {
        "duration": 270,
        "start_time": "2023-05-28T16:07:29.807Z"
      },
      {
        "duration": 282,
        "start_time": "2023-05-28T16:07:38.886Z"
      },
      {
        "duration": 3,
        "start_time": "2023-05-28T16:07:40.174Z"
      },
      {
        "duration": 6458,
        "start_time": "2023-05-28T16:07:40.575Z"
      },
      {
        "duration": 36,
        "start_time": "2023-05-28T16:07:47.041Z"
      },
      {
        "duration": 9,
        "start_time": "2023-05-28T16:07:47.079Z"
      },
      {
        "duration": 5,
        "start_time": "2023-05-28T16:07:48.798Z"
      },
      {
        "duration": 411117,
        "start_time": "2023-05-28T16:07:50.153Z"
      },
      {
        "duration": 140,
        "start_time": "2023-05-28T16:14:42.708Z"
      },
      {
        "duration": 7,
        "start_time": "2023-05-28T16:14:51.639Z"
      },
      {
        "duration": 54023,
        "start_time": "2023-05-28T16:14:53.294Z"
      },
      {
        "duration": 0,
        "start_time": "2023-05-28T16:15:47.319Z"
      },
      {
        "duration": 3,
        "start_time": "2023-05-28T16:15:47.913Z"
      },
      {
        "duration": 14880,
        "start_time": "2023-05-28T16:15:49.422Z"
      },
      {
        "duration": 33547,
        "start_time": "2023-05-28T16:16:20.424Z"
      },
      {
        "duration": 2695,
        "start_time": "2023-05-28T16:16:53.974Z"
      },
      {
        "duration": 3,
        "start_time": "2023-05-28T16:16:56.671Z"
      },
      {
        "duration": 31,
        "start_time": "2023-05-28T16:16:56.675Z"
      },
      {
        "duration": 148,
        "start_time": "2023-05-28T16:16:56.708Z"
      },
      {
        "duration": 1001,
        "start_time": "2023-05-28T16:16:56.863Z"
      },
      {
        "duration": 430,
        "start_time": "2023-05-28T16:16:57.867Z"
      },
      {
        "duration": 5,
        "start_time": "2023-05-28T16:16:58.299Z"
      },
      {
        "duration": 69,
        "start_time": "2023-05-28T16:16:58.325Z"
      },
      {
        "duration": 19,
        "start_time": "2023-05-28T16:16:58.398Z"
      },
      {
        "duration": 42,
        "start_time": "2023-05-28T16:16:58.419Z"
      },
      {
        "duration": 31,
        "start_time": "2023-05-28T16:16:58.463Z"
      },
      {
        "duration": 4059,
        "start_time": "2023-05-28T16:16:58.496Z"
      },
      {
        "duration": 4,
        "start_time": "2023-05-28T16:17:02.559Z"
      },
      {
        "duration": 46,
        "start_time": "2023-05-28T16:17:02.566Z"
      },
      {
        "duration": 5398,
        "start_time": "2023-05-28T16:17:02.613Z"
      },
      {
        "duration": 5,
        "start_time": "2023-05-28T16:17:08.013Z"
      },
      {
        "duration": 2863,
        "start_time": "2023-05-28T16:17:08.019Z"
      },
      {
        "duration": 7,
        "start_time": "2023-05-28T16:17:10.884Z"
      },
      {
        "duration": 5,
        "start_time": "2023-05-28T16:17:10.893Z"
      },
      {
        "duration": 41,
        "start_time": "2023-05-28T16:17:10.899Z"
      },
      {
        "duration": 6,
        "start_time": "2023-05-28T16:17:10.953Z"
      },
      {
        "duration": 21,
        "start_time": "2023-05-28T16:17:10.961Z"
      },
      {
        "duration": 35,
        "start_time": "2023-05-28T16:17:10.984Z"
      },
      {
        "duration": 67,
        "start_time": "2023-05-28T16:17:11.021Z"
      },
      {
        "duration": 497,
        "start_time": "2023-05-28T16:17:11.091Z"
      },
      {
        "duration": 3,
        "start_time": "2023-05-28T16:17:11.590Z"
      },
      {
        "duration": 6449,
        "start_time": "2023-05-28T16:17:11.597Z"
      },
      {
        "duration": 34,
        "start_time": "2023-05-28T16:17:18.051Z"
      },
      {
        "duration": 16,
        "start_time": "2023-05-28T16:17:18.087Z"
      },
      {
        "duration": 17,
        "start_time": "2023-05-28T16:17:18.106Z"
      },
      {
        "duration": 49,
        "start_time": "2023-05-28T16:17:18.138Z"
      },
      {
        "duration": 1903965,
        "start_time": "2023-05-28T16:17:18.190Z"
      },
      {
        "duration": 20151,
        "start_time": "2023-05-28T16:49:02.156Z"
      },
      {
        "duration": 5,
        "start_time": "2023-05-28T16:49:22.309Z"
      },
      {
        "duration": 188,
        "start_time": "2023-05-28T16:49:22.324Z"
      },
      {
        "duration": 102,
        "start_time": "2023-05-28T16:49:22.513Z"
      },
      {
        "duration": 3978,
        "start_time": "2023-05-28T16:49:22.617Z"
      },
      {
        "duration": 1577,
        "start_time": "2023-05-28T16:49:26.596Z"
      },
      {
        "duration": 4,
        "start_time": "2023-05-28T16:49:28.174Z"
      },
      {
        "duration": 155,
        "start_time": "2023-05-28T16:49:28.180Z"
      },
      {
        "duration": 51,
        "start_time": "2023-05-28T16:49:28.337Z"
      },
      {
        "duration": 41,
        "start_time": "2023-05-28T16:49:28.390Z"
      },
      {
        "duration": 47,
        "start_time": "2023-05-28T16:49:28.436Z"
      },
      {
        "duration": 6765,
        "start_time": "2023-05-28T16:49:28.485Z"
      },
      {
        "duration": 21674,
        "start_time": "2023-05-28T16:53:52.321Z"
      },
      {
        "duration": 4,
        "start_time": "2023-05-28T16:54:13.997Z"
      },
      {
        "duration": 175,
        "start_time": "2023-05-28T16:54:14.003Z"
      },
      {
        "duration": 3,
        "start_time": "2023-05-28T16:54:14.181Z"
      },
      {
        "duration": 6332,
        "start_time": "2023-05-28T16:54:14.186Z"
      },
      {
        "duration": 1014,
        "start_time": "2023-05-28T16:55:02.592Z"
      },
      {
        "duration": 1151,
        "start_time": "2023-05-28T16:55:09.650Z"
      },
      {
        "duration": 10,
        "start_time": "2023-05-28T17:44:56.079Z"
      },
      {
        "duration": 5651,
        "start_time": "2023-05-28T17:44:56.459Z"
      },
      {
        "duration": 1038,
        "start_time": "2023-05-28T17:45:02.116Z"
      },
      {
        "duration": 4,
        "start_time": "2023-05-28T17:47:37.473Z"
      },
      {
        "duration": 6532,
        "start_time": "2023-05-28T17:47:37.786Z"
      },
      {
        "duration": 1002,
        "start_time": "2023-05-28T17:47:44.320Z"
      },
      {
        "duration": 9,
        "start_time": "2023-05-28T17:56:03.271Z"
      },
      {
        "duration": 4,
        "start_time": "2023-05-28T17:57:30.683Z"
      },
      {
        "duration": 55,
        "start_time": "2023-05-28T18:01:45.177Z"
      },
      {
        "duration": 17,
        "start_time": "2023-05-28T18:01:47.653Z"
      },
      {
        "duration": 30941,
        "start_time": "2023-05-28T18:01:54.062Z"
      },
      {
        "duration": 5604,
        "start_time": "2023-05-28T18:02:25.005Z"
      },
      {
        "duration": 4,
        "start_time": "2023-05-28T18:02:30.611Z"
      },
      {
        "duration": 73,
        "start_time": "2023-05-28T18:02:30.617Z"
      },
      {
        "duration": 143,
        "start_time": "2023-05-28T18:02:30.692Z"
      },
      {
        "duration": 3765,
        "start_time": "2023-05-28T18:02:30.841Z"
      },
      {
        "duration": 476,
        "start_time": "2023-05-28T18:02:34.608Z"
      },
      {
        "duration": 8,
        "start_time": "2023-05-28T18:02:35.085Z"
      },
      {
        "duration": 27,
        "start_time": "2023-05-28T18:02:35.098Z"
      },
      {
        "duration": 82,
        "start_time": "2023-05-28T18:02:35.127Z"
      },
      {
        "duration": 102,
        "start_time": "2023-05-28T18:02:35.212Z"
      },
      {
        "duration": 86,
        "start_time": "2023-05-28T18:02:35.317Z"
      },
      {
        "duration": 4473,
        "start_time": "2023-05-28T18:02:35.405Z"
      },
      {
        "duration": 5,
        "start_time": "2023-05-28T18:02:39.886Z"
      },
      {
        "duration": 69,
        "start_time": "2023-05-28T18:02:39.893Z"
      },
      {
        "duration": 6121,
        "start_time": "2023-05-28T18:02:39.967Z"
      },
      {
        "duration": 5,
        "start_time": "2023-05-28T18:02:46.090Z"
      },
      {
        "duration": 2687,
        "start_time": "2023-05-28T18:02:46.096Z"
      },
      {
        "duration": 6,
        "start_time": "2023-05-28T18:02:48.785Z"
      },
      {
        "duration": 4,
        "start_time": "2023-05-28T18:02:48.793Z"
      },
      {
        "duration": 13,
        "start_time": "2023-05-28T18:02:48.799Z"
      },
      {
        "duration": 20,
        "start_time": "2023-05-28T18:02:48.813Z"
      },
      {
        "duration": 67,
        "start_time": "2023-05-28T18:02:48.841Z"
      },
      {
        "duration": 43,
        "start_time": "2023-05-28T18:02:48.909Z"
      },
      {
        "duration": 34,
        "start_time": "2023-05-28T18:02:48.958Z"
      },
      {
        "duration": 402,
        "start_time": "2023-05-28T18:02:48.993Z"
      },
      {
        "duration": 3,
        "start_time": "2023-05-28T18:02:49.397Z"
      },
      {
        "duration": 18,
        "start_time": "2023-05-28T18:02:49.402Z"
      },
      {
        "duration": 63,
        "start_time": "2023-05-28T18:02:49.422Z"
      },
      {
        "duration": 232,
        "start_time": "2023-05-28T18:02:49.487Z"
      },
      {
        "duration": 0,
        "start_time": "2023-05-28T18:02:49.721Z"
      },
      {
        "duration": 0,
        "start_time": "2023-05-28T18:02:49.724Z"
      },
      {
        "duration": 0,
        "start_time": "2023-05-28T18:02:49.725Z"
      },
      {
        "duration": 0,
        "start_time": "2023-05-28T18:02:49.725Z"
      },
      {
        "duration": 0,
        "start_time": "2023-05-28T18:02:49.726Z"
      },
      {
        "duration": 0,
        "start_time": "2023-05-28T18:02:49.726Z"
      },
      {
        "duration": 0,
        "start_time": "2023-05-28T18:02:49.727Z"
      },
      {
        "duration": 0,
        "start_time": "2023-05-28T18:02:49.728Z"
      },
      {
        "duration": 0,
        "start_time": "2023-05-28T18:02:49.731Z"
      },
      {
        "duration": 0,
        "start_time": "2023-05-28T18:02:49.732Z"
      },
      {
        "duration": 0,
        "start_time": "2023-05-28T18:02:49.734Z"
      },
      {
        "duration": 0,
        "start_time": "2023-05-28T18:02:49.735Z"
      },
      {
        "duration": 0,
        "start_time": "2023-05-28T18:02:49.736Z"
      },
      {
        "duration": 89,
        "start_time": "2023-05-28T18:14:39.283Z"
      },
      {
        "duration": 11,
        "start_time": "2023-05-28T18:14:40.686Z"
      },
      {
        "duration": 34530,
        "start_time": "2023-05-28T18:14:56.215Z"
      },
      {
        "duration": 3441,
        "start_time": "2023-05-28T18:15:30.748Z"
      },
      {
        "duration": 3,
        "start_time": "2023-05-28T18:15:34.191Z"
      },
      {
        "duration": 19,
        "start_time": "2023-05-28T18:15:34.196Z"
      },
      {
        "duration": 137,
        "start_time": "2023-05-28T18:15:34.217Z"
      },
      {
        "duration": 3859,
        "start_time": "2023-05-28T18:15:34.356Z"
      },
      {
        "duration": 433,
        "start_time": "2023-05-28T18:15:38.217Z"
      },
      {
        "duration": 7,
        "start_time": "2023-05-28T18:15:38.654Z"
      },
      {
        "duration": 30,
        "start_time": "2023-05-28T18:15:38.663Z"
      },
      {
        "duration": 9,
        "start_time": "2023-05-28T18:15:38.696Z"
      },
      {
        "duration": 9,
        "start_time": "2023-05-28T18:15:38.707Z"
      },
      {
        "duration": 10,
        "start_time": "2023-05-28T18:15:38.719Z"
      },
      {
        "duration": 5140,
        "start_time": "2023-05-28T18:15:38.737Z"
      },
      {
        "duration": 5,
        "start_time": "2023-05-28T18:15:43.880Z"
      },
      {
        "duration": 28,
        "start_time": "2023-05-28T18:15:43.892Z"
      },
      {
        "duration": 6525,
        "start_time": "2023-05-28T18:15:43.922Z"
      },
      {
        "duration": 5,
        "start_time": "2023-05-28T18:15:50.449Z"
      },
      {
        "duration": 2864,
        "start_time": "2023-05-28T18:15:50.455Z"
      },
      {
        "duration": 22,
        "start_time": "2023-05-28T18:15:53.321Z"
      },
      {
        "duration": 55,
        "start_time": "2023-05-28T18:15:53.347Z"
      },
      {
        "duration": 30,
        "start_time": "2023-05-28T18:15:53.404Z"
      },
      {
        "duration": 66,
        "start_time": "2023-05-28T18:15:53.436Z"
      },
      {
        "duration": 113,
        "start_time": "2023-05-28T18:15:53.504Z"
      },
      {
        "duration": 105,
        "start_time": "2023-05-28T18:15:53.619Z"
      },
      {
        "duration": 72,
        "start_time": "2023-05-28T18:15:53.730Z"
      },
      {
        "duration": 475,
        "start_time": "2023-05-28T18:15:53.807Z"
      },
      {
        "duration": 4,
        "start_time": "2023-05-28T18:15:54.284Z"
      },
      {
        "duration": 6625,
        "start_time": "2023-05-28T18:15:54.291Z"
      },
      {
        "duration": 63,
        "start_time": "2023-05-28T18:16:00.929Z"
      },
      {
        "duration": 32,
        "start_time": "2023-05-28T18:16:00.995Z"
      },
      {
        "duration": 87,
        "start_time": "2023-05-28T18:16:01.031Z"
      },
      {
        "duration": 174,
        "start_time": "2023-05-28T18:16:01.122Z"
      },
      {
        "duration": 52212,
        "start_time": "2023-05-28T18:16:01.298Z"
      },
      {
        "duration": 0,
        "start_time": "2023-05-28T18:16:53.512Z"
      },
      {
        "duration": 0,
        "start_time": "2023-05-28T18:16:53.514Z"
      },
      {
        "duration": 0,
        "start_time": "2023-05-28T18:16:53.515Z"
      },
      {
        "duration": 0,
        "start_time": "2023-05-28T18:16:53.517Z"
      },
      {
        "duration": 0,
        "start_time": "2023-05-28T18:16:53.518Z"
      },
      {
        "duration": 0,
        "start_time": "2023-05-28T18:16:53.520Z"
      },
      {
        "duration": 0,
        "start_time": "2023-05-28T18:16:53.522Z"
      },
      {
        "duration": 75333,
        "start_time": "2023-05-28T18:16:54.795Z"
      },
      {
        "duration": 14,
        "start_time": "2023-05-28T18:18:12.923Z"
      },
      {
        "duration": 3,
        "start_time": "2023-05-28T18:18:17.299Z"
      },
      {
        "duration": 3,
        "start_time": "2023-05-28T18:18:17.874Z"
      },
      {
        "duration": 6,
        "start_time": "2023-05-28T18:18:18.774Z"
      },
      {
        "duration": 142345,
        "start_time": "2023-05-28T18:18:19.277Z"
      },
      {
        "duration": 36705,
        "start_time": "2023-05-29T07:35:50.371Z"
      },
      {
        "duration": 3116,
        "start_time": "2023-05-29T07:36:27.079Z"
      },
      {
        "duration": 3,
        "start_time": "2023-05-29T07:36:30.197Z"
      },
      {
        "duration": 68,
        "start_time": "2023-05-29T07:36:30.202Z"
      },
      {
        "duration": 34,
        "start_time": "2023-05-29T07:36:30.272Z"
      },
      {
        "duration": 3242,
        "start_time": "2023-05-29T07:36:30.310Z"
      },
      {
        "duration": 461,
        "start_time": "2023-05-29T07:36:33.555Z"
      },
      {
        "duration": 6,
        "start_time": "2023-05-29T07:36:34.019Z"
      },
      {
        "duration": 85,
        "start_time": "2023-05-29T07:36:34.027Z"
      },
      {
        "duration": 20,
        "start_time": "2023-05-29T07:36:34.115Z"
      },
      {
        "duration": 42,
        "start_time": "2023-05-29T07:36:34.137Z"
      },
      {
        "duration": 21,
        "start_time": "2023-05-29T07:36:34.181Z"
      },
      {
        "duration": 4015,
        "start_time": "2023-05-29T07:36:34.204Z"
      },
      {
        "duration": 7,
        "start_time": "2023-05-29T07:36:38.221Z"
      },
      {
        "duration": 19,
        "start_time": "2023-05-29T07:36:38.230Z"
      },
      {
        "duration": 5470,
        "start_time": "2023-05-29T07:36:38.255Z"
      },
      {
        "duration": 5,
        "start_time": "2023-05-29T07:36:43.728Z"
      },
      {
        "duration": 2435,
        "start_time": "2023-05-29T07:36:43.749Z"
      },
      {
        "duration": 7,
        "start_time": "2023-05-29T07:36:46.186Z"
      },
      {
        "duration": 26,
        "start_time": "2023-05-29T07:36:46.196Z"
      },
      {
        "duration": 9,
        "start_time": "2023-05-29T07:36:46.225Z"
      },
      {
        "duration": 8,
        "start_time": "2023-05-29T07:36:46.237Z"
      },
      {
        "duration": 51,
        "start_time": "2023-05-29T07:36:46.249Z"
      },
      {
        "duration": 41,
        "start_time": "2023-05-29T07:36:46.303Z"
      },
      {
        "duration": 48,
        "start_time": "2023-05-29T07:36:46.348Z"
      },
      {
        "duration": 607,
        "start_time": "2023-05-29T07:36:46.398Z"
      },
      {
        "duration": 4,
        "start_time": "2023-05-29T07:36:47.009Z"
      },
      {
        "duration": 5921,
        "start_time": "2023-05-29T07:36:47.018Z"
      },
      {
        "duration": 34,
        "start_time": "2023-05-29T07:36:52.942Z"
      },
      {
        "duration": 47,
        "start_time": "2023-05-29T07:36:52.978Z"
      },
      {
        "duration": 71,
        "start_time": "2023-05-29T07:36:53.027Z"
      },
      {
        "duration": 10,
        "start_time": "2023-05-29T07:36:53.101Z"
      },
      {
        "duration": 112269,
        "start_time": "2023-05-29T07:36:53.116Z"
      },
      {
        "duration": 0,
        "start_time": "2023-05-29T07:38:45.388Z"
      },
      {
        "duration": 0,
        "start_time": "2023-05-29T07:38:45.390Z"
      },
      {
        "duration": 0,
        "start_time": "2023-05-29T07:38:45.392Z"
      },
      {
        "duration": 0,
        "start_time": "2023-05-29T07:38:45.393Z"
      },
      {
        "duration": 0,
        "start_time": "2023-05-29T07:38:45.394Z"
      },
      {
        "duration": 0,
        "start_time": "2023-05-29T07:38:45.396Z"
      },
      {
        "duration": 0,
        "start_time": "2023-05-29T07:38:45.397Z"
      },
      {
        "duration": 5,
        "start_time": "2023-05-29T07:38:49.292Z"
      },
      {
        "duration": 7887,
        "start_time": "2023-05-29T07:38:49.473Z"
      },
      {
        "duration": 1170,
        "start_time": "2023-05-29T07:38:57.363Z"
      },
      {
        "duration": 7498,
        "start_time": "2023-05-29T07:44:35.805Z"
      },
      {
        "duration": 24670,
        "start_time": "2023-05-29T07:44:47.211Z"
      },
      {
        "duration": 8,
        "start_time": "2023-05-29T07:45:16.420Z"
      },
      {
        "duration": 104,
        "start_time": "2023-05-29T07:45:17.571Z"
      },
      {
        "duration": 6269,
        "start_time": "2023-05-29T07:45:18.314Z"
      },
      {
        "duration": 19252,
        "start_time": "2023-05-29T07:45:24.587Z"
      },
      {
        "duration": 0,
        "start_time": "2023-05-29T07:45:43.841Z"
      },
      {
        "duration": 19305,
        "start_time": "2023-05-29T07:45:54.291Z"
      },
      {
        "duration": 0,
        "start_time": "2023-05-29T07:46:13.598Z"
      },
      {
        "duration": 4,
        "start_time": "2023-05-29T07:47:14.699Z"
      },
      {
        "duration": 19373,
        "start_time": "2023-05-29T07:47:17.519Z"
      },
      {
        "duration": 582,
        "start_time": "2023-05-29T07:47:36.894Z"
      },
      {
        "duration": 0,
        "start_time": "2023-05-29T07:57:54.141Z"
      },
      {
        "duration": 62217,
        "start_time": "2023-05-29T07:57:55.614Z"
      },
      {
        "duration": 5,
        "start_time": "2023-05-29T12:21:46.404Z"
      },
      {
        "duration": 2,
        "start_time": "2023-05-29T12:21:47.516Z"
      },
      {
        "duration": 3,
        "start_time": "2023-05-29T12:21:48.032Z"
      },
      {
        "duration": 15,
        "start_time": "2023-05-29T12:21:48.596Z"
      },
      {
        "duration": 824,
        "start_time": "2023-05-29T12:21:49.260Z"
      },
      {
        "duration": 331,
        "start_time": "2023-05-29T12:21:50.358Z"
      },
      {
        "duration": 5,
        "start_time": "2023-05-29T12:21:52.916Z"
      },
      {
        "duration": 10,
        "start_time": "2023-05-29T12:21:53.244Z"
      },
      {
        "duration": 3,
        "start_time": "2023-05-29T12:21:54.475Z"
      },
      {
        "duration": 3,
        "start_time": "2023-05-29T12:21:54.715Z"
      },
      {
        "duration": 3,
        "start_time": "2023-05-29T12:22:04.286Z"
      },
      {
        "duration": 3691,
        "start_time": "2023-05-29T12:22:04.524Z"
      },
      {
        "duration": 4,
        "start_time": "2023-05-29T12:22:08.217Z"
      },
      {
        "duration": 4,
        "start_time": "2023-05-29T12:22:12.635Z"
      },
      {
        "duration": 4657,
        "start_time": "2023-05-29T12:22:13.404Z"
      },
      {
        "duration": 3,
        "start_time": "2023-05-29T12:22:18.064Z"
      },
      {
        "duration": 2379,
        "start_time": "2023-05-29T12:22:18.069Z"
      },
      {
        "duration": 9,
        "start_time": "2023-05-29T12:22:20.451Z"
      },
      {
        "duration": 689,
        "start_time": "2023-05-29T12:22:52.492Z"
      },
      {
        "duration": 8,
        "start_time": "2023-05-29T12:23:00.435Z"
      },
      {
        "duration": 6,
        "start_time": "2023-05-29T12:23:15.248Z"
      },
      {
        "duration": 801,
        "start_time": "2023-05-29T12:23:17.880Z"
      },
      {
        "duration": 8,
        "start_time": "2023-05-29T12:23:19.307Z"
      },
      {
        "duration": 8,
        "start_time": "2023-05-29T12:23:20.819Z"
      },
      {
        "duration": 4,
        "start_time": "2023-05-29T12:24:18.057Z"
      },
      {
        "duration": 501,
        "start_time": "2023-05-29T12:24:18.617Z"
      },
      {
        "duration": 1870696,
        "start_time": "2023-05-29T12:24:19.618Z"
      },
      {
        "duration": 5,
        "start_time": "2023-05-29T12:56:29.331Z"
      },
      {
        "duration": 13,
        "start_time": "2023-05-29T12:56:40.915Z"
      },
      {
        "duration": 4,
        "start_time": "2023-05-29T12:56:53.395Z"
      },
      {
        "duration": 8,
        "start_time": "2023-05-29T12:57:01.969Z"
      },
      {
        "duration": 8,
        "start_time": "2023-05-29T12:57:09.292Z"
      },
      {
        "duration": 25,
        "start_time": "2023-05-29T12:57:12.996Z"
      },
      {
        "duration": 6,
        "start_time": "2023-05-29T12:57:14.785Z"
      },
      {
        "duration": 98,
        "start_time": "2023-05-29T12:57:27.044Z"
      },
      {
        "duration": 195,
        "start_time": "2023-05-29T12:57:30.205Z"
      },
      {
        "duration": 75,
        "start_time": "2023-05-29T12:57:36.892Z"
      },
      {
        "duration": 88,
        "start_time": "2023-05-29T12:57:41.237Z"
      },
      {
        "duration": 27,
        "start_time": "2023-05-29T12:57:55.140Z"
      },
      {
        "duration": 15,
        "start_time": "2023-05-29T12:58:06.689Z"
      },
      {
        "duration": 6,
        "start_time": "2023-05-29T13:27:18.456Z"
      },
      {
        "duration": 12,
        "start_time": "2023-05-29T15:04:49.933Z"
      },
      {
        "duration": 26,
        "start_time": "2023-05-29T15:05:01.029Z"
      },
      {
        "duration": 7,
        "start_time": "2023-05-29T15:07:53.379Z"
      },
      {
        "duration": 30,
        "start_time": "2023-05-29T15:07:56.779Z"
      },
      {
        "duration": 2,
        "start_time": "2023-05-29T15:09:40.058Z"
      },
      {
        "duration": 2,
        "start_time": "2023-05-29T15:09:59.075Z"
      },
      {
        "duration": 4,
        "start_time": "2023-05-29T15:10:32.184Z"
      },
      {
        "duration": 4,
        "start_time": "2023-05-29T15:11:12.145Z"
      },
      {
        "duration": 1385,
        "start_time": "2023-05-29T15:11:12.641Z"
      },
      {
        "duration": 4,
        "start_time": "2023-05-29T15:11:53.713Z"
      },
      {
        "duration": 3,
        "start_time": "2023-05-29T15:11:53.969Z"
      },
      {
        "duration": 2,
        "start_time": "2023-05-29T15:11:54.369Z"
      },
      {
        "duration": 11,
        "start_time": "2023-05-29T15:11:54.546Z"
      },
      {
        "duration": 48,
        "start_time": "2023-05-29T15:11:55.457Z"
      },
      {
        "duration": 6,
        "start_time": "2023-05-29T15:11:55.865Z"
      },
      {
        "duration": 3,
        "start_time": "2023-05-29T15:12:12.114Z"
      },
      {
        "duration": 2053,
        "start_time": "2023-05-29T15:12:12.760Z"
      },
      {
        "duration": 30,
        "start_time": "2023-05-29T15:12:14.815Z"
      },
      {
        "duration": 2,
        "start_time": "2023-05-29T15:12:15.601Z"
      },
      {
        "duration": 3,
        "start_time": "2023-05-29T15:12:15.944Z"
      },
      {
        "duration": 6,
        "start_time": "2023-05-29T15:12:17.602Z"
      },
      {
        "duration": 1136369,
        "start_time": "2023-05-29T15:12:18.002Z"
      },
      {
        "duration": 3,
        "start_time": "2023-05-29T15:34:01.504Z"
      },
      {
        "duration": 5343,
        "start_time": "2023-05-29T15:34:02.215Z"
      },
      {
        "duration": 797,
        "start_time": "2023-05-29T15:34:07.560Z"
      },
      {
        "duration": 4,
        "start_time": "2023-05-29T15:34:19.992Z"
      },
      {
        "duration": 3839,
        "start_time": "2023-05-29T15:34:20.179Z"
      },
      {
        "duration": 581,
        "start_time": "2023-05-29T15:34:24.021Z"
      },
      {
        "duration": 9889,
        "start_time": "2023-05-29T15:34:41.332Z"
      },
      {
        "duration": 42,
        "start_time": "2023-05-29T15:34:55.127Z"
      },
      {
        "duration": 74,
        "start_time": "2023-05-29T15:35:11.094Z"
      },
      {
        "duration": 2202,
        "start_time": "2023-05-29T15:35:12.744Z"
      },
      {
        "duration": 4930,
        "start_time": "2023-05-29T15:35:17.968Z"
      },
      {
        "duration": 3794,
        "start_time": "2023-05-29T15:35:31.665Z"
      },
      {
        "duration": 3181,
        "start_time": "2023-05-29T15:35:40.105Z"
      },
      {
        "duration": 6,
        "start_time": "2023-05-29T15:35:50.824Z"
      },
      {
        "duration": 4,
        "start_time": "2023-05-29T15:35:54.177Z"
      },
      {
        "duration": 87,
        "start_time": "2023-05-29T15:36:01.248Z"
      },
      {
        "duration": 2975,
        "start_time": "2023-05-29T15:36:04.976Z"
      },
      {
        "duration": 21,
        "start_time": "2023-05-29T15:36:25.808Z"
      },
      {
        "duration": 6,
        "start_time": "2023-05-29T15:36:32.256Z"
      },
      {
        "duration": 3,
        "start_time": "2023-05-29T15:36:46.158Z"
      },
      {
        "duration": 74,
        "start_time": "2023-05-29T15:36:47.294Z"
      },
      {
        "duration": 7,
        "start_time": "2023-05-29T15:36:51.279Z"
      },
      {
        "duration": 2370,
        "start_time": "2023-05-29T15:36:55.824Z"
      },
      {
        "duration": 4365,
        "start_time": "2023-05-29T15:37:08.702Z"
      },
      {
        "duration": 2844,
        "start_time": "2023-05-29T15:37:13.528Z"
      },
      {
        "duration": 5,
        "start_time": "2023-05-29T15:37:21.961Z"
      },
      {
        "duration": 19048,
        "start_time": "2023-05-29T15:39:28.580Z"
      },
      {
        "duration": 76286,
        "start_time": "2023-05-29T15:39:50.415Z"
      },
      {
        "duration": 2778,
        "start_time": "2023-05-29T15:44:26.213Z"
      },
      {
        "duration": 4,
        "start_time": "2023-05-29T15:44:28.993Z"
      },
      {
        "duration": 8,
        "start_time": "2023-05-29T15:44:28.999Z"
      },
      {
        "duration": 116,
        "start_time": "2023-05-29T15:44:29.499Z"
      },
      {
        "duration": 2746,
        "start_time": "2023-05-29T15:44:30.093Z"
      },
      {
        "duration": 392,
        "start_time": "2023-05-29T15:44:32.841Z"
      },
      {
        "duration": 5,
        "start_time": "2023-05-29T15:44:33.247Z"
      },
      {
        "duration": 19,
        "start_time": "2023-05-29T15:44:33.255Z"
      },
      {
        "duration": 31,
        "start_time": "2023-05-29T15:44:33.276Z"
      },
      {
        "duration": 26,
        "start_time": "2023-05-29T15:44:33.309Z"
      },
      {
        "duration": 41,
        "start_time": "2023-05-29T15:44:33.338Z"
      },
      {
        "duration": 3409,
        "start_time": "2023-05-29T15:44:33.380Z"
      },
      {
        "duration": 5,
        "start_time": "2023-05-29T15:44:36.791Z"
      },
      {
        "duration": 16,
        "start_time": "2023-05-29T15:44:36.799Z"
      },
      {
        "duration": 4911,
        "start_time": "2023-05-29T15:44:36.817Z"
      },
      {
        "duration": 3,
        "start_time": "2023-05-29T15:44:41.731Z"
      },
      {
        "duration": 1523,
        "start_time": "2023-05-29T15:44:41.736Z"
      },
      {
        "duration": 6,
        "start_time": "2023-05-29T15:44:43.262Z"
      },
      {
        "duration": 13,
        "start_time": "2023-05-29T15:44:43.270Z"
      },
      {
        "duration": 4,
        "start_time": "2023-05-29T15:50:40.993Z"
      },
      {
        "duration": 4016,
        "start_time": "2023-05-29T15:50:48.114Z"
      },
      {
        "duration": 452,
        "start_time": "2023-05-29T15:51:09.648Z"
      },
      {
        "duration": 4,
        "start_time": "2023-05-29T15:51:22.610Z"
      },
      {
        "duration": 3,
        "start_time": "2023-05-29T15:51:24.674Z"
      },
      {
        "duration": 58,
        "start_time": "2023-05-29T15:51:24.953Z"
      },
      {
        "duration": 218,
        "start_time": "2023-05-29T15:51:35.160Z"
      },
      {
        "duration": 59,
        "start_time": "2023-05-29T15:51:37.185Z"
      },
      {
        "duration": 429,
        "start_time": "2023-05-29T15:51:44.702Z"
      },
      {
        "duration": 1426,
        "start_time": "2023-05-29T15:51:45.708Z"
      },
      {
        "duration": 360,
        "start_time": "2023-05-29T15:56:20.912Z"
      },
      {
        "duration": 4733,
        "start_time": "2023-05-29T15:57:07.487Z"
      },
      {
        "duration": 837500,
        "start_time": "2023-05-29T15:57:37.901Z"
      },
      {
        "duration": 8,
        "start_time": "2023-05-29T16:12:02.587Z"
      },
      {
        "duration": 6,
        "start_time": "2023-05-29T16:12:06.441Z"
      },
      {
        "duration": 5,
        "start_time": "2023-05-29T16:12:11.143Z"
      },
      {
        "duration": 4,
        "start_time": "2023-05-29T16:12:11.336Z"
      },
      {
        "duration": 4,
        "start_time": "2023-05-29T16:12:12.696Z"
      },
      {
        "duration": 16,
        "start_time": "2023-05-29T16:12:12.860Z"
      },
      {
        "duration": 53,
        "start_time": "2023-05-29T16:12:14.183Z"
      },
      {
        "duration": 6,
        "start_time": "2023-05-29T16:12:14.598Z"
      },
      {
        "duration": 100,
        "start_time": "2023-05-29T16:12:24.862Z"
      },
      {
        "duration": 8,
        "start_time": "2023-05-29T16:12:27.567Z"
      },
      {
        "duration": 1506,
        "start_time": "2023-05-29T16:12:38.624Z"
      },
      {
        "duration": 6,
        "start_time": "2023-05-29T16:12:45.640Z"
      },
      {
        "duration": 8,
        "start_time": "2023-05-29T16:12:48.289Z"
      },
      {
        "duration": 28,
        "start_time": "2023-05-29T16:12:49.774Z"
      },
      {
        "duration": 1377,
        "start_time": "2023-05-29T16:12:58.383Z"
      },
      {
        "duration": 4,
        "start_time": "2023-05-29T16:13:00.569Z"
      },
      {
        "duration": 8,
        "start_time": "2023-05-29T16:13:01.514Z"
      },
      {
        "duration": 85,
        "start_time": "2023-05-29T16:13:02.320Z"
      },
      {
        "duration": 76,
        "start_time": "2023-05-29T16:13:03.284Z"
      },
      {
        "duration": 1668,
        "start_time": "2023-05-29T16:27:13.362Z"
      },
      {
        "duration": 56,
        "start_time": "2023-05-29T16:27:27.545Z"
      },
      {
        "duration": 8,
        "start_time": "2023-05-29T16:27:30.504Z"
      },
      {
        "duration": 8,
        "start_time": "2023-05-29T16:27:34.536Z"
      },
      {
        "duration": 27576,
        "start_time": "2023-05-29T16:28:16.841Z"
      },
      {
        "duration": 6217,
        "start_time": "2023-05-29T16:28:44.419Z"
      },
      {
        "duration": 8,
        "start_time": "2023-05-29T16:28:50.639Z"
      },
      {
        "duration": 23,
        "start_time": "2023-05-29T16:28:50.650Z"
      },
      {
        "duration": 23,
        "start_time": "2023-05-29T16:28:50.675Z"
      },
      {
        "duration": 2416,
        "start_time": "2023-05-29T16:28:50.700Z"
      },
      {
        "duration": 388,
        "start_time": "2023-05-29T16:28:53.118Z"
      },
      {
        "duration": 5,
        "start_time": "2023-05-29T16:28:53.508Z"
      },
      {
        "duration": 33,
        "start_time": "2023-05-29T16:28:53.515Z"
      },
      {
        "duration": 3,
        "start_time": "2023-05-29T16:28:53.552Z"
      },
      {
        "duration": 6,
        "start_time": "2023-05-29T16:28:53.558Z"
      },
      {
        "duration": 6,
        "start_time": "2023-05-29T16:28:53.566Z"
      },
      {
        "duration": 3429,
        "start_time": "2023-05-29T16:28:53.574Z"
      },
      {
        "duration": 5,
        "start_time": "2023-05-29T16:28:57.005Z"
      },
      {
        "duration": 25,
        "start_time": "2023-05-29T16:28:57.012Z"
      },
      {
        "duration": 5123,
        "start_time": "2023-05-29T16:28:57.040Z"
      },
      {
        "duration": 3,
        "start_time": "2023-05-29T16:29:02.165Z"
      },
      {
        "duration": 1378,
        "start_time": "2023-05-29T16:29:02.170Z"
      },
      {
        "duration": 6,
        "start_time": "2023-05-29T16:29:03.550Z"
      },
      {
        "duration": 86,
        "start_time": "2023-05-29T16:29:03.558Z"
      },
      {
        "duration": 27,
        "start_time": "2023-05-29T16:29:03.647Z"
      },
      {
        "duration": 8,
        "start_time": "2023-05-29T16:29:03.676Z"
      },
      {
        "duration": 268,
        "start_time": "2023-05-29T16:29:03.686Z"
      },
      {
        "duration": 4,
        "start_time": "2023-05-29T16:29:03.956Z"
      },
      {
        "duration": 836685,
        "start_time": "2023-05-29T16:29:03.962Z"
      },
      {
        "duration": 7,
        "start_time": "2023-05-29T16:43:00.649Z"
      },
      {
        "duration": 41,
        "start_time": "2023-05-29T16:43:00.658Z"
      },
      {
        "duration": 54,
        "start_time": "2023-05-29T16:43:00.705Z"
      },
      {
        "duration": 45,
        "start_time": "2023-05-29T16:43:00.762Z"
      },
      {
        "duration": 45,
        "start_time": "2023-05-29T16:43:00.810Z"
      },
      {
        "duration": 118,
        "start_time": "2023-05-29T16:43:00.858Z"
      },
      {
        "duration": 17,
        "start_time": "2023-05-29T16:43:00.979Z"
      },
      {
        "duration": 73,
        "start_time": "2023-05-29T16:43:00.999Z"
      },
      {
        "duration": 37,
        "start_time": "2023-05-29T16:43:01.075Z"
      },
      {
        "duration": 95,
        "start_time": "2023-05-29T16:43:01.115Z"
      },
      {
        "duration": 73,
        "start_time": "2023-05-29T16:43:01.212Z"
      },
      {
        "duration": 3,
        "start_time": "2023-05-29T16:43:01.287Z"
      },
      {
        "duration": 50,
        "start_time": "2023-05-29T16:43:01.292Z"
      },
      {
        "duration": 476,
        "start_time": "2023-05-29T16:43:01.344Z"
      },
      {
        "duration": 0,
        "start_time": "2023-05-29T16:43:01.823Z"
      },
      {
        "duration": 0,
        "start_time": "2023-05-29T16:43:01.827Z"
      },
      {
        "duration": 0,
        "start_time": "2023-05-29T16:43:01.829Z"
      },
      {
        "duration": 0,
        "start_time": "2023-05-29T16:43:01.831Z"
      },
      {
        "duration": 0,
        "start_time": "2023-05-29T16:43:01.833Z"
      },
      {
        "duration": 0,
        "start_time": "2023-05-29T16:43:01.847Z"
      },
      {
        "duration": 0,
        "start_time": "2023-05-29T16:43:01.849Z"
      },
      {
        "duration": 0,
        "start_time": "2023-05-29T16:43:01.851Z"
      },
      {
        "duration": 0,
        "start_time": "2023-05-29T16:43:01.853Z"
      },
      {
        "duration": 0,
        "start_time": "2023-05-29T16:43:01.855Z"
      },
      {
        "duration": 0,
        "start_time": "2023-05-29T16:43:01.856Z"
      },
      {
        "duration": 0,
        "start_time": "2023-05-29T16:43:01.858Z"
      },
      {
        "duration": 0,
        "start_time": "2023-05-29T16:43:01.860Z"
      },
      {
        "duration": 0,
        "start_time": "2023-05-29T16:43:01.862Z"
      },
      {
        "duration": 0,
        "start_time": "2023-05-29T16:43:01.863Z"
      },
      {
        "duration": 0,
        "start_time": "2023-05-29T16:43:01.865Z"
      },
      {
        "duration": 0,
        "start_time": "2023-05-29T16:43:01.867Z"
      },
      {
        "duration": 0,
        "start_time": "2023-05-29T16:43:01.869Z"
      },
      {
        "duration": 0,
        "start_time": "2023-05-29T16:43:01.872Z"
      },
      {
        "duration": 0,
        "start_time": "2023-05-29T16:43:01.873Z"
      },
      {
        "duration": 0,
        "start_time": "2023-05-29T16:43:01.875Z"
      },
      {
        "duration": 0,
        "start_time": "2023-05-29T16:43:01.876Z"
      },
      {
        "duration": 0,
        "start_time": "2023-05-29T16:43:01.877Z"
      },
      {
        "duration": 0,
        "start_time": "2023-05-29T16:43:01.879Z"
      },
      {
        "duration": 4,
        "start_time": "2023-05-29T16:45:24.476Z"
      },
      {
        "duration": 3,
        "start_time": "2023-05-29T16:45:33.776Z"
      },
      {
        "duration": 6288,
        "start_time": "2023-05-29T16:45:34.534Z"
      },
      {
        "duration": 5,
        "start_time": "2023-05-29T16:45:43.158Z"
      },
      {
        "duration": 665,
        "start_time": "2023-05-29T16:45:46.454Z"
      },
      {
        "duration": 2469,
        "start_time": "2023-05-29T16:45:49.351Z"
      },
      {
        "duration": 6383,
        "start_time": "2023-05-29T16:53:02.463Z"
      },
      {
        "duration": 13,
        "start_time": "2023-05-29T16:53:28.830Z"
      },
      {
        "duration": 6661,
        "start_time": "2023-05-29T16:53:29.253Z"
      },
      {
        "duration": 740,
        "start_time": "2023-05-29T16:53:35.916Z"
      },
      {
        "duration": 2704,
        "start_time": "2023-05-29T16:53:36.659Z"
      },
      {
        "duration": 3016,
        "start_time": "2023-05-29T16:53:41.213Z"
      },
      {
        "duration": 7,
        "start_time": "2023-05-29T16:53:57.893Z"
      },
      {
        "duration": 7,
        "start_time": "2023-05-29T16:54:27.022Z"
      },
      {
        "duration": 6,
        "start_time": "2023-05-29T16:54:30.780Z"
      },
      {
        "duration": 7,
        "start_time": "2023-05-29T16:54:33.140Z"
      },
      {
        "duration": 9,
        "start_time": "2023-05-29T16:54:34.461Z"
      },
      {
        "duration": 21,
        "start_time": "2023-05-29T16:56:24.484Z"
      },
      {
        "duration": 3,
        "start_time": "2023-05-29T16:56:24.964Z"
      },
      {
        "duration": 3,
        "start_time": "2023-05-29T16:56:25.320Z"
      },
      {
        "duration": 6,
        "start_time": "2023-05-29T16:56:33.549Z"
      },
      {
        "duration": 67,
        "start_time": "2023-05-29T16:56:34.163Z"
      },
      {
        "duration": 5,
        "start_time": "2023-05-29T16:56:44.108Z"
      },
      {
        "duration": 36,
        "start_time": "2023-05-29T16:57:49.556Z"
      },
      {
        "duration": 63,
        "start_time": "2023-05-29T16:58:00.107Z"
      },
      {
        "duration": 29,
        "start_time": "2023-05-29T16:58:00.628Z"
      },
      {
        "duration": 7,
        "start_time": "2023-05-29T16:58:03.419Z"
      },
      {
        "duration": 8,
        "start_time": "2023-05-29T16:58:09.507Z"
      },
      {
        "duration": 99,
        "start_time": "2023-05-29T16:58:15.260Z"
      },
      {
        "duration": 84,
        "start_time": "2023-05-29T16:58:28.236Z"
      },
      {
        "duration": 123,
        "start_time": "2023-05-29T16:58:30.948Z"
      },
      {
        "duration": 83,
        "start_time": "2023-05-29T16:58:33.388Z"
      },
      {
        "duration": 5,
        "start_time": "2023-05-29T16:58:42.510Z"
      },
      {
        "duration": 12,
        "start_time": "2023-05-29T16:58:43.387Z"
      },
      {
        "duration": 4264,
        "start_time": "2023-05-29T16:58:44.179Z"
      },
      {
        "duration": 856,
        "start_time": "2023-05-29T16:58:51.259Z"
      },
      {
        "duration": 2980,
        "start_time": "2023-05-29T16:58:52.118Z"
      },
      {
        "duration": 49,
        "start_time": "2023-05-29T16:59:02.591Z"
      },
      {
        "duration": 3,
        "start_time": "2023-05-29T16:59:04.171Z"
      },
      {
        "duration": 3,
        "start_time": "2023-05-29T16:59:04.580Z"
      },
      {
        "duration": 8,
        "start_time": "2023-05-29T16:59:06.501Z"
      },
      {
        "duration": 61,
        "start_time": "2023-05-29T16:59:06.957Z"
      },
      {
        "duration": 149,
        "start_time": "2023-05-29T16:59:23.996Z"
      },
      {
        "duration": 7,
        "start_time": "2023-05-29T16:59:31.540Z"
      },
      {
        "duration": 62507,
        "start_time": "2023-05-29T16:59:31.948Z"
      },
      {
        "duration": 6,
        "start_time": "2023-05-29T17:00:39.482Z"
      },
      {
        "duration": 3828415,
        "start_time": "2023-05-29T17:00:40.115Z"
      },
      {
        "duration": 13,
        "start_time": "2023-05-29T18:04:28.533Z"
      },
      {
        "duration": 24,
        "start_time": "2023-05-29T18:06:21.190Z"
      },
      {
        "duration": 37,
        "start_time": "2023-05-29T18:06:42.952Z"
      },
      {
        "duration": 28,
        "start_time": "2023-05-29T18:07:18.878Z"
      },
      {
        "duration": 96868,
        "start_time": "2023-05-29T18:07:31.342Z"
      },
      {
        "duration": 25,
        "start_time": "2023-05-29T18:14:02.145Z"
      },
      {
        "duration": 2429,
        "start_time": "2023-05-29T18:14:11.675Z"
      },
      {
        "duration": 4,
        "start_time": "2023-05-29T18:20:32.023Z"
      },
      {
        "duration": 2684,
        "start_time": "2023-05-29T18:20:38.322Z"
      },
      {
        "duration": 4,
        "start_time": "2023-05-29T18:24:31.039Z"
      },
      {
        "duration": 2635,
        "start_time": "2023-05-29T18:24:36.519Z"
      },
      {
        "duration": 29,
        "start_time": "2023-05-29T18:25:08.230Z"
      },
      {
        "duration": 2368,
        "start_time": "2023-05-29T18:25:13.579Z"
      },
      {
        "duration": 31,
        "start_time": "2023-05-29T18:25:16.819Z"
      },
      {
        "duration": 19,
        "start_time": "2023-05-29T18:25:35.483Z"
      },
      {
        "duration": 6,
        "start_time": "2023-05-29T18:25:38.486Z"
      },
      {
        "duration": 39,
        "start_time": "2023-05-29T18:25:43.149Z"
      },
      {
        "duration": 4,
        "start_time": "2023-05-29T18:26:16.133Z"
      },
      {
        "duration": 32,
        "start_time": "2023-05-29T18:27:56.109Z"
      },
      {
        "duration": 4,
        "start_time": "2023-05-29T18:27:57.843Z"
      },
      {
        "duration": 40641,
        "start_time": "2023-05-29T18:27:58.191Z"
      },
      {
        "duration": 1150,
        "start_time": "2023-05-29T18:28:38.834Z"
      },
      {
        "duration": 26,
        "start_time": "2023-05-29T18:33:32.108Z"
      },
      {
        "duration": 182,
        "start_time": "2023-05-29T18:33:45.155Z"
      },
      {
        "duration": 25,
        "start_time": "2023-05-29T19:00:11.095Z"
      },
      {
        "duration": 58,
        "start_time": "2023-05-29T19:00:14.887Z"
      },
      {
        "duration": 6,
        "start_time": "2023-05-29T19:00:40.223Z"
      },
      {
        "duration": 207,
        "start_time": "2023-05-29T19:00:43.579Z"
      },
      {
        "duration": 6,
        "start_time": "2023-05-29T19:12:52.932Z"
      },
      {
        "duration": 4,
        "start_time": "2023-05-29T19:12:53.754Z"
      },
      {
        "duration": 7,
        "start_time": "2023-05-29T19:12:54.415Z"
      },
      {
        "duration": 25,
        "start_time": "2023-05-29T20:05:34.872Z"
      },
      {
        "duration": 102,
        "start_time": "2023-05-29T20:05:39.141Z"
      },
      {
        "duration": 11,
        "start_time": "2023-05-29T20:06:13.372Z"
      },
      {
        "duration": 151,
        "start_time": "2023-05-29T20:06:14.589Z"
      },
      {
        "duration": 7,
        "start_time": "2023-05-29T20:06:15.940Z"
      },
      {
        "duration": 35,
        "start_time": "2023-05-29T20:06:16.337Z"
      },
      {
        "duration": 7849,
        "start_time": "2023-05-29T20:06:16.923Z"
      },
      {
        "duration": 1311,
        "start_time": "2023-05-29T20:06:24.784Z"
      },
      {
        "duration": 4806,
        "start_time": "2023-05-29T20:06:26.098Z"
      },
      {
        "duration": 44,
        "start_time": "2023-05-29T20:06:38.900Z"
      },
      {
        "duration": 5,
        "start_time": "2023-05-29T20:06:39.344Z"
      },
      {
        "duration": 4,
        "start_time": "2023-05-29T20:06:39.541Z"
      },
      {
        "duration": 8,
        "start_time": "2023-05-29T20:06:48.968Z"
      },
      {
        "duration": 39851,
        "start_time": "2023-05-29T20:06:51.770Z"
      },
      {
        "duration": 2126,
        "start_time": "2023-05-29T20:07:31.624Z"
      },
      {
        "duration": 4079,
        "start_time": "2023-05-29T20:08:02.064Z"
      },
      {
        "duration": 26291,
        "start_time": "2023-05-30T06:29:01.059Z"
      },
      {
        "duration": 4527,
        "start_time": "2023-05-30T06:29:27.352Z"
      },
      {
        "duration": 644,
        "start_time": "2023-05-30T06:29:31.880Z"
      },
      {
        "duration": 3,
        "start_time": "2023-05-30T06:29:32.525Z"
      },
      {
        "duration": 5,
        "start_time": "2023-05-30T06:29:32.530Z"
      },
      {
        "duration": 12,
        "start_time": "2023-05-30T06:29:32.537Z"
      },
      {
        "duration": 3326,
        "start_time": "2023-05-30T06:29:32.551Z"
      },
      {
        "duration": 352,
        "start_time": "2023-05-30T06:29:35.879Z"
      },
      {
        "duration": 4,
        "start_time": "2023-05-30T06:29:36.232Z"
      },
      {
        "duration": 39,
        "start_time": "2023-05-30T06:29:36.238Z"
      },
      {
        "duration": 7,
        "start_time": "2023-05-30T06:29:36.278Z"
      },
      {
        "duration": 10,
        "start_time": "2023-05-30T06:29:36.286Z"
      },
      {
        "duration": 14,
        "start_time": "2023-05-30T06:29:36.297Z"
      },
      {
        "duration": 3056,
        "start_time": "2023-05-30T06:29:36.314Z"
      },
      {
        "duration": 5,
        "start_time": "2023-05-30T06:29:39.372Z"
      },
      {
        "duration": 5,
        "start_time": "2023-05-30T06:29:39.378Z"
      },
      {
        "duration": 4778,
        "start_time": "2023-05-30T06:29:39.384Z"
      },
      {
        "duration": 2,
        "start_time": "2023-05-30T06:29:44.164Z"
      },
      {
        "duration": 1218,
        "start_time": "2023-05-30T06:29:44.168Z"
      },
      {
        "duration": 6,
        "start_time": "2023-05-30T06:29:45.387Z"
      },
      {
        "duration": 13,
        "start_time": "2023-05-30T06:29:45.394Z"
      },
      {
        "duration": 10,
        "start_time": "2023-05-30T06:29:45.412Z"
      },
      {
        "duration": 11,
        "start_time": "2023-05-30T06:29:45.424Z"
      },
      {
        "duration": 15,
        "start_time": "2023-05-30T06:29:45.436Z"
      },
      {
        "duration": 760264,
        "start_time": "2023-05-30T06:29:45.452Z"
      },
      {
        "duration": 7,
        "start_time": "2023-05-30T06:42:25.718Z"
      },
      {
        "duration": 9,
        "start_time": "2023-05-30T06:42:25.730Z"
      },
      {
        "duration": 6,
        "start_time": "2023-05-30T06:42:25.740Z"
      },
      {
        "duration": 4,
        "start_time": "2023-05-30T06:42:25.748Z"
      },
      {
        "duration": 15,
        "start_time": "2023-05-30T06:42:25.753Z"
      },
      {
        "duration": 65,
        "start_time": "2023-05-30T06:42:25.769Z"
      },
      {
        "duration": 3,
        "start_time": "2023-05-30T06:42:25.836Z"
      },
      {
        "duration": 14,
        "start_time": "2023-05-30T06:42:25.841Z"
      },
      {
        "duration": 11,
        "start_time": "2023-05-30T06:42:25.856Z"
      },
      {
        "duration": 78,
        "start_time": "2023-05-30T06:42:25.869Z"
      },
      {
        "duration": 340,
        "start_time": "2023-05-30T06:42:25.948Z"
      },
      {
        "duration": 0,
        "start_time": "2023-05-30T06:42:26.289Z"
      },
      {
        "duration": 0,
        "start_time": "2023-05-30T06:42:26.291Z"
      },
      {
        "duration": 0,
        "start_time": "2023-05-30T06:42:26.293Z"
      },
      {
        "duration": 0,
        "start_time": "2023-05-30T06:42:26.294Z"
      },
      {
        "duration": 0,
        "start_time": "2023-05-30T06:42:26.307Z"
      },
      {
        "duration": 0,
        "start_time": "2023-05-30T06:42:26.307Z"
      },
      {
        "duration": 0,
        "start_time": "2023-05-30T06:42:26.310Z"
      },
      {
        "duration": 0,
        "start_time": "2023-05-30T06:42:26.311Z"
      },
      {
        "duration": 0,
        "start_time": "2023-05-30T06:42:26.312Z"
      },
      {
        "duration": 0,
        "start_time": "2023-05-30T06:42:26.313Z"
      },
      {
        "duration": 0,
        "start_time": "2023-05-30T06:42:26.313Z"
      },
      {
        "duration": 0,
        "start_time": "2023-05-30T06:42:26.314Z"
      },
      {
        "duration": 0,
        "start_time": "2023-05-30T06:42:26.315Z"
      },
      {
        "duration": 0,
        "start_time": "2023-05-30T06:42:26.316Z"
      },
      {
        "duration": 0,
        "start_time": "2023-05-30T06:42:26.320Z"
      },
      {
        "duration": 0,
        "start_time": "2023-05-30T06:42:26.321Z"
      },
      {
        "duration": 0,
        "start_time": "2023-05-30T06:42:26.322Z"
      },
      {
        "duration": 0,
        "start_time": "2023-05-30T06:42:26.323Z"
      },
      {
        "duration": 0,
        "start_time": "2023-05-30T06:42:26.325Z"
      },
      {
        "duration": 0,
        "start_time": "2023-05-30T06:42:26.326Z"
      },
      {
        "duration": 0,
        "start_time": "2023-05-30T06:42:26.327Z"
      },
      {
        "duration": 0,
        "start_time": "2023-05-30T06:42:26.328Z"
      },
      {
        "duration": 0,
        "start_time": "2023-05-30T06:42:26.329Z"
      },
      {
        "duration": 0,
        "start_time": "2023-05-30T06:42:26.331Z"
      },
      {
        "duration": 9,
        "start_time": "2023-05-30T06:48:44.262Z"
      },
      {
        "duration": 102,
        "start_time": "2023-05-30T06:48:58.963Z"
      },
      {
        "duration": 3,
        "start_time": "2023-05-30T06:49:00.202Z"
      },
      {
        "duration": 4,
        "start_time": "2023-05-30T06:49:00.530Z"
      },
      {
        "duration": 5127,
        "start_time": "2023-05-30T06:49:01.210Z"
      },
      {
        "duration": 940,
        "start_time": "2023-05-30T06:49:07.211Z"
      },
      {
        "duration": 3112,
        "start_time": "2023-05-30T06:49:08.611Z"
      },
      {
        "duration": 22932,
        "start_time": "2023-05-30T06:49:58.135Z"
      },
      {
        "duration": 4851,
        "start_time": "2023-05-30T06:50:21.069Z"
      },
      {
        "duration": 271,
        "start_time": "2023-05-30T06:50:25.922Z"
      },
      {
        "duration": 4,
        "start_time": "2023-05-30T06:50:26.196Z"
      },
      {
        "duration": 20,
        "start_time": "2023-05-30T06:50:26.202Z"
      },
      {
        "duration": 11,
        "start_time": "2023-05-30T06:50:26.226Z"
      },
      {
        "duration": 3590,
        "start_time": "2023-05-30T06:50:26.239Z"
      },
      {
        "duration": 366,
        "start_time": "2023-05-30T06:50:29.830Z"
      },
      {
        "duration": 14,
        "start_time": "2023-05-30T06:50:30.206Z"
      },
      {
        "duration": 41,
        "start_time": "2023-05-30T06:50:30.225Z"
      },
      {
        "duration": 41,
        "start_time": "2023-05-30T06:50:30.268Z"
      },
      {
        "duration": 34,
        "start_time": "2023-05-30T06:50:30.316Z"
      },
      {
        "duration": 42,
        "start_time": "2023-05-30T06:50:30.352Z"
      },
      {
        "duration": 3198,
        "start_time": "2023-05-30T06:50:30.396Z"
      },
      {
        "duration": 4,
        "start_time": "2023-05-30T06:50:33.596Z"
      },
      {
        "duration": 8,
        "start_time": "2023-05-30T06:50:33.610Z"
      },
      {
        "duration": 4755,
        "start_time": "2023-05-30T06:50:33.623Z"
      },
      {
        "duration": 3,
        "start_time": "2023-05-30T06:50:38.379Z"
      },
      {
        "duration": 1242,
        "start_time": "2023-05-30T06:50:38.383Z"
      },
      {
        "duration": 7,
        "start_time": "2023-05-30T06:50:39.627Z"
      },
      {
        "duration": 10,
        "start_time": "2023-05-30T06:50:39.636Z"
      },
      {
        "duration": 4,
        "start_time": "2023-05-30T06:50:39.648Z"
      },
      {
        "duration": 6,
        "start_time": "2023-05-30T06:50:39.654Z"
      },
      {
        "duration": 7,
        "start_time": "2023-05-30T06:50:39.661Z"
      },
      {
        "duration": 747701,
        "start_time": "2023-05-30T06:50:39.669Z"
      },
      {
        "duration": 5,
        "start_time": "2023-05-30T07:03:07.373Z"
      },
      {
        "duration": 20,
        "start_time": "2023-05-30T07:03:07.380Z"
      },
      {
        "duration": 4,
        "start_time": "2023-05-30T07:03:07.403Z"
      },
      {
        "duration": 13,
        "start_time": "2023-05-30T07:03:07.411Z"
      },
      {
        "duration": 15,
        "start_time": "2023-05-30T07:03:07.426Z"
      },
      {
        "duration": 67,
        "start_time": "2023-05-30T07:03:07.442Z"
      },
      {
        "duration": 6,
        "start_time": "2023-05-30T07:03:07.511Z"
      },
      {
        "duration": 21,
        "start_time": "2023-05-30T07:03:07.525Z"
      },
      {
        "duration": 9,
        "start_time": "2023-05-30T07:03:07.548Z"
      },
      {
        "duration": 95,
        "start_time": "2023-05-30T07:03:07.559Z"
      },
      {
        "duration": 7,
        "start_time": "2023-05-30T07:03:07.655Z"
      },
      {
        "duration": 112,
        "start_time": "2023-05-30T07:03:07.663Z"
      },
      {
        "duration": 2,
        "start_time": "2023-05-30T07:03:07.777Z"
      },
      {
        "duration": 12,
        "start_time": "2023-05-30T07:03:07.781Z"
      },
      {
        "duration": 6061,
        "start_time": "2023-05-30T07:03:07.795Z"
      },
      {
        "duration": 2,
        "start_time": "2023-05-30T07:03:13.858Z"
      },
      {
        "duration": 2319,
        "start_time": "2023-05-30T07:03:13.862Z"
      },
      {
        "duration": 48,
        "start_time": "2023-05-30T07:03:16.183Z"
      },
      {
        "duration": 3,
        "start_time": "2023-05-30T07:03:16.235Z"
      },
      {
        "duration": 13,
        "start_time": "2023-05-30T07:03:16.240Z"
      },
      {
        "duration": 9,
        "start_time": "2023-05-30T07:03:16.254Z"
      },
      {
        "duration": 3209872,
        "start_time": "2023-05-30T07:03:16.265Z"
      },
      {
        "duration": 104501,
        "start_time": "2023-05-30T07:56:46.139Z"
      },
      {
        "duration": 7,
        "start_time": "2023-05-30T07:58:30.645Z"
      },
      {
        "duration": 3110,
        "start_time": "2023-05-30T07:58:30.653Z"
      },
      {
        "duration": 33,
        "start_time": "2023-05-30T07:58:33.764Z"
      },
      {
        "duration": 178,
        "start_time": "2023-05-30T07:58:33.808Z"
      },
      {
        "duration": 351,
        "start_time": "2023-05-30T07:58:33.988Z"
      },
      {
        "duration": 0,
        "start_time": "2023-05-30T07:58:34.340Z"
      },
      {
        "duration": 0,
        "start_time": "2023-05-30T07:58:34.341Z"
      },
      {
        "duration": 0,
        "start_time": "2023-05-30T07:58:34.342Z"
      },
      {
        "duration": 0,
        "start_time": "2023-05-30T07:58:34.343Z"
      },
      {
        "duration": 0,
        "start_time": "2023-05-30T07:58:34.344Z"
      },
      {
        "duration": 0,
        "start_time": "2023-05-30T07:58:34.345Z"
      },
      {
        "duration": 12,
        "start_time": "2023-05-30T08:01:43.798Z"
      },
      {
        "duration": 620,
        "start_time": "2023-05-30T08:01:45.027Z"
      },
      {
        "duration": 5,
        "start_time": "2023-05-30T08:03:07.052Z"
      },
      {
        "duration": 5,
        "start_time": "2023-05-30T08:03:11.244Z"
      },
      {
        "duration": 9,
        "start_time": "2023-05-30T08:03:40.222Z"
      },
      {
        "duration": 6,
        "start_time": "2023-05-30T08:03:40.571Z"
      },
      {
        "duration": 59,
        "start_time": "2023-05-30T08:04:07.851Z"
      },
      {
        "duration": 5,
        "start_time": "2023-05-30T08:04:45.859Z"
      },
      {
        "duration": 3,
        "start_time": "2023-05-30T08:04:48.033Z"
      },
      {
        "duration": 56,
        "start_time": "2023-05-30T08:05:01.964Z"
      },
      {
        "duration": 49,
        "start_time": "2023-05-30T08:05:16.049Z"
      },
      {
        "duration": 57,
        "start_time": "2023-05-30T08:05:28.554Z"
      },
      {
        "duration": 9,
        "start_time": "2023-05-30T08:05:29.107Z"
      },
      {
        "duration": 12,
        "start_time": "2023-05-30T08:05:30.049Z"
      },
      {
        "duration": 5391,
        "start_time": "2023-05-30T08:05:30.916Z"
      },
      {
        "duration": 4,
        "start_time": "2023-05-30T08:05:37.027Z"
      },
      {
        "duration": 1373,
        "start_time": "2023-05-30T08:05:37.531Z"
      },
      {
        "duration": 29,
        "start_time": "2023-05-30T08:05:40.666Z"
      },
      {
        "duration": 24,
        "start_time": "2023-05-30T08:05:49.859Z"
      },
      {
        "duration": 3,
        "start_time": "2023-05-30T08:05:53.347Z"
      },
      {
        "duration": 3,
        "start_time": "2023-05-30T08:05:54.185Z"
      },
      {
        "duration": 3161,
        "start_time": "2023-05-30T08:06:41.538Z"
      },
      {
        "duration": 566,
        "start_time": "2023-05-30T08:06:56.282Z"
      },
      {
        "duration": 19,
        "start_time": "2023-05-30T08:10:53.550Z"
      },
      {
        "duration": 21,
        "start_time": "2023-05-30T08:10:59.252Z"
      },
      {
        "duration": 11,
        "start_time": "2023-05-30T08:11:12.304Z"
      },
      {
        "duration": 419,
        "start_time": "2023-05-30T08:11:14.156Z"
      },
      {
        "duration": 3,
        "start_time": "2023-05-30T08:12:11.140Z"
      },
      {
        "duration": 37459,
        "start_time": "2023-05-30T08:12:12.672Z"
      },
      {
        "duration": 853,
        "start_time": "2023-05-30T08:12:50.133Z"
      },
      {
        "duration": 2,
        "start_time": "2023-05-30T08:13:12.945Z"
      },
      {
        "duration": 27156,
        "start_time": "2023-05-30T08:13:13.311Z"
      },
      {
        "duration": 550,
        "start_time": "2023-05-30T08:13:40.469Z"
      },
      {
        "duration": 5,
        "start_time": "2023-05-30T08:14:16.471Z"
      },
      {
        "duration": 3,
        "start_time": "2023-05-30T08:14:31.517Z"
      },
      {
        "duration": 10463,
        "start_time": "2023-05-30T08:14:33.263Z"
      },
      {
        "duration": 545,
        "start_time": "2023-05-30T08:14:43.728Z"
      },
      {
        "duration": 2,
        "start_time": "2023-05-30T08:15:00.112Z"
      },
      {
        "duration": 3,
        "start_time": "2023-05-30T08:20:05.355Z"
      },
      {
        "duration": 29325,
        "start_time": "2023-05-30T08:20:22.468Z"
      },
      {
        "duration": 86,
        "start_time": "2023-05-30T08:20:51.795Z"
      },
      {
        "duration": 3,
        "start_time": "2023-05-30T08:41:52.483Z"
      },
      {
        "duration": 5,
        "start_time": "2023-05-30T08:41:52.691Z"
      },
      {
        "duration": 63,
        "start_time": "2023-05-30T08:41:52.883Z"
      },
      {
        "duration": 5,
        "start_time": "2023-05-30T08:41:53.082Z"
      },
      {
        "duration": 3,
        "start_time": "2023-05-30T08:41:53.292Z"
      },
      {
        "duration": 52,
        "start_time": "2023-05-30T08:41:53.506Z"
      },
      {
        "duration": 7,
        "start_time": "2023-05-30T08:41:53.730Z"
      },
      {
        "duration": 11,
        "start_time": "2023-05-30T08:41:53.962Z"
      },
      {
        "duration": 5110,
        "start_time": "2023-05-30T08:41:54.180Z"
      },
      {
        "duration": 2,
        "start_time": "2023-05-30T08:41:59.293Z"
      },
      {
        "duration": 1374,
        "start_time": "2023-05-30T08:41:59.296Z"
      },
      {
        "duration": 3,
        "start_time": "2023-05-30T08:42:00.672Z"
      },
      {
        "duration": 44,
        "start_time": "2023-05-30T08:42:00.677Z"
      },
      {
        "duration": 4,
        "start_time": "2023-05-30T08:42:04.690Z"
      },
      {
        "duration": 112977,
        "start_time": "2023-05-30T08:42:18.822Z"
      },
      {
        "duration": 16,
        "start_time": "2023-05-30T08:44:11.801Z"
      },
      {
        "duration": 3841,
        "start_time": "2023-05-30T08:44:11.823Z"
      },
      {
        "duration": 23,
        "start_time": "2023-05-30T08:44:15.666Z"
      },
      {
        "duration": 100,
        "start_time": "2023-05-30T08:44:15.691Z"
      },
      {
        "duration": 28732,
        "start_time": "2023-05-30T09:00:29.458Z"
      },
      {
        "duration": 3,
        "start_time": "2023-05-30T10:18:48.609Z"
      },
      {
        "duration": 122,
        "start_time": "2023-05-30T10:19:43.784Z"
      },
      {
        "duration": 5,
        "start_time": "2023-05-30T10:23:52.440Z"
      },
      {
        "duration": 5,
        "start_time": "2023-05-30T10:24:07.396Z"
      },
      {
        "duration": 46216,
        "start_time": "2023-05-30T10:24:07.718Z"
      },
      {
        "duration": 6,
        "start_time": "2023-05-30T10:24:56.678Z"
      },
      {
        "duration": 987770,
        "start_time": "2023-05-30T10:24:57.070Z"
      },
      {
        "duration": 4,
        "start_time": "2023-05-30T20:43:08.360Z"
      },
      {
        "duration": 223639,
        "start_time": "2023-05-30T20:43:17.361Z"
      },
      {
        "duration": 2,
        "start_time": "2023-05-30T20:48:26.960Z"
      },
      {
        "duration": 4,
        "start_time": "2023-05-30T20:48:40.662Z"
      },
      {
        "duration": 834323,
        "start_time": "2023-05-30T20:48:43.258Z"
      },
      {
        "duration": 10,
        "start_time": "2023-05-30T21:23:21.657Z"
      },
      {
        "duration": 26596,
        "start_time": "2023-05-30T21:23:49.017Z"
      },
      {
        "duration": 3431,
        "start_time": "2023-05-30T21:24:30.065Z"
      },
      {
        "duration": 21,
        "start_time": "2023-05-30T21:24:33.498Z"
      },
      {
        "duration": 88,
        "start_time": "2023-05-30T21:24:33.521Z"
      },
      {
        "duration": 8,
        "start_time": "2023-05-30T21:24:33.611Z"
      },
      {
        "duration": 463,
        "start_time": "2023-05-30T21:24:33.620Z"
      },
      {
        "duration": 3,
        "start_time": "2023-05-30T21:26:19.720Z"
      },
      {
        "duration": 19,
        "start_time": "2023-05-30T21:26:20.200Z"
      },
      {
        "duration": 2,
        "start_time": "2023-05-30T21:26:24.464Z"
      },
      {
        "duration": 20,
        "start_time": "2023-05-30T21:26:25.440Z"
      },
      {
        "duration": 3,
        "start_time": "2023-05-30T21:26:27.264Z"
      },
      {
        "duration": 21,
        "start_time": "2023-05-30T21:26:27.543Z"
      },
      {
        "duration": 2,
        "start_time": "2023-05-30T21:26:29.520Z"
      },
      {
        "duration": 20,
        "start_time": "2023-05-30T21:26:30.072Z"
      },
      {
        "duration": 3,
        "start_time": "2023-05-30T21:26:32.590Z"
      },
      {
        "duration": 20,
        "start_time": "2023-05-30T21:26:32.854Z"
      },
      {
        "duration": 21,
        "start_time": "2023-05-30T21:26:44.193Z"
      },
      {
        "duration": 418,
        "start_time": "2023-05-30T21:27:00.080Z"
      },
      {
        "duration": 187,
        "start_time": "2023-06-06T12:02:28.084Z"
      },
      {
        "duration": 453,
        "start_time": "2023-06-06T12:05:23.506Z"
      },
      {
        "duration": 162,
        "start_time": "2023-06-06T12:07:15.366Z"
      },
      {
        "duration": 338,
        "start_time": "2023-06-06T12:13:17.209Z"
      },
      {
        "duration": 133,
        "start_time": "2023-06-06T12:21:35.123Z"
      },
      {
        "duration": 41294,
        "start_time": "2023-06-06T12:25:27.958Z"
      },
      {
        "duration": 0,
        "start_time": "2023-06-06T12:26:10.476Z"
      },
      {
        "duration": 0,
        "start_time": "2023-06-06T12:26:10.477Z"
      },
      {
        "duration": 0,
        "start_time": "2023-06-06T12:26:10.478Z"
      },
      {
        "duration": 0,
        "start_time": "2023-06-06T12:26:10.479Z"
      },
      {
        "duration": 0,
        "start_time": "2023-06-06T12:26:10.480Z"
      },
      {
        "duration": 0,
        "start_time": "2023-06-06T12:26:10.481Z"
      },
      {
        "duration": 0,
        "start_time": "2023-06-06T12:26:10.499Z"
      },
      {
        "duration": 0,
        "start_time": "2023-06-06T12:26:10.499Z"
      },
      {
        "duration": 0,
        "start_time": "2023-06-06T12:26:10.500Z"
      },
      {
        "duration": 0,
        "start_time": "2023-06-06T12:26:10.506Z"
      },
      {
        "duration": 0,
        "start_time": "2023-06-06T12:26:10.507Z"
      },
      {
        "duration": 0,
        "start_time": "2023-06-06T12:26:10.508Z"
      },
      {
        "duration": 0,
        "start_time": "2023-06-06T12:26:10.509Z"
      },
      {
        "duration": 0,
        "start_time": "2023-06-06T12:26:10.510Z"
      },
      {
        "duration": 0,
        "start_time": "2023-06-06T12:26:10.511Z"
      },
      {
        "duration": 0,
        "start_time": "2023-06-06T12:26:10.514Z"
      },
      {
        "duration": 0,
        "start_time": "2023-06-06T12:26:10.515Z"
      },
      {
        "duration": 0,
        "start_time": "2023-06-06T12:26:10.516Z"
      },
      {
        "duration": 0,
        "start_time": "2023-06-06T12:26:10.517Z"
      },
      {
        "duration": 0,
        "start_time": "2023-06-06T12:26:10.518Z"
      },
      {
        "duration": 0,
        "start_time": "2023-06-06T12:26:10.519Z"
      },
      {
        "duration": 0,
        "start_time": "2023-06-06T12:26:10.520Z"
      },
      {
        "duration": 0,
        "start_time": "2023-06-06T12:26:10.521Z"
      },
      {
        "duration": 0,
        "start_time": "2023-06-06T12:26:10.522Z"
      },
      {
        "duration": 0,
        "start_time": "2023-06-06T12:26:10.523Z"
      },
      {
        "duration": 0,
        "start_time": "2023-06-06T12:26:10.524Z"
      },
      {
        "duration": 0,
        "start_time": "2023-06-06T12:26:10.525Z"
      },
      {
        "duration": 0,
        "start_time": "2023-06-06T12:26:10.526Z"
      },
      {
        "duration": 0,
        "start_time": "2023-06-06T12:26:10.527Z"
      },
      {
        "duration": 0,
        "start_time": "2023-06-06T12:26:10.528Z"
      },
      {
        "duration": 0,
        "start_time": "2023-06-06T12:26:10.529Z"
      },
      {
        "duration": 0,
        "start_time": "2023-06-06T12:26:10.530Z"
      },
      {
        "duration": 0,
        "start_time": "2023-06-06T12:26:10.531Z"
      },
      {
        "duration": 0,
        "start_time": "2023-06-06T12:26:10.532Z"
      },
      {
        "duration": 0,
        "start_time": "2023-06-06T12:26:10.533Z"
      },
      {
        "duration": 0,
        "start_time": "2023-06-06T12:26:10.534Z"
      },
      {
        "duration": 0,
        "start_time": "2023-06-06T12:26:10.535Z"
      },
      {
        "duration": 0,
        "start_time": "2023-06-06T12:26:10.536Z"
      },
      {
        "duration": 0,
        "start_time": "2023-06-06T12:26:10.537Z"
      },
      {
        "duration": 0,
        "start_time": "2023-06-06T12:26:10.538Z"
      },
      {
        "duration": 0,
        "start_time": "2023-06-06T12:26:10.539Z"
      },
      {
        "duration": 0,
        "start_time": "2023-06-06T12:26:10.540Z"
      },
      {
        "duration": 0,
        "start_time": "2023-06-06T12:26:10.540Z"
      },
      {
        "duration": 0,
        "start_time": "2023-06-06T12:26:10.541Z"
      },
      {
        "duration": 0,
        "start_time": "2023-06-06T12:26:10.542Z"
      },
      {
        "duration": 0,
        "start_time": "2023-06-06T12:26:10.543Z"
      },
      {
        "duration": 0,
        "start_time": "2023-06-06T12:26:10.544Z"
      },
      {
        "duration": 0,
        "start_time": "2023-06-06T12:26:10.544Z"
      },
      {
        "duration": 0,
        "start_time": "2023-06-06T12:26:10.545Z"
      },
      {
        "duration": 0,
        "start_time": "2023-06-06T12:26:10.546Z"
      },
      {
        "duration": 0,
        "start_time": "2023-06-06T12:26:10.547Z"
      },
      {
        "duration": 0,
        "start_time": "2023-06-06T12:26:10.547Z"
      },
      {
        "duration": 0,
        "start_time": "2023-06-06T12:26:10.548Z"
      },
      {
        "duration": 0,
        "start_time": "2023-06-06T12:26:10.548Z"
      },
      {
        "duration": 0,
        "start_time": "2023-06-06T12:26:10.602Z"
      },
      {
        "duration": 0,
        "start_time": "2023-06-06T12:26:10.603Z"
      },
      {
        "duration": 0,
        "start_time": "2023-06-06T12:26:10.603Z"
      },
      {
        "duration": 0,
        "start_time": "2023-06-06T12:26:10.604Z"
      },
      {
        "duration": 0,
        "start_time": "2023-06-06T12:26:10.604Z"
      },
      {
        "duration": 32068,
        "start_time": "2023-06-06T12:26:56.587Z"
      },
      {
        "duration": 1220,
        "start_time": "2023-06-06T12:27:28.657Z"
      },
      {
        "duration": 0,
        "start_time": "2023-06-06T12:27:29.880Z"
      },
      {
        "duration": 0,
        "start_time": "2023-06-06T12:27:29.881Z"
      },
      {
        "duration": 0,
        "start_time": "2023-06-06T12:27:29.882Z"
      },
      {
        "duration": 0,
        "start_time": "2023-06-06T12:27:29.884Z"
      },
      {
        "duration": 0,
        "start_time": "2023-06-06T12:27:29.885Z"
      },
      {
        "duration": 0,
        "start_time": "2023-06-06T12:27:29.885Z"
      },
      {
        "duration": 0,
        "start_time": "2023-06-06T12:27:29.886Z"
      },
      {
        "duration": 0,
        "start_time": "2023-06-06T12:27:29.888Z"
      },
      {
        "duration": 0,
        "start_time": "2023-06-06T12:27:29.888Z"
      },
      {
        "duration": 0,
        "start_time": "2023-06-06T12:27:29.889Z"
      },
      {
        "duration": 0,
        "start_time": "2023-06-06T12:27:29.889Z"
      },
      {
        "duration": 0,
        "start_time": "2023-06-06T12:27:29.890Z"
      },
      {
        "duration": 0,
        "start_time": "2023-06-06T12:27:29.890Z"
      },
      {
        "duration": 0,
        "start_time": "2023-06-06T12:27:29.891Z"
      },
      {
        "duration": 0,
        "start_time": "2023-06-06T12:27:29.891Z"
      },
      {
        "duration": 0,
        "start_time": "2023-06-06T12:27:29.892Z"
      },
      {
        "duration": 0,
        "start_time": "2023-06-06T12:27:29.892Z"
      },
      {
        "duration": 0,
        "start_time": "2023-06-06T12:27:29.893Z"
      },
      {
        "duration": 0,
        "start_time": "2023-06-06T12:27:29.893Z"
      },
      {
        "duration": 0,
        "start_time": "2023-06-06T12:27:29.894Z"
      },
      {
        "duration": 0,
        "start_time": "2023-06-06T12:27:29.896Z"
      },
      {
        "duration": 0,
        "start_time": "2023-06-06T12:27:29.897Z"
      },
      {
        "duration": 0,
        "start_time": "2023-06-06T12:27:29.897Z"
      },
      {
        "duration": 0,
        "start_time": "2023-06-06T12:27:29.898Z"
      },
      {
        "duration": 0,
        "start_time": "2023-06-06T12:27:29.899Z"
      },
      {
        "duration": 0,
        "start_time": "2023-06-06T12:27:29.899Z"
      },
      {
        "duration": 0,
        "start_time": "2023-06-06T12:27:29.900Z"
      },
      {
        "duration": 0,
        "start_time": "2023-06-06T12:27:29.900Z"
      },
      {
        "duration": 0,
        "start_time": "2023-06-06T12:27:29.901Z"
      },
      {
        "duration": 0,
        "start_time": "2023-06-06T12:27:29.902Z"
      },
      {
        "duration": 0,
        "start_time": "2023-06-06T12:27:29.902Z"
      },
      {
        "duration": 0,
        "start_time": "2023-06-06T12:27:29.903Z"
      },
      {
        "duration": 0,
        "start_time": "2023-06-06T12:27:29.904Z"
      },
      {
        "duration": 0,
        "start_time": "2023-06-06T12:27:29.904Z"
      },
      {
        "duration": 0,
        "start_time": "2023-06-06T12:27:29.905Z"
      },
      {
        "duration": 0,
        "start_time": "2023-06-06T12:27:29.907Z"
      },
      {
        "duration": 0,
        "start_time": "2023-06-06T12:27:29.907Z"
      },
      {
        "duration": 0,
        "start_time": "2023-06-06T12:27:29.908Z"
      },
      {
        "duration": 0,
        "start_time": "2023-06-06T12:27:29.909Z"
      },
      {
        "duration": 0,
        "start_time": "2023-06-06T12:27:29.910Z"
      },
      {
        "duration": 0,
        "start_time": "2023-06-06T12:27:29.911Z"
      },
      {
        "duration": 0,
        "start_time": "2023-06-06T12:27:29.912Z"
      },
      {
        "duration": 0,
        "start_time": "2023-06-06T12:27:29.913Z"
      },
      {
        "duration": 0,
        "start_time": "2023-06-06T12:27:29.914Z"
      },
      {
        "duration": 0,
        "start_time": "2023-06-06T12:27:29.915Z"
      },
      {
        "duration": 0,
        "start_time": "2023-06-06T12:27:29.915Z"
      },
      {
        "duration": 0,
        "start_time": "2023-06-06T12:27:29.916Z"
      },
      {
        "duration": 0,
        "start_time": "2023-06-06T12:27:29.917Z"
      },
      {
        "duration": 0,
        "start_time": "2023-06-06T12:27:29.918Z"
      },
      {
        "duration": 0,
        "start_time": "2023-06-06T12:27:29.919Z"
      },
      {
        "duration": 0,
        "start_time": "2023-06-06T12:27:29.920Z"
      },
      {
        "duration": 0,
        "start_time": "2023-06-06T12:27:29.921Z"
      },
      {
        "duration": 0,
        "start_time": "2023-06-06T12:27:29.922Z"
      },
      {
        "duration": 0,
        "start_time": "2023-06-06T12:27:29.923Z"
      },
      {
        "duration": 0,
        "start_time": "2023-06-06T12:27:29.924Z"
      },
      {
        "duration": 0,
        "start_time": "2023-06-06T12:27:29.925Z"
      },
      {
        "duration": 0,
        "start_time": "2023-06-06T12:27:29.925Z"
      },
      {
        "duration": 0,
        "start_time": "2023-06-06T12:27:29.926Z"
      },
      {
        "duration": 12,
        "start_time": "2023-06-06T12:27:44.652Z"
      },
      {
        "duration": 31370,
        "start_time": "2023-06-06T12:27:55.049Z"
      },
      {
        "duration": 6478,
        "start_time": "2023-06-06T12:28:26.428Z"
      },
      {
        "duration": 792,
        "start_time": "2023-06-06T12:28:32.910Z"
      },
      {
        "duration": 4,
        "start_time": "2023-06-06T12:28:33.707Z"
      },
      {
        "duration": 33,
        "start_time": "2023-06-06T12:28:33.715Z"
      },
      {
        "duration": 64,
        "start_time": "2023-06-06T12:28:33.750Z"
      },
      {
        "duration": 3862,
        "start_time": "2023-06-06T12:28:33.817Z"
      },
      {
        "duration": 377,
        "start_time": "2023-06-06T12:28:37.680Z"
      },
      {
        "duration": 4,
        "start_time": "2023-06-06T12:28:38.058Z"
      },
      {
        "duration": 38,
        "start_time": "2023-06-06T12:28:38.064Z"
      },
      {
        "duration": 52,
        "start_time": "2023-06-06T12:28:38.103Z"
      },
      {
        "duration": 20,
        "start_time": "2023-06-06T12:28:38.157Z"
      },
      {
        "duration": 49,
        "start_time": "2023-06-06T12:28:38.180Z"
      },
      {
        "duration": 3750,
        "start_time": "2023-06-06T12:28:38.231Z"
      },
      {
        "duration": 4,
        "start_time": "2023-06-06T12:28:41.983Z"
      },
      {
        "duration": 51,
        "start_time": "2023-06-06T12:28:41.988Z"
      },
      {
        "duration": 5273,
        "start_time": "2023-06-06T12:28:42.041Z"
      },
      {
        "duration": 10,
        "start_time": "2023-06-06T12:28:47.321Z"
      },
      {
        "duration": 1495,
        "start_time": "2023-06-06T12:28:47.347Z"
      },
      {
        "duration": 5,
        "start_time": "2023-06-06T12:28:48.844Z"
      },
      {
        "duration": 17,
        "start_time": "2023-06-06T12:28:48.850Z"
      },
      {
        "duration": 44,
        "start_time": "2023-06-06T12:28:48.868Z"
      },
      {
        "duration": 27,
        "start_time": "2023-06-06T12:28:48.913Z"
      },
      {
        "duration": 21,
        "start_time": "2023-06-06T12:28:48.941Z"
      },
      {
        "duration": 834703,
        "start_time": "2023-06-06T12:28:48.963Z"
      },
      {
        "duration": 5,
        "start_time": "2023-06-06T12:42:43.667Z"
      },
      {
        "duration": 79,
        "start_time": "2023-06-06T12:42:43.673Z"
      },
      {
        "duration": 98,
        "start_time": "2023-06-06T12:42:43.753Z"
      },
      {
        "duration": 17,
        "start_time": "2023-06-06T12:42:43.853Z"
      },
      {
        "duration": 86,
        "start_time": "2023-06-06T12:42:43.872Z"
      },
      {
        "duration": 100,
        "start_time": "2023-06-06T12:42:43.960Z"
      },
      {
        "duration": 8,
        "start_time": "2023-06-06T12:42:44.061Z"
      },
      {
        "duration": 84,
        "start_time": "2023-06-06T12:42:44.070Z"
      },
      {
        "duration": 55,
        "start_time": "2023-06-06T12:42:44.156Z"
      },
      {
        "duration": 70,
        "start_time": "2023-06-06T12:42:44.213Z"
      },
      {
        "duration": 67,
        "start_time": "2023-06-06T12:42:44.284Z"
      },
      {
        "duration": 11,
        "start_time": "2023-06-06T12:42:44.353Z"
      },
      {
        "duration": 76,
        "start_time": "2023-06-06T12:42:44.366Z"
      },
      {
        "duration": 396,
        "start_time": "2023-06-06T12:42:44.454Z"
      },
      {
        "duration": 0,
        "start_time": "2023-06-06T12:42:44.853Z"
      },
      {
        "duration": 0,
        "start_time": "2023-06-06T12:42:44.855Z"
      },
      {
        "duration": 0,
        "start_time": "2023-06-06T12:42:44.856Z"
      },
      {
        "duration": 0,
        "start_time": "2023-06-06T12:42:44.857Z"
      },
      {
        "duration": 0,
        "start_time": "2023-06-06T12:42:44.858Z"
      },
      {
        "duration": 0,
        "start_time": "2023-06-06T12:42:44.859Z"
      },
      {
        "duration": 0,
        "start_time": "2023-06-06T12:42:44.861Z"
      },
      {
        "duration": 0,
        "start_time": "2023-06-06T12:42:44.862Z"
      },
      {
        "duration": 0,
        "start_time": "2023-06-06T12:42:44.863Z"
      },
      {
        "duration": 0,
        "start_time": "2023-06-06T12:42:44.865Z"
      },
      {
        "duration": 0,
        "start_time": "2023-06-06T12:42:44.890Z"
      },
      {
        "duration": 0,
        "start_time": "2023-06-06T12:42:44.891Z"
      },
      {
        "duration": 0,
        "start_time": "2023-06-06T12:42:44.892Z"
      },
      {
        "duration": 0,
        "start_time": "2023-06-06T12:42:44.893Z"
      },
      {
        "duration": 0,
        "start_time": "2023-06-06T12:42:44.893Z"
      },
      {
        "duration": 0,
        "start_time": "2023-06-06T12:42:44.894Z"
      },
      {
        "duration": 0,
        "start_time": "2023-06-06T12:42:44.895Z"
      },
      {
        "duration": 0,
        "start_time": "2023-06-06T12:42:44.903Z"
      },
      {
        "duration": 0,
        "start_time": "2023-06-06T12:42:44.904Z"
      },
      {
        "duration": 0,
        "start_time": "2023-06-06T12:42:44.905Z"
      },
      {
        "duration": 0,
        "start_time": "2023-06-06T12:42:44.907Z"
      },
      {
        "duration": 22,
        "start_time": "2023-06-06T12:43:38.934Z"
      },
      {
        "duration": 2065385,
        "start_time": "2023-06-06T12:46:22.557Z"
      },
      {
        "duration": 115,
        "start_time": "2023-06-06T15:03:07.026Z"
      },
      {
        "duration": 40049,
        "start_time": "2023-06-07T17:18:55.878Z"
      },
      {
        "duration": 1339,
        "start_time": "2023-06-07T17:19:35.929Z"
      },
      {
        "duration": 0,
        "start_time": "2023-06-07T17:19:37.272Z"
      },
      {
        "duration": 0,
        "start_time": "2023-06-07T17:19:37.273Z"
      },
      {
        "duration": 0,
        "start_time": "2023-06-07T17:19:37.275Z"
      },
      {
        "duration": 0,
        "start_time": "2023-06-07T17:19:37.276Z"
      },
      {
        "duration": 0,
        "start_time": "2023-06-07T17:19:37.278Z"
      },
      {
        "duration": 0,
        "start_time": "2023-06-07T17:19:37.279Z"
      },
      {
        "duration": 1,
        "start_time": "2023-06-07T17:19:37.280Z"
      },
      {
        "duration": 0,
        "start_time": "2023-06-07T17:19:37.282Z"
      },
      {
        "duration": 0,
        "start_time": "2023-06-07T17:19:37.283Z"
      },
      {
        "duration": 0,
        "start_time": "2023-06-07T17:19:37.284Z"
      },
      {
        "duration": 0,
        "start_time": "2023-06-07T17:19:37.285Z"
      },
      {
        "duration": 1,
        "start_time": "2023-06-07T17:19:37.286Z"
      },
      {
        "duration": 0,
        "start_time": "2023-06-07T17:19:37.288Z"
      },
      {
        "duration": 0,
        "start_time": "2023-06-07T17:19:37.289Z"
      },
      {
        "duration": 0,
        "start_time": "2023-06-07T17:19:37.325Z"
      },
      {
        "duration": 0,
        "start_time": "2023-06-07T17:19:37.326Z"
      },
      {
        "duration": 0,
        "start_time": "2023-06-07T17:19:37.327Z"
      },
      {
        "duration": 0,
        "start_time": "2023-06-07T17:19:37.329Z"
      },
      {
        "duration": 0,
        "start_time": "2023-06-07T17:19:37.330Z"
      },
      {
        "duration": 0,
        "start_time": "2023-06-07T17:19:37.331Z"
      },
      {
        "duration": 0,
        "start_time": "2023-06-07T17:19:37.333Z"
      },
      {
        "duration": 0,
        "start_time": "2023-06-07T17:19:37.334Z"
      },
      {
        "duration": 0,
        "start_time": "2023-06-07T17:19:37.335Z"
      },
      {
        "duration": 0,
        "start_time": "2023-06-07T17:19:37.336Z"
      },
      {
        "duration": 0,
        "start_time": "2023-06-07T17:19:37.339Z"
      },
      {
        "duration": 0,
        "start_time": "2023-06-07T17:19:37.341Z"
      },
      {
        "duration": 0,
        "start_time": "2023-06-07T17:19:37.342Z"
      },
      {
        "duration": 0,
        "start_time": "2023-06-07T17:19:37.344Z"
      },
      {
        "duration": 0,
        "start_time": "2023-06-07T17:19:37.345Z"
      },
      {
        "duration": 0,
        "start_time": "2023-06-07T17:19:37.346Z"
      },
      {
        "duration": 0,
        "start_time": "2023-06-07T17:19:37.347Z"
      },
      {
        "duration": 0,
        "start_time": "2023-06-07T17:19:37.348Z"
      },
      {
        "duration": 0,
        "start_time": "2023-06-07T17:19:37.349Z"
      },
      {
        "duration": 0,
        "start_time": "2023-06-07T17:19:37.351Z"
      },
      {
        "duration": 0,
        "start_time": "2023-06-07T17:19:37.352Z"
      },
      {
        "duration": 1905,
        "start_time": "2023-06-07T17:20:41.606Z"
      },
      {
        "duration": 18,
        "start_time": "2023-06-07T17:21:12.106Z"
      },
      {
        "duration": 13,
        "start_time": "2023-06-07T17:21:45.447Z"
      },
      {
        "duration": 7747,
        "start_time": "2023-06-07T17:21:48.075Z"
      },
      {
        "duration": 623,
        "start_time": "2023-06-07T17:21:55.825Z"
      },
      {
        "duration": 2,
        "start_time": "2023-06-07T17:21:56.450Z"
      },
      {
        "duration": 6,
        "start_time": "2023-06-07T17:21:56.455Z"
      },
      {
        "duration": 14,
        "start_time": "2023-06-07T17:21:56.462Z"
      },
      {
        "duration": 3795,
        "start_time": "2023-06-07T17:21:56.478Z"
      },
      {
        "duration": 358,
        "start_time": "2023-06-07T17:22:00.275Z"
      },
      {
        "duration": 5,
        "start_time": "2023-06-07T17:22:00.635Z"
      },
      {
        "duration": 34,
        "start_time": "2023-06-07T17:22:00.641Z"
      },
      {
        "duration": 28,
        "start_time": "2023-06-07T17:22:00.679Z"
      },
      {
        "duration": 36,
        "start_time": "2023-06-07T17:22:00.709Z"
      },
      {
        "duration": 26,
        "start_time": "2023-06-07T17:22:00.746Z"
      },
      {
        "duration": 3419,
        "start_time": "2023-06-07T17:22:00.774Z"
      },
      {
        "duration": 15,
        "start_time": "2023-06-07T17:22:04.195Z"
      },
      {
        "duration": 12,
        "start_time": "2023-06-07T17:22:04.211Z"
      },
      {
        "duration": 4999,
        "start_time": "2023-06-07T17:22:04.226Z"
      },
      {
        "duration": 4,
        "start_time": "2023-06-07T17:22:09.227Z"
      },
      {
        "duration": 1369,
        "start_time": "2023-06-07T17:22:09.233Z"
      },
      {
        "duration": 6,
        "start_time": "2023-06-07T17:22:10.604Z"
      },
      {
        "duration": 16,
        "start_time": "2023-06-07T17:22:10.612Z"
      },
      {
        "duration": 12,
        "start_time": "2023-06-07T17:22:10.630Z"
      },
      {
        "duration": 27,
        "start_time": "2023-06-07T17:22:10.644Z"
      },
      {
        "duration": 23,
        "start_time": "2023-06-07T17:22:10.673Z"
      },
      {
        "duration": 777864,
        "start_time": "2023-06-07T17:22:10.698Z"
      },
      {
        "duration": 5,
        "start_time": "2023-06-07T17:35:08.564Z"
      },
      {
        "duration": 8,
        "start_time": "2023-06-07T17:35:08.571Z"
      },
      {
        "duration": 5,
        "start_time": "2023-06-07T17:35:08.581Z"
      },
      {
        "duration": 7,
        "start_time": "2023-06-07T17:35:08.590Z"
      },
      {
        "duration": 29,
        "start_time": "2023-06-07T17:35:08.599Z"
      },
      {
        "duration": 49,
        "start_time": "2023-06-07T17:35:08.630Z"
      },
      {
        "duration": 5,
        "start_time": "2023-06-07T17:35:08.680Z"
      },
      {
        "duration": 15,
        "start_time": "2023-06-07T17:35:08.687Z"
      },
      {
        "duration": 40,
        "start_time": "2023-06-07T17:35:08.704Z"
      },
      {
        "duration": 57,
        "start_time": "2023-06-07T17:35:08.746Z"
      },
      {
        "duration": 6,
        "start_time": "2023-06-07T17:35:08.804Z"
      },
      {
        "duration": 5,
        "start_time": "2023-06-07T17:35:08.813Z"
      },
      {
        "duration": 93,
        "start_time": "2023-06-07T17:35:08.820Z"
      },
      {
        "duration": 3,
        "start_time": "2023-06-07T17:37:11.205Z"
      },
      {
        "duration": 8,
        "start_time": "2023-06-07T17:37:11.695Z"
      },
      {
        "duration": 50,
        "start_time": "2023-06-07T17:37:12.247Z"
      },
      {
        "duration": 113,
        "start_time": "2023-06-07T17:37:32.791Z"
      },
      {
        "duration": 4,
        "start_time": "2023-06-07T17:37:35.111Z"
      },
      {
        "duration": 6,
        "start_time": "2023-06-07T17:37:35.607Z"
      },
      {
        "duration": 34,
        "start_time": "2023-06-07T17:37:36.127Z"
      },
      {
        "duration": 6,
        "start_time": "2023-06-07T17:37:37.262Z"
      },
      {
        "duration": 4,
        "start_time": "2023-06-07T17:37:38.039Z"
      },
      {
        "duration": 60,
        "start_time": "2023-06-07T17:37:38.454Z"
      },
      {
        "duration": 1592189,
        "start_time": "2023-06-07T17:38:14.247Z"
      },
      {
        "duration": 145,
        "start_time": "2023-06-07T18:09:08.778Z"
      },
      {
        "duration": 276,
        "start_time": "2023-06-07T18:09:14.471Z"
      },
      {
        "duration": 5,
        "start_time": "2023-06-07T18:09:28.136Z"
      },
      {
        "duration": 6,
        "start_time": "2023-06-07T18:14:14.321Z"
      },
      {
        "duration": 8,
        "start_time": "2023-06-07T18:14:18.508Z"
      },
      {
        "duration": 4909,
        "start_time": "2023-06-07T18:14:54.704Z"
      },
      {
        "duration": 69334,
        "start_time": "2023-06-07T18:16:11.685Z"
      },
      {
        "duration": 5,
        "start_time": "2023-06-07T18:18:10.037Z"
      },
      {
        "duration": 7,
        "start_time": "2023-06-07T18:19:08.004Z"
      },
      {
        "duration": 3,
        "start_time": "2023-06-07T18:19:14.175Z"
      },
      {
        "duration": 25,
        "start_time": "2023-06-07T18:19:50.516Z"
      },
      {
        "duration": 31,
        "start_time": "2023-06-07T18:20:04.992Z"
      },
      {
        "duration": 1272,
        "start_time": "2023-06-07T18:20:41.508Z"
      },
      {
        "duration": 9,
        "start_time": "2023-06-07T18:20:43.060Z"
      },
      {
        "duration": 17,
        "start_time": "2023-06-07T18:21:32.684Z"
      },
      {
        "duration": 4,
        "start_time": "2023-06-07T18:21:33.848Z"
      },
      {
        "duration": 4,
        "start_time": "2023-06-07T18:22:00.377Z"
      },
      {
        "duration": 33,
        "start_time": "2023-06-07T18:22:12.252Z"
      },
      {
        "duration": 5,
        "start_time": "2023-06-07T18:22:14.990Z"
      },
      {
        "duration": 43,
        "start_time": "2023-06-07T18:22:15.930Z"
      },
      {
        "duration": 7,
        "start_time": "2023-06-07T18:22:23.611Z"
      },
      {
        "duration": 5,
        "start_time": "2023-06-07T18:23:10.834Z"
      },
      {
        "duration": 37,
        "start_time": "2023-06-07T18:23:11.090Z"
      },
      {
        "duration": 4,
        "start_time": "2023-06-07T18:23:19.284Z"
      },
      {
        "duration": 4746,
        "start_time": "2023-06-07T18:23:20.124Z"
      },
      {
        "duration": 21,
        "start_time": "2023-06-07T18:23:53.618Z"
      },
      {
        "duration": 3,
        "start_time": "2023-06-07T18:24:29.026Z"
      },
      {
        "duration": 6,
        "start_time": "2023-06-07T18:25:05.089Z"
      },
      {
        "duration": 29,
        "start_time": "2023-06-07T18:25:07.290Z"
      },
      {
        "duration": 1234,
        "start_time": "2023-06-07T18:25:22.458Z"
      },
      {
        "duration": 7,
        "start_time": "2023-06-07T18:25:27.785Z"
      },
      {
        "duration": 8,
        "start_time": "2023-06-07T18:25:30.290Z"
      },
      {
        "duration": 4,
        "start_time": "2023-06-07T18:25:36.260Z"
      },
      {
        "duration": 18,
        "start_time": "2023-06-07T18:26:29.825Z"
      },
      {
        "duration": 68,
        "start_time": "2023-06-07T18:40:51.516Z"
      },
      {
        "duration": 6,
        "start_time": "2023-06-07T18:40:54.651Z"
      },
      {
        "duration": 5,
        "start_time": "2023-06-07T18:40:55.450Z"
      },
      {
        "duration": 60,
        "start_time": "2023-06-07T18:40:55.938Z"
      },
      {
        "duration": 3,
        "start_time": "2023-06-07T18:40:57.619Z"
      },
      {
        "duration": 13,
        "start_time": "2023-06-07T18:40:58.804Z"
      },
      {
        "duration": 26,
        "start_time": "2023-06-07T18:40:59.143Z"
      },
      {
        "duration": 4,
        "start_time": "2023-06-07T18:40:59.427Z"
      },
      {
        "duration": 3,
        "start_time": "2023-06-07T18:41:05.579Z"
      },
      {
        "duration": 5759,
        "start_time": "2023-06-07T18:41:06.055Z"
      },
      {
        "duration": 8,
        "start_time": "2023-06-07T18:41:11.817Z"
      },
      {
        "duration": 1466,
        "start_time": "2023-06-07T18:41:11.827Z"
      },
      {
        "duration": 45,
        "start_time": "2023-06-07T18:41:13.296Z"
      },
      {
        "duration": 3,
        "start_time": "2023-06-07T18:41:13.345Z"
      },
      {
        "duration": 8,
        "start_time": "2023-06-07T18:41:13.350Z"
      },
      {
        "duration": 5,
        "start_time": "2023-06-07T18:41:13.547Z"
      },
      {
        "duration": 839995,
        "start_time": "2023-06-07T18:41:17.794Z"
      },
      {
        "duration": 6,
        "start_time": "2023-06-07T18:55:17.791Z"
      },
      {
        "duration": 11,
        "start_time": "2023-06-07T18:55:17.798Z"
      },
      {
        "duration": 6792477,
        "start_time": "2023-06-07T18:55:17.811Z"
      },
      {
        "duration": 179779,
        "start_time": "2023-06-07T20:48:30.291Z"
      },
      {
        "duration": 6,
        "start_time": "2023-06-07T20:51:30.072Z"
      },
      {
        "duration": 4755,
        "start_time": "2023-06-07T20:51:30.082Z"
      },
      {
        "duration": 33,
        "start_time": "2023-06-07T20:51:34.850Z"
      },
      {
        "duration": 17281,
        "start_time": "2023-06-07T20:51:34.886Z"
      },
      {
        "duration": 35,
        "start_time": "2023-06-07T20:55:18.050Z"
      },
      {
        "duration": 28,
        "start_time": "2023-06-07T20:55:21.808Z"
      },
      {
        "duration": 22,
        "start_time": "2023-06-07T20:55:38.882Z"
      },
      {
        "duration": 130,
        "start_time": "2023-06-07T20:58:41.086Z"
      },
      {
        "duration": 122,
        "start_time": "2023-06-07T21:01:36.144Z"
      },
      {
        "duration": 143,
        "start_time": "2023-06-08T17:19:00.984Z"
      },
      {
        "duration": 55419,
        "start_time": "2023-06-08T18:24:42.599Z"
      },
      {
        "duration": 7268,
        "start_time": "2023-06-08T18:25:38.021Z"
      },
      {
        "duration": 1196,
        "start_time": "2023-06-08T18:25:45.291Z"
      },
      {
        "duration": 3,
        "start_time": "2023-06-08T18:25:46.490Z"
      },
      {
        "duration": 19,
        "start_time": "2023-06-08T18:25:46.495Z"
      },
      {
        "duration": 32,
        "start_time": "2023-06-08T18:25:46.516Z"
      },
      {
        "duration": 5087,
        "start_time": "2023-06-08T18:25:46.552Z"
      },
      {
        "duration": 465,
        "start_time": "2023-06-08T18:25:51.642Z"
      },
      {
        "duration": 6,
        "start_time": "2023-06-08T18:25:52.110Z"
      },
      {
        "duration": 12,
        "start_time": "2023-06-08T18:25:52.134Z"
      },
      {
        "duration": 10,
        "start_time": "2023-06-08T18:25:52.149Z"
      },
      {
        "duration": 6,
        "start_time": "2023-06-08T18:25:52.162Z"
      },
      {
        "duration": 6,
        "start_time": "2023-06-08T18:25:52.170Z"
      },
      {
        "duration": 4595,
        "start_time": "2023-06-08T18:25:52.179Z"
      },
      {
        "duration": 6,
        "start_time": "2023-06-08T18:25:56.776Z"
      },
      {
        "duration": 5,
        "start_time": "2023-06-08T18:25:56.783Z"
      },
      {
        "duration": 6636,
        "start_time": "2023-06-08T18:25:56.790Z"
      },
      {
        "duration": 4,
        "start_time": "2023-06-08T18:26:03.438Z"
      },
      {
        "duration": 1814,
        "start_time": "2023-06-08T18:26:03.446Z"
      },
      {
        "duration": 10,
        "start_time": "2023-06-08T18:26:05.267Z"
      },
      {
        "duration": 10,
        "start_time": "2023-06-08T18:26:05.281Z"
      },
      {
        "duration": 9,
        "start_time": "2023-06-08T18:26:05.294Z"
      },
      {
        "duration": 24,
        "start_time": "2023-06-08T18:26:05.305Z"
      },
      {
        "duration": 6,
        "start_time": "2023-06-08T18:26:05.344Z"
      },
      {
        "duration": 1086798,
        "start_time": "2023-06-08T18:26:05.353Z"
      },
      {
        "duration": 7,
        "start_time": "2023-06-08T18:44:12.154Z"
      },
      {
        "duration": 5,
        "start_time": "2023-06-08T18:57:37.693Z"
      },
      {
        "duration": 5,
        "start_time": "2023-06-08T18:57:38.501Z"
      },
      {
        "duration": 3,
        "start_time": "2023-06-08T18:57:39.265Z"
      },
      {
        "duration": 13,
        "start_time": "2023-06-08T18:57:39.392Z"
      },
      {
        "duration": 67,
        "start_time": "2023-06-08T18:57:39.580Z"
      },
      {
        "duration": 3,
        "start_time": "2023-06-08T18:57:40.943Z"
      },
      {
        "duration": 50,
        "start_time": "2023-06-08T18:57:41.512Z"
      },
      {
        "duration": 5664,
        "start_time": "2023-06-08T18:57:41.696Z"
      },
      {
        "duration": 1574152,
        "start_time": "2023-06-08T19:04:25.375Z"
      },
      {
        "duration": 5711,
        "start_time": "2023-06-08T19:30:39.532Z"
      },
      {
        "duration": 92337,
        "start_time": "2023-06-08T19:30:45.247Z"
      },
      {
        "duration": 5,
        "start_time": "2023-06-08T19:32:17.591Z"
      },
      {
        "duration": 5,
        "start_time": "2023-06-08T19:32:17.598Z"
      },
      {
        "duration": 1773,
        "start_time": "2023-06-08T19:32:17.606Z"
      },
      {
        "duration": 11,
        "start_time": "2023-06-08T19:32:19.382Z"
      },
      {
        "duration": 36,
        "start_time": "2023-06-08T19:32:19.396Z"
      },
      {
        "duration": 7,
        "start_time": "2023-06-08T19:32:19.435Z"
      },
      {
        "duration": 24,
        "start_time": "2023-06-08T19:32:19.446Z"
      },
      {
        "duration": 6238,
        "start_time": "2023-06-08T19:32:19.472Z"
      },
      {
        "duration": 25,
        "start_time": "2023-06-08T19:32:25.712Z"
      },
      {
        "duration": 4,
        "start_time": "2023-06-08T19:32:25.739Z"
      },
      {
        "duration": 8,
        "start_time": "2023-06-08T19:32:25.746Z"
      },
      {
        "duration": 11,
        "start_time": "2023-06-08T19:32:25.756Z"
      },
      {
        "duration": 553985,
        "start_time": "2023-06-08T19:32:25.769Z"
      },
      {
        "duration": 5,
        "start_time": "2023-06-08T19:41:39.757Z"
      },
      {
        "duration": 6,
        "start_time": "2023-06-08T19:41:39.763Z"
      },
      {
        "duration": 2079683,
        "start_time": "2023-06-08T19:41:39.771Z"
      },
      {
        "duration": 73265,
        "start_time": "2023-06-08T20:16:19.456Z"
      },
      {
        "duration": 400,
        "start_time": "2023-06-08T20:17:32.726Z"
      },
      {
        "duration": 0,
        "start_time": "2023-06-08T20:17:33.127Z"
      },
      {
        "duration": 0,
        "start_time": "2023-06-08T20:17:33.129Z"
      },
      {
        "duration": 0,
        "start_time": "2023-06-08T20:17:33.130Z"
      },
      {
        "duration": 5,
        "start_time": "2023-06-08T21:20:05.062Z"
      },
      {
        "duration": 4549,
        "start_time": "2023-06-08T21:20:07.770Z"
      },
      {
        "duration": 0,
        "start_time": "2023-06-08T21:20:12.321Z"
      },
      {
        "duration": 0,
        "start_time": "2023-06-08T21:20:12.325Z"
      },
      {
        "duration": 4547,
        "start_time": "2023-06-08T21:20:21.194Z"
      },
      {
        "duration": 23,
        "start_time": "2023-06-08T21:20:25.743Z"
      },
      {
        "duration": 17449,
        "start_time": "2023-06-08T21:20:25.768Z"
      },
      {
        "duration": 9,
        "start_time": "2023-06-08T21:20:43.219Z"
      },
      {
        "duration": 1527,
        "start_time": "2023-06-08T21:20:43.231Z"
      },
      {
        "duration": 7,
        "start_time": "2023-06-08T21:20:44.760Z"
      },
      {
        "duration": 8,
        "start_time": "2023-06-08T21:20:44.768Z"
      },
      {
        "duration": 5,
        "start_time": "2023-06-08T21:20:44.779Z"
      },
      {
        "duration": 43,
        "start_time": "2023-06-08T21:20:44.786Z"
      }
    ],
    "kernelspec": {
      "display_name": "Python 3 (ipykernel)",
      "language": "python",
      "name": "python3"
    },
    "language_info": {
      "codemirror_mode": {
        "name": "ipython",
        "version": 3
      },
      "file_extension": ".py",
      "mimetype": "text/x-python",
      "name": "python",
      "nbconvert_exporter": "python",
      "pygments_lexer": "ipython3",
      "version": "3.9.5"
    },
    "toc": {
      "base_numbering": 1,
      "nav_menu": {},
      "number_sections": true,
      "sideBar": true,
      "skip_h1_title": true,
      "title_cell": "Содержание",
      "title_sidebar": "Contents",
      "toc_cell": true,
      "toc_position": {
        "height": "calc(100% - 180px)",
        "left": "10px",
        "top": "150px",
        "width": "302.391px"
      },
      "toc_section_display": true,
      "toc_window_display": true
    },
    "colab": {
      "provenance": []
    }
  },
  "nbformat": 4,
  "nbformat_minor": 0
}