{
  "cells": [
    {
      "cell_type": "markdown",
      "metadata": {
        "id": "v3uTYhWRNPaw"
      },
      "source": [
        "# Рекомендация тарифов"
      ]
    },
    {
      "cell_type": "markdown",
      "metadata": {
        "id": "UVMBi1DWNPaw"
      },
      "source": [
        "В вашем распоряжении данные о поведении клиентов, которые уже перешли на эти тарифы (из проекта курса «Статистический анализ данных»). Нужно построить модель для задачи классификации, которая выберет подходящий тариф. Предобработка данных не понадобится — вы её уже сделали.\n",
        "\n",
        "Постройте модель с максимально большим значением *accuracy*. Чтобы сдать проект успешно, нужно довести долю правильных ответов по крайней мере до 0.75. Проверьте *accuracy* на тестовой выборке самостоятельно."
      ]
    },
    {
      "cell_type": "code",
      "execution_count": null,
      "metadata": {
        "id": "NLQeGNcpNPax"
      },
      "outputs": [],
      "source": [
        "# импортируем нужные библиотеки и методы\n",
        "import pandas as pd\n",
        "import numpy as np\n",
        "from sklearn.metrics import balanced_accuracy_score, accuracy_score, f1_score, precision_score,recall_score, fbeta_score\n",
        "from sklearn.linear_model import LogisticRegression\n",
        "from sklearn.ensemble import RandomForestClassifier\n",
        "from sklearn.tree import DecisionTreeClassifier\n",
        "\n",
        "from sklearn.model_selection import train_test_split, GridSearchCV, RandomizedSearchCV,cross_val_score\n",
        "from collections import Counter\n",
        "import seaborn as sns\n",
        "import pandas_profiling\n",
        "from sklearn.metrics import plot_roc_curve,plot_confusion_matrix\n",
        "import matplotlib.pyplot as plt"
      ]
    },
    {
      "cell_type": "code",
      "execution_count": null,
      "metadata": {
        "id": "RJG06Ww6NPax"
      },
      "outputs": [],
      "source": [
        "# скрываем предупреждения\n",
        "import warnings\n",
        "warnings.filterwarnings('ignore')"
      ]
    },
    {
      "cell_type": "code",
      "execution_count": null,
      "metadata": {
        "id": "cZt0vV4FNPax"
      },
      "outputs": [],
      "source": [
        "# фиксируем ГПЧ\n",
        "np.random.seed(7)"
      ]
    },
    {
      "cell_type": "markdown",
      "metadata": {
        "id": "mQLRLk4INPay"
      },
      "source": [
        "## Откройте и изучите файл"
      ]
    },
    {
      "cell_type": "code",
      "execution_count": null,
      "metadata": {
        "id": "9dYEjrcJNPay"
      },
      "outputs": [],
      "source": [
        "# читаем файл с данными\n",
        "df = pd.read_csv('/datasets/users_behavior.csv')"
      ]
    },
    {
      "cell_type": "markdown",
      "metadata": {
        "id": "RyhO7giZNPay"
      },
      "source": [
        "Екатерина"
      ]
    },
    {
      "cell_type": "code",
      "execution_count": null,
      "metadata": {
        "id": "JsoyuCZ7NPay"
      },
      "outputs": [],
      "source": [
        "# Функция для ознакомления с данными\n",
        "def pre_view(data,n_row=4,head=True, info=True,columns=True,shape=True,isna=True,duplicated=True):\n",
        "    if head:\n",
        "        print(f'First {n_row} row(s) in the head of data')\n",
        "        display(data.head(n_row))\n",
        "        print('-'*30)\n",
        "    if info:\n",
        "        print('Data Information:')\n",
        "        display(data.info())\n",
        "        print('-'*30)\n",
        "    if columns:\n",
        "        print('Data columns:')\n",
        "        display(data.columns)\n",
        "        print('-'*30)\n",
        "    if shape:\n",
        "        print('Data shape:')\n",
        "        display(data.shape)\n",
        "        print('-'*30)\n",
        "    if isna:\n",
        "        print('Data isna by row mean:')\n",
        "        display(data.isna().mean())\n",
        "        print('-'*30)\n",
        "    if duplicated:\n",
        "        print('Data clear duplicates sum:')\n",
        "        display(data.isna().mean())\n",
        "        print('-'*30)\n",
        "\n",
        ""
      ]
    },
    {
      "cell_type": "code",
      "execution_count": null,
      "metadata": {
        "id": "XCaM2ZKMNPay",
        "outputId": "876ce0ce-d6cf-4530-ee7e-b64cb1f9a9aa"
      },
      "outputs": [
        {
          "name": "stdout",
          "output_type": "stream",
          "text": [
            "First 4 row(s) in the head of data\n"
          ]
        },
        {
          "data": {
            "text/html": [
              "<div>\n",
              "<style scoped>\n",
              "    .dataframe tbody tr th:only-of-type {\n",
              "        vertical-align: middle;\n",
              "    }\n",
              "\n",
              "    .dataframe tbody tr th {\n",
              "        vertical-align: top;\n",
              "    }\n",
              "\n",
              "    .dataframe thead th {\n",
              "        text-align: right;\n",
              "    }\n",
              "</style>\n",
              "<table border=\"1\" class=\"dataframe\">\n",
              "  <thead>\n",
              "    <tr style=\"text-align: right;\">\n",
              "      <th></th>\n",
              "      <th>calls</th>\n",
              "      <th>minutes</th>\n",
              "      <th>messages</th>\n",
              "      <th>mb_used</th>\n",
              "      <th>is_ultra</th>\n",
              "    </tr>\n",
              "  </thead>\n",
              "  <tbody>\n",
              "    <tr>\n",
              "      <th>0</th>\n",
              "      <td>40.0</td>\n",
              "      <td>311.90</td>\n",
              "      <td>83.0</td>\n",
              "      <td>19915.42</td>\n",
              "      <td>0</td>\n",
              "    </tr>\n",
              "    <tr>\n",
              "      <th>1</th>\n",
              "      <td>85.0</td>\n",
              "      <td>516.75</td>\n",
              "      <td>56.0</td>\n",
              "      <td>22696.96</td>\n",
              "      <td>0</td>\n",
              "    </tr>\n",
              "    <tr>\n",
              "      <th>2</th>\n",
              "      <td>77.0</td>\n",
              "      <td>467.66</td>\n",
              "      <td>86.0</td>\n",
              "      <td>21060.45</td>\n",
              "      <td>0</td>\n",
              "    </tr>\n",
              "    <tr>\n",
              "      <th>3</th>\n",
              "      <td>106.0</td>\n",
              "      <td>745.53</td>\n",
              "      <td>81.0</td>\n",
              "      <td>8437.39</td>\n",
              "      <td>1</td>\n",
              "    </tr>\n",
              "  </tbody>\n",
              "</table>\n",
              "</div>"
            ],
            "text/plain": [
              "   calls  minutes  messages   mb_used  is_ultra\n",
              "0   40.0   311.90      83.0  19915.42         0\n",
              "1   85.0   516.75      56.0  22696.96         0\n",
              "2   77.0   467.66      86.0  21060.45         0\n",
              "3  106.0   745.53      81.0   8437.39         1"
            ]
          },
          "metadata": {},
          "output_type": "display_data"
        },
        {
          "name": "stdout",
          "output_type": "stream",
          "text": [
            "------------------------------\n",
            "Data Information:\n",
            "<class 'pandas.core.frame.DataFrame'>\n",
            "RangeIndex: 3214 entries, 0 to 3213\n",
            "Data columns (total 5 columns):\n",
            " #   Column    Non-Null Count  Dtype  \n",
            "---  ------    --------------  -----  \n",
            " 0   calls     3214 non-null   float64\n",
            " 1   minutes   3214 non-null   float64\n",
            " 2   messages  3214 non-null   float64\n",
            " 3   mb_used   3214 non-null   float64\n",
            " 4   is_ultra  3214 non-null   int64  \n",
            "dtypes: float64(4), int64(1)\n",
            "memory usage: 125.7 KB\n"
          ]
        },
        {
          "data": {
            "text/plain": [
              "None"
            ]
          },
          "metadata": {},
          "output_type": "display_data"
        },
        {
          "name": "stdout",
          "output_type": "stream",
          "text": [
            "------------------------------\n",
            "Data columns:\n"
          ]
        },
        {
          "data": {
            "text/plain": [
              "Index(['calls', 'minutes', 'messages', 'mb_used', 'is_ultra'], dtype='object')"
            ]
          },
          "metadata": {},
          "output_type": "display_data"
        },
        {
          "name": "stdout",
          "output_type": "stream",
          "text": [
            "------------------------------\n",
            "Data shape:\n"
          ]
        },
        {
          "data": {
            "text/plain": [
              "(3214, 5)"
            ]
          },
          "metadata": {},
          "output_type": "display_data"
        },
        {
          "name": "stdout",
          "output_type": "stream",
          "text": [
            "------------------------------\n",
            "Data isna by row mean:\n"
          ]
        },
        {
          "data": {
            "text/plain": [
              "calls       0.0\n",
              "minutes     0.0\n",
              "messages    0.0\n",
              "mb_used     0.0\n",
              "is_ultra    0.0\n",
              "dtype: float64"
            ]
          },
          "metadata": {},
          "output_type": "display_data"
        },
        {
          "name": "stdout",
          "output_type": "stream",
          "text": [
            "------------------------------\n",
            "Data clear duplicates sum:\n"
          ]
        },
        {
          "data": {
            "text/plain": [
              "calls       0.0\n",
              "minutes     0.0\n",
              "messages    0.0\n",
              "mb_used     0.0\n",
              "is_ultra    0.0\n",
              "dtype: float64"
            ]
          },
          "metadata": {},
          "output_type": "display_data"
        },
        {
          "name": "stdout",
          "output_type": "stream",
          "text": [
            "------------------------------\n"
          ]
        }
      ],
      "source": [
        "pre_view(df)"
      ]
    },
    {
      "cell_type": "code",
      "execution_count": null,
      "metadata": {
        "colab": {
          "referenced_widgets": [
            "83f5aa07de06471aada8eda883c64bed"
          ]
        },
        "id": "7P-DJo_bNPaz",
        "outputId": "c7567ac9-5e9d-457e-e1a5-1cdc9f7899d0"
      },
      "outputs": [
        {
          "data": {
            "application/vnd.jupyter.widget-view+json": {
              "model_id": "83f5aa07de06471aada8eda883c64bed",
              "version_major": 2,
              "version_minor": 0
            },
            "text/plain": [
              "Summarize dataset:   0%|          | 0/19 [00:00<?, ?it/s]"
            ]
          },
          "metadata": {},
          "output_type": "display_data"
        },
        {
          "ename": "BrokenProcessPool",
          "evalue": "A task has failed to un-serialize. Please ensure that the arguments of the function are all picklable.",
          "output_type": "error",
          "traceback": [
            "\u001b[0;31m---------------------------------------------------------------------------\u001b[0m",
            "\u001b[0;31m_RemoteTraceback\u001b[0m                          Traceback (most recent call last)",
            "\u001b[0;31m_RemoteTraceback\u001b[0m: \n\"\"\"\nTraceback (most recent call last):\n  File \"/opt/conda/lib/python3.9/site-packages/joblib/externals/loky/process_executor.py\", line 407, in _process_worker\n    call_item = call_queue.get(block=True, timeout=timeout)\n  File \"/opt/conda/lib/python3.9/multiprocessing/queues.py\", line 122, in get\n    return _ForkingPickler.loads(res)\n  File \"/opt/conda/lib/python3.9/site-packages/phik/__init__.py\", line 5, in <module>\n    from phik import decorators\n  File \"/opt/conda/lib/python3.9/site-packages/phik/decorators/__init__.py\", line 4, in <module>\n    from phik.decorators import pandas\n  File \"/opt/conda/lib/python3.9/site-packages/phik/decorators/pandas.py\", line 31, in <module>\n    from phik.significance import significance_matrix\n  File \"/opt/conda/lib/python3.9/site-packages/phik/significance.py\", line 31, in <module>\n    from .simulation import sim_chi2_distribution\n  File \"/opt/conda/lib/python3.9/site-packages/phik/simulation.py\", line 26, in <module>\n    from numba import jit\n  File \"/opt/conda/lib/python3.9/site-packages/numba/__init__.py\", line 19, in <module>\n    from numba.core import config\n  File \"/opt/conda/lib/python3.9/site-packages/numba/core/config.py\", line 15, in <module>\n    import llvmlite.binding as ll\n  File \"/opt/conda/lib/python3.9/site-packages/llvmlite/binding/__init__.py\", line 4, in <module>\n    from .dylib import *\n  File \"/opt/conda/lib/python3.9/site-packages/llvmlite/binding/dylib.py\", line 3, in <module>\n    from llvmlite.binding import ffi\n  File \"/opt/conda/lib/python3.9/site-packages/llvmlite/binding/ffi.py\", line 175, in <module>\n    from pkg_resources import resource_filename\n  File \"/opt/conda/lib/python3.9/site-packages/pkg_resources/__init__.py\", line 3268, in <module>\n    def _initialize_master_working_set():\n  File \"/opt/conda/lib/python3.9/site-packages/pkg_resources/__init__.py\", line 3251, in _call_aside\n    f(*args, **kwargs)\n  File \"/opt/conda/lib/python3.9/site-packages/pkg_resources/__init__.py\", line 3280, in _initialize_master_working_set\n    working_set = WorkingSet._build_master()\n  File \"/opt/conda/lib/python3.9/site-packages/pkg_resources/__init__.py\", line 573, in _build_master\n    ws = cls()\n  File \"/opt/conda/lib/python3.9/site-packages/pkg_resources/__init__.py\", line 566, in __init__\n    self.add_entry(entry)\n  File \"/opt/conda/lib/python3.9/site-packages/pkg_resources/__init__.py\", line 622, in add_entry\n    for dist in find_distributions(entry, True):\n  File \"/opt/conda/lib/python3.9/site-packages/pkg_resources/__init__.py\", line 2061, in find_on_path\n    for child in safe_listdir(path_item)\n  File \"/opt/conda/lib/python3.9/site-packages/pkg_resources/__init__.py\", line 2124, in safe_listdir\n    return os.listdir(path)\nOSError: [Errno 5] Input/output error: '/home/jovyan/work'\n\"\"\"",
            "\nThe above exception was the direct cause of the following exception:\n",
            "\u001b[0;31mBrokenProcessPool\u001b[0m                         Traceback (most recent call last)",
            "\u001b[0;32m/opt/conda/lib/python3.9/site-packages/IPython/core/formatters.py\u001b[0m in \u001b[0;36m__call__\u001b[0;34m(self, obj)\u001b[0m\n\u001b[1;32m    343\u001b[0m             \u001b[0mmethod\u001b[0m \u001b[0;34m=\u001b[0m \u001b[0mget_real_method\u001b[0m\u001b[0;34m(\u001b[0m\u001b[0mobj\u001b[0m\u001b[0;34m,\u001b[0m \u001b[0mself\u001b[0m\u001b[0;34m.\u001b[0m\u001b[0mprint_method\u001b[0m\u001b[0;34m)\u001b[0m\u001b[0;34m\u001b[0m\u001b[0;34m\u001b[0m\u001b[0m\n\u001b[1;32m    344\u001b[0m             \u001b[0;32mif\u001b[0m \u001b[0mmethod\u001b[0m \u001b[0;32mis\u001b[0m \u001b[0;32mnot\u001b[0m \u001b[0;32mNone\u001b[0m\u001b[0;34m:\u001b[0m\u001b[0;34m\u001b[0m\u001b[0;34m\u001b[0m\u001b[0m\n\u001b[0;32m--> 345\u001b[0;31m                 \u001b[0;32mreturn\u001b[0m \u001b[0mmethod\u001b[0m\u001b[0;34m(\u001b[0m\u001b[0;34m)\u001b[0m\u001b[0;34m\u001b[0m\u001b[0;34m\u001b[0m\u001b[0m\n\u001b[0m\u001b[1;32m    346\u001b[0m             \u001b[0;32mreturn\u001b[0m \u001b[0;32mNone\u001b[0m\u001b[0;34m\u001b[0m\u001b[0;34m\u001b[0m\u001b[0m\n\u001b[1;32m    347\u001b[0m         \u001b[0;32melse\u001b[0m\u001b[0;34m:\u001b[0m\u001b[0;34m\u001b[0m\u001b[0;34m\u001b[0m\u001b[0m\n",
            "\u001b[0;32m/opt/conda/lib/python3.9/site-packages/pandas_profiling/profile_report.py\u001b[0m in \u001b[0;36m_repr_html_\u001b[0;34m(self)\u001b[0m\n\u001b[1;32m    407\u001b[0m     \u001b[0;32mdef\u001b[0m \u001b[0m_repr_html_\u001b[0m\u001b[0;34m(\u001b[0m\u001b[0mself\u001b[0m\u001b[0;34m)\u001b[0m\u001b[0;34m:\u001b[0m\u001b[0;34m\u001b[0m\u001b[0;34m\u001b[0m\u001b[0m\n\u001b[1;32m    408\u001b[0m         \u001b[0;34m\"\"\"The ipython notebook widgets user interface gets called by the jupyter notebook.\"\"\"\u001b[0m\u001b[0;34m\u001b[0m\u001b[0;34m\u001b[0m\u001b[0m\n\u001b[0;32m--> 409\u001b[0;31m         \u001b[0mself\u001b[0m\u001b[0;34m.\u001b[0m\u001b[0mto_notebook_iframe\u001b[0m\u001b[0;34m(\u001b[0m\u001b[0;34m)\u001b[0m\u001b[0;34m\u001b[0m\u001b[0;34m\u001b[0m\u001b[0m\n\u001b[0m\u001b[1;32m    410\u001b[0m \u001b[0;34m\u001b[0m\u001b[0m\n\u001b[1;32m    411\u001b[0m     \u001b[0;32mdef\u001b[0m \u001b[0m__repr__\u001b[0m\u001b[0;34m(\u001b[0m\u001b[0mself\u001b[0m\u001b[0;34m)\u001b[0m\u001b[0;34m:\u001b[0m\u001b[0;34m\u001b[0m\u001b[0;34m\u001b[0m\u001b[0m\n",
            "\u001b[0;32m/opt/conda/lib/python3.9/site-packages/pandas_profiling/profile_report.py\u001b[0m in \u001b[0;36mto_notebook_iframe\u001b[0;34m(self)\u001b[0m\n\u001b[1;32m    387\u001b[0m         \u001b[0;32mwith\u001b[0m \u001b[0mwarnings\u001b[0m\u001b[0;34m.\u001b[0m\u001b[0mcatch_warnings\u001b[0m\u001b[0;34m(\u001b[0m\u001b[0;34m)\u001b[0m\u001b[0;34m:\u001b[0m\u001b[0;34m\u001b[0m\u001b[0;34m\u001b[0m\u001b[0m\n\u001b[1;32m    388\u001b[0m             \u001b[0mwarnings\u001b[0m\u001b[0;34m.\u001b[0m\u001b[0msimplefilter\u001b[0m\u001b[0;34m(\u001b[0m\u001b[0;34m\"ignore\"\u001b[0m\u001b[0;34m)\u001b[0m\u001b[0;34m\u001b[0m\u001b[0;34m\u001b[0m\u001b[0m\n\u001b[0;32m--> 389\u001b[0;31m             \u001b[0mdisplay\u001b[0m\u001b[0;34m(\u001b[0m\u001b[0mget_notebook_iframe\u001b[0m\u001b[0;34m(\u001b[0m\u001b[0mself\u001b[0m\u001b[0;34m)\u001b[0m\u001b[0;34m)\u001b[0m\u001b[0;34m\u001b[0m\u001b[0;34m\u001b[0m\u001b[0m\n\u001b[0m\u001b[1;32m    390\u001b[0m \u001b[0;34m\u001b[0m\u001b[0m\n\u001b[1;32m    391\u001b[0m     \u001b[0;32mdef\u001b[0m \u001b[0mto_widgets\u001b[0m\u001b[0;34m(\u001b[0m\u001b[0mself\u001b[0m\u001b[0;34m)\u001b[0m\u001b[0;34m:\u001b[0m\u001b[0;34m\u001b[0m\u001b[0;34m\u001b[0m\u001b[0m\n",
            "\u001b[0;32m/opt/conda/lib/python3.9/site-packages/pandas_profiling/report/presentation/flavours/widget/notebook.py\u001b[0m in \u001b[0;36mget_notebook_iframe\u001b[0;34m(profile)\u001b[0m\n\u001b[1;32m     63\u001b[0m         \u001b[0moutput\u001b[0m \u001b[0;34m=\u001b[0m \u001b[0mget_notebook_iframe_src\u001b[0m\u001b[0;34m(\u001b[0m\u001b[0mprofile\u001b[0m\u001b[0;34m)\u001b[0m\u001b[0;34m\u001b[0m\u001b[0;34m\u001b[0m\u001b[0m\n\u001b[1;32m     64\u001b[0m     \u001b[0;32melif\u001b[0m \u001b[0mattribute\u001b[0m \u001b[0;34m==\u001b[0m \u001b[0;34m\"srcdoc\"\u001b[0m\u001b[0;34m:\u001b[0m\u001b[0;34m\u001b[0m\u001b[0;34m\u001b[0m\u001b[0m\n\u001b[0;32m---> 65\u001b[0;31m         \u001b[0moutput\u001b[0m \u001b[0;34m=\u001b[0m \u001b[0mget_notebook_iframe_srcdoc\u001b[0m\u001b[0;34m(\u001b[0m\u001b[0mprofile\u001b[0m\u001b[0;34m)\u001b[0m\u001b[0;34m\u001b[0m\u001b[0;34m\u001b[0m\u001b[0m\n\u001b[0m\u001b[1;32m     66\u001b[0m     \u001b[0;32melse\u001b[0m\u001b[0;34m:\u001b[0m\u001b[0;34m\u001b[0m\u001b[0;34m\u001b[0m\u001b[0m\n\u001b[1;32m     67\u001b[0m         raise ValueError(\n",
            "\u001b[0;32m/opt/conda/lib/python3.9/site-packages/pandas_profiling/report/presentation/flavours/widget/notebook.py\u001b[0m in \u001b[0;36mget_notebook_iframe_srcdoc\u001b[0;34m(profile)\u001b[0m\n\u001b[1;32m     21\u001b[0m     \u001b[0mwidth\u001b[0m \u001b[0;34m=\u001b[0m \u001b[0mconfig\u001b[0m\u001b[0;34m[\u001b[0m\u001b[0;34m\"notebook\"\u001b[0m\u001b[0;34m]\u001b[0m\u001b[0;34m[\u001b[0m\u001b[0;34m\"iframe\"\u001b[0m\u001b[0;34m]\u001b[0m\u001b[0;34m[\u001b[0m\u001b[0;34m\"width\"\u001b[0m\u001b[0;34m]\u001b[0m\u001b[0;34m.\u001b[0m\u001b[0mget\u001b[0m\u001b[0;34m(\u001b[0m\u001b[0mstr\u001b[0m\u001b[0;34m)\u001b[0m\u001b[0;34m\u001b[0m\u001b[0;34m\u001b[0m\u001b[0m\n\u001b[1;32m     22\u001b[0m     \u001b[0mheight\u001b[0m \u001b[0;34m=\u001b[0m \u001b[0mconfig\u001b[0m\u001b[0;34m[\u001b[0m\u001b[0;34m\"notebook\"\u001b[0m\u001b[0;34m]\u001b[0m\u001b[0;34m[\u001b[0m\u001b[0;34m\"iframe\"\u001b[0m\u001b[0;34m]\u001b[0m\u001b[0;34m[\u001b[0m\u001b[0;34m\"height\"\u001b[0m\u001b[0;34m]\u001b[0m\u001b[0;34m.\u001b[0m\u001b[0mget\u001b[0m\u001b[0;34m(\u001b[0m\u001b[0mstr\u001b[0m\u001b[0;34m)\u001b[0m\u001b[0;34m\u001b[0m\u001b[0;34m\u001b[0m\u001b[0m\n\u001b[0;32m---> 23\u001b[0;31m     \u001b[0msrc\u001b[0m \u001b[0;34m=\u001b[0m \u001b[0mhtml\u001b[0m\u001b[0;34m.\u001b[0m\u001b[0mescape\u001b[0m\u001b[0;34m(\u001b[0m\u001b[0mprofile\u001b[0m\u001b[0;34m.\u001b[0m\u001b[0mto_html\u001b[0m\u001b[0;34m(\u001b[0m\u001b[0;34m)\u001b[0m\u001b[0;34m)\u001b[0m\u001b[0;34m\u001b[0m\u001b[0;34m\u001b[0m\u001b[0m\n\u001b[0m\u001b[1;32m     24\u001b[0m \u001b[0;34m\u001b[0m\u001b[0m\n\u001b[1;32m     25\u001b[0m     \u001b[0miframe\u001b[0m \u001b[0;34m=\u001b[0m \u001b[0;34mf'<iframe width=\"{width}\" height=\"{height}\" srcdoc=\"{src}\" frameborder=\"0\" allowfullscreen></iframe>'\u001b[0m\u001b[0;34m\u001b[0m\u001b[0;34m\u001b[0m\u001b[0m\n",
            "\u001b[0;32m/opt/conda/lib/python3.9/site-packages/pandas_profiling/profile_report.py\u001b[0m in \u001b[0;36mto_html\u001b[0;34m(self)\u001b[0m\n\u001b[1;32m    357\u001b[0m \u001b[0;34m\u001b[0m\u001b[0m\n\u001b[1;32m    358\u001b[0m         \"\"\"\n\u001b[0;32m--> 359\u001b[0;31m         \u001b[0;32mreturn\u001b[0m \u001b[0mself\u001b[0m\u001b[0;34m.\u001b[0m\u001b[0mhtml\u001b[0m\u001b[0;34m\u001b[0m\u001b[0;34m\u001b[0m\u001b[0m\n\u001b[0m\u001b[1;32m    360\u001b[0m \u001b[0;34m\u001b[0m\u001b[0m\n\u001b[1;32m    361\u001b[0m     \u001b[0;32mdef\u001b[0m \u001b[0mto_json\u001b[0m\u001b[0;34m(\u001b[0m\u001b[0mself\u001b[0m\u001b[0;34m)\u001b[0m \u001b[0;34m->\u001b[0m \u001b[0mstr\u001b[0m\u001b[0;34m:\u001b[0m\u001b[0;34m\u001b[0m\u001b[0;34m\u001b[0m\u001b[0m\n",
            "\u001b[0;32m/opt/conda/lib/python3.9/site-packages/pandas_profiling/profile_report.py\u001b[0m in \u001b[0;36mhtml\u001b[0;34m(self)\u001b[0m\n\u001b[1;32m    177\u001b[0m     \u001b[0;32mdef\u001b[0m \u001b[0mhtml\u001b[0m\u001b[0;34m(\u001b[0m\u001b[0mself\u001b[0m\u001b[0;34m)\u001b[0m\u001b[0;34m:\u001b[0m\u001b[0;34m\u001b[0m\u001b[0;34m\u001b[0m\u001b[0m\n\u001b[1;32m    178\u001b[0m         \u001b[0;32mif\u001b[0m \u001b[0mself\u001b[0m\u001b[0;34m.\u001b[0m\u001b[0m_html\u001b[0m \u001b[0;32mis\u001b[0m \u001b[0;32mNone\u001b[0m\u001b[0;34m:\u001b[0m\u001b[0;34m\u001b[0m\u001b[0;34m\u001b[0m\u001b[0m\n\u001b[0;32m--> 179\u001b[0;31m             \u001b[0mself\u001b[0m\u001b[0;34m.\u001b[0m\u001b[0m_html\u001b[0m \u001b[0;34m=\u001b[0m \u001b[0mself\u001b[0m\u001b[0;34m.\u001b[0m\u001b[0m_render_html\u001b[0m\u001b[0;34m(\u001b[0m\u001b[0;34m)\u001b[0m\u001b[0;34m\u001b[0m\u001b[0;34m\u001b[0m\u001b[0m\n\u001b[0m\u001b[1;32m    180\u001b[0m         \u001b[0;32mreturn\u001b[0m \u001b[0mself\u001b[0m\u001b[0;34m.\u001b[0m\u001b[0m_html\u001b[0m\u001b[0;34m\u001b[0m\u001b[0;34m\u001b[0m\u001b[0m\n\u001b[1;32m    181\u001b[0m \u001b[0;34m\u001b[0m\u001b[0m\n",
            "\u001b[0;32m/opt/conda/lib/python3.9/site-packages/pandas_profiling/profile_report.py\u001b[0m in \u001b[0;36m_render_html\u001b[0;34m(self)\u001b[0m\n\u001b[1;32m    284\u001b[0m         \u001b[0;32mfrom\u001b[0m \u001b[0mpandas_profiling\u001b[0m\u001b[0;34m.\u001b[0m\u001b[0mreport\u001b[0m\u001b[0;34m.\u001b[0m\u001b[0mpresentation\u001b[0m\u001b[0;34m.\u001b[0m\u001b[0mflavours\u001b[0m \u001b[0;32mimport\u001b[0m \u001b[0mHTMLReport\u001b[0m\u001b[0;34m\u001b[0m\u001b[0;34m\u001b[0m\u001b[0m\n\u001b[1;32m    285\u001b[0m \u001b[0;34m\u001b[0m\u001b[0m\n\u001b[0;32m--> 286\u001b[0;31m         \u001b[0mreport\u001b[0m \u001b[0;34m=\u001b[0m \u001b[0mself\u001b[0m\u001b[0;34m.\u001b[0m\u001b[0mreport\u001b[0m\u001b[0;34m\u001b[0m\u001b[0;34m\u001b[0m\u001b[0m\n\u001b[0m\u001b[1;32m    287\u001b[0m \u001b[0;34m\u001b[0m\u001b[0m\n\u001b[1;32m    288\u001b[0m         \u001b[0mdisable_progress_bar\u001b[0m \u001b[0;34m=\u001b[0m \u001b[0;32mnot\u001b[0m \u001b[0mconfig\u001b[0m\u001b[0;34m[\u001b[0m\u001b[0;34m\"progress_bar\"\u001b[0m\u001b[0;34m]\u001b[0m\u001b[0;34m.\u001b[0m\u001b[0mget\u001b[0m\u001b[0;34m(\u001b[0m\u001b[0mbool\u001b[0m\u001b[0;34m)\u001b[0m\u001b[0;34m\u001b[0m\u001b[0;34m\u001b[0m\u001b[0m\n",
            "\u001b[0;32m/opt/conda/lib/python3.9/site-packages/pandas_profiling/profile_report.py\u001b[0m in \u001b[0;36mreport\u001b[0;34m(self)\u001b[0m\n\u001b[1;32m    171\u001b[0m     \u001b[0;32mdef\u001b[0m \u001b[0mreport\u001b[0m\u001b[0;34m(\u001b[0m\u001b[0mself\u001b[0m\u001b[0;34m)\u001b[0m\u001b[0;34m:\u001b[0m\u001b[0;34m\u001b[0m\u001b[0;34m\u001b[0m\u001b[0m\n\u001b[1;32m    172\u001b[0m         \u001b[0;32mif\u001b[0m \u001b[0mself\u001b[0m\u001b[0;34m.\u001b[0m\u001b[0m_report\u001b[0m \u001b[0;32mis\u001b[0m \u001b[0;32mNone\u001b[0m\u001b[0;34m:\u001b[0m\u001b[0;34m\u001b[0m\u001b[0;34m\u001b[0m\u001b[0m\n\u001b[0;32m--> 173\u001b[0;31m             \u001b[0mself\u001b[0m\u001b[0;34m.\u001b[0m\u001b[0m_report\u001b[0m \u001b[0;34m=\u001b[0m \u001b[0mget_report_structure\u001b[0m\u001b[0;34m(\u001b[0m\u001b[0mself\u001b[0m\u001b[0;34m.\u001b[0m\u001b[0mdescription_set\u001b[0m\u001b[0;34m)\u001b[0m\u001b[0;34m\u001b[0m\u001b[0;34m\u001b[0m\u001b[0m\n\u001b[0m\u001b[1;32m    174\u001b[0m         \u001b[0;32mreturn\u001b[0m \u001b[0mself\u001b[0m\u001b[0;34m.\u001b[0m\u001b[0m_report\u001b[0m\u001b[0;34m\u001b[0m\u001b[0;34m\u001b[0m\u001b[0m\n\u001b[1;32m    175\u001b[0m \u001b[0;34m\u001b[0m\u001b[0m\n",
            "\u001b[0;32m/opt/conda/lib/python3.9/site-packages/pandas_profiling/profile_report.py\u001b[0m in \u001b[0;36mdescription_set\u001b[0;34m(self)\u001b[0m\n\u001b[1;32m    152\u001b[0m     \u001b[0;32mdef\u001b[0m \u001b[0mdescription_set\u001b[0m\u001b[0;34m(\u001b[0m\u001b[0mself\u001b[0m\u001b[0;34m)\u001b[0m\u001b[0;34m:\u001b[0m\u001b[0;34m\u001b[0m\u001b[0;34m\u001b[0m\u001b[0m\n\u001b[1;32m    153\u001b[0m         \u001b[0;32mif\u001b[0m \u001b[0mself\u001b[0m\u001b[0;34m.\u001b[0m\u001b[0m_description_set\u001b[0m \u001b[0;32mis\u001b[0m \u001b[0;32mNone\u001b[0m\u001b[0;34m:\u001b[0m\u001b[0;34m\u001b[0m\u001b[0;34m\u001b[0m\u001b[0m\n\u001b[0;32m--> 154\u001b[0;31m             \u001b[0mself\u001b[0m\u001b[0;34m.\u001b[0m\u001b[0m_description_set\u001b[0m \u001b[0;34m=\u001b[0m \u001b[0mdescribe_df\u001b[0m\u001b[0;34m(\u001b[0m\u001b[0mself\u001b[0m\u001b[0;34m.\u001b[0m\u001b[0mtitle\u001b[0m\u001b[0;34m,\u001b[0m \u001b[0mself\u001b[0m\u001b[0;34m.\u001b[0m\u001b[0mdf\u001b[0m\u001b[0;34m,\u001b[0m \u001b[0mself\u001b[0m\u001b[0;34m.\u001b[0m\u001b[0m_sample\u001b[0m\u001b[0;34m)\u001b[0m\u001b[0;34m\u001b[0m\u001b[0;34m\u001b[0m\u001b[0m\n\u001b[0m\u001b[1;32m    155\u001b[0m         \u001b[0;32mreturn\u001b[0m \u001b[0mself\u001b[0m\u001b[0;34m.\u001b[0m\u001b[0m_description_set\u001b[0m\u001b[0;34m\u001b[0m\u001b[0;34m\u001b[0m\u001b[0m\n\u001b[1;32m    156\u001b[0m \u001b[0;34m\u001b[0m\u001b[0m\n",
            "\u001b[0;32m/opt/conda/lib/python3.9/site-packages/pandas_profiling/model/describe.py\u001b[0m in \u001b[0;36mdescribe\u001b[0;34m(title, df, sample)\u001b[0m\n\u001b[1;32m     88\u001b[0m         \u001b[0;32mfor\u001b[0m \u001b[0mcorrelation_name\u001b[0m \u001b[0;32min\u001b[0m \u001b[0mcorrelation_names\u001b[0m\u001b[0;34m:\u001b[0m\u001b[0;34m\u001b[0m\u001b[0;34m\u001b[0m\u001b[0m\n\u001b[1;32m     89\u001b[0m             \u001b[0mpbar\u001b[0m\u001b[0;34m.\u001b[0m\u001b[0mset_postfix_str\u001b[0m\u001b[0;34m(\u001b[0m\u001b[0;34mf\"Calculate {correlation_name} correlation\"\u001b[0m\u001b[0;34m)\u001b[0m\u001b[0;34m\u001b[0m\u001b[0;34m\u001b[0m\u001b[0m\n\u001b[0;32m---> 90\u001b[0;31m             correlations[correlation_name] = calculate_correlation(\n\u001b[0m\u001b[1;32m     91\u001b[0m                 \u001b[0mdf\u001b[0m\u001b[0;34m,\u001b[0m \u001b[0mvariables\u001b[0m\u001b[0;34m,\u001b[0m \u001b[0mcorrelation_name\u001b[0m\u001b[0;34m\u001b[0m\u001b[0;34m\u001b[0m\u001b[0m\n\u001b[1;32m     92\u001b[0m             )\n",
            "\u001b[0;32m/opt/conda/lib/python3.9/site-packages/pandas_profiling/model/correlations.py\u001b[0m in \u001b[0;36mcalculate_correlation\u001b[0;34m(df, variables, correlation_name)\u001b[0m\n\u001b[1;32m    166\u001b[0m             \u001b[0;32mif\u001b[0m \u001b[0mlen\u001b[0m\u001b[0;34m(\u001b[0m\u001b[0mselcols\u001b[0m\u001b[0;34m)\u001b[0m \u001b[0;34m>\u001b[0m \u001b[0;36m1\u001b[0m\u001b[0;34m:\u001b[0m\u001b[0;34m\u001b[0m\u001b[0;34m\u001b[0m\u001b[0m\n\u001b[1;32m    167\u001b[0m                 \u001b[0;32mtry\u001b[0m\u001b[0;34m:\u001b[0m\u001b[0;34m\u001b[0m\u001b[0;34m\u001b[0m\u001b[0m\n\u001b[0;32m--> 168\u001b[0;31m                     \u001b[0mcorrelation\u001b[0m \u001b[0;34m=\u001b[0m \u001b[0mdf\u001b[0m\u001b[0;34m[\u001b[0m\u001b[0mselcols\u001b[0m\u001b[0;34m]\u001b[0m\u001b[0;34m.\u001b[0m\u001b[0mphik_matrix\u001b[0m\u001b[0;34m(\u001b[0m\u001b[0minterval_cols\u001b[0m\u001b[0;34m=\u001b[0m\u001b[0mintcols\u001b[0m\u001b[0;34m)\u001b[0m\u001b[0;34m\u001b[0m\u001b[0;34m\u001b[0m\u001b[0m\n\u001b[0m\u001b[1;32m    169\u001b[0m \u001b[0;34m\u001b[0m\u001b[0m\n\u001b[1;32m    170\u001b[0m                     \u001b[0;31m# Only do this if the column_order is set\u001b[0m\u001b[0;34m\u001b[0m\u001b[0;34m\u001b[0m\u001b[0;34m\u001b[0m\u001b[0m\n",
            "\u001b[0;32m/opt/conda/lib/python3.9/site-packages/phik/phik.py\u001b[0m in \u001b[0;36mphik_matrix\u001b[0;34m(df, interval_cols, bins, quantile, noise_correction, dropna, drop_underflow, drop_overflow, verbose)\u001b[0m\n\u001b[1;32m    216\u001b[0m     \u001b[0mdata_binned\u001b[0m\u001b[0;34m,\u001b[0m \u001b[0mbinning_dict\u001b[0m \u001b[0;34m=\u001b[0m \u001b[0mbin_data\u001b[0m\u001b[0;34m(\u001b[0m\u001b[0mdf_clean\u001b[0m\u001b[0;34m,\u001b[0m \u001b[0mcols\u001b[0m\u001b[0;34m=\u001b[0m\u001b[0minterval_cols_clean\u001b[0m\u001b[0;34m,\u001b[0m \u001b[0mbins\u001b[0m\u001b[0;34m=\u001b[0m\u001b[0mbins\u001b[0m\u001b[0;34m,\u001b[0m \u001b[0mquantile\u001b[0m\u001b[0;34m=\u001b[0m\u001b[0mquantile\u001b[0m\u001b[0;34m,\u001b[0m \u001b[0mretbins\u001b[0m\u001b[0;34m=\u001b[0m\u001b[0;32mTrue\u001b[0m\u001b[0;34m)\u001b[0m\u001b[0;34m\u001b[0m\u001b[0;34m\u001b[0m\u001b[0m\n\u001b[1;32m    217\u001b[0m \u001b[0;34m\u001b[0m\u001b[0m\n\u001b[0;32m--> 218\u001b[0;31m     return phik_from_rebinned_df(\n\u001b[0m\u001b[1;32m    219\u001b[0m         \u001b[0mdata_binned\u001b[0m\u001b[0;34m,\u001b[0m \u001b[0mnoise_correction\u001b[0m\u001b[0;34m,\u001b[0m \u001b[0mdropna\u001b[0m\u001b[0;34m=\u001b[0m\u001b[0mdropna\u001b[0m\u001b[0;34m,\u001b[0m \u001b[0mdrop_underflow\u001b[0m\u001b[0;34m=\u001b[0m\u001b[0mdrop_underflow\u001b[0m\u001b[0;34m,\u001b[0m \u001b[0mdrop_overflow\u001b[0m\u001b[0;34m=\u001b[0m\u001b[0mdrop_overflow\u001b[0m\u001b[0;34m\u001b[0m\u001b[0;34m\u001b[0m\u001b[0m\n\u001b[1;32m    220\u001b[0m     )\n",
            "\u001b[0;32m/opt/conda/lib/python3.9/site-packages/phik/phik.py\u001b[0m in \u001b[0;36mphik_from_rebinned_df\u001b[0;34m(data_binned, noise_correction, dropna, drop_underflow, drop_overflow)\u001b[0m\n\u001b[1;32m    141\u001b[0m         ]\n\u001b[1;32m    142\u001b[0m     \u001b[0;32melse\u001b[0m\u001b[0;34m:\u001b[0m\u001b[0;34m\u001b[0m\u001b[0;34m\u001b[0m\u001b[0m\n\u001b[0;32m--> 143\u001b[0;31m         phik_list = Parallel(n_jobs=NCORES)(\n\u001b[0m\u001b[1;32m    144\u001b[0m             \u001b[0mdelayed\u001b[0m\u001b[0;34m(\u001b[0m\u001b[0m_calc_phik\u001b[0m\u001b[0;34m)\u001b[0m\u001b[0;34m(\u001b[0m\u001b[0mco\u001b[0m\u001b[0;34m,\u001b[0m \u001b[0mdata_binned\u001b[0m\u001b[0;34m[\u001b[0m\u001b[0mlist\u001b[0m\u001b[0;34m(\u001b[0m\u001b[0mco\u001b[0m\u001b[0;34m)\u001b[0m\u001b[0;34m]\u001b[0m\u001b[0;34m,\u001b[0m \u001b[0mnoise_correction\u001b[0m\u001b[0;34m)\u001b[0m\u001b[0;34m\u001b[0m\u001b[0;34m\u001b[0m\u001b[0m\n\u001b[1;32m    145\u001b[0m             \u001b[0;32mfor\u001b[0m \u001b[0mco\u001b[0m \u001b[0;32min\u001b[0m \u001b[0mitertools\u001b[0m\u001b[0;34m.\u001b[0m\u001b[0mcombinations_with_replacement\u001b[0m\u001b[0;34m(\u001b[0m\u001b[0mdata_binned\u001b[0m\u001b[0;34m.\u001b[0m\u001b[0mcolumns\u001b[0m\u001b[0;34m.\u001b[0m\u001b[0mvalues\u001b[0m\u001b[0;34m,\u001b[0m \u001b[0;36m2\u001b[0m\u001b[0;34m)\u001b[0m\u001b[0;34m\u001b[0m\u001b[0;34m\u001b[0m\u001b[0m\n",
            "\u001b[0;32m/opt/conda/lib/python3.9/site-packages/joblib/parallel.py\u001b[0m in \u001b[0;36m__call__\u001b[0;34m(self, iterable)\u001b[0m\n\u001b[1;32m   1054\u001b[0m \u001b[0;34m\u001b[0m\u001b[0m\n\u001b[1;32m   1055\u001b[0m             \u001b[0;32mwith\u001b[0m \u001b[0mself\u001b[0m\u001b[0;34m.\u001b[0m\u001b[0m_backend\u001b[0m\u001b[0;34m.\u001b[0m\u001b[0mretrieval_context\u001b[0m\u001b[0;34m(\u001b[0m\u001b[0;34m)\u001b[0m\u001b[0;34m:\u001b[0m\u001b[0;34m\u001b[0m\u001b[0;34m\u001b[0m\u001b[0m\n\u001b[0;32m-> 1056\u001b[0;31m                 \u001b[0mself\u001b[0m\u001b[0;34m.\u001b[0m\u001b[0mretrieve\u001b[0m\u001b[0;34m(\u001b[0m\u001b[0;34m)\u001b[0m\u001b[0;34m\u001b[0m\u001b[0;34m\u001b[0m\u001b[0m\n\u001b[0m\u001b[1;32m   1057\u001b[0m             \u001b[0;31m# Make sure that we get a last message telling us we are done\u001b[0m\u001b[0;34m\u001b[0m\u001b[0;34m\u001b[0m\u001b[0;34m\u001b[0m\u001b[0m\n\u001b[1;32m   1058\u001b[0m             \u001b[0melapsed_time\u001b[0m \u001b[0;34m=\u001b[0m \u001b[0mtime\u001b[0m\u001b[0;34m.\u001b[0m\u001b[0mtime\u001b[0m\u001b[0;34m(\u001b[0m\u001b[0;34m)\u001b[0m \u001b[0;34m-\u001b[0m \u001b[0mself\u001b[0m\u001b[0;34m.\u001b[0m\u001b[0m_start_time\u001b[0m\u001b[0;34m\u001b[0m\u001b[0;34m\u001b[0m\u001b[0m\n",
            "\u001b[0;32m/opt/conda/lib/python3.9/site-packages/joblib/parallel.py\u001b[0m in \u001b[0;36mretrieve\u001b[0;34m(self)\u001b[0m\n\u001b[1;32m    933\u001b[0m             \u001b[0;32mtry\u001b[0m\u001b[0;34m:\u001b[0m\u001b[0;34m\u001b[0m\u001b[0;34m\u001b[0m\u001b[0m\n\u001b[1;32m    934\u001b[0m                 \u001b[0;32mif\u001b[0m \u001b[0mgetattr\u001b[0m\u001b[0;34m(\u001b[0m\u001b[0mself\u001b[0m\u001b[0;34m.\u001b[0m\u001b[0m_backend\u001b[0m\u001b[0;34m,\u001b[0m \u001b[0;34m'supports_timeout'\u001b[0m\u001b[0;34m,\u001b[0m \u001b[0;32mFalse\u001b[0m\u001b[0;34m)\u001b[0m\u001b[0;34m:\u001b[0m\u001b[0;34m\u001b[0m\u001b[0;34m\u001b[0m\u001b[0m\n\u001b[0;32m--> 935\u001b[0;31m                     \u001b[0mself\u001b[0m\u001b[0;34m.\u001b[0m\u001b[0m_output\u001b[0m\u001b[0;34m.\u001b[0m\u001b[0mextend\u001b[0m\u001b[0;34m(\u001b[0m\u001b[0mjob\u001b[0m\u001b[0;34m.\u001b[0m\u001b[0mget\u001b[0m\u001b[0;34m(\u001b[0m\u001b[0mtimeout\u001b[0m\u001b[0;34m=\u001b[0m\u001b[0mself\u001b[0m\u001b[0;34m.\u001b[0m\u001b[0mtimeout\u001b[0m\u001b[0;34m)\u001b[0m\u001b[0;34m)\u001b[0m\u001b[0;34m\u001b[0m\u001b[0;34m\u001b[0m\u001b[0m\n\u001b[0m\u001b[1;32m    936\u001b[0m                 \u001b[0;32melse\u001b[0m\u001b[0;34m:\u001b[0m\u001b[0;34m\u001b[0m\u001b[0;34m\u001b[0m\u001b[0m\n\u001b[1;32m    937\u001b[0m                     \u001b[0mself\u001b[0m\u001b[0;34m.\u001b[0m\u001b[0m_output\u001b[0m\u001b[0;34m.\u001b[0m\u001b[0mextend\u001b[0m\u001b[0;34m(\u001b[0m\u001b[0mjob\u001b[0m\u001b[0;34m.\u001b[0m\u001b[0mget\u001b[0m\u001b[0;34m(\u001b[0m\u001b[0;34m)\u001b[0m\u001b[0;34m)\u001b[0m\u001b[0;34m\u001b[0m\u001b[0;34m\u001b[0m\u001b[0m\n",
            "\u001b[0;32m/opt/conda/lib/python3.9/site-packages/joblib/_parallel_backends.py\u001b[0m in \u001b[0;36mwrap_future_result\u001b[0;34m(future, timeout)\u001b[0m\n\u001b[1;32m    540\u001b[0m         AsyncResults.get from multiprocessing.\"\"\"\n\u001b[1;32m    541\u001b[0m         \u001b[0;32mtry\u001b[0m\u001b[0;34m:\u001b[0m\u001b[0;34m\u001b[0m\u001b[0;34m\u001b[0m\u001b[0m\n\u001b[0;32m--> 542\u001b[0;31m             \u001b[0;32mreturn\u001b[0m \u001b[0mfuture\u001b[0m\u001b[0;34m.\u001b[0m\u001b[0mresult\u001b[0m\u001b[0;34m(\u001b[0m\u001b[0mtimeout\u001b[0m\u001b[0;34m=\u001b[0m\u001b[0mtimeout\u001b[0m\u001b[0;34m)\u001b[0m\u001b[0;34m\u001b[0m\u001b[0;34m\u001b[0m\u001b[0m\n\u001b[0m\u001b[1;32m    543\u001b[0m         \u001b[0;32mexcept\u001b[0m \u001b[0mCfTimeoutError\u001b[0m \u001b[0;32mas\u001b[0m \u001b[0me\u001b[0m\u001b[0;34m:\u001b[0m\u001b[0;34m\u001b[0m\u001b[0;34m\u001b[0m\u001b[0m\n\u001b[1;32m    544\u001b[0m             \u001b[0;32mraise\u001b[0m \u001b[0mTimeoutError\u001b[0m \u001b[0;32mfrom\u001b[0m \u001b[0me\u001b[0m\u001b[0;34m\u001b[0m\u001b[0;34m\u001b[0m\u001b[0m\n",
            "\u001b[0;32m/opt/conda/lib/python3.9/concurrent/futures/_base.py\u001b[0m in \u001b[0;36mresult\u001b[0;34m(self, timeout)\u001b[0m\n\u001b[1;32m    443\u001b[0m                     \u001b[0;32mraise\u001b[0m \u001b[0mCancelledError\u001b[0m\u001b[0;34m(\u001b[0m\u001b[0;34m)\u001b[0m\u001b[0;34m\u001b[0m\u001b[0;34m\u001b[0m\u001b[0m\n\u001b[1;32m    444\u001b[0m                 \u001b[0;32melif\u001b[0m \u001b[0mself\u001b[0m\u001b[0;34m.\u001b[0m\u001b[0m_state\u001b[0m \u001b[0;34m==\u001b[0m \u001b[0mFINISHED\u001b[0m\u001b[0;34m:\u001b[0m\u001b[0;34m\u001b[0m\u001b[0;34m\u001b[0m\u001b[0m\n\u001b[0;32m--> 445\u001b[0;31m                     \u001b[0;32mreturn\u001b[0m \u001b[0mself\u001b[0m\u001b[0;34m.\u001b[0m\u001b[0m__get_result\u001b[0m\u001b[0;34m(\u001b[0m\u001b[0;34m)\u001b[0m\u001b[0;34m\u001b[0m\u001b[0;34m\u001b[0m\u001b[0m\n\u001b[0m\u001b[1;32m    446\u001b[0m                 \u001b[0;32melse\u001b[0m\u001b[0;34m:\u001b[0m\u001b[0;34m\u001b[0m\u001b[0;34m\u001b[0m\u001b[0m\n\u001b[1;32m    447\u001b[0m                     \u001b[0;32mraise\u001b[0m \u001b[0mTimeoutError\u001b[0m\u001b[0;34m(\u001b[0m\u001b[0;34m)\u001b[0m\u001b[0;34m\u001b[0m\u001b[0;34m\u001b[0m\u001b[0m\n",
            "\u001b[0;32m/opt/conda/lib/python3.9/concurrent/futures/_base.py\u001b[0m in \u001b[0;36m__get_result\u001b[0;34m(self)\u001b[0m\n\u001b[1;32m    388\u001b[0m         \u001b[0;32mif\u001b[0m \u001b[0mself\u001b[0m\u001b[0;34m.\u001b[0m\u001b[0m_exception\u001b[0m\u001b[0;34m:\u001b[0m\u001b[0;34m\u001b[0m\u001b[0;34m\u001b[0m\u001b[0m\n\u001b[1;32m    389\u001b[0m             \u001b[0;32mtry\u001b[0m\u001b[0;34m:\u001b[0m\u001b[0;34m\u001b[0m\u001b[0;34m\u001b[0m\u001b[0m\n\u001b[0;32m--> 390\u001b[0;31m                 \u001b[0;32mraise\u001b[0m \u001b[0mself\u001b[0m\u001b[0;34m.\u001b[0m\u001b[0m_exception\u001b[0m\u001b[0;34m\u001b[0m\u001b[0;34m\u001b[0m\u001b[0m\n\u001b[0m\u001b[1;32m    391\u001b[0m             \u001b[0;32mfinally\u001b[0m\u001b[0;34m:\u001b[0m\u001b[0;34m\u001b[0m\u001b[0;34m\u001b[0m\u001b[0m\n\u001b[1;32m    392\u001b[0m                 \u001b[0;31m# Break a reference cycle with the exception in self._exception\u001b[0m\u001b[0;34m\u001b[0m\u001b[0;34m\u001b[0m\u001b[0;34m\u001b[0m\u001b[0m\n",
            "\u001b[0;31mBrokenProcessPool\u001b[0m: A task has failed to un-serialize. Please ensure that the arguments of the function are all picklable."
          ]
        },
        {
          "data": {
            "text/plain": []
          },
          "execution_count": 7,
          "metadata": {},
          "output_type": "execute_result"
        }
      ],
      "source": [
        "pandas_profiling.ProfileReport(df)"
      ]
    },
    {
      "cell_type": "markdown",
      "metadata": {
        "id": "xLm0l9Y5NPa0"
      },
      "source": [
        "## Разбейте данные на выборки"
      ]
    },
    {
      "cell_type": "code",
      "execution_count": null,
      "metadata": {
        "id": "D4FWQq9CNPa0",
        "outputId": "04289b64-0240-44e3-863b-74c8bf7c5a39"
      },
      "outputs": [
        {
          "data": {
            "text/html": [
              "<div>\n",
              "<style scoped>\n",
              "    .dataframe tbody tr th:only-of-type {\n",
              "        vertical-align: middle;\n",
              "    }\n",
              "\n",
              "    .dataframe tbody tr th {\n",
              "        vertical-align: top;\n",
              "    }\n",
              "\n",
              "    .dataframe thead th {\n",
              "        text-align: right;\n",
              "    }\n",
              "</style>\n",
              "<table border=\"1\" class=\"dataframe\">\n",
              "  <thead>\n",
              "    <tr style=\"text-align: right;\">\n",
              "      <th></th>\n",
              "      <th>calls</th>\n",
              "      <th>minutes</th>\n",
              "      <th>messages</th>\n",
              "      <th>mb_used</th>\n",
              "      <th>is_ultra</th>\n",
              "    </tr>\n",
              "  </thead>\n",
              "  <tbody>\n",
              "    <tr>\n",
              "      <th>0</th>\n",
              "      <td>40.0</td>\n",
              "      <td>311.90</td>\n",
              "      <td>83.0</td>\n",
              "      <td>19915.42</td>\n",
              "      <td>0</td>\n",
              "    </tr>\n",
              "    <tr>\n",
              "      <th>1</th>\n",
              "      <td>85.0</td>\n",
              "      <td>516.75</td>\n",
              "      <td>56.0</td>\n",
              "      <td>22696.96</td>\n",
              "      <td>0</td>\n",
              "    </tr>\n",
              "    <tr>\n",
              "      <th>2</th>\n",
              "      <td>77.0</td>\n",
              "      <td>467.66</td>\n",
              "      <td>86.0</td>\n",
              "      <td>21060.45</td>\n",
              "      <td>0</td>\n",
              "    </tr>\n",
              "    <tr>\n",
              "      <th>3</th>\n",
              "      <td>106.0</td>\n",
              "      <td>745.53</td>\n",
              "      <td>81.0</td>\n",
              "      <td>8437.39</td>\n",
              "      <td>1</td>\n",
              "    </tr>\n",
              "    <tr>\n",
              "      <th>4</th>\n",
              "      <td>66.0</td>\n",
              "      <td>418.74</td>\n",
              "      <td>1.0</td>\n",
              "      <td>14502.75</td>\n",
              "      <td>0</td>\n",
              "    </tr>\n",
              "  </tbody>\n",
              "</table>\n",
              "</div>"
            ],
            "text/plain": [
              "   calls  minutes  messages   mb_used  is_ultra\n",
              "0   40.0   311.90      83.0  19915.42         0\n",
              "1   85.0   516.75      56.0  22696.96         0\n",
              "2   77.0   467.66      86.0  21060.45         0\n",
              "3  106.0   745.53      81.0   8437.39         1\n",
              "4   66.0   418.74       1.0  14502.75         0"
            ]
          },
          "execution_count": 8,
          "metadata": {},
          "output_type": "execute_result"
        }
      ],
      "source": [
        "df.head()"
      ]
    },
    {
      "cell_type": "code",
      "execution_count": null,
      "metadata": {
        "id": "ijs4BMoQNPa0"
      },
      "outputs": [],
      "source": [
        "# отбираем целевые и тренировочные списки\n",
        "features = df.drop('is_ultra',axis=1)\n",
        "target = df['is_ultra']\n"
      ]
    },
    {
      "cell_type": "code",
      "execution_count": null,
      "metadata": {
        "id": "hvFS41QFNPa0"
      },
      "outputs": [],
      "source": [
        "rs=7"
      ]
    },
    {
      "cell_type": "code",
      "execution_count": null,
      "metadata": {
        "id": "wI1JZZnTNPa0"
      },
      "outputs": [],
      "source": [
        "# разбиваем данные на тренировочкую, тестовую и валидационную выборки в соотношении 3:1:1\n",
        "features_train,features_test_valid,target_train, target_test_valid = train_test_split(features,target,train_size=0.60,random_state=rs,stratify=target)\n",
        "features_test,features_valid,target_test,target_valid = train_test_split(features_test_valid,target_test_valid,test_size=0.5,random_state=rs,stratify=target_test_valid)"
      ]
    },
    {
      "cell_type": "code",
      "execution_count": null,
      "metadata": {
        "id": "-Fg4_6IvNPa1"
      },
      "outputs": [],
      "source": [
        "target_train.name = 'target_train'\n",
        "target_test.name = 'target_test'\n",
        "target_valid.name = 'target_valid'\n"
      ]
    },
    {
      "cell_type": "code",
      "execution_count": null,
      "metadata": {
        "scrolled": true,
        "id": "2sRfg8YtNPa1"
      },
      "outputs": [],
      "source": [
        "# проверка на дисбаланс\n",
        "disbalance_dct = {}\n",
        "def disbalance_check(Y):\n",
        "\n",
        "    major =str(sorted(Counter(Y).items())[0][0])+': '+str(sorted(Counter(Y).items())[0][1])\n",
        "    minor = str(sorted(Counter(Y).items())[1][0])+': '+str(sorted(Counter(Y).items())[1][1])\n",
        "    ratio =  sorted(Counter(Y).items())[0][1] / sorted(Counter(Y).items())[1][1]\n",
        "    print(f'В нашем наборе данных {Y.name} количество записей главного класса равно {major}, а второстепенного {minor}\\nОтношение главного к второстепенному равно {ratio}')\n",
        "    if ratio > 1:\n",
        "        print('Присутствует дисбаланс классов в данных')\n",
        "    disbalance_dct[Y.name] = ratio\n",
        "\n",
        "\n",
        "\n",
        "\n",
        "\n",
        "\n",
        "\n",
        "\n",
        "\n"
      ]
    },
    {
      "cell_type": "code",
      "execution_count": null,
      "metadata": {
        "id": "9p9dFTTMNPa1"
      },
      "outputs": [],
      "source": [
        "targets_lst = [target_train,target_test,target_valid]"
      ]
    },
    {
      "cell_type": "code",
      "execution_count": null,
      "metadata": {
        "scrolled": true,
        "id": "Z1XVQakNNPa1",
        "outputId": "77dc0dd0-2507-4d1c-d720-8c9e6191ce00"
      },
      "outputs": [
        {
          "name": "stdout",
          "output_type": "stream",
          "text": [
            "В нашем наборе данных target_train количество записей главного класса равно 0: 1337, а второстепенного 1: 591\n",
            "Отношение главного к второстепенному равно 2.2622673434856178\n",
            "Присутствует дисбаланс классов в данных\n",
            "В нашем наборе данных target_test количество записей главного класса равно 0: 446, а второстепенного 1: 197\n",
            "Отношение главного к второстепенному равно 2.263959390862944\n",
            "Присутствует дисбаланс классов в данных\n",
            "В нашем наборе данных target_valid количество записей главного класса равно 0: 446, а второстепенного 1: 197\n",
            "Отношение главного к второстепенному равно 2.263959390862944\n",
            "Присутствует дисбаланс классов в данных\n"
          ]
        },
        {
          "data": {
            "text/plain": [
              "[None, None, None]"
            ]
          },
          "execution_count": 15,
          "metadata": {},
          "output_type": "execute_result"
        }
      ],
      "source": [
        "# для каждой выборки находим коэфф дисбаланса классов и\n",
        "# значения главного и второстепенного\n",
        "list(map(disbalance_check,targets_lst))"
      ]
    },
    {
      "cell_type": "code",
      "execution_count": null,
      "metadata": {
        "id": "0-XZ5IMyNPa2",
        "outputId": "9ecd70cb-8aae-43f9-f854-68fe7f06adab"
      },
      "outputs": [
        {
          "data": {
            "text/plain": [
              "{'target_train': 2.2622673434856178,\n",
              " 'target_test': 2.263959390862944,\n",
              " 'target_valid': 2.263959390862944}"
            ]
          },
          "execution_count": 16,
          "metadata": {},
          "output_type": "execute_result"
        }
      ],
      "source": [
        "disbalance_dct"
      ]
    },
    {
      "cell_type": "markdown",
      "metadata": {
        "id": "Aj882TjrNPa2"
      },
      "source": [
        "**Вывод:**\n",
        "\n",
        "Имеется дисбаланс классов перекос в сторону 0."
      ]
    },
    {
      "cell_type": "code",
      "execution_count": null,
      "metadata": {
        "id": "tCBFeTufNPa2",
        "outputId": "692daf56-558a-45b7-ed53-09fe65db1ca1"
      },
      "outputs": [
        {
          "data": {
            "text/plain": [
              "(1928, 4)"
            ]
          },
          "execution_count": 17,
          "metadata": {},
          "output_type": "execute_result"
        }
      ],
      "source": [
        "# смотрим на выборки\n",
        "features_train.shape"
      ]
    },
    {
      "cell_type": "code",
      "execution_count": null,
      "metadata": {
        "scrolled": true,
        "id": "b_X_7jrsNPa2",
        "outputId": "7ff888a5-77dc-4b0d-a96c-5368d3413b1b"
      },
      "outputs": [
        {
          "data": {
            "text/plain": [
              "(1286, 4)"
            ]
          },
          "execution_count": 18,
          "metadata": {},
          "output_type": "execute_result"
        }
      ],
      "source": [
        "features_test_valid.shape"
      ]
    },
    {
      "cell_type": "code",
      "execution_count": null,
      "metadata": {
        "id": "3DTevY2xNPa3",
        "outputId": "f786f333-03a1-40ad-9d06-715f31ed041b"
      },
      "outputs": [
        {
          "data": {
            "text/plain": [
              "(1928,)"
            ]
          },
          "execution_count": 19,
          "metadata": {},
          "output_type": "execute_result"
        }
      ],
      "source": [
        "target_train.shape"
      ]
    },
    {
      "cell_type": "code",
      "execution_count": null,
      "metadata": {
        "id": "Mt30azdtNPa3",
        "outputId": "d23fcd18-6ac1-4515-9d39-5cc0590a44f1"
      },
      "outputs": [
        {
          "data": {
            "text/plain": [
              "(1286,)"
            ]
          },
          "execution_count": 20,
          "metadata": {},
          "output_type": "execute_result"
        }
      ],
      "source": [
        "target_test_valid.shape"
      ]
    },
    {
      "cell_type": "code",
      "execution_count": null,
      "metadata": {
        "id": "eSP41rosNPa3",
        "outputId": "b3fcebb5-e2b9-4dbc-a814-cb1dd1d3d0c4"
      },
      "outputs": [
        {
          "data": {
            "text/plain": [
              "<AxesSubplot:>"
            ]
          },
          "execution_count": 21,
          "metadata": {},
          "output_type": "execute_result"
        },
        {
          "data": {
            "image/png": "[encoded data removed]",
            "text/plain": [
              "<Figure size 432x288 with 2 Axes>"
            ]
          },
          "metadata": {
            "needs_background": "light"
          },
          "output_type": "display_data"
        }
      ],
      "source": [
        "sns.heatmap(df.corr(),annot=True,cmap=\"YlGnBu\",center=0,linewidth=3,linecolor='green')"
      ]
    },
    {
      "cell_type": "markdown",
      "metadata": {
        "id": "vQntzBG7NPa7"
      },
      "source": [
        "## Исследуйте модели"
      ]
    },
    {
      "cell_type": "code",
      "execution_count": null,
      "metadata": {
        "scrolled": true,
        "id": "7AoorUrTNPa8",
        "outputId": "ae5280cf-05e0-4e77-e5f8-cbb51e687ff6"
      },
      "outputs": [
        {
          "name": "stdout",
          "output_type": "stream",
          "text": [
            "Лучший результат по accuracy на тестовой выборке равен 0.7433903576982893\n",
            "Лучший результат по accuracy на валидационной выборке равен 0.7729393468118196\n",
            "----------------------------------------------------------------------------------------------------\n",
            "Лучший результат по balanced_accuracy на тестовой выборке равен 0.5939712276069291\n",
            "Лучший результат по balanced_accuracy на валидационной выборке равен 0.6407775830279301\n"
          ]
        }
      ],
      "source": [
        "# создаем переменные для:\n",
        "# лучшего тестового результата для accuracy\n",
        "best_score_test = 0\n",
        "# лучшего валидационного результата для accuracy\n",
        "best_score_valid = 0\n",
        "# лучшего тестового результата для balanced accuracy\n",
        "best_balanced_accuracy_score_tst = 0\n",
        "# лучшего валидационного результата для balanced accuracy\n",
        "best_balanced_accuracy_score_vld = 0\n",
        "# словарь для занесения туда всех комбианций\n",
        "# параметров в модели и значения accuracy\n",
        "# для тестовой и валидационной выборки\n",
        "dct = {}\n",
        "# список для значений результатов тестов\n",
        "# на тестовой и валидационной выборках\n",
        "# для accuracy и balanced accuracy\n",
        "score_lst =[0,0,0,0]\n",
        "# \"решатели\" для поиска оптимального гиперпараметра\n",
        "solvers = ['liblinear','newton-cg','lbfgs']\n",
        "# цикл по \"решателям\"\n",
        "for solver in solvers:\n",
        "#     цикл по количеству итераций\n",
        "    for iter_ in range(100,1101,50):\n",
        "#       задаем гиперпараметры для модели\n",
        "        forest_clf = LogisticRegression(penalty='l2',max_iter=iter_,solver=solver,random_state=rs)\n",
        "#     обучаем\n",
        "        forest_clf.fit(features_train,target_train)\n",
        "#     предсказываем\n",
        "        predictions_test= forest_clf.predict(features_test)\n",
        "        predictions_valid = forest_clf.predict(features_valid)\n",
        "#         находим значение accuracy для тестовой и валидационной выборок\n",
        "        accuracy_test= accuracy_score(target_test,predictions_test)\n",
        "        accuracy_valid = accuracy_score(target_valid,predictions_valid)\n",
        "#        находим значение balanced accuracy для тестовой и валидационной выборок\n",
        "        balanced_accuracy_score_tst = balanced_accuracy_score(target_test,predictions_test)\n",
        "        balanced_accuracy_score_vld = balanced_accuracy_score(target_valid,predictions_valid)\n",
        "#        фиксирурем лучшие значения нужных нам метрик для лучшей модели\n",
        "# добавляем в список score_lst лучшие значения тестовых и валидационных вборок для\n",
        "# accuracy и balanced accuracy соответственно\n",
        "        if best_score_test < accuracy_test:\n",
        "            best_score_test = accuracy_test\n",
        "            score_lst[0] = f'Лучший результат accuracy на тестовой выборке при параметрах: penalty = l2, iter = {iter_} and solver={solver} равен {accuracy_test} а результат на валидационной равен {accuracy_valid} и balanced_accuracy равен на валидационной и тестовой соответственно {balanced_accuracy_score_vld} и {balanced_accuracy_score_tst}'\n",
        "        if best_score_valid < accuracy_valid:\n",
        "            best_score_valid = accuracy_valid\n",
        "            score_lst[1] = f'Лучший результат accuracy на валидационной выборке при параметрах: penalty = l2, iter = {iter_} and solver={solver} равен {accuracy_valid} а результат на тестовой равен {accuracy_test} и balanced_accuracy равен на валидационной и тестовой соответственно {balanced_accuracy_score_vld} и {balanced_accuracy_score_tst}'\n",
        "        if best_balanced_accuracy_score_tst < balanced_accuracy_score_tst:\n",
        "            best_balanced_accuracy_score_tst = balanced_accuracy_score_tst\n",
        "            score_lst[2] = f'Лучший результат balanced_accuracy на тестовой выборке при параметрах: penalty = l2, iter = {iter_} and solver={solver} равен {best_balanced_accuracy_score_tst} а результат на валидационной равен {balanced_accuracy_score_vld} и accuracy равен на валидационной и тестовой соответственно {accuracy_valid} и {accuracy_test}'\n",
        "        if best_balanced_accuracy_score_vld < balanced_accuracy_score_vld:\n",
        "            best_balanced_accuracy_score_vld = balanced_accuracy_score_vld\n",
        "            score_lst[3] = f'Лучший результат balanced_accuracy на валидационной выборке при параметрах: penalty = l2, iter = {iter_} and solver={solver} равен {best_balanced_accuracy_score_vld} а результат на тестовой равен {balanced_accuracy_score_tst} и accuracy равен на валидационной и тестовой соответственно {accuracy_valid} и {accuracy_test}'\n",
        "#         формируем словарь со сзначениями для accuracy на тестовой и валидационной выборках\n",
        "        dct[f'penalty = l2, iter = {iter_} and solver={solver}'] = str(accuracy_test) + ' ' + str(accuracy_valid)\n",
        "# выводим лучшие результаты метрик для моделей\n",
        "print(f'Лучший результат по accuracy на тестовой выборке равен {best_score_test}', f'Лучший результат по accuracy на валидационной выборке равен {best_score_valid}\\n',sep='\\n',end='-'*100)\n",
        "print(f'\\nЛучший результат по balanced_accuracy на тестовой выборке равен {best_balanced_accuracy_score_tst}', f'Лучший результат по balanced_accuracy на валидационной выборке равен {best_balanced_accuracy_score_vld}',sep='\\n')"
      ]
    },
    {
      "cell_type": "code",
      "execution_count": null,
      "metadata": {
        "id": "QCWa1sJkNPa8",
        "outputId": "29f2dcd2-b836-4504-ffc1-36deb0f786fb"
      },
      "outputs": [
        {
          "data": {
            "text/plain": [
              "['Лучший результат accuracy на тестовой выборке при параметрах: penalty = l2, iter = 100 and solver=newton-cg равен 0.7433903576982893 а результат на валидационной равен 0.7729393468118196 и balanced_accuracy равен на валидационной и тестовой соответственно 0.6407775830279301 и 0.5939712276069291',\n",
              " 'Лучший результат accuracy на валидационной выборке при параметрах: penalty = l2, iter = 100 and solver=newton-cg равен 0.7729393468118196 а результат на тестовой равен 0.7433903576982893 и balanced_accuracy равен на валидационной и тестовой соответственно 0.6407775830279301 и 0.5939712276069291',\n",
              " 'Лучший результат balanced_accuracy на тестовой выборке при параметрах: penalty = l2, iter = 100 and solver=newton-cg равен 0.5939712276069291 а результат на валидационной равен 0.6407775830279301 и accuracy равен на валидационной и тестовой соответственно 0.7729393468118196 и 0.7433903576982893',\n",
              " 'Лучший результат balanced_accuracy на валидационной выборке при параметрах: penalty = l2, iter = 100 and solver=newton-cg равен 0.6407775830279301 а результат на тестовой равен 0.5939712276069291 и accuracy равен на валидационной и тестовой соответственно 0.7729393468118196 и 0.7433903576982893']"
            ]
          },
          "execution_count": 23,
          "metadata": {},
          "output_type": "execute_result"
        }
      ],
      "source": [
        "score_lst"
      ]
    },
    {
      "cell_type": "code",
      "execution_count": null,
      "metadata": {
        "id": "NkcI_pc3NPa9",
        "outputId": "729b2fee-e7e0-4d1c-c039-20d39f005f9f"
      },
      "outputs": [
        {
          "data": {
            "text/plain": [
              "{'target_train': 2.2622673434856178,\n",
              " 'target_test': 2.263959390862944,\n",
              " 'target_valid': 2.263959390862944}"
            ]
          },
          "execution_count": 24,
          "metadata": {},
          "output_type": "execute_result"
        }
      ],
      "source": [
        "disbalance_dct"
      ]
    },
    {
      "cell_type": "code",
      "execution_count": null,
      "metadata": {
        "scrolled": true,
        "id": "In2mjzccNPa9",
        "outputId": "5dc9e31f-d3d6-4efb-f0d7-0bbeb9a98bb8"
      },
      "outputs": [
        {
          "data": {
            "text/plain": [
              "['Лучший результат accuracy на тестовой выборке при параметрах: penalty = l2, iter = 100 and solver=newton-cg равен 0.7433903576982893 а результат на валидационной равен 0.7729393468118196 и balanced_accuracy равен на валидационной и тестовой соответственно 0.6407775830279301 и 0.5939712276069291',\n",
              " 'Лучший результат accuracy на валидационной выборке при параметрах: penalty = l2, iter = 100 and solver=newton-cg равен 0.7729393468118196 а результат на тестовой равен 0.7433903576982893 и balanced_accuracy равен на валидационной и тестовой соответственно 0.6407775830279301 и 0.5939712276069291',\n",
              " 'Лучший результат balanced_accuracy на тестовой выборке при параметрах: penalty = l2, iter = 100 and solver=newton-cg равен 0.5939712276069291 а результат на валидационной равен 0.6407775830279301 и accuracy равен на валидационной и тестовой соответственно 0.7729393468118196 и 0.7433903576982893',\n",
              " 'Лучший результат balanced_accuracy на валидационной выборке при параметрах: penalty = l2, iter = 100 and solver=newton-cg равен 0.6407775830279301 а результат на тестовой равен 0.5939712276069291 и accuracy равен на валидационной и тестовой соответственно 0.7729393468118196 и 0.7433903576982893']"
            ]
          },
          "execution_count": 25,
          "metadata": {},
          "output_type": "execute_result"
        }
      ],
      "source": [
        "score_lst"
      ]
    },
    {
      "cell_type": "code",
      "execution_count": null,
      "metadata": {
        "scrolled": true,
        "id": "8u8O_QTsNPa9",
        "outputId": "c2605f94-ea65-4664-a30b-633c7148e1a4"
      },
      "outputs": [
        {
          "data": {
            "text/plain": [
              "{'target_train': 2.2622673434856178,\n",
              " 'target_test': 2.263959390862944,\n",
              " 'target_valid': 2.263959390862944}"
            ]
          },
          "execution_count": 26,
          "metadata": {},
          "output_type": "execute_result"
        }
      ],
      "source": [
        "disbalance_dct"
      ]
    },
    {
      "cell_type": "code",
      "execution_count": null,
      "metadata": {
        "scrolled": true,
        "id": "n9P6baLiNPa-",
        "outputId": "59f7d1be-47dd-4d69-ca23-b067551afa92"
      },
      "outputs": [
        {
          "name": "stdout",
          "output_type": "stream",
          "text": [
            "Лучший результат по accuracy на тестовой выборке равен 0.80248833592535\n",
            "Лучший результат по accuracy на валидационной выборке равен 0.8180404354587869\n",
            "----------------------------------------------------------------------------------------------------\n",
            "Лучший результат по balanced_accuracy на тестовой выборке равен 0.7357617627643349\n",
            "Лучший результат по balanced_accuracy на валидационной выборке равен 0.7538867769911908\n"
          ]
        }
      ],
      "source": [
        "best_score_test = 0\n",
        "best_score_valid = 0\n",
        "best_balanced_accuracy_score_tst = 0\n",
        "best_balanced_accuracy_score_vld = 0\n",
        "dct = {}\n",
        "params_lst = [0,0]\n",
        "score_lst =[0,0,0,0]\n",
        "# цикл для поиска количество деревьев\n",
        "for est in range(1,10):\n",
        "#     для поиска глубины деревьев\n",
        "    for depth in range(5,15):\n",
        "        forest_clf = RandomForestClassifier(n_estimators=est,max_depth=depth,random_state=rs,class_weight={0:1,1:2.2})\n",
        "        forest_clf.fit(features_train,target_train)\n",
        "        predictions_test= forest_clf.predict(features_test)\n",
        "        predictions_valid = forest_clf.predict(features_valid)\n",
        "        accuracy_test= accuracy_score(target_test,predictions_test)\n",
        "        accuracy_valid = accuracy_score(target_valid,predictions_valid)\n",
        "        balanced_accuracy_score_tst = balanced_accuracy_score(target_test,predictions_test)\n",
        "        balanced_accuracy_score_vld = balanced_accuracy_score(target_valid,predictions_valid)\n",
        "        if best_score_test < accuracy_test:\n",
        "            best_score_test = accuracy_test\n",
        "            score_lst[0] = f'Лучший результат accuracy на тестовой выборке при параметрах: n_estimators={est} и max_depth={depth} равен {accuracy_test} а результат на валидационной равен {accuracy_valid} и balanced_accuracy равен на валидационной и тестовой соответственно {balanced_accuracy_score_vld} и {balanced_accuracy_score_tst}'\n",
        "        if best_score_valid < accuracy_valid:\n",
        "            best_score_valid = accuracy_valid\n",
        "            score_lst[1] = f'Лучший результат accuracy на валидационной выборке при параметрах: n_estimators={est} и max_depth={depth} равен {accuracy_valid} а результат на тестовой равен {accuracy_test} и balanced_accuracy равен на валидационной и тестовой соответственно {balanced_accuracy_score_vld} и {balanced_accuracy_score_tst}'\n",
        "        if best_balanced_accuracy_score_tst < balanced_accuracy_score_tst:\n",
        "            best_balanced_accuracy_score_tst = balanced_accuracy_score_tst\n",
        "            score_lst[2] = f'Лучший результат balanced_accuracy на тестовой выборке при параметрах: n_estimators={est} и max_depth={depth} равен {best_balanced_accuracy_score_tst} а результат на валидационной равен {balanced_accuracy_score_vld} и accuracy равен на валидационной и тестовой соответственно {accuracy_valid} и {accuracy_test}'\n",
        "        if best_balanced_accuracy_score_vld < balanced_accuracy_score_vld:\n",
        "            best_balanced_accuracy_score_vld = balanced_accuracy_score_vld\n",
        "            score_lst[3] = f'Лучший результат balanced_accuracy на валидационной выборке при параметрах: n_estimators={est} и max_depth={depth} равен {best_balanced_accuracy_score_vld} а результат на тестовой равен {balanced_accuracy_score_tst} и accuracy равен на валидационной и тестовой соответственно {accuracy_valid} и {accuracy_test}'\n",
        "\n",
        "        dct[f'n_estimators = {est} and max_depth = {depth}'] = str(accuracy_test) + ' ' + str(accuracy_valid)\n",
        "print(f'Лучший результат по accuracy на тестовой выборке равен {best_score_test}', f'Лучший результат по accuracy на валидационной выборке равен {best_score_valid}\\n',sep='\\n',end='-'*100)\n",
        "print(f'\\nЛучший результат по balanced_accuracy на тестовой выборке равен {best_balanced_accuracy_score_tst}', f'Лучший результат по balanced_accuracy на валидационной выборке равен {best_balanced_accuracy_score_vld}',sep='\\n')"
      ]
    },
    {
      "cell_type": "code",
      "execution_count": null,
      "metadata": {
        "id": "Izhg0-4KNPa-",
        "outputId": "f7ebba06-3835-4fcb-8751-f16a318fdc2d"
      },
      "outputs": [
        {
          "data": {
            "text/plain": [
              "{'target_train': 2.2622673434856178,\n",
              " 'target_test': 2.263959390862944,\n",
              " 'target_valid': 2.263959390862944}"
            ]
          },
          "execution_count": 28,
          "metadata": {},
          "output_type": "execute_result"
        }
      ],
      "source": [
        "disbalance_dct"
      ]
    },
    {
      "cell_type": "code",
      "execution_count": null,
      "metadata": {
        "scrolled": false,
        "id": "erUvqOehNPa_",
        "outputId": "ed8ba7d7-b654-4188-a974-c8b0ed32ff22"
      },
      "outputs": [
        {
          "data": {
            "text/plain": [
              "['Лучший результат accuracy на тестовой выборке при параметрах: n_estimators=9 и max_depth=7 равен 0.80248833592535 а результат на валидационной равен 0.7978227060653188 и balanced_accuracy равен на валидационной и тестовой соответственно 0.7352325237303954 и 0.7357617627643349',\n",
              " 'Лучший результат accuracy на валидационной выборке при параметрах: n_estimators=3 и max_depth=5 равен 0.8180404354587869 а результат на тестовой равен 0.7838258164852255 и balanced_accuracy равен на валидационной и тестовой соответственно 0.7512235095945915 и 0.7067219048052628',\n",
              " 'Лучший результат balanced_accuracy на тестовой выборке при параметрах: n_estimators=9 и max_depth=7 равен 0.7357617627643349 а результат на валидационной равен 0.7352325237303954 и accuracy равен на валидационной и тестовой соответственно 0.7978227060653188 и 0.80248833592535',\n",
              " 'Лучший результат balanced_accuracy на валидационной выборке при параметрах: n_estimators=6 и max_depth=6 равен 0.7538867769911908 а результат на тестовой равен 0.7110354874689855 и accuracy равен на валидационной и тестовой соответственно 0.8040435458786936 и 0.776049766718507']"
            ]
          },
          "execution_count": 29,
          "metadata": {},
          "output_type": "execute_result"
        }
      ],
      "source": [
        "score_lst"
      ]
    },
    {
      "cell_type": "code",
      "execution_count": null,
      "metadata": {
        "id": "2-KjbZWTNPa_",
        "outputId": "6061b069-b646-42b5-bb5e-0727d0d00881"
      },
      "outputs": [
        {
          "data": {
            "text/plain": [
              "{'n_estimators = 1 and max_depth = 5': '0.7620528771384136 0.776049766718507',\n",
              " 'n_estimators = 1 and max_depth = 6': '0.7542768273716952 0.7931570762052877',\n",
              " 'n_estimators = 1 and max_depth = 7': '0.7340590979782271 0.7822706065318819',\n",
              " 'n_estimators = 1 and max_depth = 8': '0.7542768273716952 0.7636080870917574',\n",
              " 'n_estimators = 1 and max_depth = 9': '0.7511664074650077 0.7713841368584758',\n",
              " 'n_estimators = 1 and max_depth = 10': '0.7216174183514774 0.7511664074650077',\n",
              " 'n_estimators = 1 and max_depth = 11': '0.7371695178849145 0.7340590979782271',\n",
              " 'n_estimators = 1 and max_depth = 12': '0.7216174183514774 0.7387247278382582',\n",
              " 'n_estimators = 1 and max_depth = 13': '0.7293934681181959 0.6998444790046656',\n",
              " 'n_estimators = 1 and max_depth = 14': '0.7262830482115086 0.7247278382581649',\n",
              " 'n_estimators = 2 and max_depth = 5': '0.7713841368584758 0.7776049766718507',\n",
              " 'n_estimators = 2 and max_depth = 6': '0.7465007776049767 0.7589424572317263',\n",
              " 'n_estimators = 2 and max_depth = 7': '0.7542768273716952 0.7838258164852255',\n",
              " 'n_estimators = 2 and max_depth = 8': '0.7309486780715396 0.7340590979782271',\n",
              " 'n_estimators = 2 and max_depth = 9': '0.744945567651633 0.7511664074650077',\n",
              " 'n_estimators = 2 and max_depth = 10': '0.7309486780715396 0.7340590979782271',\n",
              " 'n_estimators = 2 and max_depth = 11': '0.7278382581648523 0.7122861586314152',\n",
              " 'n_estimators = 2 and max_depth = 12': '0.7356143079315708 0.7356143079315708',\n",
              " 'n_estimators = 2 and max_depth = 13': '0.7371695178849145 0.7340590979782271',\n",
              " 'n_estimators = 2 and max_depth = 14': '0.7371695178849145 0.7465007776049767',\n",
              " 'n_estimators = 3 and max_depth = 5': '0.7838258164852255 0.8180404354587869',\n",
              " 'n_estimators = 3 and max_depth = 6': '0.7698289269051322 0.80248833592535',\n",
              " 'n_estimators = 3 and max_depth = 7': '0.7713841368584758 0.7853810264385692',\n",
              " 'n_estimators = 3 and max_depth = 8': '0.7527216174183515 0.76049766718507',\n",
              " 'n_estimators = 3 and max_depth = 9': '0.7838258164852255 0.7947122861586314',\n",
              " 'n_estimators = 3 and max_depth = 10': '0.76049766718507 0.7791601866251944',\n",
              " 'n_estimators = 3 and max_depth = 11': '0.7480559875583204 0.7682737169517885',\n",
              " 'n_estimators = 3 and max_depth = 12': '0.7573872472783826 0.7698289269051322',\n",
              " 'n_estimators = 3 and max_depth = 13': '0.7713841368584758 0.7869362363919129',\n",
              " 'n_estimators = 3 and max_depth = 14': '0.7573872472783826 0.7807153965785381',\n",
              " 'n_estimators = 4 and max_depth = 5': '0.7791601866251944 0.8149300155520995',\n",
              " 'n_estimators = 4 and max_depth = 6': '0.7729393468118196 0.8009331259720062',\n",
              " 'n_estimators = 4 and max_depth = 7': '0.7822706065318819 0.7900466562986003',\n",
              " 'n_estimators = 4 and max_depth = 8': '0.7651632970451011 0.7729393468118196',\n",
              " 'n_estimators = 4 and max_depth = 9': '0.7744945567651633 0.7853810264385692',\n",
              " 'n_estimators = 4 and max_depth = 10': '0.7822706065318819 0.7807153965785381',\n",
              " 'n_estimators = 4 and max_depth = 11': '0.7558320373250389 0.7620528771384136',\n",
              " 'n_estimators = 4 and max_depth = 12': '0.7682737169517885 0.7713841368584758',\n",
              " 'n_estimators = 4 and max_depth = 13': '0.776049766718507 0.7682737169517885',\n",
              " 'n_estimators = 4 and max_depth = 14': '0.7527216174183515 0.7807153965785381',\n",
              " 'n_estimators = 5 and max_depth = 5': '0.7838258164852255 0.8133748055987559',\n",
              " 'n_estimators = 5 and max_depth = 6': '0.776049766718507 0.80248833592535',\n",
              " 'n_estimators = 5 and max_depth = 7': '0.7900466562986003 0.8087091757387247',\n",
              " 'n_estimators = 5 and max_depth = 8': '0.7667185069984448 0.7884914463452566',\n",
              " 'n_estimators = 5 and max_depth = 9': '0.7838258164852255 0.807153965785381',\n",
              " 'n_estimators = 5 and max_depth = 10': '0.776049766718507 0.80248833592535',\n",
              " 'n_estimators = 5 and max_depth = 11': '0.7713841368584758 0.7916018662519441',\n",
              " 'n_estimators = 5 and max_depth = 12': '0.7822706065318819 0.7822706065318819',\n",
              " 'n_estimators = 5 and max_depth = 13': '0.7869362363919129 0.7947122861586314',\n",
              " 'n_estimators = 5 and max_depth = 14': '0.7682737169517885 0.7869362363919129',\n",
              " 'n_estimators = 6 and max_depth = 5': '0.776049766718507 0.7931570762052877',\n",
              " 'n_estimators = 6 and max_depth = 6': '0.776049766718507 0.8040435458786936',\n",
              " 'n_estimators = 6 and max_depth = 7': '0.7869362363919129 0.8009331259720062',\n",
              " 'n_estimators = 6 and max_depth = 8': '0.7636080870917574 0.7838258164852255',\n",
              " 'n_estimators = 6 and max_depth = 9': '0.7853810264385692 0.80248833592535',\n",
              " 'n_estimators = 6 and max_depth = 10': '0.7791601866251944 0.8009331259720062',\n",
              " 'n_estimators = 6 and max_depth = 11': '0.76049766718507 0.7838258164852255',\n",
              " 'n_estimators = 6 and max_depth = 12': '0.7791601866251944 0.7853810264385692',\n",
              " 'n_estimators = 6 and max_depth = 13': '0.7838258164852255 0.7884914463452566',\n",
              " 'n_estimators = 6 and max_depth = 14': '0.7776049766718507 0.7791601866251944',\n",
              " 'n_estimators = 7 and max_depth = 5': '0.7698289269051322 0.7838258164852255',\n",
              " 'n_estimators = 7 and max_depth = 6': '0.776049766718507 0.7962674961119751',\n",
              " 'n_estimators = 7 and max_depth = 7': '0.7853810264385692 0.7962674961119751',\n",
              " 'n_estimators = 7 and max_depth = 8': '0.776049766718507 0.7931570762052877',\n",
              " 'n_estimators = 7 and max_depth = 9': '0.7869362363919129 0.807153965785381',\n",
              " 'n_estimators = 7 and max_depth = 10': '0.7884914463452566 0.8087091757387247',\n",
              " 'n_estimators = 7 and max_depth = 11': '0.7744945567651633 0.80248833592535',\n",
              " 'n_estimators = 7 and max_depth = 12': '0.7744945567651633 0.7916018662519441',\n",
              " 'n_estimators = 7 and max_depth = 13': '0.7869362363919129 0.7947122861586314',\n",
              " 'n_estimators = 7 and max_depth = 14': '0.7729393468118196 0.7947122861586314',\n",
              " 'n_estimators = 8 and max_depth = 5': '0.7744945567651633 0.7869362363919129',\n",
              " 'n_estimators = 8 and max_depth = 6': '0.7822706065318819 0.7993779160186625',\n",
              " 'n_estimators = 8 and max_depth = 7': '0.7993779160186625 0.8009331259720062',\n",
              " 'n_estimators = 8 and max_depth = 8': '0.7729393468118196 0.7869362363919129',\n",
              " 'n_estimators = 8 and max_depth = 9': '0.7947122861586314 0.7993779160186625',\n",
              " 'n_estimators = 8 and max_depth = 10': '0.7869362363919129 0.7962674961119751',\n",
              " 'n_estimators = 8 and max_depth = 11': '0.7807153965785381 0.8040435458786936',\n",
              " 'n_estimators = 8 and max_depth = 12': '0.7869362363919129 0.7947122861586314',\n",
              " 'n_estimators = 8 and max_depth = 13': '0.7853810264385692 0.8055987558320373',\n",
              " 'n_estimators = 8 and max_depth = 14': '0.7853810264385692 0.7947122861586314',\n",
              " 'n_estimators = 9 and max_depth = 5': '0.7744945567651633 0.7884914463452566',\n",
              " 'n_estimators = 9 and max_depth = 6': '0.7791601866251944 0.7978227060653188',\n",
              " 'n_estimators = 9 and max_depth = 7': '0.80248833592535 0.7978227060653188',\n",
              " 'n_estimators = 9 and max_depth = 8': '0.7791601866251944 0.7900466562986003',\n",
              " 'n_estimators = 9 and max_depth = 9': '0.7978227060653188 0.8009331259720062',\n",
              " 'n_estimators = 9 and max_depth = 10': '0.7916018662519441 0.807153965785381',\n",
              " 'n_estimators = 9 and max_depth = 11': '0.7869362363919129 0.8055987558320373',\n",
              " 'n_estimators = 9 and max_depth = 12': '0.7978227060653188 0.7947122861586314',\n",
              " 'n_estimators = 9 and max_depth = 13': '0.7853810264385692 0.8118195956454122',\n",
              " 'n_estimators = 9 and max_depth = 14': '0.7869362363919129 0.80248833592535'}"
            ]
          },
          "execution_count": 30,
          "metadata": {},
          "output_type": "execute_result"
        }
      ],
      "source": [
        "dct"
      ]
    },
    {
      "cell_type": "code",
      "execution_count": null,
      "metadata": {
        "scrolled": true,
        "id": "x_-DBCsPNPbA",
        "outputId": "de331900-c6de-4e61-9fc7-99cba785579b"
      },
      "outputs": [
        {
          "name": "stdout",
          "output_type": "stream",
          "text": [
            "Лучший результат по accuracy на тестовой выборке равен 0.7947122861586314\n",
            "Лучший результат по accuracy на валидационной выборке равен 0.8149300155520995\n",
            "----------------------------------------------------------------------------------------------------\n",
            "Лучший результат по balanced_accuracy на тестовой выборке равен 0.7094932963055701\n",
            "Лучший результат по balanced_accuracy на валидационной выборке равен 0.7391249914638865\n"
          ]
        }
      ],
      "source": [
        "best_score_test = 0\n",
        "best_score_valid = 0\n",
        "best_balanced_accuracy_score_tst = 0\n",
        "best_balanced_accuracy_score_vld = 0\n",
        "dct = {}\n",
        "params_lst = [0,0]\n",
        "score_lst =[0,0,0,0]\n",
        "criterions= ['gini','entropy']\n",
        "# цикл по критериям\n",
        "for criterion in criterions:\n",
        "#     цикл по глубин\n",
        "    for depth in range(2,15):\n",
        "        forest_clf = DecisionTreeClassifier(criterion=criterion,max_depth=depth,random_state=rs)\n",
        "        forest_clf.fit(features_train,target_train)\n",
        "        predictions_test= forest_clf.predict(features_test)\n",
        "        predictions_valid = forest_clf.predict(features_valid)\n",
        "        accuracy_test= accuracy_score(target_test,predictions_test)\n",
        "        accuracy_valid = accuracy_score(target_valid,predictions_valid)\n",
        "        balanced_accuracy_score_tst = balanced_accuracy_score(target_test,predictions_test)\n",
        "        balanced_accuracy_score_vld = balanced_accuracy_score(target_valid,predictions_valid)\n",
        "        if best_score_test < accuracy_test:\n",
        "            best_score_test = accuracy_test\n",
        "            score_lst[0] = f'Лучший результат accuracy на тестовой выборке при параметрах: criterion={criterion} и max_depth={depth} равен {accuracy_test} а результат на валидационной равен {accuracy_valid} и balanced_accuracy равен на валидационной и тестовой соответственно {balanced_accuracy_score_vld} и {balanced_accuracy_score_tst}'\n",
        "        if best_score_valid < accuracy_valid:\n",
        "            best_score_valid = accuracy_valid\n",
        "            score_lst[1] = f'Лучший результат accuracy на валидационной выборке при параметрах: criterion={criterion} и max_depth={depth} равен {accuracy_valid} а результат на тестовой равен {accuracy_test} и balanced_accuracy равен на валидационной и тестовой соответственно {balanced_accuracy_score_vld} и {balanced_accuracy_score_tst}'\n",
        "        if best_balanced_accuracy_score_tst < balanced_accuracy_score_tst:\n",
        "            best_balanced_accuracy_score_tst = balanced_accuracy_score_tst\n",
        "            score_lst[2] = f'Лучший результат balanced_accuracy на тестовой выборке при параметрах: criterion={criterion} и max_depth={depth} равен {best_balanced_accuracy_score_tst} а результат на валидационной равен {balanced_accuracy_score_vld} и accuracy равен на валидационной и тестовой соответственно {accuracy_valid} и {accuracy_test}'\n",
        "        if best_balanced_accuracy_score_vld < balanced_accuracy_score_vld:\n",
        "            best_balanced_accuracy_score_vld = balanced_accuracy_score_vld\n",
        "            score_lst[3] = f'Лучший результат balanced_accuracy на валидационной выборке при параметрах: criterion={criterion} и max_depth={depth} равен {best_balanced_accuracy_score_vld} а результат на тестовой равен {balanced_accuracy_score_tst} и accuracy равен на валидационной и тестовой соответственно {accuracy_valid} и {accuracy_test}'\n",
        "\n",
        "        dct[f'criterion = {criterion} and max_depth = {depth}'] = str(accuracy_test) + ' ' + str(accuracy_valid)\n",
        "print(f'Лучший результат по accuracy на тестовой выборке равен {best_score_test}', f'Лучший результат по accuracy на валидационной выборке равен {best_score_valid}\\n',sep='\\n',end='-'*100)\n",
        "print(f'\\nЛучший результат по balanced_accuracy на тестовой выборке равен {best_balanced_accuracy_score_tst}', f'Лучший результат по balanced_accuracy на валидационной выборке равен {best_balanced_accuracy_score_vld}',sep='\\n')"
      ]
    },
    {
      "cell_type": "code",
      "execution_count": null,
      "metadata": {
        "id": "jvlvldoVNPbB",
        "outputId": "c56c6ea8-8489-47a6-cb30-88195043edae"
      },
      "outputs": [
        {
          "data": {
            "text/plain": [
              "['Лучший результат accuracy на тестовой выборке при параметрах: criterion=gini и max_depth=10 равен 0.7947122861586314 а результат на валидационной равен 0.7822706065318819 и balanced_accuracy равен на валидационной и тестовой соответственно 0.690013885411213 и 0.7089014591063258',\n",
              " 'Лучший результат accuracy на валидационной выборке при параметрах: criterion=entropy и max_depth=8 равен 0.8149300155520995 а результат на тестовой равен 0.7822706065318819 и balanced_accuracy равен на валидационной и тестовой соответственно 0.7291434294689398 и 0.6829289112471831',\n",
              " 'Лучший результат balanced_accuracy на тестовой выборке при параметрах: criterion=entropy и max_depth=11 равен 0.7094932963055701 а результат на валидационной равен 0.7297978648334889 и accuracy равен на валидационной и тестовой соответственно 0.8040435458786936 и 0.7916018662519441',\n",
              " 'Лучший результат balanced_accuracy на валидационной выборке при параметрах: criterion=entropy и max_depth=12 равен 0.7391249914638865 а результат на тестовой равен 0.704183833739273 и accuracy равен на валидационной и тестовой соответственно 0.807153965785381 и 0.7822706065318819']"
            ]
          },
          "execution_count": 32,
          "metadata": {},
          "output_type": "execute_result"
        }
      ],
      "source": [
        "score_lst"
      ]
    },
    {
      "cell_type": "markdown",
      "metadata": {
        "id": "_znWWjV8NPbB"
      },
      "source": [
        "## Проверьте модель на тестовой выборке"
      ]
    },
    {
      "cell_type": "code",
      "execution_count": null,
      "metadata": {
        "id": "rgbrG121NPbB"
      },
      "outputs": [],
      "source": [
        "# функция, которая прогоняет n раз модель и находит\n",
        "# значения метрик:\n",
        "# accuracy, balanced accuracy,f1-score,precision,recall,fbeta-score\n",
        "# в конце выводит среднее и медианное значение метрик по каждой\n",
        "# тестовой и валидационной выборке\n",
        "def check_random_samples(est,depth,n=100):\n",
        "    accuracy_test_1 = []\n",
        "    accuracy_valid_1 =[]\n",
        "    balanced_test_1 = []\n",
        "    balanced_valid_1 = []\n",
        "    f1_score_test_1 = []\n",
        "    f1_score_valid_1 = []\n",
        "    precision_score_test_1 = []\n",
        "    precision_score_valid_1 = []\n",
        "    recall_score_test_1 = []\n",
        "    recall_score_valid_1 = []\n",
        "    fbeta_score_test_1 = []\n",
        "    fbeta_score_valid_1 = []\n",
        "    for i in range(n):\n",
        "        best_model_1 = RandomForestClassifier(n_estimators=est,max_depth=depth,class_weight={0:1,1:2.2})\n",
        "        best_model_1.fit(features_train,target_train)\n",
        "        predict_test_1 = best_model_1.predict(features_test)\n",
        "        predict_valid_1= best_model_1.predict(features_valid)\n",
        "        accuracy_test_1.append(accuracy_score(target_test,predict_test_1))\n",
        "        accuracy_valid_1.append(accuracy_score(target_valid,predict_valid_1))\n",
        "        balanced_test_1.append(balanced_accuracy_score(target_test,predict_test_1))\n",
        "        balanced_valid_1.append(balanced_accuracy_score(target_valid,predict_valid_1))\n",
        "        f1_score_test_1.append(f1_score(target_test, predict_test_1))\n",
        "        f1_score_valid_1.append(f1_score(target_valid, predict_valid_1))\n",
        "        precision_score_test_1.append(precision_score(target_test, predict_test_1))\n",
        "        precision_score_valid_1.append(precision_score(target_valid, predict_valid_1))\n",
        "        recall_score_test_1.append(recall_score(target_test, predict_test_1))\n",
        "        recall_score_valid_1.append(recall_score(target_valid, predict_valid_1))\n",
        "        fbeta_score_test_1.append(fbeta_score(target_test, predict_test_1,beta=1))\n",
        "        fbeta_score_valid_1.append(fbeta_score(target_valid, predict_valid_1,beta=1))\n",
        "    print(Counter(accuracy_test_1))\n",
        "    print(f'Значения для модели с параметрами: n_estimators={est}, max_depth={depth}' )\n",
        "    print(f'Среднее значение для accuracy на тестовой выборке {np.mean(accuracy_test_1)},\\nСреднее значение для accuracy на валидационной выборке {np.mean(accuracy_valid_1)},\\nСреднее значение для balanced accuracy на тестовой выборке {np.mean(balanced_test_1)},\\nСреднее значение для balanced accuracy на валидационной выборке {np.mean(balanced_valid_1)},\\nСреднее значение для F1-score на тестовой выборке {np.mean(f1_score_test_1)},\\nСреднее значение для F1-score на валидационной выборке {np.mean(f1_score_valid_1)},\\nСреднее значение для Precision на тестовой выборке {np.mean(precision_score_test_1)},\\nСреднее значение для Precision на валидационной выборке {np.mean(precision_score_valid_1)},\\nСреднее значение для Recall на тестовой выборке {np.mean(recall_score_test_1)},\\nСреднее значение для Recall на валидационной выборке {np.mean(recall_score_valid_1)},\\nСреднее значение для Fbeta на тестовой выборке {np.mean(fbeta_score_test_1)},\\nСреднее значение для Fbeta на валидационной выборке {np.mean(fbeta_score_valid_1)}')\n",
        "    print('-'*110)\n",
        "    print(f'Медианное значение для accuracy на тестовой выборке {np.median(accuracy_test_1)},\\nМедианное значение для accuracy на валидационной выборке {np.median(accuracy_valid_1)},\\nМедианное значение для balanced accuracy на тестовой выборке {np.median(balanced_test_1)},\\nМедианное значение для balanced accuracy на валидационной выборке {np.median(balanced_valid_1)},\\nМедианное значение для F1-score на тестовой выборке {np.median(f1_score_test_1)},\\nМедианное значение для F1-score на валидационной выборке {np.median(f1_score_valid_1)},\\nМедианное значение для Precision на тестовой выборке {np.median(precision_score_test_1)},\\nМедианное значение для Precision на валидационной выборке {np.median(precision_score_valid_1)},\\nМедианное значение для Recall на тестовой выборке {np.median(recall_score_test_1)},\\nМедианное значение для Recall на валидационной выборке {np.median(recall_score_valid_1)},\\nМедианное значение для Fbeta на тестовой выборке {np.median(fbeta_score_test_1)},\\nМедианное значение для Fbeta на валидационной выборке {np.median(fbeta_score_valid_1)}')\n"
      ]
    },
    {
      "cell_type": "code",
      "execution_count": null,
      "metadata": {
        "id": "SHOkX9bFNPbC",
        "outputId": "712dce07-91af-41c7-ad2d-b5d793dc2d11"
      },
      "outputs": [
        {
          "name": "stdout",
          "output_type": "stream",
          "text": [
            "Counter({0.7838258164852255: 11, 0.7853810264385692: 11, 0.7869362363919129: 10, 0.7900466562986003: 9, 0.7884914463452566: 8, 0.7807153965785381: 7, 0.7791601866251944: 5, 0.7916018662519441: 5, 0.7931570762052877: 5, 0.7822706065318819: 4, 0.7744945567651633: 4, 0.776049766718507: 3, 0.7962674961119751: 3, 0.7947122861586314: 3, 0.7776049766718507: 2, 0.7993779160186625: 2, 0.7682737169517885: 2, 0.7713841368584758: 2, 0.7729393468118196: 1, 0.8055987558320373: 1, 0.8009331259720062: 1, 0.7620528771384136: 1})\n",
            "Значения для модели с параметрами: n_estimators=6, max_depth=5\n",
            "Среднее значение для accuracy на тестовой выборке 0.7853654743390357,\n",
            "Среднее значение для accuracy на валидационной выборке 0.8134681181959565,\n",
            "Среднее значение для balanced accuracy на тестовой выборке 0.7143782864036785,\n",
            "Среднее значение для balanced accuracy на валидационной выборке 0.7508607247729395,\n",
            "Среднее значение для F1-score на тестовой выборке 0.602501565795075,\n",
            "Среднее значение для F1-score на валидационной выборке 0.659152168862981,\n",
            "Среднее значение для Precision на тестовой выборке 0.6975946121812774,\n",
            "Среднее значение для Precision на валидационной выборке 0.7496645780443799,\n",
            "Среднее значение для Recall на тестовой выборке 0.5310659898477159,\n",
            "Среднее значение для Recall на валидационной выборке 0.5891878172588833,\n",
            "Среднее значение для Fbeta на тестовой выборке 0.602501565795075,\n",
            "Среднее значение для Fbeta на валидационной выборке 0.659152168862981\n",
            "--------------------------------------------------------------------------------------------------------------\n",
            "Медианное значение для accuracy на тестовой выборке 0.7853810264385692,\n",
            "Медианное значение для accuracy на валидационной выборке 0.8133748055987559,\n",
            "Медианное значение для balanced accuracy на тестовой выборке 0.7140714984862626,\n",
            "Медианное значение для balanced accuracy на валидационной выборке 0.7508422298604629,\n",
            "Медианное значение для F1-score на тестовой выборке 0.6020273100443998,\n",
            "Медианное значение для F1-score на валидационной выборке 0.6591229193341868,\n",
            "Медианное значение для Precision на тестовой выборке 0.697986577181208,\n",
            "Медианное значение для Precision на валидационной выборке 0.75,\n",
            "Медианное значение для Recall на тестовой выборке 0.5329949238578681,\n",
            "Медианное значение для Recall на валидационной выборке 0.5888324873096447,\n",
            "Медианное значение для Fbeta на тестовой выборке 0.6020273100443998,\n",
            "Медианное значение для Fbeta на валидационной выборке 0.6591229193341868\n"
          ]
        }
      ],
      "source": [
        "check_random_samples(est=6,depth=5)"
      ]
    },
    {
      "cell_type": "code",
      "execution_count": null,
      "metadata": {
        "id": "ZwR0SPXgNPbC",
        "outputId": "affaed90-d0aa-4c4f-f546-261452d5ae13"
      },
      "outputs": [
        {
          "name": "stdout",
          "output_type": "stream",
          "text": [
            "Counter({0.7713841368584758: 9, 0.7838258164852255: 8, 0.7791601866251944: 7, 0.7729393468118196: 7, 0.776049766718507: 5, 0.7869362363919129: 5, 0.7620528771384136: 5, 0.7667185069984448: 4, 0.7682737169517885: 4, 0.7651632970451011: 4, 0.7573872472783826: 3, 0.7698289269051322: 3, 0.7916018662519441: 3, 0.7636080870917574: 3, 0.7589424572317263: 3, 0.7900466562986003: 3, 0.7822706065318819: 3, 0.7853810264385692: 3, 0.7776049766718507: 3, 0.749611197511664: 2, 0.7527216174183515: 2, 0.7931570762052877: 2, 0.7744945567651633: 2, 0.7807153965785381: 2, 0.7993779160186625: 1, 0.7884914463452566: 1, 0.7947122861586314: 1, 0.7558320373250389: 1, 0.76049766718507: 1})\n",
            "Значения для модели с параметрами: n_estimators=3, max_depth=8\n",
            "Среднее значение для accuracy на тестовой выборке 0.774339035769829,\n",
            "Среднее значение для accuracy на валидационной выборке 0.7971695178849145,\n",
            "Среднее значение для balanced accuracy на тестовой выборке 0.7098731533541234,\n",
            "Среднее значение для balanced accuracy на валидационной выборке 0.7388426168309394,\n",
            "Среднее значение для F1-score на тестовой выборке 0.5959149382080728,\n",
            "Среднее значение для F1-score на валидационной выборке 0.639817557232191,\n",
            "Среднее значение для Precision на тестовой выборке 0.661666628041882,\n",
            "Среднее значение для Precision на валидационной выборке 0.7033644940413393,\n",
            "Среднее значение для Recall на тестовой выборке 0.5434010152284264,\n",
            "Среднее значение для Recall на валидационной выборке 0.588223350253807,\n",
            "Среднее значение для Fbeta на тестовой выборке 0.5959149382080728,\n",
            "Среднее значение для Fbeta на валидационной выборке 0.639817557232191\n",
            "--------------------------------------------------------------------------------------------------------------\n",
            "Медианное значение для accuracy на тестовой выборке 0.7729393468118196,\n",
            "Медианное значение для accuracy на валидационной выборке 0.797045101088647,\n",
            "Медианное значение для balanced accuracy на тестовой выборке 0.7109501263344791,\n",
            "Медианное значение для balanced accuracy на валидационной выборке 0.7396627666112767,\n",
            "Медианное значение для F1-score на тестовой выборке 0.5977775696850516,\n",
            "Медианное значение для F1-score на валидационной выборке 0.6413423647269216,\n",
            "Медианное значение для Precision на тестовой выборке 0.6625766871165644,\n",
            "Медианное значение для Precision на валидационной выборке 0.7044739851343624,\n",
            "Медианное значение для Recall на тестовой выборке 0.5431472081218274,\n",
            "Медианное значение для Recall на валидационной выборке 0.5888324873096447,\n",
            "Медианное значение для Fbeta на тестовой выборке 0.5977775696850516,\n",
            "Медианное значение для Fbeta на валидационной выборке 0.6413423647269216\n"
          ]
        }
      ],
      "source": [
        "check_random_samples(est=3,depth=8)"
      ]
    },
    {
      "cell_type": "code",
      "execution_count": null,
      "metadata": {
        "scrolled": true,
        "id": "zEqpYiSSNPbD",
        "outputId": "71dd656e-14e6-425d-92fd-1cfcae503a3a"
      },
      "outputs": [
        {
          "name": "stdout",
          "output_type": "stream",
          "text": [
            "Counter({0.7838258164852255: 9, 0.7776049766718507: 7, 0.7667185069984448: 7, 0.7884914463452566: 7, 0.7729393468118196: 6, 0.7869362363919129: 5, 0.7900466562986003: 5, 0.7744945567651633: 5, 0.776049766718507: 5, 0.7916018662519441: 4, 0.7682737169517885: 4, 0.7993779160186625: 3, 0.7807153965785381: 3, 0.7822706065318819: 3, 0.7947122861586314: 3, 0.7853810264385692: 3, 0.7962674961119751: 2, 0.7636080870917574: 2, 0.7620528771384136: 2, 0.7698289269051322: 2, 0.7589424572317263: 2, 0.7558320373250389: 2, 0.7542768273716952: 2, 0.8040435458786936: 1, 0.7931570762052877: 1, 0.7465007776049767: 1, 0.7713841368584758: 1, 0.7651632970451011: 1, 0.7480559875583204: 1, 0.7791601866251944: 1})\n",
            "Значения для модели с параметрами: n_estimators=3, max_depth=5\n",
            "Среднее значение для accuracy на тестовой выборке 0.7785536547433902,\n",
            "Среднее значение для accuracy на валидационной выборке 0.8062363919129082,\n",
            "Среднее значение для balanced accuracy на тестовой выборке 0.7083202066877604,\n",
            "Среднее значение для balanced accuracy на валидационной выборке 0.7446416539573423,\n",
            "Среднее значение для F1-score на тестовой выборке 0.5928345739234119,\n",
            "Среднее значение для F1-score на валидационной выборке 0.6489564952324549,\n",
            "Среднее значение для Precision на тестовой выборке 0.6827465845515215,\n",
            "Среднее значение для Precision на валидационной выборке 0.7339073175775133,\n",
            "Среднее значение для Recall на тестовой выборке 0.5269543147208122,\n",
            "Среднее значение для Recall на валидационной выборке 0.5855837563451778,\n",
            "Среднее значение для Fbeta на тестовой выборке 0.5928345739234119,\n",
            "Среднее значение для Fbeta на валидационной выборке 0.6489564952324549\n",
            "--------------------------------------------------------------------------------------------------------------\n",
            "Медианное значение для accuracy на тестовой выборке 0.7783825816485226,\n",
            "Медианное значение для accuracy на валидационной выборке 0.8087091757387247,\n",
            "Медианное значение для balanced accuracy на тестовой выборке 0.7083181580205322,\n",
            "Медианное значение для balanced accuracy на валидационной выборке 0.7446450114952994,\n",
            "Медианное значение для F1-score на тестовой выборке 0.5935906513048267,\n",
            "Медианное значение для F1-score на валидационной выборке 0.6474664454833359,\n",
            "Медианное значение для Precision на тестовой выборке 0.6883424921328261,\n",
            "Медианное значение для Precision на валидационной выборке 0.7425969601677149,\n",
            "Медианное значение для Recall на тестовой выборке 0.5228426395939086,\n",
            "Медианное значение для Recall на валидационной выборке 0.5736040609137056,\n",
            "Медианное значение для Fbeta на тестовой выборке 0.5935906513048267,\n",
            "Медианное значение для Fbeta на валидационной выборке 0.6474664454833359\n"
          ]
        }
      ],
      "source": [
        "check_random_samples(est=3,depth=5)"
      ]
    },
    {
      "cell_type": "code",
      "execution_count": null,
      "metadata": {
        "id": "1gaEtW1VNPbE",
        "outputId": "2dd2993d-e57b-48b4-d313-cbcc812552d2"
      },
      "outputs": [
        {
          "name": "stdout",
          "output_type": "stream",
          "text": [
            "Итоговое значение на лучшей модели метрики accuracy на тестовой выборке = 0.8055987558320373\n",
            "Итоговое значение на лучшей модели метрики accuracy на валидационной выборке = 0.7993779160186625\n"
          ]
        }
      ],
      "source": [
        "# Смотрим на accuracy на финальной модели\n",
        "best_model = RandomForestClassifier(n_estimators=3,max_depth=5,class_weight={0:1,1:2.2})\n",
        "features_train,features_test_valid,target_train, target_test_valid = train_test_split(features,target,train_size=0.60,random_state=rs,stratify=target)\n",
        "features_test,features_valid,target_test,target_valid = train_test_split(features_test_valid,target_test_valid,test_size=0.5,random_state=rs)\n",
        "best_model.fit(features_train,target_train)\n",
        "predict_test = best_model.predict(features_test)\n",
        "predict_valid= best_model.predict(features_valid)\n",
        "print(f'Итоговое значение на лучшей модели метрики accuracy на тестовой выборке = {accuracy_score(target_test,predict_test)}')\n",
        "print(f'Итоговое значение на лучшей модели метрики accuracy на валидационной выборке = {accuracy_score(target_valid,predict_valid)}')\n",
        ""
      ]
    },
    {
      "cell_type": "markdown",
      "metadata": {
        "id": "-XoDCrpKNPbE"
      },
      "source": [
        "<div style=\"border:solid purple 5px; padding: 20px\">\n",
        "<h2 align=\"center\"> Рубрика «Питонячий лайфхакер» <a class=\"tocSkip\"> </h2>\n",
        "\n",
        "<h3> Индикаторы состояния: progress и tqdm <a class=\"tocSkip\"> </h3>\n",
        "\n",
        "Как перестать беспокоиться о том, не завис ли скрипт? Вы можете создавать свои индикаторы состояния. Это весьма увлекательное занятие. Но делать то же самое с [progress](https://pypi.org/project/progress/) или [tqdm](https://pypi.org/project/tqdm/) куда быстрее и надежнее.\n",
        "\n",
        "Обычно я использую эти две библиотеки, но вот [здесь](https://habr.com/ru/post/483400/) ты можешь почитать про альтернативные варианты\n",
        "\n",
        "![](https://i.ibb.co/B4SDm8Y/68747470733a2f2f7261772e6769746875622e636f6d2f7665726967616b2f70726f67726573732f6d61737465722f64656d.gif)"
      ]
    },
    {
      "cell_type": "markdown",
      "metadata": {
        "id": "XuHWb9ilNPbE"
      },
      "source": [
        "**Вывод:**\n",
        "\n",
        "Лучшая модель случайного леса с параметрами:\n",
        "\n",
        "1) n_estimators=3, max_depth=5\n",
        "\n",
        "\n",
        "\n",
        "Среднее значение для Fbeta на валидационной выборке 0.6162392177578815\n",
        "\n",
        "* Считаю, что в целом модель имеет средний показатель по одной из самых важных метрик Fbeta несмотря на маленькое количество дереьев и низкую глубину, если сравнивать со второй моделью с почти такими же значениями всех метрик.\n",
        "\n",
        "Для этой модели имеем следующие метрики:\n",
        "\n",
        "\n",
        "* Accuracy для тестовой выборки: 0.8055987558320373 - - Хороший результат при стратифицированных выборках\n",
        "\n",
        "* Accuracy для валидационной выборки: 0.7869362363919129\n",
        "\n",
        "----------------------------------------------------------------------------------------------------\n",
        "* Balanced accuracy для тестовой выборки: 0.7482768685031769  - Отностильно хороший показатель.\n",
        "\n",
        "* Balanced accuracy для валидационной выборки: 0.7180051274944568\n",
        "\n",
        "----------------------------------------------------------------------------------------------------\n",
        "* F1-score для тестовой выборки: 0.6575342465753425  - Не самый хороший показатель, но хотя бы больше 0.5\n",
        "\n",
        "* F1-score accuracy для валидационной выборки: 0.6051873198847263\n",
        "\n",
        "----------------------------------------------------------------------------------------------------\n",
        "* Precision score для тестовой выборки: 0.7361963190184049  - Хороший показатель точности\n",
        "\n",
        "* Precision score для валидационной выборки: 0.6774193548387096\n",
        "\n",
        "----------------------------------------------------------------------------------------------------\n",
        "* Recall score для тестовой выборки: 0.594059405940594- Чуть больше половины мы правильно классифицируем - средний показтель, но зато точность достаточно хорошая 3 из 4 правильно\n",
        "\n",
        "* Recall score для валидационной выборки: 0.546875\n",
        "\n",
        "----------------------------------------------------------------------------------------------------\n",
        "* F-beta score для тестовой выборки: 0.6575342465753425 - Намного больше 0 и больше на 0.5 - Модель среднего качества\n",
        "\n",
        "* F-beta score для валидационной выборки: 0.6051873198847263\n",
        "\n",
        "----------------------------------------------------------------------------------------------------"
      ]
    },
    {
      "cell_type": "markdown",
      "metadata": {
        "id": "Za7NCg2ENPbE"
      },
      "source": [
        "## (бонус) Проверьте модели на адекватность"
      ]
    },
    {
      "cell_type": "code",
      "execution_count": null,
      "metadata": {
        "id": "jd-E1jm8NPbF"
      },
      "outputs": [],
      "source": [
        "# функция, которая находит значение метрик:\n",
        "# accuracy, balanced accuracy,f1-score,precision,recall,fbeta-score\n",
        "# для тестовой и валидационной выборках лучшей модели\n",
        "def metrics_check(predict_test,predict_valid):\n",
        "    print(f'Accuracy для тестовой выборки: {accuracy_score(target_test,predict_test)}')\n",
        "    print(f'Accuracy для валидационной выборки: {accuracy_score(target_valid,predict_valid)}')\n",
        "    print('-'*100)\n",
        "    print(f'Balanced accuracy для тестовой выборки: {balanced_accuracy_score(target_test,predict_test)}')\n",
        "    print(f'Balanced accuracy для валидационной выборки: {balanced_accuracy_score(target_valid,predict_valid)}')\n",
        "    print('-'*100)\n",
        "    print(f'F1-score для тестовой выборки: {f1_score(target_test,predict_test)}')\n",
        "    print(f'F1-score accuracy для валидационной выборки: {f1_score(target_valid,predict_valid)}')\n",
        "    print('-'*100)\n",
        "    print(f'Precision score для тестовой выборки: {precision_score(target_test,predict_test)}')\n",
        "    print(f'Precision score для валидационной выборки: {precision_score(target_valid,predict_valid)}')\n",
        "    print('-'*100)\n",
        "    print(f'Recall score для тестовой выборки: {recall_score(target_test,predict_test)}')\n",
        "    print(f'Recall score для валидационной выборки: {recall_score(target_valid,predict_valid)}')\n",
        "    print('-'*100)\n",
        "    print(f'F-beta score для тестовой выборки: {fbeta_score(target_test,predict_test,beta=1)}')\n",
        "    print(f'F-beta score для валидационной выборки: {fbeta_score(target_valid,predict_valid,beta=1)}')\n",
        "    print('-'*100)"
      ]
    },
    {
      "cell_type": "code",
      "execution_count": null,
      "metadata": {
        "scrolled": true,
        "id": "1TnBKqhHNPbF",
        "outputId": "bbdcc647-a8c9-44a2-a251-e8ed97a91209"
      },
      "outputs": [
        {
          "name": "stdout",
          "output_type": "stream",
          "text": [
            "Accuracy для тестовой выборки: 0.8055987558320373\n",
            "Accuracy для валидационной выборки: 0.7993779160186625\n",
            "----------------------------------------------------------------------------------------------------\n",
            "Balanced accuracy для тестовой выборки: 0.7375451830897375\n",
            "Balanced accuracy для валидационной выборки: 0.7268743070953436\n",
            "----------------------------------------------------------------------------------------------------\n",
            "F1-score для тестовой выборки: 0.6418338108882522\n",
            "F1-score accuracy для валидационной выборки: 0.6194690265486725\n",
            "----------------------------------------------------------------------------------------------------\n",
            "Precision score для тестовой выборки: 0.7619047619047619\n",
            "Precision score для валидационной выборки: 0.7142857142857143\n",
            "----------------------------------------------------------------------------------------------------\n",
            "Recall score для тестовой выборки: 0.5544554455445545\n",
            "Recall score для валидационной выборки: 0.546875\n",
            "----------------------------------------------------------------------------------------------------\n",
            "F-beta score для тестовой выборки: 0.6418338108882522\n",
            "F-beta score для валидационной выборки: 0.6194690265486725\n",
            "----------------------------------------------------------------------------------------------------\n"
          ]
        }
      ],
      "source": [
        "# применяем верхнюю функцию\n",
        "metrics_check(predict_test=best_model.predict(features_test),predict_valid=best_model.predict(features_valid))"
      ]
    },
    {
      "cell_type": "code",
      "execution_count": null,
      "metadata": {
        "scrolled": true,
        "id": "pxt2T_OBNPbG",
        "outputId": "85961ac0-cc04-4eae-de7a-acd600d6eef2"
      },
      "outputs": [
        {
          "data": {
            "image/png": "[encoded data removed]",
            "text/plain": [
              "<Figure size 432x288 with 1 Axes>"
            ]
          },
          "metadata": {
            "needs_background": "light"
          },
          "output_type": "display_data"
        }
      ],
      "source": [
        "plot_roc_curve(best_model,features_test,target_test)\n",
        "plt.show()"
      ]
    },
    {
      "cell_type": "code",
      "execution_count": null,
      "metadata": {
        "scrolled": true,
        "id": "qmMXX-oCNPbG",
        "outputId": "15fdd209-ead6-4efb-dc91-164c50611ef6"
      },
      "outputs": [
        {
          "data": {
            "image/png": "[encoded data removed]",
            "text/plain": [
              "<Figure size 432x288 with 2 Axes>"
            ]
          },
          "metadata": {
            "needs_background": "light"
          },
          "output_type": "display_data"
        }
      ],
      "source": [
        "plot_confusion_matrix(best_model,features_test,target_test)\n",
        "plt.show()"
      ]
    },
    {
      "cell_type": "markdown",
      "metadata": {
        "id": "4K2kjJswNPbH"
      },
      "source": [
        "**Вывод:**\n",
        "\n",
        "Из Матрицы ошибок может посчитать хрестоматийные метрики:\n",
        "\n",
        "1) **Recall** = TP / (TP + FN) => 112 / (90 + 112) => 112 / 202 ~ 0.55\n",
        "\n",
        "2) **Precision** = TP / (TP + FP) => 112 / (112 + 35) => 112 / 147 ~ 0.76"
      ]
    }
  ],
  "metadata": {
    "ExecuteTimeLog": [
      {
        "duration": 57,
        "start_time": "2022-08-04T05:24:55.498Z"
      },
      {
        "duration": 1562,
        "start_time": "2022-08-04T05:25:17.578Z"
      },
      {
        "duration": 154,
        "start_time": "2022-08-04T05:25:29.230Z"
      },
      {
        "duration": 16,
        "start_time": "2022-08-04T05:25:34.373Z"
      },
      {
        "duration": 28,
        "start_time": "2022-08-04T05:25:41.814Z"
      },
      {
        "duration": 9,
        "start_time": "2022-08-04T05:25:41.955Z"
      },
      {
        "duration": 29,
        "start_time": "2022-08-04T05:26:01.481Z"
      },
      {
        "duration": 11,
        "start_time": "2022-08-04T05:26:12.880Z"
      },
      {
        "duration": 2,
        "start_time": "2022-08-04T05:29:27.885Z"
      },
      {
        "duration": 321,
        "start_time": "2022-08-04T05:29:54.081Z"
      },
      {
        "duration": 3,
        "start_time": "2022-08-04T05:29:59.592Z"
      },
      {
        "duration": 228,
        "start_time": "2022-08-04T05:29:59.852Z"
      },
      {
        "duration": 4,
        "start_time": "2022-08-04T05:32:08.115Z"
      },
      {
        "duration": 11,
        "start_time": "2022-08-04T05:32:08.414Z"
      },
      {
        "duration": 4,
        "start_time": "2022-08-04T05:32:15.087Z"
      },
      {
        "duration": 27,
        "start_time": "2022-08-04T05:32:15.120Z"
      },
      {
        "duration": 4,
        "start_time": "2022-08-04T05:32:21.773Z"
      },
      {
        "duration": 228,
        "start_time": "2022-08-04T05:32:24.209Z"
      },
      {
        "duration": 2,
        "start_time": "2022-08-04T05:32:40.964Z"
      },
      {
        "duration": 3,
        "start_time": "2022-08-04T05:32:41.142Z"
      },
      {
        "duration": 4,
        "start_time": "2022-08-04T05:32:54.415Z"
      },
      {
        "duration": 3,
        "start_time": "2022-08-04T05:33:10.527Z"
      },
      {
        "duration": 224,
        "start_time": "2022-08-04T05:33:12.368Z"
      },
      {
        "duration": 3,
        "start_time": "2022-08-04T05:33:24.020Z"
      },
      {
        "duration": 7,
        "start_time": "2022-08-04T05:33:25.811Z"
      },
      {
        "duration": 4,
        "start_time": "2022-08-04T05:33:34.090Z"
      },
      {
        "duration": 4,
        "start_time": "2022-08-04T05:33:53.661Z"
      },
      {
        "duration": 4,
        "start_time": "2022-08-04T05:34:22.420Z"
      },
      {
        "duration": 11,
        "start_time": "2022-08-04T05:34:27.364Z"
      },
      {
        "duration": 4,
        "start_time": "2022-08-04T05:37:30.025Z"
      },
      {
        "duration": 4,
        "start_time": "2022-08-04T05:37:42.068Z"
      },
      {
        "duration": 4,
        "start_time": "2022-08-04T05:37:46.754Z"
      },
      {
        "duration": 3,
        "start_time": "2022-08-04T05:38:02.539Z"
      },
      {
        "duration": 3,
        "start_time": "2022-08-04T05:38:06.754Z"
      },
      {
        "duration": 3,
        "start_time": "2022-08-04T05:38:10.160Z"
      },
      {
        "duration": 3,
        "start_time": "2022-08-04T05:38:14.144Z"
      },
      {
        "duration": 3,
        "start_time": "2022-08-04T05:39:23.942Z"
      },
      {
        "duration": 5,
        "start_time": "2022-08-04T05:40:35.405Z"
      },
      {
        "duration": 12,
        "start_time": "2022-08-04T05:41:08.396Z"
      },
      {
        "duration": 9,
        "start_time": "2022-08-04T05:41:41.620Z"
      },
      {
        "duration": 14,
        "start_time": "2022-08-04T05:41:46.263Z"
      },
      {
        "duration": 3,
        "start_time": "2022-08-04T05:44:12.162Z"
      },
      {
        "duration": 3,
        "start_time": "2022-08-04T05:45:12.641Z"
      },
      {
        "duration": 45,
        "start_time": "2022-08-05T10:27:50.296Z"
      },
      {
        "duration": 1485,
        "start_time": "2022-08-05T10:27:53.106Z"
      },
      {
        "duration": 109,
        "start_time": "2022-08-05T10:27:55.195Z"
      },
      {
        "duration": 12,
        "start_time": "2022-08-05T10:27:55.577Z"
      },
      {
        "duration": 11,
        "start_time": "2022-08-05T10:27:55.935Z"
      },
      {
        "duration": 22,
        "start_time": "2022-08-05T10:27:56.294Z"
      },
      {
        "duration": 3,
        "start_time": "2022-08-05T10:27:57.104Z"
      },
      {
        "duration": 70,
        "start_time": "2022-08-05T10:27:57.476Z"
      },
      {
        "duration": 6,
        "start_time": "2022-08-05T10:28:07.698Z"
      },
      {
        "duration": 12,
        "start_time": "2022-08-05T10:28:21.586Z"
      },
      {
        "duration": 3,
        "start_time": "2022-08-05T10:28:27.415Z"
      },
      {
        "duration": 11,
        "start_time": "2022-08-05T10:28:32.637Z"
      },
      {
        "duration": 4,
        "start_time": "2022-08-05T10:28:35.444Z"
      },
      {
        "duration": 4,
        "start_time": "2022-08-05T10:28:58.465Z"
      },
      {
        "duration": 13,
        "start_time": "2022-08-05T10:29:06.327Z"
      },
      {
        "duration": 4,
        "start_time": "2022-08-05T10:29:17.856Z"
      },
      {
        "duration": 7,
        "start_time": "2022-08-05T10:29:26.752Z"
      },
      {
        "duration": 5,
        "start_time": "2022-08-05T10:29:29.661Z"
      },
      {
        "duration": 4,
        "start_time": "2022-08-05T10:39:50.666Z"
      },
      {
        "duration": 4,
        "start_time": "2022-08-05T10:40:27.663Z"
      },
      {
        "duration": 4,
        "start_time": "2022-08-05T10:40:36.327Z"
      },
      {
        "duration": 8,
        "start_time": "2022-08-05T10:45:06.514Z"
      },
      {
        "duration": 2,
        "start_time": "2022-08-05T10:45:17.005Z"
      },
      {
        "duration": 7,
        "start_time": "2022-08-07T09:08:20.407Z"
      },
      {
        "duration": 41,
        "start_time": "2022-08-07T09:08:20.603Z"
      },
      {
        "duration": 1537,
        "start_time": "2022-08-07T09:08:24.888Z"
      },
      {
        "duration": 113,
        "start_time": "2022-08-07T09:08:26.427Z"
      },
      {
        "duration": 14,
        "start_time": "2022-08-07T09:08:26.541Z"
      },
      {
        "duration": 12,
        "start_time": "2022-08-07T09:08:26.557Z"
      },
      {
        "duration": 25,
        "start_time": "2022-08-07T09:08:26.571Z"
      },
      {
        "duration": 4,
        "start_time": "2022-08-07T09:08:26.632Z"
      },
      {
        "duration": 4,
        "start_time": "2022-08-07T09:08:26.795Z"
      },
      {
        "duration": 4,
        "start_time": "2022-08-07T09:08:26.987Z"
      },
      {
        "duration": 4,
        "start_time": "2022-08-07T09:08:27.347Z"
      },
      {
        "duration": 5,
        "start_time": "2022-08-07T09:08:27.553Z"
      },
      {
        "duration": 4,
        "start_time": "2022-08-07T09:08:27.972Z"
      },
      {
        "duration": 4,
        "start_time": "2022-08-07T09:08:28.125Z"
      },
      {
        "duration": 3,
        "start_time": "2022-08-07T09:08:28.283Z"
      },
      {
        "duration": 4,
        "start_time": "2022-08-07T09:08:28.528Z"
      },
      {
        "duration": 3,
        "start_time": "2022-08-07T09:08:29.707Z"
      },
      {
        "duration": 2,
        "start_time": "2022-08-07T09:08:30.037Z"
      },
      {
        "duration": 69,
        "start_time": "2022-08-07T09:08:44.782Z"
      },
      {
        "duration": 9,
        "start_time": "2022-08-07T09:08:47.440Z"
      },
      {
        "duration": 153,
        "start_time": "2022-08-07T09:08:57.753Z"
      },
      {
        "duration": 9,
        "start_time": "2022-08-07T09:09:07.991Z"
      },
      {
        "duration": 4,
        "start_time": "2022-08-07T09:10:28.092Z"
      },
      {
        "duration": 8,
        "start_time": "2022-08-07T09:10:28.519Z"
      },
      {
        "duration": 8,
        "start_time": "2022-08-07T09:10:32.778Z"
      },
      {
        "duration": 5,
        "start_time": "2022-08-07T09:10:44.170Z"
      },
      {
        "duration": 1642,
        "start_time": "2022-08-08T05:31:58.950Z"
      },
      {
        "duration": 84,
        "start_time": "2022-08-08T05:32:00.594Z"
      },
      {
        "duration": 14,
        "start_time": "2022-08-08T05:32:00.680Z"
      },
      {
        "duration": 13,
        "start_time": "2022-08-08T05:32:00.696Z"
      },
      {
        "duration": 24,
        "start_time": "2022-08-08T05:32:02.841Z"
      },
      {
        "duration": 4,
        "start_time": "2022-08-08T05:32:03.073Z"
      },
      {
        "duration": 5,
        "start_time": "2022-08-08T05:32:03.186Z"
      },
      {
        "duration": 4,
        "start_time": "2022-08-08T05:32:03.652Z"
      },
      {
        "duration": 5,
        "start_time": "2022-08-08T05:32:06.779Z"
      },
      {
        "duration": 113,
        "start_time": "2022-08-08T05:34:00.551Z"
      },
      {
        "duration": 3,
        "start_time": "2022-08-08T05:34:11.249Z"
      },
      {
        "duration": 9,
        "start_time": "2022-08-08T05:34:26.581Z"
      },
      {
        "duration": 5,
        "start_time": "2022-08-08T05:34:27.661Z"
      },
      {
        "duration": 5,
        "start_time": "2022-08-08T05:34:27.805Z"
      },
      {
        "duration": 5,
        "start_time": "2022-08-08T05:34:28.105Z"
      },
      {
        "duration": 5,
        "start_time": "2022-08-08T05:34:28.210Z"
      },
      {
        "duration": 7,
        "start_time": "2022-08-08T05:34:28.498Z"
      },
      {
        "duration": 41,
        "start_time": "2022-08-08T05:34:29.317Z"
      },
      {
        "duration": 4,
        "start_time": "2022-08-08T05:34:45.535Z"
      },
      {
        "duration": 28,
        "start_time": "2022-08-08T05:34:48.815Z"
      },
      {
        "duration": 351,
        "start_time": "2022-08-08T05:35:54.988Z"
      },
      {
        "duration": 0,
        "start_time": "2022-08-08T05:35:55.342Z"
      },
      {
        "duration": 4,
        "start_time": "2022-08-08T05:36:01.225Z"
      },
      {
        "duration": 2654,
        "start_time": "2022-08-08T05:36:01.394Z"
      },
      {
        "duration": 2424,
        "start_time": "2022-08-08T05:39:17.162Z"
      },
      {
        "duration": 2587,
        "start_time": "2022-08-08T05:39:23.675Z"
      },
      {
        "duration": 2493,
        "start_time": "2022-08-08T05:40:59.069Z"
      },
      {
        "duration": 10,
        "start_time": "2022-08-08T05:42:52.351Z"
      },
      {
        "duration": 9,
        "start_time": "2022-08-08T05:43:09.759Z"
      },
      {
        "duration": 3,
        "start_time": "2022-08-08T05:43:12.447Z"
      },
      {
        "duration": 3,
        "start_time": "2022-08-08T05:43:12.609Z"
      },
      {
        "duration": 3,
        "start_time": "2022-08-08T05:43:15.345Z"
      },
      {
        "duration": 3,
        "start_time": "2022-08-08T05:43:25.754Z"
      },
      {
        "duration": 3,
        "start_time": "2022-08-08T05:43:32.173Z"
      },
      {
        "duration": 5,
        "start_time": "2022-08-08T05:43:32.995Z"
      },
      {
        "duration": 82,
        "start_time": "2022-08-08T05:44:40.341Z"
      },
      {
        "duration": 15,
        "start_time": "2022-08-08T05:44:48.746Z"
      },
      {
        "duration": 2312,
        "start_time": "2022-08-08T05:45:32.949Z"
      },
      {
        "duration": 6,
        "start_time": "2022-08-08T05:45:38.017Z"
      },
      {
        "duration": 2406,
        "start_time": "2022-08-08T05:46:16.643Z"
      },
      {
        "duration": 6,
        "start_time": "2022-08-08T05:46:19.052Z"
      },
      {
        "duration": 2439,
        "start_time": "2022-08-08T05:47:27.505Z"
      },
      {
        "duration": 6,
        "start_time": "2022-08-08T05:47:29.946Z"
      },
      {
        "duration": 2490,
        "start_time": "2022-08-08T05:50:42.899Z"
      },
      {
        "duration": 4,
        "start_time": "2022-08-08T05:50:49.021Z"
      },
      {
        "duration": 3,
        "start_time": "2022-08-08T05:53:35.242Z"
      },
      {
        "duration": 4,
        "start_time": "2022-08-08T05:53:35.848Z"
      },
      {
        "duration": 2415,
        "start_time": "2022-08-08T05:53:55.627Z"
      },
      {
        "duration": 4,
        "start_time": "2022-08-08T05:54:03.049Z"
      },
      {
        "duration": 2349,
        "start_time": "2022-08-08T05:54:25.020Z"
      },
      {
        "duration": 4,
        "start_time": "2022-08-08T05:54:27.371Z"
      },
      {
        "duration": 4,
        "start_time": "2022-08-08T05:54:30.011Z"
      },
      {
        "duration": 2377,
        "start_time": "2022-08-08T05:54:46.540Z"
      },
      {
        "duration": 2,
        "start_time": "2022-08-08T05:54:55.989Z"
      },
      {
        "duration": 2286,
        "start_time": "2022-08-08T05:54:58.340Z"
      },
      {
        "duration": 5,
        "start_time": "2022-08-08T05:55:04.499Z"
      },
      {
        "duration": 82,
        "start_time": "2022-08-08T05:56:02.957Z"
      },
      {
        "duration": 115,
        "start_time": "2022-08-08T05:56:15.003Z"
      },
      {
        "duration": 2417,
        "start_time": "2022-08-08T05:56:45.951Z"
      },
      {
        "duration": 4,
        "start_time": "2022-08-08T05:56:48.370Z"
      },
      {
        "duration": 4,
        "start_time": "2022-08-08T05:56:50.583Z"
      },
      {
        "duration": 2,
        "start_time": "2022-08-08T05:57:04.088Z"
      },
      {
        "duration": 2556,
        "start_time": "2022-08-08T05:57:05.041Z"
      },
      {
        "duration": 3,
        "start_time": "2022-08-08T05:57:09.243Z"
      },
      {
        "duration": 2221,
        "start_time": "2022-08-08T05:58:32.267Z"
      },
      {
        "duration": 4,
        "start_time": "2022-08-08T05:58:34.490Z"
      },
      {
        "duration": 22,
        "start_time": "2022-08-08T05:58:34.496Z"
      },
      {
        "duration": 2408,
        "start_time": "2022-08-08T05:59:15.407Z"
      },
      {
        "duration": 4,
        "start_time": "2022-08-08T05:59:18.747Z"
      },
      {
        "duration": 5,
        "start_time": "2022-08-08T05:59:20.191Z"
      },
      {
        "duration": 2633,
        "start_time": "2022-08-08T06:06:34.418Z"
      },
      {
        "duration": 4,
        "start_time": "2022-08-08T06:06:42.570Z"
      },
      {
        "duration": 2443,
        "start_time": "2022-08-08T06:07:33.378Z"
      },
      {
        "duration": 4,
        "start_time": "2022-08-08T06:07:35.947Z"
      },
      {
        "duration": 2523,
        "start_time": "2022-08-08T06:08:19.345Z"
      },
      {
        "duration": 5,
        "start_time": "2022-08-08T06:08:21.870Z"
      },
      {
        "duration": 2448,
        "start_time": "2022-08-08T06:12:07.973Z"
      },
      {
        "duration": 4,
        "start_time": "2022-08-08T06:12:16.362Z"
      },
      {
        "duration": 2394,
        "start_time": "2022-08-08T06:12:57.093Z"
      },
      {
        "duration": 5,
        "start_time": "2022-08-08T06:13:03.029Z"
      },
      {
        "duration": 2369,
        "start_time": "2022-08-08T06:15:21.744Z"
      },
      {
        "duration": 4,
        "start_time": "2022-08-08T06:15:24.236Z"
      },
      {
        "duration": 27,
        "start_time": "2022-08-08T06:17:14.318Z"
      },
      {
        "duration": 2270,
        "start_time": "2022-08-08T06:17:40.989Z"
      },
      {
        "duration": 7,
        "start_time": "2022-08-08T06:17:43.261Z"
      },
      {
        "duration": 35,
        "start_time": "2022-08-08T06:20:17.141Z"
      },
      {
        "duration": 2592,
        "start_time": "2022-08-08T08:27:40.850Z"
      },
      {
        "duration": 5,
        "start_time": "2022-08-08T08:28:08.429Z"
      },
      {
        "duration": 2608,
        "start_time": "2022-08-08T08:28:39.046Z"
      },
      {
        "duration": 4,
        "start_time": "2022-08-08T08:28:44.247Z"
      },
      {
        "duration": 2594,
        "start_time": "2022-08-08T08:29:12.348Z"
      },
      {
        "duration": 27,
        "start_time": "2022-08-08T08:34:24.465Z"
      },
      {
        "duration": 30,
        "start_time": "2022-08-08T08:34:38.832Z"
      },
      {
        "duration": 358,
        "start_time": "2022-08-08T08:34:48.275Z"
      },
      {
        "duration": 5,
        "start_time": "2022-08-08T08:35:13.237Z"
      },
      {
        "duration": 55,
        "start_time": "2022-08-08T08:49:06.578Z"
      },
      {
        "duration": 394,
        "start_time": "2022-08-08T08:49:58.414Z"
      },
      {
        "duration": 5,
        "start_time": "2022-08-08T08:50:03.577Z"
      },
      {
        "duration": 368,
        "start_time": "2022-08-08T08:50:09.242Z"
      },
      {
        "duration": 4,
        "start_time": "2022-08-08T08:50:11.640Z"
      },
      {
        "duration": 313,
        "start_time": "2022-08-08T08:51:22.556Z"
      },
      {
        "duration": 4,
        "start_time": "2022-08-08T08:51:26.031Z"
      },
      {
        "duration": 282,
        "start_time": "2022-08-08T08:51:31.854Z"
      },
      {
        "duration": 381,
        "start_time": "2022-08-08T08:51:36.747Z"
      },
      {
        "duration": 325,
        "start_time": "2022-08-08T08:51:41.683Z"
      },
      {
        "duration": 432,
        "start_time": "2022-08-08T08:52:13.624Z"
      },
      {
        "duration": 5,
        "start_time": "2022-08-08T08:52:19.216Z"
      },
      {
        "duration": 356,
        "start_time": "2022-08-08T08:52:30.522Z"
      },
      {
        "duration": 5,
        "start_time": "2022-08-08T08:52:33.752Z"
      },
      {
        "duration": 317,
        "start_time": "2022-08-08T08:52:39.171Z"
      },
      {
        "duration": 394,
        "start_time": "2022-08-08T08:53:17.470Z"
      },
      {
        "duration": 5,
        "start_time": "2022-08-08T08:53:18.414Z"
      },
      {
        "duration": 5,
        "start_time": "2022-08-08T08:53:29.955Z"
      },
      {
        "duration": 70,
        "start_time": "2022-08-08T14:20:50.179Z"
      },
      {
        "duration": 15,
        "start_time": "2022-08-08T14:21:34.504Z"
      },
      {
        "duration": 14,
        "start_time": "2022-08-08T14:21:51.215Z"
      },
      {
        "duration": 13,
        "start_time": "2022-08-08T14:21:54.615Z"
      },
      {
        "duration": 1903,
        "start_time": "2022-08-08T14:22:03.222Z"
      },
      {
        "duration": 74,
        "start_time": "2022-08-08T14:22:05.129Z"
      },
      {
        "duration": 23,
        "start_time": "2022-08-08T14:22:05.206Z"
      },
      {
        "duration": 16,
        "start_time": "2022-08-08T14:22:05.232Z"
      },
      {
        "duration": 46,
        "start_time": "2022-08-08T14:22:05.250Z"
      },
      {
        "duration": 4,
        "start_time": "2022-08-08T14:22:05.298Z"
      },
      {
        "duration": 10,
        "start_time": "2022-08-08T14:22:05.304Z"
      },
      {
        "duration": 10,
        "start_time": "2022-08-08T14:22:05.316Z"
      },
      {
        "duration": 8,
        "start_time": "2022-08-08T14:22:05.328Z"
      },
      {
        "duration": 14,
        "start_time": "2022-08-08T14:22:05.340Z"
      },
      {
        "duration": 8,
        "start_time": "2022-08-08T14:22:05.356Z"
      },
      {
        "duration": 35,
        "start_time": "2022-08-08T14:22:05.365Z"
      },
      {
        "duration": 9,
        "start_time": "2022-08-08T14:22:05.402Z"
      },
      {
        "duration": 11,
        "start_time": "2022-08-08T14:22:05.413Z"
      },
      {
        "duration": 15,
        "start_time": "2022-08-08T14:22:05.426Z"
      },
      {
        "duration": 144,
        "start_time": "2022-08-08T14:22:05.443Z"
      },
      {
        "duration": 0,
        "start_time": "2022-08-08T14:22:05.589Z"
      },
      {
        "duration": 0,
        "start_time": "2022-08-08T14:22:05.591Z"
      },
      {
        "duration": 0,
        "start_time": "2022-08-08T14:22:05.592Z"
      },
      {
        "duration": 0,
        "start_time": "2022-08-08T14:22:05.594Z"
      },
      {
        "duration": 0,
        "start_time": "2022-08-08T14:22:05.596Z"
      },
      {
        "duration": 0,
        "start_time": "2022-08-08T14:22:05.597Z"
      },
      {
        "duration": 0,
        "start_time": "2022-08-08T14:22:05.598Z"
      },
      {
        "duration": 3104,
        "start_time": "2022-08-08T15:09:23.661Z"
      },
      {
        "duration": 3138,
        "start_time": "2022-08-08T15:19:53.857Z"
      },
      {
        "duration": 2550,
        "start_time": "2022-08-08T15:20:19.019Z"
      },
      {
        "duration": 4,
        "start_time": "2022-08-08T15:20:54.968Z"
      },
      {
        "duration": 5,
        "start_time": "2022-08-08T15:21:01.735Z"
      },
      {
        "duration": 3157,
        "start_time": "2022-08-08T15:21:06.369Z"
      },
      {
        "duration": 5,
        "start_time": "2022-08-08T15:21:09.528Z"
      },
      {
        "duration": 3261,
        "start_time": "2022-08-08T15:21:46.702Z"
      },
      {
        "duration": 4,
        "start_time": "2022-08-08T15:21:51.170Z"
      },
      {
        "duration": 1452,
        "start_time": "2022-08-08T16:53:00.499Z"
      },
      {
        "duration": 41,
        "start_time": "2022-08-08T16:53:01.953Z"
      },
      {
        "duration": 18,
        "start_time": "2022-08-08T16:53:01.999Z"
      },
      {
        "duration": 36,
        "start_time": "2022-08-08T16:53:02.023Z"
      },
      {
        "duration": 46,
        "start_time": "2022-08-08T16:53:02.061Z"
      },
      {
        "duration": 5,
        "start_time": "2022-08-08T16:53:02.109Z"
      },
      {
        "duration": 20,
        "start_time": "2022-08-08T16:53:02.116Z"
      },
      {
        "duration": 33,
        "start_time": "2022-08-08T16:53:02.138Z"
      },
      {
        "duration": 11,
        "start_time": "2022-08-08T16:53:02.173Z"
      },
      {
        "duration": 16,
        "start_time": "2022-08-08T16:53:02.186Z"
      },
      {
        "duration": 9,
        "start_time": "2022-08-08T16:53:02.204Z"
      },
      {
        "duration": 16,
        "start_time": "2022-08-08T16:53:02.215Z"
      },
      {
        "duration": 14,
        "start_time": "2022-08-08T16:53:02.234Z"
      },
      {
        "duration": 17,
        "start_time": "2022-08-08T16:53:02.250Z"
      },
      {
        "duration": 8,
        "start_time": "2022-08-08T16:53:02.269Z"
      },
      {
        "duration": 3150,
        "start_time": "2022-08-08T16:53:02.280Z"
      },
      {
        "duration": 5,
        "start_time": "2022-08-08T16:53:05.432Z"
      },
      {
        "duration": 2559,
        "start_time": "2022-08-08T16:53:05.438Z"
      },
      {
        "duration": 13,
        "start_time": "2022-08-08T16:53:07.999Z"
      },
      {
        "duration": 13,
        "start_time": "2022-08-08T16:53:08.015Z"
      },
      {
        "duration": 11,
        "start_time": "2022-08-08T16:53:08.030Z"
      },
      {
        "duration": 385,
        "start_time": "2022-08-08T16:53:08.043Z"
      },
      {
        "duration": 4,
        "start_time": "2022-08-08T16:53:08.430Z"
      },
      {
        "duration": 11,
        "start_time": "2022-08-08T16:53:08.436Z"
      },
      {
        "duration": 1436,
        "start_time": "2022-08-08T19:42:06.440Z"
      },
      {
        "duration": 104,
        "start_time": "2022-08-08T19:42:07.878Z"
      },
      {
        "duration": 13,
        "start_time": "2022-08-08T19:42:07.983Z"
      },
      {
        "duration": 11,
        "start_time": "2022-08-08T19:42:07.997Z"
      },
      {
        "duration": 22,
        "start_time": "2022-08-08T19:42:08.010Z"
      },
      {
        "duration": 3,
        "start_time": "2022-08-08T19:42:08.034Z"
      },
      {
        "duration": 7,
        "start_time": "2022-08-08T19:42:08.038Z"
      },
      {
        "duration": 4,
        "start_time": "2022-08-08T19:42:08.047Z"
      },
      {
        "duration": 4,
        "start_time": "2022-08-08T19:42:08.053Z"
      },
      {
        "duration": 7,
        "start_time": "2022-08-08T19:42:08.058Z"
      },
      {
        "duration": 4,
        "start_time": "2022-08-08T19:42:08.066Z"
      },
      {
        "duration": 5,
        "start_time": "2022-08-08T19:42:08.072Z"
      },
      {
        "duration": 7,
        "start_time": "2022-08-08T19:42:08.079Z"
      },
      {
        "duration": 3,
        "start_time": "2022-08-08T19:42:08.112Z"
      },
      {
        "duration": 2287,
        "start_time": "2022-08-08T19:42:08.117Z"
      },
      {
        "duration": 6,
        "start_time": "2022-08-08T19:42:10.405Z"
      },
      {
        "duration": 2230,
        "start_time": "2022-08-08T19:42:10.413Z"
      },
      {
        "duration": 4,
        "start_time": "2022-08-08T19:42:12.645Z"
      },
      {
        "duration": 10,
        "start_time": "2022-08-08T19:42:12.651Z"
      },
      {
        "duration": 367,
        "start_time": "2022-08-08T19:42:12.662Z"
      },
      {
        "duration": 4,
        "start_time": "2022-08-08T19:42:13.030Z"
      },
      {
        "duration": 70,
        "start_time": "2022-08-08T19:42:13.035Z"
      },
      {
        "duration": 0,
        "start_time": "2022-08-08T19:42:13.107Z"
      },
      {
        "duration": 0,
        "start_time": "2022-08-08T19:42:13.108Z"
      },
      {
        "duration": 0,
        "start_time": "2022-08-08T19:42:13.109Z"
      },
      {
        "duration": 0,
        "start_time": "2022-08-08T19:42:13.110Z"
      },
      {
        "duration": 0,
        "start_time": "2022-08-08T19:42:13.111Z"
      },
      {
        "duration": 112,
        "start_time": "2022-08-08T19:42:25.434Z"
      },
      {
        "duration": 39,
        "start_time": "2022-08-08T19:42:32.849Z"
      },
      {
        "duration": 38,
        "start_time": "2022-08-08T19:42:54.052Z"
      },
      {
        "duration": 4,
        "start_time": "2022-08-08T19:42:55.425Z"
      },
      {
        "duration": 3,
        "start_time": "2022-08-08T19:42:55.948Z"
      },
      {
        "duration": 3,
        "start_time": "2022-08-08T19:42:56.726Z"
      },
      {
        "duration": 61,
        "start_time": "2022-08-08T19:42:56.848Z"
      },
      {
        "duration": 5,
        "start_time": "2022-08-08T19:48:38.496Z"
      },
      {
        "duration": 5,
        "start_time": "2022-08-08T19:48:57.803Z"
      },
      {
        "duration": 28,
        "start_time": "2022-08-08T19:55:02.813Z"
      },
      {
        "duration": 2291,
        "start_time": "2022-08-08T19:55:43.293Z"
      },
      {
        "duration": 2226,
        "start_time": "2022-08-08T19:56:11.712Z"
      },
      {
        "duration": 2266,
        "start_time": "2022-08-08T19:56:24.657Z"
      },
      {
        "duration": 3340,
        "start_time": "2022-08-08T19:56:41.865Z"
      },
      {
        "duration": 7,
        "start_time": "2022-08-08T19:57:02.241Z"
      },
      {
        "duration": 4,
        "start_time": "2022-08-08T19:57:03.435Z"
      },
      {
        "duration": 4,
        "start_time": "2022-08-08T19:57:04.209Z"
      },
      {
        "duration": 3,
        "start_time": "2022-08-08T19:57:04.673Z"
      },
      {
        "duration": 3,
        "start_time": "2022-08-08T19:57:04.839Z"
      },
      {
        "duration": 3268,
        "start_time": "2022-08-08T19:57:11.716Z"
      },
      {
        "duration": 2,
        "start_time": "2022-08-08T19:57:57.996Z"
      },
      {
        "duration": 3260,
        "start_time": "2022-08-08T19:58:02.457Z"
      },
      {
        "duration": 2236,
        "start_time": "2022-08-08T19:58:28.705Z"
      },
      {
        "duration": 3130,
        "start_time": "2022-08-08T19:58:53.323Z"
      },
      {
        "duration": 2300,
        "start_time": "2022-08-08T19:59:09.042Z"
      },
      {
        "duration": 2288,
        "start_time": "2022-08-08T19:59:17.980Z"
      },
      {
        "duration": 3,
        "start_time": "2022-08-08T19:59:20.864Z"
      },
      {
        "duration": 20,
        "start_time": "2022-08-08T19:59:43.970Z"
      },
      {
        "duration": 3,
        "start_time": "2022-08-08T19:59:44.380Z"
      },
      {
        "duration": 4,
        "start_time": "2022-08-08T19:59:45.150Z"
      },
      {
        "duration": 350,
        "start_time": "2022-08-08T20:00:01.967Z"
      },
      {
        "duration": 5,
        "start_time": "2022-08-08T20:01:47.409Z"
      },
      {
        "duration": 6,
        "start_time": "2022-08-08T20:01:48.262Z"
      },
      {
        "duration": 3,
        "start_time": "2022-08-08T20:04:28.047Z"
      },
      {
        "duration": 14,
        "start_time": "2022-08-08T20:05:11.091Z"
      },
      {
        "duration": 9,
        "start_time": "2022-08-08T20:05:18.742Z"
      },
      {
        "duration": 3,
        "start_time": "2022-08-08T20:05:58.464Z"
      },
      {
        "duration": 10,
        "start_time": "2022-08-08T20:05:58.914Z"
      },
      {
        "duration": 21,
        "start_time": "2022-08-08T20:06:16.145Z"
      },
      {
        "duration": 15,
        "start_time": "2022-08-08T20:06:18.728Z"
      },
      {
        "duration": 36,
        "start_time": "2022-08-08T20:06:23.598Z"
      },
      {
        "duration": 4,
        "start_time": "2022-08-08T20:06:25.667Z"
      },
      {
        "duration": 12,
        "start_time": "2022-08-08T20:06:27.842Z"
      },
      {
        "duration": 1408,
        "start_time": "2022-08-09T06:33:57.453Z"
      },
      {
        "duration": 3,
        "start_time": "2022-08-09T06:33:58.864Z"
      },
      {
        "duration": 110,
        "start_time": "2022-08-09T06:33:58.868Z"
      },
      {
        "duration": 13,
        "start_time": "2022-08-09T06:33:58.979Z"
      },
      {
        "duration": 11,
        "start_time": "2022-08-09T06:33:58.995Z"
      },
      {
        "duration": 23,
        "start_time": "2022-08-09T06:33:59.007Z"
      },
      {
        "duration": 3,
        "start_time": "2022-08-09T06:33:59.032Z"
      },
      {
        "duration": 7,
        "start_time": "2022-08-09T06:33:59.037Z"
      },
      {
        "duration": 8,
        "start_time": "2022-08-09T06:33:59.046Z"
      },
      {
        "duration": 4,
        "start_time": "2022-08-09T06:33:59.056Z"
      },
      {
        "duration": 9,
        "start_time": "2022-08-09T06:33:59.062Z"
      },
      {
        "duration": 3,
        "start_time": "2022-08-09T06:33:59.073Z"
      },
      {
        "duration": 6,
        "start_time": "2022-08-09T06:33:59.078Z"
      },
      {
        "duration": 4,
        "start_time": "2022-08-09T06:33:59.108Z"
      },
      {
        "duration": 6,
        "start_time": "2022-08-09T06:33:59.113Z"
      },
      {
        "duration": 2751,
        "start_time": "2022-08-09T06:33:59.120Z"
      },
      {
        "duration": 5,
        "start_time": "2022-08-09T06:34:01.872Z"
      },
      {
        "duration": 2302,
        "start_time": "2022-08-09T06:34:01.879Z"
      },
      {
        "duration": 4,
        "start_time": "2022-08-09T06:34:04.183Z"
      },
      {
        "duration": 21,
        "start_time": "2022-08-09T06:34:04.188Z"
      },
      {
        "duration": 350,
        "start_time": "2022-08-09T06:34:04.210Z"
      },
      {
        "duration": 4,
        "start_time": "2022-08-09T06:34:04.562Z"
      },
      {
        "duration": 6,
        "start_time": "2022-08-09T06:34:04.568Z"
      },
      {
        "duration": 51,
        "start_time": "2022-08-09T06:34:04.575Z"
      },
      {
        "duration": 4,
        "start_time": "2022-08-09T06:34:04.627Z"
      },
      {
        "duration": 6,
        "start_time": "2022-08-09T06:34:04.633Z"
      },
      {
        "duration": 5,
        "start_time": "2022-08-09T06:34:04.641Z"
      },
      {
        "duration": 4,
        "start_time": "2022-08-09T06:34:04.647Z"
      },
      {
        "duration": 5,
        "start_time": "2022-08-09T06:34:04.653Z"
      },
      {
        "duration": 143,
        "start_time": "2022-08-09T06:34:04.660Z"
      },
      {
        "duration": 0,
        "start_time": "2022-08-09T06:34:04.809Z"
      },
      {
        "duration": 0,
        "start_time": "2022-08-09T06:34:04.810Z"
      },
      {
        "duration": 5,
        "start_time": "2022-08-09T06:41:10.261Z"
      },
      {
        "duration": 23,
        "start_time": "2022-08-09T06:41:14.784Z"
      },
      {
        "duration": 30,
        "start_time": "2022-08-09T06:44:29.765Z"
      },
      {
        "duration": 4,
        "start_time": "2022-08-09T06:44:30.041Z"
      },
      {
        "duration": 4,
        "start_time": "2022-08-09T06:44:30.417Z"
      },
      {
        "duration": 368,
        "start_time": "2022-08-09T06:44:58.107Z"
      },
      {
        "duration": 4,
        "start_time": "2022-08-09T06:44:58.905Z"
      },
      {
        "duration": 397,
        "start_time": "2022-08-09T06:45:15.806Z"
      },
      {
        "duration": 3,
        "start_time": "2022-08-09T06:45:18.637Z"
      },
      {
        "duration": 372,
        "start_time": "2022-08-09T06:45:27.899Z"
      },
      {
        "duration": 362,
        "start_time": "2022-08-09T06:45:35.989Z"
      },
      {
        "duration": 354,
        "start_time": "2022-08-09T06:49:13.768Z"
      },
      {
        "duration": 4,
        "start_time": "2022-08-09T06:49:14.124Z"
      },
      {
        "duration": 1614,
        "start_time": "2022-08-09T12:48:26.533Z"
      },
      {
        "duration": 3,
        "start_time": "2022-08-09T12:48:28.149Z"
      },
      {
        "duration": 74,
        "start_time": "2022-08-09T12:48:28.153Z"
      },
      {
        "duration": 15,
        "start_time": "2022-08-09T12:48:28.229Z"
      },
      {
        "duration": 21,
        "start_time": "2022-08-09T12:48:28.246Z"
      },
      {
        "duration": 32,
        "start_time": "2022-08-09T12:48:28.269Z"
      },
      {
        "duration": 8,
        "start_time": "2022-08-09T12:48:28.302Z"
      },
      {
        "duration": 20,
        "start_time": "2022-08-09T12:48:28.311Z"
      },
      {
        "duration": 22,
        "start_time": "2022-08-09T12:48:28.333Z"
      },
      {
        "duration": 12,
        "start_time": "2022-08-09T12:48:28.358Z"
      },
      {
        "duration": 25,
        "start_time": "2022-08-09T12:48:28.372Z"
      },
      {
        "duration": 21,
        "start_time": "2022-08-09T12:48:28.399Z"
      },
      {
        "duration": 20,
        "start_time": "2022-08-09T12:48:28.422Z"
      },
      {
        "duration": 19,
        "start_time": "2022-08-09T12:48:28.444Z"
      },
      {
        "duration": 19,
        "start_time": "2022-08-09T12:48:28.466Z"
      },
      {
        "duration": 3340,
        "start_time": "2022-08-09T12:48:28.487Z"
      },
      {
        "duration": 5,
        "start_time": "2022-08-09T12:48:31.830Z"
      },
      {
        "duration": 2624,
        "start_time": "2022-08-09T12:48:31.837Z"
      },
      {
        "duration": 4,
        "start_time": "2022-08-09T12:48:34.462Z"
      },
      {
        "duration": 8,
        "start_time": "2022-08-09T12:48:34.468Z"
      },
      {
        "duration": 410,
        "start_time": "2022-08-09T12:48:34.478Z"
      },
      {
        "duration": 4,
        "start_time": "2022-08-09T12:48:34.891Z"
      },
      {
        "duration": 6,
        "start_time": "2022-08-09T12:48:34.897Z"
      },
      {
        "duration": 39,
        "start_time": "2022-08-09T12:48:34.904Z"
      },
      {
        "duration": 5,
        "start_time": "2022-08-09T12:48:34.945Z"
      },
      {
        "duration": 7,
        "start_time": "2022-08-09T12:48:34.953Z"
      },
      {
        "duration": 9,
        "start_time": "2022-08-09T12:48:34.962Z"
      },
      {
        "duration": 9,
        "start_time": "2022-08-09T12:48:34.994Z"
      },
      {
        "duration": 31,
        "start_time": "2022-08-09T12:48:35.005Z"
      },
      {
        "duration": 1582,
        "start_time": "2022-08-10T06:53:04.912Z"
      },
      {
        "duration": 3,
        "start_time": "2022-08-10T06:53:06.496Z"
      },
      {
        "duration": 130,
        "start_time": "2022-08-10T06:53:06.501Z"
      },
      {
        "duration": 14,
        "start_time": "2022-08-10T06:53:06.633Z"
      },
      {
        "duration": 11,
        "start_time": "2022-08-10T06:53:06.649Z"
      },
      {
        "duration": 24,
        "start_time": "2022-08-10T06:53:06.662Z"
      },
      {
        "duration": 4,
        "start_time": "2022-08-10T06:53:06.688Z"
      },
      {
        "duration": 6,
        "start_time": "2022-08-10T06:53:06.694Z"
      },
      {
        "duration": 6,
        "start_time": "2022-08-10T06:53:06.701Z"
      },
      {
        "duration": 2,
        "start_time": "2022-08-10T06:53:06.710Z"
      },
      {
        "duration": 12,
        "start_time": "2022-08-10T06:53:06.713Z"
      },
      {
        "duration": 5,
        "start_time": "2022-08-10T06:53:06.726Z"
      },
      {
        "duration": 8,
        "start_time": "2022-08-10T06:53:06.732Z"
      },
      {
        "duration": 7,
        "start_time": "2022-08-10T06:53:06.741Z"
      },
      {
        "duration": 5,
        "start_time": "2022-08-10T06:53:06.750Z"
      },
      {
        "duration": 2455,
        "start_time": "2022-08-10T06:53:06.757Z"
      },
      {
        "duration": 4,
        "start_time": "2022-08-10T06:53:09.214Z"
      },
      {
        "duration": 2634,
        "start_time": "2022-08-10T06:53:09.220Z"
      },
      {
        "duration": 4,
        "start_time": "2022-08-10T06:53:11.856Z"
      },
      {
        "duration": 9,
        "start_time": "2022-08-10T06:53:11.861Z"
      },
      {
        "duration": 423,
        "start_time": "2022-08-10T06:53:11.871Z"
      },
      {
        "duration": 5,
        "start_time": "2022-08-10T06:53:12.296Z"
      },
      {
        "duration": 16,
        "start_time": "2022-08-10T06:53:12.302Z"
      },
      {
        "duration": 51,
        "start_time": "2022-08-10T06:53:12.320Z"
      },
      {
        "duration": 4,
        "start_time": "2022-08-10T06:53:12.373Z"
      },
      {
        "duration": 20,
        "start_time": "2022-08-10T06:53:12.378Z"
      },
      {
        "duration": 5,
        "start_time": "2022-08-10T06:53:12.400Z"
      },
      {
        "duration": 12,
        "start_time": "2022-08-10T06:53:12.409Z"
      },
      {
        "duration": 40,
        "start_time": "2022-08-10T06:53:12.423Z"
      },
      {
        "duration": 4,
        "start_time": "2022-08-10T06:53:34.889Z"
      },
      {
        "duration": 37,
        "start_time": "2022-08-10T06:53:49.471Z"
      },
      {
        "duration": 5,
        "start_time": "2022-08-10T06:53:52.368Z"
      },
      {
        "duration": 23,
        "start_time": "2022-08-10T06:53:53.073Z"
      },
      {
        "duration": 21,
        "start_time": "2022-08-10T06:55:02.989Z"
      },
      {
        "duration": 5,
        "start_time": "2022-08-10T06:55:34.828Z"
      },
      {
        "duration": 4,
        "start_time": "2022-08-10T06:55:52.872Z"
      },
      {
        "duration": 6,
        "start_time": "2022-08-10T06:55:55.756Z"
      },
      {
        "duration": 6,
        "start_time": "2022-08-10T06:56:52.927Z"
      },
      {
        "duration": 37,
        "start_time": "2022-08-10T06:57:22.890Z"
      },
      {
        "duration": 3,
        "start_time": "2022-08-10T06:57:23.093Z"
      },
      {
        "duration": 5,
        "start_time": "2022-08-10T06:57:23.533Z"
      },
      {
        "duration": 388,
        "start_time": "2022-08-10T06:57:58.330Z"
      },
      {
        "duration": 384,
        "start_time": "2022-08-10T06:58:43.846Z"
      },
      {
        "duration": 4,
        "start_time": "2022-08-10T06:58:44.769Z"
      },
      {
        "duration": 393,
        "start_time": "2022-08-10T06:58:52.508Z"
      },
      {
        "duration": 31,
        "start_time": "2022-08-10T06:59:06.213Z"
      },
      {
        "duration": 28,
        "start_time": "2022-08-10T06:59:12.094Z"
      },
      {
        "duration": 5,
        "start_time": "2022-08-10T06:59:12.525Z"
      },
      {
        "duration": 5,
        "start_time": "2022-08-10T06:59:13.084Z"
      },
      {
        "duration": 5,
        "start_time": "2022-08-10T06:59:21.436Z"
      },
      {
        "duration": 2452,
        "start_time": "2022-08-10T07:00:21.957Z"
      },
      {
        "duration": 5,
        "start_time": "2022-08-10T07:00:24.411Z"
      },
      {
        "duration": 2462,
        "start_time": "2022-08-10T07:01:34.246Z"
      },
      {
        "duration": 3,
        "start_time": "2022-08-10T07:03:05.368Z"
      },
      {
        "duration": 2410,
        "start_time": "2022-08-10T07:03:08.493Z"
      },
      {
        "duration": 4,
        "start_time": "2022-08-10T07:03:10.905Z"
      },
      {
        "duration": 5,
        "start_time": "2022-08-10T07:04:29.328Z"
      },
      {
        "duration": 20,
        "start_time": "2022-08-10T07:04:31.211Z"
      },
      {
        "duration": 22,
        "start_time": "2022-08-10T07:06:16.128Z"
      },
      {
        "duration": 2416,
        "start_time": "2022-08-10T07:42:46.061Z"
      },
      {
        "duration": 4,
        "start_time": "2022-08-10T07:42:53.356Z"
      },
      {
        "duration": 4,
        "start_time": "2022-08-10T07:45:30.354Z"
      },
      {
        "duration": 2593,
        "start_time": "2022-08-10T07:45:33.567Z"
      },
      {
        "duration": 4,
        "start_time": "2022-08-10T07:45:38.726Z"
      },
      {
        "duration": 4,
        "start_time": "2022-08-10T07:45:45.353Z"
      },
      {
        "duration": 2476,
        "start_time": "2022-08-10T07:45:49.013Z"
      },
      {
        "duration": 12,
        "start_time": "2022-08-10T07:51:46.570Z"
      },
      {
        "duration": 123,
        "start_time": "2022-08-10T07:53:58.124Z"
      },
      {
        "duration": 4,
        "start_time": "2022-08-10T07:54:01.126Z"
      },
      {
        "duration": 4,
        "start_time": "2022-08-10T07:54:08.721Z"
      },
      {
        "duration": 4,
        "start_time": "2022-08-10T07:54:29.372Z"
      },
      {
        "duration": 5,
        "start_time": "2022-08-10T07:54:32.313Z"
      },
      {
        "duration": 8,
        "start_time": "2022-08-10T07:54:46.688Z"
      },
      {
        "duration": 4,
        "start_time": "2022-08-10T08:04:31.484Z"
      },
      {
        "duration": 12,
        "start_time": "2022-08-10T08:04:47.616Z"
      },
      {
        "duration": 4,
        "start_time": "2022-08-10T08:04:56.895Z"
      },
      {
        "duration": 3,
        "start_time": "2022-08-10T08:05:20.367Z"
      },
      {
        "duration": 4,
        "start_time": "2022-08-10T08:05:28.515Z"
      },
      {
        "duration": 4,
        "start_time": "2022-08-10T08:05:45.129Z"
      },
      {
        "duration": 49,
        "start_time": "2022-08-10T08:17:01.658Z"
      },
      {
        "duration": 12,
        "start_time": "2022-08-10T08:17:06.188Z"
      },
      {
        "duration": 11,
        "start_time": "2022-08-10T08:17:18.978Z"
      },
      {
        "duration": 12,
        "start_time": "2022-08-10T08:17:26.418Z"
      },
      {
        "duration": 14,
        "start_time": "2022-08-10T08:17:38.675Z"
      },
      {
        "duration": 14,
        "start_time": "2022-08-10T08:17:41.587Z"
      },
      {
        "duration": 13,
        "start_time": "2022-08-10T08:17:51.595Z"
      },
      {
        "duration": 12,
        "start_time": "2022-08-10T08:17:58.258Z"
      },
      {
        "duration": 11,
        "start_time": "2022-08-10T08:18:09.679Z"
      },
      {
        "duration": 65858,
        "start_time": "2022-08-10T08:18:43.527Z"
      },
      {
        "duration": 4,
        "start_time": "2022-08-10T08:20:37.081Z"
      },
      {
        "duration": 11,
        "start_time": "2022-08-10T08:21:50.682Z"
      },
      {
        "duration": 17,
        "start_time": "2022-08-10T08:21:54.422Z"
      },
      {
        "duration": 10,
        "start_time": "2022-08-10T08:21:54.601Z"
      },
      {
        "duration": 90,
        "start_time": "2022-08-10T08:22:20.482Z"
      },
      {
        "duration": 7,
        "start_time": "2022-08-10T08:22:20.664Z"
      },
      {
        "duration": 21,
        "start_time": "2022-08-10T08:22:22.034Z"
      },
      {
        "duration": 146,
        "start_time": "2022-08-10T08:22:44.016Z"
      },
      {
        "duration": 6,
        "start_time": "2022-08-10T08:22:46.385Z"
      },
      {
        "duration": 25,
        "start_time": "2022-08-10T08:22:46.393Z"
      },
      {
        "duration": 99,
        "start_time": "2022-08-10T08:22:51.719Z"
      },
      {
        "duration": 8,
        "start_time": "2022-08-10T08:22:52.485Z"
      },
      {
        "duration": 25,
        "start_time": "2022-08-10T08:22:52.962Z"
      },
      {
        "duration": 101,
        "start_time": "2022-08-10T08:23:09.610Z"
      },
      {
        "duration": 7,
        "start_time": "2022-08-10T08:23:10.642Z"
      },
      {
        "duration": 15,
        "start_time": "2022-08-10T08:23:11.847Z"
      },
      {
        "duration": 104,
        "start_time": "2022-08-10T08:23:18.259Z"
      },
      {
        "duration": 6,
        "start_time": "2022-08-10T08:23:18.819Z"
      },
      {
        "duration": 27,
        "start_time": "2022-08-10T08:23:19.385Z"
      },
      {
        "duration": 81,
        "start_time": "2022-08-10T08:23:25.737Z"
      },
      {
        "duration": 6,
        "start_time": "2022-08-10T08:23:26.319Z"
      },
      {
        "duration": 24,
        "start_time": "2022-08-10T08:23:26.698Z"
      },
      {
        "duration": 4,
        "start_time": "2022-08-10T08:26:30.848Z"
      },
      {
        "duration": 3,
        "start_time": "2022-08-10T08:30:39.260Z"
      },
      {
        "duration": 3,
        "start_time": "2022-08-10T08:31:59.387Z"
      },
      {
        "duration": 11,
        "start_time": "2022-08-10T08:32:05.331Z"
      },
      {
        "duration": 5,
        "start_time": "2022-08-10T08:32:21.915Z"
      },
      {
        "duration": 6,
        "start_time": "2022-08-10T08:32:28.672Z"
      },
      {
        "duration": 3,
        "start_time": "2022-08-10T08:32:40.671Z"
      },
      {
        "duration": 4,
        "start_time": "2022-08-10T08:32:50.117Z"
      },
      {
        "duration": 4,
        "start_time": "2022-08-10T08:33:00.011Z"
      },
      {
        "duration": 5,
        "start_time": "2022-08-10T08:33:45.037Z"
      },
      {
        "duration": 70,
        "start_time": "2022-08-10T09:50:22.921Z"
      },
      {
        "duration": 5,
        "start_time": "2022-08-10T09:50:46.166Z"
      },
      {
        "duration": 4,
        "start_time": "2022-08-10T09:51:59.076Z"
      },
      {
        "duration": 3,
        "start_time": "2022-08-10T09:52:28.850Z"
      },
      {
        "duration": 4,
        "start_time": "2022-08-10T09:53:51.179Z"
      },
      {
        "duration": 3,
        "start_time": "2022-08-10T09:54:24.561Z"
      },
      {
        "duration": 8,
        "start_time": "2022-08-10T09:56:34.716Z"
      },
      {
        "duration": 3,
        "start_time": "2022-08-10T09:57:45.455Z"
      },
      {
        "duration": 4,
        "start_time": "2022-08-10T09:57:56.128Z"
      },
      {
        "duration": 2,
        "start_time": "2022-08-10T09:57:57.017Z"
      },
      {
        "duration": 6,
        "start_time": "2022-08-10T09:57:57.287Z"
      },
      {
        "duration": 4,
        "start_time": "2022-08-10T09:58:34.775Z"
      },
      {
        "duration": 4,
        "start_time": "2022-08-10T09:58:43.611Z"
      },
      {
        "duration": 3,
        "start_time": "2022-08-10T09:58:44.327Z"
      },
      {
        "duration": 8,
        "start_time": "2022-08-10T09:58:44.494Z"
      },
      {
        "duration": 4,
        "start_time": "2022-08-10T09:58:49.513Z"
      },
      {
        "duration": 3,
        "start_time": "2022-08-10T09:58:50.041Z"
      },
      {
        "duration": 6,
        "start_time": "2022-08-10T09:58:50.201Z"
      },
      {
        "duration": 4,
        "start_time": "2022-08-10T10:01:18.353Z"
      },
      {
        "duration": 2,
        "start_time": "2022-08-10T10:01:20.909Z"
      },
      {
        "duration": 13,
        "start_time": "2022-08-10T10:01:22.271Z"
      },
      {
        "duration": 5,
        "start_time": "2022-08-10T10:01:29.337Z"
      },
      {
        "duration": 2,
        "start_time": "2022-08-10T10:01:29.949Z"
      },
      {
        "duration": 6,
        "start_time": "2022-08-10T10:01:30.121Z"
      },
      {
        "duration": 4,
        "start_time": "2022-08-10T10:01:40.712Z"
      },
      {
        "duration": 2455,
        "start_time": "2022-08-10T10:15:07.807Z"
      },
      {
        "duration": 4,
        "start_time": "2022-08-10T10:15:37.507Z"
      },
      {
        "duration": 2369,
        "start_time": "2022-08-10T10:15:40.157Z"
      },
      {
        "duration": 3,
        "start_time": "2022-08-10T10:15:42.528Z"
      },
      {
        "duration": 4,
        "start_time": "2022-08-10T10:16:23.578Z"
      },
      {
        "duration": 4,
        "start_time": "2022-08-10T10:16:36.074Z"
      },
      {
        "duration": 2457,
        "start_time": "2022-08-10T10:16:59.419Z"
      },
      {
        "duration": 90,
        "start_time": "2022-08-10T10:18:25.555Z"
      },
      {
        "duration": 6,
        "start_time": "2022-08-10T10:18:26.046Z"
      },
      {
        "duration": 16,
        "start_time": "2022-08-10T10:18:26.394Z"
      },
      {
        "duration": 98,
        "start_time": "2022-08-10T10:18:34.236Z"
      },
      {
        "duration": 7,
        "start_time": "2022-08-10T10:18:34.527Z"
      },
      {
        "duration": 19,
        "start_time": "2022-08-10T10:18:34.885Z"
      },
      {
        "duration": 100,
        "start_time": "2022-08-10T10:18:39.113Z"
      },
      {
        "duration": 6,
        "start_time": "2022-08-10T10:18:39.351Z"
      },
      {
        "duration": 24,
        "start_time": "2022-08-10T10:18:39.602Z"
      },
      {
        "duration": 107,
        "start_time": "2022-08-10T10:18:46.395Z"
      },
      {
        "duration": 5,
        "start_time": "2022-08-10T10:18:46.535Z"
      },
      {
        "duration": 16,
        "start_time": "2022-08-10T10:18:47.118Z"
      },
      {
        "duration": 3,
        "start_time": "2022-08-10T10:22:30.777Z"
      },
      {
        "duration": 394,
        "start_time": "2022-08-10T10:31:04.633Z"
      },
      {
        "duration": 3,
        "start_time": "2022-08-10T10:31:06.046Z"
      },
      {
        "duration": 35,
        "start_time": "2022-08-10T10:42:39.083Z"
      },
      {
        "duration": 57,
        "start_time": "2022-08-10T10:42:40.514Z"
      },
      {
        "duration": 31,
        "start_time": "2022-08-10T10:48:16.661Z"
      },
      {
        "duration": 57,
        "start_time": "2022-08-10T10:48:24.971Z"
      },
      {
        "duration": 32,
        "start_time": "2022-08-10T10:51:32.771Z"
      },
      {
        "duration": 57,
        "start_time": "2022-08-10T10:51:35.400Z"
      },
      {
        "duration": 4,
        "start_time": "2022-08-10T10:55:08.803Z"
      },
      {
        "duration": 10,
        "start_time": "2022-08-10T10:57:50.200Z"
      },
      {
        "duration": 73,
        "start_time": "2022-08-10T11:07:36.560Z"
      },
      {
        "duration": 69,
        "start_time": "2022-08-10T11:07:41.874Z"
      },
      {
        "duration": 61,
        "start_time": "2022-08-10T11:07:52.767Z"
      },
      {
        "duration": 4650,
        "start_time": "2022-08-10T11:08:03.158Z"
      },
      {
        "duration": 4577,
        "start_time": "2022-08-10T11:09:30.287Z"
      },
      {
        "duration": 4539,
        "start_time": "2022-08-10T11:09:48.154Z"
      },
      {
        "duration": 4650,
        "start_time": "2022-08-10T11:10:25.325Z"
      },
      {
        "duration": 4,
        "start_time": "2022-08-10T11:10:47.412Z"
      },
      {
        "duration": 4598,
        "start_time": "2022-08-10T11:10:56.668Z"
      },
      {
        "duration": 8,
        "start_time": "2022-08-10T11:29:31.619Z"
      },
      {
        "duration": 8,
        "start_time": "2022-08-10T11:32:51.550Z"
      },
      {
        "duration": 8,
        "start_time": "2022-08-10T11:33:27.883Z"
      },
      {
        "duration": 7,
        "start_time": "2022-08-10T11:33:30.812Z"
      },
      {
        "duration": 7,
        "start_time": "2022-08-10T11:33:53.043Z"
      },
      {
        "duration": 4675,
        "start_time": "2022-08-10T11:34:44.210Z"
      },
      {
        "duration": 10,
        "start_time": "2022-08-10T11:37:19.204Z"
      },
      {
        "duration": 7,
        "start_time": "2022-08-10T11:37:23.740Z"
      },
      {
        "duration": 8,
        "start_time": "2022-08-10T11:38:10.819Z"
      },
      {
        "duration": 10,
        "start_time": "2022-08-10T11:38:59.089Z"
      },
      {
        "duration": 4668,
        "start_time": "2022-08-10T11:39:21.939Z"
      },
      {
        "duration": 8,
        "start_time": "2022-08-10T11:40:02.601Z"
      },
      {
        "duration": 4712,
        "start_time": "2022-08-10T11:41:01.569Z"
      },
      {
        "duration": 4641,
        "start_time": "2022-08-10T11:41:46.407Z"
      },
      {
        "duration": 4621,
        "start_time": "2022-08-10T11:41:57.448Z"
      },
      {
        "duration": 4718,
        "start_time": "2022-08-10T11:42:44.404Z"
      },
      {
        "duration": 4600,
        "start_time": "2022-08-10T11:43:09.386Z"
      },
      {
        "duration": 4710,
        "start_time": "2022-08-10T11:46:09.143Z"
      },
      {
        "duration": 464,
        "start_time": "2022-08-10T11:46:48.452Z"
      },
      {
        "duration": 4,
        "start_time": "2022-08-10T11:47:37.003Z"
      },
      {
        "duration": 4695,
        "start_time": "2022-08-10T11:47:42.767Z"
      },
      {
        "duration": 6,
        "start_time": "2022-08-10T11:47:47.463Z"
      },
      {
        "duration": 5,
        "start_time": "2022-08-10T11:47:58.471Z"
      },
      {
        "duration": 5,
        "start_time": "2022-08-10T11:48:09.843Z"
      },
      {
        "duration": 5,
        "start_time": "2022-08-10T11:48:37.110Z"
      },
      {
        "duration": 5,
        "start_time": "2022-08-10T11:48:43.164Z"
      },
      {
        "duration": 7,
        "start_time": "2022-08-10T11:48:46.925Z"
      },
      {
        "duration": 84,
        "start_time": "2022-08-10T12:06:51.196Z"
      },
      {
        "duration": 77,
        "start_time": "2022-08-10T12:07:25.816Z"
      },
      {
        "duration": 4639,
        "start_time": "2022-08-10T12:07:53.277Z"
      },
      {
        "duration": 196,
        "start_time": "2022-08-10T12:08:11.896Z"
      },
      {
        "duration": 9,
        "start_time": "2022-08-10T12:08:21.735Z"
      },
      {
        "duration": 4680,
        "start_time": "2022-08-10T12:08:53.074Z"
      },
      {
        "duration": 2315,
        "start_time": "2022-08-10T12:18:20.326Z"
      },
      {
        "duration": 2333,
        "start_time": "2022-08-10T12:19:28.220Z"
      },
      {
        "duration": 4690,
        "start_time": "2022-08-10T12:19:30.555Z"
      },
      {
        "duration": 2337,
        "start_time": "2022-08-10T12:19:51.634Z"
      },
      {
        "duration": 9,
        "start_time": "2022-08-10T12:21:33.398Z"
      },
      {
        "duration": 10,
        "start_time": "2022-08-10T12:21:48.751Z"
      },
      {
        "duration": 2347,
        "start_time": "2022-08-10T12:21:49.597Z"
      },
      {
        "duration": 4645,
        "start_time": "2022-08-10T12:21:57.928Z"
      },
      {
        "duration": 10,
        "start_time": "2022-08-10T12:22:55.817Z"
      },
      {
        "duration": 2631,
        "start_time": "2022-08-10T12:22:56.436Z"
      },
      {
        "duration": 10,
        "start_time": "2022-08-10T12:23:37.417Z"
      },
      {
        "duration": 10,
        "start_time": "2022-08-10T12:24:08.238Z"
      },
      {
        "duration": 3,
        "start_time": "2022-08-10T12:24:45.781Z"
      },
      {
        "duration": 9,
        "start_time": "2022-08-10T12:25:10.859Z"
      },
      {
        "duration": 2770,
        "start_time": "2022-08-10T12:25:13.148Z"
      },
      {
        "duration": 10,
        "start_time": "2022-08-10T12:25:59.138Z"
      },
      {
        "duration": 4,
        "start_time": "2022-08-10T12:26:00.470Z"
      },
      {
        "duration": 19,
        "start_time": "2022-08-10T12:26:05.826Z"
      },
      {
        "duration": 15,
        "start_time": "2022-08-10T12:26:16.726Z"
      },
      {
        "duration": 4,
        "start_time": "2022-08-10T12:26:27.402Z"
      },
      {
        "duration": 2630,
        "start_time": "2022-08-10T12:26:27.538Z"
      },
      {
        "duration": 10,
        "start_time": "2022-08-10T12:26:43.664Z"
      },
      {
        "duration": 4,
        "start_time": "2022-08-10T12:26:45.665Z"
      },
      {
        "duration": 2591,
        "start_time": "2022-08-10T12:26:45.790Z"
      },
      {
        "duration": 10,
        "start_time": "2022-08-10T12:27:26.714Z"
      },
      {
        "duration": 2728,
        "start_time": "2022-08-10T12:27:28.158Z"
      },
      {
        "duration": 10,
        "start_time": "2022-08-10T12:27:45.719Z"
      },
      {
        "duration": 2972,
        "start_time": "2022-08-10T12:27:48.939Z"
      },
      {
        "duration": 77,
        "start_time": "2022-08-10T12:28:45.795Z"
      },
      {
        "duration": 45,
        "start_time": "2022-08-10T12:28:54.602Z"
      },
      {
        "duration": 31,
        "start_time": "2022-08-10T12:29:48.082Z"
      },
      {
        "duration": 1925,
        "start_time": "2022-08-10T12:30:05.339Z"
      },
      {
        "duration": 4,
        "start_time": "2022-08-10T12:30:13.706Z"
      },
      {
        "duration": 2400,
        "start_time": "2022-08-10T12:30:56.435Z"
      },
      {
        "duration": 3,
        "start_time": "2022-08-10T12:31:16.201Z"
      },
      {
        "duration": 10,
        "start_time": "2022-08-10T12:32:11.184Z"
      },
      {
        "duration": 1981,
        "start_time": "2022-08-10T12:32:16.918Z"
      },
      {
        "duration": 4,
        "start_time": "2022-08-10T12:32:18.901Z"
      },
      {
        "duration": 6,
        "start_time": "2022-08-10T12:32:27.299Z"
      },
      {
        "duration": 2774,
        "start_time": "2022-08-10T12:33:44.286Z"
      },
      {
        "duration": 98,
        "start_time": "2022-08-10T12:34:15.344Z"
      },
      {
        "duration": 2498,
        "start_time": "2022-08-10T12:34:28.200Z"
      },
      {
        "duration": 2401,
        "start_time": "2022-08-10T12:34:41.717Z"
      },
      {
        "duration": 2619,
        "start_time": "2022-08-10T12:36:12.726Z"
      },
      {
        "duration": 4,
        "start_time": "2022-08-10T12:36:40.101Z"
      },
      {
        "duration": 416,
        "start_time": "2022-08-10T12:37:04.034Z"
      },
      {
        "duration": 10,
        "start_time": "2022-08-10T12:37:26.378Z"
      },
      {
        "duration": 2667,
        "start_time": "2022-08-10T12:37:42.514Z"
      },
      {
        "duration": 4915,
        "start_time": "2022-08-10T12:37:55.199Z"
      },
      {
        "duration": 11,
        "start_time": "2022-08-10T12:39:56.164Z"
      },
      {
        "duration": 2712,
        "start_time": "2022-08-10T12:40:06.376Z"
      },
      {
        "duration": 43,
        "start_time": "2022-08-10T12:43:14.958Z"
      },
      {
        "duration": 7117,
        "start_time": "2022-08-10T12:43:51.021Z"
      },
      {
        "duration": 3422,
        "start_time": "2022-08-10T12:44:23.465Z"
      },
      {
        "duration": 112,
        "start_time": "2022-08-10T12:44:49.019Z"
      },
      {
        "duration": 41,
        "start_time": "2022-08-10T12:44:58.948Z"
      },
      {
        "duration": 3459,
        "start_time": "2022-08-10T12:45:03.659Z"
      },
      {
        "duration": 65,
        "start_time": "2022-08-10T12:46:04.321Z"
      },
      {
        "duration": 11,
        "start_time": "2022-08-10T12:46:23.193Z"
      },
      {
        "duration": 3256,
        "start_time": "2022-08-10T12:46:28.343Z"
      },
      {
        "duration": 2715,
        "start_time": "2022-08-10T12:46:51.562Z"
      },
      {
        "duration": 4996,
        "start_time": "2022-08-10T12:46:54.525Z"
      },
      {
        "duration": 11,
        "start_time": "2022-08-10T12:53:52.560Z"
      },
      {
        "duration": 3296,
        "start_time": "2022-08-10T12:53:59.612Z"
      },
      {
        "duration": 2763,
        "start_time": "2022-08-10T12:54:02.910Z"
      },
      {
        "duration": 4942,
        "start_time": "2022-08-10T12:54:05.674Z"
      },
      {
        "duration": 10,
        "start_time": "2022-08-10T12:54:46.660Z"
      },
      {
        "duration": 3243,
        "start_time": "2022-08-10T12:54:57.062Z"
      },
      {
        "duration": 2693,
        "start_time": "2022-08-10T12:55:00.307Z"
      },
      {
        "duration": 5039,
        "start_time": "2022-08-10T12:55:03.002Z"
      },
      {
        "duration": 72,
        "start_time": "2022-08-10T20:19:04.564Z"
      },
      {
        "duration": 5,
        "start_time": "2022-08-10T20:20:58.523Z"
      },
      {
        "duration": 1052,
        "start_time": "2022-08-11T08:33:03.232Z"
      },
      {
        "duration": 2,
        "start_time": "2022-08-11T08:33:04.286Z"
      },
      {
        "duration": 141,
        "start_time": "2022-08-11T08:33:04.290Z"
      },
      {
        "duration": 24,
        "start_time": "2022-08-11T08:33:04.433Z"
      },
      {
        "duration": 11,
        "start_time": "2022-08-11T08:33:04.460Z"
      },
      {
        "duration": 31,
        "start_time": "2022-08-11T08:33:04.473Z"
      },
      {
        "duration": 3,
        "start_time": "2022-08-11T08:33:04.511Z"
      },
      {
        "duration": 9,
        "start_time": "2022-08-11T08:33:04.516Z"
      },
      {
        "duration": 10,
        "start_time": "2022-08-11T08:33:04.527Z"
      },
      {
        "duration": 3,
        "start_time": "2022-08-11T08:33:04.539Z"
      },
      {
        "duration": 9,
        "start_time": "2022-08-11T08:33:04.544Z"
      },
      {
        "duration": 5,
        "start_time": "2022-08-11T08:33:04.555Z"
      },
      {
        "duration": 7,
        "start_time": "2022-08-11T08:33:04.562Z"
      },
      {
        "duration": 4,
        "start_time": "2022-08-11T08:33:04.573Z"
      },
      {
        "duration": 5,
        "start_time": "2022-08-11T08:33:04.579Z"
      },
      {
        "duration": 4,
        "start_time": "2022-08-11T08:33:04.612Z"
      },
      {
        "duration": 6,
        "start_time": "2022-08-11T08:33:04.618Z"
      },
      {
        "duration": 5,
        "start_time": "2022-08-11T08:33:04.626Z"
      },
      {
        "duration": 2345,
        "start_time": "2022-08-11T08:33:04.633Z"
      },
      {
        "duration": 5,
        "start_time": "2022-08-11T08:33:06.979Z"
      },
      {
        "duration": 6,
        "start_time": "2022-08-11T08:33:06.985Z"
      },
      {
        "duration": 8178,
        "start_time": "2022-08-11T08:33:06.993Z"
      },
      {
        "duration": 8396,
        "start_time": "2022-08-11T08:33:15.172Z"
      },
      {
        "duration": 82,
        "start_time": "2022-08-11T08:33:23.570Z"
      },
      {
        "duration": 6,
        "start_time": "2022-08-11T08:33:23.654Z"
      },
      {
        "duration": 118,
        "start_time": "2022-08-11T08:33:23.661Z"
      },
      {
        "duration": 0,
        "start_time": "2022-08-11T08:33:23.781Z"
      },
      {
        "duration": 0,
        "start_time": "2022-08-11T08:33:23.783Z"
      },
      {
        "duration": 0,
        "start_time": "2022-08-11T08:33:23.784Z"
      },
      {
        "duration": 0,
        "start_time": "2022-08-11T08:33:23.786Z"
      },
      {
        "duration": 0,
        "start_time": "2022-08-11T08:33:23.787Z"
      },
      {
        "duration": 0,
        "start_time": "2022-08-11T08:33:23.787Z"
      },
      {
        "duration": 0,
        "start_time": "2022-08-11T08:33:23.789Z"
      },
      {
        "duration": 0,
        "start_time": "2022-08-11T08:33:23.790Z"
      },
      {
        "duration": 0,
        "start_time": "2022-08-11T08:33:23.811Z"
      },
      {
        "duration": 0,
        "start_time": "2022-08-11T08:33:23.812Z"
      },
      {
        "duration": 0,
        "start_time": "2022-08-11T08:33:23.814Z"
      },
      {
        "duration": 0,
        "start_time": "2022-08-11T08:33:23.815Z"
      },
      {
        "duration": 0,
        "start_time": "2022-08-11T08:33:23.817Z"
      },
      {
        "duration": 0,
        "start_time": "2022-08-11T08:33:23.818Z"
      },
      {
        "duration": 0,
        "start_time": "2022-08-11T08:33:23.820Z"
      },
      {
        "duration": 0,
        "start_time": "2022-08-11T08:33:23.822Z"
      },
      {
        "duration": 0,
        "start_time": "2022-08-11T08:33:23.823Z"
      },
      {
        "duration": 0,
        "start_time": "2022-08-11T08:33:23.824Z"
      },
      {
        "duration": 1,
        "start_time": "2022-08-11T08:33:23.825Z"
      },
      {
        "duration": 0,
        "start_time": "2022-08-11T08:33:23.827Z"
      },
      {
        "duration": 0,
        "start_time": "2022-08-11T08:33:23.828Z"
      },
      {
        "duration": 0,
        "start_time": "2022-08-11T08:33:23.830Z"
      },
      {
        "duration": 3029,
        "start_time": "2022-08-11T08:34:04.654Z"
      },
      {
        "duration": 1098,
        "start_time": "2022-08-11T08:40:59.416Z"
      },
      {
        "duration": 3,
        "start_time": "2022-08-11T08:41:00.516Z"
      },
      {
        "duration": 36,
        "start_time": "2022-08-11T08:41:00.520Z"
      },
      {
        "duration": 15,
        "start_time": "2022-08-11T08:41:00.558Z"
      },
      {
        "duration": 40,
        "start_time": "2022-08-11T08:41:00.575Z"
      },
      {
        "duration": 29,
        "start_time": "2022-08-11T08:41:00.617Z"
      },
      {
        "duration": 3,
        "start_time": "2022-08-11T08:41:00.648Z"
      },
      {
        "duration": 19,
        "start_time": "2022-08-11T08:41:00.653Z"
      },
      {
        "duration": 14,
        "start_time": "2022-08-11T08:41:00.674Z"
      },
      {
        "duration": 2,
        "start_time": "2022-08-11T08:41:00.691Z"
      },
      {
        "duration": 23,
        "start_time": "2022-08-11T08:41:00.695Z"
      },
      {
        "duration": 22,
        "start_time": "2022-08-11T08:41:00.719Z"
      },
      {
        "duration": 20,
        "start_time": "2022-08-11T08:41:00.743Z"
      },
      {
        "duration": 42,
        "start_time": "2022-08-11T08:41:00.764Z"
      },
      {
        "duration": 13,
        "start_time": "2022-08-11T08:41:00.807Z"
      },
      {
        "duration": 12,
        "start_time": "2022-08-11T08:41:00.822Z"
      },
      {
        "duration": 18,
        "start_time": "2022-08-11T08:41:00.836Z"
      },
      {
        "duration": 16,
        "start_time": "2022-08-11T08:41:00.855Z"
      },
      {
        "duration": 3161,
        "start_time": "2022-08-11T08:41:00.873Z"
      },
      {
        "duration": 4,
        "start_time": "2022-08-11T08:41:04.036Z"
      },
      {
        "duration": 7,
        "start_time": "2022-08-11T08:41:04.041Z"
      },
      {
        "duration": 6,
        "start_time": "2022-08-11T08:41:04.050Z"
      },
      {
        "duration": 8,
        "start_time": "2022-08-11T08:41:04.057Z"
      },
      {
        "duration": 118,
        "start_time": "2022-08-11T08:41:04.067Z"
      },
      {
        "duration": 0,
        "start_time": "2022-08-11T08:41:04.187Z"
      },
      {
        "duration": 0,
        "start_time": "2022-08-11T08:41:04.188Z"
      },
      {
        "duration": 0,
        "start_time": "2022-08-11T08:41:04.189Z"
      },
      {
        "duration": 0,
        "start_time": "2022-08-11T08:41:04.190Z"
      },
      {
        "duration": 0,
        "start_time": "2022-08-11T08:41:04.191Z"
      },
      {
        "duration": 0,
        "start_time": "2022-08-11T08:41:04.192Z"
      },
      {
        "duration": 0,
        "start_time": "2022-08-11T08:41:04.193Z"
      },
      {
        "duration": 0,
        "start_time": "2022-08-11T08:41:04.195Z"
      },
      {
        "duration": 0,
        "start_time": "2022-08-11T08:41:04.197Z"
      },
      {
        "duration": 0,
        "start_time": "2022-08-11T08:41:04.211Z"
      },
      {
        "duration": 0,
        "start_time": "2022-08-11T08:41:04.212Z"
      },
      {
        "duration": 0,
        "start_time": "2022-08-11T08:41:04.214Z"
      },
      {
        "duration": 0,
        "start_time": "2022-08-11T08:41:04.215Z"
      },
      {
        "duration": 0,
        "start_time": "2022-08-11T08:41:04.217Z"
      },
      {
        "duration": 0,
        "start_time": "2022-08-11T08:41:04.219Z"
      },
      {
        "duration": 0,
        "start_time": "2022-08-11T08:41:04.220Z"
      },
      {
        "duration": 0,
        "start_time": "2022-08-11T08:41:04.222Z"
      },
      {
        "duration": 0,
        "start_time": "2022-08-11T08:41:04.223Z"
      },
      {
        "duration": 0,
        "start_time": "2022-08-11T08:41:04.224Z"
      },
      {
        "duration": 1083,
        "start_time": "2022-08-11T08:43:13.817Z"
      },
      {
        "duration": 2,
        "start_time": "2022-08-11T08:43:14.902Z"
      },
      {
        "duration": 47,
        "start_time": "2022-08-11T08:43:14.905Z"
      },
      {
        "duration": 16,
        "start_time": "2022-08-11T08:43:14.954Z"
      },
      {
        "duration": 21,
        "start_time": "2022-08-11T08:43:14.972Z"
      },
      {
        "duration": 53,
        "start_time": "2022-08-11T08:43:14.995Z"
      },
      {
        "duration": 3,
        "start_time": "2022-08-11T08:43:15.050Z"
      },
      {
        "duration": 27,
        "start_time": "2022-08-11T08:43:15.055Z"
      },
      {
        "duration": 30,
        "start_time": "2022-08-11T08:43:15.083Z"
      },
      {
        "duration": 10,
        "start_time": "2022-08-11T08:43:15.115Z"
      },
      {
        "duration": 22,
        "start_time": "2022-08-11T08:43:15.127Z"
      },
      {
        "duration": 26,
        "start_time": "2022-08-11T08:43:15.151Z"
      },
      {
        "duration": 23,
        "start_time": "2022-08-11T08:43:15.179Z"
      },
      {
        "duration": 18,
        "start_time": "2022-08-11T08:43:15.204Z"
      },
      {
        "duration": 16,
        "start_time": "2022-08-11T08:43:15.224Z"
      },
      {
        "duration": 25,
        "start_time": "2022-08-11T08:43:15.242Z"
      },
      {
        "duration": 27,
        "start_time": "2022-08-11T08:43:15.269Z"
      },
      {
        "duration": 26,
        "start_time": "2022-08-11T08:43:15.297Z"
      },
      {
        "duration": 3170,
        "start_time": "2022-08-11T08:43:15.325Z"
      },
      {
        "duration": 4,
        "start_time": "2022-08-11T08:43:18.496Z"
      },
      {
        "duration": 17,
        "start_time": "2022-08-11T08:43:18.501Z"
      },
      {
        "duration": 16,
        "start_time": "2022-08-11T08:43:18.520Z"
      },
      {
        "duration": 15,
        "start_time": "2022-08-11T08:43:18.538Z"
      },
      {
        "duration": 2334,
        "start_time": "2022-08-11T08:43:18.555Z"
      },
      {
        "duration": 4,
        "start_time": "2022-08-11T08:43:20.890Z"
      },
      {
        "duration": 20,
        "start_time": "2022-08-11T08:43:20.896Z"
      },
      {
        "duration": 20,
        "start_time": "2022-08-11T08:43:20.918Z"
      },
      {
        "duration": 357,
        "start_time": "2022-08-11T08:43:20.942Z"
      },
      {
        "duration": 3,
        "start_time": "2022-08-11T08:43:21.301Z"
      },
      {
        "duration": 46,
        "start_time": "2022-08-11T08:43:21.305Z"
      },
      {
        "duration": 28,
        "start_time": "2022-08-11T08:43:21.353Z"
      },
      {
        "duration": 48,
        "start_time": "2022-08-11T08:43:21.382Z"
      },
      {
        "duration": 0,
        "start_time": "2022-08-11T08:43:21.432Z"
      },
      {
        "duration": 0,
        "start_time": "2022-08-11T08:43:21.433Z"
      },
      {
        "duration": 0,
        "start_time": "2022-08-11T08:43:21.434Z"
      },
      {
        "duration": 0,
        "start_time": "2022-08-11T08:43:21.435Z"
      },
      {
        "duration": 0,
        "start_time": "2022-08-11T08:43:21.436Z"
      },
      {
        "duration": 0,
        "start_time": "2022-08-11T08:43:21.438Z"
      },
      {
        "duration": 1,
        "start_time": "2022-08-11T08:43:21.439Z"
      },
      {
        "duration": 0,
        "start_time": "2022-08-11T08:43:21.441Z"
      },
      {
        "duration": 0,
        "start_time": "2022-08-11T08:43:21.442Z"
      },
      {
        "duration": 0,
        "start_time": "2022-08-11T08:43:21.443Z"
      },
      {
        "duration": 13,
        "start_time": "2022-08-11T08:51:29.524Z"
      },
      {
        "duration": 137,
        "start_time": "2022-08-11T08:51:29.540Z"
      },
      {
        "duration": 1798,
        "start_time": "2022-08-11T08:51:44.699Z"
      },
      {
        "duration": 35,
        "start_time": "2022-08-11T08:52:00.024Z"
      },
      {
        "duration": 28,
        "start_time": "2022-08-11T08:52:00.159Z"
      },
      {
        "duration": 48,
        "start_time": "2022-08-11T08:52:00.303Z"
      },
      {
        "duration": 12,
        "start_time": "2022-08-11T08:52:40.353Z"
      },
      {
        "duration": 2971,
        "start_time": "2022-08-11T08:52:45.572Z"
      },
      {
        "duration": 2433,
        "start_time": "2022-08-11T08:52:48.545Z"
      },
      {
        "duration": 4668,
        "start_time": "2022-08-11T08:52:50.980Z"
      },
      {
        "duration": 8,
        "start_time": "2022-08-11T09:35:06.149Z"
      },
      {
        "duration": 4,
        "start_time": "2022-08-11T09:35:07.877Z"
      },
      {
        "duration": 8,
        "start_time": "2022-08-11T09:35:08.041Z"
      },
      {
        "duration": 9,
        "start_time": "2022-08-11T09:35:47.799Z"
      },
      {
        "duration": 3177,
        "start_time": "2022-08-11T09:35:49.023Z"
      },
      {
        "duration": 9,
        "start_time": "2022-08-11T09:35:56.680Z"
      },
      {
        "duration": 49,
        "start_time": "2022-08-11T09:41:18.428Z"
      },
      {
        "duration": 31,
        "start_time": "2022-08-11T09:43:30.031Z"
      },
      {
        "duration": 20,
        "start_time": "2022-08-11T09:44:38.888Z"
      },
      {
        "duration": 1096,
        "start_time": "2022-08-11T09:45:18.408Z"
      },
      {
        "duration": 2,
        "start_time": "2022-08-11T09:45:19.506Z"
      },
      {
        "duration": 32,
        "start_time": "2022-08-11T09:45:19.510Z"
      },
      {
        "duration": 16,
        "start_time": "2022-08-11T09:45:19.544Z"
      },
      {
        "duration": 10,
        "start_time": "2022-08-11T09:45:19.562Z"
      },
      {
        "duration": 22,
        "start_time": "2022-08-11T09:45:19.574Z"
      },
      {
        "duration": 4,
        "start_time": "2022-08-11T09:45:19.597Z"
      },
      {
        "duration": 10,
        "start_time": "2022-08-11T09:45:19.602Z"
      },
      {
        "duration": 15,
        "start_time": "2022-08-11T09:45:19.615Z"
      },
      {
        "duration": 3,
        "start_time": "2022-08-11T09:45:19.632Z"
      },
      {
        "duration": 18,
        "start_time": "2022-08-11T09:45:19.638Z"
      },
      {
        "duration": 6,
        "start_time": "2022-08-11T09:45:19.658Z"
      },
      {
        "duration": 12,
        "start_time": "2022-08-11T09:45:19.665Z"
      },
      {
        "duration": 3,
        "start_time": "2022-08-11T09:45:19.681Z"
      },
      {
        "duration": 5,
        "start_time": "2022-08-11T09:45:19.686Z"
      },
      {
        "duration": 23,
        "start_time": "2022-08-11T09:45:19.693Z"
      },
      {
        "duration": 4,
        "start_time": "2022-08-11T09:45:19.718Z"
      },
      {
        "duration": 26,
        "start_time": "2022-08-11T09:45:19.724Z"
      },
      {
        "duration": 3383,
        "start_time": "2022-08-11T09:45:19.752Z"
      },
      {
        "duration": 3,
        "start_time": "2022-08-11T09:45:23.137Z"
      },
      {
        "duration": 11,
        "start_time": "2022-08-11T09:45:23.144Z"
      },
      {
        "duration": 5,
        "start_time": "2022-08-11T09:45:23.156Z"
      },
      {
        "duration": 5,
        "start_time": "2022-08-11T09:45:23.162Z"
      },
      {
        "duration": 2399,
        "start_time": "2022-08-11T09:45:23.169Z"
      },
      {
        "duration": 3,
        "start_time": "2022-08-11T09:45:25.570Z"
      },
      {
        "duration": 6,
        "start_time": "2022-08-11T09:45:25.575Z"
      },
      {
        "duration": 11,
        "start_time": "2022-08-11T09:45:25.583Z"
      },
      {
        "duration": 373,
        "start_time": "2022-08-11T09:45:25.595Z"
      },
      {
        "duration": 4,
        "start_time": "2022-08-11T09:45:25.969Z"
      },
      {
        "duration": 10,
        "start_time": "2022-08-11T09:45:25.974Z"
      },
      {
        "duration": 3058,
        "start_time": "2022-08-11T09:45:25.985Z"
      },
      {
        "duration": 2527,
        "start_time": "2022-08-11T09:45:29.045Z"
      },
      {
        "duration": 4880,
        "start_time": "2022-08-11T09:45:31.574Z"
      },
      {
        "duration": 4,
        "start_time": "2022-08-11T09:45:36.488Z"
      },
      {
        "duration": 20,
        "start_time": "2022-08-11T09:45:36.511Z"
      },
      {
        "duration": 34,
        "start_time": "2022-08-11T09:45:45.149Z"
      },
      {
        "duration": 5,
        "start_time": "2022-08-11T09:46:35.482Z"
      },
      {
        "duration": 8,
        "start_time": "2022-08-11T09:47:12.417Z"
      },
      {
        "duration": 20,
        "start_time": "2022-08-11T09:47:28.560Z"
      },
      {
        "duration": 9,
        "start_time": "2022-08-11T09:49:29.649Z"
      },
      {
        "duration": 5,
        "start_time": "2022-08-11T09:51:22.581Z"
      },
      {
        "duration": 3,
        "start_time": "2022-08-11T09:51:23.940Z"
      },
      {
        "duration": 145,
        "start_time": "2022-08-11T09:51:24.399Z"
      },
      {
        "duration": 7,
        "start_time": "2022-08-11T09:51:44.360Z"
      },
      {
        "duration": 2,
        "start_time": "2022-08-11T09:51:45.746Z"
      },
      {
        "duration": 11,
        "start_time": "2022-08-11T09:51:46.148Z"
      },
      {
        "duration": 4,
        "start_time": "2022-08-11T09:51:55.881Z"
      },
      {
        "duration": 3,
        "start_time": "2022-08-11T09:51:55.954Z"
      },
      {
        "duration": 12,
        "start_time": "2022-08-11T09:51:56.340Z"
      },
      {
        "duration": 5,
        "start_time": "2022-08-11T09:52:07.760Z"
      },
      {
        "duration": 4,
        "start_time": "2022-08-11T09:52:12.382Z"
      },
      {
        "duration": 3388,
        "start_time": "2022-08-11T09:53:05.082Z"
      },
      {
        "duration": 0,
        "start_time": "2022-08-11T09:53:08.472Z"
      },
      {
        "duration": 0,
        "start_time": "2022-08-11T09:53:08.473Z"
      },
      {
        "duration": 0,
        "start_time": "2022-08-11T09:53:08.474Z"
      },
      {
        "duration": 74,
        "start_time": "2022-08-11T09:53:19.840Z"
      },
      {
        "duration": 46,
        "start_time": "2022-08-11T09:53:40.816Z"
      },
      {
        "duration": 8,
        "start_time": "2022-08-11T10:00:13.240Z"
      },
      {
        "duration": 4,
        "start_time": "2022-08-11T10:00:19.559Z"
      },
      {
        "duration": 4,
        "start_time": "2022-08-11T10:00:30.641Z"
      },
      {
        "duration": 4,
        "start_time": "2022-08-11T10:00:34.330Z"
      },
      {
        "duration": 4,
        "start_time": "2022-08-11T10:00:51.739Z"
      },
      {
        "duration": 5,
        "start_time": "2022-08-11T10:01:13.520Z"
      },
      {
        "duration": 2,
        "start_time": "2022-08-11T10:01:17.860Z"
      },
      {
        "duration": 11,
        "start_time": "2022-08-11T10:01:19.150Z"
      },
      {
        "duration": 7,
        "start_time": "2022-08-11T10:01:34.730Z"
      },
      {
        "duration": 2,
        "start_time": "2022-08-11T10:01:35.974Z"
      },
      {
        "duration": 7,
        "start_time": "2022-08-11T10:01:36.130Z"
      },
      {
        "duration": 7,
        "start_time": "2022-08-11T10:01:51.438Z"
      },
      {
        "duration": 2,
        "start_time": "2022-08-11T10:01:52.309Z"
      },
      {
        "duration": 7,
        "start_time": "2022-08-11T10:01:52.455Z"
      },
      {
        "duration": 1141,
        "start_time": "2022-08-11T10:02:14.121Z"
      },
      {
        "duration": 2,
        "start_time": "2022-08-11T10:02:15.264Z"
      },
      {
        "duration": 36,
        "start_time": "2022-08-11T10:02:15.268Z"
      },
      {
        "duration": 18,
        "start_time": "2022-08-11T10:02:15.306Z"
      },
      {
        "duration": 12,
        "start_time": "2022-08-11T10:02:15.327Z"
      },
      {
        "duration": 25,
        "start_time": "2022-08-11T10:02:15.340Z"
      },
      {
        "duration": 4,
        "start_time": "2022-08-11T10:02:15.366Z"
      },
      {
        "duration": 11,
        "start_time": "2022-08-11T10:02:15.371Z"
      },
      {
        "duration": 14,
        "start_time": "2022-08-11T10:02:15.383Z"
      },
      {
        "duration": 12,
        "start_time": "2022-08-11T10:02:15.399Z"
      },
      {
        "duration": 7,
        "start_time": "2022-08-11T10:02:15.413Z"
      },
      {
        "duration": 18,
        "start_time": "2022-08-11T10:02:15.422Z"
      },
      {
        "duration": 12,
        "start_time": "2022-08-11T10:02:15.442Z"
      },
      {
        "duration": 8,
        "start_time": "2022-08-11T10:02:15.458Z"
      },
      {
        "duration": 8,
        "start_time": "2022-08-11T10:02:15.468Z"
      },
      {
        "duration": 11,
        "start_time": "2022-08-11T10:02:15.477Z"
      },
      {
        "duration": 19,
        "start_time": "2022-08-11T10:02:15.489Z"
      },
      {
        "duration": 24,
        "start_time": "2022-08-11T10:02:15.510Z"
      },
      {
        "duration": 3369,
        "start_time": "2022-08-11T10:02:15.537Z"
      },
      {
        "duration": 4,
        "start_time": "2022-08-11T10:02:18.908Z"
      },
      {
        "duration": 19,
        "start_time": "2022-08-11T10:02:18.914Z"
      },
      {
        "duration": 7,
        "start_time": "2022-08-11T10:02:18.934Z"
      },
      {
        "duration": 15,
        "start_time": "2022-08-11T10:02:18.942Z"
      },
      {
        "duration": 2298,
        "start_time": "2022-08-11T10:02:18.958Z"
      },
      {
        "duration": 3,
        "start_time": "2022-08-11T10:02:21.258Z"
      },
      {
        "duration": 12,
        "start_time": "2022-08-11T10:02:21.262Z"
      },
      {
        "duration": 14,
        "start_time": "2022-08-11T10:02:21.275Z"
      },
      {
        "duration": 415,
        "start_time": "2022-08-11T10:02:21.291Z"
      },
      {
        "duration": 8,
        "start_time": "2022-08-11T10:02:21.711Z"
      },
      {
        "duration": 25,
        "start_time": "2022-08-11T10:02:21.720Z"
      },
      {
        "duration": 3349,
        "start_time": "2022-08-11T10:02:21.747Z"
      },
      {
        "duration": 2591,
        "start_time": "2022-08-11T10:02:25.098Z"
      },
      {
        "duration": 4863,
        "start_time": "2022-08-11T10:02:27.691Z"
      },
      {
        "duration": 38,
        "start_time": "2022-08-11T10:02:32.556Z"
      },
      {
        "duration": 24,
        "start_time": "2022-08-11T10:02:32.595Z"
      },
      {
        "duration": 45,
        "start_time": "2022-08-11T10:02:32.621Z"
      },
      {
        "duration": 32,
        "start_time": "2022-08-11T10:03:02.552Z"
      },
      {
        "duration": 29,
        "start_time": "2022-08-11T10:03:08.256Z"
      },
      {
        "duration": 31,
        "start_time": "2022-08-11T10:03:16.609Z"
      },
      {
        "duration": 38,
        "start_time": "2022-08-11T10:03:22.807Z"
      },
      {
        "duration": 16,
        "start_time": "2022-08-11T10:03:31.129Z"
      },
      {
        "duration": 3140,
        "start_time": "2022-08-11T10:03:32.419Z"
      },
      {
        "duration": 2610,
        "start_time": "2022-08-11T10:03:35.560Z"
      },
      {
        "duration": 4891,
        "start_time": "2022-08-11T10:03:38.172Z"
      },
      {
        "duration": 28,
        "start_time": "2022-08-11T10:05:42.166Z"
      },
      {
        "duration": 1588,
        "start_time": "2022-08-11T20:32:57.105Z"
      },
      {
        "duration": 4,
        "start_time": "2022-08-11T20:32:58.696Z"
      },
      {
        "duration": 38,
        "start_time": "2022-08-11T20:32:58.701Z"
      },
      {
        "duration": 17,
        "start_time": "2022-08-11T20:32:58.741Z"
      },
      {
        "duration": 11,
        "start_time": "2022-08-11T20:32:58.759Z"
      },
      {
        "duration": 22,
        "start_time": "2022-08-11T20:32:58.772Z"
      },
      {
        "duration": 3,
        "start_time": "2022-08-11T20:32:58.795Z"
      },
      {
        "duration": 2,
        "start_time": "2022-08-11T20:32:58.805Z"
      },
      {
        "duration": 8,
        "start_time": "2022-08-11T20:32:58.809Z"
      },
      {
        "duration": 2,
        "start_time": "2022-08-11T20:32:58.819Z"
      },
      {
        "duration": 5,
        "start_time": "2022-08-11T20:32:58.823Z"
      },
      {
        "duration": 5,
        "start_time": "2022-08-11T20:32:58.829Z"
      },
      {
        "duration": 8,
        "start_time": "2022-08-11T20:32:58.836Z"
      },
      {
        "duration": 3,
        "start_time": "2022-08-11T20:32:58.846Z"
      },
      {
        "duration": 5,
        "start_time": "2022-08-11T20:32:58.850Z"
      },
      {
        "duration": 5,
        "start_time": "2022-08-11T20:32:58.856Z"
      },
      {
        "duration": 8,
        "start_time": "2022-08-11T20:32:58.862Z"
      },
      {
        "duration": 35,
        "start_time": "2022-08-11T20:32:58.872Z"
      },
      {
        "duration": 3840,
        "start_time": "2022-08-11T20:32:58.909Z"
      },
      {
        "duration": 4,
        "start_time": "2022-08-11T20:33:02.750Z"
      },
      {
        "duration": 16,
        "start_time": "2022-08-11T20:33:02.755Z"
      },
      {
        "duration": 4,
        "start_time": "2022-08-11T20:33:02.773Z"
      },
      {
        "duration": 12,
        "start_time": "2022-08-11T20:33:02.778Z"
      },
      {
        "duration": 2201,
        "start_time": "2022-08-11T20:33:02.792Z"
      },
      {
        "duration": 12,
        "start_time": "2022-08-11T20:33:04.994Z"
      },
      {
        "duration": 3,
        "start_time": "2022-08-11T20:33:05.007Z"
      },
      {
        "duration": 6,
        "start_time": "2022-08-11T20:33:05.011Z"
      },
      {
        "duration": 332,
        "start_time": "2022-08-11T20:33:05.020Z"
      },
      {
        "duration": 3,
        "start_time": "2022-08-11T20:33:05.354Z"
      },
      {
        "duration": 9,
        "start_time": "2022-08-11T20:33:05.358Z"
      },
      {
        "duration": 2982,
        "start_time": "2022-08-11T20:33:05.368Z"
      },
      {
        "duration": 2341,
        "start_time": "2022-08-11T20:33:08.352Z"
      },
      {
        "duration": 4152,
        "start_time": "2022-08-11T20:33:10.694Z"
      },
      {
        "duration": 26,
        "start_time": "2022-08-11T20:33:14.848Z"
      },
      {
        "duration": 4,
        "start_time": "2022-08-11T20:33:14.876Z"
      },
      {
        "duration": 36,
        "start_time": "2022-08-11T20:33:14.881Z"
      },
      {
        "duration": 111,
        "start_time": "2022-08-11T20:34:00.529Z"
      },
      {
        "duration": 2,
        "start_time": "2022-08-11T20:34:00.965Z"
      },
      {
        "duration": 29,
        "start_time": "2022-08-11T20:34:01.838Z"
      },
      {
        "duration": 11,
        "start_time": "2022-08-11T20:34:04.045Z"
      },
      {
        "duration": 22,
        "start_time": "2022-08-11T20:34:04.487Z"
      },
      {
        "duration": 3,
        "start_time": "2022-08-11T20:34:05.368Z"
      },
      {
        "duration": 2,
        "start_time": "2022-08-11T20:34:05.810Z"
      },
      {
        "duration": 4,
        "start_time": "2022-08-11T20:34:08.923Z"
      },
      {
        "duration": 3,
        "start_time": "2022-08-11T20:34:09.368Z"
      },
      {
        "duration": 8,
        "start_time": "2022-08-11T20:34:09.803Z"
      },
      {
        "duration": 4,
        "start_time": "2022-08-11T20:34:10.243Z"
      },
      {
        "duration": 4,
        "start_time": "2022-08-11T20:34:12.457Z"
      },
      {
        "duration": 4,
        "start_time": "2022-08-11T20:34:12.893Z"
      },
      {
        "duration": 3,
        "start_time": "2022-08-11T20:34:13.360Z"
      },
      {
        "duration": 3498,
        "start_time": "2022-08-11T20:34:14.226Z"
      },
      {
        "duration": 4,
        "start_time": "2022-08-11T20:34:17.725Z"
      },
      {
        "duration": 6,
        "start_time": "2022-08-11T20:34:17.731Z"
      },
      {
        "duration": 7,
        "start_time": "2022-08-11T20:34:17.738Z"
      },
      {
        "duration": 7,
        "start_time": "2022-08-11T20:34:17.746Z"
      },
      {
        "duration": 2093,
        "start_time": "2022-08-11T20:34:17.791Z"
      },
      {
        "duration": 4,
        "start_time": "2022-08-11T20:34:19.885Z"
      },
      {
        "duration": 15,
        "start_time": "2022-08-11T20:34:19.891Z"
      },
      {
        "duration": 5,
        "start_time": "2022-08-11T20:34:19.908Z"
      },
      {
        "duration": 4,
        "start_time": "2022-08-11T20:34:21.309Z"
      },
      {
        "duration": 11,
        "start_time": "2022-08-11T20:34:22.193Z"
      },
      {
        "duration": 3003,
        "start_time": "2022-08-11T20:34:22.635Z"
      },
      {
        "duration": 2385,
        "start_time": "2022-08-11T20:34:25.640Z"
      },
      {
        "duration": 4380,
        "start_time": "2022-08-11T20:34:28.026Z"
      },
      {
        "duration": 27,
        "start_time": "2022-08-11T20:34:32.408Z"
      },
      {
        "duration": 5,
        "start_time": "2022-08-11T20:34:32.436Z"
      },
      {
        "duration": 27,
        "start_time": "2022-08-11T20:34:32.442Z"
      },
      {
        "duration": 131,
        "start_time": "2022-08-11T22:37:36.639Z"
      },
      {
        "duration": 0,
        "start_time": "2022-08-11T22:37:36.773Z"
      },
      {
        "duration": 0,
        "start_time": "2022-08-11T22:37:36.774Z"
      },
      {
        "duration": 0,
        "start_time": "2022-08-11T22:37:36.775Z"
      },
      {
        "duration": 0,
        "start_time": "2022-08-11T22:37:36.776Z"
      },
      {
        "duration": 0,
        "start_time": "2022-08-11T22:37:36.777Z"
      },
      {
        "duration": 0,
        "start_time": "2022-08-11T22:37:36.779Z"
      },
      {
        "duration": 0,
        "start_time": "2022-08-11T22:37:36.780Z"
      },
      {
        "duration": 0,
        "start_time": "2022-08-11T22:37:36.781Z"
      },
      {
        "duration": 0,
        "start_time": "2022-08-11T22:37:36.781Z"
      },
      {
        "duration": 0,
        "start_time": "2022-08-11T22:37:36.782Z"
      },
      {
        "duration": 0,
        "start_time": "2022-08-11T22:37:36.783Z"
      },
      {
        "duration": 0,
        "start_time": "2022-08-11T22:37:36.784Z"
      },
      {
        "duration": 0,
        "start_time": "2022-08-11T22:37:36.785Z"
      },
      {
        "duration": 0,
        "start_time": "2022-08-11T22:37:36.786Z"
      },
      {
        "duration": 0,
        "start_time": "2022-08-11T22:37:36.787Z"
      },
      {
        "duration": 0,
        "start_time": "2022-08-11T22:37:36.788Z"
      },
      {
        "duration": 0,
        "start_time": "2022-08-11T22:37:36.788Z"
      },
      {
        "duration": 0,
        "start_time": "2022-08-11T22:37:36.790Z"
      },
      {
        "duration": 1,
        "start_time": "2022-08-11T22:37:36.790Z"
      },
      {
        "duration": 0,
        "start_time": "2022-08-11T22:37:36.791Z"
      },
      {
        "duration": 0,
        "start_time": "2022-08-11T22:37:36.792Z"
      },
      {
        "duration": 0,
        "start_time": "2022-08-11T22:37:36.793Z"
      },
      {
        "duration": 0,
        "start_time": "2022-08-11T22:37:36.794Z"
      },
      {
        "duration": 0,
        "start_time": "2022-08-11T22:37:36.795Z"
      },
      {
        "duration": 0,
        "start_time": "2022-08-11T22:37:36.796Z"
      },
      {
        "duration": 0,
        "start_time": "2022-08-11T22:37:36.797Z"
      },
      {
        "duration": 1,
        "start_time": "2022-08-11T22:37:36.797Z"
      },
      {
        "duration": 0,
        "start_time": "2022-08-11T22:37:36.799Z"
      },
      {
        "duration": 0,
        "start_time": "2022-08-11T22:37:36.800Z"
      },
      {
        "duration": 0,
        "start_time": "2022-08-11T22:37:36.800Z"
      },
      {
        "duration": 0,
        "start_time": "2022-08-11T22:37:36.801Z"
      },
      {
        "duration": 0,
        "start_time": "2022-08-11T22:37:36.803Z"
      },
      {
        "duration": 0,
        "start_time": "2022-08-11T22:37:36.804Z"
      },
      {
        "duration": 0,
        "start_time": "2022-08-11T22:37:36.805Z"
      },
      {
        "duration": 0,
        "start_time": "2022-08-11T22:37:36.805Z"
      },
      {
        "duration": 1534,
        "start_time": "2022-08-11T22:38:23.178Z"
      },
      {
        "duration": 1575,
        "start_time": "2022-08-11T22:38:31.766Z"
      },
      {
        "duration": 2,
        "start_time": "2022-08-11T22:38:33.343Z"
      },
      {
        "duration": 76,
        "start_time": "2022-08-11T22:38:33.346Z"
      },
      {
        "duration": 19,
        "start_time": "2022-08-11T22:38:33.424Z"
      },
      {
        "duration": 11,
        "start_time": "2022-08-11T22:38:33.444Z"
      },
      {
        "duration": 25,
        "start_time": "2022-08-11T22:38:33.457Z"
      },
      {
        "duration": 3,
        "start_time": "2022-08-11T22:38:33.484Z"
      },
      {
        "duration": 17,
        "start_time": "2022-08-11T22:38:33.489Z"
      },
      {
        "duration": 7,
        "start_time": "2022-08-11T22:38:33.507Z"
      },
      {
        "duration": 6,
        "start_time": "2022-08-11T22:38:33.516Z"
      },
      {
        "duration": 12,
        "start_time": "2022-08-11T22:38:33.524Z"
      },
      {
        "duration": 11,
        "start_time": "2022-08-11T22:38:33.537Z"
      },
      {
        "duration": 12,
        "start_time": "2022-08-11T22:38:33.549Z"
      },
      {
        "duration": 5,
        "start_time": "2022-08-11T22:38:33.562Z"
      },
      {
        "duration": 6,
        "start_time": "2022-08-11T22:38:33.568Z"
      },
      {
        "duration": 10,
        "start_time": "2022-08-11T22:38:33.575Z"
      },
      {
        "duration": 6,
        "start_time": "2022-08-11T22:38:33.586Z"
      },
      {
        "duration": 13,
        "start_time": "2022-08-11T22:38:33.593Z"
      },
      {
        "duration": 3960,
        "start_time": "2022-08-11T22:38:33.608Z"
      },
      {
        "duration": 4,
        "start_time": "2022-08-11T22:38:37.569Z"
      },
      {
        "duration": 6,
        "start_time": "2022-08-11T22:38:37.574Z"
      },
      {
        "duration": 6,
        "start_time": "2022-08-11T22:38:37.582Z"
      },
      {
        "duration": 17,
        "start_time": "2022-08-11T22:38:37.589Z"
      },
      {
        "duration": 2337,
        "start_time": "2022-08-11T22:38:37.607Z"
      },
      {
        "duration": 4,
        "start_time": "2022-08-11T22:38:39.945Z"
      },
      {
        "duration": 5,
        "start_time": "2022-08-11T22:38:39.951Z"
      },
      {
        "duration": 10,
        "start_time": "2022-08-11T22:38:39.958Z"
      },
      {
        "duration": 411,
        "start_time": "2022-08-11T22:38:39.970Z"
      },
      {
        "duration": 3,
        "start_time": "2022-08-11T22:38:40.383Z"
      },
      {
        "duration": 19,
        "start_time": "2022-08-11T22:38:40.388Z"
      },
      {
        "duration": 2898,
        "start_time": "2022-08-11T22:38:40.409Z"
      },
      {
        "duration": 2293,
        "start_time": "2022-08-11T22:38:43.309Z"
      },
      {
        "duration": 4171,
        "start_time": "2022-08-11T22:38:45.603Z"
      },
      {
        "duration": 37,
        "start_time": "2022-08-11T22:38:49.777Z"
      },
      {
        "duration": 5,
        "start_time": "2022-08-11T22:38:49.816Z"
      },
      {
        "duration": 23,
        "start_time": "2022-08-11T22:38:49.822Z"
      },
      {
        "duration": 42,
        "start_time": "2022-08-12T14:03:56.704Z"
      },
      {
        "duration": 5,
        "start_time": "2022-08-12T14:03:59.012Z"
      },
      {
        "duration": 6,
        "start_time": "2022-08-12T14:03:59.383Z"
      },
      {
        "duration": 1011,
        "start_time": "2022-08-12T14:04:05.160Z"
      },
      {
        "duration": 3,
        "start_time": "2022-08-12T14:04:06.173Z"
      },
      {
        "duration": 126,
        "start_time": "2022-08-12T14:04:06.178Z"
      },
      {
        "duration": 7,
        "start_time": "2022-08-12T14:04:06.306Z"
      },
      {
        "duration": 49,
        "start_time": "2022-08-12T14:04:06.315Z"
      },
      {
        "duration": 58,
        "start_time": "2022-08-12T14:06:10.669Z"
      },
      {
        "duration": 8,
        "start_time": "2022-08-12T14:06:11.030Z"
      },
      {
        "duration": 63,
        "start_time": "2022-08-12T14:06:33.473Z"
      },
      {
        "duration": 394,
        "start_time": "2022-08-12T14:06:36.369Z"
      },
      {
        "duration": 517,
        "start_time": "2022-08-12T14:06:47.025Z"
      },
      {
        "duration": 70913,
        "start_time": "2022-08-12T14:06:52.982Z"
      },
      {
        "duration": 11,
        "start_time": "2022-08-12T14:08:03.897Z"
      },
      {
        "duration": 21440,
        "start_time": "2022-08-12T14:08:49.701Z"
      },
      {
        "duration": 12,
        "start_time": "2022-08-12T14:09:11.143Z"
      },
      {
        "duration": 14142,
        "start_time": "2022-08-12T14:09:36.983Z"
      },
      {
        "duration": 1031,
        "start_time": "2022-08-12T14:09:51.127Z"
      },
      {
        "duration": 6850,
        "start_time": "2022-08-12T14:09:54.454Z"
      },
      {
        "duration": 74,
        "start_time": "2022-08-12T14:16:48.223Z"
      },
      {
        "duration": 4,
        "start_time": "2022-08-12T14:16:56.887Z"
      },
      {
        "duration": 3,
        "start_time": "2022-08-12T14:16:57.231Z"
      },
      {
        "duration": 8,
        "start_time": "2022-08-12T14:16:57.524Z"
      },
      {
        "duration": 24,
        "start_time": "2022-08-12T14:17:14.423Z"
      },
      {
        "duration": 29,
        "start_time": "2022-08-12T14:17:28.373Z"
      },
      {
        "duration": 24,
        "start_time": "2022-08-12T14:18:20.142Z"
      },
      {
        "duration": 23,
        "start_time": "2022-08-12T14:18:27.297Z"
      },
      {
        "duration": 24,
        "start_time": "2022-08-12T14:18:29.822Z"
      },
      {
        "duration": 72,
        "start_time": "2022-08-12T14:26:10.282Z"
      },
      {
        "duration": 2088,
        "start_time": "2022-08-12T14:27:34.499Z"
      },
      {
        "duration": 16,
        "start_time": "2022-08-12T14:27:40.201Z"
      },
      {
        "duration": 4,
        "start_time": "2022-08-12T14:27:42.369Z"
      },
      {
        "duration": 19,
        "start_time": "2022-08-12T14:33:54.163Z"
      },
      {
        "duration": 4,
        "start_time": "2022-08-12T14:33:57.390Z"
      },
      {
        "duration": 3,
        "start_time": "2022-08-12T14:33:57.531Z"
      },
      {
        "duration": 18,
        "start_time": "2022-08-12T14:33:57.680Z"
      },
      {
        "duration": 16,
        "start_time": "2022-08-12T14:34:16.603Z"
      },
      {
        "duration": 8,
        "start_time": "2022-08-12T14:34:24.596Z"
      },
      {
        "duration": 53,
        "start_time": "2022-08-12T14:36:02.684Z"
      },
      {
        "duration": 3,
        "start_time": "2022-08-12T15:54:26.804Z"
      },
      {
        "duration": 11,
        "start_time": "2022-08-12T15:59:45.274Z"
      },
      {
        "duration": 14,
        "start_time": "2022-08-12T15:59:50.084Z"
      },
      {
        "duration": 80,
        "start_time": "2022-08-12T16:00:00.384Z"
      },
      {
        "duration": 695,
        "start_time": "2022-08-12T16:00:03.896Z"
      },
      {
        "duration": 53,
        "start_time": "2022-08-12T16:00:06.504Z"
      },
      {
        "duration": 278,
        "start_time": "2022-08-12T16:00:12.198Z"
      },
      {
        "duration": 142,
        "start_time": "2022-08-12T16:01:31.453Z"
      },
      {
        "duration": 367,
        "start_time": "2022-08-12T16:01:34.784Z"
      },
      {
        "duration": 341,
        "start_time": "2022-08-12T16:06:29.698Z"
      },
      {
        "duration": 340,
        "start_time": "2022-08-12T16:06:44.596Z"
      },
      {
        "duration": 339,
        "start_time": "2022-08-12T16:06:56.496Z"
      },
      {
        "duration": 347,
        "start_time": "2022-08-12T16:07:46.656Z"
      },
      {
        "duration": 342,
        "start_time": "2022-08-12T16:07:58.406Z"
      },
      {
        "duration": 628,
        "start_time": "2022-08-12T16:08:21.816Z"
      },
      {
        "duration": 81,
        "start_time": "2022-08-12T16:08:26.836Z"
      },
      {
        "duration": 345,
        "start_time": "2022-08-12T16:08:30.984Z"
      },
      {
        "duration": 3,
        "start_time": "2022-08-12T16:09:11.037Z"
      },
      {
        "duration": 83,
        "start_time": "2022-08-12T16:30:30.009Z"
      },
      {
        "duration": 292,
        "start_time": "2022-08-12T16:37:57.512Z"
      },
      {
        "duration": 46,
        "start_time": "2022-08-12T16:40:55.743Z"
      },
      {
        "duration": 11,
        "start_time": "2022-08-12T16:53:49.071Z"
      },
      {
        "duration": 4,
        "start_time": "2022-08-12T16:53:52.263Z"
      },
      {
        "duration": 4,
        "start_time": "2022-08-12T16:53:58.431Z"
      },
      {
        "duration": 2,
        "start_time": "2022-08-12T16:55:23.723Z"
      },
      {
        "duration": 2299,
        "start_time": "2022-08-12T17:04:57.333Z"
      },
      {
        "duration": 1912,
        "start_time": "2022-08-12T17:05:08.080Z"
      },
      {
        "duration": 69,
        "start_time": "2022-08-12T17:10:00.588Z"
      },
      {
        "duration": 159,
        "start_time": "2022-08-12T17:10:04.889Z"
      },
      {
        "duration": 11,
        "start_time": "2022-08-12T17:10:07.717Z"
      },
      {
        "duration": 3,
        "start_time": "2022-08-12T17:10:19.718Z"
      },
      {
        "duration": 10,
        "start_time": "2022-08-12T17:10:46.362Z"
      },
      {
        "duration": 13,
        "start_time": "2022-08-12T17:12:48.479Z"
      },
      {
        "duration": 3,
        "start_time": "2022-08-12T17:12:59.180Z"
      },
      {
        "duration": 2,
        "start_time": "2022-08-12T17:13:27.618Z"
      },
      {
        "duration": 5,
        "start_time": "2022-08-12T17:13:30.904Z"
      },
      {
        "duration": 3,
        "start_time": "2022-08-12T17:13:49.952Z"
      },
      {
        "duration": 11,
        "start_time": "2022-08-12T17:14:05.922Z"
      },
      {
        "duration": 3,
        "start_time": "2022-08-12T17:16:34.960Z"
      },
      {
        "duration": 4,
        "start_time": "2022-08-12T17:16:35.246Z"
      },
      {
        "duration": 12,
        "start_time": "2022-08-12T17:16:50.963Z"
      },
      {
        "duration": 10,
        "start_time": "2022-08-12T17:17:24.428Z"
      },
      {
        "duration": 14,
        "start_time": "2022-08-12T17:17:52.337Z"
      },
      {
        "duration": 3,
        "start_time": "2022-08-12T17:18:36.369Z"
      },
      {
        "duration": 5,
        "start_time": "2022-08-12T17:18:36.555Z"
      },
      {
        "duration": 5,
        "start_time": "2022-08-12T17:18:41.203Z"
      },
      {
        "duration": 4,
        "start_time": "2022-08-12T17:18:45.238Z"
      },
      {
        "duration": 4,
        "start_time": "2022-08-12T17:18:50.682Z"
      },
      {
        "duration": 13,
        "start_time": "2022-08-12T17:19:43.957Z"
      },
      {
        "duration": 3,
        "start_time": "2022-08-12T17:19:52.605Z"
      },
      {
        "duration": 4,
        "start_time": "2022-08-12T17:19:52.838Z"
      },
      {
        "duration": 5,
        "start_time": "2022-08-12T17:19:53.368Z"
      },
      {
        "duration": 5,
        "start_time": "2022-08-12T17:19:53.665Z"
      },
      {
        "duration": 7,
        "start_time": "2022-08-12T17:19:57.676Z"
      },
      {
        "duration": 6,
        "start_time": "2022-08-12T17:20:02.175Z"
      },
      {
        "duration": 10,
        "start_time": "2022-08-12T17:21:11.617Z"
      },
      {
        "duration": 9,
        "start_time": "2022-08-12T17:30:42.123Z"
      },
      {
        "duration": 10,
        "start_time": "2022-08-12T17:30:44.003Z"
      },
      {
        "duration": 9,
        "start_time": "2022-08-12T17:30:45.824Z"
      },
      {
        "duration": 11,
        "start_time": "2022-08-12T17:30:46.043Z"
      },
      {
        "duration": 9,
        "start_time": "2022-08-12T17:30:47.384Z"
      },
      {
        "duration": 4,
        "start_time": "2022-08-12T17:31:15.961Z"
      },
      {
        "duration": 4,
        "start_time": "2022-08-12T17:31:16.198Z"
      },
      {
        "duration": 4,
        "start_time": "2022-08-12T17:31:16.551Z"
      },
      {
        "duration": 8,
        "start_time": "2022-08-12T17:31:17.790Z"
      },
      {
        "duration": 4,
        "start_time": "2022-08-12T17:31:18.043Z"
      },
      {
        "duration": 4,
        "start_time": "2022-08-12T17:31:18.663Z"
      },
      {
        "duration": 3,
        "start_time": "2022-08-12T17:31:18.924Z"
      },
      {
        "duration": 1823,
        "start_time": "2022-08-12T17:31:42.007Z"
      },
      {
        "duration": 973,
        "start_time": "2022-08-12T20:23:03.468Z"
      },
      {
        "duration": 81,
        "start_time": "2022-08-12T20:23:35.439Z"
      },
      {
        "duration": 10,
        "start_time": "2022-08-12T20:23:41.387Z"
      },
      {
        "duration": 3,
        "start_time": "2022-08-12T20:25:24.695Z"
      },
      {
        "duration": 84,
        "start_time": "2022-08-12T20:28:21.274Z"
      },
      {
        "duration": 1726,
        "start_time": "2022-08-12T20:29:02.223Z"
      },
      {
        "duration": 1543,
        "start_time": "2022-08-12T20:29:11.709Z"
      },
      {
        "duration": 3,
        "start_time": "2022-08-12T20:29:13.255Z"
      },
      {
        "duration": 7,
        "start_time": "2022-08-12T20:29:13.260Z"
      },
      {
        "duration": 73,
        "start_time": "2022-08-12T20:29:13.269Z"
      },
      {
        "duration": 5,
        "start_time": "2022-08-12T20:29:13.344Z"
      },
      {
        "duration": 44,
        "start_time": "2022-08-12T20:29:13.351Z"
      },
      {
        "duration": 123,
        "start_time": "2022-08-12T20:29:13.396Z"
      },
      {
        "duration": 0,
        "start_time": "2022-08-12T20:29:13.521Z"
      },
      {
        "duration": 0,
        "start_time": "2022-08-12T20:29:13.523Z"
      },
      {
        "duration": 0,
        "start_time": "2022-08-12T20:29:13.524Z"
      },
      {
        "duration": 0,
        "start_time": "2022-08-12T20:29:13.525Z"
      },
      {
        "duration": 0,
        "start_time": "2022-08-12T20:29:13.526Z"
      },
      {
        "duration": 0,
        "start_time": "2022-08-12T20:29:13.527Z"
      },
      {
        "duration": 0,
        "start_time": "2022-08-12T20:29:13.528Z"
      },
      {
        "duration": 0,
        "start_time": "2022-08-12T20:29:13.529Z"
      },
      {
        "duration": 0,
        "start_time": "2022-08-12T20:29:13.530Z"
      },
      {
        "duration": 0,
        "start_time": "2022-08-12T20:29:13.531Z"
      },
      {
        "duration": 0,
        "start_time": "2022-08-12T20:29:13.533Z"
      },
      {
        "duration": 0,
        "start_time": "2022-08-12T20:29:13.533Z"
      },
      {
        "duration": 0,
        "start_time": "2022-08-12T20:29:13.534Z"
      },
      {
        "duration": 0,
        "start_time": "2022-08-12T20:29:13.535Z"
      },
      {
        "duration": 0,
        "start_time": "2022-08-12T20:29:13.536Z"
      },
      {
        "duration": 0,
        "start_time": "2022-08-12T20:29:13.538Z"
      },
      {
        "duration": 0,
        "start_time": "2022-08-12T20:29:13.539Z"
      },
      {
        "duration": 0,
        "start_time": "2022-08-12T20:29:13.540Z"
      },
      {
        "duration": 0,
        "start_time": "2022-08-12T20:29:13.541Z"
      },
      {
        "duration": 0,
        "start_time": "2022-08-12T20:29:13.542Z"
      },
      {
        "duration": 0,
        "start_time": "2022-08-12T20:29:13.543Z"
      },
      {
        "duration": 0,
        "start_time": "2022-08-12T20:29:13.544Z"
      },
      {
        "duration": 0,
        "start_time": "2022-08-12T20:29:13.546Z"
      },
      {
        "duration": 0,
        "start_time": "2022-08-12T20:29:13.547Z"
      },
      {
        "duration": 0,
        "start_time": "2022-08-12T20:29:13.592Z"
      },
      {
        "duration": 0,
        "start_time": "2022-08-12T20:29:13.593Z"
      },
      {
        "duration": 0,
        "start_time": "2022-08-12T20:29:13.594Z"
      },
      {
        "duration": 0,
        "start_time": "2022-08-12T20:29:13.595Z"
      },
      {
        "duration": 0,
        "start_time": "2022-08-12T20:29:13.597Z"
      },
      {
        "duration": 0,
        "start_time": "2022-08-12T20:29:13.598Z"
      },
      {
        "duration": 0,
        "start_time": "2022-08-12T20:29:13.599Z"
      },
      {
        "duration": 0,
        "start_time": "2022-08-12T20:29:13.600Z"
      },
      {
        "duration": 0,
        "start_time": "2022-08-12T20:29:13.601Z"
      },
      {
        "duration": 0,
        "start_time": "2022-08-12T20:29:13.602Z"
      },
      {
        "duration": 0,
        "start_time": "2022-08-12T20:29:13.603Z"
      },
      {
        "duration": 0,
        "start_time": "2022-08-12T20:29:13.604Z"
      },
      {
        "duration": 0,
        "start_time": "2022-08-12T20:29:13.605Z"
      },
      {
        "duration": 0,
        "start_time": "2022-08-12T20:29:13.606Z"
      },
      {
        "duration": 21500,
        "start_time": "2022-08-12T20:30:06.753Z"
      },
      {
        "duration": 987,
        "start_time": "2022-08-12T20:30:28.256Z"
      },
      {
        "duration": 2628,
        "start_time": "2022-08-12T20:30:59.333Z"
      },
      {
        "duration": 2154,
        "start_time": "2022-08-12T20:31:01.964Z"
      },
      {
        "duration": 3,
        "start_time": "2022-08-12T20:31:04.120Z"
      },
      {
        "duration": 9,
        "start_time": "2022-08-12T20:31:04.125Z"
      },
      {
        "duration": 47,
        "start_time": "2022-08-12T20:31:04.136Z"
      },
      {
        "duration": 6,
        "start_time": "2022-08-12T20:31:04.185Z"
      },
      {
        "duration": 56,
        "start_time": "2022-08-12T20:31:04.193Z"
      },
      {
        "duration": 8977,
        "start_time": "2022-08-12T20:31:04.251Z"
      },
      {
        "duration": 11,
        "start_time": "2022-08-12T20:31:13.230Z"
      },
      {
        "duration": 17,
        "start_time": "2022-08-12T20:31:13.244Z"
      },
      {
        "duration": 9,
        "start_time": "2022-08-12T20:31:13.263Z"
      },
      {
        "duration": 494,
        "start_time": "2022-08-12T20:31:13.292Z"
      },
      {
        "duration": 642,
        "start_time": "2022-08-12T20:31:13.787Z"
      },
      {
        "duration": 380,
        "start_time": "2022-08-12T20:31:14.431Z"
      },
      {
        "duration": 24,
        "start_time": "2022-08-12T20:31:14.813Z"
      },
      {
        "duration": 219,
        "start_time": "2022-08-12T20:31:14.839Z"
      },
      {
        "duration": 505,
        "start_time": "2022-08-12T20:31:15.059Z"
      },
      {
        "duration": 438,
        "start_time": "2022-08-12T20:31:15.566Z"
      },
      {
        "duration": 961,
        "start_time": "2022-08-12T20:31:16.006Z"
      },
      {
        "duration": 98,
        "start_time": "2022-08-12T20:31:16.969Z"
      },
      {
        "duration": 9,
        "start_time": "2022-08-12T20:31:17.069Z"
      },
      {
        "duration": 401,
        "start_time": "2022-08-12T20:31:17.080Z"
      },
      {
        "duration": 4491,
        "start_time": "2022-08-12T20:31:17.485Z"
      },
      {
        "duration": 135,
        "start_time": "2022-08-12T20:31:21.979Z"
      },
      {
        "duration": 0,
        "start_time": "2022-08-12T20:31:22.116Z"
      },
      {
        "duration": 0,
        "start_time": "2022-08-12T20:31:22.118Z"
      },
      {
        "duration": 0,
        "start_time": "2022-08-12T20:31:22.120Z"
      },
      {
        "duration": 0,
        "start_time": "2022-08-12T20:31:22.121Z"
      },
      {
        "duration": 0,
        "start_time": "2022-08-12T20:31:22.123Z"
      },
      {
        "duration": 0,
        "start_time": "2022-08-12T20:31:22.124Z"
      },
      {
        "duration": 0,
        "start_time": "2022-08-12T20:31:22.125Z"
      },
      {
        "duration": 0,
        "start_time": "2022-08-12T20:31:22.126Z"
      },
      {
        "duration": 0,
        "start_time": "2022-08-12T20:31:22.127Z"
      },
      {
        "duration": 0,
        "start_time": "2022-08-12T20:31:22.129Z"
      },
      {
        "duration": 0,
        "start_time": "2022-08-12T20:31:22.130Z"
      },
      {
        "duration": 0,
        "start_time": "2022-08-12T20:31:22.131Z"
      },
      {
        "duration": 0,
        "start_time": "2022-08-12T20:31:22.132Z"
      },
      {
        "duration": 0,
        "start_time": "2022-08-12T20:31:22.133Z"
      },
      {
        "duration": 0,
        "start_time": "2022-08-12T20:31:22.134Z"
      },
      {
        "duration": 0,
        "start_time": "2022-08-12T20:31:22.136Z"
      },
      {
        "duration": 0,
        "start_time": "2022-08-12T20:31:22.137Z"
      },
      {
        "duration": 0,
        "start_time": "2022-08-12T20:31:22.138Z"
      },
      {
        "duration": 0,
        "start_time": "2022-08-12T20:31:22.139Z"
      },
      {
        "duration": 0,
        "start_time": "2022-08-12T20:31:22.140Z"
      },
      {
        "duration": 0,
        "start_time": "2022-08-12T20:31:22.141Z"
      },
      {
        "duration": 2868,
        "start_time": "2022-08-12T20:33:09.680Z"
      },
      {
        "duration": 1938,
        "start_time": "2022-08-12T20:33:12.551Z"
      },
      {
        "duration": 3,
        "start_time": "2022-08-12T20:33:14.491Z"
      },
      {
        "duration": 6,
        "start_time": "2022-08-12T20:33:14.495Z"
      },
      {
        "duration": 36,
        "start_time": "2022-08-12T20:33:14.503Z"
      },
      {
        "duration": 5,
        "start_time": "2022-08-12T20:33:14.541Z"
      },
      {
        "duration": 44,
        "start_time": "2022-08-12T20:33:14.549Z"
      },
      {
        "duration": 7933,
        "start_time": "2022-08-12T20:33:14.595Z"
      },
      {
        "duration": 11,
        "start_time": "2022-08-12T20:33:22.530Z"
      },
      {
        "duration": 11,
        "start_time": "2022-08-12T20:33:22.543Z"
      },
      {
        "duration": 9,
        "start_time": "2022-08-12T20:33:22.556Z"
      },
      {
        "duration": 29,
        "start_time": "2022-08-12T20:33:22.566Z"
      },
      {
        "duration": 4,
        "start_time": "2022-08-12T20:33:22.597Z"
      },
      {
        "duration": 5,
        "start_time": "2022-08-12T20:33:22.604Z"
      },
      {
        "duration": 9,
        "start_time": "2022-08-12T20:33:22.611Z"
      },
      {
        "duration": 11,
        "start_time": "2022-08-12T20:33:22.622Z"
      },
      {
        "duration": 4,
        "start_time": "2022-08-12T20:33:22.634Z"
      },
      {
        "duration": 6,
        "start_time": "2022-08-12T20:33:22.640Z"
      },
      {
        "duration": 54,
        "start_time": "2022-08-12T20:33:22.648Z"
      },
      {
        "duration": 5,
        "start_time": "2022-08-12T20:33:22.704Z"
      },
      {
        "duration": 8,
        "start_time": "2022-08-12T20:33:22.711Z"
      },
      {
        "duration": 363,
        "start_time": "2022-08-12T20:33:22.720Z"
      },
      {
        "duration": 4047,
        "start_time": "2022-08-12T20:33:23.085Z"
      },
      {
        "duration": 3,
        "start_time": "2022-08-12T20:33:27.134Z"
      },
      {
        "duration": 11,
        "start_time": "2022-08-12T20:33:27.139Z"
      },
      {
        "duration": 8,
        "start_time": "2022-08-12T20:33:27.154Z"
      },
      {
        "duration": 7,
        "start_time": "2022-08-12T20:33:27.164Z"
      },
      {
        "duration": 2359,
        "start_time": "2022-08-12T20:33:27.173Z"
      },
      {
        "duration": 5,
        "start_time": "2022-08-12T20:33:29.534Z"
      },
      {
        "duration": 10,
        "start_time": "2022-08-12T20:33:29.541Z"
      },
      {
        "duration": 23,
        "start_time": "2022-08-12T20:33:29.553Z"
      },
      {
        "duration": 422,
        "start_time": "2022-08-12T20:33:29.578Z"
      },
      {
        "duration": 4,
        "start_time": "2022-08-12T20:33:30.002Z"
      },
      {
        "duration": 27,
        "start_time": "2022-08-12T20:33:30.008Z"
      },
      {
        "duration": 19,
        "start_time": "2022-08-12T20:33:30.036Z"
      },
      {
        "duration": 3285,
        "start_time": "2022-08-12T20:33:30.057Z"
      },
      {
        "duration": 2580,
        "start_time": "2022-08-12T20:33:33.345Z"
      },
      {
        "duration": 4965,
        "start_time": "2022-08-12T20:33:35.928Z"
      },
      {
        "duration": 27,
        "start_time": "2022-08-12T20:33:40.895Z"
      },
      {
        "duration": 5,
        "start_time": "2022-08-12T20:33:40.924Z"
      },
      {
        "duration": 29,
        "start_time": "2022-08-12T20:33:40.932Z"
      },
      {
        "duration": 3,
        "start_time": "2022-08-12T20:33:40.963Z"
      },
      {
        "duration": 179,
        "start_time": "2022-08-12T20:33:40.967Z"
      },
      {
        "duration": 173,
        "start_time": "2022-08-12T20:33:41.148Z"
      },
      {
        "duration": 155,
        "start_time": "2022-08-12T20:34:14.558Z"
      },
      {
        "duration": 145,
        "start_time": "2022-08-12T20:34:32.838Z"
      },
      {
        "duration": 166,
        "start_time": "2022-08-12T20:34:39.124Z"
      },
      {
        "duration": 170,
        "start_time": "2022-08-12T20:34:48.926Z"
      },
      {
        "duration": 184,
        "start_time": "2022-08-12T20:49:01.937Z"
      },
      {
        "duration": 10,
        "start_time": "2022-08-12T20:56:50.405Z"
      },
      {
        "duration": 3242,
        "start_time": "2022-08-12T20:56:57.648Z"
      },
      {
        "duration": 2670,
        "start_time": "2022-08-12T20:57:18.845Z"
      },
      {
        "duration": 316,
        "start_time": "2022-08-12T20:59:28.433Z"
      },
      {
        "duration": 316,
        "start_time": "2022-08-12T20:59:35.449Z"
      },
      {
        "duration": 2462,
        "start_time": "2022-08-12T20:59:51.079Z"
      },
      {
        "duration": 5,
        "start_time": "2022-08-12T21:00:00.035Z"
      },
      {
        "duration": 29,
        "start_time": "2022-08-12T21:00:40.270Z"
      },
      {
        "duration": 25,
        "start_time": "2022-08-12T21:01:08.155Z"
      },
      {
        "duration": 2448,
        "start_time": "2022-08-12T21:01:53.231Z"
      },
      {
        "duration": 2429,
        "start_time": "2022-08-12T21:03:17.290Z"
      },
      {
        "duration": 5,
        "start_time": "2022-08-12T21:03:20.275Z"
      },
      {
        "duration": 26,
        "start_time": "2022-08-12T21:05:09.888Z"
      },
      {
        "duration": 6,
        "start_time": "2022-08-12T21:05:15.838Z"
      },
      {
        "duration": 25,
        "start_time": "2022-08-12T21:05:16.400Z"
      },
      {
        "duration": 2860,
        "start_time": "2022-08-12T21:09:24.067Z"
      },
      {
        "duration": 2588,
        "start_time": "2022-08-12T21:09:26.930Z"
      },
      {
        "duration": 3,
        "start_time": "2022-08-12T21:09:29.520Z"
      },
      {
        "duration": 175,
        "start_time": "2022-08-12T21:09:29.525Z"
      },
      {
        "duration": 149,
        "start_time": "2022-08-12T21:09:29.703Z"
      },
      {
        "duration": 137,
        "start_time": "2022-08-12T21:09:29.853Z"
      },
      {
        "duration": 136,
        "start_time": "2022-08-12T21:09:29.993Z"
      },
      {
        "duration": 9290,
        "start_time": "2022-08-12T21:09:30.130Z"
      },
      {
        "duration": 14,
        "start_time": "2022-08-12T21:09:39.422Z"
      },
      {
        "duration": 19,
        "start_time": "2022-08-12T21:09:39.439Z"
      },
      {
        "duration": 5,
        "start_time": "2022-08-12T21:09:39.461Z"
      },
      {
        "duration": 28,
        "start_time": "2022-08-12T21:09:39.468Z"
      },
      {
        "duration": 5,
        "start_time": "2022-08-12T21:09:39.498Z"
      },
      {
        "duration": 10,
        "start_time": "2022-08-12T21:09:39.504Z"
      },
      {
        "duration": 5,
        "start_time": "2022-08-12T21:09:39.516Z"
      },
      {
        "duration": 11,
        "start_time": "2022-08-12T21:09:39.523Z"
      },
      {
        "duration": 5,
        "start_time": "2022-08-12T21:09:39.535Z"
      },
      {
        "duration": 9,
        "start_time": "2022-08-12T21:09:39.541Z"
      },
      {
        "duration": 6,
        "start_time": "2022-08-12T21:09:39.552Z"
      },
      {
        "duration": 35,
        "start_time": "2022-08-12T21:09:39.559Z"
      },
      {
        "duration": 7,
        "start_time": "2022-08-12T21:09:39.596Z"
      },
      {
        "duration": 389,
        "start_time": "2022-08-12T21:09:39.604Z"
      },
      {
        "duration": 4043,
        "start_time": "2022-08-12T21:09:39.996Z"
      },
      {
        "duration": 4,
        "start_time": "2022-08-12T21:09:44.041Z"
      },
      {
        "duration": 9,
        "start_time": "2022-08-12T21:09:44.047Z"
      },
      {
        "duration": 7,
        "start_time": "2022-08-12T21:09:44.059Z"
      },
      {
        "duration": 13,
        "start_time": "2022-08-12T21:09:44.068Z"
      },
      {
        "duration": 2285,
        "start_time": "2022-08-12T21:09:44.095Z"
      },
      {
        "duration": 10,
        "start_time": "2022-08-12T21:09:46.383Z"
      },
      {
        "duration": 8,
        "start_time": "2022-08-12T21:09:46.395Z"
      },
      {
        "duration": 8,
        "start_time": "2022-08-12T21:09:46.405Z"
      },
      {
        "duration": 335,
        "start_time": "2022-08-12T21:09:46.415Z"
      },
      {
        "duration": 4,
        "start_time": "2022-08-12T21:09:46.752Z"
      },
      {
        "duration": 10,
        "start_time": "2022-08-12T21:09:46.758Z"
      },
      {
        "duration": 3231,
        "start_time": "2022-08-12T21:09:46.770Z"
      },
      {
        "duration": 2632,
        "start_time": "2022-08-12T21:09:50.002Z"
      },
      {
        "duration": 2426,
        "start_time": "2022-08-12T21:09:52.637Z"
      },
      {
        "duration": 31,
        "start_time": "2022-08-12T21:09:55.065Z"
      },
      {
        "duration": 6,
        "start_time": "2022-08-12T21:09:55.098Z"
      },
      {
        "duration": 44,
        "start_time": "2022-08-12T21:09:55.105Z"
      },
      {
        "duration": 3,
        "start_time": "2022-08-12T21:09:55.150Z"
      },
      {
        "duration": 158,
        "start_time": "2022-08-12T21:09:55.155Z"
      },
      {
        "duration": 170,
        "start_time": "2022-08-12T21:09:55.316Z"
      },
      {
        "duration": 1602,
        "start_time": "2022-09-01T12:55:47.148Z"
      },
      {
        "duration": 0,
        "start_time": "2022-09-01T12:55:48.753Z"
      },
      {
        "duration": 0,
        "start_time": "2022-09-01T12:55:48.756Z"
      },
      {
        "duration": 0,
        "start_time": "2022-09-01T12:55:48.757Z"
      },
      {
        "duration": 0,
        "start_time": "2022-09-01T12:55:48.759Z"
      },
      {
        "duration": 0,
        "start_time": "2022-09-01T12:55:48.760Z"
      },
      {
        "duration": 0,
        "start_time": "2022-09-01T12:55:48.762Z"
      },
      {
        "duration": 0,
        "start_time": "2022-09-01T12:55:48.763Z"
      },
      {
        "duration": 0,
        "start_time": "2022-09-01T12:55:48.764Z"
      },
      {
        "duration": 0,
        "start_time": "2022-09-01T12:55:48.765Z"
      },
      {
        "duration": 0,
        "start_time": "2022-09-01T12:55:48.786Z"
      },
      {
        "duration": 0,
        "start_time": "2022-09-01T12:55:48.790Z"
      },
      {
        "duration": 0,
        "start_time": "2022-09-01T12:55:48.793Z"
      },
      {
        "duration": 0,
        "start_time": "2022-09-01T12:55:48.794Z"
      },
      {
        "duration": 0,
        "start_time": "2022-09-01T12:55:48.797Z"
      },
      {
        "duration": 0,
        "start_time": "2022-09-01T12:55:48.797Z"
      },
      {
        "duration": 0,
        "start_time": "2022-09-01T12:55:48.800Z"
      },
      {
        "duration": 0,
        "start_time": "2022-09-01T12:55:48.801Z"
      },
      {
        "duration": 0,
        "start_time": "2022-09-01T12:55:48.802Z"
      },
      {
        "duration": 0,
        "start_time": "2022-09-01T12:55:48.803Z"
      },
      {
        "duration": 0,
        "start_time": "2022-09-01T12:55:48.804Z"
      },
      {
        "duration": 0,
        "start_time": "2022-09-01T12:55:48.809Z"
      },
      {
        "duration": 0,
        "start_time": "2022-09-01T12:55:48.810Z"
      },
      {
        "duration": 0,
        "start_time": "2022-09-01T12:55:48.811Z"
      },
      {
        "duration": 0,
        "start_time": "2022-09-01T12:55:48.816Z"
      },
      {
        "duration": 0,
        "start_time": "2022-09-01T12:55:48.817Z"
      },
      {
        "duration": 0,
        "start_time": "2022-09-01T12:55:48.819Z"
      },
      {
        "duration": 0,
        "start_time": "2022-09-01T12:55:48.820Z"
      },
      {
        "duration": 0,
        "start_time": "2022-09-01T12:55:48.822Z"
      },
      {
        "duration": 0,
        "start_time": "2022-09-01T12:55:48.824Z"
      },
      {
        "duration": 0,
        "start_time": "2022-09-01T12:55:48.825Z"
      },
      {
        "duration": 0,
        "start_time": "2022-09-01T12:55:48.827Z"
      },
      {
        "duration": 0,
        "start_time": "2022-09-01T12:55:48.828Z"
      },
      {
        "duration": 0,
        "start_time": "2022-09-01T12:55:48.830Z"
      },
      {
        "duration": 0,
        "start_time": "2022-09-01T12:55:48.831Z"
      },
      {
        "duration": 0,
        "start_time": "2022-09-01T12:55:48.832Z"
      },
      {
        "duration": 0,
        "start_time": "2022-09-01T12:55:48.833Z"
      },
      {
        "duration": 0,
        "start_time": "2022-09-01T12:55:48.885Z"
      },
      {
        "duration": 0,
        "start_time": "2022-09-01T12:55:48.888Z"
      },
      {
        "duration": 0,
        "start_time": "2022-09-01T12:55:48.889Z"
      },
      {
        "duration": 0,
        "start_time": "2022-09-01T12:55:48.890Z"
      },
      {
        "duration": 88318,
        "start_time": "2022-09-01T12:56:05.575Z"
      },
      {
        "duration": 90656,
        "start_time": "2022-09-01T12:59:27.412Z"
      },
      {
        "duration": 703,
        "start_time": "2022-09-01T16:49:44.439Z"
      },
      {
        "duration": 4,
        "start_time": "2022-09-01T16:49:47.275Z"
      },
      {
        "duration": 4686,
        "start_time": "2022-09-01T16:49:47.635Z"
      },
      {
        "duration": 5,
        "start_time": "2022-09-01T16:49:52.324Z"
      },
      {
        "duration": 15,
        "start_time": "2022-09-01T16:49:52.333Z"
      },
      {
        "duration": 15,
        "start_time": "2022-09-01T16:49:52.350Z"
      },
      {
        "duration": 150,
        "start_time": "2022-09-01T16:49:53.065Z"
      },
      {
        "duration": 8,
        "start_time": "2022-09-01T16:49:53.825Z"
      },
      {
        "duration": 60,
        "start_time": "2022-09-01T16:49:54.525Z"
      },
      {
        "duration": 6916,
        "start_time": "2022-09-01T16:49:57.267Z"
      },
      {
        "duration": 0,
        "start_time": "2022-09-01T16:50:04.193Z"
      },
      {
        "duration": 0,
        "start_time": "2022-09-01T16:50:04.195Z"
      },
      {
        "duration": 5,
        "start_time": "2022-09-01T16:50:07.042Z"
      },
      {
        "duration": 3,
        "start_time": "2022-09-01T16:50:07.745Z"
      },
      {
        "duration": 11,
        "start_time": "2022-09-01T16:50:07.938Z"
      },
      {
        "duration": 3,
        "start_time": "2022-09-01T16:50:08.841Z"
      },
      {
        "duration": 6,
        "start_time": "2022-09-01T16:50:09.155Z"
      },
      {
        "duration": 3,
        "start_time": "2022-09-01T16:50:10.465Z"
      },
      {
        "duration": 9,
        "start_time": "2022-09-01T16:50:10.803Z"
      },
      {
        "duration": 2979,
        "start_time": "2022-09-01T17:41:00.387Z"
      },
      {
        "duration": 5,
        "start_time": "2022-09-01T17:41:03.384Z"
      },
      {
        "duration": 67,
        "start_time": "2022-09-01T17:41:03.393Z"
      },
      {
        "duration": 94,
        "start_time": "2022-09-01T17:41:03.463Z"
      },
      {
        "duration": 9,
        "start_time": "2022-09-01T17:41:03.559Z"
      },
      {
        "duration": 98,
        "start_time": "2022-09-01T17:41:03.570Z"
      },
      {
        "duration": 6651,
        "start_time": "2022-09-01T17:41:03.669Z"
      },
      {
        "duration": 16,
        "start_time": "2022-09-01T17:41:10.323Z"
      },
      {
        "duration": 39,
        "start_time": "2022-09-01T17:41:10.342Z"
      },
      {
        "duration": 46,
        "start_time": "2022-09-01T17:41:10.384Z"
      },
      {
        "duration": 42,
        "start_time": "2022-09-01T17:41:10.436Z"
      },
      {
        "duration": 57,
        "start_time": "2022-09-01T17:41:10.480Z"
      },
      {
        "duration": 61,
        "start_time": "2022-09-01T17:41:10.542Z"
      },
      {
        "duration": 44,
        "start_time": "2022-09-01T17:41:10.607Z"
      },
      {
        "duration": 20,
        "start_time": "2022-09-01T17:41:10.654Z"
      },
      {
        "duration": 41,
        "start_time": "2022-09-01T17:41:10.677Z"
      },
      {
        "duration": 17,
        "start_time": "2022-09-01T17:41:10.720Z"
      },
      {
        "duration": 16,
        "start_time": "2022-09-01T17:41:10.740Z"
      },
      {
        "duration": 17,
        "start_time": "2022-09-01T17:41:10.758Z"
      },
      {
        "duration": 45,
        "start_time": "2022-09-01T17:41:10.777Z"
      },
      {
        "duration": 528,
        "start_time": "2022-09-01T17:41:10.824Z"
      },
      {
        "duration": 4916,
        "start_time": "2022-09-01T17:41:11.354Z"
      },
      {
        "duration": 19,
        "start_time": "2022-09-01T17:41:16.272Z"
      },
      {
        "duration": 29,
        "start_time": "2022-09-01T17:41:16.292Z"
      },
      {
        "duration": 11,
        "start_time": "2022-09-01T17:41:16.323Z"
      },
      {
        "duration": 18,
        "start_time": "2022-09-01T17:41:16.336Z"
      },
      {
        "duration": 2961,
        "start_time": "2022-09-01T17:41:16.357Z"
      },
      {
        "duration": 6,
        "start_time": "2022-09-01T17:41:19.323Z"
      },
      {
        "duration": 7,
        "start_time": "2022-09-01T17:41:19.331Z"
      },
      {
        "duration": 10,
        "start_time": "2022-09-01T17:41:19.340Z"
      },
      {
        "duration": 392,
        "start_time": "2022-09-01T17:41:19.352Z"
      },
      {
        "duration": 6,
        "start_time": "2022-09-01T17:41:19.747Z"
      },
      {
        "duration": 38,
        "start_time": "2022-09-01T17:41:19.755Z"
      },
      {
        "duration": 3843,
        "start_time": "2022-09-01T17:41:19.795Z"
      },
      {
        "duration": 3357,
        "start_time": "2022-09-01T17:41:23.641Z"
      },
      {
        "duration": 2905,
        "start_time": "2022-09-01T17:41:27.001Z"
      },
      {
        "duration": 33,
        "start_time": "2022-09-01T17:41:29.908Z"
      },
      {
        "duration": 14,
        "start_time": "2022-09-01T17:41:29.943Z"
      },
      {
        "duration": 89,
        "start_time": "2022-09-01T17:41:29.959Z"
      },
      {
        "duration": 289,
        "start_time": "2022-09-01T17:41:30.051Z"
      },
      {
        "duration": 280,
        "start_time": "2022-09-01T17:41:30.342Z"
      }
    ],
    "kernelspec": {
      "display_name": "Python 3 (ipykernel)",
      "language": "python",
      "name": "python3"
    },
    "language_info": {
      "codemirror_mode": {
        "name": "ipython",
        "version": 3
      },
      "file_extension": ".py",
      "mimetype": "text/x-python",
      "name": "python",
      "nbconvert_exporter": "python",
      "pygments_lexer": "ipython3",
      "version": "3.9.5"
    },
    "toc": {
      "base_numbering": 1,
      "nav_menu": {},
      "number_sections": true,
      "sideBar": true,
      "skip_h1_title": true,
      "title_cell": "Table of Contents",
      "title_sidebar": "Contents",
      "toc_cell": false,
      "toc_position": {},
      "toc_section_display": true,
      "toc_window_display": false
    },
    "colab": {
      "provenance": []
    }
  },
  "nbformat": 4,
  "nbformat_minor": 0
}