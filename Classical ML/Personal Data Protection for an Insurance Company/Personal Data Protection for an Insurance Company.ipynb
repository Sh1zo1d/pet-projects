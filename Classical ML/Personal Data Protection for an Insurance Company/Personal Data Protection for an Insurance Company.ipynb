{
  "cells": [
    {
      "cell_type": "markdown",
      "metadata": {
        "id": "Z0DwDxGcPV0C"
      },
      "source": [
        "# Защита персональных данных клиентов"
      ]
    },
    {
      "cell_type": "markdown",
      "metadata": {
        "id": "HgSzmnnePV0C"
      },
      "source": [
        "Вам нужно защитить данные клиентов страховой компании «Хоть потоп». Разработайте такой метод преобразования данных, чтобы по ним было сложно восстановить персональную информацию. Обоснуйте корректность его работы.\n",
        "\n",
        "Нужно защитить данные, чтобы при преобразовании качество моделей машинного обучения не ухудшилось. Подбирать наилучшую модель не требуется."
      ]
    },
    {
      "cell_type": "code",
      "execution_count": null,
      "metadata": {
        "id": "YDAOoix5PV0C"
      },
      "outputs": [],
      "source": [
        "\n",
        "import pandas as pd\n",
        "import numpy as np\n",
        "from sklearn.model_selection import train_test_split\n",
        "from sklearn.linear_model import LinearRegression"
      ]
    },
    {
      "cell_type": "markdown",
      "metadata": {
        "id": "UTijbBjvPV0D"
      },
      "source": [
        "## Загрузка данных"
      ]
    },
    {
      "cell_type": "code",
      "execution_count": null,
      "metadata": {
        "id": "CurOyhs-PV0E"
      },
      "outputs": [],
      "source": [
        "rs = 7"
      ]
    },
    {
      "cell_type": "code",
      "execution_count": null,
      "metadata": {
        "id": "xzS1dP0yPV0F"
      },
      "outputs": [],
      "source": [
        "data = pd.read_csv('/datasets/insurance.csv')"
      ]
    },
    {
      "cell_type": "code",
      "execution_count": null,
      "metadata": {
        "scrolled": true,
        "id": "L5QX5oNYPV0F",
        "outputId": "47147c72-9a22-4f70-8049-6e324c4b7e1d"
      },
      "outputs": [
        {
          "data": {
            "text/html": [
              "<div>\n",
              "<style scoped>\n",
              "    .dataframe tbody tr th:only-of-type {\n",
              "        vertical-align: middle;\n",
              "    }\n",
              "\n",
              "    .dataframe tbody tr th {\n",
              "        vertical-align: top;\n",
              "    }\n",
              "\n",
              "    .dataframe thead th {\n",
              "        text-align: right;\n",
              "    }\n",
              "</style>\n",
              "<table border=\"1\" class=\"dataframe\">\n",
              "  <thead>\n",
              "    <tr style=\"text-align: right;\">\n",
              "      <th></th>\n",
              "      <th>Пол</th>\n",
              "      <th>Возраст</th>\n",
              "      <th>Зарплата</th>\n",
              "      <th>Члены семьи</th>\n",
              "      <th>Страховые выплаты</th>\n",
              "    </tr>\n",
              "  </thead>\n",
              "  <tbody>\n",
              "    <tr>\n",
              "      <th>0</th>\n",
              "      <td>1</td>\n",
              "      <td>41.0</td>\n",
              "      <td>49600.0</td>\n",
              "      <td>1</td>\n",
              "      <td>0</td>\n",
              "    </tr>\n",
              "    <tr>\n",
              "      <th>1</th>\n",
              "      <td>0</td>\n",
              "      <td>46.0</td>\n",
              "      <td>38000.0</td>\n",
              "      <td>1</td>\n",
              "      <td>1</td>\n",
              "    </tr>\n",
              "    <tr>\n",
              "      <th>2</th>\n",
              "      <td>0</td>\n",
              "      <td>29.0</td>\n",
              "      <td>21000.0</td>\n",
              "      <td>0</td>\n",
              "      <td>0</td>\n",
              "    </tr>\n",
              "    <tr>\n",
              "      <th>3</th>\n",
              "      <td>0</td>\n",
              "      <td>21.0</td>\n",
              "      <td>41700.0</td>\n",
              "      <td>2</td>\n",
              "      <td>0</td>\n",
              "    </tr>\n",
              "    <tr>\n",
              "      <th>4</th>\n",
              "      <td>1</td>\n",
              "      <td>28.0</td>\n",
              "      <td>26100.0</td>\n",
              "      <td>0</td>\n",
              "      <td>0</td>\n",
              "    </tr>\n",
              "  </tbody>\n",
              "</table>\n",
              "</div>"
            ],
            "text/plain": [
              "   Пол  Возраст  Зарплата  Члены семьи  Страховые выплаты\n",
              "0    1     41.0   49600.0            1                  0\n",
              "1    0     46.0   38000.0            1                  1\n",
              "2    0     29.0   21000.0            0                  0\n",
              "3    0     21.0   41700.0            2                  0\n",
              "4    1     28.0   26100.0            0                  0"
            ]
          },
          "execution_count": 4,
          "metadata": {},
          "output_type": "execute_result"
        }
      ],
      "source": [
        "data.head()"
      ]
    },
    {
      "cell_type": "code",
      "execution_count": null,
      "metadata": {
        "scrolled": true,
        "id": "SXCfRY8fPV0G",
        "outputId": "1bd0835a-30c2-428a-8147-d966a8d6dc9c"
      },
      "outputs": [
        {
          "data": {
            "text/html": [
              "<div>\n",
              "<style scoped>\n",
              "    .dataframe tbody tr th:only-of-type {\n",
              "        vertical-align: middle;\n",
              "    }\n",
              "\n",
              "    .dataframe tbody tr th {\n",
              "        vertical-align: top;\n",
              "    }\n",
              "\n",
              "    .dataframe thead th {\n",
              "        text-align: right;\n",
              "    }\n",
              "</style>\n",
              "<table border=\"1\" class=\"dataframe\">\n",
              "  <thead>\n",
              "    <tr style=\"text-align: right;\">\n",
              "      <th></th>\n",
              "      <th>Пол</th>\n",
              "      <th>Возраст</th>\n",
              "      <th>Зарплата</th>\n",
              "      <th>Члены семьи</th>\n",
              "      <th>Страховые выплаты</th>\n",
              "    </tr>\n",
              "  </thead>\n",
              "  <tbody>\n",
              "    <tr>\n",
              "      <th>count</th>\n",
              "      <td>5000.000000</td>\n",
              "      <td>5000.000000</td>\n",
              "      <td>5000.000000</td>\n",
              "      <td>5000.000000</td>\n",
              "      <td>5000.000000</td>\n",
              "    </tr>\n",
              "    <tr>\n",
              "      <th>mean</th>\n",
              "      <td>0.499000</td>\n",
              "      <td>30.952800</td>\n",
              "      <td>39916.360000</td>\n",
              "      <td>1.194200</td>\n",
              "      <td>0.148000</td>\n",
              "    </tr>\n",
              "    <tr>\n",
              "      <th>std</th>\n",
              "      <td>0.500049</td>\n",
              "      <td>8.440807</td>\n",
              "      <td>9900.083569</td>\n",
              "      <td>1.091387</td>\n",
              "      <td>0.463183</td>\n",
              "    </tr>\n",
              "    <tr>\n",
              "      <th>min</th>\n",
              "      <td>0.000000</td>\n",
              "      <td>18.000000</td>\n",
              "      <td>5300.000000</td>\n",
              "      <td>0.000000</td>\n",
              "      <td>0.000000</td>\n",
              "    </tr>\n",
              "    <tr>\n",
              "      <th>25%</th>\n",
              "      <td>0.000000</td>\n",
              "      <td>24.000000</td>\n",
              "      <td>33300.000000</td>\n",
              "      <td>0.000000</td>\n",
              "      <td>0.000000</td>\n",
              "    </tr>\n",
              "    <tr>\n",
              "      <th>50%</th>\n",
              "      <td>0.000000</td>\n",
              "      <td>30.000000</td>\n",
              "      <td>40200.000000</td>\n",
              "      <td>1.000000</td>\n",
              "      <td>0.000000</td>\n",
              "    </tr>\n",
              "    <tr>\n",
              "      <th>75%</th>\n",
              "      <td>1.000000</td>\n",
              "      <td>37.000000</td>\n",
              "      <td>46600.000000</td>\n",
              "      <td>2.000000</td>\n",
              "      <td>0.000000</td>\n",
              "    </tr>\n",
              "    <tr>\n",
              "      <th>max</th>\n",
              "      <td>1.000000</td>\n",
              "      <td>65.000000</td>\n",
              "      <td>79000.000000</td>\n",
              "      <td>6.000000</td>\n",
              "      <td>5.000000</td>\n",
              "    </tr>\n",
              "  </tbody>\n",
              "</table>\n",
              "</div>"
            ],
            "text/plain": [
              "               Пол      Возраст      Зарплата  Члены семьи  Страховые выплаты\n",
              "count  5000.000000  5000.000000   5000.000000  5000.000000        5000.000000\n",
              "mean      0.499000    30.952800  39916.360000     1.194200           0.148000\n",
              "std       0.500049     8.440807   9900.083569     1.091387           0.463183\n",
              "min       0.000000    18.000000   5300.000000     0.000000           0.000000\n",
              "25%       0.000000    24.000000  33300.000000     0.000000           0.000000\n",
              "50%       0.000000    30.000000  40200.000000     1.000000           0.000000\n",
              "75%       1.000000    37.000000  46600.000000     2.000000           0.000000\n",
              "max       1.000000    65.000000  79000.000000     6.000000           5.000000"
            ]
          },
          "execution_count": 5,
          "metadata": {},
          "output_type": "execute_result"
        }
      ],
      "source": [
        "data.describe()"
      ]
    },
    {
      "cell_type": "code",
      "execution_count": null,
      "metadata": {
        "id": "Pa1J7rz7PV0H"
      },
      "outputs": [],
      "source": [
        "columns_lst = data.columns"
      ]
    },
    {
      "cell_type": "code",
      "execution_count": null,
      "metadata": {
        "id": "ndpNc1zvPV0H"
      },
      "outputs": [],
      "source": [
        "def unique_val_of_col(data,columns):\n",
        "    for i in columns_lst:\n",
        "        print(f'В столбце {i} имеются такие уникальные значения в в соотвествующем кол-ве')\n",
        "        print(data[i].unique())\n",
        "        display(data[i].value_counts())\n",
        "        print('-'*30)"
      ]
    },
    {
      "cell_type": "code",
      "execution_count": null,
      "metadata": {
        "id": "v00LKE_BPV0H",
        "outputId": "9fe0200a-0298-4143-b62b-41f01c5287cd"
      },
      "outputs": [
        {
          "name": "stdout",
          "output_type": "stream",
          "text": [
            "В столбце Пол имеются такие уникальные значения в в соотвествующем кол-ве\n",
            "[1 0]\n"
          ]
        },
        {
          "data": {
            "text/plain": [
              "0    2505\n",
              "1    2495\n",
              "Name: Пол, dtype: int64"
            ]
          },
          "metadata": {},
          "output_type": "display_data"
        },
        {
          "name": "stdout",
          "output_type": "stream",
          "text": [
            "------------------------------\n",
            "В столбце Возраст имеются такие уникальные значения в в соотвествующем кол-ве\n",
            "[41. 46. 29. 21. 28. 43. 39. 25. 36. 32. 38. 23. 40. 34. 26. 42. 27. 33.\n",
            " 47. 30. 19. 31. 22. 20. 24. 18. 37. 48. 45. 44. 52. 49. 35. 56. 65. 55.\n",
            " 57. 54. 50. 53. 51. 58. 59. 60. 61. 62.]\n"
          ]
        },
        {
          "data": {
            "text/plain": [
              "19.0    223\n",
              "25.0    214\n",
              "31.0    212\n",
              "26.0    211\n",
              "27.0    209\n",
              "22.0    209\n",
              "32.0    206\n",
              "28.0    204\n",
              "29.0    203\n",
              "30.0    202\n",
              "23.0    202\n",
              "21.0    200\n",
              "20.0    195\n",
              "36.0    193\n",
              "33.0    191\n",
              "24.0    182\n",
              "35.0    179\n",
              "34.0    177\n",
              "37.0    147\n",
              "39.0    141\n",
              "38.0    139\n",
              "41.0    129\n",
              "18.0    117\n",
              "40.0    114\n",
              "42.0     93\n",
              "43.0     77\n",
              "44.0     74\n",
              "45.0     73\n",
              "46.0     60\n",
              "47.0     47\n",
              "49.0     37\n",
              "50.0     27\n",
              "48.0     26\n",
              "52.0     22\n",
              "51.0     21\n",
              "53.0     11\n",
              "55.0      9\n",
              "54.0      7\n",
              "56.0      5\n",
              "59.0      3\n",
              "60.0      2\n",
              "58.0      2\n",
              "57.0      2\n",
              "65.0      1\n",
              "61.0      1\n",
              "62.0      1\n",
              "Name: Возраст, dtype: int64"
            ]
          },
          "metadata": {},
          "output_type": "display_data"
        },
        {
          "name": "stdout",
          "output_type": "stream",
          "text": [
            "------------------------------\n",
            "В столбце Зарплата имеются такие уникальные значения в в соотвествующем кол-ве\n",
            "[49600. 38000. 21000. 41700. 26100. 41000. 39700. 38600. 49700. 51700.\n",
            " 36600. 29300. 39500. 55000. 43700. 23300. 48900. 33200. 36900. 43500.\n",
            " 36100. 26600. 48700. 40400. 38400. 34600. 34800. 36800. 42200. 46300.\n",
            " 30300. 51000. 28100. 64800. 30400. 45300. 38300. 49500. 19400. 40200.\n",
            " 31700. 69200. 33100. 31600. 34500. 38700. 39600. 42400. 34900. 30500.\n",
            " 24200. 49900. 14300. 47000. 44800. 43800. 42700. 35400. 57200. 29600.\n",
            " 37400. 48100. 33700. 61800. 39400. 15600. 52600. 37600. 52500. 32700.\n",
            " 51600. 60900. 41800. 47400. 26500. 45900. 35700. 34300. 26700. 25700.\n",
            " 33300. 31100. 31500. 42100. 37300. 42500. 27300. 46800. 33500. 44300.\n",
            " 41600. 53900. 40100. 44600. 45000. 32000. 38200. 33000. 38500. 51800.\n",
            " 33800. 46400. 43200. 31800. 50200. 35100. 30700. 45800. 49300. 42800.\n",
            " 33600. 50300. 34000. 36400. 44900. 43600. 54600. 52800. 29700. 39000.\n",
            " 44100. 31900. 37700. 35200. 43100. 51300. 47500. 40800. 26800. 64900.\n",
            " 35900. 31200. 39900. 43300. 33900. 40700. 44700. 53400. 30600. 56000.\n",
            " 35600. 55200. 40600. 48300. 50800. 41200. 44200. 44400. 40500. 39800.\n",
            " 16600. 48400. 25100. 23100. 32100. 31000. 42900. 46700. 26000. 55900.\n",
            " 52000. 41500. 49400. 60300. 45600. 49000. 37500. 21900. 45100. 47900.\n",
            " 54300. 32400. 41300. 44500. 23200. 37900. 48000. 52100. 45700. 29900.\n",
            " 42600. 45200. 36000. 46500. 23800. 30200. 24400. 32800. 29000. 43400.\n",
            " 51500. 61700. 45400. 50700. 36200. 41900. 27900. 47200. 48800. 55100.\n",
            " 48200. 35500. 35000. 43900. 40000. 22000. 40300. 36300. 49800. 25600.\n",
            " 42300. 54900. 25500. 32900. 36700. 38900. 24700. 28800. 22900. 47300.\n",
            " 14500. 28700. 44000. 34100. 53000. 59300. 28500. 47100. 41400. 58900.\n",
            " 17500. 54200. 43000. 29800. 20000. 13800. 27500. 67700. 28000. 37100.\n",
            "  8900. 14600. 56200. 38800. 27700. 50500. 58400. 34700. 34400. 49100.\n",
            " 50900. 28200. 61500. 32500. 25900.  9800. 28300. 41100. 62000. 32600.\n",
            " 37200. 53800. 24000. 53600. 54800. 59600. 20200. 21700. 29200. 38100.\n",
            " 20700. 32300. 21200. 62100. 54000. 24500. 51900. 47800. 56100. 55300.\n",
            " 58100. 28900. 39100. 58000. 27200. 24600. 30100. 57100. 60100. 22200.\n",
            " 47700. 24900. 37800. 52700. 34200. 18700. 42000. 26300. 22600. 30900.\n",
            " 35800. 30800. 51100. 53300. 46200. 24100. 54700. 51200. 62300. 51400.\n",
            " 40900. 23400. 35300. 55800. 33400. 21300. 30000. 56700. 46900.  5300.\n",
            " 39200. 57500. 31300. 53700. 21600. 50000. 36500. 16400. 15900. 65100.\n",
            " 59900. 63200. 26200. 61200. 48500. 32200. 29100. 50100. 22700. 28600.\n",
            " 23500. 23700. 19600. 17800. 50600. 57900. 22500. 22100. 58300. 64100.\n",
            " 25000. 60400. 59100. 37000. 62400. 29500. 25800. 25400. 26900. 21500.\n",
            " 52200. 46600. 57300. 46100. 19300. 18900. 31400. 28400. 29400. 17600.\n",
            " 13900. 52400. 11300. 46000. 60500. 58700. 58200. 24800. 63700. 60600.\n",
            " 20400. 26400. 55600. 57000. 45500. 48600. 57600. 52900. 62800. 17000.\n",
            " 56500. 52300. 18400. 63300. 12900. 27000. 55700. 39300. 27800. 18300.\n",
            " 56300. 59800. 24300. 14400. 13400. 17900. 47600. 54500. 54400. 23900.\n",
            " 13000. 19900. 55400. 22800. 61000. 57400. 23000. 20500. 53200. 18100.\n",
            " 25300. 59500. 18200. 50400. 21100. 20900. 27400. 17300. 60700. 70600.\n",
            " 17700. 19700. 49200. 63100. 59200. 14700. 53100. 21800. 68000. 16500.\n",
            " 71400. 10000. 55500. 54100. 56400. 20600. 66300. 18800. 11000. 66100.\n",
            " 27100. 57800. 53500. 19200. 58500. 64000. 63600. 23600. 25200. 19100.\n",
            " 18600. 57700. 62700. 56600. 21400. 58800. 68400. 17100. 13300. 68500.\n",
            " 56900. 64400. 27600. 67200. 16200. 58600. 62200. 16000. 79000. 22300.\n",
            " 11200. 71600. 61300. 70500. 67100. 59000. 13500. 16700. 15700. 60000.\n",
            " 17400. 63400. 61900. 65200. 62600. 14100. 20100. 63800. 15100. 70000.\n",
            " 60200. 20300. 65900. 15200. 63500. 13200. 68900. 12200.  6000. 74800.\n",
            " 59700. 10800. 19000. 10600. 69400. 15000. 75200. 62500. 16300. 20800.\n",
            "  7400. 65300. 61400. 56800.]\n"
          ]
        },
        {
          "data": {
            "text/plain": [
              "45800.0    29\n",
              "37100.0    28\n",
              "43200.0    27\n",
              "41500.0    27\n",
              "46800.0    26\n",
              "           ..\n",
              "14300.0     1\n",
              "62600.0     1\n",
              "7400.0      1\n",
              "70000.0     1\n",
              "15200.0     1\n",
              "Name: Зарплата, Length: 524, dtype: int64"
            ]
          },
          "metadata": {},
          "output_type": "display_data"
        },
        {
          "name": "stdout",
          "output_type": "stream",
          "text": [
            "------------------------------\n",
            "В столбце Члены семьи имеются такие уникальные значения в в соотвествующем кол-ве\n",
            "[1 0 2 4 3 5 6]\n"
          ]
        },
        {
          "data": {
            "text/plain": [
              "1    1814\n",
              "0    1513\n",
              "2    1071\n",
              "3     439\n",
              "4     124\n",
              "5      32\n",
              "6       7\n",
              "Name: Члены семьи, dtype: int64"
            ]
          },
          "metadata": {},
          "output_type": "display_data"
        },
        {
          "name": "stdout",
          "output_type": "stream",
          "text": [
            "------------------------------\n",
            "В столбце Страховые выплаты имеются такие уникальные значения в в соотвествующем кол-ве\n",
            "[0 1 2 3 5 4]\n"
          ]
        },
        {
          "data": {
            "text/plain": [
              "0    4436\n",
              "1     423\n",
              "2     115\n",
              "3      18\n",
              "4       7\n",
              "5       1\n",
              "Name: Страховые выплаты, dtype: int64"
            ]
          },
          "metadata": {},
          "output_type": "display_data"
        },
        {
          "name": "stdout",
          "output_type": "stream",
          "text": [
            "------------------------------\n"
          ]
        }
      ],
      "source": [
        "unique_val_of_col(data,columns_lst)"
      ]
    },
    {
      "cell_type": "code",
      "execution_count": null,
      "metadata": {
        "scrolled": true,
        "id": "dTwrYSh3PV0I",
        "outputId": "2acd045e-a8dd-40d1-d70e-1aff3875518b"
      },
      "outputs": [
        {
          "data": {
            "text/plain": [
              "153"
            ]
          },
          "execution_count": 9,
          "metadata": {},
          "output_type": "execute_result"
        }
      ],
      "source": [
        "data.duplicated().sum()"
      ]
    },
    {
      "cell_type": "code",
      "execution_count": null,
      "metadata": {
        "id": "i4fNSky-PV0I",
        "outputId": "b952364c-51da-4de4-be81-b5ab97a5e0c4"
      },
      "outputs": [
        {
          "data": {
            "text/plain": [
              "5000"
            ]
          },
          "execution_count": 10,
          "metadata": {},
          "output_type": "execute_result"
        }
      ],
      "source": [
        "data.shape[0]\n"
      ]
    },
    {
      "cell_type": "code",
      "execution_count": null,
      "metadata": {
        "id": "ecyTNoTePV0I",
        "outputId": "77001109-0425-48a6-ea24-86dc9291aacc"
      },
      "outputs": [
        {
          "data": {
            "text/plain": [
              "4847"
            ]
          },
          "execution_count": 11,
          "metadata": {},
          "output_type": "execute_result"
        }
      ],
      "source": [
        "(data.drop_duplicates()).shape[0]"
      ]
    },
    {
      "cell_type": "code",
      "execution_count": null,
      "metadata": {
        "id": "4gRNbehcPV0I"
      },
      "outputs": [],
      "source": [
        "import matplotlib.pyplot as plt\n",
        "from matplotlib.pyplot import figure\n",
        "import seaborn as sns"
      ]
    },
    {
      "cell_type": "code",
      "execution_count": null,
      "metadata": {
        "id": "XzE9odrYPV0J",
        "outputId": "e4da0ea7-f414-449b-f730-b4f1c8b85e20"
      },
      "outputs": [
        {
          "data": {
            "image/png": "[encoded data removed]",
            "text/plain": [
              "<Figure size 360x288 with 2 Axes>"
            ]
          },
          "metadata": {
            "needs_background": "light"
          },
          "output_type": "display_data"
        }
      ],
      "source": [
        "figure(figsize=(5,4))\n",
        "\n",
        "sns.heatmap(data.corr(),\n",
        "            annot=True,\n",
        "            cmap='YlGnBu',\n",
        "            linewidth=2,\n",
        "            linecolor='green')\n",
        "plt.show()"
      ]
    },
    {
      "cell_type": "markdown",
      "metadata": {
        "id": "Sgy1sq9hPV0J"
      },
      "source": [
        "## Умножение матриц"
      ]
    },
    {
      "cell_type": "markdown",
      "metadata": {
        "id": "JlsXdTHwPV0K"
      },
      "source": [
        "В этом задании вы можете записывать формулы в *Jupyter Notebook.*\n",
        "\n",
        "Чтобы записать формулу внутри текста, окружите её символами доллара \\\\$; если снаружи —  двойными символами \\\\$\\\\$. Эти формулы записываются на языке вёрстки *LaTeX.*\n",
        "\n",
        "Для примера мы записали формулы линейной регрессии. Можете их скопировать и отредактировать, чтобы решить задачу.\n",
        "\n",
        "Работать в *LaTeX* необязательно."
      ]
    },
    {
      "cell_type": "markdown",
      "metadata": {
        "id": "LIHPqtY6PV0K"
      },
      "source": [
        "Обозначения:\n",
        "\n",
        "- $X$ — матрица признаков (нулевой столбец состоит из единиц)\n",
        "\n",
        "- $y$ — вектор целевого признака\n",
        "\n",
        "- $P$ — матрица, на которую умножаются признаки\n",
        "\n",
        "- $w$ — вектор весов линейной регрессии (нулевой элемент равен сдвигу)"
      ]
    },
    {
      "cell_type": "markdown",
      "metadata": {
        "id": "Q1KRBQkFPV0K"
      },
      "source": [
        "Предсказания:\n",
        "\n",
        "$$\n",
        "a = Xw\n",
        "$$\n",
        "\n",
        "Задача обучения:\n",
        "\n",
        "$$\n",
        "w = \\arg\\min_w MSE(Xw, y)\n",
        "$$\n",
        "\n",
        "Формула обучения:\n",
        "\n",
        "$$\n",
        "w = (X^T X)^{-1} X^T y\n",
        "$$"
      ]
    },
    {
      "cell_type": "markdown",
      "metadata": {
        "id": "1IFbH_ZvPV0K"
      },
      "source": [
        "**Ответ:**\n",
        "$$\n",
        "a = XX^{-1}y\n",
        "$$"
      ]
    },
    {
      "cell_type": "markdown",
      "metadata": {
        "id": "Vw6Da_IoPV0K"
      },
      "source": [
        "**Обоснование:**\n",
        "\n",
        "Используем свойства матричного умножения и операции транспонирования:\n",
        "$$\n",
        "1. AA^{-1}=E\n",
        "$$\n",
        "$$\n",
        "2. (AB)^{T} = A^{T}B^{T}\n",
        "$$\n",
        "$$\n",
        "3. (AB)^{-1} = A^{-1}B^{-1}\n",
        "$$\n",
        "Квадратные матрицы:\n",
        "$$\n",
        "1. X^{T}X\n",
        "$$\n",
        "$$\n",
        "2. A\n",
        "$$\n",
        "$$\n",
        "3. A^{T}\n",
        "$$\n",
        "\n",
        "$$\n",
        "] X = XP =>\n",
        "$$\n",
        "$$\n",
        "a_p = XP((XP)^{T}(XP))^{-1}(XP)^{T}y => XP(P^{T}(X^{T}X)P)^{-1}(P^{T}X^{T})y => XPP^{-1}(X^{T}X)^{-1}P^{-T}(P^{T}X^{T})y\n",
        "=> X(X^{T}X)^{-1}X^{T}y\n",
        "$$\n",
        "Произведем замену\n",
        "$\n",
        "w = (X^{T}X)^{-1}X^{T}y=P^{-1}w\n",
        "$\n",
        "\n",
        "=>\n",
        "\n",
        "$\n",
        "w(y) = P^{-1}w\n",
        "$\n",
        "\n",
        "Подставим все в формулу a_p\n",
        "\n",
        "$\n",
        "a_p = X'w'=XPP^{-1}w=Xw=a\n",
        "$"
      ]
    },
    {
      "cell_type": "code",
      "execution_count": null,
      "metadata": {
        "scrolled": true,
        "id": "66CtjtDYPV0M",
        "outputId": "3064093b-74ab-48ef-a7d3-a8ea16a48b47"
      },
      "outputs": [
        {
          "data": {
            "text/html": [
              "<div>\n",
              "<style scoped>\n",
              "    .dataframe tbody tr th:only-of-type {\n",
              "        vertical-align: middle;\n",
              "    }\n",
              "\n",
              "    .dataframe tbody tr th {\n",
              "        vertical-align: top;\n",
              "    }\n",
              "\n",
              "    .dataframe thead th {\n",
              "        text-align: right;\n",
              "    }\n",
              "</style>\n",
              "<table border=\"1\" class=\"dataframe\">\n",
              "  <thead>\n",
              "    <tr style=\"text-align: right;\">\n",
              "      <th></th>\n",
              "      <th>Пол</th>\n",
              "      <th>Возраст</th>\n",
              "      <th>Зарплата</th>\n",
              "      <th>Члены семьи</th>\n",
              "      <th>Страховые выплаты</th>\n",
              "    </tr>\n",
              "  </thead>\n",
              "  <tbody>\n",
              "    <tr>\n",
              "      <th>0</th>\n",
              "      <td>1</td>\n",
              "      <td>41.0</td>\n",
              "      <td>49600.0</td>\n",
              "      <td>1</td>\n",
              "      <td>0</td>\n",
              "    </tr>\n",
              "    <tr>\n",
              "      <th>1</th>\n",
              "      <td>0</td>\n",
              "      <td>46.0</td>\n",
              "      <td>38000.0</td>\n",
              "      <td>1</td>\n",
              "      <td>1</td>\n",
              "    </tr>\n",
              "    <tr>\n",
              "      <th>2</th>\n",
              "      <td>0</td>\n",
              "      <td>29.0</td>\n",
              "      <td>21000.0</td>\n",
              "      <td>0</td>\n",
              "      <td>0</td>\n",
              "    </tr>\n",
              "    <tr>\n",
              "      <th>3</th>\n",
              "      <td>0</td>\n",
              "      <td>21.0</td>\n",
              "      <td>41700.0</td>\n",
              "      <td>2</td>\n",
              "      <td>0</td>\n",
              "    </tr>\n",
              "    <tr>\n",
              "      <th>4</th>\n",
              "      <td>1</td>\n",
              "      <td>28.0</td>\n",
              "      <td>26100.0</td>\n",
              "      <td>0</td>\n",
              "      <td>0</td>\n",
              "    </tr>\n",
              "  </tbody>\n",
              "</table>\n",
              "</div>"
            ],
            "text/plain": [
              "   Пол  Возраст  Зарплата  Члены семьи  Страховые выплаты\n",
              "0    1     41.0   49600.0            1                  0\n",
              "1    0     46.0   38000.0            1                  1\n",
              "2    0     29.0   21000.0            0                  0\n",
              "3    0     21.0   41700.0            2                  0\n",
              "4    1     28.0   26100.0            0                  0"
            ]
          },
          "execution_count": 14,
          "metadata": {},
          "output_type": "execute_result"
        }
      ],
      "source": [
        "data.head()"
      ]
    },
    {
      "cell_type": "code",
      "execution_count": null,
      "metadata": {
        "id": "QAcx27BxPV0N"
      },
      "outputs": [],
      "source": [
        "data.columns = ['gender','age','salary','family_members','insurance']"
      ]
    },
    {
      "cell_type": "code",
      "execution_count": null,
      "metadata": {
        "id": "_5zJo4L9PV0Q"
      },
      "outputs": [],
      "source": [
        "features = data.drop('insurance',axis=1)\n",
        "target = data['insurance']"
      ]
    },
    {
      "cell_type": "code",
      "execution_count": null,
      "metadata": {
        "id": "lbNV2cq2PV0Q"
      },
      "outputs": [],
      "source": [
        "features_matrix = np.array(features)\n",
        "target_matrix = np.array(target)\n",
        "features_train,features_test,target_train,target_test = train_test_split(features_matrix,target_matrix,test_size=0.3,random_state=rs)"
      ]
    },
    {
      "cell_type": "code",
      "execution_count": null,
      "metadata": {
        "scrolled": true,
        "id": "SVDHhXXGPV0R",
        "outputId": "8edffca9-31ef-44a4-bd6b-83ed89e6e507"
      },
      "outputs": [
        {
          "data": {
            "text/plain": [
              "LinearRegression()"
            ]
          },
          "execution_count": 18,
          "metadata": {},
          "output_type": "execute_result"
        }
      ],
      "source": [
        "lr = LinearRegression()\n",
        "lr.fit(features_train,target_train)"
      ]
    },
    {
      "cell_type": "code",
      "execution_count": null,
      "metadata": {
        "scrolled": false,
        "id": "g8L8hymrPV0R",
        "outputId": "a7fd822b-d549-4943-fc6b-6e8d3d984f2f"
      },
      "outputs": [
        {
          "data": {
            "text/plain": [
              "array([ 0.51621641, -0.11079454, -0.00575859, ...,  0.30103413,\n",
              "        0.09727962,  0.31681151])"
            ]
          },
          "execution_count": 19,
          "metadata": {},
          "output_type": "execute_result"
        }
      ],
      "source": [
        "lr.predict(features_test)"
      ]
    },
    {
      "cell_type": "code",
      "execution_count": null,
      "metadata": {
        "scrolled": true,
        "id": "F-krbzl8PV0R",
        "outputId": "e05165e5-1763-4aa3-d067-67afd269a8c6"
      },
      "outputs": [
        {
          "data": {
            "text/plain": [
              "0.4142925818665243"
            ]
          },
          "execution_count": 20,
          "metadata": {},
          "output_type": "execute_result"
        }
      ],
      "source": [
        "lr.score(features_test,target_test)"
      ]
    },
    {
      "cell_type": "code",
      "execution_count": null,
      "metadata": {
        "id": "KwdNR3UtPV0R"
      },
      "outputs": [],
      "source": [
        "identity_matrix = np.identity(4)\n"
      ]
    },
    {
      "cell_type": "code",
      "execution_count": null,
      "metadata": {
        "id": "CeUeXVEZPV0S"
      },
      "outputs": [],
      "source": [
        "np.random.seed(7)\n",
        "random_invertible = np.random.randint(low=1,high=10,size=(4,4))"
      ]
    },
    {
      "cell_type": "code",
      "execution_count": null,
      "metadata": {
        "scrolled": true,
        "id": "bqKWpHQCPV0S",
        "outputId": "19a3e46b-b9b7-4157-f975-b28a96bc3890"
      },
      "outputs": [
        {
          "data": {
            "text/plain": [
              "(1500, 4)"
            ]
          },
          "execution_count": 23,
          "metadata": {},
          "output_type": "execute_result"
        }
      ],
      "source": [
        "features_test.shape"
      ]
    },
    {
      "cell_type": "code",
      "execution_count": null,
      "metadata": {
        "id": "wuo-Z4emPV0S",
        "outputId": "d5162655-0ca7-4a10-caaf-2ddea17cb86c"
      },
      "outputs": [
        {
          "data": {
            "text/html": [
              "<div>\n",
              "<style scoped>\n",
              "    .dataframe tbody tr th:only-of-type {\n",
              "        vertical-align: middle;\n",
              "    }\n",
              "\n",
              "    .dataframe tbody tr th {\n",
              "        vertical-align: top;\n",
              "    }\n",
              "\n",
              "    .dataframe thead th {\n",
              "        text-align: right;\n",
              "    }\n",
              "</style>\n",
              "<table border=\"1\" class=\"dataframe\">\n",
              "  <thead>\n",
              "    <tr style=\"text-align: right;\">\n",
              "      <th></th>\n",
              "      <th>gender</th>\n",
              "      <th>age</th>\n",
              "      <th>salary</th>\n",
              "      <th>family_members</th>\n",
              "      <th>insurance</th>\n",
              "    </tr>\n",
              "  </thead>\n",
              "  <tbody>\n",
              "    <tr>\n",
              "      <th>0</th>\n",
              "      <td>1</td>\n",
              "      <td>41.0</td>\n",
              "      <td>49600.0</td>\n",
              "      <td>1</td>\n",
              "      <td>0</td>\n",
              "    </tr>\n",
              "    <tr>\n",
              "      <th>1</th>\n",
              "      <td>0</td>\n",
              "      <td>46.0</td>\n",
              "      <td>38000.0</td>\n",
              "      <td>1</td>\n",
              "      <td>1</td>\n",
              "    </tr>\n",
              "    <tr>\n",
              "      <th>2</th>\n",
              "      <td>0</td>\n",
              "      <td>29.0</td>\n",
              "      <td>21000.0</td>\n",
              "      <td>0</td>\n",
              "      <td>0</td>\n",
              "    </tr>\n",
              "    <tr>\n",
              "      <th>3</th>\n",
              "      <td>0</td>\n",
              "      <td>21.0</td>\n",
              "      <td>41700.0</td>\n",
              "      <td>2</td>\n",
              "      <td>0</td>\n",
              "    </tr>\n",
              "    <tr>\n",
              "      <th>4</th>\n",
              "      <td>1</td>\n",
              "      <td>28.0</td>\n",
              "      <td>26100.0</td>\n",
              "      <td>0</td>\n",
              "      <td>0</td>\n",
              "    </tr>\n",
              "    <tr>\n",
              "      <th>...</th>\n",
              "      <td>...</td>\n",
              "      <td>...</td>\n",
              "      <td>...</td>\n",
              "      <td>...</td>\n",
              "      <td>...</td>\n",
              "    </tr>\n",
              "    <tr>\n",
              "      <th>4995</th>\n",
              "      <td>0</td>\n",
              "      <td>28.0</td>\n",
              "      <td>35700.0</td>\n",
              "      <td>2</td>\n",
              "      <td>0</td>\n",
              "    </tr>\n",
              "    <tr>\n",
              "      <th>4996</th>\n",
              "      <td>0</td>\n",
              "      <td>34.0</td>\n",
              "      <td>52400.0</td>\n",
              "      <td>1</td>\n",
              "      <td>0</td>\n",
              "    </tr>\n",
              "    <tr>\n",
              "      <th>4997</th>\n",
              "      <td>0</td>\n",
              "      <td>20.0</td>\n",
              "      <td>33900.0</td>\n",
              "      <td>2</td>\n",
              "      <td>0</td>\n",
              "    </tr>\n",
              "    <tr>\n",
              "      <th>4998</th>\n",
              "      <td>1</td>\n",
              "      <td>22.0</td>\n",
              "      <td>32700.0</td>\n",
              "      <td>3</td>\n",
              "      <td>0</td>\n",
              "    </tr>\n",
              "    <tr>\n",
              "      <th>4999</th>\n",
              "      <td>1</td>\n",
              "      <td>28.0</td>\n",
              "      <td>40600.0</td>\n",
              "      <td>1</td>\n",
              "      <td>0</td>\n",
              "    </tr>\n",
              "  </tbody>\n",
              "</table>\n",
              "<p>5000 rows × 5 columns</p>\n",
              "</div>"
            ],
            "text/plain": [
              "      gender   age   salary  family_members  insurance\n",
              "0          1  41.0  49600.0               1          0\n",
              "1          0  46.0  38000.0               1          1\n",
              "2          0  29.0  21000.0               0          0\n",
              "3          0  21.0  41700.0               2          0\n",
              "4          1  28.0  26100.0               0          0\n",
              "...      ...   ...      ...             ...        ...\n",
              "4995       0  28.0  35700.0               2          0\n",
              "4996       0  34.0  52400.0               1          0\n",
              "4997       0  20.0  33900.0               2          0\n",
              "4998       1  22.0  32700.0               3          0\n",
              "4999       1  28.0  40600.0               1          0\n",
              "\n",
              "[5000 rows x 5 columns]"
            ]
          },
          "execution_count": 24,
          "metadata": {},
          "output_type": "execute_result"
        }
      ],
      "source": [
        "data"
      ]
    },
    {
      "cell_type": "code",
      "execution_count": null,
      "metadata": {
        "id": "VjUZSC0VPV0S"
      },
      "outputs": [],
      "source": [
        "features = data.drop('insurance',axis=1)\n",
        "target = data['insurance']\n",
        "\n",
        "features_matrix = np.array(features)\n",
        "target_matrix = np.array(target)\n"
      ]
    },
    {
      "cell_type": "code",
      "execution_count": null,
      "metadata": {
        "id": "0dBks9QuPV0S"
      },
      "outputs": [],
      "source": [
        "features_train,features_test,target_train,target_test = train_test_split(features_matrix,target_matrix,test_size=0.3,random_state=rs)\n",
        "\n"
      ]
    },
    {
      "cell_type": "markdown",
      "metadata": {
        "id": "ulU4e1_uPV0S"
      },
      "source": [
        "### Модель признаки без изменения"
      ]
    },
    {
      "cell_type": "code",
      "execution_count": null,
      "metadata": {
        "id": "mSvmA-TMPV0T",
        "outputId": "f592baac-c0c9-4027-8752-bba3749501dc"
      },
      "outputs": [
        {
          "data": {
            "text/plain": [
              "0.4142925818665243"
            ]
          },
          "execution_count": 27,
          "metadata": {},
          "output_type": "execute_result"
        }
      ],
      "source": [
        "lr.fit(features_train,target_train)\n",
        "lr.score(features_test,target_test)"
      ]
    },
    {
      "cell_type": "markdown",
      "metadata": {
        "id": "OXl7pNXvPV0T"
      },
      "source": [
        "### Модель с признаками, умноженными на случайную обратимую матрицу"
      ]
    },
    {
      "cell_type": "code",
      "execution_count": null,
      "metadata": {
        "id": "KanfmKQmPV0T"
      },
      "outputs": [],
      "source": [
        "features_after_mm =  features_matrix @ random_invertible\n",
        "\n",
        "\n",
        "features_train,features_test,target_train,target_test = train_test_split(features_after_mm,target_matrix,test_size=0.3,random_state=rs)\n",
        "\n"
      ]
    },
    {
      "cell_type": "code",
      "execution_count": null,
      "metadata": {
        "scrolled": false,
        "id": "anlaBwT9PV0T",
        "outputId": "6c0c6cf3-8b55-46b7-b7ec-66de0db02a47"
      },
      "outputs": [
        {
          "data": {
            "text/plain": [
              "0.41429258186661677"
            ]
          },
          "execution_count": 29,
          "metadata": {},
          "output_type": "execute_result"
        }
      ],
      "source": [
        "lr.fit(features_train,target_train)\n",
        "lr.score(features_test,target_test)"
      ]
    },
    {
      "cell_type": "markdown",
      "metadata": {
        "id": "BdMNxd14PV0T"
      },
      "source": [
        "### Модель с признаками, умноженными на единичную матрицу"
      ]
    },
    {
      "cell_type": "code",
      "execution_count": null,
      "metadata": {
        "id": "nLAKyQ6lPV0U"
      },
      "outputs": [],
      "source": [
        "features_after_imm = features_matrix @ identity_matrix\n",
        "features_train,features_test,target_train,target_test = train_test_split(features_after_imm,target_matrix,test_size=0.3,random_state=rs)\n",
        "\n",
        "\n"
      ]
    },
    {
      "cell_type": "code",
      "execution_count": null,
      "metadata": {
        "id": "Hep-GtNcPV0U",
        "outputId": "98149f86-8ac3-4851-80d9-8d340f4adc48"
      },
      "outputs": [
        {
          "data": {
            "text/plain": [
              "0.4142925818665243"
            ]
          },
          "execution_count": 31,
          "metadata": {},
          "output_type": "execute_result"
        }
      ],
      "source": [
        "lr.fit(features_train,target_train)\n",
        "lr.score(features_test,target_test)"
      ]
    },
    {
      "cell_type": "markdown",
      "metadata": {
        "id": "TCwjB_iDPV0U"
      },
      "source": [
        "## Алгоритм преобразования"
      ]
    },
    {
      "cell_type": "markdown",
      "metadata": {
        "id": "_EjxPmtwPV0U"
      },
      "source": [
        "**Алгоритм**\n",
        "\n",
        "Умножим на случайную обратимую матрицу признаки модели. Обоснование эквивалентности преобразования приведено выше"
      ]
    },
    {
      "cell_type": "markdown",
      "metadata": {
        "id": "4ZSnZyKNPV0U"
      },
      "source": [
        "\n",
        "**Этапы и обоснование:**\n",
        "1. Генерация случайной матрицы\n",
        "2. Проверка матрицы на обратимость, умножим на случайную обратимую матрицу A\n",
        "3. Получение матрицы преобразованных признаков\n",
        "4. Обучение линейной регрессии на исходных и на зашифрованных данных\n",
        "5. Сравнение получившихся метрик R2"
      ]
    },
    {
      "cell_type": "code",
      "execution_count": null,
      "metadata": {
        "id": "pqty3rM-PV0V"
      },
      "outputs": [],
      "source": [
        "def random_invertible_matrix(low=1,high=10,size=(features.shape[1],features.shape[1])):\n",
        "    global random_matrix\n",
        "    try:\n",
        "        random_matrix = np.random.randint(low=low,high=high,size=size)\n",
        "        np.linalg.inv(random_matrix)\n",
        "        return random_matrix\n",
        "    except Exception:\n",
        "        random_invertible_matrix()\n",
        "\n",
        "\n",
        "\n"
      ]
    },
    {
      "cell_type": "code",
      "execution_count": null,
      "metadata": {
        "id": "uHCVJkaKPV0V"
      },
      "outputs": [],
      "source": [
        "features_matrix = np.array(features)\n",
        "target_matrix = np.array(target)\n",
        "\n",
        "\n"
      ]
    },
    {
      "cell_type": "code",
      "execution_count": null,
      "metadata": {
        "id": "u4MuDmpFPV0V"
      },
      "outputs": [],
      "source": [
        "features_after_mm =  features_matrix @ random_invertible_matrix()\n"
      ]
    },
    {
      "cell_type": "code",
      "execution_count": null,
      "metadata": {
        "scrolled": true,
        "id": "NHXvo8yJPV0W",
        "outputId": "add98835-bbcd-4f60-df55-e4ccc9d0ff12"
      },
      "outputs": [
        {
          "data": {
            "text/plain": [
              "array([[7, 4, 6, 9],\n",
              "       [9, 8, 6, 1],\n",
              "       [1, 3, 9, 7],\n",
              "       [5, 8, 4, 4]])"
            ]
          },
          "execution_count": 35,
          "metadata": {},
          "output_type": "execute_result"
        }
      ],
      "source": [
        "random_matrix"
      ]
    },
    {
      "cell_type": "code",
      "execution_count": null,
      "metadata": {
        "id": "QSD0IidAPV0W"
      },
      "outputs": [],
      "source": [
        "features_train,features_test,target_train,target_test = train_test_split(features_matrix,target_matrix,test_size=0.3,random_state=rs)"
      ]
    },
    {
      "cell_type": "markdown",
      "metadata": {
        "id": "TVoOnm3IPV0W"
      },
      "source": [
        "## Проверка алгоритма"
      ]
    },
    {
      "cell_type": "code",
      "execution_count": null,
      "metadata": {
        "id": "1S7OHjrBPV0W",
        "outputId": "81a52fd2-eea7-4a02-8c82-6e1ba3a39517"
      },
      "outputs": [
        {
          "data": {
            "text/plain": [
              "0.4142925818665243"
            ]
          },
          "execution_count": 37,
          "metadata": {},
          "output_type": "execute_result"
        }
      ],
      "source": [
        "lr.fit(features_train,target_train)\n",
        "lr.score(features_test,target_test)"
      ]
    },
    {
      "cell_type": "markdown",
      "metadata": {
        "id": "uxG0fKIRPV0W"
      },
      "source": [
        "**Вывод:**\n",
        "\n",
        "R2_score линейной регрессии не меняется при умножении матрицы признаков на квадратную обратимую матрицу."
      ]
    },
    {
      "cell_type": "markdown",
      "metadata": {
        "id": "_0HaEQSqPV0X"
      },
      "source": [
        "# Итоговый вывод"
      ]
    },
    {
      "cell_type": "markdown",
      "metadata": {
        "id": "l1dUL03tPV0X"
      },
      "source": [
        "- Были загружены и изучены данные\n",
        "- Разработан алгоритм который преобразует данные, работает он с помощью умножения матрицы признаков на кодирующую матрицу\n",
        "- Протестирована метрика R2 для данных без преобразования и с ним, было замечено, что R2 не изменилось, алгоритм работает\n",
        "- Данные легко зашифровать, умножив матрицу с данными на кодирующую"
      ]
    }
  ],
  "metadata": {
    "ExecuteTimeLog": [
      {
        "duration": 60,
        "start_time": "2023-01-28T16:49:08.308Z"
      },
      {
        "duration": 384,
        "start_time": "2023-01-28T16:49:27.280Z"
      },
      {
        "duration": 93,
        "start_time": "2023-01-28T16:49:28.540Z"
      },
      {
        "duration": 16,
        "start_time": "2023-01-28T16:49:32.760Z"
      },
      {
        "duration": 26,
        "start_time": "2023-01-28T16:49:42.652Z"
      },
      {
        "duration": 28,
        "start_time": "2023-01-28T16:54:50.353Z"
      },
      {
        "duration": 7,
        "start_time": "2023-01-28T16:54:55.013Z"
      },
      {
        "duration": 11,
        "start_time": "2023-01-28T16:55:06.208Z"
      },
      {
        "duration": 4,
        "start_time": "2023-01-28T16:58:55.360Z"
      },
      {
        "duration": 7,
        "start_time": "2023-01-28T16:58:55.868Z"
      },
      {
        "duration": 3,
        "start_time": "2023-01-28T17:00:31.168Z"
      },
      {
        "duration": 4,
        "start_time": "2023-01-28T17:01:44.077Z"
      },
      {
        "duration": 7,
        "start_time": "2023-01-28T17:02:07.209Z"
      },
      {
        "duration": 8,
        "start_time": "2023-01-28T17:02:12.409Z"
      },
      {
        "duration": 4,
        "start_time": "2023-01-28T17:02:24.155Z"
      },
      {
        "duration": 28,
        "start_time": "2023-01-28T17:02:25.320Z"
      },
      {
        "duration": 3,
        "start_time": "2023-01-28T17:02:45.453Z"
      },
      {
        "duration": 30,
        "start_time": "2023-01-28T17:02:46.188Z"
      },
      {
        "duration": 8,
        "start_time": "2023-01-28T17:21:53.276Z"
      },
      {
        "duration": 1204,
        "start_time": "2023-01-28T17:32:01.942Z"
      },
      {
        "duration": 3,
        "start_time": "2023-01-28T17:32:05.061Z"
      },
      {
        "duration": 6,
        "start_time": "2023-01-28T17:32:05.233Z"
      },
      {
        "duration": 4,
        "start_time": "2023-01-28T17:33:19.841Z"
      },
      {
        "duration": 14,
        "start_time": "2023-01-28T17:33:23.134Z"
      },
      {
        "duration": 7,
        "start_time": "2023-01-28T17:33:28.581Z"
      },
      {
        "duration": 746,
        "start_time": "2023-01-28T17:34:10.881Z"
      },
      {
        "duration": 6,
        "start_time": "2023-01-28T17:34:16.993Z"
      },
      {
        "duration": 3,
        "start_time": "2023-01-28T18:44:05.584Z"
      },
      {
        "duration": 4,
        "start_time": "2023-01-28T18:44:55.842Z"
      },
      {
        "duration": 28,
        "start_time": "2023-01-28T18:59:10.894Z"
      },
      {
        "duration": 7,
        "start_time": "2023-01-28T19:05:43.893Z"
      },
      {
        "duration": 4,
        "start_time": "2023-01-28T19:05:54.312Z"
      },
      {
        "duration": 5,
        "start_time": "2023-01-28T19:06:29.193Z"
      },
      {
        "duration": 6,
        "start_time": "2023-01-28T19:06:36.073Z"
      },
      {
        "duration": 8,
        "start_time": "2023-01-28T19:06:39.124Z"
      },
      {
        "duration": 5,
        "start_time": "2023-01-28T19:07:10.711Z"
      },
      {
        "duration": 4,
        "start_time": "2023-01-28T19:07:21.806Z"
      },
      {
        "duration": 5,
        "start_time": "2023-01-28T19:07:22.064Z"
      },
      {
        "duration": 4,
        "start_time": "2023-01-28T19:07:22.367Z"
      },
      {
        "duration": 4,
        "start_time": "2023-01-28T19:07:22.912Z"
      },
      {
        "duration": 7,
        "start_time": "2023-01-28T19:07:24.271Z"
      },
      {
        "duration": 6,
        "start_time": "2023-01-28T19:07:27.357Z"
      },
      {
        "duration": 5,
        "start_time": "2023-01-28T19:09:40.012Z"
      },
      {
        "duration": 5,
        "start_time": "2023-01-28T19:11:37.283Z"
      },
      {
        "duration": 4,
        "start_time": "2023-01-28T19:11:47.071Z"
      },
      {
        "duration": 6,
        "start_time": "2023-01-28T19:11:51.403Z"
      },
      {
        "duration": 5,
        "start_time": "2023-01-28T19:11:53.979Z"
      },
      {
        "duration": 3,
        "start_time": "2023-01-28T19:13:28.614Z"
      },
      {
        "duration": 8,
        "start_time": "2023-01-28T19:13:28.796Z"
      },
      {
        "duration": 9,
        "start_time": "2023-01-28T19:13:50.739Z"
      },
      {
        "duration": 6,
        "start_time": "2023-01-28T19:35:13.350Z"
      },
      {
        "duration": 4,
        "start_time": "2023-01-28T19:35:33.659Z"
      },
      {
        "duration": 4,
        "start_time": "2023-01-28T19:36:36.293Z"
      },
      {
        "duration": 5,
        "start_time": "2023-01-28T19:37:08.432Z"
      },
      {
        "duration": 45,
        "start_time": "2023-01-28T19:38:43.332Z"
      },
      {
        "duration": 10,
        "start_time": "2023-01-28T19:38:59.112Z"
      },
      {
        "duration": 4,
        "start_time": "2023-01-28T19:39:11.452Z"
      },
      {
        "duration": 9,
        "start_time": "2023-01-28T19:39:40.506Z"
      },
      {
        "duration": 9,
        "start_time": "2023-01-28T19:39:51.807Z"
      },
      {
        "duration": 4,
        "start_time": "2023-01-28T19:40:04.092Z"
      },
      {
        "duration": 4,
        "start_time": "2023-01-28T19:40:11.526Z"
      },
      {
        "duration": 11,
        "start_time": "2023-01-28T19:40:23.596Z"
      },
      {
        "duration": 4,
        "start_time": "2023-01-28T19:41:13.606Z"
      },
      {
        "duration": 3,
        "start_time": "2023-01-28T19:43:56.111Z"
      },
      {
        "duration": 133,
        "start_time": "2023-01-28T19:46:00.831Z"
      },
      {
        "duration": 4,
        "start_time": "2023-01-28T19:46:11.411Z"
      },
      {
        "duration": 59,
        "start_time": "2023-01-28T19:46:11.723Z"
      },
      {
        "duration": 4,
        "start_time": "2023-01-28T19:46:54.250Z"
      },
      {
        "duration": 5,
        "start_time": "2023-01-28T19:47:12.630Z"
      },
      {
        "duration": 245,
        "start_time": "2023-01-28T19:47:21.010Z"
      },
      {
        "duration": 74,
        "start_time": "2023-01-28T19:47:31.091Z"
      },
      {
        "duration": 247,
        "start_time": "2023-01-28T19:47:31.862Z"
      },
      {
        "duration": 253,
        "start_time": "2023-01-28T19:48:06.411Z"
      },
      {
        "duration": 58,
        "start_time": "2023-01-28T19:48:08.102Z"
      },
      {
        "duration": 9,
        "start_time": "2023-01-28T19:53:19.410Z"
      },
      {
        "duration": 4,
        "start_time": "2023-01-28T19:53:38.123Z"
      },
      {
        "duration": 4,
        "start_time": "2023-01-28T19:53:51.929Z"
      },
      {
        "duration": 5,
        "start_time": "2023-01-28T19:54:00.169Z"
      },
      {
        "duration": 10,
        "start_time": "2023-01-28T19:55:08.390Z"
      },
      {
        "duration": 22,
        "start_time": "2023-01-28T19:55:12.817Z"
      },
      {
        "duration": 130,
        "start_time": "2023-01-28T19:58:04.110Z"
      },
      {
        "duration": 60,
        "start_time": "2023-01-29T11:13:34.673Z"
      },
      {
        "duration": 6,
        "start_time": "2023-01-29T11:13:34.797Z"
      },
      {
        "duration": 8,
        "start_time": "2023-01-29T11:14:20.837Z"
      },
      {
        "duration": 1047,
        "start_time": "2023-01-29T11:14:32.636Z"
      },
      {
        "duration": 90,
        "start_time": "2023-01-29T11:14:33.685Z"
      },
      {
        "duration": 18,
        "start_time": "2023-01-29T11:14:33.777Z"
      },
      {
        "duration": 25,
        "start_time": "2023-01-29T11:14:33.797Z"
      },
      {
        "duration": 3,
        "start_time": "2023-01-29T11:14:33.823Z"
      },
      {
        "duration": 9,
        "start_time": "2023-01-29T11:14:33.828Z"
      },
      {
        "duration": 60,
        "start_time": "2023-01-29T11:14:33.840Z"
      },
      {
        "duration": 7,
        "start_time": "2023-01-29T11:14:33.997Z"
      },
      {
        "duration": 4,
        "start_time": "2023-01-29T11:14:34.177Z"
      },
      {
        "duration": 7,
        "start_time": "2023-01-29T11:14:34.337Z"
      },
      {
        "duration": 12,
        "start_time": "2023-01-29T11:14:35.236Z"
      },
      {
        "duration": 4,
        "start_time": "2023-01-29T11:14:35.424Z"
      },
      {
        "duration": 5,
        "start_time": "2023-01-29T11:14:35.576Z"
      },
      {
        "duration": 4,
        "start_time": "2023-01-29T11:14:35.822Z"
      },
      {
        "duration": 4,
        "start_time": "2023-01-29T11:14:36.023Z"
      },
      {
        "duration": 10,
        "start_time": "2023-01-29T11:14:36.223Z"
      },
      {
        "duration": 6,
        "start_time": "2023-01-29T11:14:36.391Z"
      },
      {
        "duration": 6,
        "start_time": "2023-01-29T11:14:36.596Z"
      },
      {
        "duration": 3,
        "start_time": "2023-01-29T11:14:36.790Z"
      },
      {
        "duration": 18,
        "start_time": "2023-01-29T11:14:37.023Z"
      },
      {
        "duration": 4,
        "start_time": "2023-01-29T11:14:37.219Z"
      },
      {
        "duration": 4,
        "start_time": "2023-01-29T11:14:37.388Z"
      },
      {
        "duration": 56,
        "start_time": "2023-01-29T11:14:37.596Z"
      },
      {
        "duration": 263,
        "start_time": "2023-01-29T11:14:37.768Z"
      },
      {
        "duration": 6,
        "start_time": "2023-01-29T11:14:38.121Z"
      },
      {
        "duration": 516,
        "start_time": "2023-01-29T11:14:38.276Z"
      },
      {
        "duration": 67,
        "start_time": "2023-01-29T11:23:18.656Z"
      },
      {
        "duration": 8,
        "start_time": "2023-01-29T11:23:28.332Z"
      },
      {
        "duration": 8,
        "start_time": "2023-01-29T11:23:33.191Z"
      },
      {
        "duration": 7,
        "start_time": "2023-01-29T11:24:16.823Z"
      },
      {
        "duration": 8,
        "start_time": "2023-01-29T11:28:52.531Z"
      },
      {
        "duration": 8826,
        "start_time": "2023-01-29T11:29:38.478Z"
      },
      {
        "duration": 809,
        "start_time": "2023-01-29T11:30:20.695Z"
      },
      {
        "duration": 11,
        "start_time": "2023-01-29T11:30:56.731Z"
      },
      {
        "duration": 10,
        "start_time": "2023-01-29T11:31:00.575Z"
      },
      {
        "duration": 6,
        "start_time": "2023-01-29T11:31:04.456Z"
      },
      {
        "duration": 8,
        "start_time": "2023-01-29T11:31:10.055Z"
      },
      {
        "duration": 7,
        "start_time": "2023-01-29T11:31:12.434Z"
      },
      {
        "duration": 7,
        "start_time": "2023-01-29T11:31:43.436Z"
      },
      {
        "duration": 15,
        "start_time": "2023-01-29T11:31:45.701Z"
      },
      {
        "duration": 7,
        "start_time": "2023-01-29T11:32:28.136Z"
      },
      {
        "duration": 5,
        "start_time": "2023-01-29T12:04:26.758Z"
      },
      {
        "duration": 5,
        "start_time": "2023-01-29T12:04:45.647Z"
      },
      {
        "duration": 7,
        "start_time": "2023-01-29T12:04:54.690Z"
      },
      {
        "duration": 8,
        "start_time": "2023-01-29T12:06:40.347Z"
      },
      {
        "duration": 3,
        "start_time": "2023-01-29T12:06:49.613Z"
      },
      {
        "duration": 4,
        "start_time": "2023-01-29T12:06:57.827Z"
      },
      {
        "duration": 19,
        "start_time": "2023-01-29T12:07:00.987Z"
      },
      {
        "duration": 12,
        "start_time": "2023-01-29T12:07:12.105Z"
      },
      {
        "duration": 4,
        "start_time": "2023-01-29T12:07:36.345Z"
      },
      {
        "duration": 19,
        "start_time": "2023-01-29T12:07:40.088Z"
      },
      {
        "duration": 3,
        "start_time": "2023-01-29T12:07:54.805Z"
      },
      {
        "duration": 16,
        "start_time": "2023-01-29T12:07:59.388Z"
      },
      {
        "duration": 2,
        "start_time": "2023-01-29T12:08:17.449Z"
      },
      {
        "duration": 2,
        "start_time": "2023-01-29T12:08:17.881Z"
      },
      {
        "duration": 7,
        "start_time": "2023-01-29T12:08:19.290Z"
      },
      {
        "duration": 3,
        "start_time": "2023-01-29T12:08:19.669Z"
      },
      {
        "duration": 3,
        "start_time": "2023-01-29T12:08:20.925Z"
      },
      {
        "duration": 2,
        "start_time": "2023-01-29T12:08:21.118Z"
      },
      {
        "duration": 2,
        "start_time": "2023-01-29T12:08:22.369Z"
      },
      {
        "duration": 10,
        "start_time": "2023-01-29T12:08:22.588Z"
      },
      {
        "duration": 4,
        "start_time": "2023-01-29T12:08:30.604Z"
      },
      {
        "duration": 3,
        "start_time": "2023-01-29T12:17:52.818Z"
      },
      {
        "duration": 4,
        "start_time": "2023-01-29T12:17:53.276Z"
      },
      {
        "duration": 43,
        "start_time": "2023-01-29T12:17:53.436Z"
      },
      {
        "duration": 225,
        "start_time": "2023-01-29T12:17:53.617Z"
      },
      {
        "duration": 4,
        "start_time": "2023-01-29T12:17:53.846Z"
      },
      {
        "duration": 343,
        "start_time": "2023-01-29T12:17:53.956Z"
      },
      {
        "duration": 16908,
        "start_time": "2023-01-29T12:17:54.303Z"
      },
      {
        "duration": 5288,
        "start_time": "2023-01-29T12:18:11.214Z"
      },
      {
        "duration": 9,
        "start_time": "2023-01-29T12:18:16.507Z"
      },
      {
        "duration": 83,
        "start_time": "2023-01-29T12:18:16.518Z"
      },
      {
        "duration": 3,
        "start_time": "2023-01-29T12:20:15.377Z"
      },
      {
        "duration": 16,
        "start_time": "2023-01-29T12:20:15.651Z"
      },
      {
        "duration": 4,
        "start_time": "2023-01-29T12:20:15.956Z"
      },
      {
        "duration": 4,
        "start_time": "2023-01-29T12:20:16.197Z"
      },
      {
        "duration": 54,
        "start_time": "2023-01-29T12:20:16.326Z"
      },
      {
        "duration": 205,
        "start_time": "2023-01-29T12:20:16.554Z"
      },
      {
        "duration": 3,
        "start_time": "2023-01-29T12:20:16.762Z"
      },
      {
        "duration": 347,
        "start_time": "2023-01-29T12:20:16.945Z"
      },
      {
        "duration": 16028,
        "start_time": "2023-01-29T12:20:17.294Z"
      },
      {
        "duration": 11302,
        "start_time": "2023-01-29T12:20:33.324Z"
      },
      {
        "duration": 69,
        "start_time": "2023-01-29T12:20:44.629Z"
      },
      {
        "duration": 10,
        "start_time": "2023-01-29T12:20:44.702Z"
      },
      {
        "duration": 9,
        "start_time": "2023-01-29T12:20:44.713Z"
      },
      {
        "duration": 5,
        "start_time": "2023-01-29T12:20:44.723Z"
      },
      {
        "duration": 8,
        "start_time": "2023-01-29T12:20:44.729Z"
      },
      {
        "duration": 49,
        "start_time": "2023-01-29T14:18:52.436Z"
      },
      {
        "duration": 5,
        "start_time": "2023-01-29T14:18:52.836Z"
      },
      {
        "duration": 1039,
        "start_time": "2023-01-29T14:18:59.037Z"
      },
      {
        "duration": 90,
        "start_time": "2023-01-29T14:19:00.649Z"
      },
      {
        "duration": 16,
        "start_time": "2023-01-29T14:19:00.787Z"
      },
      {
        "duration": 24,
        "start_time": "2023-01-29T14:19:00.963Z"
      },
      {
        "duration": 2,
        "start_time": "2023-01-29T14:19:01.068Z"
      },
      {
        "duration": 4,
        "start_time": "2023-01-29T14:19:01.231Z"
      },
      {
        "duration": 25,
        "start_time": "2023-01-29T14:19:01.308Z"
      },
      {
        "duration": 6,
        "start_time": "2023-01-29T14:19:01.466Z"
      },
      {
        "duration": 4,
        "start_time": "2023-01-29T14:19:01.556Z"
      },
      {
        "duration": 7,
        "start_time": "2023-01-29T14:19:01.695Z"
      },
      {
        "duration": 9,
        "start_time": "2023-01-29T14:19:02.595Z"
      },
      {
        "duration": 3,
        "start_time": "2023-01-29T14:19:02.721Z"
      },
      {
        "duration": 3,
        "start_time": "2023-01-29T14:19:02.847Z"
      },
      {
        "duration": 4,
        "start_time": "2023-01-29T14:19:02.976Z"
      },
      {
        "duration": 3,
        "start_time": "2023-01-29T14:19:03.138Z"
      },
      {
        "duration": 8,
        "start_time": "2023-01-29T14:19:03.235Z"
      },
      {
        "duration": 4,
        "start_time": "2023-01-29T14:19:03.376Z"
      },
      {
        "duration": 6,
        "start_time": "2023-01-29T14:19:03.539Z"
      },
      {
        "duration": 3,
        "start_time": "2023-01-29T14:19:03.855Z"
      },
      {
        "duration": 15,
        "start_time": "2023-01-29T14:19:04.050Z"
      },
      {
        "duration": 4,
        "start_time": "2023-01-29T14:19:04.155Z"
      },
      {
        "duration": 5,
        "start_time": "2023-01-29T14:19:04.537Z"
      },
      {
        "duration": 3,
        "start_time": "2023-01-29T14:19:04.834Z"
      },
      {
        "duration": 2,
        "start_time": "2023-01-29T14:19:05.830Z"
      },
      {
        "duration": 3,
        "start_time": "2023-01-29T14:19:06.406Z"
      },
      {
        "duration": 61,
        "start_time": "2023-01-29T14:19:06.535Z"
      },
      {
        "duration": 5,
        "start_time": "2023-01-29T14:19:06.838Z"
      },
      {
        "duration": 5,
        "start_time": "2023-01-29T14:19:07.455Z"
      },
      {
        "duration": 5,
        "start_time": "2023-01-29T14:19:46.363Z"
      },
      {
        "duration": 3,
        "start_time": "2023-01-29T14:19:48.430Z"
      },
      {
        "duration": 3,
        "start_time": "2023-01-29T14:19:48.587Z"
      },
      {
        "duration": 4,
        "start_time": "2023-01-29T14:19:48.776Z"
      },
      {
        "duration": 9,
        "start_time": "2023-01-29T14:19:48.995Z"
      },
      {
        "duration": 5,
        "start_time": "2023-01-29T14:19:49.555Z"
      },
      {
        "duration": 3,
        "start_time": "2023-01-29T14:20:49.568Z"
      },
      {
        "duration": 4,
        "start_time": "2023-01-29T14:20:50.155Z"
      },
      {
        "duration": 4,
        "start_time": "2023-01-29T14:20:50.498Z"
      },
      {
        "duration": 4,
        "start_time": "2023-01-29T14:20:51.036Z"
      },
      {
        "duration": 8,
        "start_time": "2023-01-29T14:20:54.003Z"
      },
      {
        "duration": 5,
        "start_time": "2023-01-29T14:20:58.575Z"
      },
      {
        "duration": 6,
        "start_time": "2023-01-29T14:20:58.788Z"
      },
      {
        "duration": 7,
        "start_time": "2023-01-29T14:20:59.320Z"
      },
      {
        "duration": 6,
        "start_time": "2023-01-29T14:20:59.997Z"
      },
      {
        "duration": 3,
        "start_time": "2023-01-29T14:21:00.275Z"
      },
      {
        "duration": 3,
        "start_time": "2023-01-29T14:21:00.975Z"
      },
      {
        "duration": 3,
        "start_time": "2023-01-29T14:21:02.176Z"
      },
      {
        "duration": 4,
        "start_time": "2023-01-29T14:21:03.036Z"
      },
      {
        "duration": 6,
        "start_time": "2023-01-29T14:21:04.095Z"
      },
      {
        "duration": 3,
        "start_time": "2023-01-29T14:22:11.683Z"
      },
      {
        "duration": 4,
        "start_time": "2023-01-29T14:22:12.068Z"
      },
      {
        "duration": 3,
        "start_time": "2023-01-29T14:22:12.397Z"
      },
      {
        "duration": 3,
        "start_time": "2023-01-29T14:22:12.875Z"
      },
      {
        "duration": 3,
        "start_time": "2023-01-29T14:22:14.007Z"
      },
      {
        "duration": 3,
        "start_time": "2023-01-29T14:22:14.387Z"
      },
      {
        "duration": 4,
        "start_time": "2023-01-29T14:22:16.655Z"
      },
      {
        "duration": 6,
        "start_time": "2023-01-29T14:22:20.755Z"
      },
      {
        "duration": 4,
        "start_time": "2023-01-29T14:22:21.956Z"
      },
      {
        "duration": 7,
        "start_time": "2023-01-29T14:22:23.139Z"
      },
      {
        "duration": 8,
        "start_time": "2023-01-29T14:22:24.338Z"
      },
      {
        "duration": 2,
        "start_time": "2023-01-29T14:22:25.008Z"
      },
      {
        "duration": 3,
        "start_time": "2023-01-29T14:22:25.338Z"
      },
      {
        "duration": 3,
        "start_time": "2023-01-29T14:22:25.655Z"
      },
      {
        "duration": 5,
        "start_time": "2023-01-29T14:22:25.955Z"
      },
      {
        "duration": 4,
        "start_time": "2023-01-29T14:22:33.140Z"
      },
      {
        "duration": 4,
        "start_time": "2023-01-29T14:22:43.436Z"
      },
      {
        "duration": 4,
        "start_time": "2023-01-29T14:22:43.735Z"
      },
      {
        "duration": 3,
        "start_time": "2023-01-29T14:22:44.304Z"
      },
      {
        "duration": 6,
        "start_time": "2023-01-29T14:22:45.612Z"
      },
      {
        "duration": 4,
        "start_time": "2023-01-29T14:22:45.868Z"
      },
      {
        "duration": 5,
        "start_time": "2023-01-29T14:22:50.675Z"
      },
      {
        "duration": 3,
        "start_time": "2023-01-29T14:22:56.595Z"
      },
      {
        "duration": 14,
        "start_time": "2023-01-29T14:23:00.755Z"
      },
      {
        "duration": 4,
        "start_time": "2023-01-29T14:23:01.057Z"
      },
      {
        "duration": 4,
        "start_time": "2023-01-29T14:23:01.836Z"
      },
      {
        "duration": 5,
        "start_time": "2023-01-29T14:23:02.755Z"
      },
      {
        "duration": 2,
        "start_time": "2023-01-29T14:23:03.848Z"
      },
      {
        "duration": 4,
        "start_time": "2023-01-29T14:23:05.939Z"
      },
      {
        "duration": 4,
        "start_time": "2023-01-29T14:23:06.036Z"
      },
      {
        "duration": 4,
        "start_time": "2023-01-29T14:23:06.495Z"
      },
      {
        "duration": 5,
        "start_time": "2023-01-29T14:23:10.796Z"
      },
      {
        "duration": 5,
        "start_time": "2023-01-29T14:23:11.238Z"
      },
      {
        "duration": 6,
        "start_time": "2023-01-29T14:23:12.456Z"
      },
      {
        "duration": 7,
        "start_time": "2023-01-29T14:23:13.320Z"
      },
      {
        "duration": 2,
        "start_time": "2023-01-29T14:23:13.976Z"
      },
      {
        "duration": 3,
        "start_time": "2023-01-29T14:23:14.357Z"
      },
      {
        "duration": 2,
        "start_time": "2023-01-29T14:23:16.138Z"
      },
      {
        "duration": 4,
        "start_time": "2023-01-29T14:23:16.356Z"
      },
      {
        "duration": 7,
        "start_time": "2023-01-29T14:23:18.130Z"
      },
      {
        "duration": 3,
        "start_time": "2023-01-29T14:23:34.976Z"
      },
      {
        "duration": 4,
        "start_time": "2023-01-29T14:23:51.342Z"
      },
      {
        "duration": 3,
        "start_time": "2023-01-29T14:24:19.732Z"
      },
      {
        "duration": 3,
        "start_time": "2023-01-29T14:24:19.938Z"
      },
      {
        "duration": 3,
        "start_time": "2023-01-29T14:24:20.154Z"
      },
      {
        "duration": 3,
        "start_time": "2023-01-29T14:24:20.438Z"
      },
      {
        "duration": 4,
        "start_time": "2023-01-29T14:24:26.156Z"
      },
      {
        "duration": 5,
        "start_time": "2023-01-29T14:24:35.161Z"
      },
      {
        "duration": 3,
        "start_time": "2023-01-29T14:24:48.255Z"
      },
      {
        "duration": 8,
        "start_time": "2023-01-29T14:24:48.776Z"
      },
      {
        "duration": 5,
        "start_time": "2023-01-29T14:24:49.177Z"
      },
      {
        "duration": 5,
        "start_time": "2023-01-29T14:24:50.047Z"
      },
      {
        "duration": 7,
        "start_time": "2023-01-29T14:24:53.156Z"
      },
      {
        "duration": 6,
        "start_time": "2023-01-29T14:24:54.996Z"
      },
      {
        "duration": 4,
        "start_time": "2023-01-29T14:29:55.345Z"
      },
      {
        "duration": 3,
        "start_time": "2023-01-29T14:30:00.240Z"
      },
      {
        "duration": 2,
        "start_time": "2023-01-29T14:30:19.048Z"
      },
      {
        "duration": 3,
        "start_time": "2023-01-29T14:30:19.358Z"
      },
      {
        "duration": 3,
        "start_time": "2023-01-29T14:31:01.359Z"
      },
      {
        "duration": 5,
        "start_time": "2023-01-29T14:31:02.671Z"
      },
      {
        "duration": 6,
        "start_time": "2023-01-29T14:31:03.598Z"
      },
      {
        "duration": 7,
        "start_time": "2023-01-29T14:31:05.258Z"
      },
      {
        "duration": 7,
        "start_time": "2023-01-29T14:31:06.200Z"
      },
      {
        "duration": 7,
        "start_time": "2023-01-29T14:31:07.259Z"
      },
      {
        "duration": 5,
        "start_time": "2023-01-29T14:31:23.299Z"
      },
      {
        "duration": 4,
        "start_time": "2023-01-29T14:31:32.739Z"
      },
      {
        "duration": 5,
        "start_time": "2023-01-29T14:31:39.279Z"
      },
      {
        "duration": 4,
        "start_time": "2023-01-29T14:32:20.245Z"
      },
      {
        "duration": 11,
        "start_time": "2023-01-29T14:32:43.459Z"
      },
      {
        "duration": 13,
        "start_time": "2023-01-29T14:32:48.659Z"
      },
      {
        "duration": 5,
        "start_time": "2023-01-29T14:33:05.646Z"
      },
      {
        "duration": 4,
        "start_time": "2023-01-29T14:33:12.259Z"
      },
      {
        "duration": 5,
        "start_time": "2023-01-29T14:33:24.559Z"
      },
      {
        "duration": 4,
        "start_time": "2023-01-29T14:34:05.481Z"
      },
      {
        "duration": 4,
        "start_time": "2023-01-29T14:34:09.054Z"
      },
      {
        "duration": 6,
        "start_time": "2023-01-29T14:34:09.354Z"
      },
      {
        "duration": 5,
        "start_time": "2023-01-29T14:34:09.743Z"
      },
      {
        "duration": 5,
        "start_time": "2023-01-29T14:34:09.979Z"
      },
      {
        "duration": 19,
        "start_time": "2023-01-29T14:34:10.354Z"
      },
      {
        "duration": 4,
        "start_time": "2023-01-29T14:34:10.491Z"
      },
      {
        "duration": 4,
        "start_time": "2023-01-29T14:34:12.761Z"
      },
      {
        "duration": 5,
        "start_time": "2023-01-29T14:34:14.254Z"
      },
      {
        "duration": 3,
        "start_time": "2023-01-29T14:34:14.591Z"
      },
      {
        "duration": 4,
        "start_time": "2023-01-29T14:34:14.938Z"
      },
      {
        "duration": 4,
        "start_time": "2023-01-29T14:34:15.458Z"
      },
      {
        "duration": 5,
        "start_time": "2023-01-29T14:34:15.960Z"
      },
      {
        "duration": 5,
        "start_time": "2023-01-29T14:34:16.354Z"
      },
      {
        "duration": 6,
        "start_time": "2023-01-29T14:34:16.979Z"
      },
      {
        "duration": 6,
        "start_time": "2023-01-29T14:34:17.859Z"
      },
      {
        "duration": 5,
        "start_time": "2023-01-29T14:34:18.460Z"
      },
      {
        "duration": 8,
        "start_time": "2023-01-29T14:34:25.146Z"
      },
      {
        "duration": 4,
        "start_time": "2023-01-29T14:34:30.836Z"
      },
      {
        "duration": 4,
        "start_time": "2023-01-29T14:34:31.099Z"
      },
      {
        "duration": 7,
        "start_time": "2023-01-29T14:34:39.754Z"
      },
      {
        "duration": 6,
        "start_time": "2023-01-29T14:34:54.018Z"
      },
      {
        "duration": 12,
        "start_time": "2023-01-29T14:35:08.547Z"
      },
      {
        "duration": 8,
        "start_time": "2023-01-29T14:35:13.147Z"
      },
      {
        "duration": 6,
        "start_time": "2023-01-29T14:35:24.362Z"
      },
      {
        "duration": 8,
        "start_time": "2023-01-29T14:36:17.192Z"
      },
      {
        "duration": 4,
        "start_time": "2023-01-29T14:36:17.335Z"
      },
      {
        "duration": 6,
        "start_time": "2023-01-29T14:36:18.270Z"
      },
      {
        "duration": 3,
        "start_time": "2023-01-29T14:36:21.547Z"
      },
      {
        "duration": 4,
        "start_time": "2023-01-29T14:36:21.665Z"
      },
      {
        "duration": 6,
        "start_time": "2023-01-29T14:36:22.000Z"
      },
      {
        "duration": 4,
        "start_time": "2023-01-29T14:36:59.012Z"
      },
      {
        "duration": 5,
        "start_time": "2023-01-29T14:37:04.147Z"
      },
      {
        "duration": 7,
        "start_time": "2023-01-29T14:37:05.043Z"
      },
      {
        "duration": 5,
        "start_time": "2023-01-29T14:37:05.760Z"
      },
      {
        "duration": 5,
        "start_time": "2023-01-29T14:37:06.872Z"
      },
      {
        "duration": 13,
        "start_time": "2023-01-29T14:37:08.080Z"
      },
      {
        "duration": 4,
        "start_time": "2023-01-29T14:37:09.451Z"
      },
      {
        "duration": 3,
        "start_time": "2023-01-29T14:37:10.430Z"
      },
      {
        "duration": 3,
        "start_time": "2023-01-29T14:37:11.246Z"
      },
      {
        "duration": 3,
        "start_time": "2023-01-29T14:37:11.691Z"
      },
      {
        "duration": 5,
        "start_time": "2023-01-29T14:37:12.140Z"
      },
      {
        "duration": 4,
        "start_time": "2023-01-29T14:37:13.024Z"
      },
      {
        "duration": 7,
        "start_time": "2023-01-29T14:37:13.612Z"
      },
      {
        "duration": 5,
        "start_time": "2023-01-29T14:37:14.000Z"
      },
      {
        "duration": 8,
        "start_time": "2023-01-29T14:37:15.080Z"
      },
      {
        "duration": 9,
        "start_time": "2023-01-29T14:37:16.212Z"
      },
      {
        "duration": 6,
        "start_time": "2023-01-29T14:37:16.960Z"
      },
      {
        "duration": 7,
        "start_time": "2023-01-29T14:37:18.147Z"
      },
      {
        "duration": 4,
        "start_time": "2023-01-29T14:37:19.481Z"
      },
      {
        "duration": 5,
        "start_time": "2023-01-29T14:37:19.806Z"
      },
      {
        "duration": 7,
        "start_time": "2023-01-29T14:37:20.652Z"
      },
      {
        "duration": 6,
        "start_time": "2023-01-29T14:39:42.669Z"
      },
      {
        "duration": 10,
        "start_time": "2023-01-29T14:39:57.547Z"
      },
      {
        "duration": 3,
        "start_time": "2023-01-29T14:40:07.698Z"
      },
      {
        "duration": 28,
        "start_time": "2023-01-29T14:40:07.908Z"
      },
      {
        "duration": 9,
        "start_time": "2023-01-29T14:40:08.072Z"
      },
      {
        "duration": 23,
        "start_time": "2023-01-29T14:40:08.247Z"
      },
      {
        "duration": 3,
        "start_time": "2023-01-29T14:40:08.573Z"
      },
      {
        "duration": 4,
        "start_time": "2023-01-29T14:40:08.761Z"
      },
      {
        "duration": 23,
        "start_time": "2023-01-29T14:40:08.952Z"
      },
      {
        "duration": 6,
        "start_time": "2023-01-29T14:40:09.452Z"
      },
      {
        "duration": 4,
        "start_time": "2023-01-29T14:40:17.882Z"
      },
      {
        "duration": 6,
        "start_time": "2023-01-29T14:40:23.781Z"
      },
      {
        "duration": 5,
        "start_time": "2023-01-29T14:40:24.848Z"
      },
      {
        "duration": 6,
        "start_time": "2023-01-29T14:40:25.404Z"
      },
      {
        "duration": 16,
        "start_time": "2023-01-29T14:40:25.901Z"
      },
      {
        "duration": 4,
        "start_time": "2023-01-29T14:40:26.313Z"
      },
      {
        "duration": 5,
        "start_time": "2023-01-29T14:40:28.055Z"
      },
      {
        "duration": 5,
        "start_time": "2023-01-29T14:40:30.363Z"
      },
      {
        "duration": 5,
        "start_time": "2023-01-29T14:40:30.580Z"
      },
      {
        "duration": 4,
        "start_time": "2023-01-29T14:40:30.769Z"
      },
      {
        "duration": 14,
        "start_time": "2023-01-29T14:40:30.957Z"
      },
      {
        "duration": 15,
        "start_time": "2023-01-29T14:42:43.986Z"
      },
      {
        "duration": 3,
        "start_time": "2023-01-29T14:42:50.602Z"
      },
      {
        "duration": 5,
        "start_time": "2023-01-29T14:42:52.367Z"
      },
      {
        "duration": 4,
        "start_time": "2023-01-29T14:43:27.160Z"
      },
      {
        "duration": 4,
        "start_time": "2023-01-29T14:43:28.380Z"
      },
      {
        "duration": 16,
        "start_time": "2023-01-29T14:43:38.281Z"
      },
      {
        "duration": 12,
        "start_time": "2023-01-29T14:43:48.602Z"
      },
      {
        "duration": 3,
        "start_time": "2023-01-29T14:44:02.682Z"
      },
      {
        "duration": 5,
        "start_time": "2023-01-29T14:44:11.481Z"
      },
      {
        "duration": 4,
        "start_time": "2023-01-29T14:44:44.295Z"
      },
      {
        "duration": 12,
        "start_time": "2023-01-29T14:46:15.162Z"
      },
      {
        "duration": 16,
        "start_time": "2023-01-29T14:46:42.363Z"
      },
      {
        "duration": 5,
        "start_time": "2023-01-29T14:46:57.602Z"
      },
      {
        "duration": 3,
        "start_time": "2023-01-29T14:48:10.706Z"
      },
      {
        "duration": 4,
        "start_time": "2023-01-29T14:48:12.350Z"
      },
      {
        "duration": 7,
        "start_time": "2023-01-29T14:48:12.719Z"
      },
      {
        "duration": 5,
        "start_time": "2023-01-29T14:48:20.753Z"
      },
      {
        "duration": 5,
        "start_time": "2023-01-29T14:48:21.161Z"
      },
      {
        "duration": 5,
        "start_time": "2023-01-29T14:48:24.967Z"
      },
      {
        "duration": 6,
        "start_time": "2023-01-29T14:48:29.969Z"
      },
      {
        "duration": 14,
        "start_time": "2023-01-29T14:48:47.669Z"
      },
      {
        "duration": 13,
        "start_time": "2023-01-29T14:48:59.106Z"
      },
      {
        "duration": 6,
        "start_time": "2023-01-29T14:50:17.990Z"
      },
      {
        "duration": 16,
        "start_time": "2023-01-29T14:50:18.487Z"
      },
      {
        "duration": 5,
        "start_time": "2023-01-29T14:50:36.310Z"
      },
      {
        "duration": 5,
        "start_time": "2023-01-29T14:50:58.550Z"
      },
      {
        "duration": 3,
        "start_time": "2023-01-29T14:50:58.858Z"
      },
      {
        "duration": 8,
        "start_time": "2023-01-29T14:50:59.498Z"
      },
      {
        "duration": 4,
        "start_time": "2023-01-29T14:51:00.371Z"
      },
      {
        "duration": 7,
        "start_time": "2023-01-29T14:51:00.657Z"
      },
      {
        "duration": 5,
        "start_time": "2023-01-29T14:51:01.658Z"
      },
      {
        "duration": 4,
        "start_time": "2023-01-29T14:51:02.286Z"
      },
      {
        "duration": 6,
        "start_time": "2023-01-29T14:51:02.807Z"
      },
      {
        "duration": 4,
        "start_time": "2023-01-29T14:51:05.457Z"
      },
      {
        "duration": 4,
        "start_time": "2023-01-29T14:51:05.807Z"
      },
      {
        "duration": 3,
        "start_time": "2023-01-29T14:52:16.754Z"
      },
      {
        "duration": 5,
        "start_time": "2023-01-29T14:52:36.686Z"
      },
      {
        "duration": 6,
        "start_time": "2023-01-29T14:52:37.588Z"
      },
      {
        "duration": 1098,
        "start_time": "2023-01-29T14:52:56.270Z"
      },
      {
        "duration": 3,
        "start_time": "2023-01-29T14:52:57.370Z"
      },
      {
        "duration": 34,
        "start_time": "2023-01-29T14:52:57.374Z"
      },
      {
        "duration": 15,
        "start_time": "2023-01-29T14:52:57.410Z"
      },
      {
        "duration": 37,
        "start_time": "2023-01-29T14:52:57.427Z"
      },
      {
        "duration": 3,
        "start_time": "2023-01-29T14:52:57.466Z"
      },
      {
        "duration": 13,
        "start_time": "2023-01-29T14:52:57.470Z"
      },
      {
        "duration": 28,
        "start_time": "2023-01-29T14:52:57.485Z"
      },
      {
        "duration": 5,
        "start_time": "2023-01-29T14:52:57.514Z"
      },
      {
        "duration": 7,
        "start_time": "2023-01-29T14:52:57.520Z"
      },
      {
        "duration": 9,
        "start_time": "2023-01-29T14:52:57.529Z"
      },
      {
        "duration": 12,
        "start_time": "2023-01-29T14:52:57.540Z"
      },
      {
        "duration": 5,
        "start_time": "2023-01-29T14:52:57.554Z"
      },
      {
        "duration": 31,
        "start_time": "2023-01-29T14:52:57.561Z"
      },
      {
        "duration": 4,
        "start_time": "2023-01-29T14:52:57.594Z"
      },
      {
        "duration": 9,
        "start_time": "2023-01-29T14:52:57.600Z"
      },
      {
        "duration": 6,
        "start_time": "2023-01-29T14:52:57.610Z"
      },
      {
        "duration": 8,
        "start_time": "2023-01-29T14:52:57.617Z"
      },
      {
        "duration": 16,
        "start_time": "2023-01-29T14:52:57.627Z"
      },
      {
        "duration": 26,
        "start_time": "2023-01-29T14:52:57.644Z"
      },
      {
        "duration": 6,
        "start_time": "2023-01-29T14:52:57.672Z"
      },
      {
        "duration": 14,
        "start_time": "2023-01-29T14:52:57.680Z"
      },
      {
        "duration": 11,
        "start_time": "2023-01-29T14:52:57.696Z"
      },
      {
        "duration": 6,
        "start_time": "2023-01-29T14:52:57.708Z"
      },
      {
        "duration": 10,
        "start_time": "2023-01-29T14:52:57.716Z"
      },
      {
        "duration": 5,
        "start_time": "2023-01-29T14:52:57.728Z"
      },
      {
        "duration": 14,
        "start_time": "2023-01-29T14:52:57.734Z"
      },
      {
        "duration": 97,
        "start_time": "2023-01-29T14:52:57.749Z"
      },
      {
        "duration": 0,
        "start_time": "2023-01-29T14:52:57.847Z"
      },
      {
        "duration": 0,
        "start_time": "2023-01-29T14:52:57.849Z"
      },
      {
        "duration": 0,
        "start_time": "2023-01-29T14:52:57.850Z"
      },
      {
        "duration": 0,
        "start_time": "2023-01-29T14:52:57.851Z"
      },
      {
        "duration": 0,
        "start_time": "2023-01-29T14:52:57.852Z"
      },
      {
        "duration": 1080,
        "start_time": "2023-01-29T14:53:22.189Z"
      },
      {
        "duration": 2,
        "start_time": "2023-01-29T14:53:23.271Z"
      },
      {
        "duration": 36,
        "start_time": "2023-01-29T14:53:23.274Z"
      },
      {
        "duration": 22,
        "start_time": "2023-01-29T14:53:23.312Z"
      },
      {
        "duration": 31,
        "start_time": "2023-01-29T14:53:23.337Z"
      },
      {
        "duration": 3,
        "start_time": "2023-01-29T14:53:23.369Z"
      },
      {
        "duration": 10,
        "start_time": "2023-01-29T14:53:23.373Z"
      },
      {
        "duration": 35,
        "start_time": "2023-01-29T14:53:23.384Z"
      },
      {
        "duration": 5,
        "start_time": "2023-01-29T14:53:23.421Z"
      },
      {
        "duration": 5,
        "start_time": "2023-01-29T14:53:23.428Z"
      },
      {
        "duration": 8,
        "start_time": "2023-01-29T14:53:23.435Z"
      },
      {
        "duration": 11,
        "start_time": "2023-01-29T14:53:23.444Z"
      },
      {
        "duration": 41,
        "start_time": "2023-01-29T14:53:23.457Z"
      },
      {
        "duration": 6,
        "start_time": "2023-01-29T14:53:23.501Z"
      },
      {
        "duration": 14,
        "start_time": "2023-01-29T14:53:23.508Z"
      },
      {
        "duration": 9,
        "start_time": "2023-01-29T14:53:23.524Z"
      },
      {
        "duration": 12,
        "start_time": "2023-01-29T14:53:23.534Z"
      },
      {
        "duration": 8,
        "start_time": "2023-01-29T14:53:23.547Z"
      },
      {
        "duration": 12,
        "start_time": "2023-01-29T14:53:23.556Z"
      },
      {
        "duration": 8,
        "start_time": "2023-01-29T14:53:23.569Z"
      },
      {
        "duration": 7,
        "start_time": "2023-01-29T14:53:23.579Z"
      },
      {
        "duration": 17,
        "start_time": "2023-01-29T14:53:23.588Z"
      },
      {
        "duration": 10,
        "start_time": "2023-01-29T14:53:23.606Z"
      },
      {
        "duration": 9,
        "start_time": "2023-01-29T14:53:23.618Z"
      },
      {
        "duration": 25,
        "start_time": "2023-01-29T14:53:23.629Z"
      },
      {
        "duration": 10,
        "start_time": "2023-01-29T14:53:23.656Z"
      },
      {
        "duration": 11,
        "start_time": "2023-01-29T14:53:23.668Z"
      },
      {
        "duration": 5,
        "start_time": "2023-01-29T14:53:23.680Z"
      },
      {
        "duration": 9,
        "start_time": "2023-01-29T14:53:23.687Z"
      },
      {
        "duration": 4,
        "start_time": "2023-01-29T14:53:23.698Z"
      },
      {
        "duration": 12,
        "start_time": "2023-01-29T14:53:23.704Z"
      },
      {
        "duration": 12,
        "start_time": "2023-01-29T14:53:23.719Z"
      },
      {
        "duration": 1877,
        "start_time": "2023-01-29T16:06:03.629Z"
      },
      {
        "duration": 2,
        "start_time": "2023-01-29T16:06:05.509Z"
      },
      {
        "duration": 102,
        "start_time": "2023-01-29T16:06:05.513Z"
      },
      {
        "duration": 15,
        "start_time": "2023-01-29T16:06:05.617Z"
      },
      {
        "duration": 23,
        "start_time": "2023-01-29T16:06:05.633Z"
      },
      {
        "duration": 2,
        "start_time": "2023-01-29T16:06:05.658Z"
      },
      {
        "duration": 5,
        "start_time": "2023-01-29T16:06:05.661Z"
      },
      {
        "duration": 28,
        "start_time": "2023-01-29T16:06:05.668Z"
      },
      {
        "duration": 5,
        "start_time": "2023-01-29T16:06:05.698Z"
      },
      {
        "duration": 36,
        "start_time": "2023-01-29T16:06:05.705Z"
      },
      {
        "duration": 9,
        "start_time": "2023-01-29T16:06:05.742Z"
      },
      {
        "duration": 8,
        "start_time": "2023-01-29T16:06:05.752Z"
      },
      {
        "duration": 6,
        "start_time": "2023-01-29T16:06:05.762Z"
      },
      {
        "duration": 6,
        "start_time": "2023-01-29T16:06:05.770Z"
      },
      {
        "duration": 7,
        "start_time": "2023-01-29T16:06:05.777Z"
      },
      {
        "duration": 9,
        "start_time": "2023-01-29T16:06:05.786Z"
      },
      {
        "duration": 4,
        "start_time": "2023-01-29T16:06:05.797Z"
      },
      {
        "duration": 37,
        "start_time": "2023-01-29T16:06:05.803Z"
      },
      {
        "duration": 2,
        "start_time": "2023-01-29T16:06:05.842Z"
      },
      {
        "duration": 6,
        "start_time": "2023-01-29T16:06:05.846Z"
      },
      {
        "duration": 8,
        "start_time": "2023-01-29T16:06:05.853Z"
      },
      {
        "duration": 20,
        "start_time": "2023-01-29T16:06:05.863Z"
      },
      {
        "duration": 13,
        "start_time": "2023-01-29T16:06:05.884Z"
      },
      {
        "duration": 24,
        "start_time": "2023-01-29T16:06:05.898Z"
      },
      {
        "duration": 19,
        "start_time": "2023-01-29T16:06:05.924Z"
      },
      {
        "duration": 4,
        "start_time": "2023-01-29T16:06:05.945Z"
      },
      {
        "duration": 27,
        "start_time": "2023-01-29T16:06:05.951Z"
      },
      {
        "duration": 5,
        "start_time": "2023-01-29T16:06:05.981Z"
      },
      {
        "duration": 27,
        "start_time": "2023-01-29T16:06:05.988Z"
      },
      {
        "duration": 6,
        "start_time": "2023-01-29T16:06:06.017Z"
      },
      {
        "duration": 7,
        "start_time": "2023-01-29T16:06:06.025Z"
      },
      {
        "duration": 6,
        "start_time": "2023-01-29T16:06:06.034Z"
      },
      {
        "duration": 49,
        "start_time": "2023-01-29T16:23:39.212Z"
      },
      {
        "duration": 511,
        "start_time": "2023-01-29T16:24:12.292Z"
      },
      {
        "duration": 52,
        "start_time": "2023-01-29T16:24:33.132Z"
      },
      {
        "duration": 749,
        "start_time": "2023-01-29T16:24:46.541Z"
      },
      {
        "duration": 59,
        "start_time": "2023-01-29T16:24:47.292Z"
      },
      {
        "duration": 221,
        "start_time": "2023-01-29T16:25:21.299Z"
      },
      {
        "duration": 3,
        "start_time": "2023-01-29T16:25:22.291Z"
      },
      {
        "duration": 93,
        "start_time": "2023-01-29T16:25:22.296Z"
      },
      {
        "duration": 11,
        "start_time": "2023-01-29T16:25:22.390Z"
      },
      {
        "duration": 22,
        "start_time": "2023-01-29T16:25:23.131Z"
      },
      {
        "duration": 3,
        "start_time": "2023-01-29T16:25:24.579Z"
      },
      {
        "duration": 12,
        "start_time": "2023-01-29T16:25:24.587Z"
      },
      {
        "duration": 25,
        "start_time": "2023-01-29T16:25:25.147Z"
      },
      {
        "duration": 7,
        "start_time": "2023-01-29T16:25:26.120Z"
      },
      {
        "duration": 3,
        "start_time": "2023-01-29T16:25:26.137Z"
      },
      {
        "duration": 6,
        "start_time": "2023-01-29T16:25:27.312Z"
      },
      {
        "duration": 2,
        "start_time": "2023-01-29T16:25:30.180Z"
      },
      {
        "duration": 469,
        "start_time": "2023-01-29T16:25:31.300Z"
      },
      {
        "duration": 2,
        "start_time": "2023-01-29T16:25:54.291Z"
      },
      {
        "duration": 322,
        "start_time": "2023-01-29T16:25:55.171Z"
      },
      {
        "duration": 50,
        "start_time": "2023-01-29T16:54:13.169Z"
      },
      {
        "duration": 66,
        "start_time": "2023-01-29T16:57:19.357Z"
      },
      {
        "duration": 53,
        "start_time": "2023-01-29T16:58:34.757Z"
      },
      {
        "duration": 3,
        "start_time": "2023-01-29T17:05:29.458Z"
      },
      {
        "duration": 11,
        "start_time": "2023-01-29T17:05:35.991Z"
      },
      {
        "duration": 9,
        "start_time": "2023-01-29T17:06:24.436Z"
      },
      {
        "duration": 31,
        "start_time": "2023-01-29T17:06:42.870Z"
      },
      {
        "duration": 10,
        "start_time": "2023-01-29T17:06:43.162Z"
      },
      {
        "duration": 24,
        "start_time": "2023-01-29T17:06:43.950Z"
      },
      {
        "duration": 2,
        "start_time": "2023-01-29T17:06:44.092Z"
      },
      {
        "duration": 3,
        "start_time": "2023-01-29T17:06:44.190Z"
      },
      {
        "duration": 3,
        "start_time": "2023-01-29T17:06:47.412Z"
      },
      {
        "duration": 31,
        "start_time": "2023-01-29T17:06:47.533Z"
      },
      {
        "duration": 9,
        "start_time": "2023-01-29T17:06:47.642Z"
      },
      {
        "duration": 33,
        "start_time": "2023-01-29T17:06:47.762Z"
      },
      {
        "duration": 3,
        "start_time": "2023-01-29T17:06:47.902Z"
      },
      {
        "duration": 3,
        "start_time": "2023-01-29T17:06:48.051Z"
      },
      {
        "duration": 103,
        "start_time": "2023-01-29T17:06:48.178Z"
      },
      {
        "duration": 6,
        "start_time": "2023-01-29T17:06:48.338Z"
      },
      {
        "duration": 5,
        "start_time": "2023-01-29T17:06:48.431Z"
      },
      {
        "duration": 7,
        "start_time": "2023-01-29T17:06:48.617Z"
      },
      {
        "duration": 2,
        "start_time": "2023-01-29T17:06:49.136Z"
      },
      {
        "duration": 391,
        "start_time": "2023-01-29T17:06:49.341Z"
      },
      {
        "duration": 11,
        "start_time": "2023-01-29T17:07:06.452Z"
      },
      {
        "duration": 3,
        "start_time": "2023-01-29T17:07:06.841Z"
      },
      {
        "duration": 4,
        "start_time": "2023-01-29T17:07:07.210Z"
      },
      {
        "duration": 5,
        "start_time": "2023-01-29T17:07:07.370Z"
      },
      {
        "duration": 6,
        "start_time": "2023-01-29T17:07:07.570Z"
      },
      {
        "duration": 5,
        "start_time": "2023-01-29T17:07:07.735Z"
      },
      {
        "duration": 5,
        "start_time": "2023-01-29T17:07:07.935Z"
      },
      {
        "duration": 3,
        "start_time": "2023-01-29T17:07:08.090Z"
      },
      {
        "duration": 3,
        "start_time": "2023-01-29T17:07:08.250Z"
      },
      {
        "duration": 4,
        "start_time": "2023-01-29T17:07:08.450Z"
      },
      {
        "duration": 12,
        "start_time": "2023-01-29T17:07:08.662Z"
      },
      {
        "duration": 4,
        "start_time": "2023-01-29T17:07:09.003Z"
      },
      {
        "duration": 3,
        "start_time": "2023-01-29T17:07:09.162Z"
      },
      {
        "duration": 6,
        "start_time": "2023-01-29T17:07:09.631Z"
      },
      {
        "duration": 4,
        "start_time": "2023-01-29T17:07:10.170Z"
      },
      {
        "duration": 5,
        "start_time": "2023-01-29T17:07:10.290Z"
      },
      {
        "duration": 4,
        "start_time": "2023-01-29T17:07:10.690Z"
      },
      {
        "duration": 5,
        "start_time": "2023-01-29T17:07:10.842Z"
      },
      {
        "duration": 4,
        "start_time": "2023-01-29T17:07:16.710Z"
      },
      {
        "duration": 16,
        "start_time": "2023-01-29T17:07:17.082Z"
      },
      {
        "duration": 3,
        "start_time": "2023-01-29T17:07:32.290Z"
      },
      {
        "duration": 53,
        "start_time": "2023-01-29T17:08:44.419Z"
      },
      {
        "duration": 1102,
        "start_time": "2023-01-29T17:08:53.751Z"
      },
      {
        "duration": 3,
        "start_time": "2023-01-29T17:08:54.855Z"
      },
      {
        "duration": 33,
        "start_time": "2023-01-29T17:08:54.860Z"
      },
      {
        "duration": 15,
        "start_time": "2023-01-29T17:08:54.895Z"
      },
      {
        "duration": 25,
        "start_time": "2023-01-29T17:08:54.912Z"
      },
      {
        "duration": 3,
        "start_time": "2023-01-29T17:08:54.938Z"
      },
      {
        "duration": 8,
        "start_time": "2023-01-29T17:08:54.942Z"
      },
      {
        "duration": 29,
        "start_time": "2023-01-29T17:08:54.952Z"
      },
      {
        "duration": 5,
        "start_time": "2023-01-29T17:08:54.983Z"
      },
      {
        "duration": 7,
        "start_time": "2023-01-29T17:08:54.989Z"
      },
      {
        "duration": 8,
        "start_time": "2023-01-29T17:08:54.998Z"
      },
      {
        "duration": 319,
        "start_time": "2023-01-29T17:08:55.007Z"
      },
      {
        "duration": 390,
        "start_time": "2023-01-29T17:08:55.328Z"
      },
      {
        "duration": 9,
        "start_time": "2023-01-29T17:08:55.721Z"
      },
      {
        "duration": 5,
        "start_time": "2023-01-29T17:08:55.732Z"
      },
      {
        "duration": 4,
        "start_time": "2023-01-29T17:08:55.748Z"
      },
      {
        "duration": 6,
        "start_time": "2023-01-29T17:08:55.753Z"
      },
      {
        "duration": 7,
        "start_time": "2023-01-29T17:08:55.760Z"
      },
      {
        "duration": 4,
        "start_time": "2023-01-29T17:08:55.768Z"
      },
      {
        "duration": 9,
        "start_time": "2023-01-29T17:08:55.773Z"
      },
      {
        "duration": 4,
        "start_time": "2023-01-29T17:08:55.783Z"
      },
      {
        "duration": 7,
        "start_time": "2023-01-29T17:08:55.788Z"
      },
      {
        "duration": 7,
        "start_time": "2023-01-29T17:08:55.796Z"
      },
      {
        "duration": 20,
        "start_time": "2023-01-29T17:08:55.848Z"
      },
      {
        "duration": 4,
        "start_time": "2023-01-29T17:08:55.871Z"
      },
      {
        "duration": 7,
        "start_time": "2023-01-29T17:08:55.876Z"
      },
      {
        "duration": 8,
        "start_time": "2023-01-29T17:08:55.884Z"
      },
      {
        "duration": 5,
        "start_time": "2023-01-29T17:08:55.893Z"
      },
      {
        "duration": 11,
        "start_time": "2023-01-29T17:08:55.900Z"
      },
      {
        "duration": 6,
        "start_time": "2023-01-29T17:08:55.912Z"
      },
      {
        "duration": 33,
        "start_time": "2023-01-29T17:08:55.919Z"
      },
      {
        "duration": 4,
        "start_time": "2023-01-29T17:08:55.954Z"
      },
      {
        "duration": 161,
        "start_time": "2023-01-29T17:08:55.960Z"
      },
      {
        "duration": 0,
        "start_time": "2023-01-29T17:08:56.123Z"
      },
      {
        "duration": 0,
        "start_time": "2023-01-29T17:08:56.124Z"
      },
      {
        "duration": 0,
        "start_time": "2023-01-29T17:08:56.125Z"
      },
      {
        "duration": 0,
        "start_time": "2023-01-29T17:08:56.127Z"
      },
      {
        "duration": 5,
        "start_time": "2023-01-29T17:09:12.550Z"
      },
      {
        "duration": 59,
        "start_time": "2023-01-29T17:09:37.789Z"
      },
      {
        "duration": 5,
        "start_time": "2023-01-29T17:09:50.791Z"
      },
      {
        "duration": 4,
        "start_time": "2023-01-29T17:09:58.978Z"
      },
      {
        "duration": 4,
        "start_time": "2023-01-29T17:10:09.249Z"
      },
      {
        "duration": 4,
        "start_time": "2023-01-29T17:10:10.478Z"
      },
      {
        "duration": 1055,
        "start_time": "2023-01-29T17:10:49.350Z"
      },
      {
        "duration": 3,
        "start_time": "2023-01-29T17:10:50.407Z"
      },
      {
        "duration": 34,
        "start_time": "2023-01-29T17:10:50.412Z"
      },
      {
        "duration": 15,
        "start_time": "2023-01-29T17:10:50.447Z"
      },
      {
        "duration": 22,
        "start_time": "2023-01-29T17:10:50.464Z"
      },
      {
        "duration": 2,
        "start_time": "2023-01-29T17:10:50.488Z"
      },
      {
        "duration": 5,
        "start_time": "2023-01-29T17:10:50.492Z"
      },
      {
        "duration": 55,
        "start_time": "2023-01-29T17:10:50.498Z"
      },
      {
        "duration": 6,
        "start_time": "2023-01-29T17:10:50.554Z"
      },
      {
        "duration": 7,
        "start_time": "2023-01-29T17:10:50.561Z"
      },
      {
        "duration": 8,
        "start_time": "2023-01-29T17:10:50.570Z"
      },
      {
        "duration": 281,
        "start_time": "2023-01-29T17:10:50.579Z"
      },
      {
        "duration": 360,
        "start_time": "2023-01-29T17:10:50.861Z"
      },
      {
        "duration": 9,
        "start_time": "2023-01-29T17:10:51.224Z"
      },
      {
        "duration": 16,
        "start_time": "2023-01-29T17:10:51.234Z"
      },
      {
        "duration": 7,
        "start_time": "2023-01-29T17:10:51.251Z"
      },
      {
        "duration": 6,
        "start_time": "2023-01-29T17:10:51.260Z"
      },
      {
        "duration": 12,
        "start_time": "2023-01-29T17:10:51.267Z"
      },
      {
        "duration": 8,
        "start_time": "2023-01-29T17:10:51.281Z"
      },
      {
        "duration": 12,
        "start_time": "2023-01-29T17:10:51.290Z"
      },
      {
        "duration": 13,
        "start_time": "2023-01-29T17:10:51.304Z"
      },
      {
        "duration": 18,
        "start_time": "2023-01-29T17:10:51.319Z"
      },
      {
        "duration": 7,
        "start_time": "2023-01-29T17:10:51.339Z"
      },
      {
        "duration": 16,
        "start_time": "2023-01-29T17:10:51.347Z"
      },
      {
        "duration": 14,
        "start_time": "2023-01-29T17:10:51.364Z"
      },
      {
        "duration": 6,
        "start_time": "2023-01-29T17:10:51.380Z"
      },
      {
        "duration": 12,
        "start_time": "2023-01-29T17:10:51.388Z"
      },
      {
        "duration": 13,
        "start_time": "2023-01-29T17:10:51.401Z"
      },
      {
        "duration": 15,
        "start_time": "2023-01-29T17:10:51.415Z"
      },
      {
        "duration": 11,
        "start_time": "2023-01-29T17:10:51.432Z"
      },
      {
        "duration": 7,
        "start_time": "2023-01-29T17:10:51.444Z"
      },
      {
        "duration": 3,
        "start_time": "2023-01-29T17:10:51.453Z"
      },
      {
        "duration": 52,
        "start_time": "2023-01-29T17:10:51.458Z"
      },
      {
        "duration": 0,
        "start_time": "2023-01-29T17:10:51.511Z"
      },
      {
        "duration": 0,
        "start_time": "2023-01-29T17:10:51.513Z"
      },
      {
        "duration": 0,
        "start_time": "2023-01-29T17:10:51.514Z"
      },
      {
        "duration": 0,
        "start_time": "2023-01-29T17:10:51.516Z"
      },
      {
        "duration": 0,
        "start_time": "2023-01-29T17:10:51.517Z"
      },
      {
        "duration": 4,
        "start_time": "2023-01-29T17:11:52.652Z"
      },
      {
        "duration": 4,
        "start_time": "2023-01-29T17:11:53.330Z"
      },
      {
        "duration": 47,
        "start_time": "2023-01-29T17:15:12.410Z"
      },
      {
        "duration": 1016,
        "start_time": "2023-01-29T17:15:31.810Z"
      },
      {
        "duration": 3,
        "start_time": "2023-01-29T17:15:32.829Z"
      },
      {
        "duration": 41,
        "start_time": "2023-01-29T17:15:32.833Z"
      },
      {
        "duration": 14,
        "start_time": "2023-01-29T17:15:32.877Z"
      },
      {
        "duration": 22,
        "start_time": "2023-01-29T17:15:32.893Z"
      },
      {
        "duration": 2,
        "start_time": "2023-01-29T17:15:32.917Z"
      },
      {
        "duration": 7,
        "start_time": "2023-01-29T17:15:32.920Z"
      },
      {
        "duration": 38,
        "start_time": "2023-01-29T17:15:32.928Z"
      },
      {
        "duration": 6,
        "start_time": "2023-01-29T17:15:32.968Z"
      },
      {
        "duration": 9,
        "start_time": "2023-01-29T17:15:32.975Z"
      },
      {
        "duration": 10,
        "start_time": "2023-01-29T17:15:32.986Z"
      },
      {
        "duration": 301,
        "start_time": "2023-01-29T17:15:32.997Z"
      },
      {
        "duration": 393,
        "start_time": "2023-01-29T17:15:33.300Z"
      },
      {
        "duration": 8,
        "start_time": "2023-01-29T17:15:33.697Z"
      },
      {
        "duration": 11,
        "start_time": "2023-01-29T17:15:33.707Z"
      },
      {
        "duration": 17,
        "start_time": "2023-01-29T17:15:33.719Z"
      },
      {
        "duration": 27,
        "start_time": "2023-01-29T17:15:33.737Z"
      },
      {
        "duration": 21,
        "start_time": "2023-01-29T17:15:33.765Z"
      },
      {
        "duration": 10,
        "start_time": "2023-01-29T17:15:33.788Z"
      },
      {
        "duration": 16,
        "start_time": "2023-01-29T17:15:33.800Z"
      },
      {
        "duration": 18,
        "start_time": "2023-01-29T17:15:33.818Z"
      },
      {
        "duration": 7,
        "start_time": "2023-01-29T17:15:33.838Z"
      },
      {
        "duration": 24,
        "start_time": "2023-01-29T17:15:33.847Z"
      },
      {
        "duration": 15,
        "start_time": "2023-01-29T17:15:33.873Z"
      },
      {
        "duration": 4,
        "start_time": "2023-01-29T17:15:33.889Z"
      },
      {
        "duration": 6,
        "start_time": "2023-01-29T17:15:33.895Z"
      },
      {
        "duration": 8,
        "start_time": "2023-01-29T17:15:33.902Z"
      },
      {
        "duration": 4,
        "start_time": "2023-01-29T17:15:33.911Z"
      },
      {
        "duration": 7,
        "start_time": "2023-01-29T17:15:33.917Z"
      },
      {
        "duration": 10,
        "start_time": "2023-01-29T17:15:33.925Z"
      },
      {
        "duration": 13,
        "start_time": "2023-01-29T17:15:33.936Z"
      },
      {
        "duration": 106,
        "start_time": "2023-01-29T17:15:33.951Z"
      },
      {
        "duration": 0,
        "start_time": "2023-01-29T17:15:34.060Z"
      },
      {
        "duration": 0,
        "start_time": "2023-01-29T17:15:34.061Z"
      },
      {
        "duration": 0,
        "start_time": "2023-01-29T17:15:34.063Z"
      },
      {
        "duration": 0,
        "start_time": "2023-01-29T17:15:34.064Z"
      },
      {
        "duration": 0,
        "start_time": "2023-01-29T17:15:34.065Z"
      },
      {
        "duration": 0,
        "start_time": "2023-01-29T17:15:34.066Z"
      },
      {
        "duration": 0,
        "start_time": "2023-01-29T17:15:34.068Z"
      },
      {
        "duration": 0,
        "start_time": "2023-01-29T17:15:34.069Z"
      },
      {
        "duration": 0,
        "start_time": "2023-01-29T17:15:34.070Z"
      },
      {
        "duration": 45,
        "start_time": "2023-01-29T17:15:55.212Z"
      },
      {
        "duration": 9,
        "start_time": "2023-01-29T17:16:00.911Z"
      },
      {
        "duration": 9,
        "start_time": "2023-01-29T17:16:12.010Z"
      },
      {
        "duration": 14,
        "start_time": "2023-01-29T17:16:21.458Z"
      },
      {
        "duration": 6,
        "start_time": "2023-01-29T17:16:26.341Z"
      },
      {
        "duration": 6,
        "start_time": "2023-01-29T17:16:30.390Z"
      },
      {
        "duration": 4,
        "start_time": "2023-01-29T17:16:32.390Z"
      },
      {
        "duration": 4,
        "start_time": "2023-01-29T17:16:47.710Z"
      },
      {
        "duration": 5,
        "start_time": "2023-01-29T17:16:49.549Z"
      },
      {
        "duration": 13,
        "start_time": "2023-01-29T17:16:53.942Z"
      },
      {
        "duration": 3,
        "start_time": "2023-01-29T17:17:20.404Z"
      },
      {
        "duration": 3,
        "start_time": "2023-01-29T17:17:22.012Z"
      },
      {
        "duration": 11,
        "start_time": "2023-01-29T17:17:22.536Z"
      },
      {
        "duration": 4,
        "start_time": "2023-01-29T17:17:25.710Z"
      },
      {
        "duration": 5,
        "start_time": "2023-01-29T17:19:50.339Z"
      },
      {
        "duration": 6,
        "start_time": "2023-01-29T17:19:51.370Z"
      },
      {
        "duration": 1098,
        "start_time": "2023-01-29T17:26:12.655Z"
      },
      {
        "duration": 2,
        "start_time": "2023-01-29T17:26:13.755Z"
      },
      {
        "duration": 46,
        "start_time": "2023-01-29T17:26:13.759Z"
      },
      {
        "duration": 17,
        "start_time": "2023-01-29T17:26:13.807Z"
      },
      {
        "duration": 23,
        "start_time": "2023-01-29T17:26:13.825Z"
      },
      {
        "duration": 3,
        "start_time": "2023-01-29T17:26:13.849Z"
      },
      {
        "duration": 7,
        "start_time": "2023-01-29T17:26:13.854Z"
      },
      {
        "duration": 32,
        "start_time": "2023-01-29T17:26:13.863Z"
      },
      {
        "duration": 6,
        "start_time": "2023-01-29T17:26:13.897Z"
      },
      {
        "duration": 9,
        "start_time": "2023-01-29T17:26:13.906Z"
      },
      {
        "duration": 44,
        "start_time": "2023-01-29T17:26:13.916Z"
      },
      {
        "duration": 291,
        "start_time": "2023-01-29T17:26:13.962Z"
      },
      {
        "duration": 351,
        "start_time": "2023-01-29T17:26:14.254Z"
      },
      {
        "duration": 9,
        "start_time": "2023-01-29T17:26:14.606Z"
      },
      {
        "duration": 12,
        "start_time": "2023-01-29T17:26:14.616Z"
      },
      {
        "duration": 8,
        "start_time": "2023-01-29T17:26:14.630Z"
      },
      {
        "duration": 8,
        "start_time": "2023-01-29T17:26:14.639Z"
      },
      {
        "duration": 7,
        "start_time": "2023-01-29T17:26:14.649Z"
      },
      {
        "duration": 5,
        "start_time": "2023-01-29T17:26:14.657Z"
      },
      {
        "duration": 6,
        "start_time": "2023-01-29T17:26:14.664Z"
      },
      {
        "duration": 5,
        "start_time": "2023-01-29T17:26:14.672Z"
      },
      {
        "duration": 5,
        "start_time": "2023-01-29T17:26:14.678Z"
      },
      {
        "duration": 7,
        "start_time": "2023-01-29T17:26:14.684Z"
      },
      {
        "duration": 16,
        "start_time": "2023-01-29T17:26:14.692Z"
      },
      {
        "duration": 6,
        "start_time": "2023-01-29T17:26:14.709Z"
      },
      {
        "duration": 9,
        "start_time": "2023-01-29T17:26:14.716Z"
      },
      {
        "duration": 25,
        "start_time": "2023-01-29T17:26:14.726Z"
      },
      {
        "duration": 3,
        "start_time": "2023-01-29T17:26:14.754Z"
      },
      {
        "duration": 8,
        "start_time": "2023-01-29T17:26:14.759Z"
      },
      {
        "duration": 6,
        "start_time": "2023-01-29T17:26:14.769Z"
      },
      {
        "duration": 10,
        "start_time": "2023-01-29T17:26:14.777Z"
      },
      {
        "duration": 4,
        "start_time": "2023-01-29T17:26:14.789Z"
      },
      {
        "duration": 150,
        "start_time": "2023-01-29T17:26:14.795Z"
      },
      {
        "duration": 0,
        "start_time": "2023-01-29T17:26:14.948Z"
      },
      {
        "duration": 0,
        "start_time": "2023-01-29T17:26:14.949Z"
      },
      {
        "duration": 0,
        "start_time": "2023-01-29T17:26:14.951Z"
      },
      {
        "duration": 0,
        "start_time": "2023-01-29T17:26:14.952Z"
      },
      {
        "duration": 0,
        "start_time": "2023-01-29T17:26:14.953Z"
      },
      {
        "duration": 3,
        "start_time": "2023-01-29T17:26:54.003Z"
      },
      {
        "duration": 4,
        "start_time": "2023-01-29T17:26:54.510Z"
      },
      {
        "duration": 13,
        "start_time": "2023-01-29T17:26:55.051Z"
      },
      {
        "duration": 5,
        "start_time": "2023-01-29T17:26:56.883Z"
      },
      {
        "duration": 6,
        "start_time": "2023-01-29T17:27:08.311Z"
      },
      {
        "duration": 4,
        "start_time": "2023-01-29T17:27:27.535Z"
      },
      {
        "duration": 65,
        "start_time": "2023-01-29T17:28:43.892Z"
      },
      {
        "duration": 1047,
        "start_time": "2023-01-29T17:28:53.053Z"
      },
      {
        "duration": 2,
        "start_time": "2023-01-29T17:28:54.102Z"
      },
      {
        "duration": 43,
        "start_time": "2023-01-29T17:28:54.105Z"
      },
      {
        "duration": 16,
        "start_time": "2023-01-29T17:28:54.150Z"
      },
      {
        "duration": 21,
        "start_time": "2023-01-29T17:28:54.168Z"
      },
      {
        "duration": 2,
        "start_time": "2023-01-29T17:28:54.191Z"
      },
      {
        "duration": 5,
        "start_time": "2023-01-29T17:28:54.194Z"
      },
      {
        "duration": 50,
        "start_time": "2023-01-29T17:28:54.200Z"
      },
      {
        "duration": 6,
        "start_time": "2023-01-29T17:28:54.251Z"
      },
      {
        "duration": 6,
        "start_time": "2023-01-29T17:28:54.258Z"
      },
      {
        "duration": 7,
        "start_time": "2023-01-29T17:28:54.265Z"
      },
      {
        "duration": 267,
        "start_time": "2023-01-29T17:28:54.273Z"
      },
      {
        "duration": 358,
        "start_time": "2023-01-29T17:28:54.542Z"
      },
      {
        "duration": 9,
        "start_time": "2023-01-29T17:28:54.903Z"
      },
      {
        "duration": 10,
        "start_time": "2023-01-29T17:28:54.913Z"
      },
      {
        "duration": 7,
        "start_time": "2023-01-29T17:28:54.925Z"
      },
      {
        "duration": 6,
        "start_time": "2023-01-29T17:28:54.934Z"
      },
      {
        "duration": 6,
        "start_time": "2023-01-29T17:28:54.949Z"
      },
      {
        "duration": 6,
        "start_time": "2023-01-29T17:28:54.956Z"
      },
      {
        "duration": 5,
        "start_time": "2023-01-29T17:28:54.964Z"
      },
      {
        "duration": 4,
        "start_time": "2023-01-29T17:28:54.971Z"
      },
      {
        "duration": 6,
        "start_time": "2023-01-29T17:28:54.977Z"
      },
      {
        "duration": 10,
        "start_time": "2023-01-29T17:28:54.984Z"
      },
      {
        "duration": 13,
        "start_time": "2023-01-29T17:28:54.995Z"
      },
      {
        "duration": 7,
        "start_time": "2023-01-29T17:28:55.009Z"
      },
      {
        "duration": 31,
        "start_time": "2023-01-29T17:28:55.018Z"
      },
      {
        "duration": 8,
        "start_time": "2023-01-29T17:28:55.050Z"
      },
      {
        "duration": 9,
        "start_time": "2023-01-29T17:28:55.059Z"
      },
      {
        "duration": 10,
        "start_time": "2023-01-29T17:28:55.069Z"
      },
      {
        "duration": 3,
        "start_time": "2023-01-29T17:28:55.081Z"
      },
      {
        "duration": 7,
        "start_time": "2023-01-29T17:28:55.086Z"
      },
      {
        "duration": 3,
        "start_time": "2023-01-29T17:28:55.095Z"
      },
      {
        "duration": 10,
        "start_time": "2023-01-29T17:28:55.100Z"
      },
      {
        "duration": 118,
        "start_time": "2023-01-29T17:28:55.111Z"
      },
      {
        "duration": 0,
        "start_time": "2023-01-29T17:28:55.231Z"
      },
      {
        "duration": 2,
        "start_time": "2023-01-29T17:29:22.091Z"
      },
      {
        "duration": 8,
        "start_time": "2023-01-29T17:29:22.930Z"
      },
      {
        "duration": 3,
        "start_time": "2023-01-29T17:29:38.890Z"
      },
      {
        "duration": 5,
        "start_time": "2023-01-29T17:29:39.389Z"
      },
      {
        "duration": 4,
        "start_time": "2023-01-29T17:29:40.011Z"
      },
      {
        "duration": 6,
        "start_time": "2023-01-29T17:29:41.131Z"
      },
      {
        "duration": 1066,
        "start_time": "2023-01-29T17:33:47.469Z"
      },
      {
        "duration": 2,
        "start_time": "2023-01-29T17:33:48.537Z"
      },
      {
        "duration": 34,
        "start_time": "2023-01-29T17:33:48.541Z"
      },
      {
        "duration": 19,
        "start_time": "2023-01-29T17:33:48.578Z"
      },
      {
        "duration": 27,
        "start_time": "2023-01-29T17:33:48.598Z"
      },
      {
        "duration": 3,
        "start_time": "2023-01-29T17:33:48.626Z"
      },
      {
        "duration": 5,
        "start_time": "2023-01-29T17:33:48.631Z"
      },
      {
        "duration": 32,
        "start_time": "2023-01-29T17:33:48.637Z"
      },
      {
        "duration": 5,
        "start_time": "2023-01-29T17:33:48.671Z"
      },
      {
        "duration": 4,
        "start_time": "2023-01-29T17:33:48.678Z"
      },
      {
        "duration": 7,
        "start_time": "2023-01-29T17:33:48.684Z"
      },
      {
        "duration": 318,
        "start_time": "2023-01-29T17:33:48.692Z"
      },
      {
        "duration": 391,
        "start_time": "2023-01-29T17:33:49.011Z"
      },
      {
        "duration": 12,
        "start_time": "2023-01-29T17:33:49.404Z"
      },
      {
        "duration": 6,
        "start_time": "2023-01-29T17:33:49.420Z"
      },
      {
        "duration": 21,
        "start_time": "2023-01-29T17:33:49.428Z"
      },
      {
        "duration": 18,
        "start_time": "2023-01-29T17:33:49.450Z"
      },
      {
        "duration": 8,
        "start_time": "2023-01-29T17:33:49.470Z"
      },
      {
        "duration": 5,
        "start_time": "2023-01-29T17:33:49.479Z"
      },
      {
        "duration": 21,
        "start_time": "2023-01-29T17:33:49.485Z"
      },
      {
        "duration": 15,
        "start_time": "2023-01-29T17:33:49.508Z"
      },
      {
        "duration": 5,
        "start_time": "2023-01-29T17:33:49.525Z"
      },
      {
        "duration": 6,
        "start_time": "2023-01-29T17:33:49.532Z"
      },
      {
        "duration": 18,
        "start_time": "2023-01-29T17:33:49.540Z"
      },
      {
        "duration": 6,
        "start_time": "2023-01-29T17:33:49.560Z"
      },
      {
        "duration": 5,
        "start_time": "2023-01-29T17:33:49.568Z"
      },
      {
        "duration": 11,
        "start_time": "2023-01-29T17:33:49.574Z"
      },
      {
        "duration": 4,
        "start_time": "2023-01-29T17:33:49.589Z"
      },
      {
        "duration": 12,
        "start_time": "2023-01-29T17:33:49.594Z"
      },
      {
        "duration": 6,
        "start_time": "2023-01-29T17:33:49.608Z"
      },
      {
        "duration": 8,
        "start_time": "2023-01-29T17:33:49.616Z"
      },
      {
        "duration": 4,
        "start_time": "2023-01-29T17:33:49.626Z"
      },
      {
        "duration": 3,
        "start_time": "2023-01-29T17:33:49.648Z"
      },
      {
        "duration": 7,
        "start_time": "2023-01-29T17:33:49.653Z"
      },
      {
        "duration": 87,
        "start_time": "2023-01-29T17:33:49.662Z"
      },
      {
        "duration": 5,
        "start_time": "2023-01-29T17:33:49.751Z"
      },
      {
        "duration": 94,
        "start_time": "2023-01-29T17:33:49.758Z"
      },
      {
        "duration": 2099,
        "start_time": "2023-01-30T06:31:32.915Z"
      },
      {
        "duration": 3,
        "start_time": "2023-01-30T06:31:35.016Z"
      },
      {
        "duration": 127,
        "start_time": "2023-01-30T06:31:35.021Z"
      },
      {
        "duration": 30,
        "start_time": "2023-01-30T06:31:35.150Z"
      },
      {
        "duration": 30,
        "start_time": "2023-01-30T06:31:35.182Z"
      },
      {
        "duration": 2,
        "start_time": "2023-01-30T06:31:35.214Z"
      },
      {
        "duration": 9,
        "start_time": "2023-01-30T06:31:35.218Z"
      },
      {
        "duration": 51,
        "start_time": "2023-01-30T06:31:35.229Z"
      },
      {
        "duration": 5,
        "start_time": "2023-01-30T06:31:35.282Z"
      },
      {
        "duration": 6,
        "start_time": "2023-01-30T06:31:35.291Z"
      },
      {
        "duration": 11,
        "start_time": "2023-01-30T06:31:35.299Z"
      },
      {
        "duration": 564,
        "start_time": "2023-01-30T06:31:35.311Z"
      },
      {
        "duration": 509,
        "start_time": "2023-01-30T06:31:35.877Z"
      },
      {
        "duration": 15,
        "start_time": "2023-01-30T06:31:36.390Z"
      },
      {
        "duration": 8,
        "start_time": "2023-01-30T06:31:36.407Z"
      },
      {
        "duration": 9,
        "start_time": "2023-01-30T06:31:36.417Z"
      },
      {
        "duration": 7,
        "start_time": "2023-01-30T06:31:36.428Z"
      },
      {
        "duration": 20,
        "start_time": "2023-01-30T06:31:36.436Z"
      },
      {
        "duration": 114,
        "start_time": "2023-01-30T06:31:36.458Z"
      },
      {
        "duration": 33,
        "start_time": "2023-01-30T06:31:36.574Z"
      },
      {
        "duration": 4,
        "start_time": "2023-01-30T06:31:36.654Z"
      },
      {
        "duration": 22,
        "start_time": "2023-01-30T06:31:36.660Z"
      },
      {
        "duration": 9,
        "start_time": "2023-01-30T06:31:36.684Z"
      },
      {
        "duration": 17,
        "start_time": "2023-01-30T06:31:36.695Z"
      },
      {
        "duration": 16,
        "start_time": "2023-01-30T06:31:36.714Z"
      },
      {
        "duration": 6,
        "start_time": "2023-01-30T06:31:36.732Z"
      },
      {
        "duration": 11,
        "start_time": "2023-01-30T06:31:36.740Z"
      },
      {
        "duration": 7,
        "start_time": "2023-01-30T06:31:36.757Z"
      },
      {
        "duration": 45,
        "start_time": "2023-01-30T06:31:36.765Z"
      },
      {
        "duration": 4,
        "start_time": "2023-01-30T06:31:36.812Z"
      },
      {
        "duration": 12,
        "start_time": "2023-01-30T06:31:36.818Z"
      },
      {
        "duration": 4,
        "start_time": "2023-01-30T06:31:36.832Z"
      },
      {
        "duration": 10,
        "start_time": "2023-01-30T06:31:36.838Z"
      },
      {
        "duration": 48,
        "start_time": "2023-01-30T06:31:36.850Z"
      },
      {
        "duration": 14,
        "start_time": "2023-01-30T06:31:36.900Z"
      },
      {
        "duration": 140,
        "start_time": "2023-01-30T06:31:36.916Z"
      },
      {
        "duration": 42,
        "start_time": "2023-01-30T06:31:37.063Z"
      },
      {
        "duration": 86,
        "start_time": "2023-01-30T10:30:22.961Z"
      },
      {
        "duration": 75,
        "start_time": "2023-01-30T10:49:03.994Z"
      },
      {
        "duration": 88,
        "start_time": "2023-01-30T11:07:43.140Z"
      }
    ],
    "kernelspec": {
      "display_name": "Python 3 (ipykernel)",
      "language": "python",
      "name": "python3"
    },
    "language_info": {
      "codemirror_mode": {
        "name": "ipython",
        "version": 3
      },
      "file_extension": ".py",
      "mimetype": "text/x-python",
      "name": "python",
      "nbconvert_exporter": "python",
      "pygments_lexer": "ipython3",
      "version": "3.9.5"
    },
    "toc": {
      "base_numbering": 1,
      "nav_menu": {},
      "number_sections": true,
      "sideBar": true,
      "skip_h1_title": true,
      "title_cell": "Содержание",
      "title_sidebar": "Contents",
      "toc_cell": true,
      "toc_position": {},
      "toc_section_display": true,
      "toc_window_display": false
    },
    "colab": {
      "provenance": []
    }
  },
  "nbformat": 4,
  "nbformat_minor": 0
}