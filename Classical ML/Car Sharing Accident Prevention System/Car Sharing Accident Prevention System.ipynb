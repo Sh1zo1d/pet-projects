{
  "cells": [
    {
      "cell_type": "markdown",
      "id": "ff3d7f0c",
      "metadata": {
        "id": "ff3d7f0c"
      },
      "source": [
        "# Описание проект"
      ]
    },
    {
      "cell_type": "markdown",
      "id": "ee7b77da",
      "metadata": {
        "id": "ee7b77da"
      },
      "source": [
        "Нужно создать систему, которая могла бы оценить риск ДТП по выбранному маршруту движения. Под риском понимается вероятность ДТП с любым повреждением транспортного средства.\n",
        "\n",
        "Как только водитель забронировал автомобиль, сел за руль и выбрал маршрут, система должна оценить уровень риска. Если уровень риска высок, водитель увидит предупреждение и рекомендации по маршруту."
      ]
    },
    {
      "cell_type": "markdown",
      "id": "a84a681b",
      "metadata": {
        "id": "a84a681b"
      },
      "source": [
        "* Идея решения задачи от заказчика:\n",
        "\n",
        "    * Создать модель предсказания ДТП (целевое значение — at_fault (виновник) в таблице parties)\n",
        "    \n",
        "    * Для модели выбрать тип виновника — только машина (car).\n",
        "    \n",
        "    * Выбрать случаи, когда ДТП привело к любым повреждениям транспортного средства, кроме типа SCRATCH (царапина).\n",
        "    \n",
        "    * Для моделирования ограничиться данными за 2012 год — они самые свежие.\n",
        "    \n",
        "    * Обязательное условие — учесть фактор возраста автомобиля.\n",
        "    \n",
        "* На основе модели исследовать основные факторы ДТП.\n",
        "* Понять, помогут ли результаты моделирования и анализ важности факторов ответить на вопросы:\n",
        "    * Возможно ли создать адекватную системы оценки водительского риска при выдаче авто?\n",
        "    \n",
        "    * Какие ещё факторы нужно учесть?\n",
        "    \n",
        "    * Нужно ли оборудовать автомобиль какими-либо датчиками или камерой?\n",
        "    "
      ]
    },
    {
      "cell_type": "markdown",
      "id": "82652044",
      "metadata": {
        "ExecuteTime": {
          "end_time": "2022-05-05T04:58:05.692448Z",
          "start_time": "2022-05-05T04:58:05.688565Z"
        },
        "id": "82652044"
      },
      "source": [
        "## Подключитесь к базе. Загрузите таблицы sql"
      ]
    },
    {
      "cell_type": "code",
      "execution_count": null,
      "id": "d6218c89",
      "metadata": {
        "scrolled": false,
        "id": "d6218c89",
        "outputId": "a3f41b24-2dcf-42b7-aa4f-808abf01365d"
      },
      "outputs": [
        {
          "name": "stdout",
          "output_type": "stream",
          "text": [
            "Requirement already satisfied: optuna in /opt/conda/lib/python3.9/site-packages (3.1.1)\n",
            "Requirement already satisfied: PyYAML in /opt/conda/lib/python3.9/site-packages (from optuna) (6.0)\n",
            "Requirement already satisfied: packaging>=20.0 in /opt/conda/lib/python3.9/site-packages (from optuna) (21.3)\n",
            "Requirement already satisfied: tqdm in /opt/conda/lib/python3.9/site-packages (from optuna) (4.61.2)\n",
            "Requirement already satisfied: colorlog in /opt/conda/lib/python3.9/site-packages (from optuna) (6.7.0)\n",
            "Requirement already satisfied: numpy in /opt/conda/lib/python3.9/site-packages (from optuna) (1.21.1)\n",
            "Requirement already satisfied: cmaes>=0.9.1 in /opt/conda/lib/python3.9/site-packages (from optuna) (0.9.1)\n",
            "Requirement already satisfied: sqlalchemy>=1.3.0 in /opt/conda/lib/python3.9/site-packages (from optuna) (1.4.20)\n",
            "Requirement already satisfied: alembic>=1.5.0 in /opt/conda/lib/python3.9/site-packages (from optuna) (1.6.5)\n",
            "Requirement already satisfied: python-dateutil in /opt/conda/lib/python3.9/site-packages (from alembic>=1.5.0->optuna) (2.8.1)\n",
            "Requirement already satisfied: Mako in /opt/conda/lib/python3.9/site-packages (from alembic>=1.5.0->optuna) (1.1.4)\n",
            "Requirement already satisfied: python-editor>=0.3 in /opt/conda/lib/python3.9/site-packages (from alembic>=1.5.0->optuna) (1.0.4)\n",
            "Requirement already satisfied: pyparsing!=3.0.5,>=2.0.2 in /opt/conda/lib/python3.9/site-packages (from packaging>=20.0->optuna) (2.4.7)\n",
            "Requirement already satisfied: greenlet!=0.4.17 in /opt/conda/lib/python3.9/site-packages (from sqlalchemy>=1.3.0->optuna) (1.1.0)\n",
            "Requirement already satisfied: MarkupSafe>=0.9.2 in /opt/conda/lib/python3.9/site-packages (from Mako->alembic>=1.5.0->optuna) (2.1.1)\n",
            "Requirement already satisfied: six>=1.5 in /opt/conda/lib/python3.9/site-packages (from python-dateutil->alembic>=1.5.0->optuna) (1.16.0)\n",
            "Collecting category_encoders\n",
            "  Downloading category_encoders-2.6.0-py2.py3-none-any.whl (81 kB)\n",
            "\u001b[K     |████████████████████████████████| 81 kB 1.7 MB/s eta 0:00:011\n",
            "\u001b[?25hRequirement already satisfied: scikit-learn>=0.20.0 in /opt/conda/lib/python3.9/site-packages (from category_encoders) (1.1.3)\n",
            "Requirement already satisfied: pandas>=1.0.5 in /opt/conda/lib/python3.9/site-packages (from category_encoders) (1.2.4)\n",
            "Requirement already satisfied: patsy>=0.5.1 in /opt/conda/lib/python3.9/site-packages (from category_encoders) (0.5.2)\n",
            "Requirement already satisfied: numpy>=1.14.0 in /opt/conda/lib/python3.9/site-packages (from category_encoders) (1.21.1)\n",
            "Requirement already satisfied: statsmodels>=0.9.0 in /opt/conda/lib/python3.9/site-packages (from category_encoders) (0.13.2)\n",
            "Requirement already satisfied: scipy>=1.0.0 in /opt/conda/lib/python3.9/site-packages (from category_encoders) (1.9.1)\n",
            "Requirement already satisfied: python-dateutil>=2.7.3 in /opt/conda/lib/python3.9/site-packages (from pandas>=1.0.5->category_encoders) (2.8.1)\n",
            "Requirement already satisfied: pytz>=2017.3 in /opt/conda/lib/python3.9/site-packages (from pandas>=1.0.5->category_encoders) (2021.1)\n",
            "Requirement already satisfied: six in /opt/conda/lib/python3.9/site-packages (from patsy>=0.5.1->category_encoders) (1.16.0)\n",
            "Requirement already satisfied: joblib>=1.0.0 in /opt/conda/lib/python3.9/site-packages (from scikit-learn>=0.20.0->category_encoders) (1.1.0)\n",
            "Requirement already satisfied: threadpoolctl>=2.0.0 in /opt/conda/lib/python3.9/site-packages (from scikit-learn>=0.20.0->category_encoders) (3.1.0)\n",
            "Requirement already satisfied: packaging>=21.3 in /opt/conda/lib/python3.9/site-packages (from statsmodels>=0.9.0->category_encoders) (21.3)\n",
            "Requirement already satisfied: pyparsing!=3.0.5,>=2.0.2 in /opt/conda/lib/python3.9/site-packages (from packaging>=21.3->statsmodels>=0.9.0->category_encoders) (2.4.7)\n",
            "Installing collected packages: category-encoders\n",
            "Successfully installed category-encoders-2.6.0\n"
          ]
        }
      ],
      "source": [
        "!pip install optuna\n",
        "!pip install category_encoders\n",
        "# !pip install pandas\n",
        "# !pip install matplotlib\n",
        "# !pip install sqlalchemy\n",
        "# !pip install seaborn\n",
        "# !pip install warnings\n",
        "# !pip install scikit-learn\n",
        "# !pip install lightgbm\n",
        "# !pip install collections\n",
        "# !pip install re\n",
        "# !pip install calendar\n",
        "# !pip install numpy\n",
        "# !pip install --upgrade scikit-learn\n"
      ]
    },
    {
      "cell_type": "code",
      "execution_count": null,
      "id": "b2bf2502",
      "metadata": {
        "id": "b2bf2502"
      },
      "outputs": [],
      "source": [
        "import pandas as pd\n",
        "import matplotlib.pyplot as plt\n",
        "from sqlalchemy import create_engine\n",
        "import seaborn as sns\n",
        "import warnings # supress warnings\n",
        "from sklearn.ensemble import RandomForestClassifier\n",
        "from sklearn.linear_model import LogisticRegression\n",
        "from sklearn.metrics import balanced_accuracy_score, accuracy_score,classification_report\n",
        "from sklearn.metrics import roc_auc_score\n",
        "from sklearn.linear_model import LinearRegression\n",
        "from sklearn.model_selection import GridSearchCV\n",
        "from sklearn.linear_model import LogisticRegression\n",
        "from sklearn.metrics import precision_score, recall_score,fbeta_score,f1_score,make_scorer\n",
        "from sklearn.compose import ColumnTransformer,make_column_transformer\n",
        "from sklearn.pipeline import Pipeline\n",
        "from catboost import CatBoostClassifier\n",
        "from sklearn.preprocessing import StandardScaler,OneHotEncoder\n",
        "from sklearn.model_selection import train_test_split,cross_val_score\n",
        "from category_encoders import BinaryEncoder\n",
        "import optuna\n",
        "from lightgbm import LGBMClassifier\n",
        "from collections import Counter\n",
        "import re\n",
        "import calendar\n",
        "from math import ceil\n",
        "import numpy as np"
      ]
    },
    {
      "cell_type": "code",
      "execution_count": null,
      "id": "756fa6e4",
      "metadata": {
        "id": "756fa6e4"
      },
      "outputs": [],
      "source": [
        "db_config = {\n",
        "'user': 'praktikum_student', # имя пользователя,\n",
        "'pwd': 'Sdf4$2;d-d30pp', # пароль,\n",
        "'host': 'rc1b-wcoijxj3yxfsf3fs.mdb.yandexcloud.net',\n",
        "'port': 6432, # порт подключения,\n",
        "'db': 'data-science-vehicle-db' # название базы данных,\n",
        "}\n",
        "\n",
        "connection_string = 'postgresql://{}:{}@{}:{}/{}'.format(\n",
        "    db_config['user'],\n",
        "    db_config['pwd'],\n",
        "    db_config['host'],\n",
        "    db_config['port'],\n",
        "    db_config['db'],\n",
        ")"
      ]
    },
    {
      "cell_type": "code",
      "execution_count": null,
      "id": "cec80de2",
      "metadata": {
        "id": "cec80de2"
      },
      "outputs": [],
      "source": [
        "engine = create_engine(connection_string)"
      ]
    },
    {
      "cell_type": "code",
      "execution_count": null,
      "id": "5ab8d9fd",
      "metadata": {
        "id": "5ab8d9fd"
      },
      "outputs": [],
      "source": [
        "# query = '''\n",
        "# SELECT *\n",
        "# FROM case_ids;\n",
        "# '''\n",
        "\n",
        "# sample_df = pd.read_sql_query(query, con=engine)"
      ]
    },
    {
      "cell_type": "markdown",
      "id": "7dc208ae",
      "metadata": {
        "id": "7dc208ae"
      },
      "source": []
    },
    {
      "cell_type": "code",
      "source": [
        "## игнорируем будущие ошибки\n",
        "warnings.filterwarnings('ignore')"
      ],
      "metadata": {
        "id": "WrCYkuzIxEPN"
      },
      "id": "WrCYkuzIxEPN",
      "execution_count": null,
      "outputs": []
    },
    {
      "cell_type": "markdown",
      "id": "c1be39c9",
      "metadata": {
        "id": "c1be39c9"
      },
      "source": [
        "# Исследование таблиц"
      ]
    },
    {
      "cell_type": "code",
      "execution_count": null,
      "id": "71494328",
      "metadata": {
        "id": "71494328"
      },
      "outputs": [],
      "source": [
        "def run_query(query_):\n",
        "    return pd.read_sql_query(query_, con=engine)\n",
        "\n"
      ]
    },
    {
      "cell_type": "markdown",
      "id": "a929009d",
      "metadata": {
        "id": "a929009d"
      },
      "source": [
        "## Первичное исследование таблиц"
      ]
    },
    {
      "cell_type": "markdown",
      "id": "219b6508",
      "metadata": {
        "id": "219b6508"
      },
      "source": [
        "### Информация о пострадавших машинах"
      ]
    },
    {
      "cell_type": "code",
      "execution_count": null,
      "id": "366a2947",
      "metadata": {
        "id": "366a2947",
        "outputId": "c9a887f5-7862-41f1-d816-a5b5a398d2a9"
      },
      "outputs": [
        {
          "data": {
            "text/html": [
              "<div>\n",
              "<style scoped>\n",
              "    .dataframe tbody tr th:only-of-type {\n",
              "        vertical-align: middle;\n",
              "    }\n",
              "\n",
              "    .dataframe tbody tr th {\n",
              "        vertical-align: top;\n",
              "    }\n",
              "\n",
              "    .dataframe thead th {\n",
              "        text-align: right;\n",
              "    }\n",
              "</style>\n",
              "<table border=\"1\" class=\"dataframe\">\n",
              "  <thead>\n",
              "    <tr style=\"text-align: right;\">\n",
              "      <th></th>\n",
              "      <th>id</th>\n",
              "      <th>case_id</th>\n",
              "      <th>party_number</th>\n",
              "      <th>vehicle_type</th>\n",
              "      <th>vehicle_transmission</th>\n",
              "      <th>vehicle_age</th>\n",
              "    </tr>\n",
              "  </thead>\n",
              "  <tbody>\n",
              "    <tr>\n",
              "      <th>0</th>\n",
              "      <td>1175713</td>\n",
              "      <td>5305032</td>\n",
              "      <td>2</td>\n",
              "      <td>sedan</td>\n",
              "      <td>manual</td>\n",
              "      <td>3</td>\n",
              "    </tr>\n",
              "    <tr>\n",
              "      <th>1</th>\n",
              "      <td>1</td>\n",
              "      <td>3858022</td>\n",
              "      <td>1</td>\n",
              "      <td>sedan</td>\n",
              "      <td>auto</td>\n",
              "      <td>3</td>\n",
              "    </tr>\n",
              "    <tr>\n",
              "      <th>2</th>\n",
              "      <td>1175712</td>\n",
              "      <td>5305030</td>\n",
              "      <td>1</td>\n",
              "      <td>sedan</td>\n",
              "      <td>auto</td>\n",
              "      <td>3</td>\n",
              "    </tr>\n",
              "    <tr>\n",
              "      <th>3</th>\n",
              "      <td>1175717</td>\n",
              "      <td>5305033</td>\n",
              "      <td>3</td>\n",
              "      <td>sedan</td>\n",
              "      <td>auto</td>\n",
              "      <td>5</td>\n",
              "    </tr>\n",
              "    <tr>\n",
              "      <th>4</th>\n",
              "      <td>1175722</td>\n",
              "      <td>5305034</td>\n",
              "      <td>2</td>\n",
              "      <td>sedan</td>\n",
              "      <td>auto</td>\n",
              "      <td>5</td>\n",
              "    </tr>\n",
              "    <tr>\n",
              "      <th>5</th>\n",
              "      <td>1175737</td>\n",
              "      <td>5305046</td>\n",
              "      <td>2</td>\n",
              "      <td>sedan</td>\n",
              "      <td>auto</td>\n",
              "      <td>5</td>\n",
              "    </tr>\n",
              "    <tr>\n",
              "      <th>6</th>\n",
              "      <td>1175750</td>\n",
              "      <td>5305053</td>\n",
              "      <td>3</td>\n",
              "      <td>sedan</td>\n",
              "      <td>auto</td>\n",
              "      <td>9</td>\n",
              "    </tr>\n",
              "    <tr>\n",
              "      <th>7</th>\n",
              "      <td>1175715</td>\n",
              "      <td>5305033</td>\n",
              "      <td>1</td>\n",
              "      <td>sedan</td>\n",
              "      <td>manual</td>\n",
              "      <td>10</td>\n",
              "    </tr>\n",
              "    <tr>\n",
              "      <th>8</th>\n",
              "      <td>1175716</td>\n",
              "      <td>5305033</td>\n",
              "      <td>2</td>\n",
              "      <td>sedan</td>\n",
              "      <td>manual</td>\n",
              "      <td>4</td>\n",
              "    </tr>\n",
              "    <tr>\n",
              "      <th>9</th>\n",
              "      <td>1175758</td>\n",
              "      <td>5305060</td>\n",
              "      <td>2</td>\n",
              "      <td>sedan</td>\n",
              "      <td>auto</td>\n",
              "      <td>11</td>\n",
              "    </tr>\n",
              "  </tbody>\n",
              "</table>\n",
              "</div>"
            ],
            "text/plain": [
              "        id  case_id  party_number vehicle_type vehicle_transmission  \\\n",
              "0  1175713  5305032             2        sedan               manual   \n",
              "1        1  3858022             1        sedan                 auto   \n",
              "2  1175712  5305030             1        sedan                 auto   \n",
              "3  1175717  5305033             3        sedan                 auto   \n",
              "4  1175722  5305034             2        sedan                 auto   \n",
              "5  1175737  5305046             2        sedan                 auto   \n",
              "6  1175750  5305053             3        sedan                 auto   \n",
              "7  1175715  5305033             1        sedan               manual   \n",
              "8  1175716  5305033             2        sedan               manual   \n",
              "9  1175758  5305060             2        sedan                 auto   \n",
              "\n",
              "   vehicle_age  \n",
              "0            3  \n",
              "1            3  \n",
              "2            3  \n",
              "3            5  \n",
              "4            5  \n",
              "5            5  \n",
              "6            9  \n",
              "7           10  \n",
              "8            4  \n",
              "9           11  "
            ]
          },
          "execution_count": 8,
          "metadata": {},
          "output_type": "execute_result"
        }
      ],
      "source": [
        "run_query(\"\"\"SELECT *\n",
        "FROM vehicles\n",
        "LIMIT 10;\"\"\")\n"
      ]
    },
    {
      "cell_type": "code",
      "execution_count": null,
      "id": "a2ededac",
      "metadata": {
        "id": "a2ededac",
        "outputId": "b3a32b0f-f375-4545-bf40-591e82e699e1"
      },
      "outputs": [
        {
          "data": {
            "text/html": [
              "<div>\n",
              "<style scoped>\n",
              "    .dataframe tbody tr th:only-of-type {\n",
              "        vertical-align: middle;\n",
              "    }\n",
              "\n",
              "    .dataframe tbody tr th {\n",
              "        vertical-align: top;\n",
              "    }\n",
              "\n",
              "    .dataframe thead th {\n",
              "        text-align: right;\n",
              "    }\n",
              "</style>\n",
              "<table border=\"1\" class=\"dataframe\">\n",
              "  <thead>\n",
              "    <tr style=\"text-align: right;\">\n",
              "      <th></th>\n",
              "      <th>vehicle_age</th>\n",
              "    </tr>\n",
              "  </thead>\n",
              "  <tbody>\n",
              "    <tr>\n",
              "      <th>0</th>\n",
              "      <td>8.0</td>\n",
              "    </tr>\n",
              "    <tr>\n",
              "      <th>1</th>\n",
              "      <td>11.0</td>\n",
              "    </tr>\n",
              "    <tr>\n",
              "      <th>2</th>\n",
              "      <td>19.0</td>\n",
              "    </tr>\n",
              "    <tr>\n",
              "      <th>3</th>\n",
              "      <td>NaN</td>\n",
              "    </tr>\n",
              "    <tr>\n",
              "      <th>4</th>\n",
              "      <td>161.0</td>\n",
              "    </tr>\n",
              "    <tr>\n",
              "      <th>5</th>\n",
              "      <td>4.0</td>\n",
              "    </tr>\n",
              "    <tr>\n",
              "      <th>6</th>\n",
              "      <td>0.0</td>\n",
              "    </tr>\n",
              "    <tr>\n",
              "      <th>7</th>\n",
              "      <td>14.0</td>\n",
              "    </tr>\n",
              "    <tr>\n",
              "      <th>8</th>\n",
              "      <td>3.0</td>\n",
              "    </tr>\n",
              "    <tr>\n",
              "      <th>9</th>\n",
              "      <td>17.0</td>\n",
              "    </tr>\n",
              "    <tr>\n",
              "      <th>10</th>\n",
              "      <td>20.0</td>\n",
              "    </tr>\n",
              "    <tr>\n",
              "      <th>11</th>\n",
              "      <td>13.0</td>\n",
              "    </tr>\n",
              "    <tr>\n",
              "      <th>12</th>\n",
              "      <td>7.0</td>\n",
              "    </tr>\n",
              "    <tr>\n",
              "      <th>13</th>\n",
              "      <td>10.0</td>\n",
              "    </tr>\n",
              "    <tr>\n",
              "      <th>14</th>\n",
              "      <td>9.0</td>\n",
              "    </tr>\n",
              "    <tr>\n",
              "      <th>15</th>\n",
              "      <td>1.0</td>\n",
              "    </tr>\n",
              "    <tr>\n",
              "      <th>16</th>\n",
              "      <td>5.0</td>\n",
              "    </tr>\n",
              "    <tr>\n",
              "      <th>17</th>\n",
              "      <td>18.0</td>\n",
              "    </tr>\n",
              "    <tr>\n",
              "      <th>18</th>\n",
              "      <td>2.0</td>\n",
              "    </tr>\n",
              "    <tr>\n",
              "      <th>19</th>\n",
              "      <td>16.0</td>\n",
              "    </tr>\n",
              "    <tr>\n",
              "      <th>20</th>\n",
              "      <td>15.0</td>\n",
              "    </tr>\n",
              "    <tr>\n",
              "      <th>21</th>\n",
              "      <td>6.0</td>\n",
              "    </tr>\n",
              "    <tr>\n",
              "      <th>22</th>\n",
              "      <td>12.0</td>\n",
              "    </tr>\n",
              "  </tbody>\n",
              "</table>\n",
              "</div>"
            ],
            "text/plain": [
              "    vehicle_age\n",
              "0           8.0\n",
              "1          11.0\n",
              "2          19.0\n",
              "3           NaN\n",
              "4         161.0\n",
              "5           4.0\n",
              "6           0.0\n",
              "7          14.0\n",
              "8           3.0\n",
              "9          17.0\n",
              "10         20.0\n",
              "11         13.0\n",
              "12          7.0\n",
              "13         10.0\n",
              "14          9.0\n",
              "15          1.0\n",
              "16          5.0\n",
              "17         18.0\n",
              "18          2.0\n",
              "19         16.0\n",
              "20         15.0\n",
              "21          6.0\n",
              "22         12.0"
            ]
          },
          "execution_count": 9,
          "metadata": {},
          "output_type": "execute_result"
        }
      ],
      "source": [
        "run_query(\"\"\"SELECT DISTINCT vehicle_age\n",
        "FROM vehicles;\"\"\")\n"
      ]
    },
    {
      "cell_type": "code",
      "execution_count": null,
      "id": "ad544127",
      "metadata": {
        "id": "ad544127",
        "outputId": "cf350c3f-7702-4fcd-a44c-532f3045c4db"
      },
      "outputs": [
        {
          "data": {
            "text/html": [
              "<div>\n",
              "<style scoped>\n",
              "    .dataframe tbody tr th:only-of-type {\n",
              "        vertical-align: middle;\n",
              "    }\n",
              "\n",
              "    .dataframe tbody tr th {\n",
              "        vertical-align: top;\n",
              "    }\n",
              "\n",
              "    .dataframe thead th {\n",
              "        text-align: right;\n",
              "    }\n",
              "</style>\n",
              "<table border=\"1\" class=\"dataframe\">\n",
              "  <thead>\n",
              "    <tr style=\"text-align: right;\">\n",
              "      <th></th>\n",
              "      <th>case_id</th>\n",
              "      <th>db_year</th>\n",
              "    </tr>\n",
              "  </thead>\n",
              "  <tbody>\n",
              "    <tr>\n",
              "      <th>0</th>\n",
              "      <td>0081715</td>\n",
              "      <td>2021</td>\n",
              "    </tr>\n",
              "    <tr>\n",
              "      <th>1</th>\n",
              "      <td>0726202</td>\n",
              "      <td>2021</td>\n",
              "    </tr>\n",
              "    <tr>\n",
              "      <th>2</th>\n",
              "      <td>3858022</td>\n",
              "      <td>2021</td>\n",
              "    </tr>\n",
              "    <tr>\n",
              "      <th>3</th>\n",
              "      <td>3899441</td>\n",
              "      <td>2021</td>\n",
              "    </tr>\n",
              "    <tr>\n",
              "      <th>4</th>\n",
              "      <td>3899442</td>\n",
              "      <td>2021</td>\n",
              "    </tr>\n",
              "    <tr>\n",
              "      <th>5</th>\n",
              "      <td>3899445</td>\n",
              "      <td>2021</td>\n",
              "    </tr>\n",
              "    <tr>\n",
              "      <th>6</th>\n",
              "      <td>3899446</td>\n",
              "      <td>2021</td>\n",
              "    </tr>\n",
              "    <tr>\n",
              "      <th>7</th>\n",
              "      <td>3899449</td>\n",
              "      <td>2021</td>\n",
              "    </tr>\n",
              "    <tr>\n",
              "      <th>8</th>\n",
              "      <td>3899450</td>\n",
              "      <td>2021</td>\n",
              "    </tr>\n",
              "    <tr>\n",
              "      <th>9</th>\n",
              "      <td>3899453</td>\n",
              "      <td>2021</td>\n",
              "    </tr>\n",
              "  </tbody>\n",
              "</table>\n",
              "</div>"
            ],
            "text/plain": [
              "   case_id db_year\n",
              "0  0081715    2021\n",
              "1  0726202    2021\n",
              "2  3858022    2021\n",
              "3  3899441    2021\n",
              "4  3899442    2021\n",
              "5  3899445    2021\n",
              "6  3899446    2021\n",
              "7  3899449    2021\n",
              "8  3899450    2021\n",
              "9  3899453    2021"
            ]
          },
          "execution_count": 10,
          "metadata": {},
          "output_type": "execute_result"
        }
      ],
      "source": [
        "run_query(\"\"\"SELECT *\n",
        "FROM case_ids\n",
        "LIMIT 10;\"\"\")\n"
      ]
    },
    {
      "cell_type": "markdown",
      "id": "5863be2e",
      "metadata": {
        "id": "5863be2e"
      },
      "source": [
        "case_id -\n",
        "db_year"
      ]
    },
    {
      "cell_type": "markdown",
      "id": "048003fc",
      "metadata": {
        "id": "048003fc"
      },
      "source": [
        "### Информация об участниках ДТП"
      ]
    },
    {
      "cell_type": "code",
      "execution_count": null,
      "id": "867a2cb1",
      "metadata": {
        "id": "867a2cb1",
        "outputId": "ded11beb-ead3-4ff7-8be6-3bbab5996601"
      },
      "outputs": [
        {
          "data": {
            "text/html": [
              "<div>\n",
              "<style scoped>\n",
              "    .dataframe tbody tr th:only-of-type {\n",
              "        vertical-align: middle;\n",
              "    }\n",
              "\n",
              "    .dataframe tbody tr th {\n",
              "        vertical-align: top;\n",
              "    }\n",
              "\n",
              "    .dataframe thead th {\n",
              "        text-align: right;\n",
              "    }\n",
              "</style>\n",
              "<table border=\"1\" class=\"dataframe\">\n",
              "  <thead>\n",
              "    <tr style=\"text-align: right;\">\n",
              "      <th></th>\n",
              "      <th>id</th>\n",
              "      <th>case_id</th>\n",
              "      <th>party_number</th>\n",
              "      <th>party_type</th>\n",
              "      <th>at_fault</th>\n",
              "      <th>insurance_premium</th>\n",
              "      <th>party_sobriety</th>\n",
              "      <th>party_drug_physical</th>\n",
              "      <th>cellphone_in_use</th>\n",
              "    </tr>\n",
              "  </thead>\n",
              "  <tbody>\n",
              "    <tr>\n",
              "      <th>0</th>\n",
              "      <td>22</td>\n",
              "      <td>3899454</td>\n",
              "      <td>1</td>\n",
              "      <td>road signs</td>\n",
              "      <td>1</td>\n",
              "      <td>29.0</td>\n",
              "      <td>had not been drinking</td>\n",
              "      <td>None</td>\n",
              "      <td>0.0</td>\n",
              "    </tr>\n",
              "    <tr>\n",
              "      <th>1</th>\n",
              "      <td>23</td>\n",
              "      <td>3899454</td>\n",
              "      <td>2</td>\n",
              "      <td>road signs</td>\n",
              "      <td>0</td>\n",
              "      <td>7.0</td>\n",
              "      <td>had not been drinking</td>\n",
              "      <td>None</td>\n",
              "      <td>0.0</td>\n",
              "    </tr>\n",
              "    <tr>\n",
              "      <th>2</th>\n",
              "      <td>29</td>\n",
              "      <td>3899462</td>\n",
              "      <td>2</td>\n",
              "      <td>car</td>\n",
              "      <td>0</td>\n",
              "      <td>21.0</td>\n",
              "      <td>had not been drinking</td>\n",
              "      <td>None</td>\n",
              "      <td>0.0</td>\n",
              "    </tr>\n",
              "    <tr>\n",
              "      <th>3</th>\n",
              "      <td>31</td>\n",
              "      <td>3899465</td>\n",
              "      <td>2</td>\n",
              "      <td>road signs</td>\n",
              "      <td>0</td>\n",
              "      <td>24.0</td>\n",
              "      <td>had not been drinking</td>\n",
              "      <td>None</td>\n",
              "      <td>0.0</td>\n",
              "    </tr>\n",
              "    <tr>\n",
              "      <th>4</th>\n",
              "      <td>41</td>\n",
              "      <td>3899478</td>\n",
              "      <td>2</td>\n",
              "      <td>road bumper</td>\n",
              "      <td>0</td>\n",
              "      <td>NaN</td>\n",
              "      <td>not applicable</td>\n",
              "      <td>not applicable</td>\n",
              "      <td>0.0</td>\n",
              "    </tr>\n",
              "    <tr>\n",
              "      <th>5</th>\n",
              "      <td>43</td>\n",
              "      <td>3899481</td>\n",
              "      <td>2</td>\n",
              "      <td>road bumper</td>\n",
              "      <td>0</td>\n",
              "      <td>NaN</td>\n",
              "      <td>not applicable</td>\n",
              "      <td>not applicable</td>\n",
              "      <td>0.0</td>\n",
              "    </tr>\n",
              "    <tr>\n",
              "      <th>6</th>\n",
              "      <td>72</td>\n",
              "      <td>3899505</td>\n",
              "      <td>2</td>\n",
              "      <td>road bumper</td>\n",
              "      <td>0</td>\n",
              "      <td>NaN</td>\n",
              "      <td>not applicable</td>\n",
              "      <td>not applicable</td>\n",
              "      <td>0.0</td>\n",
              "    </tr>\n",
              "    <tr>\n",
              "      <th>7</th>\n",
              "      <td>73</td>\n",
              "      <td>3899505</td>\n",
              "      <td>3</td>\n",
              "      <td>road bumper</td>\n",
              "      <td>0</td>\n",
              "      <td>NaN</td>\n",
              "      <td>not applicable</td>\n",
              "      <td>not applicable</td>\n",
              "      <td>0.0</td>\n",
              "    </tr>\n",
              "    <tr>\n",
              "      <th>8</th>\n",
              "      <td>76</td>\n",
              "      <td>3899509</td>\n",
              "      <td>1</td>\n",
              "      <td>road bumper</td>\n",
              "      <td>0</td>\n",
              "      <td>NaN</td>\n",
              "      <td>had not been drinking</td>\n",
              "      <td>None</td>\n",
              "      <td>0.0</td>\n",
              "    </tr>\n",
              "    <tr>\n",
              "      <th>9</th>\n",
              "      <td>93</td>\n",
              "      <td>3981292</td>\n",
              "      <td>2</td>\n",
              "      <td>road bumper</td>\n",
              "      <td>0</td>\n",
              "      <td>NaN</td>\n",
              "      <td>had not been drinking</td>\n",
              "      <td>None</td>\n",
              "      <td>NaN</td>\n",
              "    </tr>\n",
              "  </tbody>\n",
              "</table>\n",
              "</div>"
            ],
            "text/plain": [
              "   id  case_id  party_number   party_type  at_fault  insurance_premium  \\\n",
              "0  22  3899454             1   road signs         1               29.0   \n",
              "1  23  3899454             2   road signs         0                7.0   \n",
              "2  29  3899462             2          car         0               21.0   \n",
              "3  31  3899465             2   road signs         0               24.0   \n",
              "4  41  3899478             2  road bumper         0                NaN   \n",
              "5  43  3899481             2  road bumper         0                NaN   \n",
              "6  72  3899505             2  road bumper         0                NaN   \n",
              "7  73  3899505             3  road bumper         0                NaN   \n",
              "8  76  3899509             1  road bumper         0                NaN   \n",
              "9  93  3981292             2  road bumper         0                NaN   \n",
              "\n",
              "          party_sobriety party_drug_physical  cellphone_in_use  \n",
              "0  had not been drinking                None               0.0  \n",
              "1  had not been drinking                None               0.0  \n",
              "2  had not been drinking                None               0.0  \n",
              "3  had not been drinking                None               0.0  \n",
              "4         not applicable      not applicable               0.0  \n",
              "5         not applicable      not applicable               0.0  \n",
              "6         not applicable      not applicable               0.0  \n",
              "7         not applicable      not applicable               0.0  \n",
              "8  had not been drinking                None               0.0  \n",
              "9  had not been drinking                None               NaN  "
            ]
          },
          "execution_count": 11,
          "metadata": {},
          "output_type": "execute_result"
        }
      ],
      "source": [
        "run_query(\"\"\"SELECT *\n",
        "FROM parties\n",
        "LIMIT 10;\"\"\")\n"
      ]
    },
    {
      "cell_type": "markdown",
      "id": "6a230d63",
      "metadata": {
        "id": "6a230d63"
      },
      "source": [
        "### Общая информация о ДТП"
      ]
    },
    {
      "cell_type": "code",
      "execution_count": null,
      "id": "b5d49c54",
      "metadata": {
        "scrolled": true,
        "id": "b5d49c54",
        "outputId": "a45cfe1a-0fcb-41f3-9829-36297c158fc0"
      },
      "outputs": [
        {
          "data": {
            "text/html": [
              "<div>\n",
              "<style scoped>\n",
              "    .dataframe tbody tr th:only-of-type {\n",
              "        vertical-align: middle;\n",
              "    }\n",
              "\n",
              "    .dataframe tbody tr th {\n",
              "        vertical-align: top;\n",
              "    }\n",
              "\n",
              "    .dataframe thead th {\n",
              "        text-align: right;\n",
              "    }\n",
              "</style>\n",
              "<table border=\"1\" class=\"dataframe\">\n",
              "  <thead>\n",
              "    <tr style=\"text-align: right;\">\n",
              "      <th></th>\n",
              "      <th>case_id</th>\n",
              "      <th>county_city_location</th>\n",
              "      <th>county_location</th>\n",
              "      <th>distance</th>\n",
              "      <th>direction</th>\n",
              "      <th>intersection</th>\n",
              "      <th>weather_1</th>\n",
              "      <th>location_type</th>\n",
              "      <th>collision_damage</th>\n",
              "      <th>party_count</th>\n",
              "      <th>primary_collision_factor</th>\n",
              "      <th>pcf_violation_category</th>\n",
              "      <th>type_of_collision</th>\n",
              "      <th>motor_vehicle_involved_with</th>\n",
              "      <th>road_surface</th>\n",
              "      <th>road_condition_1</th>\n",
              "      <th>lighting</th>\n",
              "      <th>control_device</th>\n",
              "      <th>collision_date</th>\n",
              "      <th>collision_time</th>\n",
              "    </tr>\n",
              "  </thead>\n",
              "  <tbody>\n",
              "    <tr>\n",
              "      <th>0</th>\n",
              "      <td>4083072</td>\n",
              "      <td>1942</td>\n",
              "      <td>los angeles</td>\n",
              "      <td>528.0</td>\n",
              "      <td>north</td>\n",
              "      <td>0</td>\n",
              "      <td>cloudy</td>\n",
              "      <td>highway</td>\n",
              "      <td>small damage</td>\n",
              "      <td>2</td>\n",
              "      <td>vehicle code violation</td>\n",
              "      <td>unsafe lane change</td>\n",
              "      <td>sideswipe</td>\n",
              "      <td>other motor vehicle</td>\n",
              "      <td>wet</td>\n",
              "      <td>normal</td>\n",
              "      <td>daylight</td>\n",
              "      <td>none</td>\n",
              "      <td>2009-01-22</td>\n",
              "      <td>07:25:00</td>\n",
              "    </tr>\n",
              "    <tr>\n",
              "      <th>1</th>\n",
              "      <td>4083075</td>\n",
              "      <td>4313</td>\n",
              "      <td>santa clara</td>\n",
              "      <td>0.0</td>\n",
              "      <td>None</td>\n",
              "      <td>1</td>\n",
              "      <td>clear</td>\n",
              "      <td>None</td>\n",
              "      <td>small damage</td>\n",
              "      <td>1</td>\n",
              "      <td>vehicle code violation</td>\n",
              "      <td>improper passing</td>\n",
              "      <td>hit object</td>\n",
              "      <td>fixed object</td>\n",
              "      <td>dry</td>\n",
              "      <td>normal</td>\n",
              "      <td>dark with street lights</td>\n",
              "      <td>functioning</td>\n",
              "      <td>2009-01-03</td>\n",
              "      <td>02:26:00</td>\n",
              "    </tr>\n",
              "    <tr>\n",
              "      <th>2</th>\n",
              "      <td>4083073</td>\n",
              "      <td>0109</td>\n",
              "      <td>alameda</td>\n",
              "      <td>0.0</td>\n",
              "      <td>None</td>\n",
              "      <td>1</td>\n",
              "      <td>clear</td>\n",
              "      <td>None</td>\n",
              "      <td>scratch</td>\n",
              "      <td>2</td>\n",
              "      <td>vehicle code violation</td>\n",
              "      <td>improper turning</td>\n",
              "      <td>broadside</td>\n",
              "      <td>other motor vehicle</td>\n",
              "      <td>dry</td>\n",
              "      <td>normal</td>\n",
              "      <td>dark with street lights</td>\n",
              "      <td>functioning</td>\n",
              "      <td>2009-01-11</td>\n",
              "      <td>03:32:00</td>\n",
              "    </tr>\n",
              "    <tr>\n",
              "      <th>3</th>\n",
              "      <td>4083077</td>\n",
              "      <td>0109</td>\n",
              "      <td>alameda</td>\n",
              "      <td>0.0</td>\n",
              "      <td>None</td>\n",
              "      <td>1</td>\n",
              "      <td>clear</td>\n",
              "      <td>None</td>\n",
              "      <td>scratch</td>\n",
              "      <td>2</td>\n",
              "      <td>vehicle code violation</td>\n",
              "      <td>automobile right of way</td>\n",
              "      <td>broadside</td>\n",
              "      <td>other motor vehicle</td>\n",
              "      <td>dry</td>\n",
              "      <td>normal</td>\n",
              "      <td>daylight</td>\n",
              "      <td>functioning</td>\n",
              "      <td>2009-01-11</td>\n",
              "      <td>10:35:00</td>\n",
              "    </tr>\n",
              "    <tr>\n",
              "      <th>4</th>\n",
              "      <td>4083087</td>\n",
              "      <td>4313</td>\n",
              "      <td>santa clara</td>\n",
              "      <td>0.0</td>\n",
              "      <td>None</td>\n",
              "      <td>1</td>\n",
              "      <td>clear</td>\n",
              "      <td>None</td>\n",
              "      <td>scratch</td>\n",
              "      <td>2</td>\n",
              "      <td>vehicle code violation</td>\n",
              "      <td>speeding</td>\n",
              "      <td>rear end</td>\n",
              "      <td>other motor vehicle</td>\n",
              "      <td>dry</td>\n",
              "      <td>None</td>\n",
              "      <td>dark with street lights</td>\n",
              "      <td>functioning</td>\n",
              "      <td>2009-01-02</td>\n",
              "      <td>22:43:00</td>\n",
              "    </tr>\n",
              "    <tr>\n",
              "      <th>5</th>\n",
              "      <td>4083097</td>\n",
              "      <td>0109</td>\n",
              "      <td>alameda</td>\n",
              "      <td>0.0</td>\n",
              "      <td>None</td>\n",
              "      <td>1</td>\n",
              "      <td>clear</td>\n",
              "      <td>ramp</td>\n",
              "      <td>small damage</td>\n",
              "      <td>2</td>\n",
              "      <td>vehicle code violation</td>\n",
              "      <td>speeding</td>\n",
              "      <td>rear end</td>\n",
              "      <td>other motor vehicle</td>\n",
              "      <td>dry</td>\n",
              "      <td>normal</td>\n",
              "      <td>dark with street lights</td>\n",
              "      <td>functioning</td>\n",
              "      <td>2009-01-18</td>\n",
              "      <td>02:18:00</td>\n",
              "    </tr>\n",
              "    <tr>\n",
              "      <th>6</th>\n",
              "      <td>4083092</td>\n",
              "      <td>1942</td>\n",
              "      <td>los angeles</td>\n",
              "      <td>1320.0</td>\n",
              "      <td>south</td>\n",
              "      <td>0</td>\n",
              "      <td>clear</td>\n",
              "      <td>highway</td>\n",
              "      <td>scratch</td>\n",
              "      <td>2</td>\n",
              "      <td>vehicle code violation</td>\n",
              "      <td>unsafe lane change</td>\n",
              "      <td>rear end</td>\n",
              "      <td>other motor vehicle</td>\n",
              "      <td>dry</td>\n",
              "      <td>normal</td>\n",
              "      <td>daylight</td>\n",
              "      <td>none</td>\n",
              "      <td>2009-01-21</td>\n",
              "      <td>10:30:00</td>\n",
              "    </tr>\n",
              "    <tr>\n",
              "      <th>7</th>\n",
              "      <td>4083096</td>\n",
              "      <td>1942</td>\n",
              "      <td>los angeles</td>\n",
              "      <td>200.0</td>\n",
              "      <td>south</td>\n",
              "      <td>0</td>\n",
              "      <td>clear</td>\n",
              "      <td>highway</td>\n",
              "      <td>scratch</td>\n",
              "      <td>3</td>\n",
              "      <td>vehicle code violation</td>\n",
              "      <td>speeding</td>\n",
              "      <td>rear end</td>\n",
              "      <td>other motor vehicle</td>\n",
              "      <td>dry</td>\n",
              "      <td>normal</td>\n",
              "      <td>daylight</td>\n",
              "      <td>none</td>\n",
              "      <td>2009-01-21</td>\n",
              "      <td>08:55:00</td>\n",
              "    </tr>\n",
              "    <tr>\n",
              "      <th>8</th>\n",
              "      <td>4083100</td>\n",
              "      <td>1942</td>\n",
              "      <td>los angeles</td>\n",
              "      <td>2112.0</td>\n",
              "      <td>north</td>\n",
              "      <td>0</td>\n",
              "      <td>cloudy</td>\n",
              "      <td>highway</td>\n",
              "      <td>scratch</td>\n",
              "      <td>2</td>\n",
              "      <td>vehicle code violation</td>\n",
              "      <td>speeding</td>\n",
              "      <td>rear end</td>\n",
              "      <td>other motor vehicle</td>\n",
              "      <td>dry</td>\n",
              "      <td>normal</td>\n",
              "      <td>daylight</td>\n",
              "      <td>none</td>\n",
              "      <td>2009-01-21</td>\n",
              "      <td>16:20:00</td>\n",
              "    </tr>\n",
              "    <tr>\n",
              "      <th>9</th>\n",
              "      <td>4083103</td>\n",
              "      <td>4313</td>\n",
              "      <td>santa clara</td>\n",
              "      <td>0.0</td>\n",
              "      <td>None</td>\n",
              "      <td>1</td>\n",
              "      <td>cloudy</td>\n",
              "      <td>None</td>\n",
              "      <td>scratch</td>\n",
              "      <td>2</td>\n",
              "      <td>vehicle code violation</td>\n",
              "      <td>None</td>\n",
              "      <td>broadside</td>\n",
              "      <td>other motor vehicle</td>\n",
              "      <td>wet</td>\n",
              "      <td>normal</td>\n",
              "      <td>dusk or dawn</td>\n",
              "      <td>functioning</td>\n",
              "      <td>2009-01-02</td>\n",
              "      <td>15:55:00</td>\n",
              "    </tr>\n",
              "  </tbody>\n",
              "</table>\n",
              "</div>"
            ],
            "text/plain": [
              "   case_id county_city_location county_location  distance direction  \\\n",
              "0  4083072                 1942     los angeles     528.0     north   \n",
              "1  4083075                 4313     santa clara       0.0      None   \n",
              "2  4083073                 0109         alameda       0.0      None   \n",
              "3  4083077                 0109         alameda       0.0      None   \n",
              "4  4083087                 4313     santa clara       0.0      None   \n",
              "5  4083097                 0109         alameda       0.0      None   \n",
              "6  4083092                 1942     los angeles    1320.0     south   \n",
              "7  4083096                 1942     los angeles     200.0     south   \n",
              "8  4083100                 1942     los angeles    2112.0     north   \n",
              "9  4083103                 4313     santa clara       0.0      None   \n",
              "\n",
              "   intersection weather_1 location_type collision_damage  party_count  \\\n",
              "0             0    cloudy       highway     small damage            2   \n",
              "1             1     clear          None     small damage            1   \n",
              "2             1     clear          None          scratch            2   \n",
              "3             1     clear          None          scratch            2   \n",
              "4             1     clear          None          scratch            2   \n",
              "5             1     clear          ramp     small damage            2   \n",
              "6             0     clear       highway          scratch            2   \n",
              "7             0     clear       highway          scratch            3   \n",
              "8             0    cloudy       highway          scratch            2   \n",
              "9             1    cloudy          None          scratch            2   \n",
              "\n",
              "  primary_collision_factor   pcf_violation_category type_of_collision  \\\n",
              "0   vehicle code violation       unsafe lane change         sideswipe   \n",
              "1   vehicle code violation         improper passing        hit object   \n",
              "2   vehicle code violation         improper turning         broadside   \n",
              "3   vehicle code violation  automobile right of way         broadside   \n",
              "4   vehicle code violation                 speeding          rear end   \n",
              "5   vehicle code violation                 speeding          rear end   \n",
              "6   vehicle code violation       unsafe lane change          rear end   \n",
              "7   vehicle code violation                 speeding          rear end   \n",
              "8   vehicle code violation                 speeding          rear end   \n",
              "9   vehicle code violation                     None         broadside   \n",
              "\n",
              "  motor_vehicle_involved_with road_surface road_condition_1  \\\n",
              "0         other motor vehicle          wet           normal   \n",
              "1                fixed object          dry           normal   \n",
              "2         other motor vehicle          dry           normal   \n",
              "3         other motor vehicle          dry           normal   \n",
              "4         other motor vehicle          dry             None   \n",
              "5         other motor vehicle          dry           normal   \n",
              "6         other motor vehicle          dry           normal   \n",
              "7         other motor vehicle          dry           normal   \n",
              "8         other motor vehicle          dry           normal   \n",
              "9         other motor vehicle          wet           normal   \n",
              "\n",
              "                  lighting control_device collision_date collision_time  \n",
              "0                 daylight           none     2009-01-22       07:25:00  \n",
              "1  dark with street lights    functioning     2009-01-03       02:26:00  \n",
              "2  dark with street lights    functioning     2009-01-11       03:32:00  \n",
              "3                 daylight    functioning     2009-01-11       10:35:00  \n",
              "4  dark with street lights    functioning     2009-01-02       22:43:00  \n",
              "5  dark with street lights    functioning     2009-01-18       02:18:00  \n",
              "6                 daylight           none     2009-01-21       10:30:00  \n",
              "7                 daylight           none     2009-01-21       08:55:00  \n",
              "8                 daylight           none     2009-01-21       16:20:00  \n",
              "9             dusk or dawn    functioning     2009-01-02       15:55:00  "
            ]
          },
          "execution_count": 12,
          "metadata": {},
          "output_type": "execute_result"
        }
      ],
      "source": [
        "run_query(\"\"\"SELECT *\n",
        "FROM collisions\n",
        "LIMIT 10;\"\"\")\n"
      ]
    },
    {
      "cell_type": "code",
      "execution_count": null,
      "id": "fa0f1f98",
      "metadata": {
        "id": "fa0f1f98"
      },
      "outputs": [],
      "source": []
    },
    {
      "cell_type": "markdown",
      "id": "fe2cdb58",
      "metadata": {
        "id": "fe2cdb58"
      },
      "source": [
        "## Все ли таблицы имеют набор данных"
      ]
    },
    {
      "cell_type": "markdown",
      "id": "06e0f452",
      "metadata": {
        "id": "06e0f452"
      },
      "source": [
        "Ответ:\n",
        "\n",
        "Из запрсоов выше видно, что все таблица имеют набор данных"
      ]
    },
    {
      "cell_type": "markdown",
      "id": "6f0e26ca",
      "metadata": {
        "id": "6f0e26ca"
      },
      "source": [
        "## Соответствует ли количество таблиц условию задачи"
      ]
    },
    {
      "cell_type": "code",
      "execution_count": null,
      "id": "879acc80",
      "metadata": {
        "id": "879acc80",
        "outputId": "a464d19f-3ce6-428a-8e19-8534ceae8d52"
      },
      "outputs": [
        {
          "data": {
            "text/html": [
              "<div>\n",
              "<style scoped>\n",
              "    .dataframe tbody tr th:only-of-type {\n",
              "        vertical-align: middle;\n",
              "    }\n",
              "\n",
              "    .dataframe tbody tr th {\n",
              "        vertical-align: top;\n",
              "    }\n",
              "\n",
              "    .dataframe thead th {\n",
              "        text-align: right;\n",
              "    }\n",
              "</style>\n",
              "<table border=\"1\" class=\"dataframe\">\n",
              "  <thead>\n",
              "    <tr style=\"text-align: right;\">\n",
              "      <th></th>\n",
              "      <th>case_id</th>\n",
              "      <th>db_year</th>\n",
              "    </tr>\n",
              "  </thead>\n",
              "  <tbody>\n",
              "    <tr>\n",
              "      <th>0</th>\n",
              "      <td>0081715</td>\n",
              "      <td>2021</td>\n",
              "    </tr>\n",
              "    <tr>\n",
              "      <th>1</th>\n",
              "      <td>0726202</td>\n",
              "      <td>2021</td>\n",
              "    </tr>\n",
              "    <tr>\n",
              "      <th>2</th>\n",
              "      <td>3858022</td>\n",
              "      <td>2021</td>\n",
              "    </tr>\n",
              "    <tr>\n",
              "      <th>3</th>\n",
              "      <td>3899441</td>\n",
              "      <td>2021</td>\n",
              "    </tr>\n",
              "    <tr>\n",
              "      <th>4</th>\n",
              "      <td>3899442</td>\n",
              "      <td>2021</td>\n",
              "    </tr>\n",
              "    <tr>\n",
              "      <th>5</th>\n",
              "      <td>3899445</td>\n",
              "      <td>2021</td>\n",
              "    </tr>\n",
              "    <tr>\n",
              "      <th>6</th>\n",
              "      <td>3899446</td>\n",
              "      <td>2021</td>\n",
              "    </tr>\n",
              "    <tr>\n",
              "      <th>7</th>\n",
              "      <td>3899449</td>\n",
              "      <td>2021</td>\n",
              "    </tr>\n",
              "    <tr>\n",
              "      <th>8</th>\n",
              "      <td>3899450</td>\n",
              "      <td>2021</td>\n",
              "    </tr>\n",
              "    <tr>\n",
              "      <th>9</th>\n",
              "      <td>3899453</td>\n",
              "      <td>2021</td>\n",
              "    </tr>\n",
              "  </tbody>\n",
              "</table>\n",
              "</div>"
            ],
            "text/plain": [
              "   case_id db_year\n",
              "0  0081715    2021\n",
              "1  0726202    2021\n",
              "2  3858022    2021\n",
              "3  3899441    2021\n",
              "4  3899442    2021\n",
              "5  3899445    2021\n",
              "6  3899446    2021\n",
              "7  3899449    2021\n",
              "8  3899450    2021\n",
              "9  3899453    2021"
            ]
          },
          "execution_count": 13,
          "metadata": {},
          "output_type": "execute_result"
        }
      ],
      "source": [
        "run_query(\"\"\"SELECT *\n",
        "FROM case_ids\n",
        "LIMIT 10;\"\"\")\n"
      ]
    },
    {
      "cell_type": "markdown",
      "id": "286ff647",
      "metadata": {
        "id": "286ff647"
      },
      "source": [
        "Ответ:\n",
        "\n",
        "В условии задачи не указана таблица case_ids, в которой есть следущие поля:\n",
        "\n",
        "* case_id - PK таблицы это таблицы и FK для трех остальных таблиц.\n",
        "* db_year - год базы"
      ]
    },
    {
      "cell_type": "markdown",
      "id": "6ad1e0a6",
      "metadata": {
        "id": "6ad1e0a6"
      },
      "source": [
        "## Имеется ли общий ключ для связи таблиц."
      ]
    },
    {
      "cell_type": "code",
      "execution_count": null,
      "id": "215c55df",
      "metadata": {
        "id": "215c55df",
        "outputId": "78d62d0d-4b14-4086-fda1-8d662d9a3450"
      },
      "outputs": [
        {
          "data": {
            "text/html": [
              "<div>\n",
              "<style scoped>\n",
              "    .dataframe tbody tr th:only-of-type {\n",
              "        vertical-align: middle;\n",
              "    }\n",
              "\n",
              "    .dataframe tbody tr th {\n",
              "        vertical-align: top;\n",
              "    }\n",
              "\n",
              "    .dataframe thead th {\n",
              "        text-align: right;\n",
              "    }\n",
              "</style>\n",
              "<table border=\"1\" class=\"dataframe\">\n",
              "  <thead>\n",
              "    <tr style=\"text-align: right;\">\n",
              "      <th></th>\n",
              "      <th>party_count</th>\n",
              "      <th>count</th>\n",
              "    </tr>\n",
              "  </thead>\n",
              "  <tbody>\n",
              "    <tr>\n",
              "      <th>0</th>\n",
              "      <td>1</td>\n",
              "      <td>274766</td>\n",
              "    </tr>\n",
              "    <tr>\n",
              "      <th>1</th>\n",
              "      <td>2</td>\n",
              "      <td>947251</td>\n",
              "    </tr>\n",
              "    <tr>\n",
              "      <th>2</th>\n",
              "      <td>3</td>\n",
              "      <td>140300</td>\n",
              "    </tr>\n",
              "    <tr>\n",
              "      <th>3</th>\n",
              "      <td>4</td>\n",
              "      <td>29389</td>\n",
              "    </tr>\n",
              "    <tr>\n",
              "      <th>4</th>\n",
              "      <td>5</td>\n",
              "      <td>6217</td>\n",
              "    </tr>\n",
              "    <tr>\n",
              "      <th>5</th>\n",
              "      <td>6</td>\n",
              "      <td>1446</td>\n",
              "    </tr>\n",
              "    <tr>\n",
              "      <th>6</th>\n",
              "      <td>7</td>\n",
              "      <td>386</td>\n",
              "    </tr>\n",
              "    <tr>\n",
              "      <th>7</th>\n",
              "      <td>8</td>\n",
              "      <td>140</td>\n",
              "    </tr>\n",
              "    <tr>\n",
              "      <th>8</th>\n",
              "      <td>9</td>\n",
              "      <td>47</td>\n",
              "    </tr>\n",
              "    <tr>\n",
              "      <th>9</th>\n",
              "      <td>10</td>\n",
              "      <td>30</td>\n",
              "    </tr>\n",
              "    <tr>\n",
              "      <th>10</th>\n",
              "      <td>11</td>\n",
              "      <td>7</td>\n",
              "    </tr>\n",
              "    <tr>\n",
              "      <th>11</th>\n",
              "      <td>12</td>\n",
              "      <td>7</td>\n",
              "    </tr>\n",
              "    <tr>\n",
              "      <th>12</th>\n",
              "      <td>13</td>\n",
              "      <td>7</td>\n",
              "    </tr>\n",
              "    <tr>\n",
              "      <th>13</th>\n",
              "      <td>14</td>\n",
              "      <td>2</td>\n",
              "    </tr>\n",
              "    <tr>\n",
              "      <th>14</th>\n",
              "      <td>15</td>\n",
              "      <td>2</td>\n",
              "    </tr>\n",
              "    <tr>\n",
              "      <th>15</th>\n",
              "      <td>20</td>\n",
              "      <td>1</td>\n",
              "    </tr>\n",
              "    <tr>\n",
              "      <th>16</th>\n",
              "      <td>21</td>\n",
              "      <td>1</td>\n",
              "    </tr>\n",
              "    <tr>\n",
              "      <th>17</th>\n",
              "      <td>27</td>\n",
              "      <td>1</td>\n",
              "    </tr>\n",
              "  </tbody>\n",
              "</table>\n",
              "</div>"
            ],
            "text/plain": [
              "    party_count   count\n",
              "0             1  274766\n",
              "1             2  947251\n",
              "2             3  140300\n",
              "3             4   29389\n",
              "4             5    6217\n",
              "5             6    1446\n",
              "6             7     386\n",
              "7             8     140\n",
              "8             9      47\n",
              "9            10      30\n",
              "10           11       7\n",
              "11           12       7\n",
              "12           13       7\n",
              "13           14       2\n",
              "14           15       2\n",
              "15           20       1\n",
              "16           21       1\n",
              "17           27       1"
            ]
          },
          "execution_count": 14,
          "metadata": {},
          "output_type": "execute_result"
        }
      ],
      "source": [
        "run_query('''SELECT DISTINCT party_count, COUNT(party_count)\n",
        "FROM collisions\n",
        "GROUP BY party_count\n",
        ";''')\n"
      ]
    },
    {
      "cell_type": "code",
      "execution_count": null,
      "id": "ab96f262",
      "metadata": {
        "id": "ab96f262",
        "outputId": "88e84144-8f26-4d02-e5b4-50b7afb0f6bd"
      },
      "outputs": [
        {
          "data": {
            "text/html": [
              "<div>\n",
              "<style scoped>\n",
              "    .dataframe tbody tr th:only-of-type {\n",
              "        vertical-align: middle;\n",
              "    }\n",
              "\n",
              "    .dataframe tbody tr th {\n",
              "        vertical-align: top;\n",
              "    }\n",
              "\n",
              "    .dataframe thead th {\n",
              "        text-align: right;\n",
              "    }\n",
              "</style>\n",
              "<table border=\"1\" class=\"dataframe\">\n",
              "  <thead>\n",
              "    <tr style=\"text-align: right;\">\n",
              "      <th></th>\n",
              "      <th>case_id</th>\n",
              "      <th>county_city_location</th>\n",
              "      <th>county_location</th>\n",
              "      <th>distance</th>\n",
              "      <th>direction</th>\n",
              "      <th>intersection</th>\n",
              "      <th>weather_1</th>\n",
              "      <th>location_type</th>\n",
              "      <th>collision_damage</th>\n",
              "      <th>party_count</th>\n",
              "      <th>primary_collision_factor</th>\n",
              "      <th>pcf_violation_category</th>\n",
              "      <th>type_of_collision</th>\n",
              "      <th>motor_vehicle_involved_with</th>\n",
              "      <th>road_surface</th>\n",
              "      <th>road_condition_1</th>\n",
              "      <th>lighting</th>\n",
              "      <th>control_device</th>\n",
              "      <th>collision_date</th>\n",
              "      <th>collision_time</th>\n",
              "    </tr>\n",
              "  </thead>\n",
              "  <tbody>\n",
              "    <tr>\n",
              "      <th>0</th>\n",
              "      <td>5196744</td>\n",
              "      <td>3711</td>\n",
              "      <td>san diego</td>\n",
              "      <td>0.0</td>\n",
              "      <td>None</td>\n",
              "      <td>1</td>\n",
              "      <td>clear</td>\n",
              "      <td>None</td>\n",
              "      <td>severe damage</td>\n",
              "      <td>27</td>\n",
              "      <td>vehicle code violation</td>\n",
              "      <td>improper turning</td>\n",
              "      <td>other</td>\n",
              "      <td>other object</td>\n",
              "      <td>dry</td>\n",
              "      <td>normal</td>\n",
              "      <td>dark with street lights</td>\n",
              "      <td>functioning</td>\n",
              "      <td>2011-02-12</td>\n",
              "      <td>01:32:00</td>\n",
              "    </tr>\n",
              "  </tbody>\n",
              "</table>\n",
              "</div>"
            ],
            "text/plain": [
              "   case_id county_city_location county_location  distance direction  \\\n",
              "0  5196744                 3711       san diego       0.0      None   \n",
              "\n",
              "   intersection weather_1 location_type collision_damage  party_count  \\\n",
              "0             1     clear          None    severe damage           27   \n",
              "\n",
              "  primary_collision_factor pcf_violation_category type_of_collision  \\\n",
              "0   vehicle code violation       improper turning             other   \n",
              "\n",
              "  motor_vehicle_involved_with road_surface road_condition_1  \\\n",
              "0                other object          dry           normal   \n",
              "\n",
              "                  lighting control_device collision_date collision_time  \n",
              "0  dark with street lights    functioning     2011-02-12       01:32:00  "
            ]
          },
          "execution_count": 15,
          "metadata": {},
          "output_type": "execute_result"
        }
      ],
      "source": [
        "run_query(\"\"\"SELECT *\n",
        "FROM collisions\n",
        "WHERE case_id LIKE '5196744'\n",
        "\"\"\")\n"
      ]
    },
    {
      "cell_type": "code",
      "execution_count": null,
      "id": "99bc38e6",
      "metadata": {
        "id": "99bc38e6",
        "outputId": "56e4d176-cf17-4b0e-9d17-852a41a0dc65"
      },
      "outputs": [
        {
          "data": {
            "text/html": [
              "<div>\n",
              "<style scoped>\n",
              "    .dataframe tbody tr th:only-of-type {\n",
              "        vertical-align: middle;\n",
              "    }\n",
              "\n",
              "    .dataframe tbody tr th {\n",
              "        vertical-align: top;\n",
              "    }\n",
              "\n",
              "    .dataframe thead th {\n",
              "        text-align: right;\n",
              "    }\n",
              "</style>\n",
              "<table border=\"1\" class=\"dataframe\">\n",
              "  <thead>\n",
              "    <tr style=\"text-align: right;\">\n",
              "      <th></th>\n",
              "      <th>case_id</th>\n",
              "      <th>county_city_location</th>\n",
              "      <th>county_location</th>\n",
              "      <th>distance</th>\n",
              "      <th>direction</th>\n",
              "      <th>intersection</th>\n",
              "      <th>weather_1</th>\n",
              "      <th>location_type</th>\n",
              "      <th>collision_damage</th>\n",
              "      <th>party_count</th>\n",
              "      <th>primary_collision_factor</th>\n",
              "      <th>pcf_violation_category</th>\n",
              "      <th>type_of_collision</th>\n",
              "      <th>motor_vehicle_involved_with</th>\n",
              "      <th>road_surface</th>\n",
              "      <th>road_condition_1</th>\n",
              "      <th>lighting</th>\n",
              "      <th>control_device</th>\n",
              "      <th>collision_date</th>\n",
              "      <th>collision_time</th>\n",
              "    </tr>\n",
              "  </thead>\n",
              "  <tbody>\n",
              "    <tr>\n",
              "      <th>0</th>\n",
              "      <td>5196744</td>\n",
              "      <td>3711</td>\n",
              "      <td>san diego</td>\n",
              "      <td>0.0</td>\n",
              "      <td>None</td>\n",
              "      <td>1</td>\n",
              "      <td>clear</td>\n",
              "      <td>None</td>\n",
              "      <td>severe damage</td>\n",
              "      <td>27</td>\n",
              "      <td>vehicle code violation</td>\n",
              "      <td>improper turning</td>\n",
              "      <td>other</td>\n",
              "      <td>other object</td>\n",
              "      <td>dry</td>\n",
              "      <td>normal</td>\n",
              "      <td>dark with street lights</td>\n",
              "      <td>functioning</td>\n",
              "      <td>2011-02-12</td>\n",
              "      <td>01:32:00</td>\n",
              "    </tr>\n",
              "  </tbody>\n",
              "</table>\n",
              "</div>"
            ],
            "text/plain": [
              "   case_id county_city_location county_location  distance direction  \\\n",
              "0  5196744                 3711       san diego       0.0      None   \n",
              "\n",
              "   intersection weather_1 location_type collision_damage  party_count  \\\n",
              "0             1     clear          None    severe damage           27   \n",
              "\n",
              "  primary_collision_factor pcf_violation_category type_of_collision  \\\n",
              "0   vehicle code violation       improper turning             other   \n",
              "\n",
              "  motor_vehicle_involved_with road_surface road_condition_1  \\\n",
              "0                other object          dry           normal   \n",
              "\n",
              "                  lighting control_device collision_date collision_time  \n",
              "0  dark with street lights    functioning     2011-02-12       01:32:00  "
            ]
          },
          "execution_count": 16,
          "metadata": {},
          "output_type": "execute_result"
        }
      ],
      "source": [
        "run_query(\"\"\"SELECT *\n",
        "FROM collisions\n",
        "WHERE party_count = 27\n",
        ";\"\"\")\n"
      ]
    },
    {
      "cell_type": "markdown",
      "id": "816275ae",
      "metadata": {
        "id": "816275ae"
      },
      "source": [
        "Ответ:\n",
        "\n",
        "Для всех таблиц имеется PK для связи:\n",
        "\n",
        "* **case_id - номер происшествия**\n",
        "\n",
        "А также для того, чтобы иметь доступ ко всем машинам, учавствующим в дтп:\n",
        "* **party_number - порядковый номер машины, которая участвовала в дтп**"
      ]
    },
    {
      "cell_type": "markdown",
      "id": "35ffb2f9",
      "metadata": {
        "id": "35ffb2f9"
      },
      "source": [
        "# Статистический анализ факторов ДТП"
      ]
    },
    {
      "cell_type": "markdown",
      "id": "34ab194c",
      "metadata": {
        "id": "34ab194c"
      },
      "source": [
        "## В какие месяцы происходит наибольшее количество аварий по годам?"
      ]
    },
    {
      "cell_type": "code",
      "execution_count": null,
      "id": "cec25020",
      "metadata": {
        "id": "cec25020"
      },
      "outputs": [],
      "source": [
        "\n",
        "def num_to_month_name(row):\n",
        "    return calendar.month_name[int(row)]"
      ]
    },
    {
      "cell_type": "code",
      "execution_count": null,
      "id": "d7990fb4",
      "metadata": {
        "id": "d7990fb4",
        "outputId": "2e4ee480-f3d7-453a-81dc-657da43ba554"
      },
      "outputs": [
        {
          "data": {
            "text/html": [
              "<div>\n",
              "<style scoped>\n",
              "    .dataframe tbody tr th:only-of-type {\n",
              "        vertical-align: middle;\n",
              "    }\n",
              "\n",
              "    .dataframe tbody tr th {\n",
              "        vertical-align: top;\n",
              "    }\n",
              "\n",
              "    .dataframe thead th {\n",
              "        text-align: right;\n",
              "    }\n",
              "</style>\n",
              "<table border=\"1\" class=\"dataframe\">\n",
              "  <thead>\n",
              "    <tr style=\"text-align: right;\">\n",
              "      <th></th>\n",
              "      <th>month</th>\n",
              "    </tr>\n",
              "  </thead>\n",
              "  <tbody>\n",
              "    <tr>\n",
              "      <th>0</th>\n",
              "      <td>2010.0</td>\n",
              "    </tr>\n",
              "    <tr>\n",
              "      <th>1</th>\n",
              "      <td>2013.0</td>\n",
              "    </tr>\n",
              "    <tr>\n",
              "      <th>2</th>\n",
              "      <td>2020.0</td>\n",
              "    </tr>\n",
              "    <tr>\n",
              "      <th>3</th>\n",
              "      <td>2009.0</td>\n",
              "    </tr>\n",
              "    <tr>\n",
              "      <th>4</th>\n",
              "      <td>2011.0</td>\n",
              "    </tr>\n",
              "    <tr>\n",
              "      <th>5</th>\n",
              "      <td>2012.0</td>\n",
              "    </tr>\n",
              "  </tbody>\n",
              "</table>\n",
              "</div>"
            ],
            "text/plain": [
              "    month\n",
              "0  2010.0\n",
              "1  2013.0\n",
              "2  2020.0\n",
              "3  2009.0\n",
              "4  2011.0\n",
              "5  2012.0"
            ]
          },
          "execution_count": 18,
          "metadata": {},
          "output_type": "execute_result"
        }
      ],
      "source": [
        "run_query(f\"\"\"SELECT DISTINCT EXTRACT(YEAR FROM collision_date::date) AS month\n",
        "FROM collisions\n",
        "\n",
        "\n",
        "\"\"\")"
      ]
    },
    {
      "cell_type": "code",
      "execution_count": null,
      "id": "de3789e7",
      "metadata": {
        "id": "de3789e7"
      },
      "outputs": [],
      "source": [
        "years = [2009, 2010, 2011, 2012, 2013, 2020]"
      ]
    },
    {
      "cell_type": "code",
      "execution_count": null,
      "id": "e6e23dff",
      "metadata": {
        "id": "e6e23dff",
        "outputId": "f435106b-e1a1-4537-81af-6c29f7cfd19a"
      },
      "outputs": [
        {
          "data": {
            "image/png": "[encoded data removed]",
            "text/plain": [
              "<Figure size 864x432 with 1 Axes>"
            ]
          },
          "metadata": {
            "needs_background": "light"
          },
          "output_type": "display_data"
        },
        {
          "data": {
            "image/png": "[encoded data removed]",
            "text/plain": [
              "<Figure size 864x432 with 1 Axes>"
            ]
          },
          "metadata": {
            "needs_background": "light"
          },
          "output_type": "display_data"
        },
        {
          "data": {
            "image/png": "[encoded data removed]",
            "text/plain": [
              "<Figure size 864x432 with 1 Axes>"
            ]
          },
          "metadata": {
            "needs_background": "light"
          },
          "output_type": "display_data"
        },
        {
          "data": {
            "image/png": "[encoded data removed]",
            "text/plain": [
              "<Figure size 864x432 with 1 Axes>"
            ]
          },
          "metadata": {
            "needs_background": "light"
          },
          "output_type": "display_data"
        },
        {
          "data": {
            "image/png": "[encoded data removed]",
            "text/plain": [
              "<Figure size 864x432 with 1 Axes>"
            ]
          },
          "metadata": {
            "needs_background": "light"
          },
          "output_type": "display_data"
        },
        {
          "data": {
            "image/png": "[encoded data removed]",
            "text/plain": [
              "<Figure size 864x432 with 1 Axes>"
            ]
          },
          "metadata": {
            "needs_background": "light"
          },
          "output_type": "display_data"
        }
      ],
      "source": [
        "for year in years:\n",
        "    total_dtp_by_month =  run_query(\"\"\"SELECT DISTINCT EXTRACT(MONTH FROM collision_date::date) AS month, COUNT(DISTINCT case_id) AS total_collisions\n",
        "FROM collisions\n",
        "WHERE EXTRACT(YEAR FROM collision_date::date) = {}\n",
        "\n",
        "GROUP BY EXTRACT(MONTH FROM collision_date::date)\n",
        "\n",
        "\"\"\".format(year))\n",
        "    total_dtp_by_month['month']= total_dtp_by_month['month'].apply(num_to_month_name)\n",
        "    # Создание графика\n",
        "    plt.figure(figsize=(12, 6))\n",
        "    sns.barplot(x='month', y='total_collisions', data=total_dtp_by_month, color='#40a368')\n",
        "\n",
        "    # Добавление заголовка и меток осей\n",
        "    plt.title('Количество ДТП по месяцам в {}'.format(year))\n",
        "    plt.xlabel('Месяц')\n",
        "    plt.ylabel('Количество ДТП')\n",
        "\n",
        "    # Отображение графика\n",
        "    plt.show()"
      ]
    },
    {
      "cell_type": "code",
      "execution_count": null,
      "id": "067af599",
      "metadata": {
        "id": "067af599"
      },
      "outputs": [],
      "source": []
    },
    {
      "cell_type": "code",
      "execution_count": null,
      "id": "48b06d1f",
      "metadata": {
        "id": "48b06d1f"
      },
      "outputs": [],
      "source": []
    },
    {
      "cell_type": "markdown",
      "id": "7023dc40",
      "metadata": {
        "id": "7023dc40"
      },
      "source": [
        "**Вывод:**\n",
        "    \n",
        "Исходя из графиков можно сделать выводы:\n",
        "\n",
        "* В 2009 году наиболее аварийные месяцы это Октябрь, Май и Март\n",
        "* В 2010 году - Октябрь, Март и Декабрь(близко май)\n",
        "* В 2011 году - Октябрь, Март и третье место делят месяца с Августа по Декабрь\n",
        "* Для 2012 и 2013 годов данных мало, однако тенденция на \"мартовскую\" аварийность сохраняется в 2012, а про 2013 год, тяжело сказать что либо, поскольку данных очень мало.\n",
        "* Для 2020 только 2 записи, поэтому анализ здесь не уместен"
      ]
    },
    {
      "cell_type": "code",
      "execution_count": null,
      "id": "d20bc642",
      "metadata": {
        "id": "d20bc642",
        "outputId": "e0c681c1-8189-4512-9e8c-236438d3a63f"
      },
      "outputs": [
        {
          "data": {
            "text/html": [
              "<div>\n",
              "<style scoped>\n",
              "    .dataframe tbody tr th:only-of-type {\n",
              "        vertical-align: middle;\n",
              "    }\n",
              "\n",
              "    .dataframe tbody tr th {\n",
              "        vertical-align: top;\n",
              "    }\n",
              "\n",
              "    .dataframe thead th {\n",
              "        text-align: right;\n",
              "    }\n",
              "</style>\n",
              "<table border=\"1\" class=\"dataframe\">\n",
              "  <thead>\n",
              "    <tr style=\"text-align: right;\">\n",
              "      <th></th>\n",
              "      <th>db_year</th>\n",
              "    </tr>\n",
              "  </thead>\n",
              "  <tbody>\n",
              "    <tr>\n",
              "      <th>0</th>\n",
              "      <td>2021</td>\n",
              "    </tr>\n",
              "  </tbody>\n",
              "</table>\n",
              "</div>"
            ],
            "text/plain": [
              "  db_year\n",
              "0    2021"
            ]
          },
          "execution_count": 21,
          "metadata": {},
          "output_type": "execute_result"
        }
      ],
      "source": [
        "run_query(\"\"\"SELECT DISTINCT db_year\n",
        "FROM case_ids\n",
        "\"\"\")"
      ]
    },
    {
      "cell_type": "code",
      "execution_count": null,
      "id": "d8371b20",
      "metadata": {
        "id": "d8371b20",
        "outputId": "08319c51-3275-4f37-9ad4-4248b99f7646"
      },
      "outputs": [
        {
          "data": {
            "text/html": [
              "<div>\n",
              "<style scoped>\n",
              "    .dataframe tbody tr th:only-of-type {\n",
              "        vertical-align: middle;\n",
              "    }\n",
              "\n",
              "    .dataframe tbody tr th {\n",
              "        vertical-align: top;\n",
              "    }\n",
              "\n",
              "    .dataframe thead th {\n",
              "        text-align: right;\n",
              "    }\n",
              "</style>\n",
              "<table border=\"1\" class=\"dataframe\">\n",
              "  <thead>\n",
              "    <tr style=\"text-align: right;\">\n",
              "      <th></th>\n",
              "      <th>collision_date</th>\n",
              "    </tr>\n",
              "  </thead>\n",
              "  <tbody>\n",
              "    <tr>\n",
              "      <th>0</th>\n",
              "      <td>2009-01-22</td>\n",
              "    </tr>\n",
              "    <tr>\n",
              "      <th>1</th>\n",
              "      <td>2009-01-03</td>\n",
              "    </tr>\n",
              "    <tr>\n",
              "      <th>2</th>\n",
              "      <td>2009-01-11</td>\n",
              "    </tr>\n",
              "    <tr>\n",
              "      <th>3</th>\n",
              "      <td>2009-01-11</td>\n",
              "    </tr>\n",
              "    <tr>\n",
              "      <th>4</th>\n",
              "      <td>2009-01-02</td>\n",
              "    </tr>\n",
              "  </tbody>\n",
              "</table>\n",
              "</div>"
            ],
            "text/plain": [
              "  collision_date\n",
              "0     2009-01-22\n",
              "1     2009-01-03\n",
              "2     2009-01-11\n",
              "3     2009-01-11\n",
              "4     2009-01-02"
            ]
          },
          "execution_count": 22,
          "metadata": {},
          "output_type": "execute_result"
        }
      ],
      "source": [
        "run_query(\"\"\"SELECT collision_date\n",
        "FROM collisions\n",
        "LIMIT 5\n",
        "\"\"\")"
      ]
    },
    {
      "cell_type": "markdown",
      "id": "17cdd141",
      "metadata": {
        "id": "17cdd141"
      },
      "source": [
        "## Задачи для выполнения"
      ]
    },
    {
      "cell_type": "code",
      "execution_count": null,
      "id": "c9db4502",
      "metadata": {
        "id": "c9db4502",
        "outputId": "408c93f3-2757-4825-d51e-9d083ee9d1b7"
      },
      "outputs": [
        {
          "data": {
            "text/html": [
              "<div>\n",
              "<style scoped>\n",
              "    .dataframe tbody tr th:only-of-type {\n",
              "        vertical-align: middle;\n",
              "    }\n",
              "\n",
              "    .dataframe tbody tr th {\n",
              "        vertical-align: top;\n",
              "    }\n",
              "\n",
              "    .dataframe thead th {\n",
              "        text-align: right;\n",
              "    }\n",
              "</style>\n",
              "<table border=\"1\" class=\"dataframe\">\n",
              "  <thead>\n",
              "    <tr style=\"text-align: right;\">\n",
              "      <th></th>\n",
              "      <th>id</th>\n",
              "      <th>case_id</th>\n",
              "      <th>party_number</th>\n",
              "      <th>party_type</th>\n",
              "      <th>at_fault</th>\n",
              "      <th>insurance_premium</th>\n",
              "      <th>party_sobriety</th>\n",
              "      <th>party_drug_physical</th>\n",
              "      <th>cellphone_in_use</th>\n",
              "    </tr>\n",
              "  </thead>\n",
              "  <tbody>\n",
              "    <tr>\n",
              "      <th>0</th>\n",
              "      <td>22</td>\n",
              "      <td>3899454</td>\n",
              "      <td>1</td>\n",
              "      <td>road signs</td>\n",
              "      <td>1</td>\n",
              "      <td>29.0</td>\n",
              "      <td>had not been drinking</td>\n",
              "      <td>None</td>\n",
              "      <td>0</td>\n",
              "    </tr>\n",
              "    <tr>\n",
              "      <th>1</th>\n",
              "      <td>23</td>\n",
              "      <td>3899454</td>\n",
              "      <td>2</td>\n",
              "      <td>road signs</td>\n",
              "      <td>0</td>\n",
              "      <td>7.0</td>\n",
              "      <td>had not been drinking</td>\n",
              "      <td>None</td>\n",
              "      <td>0</td>\n",
              "    </tr>\n",
              "    <tr>\n",
              "      <th>2</th>\n",
              "      <td>29</td>\n",
              "      <td>3899462</td>\n",
              "      <td>2</td>\n",
              "      <td>car</td>\n",
              "      <td>0</td>\n",
              "      <td>21.0</td>\n",
              "      <td>had not been drinking</td>\n",
              "      <td>None</td>\n",
              "      <td>0</td>\n",
              "    </tr>\n",
              "    <tr>\n",
              "      <th>3</th>\n",
              "      <td>31</td>\n",
              "      <td>3899465</td>\n",
              "      <td>2</td>\n",
              "      <td>road signs</td>\n",
              "      <td>0</td>\n",
              "      <td>24.0</td>\n",
              "      <td>had not been drinking</td>\n",
              "      <td>None</td>\n",
              "      <td>0</td>\n",
              "    </tr>\n",
              "    <tr>\n",
              "      <th>4</th>\n",
              "      <td>41</td>\n",
              "      <td>3899478</td>\n",
              "      <td>2</td>\n",
              "      <td>road bumper</td>\n",
              "      <td>0</td>\n",
              "      <td>NaN</td>\n",
              "      <td>not applicable</td>\n",
              "      <td>not applicable</td>\n",
              "      <td>0</td>\n",
              "    </tr>\n",
              "  </tbody>\n",
              "</table>\n",
              "</div>"
            ],
            "text/plain": [
              "   id  case_id  party_number   party_type  at_fault  insurance_premium  \\\n",
              "0  22  3899454             1   road signs         1               29.0   \n",
              "1  23  3899454             2   road signs         0                7.0   \n",
              "2  29  3899462             2          car         0               21.0   \n",
              "3  31  3899465             2   road signs         0               24.0   \n",
              "4  41  3899478             2  road bumper         0                NaN   \n",
              "\n",
              "          party_sobriety party_drug_physical  cellphone_in_use  \n",
              "0  had not been drinking                None                 0  \n",
              "1  had not been drinking                None                 0  \n",
              "2  had not been drinking                None                 0  \n",
              "3  had not been drinking                None                 0  \n",
              "4         not applicable      not applicable                 0  "
            ]
          },
          "execution_count": 23,
          "metadata": {},
          "output_type": "execute_result"
        }
      ],
      "source": [
        "run_query(\"\"\"SELECT *\n",
        "FROM parties\n",
        "LIMIT 5\n",
        "\"\"\")"
      ]
    },
    {
      "cell_type": "code",
      "execution_count": null,
      "id": "be5f4510",
      "metadata": {
        "id": "be5f4510",
        "outputId": "41a6d29e-8b3c-4317-dbbb-644da31819a9"
      },
      "outputs": [
        {
          "data": {
            "text/html": [
              "<div>\n",
              "<style scoped>\n",
              "    .dataframe tbody tr th:only-of-type {\n",
              "        vertical-align: middle;\n",
              "    }\n",
              "\n",
              "    .dataframe tbody tr th {\n",
              "        vertical-align: top;\n",
              "    }\n",
              "\n",
              "    .dataframe thead th {\n",
              "        text-align: right;\n",
              "    }\n",
              "</style>\n",
              "<table border=\"1\" class=\"dataframe\">\n",
              "  <thead>\n",
              "    <tr style=\"text-align: right;\">\n",
              "      <th></th>\n",
              "      <th>party_drug_physical</th>\n",
              "    </tr>\n",
              "  </thead>\n",
              "  <tbody>\n",
              "    <tr>\n",
              "      <th>0</th>\n",
              "      <td>None</td>\n",
              "    </tr>\n",
              "    <tr>\n",
              "      <th>1</th>\n",
              "      <td>sleepy/fatigued</td>\n",
              "    </tr>\n",
              "    <tr>\n",
              "      <th>2</th>\n",
              "      <td>not applicable</td>\n",
              "    </tr>\n",
              "    <tr>\n",
              "      <th>3</th>\n",
              "      <td>impairment - physical</td>\n",
              "    </tr>\n",
              "    <tr>\n",
              "      <th>4</th>\n",
              "      <td>under drug influence</td>\n",
              "    </tr>\n",
              "    <tr>\n",
              "      <th>5</th>\n",
              "      <td>G</td>\n",
              "    </tr>\n",
              "  </tbody>\n",
              "</table>\n",
              "</div>"
            ],
            "text/plain": [
              "     party_drug_physical\n",
              "0                   None\n",
              "1        sleepy/fatigued\n",
              "2         not applicable\n",
              "3  impairment - physical\n",
              "4   under drug influence\n",
              "5                      G"
            ]
          },
          "execution_count": 24,
          "metadata": {},
          "output_type": "execute_result"
        }
      ],
      "source": [
        "run_query(\"\"\"SELECT DISTINCT party_drug_physical\n",
        "FROM parties\n",
        "\"\"\")"
      ]
    },
    {
      "cell_type": "code",
      "execution_count": null,
      "id": "c0e61e05",
      "metadata": {
        "id": "c0e61e05",
        "outputId": "d60e1149-2496-488e-b2dc-aa66e9081a5d"
      },
      "outputs": [
        {
          "data": {
            "text/html": [
              "<div>\n",
              "<style scoped>\n",
              "    .dataframe tbody tr th:only-of-type {\n",
              "        vertical-align: middle;\n",
              "    }\n",
              "\n",
              "    .dataframe tbody tr th {\n",
              "        vertical-align: top;\n",
              "    }\n",
              "\n",
              "    .dataframe thead th {\n",
              "        text-align: right;\n",
              "    }\n",
              "</style>\n",
              "<table border=\"1\" class=\"dataframe\">\n",
              "  <thead>\n",
              "    <tr style=\"text-align: right;\">\n",
              "      <th></th>\n",
              "      <th>cellphone_in_use</th>\n",
              "    </tr>\n",
              "  </thead>\n",
              "  <tbody>\n",
              "    <tr>\n",
              "      <th>0</th>\n",
              "      <td>NaN</td>\n",
              "    </tr>\n",
              "    <tr>\n",
              "      <th>1</th>\n",
              "      <td>0.0</td>\n",
              "    </tr>\n",
              "    <tr>\n",
              "      <th>2</th>\n",
              "      <td>1.0</td>\n",
              "    </tr>\n",
              "  </tbody>\n",
              "</table>\n",
              "</div>"
            ],
            "text/plain": [
              "   cellphone_in_use\n",
              "0               NaN\n",
              "1               0.0\n",
              "2               1.0"
            ]
          },
          "execution_count": 25,
          "metadata": {},
          "output_type": "execute_result"
        }
      ],
      "source": [
        "run_query(\"\"\"SELECT DISTINCT cellphone_in_use\n",
        "FROM parties\n",
        "\"\"\")"
      ]
    },
    {
      "cell_type": "code",
      "execution_count": null,
      "id": "a763eabc",
      "metadata": {
        "id": "a763eabc",
        "outputId": "74f51d2d-2d83-4ce5-d4dd-436fe4e218f7"
      },
      "outputs": [
        {
          "data": {
            "text/html": [
              "<div>\n",
              "<style scoped>\n",
              "    .dataframe tbody tr th:only-of-type {\n",
              "        vertical-align: middle;\n",
              "    }\n",
              "\n",
              "    .dataframe tbody tr th {\n",
              "        vertical-align: top;\n",
              "    }\n",
              "\n",
              "    .dataframe thead th {\n",
              "        text-align: right;\n",
              "    }\n",
              "</style>\n",
              "<table border=\"1\" class=\"dataframe\">\n",
              "  <thead>\n",
              "    <tr style=\"text-align: right;\">\n",
              "      <th></th>\n",
              "      <th>vehicle_age</th>\n",
              "    </tr>\n",
              "  </thead>\n",
              "  <tbody>\n",
              "    <tr>\n",
              "      <th>0</th>\n",
              "      <td>0.0</td>\n",
              "    </tr>\n",
              "    <tr>\n",
              "      <th>1</th>\n",
              "      <td>1.0</td>\n",
              "    </tr>\n",
              "    <tr>\n",
              "      <th>2</th>\n",
              "      <td>2.0</td>\n",
              "    </tr>\n",
              "    <tr>\n",
              "      <th>3</th>\n",
              "      <td>3.0</td>\n",
              "    </tr>\n",
              "    <tr>\n",
              "      <th>4</th>\n",
              "      <td>4.0</td>\n",
              "    </tr>\n",
              "    <tr>\n",
              "      <th>5</th>\n",
              "      <td>5.0</td>\n",
              "    </tr>\n",
              "    <tr>\n",
              "      <th>6</th>\n",
              "      <td>6.0</td>\n",
              "    </tr>\n",
              "    <tr>\n",
              "      <th>7</th>\n",
              "      <td>7.0</td>\n",
              "    </tr>\n",
              "    <tr>\n",
              "      <th>8</th>\n",
              "      <td>8.0</td>\n",
              "    </tr>\n",
              "    <tr>\n",
              "      <th>9</th>\n",
              "      <td>9.0</td>\n",
              "    </tr>\n",
              "    <tr>\n",
              "      <th>10</th>\n",
              "      <td>10.0</td>\n",
              "    </tr>\n",
              "    <tr>\n",
              "      <th>11</th>\n",
              "      <td>11.0</td>\n",
              "    </tr>\n",
              "    <tr>\n",
              "      <th>12</th>\n",
              "      <td>12.0</td>\n",
              "    </tr>\n",
              "    <tr>\n",
              "      <th>13</th>\n",
              "      <td>13.0</td>\n",
              "    </tr>\n",
              "    <tr>\n",
              "      <th>14</th>\n",
              "      <td>14.0</td>\n",
              "    </tr>\n",
              "    <tr>\n",
              "      <th>15</th>\n",
              "      <td>15.0</td>\n",
              "    </tr>\n",
              "    <tr>\n",
              "      <th>16</th>\n",
              "      <td>16.0</td>\n",
              "    </tr>\n",
              "    <tr>\n",
              "      <th>17</th>\n",
              "      <td>17.0</td>\n",
              "    </tr>\n",
              "    <tr>\n",
              "      <th>18</th>\n",
              "      <td>18.0</td>\n",
              "    </tr>\n",
              "    <tr>\n",
              "      <th>19</th>\n",
              "      <td>19.0</td>\n",
              "    </tr>\n",
              "    <tr>\n",
              "      <th>20</th>\n",
              "      <td>20.0</td>\n",
              "    </tr>\n",
              "    <tr>\n",
              "      <th>21</th>\n",
              "      <td>161.0</td>\n",
              "    </tr>\n",
              "    <tr>\n",
              "      <th>22</th>\n",
              "      <td>NaN</td>\n",
              "    </tr>\n",
              "  </tbody>\n",
              "</table>\n",
              "</div>"
            ],
            "text/plain": [
              "    vehicle_age\n",
              "0           0.0\n",
              "1           1.0\n",
              "2           2.0\n",
              "3           3.0\n",
              "4           4.0\n",
              "5           5.0\n",
              "6           6.0\n",
              "7           7.0\n",
              "8           8.0\n",
              "9           9.0\n",
              "10         10.0\n",
              "11         11.0\n",
              "12         12.0\n",
              "13         13.0\n",
              "14         14.0\n",
              "15         15.0\n",
              "16         16.0\n",
              "17         17.0\n",
              "18         18.0\n",
              "19         19.0\n",
              "20         20.0\n",
              "21        161.0\n",
              "22          NaN"
            ]
          },
          "execution_count": 26,
          "metadata": {},
          "output_type": "execute_result"
        }
      ],
      "source": [
        "run_query(\"\"\"SELECT  DISTINCT vehicle_age\n",
        "FROM vehicles\n",
        "ORDER BY 1\n",
        "\"\"\")"
      ]
    },
    {
      "cell_type": "code",
      "execution_count": null,
      "id": "6097346a",
      "metadata": {
        "scrolled": true,
        "id": "6097346a",
        "outputId": "b3767857-b8ad-47eb-9573-b9c98df4b6ee"
      },
      "outputs": [
        {
          "data": {
            "text/html": [
              "<div>\n",
              "<style scoped>\n",
              "    .dataframe tbody tr th:only-of-type {\n",
              "        vertical-align: middle;\n",
              "    }\n",
              "\n",
              "    .dataframe tbody tr th {\n",
              "        vertical-align: top;\n",
              "    }\n",
              "\n",
              "    .dataframe thead th {\n",
              "        text-align: right;\n",
              "    }\n",
              "</style>\n",
              "<table border=\"1\" class=\"dataframe\">\n",
              "  <thead>\n",
              "    <tr style=\"text-align: right;\">\n",
              "      <th></th>\n",
              "      <th>id</th>\n",
              "      <th>case_id</th>\n",
              "      <th>party_number</th>\n",
              "      <th>vehicle_type</th>\n",
              "      <th>vehicle_transmission</th>\n",
              "      <th>vehicle_age</th>\n",
              "    </tr>\n",
              "  </thead>\n",
              "  <tbody>\n",
              "    <tr>\n",
              "      <th>0</th>\n",
              "      <td>1275407</td>\n",
              "      <td>5403332</td>\n",
              "      <td>1</td>\n",
              "      <td>sedan</td>\n",
              "      <td>auto</td>\n",
              "      <td>161</td>\n",
              "    </tr>\n",
              "    <tr>\n",
              "      <th>1</th>\n",
              "      <td>1503403</td>\n",
              "      <td>5639033</td>\n",
              "      <td>2</td>\n",
              "      <td>sedan</td>\n",
              "      <td>manual</td>\n",
              "      <td>161</td>\n",
              "    </tr>\n",
              "    <tr>\n",
              "      <th>2</th>\n",
              "      <td>91813</td>\n",
              "      <td>4180401</td>\n",
              "      <td>3</td>\n",
              "      <td>hatchback</td>\n",
              "      <td>auto</td>\n",
              "      <td>161</td>\n",
              "    </tr>\n",
              "    <tr>\n",
              "      <th>3</th>\n",
              "      <td>768318</td>\n",
              "      <td>4898062</td>\n",
              "      <td>2</td>\n",
              "      <td>sedan</td>\n",
              "      <td>auto</td>\n",
              "      <td>161</td>\n",
              "    </tr>\n",
              "    <tr>\n",
              "      <th>4</th>\n",
              "      <td>208906</td>\n",
              "      <td>4302016</td>\n",
              "      <td>1</td>\n",
              "      <td>sedan</td>\n",
              "      <td>auto</td>\n",
              "      <td>161</td>\n",
              "    </tr>\n",
              "    <tr>\n",
              "      <th>5</th>\n",
              "      <td>1593</td>\n",
              "      <td>4015202</td>\n",
              "      <td>2</td>\n",
              "      <td>sedan</td>\n",
              "      <td>manual</td>\n",
              "      <td>161</td>\n",
              "    </tr>\n",
              "    <tr>\n",
              "      <th>6</th>\n",
              "      <td>768492</td>\n",
              "      <td>4898149</td>\n",
              "      <td>1</td>\n",
              "      <td>sedan</td>\n",
              "      <td>auto</td>\n",
              "      <td>161</td>\n",
              "    </tr>\n",
              "    <tr>\n",
              "      <th>7</th>\n",
              "      <td>209008</td>\n",
              "      <td>4302067</td>\n",
              "      <td>2</td>\n",
              "      <td>other</td>\n",
              "      <td>manual</td>\n",
              "      <td>161</td>\n",
              "    </tr>\n",
              "    <tr>\n",
              "      <th>8</th>\n",
              "      <td>860328</td>\n",
              "      <td>4990375</td>\n",
              "      <td>1</td>\n",
              "      <td>sedan</td>\n",
              "      <td>manual</td>\n",
              "      <td>161</td>\n",
              "    </tr>\n",
              "    <tr>\n",
              "      <th>9</th>\n",
              "      <td>1050942</td>\n",
              "      <td>5189844</td>\n",
              "      <td>3</td>\n",
              "      <td>other</td>\n",
              "      <td>manual</td>\n",
              "      <td>161</td>\n",
              "    </tr>\n",
              "    <tr>\n",
              "      <th>10</th>\n",
              "      <td>1414168</td>\n",
              "      <td>5542342</td>\n",
              "      <td>1</td>\n",
              "      <td>sedan</td>\n",
              "      <td>manual</td>\n",
              "      <td>161</td>\n",
              "    </tr>\n",
              "    <tr>\n",
              "      <th>11</th>\n",
              "      <td>209231</td>\n",
              "      <td>4302172</td>\n",
              "      <td>1</td>\n",
              "      <td>sedan</td>\n",
              "      <td>None</td>\n",
              "      <td>161</td>\n",
              "    </tr>\n",
              "    <tr>\n",
              "      <th>12</th>\n",
              "      <td>1019347</td>\n",
              "      <td>5158413</td>\n",
              "      <td>1</td>\n",
              "      <td>sedan</td>\n",
              "      <td>manual</td>\n",
              "      <td>161</td>\n",
              "    </tr>\n",
              "    <tr>\n",
              "      <th>13</th>\n",
              "      <td>296982</td>\n",
              "      <td>4391777</td>\n",
              "      <td>1</td>\n",
              "      <td>sedan</td>\n",
              "      <td>manual</td>\n",
              "      <td>161</td>\n",
              "    </tr>\n",
              "    <tr>\n",
              "      <th>14</th>\n",
              "      <td>545060</td>\n",
              "      <td>4660667</td>\n",
              "      <td>1</td>\n",
              "      <td>sedan</td>\n",
              "      <td>None</td>\n",
              "      <td>161</td>\n",
              "    </tr>\n",
              "    <tr>\n",
              "      <th>15</th>\n",
              "      <td>859933</td>\n",
              "      <td>4990167</td>\n",
              "      <td>2</td>\n",
              "      <td>sedan</td>\n",
              "      <td>manual</td>\n",
              "      <td>161</td>\n",
              "    </tr>\n",
              "    <tr>\n",
              "      <th>16</th>\n",
              "      <td>1161686</td>\n",
              "      <td>5291247</td>\n",
              "      <td>1</td>\n",
              "      <td>sedan</td>\n",
              "      <td>manual</td>\n",
              "      <td>161</td>\n",
              "    </tr>\n",
              "  </tbody>\n",
              "</table>\n",
              "</div>"
            ],
            "text/plain": [
              "         id  case_id  party_number vehicle_type vehicle_transmission  \\\n",
              "0   1275407  5403332             1        sedan                 auto   \n",
              "1   1503403  5639033             2        sedan               manual   \n",
              "2     91813  4180401             3    hatchback                 auto   \n",
              "3    768318  4898062             2        sedan                 auto   \n",
              "4    208906  4302016             1        sedan                 auto   \n",
              "5      1593  4015202             2        sedan               manual   \n",
              "6    768492  4898149             1        sedan                 auto   \n",
              "7    209008  4302067             2        other               manual   \n",
              "8    860328  4990375             1        sedan               manual   \n",
              "9   1050942  5189844             3        other               manual   \n",
              "10  1414168  5542342             1        sedan               manual   \n",
              "11   209231  4302172             1        sedan                 None   \n",
              "12  1019347  5158413             1        sedan               manual   \n",
              "13   296982  4391777             1        sedan               manual   \n",
              "14   545060  4660667             1        sedan                 None   \n",
              "15   859933  4990167             2        sedan               manual   \n",
              "16  1161686  5291247             1        sedan               manual   \n",
              "\n",
              "    vehicle_age  \n",
              "0           161  \n",
              "1           161  \n",
              "2           161  \n",
              "3           161  \n",
              "4           161  \n",
              "5           161  \n",
              "6           161  \n",
              "7           161  \n",
              "8           161  \n",
              "9           161  \n",
              "10          161  \n",
              "11          161  \n",
              "12          161  \n",
              "13          161  \n",
              "14          161  \n",
              "15          161  \n",
              "16          161  "
            ]
          },
          "execution_count": 27,
          "metadata": {},
          "output_type": "execute_result"
        }
      ],
      "source": [
        "run_query(\"\"\"SELECT *\n",
        "FROM vehicles\n",
        "WHERE vehicle_age = 161\n",
        "\"\"\")"
      ]
    },
    {
      "cell_type": "code",
      "execution_count": null,
      "id": "d0e6db96",
      "metadata": {
        "id": "d0e6db96",
        "outputId": "ac679769-c009-4d9b-d316-6fa13cd3705c"
      },
      "outputs": [
        {
          "data": {
            "text/html": [
              "<div>\n",
              "<style scoped>\n",
              "    .dataframe tbody tr th:only-of-type {\n",
              "        vertical-align: middle;\n",
              "    }\n",
              "\n",
              "    .dataframe tbody tr th {\n",
              "        vertical-align: top;\n",
              "    }\n",
              "\n",
              "    .dataframe thead th {\n",
              "        text-align: right;\n",
              "    }\n",
              "</style>\n",
              "<table border=\"1\" class=\"dataframe\">\n",
              "  <thead>\n",
              "    <tr style=\"text-align: right;\">\n",
              "      <th></th>\n",
              "      <th>vehicle_age_0</th>\n",
              "    </tr>\n",
              "  </thead>\n",
              "  <tbody>\n",
              "    <tr>\n",
              "      <th>0</th>\n",
              "      <td>40262</td>\n",
              "    </tr>\n",
              "  </tbody>\n",
              "</table>\n",
              "</div>"
            ],
            "text/plain": [
              "   vehicle_age_0\n",
              "0          40262"
            ]
          },
          "execution_count": 28,
          "metadata": {},
          "output_type": "execute_result"
        }
      ],
      "source": [
        "run_query(\"\"\"SELECT COUNT(*) AS vehicle_age_0\n",
        "FROM vehicles\n",
        "WHERE vehicle_age = 0\n",
        "\"\"\")"
      ]
    },
    {
      "cell_type": "code",
      "execution_count": null,
      "id": "403da3e1",
      "metadata": {
        "scrolled": true,
        "id": "403da3e1",
        "outputId": "eb789af3-0d10-4a95-98a9-6bde48456207"
      },
      "outputs": [
        {
          "data": {
            "text/html": [
              "<div>\n",
              "<style scoped>\n",
              "    .dataframe tbody tr th:only-of-type {\n",
              "        vertical-align: middle;\n",
              "    }\n",
              "\n",
              "    .dataframe tbody tr th {\n",
              "        vertical-align: top;\n",
              "    }\n",
              "\n",
              "    .dataframe thead th {\n",
              "        text-align: right;\n",
              "    }\n",
              "</style>\n",
              "<table border=\"1\" class=\"dataframe\">\n",
              "  <thead>\n",
              "    <tr style=\"text-align: right;\">\n",
              "      <th></th>\n",
              "      <th>vehicle_age_161</th>\n",
              "    </tr>\n",
              "  </thead>\n",
              "  <tbody>\n",
              "    <tr>\n",
              "      <th>0</th>\n",
              "      <td>17</td>\n",
              "    </tr>\n",
              "  </tbody>\n",
              "</table>\n",
              "</div>"
            ],
            "text/plain": [
              "   vehicle_age_161\n",
              "0               17"
            ]
          },
          "execution_count": 29,
          "metadata": {},
          "output_type": "execute_result"
        }
      ],
      "source": [
        "run_query(\"\"\"SELECT COUNT(*) AS vehicle_age_161\n",
        "FROM vehicles\n",
        "WHERE vehicle_age = 161\n",
        "\"\"\")"
      ]
    },
    {
      "cell_type": "markdown",
      "id": "6a48ee02",
      "metadata": {
        "id": "6a48ee02"
      },
      "source": [
        "Задачи для команды:\n",
        "\n",
        "Для всех ДТП, где повреждение было **не царапина** и была **car** как виновник\n",
        "\n",
        "1) Процент ДТП было совершенно с телефоном (cellphone_in_use=1) в руках от общего\n",
        "\n",
        "2) Процент ДТП по каждому физическому недугу (party_drug_physical)\n",
        "\n",
        "3) Процент ДТП по категории трезвости водителей\n",
        "\n",
        "4) Процент ДТП по типам автомобилей\n",
        "\n",
        "5) Процент ДТП по типам КПП\n",
        "\n",
        "6) Процент ДТП по направлению\n",
        "\n",
        "7) Процент ДТП по нарушениям\n",
        "\n",
        "8) Процент ДТП по типу аварий\n",
        "\n",
        "9) Процент ДТП по состоянию дороги\n",
        "\n",
        "Дополнительные задания:\n",
        "* Проведите анализ серьёзности повреждений транспортного средства, исходя из состояния дороги в момент ДТП (связать collisions и parties);\n",
        "* Найдите самые частые причины ДТП (таблица parties).\n",
        "\n",
        "\n",
        "-----\n",
        "\n",
        "Для каждой задаче выполните следующие действия:\n",
        "\n",
        "* Создайте sql-запрос;\n",
        "* Постройте график;\n",
        "* Сделайте вывод.\n"
      ]
    },
    {
      "cell_type": "code",
      "execution_count": null,
      "id": "9665ba09",
      "metadata": {
        "id": "9665ba09",
        "outputId": "5b996544-7dee-410b-b75c-1829a8a188a0"
      },
      "outputs": [
        {
          "data": {
            "text/html": [
              "<div>\n",
              "<style scoped>\n",
              "    .dataframe tbody tr th:only-of-type {\n",
              "        vertical-align: middle;\n",
              "    }\n",
              "\n",
              "    .dataframe tbody tr th {\n",
              "        vertical-align: top;\n",
              "    }\n",
              "\n",
              "    .dataframe thead th {\n",
              "        text-align: right;\n",
              "    }\n",
              "</style>\n",
              "<table border=\"1\" class=\"dataframe\">\n",
              "  <thead>\n",
              "    <tr style=\"text-align: right;\">\n",
              "      <th></th>\n",
              "      <th>id</th>\n",
              "      <th>case_id</th>\n",
              "      <th>party_number</th>\n",
              "      <th>party_type</th>\n",
              "      <th>at_fault</th>\n",
              "      <th>insurance_premium</th>\n",
              "      <th>party_sobriety</th>\n",
              "      <th>party_drug_physical</th>\n",
              "      <th>cellphone_in_use</th>\n",
              "    </tr>\n",
              "  </thead>\n",
              "  <tbody>\n",
              "    <tr>\n",
              "      <th>0</th>\n",
              "      <td>22</td>\n",
              "      <td>3899454</td>\n",
              "      <td>1</td>\n",
              "      <td>road signs</td>\n",
              "      <td>1</td>\n",
              "      <td>29</td>\n",
              "      <td>had not been drinking</td>\n",
              "      <td>None</td>\n",
              "      <td>0</td>\n",
              "    </tr>\n",
              "    <tr>\n",
              "      <th>1</th>\n",
              "      <td>23</td>\n",
              "      <td>3899454</td>\n",
              "      <td>2</td>\n",
              "      <td>road signs</td>\n",
              "      <td>0</td>\n",
              "      <td>7</td>\n",
              "      <td>had not been drinking</td>\n",
              "      <td>None</td>\n",
              "      <td>0</td>\n",
              "    </tr>\n",
              "    <tr>\n",
              "      <th>2</th>\n",
              "      <td>29</td>\n",
              "      <td>3899462</td>\n",
              "      <td>2</td>\n",
              "      <td>car</td>\n",
              "      <td>0</td>\n",
              "      <td>21</td>\n",
              "      <td>had not been drinking</td>\n",
              "      <td>None</td>\n",
              "      <td>0</td>\n",
              "    </tr>\n",
              "  </tbody>\n",
              "</table>\n",
              "</div>"
            ],
            "text/plain": [
              "   id  case_id  party_number  party_type  at_fault  insurance_premium  \\\n",
              "0  22  3899454             1  road signs         1                 29   \n",
              "1  23  3899454             2  road signs         0                  7   \n",
              "2  29  3899462             2         car         0                 21   \n",
              "\n",
              "          party_sobriety party_drug_physical  cellphone_in_use  \n",
              "0  had not been drinking                None                 0  \n",
              "1  had not been drinking                None                 0  \n",
              "2  had not been drinking                None                 0  "
            ]
          },
          "execution_count": 30,
          "metadata": {},
          "output_type": "execute_result"
        }
      ],
      "source": [
        "run_query(\"\"\"SELECT *\n",
        "FROM parties\n",
        "LIMIT 3\n",
        "\"\"\")"
      ]
    },
    {
      "cell_type": "code",
      "execution_count": null,
      "id": "9bf5f0d3",
      "metadata": {
        "scrolled": false,
        "id": "9bf5f0d3",
        "outputId": "1c84b9aa-4877-47f8-9806-af4172287764"
      },
      "outputs": [
        {
          "data": {
            "text/html": [
              "<div>\n",
              "<style scoped>\n",
              "    .dataframe tbody tr th:only-of-type {\n",
              "        vertical-align: middle;\n",
              "    }\n",
              "\n",
              "    .dataframe tbody tr th {\n",
              "        vertical-align: top;\n",
              "    }\n",
              "\n",
              "    .dataframe thead th {\n",
              "        text-align: right;\n",
              "    }\n",
              "</style>\n",
              "<table border=\"1\" class=\"dataframe\">\n",
              "  <thead>\n",
              "    <tr style=\"text-align: right;\">\n",
              "      <th></th>\n",
              "      <th>case_id</th>\n",
              "      <th>county_city_location</th>\n",
              "      <th>county_location</th>\n",
              "      <th>distance</th>\n",
              "      <th>direction</th>\n",
              "      <th>intersection</th>\n",
              "      <th>weather_1</th>\n",
              "      <th>location_type</th>\n",
              "      <th>collision_damage</th>\n",
              "      <th>party_count</th>\n",
              "      <th>primary_collision_factor</th>\n",
              "      <th>pcf_violation_category</th>\n",
              "      <th>type_of_collision</th>\n",
              "      <th>motor_vehicle_involved_with</th>\n",
              "      <th>road_surface</th>\n",
              "      <th>road_condition_1</th>\n",
              "      <th>lighting</th>\n",
              "      <th>control_device</th>\n",
              "      <th>collision_date</th>\n",
              "      <th>collision_time</th>\n",
              "    </tr>\n",
              "  </thead>\n",
              "  <tbody>\n",
              "    <tr>\n",
              "      <th>0</th>\n",
              "      <td>4083072</td>\n",
              "      <td>1942</td>\n",
              "      <td>los angeles</td>\n",
              "      <td>528.0</td>\n",
              "      <td>north</td>\n",
              "      <td>0</td>\n",
              "      <td>cloudy</td>\n",
              "      <td>highway</td>\n",
              "      <td>small damage</td>\n",
              "      <td>2</td>\n",
              "      <td>vehicle code violation</td>\n",
              "      <td>unsafe lane change</td>\n",
              "      <td>sideswipe</td>\n",
              "      <td>other motor vehicle</td>\n",
              "      <td>wet</td>\n",
              "      <td>normal</td>\n",
              "      <td>daylight</td>\n",
              "      <td>none</td>\n",
              "      <td>2009-01-22</td>\n",
              "      <td>07:25:00</td>\n",
              "    </tr>\n",
              "    <tr>\n",
              "      <th>1</th>\n",
              "      <td>4083075</td>\n",
              "      <td>4313</td>\n",
              "      <td>santa clara</td>\n",
              "      <td>0.0</td>\n",
              "      <td>None</td>\n",
              "      <td>1</td>\n",
              "      <td>clear</td>\n",
              "      <td>None</td>\n",
              "      <td>small damage</td>\n",
              "      <td>1</td>\n",
              "      <td>vehicle code violation</td>\n",
              "      <td>improper passing</td>\n",
              "      <td>hit object</td>\n",
              "      <td>fixed object</td>\n",
              "      <td>dry</td>\n",
              "      <td>normal</td>\n",
              "      <td>dark with street lights</td>\n",
              "      <td>functioning</td>\n",
              "      <td>2009-01-03</td>\n",
              "      <td>02:26:00</td>\n",
              "    </tr>\n",
              "    <tr>\n",
              "      <th>2</th>\n",
              "      <td>4083073</td>\n",
              "      <td>0109</td>\n",
              "      <td>alameda</td>\n",
              "      <td>0.0</td>\n",
              "      <td>None</td>\n",
              "      <td>1</td>\n",
              "      <td>clear</td>\n",
              "      <td>None</td>\n",
              "      <td>scratch</td>\n",
              "      <td>2</td>\n",
              "      <td>vehicle code violation</td>\n",
              "      <td>improper turning</td>\n",
              "      <td>broadside</td>\n",
              "      <td>other motor vehicle</td>\n",
              "      <td>dry</td>\n",
              "      <td>normal</td>\n",
              "      <td>dark with street lights</td>\n",
              "      <td>functioning</td>\n",
              "      <td>2009-01-11</td>\n",
              "      <td>03:32:00</td>\n",
              "    </tr>\n",
              "  </tbody>\n",
              "</table>\n",
              "</div>"
            ],
            "text/plain": [
              "   case_id county_city_location county_location  distance direction  \\\n",
              "0  4083072                 1942     los angeles     528.0     north   \n",
              "1  4083075                 4313     santa clara       0.0      None   \n",
              "2  4083073                 0109         alameda       0.0      None   \n",
              "\n",
              "   intersection weather_1 location_type collision_damage  party_count  \\\n",
              "0             0    cloudy       highway     small damage            2   \n",
              "1             1     clear          None     small damage            1   \n",
              "2             1     clear          None          scratch            2   \n",
              "\n",
              "  primary_collision_factor pcf_violation_category type_of_collision  \\\n",
              "0   vehicle code violation     unsafe lane change         sideswipe   \n",
              "1   vehicle code violation       improper passing        hit object   \n",
              "2   vehicle code violation       improper turning         broadside   \n",
              "\n",
              "  motor_vehicle_involved_with road_surface road_condition_1  \\\n",
              "0         other motor vehicle          wet           normal   \n",
              "1                fixed object          dry           normal   \n",
              "2         other motor vehicle          dry           normal   \n",
              "\n",
              "                  lighting control_device collision_date collision_time  \n",
              "0                 daylight           none     2009-01-22       07:25:00  \n",
              "1  dark with street lights    functioning     2009-01-03       02:26:00  \n",
              "2  dark with street lights    functioning     2009-01-11       03:32:00  "
            ]
          },
          "execution_count": 31,
          "metadata": {},
          "output_type": "execute_result"
        }
      ],
      "source": [
        "run_query(\"\"\"SELECT *\n",
        "FROM collisions\n",
        "LIMIT 3\n",
        "\"\"\")"
      ]
    },
    {
      "cell_type": "markdown",
      "id": "13127e15",
      "metadata": {
        "id": "13127e15"
      },
      "source": [
        "## Найдите самые частые причины ДТП (таблица parties)."
      ]
    },
    {
      "cell_type": "code",
      "execution_count": null,
      "id": "fd339e90",
      "metadata": {
        "id": "fd339e90"
      },
      "outputs": [],
      "source": [
        "tmp = run_query(\"\"\"SELECT primary_collision_factor, COUNT(*)\n",
        "FROM collisions AS c JOIN parties AS p ON c.case_id = p.case_id\n",
        "WHERE at_fault = 1\n",
        "GROUP BY primary_collision_factor\n",
        "ORDER BY 2 DESC\n",
        "\"\"\")"
      ]
    },
    {
      "cell_type": "code",
      "execution_count": null,
      "id": "fd218563",
      "metadata": {
        "scrolled": false,
        "id": "fd218563",
        "outputId": "768ad3e6-d3a4-4555-d293-b825ee8fd392"
      },
      "outputs": [
        {
          "data": {
            "text/html": [
              "<div>\n",
              "<style scoped>\n",
              "    .dataframe tbody tr th:only-of-type {\n",
              "        vertical-align: middle;\n",
              "    }\n",
              "\n",
              "    .dataframe tbody tr th {\n",
              "        vertical-align: top;\n",
              "    }\n",
              "\n",
              "    .dataframe thead th {\n",
              "        text-align: right;\n",
              "    }\n",
              "</style>\n",
              "<table border=\"1\" class=\"dataframe\">\n",
              "  <thead>\n",
              "    <tr style=\"text-align: right;\">\n",
              "      <th></th>\n",
              "      <th>primary_collision_factor</th>\n",
              "      <th>count</th>\n",
              "    </tr>\n",
              "  </thead>\n",
              "  <tbody>\n",
              "    <tr>\n",
              "      <th>0</th>\n",
              "      <td>vehicle code violation</td>\n",
              "      <td>1281583</td>\n",
              "    </tr>\n",
              "    <tr>\n",
              "      <th>1</th>\n",
              "      <td>other improper driving</td>\n",
              "      <td>6497</td>\n",
              "    </tr>\n",
              "    <tr>\n",
              "      <th>2</th>\n",
              "      <td>fell asleep</td>\n",
              "      <td>47</td>\n",
              "    </tr>\n",
              "  </tbody>\n",
              "</table>\n",
              "</div>"
            ],
            "text/plain": [
              "  primary_collision_factor    count\n",
              "0   vehicle code violation  1281583\n",
              "1   other improper driving     6497\n",
              "2              fell asleep       47"
            ]
          },
          "execution_count": 33,
          "metadata": {},
          "output_type": "execute_result"
        }
      ],
      "source": [
        "tmp"
      ]
    },
    {
      "cell_type": "code",
      "execution_count": null,
      "id": "3bb8dfc7",
      "metadata": {
        "id": "3bb8dfc7",
        "outputId": "47d85e96-c184-48e4-d94f-9d62876198d1"
      },
      "outputs": [
        {
          "data": {
            "image/png": "[encoded data removed]",
            "text/plain": [
              "<Figure size 432x288 with 1 Axes>"
            ]
          },
          "metadata": {
            "needs_background": "light"
          },
          "output_type": "display_data"
        }
      ],
      "source": [
        "# создание графика\n",
        "fig, ax = plt.subplots()\n",
        "ax.bar(tmp['primary_collision_factor'], tmp['count'], align='center')\n",
        "\n",
        "# добавление заголовка и меток осей\n",
        "ax.set_title('Count of fault by road condition')\n",
        "ax.set_xticks(tmp['primary_collision_factor'])\n",
        "ax.set_xticklabels(tmp['primary_collision_factor'], rotation=45)\n",
        "ax.set_xlabel('primary_collision_factor')\n",
        "ax.set_ylabel('collision count')\n",
        "\n",
        "# отображение графика\n",
        "plt.show()"
      ]
    },
    {
      "cell_type": "markdown",
      "id": "c1164a61",
      "metadata": {
        "id": "c1164a61"
      },
      "source": [
        "Вывод:\n",
        "    \n",
        "Самая частая причина это нарушение ПДД - **1_281_583**"
      ]
    },
    {
      "cell_type": "markdown",
      "id": "2da097bb",
      "metadata": {
        "id": "2da097bb"
      },
      "source": [
        "##  Проведите анализ серьёзности повреждений транспортного средства, исходя из состояния дороги в момент ДТП (связать collisions и parties);\n"
      ]
    },
    {
      "cell_type": "code",
      "execution_count": null,
      "id": "3a2b2b09",
      "metadata": {
        "id": "3a2b2b09"
      },
      "outputs": [],
      "source": [
        "tmp = run_query(\"\"\"SELECT collisions.road_condition_1, AVG(parties.insurance_premium) AS avg_insurance_premium, COUNT(*) AS collision_count\n",
        "FROM collisions\n",
        "JOIN parties ON collisions.case_id = parties.case_id\n",
        "WHERE collisions.road_condition_1 IS NOT NULL AND at_fault = 1\n",
        "GROUP BY collisions.road_condition_1\n",
        "ORDER BY 2 DESC;\n",
        "\"\"\")"
      ]
    },
    {
      "cell_type": "code",
      "execution_count": null,
      "id": "35b4ef62",
      "metadata": {
        "id": "35b4ef62",
        "outputId": "86918be1-23b3-485e-924a-b30817e7cef6"
      },
      "outputs": [
        {
          "data": {
            "text/html": [
              "<div>\n",
              "<style scoped>\n",
              "    .dataframe tbody tr th:only-of-type {\n",
              "        vertical-align: middle;\n",
              "    }\n",
              "\n",
              "    .dataframe tbody tr th {\n",
              "        vertical-align: top;\n",
              "    }\n",
              "\n",
              "    .dataframe thead th {\n",
              "        text-align: right;\n",
              "    }\n",
              "</style>\n",
              "<table border=\"1\" class=\"dataframe\">\n",
              "  <thead>\n",
              "    <tr style=\"text-align: right;\">\n",
              "      <th></th>\n",
              "      <th>road_condition_1</th>\n",
              "      <th>avg_insurance_premium</th>\n",
              "      <th>collision_count</th>\n",
              "    </tr>\n",
              "  </thead>\n",
              "  <tbody>\n",
              "    <tr>\n",
              "      <th>0</th>\n",
              "      <td>reduced width</td>\n",
              "      <td>39.680441</td>\n",
              "      <td>1357</td>\n",
              "    </tr>\n",
              "    <tr>\n",
              "      <th>1</th>\n",
              "      <td>obstruction</td>\n",
              "      <td>38.538947</td>\n",
              "      <td>4037</td>\n",
              "    </tr>\n",
              "    <tr>\n",
              "      <th>2</th>\n",
              "      <td>holes</td>\n",
              "      <td>38.184268</td>\n",
              "      <td>4628</td>\n",
              "    </tr>\n",
              "    <tr>\n",
              "      <th>3</th>\n",
              "      <td>construction</td>\n",
              "      <td>37.979980</td>\n",
              "      <td>17923</td>\n",
              "    </tr>\n",
              "    <tr>\n",
              "      <th>4</th>\n",
              "      <td>other</td>\n",
              "      <td>37.797822</td>\n",
              "      <td>4516</td>\n",
              "    </tr>\n",
              "    <tr>\n",
              "      <th>5</th>\n",
              "      <td>loose material</td>\n",
              "      <td>37.056024</td>\n",
              "      <td>2215</td>\n",
              "    </tr>\n",
              "    <tr>\n",
              "      <th>6</th>\n",
              "      <td>normal</td>\n",
              "      <td>36.965309</td>\n",
              "      <td>1243553</td>\n",
              "    </tr>\n",
              "    <tr>\n",
              "      <th>7</th>\n",
              "      <td>flooded</td>\n",
              "      <td>33.809926</td>\n",
              "      <td>1022</td>\n",
              "    </tr>\n",
              "  </tbody>\n",
              "</table>\n",
              "</div>"
            ],
            "text/plain": [
              "  road_condition_1  avg_insurance_premium  collision_count\n",
              "0    reduced width              39.680441             1357\n",
              "1      obstruction              38.538947             4037\n",
              "2            holes              38.184268             4628\n",
              "3     construction              37.979980            17923\n",
              "4            other              37.797822             4516\n",
              "5   loose material              37.056024             2215\n",
              "6           normal              36.965309          1243553\n",
              "7          flooded              33.809926             1022"
            ]
          },
          "execution_count": 36,
          "metadata": {},
          "output_type": "execute_result"
        }
      ],
      "source": [
        "tmp"
      ]
    },
    {
      "cell_type": "code",
      "execution_count": null,
      "id": "0b2cb436",
      "metadata": {
        "id": "0b2cb436",
        "outputId": "e08193ed-ff8e-4804-fe57-09d5e101a79f"
      },
      "outputs": [
        {
          "data": {
            "image/png": "[encoded data removed]",
            "text/plain": [
              "<Figure size 432x288 with 1 Axes>"
            ]
          },
          "metadata": {
            "needs_background": "light"
          },
          "output_type": "display_data"
        }
      ],
      "source": [
        "# создание графика\n",
        "fig, ax = plt.subplots()\n",
        "ax.bar(tmp['road_condition_1'], tmp['collision_count'], align='center')\n",
        "\n",
        "# добавление заголовка и меток осей\n",
        "ax.set_title('Count of fault by road condition')\n",
        "ax.set_xticks(tmp['road_condition_1'])\n",
        "ax.set_xticklabels(tmp['road_condition_1'], rotation=45)\n",
        "ax.set_xlabel('road_condition')\n",
        "ax.set_ylabel('collision count')\n",
        "\n",
        "# отображение графика\n",
        "plt.show()"
      ]
    },
    {
      "cell_type": "code",
      "execution_count": null,
      "id": "5d6c6d47",
      "metadata": {
        "id": "5d6c6d47",
        "outputId": "e0543ddc-13d2-4fc9-fd3b-f7409354dbf1"
      },
      "outputs": [
        {
          "data": {
            "image/png": "[encoded data removed]",
            "text/plain": [
              "<Figure size 432x288 with 1 Axes>"
            ]
          },
          "metadata": {
            "needs_background": "light"
          },
          "output_type": "display_data"
        }
      ],
      "source": [
        "# создание графика\n",
        "fig, ax = plt.subplots()\n",
        "ax.bar(tmp['road_condition_1'], tmp['avg_insurance_premium'], align='center')\n",
        "\n",
        "# добавление заголовка и меток осей\n",
        "ax.set_title('avg insurance premium by road condition')\n",
        "ax.set_xticks(tmp['road_condition_1'])\n",
        "ax.set_xticklabels(tmp['road_condition_1'], rotation=45)\n",
        "ax.set_xlabel('road_condition')\n",
        "ax.set_ylabel('avg insurance premium')\n",
        "\n",
        "# отображение графика\n",
        "plt.show()"
      ]
    },
    {
      "cell_type": "markdown",
      "id": "764fbf93",
      "metadata": {
        "id": "764fbf93"
      },
      "source": [
        "Вывод:\n",
        "    \n",
        "Можем сделать вывод, что в основном премия относительно качества поверхности не сильно отличается, однако количество ДТП набиольшее на нормальной поверхности - 1_243_553. Наверно, стоит оставить данный признак"
      ]
    },
    {
      "cell_type": "markdown",
      "id": "b5bc9b0a",
      "metadata": {
        "id": "b5bc9b0a"
      },
      "source": [
        "## Процент ДТП было совершенно с телефоном (cellphone_in_use=1) в руках от общего"
      ]
    },
    {
      "cell_type": "code",
      "execution_count": null,
      "id": "1de6bade",
      "metadata": {
        "id": "1de6bade"
      },
      "outputs": [],
      "source": [
        "tmp = run_query(\"\"\"SELECT cellphone_in_use AS cellphone_use, ROUND((COUNT(*) * 100.0)/(SELECT COUNT(*) FROM parties AS p JOIN collisions AS c ON c.case_id = p.case_id WHERE at_fault = 1 AND cellphone_in_use IS NOT NULL),1) AS percentage\n",
        "FROM parties AS p JOIN collisions AS c ON c.case_id = p.case_id\n",
        "WHERE at_fault = 1 AND cellphone_in_use IS NOT NULL\n",
        "GROUP BY cellphone_in_use\n",
        "\"\"\")"
      ]
    },
    {
      "cell_type": "code",
      "execution_count": null,
      "id": "a9f03444",
      "metadata": {
        "id": "a9f03444",
        "outputId": "e20241b3-aeb3-4397-e638-addf041c26a9"
      },
      "outputs": [
        {
          "data": {
            "text/html": [
              "<div>\n",
              "<style scoped>\n",
              "    .dataframe tbody tr th:only-of-type {\n",
              "        vertical-align: middle;\n",
              "    }\n",
              "\n",
              "    .dataframe tbody tr th {\n",
              "        vertical-align: top;\n",
              "    }\n",
              "\n",
              "    .dataframe thead th {\n",
              "        text-align: right;\n",
              "    }\n",
              "</style>\n",
              "<table border=\"1\" class=\"dataframe\">\n",
              "  <thead>\n",
              "    <tr style=\"text-align: right;\">\n",
              "      <th></th>\n",
              "      <th>cellphone_use</th>\n",
              "      <th>percentage</th>\n",
              "    </tr>\n",
              "  </thead>\n",
              "  <tbody>\n",
              "    <tr>\n",
              "      <th>0</th>\n",
              "      <td>0</td>\n",
              "      <td>97.7</td>\n",
              "    </tr>\n",
              "    <tr>\n",
              "      <th>1</th>\n",
              "      <td>1</td>\n",
              "      <td>2.3</td>\n",
              "    </tr>\n",
              "  </tbody>\n",
              "</table>\n",
              "</div>"
            ],
            "text/plain": [
              "   cellphone_use  percentage\n",
              "0              0        97.7\n",
              "1              1         2.3"
            ]
          },
          "execution_count": 40,
          "metadata": {},
          "output_type": "execute_result"
        }
      ],
      "source": [
        "tmp"
      ]
    },
    {
      "cell_type": "code",
      "execution_count": null,
      "id": "3433f2ac",
      "metadata": {
        "id": "3433f2ac",
        "outputId": "347a1ecd-8b5d-4184-fa09-f32bd830d3fd"
      },
      "outputs": [
        {
          "data": {
            "image/png": "[encoded data removed]",
            "text/plain": [
              "<Figure size 432x288 with 1 Axes>"
            ]
          },
          "metadata": {
            "needs_background": "light"
          },
          "output_type": "display_data"
        }
      ],
      "source": [
        "# создание графика\n",
        "fig, ax = plt.subplots()\n",
        "ax.bar(tmp['cellphone_use'], tmp['percentage'], align='center', color=['green', 'red'])\n",
        "\n",
        "# добавление заголовка и меток осей\n",
        "ax.set_title('Percentage of Cellphone Use')\n",
        "ax.set_xticks(tmp['cellphone_use'])\n",
        "ax.set_xticklabels(tmp['cellphone_use'])\n",
        "ax.set_xlabel('Cellphone Use')\n",
        "ax.set_ylabel('percentage')\n",
        "\n",
        "# отображение графика\n",
        "plt.show()"
      ]
    },
    {
      "cell_type": "markdown",
      "id": "27f05121",
      "metadata": {
        "id": "27f05121"
      },
      "source": [
        "**Вывод:**\n",
        "\n",
        "Телефон был использован в 2.3% ДТП"
      ]
    },
    {
      "cell_type": "markdown",
      "id": "acaac412",
      "metadata": {
        "id": "acaac412"
      },
      "source": [
        "## Процент ДТП по каждому физическому недугу (party_drug_physical)"
      ]
    },
    {
      "cell_type": "code",
      "execution_count": null,
      "id": "103eba87",
      "metadata": {
        "id": "103eba87"
      },
      "outputs": [],
      "source": [
        "tmp = run_query(\"\"\"SELECT party_drug_physical AS physical_condition,\n",
        "ROUND((COUNT(*) * 100.0)/(\n",
        "SELECT COUNT(*)  FROM parties AS p JOIN collisions AS c ON c.case_id = p.case_id WHERE at_fault = 1 AND\n",
        "party_drug_physical IS NOT NULL AND\n",
        "(party_drug_physical NOT IN  ('G','not applicable'))),1) AS percentage\n",
        "FROM parties AS p JOIN collisions AS c ON c.case_id = p.case_id\n",
        "WHERE (at_fault = 1) AND\n",
        "(party_drug_physical IS NOT NULL) AND\n",
        "(party_drug_physical NOT IN  ('G','not applicable'))\n",
        "GROUP BY party_drug_physical\n",
        "ORDER BY 2\n",
        "\"\"\")"
      ]
    },
    {
      "cell_type": "code",
      "execution_count": null,
      "id": "2f0d2f01",
      "metadata": {
        "id": "2f0d2f01",
        "outputId": "04c12fa0-90ee-4d4e-fe5b-7f3d292d1400"
      },
      "outputs": [
        {
          "data": {
            "text/html": [
              "<div>\n",
              "<style scoped>\n",
              "    .dataframe tbody tr th:only-of-type {\n",
              "        vertical-align: middle;\n",
              "    }\n",
              "\n",
              "    .dataframe tbody tr th {\n",
              "        vertical-align: top;\n",
              "    }\n",
              "\n",
              "    .dataframe thead th {\n",
              "        text-align: right;\n",
              "    }\n",
              "</style>\n",
              "<table border=\"1\" class=\"dataframe\">\n",
              "  <thead>\n",
              "    <tr style=\"text-align: right;\">\n",
              "      <th></th>\n",
              "      <th>physical_condition</th>\n",
              "      <th>percentage</th>\n",
              "    </tr>\n",
              "  </thead>\n",
              "  <tbody>\n",
              "    <tr>\n",
              "      <th>0</th>\n",
              "      <td>impairment - physical</td>\n",
              "      <td>7.2</td>\n",
              "    </tr>\n",
              "    <tr>\n",
              "      <th>1</th>\n",
              "      <td>sleepy/fatigued</td>\n",
              "      <td>46.2</td>\n",
              "    </tr>\n",
              "    <tr>\n",
              "      <th>2</th>\n",
              "      <td>under drug influence</td>\n",
              "      <td>46.6</td>\n",
              "    </tr>\n",
              "  </tbody>\n",
              "</table>\n",
              "</div>"
            ],
            "text/plain": [
              "      physical_condition  percentage\n",
              "0  impairment - physical         7.2\n",
              "1        sleepy/fatigued        46.2\n",
              "2   under drug influence        46.6"
            ]
          },
          "execution_count": 43,
          "metadata": {},
          "output_type": "execute_result"
        }
      ],
      "source": [
        "tmp"
      ]
    },
    {
      "cell_type": "code",
      "execution_count": null,
      "id": "ecde29c7",
      "metadata": {
        "scrolled": false,
        "id": "ecde29c7",
        "outputId": "36695019-bd16-47a5-8f88-38faf85db975"
      },
      "outputs": [
        {
          "data": {
            "image/png": "[encoded data removed]",
            "text/plain": [
              "<Figure size 432x288 with 1 Axes>"
            ]
          },
          "metadata": {
            "needs_background": "light"
          },
          "output_type": "display_data"
        }
      ],
      "source": [
        "# создание графика\n",
        "fig, ax = plt.subplots()\n",
        "ax.bar(tmp['physical_condition'], tmp['percentage'], align='center')\n",
        "\n",
        "# добавление заголовка и меток осей\n",
        "ax.set_title('Percentage of physical_condition')\n",
        "ax.set_xticks(tmp['physical_condition'])\n",
        "ax.set_xticklabels(tmp['physical_condition'], rotation=45)\n",
        "ax.set_xlabel('physical condition')\n",
        "ax.set_ylabel('percentage')\n",
        "\n",
        "# отображение графика\n",
        "plt.show()"
      ]
    },
    {
      "cell_type": "markdown",
      "id": "0ef6fe81",
      "metadata": {
        "id": "0ef6fe81"
      },
      "source": [
        "**Вывод:**\n",
        "\n",
        "Если человек имеет какое-либо ухудшение состояние, то процент ДТП повышается."
      ]
    },
    {
      "cell_type": "code",
      "execution_count": null,
      "id": "e3ceaa0d",
      "metadata": {
        "id": "e3ceaa0d"
      },
      "outputs": [],
      "source": [
        "tmp = run_query(\"\"\"SELECT party_sobriety AS sobriety,\n",
        "ROUND((COUNT(*) * 100.0)/(\n",
        "SELECT COUNT(*)\n",
        "FROM parties AS p JOIN collisions AS c\n",
        "ON c.case_id = p.case_id\n",
        "WHERE at_fault = 1 AND\n",
        "party_sobriety IS NOT NULL AND\n",
        "party_sobriety NOT LIKE  ('not applicable')),1) AS percentage\n",
        "FROM parties AS p JOIN collisions AS c ON c.case_id = p.case_id\n",
        "WHERE (at_fault = 1) AND\n",
        "(party_sobriety IS NOT NULL) AND\n",
        "(party_sobriety NOT LIKE  ('not applicable'))\n",
        "GROUP BY party_sobriety\n",
        "ORDER BY 2\n",
        "\"\"\")"
      ]
    },
    {
      "cell_type": "code",
      "execution_count": null,
      "id": "889981cf",
      "metadata": {
        "id": "889981cf",
        "outputId": "202effda-86f5-4476-b5d5-6ecf318c537c"
      },
      "outputs": [
        {
          "data": {
            "text/html": [
              "<div>\n",
              "<style scoped>\n",
              "    .dataframe tbody tr th:only-of-type {\n",
              "        vertical-align: middle;\n",
              "    }\n",
              "\n",
              "    .dataframe tbody tr th {\n",
              "        vertical-align: top;\n",
              "    }\n",
              "\n",
              "    .dataframe thead th {\n",
              "        text-align: right;\n",
              "    }\n",
              "</style>\n",
              "<table border=\"1\" class=\"dataframe\">\n",
              "  <thead>\n",
              "    <tr style=\"text-align: right;\">\n",
              "      <th></th>\n",
              "      <th>sobriety</th>\n",
              "      <th>percentage</th>\n",
              "    </tr>\n",
              "  </thead>\n",
              "  <tbody>\n",
              "    <tr>\n",
              "      <th>0</th>\n",
              "      <td>had been drinking, not under influence</td>\n",
              "      <td>1.0</td>\n",
              "    </tr>\n",
              "    <tr>\n",
              "      <th>1</th>\n",
              "      <td>had been drinking, impairment unknown</td>\n",
              "      <td>1.4</td>\n",
              "    </tr>\n",
              "    <tr>\n",
              "      <th>2</th>\n",
              "      <td>had been drinking, under influence</td>\n",
              "      <td>8.5</td>\n",
              "    </tr>\n",
              "    <tr>\n",
              "      <th>3</th>\n",
              "      <td>impairment unknown</td>\n",
              "      <td>14.7</td>\n",
              "    </tr>\n",
              "    <tr>\n",
              "      <th>4</th>\n",
              "      <td>had not been drinking</td>\n",
              "      <td>74.5</td>\n",
              "    </tr>\n",
              "  </tbody>\n",
              "</table>\n",
              "</div>"
            ],
            "text/plain": [
              "                                 sobriety  percentage\n",
              "0  had been drinking, not under influence         1.0\n",
              "1   had been drinking, impairment unknown         1.4\n",
              "2      had been drinking, under influence         8.5\n",
              "3                      impairment unknown        14.7\n",
              "4                   had not been drinking        74.5"
            ]
          },
          "execution_count": 46,
          "metadata": {},
          "output_type": "execute_result"
        }
      ],
      "source": [
        "tmp"
      ]
    },
    {
      "cell_type": "code",
      "execution_count": null,
      "id": "74f4928b",
      "metadata": {
        "id": "74f4928b",
        "outputId": "2c50bb1a-b0dc-4274-c94e-288d5eb890b2"
      },
      "outputs": [
        {
          "data": {
            "image/png": "[encoded data removed]",
            "text/plain": [
              "<Figure size 432x288 with 1 Axes>"
            ]
          },
          "metadata": {
            "needs_background": "light"
          },
          "output_type": "display_data"
        }
      ],
      "source": [
        "# создание графика\n",
        "fig, ax = plt.subplots()\n",
        "ax.bar(tmp['sobriety'], tmp['percentage'], align='center')\n",
        "\n",
        "# добавление заголовка и меток осей\n",
        "ax.set_title('Percentage of sobriety')\n",
        "ax.set_xticks(tmp['sobriety'])\n",
        "ax.set_xticklabels(tmp['sobriety'], rotation=75)\n",
        "ax.set_xlabel('sobriety')\n",
        "ax.set_ylabel('percentage')\n",
        "\n",
        "# отображение графика\n",
        "plt.show()"
      ]
    },
    {
      "cell_type": "markdown",
      "id": "7ae82756",
      "metadata": {
        "id": "7ae82756"
      },
      "source": [
        "**Вывод:**\n",
        "\n",
        "Больше всего ДТП было не по вине алкоголя."
      ]
    },
    {
      "cell_type": "markdown",
      "id": "1364208a",
      "metadata": {
        "id": "1364208a"
      },
      "source": [
        "## Процент ДТП по типам автомобилей\n"
      ]
    },
    {
      "cell_type": "code",
      "execution_count": null,
      "id": "06d495d4",
      "metadata": {
        "id": "06d495d4"
      },
      "outputs": [],
      "source": [
        "tmp = run_query(\"\"\"SELECT vehicle_type AS vehicle_type,\n",
        "ROUND((COUNT(*) * 100.0)/(\n",
        "SELECT COUNT(*)\n",
        "FROM parties AS p JOIN collisions AS c\n",
        "ON c.case_id = p.case_id JOIN vehicles AS v\n",
        "ON p.case_id = v.case_id\n",
        "WHERE at_fault = 1 AND\n",
        "vehicle_type IS NOT NULL),1) AS percentage\n",
        "FROM parties AS p JOIN collisions AS c\n",
        "ON c.case_id = p.case_id JOIN vehicles AS v\n",
        "ON p.case_id = v.case_id\n",
        "WHERE (at_fault = 1) AND\n",
        "(vehicle_type IS NOT NULL)\n",
        "GROUP BY vehicle_type\n",
        "ORDER BY 2\n",
        "\"\"\")"
      ]
    },
    {
      "cell_type": "code",
      "execution_count": null,
      "id": "c5d06805",
      "metadata": {
        "scrolled": true,
        "id": "c5d06805",
        "outputId": "c2e7ab10-b2e1-45be-847c-78faaf3503e7"
      },
      "outputs": [
        {
          "data": {
            "text/html": [
              "<div>\n",
              "<style scoped>\n",
              "    .dataframe tbody tr th:only-of-type {\n",
              "        vertical-align: middle;\n",
              "    }\n",
              "\n",
              "    .dataframe tbody tr th {\n",
              "        vertical-align: top;\n",
              "    }\n",
              "\n",
              "    .dataframe thead th {\n",
              "        text-align: right;\n",
              "    }\n",
              "</style>\n",
              "<table border=\"1\" class=\"dataframe\">\n",
              "  <thead>\n",
              "    <tr style=\"text-align: right;\">\n",
              "      <th></th>\n",
              "      <th>vehicle_type</th>\n",
              "      <th>percentage</th>\n",
              "    </tr>\n",
              "  </thead>\n",
              "  <tbody>\n",
              "    <tr>\n",
              "      <th>0</th>\n",
              "      <td>other</td>\n",
              "      <td>0.1</td>\n",
              "    </tr>\n",
              "    <tr>\n",
              "      <th>1</th>\n",
              "      <td>minivan</td>\n",
              "      <td>4.0</td>\n",
              "    </tr>\n",
              "    <tr>\n",
              "      <th>2</th>\n",
              "      <td>hatchback</td>\n",
              "      <td>4.3</td>\n",
              "    </tr>\n",
              "    <tr>\n",
              "      <th>3</th>\n",
              "      <td>coupe</td>\n",
              "      <td>43.7</td>\n",
              "    </tr>\n",
              "    <tr>\n",
              "      <th>4</th>\n",
              "      <td>sedan</td>\n",
              "      <td>47.9</td>\n",
              "    </tr>\n",
              "  </tbody>\n",
              "</table>\n",
              "</div>"
            ],
            "text/plain": [
              "  vehicle_type  percentage\n",
              "0        other         0.1\n",
              "1      minivan         4.0\n",
              "2    hatchback         4.3\n",
              "3        coupe        43.7\n",
              "4        sedan        47.9"
            ]
          },
          "execution_count": 49,
          "metadata": {},
          "output_type": "execute_result"
        }
      ],
      "source": [
        "tmp"
      ]
    },
    {
      "cell_type": "code",
      "execution_count": null,
      "id": "5d4c6d06",
      "metadata": {
        "id": "5d4c6d06",
        "outputId": "860a2acc-584e-40ed-e5fd-16a264efcaae"
      },
      "outputs": [
        {
          "data": {
            "image/png": "[encoded data removed]",
            "text/plain": [
              "<Figure size 432x288 with 1 Axes>"
            ]
          },
          "metadata": {
            "needs_background": "light"
          },
          "output_type": "display_data"
        }
      ],
      "source": [
        "# создание графика\n",
        "fig, ax = plt.subplots()\n",
        "ax.bar(tmp['vehicle_type'], tmp['percentage'], align='center')\n",
        "\n",
        "# добавление заголовка и меток осей\n",
        "ax.set_title('Percentage of vehicle_type')\n",
        "ax.set_xticks(tmp['vehicle_type'])\n",
        "ax.set_xticklabels(tmp['vehicle_type'], rotation=75)\n",
        "ax.set_xlabel('vehicle type')\n",
        "ax.set_ylabel('percentage')\n",
        "\n",
        "# отображение графика\n",
        "plt.show()"
      ]
    },
    {
      "cell_type": "markdown",
      "id": "f176e599",
      "metadata": {
        "id": "f176e599"
      },
      "source": [
        "**Вывод:**\n",
        "\n",
        "Купе и Седан явлюятся наиболее частыми виновниками ДТП"
      ]
    },
    {
      "cell_type": "markdown",
      "id": "b97f55ae",
      "metadata": {
        "id": "b97f55ae"
      },
      "source": [
        "## Процент ДТП по типам КПП"
      ]
    },
    {
      "cell_type": "code",
      "execution_count": null,
      "id": "cae9b669",
      "metadata": {
        "id": "cae9b669"
      },
      "outputs": [],
      "source": [
        "tmp = run_query(\"\"\"SELECT vehicle_transmission AS vehicle_transmission,\n",
        "ROUND((COUNT(*) * 100.0)/(\n",
        "SELECT COUNT(*)\n",
        "FROM parties AS p JOIN collisions AS c\n",
        "ON c.case_id = p.case_id JOIN vehicles AS v\n",
        "ON p.case_id = v.case_id\n",
        "WHERE at_fault = 1 AND\n",
        "vehicle_transmission IS NOT NULL),1) AS percentage\n",
        "FROM parties AS p JOIN collisions AS c\n",
        "ON c.case_id = p.case_id JOIN vehicles AS v\n",
        "ON p.case_id = v.case_id\n",
        "WHERE (at_fault = 1) AND\n",
        "(vehicle_transmission IS NOT NULL)\n",
        "GROUP BY vehicle_transmission\n",
        "ORDER BY 2\n",
        "\"\"\")"
      ]
    },
    {
      "cell_type": "code",
      "execution_count": null,
      "id": "77a7f71b",
      "metadata": {
        "id": "77a7f71b",
        "outputId": "a5a10d47-5ba0-4e2b-d5be-bd7d40333c4f"
      },
      "outputs": [
        {
          "data": {
            "text/html": [
              "<div>\n",
              "<style scoped>\n",
              "    .dataframe tbody tr th:only-of-type {\n",
              "        vertical-align: middle;\n",
              "    }\n",
              "\n",
              "    .dataframe tbody tr th {\n",
              "        vertical-align: top;\n",
              "    }\n",
              "\n",
              "    .dataframe thead th {\n",
              "        text-align: right;\n",
              "    }\n",
              "</style>\n",
              "<table border=\"1\" class=\"dataframe\">\n",
              "  <thead>\n",
              "    <tr style=\"text-align: right;\">\n",
              "      <th></th>\n",
              "      <th>vehicle_transmission</th>\n",
              "      <th>percentage</th>\n",
              "    </tr>\n",
              "  </thead>\n",
              "  <tbody>\n",
              "    <tr>\n",
              "      <th>0</th>\n",
              "      <td>manual</td>\n",
              "      <td>49.6</td>\n",
              "    </tr>\n",
              "    <tr>\n",
              "      <th>1</th>\n",
              "      <td>auto</td>\n",
              "      <td>50.4</td>\n",
              "    </tr>\n",
              "  </tbody>\n",
              "</table>\n",
              "</div>"
            ],
            "text/plain": [
              "  vehicle_transmission  percentage\n",
              "0               manual        49.6\n",
              "1                 auto        50.4"
            ]
          },
          "execution_count": 52,
          "metadata": {},
          "output_type": "execute_result"
        }
      ],
      "source": [
        "tmp"
      ]
    },
    {
      "cell_type": "code",
      "execution_count": null,
      "id": "3da433b5",
      "metadata": {
        "scrolled": true,
        "id": "3da433b5",
        "outputId": "5f5f121f-6c84-49e1-ebb9-21118cc7f589"
      },
      "outputs": [
        {
          "data": {
            "image/png": "[encoded data removed]",
            "text/plain": [
              "<Figure size 432x288 with 1 Axes>"
            ]
          },
          "metadata": {
            "needs_background": "light"
          },
          "output_type": "display_data"
        }
      ],
      "source": [
        "# создание графика\n",
        "fig, ax = plt.subplots()\n",
        "ax.bar(tmp['vehicle_transmission'], tmp['percentage'], align='center')\n",
        "\n",
        "# добавление заголовка и меток осей\n",
        "ax.set_title('Percentage of vehicle transmission')\n",
        "ax.set_xticks(tmp['vehicle_transmission'])\n",
        "ax.set_xticklabels(tmp['vehicle_transmission'], rotation=75)\n",
        "ax.set_xlabel('vehicle_transmission')\n",
        "ax.set_ylabel('percentage')\n",
        "\n",
        "# отображение графика\n",
        "plt.show()"
      ]
    },
    {
      "cell_type": "markdown",
      "id": "de65c442",
      "metadata": {
        "id": "de65c442"
      },
      "source": [
        "**Вывод:**"
      ]
    },
    {
      "cell_type": "markdown",
      "id": "353918f7",
      "metadata": {
        "id": "353918f7"
      },
      "source": [
        "## Процент ДТП по направлению"
      ]
    },
    {
      "cell_type": "code",
      "execution_count": null,
      "id": "11316183",
      "metadata": {
        "id": "11316183"
      },
      "outputs": [],
      "source": [
        "tmp = run_query(\"\"\"SELECT direction AS direction,\n",
        "ROUND((COUNT(*) * 100.0)/(\n",
        "SELECT COUNT(*)\n",
        "FROM parties AS p JOIN collisions AS c\n",
        "ON c.case_id = p.case_id\n",
        "WHERE at_fault = 1 AND\n",
        "direction IS NOT NULL),1) AS percentage\n",
        "FROM parties AS p JOIN collisions AS c\n",
        "ON c.case_id = p.case_id\n",
        "WHERE (at_fault = 1) AND\n",
        "(direction IS NOT NULL)\n",
        "GROUP BY direction\n",
        "ORDER BY 2\n",
        "\"\"\")"
      ]
    },
    {
      "cell_type": "code",
      "execution_count": null,
      "id": "f05aae6f",
      "metadata": {
        "id": "f05aae6f",
        "outputId": "734b5cdd-3679-4486-fd5b-377c24f28377"
      },
      "outputs": [
        {
          "data": {
            "text/html": [
              "<div>\n",
              "<style scoped>\n",
              "    .dataframe tbody tr th:only-of-type {\n",
              "        vertical-align: middle;\n",
              "    }\n",
              "\n",
              "    .dataframe tbody tr th {\n",
              "        vertical-align: top;\n",
              "    }\n",
              "\n",
              "    .dataframe thead th {\n",
              "        text-align: right;\n",
              "    }\n",
              "</style>\n",
              "<table border=\"1\" class=\"dataframe\">\n",
              "  <thead>\n",
              "    <tr style=\"text-align: right;\">\n",
              "      <th></th>\n",
              "      <th>direction</th>\n",
              "      <th>percentage</th>\n",
              "    </tr>\n",
              "  </thead>\n",
              "  <tbody>\n",
              "    <tr>\n",
              "      <th>0</th>\n",
              "      <td>west</td>\n",
              "      <td>22.6</td>\n",
              "    </tr>\n",
              "    <tr>\n",
              "      <th>1</th>\n",
              "      <td>east</td>\n",
              "      <td>22.7</td>\n",
              "    </tr>\n",
              "    <tr>\n",
              "      <th>2</th>\n",
              "      <td>north</td>\n",
              "      <td>27.2</td>\n",
              "    </tr>\n",
              "    <tr>\n",
              "      <th>3</th>\n",
              "      <td>south</td>\n",
              "      <td>27.4</td>\n",
              "    </tr>\n",
              "  </tbody>\n",
              "</table>\n",
              "</div>"
            ],
            "text/plain": [
              "  direction  percentage\n",
              "0      west        22.6\n",
              "1      east        22.7\n",
              "2     north        27.2\n",
              "3     south        27.4"
            ]
          },
          "execution_count": 55,
          "metadata": {},
          "output_type": "execute_result"
        }
      ],
      "source": [
        "tmp"
      ]
    },
    {
      "cell_type": "code",
      "execution_count": null,
      "id": "2e8ae793",
      "metadata": {
        "id": "2e8ae793",
        "outputId": "fa00c6ca-5687-4be0-ea9a-32cc3efc239b"
      },
      "outputs": [
        {
          "data": {
            "image/png": "[encoded data removed]",
            "text/plain": [
              "<Figure size 432x288 with 1 Axes>"
            ]
          },
          "metadata": {
            "needs_background": "light"
          },
          "output_type": "display_data"
        }
      ],
      "source": [
        "# создание графика\n",
        "fig, ax = plt.subplots()\n",
        "ax.bar(tmp['direction'], tmp['percentage'], align='center')\n",
        "\n",
        "# добавление заголовка и меток осей\n",
        "ax.set_title('Percentage of direction')\n",
        "ax.set_xticks(tmp['direction'])\n",
        "ax.set_xticklabels(tmp['direction'], rotation=75)\n",
        "ax.set_xlabel('direction')\n",
        "ax.set_ylabel('percentage')\n",
        "\n",
        "# отображение графика\n",
        "plt.show()"
      ]
    },
    {
      "cell_type": "markdown",
      "id": "e049f886",
      "metadata": {
        "id": "e049f886"
      },
      "source": [
        "**Вывод:**\n",
        "\n",
        "На Южном и Северном направлении количество ДТП больше, чем на боковых сторонах света."
      ]
    },
    {
      "cell_type": "markdown",
      "id": "e2306f27",
      "metadata": {
        "id": "e2306f27"
      },
      "source": [
        "## Процент ДТП по нарушениям"
      ]
    },
    {
      "cell_type": "code",
      "execution_count": null,
      "id": "a75b3f8b",
      "metadata": {
        "id": "a75b3f8b"
      },
      "outputs": [],
      "source": [
        "tmp = run_query(\"\"\"SELECT pcf_violation_category AS pcf_violation_category,\n",
        "ROUND((COUNT(*) * 100.0)/(\n",
        "SELECT COUNT(*)\n",
        "FROM parties AS p JOIN collisions AS c\n",
        "ON c.case_id = p.case_id\n",
        "WHERE at_fault = 1 AND\n",
        "pcf_violation_category IS NOT NULL),1) AS percentage\n",
        "FROM parties AS p JOIN collisions AS c\n",
        "ON c.case_id = p.case_id\n",
        "WHERE (at_fault = 1) AND\n",
        "(pcf_violation_category IS NOT NULL)\n",
        "GROUP BY pcf_violation_category\n",
        "ORDER BY 2\n",
        "\"\"\")"
      ]
    },
    {
      "cell_type": "code",
      "execution_count": null,
      "id": "2be5ff03",
      "metadata": {
        "id": "2be5ff03",
        "outputId": "2eede43e-37f1-4980-df1a-50c30a635970"
      },
      "outputs": [
        {
          "data": {
            "text/html": [
              "<div>\n",
              "<style scoped>\n",
              "    .dataframe tbody tr th:only-of-type {\n",
              "        vertical-align: middle;\n",
              "    }\n",
              "\n",
              "    .dataframe tbody tr th {\n",
              "        vertical-align: top;\n",
              "    }\n",
              "\n",
              "    .dataframe thead th {\n",
              "        text-align: right;\n",
              "    }\n",
              "</style>\n",
              "<table border=\"1\" class=\"dataframe\">\n",
              "  <thead>\n",
              "    <tr style=\"text-align: right;\">\n",
              "      <th></th>\n",
              "      <th>pcf_violation_category</th>\n",
              "      <th>percentage</th>\n",
              "    </tr>\n",
              "  </thead>\n",
              "  <tbody>\n",
              "    <tr>\n",
              "      <th>0</th>\n",
              "      <td>lights</td>\n",
              "      <td>0.0</td>\n",
              "    </tr>\n",
              "    <tr>\n",
              "      <th>1</th>\n",
              "      <td>brakes</td>\n",
              "      <td>0.0</td>\n",
              "    </tr>\n",
              "    <tr>\n",
              "      <th>2</th>\n",
              "      <td>fell asleep</td>\n",
              "      <td>0.0</td>\n",
              "    </tr>\n",
              "    <tr>\n",
              "      <th>3</th>\n",
              "      <td>pedestrian dui</td>\n",
              "      <td>0.0</td>\n",
              "    </tr>\n",
              "    <tr>\n",
              "      <th>4</th>\n",
              "      <td>other equipment</td>\n",
              "      <td>0.1</td>\n",
              "    </tr>\n",
              "    <tr>\n",
              "      <th>5</th>\n",
              "      <td>hazardous parking</td>\n",
              "      <td>0.1</td>\n",
              "    </tr>\n",
              "    <tr>\n",
              "      <th>6</th>\n",
              "      <td>impeding traffic</td>\n",
              "      <td>0.1</td>\n",
              "    </tr>\n",
              "    <tr>\n",
              "      <th>7</th>\n",
              "      <td>unknown</td>\n",
              "      <td>0.2</td>\n",
              "    </tr>\n",
              "    <tr>\n",
              "      <th>8</th>\n",
              "      <td>other improper driving</td>\n",
              "      <td>0.5</td>\n",
              "    </tr>\n",
              "    <tr>\n",
              "      <th>9</th>\n",
              "      <td>improper passing</td>\n",
              "      <td>0.9</td>\n",
              "    </tr>\n",
              "    <tr>\n",
              "      <th>10</th>\n",
              "      <td>other hazardous violation</td>\n",
              "      <td>1.1</td>\n",
              "    </tr>\n",
              "    <tr>\n",
              "      <th>11</th>\n",
              "      <td>pedestrian violation</td>\n",
              "      <td>1.2</td>\n",
              "    </tr>\n",
              "    <tr>\n",
              "      <th>12</th>\n",
              "      <td>pedestrian right of way</td>\n",
              "      <td>1.2</td>\n",
              "    </tr>\n",
              "    <tr>\n",
              "      <th>13</th>\n",
              "      <td>following too closely</td>\n",
              "      <td>2.3</td>\n",
              "    </tr>\n",
              "    <tr>\n",
              "      <th>14</th>\n",
              "      <td>wrong side of road</td>\n",
              "      <td>2.6</td>\n",
              "    </tr>\n",
              "    <tr>\n",
              "      <th>15</th>\n",
              "      <td>unsafe starting or backing</td>\n",
              "      <td>4.3</td>\n",
              "    </tr>\n",
              "    <tr>\n",
              "      <th>16</th>\n",
              "      <td>traffic signals and signs</td>\n",
              "      <td>5.2</td>\n",
              "    </tr>\n",
              "    <tr>\n",
              "      <th>17</th>\n",
              "      <td>unsafe lane change</td>\n",
              "      <td>6.9</td>\n",
              "    </tr>\n",
              "    <tr>\n",
              "      <th>18</th>\n",
              "      <td>dui</td>\n",
              "      <td>8.6</td>\n",
              "    </tr>\n",
              "    <tr>\n",
              "      <th>19</th>\n",
              "      <td>automobile right of way</td>\n",
              "      <td>12.2</td>\n",
              "    </tr>\n",
              "    <tr>\n",
              "      <th>20</th>\n",
              "      <td>improper turning</td>\n",
              "      <td>18.4</td>\n",
              "    </tr>\n",
              "    <tr>\n",
              "      <th>21</th>\n",
              "      <td>speeding</td>\n",
              "      <td>34.1</td>\n",
              "    </tr>\n",
              "  </tbody>\n",
              "</table>\n",
              "</div>"
            ],
            "text/plain": [
              "        pcf_violation_category  percentage\n",
              "0                       lights         0.0\n",
              "1                       brakes         0.0\n",
              "2                  fell asleep         0.0\n",
              "3               pedestrian dui         0.0\n",
              "4              other equipment         0.1\n",
              "5            hazardous parking         0.1\n",
              "6             impeding traffic         0.1\n",
              "7                      unknown         0.2\n",
              "8       other improper driving         0.5\n",
              "9             improper passing         0.9\n",
              "10   other hazardous violation         1.1\n",
              "11        pedestrian violation         1.2\n",
              "12     pedestrian right of way         1.2\n",
              "13       following too closely         2.3\n",
              "14          wrong side of road         2.6\n",
              "15  unsafe starting or backing         4.3\n",
              "16   traffic signals and signs         5.2\n",
              "17          unsafe lane change         6.9\n",
              "18                         dui         8.6\n",
              "19     automobile right of way        12.2\n",
              "20            improper turning        18.4\n",
              "21                    speeding        34.1"
            ]
          },
          "execution_count": 58,
          "metadata": {},
          "output_type": "execute_result"
        }
      ],
      "source": [
        "tmp"
      ]
    },
    {
      "cell_type": "markdown",
      "id": "b7479f24",
      "metadata": {
        "id": "b7479f24"
      },
      "source": [
        "**Вывод:**\n",
        "\n",
        "ТОП-5:\n",
        "\n",
        "* speeding\t34.1 %\n",
        "* improper turning\t18.4 %\n",
        "* automobile right of way\t12.2 %\n",
        "* dui\t8.6 %\n",
        "* unsafe lane change\t6.9 %\n",
        "\n",
        "\n",
        "\n",
        "\n"
      ]
    },
    {
      "cell_type": "markdown",
      "id": "4c6c8790",
      "metadata": {
        "id": "4c6c8790"
      },
      "source": [
        "# Модель для оценки водительского риска"
      ]
    },
    {
      "cell_type": "code",
      "execution_count": null,
      "id": "62e5f18b",
      "metadata": {
        "scrolled": true,
        "id": "62e5f18b",
        "outputId": "95392e68-786f-4a14-ab7d-7d8ba47e6130"
      },
      "outputs": [
        {
          "data": {
            "text/html": [
              "<div>\n",
              "<style scoped>\n",
              "    .dataframe tbody tr th:only-of-type {\n",
              "        vertical-align: middle;\n",
              "    }\n",
              "\n",
              "    .dataframe tbody tr th {\n",
              "        vertical-align: top;\n",
              "    }\n",
              "\n",
              "    .dataframe thead th {\n",
              "        text-align: right;\n",
              "    }\n",
              "</style>\n",
              "<table border=\"1\" class=\"dataframe\">\n",
              "  <thead>\n",
              "    <tr style=\"text-align: right;\">\n",
              "      <th></th>\n",
              "      <th>lighting</th>\n",
              "      <th>sum</th>\n",
              "      <th>count</th>\n",
              "    </tr>\n",
              "  </thead>\n",
              "  <tbody>\n",
              "    <tr>\n",
              "      <th>0</th>\n",
              "      <td>dark with no street lights</td>\n",
              "      <td>7189</td>\n",
              "      <td>13709</td>\n",
              "    </tr>\n",
              "    <tr>\n",
              "      <th>1</th>\n",
              "      <td>dark with street lights</td>\n",
              "      <td>19523</td>\n",
              "      <td>40879</td>\n",
              "    </tr>\n",
              "    <tr>\n",
              "      <th>2</th>\n",
              "      <td>dark with street lights not functioning</td>\n",
              "      <td>227</td>\n",
              "      <td>484</td>\n",
              "    </tr>\n",
              "    <tr>\n",
              "      <th>3</th>\n",
              "      <td>daylight</td>\n",
              "      <td>71861</td>\n",
              "      <td>162829</td>\n",
              "    </tr>\n",
              "    <tr>\n",
              "      <th>4</th>\n",
              "      <td>dusk or dawn</td>\n",
              "      <td>3275</td>\n",
              "      <td>7163</td>\n",
              "    </tr>\n",
              "    <tr>\n",
              "      <th>5</th>\n",
              "      <td>None</td>\n",
              "      <td>298</td>\n",
              "      <td>714</td>\n",
              "    </tr>\n",
              "  </tbody>\n",
              "</table>\n",
              "</div>"
            ],
            "text/plain": [
              "                                  lighting    sum   count\n",
              "0               dark with no street lights   7189   13709\n",
              "1                  dark with street lights  19523   40879\n",
              "2  dark with street lights not functioning    227     484\n",
              "3                                 daylight  71861  162829\n",
              "4                             dusk or dawn   3275    7163\n",
              "5                                     None    298     714"
            ]
          },
          "execution_count": 59,
          "metadata": {},
          "output_type": "execute_result"
        }
      ],
      "source": [
        "run_query(\"\"\"SELECT lighting,\n",
        "SUM(at_fault), COUNT(at_fault)\n",
        "FROM parties AS p JOIN collisions AS c\n",
        "ON c.case_id = p.case_id JOIN vehicles AS v\n",
        "ON p.case_id = v.case_id\n",
        "WHERE collision_damage != '0' AND EXTRACT(YEAR FROM collision_date) = 2012 AND party_type LIKE 'car'\n",
        "GROUP BY lighting\n",
        "\"\"\")"
      ]
    },
    {
      "cell_type": "code",
      "execution_count": null,
      "id": "64c6f0b4",
      "metadata": {
        "id": "64c6f0b4"
      },
      "outputs": [],
      "source": [
        "data = run_query(\"\"\"SELECT p.case_id,\n",
        "p.party_number,\n",
        "vehicle_type,\n",
        "vehicle_age,\n",
        "weather_1,\n",
        "road_surface,\n",
        "road_condition_1,\n",
        "direction,\n",
        "lighting,\n",
        "at_fault\n",
        "FROM parties AS p JOIN collisions AS c\n",
        "ON c.case_id = p.case_id JOIN vehicles AS v\n",
        "ON p.case_id = v.case_id\n",
        "WHERE collision_damage != 'scratch' AND\n",
        "EXTRACT(YEAR FROM collision_date) = 2012 AND\n",
        "party_type LIKE 'car' AND\n",
        "vehicle_type IS NOT NULL  AND\n",
        "vehicle_age IS NOT NULL AND\n",
        "weather_1 IS NOT NULL AND\n",
        "road_surface IS NOT NULL AND\n",
        "road_condition_1 IS NOT NULL AND\n",
        "road_condition_1 IS NOT NULL AND\n",
        "direction IS NOT NULL AND\n",
        "lighting IS NOT NULL\n",
        "\"\"\")\n",
        "\n",
        "\n",
        "\n",
        "\n"
      ]
    },
    {
      "cell_type": "markdown",
      "id": "2fef630a",
      "metadata": {
        "id": "2fef630a"
      },
      "source": [
        "Выбор признаков для модели:\n",
        "\n",
        "В первую очередь нужно обозначить категории признаков, которые как-либо влияют на возмондость попадания в аварию:\n",
        "1. Природные (состояние дороги или же обобщить - погода)\n",
        "    * `weather_1` - во время осадков и после них в зависимости от температуры может образовываться лед, большое количество снега и лужи на дороге. Также во время осадков ухудшается видимость.\n",
        "    * `road_surface` - от поверхности зависит скорость и резкость торможения, а также рулевой контроль\n",
        "    * `direction` - от стороны света зависит погода, возможно стоит оставить только одно. Однако сторона навряд ли будет иметь сильную мультиколлениарность\n",
        "    * `road_condition_1` - от качества дороги точно также зависит торможение, качество управление и ход машины.\n",
        "    \n",
        "    \n",
        "2. Человеческий (здоровье физическое и моральное, в том числе и влияние веществ на оное) - Определить перед арендой автомобиля невозможно факторы, которые относятся к человека и его состоянию. Поэтому лучше всего взять только **природные** и **механические**.\n",
        "    * `party_drug_physical` - если бы мы могли знать заранее состояние каждого водителя, то этот признак был бы важен, а так, к сожаленью, его взять не получится ввиду сложности определения. Такая же ситуация с признаками ниже. Их тоже не будем включать в модель\n",
        "    * `cellphone_in_use`\n",
        "    * `party_sobriety`\n",
        "    \n",
        "3. Механические (состояние транспорта, а также освещение дороги)\n",
        "    * `lighting` - без должного освещения транспортные средства имеют ограниченный обзор. Поэтому без оного, шанс попасть в ДТП выше\n",
        "    * `vehicle_type` - тип машины влияет на вес, маневренность, аэродинамику и т.п. вещи, поэтому это важный параметр при шансе столкновения и его последствия\n",
        "    * `vehicle_age` - чем старше машина, тем выше шанс того, что могут отказать тормоза, электронная панель, КП и т.д.\n",
        "\n",
        "<!-- p.party_number,\n",
        "vehicle_type,\n",
        "vehicle_age,\n",
        "intersection,\n",
        "weather_1,\n",
        "road_surface,\n",
        "road_condition_1,\n",
        "lighting,\n",
        "party_sobriety,\n",
        "at_fault -->"
      ]
    },
    {
      "cell_type": "code",
      "execution_count": null,
      "id": "b22afee4",
      "metadata": {
        "scrolled": true,
        "id": "b22afee4",
        "outputId": "8aa82b94-c144-4e15-d176-09c5c6bea972"
      },
      "outputs": [
        {
          "data": {
            "text/plain": [
              "case_id             0.0\n",
              "party_number        0.0\n",
              "vehicle_type        0.0\n",
              "vehicle_age         0.0\n",
              "weather_1           0.0\n",
              "road_surface        0.0\n",
              "road_condition_1    0.0\n",
              "direction           0.0\n",
              "lighting            0.0\n",
              "at_fault            0.0\n",
              "dtype: float64"
            ]
          },
          "execution_count": 61,
          "metadata": {},
          "output_type": "execute_result"
        }
      ],
      "source": [
        "data.isna().mean()"
      ]
    },
    {
      "cell_type": "code",
      "execution_count": null,
      "id": "a44f0bb2",
      "metadata": {
        "scrolled": true,
        "id": "a44f0bb2",
        "outputId": "c6528c07-cb32-4f0f-e218-6fb474f2ea95"
      },
      "outputs": [
        {
          "name": "stdout",
          "output_type": "stream",
          "text": [
            "<class 'pandas.core.frame.DataFrame'>\n",
            "RangeIndex: 86219 entries, 0 to 86218\n",
            "Data columns (total 10 columns):\n",
            " #   Column            Non-Null Count  Dtype \n",
            "---  ------            --------------  ----- \n",
            " 0   case_id           86219 non-null  object\n",
            " 1   party_number      86219 non-null  int64 \n",
            " 2   vehicle_type      86219 non-null  object\n",
            " 3   vehicle_age       86219 non-null  int64 \n",
            " 4   weather_1         86219 non-null  object\n",
            " 5   road_surface      86219 non-null  object\n",
            " 6   road_condition_1  86219 non-null  object\n",
            " 7   direction         86219 non-null  object\n",
            " 8   lighting          86219 non-null  object\n",
            " 9   at_fault          86219 non-null  int64 \n",
            "dtypes: int64(3), object(7)\n",
            "memory usage: 6.6+ MB\n"
          ]
        }
      ],
      "source": [
        "data.info()"
      ]
    },
    {
      "cell_type": "code",
      "execution_count": null,
      "id": "01393264",
      "metadata": {
        "id": "01393264",
        "outputId": "b9113d97-ddb0-406c-f78d-e790e613643b"
      },
      "outputs": [
        {
          "data": {
            "text/html": [
              "<div>\n",
              "<style scoped>\n",
              "    .dataframe tbody tr th:only-of-type {\n",
              "        vertical-align: middle;\n",
              "    }\n",
              "\n",
              "    .dataframe tbody tr th {\n",
              "        vertical-align: top;\n",
              "    }\n",
              "\n",
              "    .dataframe thead th {\n",
              "        text-align: right;\n",
              "    }\n",
              "</style>\n",
              "<table border=\"1\" class=\"dataframe\">\n",
              "  <thead>\n",
              "    <tr style=\"text-align: right;\">\n",
              "      <th></th>\n",
              "      <th>party_number</th>\n",
              "      <th>vehicle_age</th>\n",
              "      <th>at_fault</th>\n",
              "    </tr>\n",
              "  </thead>\n",
              "  <tbody>\n",
              "    <tr>\n",
              "      <th>party_number</th>\n",
              "      <td>1.000000</td>\n",
              "      <td>0.012852</td>\n",
              "      <td>-0.748159</td>\n",
              "    </tr>\n",
              "    <tr>\n",
              "      <th>vehicle_age</th>\n",
              "      <td>0.012852</td>\n",
              "      <td>1.000000</td>\n",
              "      <td>-0.012016</td>\n",
              "    </tr>\n",
              "    <tr>\n",
              "      <th>at_fault</th>\n",
              "      <td>-0.748159</td>\n",
              "      <td>-0.012016</td>\n",
              "      <td>1.000000</td>\n",
              "    </tr>\n",
              "  </tbody>\n",
              "</table>\n",
              "</div>"
            ],
            "text/plain": [
              "              party_number  vehicle_age  at_fault\n",
              "party_number      1.000000     0.012852 -0.748159\n",
              "vehicle_age       0.012852     1.000000 -0.012016\n",
              "at_fault         -0.748159    -0.012016  1.000000"
            ]
          },
          "execution_count": 63,
          "metadata": {},
          "output_type": "execute_result"
        }
      ],
      "source": [
        "data.corr(method='spearman')"
      ]
    },
    {
      "cell_type": "code",
      "execution_count": null,
      "id": "10d9c2dd",
      "metadata": {
        "id": "10d9c2dd"
      },
      "outputs": [],
      "source": [
        "# функция для подсчетов типов\n",
        "def counter_of_type(data):\n",
        "    return Counter(data.dtypes)\n",
        ""
      ]
    },
    {
      "cell_type": "code",
      "execution_count": null,
      "id": "125e821d",
      "metadata": {
        "id": "125e821d"
      },
      "outputs": [],
      "source": [
        "# Функция для ознакомления с данными\n",
        "def preview(data,n_row=4,\n",
        "             head=True,\n",
        "             info=True,\n",
        "             columns=True,\n",
        "             shape=True,\n",
        "             isna=True,\n",
        "             duplicated=True,\n",
        "             dtypes_=True,\n",
        "            describe_=True,\n",
        "           clear_duples=True,\n",
        "           lower_and_sep_col=True):\n",
        "    global dct_nan\n",
        "    global df_nan_columns\n",
        "    dct_nan = {}\n",
        "    if head:\n",
        "        print(f'First {n_row} row(s) in the head of data')\n",
        "        display(data.head(n_row))\n",
        "        print('-'*30)\n",
        "    if info:\n",
        "        print('Data Information:')\n",
        "        display(data.info())\n",
        "        print('-'*30)\n",
        "    if columns:\n",
        "        print('Data columns:')\n",
        "        display(data.columns)\n",
        "        if lower_and_sep_col:\n",
        "            COLUMN_REG = \"(\\w)([A-Z])\"\n",
        "            repl = r\"\\1_\\2\"\n",
        "            data.columns = list(map(lambda x: re.sub(COLUMN_REG,repl,x).lower(),data.columns))\n",
        "            print('Lowered and sepperated by words columns:')\n",
        "            print(data.columns)\n",
        "            print('-'*30)\n",
        "    if shape:\n",
        "        print('Data shape:')\n",
        "        display(data.shape)\n",
        "        print('-'*30)\n",
        "    if isna:\n",
        "        print('Data isna by row mean:')\n",
        "        display(data.isna().mean())\n",
        "        print()\n",
        "        tmp = data.isna().mean()\n",
        "        for i in range(len(tmp)):\n",
        "\n",
        "            if tmp[i] > 0:\n",
        "                dct_nan[tmp.index[i]] = tmp[i]\n",
        "        if tmp.sum() > 0:\n",
        "            df_nan_columns = pd.DataFrame.from_dict(dct_nan.items())\n",
        "            df_nan_columns.columns = ['column','rate_of_nan']\n",
        "            display(df_nan_columns)\n",
        "        print('-'*30)\n",
        "    if duplicated:\n",
        "        print('Data clear duplicates sum:')\n",
        "        duplets = data.duplicated().sum()\n",
        "        display(duplets)\n",
        "        if duplets >1 and clear_duples:\n",
        "            data.drop_duplicates(inplace=True)\n",
        "            print('Successful delete of {0} duplicates'.format(duplets))\n",
        "        elif duplets == 1 and clear_duples:\n",
        "            data.drop_duplicates(inplace=True)\n",
        "            print('Successful delete of {0} duplicate'.format(duplets))\n",
        "        print('-'*30)\n",
        "    if dtypes_:\n",
        "        print('Data dtypes:')\n",
        "        display(data.dtypes)\n",
        "        print('Number of each type:')\n",
        "        print(counter_of_type(data))\n",
        "        print('-'*30)\n",
        "    if describe_:\n",
        "        print('Major statistics for data:')\n",
        "        display(data.describe())\n",
        ""
      ]
    },
    {
      "cell_type": "code",
      "execution_count": null,
      "id": "bde4479e",
      "metadata": {
        "id": "bde4479e",
        "outputId": "f6ec89a6-c045-47e7-b0ba-c7d6292a227a"
      },
      "outputs": [
        {
          "name": "stdout",
          "output_type": "stream",
          "text": [
            "First 4 row(s) in the head of data\n"
          ]
        },
        {
          "data": {
            "text/html": [
              "<div>\n",
              "<style scoped>\n",
              "    .dataframe tbody tr th:only-of-type {\n",
              "        vertical-align: middle;\n",
              "    }\n",
              "\n",
              "    .dataframe tbody tr th {\n",
              "        vertical-align: top;\n",
              "    }\n",
              "\n",
              "    .dataframe thead th {\n",
              "        text-align: right;\n",
              "    }\n",
              "</style>\n",
              "<table border=\"1\" class=\"dataframe\">\n",
              "  <thead>\n",
              "    <tr style=\"text-align: right;\">\n",
              "      <th></th>\n",
              "      <th>case_id</th>\n",
              "      <th>party_number</th>\n",
              "      <th>vehicle_type</th>\n",
              "      <th>vehicle_age</th>\n",
              "      <th>weather_1</th>\n",
              "      <th>road_surface</th>\n",
              "      <th>road_condition_1</th>\n",
              "      <th>direction</th>\n",
              "      <th>lighting</th>\n",
              "      <th>at_fault</th>\n",
              "    </tr>\n",
              "  </thead>\n",
              "  <tbody>\n",
              "    <tr>\n",
              "      <th>0</th>\n",
              "      <td>5403481</td>\n",
              "      <td>2</td>\n",
              "      <td>coupe</td>\n",
              "      <td>6</td>\n",
              "      <td>clear</td>\n",
              "      <td>dry</td>\n",
              "      <td>normal</td>\n",
              "      <td>south</td>\n",
              "      <td>dark with no street lights</td>\n",
              "      <td>0</td>\n",
              "    </tr>\n",
              "    <tr>\n",
              "      <th>1</th>\n",
              "      <td>5403312</td>\n",
              "      <td>1</td>\n",
              "      <td>coupe</td>\n",
              "      <td>13</td>\n",
              "      <td>clear</td>\n",
              "      <td>dry</td>\n",
              "      <td>normal</td>\n",
              "      <td>east</td>\n",
              "      <td>daylight</td>\n",
              "      <td>1</td>\n",
              "    </tr>\n",
              "    <tr>\n",
              "      <th>2</th>\n",
              "      <td>5403341</td>\n",
              "      <td>2</td>\n",
              "      <td>sedan</td>\n",
              "      <td>3</td>\n",
              "      <td>clear</td>\n",
              "      <td>dry</td>\n",
              "      <td>normal</td>\n",
              "      <td>north</td>\n",
              "      <td>daylight</td>\n",
              "      <td>0</td>\n",
              "    </tr>\n",
              "    <tr>\n",
              "      <th>3</th>\n",
              "      <td>5403341</td>\n",
              "      <td>2</td>\n",
              "      <td>coupe</td>\n",
              "      <td>5</td>\n",
              "      <td>clear</td>\n",
              "      <td>dry</td>\n",
              "      <td>normal</td>\n",
              "      <td>north</td>\n",
              "      <td>daylight</td>\n",
              "      <td>0</td>\n",
              "    </tr>\n",
              "  </tbody>\n",
              "</table>\n",
              "</div>"
            ],
            "text/plain": [
              "   case_id  party_number vehicle_type  vehicle_age weather_1 road_surface  \\\n",
              "0  5403481             2        coupe            6     clear          dry   \n",
              "1  5403312             1        coupe           13     clear          dry   \n",
              "2  5403341             2        sedan            3     clear          dry   \n",
              "3  5403341             2        coupe            5     clear          dry   \n",
              "\n",
              "  road_condition_1 direction                    lighting  at_fault  \n",
              "0           normal     south  dark with no street lights         0  \n",
              "1           normal      east                    daylight         1  \n",
              "2           normal     north                    daylight         0  \n",
              "3           normal     north                    daylight         0  "
            ]
          },
          "metadata": {},
          "output_type": "display_data"
        },
        {
          "name": "stdout",
          "output_type": "stream",
          "text": [
            "------------------------------\n",
            "Data Information:\n",
            "<class 'pandas.core.frame.DataFrame'>\n",
            "RangeIndex: 86219 entries, 0 to 86218\n",
            "Data columns (total 10 columns):\n",
            " #   Column            Non-Null Count  Dtype \n",
            "---  ------            --------------  ----- \n",
            " 0   case_id           86219 non-null  object\n",
            " 1   party_number      86219 non-null  int64 \n",
            " 2   vehicle_type      86219 non-null  object\n",
            " 3   vehicle_age       86219 non-null  int64 \n",
            " 4   weather_1         86219 non-null  object\n",
            " 5   road_surface      86219 non-null  object\n",
            " 6   road_condition_1  86219 non-null  object\n",
            " 7   direction         86219 non-null  object\n",
            " 8   lighting          86219 non-null  object\n",
            " 9   at_fault          86219 non-null  int64 \n",
            "dtypes: int64(3), object(7)\n",
            "memory usage: 6.6+ MB\n"
          ]
        },
        {
          "data": {
            "text/plain": [
              "None"
            ]
          },
          "metadata": {},
          "output_type": "display_data"
        },
        {
          "name": "stdout",
          "output_type": "stream",
          "text": [
            "------------------------------\n",
            "Data columns:\n"
          ]
        },
        {
          "data": {
            "text/plain": [
              "Index(['case_id', 'party_number', 'vehicle_type', 'vehicle_age', 'weather_1',\n",
              "       'road_surface', 'road_condition_1', 'direction', 'lighting',\n",
              "       'at_fault'],\n",
              "      dtype='object')"
            ]
          },
          "metadata": {},
          "output_type": "display_data"
        },
        {
          "name": "stdout",
          "output_type": "stream",
          "text": [
            "Lowered and sepperated by words columns:\n",
            "Index(['case_id', 'party_number', 'vehicle_type', 'vehicle_age', 'weather_1',\n",
            "       'road_surface', 'road_condition_1', 'direction', 'lighting',\n",
            "       'at_fault'],\n",
            "      dtype='object')\n",
            "------------------------------\n",
            "Data shape:\n"
          ]
        },
        {
          "data": {
            "text/plain": [
              "(86219, 10)"
            ]
          },
          "metadata": {},
          "output_type": "display_data"
        },
        {
          "name": "stdout",
          "output_type": "stream",
          "text": [
            "------------------------------\n",
            "Data isna by row mean:\n"
          ]
        },
        {
          "data": {
            "text/plain": [
              "case_id             0.0\n",
              "party_number        0.0\n",
              "vehicle_type        0.0\n",
              "vehicle_age         0.0\n",
              "weather_1           0.0\n",
              "road_surface        0.0\n",
              "road_condition_1    0.0\n",
              "direction           0.0\n",
              "lighting            0.0\n",
              "at_fault            0.0\n",
              "dtype: float64"
            ]
          },
          "metadata": {},
          "output_type": "display_data"
        },
        {
          "name": "stdout",
          "output_type": "stream",
          "text": [
            "\n",
            "------------------------------\n",
            "Data clear duplicates sum:\n"
          ]
        },
        {
          "data": {
            "text/plain": [
              "2345"
            ]
          },
          "metadata": {},
          "output_type": "display_data"
        },
        {
          "name": "stdout",
          "output_type": "stream",
          "text": [
            "Successful delete of 2345 duplicates\n",
            "------------------------------\n",
            "Data dtypes:\n"
          ]
        },
        {
          "data": {
            "text/plain": [
              "case_id             object\n",
              "party_number         int64\n",
              "vehicle_type        object\n",
              "vehicle_age          int64\n",
              "weather_1           object\n",
              "road_surface        object\n",
              "road_condition_1    object\n",
              "direction           object\n",
              "lighting            object\n",
              "at_fault             int64\n",
              "dtype: object"
            ]
          },
          "metadata": {},
          "output_type": "display_data"
        },
        {
          "name": "stdout",
          "output_type": "stream",
          "text": [
            "Number of each type:\n",
            "Counter({dtype('O'): 7, dtype('int64'): 3})\n",
            "------------------------------\n",
            "Major statistics for data:\n"
          ]
        },
        {
          "data": {
            "text/html": [
              "<div>\n",
              "<style scoped>\n",
              "    .dataframe tbody tr th:only-of-type {\n",
              "        vertical-align: middle;\n",
              "    }\n",
              "\n",
              "    .dataframe tbody tr th {\n",
              "        vertical-align: top;\n",
              "    }\n",
              "\n",
              "    .dataframe thead th {\n",
              "        text-align: right;\n",
              "    }\n",
              "</style>\n",
              "<table border=\"1\" class=\"dataframe\">\n",
              "  <thead>\n",
              "    <tr style=\"text-align: right;\">\n",
              "      <th></th>\n",
              "      <th>party_number</th>\n",
              "      <th>vehicle_age</th>\n",
              "      <th>at_fault</th>\n",
              "    </tr>\n",
              "  </thead>\n",
              "  <tbody>\n",
              "    <tr>\n",
              "      <th>count</th>\n",
              "      <td>83874.000000</td>\n",
              "      <td>83874.000000</td>\n",
              "      <td>83874.000000</td>\n",
              "    </tr>\n",
              "    <tr>\n",
              "      <th>mean</th>\n",
              "      <td>1.655447</td>\n",
              "      <td>4.899754</td>\n",
              "      <td>0.477681</td>\n",
              "    </tr>\n",
              "    <tr>\n",
              "      <th>std</th>\n",
              "      <td>0.837320</td>\n",
              "      <td>3.190783</td>\n",
              "      <td>0.499505</td>\n",
              "    </tr>\n",
              "    <tr>\n",
              "      <th>min</th>\n",
              "      <td>1.000000</td>\n",
              "      <td>0.000000</td>\n",
              "      <td>0.000000</td>\n",
              "    </tr>\n",
              "    <tr>\n",
              "      <th>25%</th>\n",
              "      <td>1.000000</td>\n",
              "      <td>3.000000</td>\n",
              "      <td>0.000000</td>\n",
              "    </tr>\n",
              "    <tr>\n",
              "      <th>50%</th>\n",
              "      <td>1.000000</td>\n",
              "      <td>4.000000</td>\n",
              "      <td>0.000000</td>\n",
              "    </tr>\n",
              "    <tr>\n",
              "      <th>75%</th>\n",
              "      <td>2.000000</td>\n",
              "      <td>7.000000</td>\n",
              "      <td>1.000000</td>\n",
              "    </tr>\n",
              "    <tr>\n",
              "      <th>max</th>\n",
              "      <td>10.000000</td>\n",
              "      <td>161.000000</td>\n",
              "      <td>1.000000</td>\n",
              "    </tr>\n",
              "  </tbody>\n",
              "</table>\n",
              "</div>"
            ],
            "text/plain": [
              "       party_number   vehicle_age      at_fault\n",
              "count  83874.000000  83874.000000  83874.000000\n",
              "mean       1.655447      4.899754      0.477681\n",
              "std        0.837320      3.190783      0.499505\n",
              "min        1.000000      0.000000      0.000000\n",
              "25%        1.000000      3.000000      0.000000\n",
              "50%        1.000000      4.000000      0.000000\n",
              "75%        2.000000      7.000000      1.000000\n",
              "max       10.000000    161.000000      1.000000"
            ]
          },
          "metadata": {},
          "output_type": "display_data"
        }
      ],
      "source": [
        "preview(data)"
      ]
    },
    {
      "cell_type": "code",
      "execution_count": null,
      "id": "47770f14",
      "metadata": {
        "scrolled": true,
        "id": "47770f14",
        "outputId": "867495ec-0ff7-44dc-c895-11669109a272"
      },
      "outputs": [
        {
          "data": {
            "text/html": [
              "<div>\n",
              "<style scoped>\n",
              "    .dataframe tbody tr th:only-of-type {\n",
              "        vertical-align: middle;\n",
              "    }\n",
              "\n",
              "    .dataframe tbody tr th {\n",
              "        vertical-align: top;\n",
              "    }\n",
              "\n",
              "    .dataframe thead th {\n",
              "        text-align: right;\n",
              "    }\n",
              "</style>\n",
              "<table border=\"1\" class=\"dataframe\">\n",
              "  <thead>\n",
              "    <tr style=\"text-align: right;\">\n",
              "      <th></th>\n",
              "      <th>case_id</th>\n",
              "      <th>party_number</th>\n",
              "      <th>vehicle_type</th>\n",
              "      <th>vehicle_age</th>\n",
              "      <th>weather_1</th>\n",
              "      <th>road_surface</th>\n",
              "      <th>road_condition_1</th>\n",
              "      <th>direction</th>\n",
              "      <th>lighting</th>\n",
              "      <th>at_fault</th>\n",
              "    </tr>\n",
              "  </thead>\n",
              "  <tbody>\n",
              "    <tr>\n",
              "      <th>34399</th>\n",
              "      <td>5542342</td>\n",
              "      <td>1</td>\n",
              "      <td>sedan</td>\n",
              "      <td>161</td>\n",
              "      <td>clear</td>\n",
              "      <td>dry</td>\n",
              "      <td>normal</td>\n",
              "      <td>north</td>\n",
              "      <td>daylight</td>\n",
              "      <td>1</td>\n",
              "    </tr>\n",
              "    <tr>\n",
              "      <th>34401</th>\n",
              "      <td>5542342</td>\n",
              "      <td>2</td>\n",
              "      <td>sedan</td>\n",
              "      <td>161</td>\n",
              "      <td>clear</td>\n",
              "      <td>dry</td>\n",
              "      <td>normal</td>\n",
              "      <td>north</td>\n",
              "      <td>daylight</td>\n",
              "      <td>0</td>\n",
              "    </tr>\n",
              "  </tbody>\n",
              "</table>\n",
              "</div>"
            ],
            "text/plain": [
              "       case_id  party_number vehicle_type  vehicle_age weather_1 road_surface  \\\n",
              "34399  5542342             1        sedan          161     clear          dry   \n",
              "34401  5542342             2        sedan          161     clear          dry   \n",
              "\n",
              "      road_condition_1 direction  lighting  at_fault  \n",
              "34399           normal     north  daylight         1  \n",
              "34401           normal     north  daylight         0  "
            ]
          },
          "execution_count": 67,
          "metadata": {},
          "output_type": "execute_result"
        }
      ],
      "source": [
        "data[data['vehicle_age']==161]"
      ]
    },
    {
      "cell_type": "code",
      "execution_count": null,
      "id": "3c957635",
      "metadata": {
        "scrolled": true,
        "id": "3c957635"
      },
      "outputs": [],
      "source": [
        "data.loc[data['vehicle_age']==161, 'vehicle_age'] = 16"
      ]
    },
    {
      "cell_type": "code",
      "execution_count": null,
      "id": "41d16ae5",
      "metadata": {
        "id": "41d16ae5",
        "outputId": "2fd82727-f4db-4e20-d18c-5b251de0adb7"
      },
      "outputs": [
        {
          "data": {
            "text/html": [
              "<div>\n",
              "<style scoped>\n",
              "    .dataframe tbody tr th:only-of-type {\n",
              "        vertical-align: middle;\n",
              "    }\n",
              "\n",
              "    .dataframe tbody tr th {\n",
              "        vertical-align: top;\n",
              "    }\n",
              "\n",
              "    .dataframe thead th {\n",
              "        text-align: right;\n",
              "    }\n",
              "</style>\n",
              "<table border=\"1\" class=\"dataframe\">\n",
              "  <thead>\n",
              "    <tr style=\"text-align: right;\">\n",
              "      <th></th>\n",
              "      <th>case_id</th>\n",
              "      <th>party_number</th>\n",
              "      <th>vehicle_type</th>\n",
              "      <th>vehicle_age</th>\n",
              "      <th>weather_1</th>\n",
              "      <th>road_surface</th>\n",
              "      <th>road_condition_1</th>\n",
              "      <th>direction</th>\n",
              "      <th>lighting</th>\n",
              "      <th>at_fault</th>\n",
              "    </tr>\n",
              "  </thead>\n",
              "  <tbody>\n",
              "  </tbody>\n",
              "</table>\n",
              "</div>"
            ],
            "text/plain": [
              "Empty DataFrame\n",
              "Columns: [case_id, party_number, vehicle_type, vehicle_age, weather_1, road_surface, road_condition_1, direction, lighting, at_fault]\n",
              "Index: []"
            ]
          },
          "execution_count": 69,
          "metadata": {},
          "output_type": "execute_result"
        }
      ],
      "source": [
        "data[data['vehicle_age']==161]"
      ]
    },
    {
      "cell_type": "code",
      "execution_count": null,
      "id": "090861ed",
      "metadata": {
        "id": "090861ed",
        "outputId": "143747ae-4aee-47ca-fe55-97e2a64fe676"
      },
      "outputs": [
        {
          "name": "stdout",
          "output_type": "stream",
          "text": [
            "<class 'pandas.core.frame.DataFrame'>\n",
            "Int64Index: 83874 entries, 0 to 86218\n",
            "Data columns (total 10 columns):\n",
            " #   Column            Non-Null Count  Dtype \n",
            "---  ------            --------------  ----- \n",
            " 0   case_id           83874 non-null  object\n",
            " 1   party_number      83874 non-null  int64 \n",
            " 2   vehicle_type      83874 non-null  object\n",
            " 3   vehicle_age       83874 non-null  int64 \n",
            " 4   weather_1         83874 non-null  object\n",
            " 5   road_surface      83874 non-null  object\n",
            " 6   road_condition_1  83874 non-null  object\n",
            " 7   direction         83874 non-null  object\n",
            " 8   lighting          83874 non-null  object\n",
            " 9   at_fault          83874 non-null  int64 \n",
            "dtypes: int64(3), object(7)\n",
            "memory usage: 7.0+ MB\n"
          ]
        }
      ],
      "source": [
        "data.info()"
      ]
    },
    {
      "cell_type": "code",
      "execution_count": null,
      "id": "df0d245b",
      "metadata": {
        "id": "df0d245b",
        "outputId": "8a2e2ddb-03d6-4bb0-ec60-12ff4d3df0ba"
      },
      "outputs": [
        {
          "data": {
            "text/html": [
              "<div>\n",
              "<style scoped>\n",
              "    .dataframe tbody tr th:only-of-type {\n",
              "        vertical-align: middle;\n",
              "    }\n",
              "\n",
              "    .dataframe tbody tr th {\n",
              "        vertical-align: top;\n",
              "    }\n",
              "\n",
              "    .dataframe thead th {\n",
              "        text-align: right;\n",
              "    }\n",
              "</style>\n",
              "<table border=\"1\" class=\"dataframe\">\n",
              "  <thead>\n",
              "    <tr style=\"text-align: right;\">\n",
              "      <th></th>\n",
              "      <th>case_id</th>\n",
              "      <th>vehicle_type</th>\n",
              "      <th>weather_1</th>\n",
              "      <th>road_surface</th>\n",
              "      <th>road_condition_1</th>\n",
              "      <th>direction</th>\n",
              "      <th>lighting</th>\n",
              "    </tr>\n",
              "  </thead>\n",
              "  <tbody>\n",
              "    <tr>\n",
              "      <th>0</th>\n",
              "      <td>5403481</td>\n",
              "      <td>coupe</td>\n",
              "      <td>clear</td>\n",
              "      <td>dry</td>\n",
              "      <td>normal</td>\n",
              "      <td>south</td>\n",
              "      <td>dark with no street lights</td>\n",
              "    </tr>\n",
              "    <tr>\n",
              "      <th>1</th>\n",
              "      <td>5403312</td>\n",
              "      <td>coupe</td>\n",
              "      <td>clear</td>\n",
              "      <td>dry</td>\n",
              "      <td>normal</td>\n",
              "      <td>east</td>\n",
              "      <td>daylight</td>\n",
              "    </tr>\n",
              "    <tr>\n",
              "      <th>2</th>\n",
              "      <td>5403341</td>\n",
              "      <td>sedan</td>\n",
              "      <td>clear</td>\n",
              "      <td>dry</td>\n",
              "      <td>normal</td>\n",
              "      <td>north</td>\n",
              "      <td>daylight</td>\n",
              "    </tr>\n",
              "    <tr>\n",
              "      <th>3</th>\n",
              "      <td>5403341</td>\n",
              "      <td>coupe</td>\n",
              "      <td>clear</td>\n",
              "      <td>dry</td>\n",
              "      <td>normal</td>\n",
              "      <td>north</td>\n",
              "      <td>daylight</td>\n",
              "    </tr>\n",
              "    <tr>\n",
              "      <th>4</th>\n",
              "      <td>5403344</td>\n",
              "      <td>coupe</td>\n",
              "      <td>clear</td>\n",
              "      <td>dry</td>\n",
              "      <td>normal</td>\n",
              "      <td>south</td>\n",
              "      <td>daylight</td>\n",
              "    </tr>\n",
              "  </tbody>\n",
              "</table>\n",
              "</div>"
            ],
            "text/plain": [
              "   case_id vehicle_type weather_1 road_surface road_condition_1 direction  \\\n",
              "0  5403481        coupe     clear          dry           normal     south   \n",
              "1  5403312        coupe     clear          dry           normal      east   \n",
              "2  5403341        sedan     clear          dry           normal     north   \n",
              "3  5403341        coupe     clear          dry           normal     north   \n",
              "4  5403344        coupe     clear          dry           normal     south   \n",
              "\n",
              "                     lighting  \n",
              "0  dark with no street lights  \n",
              "1                    daylight  \n",
              "2                    daylight  \n",
              "3                    daylight  \n",
              "4                    daylight  "
            ]
          },
          "execution_count": 71,
          "metadata": {},
          "output_type": "execute_result"
        }
      ],
      "source": [
        "data.select_dtypes(exclude='number').head()"
      ]
    },
    {
      "cell_type": "code",
      "execution_count": null,
      "id": "95fa2014",
      "metadata": {
        "id": "95fa2014"
      },
      "outputs": [],
      "source": [
        "data['case_id'] = data['case_id'].astype('int',errors='raise')"
      ]
    },
    {
      "cell_type": "code",
      "execution_count": null,
      "id": "cc413f87",
      "metadata": {
        "id": "cc413f87"
      },
      "outputs": [],
      "source": [
        "def unique_by_col(df,*columns):\n",
        "    tmp_lst = []\n",
        "    for col in columns:\n",
        "        df[col] = df[col].astype(\"category\")\n",
        "        nunique_counter = df[col].nunique()\n",
        "        print(f'В столбце {col} находится {nunique_counter} уникальных значений')\n",
        "        if col not in cat_int_columns:\n",
        "            tmp_lst.append(nunique_counter)\n",
        "    print(f'Медианное значение уникальных значений = {np.median(tmp_lst)}')"
      ]
    },
    {
      "cell_type": "code",
      "execution_count": null,
      "id": "45ca3904",
      "metadata": {
        "id": "45ca3904"
      },
      "outputs": [],
      "source": [
        "cat_int_columns = ['intersection','at_fault']"
      ]
    },
    {
      "cell_type": "code",
      "execution_count": null,
      "id": "d0c7215a",
      "metadata": {
        "id": "d0c7215a"
      },
      "outputs": [],
      "source": [
        "columns_to_drop = ['case_id','party_number']"
      ]
    },
    {
      "cell_type": "code",
      "execution_count": null,
      "id": "e9847dcf",
      "metadata": {
        "id": "e9847dcf"
      },
      "outputs": [],
      "source": [
        "cat_columns = list(data.select_dtypes(exclude='number').columns)\n",
        "numeric_columns = list((data.drop(columns=['case_id',\n",
        "                  'party_number'],axis=1)\n",
        ".select_dtypes(include='number')\n",
        ".columns))"
      ]
    },
    {
      "cell_type": "code",
      "execution_count": null,
      "id": "a7b75020",
      "metadata": {
        "id": "a7b75020"
      },
      "outputs": [],
      "source": [
        "cat_columns.extend(cat_int_columns)"
      ]
    },
    {
      "cell_type": "code",
      "execution_count": null,
      "id": "2e09b035",
      "metadata": {
        "id": "2e09b035",
        "outputId": "6c01ab84-23d5-47ad-b2ec-940b2a2d3ca2"
      },
      "outputs": [
        {
          "data": {
            "text/plain": [
              "['vehicle_type',\n",
              " 'weather_1',\n",
              " 'road_surface',\n",
              " 'road_condition_1',\n",
              " 'direction',\n",
              " 'lighting',\n",
              " 'intersection',\n",
              " 'at_fault']"
            ]
          },
          "execution_count": 78,
          "metadata": {},
          "output_type": "execute_result"
        }
      ],
      "source": [
        "cat_columns"
      ]
    },
    {
      "cell_type": "code",
      "execution_count": null,
      "id": "cd5e4486",
      "metadata": {
        "id": "cd5e4486"
      },
      "outputs": [],
      "source": [
        "cat_columns= cat_columns[:-2]"
      ]
    },
    {
      "cell_type": "code",
      "execution_count": null,
      "id": "d126666c",
      "metadata": {
        "id": "d126666c",
        "outputId": "eb188681-f190-4b69-9db1-e77d00a4b3f7"
      },
      "outputs": [
        {
          "name": "stdout",
          "output_type": "stream",
          "text": [
            "В столбце vehicle_type находится 5 уникальных значений\n",
            "В столбце weather_1 находится 7 уникальных значений\n",
            "В столбце road_surface находится 4 уникальных значений\n",
            "В столбце road_condition_1 находится 8 уникальных значений\n",
            "В столбце direction находится 4 уникальных значений\n",
            "В столбце lighting находится 5 уникальных значений\n",
            "Медианное значение уникальных значений = 5.0\n"
          ]
        }
      ],
      "source": [
        "unique_by_col(data,*cat_columns)"
      ]
    },
    {
      "cell_type": "code",
      "execution_count": null,
      "id": "3ea99a67",
      "metadata": {
        "id": "3ea99a67",
        "outputId": "daf818f7-d894-46be-e975-811e15ffc7b2"
      },
      "outputs": [
        {
          "data": {
            "text/plain": [
              "['case_id', 'party_number']"
            ]
          },
          "execution_count": 81,
          "metadata": {},
          "output_type": "execute_result"
        }
      ],
      "source": [
        "columns_to_drop"
      ]
    },
    {
      "cell_type": "code",
      "execution_count": null,
      "id": "59cd1e9b",
      "metadata": {
        "id": "59cd1e9b"
      },
      "outputs": [],
      "source": [
        "data_copy = data.copy().drop(columns_to_drop,axis=1)"
      ]
    },
    {
      "cell_type": "code",
      "execution_count": null,
      "id": "daab72a1",
      "metadata": {
        "id": "daab72a1",
        "outputId": "0aba7118-321e-4dc7-aba0-24f73e166eec"
      },
      "outputs": [
        {
          "data": {
            "text/html": [
              "<div>\n",
              "<style scoped>\n",
              "    .dataframe tbody tr th:only-of-type {\n",
              "        vertical-align: middle;\n",
              "    }\n",
              "\n",
              "    .dataframe tbody tr th {\n",
              "        vertical-align: top;\n",
              "    }\n",
              "\n",
              "    .dataframe thead th {\n",
              "        text-align: right;\n",
              "    }\n",
              "</style>\n",
              "<table border=\"1\" class=\"dataframe\">\n",
              "  <thead>\n",
              "    <tr style=\"text-align: right;\">\n",
              "      <th></th>\n",
              "      <th>vehicle_type</th>\n",
              "      <th>vehicle_age</th>\n",
              "      <th>weather_1</th>\n",
              "      <th>road_surface</th>\n",
              "      <th>road_condition_1</th>\n",
              "      <th>direction</th>\n",
              "      <th>lighting</th>\n",
              "      <th>at_fault</th>\n",
              "    </tr>\n",
              "  </thead>\n",
              "  <tbody>\n",
              "    <tr>\n",
              "      <th>0</th>\n",
              "      <td>coupe</td>\n",
              "      <td>6</td>\n",
              "      <td>clear</td>\n",
              "      <td>dry</td>\n",
              "      <td>normal</td>\n",
              "      <td>south</td>\n",
              "      <td>dark with no street lights</td>\n",
              "      <td>0</td>\n",
              "    </tr>\n",
              "    <tr>\n",
              "      <th>1</th>\n",
              "      <td>coupe</td>\n",
              "      <td>13</td>\n",
              "      <td>clear</td>\n",
              "      <td>dry</td>\n",
              "      <td>normal</td>\n",
              "      <td>east</td>\n",
              "      <td>daylight</td>\n",
              "      <td>1</td>\n",
              "    </tr>\n",
              "  </tbody>\n",
              "</table>\n",
              "</div>"
            ],
            "text/plain": [
              "  vehicle_type  vehicle_age weather_1 road_surface road_condition_1 direction  \\\n",
              "0        coupe            6     clear          dry           normal     south   \n",
              "1        coupe           13     clear          dry           normal      east   \n",
              "\n",
              "                     lighting  at_fault  \n",
              "0  dark with no street lights         0  \n",
              "1                    daylight         1  "
            ]
          },
          "execution_count": 83,
          "metadata": {},
          "output_type": "execute_result"
        }
      ],
      "source": [
        "data_copy.head(2)"
      ]
    },
    {
      "cell_type": "code",
      "execution_count": null,
      "id": "4d93951b",
      "metadata": {
        "scrolled": true,
        "id": "4d93951b",
        "outputId": "7556f821-4a11-45aa-cfb3-2b5252238116"
      },
      "outputs": [
        {
          "name": "stdout",
          "output_type": "stream",
          "text": [
            "<class 'pandas.core.frame.DataFrame'>\n",
            "Int64Index: 83874 entries, 0 to 86218\n",
            "Data columns (total 8 columns):\n",
            " #   Column            Non-Null Count  Dtype   \n",
            "---  ------            --------------  -----   \n",
            " 0   vehicle_type      83874 non-null  category\n",
            " 1   vehicle_age       83874 non-null  int64   \n",
            " 2   weather_1         83874 non-null  category\n",
            " 3   road_surface      83874 non-null  category\n",
            " 4   road_condition_1  83874 non-null  category\n",
            " 5   direction         83874 non-null  category\n",
            " 6   lighting          83874 non-null  category\n",
            " 7   at_fault          83874 non-null  int64   \n",
            "dtypes: category(6), int64(2)\n",
            "memory usage: 2.4 MB\n"
          ]
        }
      ],
      "source": [
        "data_copy.info()"
      ]
    },
    {
      "cell_type": "code",
      "execution_count": null,
      "id": "7fe465c7",
      "metadata": {
        "id": "7fe465c7"
      },
      "outputs": [],
      "source": [
        "num_cols = ['vehicle_age']"
      ]
    },
    {
      "cell_type": "code",
      "execution_count": null,
      "id": "f78d50e5",
      "metadata": {
        "id": "f78d50e5",
        "outputId": "7516ecf6-aa32-4731-ad7f-292997dd11b3"
      },
      "outputs": [
        {
          "data": {
            "text/plain": [
              "['vehicle_age']"
            ]
          },
          "execution_count": 86,
          "metadata": {},
          "output_type": "execute_result"
        }
      ],
      "source": [
        "num_cols"
      ]
    },
    {
      "cell_type": "code",
      "execution_count": null,
      "id": "f8d76adf",
      "metadata": {
        "id": "f8d76adf"
      },
      "outputs": [],
      "source": [
        "rs=7"
      ]
    },
    {
      "cell_type": "code",
      "execution_count": null,
      "id": "79f9b457",
      "metadata": {
        "scrolled": true,
        "id": "79f9b457"
      },
      "outputs": [],
      "source": [
        "features_ln = data_copy.drop('at_fault',axis=1)\n",
        "target_ln = data_copy['at_fault']"
      ]
    },
    {
      "cell_type": "code",
      "execution_count": null,
      "id": "c875b138",
      "metadata": {
        "id": "c875b138"
      },
      "outputs": [],
      "source": [
        "features_train_ln, features_test_ln, target_train, target_test = train_test_split(features_ln,\n",
        "                                                                                        target_ln,\n",
        "                                                                                        shuffle=True,\n",
        "                                                                                        test_size=0.3,\n",
        "                                                                                        random_state=rs,\n",
        "                                                                                       stratify=target_ln)\n"
      ]
    },
    {
      "cell_type": "code",
      "execution_count": null,
      "id": "1eecfd52",
      "metadata": {
        "id": "1eecfd52",
        "outputId": "ce67206b-6226-41c0-b2a4-74a2e6d24c9c"
      },
      "outputs": [
        {
          "data": {
            "text/plain": [
              "['vehicle_type',\n",
              " 'weather_1',\n",
              " 'road_surface',\n",
              " 'road_condition_1',\n",
              " 'direction',\n",
              " 'lighting']"
            ]
          },
          "execution_count": 90,
          "metadata": {},
          "output_type": "execute_result"
        }
      ],
      "source": [
        "cat_columns"
      ]
    },
    {
      "cell_type": "code",
      "execution_count": null,
      "id": "5eccc7ff",
      "metadata": {
        "id": "5eccc7ff",
        "outputId": "249d5ac4-cbab-4cf8-90a8-8e0fe5af2eba"
      },
      "outputs": [
        {
          "data": {
            "text/plain": [
              "['vehicle_age']"
            ]
          },
          "execution_count": 91,
          "metadata": {},
          "output_type": "execute_result"
        }
      ],
      "source": [
        "num_cols"
      ]
    },
    {
      "cell_type": "code",
      "execution_count": null,
      "id": "65243b64",
      "metadata": {
        "id": "65243b64",
        "outputId": "b9e454b4-1a21-48a5-e9e8-f72ea027cd8d"
      },
      "outputs": [
        {
          "data": {
            "text/plain": [
              "['vehicle_age']"
            ]
          },
          "execution_count": 92,
          "metadata": {},
          "output_type": "execute_result"
        }
      ],
      "source": [
        "num_cols"
      ]
    },
    {
      "cell_type": "code",
      "execution_count": null,
      "id": "d8cab8b7",
      "metadata": {
        "id": "d8cab8b7",
        "outputId": "fe8f8468-0ab1-4548-f36c-f77289792b0a"
      },
      "outputs": [
        {
          "data": {
            "text/plain": [
              "Index(['vehicle_type', 'vehicle_age', 'weather_1', 'road_surface',\n",
              "       'road_condition_1', 'direction', 'lighting'],\n",
              "      dtype='object')"
            ]
          },
          "execution_count": 93,
          "metadata": {},
          "output_type": "execute_result"
        }
      ],
      "source": [
        "features_train_ln.columns"
      ]
    },
    {
      "cell_type": "code",
      "execution_count": null,
      "id": "29d79475",
      "metadata": {
        "id": "29d79475",
        "outputId": "a5aa2e94-1f43-4309-f4da-f492b4d4abb5"
      },
      "outputs": [
        {
          "data": {
            "text/plain": [
              "['vehicle_type',\n",
              " 'weather_1',\n",
              " 'road_surface',\n",
              " 'road_condition_1',\n",
              " 'direction',\n",
              " 'lighting']"
            ]
          },
          "execution_count": 94,
          "metadata": {},
          "output_type": "execute_result"
        }
      ],
      "source": [
        "cat_columns"
      ]
    },
    {
      "cell_type": "code",
      "execution_count": null,
      "id": "173b9a29",
      "metadata": {
        "id": "173b9a29",
        "outputId": "21066fbf-c1a7-4639-e995-c08ed77c344a"
      },
      "outputs": [
        {
          "data": {
            "text/html": [
              "<div>\n",
              "<style scoped>\n",
              "    .dataframe tbody tr th:only-of-type {\n",
              "        vertical-align: middle;\n",
              "    }\n",
              "\n",
              "    .dataframe tbody tr th {\n",
              "        vertical-align: top;\n",
              "    }\n",
              "\n",
              "    .dataframe thead th {\n",
              "        text-align: right;\n",
              "    }\n",
              "</style>\n",
              "<table border=\"1\" class=\"dataframe\">\n",
              "  <thead>\n",
              "    <tr style=\"text-align: right;\">\n",
              "      <th></th>\n",
              "      <th>vehicle_type</th>\n",
              "      <th>vehicle_age</th>\n",
              "      <th>weather_1</th>\n",
              "      <th>road_surface</th>\n",
              "      <th>road_condition_1</th>\n",
              "      <th>direction</th>\n",
              "      <th>lighting</th>\n",
              "    </tr>\n",
              "  </thead>\n",
              "  <tbody>\n",
              "  </tbody>\n",
              "</table>\n",
              "</div>"
            ],
            "text/plain": [
              "Empty DataFrame\n",
              "Columns: [vehicle_type, vehicle_age, weather_1, road_surface, road_condition_1, direction, lighting]\n",
              "Index: []"
            ]
          },
          "execution_count": 95,
          "metadata": {},
          "output_type": "execute_result"
        }
      ],
      "source": [
        "features_ln[features_ln['lighting']=='none']"
      ]
    },
    {
      "cell_type": "code",
      "execution_count": null,
      "id": "897ec7b1",
      "metadata": {
        "scrolled": true,
        "id": "897ec7b1"
      },
      "outputs": [],
      "source": [
        "# для сохранения колонок  remainder='passthrough'\n",
        "col_transformer = make_column_transformer(\n",
        "    (\n",
        "        OneHotEncoder(drop='first', handle_unknown='error'),\n",
        "        cat_columns\n",
        "    ),\n",
        "    remainder='passthrough'\n",
        ")\n",
        "\n",
        "\n",
        "# применяем трансформер и создаем датафрейм\n",
        "X_transformed = col_transformer.fit_transform(features_train_ln)\n",
        "columns = col_transformer.named_transformers_['onehotencoder'].get_feature_names(cat_columns).tolist() + num_cols\n",
        "features_train_new = pd.DataFrame(col_transformer.transform(features_train_ln).toarray(), columns=columns, index=features_train_ln.index)\n",
        "X_transformed = col_transformer.transform(features_test_ln)\n",
        "columns = col_transformer.named_transformers_['onehotencoder'].get_feature_names(cat_columns).tolist() + num_cols\n",
        "features_test_new = pd.DataFrame(col_transformer.transform(features_test_ln).toarray(), columns=columns, index=features_test_ln.index)\n"
      ]
    },
    {
      "cell_type": "code",
      "execution_count": null,
      "id": "c063e441",
      "metadata": {
        "scrolled": true,
        "id": "c063e441",
        "outputId": "c069b6c6-951a-40c5-d43e-edbb9d2c5e23"
      },
      "outputs": [
        {
          "data": {
            "text/html": [
              "<div>\n",
              "<style scoped>\n",
              "    .dataframe tbody tr th:only-of-type {\n",
              "        vertical-align: middle;\n",
              "    }\n",
              "\n",
              "    .dataframe tbody tr th {\n",
              "        vertical-align: top;\n",
              "    }\n",
              "\n",
              "    .dataframe thead th {\n",
              "        text-align: right;\n",
              "    }\n",
              "</style>\n",
              "<table border=\"1\" class=\"dataframe\">\n",
              "  <thead>\n",
              "    <tr style=\"text-align: right;\">\n",
              "      <th></th>\n",
              "      <th>vehicle_type_hatchback</th>\n",
              "      <th>vehicle_type_minivan</th>\n",
              "      <th>vehicle_type_other</th>\n",
              "      <th>vehicle_type_sedan</th>\n",
              "      <th>weather_1_cloudy</th>\n",
              "      <th>weather_1_fog</th>\n",
              "      <th>weather_1_other</th>\n",
              "      <th>weather_1_raining</th>\n",
              "      <th>weather_1_snowing</th>\n",
              "      <th>weather_1_wind</th>\n",
              "      <th>...</th>\n",
              "      <th>road_condition_1_other</th>\n",
              "      <th>road_condition_1_reduced width</th>\n",
              "      <th>direction_north</th>\n",
              "      <th>direction_south</th>\n",
              "      <th>direction_west</th>\n",
              "      <th>lighting_dark with street lights</th>\n",
              "      <th>lighting_dark with street lights not functioning</th>\n",
              "      <th>lighting_daylight</th>\n",
              "      <th>lighting_dusk or dawn</th>\n",
              "      <th>vehicle_age</th>\n",
              "    </tr>\n",
              "  </thead>\n",
              "  <tbody>\n",
              "    <tr>\n",
              "      <th>70614</th>\n",
              "      <td>0.0</td>\n",
              "      <td>0.0</td>\n",
              "      <td>0.0</td>\n",
              "      <td>0.0</td>\n",
              "      <td>0.0</td>\n",
              "      <td>0.0</td>\n",
              "      <td>0.0</td>\n",
              "      <td>0.0</td>\n",
              "      <td>0.0</td>\n",
              "      <td>0.0</td>\n",
              "      <td>...</td>\n",
              "      <td>0.0</td>\n",
              "      <td>0.0</td>\n",
              "      <td>0.0</td>\n",
              "      <td>1.0</td>\n",
              "      <td>0.0</td>\n",
              "      <td>0.0</td>\n",
              "      <td>0.0</td>\n",
              "      <td>1.0</td>\n",
              "      <td>0.0</td>\n",
              "      <td>2.0</td>\n",
              "    </tr>\n",
              "    <tr>\n",
              "      <th>18283</th>\n",
              "      <td>0.0</td>\n",
              "      <td>0.0</td>\n",
              "      <td>0.0</td>\n",
              "      <td>1.0</td>\n",
              "      <td>0.0</td>\n",
              "      <td>0.0</td>\n",
              "      <td>0.0</td>\n",
              "      <td>0.0</td>\n",
              "      <td>0.0</td>\n",
              "      <td>0.0</td>\n",
              "      <td>...</td>\n",
              "      <td>0.0</td>\n",
              "      <td>0.0</td>\n",
              "      <td>0.0</td>\n",
              "      <td>0.0</td>\n",
              "      <td>0.0</td>\n",
              "      <td>0.0</td>\n",
              "      <td>0.0</td>\n",
              "      <td>0.0</td>\n",
              "      <td>1.0</td>\n",
              "      <td>5.0</td>\n",
              "    </tr>\n",
              "    <tr>\n",
              "      <th>78071</th>\n",
              "      <td>0.0</td>\n",
              "      <td>0.0</td>\n",
              "      <td>0.0</td>\n",
              "      <td>0.0</td>\n",
              "      <td>0.0</td>\n",
              "      <td>0.0</td>\n",
              "      <td>0.0</td>\n",
              "      <td>0.0</td>\n",
              "      <td>0.0</td>\n",
              "      <td>0.0</td>\n",
              "      <td>...</td>\n",
              "      <td>0.0</td>\n",
              "      <td>0.0</td>\n",
              "      <td>0.0</td>\n",
              "      <td>0.0</td>\n",
              "      <td>0.0</td>\n",
              "      <td>0.0</td>\n",
              "      <td>0.0</td>\n",
              "      <td>0.0</td>\n",
              "      <td>0.0</td>\n",
              "      <td>3.0</td>\n",
              "    </tr>\n",
              "    <tr>\n",
              "      <th>14756</th>\n",
              "      <td>0.0</td>\n",
              "      <td>0.0</td>\n",
              "      <td>0.0</td>\n",
              "      <td>0.0</td>\n",
              "      <td>1.0</td>\n",
              "      <td>0.0</td>\n",
              "      <td>0.0</td>\n",
              "      <td>0.0</td>\n",
              "      <td>0.0</td>\n",
              "      <td>0.0</td>\n",
              "      <td>...</td>\n",
              "      <td>0.0</td>\n",
              "      <td>0.0</td>\n",
              "      <td>0.0</td>\n",
              "      <td>0.0</td>\n",
              "      <td>0.0</td>\n",
              "      <td>0.0</td>\n",
              "      <td>0.0</td>\n",
              "      <td>1.0</td>\n",
              "      <td>0.0</td>\n",
              "      <td>4.0</td>\n",
              "    </tr>\n",
              "    <tr>\n",
              "      <th>12672</th>\n",
              "      <td>0.0</td>\n",
              "      <td>0.0</td>\n",
              "      <td>0.0</td>\n",
              "      <td>1.0</td>\n",
              "      <td>0.0</td>\n",
              "      <td>0.0</td>\n",
              "      <td>0.0</td>\n",
              "      <td>0.0</td>\n",
              "      <td>0.0</td>\n",
              "      <td>0.0</td>\n",
              "      <td>...</td>\n",
              "      <td>0.0</td>\n",
              "      <td>0.0</td>\n",
              "      <td>0.0</td>\n",
              "      <td>1.0</td>\n",
              "      <td>0.0</td>\n",
              "      <td>1.0</td>\n",
              "      <td>0.0</td>\n",
              "      <td>0.0</td>\n",
              "      <td>0.0</td>\n",
              "      <td>3.0</td>\n",
              "    </tr>\n",
              "    <tr>\n",
              "      <th>...</th>\n",
              "      <td>...</td>\n",
              "      <td>...</td>\n",
              "      <td>...</td>\n",
              "      <td>...</td>\n",
              "      <td>...</td>\n",
              "      <td>...</td>\n",
              "      <td>...</td>\n",
              "      <td>...</td>\n",
              "      <td>...</td>\n",
              "      <td>...</td>\n",
              "      <td>...</td>\n",
              "      <td>...</td>\n",
              "      <td>...</td>\n",
              "      <td>...</td>\n",
              "      <td>...</td>\n",
              "      <td>...</td>\n",
              "      <td>...</td>\n",
              "      <td>...</td>\n",
              "      <td>...</td>\n",
              "      <td>...</td>\n",
              "      <td>...</td>\n",
              "    </tr>\n",
              "    <tr>\n",
              "      <th>57477</th>\n",
              "      <td>0.0</td>\n",
              "      <td>0.0</td>\n",
              "      <td>0.0</td>\n",
              "      <td>0.0</td>\n",
              "      <td>0.0</td>\n",
              "      <td>0.0</td>\n",
              "      <td>0.0</td>\n",
              "      <td>0.0</td>\n",
              "      <td>0.0</td>\n",
              "      <td>0.0</td>\n",
              "      <td>...</td>\n",
              "      <td>0.0</td>\n",
              "      <td>0.0</td>\n",
              "      <td>1.0</td>\n",
              "      <td>0.0</td>\n",
              "      <td>0.0</td>\n",
              "      <td>0.0</td>\n",
              "      <td>0.0</td>\n",
              "      <td>0.0</td>\n",
              "      <td>0.0</td>\n",
              "      <td>6.0</td>\n",
              "    </tr>\n",
              "    <tr>\n",
              "      <th>59765</th>\n",
              "      <td>0.0</td>\n",
              "      <td>0.0</td>\n",
              "      <td>0.0</td>\n",
              "      <td>0.0</td>\n",
              "      <td>0.0</td>\n",
              "      <td>0.0</td>\n",
              "      <td>0.0</td>\n",
              "      <td>0.0</td>\n",
              "      <td>0.0</td>\n",
              "      <td>0.0</td>\n",
              "      <td>...</td>\n",
              "      <td>0.0</td>\n",
              "      <td>0.0</td>\n",
              "      <td>0.0</td>\n",
              "      <td>0.0</td>\n",
              "      <td>0.0</td>\n",
              "      <td>0.0</td>\n",
              "      <td>0.0</td>\n",
              "      <td>0.0</td>\n",
              "      <td>0.0</td>\n",
              "      <td>4.0</td>\n",
              "    </tr>\n",
              "    <tr>\n",
              "      <th>39061</th>\n",
              "      <td>0.0</td>\n",
              "      <td>0.0</td>\n",
              "      <td>0.0</td>\n",
              "      <td>1.0</td>\n",
              "      <td>0.0</td>\n",
              "      <td>0.0</td>\n",
              "      <td>0.0</td>\n",
              "      <td>0.0</td>\n",
              "      <td>0.0</td>\n",
              "      <td>0.0</td>\n",
              "      <td>...</td>\n",
              "      <td>0.0</td>\n",
              "      <td>0.0</td>\n",
              "      <td>0.0</td>\n",
              "      <td>0.0</td>\n",
              "      <td>0.0</td>\n",
              "      <td>1.0</td>\n",
              "      <td>0.0</td>\n",
              "      <td>0.0</td>\n",
              "      <td>0.0</td>\n",
              "      <td>7.0</td>\n",
              "    </tr>\n",
              "    <tr>\n",
              "      <th>72065</th>\n",
              "      <td>0.0</td>\n",
              "      <td>0.0</td>\n",
              "      <td>0.0</td>\n",
              "      <td>1.0</td>\n",
              "      <td>0.0</td>\n",
              "      <td>0.0</td>\n",
              "      <td>0.0</td>\n",
              "      <td>0.0</td>\n",
              "      <td>0.0</td>\n",
              "      <td>0.0</td>\n",
              "      <td>...</td>\n",
              "      <td>0.0</td>\n",
              "      <td>0.0</td>\n",
              "      <td>0.0</td>\n",
              "      <td>0.0</td>\n",
              "      <td>1.0</td>\n",
              "      <td>0.0</td>\n",
              "      <td>0.0</td>\n",
              "      <td>0.0</td>\n",
              "      <td>0.0</td>\n",
              "      <td>12.0</td>\n",
              "    </tr>\n",
              "    <tr>\n",
              "      <th>51539</th>\n",
              "      <td>0.0</td>\n",
              "      <td>0.0</td>\n",
              "      <td>0.0</td>\n",
              "      <td>0.0</td>\n",
              "      <td>0.0</td>\n",
              "      <td>0.0</td>\n",
              "      <td>0.0</td>\n",
              "      <td>0.0</td>\n",
              "      <td>0.0</td>\n",
              "      <td>0.0</td>\n",
              "      <td>...</td>\n",
              "      <td>0.0</td>\n",
              "      <td>0.0</td>\n",
              "      <td>1.0</td>\n",
              "      <td>0.0</td>\n",
              "      <td>0.0</td>\n",
              "      <td>0.0</td>\n",
              "      <td>0.0</td>\n",
              "      <td>1.0</td>\n",
              "      <td>0.0</td>\n",
              "      <td>5.0</td>\n",
              "    </tr>\n",
              "  </tbody>\n",
              "</table>\n",
              "<p>25163 rows × 28 columns</p>\n",
              "</div>"
            ],
            "text/plain": [
              "       vehicle_type_hatchback  vehicle_type_minivan  vehicle_type_other  \\\n",
              "70614                     0.0                   0.0                 0.0   \n",
              "18283                     0.0                   0.0                 0.0   \n",
              "78071                     0.0                   0.0                 0.0   \n",
              "14756                     0.0                   0.0                 0.0   \n",
              "12672                     0.0                   0.0                 0.0   \n",
              "...                       ...                   ...                 ...   \n",
              "57477                     0.0                   0.0                 0.0   \n",
              "59765                     0.0                   0.0                 0.0   \n",
              "39061                     0.0                   0.0                 0.0   \n",
              "72065                     0.0                   0.0                 0.0   \n",
              "51539                     0.0                   0.0                 0.0   \n",
              "\n",
              "       vehicle_type_sedan  weather_1_cloudy  weather_1_fog  weather_1_other  \\\n",
              "70614                 0.0               0.0            0.0              0.0   \n",
              "18283                 1.0               0.0            0.0              0.0   \n",
              "78071                 0.0               0.0            0.0              0.0   \n",
              "14756                 0.0               1.0            0.0              0.0   \n",
              "12672                 1.0               0.0            0.0              0.0   \n",
              "...                   ...               ...            ...              ...   \n",
              "57477                 0.0               0.0            0.0              0.0   \n",
              "59765                 0.0               0.0            0.0              0.0   \n",
              "39061                 1.0               0.0            0.0              0.0   \n",
              "72065                 1.0               0.0            0.0              0.0   \n",
              "51539                 0.0               0.0            0.0              0.0   \n",
              "\n",
              "       weather_1_raining  weather_1_snowing  weather_1_wind  ...  \\\n",
              "70614                0.0                0.0             0.0  ...   \n",
              "18283                0.0                0.0             0.0  ...   \n",
              "78071                0.0                0.0             0.0  ...   \n",
              "14756                0.0                0.0             0.0  ...   \n",
              "12672                0.0                0.0             0.0  ...   \n",
              "...                  ...                ...             ...  ...   \n",
              "57477                0.0                0.0             0.0  ...   \n",
              "59765                0.0                0.0             0.0  ...   \n",
              "39061                0.0                0.0             0.0  ...   \n",
              "72065                0.0                0.0             0.0  ...   \n",
              "51539                0.0                0.0             0.0  ...   \n",
              "\n",
              "       road_condition_1_other  road_condition_1_reduced width  \\\n",
              "70614                     0.0                             0.0   \n",
              "18283                     0.0                             0.0   \n",
              "78071                     0.0                             0.0   \n",
              "14756                     0.0                             0.0   \n",
              "12672                     0.0                             0.0   \n",
              "...                       ...                             ...   \n",
              "57477                     0.0                             0.0   \n",
              "59765                     0.0                             0.0   \n",
              "39061                     0.0                             0.0   \n",
              "72065                     0.0                             0.0   \n",
              "51539                     0.0                             0.0   \n",
              "\n",
              "       direction_north  direction_south  direction_west  \\\n",
              "70614              0.0              1.0             0.0   \n",
              "18283              0.0              0.0             0.0   \n",
              "78071              0.0              0.0             0.0   \n",
              "14756              0.0              0.0             0.0   \n",
              "12672              0.0              1.0             0.0   \n",
              "...                ...              ...             ...   \n",
              "57477              1.0              0.0             0.0   \n",
              "59765              0.0              0.0             0.0   \n",
              "39061              0.0              0.0             0.0   \n",
              "72065              0.0              0.0             1.0   \n",
              "51539              1.0              0.0             0.0   \n",
              "\n",
              "       lighting_dark with street lights  \\\n",
              "70614                               0.0   \n",
              "18283                               0.0   \n",
              "78071                               0.0   \n",
              "14756                               0.0   \n",
              "12672                               1.0   \n",
              "...                                 ...   \n",
              "57477                               0.0   \n",
              "59765                               0.0   \n",
              "39061                               1.0   \n",
              "72065                               0.0   \n",
              "51539                               0.0   \n",
              "\n",
              "       lighting_dark with street lights not functioning  lighting_daylight  \\\n",
              "70614                                               0.0                1.0   \n",
              "18283                                               0.0                0.0   \n",
              "78071                                               0.0                0.0   \n",
              "14756                                               0.0                1.0   \n",
              "12672                                               0.0                0.0   \n",
              "...                                                 ...                ...   \n",
              "57477                                               0.0                0.0   \n",
              "59765                                               0.0                0.0   \n",
              "39061                                               0.0                0.0   \n",
              "72065                                               0.0                0.0   \n",
              "51539                                               0.0                1.0   \n",
              "\n",
              "       lighting_dusk or dawn  vehicle_age  \n",
              "70614                    0.0          2.0  \n",
              "18283                    1.0          5.0  \n",
              "78071                    0.0          3.0  \n",
              "14756                    0.0          4.0  \n",
              "12672                    0.0          3.0  \n",
              "...                      ...          ...  \n",
              "57477                    0.0          6.0  \n",
              "59765                    0.0          4.0  \n",
              "39061                    0.0          7.0  \n",
              "72065                    0.0         12.0  \n",
              "51539                    0.0          5.0  \n",
              "\n",
              "[25163 rows x 28 columns]"
            ]
          },
          "execution_count": 97,
          "metadata": {},
          "output_type": "execute_result"
        }
      ],
      "source": [
        "features_test_new"
      ]
    },
    {
      "cell_type": "code",
      "execution_count": null,
      "id": "2ac1b7a6",
      "metadata": {
        "id": "2ac1b7a6",
        "outputId": "93b099b3-2592-4ef0-b278-cdbfe6bba6f2"
      },
      "outputs": [
        {
          "data": {
            "text/plain": [
              "0    43809\n",
              "1    40065\n",
              "Name: at_fault, dtype: int64"
            ]
          },
          "execution_count": 98,
          "metadata": {},
          "output_type": "execute_result"
        }
      ],
      "source": [
        "data['at_fault'].value_counts()"
      ]
    },
    {
      "cell_type": "markdown",
      "id": "04ecb3c1",
      "metadata": {
        "id": "04ecb3c1"
      },
      "source": [
        "**Вывод:**\n",
        "\n",
        "Небольшой дизбаланс. Лучше использовать Fbeta_score. Так как заказчик не уточнил, что ему важно - точность или полнота, beta = 1- гармоническое среднее между точностью и полнотой."
      ]
    },
    {
      "cell_type": "markdown",
      "id": "351b6a82",
      "metadata": {
        "id": "351b6a82"
      },
      "source": [
        "## Бустинг и Случайный лес"
      ]
    },
    {
      "cell_type": "code",
      "execution_count": null,
      "id": "dc7d1284",
      "metadata": {
        "id": "dc7d1284"
      },
      "outputs": [],
      "source": [
        "\n",
        "def objective(trial):\n",
        "    clf_name = trial.suggest_categorical('classifier',['Forest','CatBoost'])\n",
        "    if clf_name == 'CatBoost':\n",
        "        iterations= trial.suggest_int('iterations', 50, 200,10)\n",
        "        clf_obj =CatBoostClassifier(depth=16,\n",
        "                                   iterations=iterations,\n",
        "                                    random_state=rs)\n",
        "\n",
        "    if clf_name == 'Forest':\n",
        "        n_estimators = trial.suggest_int('n_estimators', 20, 250,10)\n",
        "        max_depth = trial.suggest_int('max_depth', 5, 40,5)\n",
        "        criterion = trial.suggest_categorical('criterion',['gini','entropy'])\n",
        "        clf_obj = RandomForestClassifier(criterion=criterion,\n",
        "                                         max_depth=max_depth,\n",
        "                                         n_estimators=n_estimators,\n",
        "                                         random_state=rs)\n",
        "\n",
        "    # Определяем метрику, на основе которой будет производиться оценка качества\n",
        "    scorer = make_scorer(f1_score)\n",
        "    clf_obj.fit(features_train_new,target_train)\n",
        "    # Выполняем кросс-валидацию\n",
        "    scores = cross_val_score(clf_obj, features_train_new, target_train, cv=3, scoring=scorer)\n",
        "    # Вычисляем среднее значение F-меры по всем фолдам\n",
        "    mean_score = scores.mean()\n",
        "    return mean_score\n"
      ]
    },
    {
      "cell_type": "code",
      "execution_count": null,
      "id": "3b00e38d",
      "metadata": {
        "id": "3b00e38d",
        "outputId": "eb3c7d01-cd9c-4635-ba62-b7e623e9a5b5"
      },
      "outputs": [
        {
          "name": "stderr",
          "output_type": "stream",
          "text": [
            "\u001b[32m[I 2023-04-21 18:32:16,728]\u001b[0m A new study created in memory with name: no-name-61ee7ce1-b975-4a4c-b9c8-5f5c7ca5bd4b\u001b[0m\n"
          ]
        },
        {
          "name": "stdout",
          "output_type": "stream",
          "text": [
            "Learning rate set to 0.282548\n",
            "0:\tlearn: 0.6883026\ttotal: 101ms\tremaining: 18.2s\n",
            "1:\tlearn: 0.6858932\ttotal: 116ms\tremaining: 10.4s\n",
            "2:\tlearn: 0.6822369\ttotal: 1.28s\tremaining: 1m 15s\n",
            "3:\tlearn: 0.6796793\ttotal: 2.74s\tremaining: 2m\n",
            "4:\tlearn: 0.6791738\ttotal: 2.77s\tremaining: 1m 36s\n",
            "5:\tlearn: 0.6780943\ttotal: 3.67s\tremaining: 1m 46s\n",
            "6:\tlearn: 0.6768602\ttotal: 4.53s\tremaining: 1m 52s\n",
            "7:\tlearn: 0.6750627\ttotal: 5.08s\tremaining: 1m 49s\n",
            "8:\tlearn: 0.6750307\ttotal: 5.09s\tremaining: 1m 36s\n",
            "9:\tlearn: 0.6750138\ttotal: 5.1s\tremaining: 1m 26s\n",
            "10:\tlearn: 0.6742117\ttotal: 5.99s\tremaining: 1m 32s\n",
            "11:\tlearn: 0.6741615\ttotal: 6.01s\tremaining: 1m 24s\n",
            "12:\tlearn: 0.6741471\ttotal: 6.02s\tremaining: 1m 17s\n",
            "13:\tlearn: 0.6733343\ttotal: 6.94s\tremaining: 1m 22s\n",
            "14:\tlearn: 0.6732439\ttotal: 6.97s\tremaining: 1m 16s\n",
            "15:\tlearn: 0.6727322\ttotal: 7.87s\tremaining: 1m 20s\n",
            "16:\tlearn: 0.6726785\ttotal: 7.89s\tremaining: 1m 15s\n",
            "17:\tlearn: 0.6723448\ttotal: 7.97s\tremaining: 1m 11s\n",
            "18:\tlearn: 0.6716488\ttotal: 8.85s\tremaining: 1m 15s\n",
            "19:\tlearn: 0.6716167\ttotal: 8.87s\tremaining: 1m 10s\n",
            "20:\tlearn: 0.6711614\ttotal: 9.76s\tremaining: 1m 13s\n",
            "21:\tlearn: 0.6710811\ttotal: 9.79s\tremaining: 1m 10s\n",
            "22:\tlearn: 0.6710679\ttotal: 9.8s\tremaining: 1m 6s\n",
            "23:\tlearn: 0.6704921\ttotal: 10.7s\tremaining: 1m 9s\n",
            "24:\tlearn: 0.6702070\ttotal: 11.5s\tremaining: 1m 11s\n",
            "25:\tlearn: 0.6701981\ttotal: 11.5s\tremaining: 1m 8s\n",
            "26:\tlearn: 0.6701712\ttotal: 11.6s\tremaining: 1m 5s\n",
            "27:\tlearn: 0.6701665\ttotal: 11.6s\tremaining: 1m 2s\n",
            "28:\tlearn: 0.6696906\ttotal: 12.4s\tremaining: 1m 4s\n",
            "29:\tlearn: 0.6693929\ttotal: 13.3s\tremaining: 1m 6s\n",
            "30:\tlearn: 0.6688168\ttotal: 14.2s\tremaining: 1m 8s\n",
            "31:\tlearn: 0.6687990\ttotal: 14.2s\tremaining: 1m 5s\n",
            "32:\tlearn: 0.6687956\ttotal: 14.2s\tremaining: 1m 3s\n",
            "33:\tlearn: 0.6686379\ttotal: 15.1s\tremaining: 1m 4s\n",
            "34:\tlearn: 0.6682324\ttotal: 15.9s\tremaining: 1m 6s\n",
            "35:\tlearn: 0.6681999\ttotal: 16s\tremaining: 1m 3s\n",
            "36:\tlearn: 0.6679123\ttotal: 16.8s\tremaining: 1m 5s\n",
            "37:\tlearn: 0.6675859\ttotal: 17.7s\tremaining: 1m 6s\n",
            "38:\tlearn: 0.6674414\ttotal: 18.6s\tremaining: 1m 7s\n",
            "39:\tlearn: 0.6668566\ttotal: 19.4s\tremaining: 1m 7s\n",
            "40:\tlearn: 0.6664297\ttotal: 20.3s\tremaining: 1m 8s\n",
            "41:\tlearn: 0.6660738\ttotal: 21.1s\tremaining: 1m 9s\n",
            "42:\tlearn: 0.6657040\ttotal: 22s\tremaining: 1m 9s\n",
            "43:\tlearn: 0.6654303\ttotal: 22.8s\tremaining: 1m 10s\n",
            "44:\tlearn: 0.6651645\ttotal: 23.7s\tremaining: 1m 11s\n",
            "45:\tlearn: 0.6648719\ttotal: 24.5s\tremaining: 1m 11s\n",
            "46:\tlearn: 0.6646104\ttotal: 25.4s\tremaining: 1m 11s\n",
            "47:\tlearn: 0.6644459\ttotal: 26.3s\tremaining: 1m 12s\n",
            "48:\tlearn: 0.6643021\ttotal: 27.2s\tremaining: 1m 12s\n",
            "49:\tlearn: 0.6640659\ttotal: 28.1s\tremaining: 1m 12s\n",
            "50:\tlearn: 0.6638938\ttotal: 28.9s\tremaining: 1m 13s\n",
            "51:\tlearn: 0.6636358\ttotal: 29.8s\tremaining: 1m 13s\n",
            "52:\tlearn: 0.6633980\ttotal: 30.7s\tremaining: 1m 13s\n",
            "53:\tlearn: 0.6632074\ttotal: 31.6s\tremaining: 1m 13s\n",
            "54:\tlearn: 0.6630579\ttotal: 32.5s\tremaining: 1m 13s\n",
            "55:\tlearn: 0.6628875\ttotal: 33.8s\tremaining: 1m 14s\n",
            "56:\tlearn: 0.6627172\ttotal: 34.8s\tremaining: 1m 15s\n",
            "57:\tlearn: 0.6625195\ttotal: 35.7s\tremaining: 1m 15s\n",
            "58:\tlearn: 0.6624099\ttotal: 36.6s\tremaining: 1m 15s\n",
            "59:\tlearn: 0.6622999\ttotal: 37.5s\tremaining: 1m 14s\n",
            "60:\tlearn: 0.6621645\ttotal: 38.3s\tremaining: 1m 14s\n",
            "61:\tlearn: 0.6620941\ttotal: 39.2s\tremaining: 1m 14s\n",
            "62:\tlearn: 0.6619630\ttotal: 40.1s\tremaining: 1m 14s\n",
            "63:\tlearn: 0.6618162\ttotal: 41s\tremaining: 1m 14s\n",
            "64:\tlearn: 0.6616726\ttotal: 41.8s\tremaining: 1m 14s\n",
            "65:\tlearn: 0.6615727\ttotal: 42.7s\tremaining: 1m 13s\n",
            "66:\tlearn: 0.6614936\ttotal: 43.6s\tremaining: 1m 13s\n",
            "67:\tlearn: 0.6614210\ttotal: 44.5s\tremaining: 1m 13s\n",
            "68:\tlearn: 0.6613502\ttotal: 45.5s\tremaining: 1m 13s\n",
            "69:\tlearn: 0.6612168\ttotal: 46.4s\tremaining: 1m 12s\n",
            "70:\tlearn: 0.6611578\ttotal: 47.3s\tremaining: 1m 12s\n",
            "71:\tlearn: 0.6610964\ttotal: 48.2s\tremaining: 1m 12s\n",
            "72:\tlearn: 0.6609947\ttotal: 49.1s\tremaining: 1m 11s\n",
            "73:\tlearn: 0.6609392\ttotal: 50s\tremaining: 1m 11s\n",
            "74:\tlearn: 0.6608936\ttotal: 50.8s\tremaining: 1m 11s\n",
            "75:\tlearn: 0.6608132\ttotal: 51.7s\tremaining: 1m 10s\n",
            "76:\tlearn: 0.6607821\ttotal: 52.6s\tremaining: 1m 10s\n",
            "77:\tlearn: 0.6607490\ttotal: 53.5s\tremaining: 1m 9s\n",
            "78:\tlearn: 0.6606909\ttotal: 54.4s\tremaining: 1m 9s\n",
            "79:\tlearn: 0.6606622\ttotal: 55.2s\tremaining: 1m 9s\n",
            "80:\tlearn: 0.6605983\ttotal: 56.1s\tremaining: 1m 8s\n",
            "81:\tlearn: 0.6605781\ttotal: 57s\tremaining: 1m 8s\n",
            "82:\tlearn: 0.6605219\ttotal: 57.9s\tremaining: 1m 7s\n",
            "83:\tlearn: 0.6604822\ttotal: 59s\tremaining: 1m 7s\n",
            "84:\tlearn: 0.6604319\ttotal: 1m\tremaining: 1m 7s\n",
            "85:\tlearn: 0.6603723\ttotal: 1m 1s\tremaining: 1m 6s\n",
            "86:\tlearn: 0.6603353\ttotal: 1m 1s\tremaining: 1m 6s\n",
            "87:\tlearn: 0.6602607\ttotal: 1m 2s\tremaining: 1m 5s\n",
            "88:\tlearn: 0.6602230\ttotal: 1m 3s\tremaining: 1m 5s\n",
            "89:\tlearn: 0.6601810\ttotal: 1m 4s\tremaining: 1m 4s\n",
            "90:\tlearn: 0.6601421\ttotal: 1m 5s\tremaining: 1m 4s\n",
            "91:\tlearn: 0.6601177\ttotal: 1m 6s\tremaining: 1m 3s\n",
            "92:\tlearn: 0.6600605\ttotal: 1m 7s\tremaining: 1m 2s\n",
            "93:\tlearn: 0.6599950\ttotal: 1m 8s\tremaining: 1m 2s\n",
            "94:\tlearn: 0.6599578\ttotal: 1m 9s\tremaining: 1m 1s\n",
            "95:\tlearn: 0.6599039\ttotal: 1m 9s\tremaining: 1m 1s\n",
            "96:\tlearn: 0.6598820\ttotal: 1m 10s\tremaining: 1m\n",
            "97:\tlearn: 0.6598408\ttotal: 1m 11s\tremaining: 1m\n",
            "98:\tlearn: 0.6597844\ttotal: 1m 12s\tremaining: 59.4s\n",
            "99:\tlearn: 0.6597499\ttotal: 1m 13s\tremaining: 58.8s\n",
            "100:\tlearn: 0.6597084\ttotal: 1m 14s\tremaining: 58.2s\n",
            "101:\tlearn: 0.6596894\ttotal: 1m 15s\tremaining: 57.6s\n",
            "102:\tlearn: 0.6596703\ttotal: 1m 16s\tremaining: 56.9s\n",
            "103:\tlearn: 0.6596455\ttotal: 1m 17s\tremaining: 56.3s\n",
            "104:\tlearn: 0.6596148\ttotal: 1m 17s\tremaining: 55.7s\n",
            "105:\tlearn: 0.6595902\ttotal: 1m 18s\tremaining: 55s\n",
            "106:\tlearn: 0.6595631\ttotal: 1m 19s\tremaining: 54.4s\n",
            "107:\tlearn: 0.6595220\ttotal: 1m 20s\tremaining: 53.7s\n",
            "108:\tlearn: 0.6595103\ttotal: 1m 21s\tremaining: 53s\n",
            "109:\tlearn: 0.6594793\ttotal: 1m 22s\tremaining: 52.4s\n",
            "110:\tlearn: 0.6594582\ttotal: 1m 23s\tremaining: 51.7s\n",
            "111:\tlearn: 0.6594318\ttotal: 1m 24s\tremaining: 51s\n",
            "112:\tlearn: 0.6594140\ttotal: 1m 24s\tremaining: 50.4s\n",
            "113:\tlearn: 0.6593989\ttotal: 1m 25s\tremaining: 49.7s\n",
            "114:\tlearn: 0.6593591\ttotal: 1m 26s\tremaining: 49.1s\n",
            "115:\tlearn: 0.6593392\ttotal: 1m 27s\tremaining: 48.4s\n",
            "116:\tlearn: 0.6593253\ttotal: 1m 28s\tremaining: 47.7s\n",
            "117:\tlearn: 0.6592996\ttotal: 1m 29s\tremaining: 47s\n",
            "118:\tlearn: 0.6592917\ttotal: 1m 30s\tremaining: 46.4s\n",
            "119:\tlearn: 0.6592691\ttotal: 1m 31s\tremaining: 45.7s\n",
            "120:\tlearn: 0.6592549\ttotal: 1m 32s\tremaining: 45s\n",
            "121:\tlearn: 0.6592466\ttotal: 1m 33s\tremaining: 44.3s\n",
            "122:\tlearn: 0.6592185\ttotal: 1m 34s\tremaining: 43.6s\n",
            "123:\tlearn: 0.6591943\ttotal: 1m 35s\tremaining: 42.9s\n",
            "124:\tlearn: 0.6591770\ttotal: 1m 35s\tremaining: 42.2s\n",
            "125:\tlearn: 0.6591645\ttotal: 1m 36s\tremaining: 41.5s\n",
            "126:\tlearn: 0.6591462\ttotal: 1m 37s\tremaining: 40.8s\n",
            "127:\tlearn: 0.6591266\ttotal: 1m 38s\tremaining: 40.1s\n",
            "128:\tlearn: 0.6590997\ttotal: 1m 39s\tremaining: 39.4s\n",
            "129:\tlearn: 0.6590821\ttotal: 1m 40s\tremaining: 38.6s\n",
            "130:\tlearn: 0.6590578\ttotal: 1m 41s\tremaining: 37.9s\n",
            "131:\tlearn: 0.6590385\ttotal: 1m 42s\tremaining: 37.1s\n",
            "132:\tlearn: 0.6590167\ttotal: 1m 43s\tremaining: 36.4s\n",
            "133:\tlearn: 0.6590111\ttotal: 1m 43s\tremaining: 35.7s\n",
            "134:\tlearn: 0.6589843\ttotal: 1m 44s\tremaining: 35s\n",
            "135:\tlearn: 0.6589543\ttotal: 1m 45s\tremaining: 34.2s\n",
            "136:\tlearn: 0.6589317\ttotal: 1m 46s\tremaining: 33.5s\n",
            "137:\tlearn: 0.6589124\ttotal: 1m 47s\tremaining: 32.8s\n",
            "138:\tlearn: 0.6588947\ttotal: 1m 48s\tremaining: 32s\n",
            "139:\tlearn: 0.6588873\ttotal: 1m 49s\tremaining: 31.3s\n",
            "140:\tlearn: 0.6588450\ttotal: 1m 50s\tremaining: 30.6s\n",
            "141:\tlearn: 0.6588346\ttotal: 1m 51s\tremaining: 29.8s\n",
            "142:\tlearn: 0.6588255\ttotal: 1m 52s\tremaining: 29.1s\n",
            "143:\tlearn: 0.6588205\ttotal: 1m 53s\tremaining: 28.3s\n",
            "144:\tlearn: 0.6588150\ttotal: 1m 54s\tremaining: 27.5s\n",
            "145:\tlearn: 0.6587898\ttotal: 1m 54s\tremaining: 26.8s\n",
            "146:\tlearn: 0.6587752\ttotal: 1m 55s\tremaining: 26s\n",
            "147:\tlearn: 0.6587547\ttotal: 1m 56s\tremaining: 25.3s\n",
            "148:\tlearn: 0.6587507\ttotal: 1m 57s\tremaining: 24.5s\n",
            "149:\tlearn: 0.6587397\ttotal: 1m 58s\tremaining: 23.7s\n",
            "150:\tlearn: 0.6587237\ttotal: 1m 59s\tremaining: 23s\n",
            "151:\tlearn: 0.6587141\ttotal: 2m\tremaining: 22.2s\n",
            "152:\tlearn: 0.6586985\ttotal: 2m 1s\tremaining: 21.4s\n",
            "153:\tlearn: 0.6586854\ttotal: 2m 2s\tremaining: 20.6s\n",
            "154:\tlearn: 0.6586750\ttotal: 2m 3s\tremaining: 19.8s\n",
            "155:\tlearn: 0.6586668\ttotal: 2m 3s\tremaining: 19.1s\n",
            "156:\tlearn: 0.6586537\ttotal: 2m 4s\tremaining: 18.3s\n",
            "157:\tlearn: 0.6586449\ttotal: 2m 5s\tremaining: 17.5s\n",
            "158:\tlearn: 0.6586307\ttotal: 2m 6s\tremaining: 16.7s\n",
            "159:\tlearn: 0.6586243\ttotal: 2m 7s\tremaining: 15.9s\n",
            "160:\tlearn: 0.6586085\ttotal: 2m 8s\tremaining: 15.1s\n",
            "161:\tlearn: 0.6585989\ttotal: 2m 9s\tremaining: 14.3s\n",
            "162:\tlearn: 0.6585881\ttotal: 2m 9s\tremaining: 13.5s\n",
            "163:\tlearn: 0.6585744\ttotal: 2m 10s\tremaining: 12.8s\n",
            "164:\tlearn: 0.6585618\ttotal: 2m 11s\tremaining: 12s\n",
            "165:\tlearn: 0.6585525\ttotal: 2m 12s\tremaining: 11.2s\n",
            "166:\tlearn: 0.6585401\ttotal: 2m 13s\tremaining: 10.4s\n",
            "167:\tlearn: 0.6585188\ttotal: 2m 14s\tremaining: 9.58s\n",
            "168:\tlearn: 0.6585072\ttotal: 2m 14s\tremaining: 8.78s\n",
            "169:\tlearn: 0.6584996\ttotal: 2m 15s\tremaining: 7.98s\n",
            "170:\tlearn: 0.6584966\ttotal: 2m 16s\tremaining: 7.19s\n",
            "171:\tlearn: 0.6584873\ttotal: 2m 17s\tremaining: 6.39s\n",
            "172:\tlearn: 0.6584780\ttotal: 2m 18s\tremaining: 5.59s\n",
            "173:\tlearn: 0.6584624\ttotal: 2m 19s\tremaining: 4.79s\n",
            "174:\tlearn: 0.6584559\ttotal: 2m 19s\tremaining: 4s\n",
            "175:\tlearn: 0.6584408\ttotal: 2m 20s\tremaining: 3.2s\n",
            "176:\tlearn: 0.6584293\ttotal: 2m 21s\tremaining: 2.4s\n",
            "177:\tlearn: 0.6584193\ttotal: 2m 22s\tremaining: 1.6s\n",
            "178:\tlearn: 0.6584065\ttotal: 2m 23s\tremaining: 800ms\n",
            "179:\tlearn: 0.6583956\ttotal: 2m 24s\tremaining: 0us\n",
            "Learning rate set to 0.237628\n",
            "0:\tlearn: 0.6886859\ttotal: 45.8ms\tremaining: 8.19s\n",
            "1:\tlearn: 0.6821556\ttotal: 922ms\tremaining: 1m 22s\n",
            "2:\tlearn: 0.6794595\ttotal: 992ms\tremaining: 58.5s\n",
            "3:\tlearn: 0.6761863\ttotal: 1.82s\tremaining: 1m 20s\n",
            "4:\tlearn: 0.6745089\ttotal: 2.69s\tremaining: 1m 34s\n",
            "5:\tlearn: 0.6731484\ttotal: 3.54s\tremaining: 1m 42s\n",
            "6:\tlearn: 0.6711226\ttotal: 4.4s\tremaining: 1m 48s\n",
            "7:\tlearn: 0.6700906\ttotal: 5.25s\tremaining: 1m 52s\n",
            "8:\tlearn: 0.6686998\ttotal: 6.13s\tremaining: 1m 56s\n",
            "9:\tlearn: 0.6684636\ttotal: 6.16s\tremaining: 1m 44s\n",
            "10:\tlearn: 0.6674235\ttotal: 7.23s\tremaining: 1m 51s\n",
            "11:\tlearn: 0.6661314\ttotal: 8.38s\tremaining: 1m 57s\n",
            "12:\tlearn: 0.6653251\ttotal: 9.29s\tremaining: 1m 59s\n",
            "13:\tlearn: 0.6651707\ttotal: 9.34s\tremaining: 1m 50s\n",
            "14:\tlearn: 0.6647122\ttotal: 10.2s\tremaining: 1m 52s\n",
            "15:\tlearn: 0.6647122\ttotal: 10.2s\tremaining: 1m 44s\n",
            "16:\tlearn: 0.6643095\ttotal: 11.1s\tremaining: 1m 46s\n",
            "17:\tlearn: 0.6642862\ttotal: 11.1s\tremaining: 1m 39s\n",
            "18:\tlearn: 0.6640998\ttotal: 11.1s\tremaining: 1m 34s\n",
            "19:\tlearn: 0.6640597\ttotal: 11.1s\tremaining: 1m 29s\n",
            "20:\tlearn: 0.6634130\ttotal: 12s\tremaining: 1m 30s\n",
            "21:\tlearn: 0.6630671\ttotal: 12.8s\tremaining: 1m 32s\n",
            "22:\tlearn: 0.6623648\ttotal: 13.6s\tremaining: 1m 32s\n",
            "23:\tlearn: 0.6622371\ttotal: 13.6s\tremaining: 1m 28s\n",
            "24:\tlearn: 0.6615186\ttotal: 14.4s\tremaining: 1m 29s\n",
            "25:\tlearn: 0.6615074\ttotal: 14.5s\tremaining: 1m 25s\n",
            "26:\tlearn: 0.6610672\ttotal: 14.7s\tremaining: 1m 23s\n",
            "27:\tlearn: 0.6609823\ttotal: 14.7s\tremaining: 1m 19s\n",
            "28:\tlearn: 0.6605958\ttotal: 15.6s\tremaining: 1m 20s\n",
            "29:\tlearn: 0.6602916\ttotal: 16.4s\tremaining: 1m 21s\n",
            "30:\tlearn: 0.6601771\ttotal: 16.5s\tremaining: 1m 19s\n",
            "31:\tlearn: 0.6601742\ttotal: 16.5s\tremaining: 1m 16s\n",
            "32:\tlearn: 0.6597290\ttotal: 17.4s\tremaining: 1m 17s\n",
            "33:\tlearn: 0.6593980\ttotal: 18.2s\tremaining: 1m 18s\n",
            "34:\tlearn: 0.6593887\ttotal: 18.2s\tremaining: 1m 15s\n",
            "35:\tlearn: 0.6592473\ttotal: 18.3s\tremaining: 1m 13s\n",
            "36:\tlearn: 0.6592471\ttotal: 18.3s\tremaining: 1m 10s\n",
            "37:\tlearn: 0.6588052\ttotal: 19.2s\tremaining: 1m 11s\n",
            "38:\tlearn: 0.6586817\ttotal: 19.7s\tremaining: 1m 11s\n",
            "39:\tlearn: 0.6586621\ttotal: 19.7s\tremaining: 1m 8s\n",
            "40:\tlearn: 0.6586642\ttotal: 19.7s\tremaining: 1m 6s\n",
            "41:\tlearn: 0.6584179\ttotal: 20.5s\tremaining: 1m 7s\n",
            "42:\tlearn: 0.6583569\ttotal: 20.6s\tremaining: 1m 5s\n",
            "43:\tlearn: 0.6580211\ttotal: 21.5s\tremaining: 1m 6s\n",
            "44:\tlearn: 0.6576331\ttotal: 22.4s\tremaining: 1m 7s\n",
            "45:\tlearn: 0.6570004\ttotal: 23.2s\tremaining: 1m 7s\n",
            "46:\tlearn: 0.6566310\ttotal: 24.1s\tremaining: 1m 8s\n",
            "47:\tlearn: 0.6563039\ttotal: 24.9s\tremaining: 1m 8s\n",
            "48:\tlearn: 0.6560968\ttotal: 25.7s\tremaining: 1m 8s\n",
            "49:\tlearn: 0.6558663\ttotal: 26.6s\tremaining: 1m 9s\n",
            "50:\tlearn: 0.6554759\ttotal: 27.4s\tremaining: 1m 9s\n",
            "51:\tlearn: 0.6551421\ttotal: 28.2s\tremaining: 1m 9s\n",
            "52:\tlearn: 0.6547953\ttotal: 29s\tremaining: 1m 9s\n",
            "53:\tlearn: 0.6545165\ttotal: 29.9s\tremaining: 1m 9s\n",
            "54:\tlearn: 0.6545149\ttotal: 29.9s\tremaining: 1m 7s\n",
            "55:\tlearn: 0.6542068\ttotal: 30.7s\tremaining: 1m 8s\n",
            "56:\tlearn: 0.6539814\ttotal: 31.6s\tremaining: 1m 8s\n",
            "57:\tlearn: 0.6537498\ttotal: 32.4s\tremaining: 1m 8s\n",
            "58:\tlearn: 0.6535690\ttotal: 33.2s\tremaining: 1m 8s\n",
            "59:\tlearn: 0.6534109\ttotal: 34.1s\tremaining: 1m 8s\n",
            "60:\tlearn: 0.6532697\ttotal: 35s\tremaining: 1m 8s\n",
            "61:\tlearn: 0.6529532\ttotal: 35.7s\tremaining: 1m 8s\n",
            "62:\tlearn: 0.6527459\ttotal: 36.6s\tremaining: 1m 7s\n",
            "63:\tlearn: 0.6525514\ttotal: 37.5s\tremaining: 1m 7s\n",
            "64:\tlearn: 0.6524118\ttotal: 38.3s\tremaining: 1m 7s\n",
            "65:\tlearn: 0.6522299\ttotal: 39.1s\tremaining: 1m 7s\n",
            "66:\tlearn: 0.6520794\ttotal: 40s\tremaining: 1m 7s\n",
            "67:\tlearn: 0.6520135\ttotal: 40.8s\tremaining: 1m 7s\n",
            "68:\tlearn: 0.6519014\ttotal: 41.6s\tremaining: 1m 6s\n",
            "69:\tlearn: 0.6518518\ttotal: 42.1s\tremaining: 1m 6s\n",
            "70:\tlearn: 0.6517012\ttotal: 43s\tremaining: 1m 5s\n",
            "71:\tlearn: 0.6515712\ttotal: 43.8s\tremaining: 1m 5s\n",
            "72:\tlearn: 0.6514271\ttotal: 44.7s\tremaining: 1m 5s\n",
            "73:\tlearn: 0.6512714\ttotal: 45.5s\tremaining: 1m 5s\n",
            "74:\tlearn: 0.6511759\ttotal: 46.3s\tremaining: 1m 4s\n",
            "75:\tlearn: 0.6511017\ttotal: 47.1s\tremaining: 1m 4s\n",
            "76:\tlearn: 0.6509014\ttotal: 47.9s\tremaining: 1m 4s\n",
            "77:\tlearn: 0.6507516\ttotal: 48.7s\tremaining: 1m 3s\n",
            "78:\tlearn: 0.6506496\ttotal: 49.5s\tremaining: 1m 3s\n",
            "79:\tlearn: 0.6505323\ttotal: 50.3s\tremaining: 1m 2s\n",
            "80:\tlearn: 0.6504512\ttotal: 51.2s\tremaining: 1m 2s\n",
            "81:\tlearn: 0.6503817\ttotal: 52s\tremaining: 1m 2s\n",
            "82:\tlearn: 0.6503080\ttotal: 52.8s\tremaining: 1m 1s\n",
            "83:\tlearn: 0.6502537\ttotal: 53.6s\tremaining: 1m 1s\n",
            "84:\tlearn: 0.6501861\ttotal: 54.4s\tremaining: 1m\n",
            "85:\tlearn: 0.6501053\ttotal: 55.3s\tremaining: 1m\n",
            "86:\tlearn: 0.6499877\ttotal: 56.1s\tremaining: 60s\n",
            "87:\tlearn: 0.6499180\ttotal: 56.9s\tremaining: 59.5s\n",
            "88:\tlearn: 0.6498673\ttotal: 57.7s\tremaining: 59s\n",
            "89:\tlearn: 0.6498120\ttotal: 58.6s\tremaining: 58.6s\n",
            "90:\tlearn: 0.6497473\ttotal: 59.4s\tremaining: 58.1s\n",
            "91:\tlearn: 0.6496711\ttotal: 1m\tremaining: 57.7s\n",
            "92:\tlearn: 0.6496270\ttotal: 1m 1s\tremaining: 57.2s\n",
            "93:\tlearn: 0.6495277\ttotal: 1m 1s\tremaining: 56.7s\n",
            "94:\tlearn: 0.6494674\ttotal: 1m 2s\tremaining: 56.2s\n",
            "95:\tlearn: 0.6493859\ttotal: 1m 3s\tremaining: 55.7s\n",
            "96:\tlearn: 0.6493212\ttotal: 1m 4s\tremaining: 55.1s\n",
            "97:\tlearn: 0.6492688\ttotal: 1m 5s\tremaining: 54.7s\n",
            "98:\tlearn: 0.6492414\ttotal: 1m 6s\tremaining: 54.2s\n",
            "99:\tlearn: 0.6491992\ttotal: 1m 7s\tremaining: 53.7s\n",
            "100:\tlearn: 0.6491603\ttotal: 1m 7s\tremaining: 53.2s\n",
            "101:\tlearn: 0.6490905\ttotal: 1m 8s\tremaining: 52.7s\n",
            "102:\tlearn: 0.6490350\ttotal: 1m 9s\tremaining: 52.2s\n",
            "103:\tlearn: 0.6489944\ttotal: 1m 10s\tremaining: 51.6s\n",
            "104:\tlearn: 0.6489529\ttotal: 1m 11s\tremaining: 51.1s\n",
            "105:\tlearn: 0.6489118\ttotal: 1m 12s\tremaining: 50.5s\n",
            "106:\tlearn: 0.6488633\ttotal: 1m 13s\tremaining: 49.9s\n",
            "107:\tlearn: 0.6488164\ttotal: 1m 13s\tremaining: 49.3s\n",
            "108:\tlearn: 0.6487642\ttotal: 1m 14s\tremaining: 48.7s\n",
            "109:\tlearn: 0.6487215\ttotal: 1m 15s\tremaining: 48.1s\n",
            "110:\tlearn: 0.6486693\ttotal: 1m 16s\tremaining: 47.5s\n",
            "111:\tlearn: 0.6486499\ttotal: 1m 17s\tremaining: 47s\n",
            "112:\tlearn: 0.6486198\ttotal: 1m 18s\tremaining: 46.4s\n",
            "113:\tlearn: 0.6485840\ttotal: 1m 19s\tremaining: 45.8s\n",
            "114:\tlearn: 0.6485478\ttotal: 1m 19s\tremaining: 45.2s\n",
            "115:\tlearn: 0.6485156\ttotal: 1m 20s\tremaining: 44.6s\n",
            "116:\tlearn: 0.6484904\ttotal: 1m 21s\tremaining: 44s\n",
            "117:\tlearn: 0.6484449\ttotal: 1m 22s\tremaining: 43.4s\n",
            "118:\tlearn: 0.6484012\ttotal: 1m 23s\tremaining: 42.8s\n",
            "119:\tlearn: 0.6483797\ttotal: 1m 24s\tremaining: 42.2s\n",
            "120:\tlearn: 0.6483277\ttotal: 1m 25s\tremaining: 41.5s\n",
            "121:\tlearn: 0.6482955\ttotal: 1m 25s\tremaining: 40.9s\n",
            "122:\tlearn: 0.6482750\ttotal: 1m 26s\tremaining: 40.2s\n",
            "123:\tlearn: 0.6482405\ttotal: 1m 27s\tremaining: 39.6s\n",
            "124:\tlearn: 0.6482001\ttotal: 1m 28s\tremaining: 39s\n",
            "125:\tlearn: 0.6481645\ttotal: 1m 29s\tremaining: 38.3s\n",
            "126:\tlearn: 0.6481303\ttotal: 1m 30s\tremaining: 37.7s\n",
            "127:\tlearn: 0.6481129\ttotal: 1m 31s\tremaining: 37s\n",
            "128:\tlearn: 0.6480852\ttotal: 1m 31s\tremaining: 36.4s\n",
            "129:\tlearn: 0.6480659\ttotal: 1m 32s\tremaining: 35.7s\n",
            "130:\tlearn: 0.6480386\ttotal: 1m 33s\tremaining: 35.1s\n",
            "131:\tlearn: 0.6480112\ttotal: 1m 34s\tremaining: 34.4s\n",
            "132:\tlearn: 0.6479842\ttotal: 1m 35s\tremaining: 33.8s\n",
            "133:\tlearn: 0.6479611\ttotal: 1m 36s\tremaining: 33.1s\n",
            "134:\tlearn: 0.6479353\ttotal: 1m 37s\tremaining: 32.5s\n",
            "135:\tlearn: 0.6479068\ttotal: 1m 38s\tremaining: 31.9s\n",
            "136:\tlearn: 0.6478674\ttotal: 1m 39s\tremaining: 31.2s\n",
            "137:\tlearn: 0.6478387\ttotal: 1m 40s\tremaining: 30.5s\n",
            "138:\tlearn: 0.6477916\ttotal: 1m 41s\tremaining: 29.8s\n",
            "139:\tlearn: 0.6477623\ttotal: 1m 42s\tremaining: 29.2s\n",
            "140:\tlearn: 0.6477359\ttotal: 1m 42s\tremaining: 28.5s\n",
            "141:\tlearn: 0.6477087\ttotal: 1m 43s\tremaining: 27.8s\n",
            "142:\tlearn: 0.6476740\ttotal: 1m 44s\tremaining: 27.1s\n",
            "143:\tlearn: 0.6476543\ttotal: 1m 45s\tremaining: 26.4s\n",
            "144:\tlearn: 0.6476392\ttotal: 1m 46s\tremaining: 25.7s\n",
            "145:\tlearn: 0.6476202\ttotal: 1m 47s\tremaining: 25s\n",
            "146:\tlearn: 0.6475989\ttotal: 1m 48s\tremaining: 24.3s\n",
            "147:\tlearn: 0.6475779\ttotal: 1m 48s\tremaining: 23.6s\n",
            "148:\tlearn: 0.6475623\ttotal: 1m 50s\tremaining: 22.9s\n"
          ]
        },
        {
          "name": "stderr",
          "output_type": "stream",
          "text": [
            "\u001b[33m[W 2023-04-21 18:36:34,313]\u001b[0m Trial 0 failed with parameters: {'classifier': 'CatBoost', 'iterations': 180} because of the following error: KeyboardInterrupt('').\u001b[0m\n",
            "Traceback (most recent call last):\n",
            "  File \"/opt/conda/lib/python3.9/site-packages/optuna/study/_optimize.py\", line 200, in _run_trial\n",
            "    value_or_values = func(trial)\n",
            "  File \"/tmp/ipykernel_195/285611897.py\", line 22, in objective\n",
            "    scores = cross_val_score(clf_obj, features_train_new, target_train, cv=3, scoring=scorer)\n",
            "  File \"/opt/conda/lib/python3.9/site-packages/sklearn/model_selection/_validation.py\", line 515, in cross_val_score\n",
            "    cv_results = cross_validate(\n",
            "  File \"/opt/conda/lib/python3.9/site-packages/sklearn/model_selection/_validation.py\", line 266, in cross_validate\n",
            "    results = parallel(\n",
            "  File \"/opt/conda/lib/python3.9/site-packages/joblib/parallel.py\", line 1043, in __call__\n",
            "    if self.dispatch_one_batch(iterator):\n",
            "  File \"/opt/conda/lib/python3.9/site-packages/joblib/parallel.py\", line 861, in dispatch_one_batch\n",
            "    self._dispatch(tasks)\n",
            "  File \"/opt/conda/lib/python3.9/site-packages/joblib/parallel.py\", line 779, in _dispatch\n",
            "    job = self._backend.apply_async(batch, callback=cb)\n",
            "  File \"/opt/conda/lib/python3.9/site-packages/joblib/_parallel_backends.py\", line 208, in apply_async\n",
            "    result = ImmediateResult(func)\n",
            "  File \"/opt/conda/lib/python3.9/site-packages/joblib/_parallel_backends.py\", line 572, in __init__\n",
            "    self.results = batch()\n",
            "  File \"/opt/conda/lib/python3.9/site-packages/joblib/parallel.py\", line 262, in __call__\n",
            "    return [func(*args, **kwargs)\n",
            "  File \"/opt/conda/lib/python3.9/site-packages/joblib/parallel.py\", line 262, in <listcomp>\n",
            "    return [func(*args, **kwargs)\n",
            "  File \"/opt/conda/lib/python3.9/site-packages/sklearn/utils/fixes.py\", line 117, in __call__\n",
            "    return self.function(*args, **kwargs)\n",
            "  File \"/opt/conda/lib/python3.9/site-packages/sklearn/model_selection/_validation.py\", line 686, in _fit_and_score\n",
            "    estimator.fit(X_train, y_train, **fit_params)\n",
            "  File \"/opt/conda/lib/python3.9/site-packages/catboost/core.py\", line 4716, in fit\n",
            "    self._fit(X, y, cat_features, text_features, embedding_features, None, sample_weight, None, None, None, None, baseline, use_best_model,\n",
            "  File \"/opt/conda/lib/python3.9/site-packages/catboost/core.py\", line 2037, in _fit\n",
            "    self._train(\n",
            "  File \"/opt/conda/lib/python3.9/site-packages/catboost/core.py\", line 1464, in _train\n",
            "    self._object._train(train_pool, test_pool, params, allow_clear_pool, init_model._object if init_model else None)\n",
            "  File \"_catboost.pyx\", line 4393, in _catboost._CatBoost._train\n",
            "  File \"_catboost.pyx\", line 4442, in _catboost._CatBoost._train\n",
            "KeyboardInterrupt\n",
            "\u001b[33m[W 2023-04-21 18:36:34,469]\u001b[0m Trial 0 failed with value None.\u001b[0m\n"
          ]
        },
        {
          "ename": "KeyboardInterrupt",
          "evalue": "",
          "output_type": "error",
          "traceback": [
            "\u001b[0;31m---------------------------------------------------------------------------\u001b[0m",
            "\u001b[0;31mKeyboardInterrupt\u001b[0m                         Traceback (most recent call last)",
            "\u001b[0;32m/tmp/ipykernel_195/2140730846.py\u001b[0m in \u001b[0;36m<module>\u001b[0;34m\u001b[0m\n\u001b[1;32m      2\u001b[0m \u001b[0;32mif\u001b[0m \u001b[0m__name__\u001b[0m \u001b[0;34m==\u001b[0m \u001b[0;34m'__main__'\u001b[0m\u001b[0;34m:\u001b[0m\u001b[0;34m\u001b[0m\u001b[0;34m\u001b[0m\u001b[0m\n\u001b[1;32m      3\u001b[0m     \u001b[0mstudy\u001b[0m \u001b[0;34m=\u001b[0m \u001b[0moptuna\u001b[0m\u001b[0;34m.\u001b[0m\u001b[0mcreate_study\u001b[0m\u001b[0;34m(\u001b[0m\u001b[0mdirection\u001b[0m\u001b[0;34m=\u001b[0m\u001b[0;34m'maximize'\u001b[0m\u001b[0;34m)\u001b[0m\u001b[0;34m\u001b[0m\u001b[0;34m\u001b[0m\u001b[0m\n\u001b[0;32m----> 4\u001b[0;31m     \u001b[0mstudy\u001b[0m\u001b[0;34m.\u001b[0m\u001b[0moptimize\u001b[0m\u001b[0;34m(\u001b[0m\u001b[0mobjective\u001b[0m\u001b[0;34m,\u001b[0m \u001b[0mn_trials\u001b[0m \u001b[0;34m=\u001b[0m\u001b[0;36m50\u001b[0m\u001b[0;34m)\u001b[0m\u001b[0;34m\u001b[0m\u001b[0;34m\u001b[0m\u001b[0m\n\u001b[0m\u001b[1;32m      5\u001b[0m     \u001b[0mprint\u001b[0m\u001b[0;34m(\u001b[0m\u001b[0mstudy\u001b[0m\u001b[0;34m.\u001b[0m\u001b[0mbest_trial\u001b[0m\u001b[0;34m)\u001b[0m\u001b[0;34m\u001b[0m\u001b[0;34m\u001b[0m\u001b[0m\n\u001b[1;32m      6\u001b[0m \u001b[0;34m\u001b[0m\u001b[0m\n",
            "\u001b[0;32m/opt/conda/lib/python3.9/site-packages/optuna/study/study.py\u001b[0m in \u001b[0;36moptimize\u001b[0;34m(self, func, n_trials, timeout, n_jobs, catch, callbacks, gc_after_trial, show_progress_bar)\u001b[0m\n\u001b[1;32m    423\u001b[0m         \"\"\"\n\u001b[1;32m    424\u001b[0m \u001b[0;34m\u001b[0m\u001b[0m\n\u001b[0;32m--> 425\u001b[0;31m         _optimize(\n\u001b[0m\u001b[1;32m    426\u001b[0m             \u001b[0mstudy\u001b[0m\u001b[0;34m=\u001b[0m\u001b[0mself\u001b[0m\u001b[0;34m,\u001b[0m\u001b[0;34m\u001b[0m\u001b[0;34m\u001b[0m\u001b[0m\n\u001b[1;32m    427\u001b[0m             \u001b[0mfunc\u001b[0m\u001b[0;34m=\u001b[0m\u001b[0mfunc\u001b[0m\u001b[0;34m,\u001b[0m\u001b[0;34m\u001b[0m\u001b[0;34m\u001b[0m\u001b[0m\n",
            "\u001b[0;32m/opt/conda/lib/python3.9/site-packages/optuna/study/_optimize.py\u001b[0m in \u001b[0;36m_optimize\u001b[0;34m(study, func, n_trials, timeout, n_jobs, catch, callbacks, gc_after_trial, show_progress_bar)\u001b[0m\n\u001b[1;32m     64\u001b[0m     \u001b[0;32mtry\u001b[0m\u001b[0;34m:\u001b[0m\u001b[0;34m\u001b[0m\u001b[0;34m\u001b[0m\u001b[0m\n\u001b[1;32m     65\u001b[0m         \u001b[0;32mif\u001b[0m \u001b[0mn_jobs\u001b[0m \u001b[0;34m==\u001b[0m \u001b[0;36m1\u001b[0m\u001b[0;34m:\u001b[0m\u001b[0;34m\u001b[0m\u001b[0;34m\u001b[0m\u001b[0m\n\u001b[0;32m---> 66\u001b[0;31m             _optimize_sequential(\n\u001b[0m\u001b[1;32m     67\u001b[0m                 \u001b[0mstudy\u001b[0m\u001b[0;34m,\u001b[0m\u001b[0;34m\u001b[0m\u001b[0;34m\u001b[0m\u001b[0m\n\u001b[1;32m     68\u001b[0m                 \u001b[0mfunc\u001b[0m\u001b[0;34m,\u001b[0m\u001b[0;34m\u001b[0m\u001b[0;34m\u001b[0m\u001b[0m\n",
            "\u001b[0;32m/opt/conda/lib/python3.9/site-packages/optuna/study/_optimize.py\u001b[0m in \u001b[0;36m_optimize_sequential\u001b[0;34m(study, func, n_trials, timeout, catch, callbacks, gc_after_trial, reseed_sampler_rng, time_start, progress_bar)\u001b[0m\n\u001b[1;32m    161\u001b[0m \u001b[0;34m\u001b[0m\u001b[0m\n\u001b[1;32m    162\u001b[0m         \u001b[0;32mtry\u001b[0m\u001b[0;34m:\u001b[0m\u001b[0;34m\u001b[0m\u001b[0;34m\u001b[0m\u001b[0m\n\u001b[0;32m--> 163\u001b[0;31m             \u001b[0mfrozen_trial\u001b[0m \u001b[0;34m=\u001b[0m \u001b[0m_run_trial\u001b[0m\u001b[0;34m(\u001b[0m\u001b[0mstudy\u001b[0m\u001b[0;34m,\u001b[0m \u001b[0mfunc\u001b[0m\u001b[0;34m,\u001b[0m \u001b[0mcatch\u001b[0m\u001b[0;34m)\u001b[0m\u001b[0;34m\u001b[0m\u001b[0;34m\u001b[0m\u001b[0m\n\u001b[0m\u001b[1;32m    164\u001b[0m         \u001b[0;32mfinally\u001b[0m\u001b[0;34m:\u001b[0m\u001b[0;34m\u001b[0m\u001b[0;34m\u001b[0m\u001b[0m\n\u001b[1;32m    165\u001b[0m             \u001b[0;31m# The following line mitigates memory problems that can be occurred in some\u001b[0m\u001b[0;34m\u001b[0m\u001b[0;34m\u001b[0m\u001b[0;34m\u001b[0m\u001b[0m\n",
            "\u001b[0;32m/opt/conda/lib/python3.9/site-packages/optuna/study/_optimize.py\u001b[0m in \u001b[0;36m_run_trial\u001b[0;34m(study, func, catch)\u001b[0m\n\u001b[1;32m    249\u001b[0m         \u001b[0;32mand\u001b[0m \u001b[0;32mnot\u001b[0m \u001b[0misinstance\u001b[0m\u001b[0;34m(\u001b[0m\u001b[0mfunc_err\u001b[0m\u001b[0;34m,\u001b[0m \u001b[0mcatch\u001b[0m\u001b[0;34m)\u001b[0m\u001b[0;34m\u001b[0m\u001b[0;34m\u001b[0m\u001b[0m\n\u001b[1;32m    250\u001b[0m     ):\n\u001b[0;32m--> 251\u001b[0;31m         \u001b[0;32mraise\u001b[0m \u001b[0mfunc_err\u001b[0m\u001b[0;34m\u001b[0m\u001b[0;34m\u001b[0m\u001b[0m\n\u001b[0m\u001b[1;32m    252\u001b[0m     \u001b[0;32mreturn\u001b[0m \u001b[0mfrozen_trial\u001b[0m\u001b[0;34m\u001b[0m\u001b[0;34m\u001b[0m\u001b[0m\n\u001b[1;32m    253\u001b[0m \u001b[0;34m\u001b[0m\u001b[0m\n",
            "\u001b[0;32m/opt/conda/lib/python3.9/site-packages/optuna/study/_optimize.py\u001b[0m in \u001b[0;36m_run_trial\u001b[0;34m(study, func, catch)\u001b[0m\n\u001b[1;32m    198\u001b[0m     \u001b[0;32mwith\u001b[0m \u001b[0mget_heartbeat_thread\u001b[0m\u001b[0;34m(\u001b[0m\u001b[0mtrial\u001b[0m\u001b[0;34m.\u001b[0m\u001b[0m_trial_id\u001b[0m\u001b[0;34m,\u001b[0m \u001b[0mstudy\u001b[0m\u001b[0;34m.\u001b[0m\u001b[0m_storage\u001b[0m\u001b[0;34m)\u001b[0m\u001b[0;34m:\u001b[0m\u001b[0;34m\u001b[0m\u001b[0;34m\u001b[0m\u001b[0m\n\u001b[1;32m    199\u001b[0m         \u001b[0;32mtry\u001b[0m\u001b[0;34m:\u001b[0m\u001b[0;34m\u001b[0m\u001b[0;34m\u001b[0m\u001b[0m\n\u001b[0;32m--> 200\u001b[0;31m             \u001b[0mvalue_or_values\u001b[0m \u001b[0;34m=\u001b[0m \u001b[0mfunc\u001b[0m\u001b[0;34m(\u001b[0m\u001b[0mtrial\u001b[0m\u001b[0;34m)\u001b[0m\u001b[0;34m\u001b[0m\u001b[0;34m\u001b[0m\u001b[0m\n\u001b[0m\u001b[1;32m    201\u001b[0m         \u001b[0;32mexcept\u001b[0m \u001b[0mexceptions\u001b[0m\u001b[0;34m.\u001b[0m\u001b[0mTrialPruned\u001b[0m \u001b[0;32mas\u001b[0m \u001b[0me\u001b[0m\u001b[0;34m:\u001b[0m\u001b[0;34m\u001b[0m\u001b[0;34m\u001b[0m\u001b[0m\n\u001b[1;32m    202\u001b[0m             \u001b[0;31m# TODO(mamu): Handle multi-objective cases.\u001b[0m\u001b[0;34m\u001b[0m\u001b[0;34m\u001b[0m\u001b[0;34m\u001b[0m\u001b[0m\n",
            "\u001b[0;32m/tmp/ipykernel_195/285611897.py\u001b[0m in \u001b[0;36mobjective\u001b[0;34m(trial)\u001b[0m\n\u001b[1;32m     20\u001b[0m     \u001b[0mclf_obj\u001b[0m\u001b[0;34m.\u001b[0m\u001b[0mfit\u001b[0m\u001b[0;34m(\u001b[0m\u001b[0mfeatures_train_new\u001b[0m\u001b[0;34m,\u001b[0m\u001b[0mtarget_train\u001b[0m\u001b[0;34m)\u001b[0m\u001b[0;34m\u001b[0m\u001b[0;34m\u001b[0m\u001b[0m\n\u001b[1;32m     21\u001b[0m     \u001b[0;31m# Выполняем кросс-валидацию\u001b[0m\u001b[0;34m\u001b[0m\u001b[0;34m\u001b[0m\u001b[0;34m\u001b[0m\u001b[0m\n\u001b[0;32m---> 22\u001b[0;31m     \u001b[0mscores\u001b[0m \u001b[0;34m=\u001b[0m \u001b[0mcross_val_score\u001b[0m\u001b[0;34m(\u001b[0m\u001b[0mclf_obj\u001b[0m\u001b[0;34m,\u001b[0m \u001b[0mfeatures_train_new\u001b[0m\u001b[0;34m,\u001b[0m \u001b[0mtarget_train\u001b[0m\u001b[0;34m,\u001b[0m \u001b[0mcv\u001b[0m\u001b[0;34m=\u001b[0m\u001b[0;36m3\u001b[0m\u001b[0;34m,\u001b[0m \u001b[0mscoring\u001b[0m\u001b[0;34m=\u001b[0m\u001b[0mscorer\u001b[0m\u001b[0;34m)\u001b[0m\u001b[0;34m\u001b[0m\u001b[0;34m\u001b[0m\u001b[0m\n\u001b[0m\u001b[1;32m     23\u001b[0m     \u001b[0;31m# Вычисляем среднее значение F-меры по всем фолдам\u001b[0m\u001b[0;34m\u001b[0m\u001b[0;34m\u001b[0m\u001b[0;34m\u001b[0m\u001b[0m\n\u001b[1;32m     24\u001b[0m     \u001b[0mmean_score\u001b[0m \u001b[0;34m=\u001b[0m \u001b[0mscores\u001b[0m\u001b[0;34m.\u001b[0m\u001b[0mmean\u001b[0m\u001b[0;34m(\u001b[0m\u001b[0;34m)\u001b[0m\u001b[0;34m\u001b[0m\u001b[0;34m\u001b[0m\u001b[0m\n",
            "\u001b[0;32m/opt/conda/lib/python3.9/site-packages/sklearn/model_selection/_validation.py\u001b[0m in \u001b[0;36mcross_val_score\u001b[0;34m(estimator, X, y, groups, scoring, cv, n_jobs, verbose, fit_params, pre_dispatch, error_score)\u001b[0m\n\u001b[1;32m    513\u001b[0m     \u001b[0mscorer\u001b[0m \u001b[0;34m=\u001b[0m \u001b[0mcheck_scoring\u001b[0m\u001b[0;34m(\u001b[0m\u001b[0mestimator\u001b[0m\u001b[0;34m,\u001b[0m \u001b[0mscoring\u001b[0m\u001b[0;34m=\u001b[0m\u001b[0mscoring\u001b[0m\u001b[0;34m)\u001b[0m\u001b[0;34m\u001b[0m\u001b[0;34m\u001b[0m\u001b[0m\n\u001b[1;32m    514\u001b[0m \u001b[0;34m\u001b[0m\u001b[0m\n\u001b[0;32m--> 515\u001b[0;31m     cv_results = cross_validate(\n\u001b[0m\u001b[1;32m    516\u001b[0m         \u001b[0mestimator\u001b[0m\u001b[0;34m=\u001b[0m\u001b[0mestimator\u001b[0m\u001b[0;34m,\u001b[0m\u001b[0;34m\u001b[0m\u001b[0;34m\u001b[0m\u001b[0m\n\u001b[1;32m    517\u001b[0m         \u001b[0mX\u001b[0m\u001b[0;34m=\u001b[0m\u001b[0mX\u001b[0m\u001b[0;34m,\u001b[0m\u001b[0;34m\u001b[0m\u001b[0;34m\u001b[0m\u001b[0m\n",
            "\u001b[0;32m/opt/conda/lib/python3.9/site-packages/sklearn/model_selection/_validation.py\u001b[0m in \u001b[0;36mcross_validate\u001b[0;34m(estimator, X, y, groups, scoring, cv, n_jobs, verbose, fit_params, pre_dispatch, return_train_score, return_estimator, error_score)\u001b[0m\n\u001b[1;32m    264\u001b[0m     \u001b[0;31m# independent, and that it is pickle-able.\u001b[0m\u001b[0;34m\u001b[0m\u001b[0;34m\u001b[0m\u001b[0;34m\u001b[0m\u001b[0m\n\u001b[1;32m    265\u001b[0m     \u001b[0mparallel\u001b[0m \u001b[0;34m=\u001b[0m \u001b[0mParallel\u001b[0m\u001b[0;34m(\u001b[0m\u001b[0mn_jobs\u001b[0m\u001b[0;34m=\u001b[0m\u001b[0mn_jobs\u001b[0m\u001b[0;34m,\u001b[0m \u001b[0mverbose\u001b[0m\u001b[0;34m=\u001b[0m\u001b[0mverbose\u001b[0m\u001b[0;34m,\u001b[0m \u001b[0mpre_dispatch\u001b[0m\u001b[0;34m=\u001b[0m\u001b[0mpre_dispatch\u001b[0m\u001b[0;34m)\u001b[0m\u001b[0;34m\u001b[0m\u001b[0;34m\u001b[0m\u001b[0m\n\u001b[0;32m--> 266\u001b[0;31m     results = parallel(\n\u001b[0m\u001b[1;32m    267\u001b[0m         delayed(_fit_and_score)(\n\u001b[1;32m    268\u001b[0m             \u001b[0mclone\u001b[0m\u001b[0;34m(\u001b[0m\u001b[0mestimator\u001b[0m\u001b[0;34m)\u001b[0m\u001b[0;34m,\u001b[0m\u001b[0;34m\u001b[0m\u001b[0;34m\u001b[0m\u001b[0m\n",
            "\u001b[0;32m/opt/conda/lib/python3.9/site-packages/joblib/parallel.py\u001b[0m in \u001b[0;36m__call__\u001b[0;34m(self, iterable)\u001b[0m\n\u001b[1;32m   1041\u001b[0m             \u001b[0;31m# remaining jobs.\u001b[0m\u001b[0;34m\u001b[0m\u001b[0;34m\u001b[0m\u001b[0;34m\u001b[0m\u001b[0m\n\u001b[1;32m   1042\u001b[0m             \u001b[0mself\u001b[0m\u001b[0;34m.\u001b[0m\u001b[0m_iterating\u001b[0m \u001b[0;34m=\u001b[0m \u001b[0;32mFalse\u001b[0m\u001b[0;34m\u001b[0m\u001b[0;34m\u001b[0m\u001b[0m\n\u001b[0;32m-> 1043\u001b[0;31m             \u001b[0;32mif\u001b[0m \u001b[0mself\u001b[0m\u001b[0;34m.\u001b[0m\u001b[0mdispatch_one_batch\u001b[0m\u001b[0;34m(\u001b[0m\u001b[0miterator\u001b[0m\u001b[0;34m)\u001b[0m\u001b[0;34m:\u001b[0m\u001b[0;34m\u001b[0m\u001b[0;34m\u001b[0m\u001b[0m\n\u001b[0m\u001b[1;32m   1044\u001b[0m                 \u001b[0mself\u001b[0m\u001b[0;34m.\u001b[0m\u001b[0m_iterating\u001b[0m \u001b[0;34m=\u001b[0m \u001b[0mself\u001b[0m\u001b[0;34m.\u001b[0m\u001b[0m_original_iterator\u001b[0m \u001b[0;32mis\u001b[0m \u001b[0;32mnot\u001b[0m \u001b[0;32mNone\u001b[0m\u001b[0;34m\u001b[0m\u001b[0;34m\u001b[0m\u001b[0m\n\u001b[1;32m   1045\u001b[0m \u001b[0;34m\u001b[0m\u001b[0m\n",
            "\u001b[0;32m/opt/conda/lib/python3.9/site-packages/joblib/parallel.py\u001b[0m in \u001b[0;36mdispatch_one_batch\u001b[0;34m(self, iterator)\u001b[0m\n\u001b[1;32m    859\u001b[0m                 \u001b[0;32mreturn\u001b[0m \u001b[0;32mFalse\u001b[0m\u001b[0;34m\u001b[0m\u001b[0;34m\u001b[0m\u001b[0m\n\u001b[1;32m    860\u001b[0m             \u001b[0;32melse\u001b[0m\u001b[0;34m:\u001b[0m\u001b[0;34m\u001b[0m\u001b[0;34m\u001b[0m\u001b[0m\n\u001b[0;32m--> 861\u001b[0;31m                 \u001b[0mself\u001b[0m\u001b[0;34m.\u001b[0m\u001b[0m_dispatch\u001b[0m\u001b[0;34m(\u001b[0m\u001b[0mtasks\u001b[0m\u001b[0;34m)\u001b[0m\u001b[0;34m\u001b[0m\u001b[0;34m\u001b[0m\u001b[0m\n\u001b[0m\u001b[1;32m    862\u001b[0m                 \u001b[0;32mreturn\u001b[0m \u001b[0;32mTrue\u001b[0m\u001b[0;34m\u001b[0m\u001b[0;34m\u001b[0m\u001b[0m\n\u001b[1;32m    863\u001b[0m \u001b[0;34m\u001b[0m\u001b[0m\n",
            "\u001b[0;32m/opt/conda/lib/python3.9/site-packages/joblib/parallel.py\u001b[0m in \u001b[0;36m_dispatch\u001b[0;34m(self, batch)\u001b[0m\n\u001b[1;32m    777\u001b[0m         \u001b[0;32mwith\u001b[0m \u001b[0mself\u001b[0m\u001b[0;34m.\u001b[0m\u001b[0m_lock\u001b[0m\u001b[0;34m:\u001b[0m\u001b[0;34m\u001b[0m\u001b[0;34m\u001b[0m\u001b[0m\n\u001b[1;32m    778\u001b[0m             \u001b[0mjob_idx\u001b[0m \u001b[0;34m=\u001b[0m \u001b[0mlen\u001b[0m\u001b[0;34m(\u001b[0m\u001b[0mself\u001b[0m\u001b[0;34m.\u001b[0m\u001b[0m_jobs\u001b[0m\u001b[0;34m)\u001b[0m\u001b[0;34m\u001b[0m\u001b[0;34m\u001b[0m\u001b[0m\n\u001b[0;32m--> 779\u001b[0;31m             \u001b[0mjob\u001b[0m \u001b[0;34m=\u001b[0m \u001b[0mself\u001b[0m\u001b[0;34m.\u001b[0m\u001b[0m_backend\u001b[0m\u001b[0;34m.\u001b[0m\u001b[0mapply_async\u001b[0m\u001b[0;34m(\u001b[0m\u001b[0mbatch\u001b[0m\u001b[0;34m,\u001b[0m \u001b[0mcallback\u001b[0m\u001b[0;34m=\u001b[0m\u001b[0mcb\u001b[0m\u001b[0;34m)\u001b[0m\u001b[0;34m\u001b[0m\u001b[0;34m\u001b[0m\u001b[0m\n\u001b[0m\u001b[1;32m    780\u001b[0m             \u001b[0;31m# A job can complete so quickly than its callback is\u001b[0m\u001b[0;34m\u001b[0m\u001b[0;34m\u001b[0m\u001b[0;34m\u001b[0m\u001b[0m\n\u001b[1;32m    781\u001b[0m             \u001b[0;31m# called before we get here, causing self._jobs to\u001b[0m\u001b[0;34m\u001b[0m\u001b[0;34m\u001b[0m\u001b[0;34m\u001b[0m\u001b[0m\n",
            "\u001b[0;32m/opt/conda/lib/python3.9/site-packages/joblib/_parallel_backends.py\u001b[0m in \u001b[0;36mapply_async\u001b[0;34m(self, func, callback)\u001b[0m\n\u001b[1;32m    206\u001b[0m     \u001b[0;32mdef\u001b[0m \u001b[0mapply_async\u001b[0m\u001b[0;34m(\u001b[0m\u001b[0mself\u001b[0m\u001b[0;34m,\u001b[0m \u001b[0mfunc\u001b[0m\u001b[0;34m,\u001b[0m \u001b[0mcallback\u001b[0m\u001b[0;34m=\u001b[0m\u001b[0;32mNone\u001b[0m\u001b[0;34m)\u001b[0m\u001b[0;34m:\u001b[0m\u001b[0;34m\u001b[0m\u001b[0;34m\u001b[0m\u001b[0m\n\u001b[1;32m    207\u001b[0m         \u001b[0;34m\"\"\"Schedule a func to be run\"\"\"\u001b[0m\u001b[0;34m\u001b[0m\u001b[0;34m\u001b[0m\u001b[0m\n\u001b[0;32m--> 208\u001b[0;31m         \u001b[0mresult\u001b[0m \u001b[0;34m=\u001b[0m \u001b[0mImmediateResult\u001b[0m\u001b[0;34m(\u001b[0m\u001b[0mfunc\u001b[0m\u001b[0;34m)\u001b[0m\u001b[0;34m\u001b[0m\u001b[0;34m\u001b[0m\u001b[0m\n\u001b[0m\u001b[1;32m    209\u001b[0m         \u001b[0;32mif\u001b[0m \u001b[0mcallback\u001b[0m\u001b[0;34m:\u001b[0m\u001b[0;34m\u001b[0m\u001b[0;34m\u001b[0m\u001b[0m\n\u001b[1;32m    210\u001b[0m             \u001b[0mcallback\u001b[0m\u001b[0;34m(\u001b[0m\u001b[0mresult\u001b[0m\u001b[0;34m)\u001b[0m\u001b[0;34m\u001b[0m\u001b[0;34m\u001b[0m\u001b[0m\n",
            "\u001b[0;32m/opt/conda/lib/python3.9/site-packages/joblib/_parallel_backends.py\u001b[0m in \u001b[0;36m__init__\u001b[0;34m(self, batch)\u001b[0m\n\u001b[1;32m    570\u001b[0m         \u001b[0;31m# Don't delay the application, to avoid keeping the input\u001b[0m\u001b[0;34m\u001b[0m\u001b[0;34m\u001b[0m\u001b[0;34m\u001b[0m\u001b[0m\n\u001b[1;32m    571\u001b[0m         \u001b[0;31m# arguments in memory\u001b[0m\u001b[0;34m\u001b[0m\u001b[0;34m\u001b[0m\u001b[0;34m\u001b[0m\u001b[0m\n\u001b[0;32m--> 572\u001b[0;31m         \u001b[0mself\u001b[0m\u001b[0;34m.\u001b[0m\u001b[0mresults\u001b[0m \u001b[0;34m=\u001b[0m \u001b[0mbatch\u001b[0m\u001b[0;34m(\u001b[0m\u001b[0;34m)\u001b[0m\u001b[0;34m\u001b[0m\u001b[0;34m\u001b[0m\u001b[0m\n\u001b[0m\u001b[1;32m    573\u001b[0m \u001b[0;34m\u001b[0m\u001b[0m\n\u001b[1;32m    574\u001b[0m     \u001b[0;32mdef\u001b[0m \u001b[0mget\u001b[0m\u001b[0;34m(\u001b[0m\u001b[0mself\u001b[0m\u001b[0;34m)\u001b[0m\u001b[0;34m:\u001b[0m\u001b[0;34m\u001b[0m\u001b[0;34m\u001b[0m\u001b[0m\n",
            "\u001b[0;32m/opt/conda/lib/python3.9/site-packages/joblib/parallel.py\u001b[0m in \u001b[0;36m__call__\u001b[0;34m(self)\u001b[0m\n\u001b[1;32m    260\u001b[0m         \u001b[0;31m# change the default number of processes to -1\u001b[0m\u001b[0;34m\u001b[0m\u001b[0;34m\u001b[0m\u001b[0;34m\u001b[0m\u001b[0m\n\u001b[1;32m    261\u001b[0m         \u001b[0;32mwith\u001b[0m \u001b[0mparallel_backend\u001b[0m\u001b[0;34m(\u001b[0m\u001b[0mself\u001b[0m\u001b[0;34m.\u001b[0m\u001b[0m_backend\u001b[0m\u001b[0;34m,\u001b[0m \u001b[0mn_jobs\u001b[0m\u001b[0;34m=\u001b[0m\u001b[0mself\u001b[0m\u001b[0;34m.\u001b[0m\u001b[0m_n_jobs\u001b[0m\u001b[0;34m)\u001b[0m\u001b[0;34m:\u001b[0m\u001b[0;34m\u001b[0m\u001b[0;34m\u001b[0m\u001b[0m\n\u001b[0;32m--> 262\u001b[0;31m             return [func(*args, **kwargs)\n\u001b[0m\u001b[1;32m    263\u001b[0m                     for func, args, kwargs in self.items]\n\u001b[1;32m    264\u001b[0m \u001b[0;34m\u001b[0m\u001b[0m\n",
            "\u001b[0;32m/opt/conda/lib/python3.9/site-packages/joblib/parallel.py\u001b[0m in \u001b[0;36m<listcomp>\u001b[0;34m(.0)\u001b[0m\n\u001b[1;32m    260\u001b[0m         \u001b[0;31m# change the default number of processes to -1\u001b[0m\u001b[0;34m\u001b[0m\u001b[0;34m\u001b[0m\u001b[0;34m\u001b[0m\u001b[0m\n\u001b[1;32m    261\u001b[0m         \u001b[0;32mwith\u001b[0m \u001b[0mparallel_backend\u001b[0m\u001b[0;34m(\u001b[0m\u001b[0mself\u001b[0m\u001b[0;34m.\u001b[0m\u001b[0m_backend\u001b[0m\u001b[0;34m,\u001b[0m \u001b[0mn_jobs\u001b[0m\u001b[0;34m=\u001b[0m\u001b[0mself\u001b[0m\u001b[0;34m.\u001b[0m\u001b[0m_n_jobs\u001b[0m\u001b[0;34m)\u001b[0m\u001b[0;34m:\u001b[0m\u001b[0;34m\u001b[0m\u001b[0;34m\u001b[0m\u001b[0m\n\u001b[0;32m--> 262\u001b[0;31m             return [func(*args, **kwargs)\n\u001b[0m\u001b[1;32m    263\u001b[0m                     for func, args, kwargs in self.items]\n\u001b[1;32m    264\u001b[0m \u001b[0;34m\u001b[0m\u001b[0m\n",
            "\u001b[0;32m/opt/conda/lib/python3.9/site-packages/sklearn/utils/fixes.py\u001b[0m in \u001b[0;36m__call__\u001b[0;34m(self, *args, **kwargs)\u001b[0m\n\u001b[1;32m    115\u001b[0m     \u001b[0;32mdef\u001b[0m \u001b[0m__call__\u001b[0m\u001b[0;34m(\u001b[0m\u001b[0mself\u001b[0m\u001b[0;34m,\u001b[0m \u001b[0;34m*\u001b[0m\u001b[0margs\u001b[0m\u001b[0;34m,\u001b[0m \u001b[0;34m**\u001b[0m\u001b[0mkwargs\u001b[0m\u001b[0;34m)\u001b[0m\u001b[0;34m:\u001b[0m\u001b[0;34m\u001b[0m\u001b[0;34m\u001b[0m\u001b[0m\n\u001b[1;32m    116\u001b[0m         \u001b[0;32mwith\u001b[0m \u001b[0mconfig_context\u001b[0m\u001b[0;34m(\u001b[0m\u001b[0;34m**\u001b[0m\u001b[0mself\u001b[0m\u001b[0;34m.\u001b[0m\u001b[0mconfig\u001b[0m\u001b[0;34m)\u001b[0m\u001b[0;34m:\u001b[0m\u001b[0;34m\u001b[0m\u001b[0;34m\u001b[0m\u001b[0m\n\u001b[0;32m--> 117\u001b[0;31m             \u001b[0;32mreturn\u001b[0m \u001b[0mself\u001b[0m\u001b[0;34m.\u001b[0m\u001b[0mfunction\u001b[0m\u001b[0;34m(\u001b[0m\u001b[0;34m*\u001b[0m\u001b[0margs\u001b[0m\u001b[0;34m,\u001b[0m \u001b[0;34m**\u001b[0m\u001b[0mkwargs\u001b[0m\u001b[0;34m)\u001b[0m\u001b[0;34m\u001b[0m\u001b[0;34m\u001b[0m\u001b[0m\n\u001b[0m\u001b[1;32m    118\u001b[0m \u001b[0;34m\u001b[0m\u001b[0m\n\u001b[1;32m    119\u001b[0m \u001b[0;34m\u001b[0m\u001b[0m\n",
            "\u001b[0;32m/opt/conda/lib/python3.9/site-packages/sklearn/model_selection/_validation.py\u001b[0m in \u001b[0;36m_fit_and_score\u001b[0;34m(estimator, X, y, scorer, train, test, verbose, parameters, fit_params, return_train_score, return_parameters, return_n_test_samples, return_times, return_estimator, split_progress, candidate_progress, error_score)\u001b[0m\n\u001b[1;32m    684\u001b[0m             \u001b[0mestimator\u001b[0m\u001b[0;34m.\u001b[0m\u001b[0mfit\u001b[0m\u001b[0;34m(\u001b[0m\u001b[0mX_train\u001b[0m\u001b[0;34m,\u001b[0m \u001b[0;34m**\u001b[0m\u001b[0mfit_params\u001b[0m\u001b[0;34m)\u001b[0m\u001b[0;34m\u001b[0m\u001b[0;34m\u001b[0m\u001b[0m\n\u001b[1;32m    685\u001b[0m         \u001b[0;32melse\u001b[0m\u001b[0;34m:\u001b[0m\u001b[0;34m\u001b[0m\u001b[0;34m\u001b[0m\u001b[0m\n\u001b[0;32m--> 686\u001b[0;31m             \u001b[0mestimator\u001b[0m\u001b[0;34m.\u001b[0m\u001b[0mfit\u001b[0m\u001b[0;34m(\u001b[0m\u001b[0mX_train\u001b[0m\u001b[0;34m,\u001b[0m \u001b[0my_train\u001b[0m\u001b[0;34m,\u001b[0m \u001b[0;34m**\u001b[0m\u001b[0mfit_params\u001b[0m\u001b[0;34m)\u001b[0m\u001b[0;34m\u001b[0m\u001b[0;34m\u001b[0m\u001b[0m\n\u001b[0m\u001b[1;32m    687\u001b[0m \u001b[0;34m\u001b[0m\u001b[0m\n\u001b[1;32m    688\u001b[0m     \u001b[0;32mexcept\u001b[0m \u001b[0mException\u001b[0m\u001b[0;34m:\u001b[0m\u001b[0;34m\u001b[0m\u001b[0;34m\u001b[0m\u001b[0m\n",
            "\u001b[0;32m/opt/conda/lib/python3.9/site-packages/catboost/core.py\u001b[0m in \u001b[0;36mfit\u001b[0;34m(self, X, y, cat_features, text_features, embedding_features, sample_weight, baseline, use_best_model, eval_set, verbose, logging_level, plot, column_description, verbose_eval, metric_period, silent, early_stopping_rounds, save_snapshot, snapshot_file, snapshot_interval, init_model, callbacks, log_cout, log_cerr)\u001b[0m\n\u001b[1;32m   4714\u001b[0m             \u001b[0mCatBoostClassifier\u001b[0m\u001b[0;34m.\u001b[0m\u001b[0m_check_is_compatible_loss\u001b[0m\u001b[0;34m(\u001b[0m\u001b[0mparams\u001b[0m\u001b[0;34m[\u001b[0m\u001b[0;34m'loss_function'\u001b[0m\u001b[0;34m]\u001b[0m\u001b[0;34m)\u001b[0m\u001b[0;34m\u001b[0m\u001b[0;34m\u001b[0m\u001b[0m\n\u001b[1;32m   4715\u001b[0m \u001b[0;34m\u001b[0m\u001b[0m\n\u001b[0;32m-> 4716\u001b[0;31m         self._fit(X, y, cat_features, text_features, embedding_features, None, sample_weight, None, None, None, None, baseline, use_best_model,\n\u001b[0m\u001b[1;32m   4717\u001b[0m                   \u001b[0meval_set\u001b[0m\u001b[0;34m,\u001b[0m \u001b[0mverbose\u001b[0m\u001b[0;34m,\u001b[0m \u001b[0mlogging_level\u001b[0m\u001b[0;34m,\u001b[0m \u001b[0mplot\u001b[0m\u001b[0;34m,\u001b[0m \u001b[0mcolumn_description\u001b[0m\u001b[0;34m,\u001b[0m \u001b[0mverbose_eval\u001b[0m\u001b[0;34m,\u001b[0m \u001b[0mmetric_period\u001b[0m\u001b[0;34m,\u001b[0m\u001b[0;34m\u001b[0m\u001b[0;34m\u001b[0m\u001b[0m\n\u001b[1;32m   4718\u001b[0m                   silent, early_stopping_rounds, save_snapshot, snapshot_file, snapshot_interval, init_model, callbacks, log_cout, log_cerr)\n",
            "\u001b[0;32m/opt/conda/lib/python3.9/site-packages/catboost/core.py\u001b[0m in \u001b[0;36m_fit\u001b[0;34m(self, X, y, cat_features, text_features, embedding_features, pairs, sample_weight, group_id, group_weight, subgroup_id, pairs_weight, baseline, use_best_model, eval_set, verbose, logging_level, plot, column_description, verbose_eval, metric_period, silent, early_stopping_rounds, save_snapshot, snapshot_file, snapshot_interval, init_model, callbacks, log_cout, log_cerr)\u001b[0m\n\u001b[1;32m   2035\u001b[0m         \u001b[0;32mwith\u001b[0m \u001b[0mlog_fixup\u001b[0m\u001b[0;34m(\u001b[0m\u001b[0mlog_cout\u001b[0m\u001b[0;34m,\u001b[0m \u001b[0mlog_cerr\u001b[0m\u001b[0;34m)\u001b[0m\u001b[0;34m,\u001b[0m\u001b[0;31m \u001b[0m\u001b[0;31m\\\u001b[0m\u001b[0;34m\u001b[0m\u001b[0;34m\u001b[0m\u001b[0m\n\u001b[1;32m   2036\u001b[0m             \u001b[0mplot_wrapper\u001b[0m\u001b[0;34m(\u001b[0m\u001b[0mplot\u001b[0m\u001b[0;34m,\u001b[0m \u001b[0;34m[\u001b[0m\u001b[0m_get_train_dir\u001b[0m\u001b[0;34m(\u001b[0m\u001b[0mself\u001b[0m\u001b[0;34m.\u001b[0m\u001b[0mget_params\u001b[0m\u001b[0;34m(\u001b[0m\u001b[0;34m)\u001b[0m\u001b[0;34m)\u001b[0m\u001b[0;34m]\u001b[0m\u001b[0;34m)\u001b[0m\u001b[0;34m:\u001b[0m\u001b[0;34m\u001b[0m\u001b[0;34m\u001b[0m\u001b[0m\n\u001b[0;32m-> 2037\u001b[0;31m             self._train(\n\u001b[0m\u001b[1;32m   2038\u001b[0m                 \u001b[0mtrain_pool\u001b[0m\u001b[0;34m,\u001b[0m\u001b[0;34m\u001b[0m\u001b[0;34m\u001b[0m\u001b[0m\n\u001b[1;32m   2039\u001b[0m                 \u001b[0mtrain_params\u001b[0m\u001b[0;34m[\u001b[0m\u001b[0;34m\"eval_sets\"\u001b[0m\u001b[0;34m]\u001b[0m\u001b[0;34m,\u001b[0m\u001b[0;34m\u001b[0m\u001b[0;34m\u001b[0m\u001b[0m\n",
            "\u001b[0;32m/opt/conda/lib/python3.9/site-packages/catboost/core.py\u001b[0m in \u001b[0;36m_train\u001b[0;34m(self, train_pool, test_pool, params, allow_clear_pool, init_model)\u001b[0m\n\u001b[1;32m   1462\u001b[0m \u001b[0;34m\u001b[0m\u001b[0m\n\u001b[1;32m   1463\u001b[0m     \u001b[0;32mdef\u001b[0m \u001b[0m_train\u001b[0m\u001b[0;34m(\u001b[0m\u001b[0mself\u001b[0m\u001b[0;34m,\u001b[0m \u001b[0mtrain_pool\u001b[0m\u001b[0;34m,\u001b[0m \u001b[0mtest_pool\u001b[0m\u001b[0;34m,\u001b[0m \u001b[0mparams\u001b[0m\u001b[0;34m,\u001b[0m \u001b[0mallow_clear_pool\u001b[0m\u001b[0;34m,\u001b[0m \u001b[0minit_model\u001b[0m\u001b[0;34m)\u001b[0m\u001b[0;34m:\u001b[0m\u001b[0;34m\u001b[0m\u001b[0;34m\u001b[0m\u001b[0m\n\u001b[0;32m-> 1464\u001b[0;31m         \u001b[0mself\u001b[0m\u001b[0;34m.\u001b[0m\u001b[0m_object\u001b[0m\u001b[0;34m.\u001b[0m\u001b[0m_train\u001b[0m\u001b[0;34m(\u001b[0m\u001b[0mtrain_pool\u001b[0m\u001b[0;34m,\u001b[0m \u001b[0mtest_pool\u001b[0m\u001b[0;34m,\u001b[0m \u001b[0mparams\u001b[0m\u001b[0;34m,\u001b[0m \u001b[0mallow_clear_pool\u001b[0m\u001b[0;34m,\u001b[0m \u001b[0minit_model\u001b[0m\u001b[0;34m.\u001b[0m\u001b[0m_object\u001b[0m \u001b[0;32mif\u001b[0m \u001b[0minit_model\u001b[0m \u001b[0;32melse\u001b[0m \u001b[0;32mNone\u001b[0m\u001b[0;34m)\u001b[0m\u001b[0;34m\u001b[0m\u001b[0;34m\u001b[0m\u001b[0m\n\u001b[0m\u001b[1;32m   1465\u001b[0m         \u001b[0mself\u001b[0m\u001b[0;34m.\u001b[0m\u001b[0m_set_trained_model_attributes\u001b[0m\u001b[0;34m(\u001b[0m\u001b[0;34m)\u001b[0m\u001b[0;34m\u001b[0m\u001b[0;34m\u001b[0m\u001b[0m\n\u001b[1;32m   1466\u001b[0m \u001b[0;34m\u001b[0m\u001b[0m\n",
            "\u001b[0;32m_catboost.pyx\u001b[0m in \u001b[0;36m_catboost._CatBoost._train\u001b[0;34m()\u001b[0m\n",
            "\u001b[0;32m_catboost.pyx\u001b[0m in \u001b[0;36m_catboost._CatBoost._train\u001b[0;34m()\u001b[0m\n",
            "\u001b[0;31mKeyboardInterrupt\u001b[0m: "
          ]
        }
      ],
      "source": [
        "np.random.seed(7)\n",
        "if __name__ == '__main__':\n",
        "    study = optuna.create_study(direction='maximize')\n",
        "    study.optimize(objective, n_trials =50)\n",
        "    print(study.best_trial)\n",
        ""
      ]
    },
    {
      "cell_type": "markdown",
      "id": "3dc82fde",
      "metadata": {
        "id": "3dc82fde"
      },
      "source": [
        "FrozenTrial(number=0, state=TrialState.COMPLETE, values=[0.4043511900463704], datetime_start=datetime.datetime(2023, 4, 20, 12, 49, 5, 253723), datetime_complete=datetime.datetime(2023, 4, 20, 12, 49, 22, 24194), params={'classifier': 'Forest', 'n_estimators': 250, 'max_depth': 10, 'criterion': 'gini'}, user_attrs={}, system_attrs={}, intermediate_values={}, distributions={'classifier': CategoricalDistribution(choices=('Forest',)), 'n_estimators': IntDistribution(high=250, log=False, low=20, step=10), 'max_depth': IntDistribution(high=40, log=False, low=5, step=5), 'criterion': CategoricalDistribution(choices=('gini', 'entropy'))}, trial_id=0, value=None)\n"
      ]
    },
    {
      "cell_type": "code",
      "execution_count": null,
      "id": "b52eb8c4",
      "metadata": {
        "id": "b52eb8c4"
      },
      "outputs": [],
      "source": [
        "\n",
        "\n",
        "# определение параметров для подбора\n",
        "param_grid = {'C': [0.1, 1, 10], 'penalty': ['l1', 'l2'], 'solver': ['liblinear', 'saga']}\n",
        "\n",
        "# создание экземпляра логистической регрессии\n",
        "lr = LogisticRegression()\n",
        "\n",
        "# создание экземпляра GridSearchCV и запуск поиска по сетке\n",
        "grid_search = GridSearchCV(estimator=lr, param_grid=param_grid, cv=5, scoring='f1')\n",
        "grid_search.fit(features_train_new, target_train)\n",
        "\n",
        "# вывод лучших параметров и метрик на обучающей и тестовой выборке\n",
        "print('Лучшие параметры:', grid_search.best_params_)\n",
        "print('F1-score на обучающей выборке:', grid_search.best_score_)\n",
        "print('F1-score на тестовой выборке:', grid_search.score(features_test_new, target_test))\n"
      ]
    },
    {
      "cell_type": "markdown",
      "id": "df98a8a2",
      "metadata": {
        "id": "df98a8a2"
      },
      "source": [
        "## Оценка лучшей модели для оценки водительского риска"
      ]
    },
    {
      "cell_type": "code",
      "execution_count": null,
      "id": "01fc31fa",
      "metadata": {
        "id": "01fc31fa"
      },
      "outputs": [],
      "source": [
        "\n",
        "\n",
        "### для тестовой и валидационной выборках лучшей модели\n",
        "def metrics_check(target_valid,predict_valid):\n",
        "    print(f'Accuracy для валидационной выборки: {accuracy_score(target_valid,predict_valid)}')\n",
        "    print('-'*100)\n",
        "    print(f'Balanced accuracy для валидационной выборки: {balanced_accuracy_score(target_valid,predict_valid)}')\n",
        "    print('-'*100)\n",
        "    print(f'F1-score для валидационной выборки: {f1_score(target_valid,predict_valid)}')\n",
        "    print('-'*100)\n",
        "    print(f'Precision score для валидационной выборки: {precision_score(target_valid,predict_valid)}')\n",
        "    print('-'*100)\n",
        "    print(f'Recall score для валидационной выборки: {recall_score(target_valid,predict_valid)}')\n",
        "    print('-'*100)\n",
        "    print(f'F-beta score для валидационной выборки: {fbeta_score(target_valid,predict_valid,beta=1)}')\n",
        "    print('-'*100)\n",
        "\n",
        "def valuate(model_,features_train_,features_test_,target_train_,target_test_):\n",
        "\n",
        "    model_.fit(features_train_,target_train_)\n",
        "    predicted = model_.predict(features_test_)\n",
        "\n",
        "\n",
        "\n",
        "    print('-'*30)\n",
        "    print('Метрики')\n",
        "    metrics_check(target_test_,predicted)\n",
        "\n",
        "    print('-'*30)\n",
        "    print('Отчет по классификации')\n",
        "    print(classification_report(target_test_,predicted))"
      ]
    },
    {
      "cell_type": "code",
      "execution_count": null,
      "id": "5f3511bc",
      "metadata": {
        "id": "5f3511bc"
      },
      "outputs": [],
      "source": [
        "lr = LogisticRegression(C=1,penalty='l1',solver='liblinear')"
      ]
    },
    {
      "cell_type": "code",
      "execution_count": null,
      "id": "1ef7f586",
      "metadata": {
        "id": "1ef7f586"
      },
      "outputs": [],
      "source": [
        "lr.fit(features_train_new,target_train)"
      ]
    },
    {
      "cell_type": "code",
      "execution_count": null,
      "id": "de4844d7",
      "metadata": {
        "id": "de4844d7"
      },
      "outputs": [],
      "source": [
        "prediction = lr.predict(features_test_new)"
      ]
    },
    {
      "cell_type": "code",
      "execution_count": null,
      "id": "19d35357",
      "metadata": {
        "scrolled": true,
        "id": "19d35357"
      },
      "outputs": [],
      "source": [
        "f1_score(target_test,prediction)"
      ]
    },
    {
      "cell_type": "code",
      "execution_count": null,
      "id": "9bfbf14b",
      "metadata": {
        "id": "9bfbf14b"
      },
      "outputs": [],
      "source": [
        "model = RandomForestClassifier(criterion=\"gini\",\n",
        "                                         max_depth=10,\n",
        "                                         n_estimators=250,\n",
        "                                         random_state=rs)"
      ]
    },
    {
      "cell_type": "code",
      "execution_count": null,
      "id": "0022086e",
      "metadata": {
        "scrolled": true,
        "id": "0022086e"
      },
      "outputs": [],
      "source": [
        "model.fit(features_train_new,target_train)"
      ]
    },
    {
      "cell_type": "code",
      "execution_count": null,
      "id": "5eaaf592",
      "metadata": {
        "id": "5eaaf592"
      },
      "outputs": [],
      "source": [
        "prediction = model.predict(features_test_new)"
      ]
    },
    {
      "cell_type": "code",
      "execution_count": null,
      "id": "8668594f",
      "metadata": {
        "scrolled": true,
        "id": "8668594f"
      },
      "outputs": [],
      "source": [
        "f1_score(target_test,prediction)"
      ]
    },
    {
      "cell_type": "code",
      "execution_count": null,
      "id": "69552720",
      "metadata": {
        "id": "69552720"
      },
      "outputs": [],
      "source": [
        "valuate(model,features_train_new,features_test_new,target_train,target_test)"
      ]
    },
    {
      "cell_type": "code",
      "execution_count": null,
      "id": "ab0e4b80",
      "metadata": {
        "id": "ab0e4b80"
      },
      "outputs": [],
      "source": [
        "valuate(lr,features_train_new,features_test_new,target_train,target_test)"
      ]
    },
    {
      "cell_type": "code",
      "execution_count": null,
      "id": "af1f6823",
      "metadata": {
        "id": "af1f6823"
      },
      "outputs": [],
      "source": [
        "valuate(model_=model,features_train_=features_train_new,features_test_=features_test_new,target_train_=target_train,target_test_=target_test)"
      ]
    },
    {
      "cell_type": "markdown",
      "id": "87498c64",
      "metadata": {
        "id": "87498c64"
      },
      "source": [
        "Вывод:\n",
        "\n",
        "Классификация невиновных среднего качества в точности, но в полноте очень даже хорошие показатели. Для увеличение метрик качества классификации можно попробовать UpSempling 1 класса и посмотреть на результат."
      ]
    },
    {
      "cell_type": "markdown",
      "id": "4a66c0c3",
      "metadata": {
        "id": "4a66c0c3"
      },
      "source": [
        "## Проведите анализ важности факторов ДТП"
      ]
    },
    {
      "cell_type": "code",
      "execution_count": null,
      "id": "684220d9",
      "metadata": {
        "id": "684220d9"
      },
      "outputs": [],
      "source": [
        "# получение важностей признаков\n",
        "importances = model.feature_importances_\n",
        "\n",
        "# отсортированные важности признаков\n",
        "sorted_idx = importances.argsort()[::-1]\n",
        "\n",
        "# вывод важности признаков\n",
        "for i in sorted_idx:\n",
        "    print(f\"{features_test_new.columns[i]}: {importances[i]}\")\n",
        "\n",
        "# построение графика важности признаков\n",
        "plt.bar(range(features_test_new.shape[1]), importances[sorted_idx])\n",
        "plt.xticks(range(features_test_new.shape[1]), features_test_new.columns[sorted_idx], rotation=90)\n",
        "plt.show()"
      ]
    },
    {
      "cell_type": "markdown",
      "id": "78883011",
      "metadata": {
        "id": "78883011"
      },
      "source": [
        "Проанализируем один из самых важных признаков - vehicle_age, и выдадим портрет а/м, который с наибольшей вроятностью может попасть а ДТП."
      ]
    },
    {
      "cell_type": "code",
      "execution_count": null,
      "id": "32008060",
      "metadata": {
        "id": "32008060"
      },
      "outputs": [],
      "source": [
        "data.groupby(['vehicle_age']).agg(func={'at_fault':['sum','count']})"
      ]
    },
    {
      "cell_type": "code",
      "execution_count": null,
      "id": "504468b9",
      "metadata": {
        "scrolled": true,
        "id": "504468b9"
      },
      "outputs": [],
      "source": [
        "data[['vehicle_age', 'at_fault']].corr(method='spearman')"
      ]
    },
    {
      "cell_type": "code",
      "execution_count": null,
      "id": "dd7188f7",
      "metadata": {
        "id": "dd7188f7"
      },
      "outputs": [],
      "source": [
        "\n",
        "# Определение факторов и целевой переменной\n",
        "X = data[['vehicle_age']]\n",
        "y = data['at_fault']\n",
        "\n",
        "# Создание модели линейной регрессии\n",
        "model = LinearRegression()\n",
        "model.fit(X, y)\n",
        "\n",
        "print('Пересечение:', model.intercept_)\n",
        "\n",
        "# Предсказание значений целевой переменной для новых данных\n",
        "new_data = pd.DataFrame({'vehicle_age': [i for i in range(1,16,2)]})\n",
        "predicted_y = model.predict(new_data)\n",
        "print('Предсказанные значения at_fault:', predicted_y)"
      ]
    },
    {
      "cell_type": "markdown",
      "id": "c21b4293",
      "metadata": {
        "id": "c21b4293"
      },
      "source": [
        "Вывод:\n",
        "\n",
        "Маленькый, отрицательный коэффициент корреляции Спирмана говорит нам о том, что чем старше машина, тем меньше вероятность попадания в ДТП. То есть, основываясь лишь на факторе возраста а/м, то складывается впечатление, что если а/м новый, то вероятность попасть в ДТП выше, чем иначе.\n"
      ]
    },
    {
      "cell_type": "markdown",
      "id": "44c50b26",
      "metadata": {
        "id": "44c50b26"
      },
      "source": [
        "## Выводы"
      ]
    },
    {
      "cell_type": "markdown",
      "id": "712d2c10",
      "metadata": {
        "id": "712d2c10"
      },
      "source": [
        "* Возможно ли создать адекватную системы оценки водительского риска при выдаче авто?\n",
        "\n",
        "Ответ:\n",
        "    Возможно, но при наличии качественных данных и всеобъемлющих признаков\n",
        "\n",
        "* Какие ещё факторы нужно учесть?\n",
        "    \n",
        "Ответ:\n",
        "\n",
        "Обязательно нужно учитывать физическое и моральное состояние человека:\n",
        "* weather_1\n",
        "\n",
        "* road_surface\n",
        "\n",
        "* direction\n",
        "\n",
        "* road_condition_1\n",
        "\n",
        "* party_drug_physical\n",
        "\n",
        "* cellphone_in_use\n",
        "\n",
        "* party_sobriety\n",
        "\n",
        "* lighting\n",
        "\n",
        "* vehicle_type\n",
        "\n",
        "* vehicle_age\n",
        "        \n",
        "\n",
        "* Нужно ли оборудовать автомобиль какими-либо датчиками или камерой?\n",
        "\n",
        "Ответ:\n",
        "\n",
        "  Для увеличения качества модели обязательно нужно оборудовать а/м датчиками и камерами, которые буду собирать данные о погоде и состоянии машины, а также будет оценивать настроение водителя по мимики лица"
      ]
    },
    {
      "cell_type": "markdown",
      "id": "528526d3",
      "metadata": {
        "id": "528526d3"
      },
      "source": [
        "Показатели лучшей модели:\n",
        "\n",
        "* Логистическая регрессия:\n",
        "    * f1-0 - 0.61\n",
        "    * f1-1 - 46\n",
        "\n",
        "где f1-0 - предсказания невиновных, а f1-1 наоборот\n",
        "\n",
        "\n",
        "Если иметь доступ к данных состояние человека перед арендой автомобиля, то можно увеличить в принципе до 60-70% успешных предсказаний."
      ]
    }
  ],
  "metadata": {
    "ExecuteTimeLog": [
      {
        "duration": 1307,
        "start_time": "2023-04-13T15:34:18.687Z"
      },
      {
        "duration": 1384,
        "start_time": "2023-04-13T15:34:36.494Z"
      },
      {
        "duration": 3623,
        "start_time": "2023-04-13T15:34:58.053Z"
      },
      {
        "duration": 106,
        "start_time": "2023-04-13T15:35:13.437Z"
      },
      {
        "duration": 3982,
        "start_time": "2023-04-13T15:35:19.782Z"
      },
      {
        "duration": 265,
        "start_time": "2023-04-13T15:35:25.183Z"
      },
      {
        "duration": 3,
        "start_time": "2023-04-13T15:35:45.974Z"
      },
      {
        "duration": 10120,
        "start_time": "2023-04-13T15:35:47.164Z"
      },
      {
        "duration": 4,
        "start_time": "2023-04-13T15:35:57.286Z"
      },
      {
        "duration": 2185,
        "start_time": "2023-04-13T15:36:26.507Z"
      },
      {
        "duration": 177,
        "start_time": "2023-04-13T15:36:28.694Z"
      },
      {
        "duration": 177,
        "start_time": "2023-04-13T15:36:30.618Z"
      },
      {
        "duration": 3,
        "start_time": "2023-04-13T15:36:32.349Z"
      },
      {
        "duration": 236,
        "start_time": "2023-04-13T15:36:32.597Z"
      },
      {
        "duration": 3,
        "start_time": "2023-04-13T15:36:32.836Z"
      },
      {
        "duration": 4,
        "start_time": "2023-04-13T15:36:32.967Z"
      },
      {
        "duration": 4,
        "start_time": "2023-04-13T15:36:34.462Z"
      },
      {
        "duration": 29,
        "start_time": "2023-04-13T15:36:34.836Z"
      },
      {
        "duration": 3,
        "start_time": "2023-04-13T15:36:36.348Z"
      },
      {
        "duration": 11,
        "start_time": "2023-04-13T15:36:37.069Z"
      },
      {
        "duration": 1308,
        "start_time": "2023-04-13T15:36:37.735Z"
      },
      {
        "duration": 24,
        "start_time": "2023-04-13T15:36:39.045Z"
      },
      {
        "duration": 5,
        "start_time": "2023-04-13T15:36:39.513Z"
      },
      {
        "duration": 15,
        "start_time": "2023-04-13T15:36:40.606Z"
      },
      {
        "duration": 154,
        "start_time": "2023-04-13T15:36:40.839Z"
      },
      {
        "duration": 68,
        "start_time": "2023-04-13T15:36:41.808Z"
      },
      {
        "duration": 83,
        "start_time": "2023-04-13T15:36:42.627Z"
      },
      {
        "duration": 3,
        "start_time": "2023-04-13T15:36:42.846Z"
      },
      {
        "duration": 4,
        "start_time": "2023-04-13T15:36:43.179Z"
      },
      {
        "duration": 9,
        "start_time": "2023-04-13T15:36:43.928Z"
      },
      {
        "duration": 3,
        "start_time": "2023-04-13T15:36:44.135Z"
      },
      {
        "duration": 115,
        "start_time": "2023-04-13T15:36:44.343Z"
      },
      {
        "duration": 6,
        "start_time": "2023-04-13T15:36:44.536Z"
      },
      {
        "duration": 4,
        "start_time": "2023-04-13T15:36:44.735Z"
      },
      {
        "duration": 3,
        "start_time": "2023-04-13T15:36:46.379Z"
      },
      {
        "duration": 407,
        "start_time": "2023-04-13T15:36:46.739Z"
      },
      {
        "duration": 5,
        "start_time": "2023-04-13T15:36:47.701Z"
      },
      {
        "duration": 9,
        "start_time": "2023-04-13T15:36:48.076Z"
      },
      {
        "duration": 32,
        "start_time": "2023-04-13T15:36:48.721Z"
      },
      {
        "duration": 13,
        "start_time": "2023-04-13T15:36:49.455Z"
      },
      {
        "duration": 27,
        "start_time": "2023-04-13T15:36:50.210Z"
      },
      {
        "duration": 9,
        "start_time": "2023-04-13T15:36:52.855Z"
      },
      {
        "duration": 4,
        "start_time": "2023-04-13T15:36:53.093Z"
      },
      {
        "duration": 3,
        "start_time": "2023-04-13T15:36:53.683Z"
      },
      {
        "duration": 5,
        "start_time": "2023-04-13T15:36:53.939Z"
      },
      {
        "duration": 78,
        "start_time": "2023-04-13T15:36:54.867Z"
      },
      {
        "duration": 5,
        "start_time": "2023-04-13T15:36:55.470Z"
      },
      {
        "duration": 3,
        "start_time": "2023-04-13T15:36:55.631Z"
      },
      {
        "duration": 1456,
        "start_time": "2023-04-13T15:37:03.205Z"
      },
      {
        "duration": 26,
        "start_time": "2023-04-13T15:37:07.780Z"
      },
      {
        "duration": 25,
        "start_time": "2023-04-13T15:37:15.536Z"
      },
      {
        "duration": 7,
        "start_time": "2023-04-13T15:37:16.648Z"
      },
      {
        "duration": 3,
        "start_time": "2023-04-13T15:37:26.206Z"
      },
      {
        "duration": 26,
        "start_time": "2023-04-13T15:37:27.136Z"
      },
      {
        "duration": 7360,
        "start_time": "2023-04-13T15:38:39.103Z"
      },
      {
        "duration": 0,
        "start_time": "2023-04-13T15:38:46.465Z"
      },
      {
        "duration": 12,
        "start_time": "2023-04-13T15:38:49.356Z"
      },
      {
        "duration": 3,
        "start_time": "2023-04-13T15:38:51.101Z"
      },
      {
        "duration": 13,
        "start_time": "2023-04-13T15:38:51.692Z"
      },
      {
        "duration": 1509,
        "start_time": "2023-04-13T15:38:58.300Z"
      },
      {
        "duration": 3,
        "start_time": "2023-04-13T15:39:04.636Z"
      },
      {
        "duration": 4870,
        "start_time": "2023-04-13T15:39:05.157Z"
      },
      {
        "duration": 625,
        "start_time": "2023-04-13T15:39:10.030Z"
      },
      {
        "duration": 29,
        "start_time": "2023-04-13T15:39:10.658Z"
      },
      {
        "duration": 26,
        "start_time": "2023-04-13T15:39:13.949Z"
      },
      {
        "duration": 10,
        "start_time": "2023-04-13T15:39:15.727Z"
      },
      {
        "duration": 4,
        "start_time": "2023-04-13T15:39:19.876Z"
      },
      {
        "duration": 53,
        "start_time": "2023-04-13T15:39:20.816Z"
      },
      {
        "duration": 3,
        "start_time": "2023-04-13T15:39:21.234Z"
      },
      {
        "duration": 3,
        "start_time": "2023-04-13T15:39:22.441Z"
      },
      {
        "duration": 4,
        "start_time": "2023-04-13T15:39:23.201Z"
      },
      {
        "duration": 10,
        "start_time": "2023-04-13T15:39:26.756Z"
      },
      {
        "duration": 27,
        "start_time": "2023-04-13T15:39:33.149Z"
      },
      {
        "duration": 58,
        "start_time": "2023-04-13T15:39:48.839Z"
      },
      {
        "duration": 17,
        "start_time": "2023-04-13T15:40:39.898Z"
      },
      {
        "duration": 95,
        "start_time": "2023-04-13T15:40:45.540Z"
      },
      {
        "duration": 7,
        "start_time": "2023-04-13T15:40:51.476Z"
      },
      {
        "duration": 11,
        "start_time": "2023-04-13T15:41:36.941Z"
      },
      {
        "duration": 1306,
        "start_time": "2023-04-13T15:41:38.329Z"
      },
      {
        "duration": 11,
        "start_time": "2023-04-13T15:42:35.354Z"
      },
      {
        "duration": 1258,
        "start_time": "2023-04-13T15:42:36.492Z"
      },
      {
        "duration": 12,
        "start_time": "2023-04-13T15:42:44.123Z"
      },
      {
        "duration": 722,
        "start_time": "2023-04-13T15:42:45.028Z"
      },
      {
        "duration": 25,
        "start_time": "2023-04-13T15:43:33.371Z"
      },
      {
        "duration": 13,
        "start_time": "2023-04-13T15:43:40.739Z"
      },
      {
        "duration": 7,
        "start_time": "2023-04-13T15:43:53.233Z"
      },
      {
        "duration": 5,
        "start_time": "2023-04-13T15:43:57.338Z"
      },
      {
        "duration": 55,
        "start_time": "2023-04-13T15:44:00.907Z"
      },
      {
        "duration": 91,
        "start_time": "2023-04-13T15:44:16.106Z"
      },
      {
        "duration": 64,
        "start_time": "2023-04-13T15:44:30.421Z"
      },
      {
        "duration": 340,
        "start_time": "2023-04-13T15:44:37.934Z"
      },
      {
        "duration": 123,
        "start_time": "2023-04-13T15:44:44.630Z"
      },
      {
        "duration": 10,
        "start_time": "2023-04-13T15:44:58.074Z"
      },
      {
        "duration": 1286,
        "start_time": "2023-04-13T15:44:59.774Z"
      },
      {
        "duration": 18,
        "start_time": "2023-04-13T15:46:51.809Z"
      },
      {
        "duration": 14,
        "start_time": "2023-04-13T15:48:41.243Z"
      },
      {
        "duration": 38889,
        "start_time": "2023-04-13T15:48:42.339Z"
      },
      {
        "duration": 19,
        "start_time": "2023-04-13T15:49:26.609Z"
      },
      {
        "duration": 158879,
        "start_time": "2023-04-13T15:49:27.604Z"
      },
      {
        "duration": 17,
        "start_time": "2023-04-13T15:52:07.240Z"
      },
      {
        "duration": 13734,
        "start_time": "2023-04-13T15:52:07.613Z"
      },
      {
        "duration": 28,
        "start_time": "2023-04-13T15:52:22.023Z"
      },
      {
        "duration": 32327,
        "start_time": "2023-04-13T15:52:22.237Z"
      },
      {
        "duration": 10,
        "start_time": "2023-04-13T15:52:54.962Z"
      },
      {
        "duration": 0,
        "start_time": "2023-04-13T15:54:52.712Z"
      },
      {
        "duration": 0,
        "start_time": "2023-04-13T15:54:52.713Z"
      },
      {
        "duration": 19,
        "start_time": "2023-04-13T15:54:59.681Z"
      },
      {
        "duration": 15112,
        "start_time": "2023-04-13T15:54:59.969Z"
      },
      {
        "duration": 17,
        "start_time": "2023-04-13T15:55:18.630Z"
      },
      {
        "duration": 65122,
        "start_time": "2023-04-13T15:55:29.030Z"
      },
      {
        "duration": 13,
        "start_time": "2023-04-13T15:56:34.801Z"
      },
      {
        "duration": 11933,
        "start_time": "2023-04-13T15:56:35.040Z"
      },
      {
        "duration": 16,
        "start_time": "2023-04-13T15:56:47.431Z"
      },
      {
        "duration": 166844,
        "start_time": "2023-04-13T15:56:47.914Z"
      },
      {
        "duration": 0,
        "start_time": "2023-04-13T16:08:38.027Z"
      },
      {
        "duration": 0,
        "start_time": "2023-04-13T16:12:19.455Z"
      },
      {
        "duration": 10,
        "start_time": "2023-04-13T16:12:20.596Z"
      },
      {
        "duration": 11867,
        "start_time": "2023-04-13T16:12:20.884Z"
      },
      {
        "duration": 8,
        "start_time": "2023-04-13T16:42:00.907Z"
      },
      {
        "duration": 94,
        "start_time": "2023-04-13T16:42:26.234Z"
      },
      {
        "duration": 16,
        "start_time": "2023-04-13T16:42:32.809Z"
      },
      {
        "duration": 6819,
        "start_time": "2023-04-13T16:42:41.298Z"
      },
      {
        "duration": 10,
        "start_time": "2023-04-13T16:46:01.961Z"
      },
      {
        "duration": 8951,
        "start_time": "2023-04-13T16:46:07.451Z"
      },
      {
        "duration": 197,
        "start_time": "2023-04-13T16:55:34.289Z"
      },
      {
        "duration": 194,
        "start_time": "2023-04-13T16:55:45.211Z"
      },
      {
        "duration": 210,
        "start_time": "2023-04-13T16:56:08.284Z"
      },
      {
        "duration": 612,
        "start_time": "2023-04-13T16:56:12.449Z"
      },
      {
        "duration": 583,
        "start_time": "2023-04-13T16:56:17.881Z"
      },
      {
        "duration": 512,
        "start_time": "2023-04-13T16:59:31.792Z"
      },
      {
        "duration": 295,
        "start_time": "2023-04-13T17:00:02.332Z"
      },
      {
        "duration": 1552,
        "start_time": "2023-04-13T17:00:19.771Z"
      },
      {
        "duration": 586,
        "start_time": "2023-04-13T17:00:26.875Z"
      },
      {
        "duration": 16,
        "start_time": "2023-04-14T09:18:03.836Z"
      },
      {
        "duration": 5,
        "start_time": "2023-04-14T09:18:06.860Z"
      },
      {
        "duration": 74,
        "start_time": "2023-04-14T09:19:09.525Z"
      },
      {
        "duration": 2197,
        "start_time": "2023-04-14T09:19:13.494Z"
      },
      {
        "duration": 0,
        "start_time": "2023-04-14T09:19:15.694Z"
      },
      {
        "duration": 0,
        "start_time": "2023-04-14T09:19:15.695Z"
      },
      {
        "duration": 0,
        "start_time": "2023-04-14T09:19:15.696Z"
      },
      {
        "duration": 0,
        "start_time": "2023-04-14T09:19:15.697Z"
      },
      {
        "duration": 0,
        "start_time": "2023-04-14T09:19:15.698Z"
      },
      {
        "duration": 15,
        "start_time": "2023-04-14T09:19:29.727Z"
      },
      {
        "duration": 13,
        "start_time": "2023-04-14T09:19:31.962Z"
      },
      {
        "duration": 8117,
        "start_time": "2023-04-14T09:19:49.683Z"
      },
      {
        "duration": 843,
        "start_time": "2023-04-14T09:19:57.803Z"
      },
      {
        "duration": 5,
        "start_time": "2023-04-14T09:19:58.648Z"
      },
      {
        "duration": 12154,
        "start_time": "2023-04-14T09:19:58.655Z"
      },
      {
        "duration": 2,
        "start_time": "2023-04-14T09:20:10.811Z"
      },
      {
        "duration": 26,
        "start_time": "2023-04-14T09:20:10.815Z"
      },
      {
        "duration": 15,
        "start_time": "2023-04-14T09:20:10.843Z"
      },
      {
        "duration": 624,
        "start_time": "2023-04-14T09:20:10.860Z"
      },
      {
        "duration": 684,
        "start_time": "2023-04-14T09:20:19.651Z"
      },
      {
        "duration": 5,
        "start_time": "2023-04-14T09:20:50.682Z"
      },
      {
        "duration": 5011,
        "start_time": "2023-04-14T09:39:43.032Z"
      },
      {
        "duration": 7,
        "start_time": "2023-04-14T09:39:48.047Z"
      },
      {
        "duration": 32,
        "start_time": "2023-04-14T09:39:48.055Z"
      },
      {
        "duration": 40,
        "start_time": "2023-04-14T09:39:48.089Z"
      },
      {
        "duration": 33,
        "start_time": "2023-04-14T09:39:48.131Z"
      },
      {
        "duration": 54,
        "start_time": "2023-04-14T09:39:48.166Z"
      },
      {
        "duration": 29,
        "start_time": "2023-04-14T09:39:48.222Z"
      },
      {
        "duration": 4,
        "start_time": "2023-04-14T15:35:46.737Z"
      },
      {
        "duration": 5,
        "start_time": "2023-04-14T15:37:37.446Z"
      },
      {
        "duration": 5,
        "start_time": "2023-04-14T16:19:04.060Z"
      },
      {
        "duration": 347,
        "start_time": "2023-04-14T17:04:07.609Z"
      },
      {
        "duration": 157,
        "start_time": "2023-04-14T17:04:21.751Z"
      },
      {
        "duration": 1767,
        "start_time": "2023-04-14T17:05:15.042Z"
      },
      {
        "duration": 154,
        "start_time": "2023-04-14T17:05:25.680Z"
      },
      {
        "duration": 169,
        "start_time": "2023-04-14T17:05:26.265Z"
      },
      {
        "duration": 3,
        "start_time": "2023-04-14T17:05:49.369Z"
      },
      {
        "duration": 229,
        "start_time": "2023-04-14T17:05:49.624Z"
      },
      {
        "duration": 3,
        "start_time": "2023-04-14T17:05:49.888Z"
      },
      {
        "duration": 6,
        "start_time": "2023-04-14T17:05:50.121Z"
      },
      {
        "duration": 6,
        "start_time": "2023-04-14T17:05:50.337Z"
      },
      {
        "duration": 20,
        "start_time": "2023-04-14T17:05:51.066Z"
      },
      {
        "duration": 3,
        "start_time": "2023-04-14T17:05:51.896Z"
      },
      {
        "duration": 16,
        "start_time": "2023-04-14T17:06:19.720Z"
      },
      {
        "duration": 3,
        "start_time": "2023-04-14T17:06:20.144Z"
      },
      {
        "duration": 11,
        "start_time": "2023-04-14T17:06:20.936Z"
      },
      {
        "duration": 1215,
        "start_time": "2023-04-14T17:06:21.369Z"
      },
      {
        "duration": 19,
        "start_time": "2023-04-14T17:06:22.587Z"
      },
      {
        "duration": 34,
        "start_time": "2023-04-14T17:06:22.608Z"
      },
      {
        "duration": 14,
        "start_time": "2023-04-14T17:06:22.646Z"
      },
      {
        "duration": 146,
        "start_time": "2023-04-14T17:06:23.271Z"
      },
      {
        "duration": 58,
        "start_time": "2023-04-14T17:06:23.617Z"
      },
      {
        "duration": 81,
        "start_time": "2023-04-14T17:06:23.833Z"
      },
      {
        "duration": 3,
        "start_time": "2023-04-14T17:06:24.079Z"
      },
      {
        "duration": 5,
        "start_time": "2023-04-14T17:06:24.536Z"
      },
      {
        "duration": 4,
        "start_time": "2023-04-14T17:06:24.959Z"
      },
      {
        "duration": 3,
        "start_time": "2023-04-14T17:06:25.279Z"
      },
      {
        "duration": 124,
        "start_time": "2023-04-14T17:06:25.576Z"
      },
      {
        "duration": 3,
        "start_time": "2023-04-14T17:06:25.858Z"
      },
      {
        "duration": 5,
        "start_time": "2023-04-14T17:06:26.183Z"
      },
      {
        "duration": 3,
        "start_time": "2023-04-14T17:06:26.576Z"
      },
      {
        "duration": 486,
        "start_time": "2023-04-14T17:06:27.167Z"
      },
      {
        "duration": 5,
        "start_time": "2023-04-14T17:06:28.745Z"
      },
      {
        "duration": 7,
        "start_time": "2023-04-14T17:06:29.312Z"
      },
      {
        "duration": 31,
        "start_time": "2023-04-14T17:06:30.544Z"
      },
      {
        "duration": 14,
        "start_time": "2023-04-14T17:06:31.920Z"
      },
      {
        "duration": 24,
        "start_time": "2023-04-14T17:06:32.465Z"
      },
      {
        "duration": 48,
        "start_time": "2023-04-14T17:06:33.258Z"
      },
      {
        "duration": 8,
        "start_time": "2023-04-14T17:06:36.350Z"
      },
      {
        "duration": 5,
        "start_time": "2023-04-14T17:06:36.687Z"
      },
      {
        "duration": 4,
        "start_time": "2023-04-14T17:06:37.283Z"
      },
      {
        "duration": 3,
        "start_time": "2023-04-14T17:07:09.071Z"
      },
      {
        "duration": 4,
        "start_time": "2023-04-14T17:07:09.440Z"
      },
      {
        "duration": 4,
        "start_time": "2023-04-14T17:07:09.990Z"
      },
      {
        "duration": 5,
        "start_time": "2023-04-14T17:07:10.339Z"
      },
      {
        "duration": 92,
        "start_time": "2023-04-14T17:07:11.913Z"
      },
      {
        "duration": 6,
        "start_time": "2023-04-14T17:07:12.008Z"
      },
      {
        "duration": 4,
        "start_time": "2023-04-14T17:07:13.018Z"
      },
      {
        "duration": 875,
        "start_time": "2023-04-14T17:07:13.383Z"
      },
      {
        "duration": 242,
        "start_time": "2023-04-14T17:07:14.272Z"
      },
      {
        "duration": 3,
        "start_time": "2023-04-14T17:08:06.552Z"
      },
      {
        "duration": 5,
        "start_time": "2023-04-14T17:08:06.870Z"
      },
      {
        "duration": 1376,
        "start_time": "2023-04-14T17:08:08.424Z"
      },
      {
        "duration": 5036,
        "start_time": "2023-04-14T17:08:18.051Z"
      },
      {
        "duration": 0,
        "start_time": "2023-04-14T17:08:23.089Z"
      },
      {
        "duration": 0,
        "start_time": "2023-04-14T17:08:23.090Z"
      },
      {
        "duration": 0,
        "start_time": "2023-04-14T17:08:23.092Z"
      },
      {
        "duration": 42,
        "start_time": "2023-04-14T17:08:45.975Z"
      },
      {
        "duration": 10,
        "start_time": "2023-04-14T17:08:53.519Z"
      },
      {
        "duration": 9,
        "start_time": "2023-04-14T17:08:58.615Z"
      },
      {
        "duration": 36,
        "start_time": "2023-04-14T17:08:59.486Z"
      },
      {
        "duration": 5141,
        "start_time": "2023-04-14T17:09:06.151Z"
      },
      {
        "duration": 5124,
        "start_time": "2023-04-14T17:11:33.527Z"
      },
      {
        "duration": 5157,
        "start_time": "2023-04-14T17:12:02.901Z"
      },
      {
        "duration": 5216,
        "start_time": "2023-04-14T17:15:00.268Z"
      },
      {
        "duration": 6,
        "start_time": "2023-04-14T17:15:41.612Z"
      },
      {
        "duration": 5,
        "start_time": "2023-04-14T17:15:52.442Z"
      },
      {
        "duration": 27,
        "start_time": "2023-04-14T17:15:54.931Z"
      },
      {
        "duration": 5141,
        "start_time": "2023-04-14T17:16:17.524Z"
      },
      {
        "duration": 4954,
        "start_time": "2023-04-14T17:16:24.507Z"
      },
      {
        "duration": 4842,
        "start_time": "2023-04-14T17:51:27.369Z"
      },
      {
        "duration": 4959,
        "start_time": "2023-04-14T17:51:46.001Z"
      },
      {
        "duration": 13,
        "start_time": "2023-04-14T17:51:58.559Z"
      },
      {
        "duration": 6,
        "start_time": "2023-04-14T17:52:02.778Z"
      },
      {
        "duration": 4,
        "start_time": "2023-04-14T17:52:41.536Z"
      },
      {
        "duration": 25,
        "start_time": "2023-04-14T17:52:49.519Z"
      },
      {
        "duration": 6,
        "start_time": "2023-04-14T17:53:00.062Z"
      },
      {
        "duration": 4,
        "start_time": "2023-04-14T18:10:55.559Z"
      },
      {
        "duration": 17,
        "start_time": "2023-04-14T18:11:00.655Z"
      },
      {
        "duration": 26,
        "start_time": "2023-04-14T18:11:16.199Z"
      },
      {
        "duration": 14,
        "start_time": "2023-04-14T18:11:54.223Z"
      },
      {
        "duration": 28,
        "start_time": "2023-04-14T18:11:57.069Z"
      },
      {
        "duration": 11,
        "start_time": "2023-04-14T18:12:01.758Z"
      },
      {
        "duration": 10,
        "start_time": "2023-04-14T18:12:05.134Z"
      },
      {
        "duration": 10,
        "start_time": "2023-04-14T18:12:07.894Z"
      },
      {
        "duration": 11,
        "start_time": "2023-04-14T18:12:10.557Z"
      },
      {
        "duration": 11,
        "start_time": "2023-04-14T18:12:14.774Z"
      },
      {
        "duration": 10,
        "start_time": "2023-04-14T18:12:18.054Z"
      },
      {
        "duration": 11,
        "start_time": "2023-04-14T18:12:21.022Z"
      },
      {
        "duration": 1033,
        "start_time": "2023-04-14T18:12:35.294Z"
      },
      {
        "duration": 41,
        "start_time": "2023-04-14T18:12:39.157Z"
      },
      {
        "duration": 46,
        "start_time": "2023-04-14T18:12:41.902Z"
      },
      {
        "duration": 4,
        "start_time": "2023-04-14T18:12:45.259Z"
      },
      {
        "duration": 55,
        "start_time": "2023-04-14T18:12:45.663Z"
      },
      {
        "duration": 2,
        "start_time": "2023-04-14T18:12:46.054Z"
      },
      {
        "duration": 4,
        "start_time": "2023-04-14T18:12:47.005Z"
      },
      {
        "duration": 5,
        "start_time": "2023-04-14T18:12:47.485Z"
      },
      {
        "duration": 12,
        "start_time": "2023-04-14T18:12:47.869Z"
      },
      {
        "duration": 3,
        "start_time": "2023-04-14T18:12:49.085Z"
      },
      {
        "duration": 10,
        "start_time": "2023-04-14T18:12:49.493Z"
      },
      {
        "duration": 310,
        "start_time": "2023-04-14T18:12:49.661Z"
      },
      {
        "duration": 10,
        "start_time": "2023-04-14T18:12:49.973Z"
      },
      {
        "duration": 4,
        "start_time": "2023-04-14T18:12:50.078Z"
      },
      {
        "duration": 10,
        "start_time": "2023-04-14T18:12:50.629Z"
      },
      {
        "duration": 46,
        "start_time": "2023-04-14T18:12:50.924Z"
      },
      {
        "duration": 22,
        "start_time": "2023-04-14T18:12:51.110Z"
      },
      {
        "duration": 24,
        "start_time": "2023-04-14T18:12:51.333Z"
      },
      {
        "duration": 3,
        "start_time": "2023-04-14T18:12:51.710Z"
      },
      {
        "duration": 4,
        "start_time": "2023-04-14T18:12:52.069Z"
      },
      {
        "duration": 3,
        "start_time": "2023-04-14T18:12:52.653Z"
      },
      {
        "duration": 3,
        "start_time": "2023-04-14T18:12:52.876Z"
      },
      {
        "duration": 32,
        "start_time": "2023-04-14T18:12:53.158Z"
      },
      {
        "duration": 3,
        "start_time": "2023-04-14T18:12:53.389Z"
      },
      {
        "duration": 5,
        "start_time": "2023-04-14T18:12:53.629Z"
      },
      {
        "duration": 3,
        "start_time": "2023-04-14T18:12:54.788Z"
      },
      {
        "duration": 113,
        "start_time": "2023-04-14T18:12:55.357Z"
      },
      {
        "duration": 4,
        "start_time": "2023-04-14T18:12:56.357Z"
      },
      {
        "duration": 5,
        "start_time": "2023-04-14T18:12:58.026Z"
      },
      {
        "duration": 29,
        "start_time": "2023-04-14T18:12:58.445Z"
      },
      {
        "duration": 14,
        "start_time": "2023-04-14T18:12:59.949Z"
      },
      {
        "duration": 21,
        "start_time": "2023-04-14T18:13:00.532Z"
      },
      {
        "duration": 4,
        "start_time": "2023-04-14T18:13:01.636Z"
      },
      {
        "duration": 4,
        "start_time": "2023-04-14T18:13:01.941Z"
      },
      {
        "duration": 3,
        "start_time": "2023-04-14T18:13:02.404Z"
      },
      {
        "duration": 5,
        "start_time": "2023-04-14T18:13:02.764Z"
      },
      {
        "duration": 18,
        "start_time": "2023-04-14T18:13:03.613Z"
      },
      {
        "duration": 4,
        "start_time": "2023-04-14T18:13:04.830Z"
      },
      {
        "duration": 3,
        "start_time": "2023-04-14T18:13:05.613Z"
      },
      {
        "duration": 497,
        "start_time": "2023-04-14T18:13:09.859Z"
      },
      {
        "duration": 1120,
        "start_time": "2023-04-14T18:13:18.901Z"
      },
      {
        "duration": 1383,
        "start_time": "2023-04-14T18:23:58.553Z"
      },
      {
        "duration": 1127,
        "start_time": "2023-04-14T18:24:57.224Z"
      },
      {
        "duration": 1340,
        "start_time": "2023-04-14T18:25:30.823Z"
      },
      {
        "duration": 1599,
        "start_time": "2023-04-14T18:26:19.543Z"
      },
      {
        "duration": 144,
        "start_time": "2023-04-14T18:26:21.144Z"
      },
      {
        "duration": 160,
        "start_time": "2023-04-14T18:26:21.290Z"
      },
      {
        "duration": 4,
        "start_time": "2023-04-14T18:26:24.062Z"
      },
      {
        "duration": 222,
        "start_time": "2023-04-14T18:26:24.359Z"
      },
      {
        "duration": 4,
        "start_time": "2023-04-14T18:26:24.671Z"
      },
      {
        "duration": 1807,
        "start_time": "2023-04-14T18:26:33.831Z"
      },
      {
        "duration": 148,
        "start_time": "2023-04-14T18:26:35.641Z"
      },
      {
        "duration": 173,
        "start_time": "2023-04-14T18:26:35.791Z"
      },
      {
        "duration": 16,
        "start_time": "2023-04-14T18:26:43.396Z"
      },
      {
        "duration": 4,
        "start_time": "2023-04-14T18:28:24.725Z"
      },
      {
        "duration": 10,
        "start_time": "2023-04-14T18:28:24.853Z"
      },
      {
        "duration": 1312,
        "start_time": "2023-04-14T18:28:25.054Z"
      },
      {
        "duration": 17,
        "start_time": "2023-04-14T18:28:26.368Z"
      },
      {
        "duration": 7,
        "start_time": "2023-04-14T18:28:26.966Z"
      },
      {
        "duration": 10,
        "start_time": "2023-04-14T18:28:28.167Z"
      },
      {
        "duration": 150,
        "start_time": "2023-04-14T18:28:29.277Z"
      },
      {
        "duration": 60,
        "start_time": "2023-04-14T18:28:30.925Z"
      },
      {
        "duration": 89,
        "start_time": "2023-04-14T18:28:33.095Z"
      },
      {
        "duration": 4,
        "start_time": "2023-04-14T18:28:38.037Z"
      },
      {
        "duration": 4,
        "start_time": "2023-04-14T18:28:38.254Z"
      },
      {
        "duration": 3,
        "start_time": "2023-04-14T18:28:38.765Z"
      },
      {
        "duration": 3,
        "start_time": "2023-04-14T18:28:39.229Z"
      },
      {
        "duration": 134,
        "start_time": "2023-04-14T18:28:43.094Z"
      },
      {
        "duration": 3,
        "start_time": "2023-04-14T18:28:43.702Z"
      },
      {
        "duration": 4,
        "start_time": "2023-04-14T18:28:43.972Z"
      },
      {
        "duration": 3,
        "start_time": "2023-04-14T18:28:44.565Z"
      },
      {
        "duration": 436,
        "start_time": "2023-04-14T18:28:45.054Z"
      },
      {
        "duration": 4,
        "start_time": "2023-04-14T18:28:46.158Z"
      },
      {
        "duration": 6,
        "start_time": "2023-04-14T18:28:46.573Z"
      },
      {
        "duration": 26,
        "start_time": "2023-04-14T18:28:47.134Z"
      },
      {
        "duration": 14,
        "start_time": "2023-04-14T18:28:47.636Z"
      },
      {
        "duration": 22,
        "start_time": "2023-04-14T18:28:48.309Z"
      },
      {
        "duration": 3,
        "start_time": "2023-04-14T18:28:49.253Z"
      },
      {
        "duration": 4,
        "start_time": "2023-04-14T18:28:49.581Z"
      },
      {
        "duration": 2,
        "start_time": "2023-04-14T18:28:49.925Z"
      },
      {
        "duration": 4,
        "start_time": "2023-04-14T18:28:50.557Z"
      },
      {
        "duration": 56,
        "start_time": "2023-04-14T18:28:50.942Z"
      },
      {
        "duration": 5,
        "start_time": "2023-04-14T18:28:51.277Z"
      },
      {
        "duration": 1041,
        "start_time": "2023-04-14T18:28:51.653Z"
      },
      {
        "duration": 4845,
        "start_time": "2023-04-14T18:28:53.533Z"
      },
      {
        "duration": 209,
        "start_time": "2023-04-14T18:29:29.102Z"
      },
      {
        "duration": 4763,
        "start_time": "2023-04-14T18:29:38.948Z"
      },
      {
        "duration": 4849,
        "start_time": "2023-04-14T18:32:21.092Z"
      },
      {
        "duration": 4719,
        "start_time": "2023-04-14T18:36:57.464Z"
      },
      {
        "duration": 5,
        "start_time": "2023-04-14T18:37:30.523Z"
      },
      {
        "duration": 13,
        "start_time": "2023-04-14T18:37:37.963Z"
      },
      {
        "duration": 4,
        "start_time": "2023-04-14T18:37:45.540Z"
      },
      {
        "duration": 4,
        "start_time": "2023-04-14T18:37:49.148Z"
      },
      {
        "duration": 15,
        "start_time": "2023-04-14T18:39:42.235Z"
      },
      {
        "duration": 4579,
        "start_time": "2023-04-14T18:39:47.076Z"
      },
      {
        "duration": 0,
        "start_time": "2023-04-14T18:39:51.657Z"
      },
      {
        "duration": 5,
        "start_time": "2023-04-14T18:40:51.163Z"
      },
      {
        "duration": 15,
        "start_time": "2023-04-14T18:40:57.677Z"
      },
      {
        "duration": 5,
        "start_time": "2023-04-14T18:41:01.418Z"
      },
      {
        "duration": 5979,
        "start_time": "2023-04-15T08:12:24.816Z"
      },
      {
        "duration": 2227,
        "start_time": "2023-04-15T08:15:46.425Z"
      },
      {
        "duration": 4,
        "start_time": "2023-04-15T08:15:48.654Z"
      },
      {
        "duration": 8569,
        "start_time": "2023-04-15T08:15:48.660Z"
      },
      {
        "duration": 2,
        "start_time": "2023-04-15T08:15:57.231Z"
      },
      {
        "duration": 5,
        "start_time": "2023-04-15T08:15:57.235Z"
      },
      {
        "duration": 4,
        "start_time": "2023-04-15T08:15:57.241Z"
      },
      {
        "duration": 7,
        "start_time": "2023-04-15T08:16:52.017Z"
      },
      {
        "duration": 1383,
        "start_time": "2023-04-15T08:19:32.917Z"
      },
      {
        "duration": 104,
        "start_time": "2023-04-15T08:19:34.301Z"
      },
      {
        "duration": 105,
        "start_time": "2023-04-15T08:19:34.535Z"
      },
      {
        "duration": 16,
        "start_time": "2023-04-15T08:19:35.123Z"
      },
      {
        "duration": 2,
        "start_time": "2023-04-15T08:21:13.481Z"
      },
      {
        "duration": 10,
        "start_time": "2023-04-15T08:21:14.153Z"
      },
      {
        "duration": 791,
        "start_time": "2023-04-15T08:21:15.112Z"
      },
      {
        "duration": 11,
        "start_time": "2023-04-15T08:21:15.905Z"
      },
      {
        "duration": 5,
        "start_time": "2023-04-15T08:21:16.526Z"
      },
      {
        "duration": 7,
        "start_time": "2023-04-15T08:21:17.510Z"
      },
      {
        "duration": 103,
        "start_time": "2023-04-15T08:21:18.054Z"
      },
      {
        "duration": 31,
        "start_time": "2023-04-15T08:21:22.610Z"
      },
      {
        "duration": 49,
        "start_time": "2023-04-15T08:21:23.854Z"
      },
      {
        "duration": 3,
        "start_time": "2023-04-15T08:21:24.231Z"
      },
      {
        "duration": 3,
        "start_time": "2023-04-15T08:21:24.612Z"
      },
      {
        "duration": 3,
        "start_time": "2023-04-15T08:21:24.957Z"
      },
      {
        "duration": 2,
        "start_time": "2023-04-15T08:21:25.718Z"
      },
      {
        "duration": 72,
        "start_time": "2023-04-15T08:21:26.126Z"
      },
      {
        "duration": 3,
        "start_time": "2023-04-15T08:21:26.542Z"
      },
      {
        "duration": 4,
        "start_time": "2023-04-15T08:21:26.949Z"
      },
      {
        "duration": 3,
        "start_time": "2023-04-15T08:21:27.342Z"
      },
      {
        "duration": 238,
        "start_time": "2023-04-15T08:21:27.823Z"
      },
      {
        "duration": 4,
        "start_time": "2023-04-15T08:21:28.158Z"
      },
      {
        "duration": 6,
        "start_time": "2023-04-15T08:21:28.545Z"
      },
      {
        "duration": 20,
        "start_time": "2023-04-15T08:21:29.110Z"
      },
      {
        "duration": 10,
        "start_time": "2023-04-15T08:21:29.514Z"
      },
      {
        "duration": 21,
        "start_time": "2023-04-15T08:21:29.957Z"
      },
      {
        "duration": 2,
        "start_time": "2023-04-15T08:21:30.927Z"
      },
      {
        "duration": 3,
        "start_time": "2023-04-15T08:21:31.315Z"
      },
      {
        "duration": 2,
        "start_time": "2023-04-15T08:21:31.727Z"
      },
      {
        "duration": 4,
        "start_time": "2023-04-15T08:21:32.136Z"
      },
      {
        "duration": 54,
        "start_time": "2023-04-15T08:21:32.518Z"
      },
      {
        "duration": 4,
        "start_time": "2023-04-15T08:21:32.915Z"
      },
      {
        "duration": 902,
        "start_time": "2023-04-15T08:21:33.323Z"
      },
      {
        "duration": 206,
        "start_time": "2023-04-15T08:21:34.227Z"
      },
      {
        "duration": 0,
        "start_time": "2023-04-15T08:21:34.435Z"
      },
      {
        "duration": 4283,
        "start_time": "2023-04-15T08:21:35.514Z"
      },
      {
        "duration": 0,
        "start_time": "2023-04-15T08:21:39.799Z"
      },
      {
        "duration": 0,
        "start_time": "2023-04-15T08:21:39.800Z"
      },
      {
        "duration": 5,
        "start_time": "2023-04-15T08:23:00.215Z"
      },
      {
        "duration": 4,
        "start_time": "2023-04-15T08:23:10.941Z"
      },
      {
        "duration": 4,
        "start_time": "2023-04-15T08:24:37.549Z"
      },
      {
        "duration": 33,
        "start_time": "2023-04-15T08:25:29.141Z"
      },
      {
        "duration": 203,
        "start_time": "2023-04-15T08:26:10.111Z"
      },
      {
        "duration": 65,
        "start_time": "2023-04-15T08:26:14.804Z"
      },
      {
        "duration": 76,
        "start_time": "2023-04-15T08:27:18.496Z"
      },
      {
        "duration": 81,
        "start_time": "2023-04-15T08:27:38.992Z"
      },
      {
        "duration": 43,
        "start_time": "2023-04-15T08:27:40.899Z"
      },
      {
        "duration": 406,
        "start_time": "2023-04-15T08:28:42.027Z"
      },
      {
        "duration": 476,
        "start_time": "2023-04-15T08:28:52.820Z"
      },
      {
        "duration": 490,
        "start_time": "2023-04-15T08:28:58.939Z"
      },
      {
        "duration": 44,
        "start_time": "2023-04-15T08:29:01.896Z"
      },
      {
        "duration": 4358,
        "start_time": "2023-04-15T08:29:28.523Z"
      },
      {
        "duration": 206,
        "start_time": "2023-04-15T08:31:24.882Z"
      },
      {
        "duration": 4,
        "start_time": "2023-04-15T08:31:50.524Z"
      },
      {
        "duration": 3,
        "start_time": "2023-04-15T08:31:54.690Z"
      },
      {
        "duration": 212,
        "start_time": "2023-04-15T08:33:05.314Z"
      },
      {
        "duration": 189,
        "start_time": "2023-04-15T08:33:11.906Z"
      },
      {
        "duration": 82,
        "start_time": "2023-04-15T08:33:16.442Z"
      },
      {
        "duration": 41,
        "start_time": "2023-04-15T08:33:28.514Z"
      },
      {
        "duration": 260,
        "start_time": "2023-04-15T08:34:18.817Z"
      },
      {
        "duration": 48,
        "start_time": "2023-04-15T08:34:22.929Z"
      },
      {
        "duration": 41,
        "start_time": "2023-04-15T08:34:34.325Z"
      },
      {
        "duration": 470,
        "start_time": "2023-04-15T08:34:41.615Z"
      },
      {
        "duration": 40,
        "start_time": "2023-04-15T08:34:42.353Z"
      },
      {
        "duration": 22,
        "start_time": "2023-04-15T08:34:52.939Z"
      },
      {
        "duration": 26,
        "start_time": "2023-04-15T08:34:55.496Z"
      },
      {
        "duration": 5,
        "start_time": "2023-04-15T08:35:09.828Z"
      },
      {
        "duration": 912145,
        "start_time": "2023-04-15T08:35:15.816Z"
      },
      {
        "duration": 5,
        "start_time": "2023-04-15T08:50:27.963Z"
      },
      {
        "duration": 6,
        "start_time": "2023-04-15T08:51:44.375Z"
      },
      {
        "duration": 3,
        "start_time": "2023-04-15T08:51:44.728Z"
      },
      {
        "duration": 3942,
        "start_time": "2023-04-15T08:51:45.200Z"
      },
      {
        "duration": 425,
        "start_time": "2023-04-15T08:51:49.144Z"
      },
      {
        "duration": 18,
        "start_time": "2023-04-15T08:51:50.876Z"
      },
      {
        "duration": 5965,
        "start_time": "2023-04-15T08:51:52.400Z"
      },
      {
        "duration": 11,
        "start_time": "2023-04-15T08:55:49.776Z"
      },
      {
        "duration": 735,
        "start_time": "2023-04-15T08:55:58.135Z"
      },
      {
        "duration": 6340,
        "start_time": "2023-04-15T08:56:03.473Z"
      },
      {
        "duration": 28,
        "start_time": "2023-04-15T08:56:37.735Z"
      },
      {
        "duration": 23,
        "start_time": "2023-04-15T08:59:52.245Z"
      },
      {
        "duration": 291,
        "start_time": "2023-04-15T09:00:08.575Z"
      },
      {
        "duration": 258,
        "start_time": "2023-04-15T09:00:25.988Z"
      },
      {
        "duration": 3922,
        "start_time": "2023-04-15T09:00:47.420Z"
      },
      {
        "duration": 481,
        "start_time": "2023-04-15T09:00:51.344Z"
      },
      {
        "duration": 17,
        "start_time": "2023-04-15T09:00:51.828Z"
      },
      {
        "duration": 5838,
        "start_time": "2023-04-15T09:00:54.526Z"
      },
      {
        "duration": 5,
        "start_time": "2023-04-15T09:01:25.605Z"
      },
      {
        "duration": 601106,
        "start_time": "2023-04-15T09:01:26.045Z"
      },
      {
        "duration": 0,
        "start_time": "2023-04-15T09:11:27.153Z"
      },
      {
        "duration": 5,
        "start_time": "2023-04-15T09:11:33.883Z"
      },
      {
        "duration": 120,
        "start_time": "2023-04-15T09:11:45.183Z"
      },
      {
        "duration": 115,
        "start_time": "2023-04-15T09:11:53.906Z"
      },
      {
        "duration": 21,
        "start_time": "2023-04-15T09:12:07.647Z"
      },
      {
        "duration": 98,
        "start_time": "2023-04-15T09:12:14.504Z"
      },
      {
        "duration": 103,
        "start_time": "2023-04-15T09:12:51.717Z"
      },
      {
        "duration": 115,
        "start_time": "2023-04-15T09:13:01.848Z"
      },
      {
        "duration": 615,
        "start_time": "2023-04-15T09:13:08.249Z"
      },
      {
        "duration": 3831,
        "start_time": "2023-04-15T09:13:53.207Z"
      },
      {
        "duration": 6,
        "start_time": "2023-04-15T09:13:57.040Z"
      },
      {
        "duration": 3372,
        "start_time": "2023-04-15T09:20:33.442Z"
      },
      {
        "duration": 6,
        "start_time": "2023-04-15T09:20:36.815Z"
      },
      {
        "duration": 100,
        "start_time": "2023-04-15T09:21:20.811Z"
      },
      {
        "duration": 97,
        "start_time": "2023-04-15T09:23:13.433Z"
      },
      {
        "duration": 4730,
        "start_time": "2023-04-15T09:23:31.627Z"
      },
      {
        "duration": 4730,
        "start_time": "2023-04-15T09:31:32.880Z"
      },
      {
        "duration": 8,
        "start_time": "2023-04-15T09:33:26.933Z"
      },
      {
        "duration": 335,
        "start_time": "2023-04-15T09:36:50.199Z"
      },
      {
        "duration": 130,
        "start_time": "2023-04-15T09:37:10.296Z"
      },
      {
        "duration": 142,
        "start_time": "2023-04-15T09:41:59.221Z"
      },
      {
        "duration": 8,
        "start_time": "2023-04-15T09:42:17.513Z"
      },
      {
        "duration": 610,
        "start_time": "2023-04-15T09:46:20.896Z"
      },
      {
        "duration": 7,
        "start_time": "2023-04-15T09:46:21.508Z"
      },
      {
        "duration": 129,
        "start_time": "2023-04-15T09:46:53.536Z"
      },
      {
        "duration": 153,
        "start_time": "2023-04-15T09:46:54.998Z"
      },
      {
        "duration": 72,
        "start_time": "2023-04-15T09:50:39.958Z"
      },
      {
        "duration": 5620,
        "start_time": "2023-04-15T10:49:06.452Z"
      },
      {
        "duration": 25,
        "start_time": "2023-04-15T10:50:49.274Z"
      },
      {
        "duration": 5,
        "start_time": "2023-04-15T10:52:43.802Z"
      },
      {
        "duration": 42,
        "start_time": "2023-04-15T10:52:43.950Z"
      },
      {
        "duration": 487,
        "start_time": "2023-04-15T10:52:44.129Z"
      },
      {
        "duration": 834682,
        "start_time": "2023-04-15T10:52:45.620Z"
      },
      {
        "duration": 0,
        "start_time": "2023-04-15T11:06:40.304Z"
      },
      {
        "duration": 100,
        "start_time": "2023-04-15T11:06:41.173Z"
      },
      {
        "duration": 54,
        "start_time": "2023-04-15T11:06:42.717Z"
      },
      {
        "duration": 5,
        "start_time": "2023-04-15T11:06:50.651Z"
      },
      {
        "duration": 3,
        "start_time": "2023-04-15T11:07:06.492Z"
      },
      {
        "duration": 3,
        "start_time": "2023-04-15T11:07:08.492Z"
      },
      {
        "duration": 5,
        "start_time": "2023-04-15T11:07:09.365Z"
      },
      {
        "duration": 30,
        "start_time": "2023-04-15T11:07:09.888Z"
      },
      {
        "duration": 0,
        "start_time": "2023-04-15T11:07:21.807Z"
      },
      {
        "duration": 914,
        "start_time": "2023-04-15T11:07:22.717Z"
      },
      {
        "duration": 831,
        "start_time": "2023-04-15T11:07:25.412Z"
      },
      {
        "duration": 472,
        "start_time": "2023-04-15T11:07:40.300Z"
      },
      {
        "duration": 44,
        "start_time": "2023-04-15T11:07:42.444Z"
      },
      {
        "duration": 3,
        "start_time": "2023-04-15T11:07:45.995Z"
      },
      {
        "duration": 3,
        "start_time": "2023-04-15T11:07:46.932Z"
      },
      {
        "duration": 5,
        "start_time": "2023-04-15T11:07:47.508Z"
      },
      {
        "duration": 183495,
        "start_time": "2023-04-15T11:07:47.917Z"
      },
      {
        "duration": 2,
        "start_time": "2023-04-15T11:10:58.952Z"
      },
      {
        "duration": 3,
        "start_time": "2023-04-15T11:10:59.190Z"
      },
      {
        "duration": 5,
        "start_time": "2023-04-15T11:10:59.873Z"
      },
      {
        "duration": 30,
        "start_time": "2023-04-15T11:11:00.263Z"
      },
      {
        "duration": 451,
        "start_time": "2023-04-15T11:11:19.563Z"
      },
      {
        "duration": 47,
        "start_time": "2023-04-15T11:11:20.016Z"
      },
      {
        "duration": 23,
        "start_time": "2023-04-15T11:11:20.228Z"
      },
      {
        "duration": 65,
        "start_time": "2023-04-15T11:12:18.259Z"
      },
      {
        "duration": 651,
        "start_time": "2023-04-15T11:12:20.895Z"
      },
      {
        "duration": 16,
        "start_time": "2023-04-15T11:12:55.610Z"
      },
      {
        "duration": 7,
        "start_time": "2023-04-15T11:13:04.522Z"
      },
      {
        "duration": 5,
        "start_time": "2023-04-15T11:13:04.843Z"
      },
      {
        "duration": 4,
        "start_time": "2023-04-15T11:13:06.146Z"
      },
      {
        "duration": 78258,
        "start_time": "2023-04-15T11:13:06.514Z"
      },
      {
        "duration": 0,
        "start_time": "2023-04-15T11:14:24.774Z"
      },
      {
        "duration": 0,
        "start_time": "2023-04-15T11:14:24.776Z"
      },
      {
        "duration": 0,
        "start_time": "2023-04-15T11:14:24.776Z"
      },
      {
        "duration": 0,
        "start_time": "2023-04-15T11:14:24.778Z"
      },
      {
        "duration": 788,
        "start_time": "2023-04-15T11:14:41.794Z"
      },
      {
        "duration": 455,
        "start_time": "2023-04-15T11:14:47.393Z"
      },
      {
        "duration": 47,
        "start_time": "2023-04-15T11:14:48.876Z"
      },
      {
        "duration": 23,
        "start_time": "2023-04-15T11:14:49.075Z"
      },
      {
        "duration": 5,
        "start_time": "2023-04-15T11:14:54.324Z"
      },
      {
        "duration": 4,
        "start_time": "2023-04-15T11:25:10.596Z"
      },
      {
        "duration": 1385,
        "start_time": "2023-04-15T11:25:10.602Z"
      },
      {
        "duration": 0,
        "start_time": "2023-04-15T11:25:11.991Z"
      },
      {
        "duration": 0,
        "start_time": "2023-04-15T11:25:11.994Z"
      },
      {
        "duration": 0,
        "start_time": "2023-04-15T11:25:11.994Z"
      },
      {
        "duration": 0,
        "start_time": "2023-04-15T11:25:11.996Z"
      },
      {
        "duration": 0,
        "start_time": "2023-04-15T11:25:11.997Z"
      },
      {
        "duration": 0,
        "start_time": "2023-04-15T11:25:11.998Z"
      },
      {
        "duration": 0,
        "start_time": "2023-04-15T11:25:11.998Z"
      },
      {
        "duration": 0,
        "start_time": "2023-04-15T11:25:11.999Z"
      },
      {
        "duration": 0,
        "start_time": "2023-04-15T11:25:12.000Z"
      },
      {
        "duration": 0,
        "start_time": "2023-04-15T11:25:12.001Z"
      },
      {
        "duration": 0,
        "start_time": "2023-04-15T11:25:12.003Z"
      },
      {
        "duration": 0,
        "start_time": "2023-04-15T11:25:12.003Z"
      },
      {
        "duration": 0,
        "start_time": "2023-04-15T11:25:12.004Z"
      },
      {
        "duration": 0,
        "start_time": "2023-04-15T11:25:12.005Z"
      },
      {
        "duration": 0,
        "start_time": "2023-04-15T11:25:12.006Z"
      },
      {
        "duration": 0,
        "start_time": "2023-04-15T11:25:12.007Z"
      },
      {
        "duration": 0,
        "start_time": "2023-04-15T11:25:12.008Z"
      },
      {
        "duration": 0,
        "start_time": "2023-04-15T11:25:12.010Z"
      },
      {
        "duration": 0,
        "start_time": "2023-04-15T11:25:12.011Z"
      },
      {
        "duration": 0,
        "start_time": "2023-04-15T11:25:12.012Z"
      },
      {
        "duration": 0,
        "start_time": "2023-04-15T11:25:12.012Z"
      },
      {
        "duration": 0,
        "start_time": "2023-04-15T11:25:12.013Z"
      },
      {
        "duration": 0,
        "start_time": "2023-04-15T11:25:12.014Z"
      },
      {
        "duration": 0,
        "start_time": "2023-04-15T11:25:12.015Z"
      },
      {
        "duration": 0,
        "start_time": "2023-04-15T11:25:12.016Z"
      },
      {
        "duration": 0,
        "start_time": "2023-04-15T11:25:12.017Z"
      },
      {
        "duration": 0,
        "start_time": "2023-04-15T11:25:12.018Z"
      },
      {
        "duration": 0,
        "start_time": "2023-04-15T11:25:12.019Z"
      },
      {
        "duration": 0,
        "start_time": "2023-04-15T11:25:12.020Z"
      },
      {
        "duration": 0,
        "start_time": "2023-04-15T11:25:12.021Z"
      },
      {
        "duration": 0,
        "start_time": "2023-04-15T11:25:12.022Z"
      },
      {
        "duration": 0,
        "start_time": "2023-04-15T11:25:12.023Z"
      },
      {
        "duration": 0,
        "start_time": "2023-04-15T11:25:12.024Z"
      },
      {
        "duration": 0,
        "start_time": "2023-04-15T11:25:12.025Z"
      },
      {
        "duration": 0,
        "start_time": "2023-04-15T11:25:12.026Z"
      },
      {
        "duration": 0,
        "start_time": "2023-04-15T11:25:12.027Z"
      },
      {
        "duration": 0,
        "start_time": "2023-04-15T11:25:12.028Z"
      },
      {
        "duration": 0,
        "start_time": "2023-04-15T11:25:12.029Z"
      },
      {
        "duration": 0,
        "start_time": "2023-04-15T11:25:12.030Z"
      },
      {
        "duration": 0,
        "start_time": "2023-04-15T11:25:12.094Z"
      },
      {
        "duration": 0,
        "start_time": "2023-04-15T11:25:12.095Z"
      },
      {
        "duration": 0,
        "start_time": "2023-04-15T11:25:12.096Z"
      },
      {
        "duration": 0,
        "start_time": "2023-04-15T11:25:12.097Z"
      },
      {
        "duration": 0,
        "start_time": "2023-04-15T11:25:12.098Z"
      },
      {
        "duration": 0,
        "start_time": "2023-04-15T11:25:12.099Z"
      },
      {
        "duration": 0,
        "start_time": "2023-04-15T11:25:12.099Z"
      },
      {
        "duration": 0,
        "start_time": "2023-04-15T11:25:12.101Z"
      },
      {
        "duration": 0,
        "start_time": "2023-04-15T11:25:12.102Z"
      },
      {
        "duration": 0,
        "start_time": "2023-04-15T11:25:12.104Z"
      },
      {
        "duration": 0,
        "start_time": "2023-04-15T11:25:12.105Z"
      },
      {
        "duration": 0,
        "start_time": "2023-04-15T11:25:12.106Z"
      },
      {
        "duration": 0,
        "start_time": "2023-04-15T11:25:12.107Z"
      },
      {
        "duration": 0,
        "start_time": "2023-04-15T11:25:12.109Z"
      },
      {
        "duration": 0,
        "start_time": "2023-04-15T11:25:12.110Z"
      },
      {
        "duration": 0,
        "start_time": "2023-04-15T11:25:12.111Z"
      },
      {
        "duration": 0,
        "start_time": "2023-04-15T11:25:12.112Z"
      },
      {
        "duration": 0,
        "start_time": "2023-04-15T11:25:12.113Z"
      },
      {
        "duration": 0,
        "start_time": "2023-04-15T11:25:12.114Z"
      },
      {
        "duration": 0,
        "start_time": "2023-04-15T11:25:12.116Z"
      },
      {
        "duration": 0,
        "start_time": "2023-04-15T11:25:12.116Z"
      },
      {
        "duration": 0,
        "start_time": "2023-04-15T11:25:12.117Z"
      },
      {
        "duration": 0,
        "start_time": "2023-04-15T11:25:12.118Z"
      },
      {
        "duration": 0,
        "start_time": "2023-04-15T11:25:12.119Z"
      },
      {
        "duration": 0,
        "start_time": "2023-04-15T11:25:12.120Z"
      },
      {
        "duration": 0,
        "start_time": "2023-04-15T11:25:12.120Z"
      },
      {
        "duration": 0,
        "start_time": "2023-04-15T11:25:12.121Z"
      },
      {
        "duration": 0,
        "start_time": "2023-04-15T11:25:12.122Z"
      },
      {
        "duration": 0,
        "start_time": "2023-04-15T11:25:12.123Z"
      },
      {
        "duration": 0,
        "start_time": "2023-04-15T11:25:12.124Z"
      },
      {
        "duration": 0,
        "start_time": "2023-04-15T11:25:12.125Z"
      },
      {
        "duration": 0,
        "start_time": "2023-04-15T11:25:12.126Z"
      },
      {
        "duration": 0,
        "start_time": "2023-04-15T11:25:12.127Z"
      },
      {
        "duration": 0,
        "start_time": "2023-04-15T11:25:12.129Z"
      },
      {
        "duration": 1,
        "start_time": "2023-04-15T11:25:12.129Z"
      },
      {
        "duration": 0,
        "start_time": "2023-04-15T11:25:12.130Z"
      },
      {
        "duration": 0,
        "start_time": "2023-04-15T11:25:12.131Z"
      },
      {
        "duration": 0,
        "start_time": "2023-04-15T11:25:12.132Z"
      },
      {
        "duration": 0,
        "start_time": "2023-04-15T11:25:12.133Z"
      },
      {
        "duration": 0,
        "start_time": "2023-04-15T11:25:12.195Z"
      },
      {
        "duration": 0,
        "start_time": "2023-04-15T11:25:12.196Z"
      },
      {
        "duration": 0,
        "start_time": "2023-04-15T11:25:12.197Z"
      },
      {
        "duration": 0,
        "start_time": "2023-04-15T11:25:12.198Z"
      },
      {
        "duration": 0,
        "start_time": "2023-04-15T11:25:12.199Z"
      },
      {
        "duration": 0,
        "start_time": "2023-04-15T11:25:12.200Z"
      },
      {
        "duration": 0,
        "start_time": "2023-04-15T11:25:12.201Z"
      },
      {
        "duration": 0,
        "start_time": "2023-04-15T11:25:12.202Z"
      },
      {
        "duration": 0,
        "start_time": "2023-04-15T11:25:12.203Z"
      },
      {
        "duration": 0,
        "start_time": "2023-04-15T11:25:12.204Z"
      },
      {
        "duration": 0,
        "start_time": "2023-04-15T11:25:12.205Z"
      },
      {
        "duration": 0,
        "start_time": "2023-04-15T11:25:12.206Z"
      },
      {
        "duration": 0,
        "start_time": "2023-04-15T11:25:12.207Z"
      },
      {
        "duration": 0,
        "start_time": "2023-04-15T11:25:12.208Z"
      },
      {
        "duration": 0,
        "start_time": "2023-04-15T11:25:12.209Z"
      },
      {
        "duration": 0,
        "start_time": "2023-04-15T11:25:12.210Z"
      },
      {
        "duration": 0,
        "start_time": "2023-04-15T11:25:12.211Z"
      },
      {
        "duration": 0,
        "start_time": "2023-04-15T11:25:12.212Z"
      },
      {
        "duration": 0,
        "start_time": "2023-04-15T11:25:12.213Z"
      },
      {
        "duration": 0,
        "start_time": "2023-04-15T11:25:12.214Z"
      },
      {
        "duration": 0,
        "start_time": "2023-04-15T11:25:12.215Z"
      },
      {
        "duration": 0,
        "start_time": "2023-04-15T11:25:12.216Z"
      },
      {
        "duration": 0,
        "start_time": "2023-04-15T11:25:12.217Z"
      },
      {
        "duration": 0,
        "start_time": "2023-04-15T11:25:12.218Z"
      },
      {
        "duration": 0,
        "start_time": "2023-04-15T11:25:12.219Z"
      },
      {
        "duration": 0,
        "start_time": "2023-04-15T11:25:12.220Z"
      },
      {
        "duration": 0,
        "start_time": "2023-04-15T11:25:12.221Z"
      },
      {
        "duration": 0,
        "start_time": "2023-04-15T11:25:12.222Z"
      },
      {
        "duration": 0,
        "start_time": "2023-04-15T11:25:12.223Z"
      },
      {
        "duration": 0,
        "start_time": "2023-04-15T11:25:12.224Z"
      },
      {
        "duration": 0,
        "start_time": "2023-04-15T11:25:12.225Z"
      },
      {
        "duration": 0,
        "start_time": "2023-04-15T11:25:12.225Z"
      },
      {
        "duration": 0,
        "start_time": "2023-04-15T11:25:12.226Z"
      },
      {
        "duration": 0,
        "start_time": "2023-04-15T11:25:12.227Z"
      },
      {
        "duration": 0,
        "start_time": "2023-04-15T11:25:12.228Z"
      },
      {
        "duration": 0,
        "start_time": "2023-04-15T11:25:12.229Z"
      },
      {
        "duration": 0,
        "start_time": "2023-04-15T11:25:12.230Z"
      },
      {
        "duration": 22856,
        "start_time": "2023-04-15T11:26:06.596Z"
      },
      {
        "duration": 16,
        "start_time": "2023-04-15T11:26:29.454Z"
      },
      {
        "duration": 24813,
        "start_time": "2023-04-15T11:33:25.353Z"
      },
      {
        "duration": 2286,
        "start_time": "2023-04-15T11:34:11.864Z"
      },
      {
        "duration": 20,
        "start_time": "2023-04-15T11:34:14.153Z"
      },
      {
        "duration": 15,
        "start_time": "2023-04-15T11:34:29.513Z"
      },
      {
        "duration": 11,
        "start_time": "2023-04-15T11:34:35.703Z"
      },
      {
        "duration": 9,
        "start_time": "2023-04-15T11:34:48.951Z"
      },
      {
        "duration": 2382,
        "start_time": "2023-04-15T11:34:58.072Z"
      },
      {
        "duration": 4217,
        "start_time": "2023-04-15T11:35:44.816Z"
      },
      {
        "duration": 13,
        "start_time": "2023-04-15T11:35:59.783Z"
      },
      {
        "duration": 10,
        "start_time": "2023-04-15T11:37:04.438Z"
      },
      {
        "duration": 2,
        "start_time": "2023-04-15T11:37:13.551Z"
      },
      {
        "duration": 3,
        "start_time": "2023-04-15T11:37:13.902Z"
      },
      {
        "duration": 2453,
        "start_time": "2023-04-15T11:37:43.573Z"
      },
      {
        "duration": 13,
        "start_time": "2023-04-15T11:38:04.366Z"
      },
      {
        "duration": 171249,
        "start_time": "2023-04-15T11:38:20.261Z"
      },
      {
        "duration": 13,
        "start_time": "2023-04-15T11:41:11.512Z"
      },
      {
        "duration": 116157,
        "start_time": "2023-04-15T11:41:11.957Z"
      },
      {
        "duration": 16,
        "start_time": "2023-04-15T11:43:08.117Z"
      },
      {
        "duration": 4271,
        "start_time": "2023-04-15T11:43:17.200Z"
      },
      {
        "duration": 709,
        "start_time": "2023-04-15T11:43:21.473Z"
      },
      {
        "duration": 2,
        "start_time": "2023-04-15T11:43:23.241Z"
      },
      {
        "duration": 2335,
        "start_time": "2023-04-15T11:43:24.080Z"
      },
      {
        "duration": 130,
        "start_time": "2023-04-15T11:43:26.579Z"
      },
      {
        "duration": 10,
        "start_time": "2023-04-15T11:43:44.228Z"
      },
      {
        "duration": 7,
        "start_time": "2023-04-15T11:43:48.638Z"
      },
      {
        "duration": 1378,
        "start_time": "2023-04-15T11:46:28.787Z"
      },
      {
        "duration": 280,
        "start_time": "2023-04-15T11:46:41.908Z"
      },
      {
        "duration": 3,
        "start_time": "2023-04-15T11:46:49.359Z"
      },
      {
        "duration": 1531,
        "start_time": "2023-04-15T11:46:49.363Z"
      },
      {
        "duration": 3,
        "start_time": "2023-04-15T11:46:50.896Z"
      },
      {
        "duration": 7851,
        "start_time": "2023-04-15T11:46:50.900Z"
      },
      {
        "duration": 2,
        "start_time": "2023-04-15T11:46:58.753Z"
      },
      {
        "duration": 7,
        "start_time": "2023-04-15T11:46:58.757Z"
      },
      {
        "duration": 5,
        "start_time": "2023-04-15T11:46:58.765Z"
      },
      {
        "duration": 56,
        "start_time": "2023-04-15T11:46:58.771Z"
      },
      {
        "duration": 174,
        "start_time": "2023-04-15T11:46:58.828Z"
      },
      {
        "duration": 9,
        "start_time": "2023-04-15T11:46:59.003Z"
      },
      {
        "duration": 15,
        "start_time": "2023-04-15T11:46:59.014Z"
      },
      {
        "duration": 22,
        "start_time": "2023-04-15T11:46:59.030Z"
      },
      {
        "duration": 9,
        "start_time": "2023-04-15T11:46:59.053Z"
      },
      {
        "duration": 172,
        "start_time": "2023-04-15T11:46:59.063Z"
      },
      {
        "duration": 117,
        "start_time": "2023-04-15T11:46:59.237Z"
      },
      {
        "duration": 141,
        "start_time": "2023-04-15T11:46:59.356Z"
      },
      {
        "duration": 1288,
        "start_time": "2023-04-15T11:46:59.498Z"
      },
      {
        "duration": 8,
        "start_time": "2023-04-15T11:47:00.788Z"
      },
      {
        "duration": 39,
        "start_time": "2023-04-15T11:47:00.798Z"
      },
      {
        "duration": 30,
        "start_time": "2023-04-15T11:47:00.839Z"
      },
      {
        "duration": 217,
        "start_time": "2023-04-15T11:47:00.871Z"
      },
      {
        "duration": 9,
        "start_time": "2023-04-15T11:47:01.090Z"
      },
      {
        "duration": 324,
        "start_time": "2023-04-15T11:47:01.100Z"
      },
      {
        "duration": 9,
        "start_time": "2023-04-15T11:47:01.425Z"
      },
      {
        "duration": 46,
        "start_time": "2023-04-15T11:47:01.436Z"
      },
      {
        "duration": 480,
        "start_time": "2023-04-15T11:47:01.484Z"
      },
      {
        "duration": 483,
        "start_time": "2023-04-15T11:47:01.966Z"
      },
      {
        "duration": 168,
        "start_time": "2023-04-15T11:47:02.450Z"
      },
      {
        "duration": 52,
        "start_time": "2023-04-15T11:47:02.622Z"
      },
      {
        "duration": 50,
        "start_time": "2023-04-15T11:47:02.675Z"
      },
      {
        "duration": 50,
        "start_time": "2023-04-15T11:47:02.727Z"
      },
      {
        "duration": 13,
        "start_time": "2023-04-15T11:47:02.778Z"
      },
      {
        "duration": 17,
        "start_time": "2023-04-15T11:47:02.792Z"
      },
      {
        "duration": 3864,
        "start_time": "2023-04-15T11:47:02.810Z"
      },
      {
        "duration": 7,
        "start_time": "2023-04-15T11:47:06.676Z"
      },
      {
        "duration": 622,
        "start_time": "2023-04-15T11:47:06.684Z"
      },
      {
        "duration": 8,
        "start_time": "2023-04-15T11:47:07.307Z"
      },
      {
        "duration": 156,
        "start_time": "2023-04-15T11:47:07.317Z"
      },
      {
        "duration": 151,
        "start_time": "2023-04-15T11:47:07.475Z"
      },
      {
        "duration": 5298,
        "start_time": "2023-04-15T11:47:07.628Z"
      },
      {
        "duration": 6,
        "start_time": "2023-04-15T11:47:12.928Z"
      },
      {
        "duration": 100,
        "start_time": "2023-04-15T11:47:12.936Z"
      },
      {
        "duration": 650,
        "start_time": "2023-04-15T11:47:13.038Z"
      },
      {
        "duration": 6,
        "start_time": "2023-04-15T11:47:13.690Z"
      },
      {
        "duration": 101,
        "start_time": "2023-04-15T11:47:13.698Z"
      },
      {
        "duration": 3913,
        "start_time": "2023-04-15T11:47:13.801Z"
      },
      {
        "duration": 7,
        "start_time": "2023-04-15T11:47:17.716Z"
      },
      {
        "duration": 127,
        "start_time": "2023-04-15T11:47:17.724Z"
      },
      {
        "duration": 9955,
        "start_time": "2023-04-15T11:47:17.853Z"
      },
      {
        "duration": 6,
        "start_time": "2023-04-15T11:47:27.810Z"
      },
      {
        "duration": 194,
        "start_time": "2023-04-15T11:47:27.818Z"
      },
      {
        "duration": 9743,
        "start_time": "2023-04-15T11:47:28.014Z"
      },
      {
        "duration": 7,
        "start_time": "2023-04-15T11:47:37.758Z"
      },
      {
        "duration": 90,
        "start_time": "2023-04-15T11:47:37.767Z"
      },
      {
        "duration": 3028,
        "start_time": "2023-04-15T11:47:37.859Z"
      },
      {
        "duration": 7,
        "start_time": "2023-04-15T11:47:40.888Z"
      },
      {
        "duration": 100,
        "start_time": "2023-04-15T11:47:40.896Z"
      },
      {
        "duration": 3790,
        "start_time": "2023-04-15T11:47:40.998Z"
      },
      {
        "duration": 9,
        "start_time": "2023-04-15T11:47:44.790Z"
      },
      {
        "duration": 7,
        "start_time": "2023-04-15T11:47:44.800Z"
      },
      {
        "duration": 1749,
        "start_time": "2023-04-15T11:47:44.809Z"
      },
      {
        "duration": 570,
        "start_time": "2023-04-15T11:47:46.560Z"
      },
      {
        "duration": 1318,
        "start_time": "2023-04-15T11:47:47.132Z"
      },
      {
        "duration": 107,
        "start_time": "2023-04-15T11:47:48.452Z"
      },
      {
        "duration": 122,
        "start_time": "2023-04-15T11:47:48.561Z"
      },
      {
        "duration": 17,
        "start_time": "2023-04-15T11:47:48.685Z"
      },
      {
        "duration": 3,
        "start_time": "2023-04-15T11:47:48.703Z"
      },
      {
        "duration": 13,
        "start_time": "2023-04-15T11:47:48.707Z"
      },
      {
        "duration": 902,
        "start_time": "2023-04-15T11:47:48.722Z"
      },
      {
        "duration": 12,
        "start_time": "2023-04-15T11:47:49.626Z"
      },
      {
        "duration": 4,
        "start_time": "2023-04-15T11:47:49.639Z"
      },
      {
        "duration": 7,
        "start_time": "2023-04-15T11:47:49.645Z"
      },
      {
        "duration": 141,
        "start_time": "2023-04-15T11:47:49.654Z"
      },
      {
        "duration": 43,
        "start_time": "2023-04-15T11:47:49.796Z"
      },
      {
        "duration": 74,
        "start_time": "2023-04-15T11:47:49.841Z"
      },
      {
        "duration": 3,
        "start_time": "2023-04-15T11:47:49.917Z"
      },
      {
        "duration": 5,
        "start_time": "2023-04-15T11:47:49.922Z"
      },
      {
        "duration": 6,
        "start_time": "2023-04-15T11:47:49.929Z"
      },
      {
        "duration": 93,
        "start_time": "2023-04-15T11:47:49.937Z"
      },
      {
        "duration": 4,
        "start_time": "2023-04-15T11:47:50.032Z"
      },
      {
        "duration": 10,
        "start_time": "2023-04-15T11:47:50.037Z"
      },
      {
        "duration": 7,
        "start_time": "2023-04-15T11:47:50.048Z"
      },
      {
        "duration": 276,
        "start_time": "2023-04-15T11:47:50.060Z"
      },
      {
        "duration": 4,
        "start_time": "2023-04-15T11:47:50.337Z"
      },
      {
        "duration": 6,
        "start_time": "2023-04-15T11:47:50.342Z"
      },
      {
        "duration": 20,
        "start_time": "2023-04-15T11:47:50.349Z"
      },
      {
        "duration": 31,
        "start_time": "2023-04-15T11:47:50.371Z"
      },
      {
        "duration": 24,
        "start_time": "2023-04-15T11:47:50.404Z"
      },
      {
        "duration": 2,
        "start_time": "2023-04-15T11:47:50.429Z"
      },
      {
        "duration": 4,
        "start_time": "2023-04-15T11:47:50.433Z"
      },
      {
        "duration": 3,
        "start_time": "2023-04-15T11:47:50.439Z"
      },
      {
        "duration": 4,
        "start_time": "2023-04-15T11:47:50.444Z"
      },
      {
        "duration": 64,
        "start_time": "2023-04-15T11:47:50.449Z"
      },
      {
        "duration": 3,
        "start_time": "2023-04-15T11:47:50.515Z"
      },
      {
        "duration": 851,
        "start_time": "2023-04-15T11:47:50.519Z"
      },
      {
        "duration": 4,
        "start_time": "2023-04-15T11:47:51.373Z"
      },
      {
        "duration": 155,
        "start_time": "2023-04-15T11:47:51.380Z"
      },
      {
        "duration": 0,
        "start_time": "2023-04-15T11:47:51.536Z"
      },
      {
        "duration": 0,
        "start_time": "2023-04-15T11:47:51.537Z"
      },
      {
        "duration": 0,
        "start_time": "2023-04-15T11:47:51.538Z"
      },
      {
        "duration": 0,
        "start_time": "2023-04-15T11:47:51.540Z"
      },
      {
        "duration": 0,
        "start_time": "2023-04-15T11:47:51.541Z"
      },
      {
        "duration": 0,
        "start_time": "2023-04-15T11:47:51.542Z"
      },
      {
        "duration": 0,
        "start_time": "2023-04-15T11:47:51.543Z"
      },
      {
        "duration": 0,
        "start_time": "2023-04-15T11:47:51.544Z"
      },
      {
        "duration": 1,
        "start_time": "2023-04-15T11:47:51.544Z"
      },
      {
        "duration": 0,
        "start_time": "2023-04-15T11:47:51.545Z"
      },
      {
        "duration": 0,
        "start_time": "2023-04-15T11:47:51.547Z"
      },
      {
        "duration": 0,
        "start_time": "2023-04-15T11:47:51.548Z"
      },
      {
        "duration": 0,
        "start_time": "2023-04-15T11:47:51.549Z"
      },
      {
        "duration": 0,
        "start_time": "2023-04-15T11:47:51.551Z"
      },
      {
        "duration": 0,
        "start_time": "2023-04-15T11:47:51.551Z"
      },
      {
        "duration": 0,
        "start_time": "2023-04-15T11:47:51.553Z"
      },
      {
        "duration": 0,
        "start_time": "2023-04-15T11:47:51.554Z"
      },
      {
        "duration": 0,
        "start_time": "2023-04-15T11:47:51.556Z"
      },
      {
        "duration": 0,
        "start_time": "2023-04-15T11:47:51.556Z"
      },
      {
        "duration": 0,
        "start_time": "2023-04-15T11:47:51.558Z"
      },
      {
        "duration": 4,
        "start_time": "2023-04-15T11:52:00.337Z"
      },
      {
        "duration": 3,
        "start_time": "2023-04-15T11:52:00.936Z"
      },
      {
        "duration": 4,
        "start_time": "2023-04-15T11:52:01.291Z"
      },
      {
        "duration": 4,
        "start_time": "2023-04-15T11:52:01.615Z"
      },
      {
        "duration": 3,
        "start_time": "2023-04-15T11:52:01.997Z"
      },
      {
        "duration": 9,
        "start_time": "2023-04-15T11:52:02.197Z"
      },
      {
        "duration": 170,
        "start_time": "2023-04-15T11:52:02.398Z"
      },
      {
        "duration": 9,
        "start_time": "2023-04-15T11:52:02.784Z"
      },
      {
        "duration": 171,
        "start_time": "2023-04-15T11:52:21.913Z"
      },
      {
        "duration": 184,
        "start_time": "2023-04-15T11:56:41.401Z"
      },
      {
        "duration": 25904,
        "start_time": "2023-04-15T12:01:56.701Z"
      },
      {
        "duration": 183,
        "start_time": "2023-04-15T12:05:02.380Z"
      },
      {
        "duration": 16089,
        "start_time": "2023-04-15T12:05:43.555Z"
      },
      {
        "duration": 178,
        "start_time": "2023-04-15T12:06:06.363Z"
      },
      {
        "duration": 3,
        "start_time": "2023-04-15T12:06:22.817Z"
      },
      {
        "duration": 1581,
        "start_time": "2023-04-15T12:06:22.822Z"
      },
      {
        "duration": 3,
        "start_time": "2023-04-15T12:06:24.405Z"
      },
      {
        "duration": 7791,
        "start_time": "2023-04-15T12:06:24.410Z"
      },
      {
        "duration": 2,
        "start_time": "2023-04-15T12:06:32.203Z"
      },
      {
        "duration": 351,
        "start_time": "2023-04-15T12:06:32.206Z"
      },
      {
        "duration": 6,
        "start_time": "2023-04-15T12:06:32.559Z"
      },
      {
        "duration": 52,
        "start_time": "2023-04-15T12:06:32.566Z"
      },
      {
        "duration": 183,
        "start_time": "2023-04-15T12:06:32.620Z"
      },
      {
        "duration": 9,
        "start_time": "2023-04-15T12:06:32.806Z"
      },
      {
        "duration": 14,
        "start_time": "2023-04-15T12:06:32.817Z"
      },
      {
        "duration": 22,
        "start_time": "2023-04-15T12:06:32.833Z"
      },
      {
        "duration": 9,
        "start_time": "2023-04-15T12:06:32.857Z"
      },
      {
        "duration": 174,
        "start_time": "2023-04-15T12:06:32.868Z"
      },
      {
        "duration": 122,
        "start_time": "2023-04-15T12:06:33.044Z"
      },
      {
        "duration": 139,
        "start_time": "2023-04-15T12:06:33.167Z"
      },
      {
        "duration": 1317,
        "start_time": "2023-04-15T12:06:33.308Z"
      },
      {
        "duration": 8,
        "start_time": "2023-04-15T12:06:34.627Z"
      },
      {
        "duration": 5,
        "start_time": "2023-04-15T12:06:34.636Z"
      },
      {
        "duration": 5,
        "start_time": "2023-04-15T12:06:34.643Z"
      },
      {
        "duration": 195,
        "start_time": "2023-04-15T12:06:34.650Z"
      },
      {
        "duration": 7,
        "start_time": "2023-04-15T12:06:34.846Z"
      },
      {
        "duration": 219,
        "start_time": "2023-04-15T12:06:34.855Z"
      },
      {
        "duration": 9,
        "start_time": "2023-04-15T12:06:35.075Z"
      },
      {
        "duration": 15,
        "start_time": "2023-04-15T12:06:35.086Z"
      },
      {
        "duration": 467,
        "start_time": "2023-04-15T12:06:35.102Z"
      },
      {
        "duration": 472,
        "start_time": "2023-04-15T12:06:35.570Z"
      },
      {
        "duration": 172,
        "start_time": "2023-04-15T12:06:36.046Z"
      },
      {
        "duration": 53,
        "start_time": "2023-04-15T12:06:36.219Z"
      },
      {
        "duration": 48,
        "start_time": "2023-04-15T12:06:36.274Z"
      },
      {
        "duration": 48,
        "start_time": "2023-04-15T12:06:36.323Z"
      },
      {
        "duration": 11,
        "start_time": "2023-04-15T12:06:36.372Z"
      },
      {
        "duration": 19,
        "start_time": "2023-04-15T12:06:36.384Z"
      },
      {
        "duration": 3775,
        "start_time": "2023-04-15T12:06:36.405Z"
      },
      {
        "duration": 6,
        "start_time": "2023-04-15T12:06:40.182Z"
      },
      {
        "duration": 653,
        "start_time": "2023-04-15T12:06:40.189Z"
      },
      {
        "duration": 7,
        "start_time": "2023-04-15T12:06:40.844Z"
      },
      {
        "duration": 126,
        "start_time": "2023-04-15T12:06:40.853Z"
      },
      {
        "duration": 149,
        "start_time": "2023-04-15T12:06:40.982Z"
      },
      {
        "duration": 2990,
        "start_time": "2023-04-15T12:06:41.132Z"
      },
      {
        "duration": 8,
        "start_time": "2023-04-15T12:06:44.124Z"
      },
      {
        "duration": 107,
        "start_time": "2023-04-15T12:06:44.134Z"
      },
      {
        "duration": 673,
        "start_time": "2023-04-15T12:06:44.243Z"
      },
      {
        "duration": 6,
        "start_time": "2023-04-15T12:06:44.918Z"
      },
      {
        "duration": 108,
        "start_time": "2023-04-15T12:06:44.926Z"
      },
      {
        "duration": 3901,
        "start_time": "2023-04-15T12:06:45.036Z"
      },
      {
        "duration": 7,
        "start_time": "2023-04-15T12:06:48.939Z"
      },
      {
        "duration": 226,
        "start_time": "2023-04-15T12:06:48.947Z"
      },
      {
        "duration": 10464,
        "start_time": "2023-04-15T12:06:49.175Z"
      },
      {
        "duration": 6,
        "start_time": "2023-04-15T12:06:59.641Z"
      },
      {
        "duration": 110,
        "start_time": "2023-04-15T12:06:59.649Z"
      },
      {
        "duration": 9807,
        "start_time": "2023-04-15T12:06:59.761Z"
      },
      {
        "duration": 7,
        "start_time": "2023-04-15T12:07:09.570Z"
      },
      {
        "duration": 92,
        "start_time": "2023-04-15T12:07:09.579Z"
      },
      {
        "duration": 2973,
        "start_time": "2023-04-15T12:07:09.673Z"
      },
      {
        "duration": 8,
        "start_time": "2023-04-15T12:07:12.647Z"
      },
      {
        "duration": 92,
        "start_time": "2023-04-15T12:07:12.656Z"
      },
      {
        "duration": 3703,
        "start_time": "2023-04-15T12:07:12.750Z"
      },
      {
        "duration": 9,
        "start_time": "2023-04-15T12:07:16.454Z"
      },
      {
        "duration": 4,
        "start_time": "2023-04-15T12:07:16.465Z"
      },
      {
        "duration": 1733,
        "start_time": "2023-04-15T12:07:16.470Z"
      },
      {
        "duration": 594,
        "start_time": "2023-04-15T12:07:18.204Z"
      },
      {
        "duration": 1326,
        "start_time": "2023-04-15T12:07:18.800Z"
      },
      {
        "duration": 114,
        "start_time": "2023-04-15T12:07:20.127Z"
      },
      {
        "duration": 119,
        "start_time": "2023-04-15T12:07:20.243Z"
      },
      {
        "duration": 15,
        "start_time": "2023-04-15T12:07:20.364Z"
      },
      {
        "duration": 15,
        "start_time": "2023-04-15T12:07:20.380Z"
      },
      {
        "duration": 17,
        "start_time": "2023-04-15T12:07:20.396Z"
      },
      {
        "duration": 846,
        "start_time": "2023-04-15T12:07:20.415Z"
      },
      {
        "duration": 11,
        "start_time": "2023-04-15T12:07:21.262Z"
      },
      {
        "duration": 21,
        "start_time": "2023-04-15T12:07:21.275Z"
      },
      {
        "duration": 12,
        "start_time": "2023-04-15T12:07:21.297Z"
      },
      {
        "duration": 124,
        "start_time": "2023-04-15T12:07:21.311Z"
      },
      {
        "duration": 44,
        "start_time": "2023-04-15T12:07:21.437Z"
      },
      {
        "duration": 65,
        "start_time": "2023-04-15T12:07:21.483Z"
      },
      {
        "duration": 4,
        "start_time": "2023-04-15T12:07:21.550Z"
      },
      {
        "duration": 18,
        "start_time": "2023-04-15T12:07:21.555Z"
      },
      {
        "duration": 5,
        "start_time": "2023-04-15T12:07:21.574Z"
      },
      {
        "duration": 82,
        "start_time": "2023-04-15T12:07:21.581Z"
      },
      {
        "duration": 3,
        "start_time": "2023-04-15T12:07:21.664Z"
      },
      {
        "duration": 9,
        "start_time": "2023-04-15T12:07:21.668Z"
      },
      {
        "duration": 12,
        "start_time": "2023-04-15T12:07:21.682Z"
      },
      {
        "duration": 279,
        "start_time": "2023-04-15T12:07:21.696Z"
      },
      {
        "duration": 3,
        "start_time": "2023-04-15T12:07:21.977Z"
      },
      {
        "duration": 15,
        "start_time": "2023-04-15T12:07:21.982Z"
      },
      {
        "duration": 31,
        "start_time": "2023-04-15T12:07:21.999Z"
      },
      {
        "duration": 11,
        "start_time": "2023-04-15T12:07:22.031Z"
      },
      {
        "duration": 29,
        "start_time": "2023-04-15T12:07:22.043Z"
      },
      {
        "duration": 3,
        "start_time": "2023-04-15T12:07:22.073Z"
      },
      {
        "duration": 10,
        "start_time": "2023-04-15T12:07:22.077Z"
      },
      {
        "duration": 7,
        "start_time": "2023-04-15T12:07:22.089Z"
      },
      {
        "duration": 19,
        "start_time": "2023-04-15T12:07:22.098Z"
      },
      {
        "duration": 50,
        "start_time": "2023-04-15T12:07:22.119Z"
      },
      {
        "duration": 3,
        "start_time": "2023-04-15T12:07:22.171Z"
      },
      {
        "duration": 861,
        "start_time": "2023-04-15T12:07:22.176Z"
      },
      {
        "duration": 4,
        "start_time": "2023-04-15T12:07:23.039Z"
      },
      {
        "duration": 5,
        "start_time": "2023-04-15T12:07:23.045Z"
      },
      {
        "duration": 10,
        "start_time": "2023-04-15T12:07:23.051Z"
      },
      {
        "duration": 24,
        "start_time": "2023-04-15T12:07:23.063Z"
      },
      {
        "duration": 5,
        "start_time": "2023-04-15T12:07:23.088Z"
      },
      {
        "duration": 6,
        "start_time": "2023-04-15T12:07:23.095Z"
      },
      {
        "duration": 9,
        "start_time": "2023-04-15T12:07:23.102Z"
      },
      {
        "duration": 2,
        "start_time": "2023-04-15T12:07:23.112Z"
      },
      {
        "duration": 133,
        "start_time": "2023-04-15T12:07:23.116Z"
      },
      {
        "duration": 0,
        "start_time": "2023-04-15T12:07:23.251Z"
      },
      {
        "duration": 0,
        "start_time": "2023-04-15T12:07:23.252Z"
      },
      {
        "duration": 0,
        "start_time": "2023-04-15T12:07:23.253Z"
      },
      {
        "duration": 0,
        "start_time": "2023-04-15T12:07:23.255Z"
      },
      {
        "duration": 0,
        "start_time": "2023-04-15T12:07:23.256Z"
      },
      {
        "duration": 0,
        "start_time": "2023-04-15T12:07:23.257Z"
      },
      {
        "duration": 0,
        "start_time": "2023-04-15T12:07:23.259Z"
      },
      {
        "duration": 0,
        "start_time": "2023-04-15T12:07:23.259Z"
      },
      {
        "duration": 0,
        "start_time": "2023-04-15T12:07:23.260Z"
      },
      {
        "duration": 0,
        "start_time": "2023-04-15T12:07:23.261Z"
      },
      {
        "duration": 0,
        "start_time": "2023-04-15T12:07:23.262Z"
      },
      {
        "duration": 0,
        "start_time": "2023-04-15T12:07:23.263Z"
      },
      {
        "duration": 0,
        "start_time": "2023-04-15T12:07:23.264Z"
      },
      {
        "duration": 0,
        "start_time": "2023-04-15T12:07:23.265Z"
      },
      {
        "duration": 194,
        "start_time": "2023-04-15T12:08:06.016Z"
      },
      {
        "duration": 166,
        "start_time": "2023-04-15T12:08:49.640Z"
      },
      {
        "duration": 228,
        "start_time": "2023-04-15T12:09:26.472Z"
      },
      {
        "duration": 3,
        "start_time": "2023-04-15T12:09:29.719Z"
      },
      {
        "duration": 3,
        "start_time": "2023-04-15T12:09:29.936Z"
      },
      {
        "duration": 4,
        "start_time": "2023-04-15T12:09:30.511Z"
      },
      {
        "duration": 9,
        "start_time": "2023-04-15T12:09:31.464Z"
      },
      {
        "duration": 3,
        "start_time": "2023-04-15T12:09:31.738Z"
      },
      {
        "duration": 464,
        "start_time": "2023-04-15T12:09:36.321Z"
      },
      {
        "duration": 43,
        "start_time": "2023-04-15T12:09:38.266Z"
      },
      {
        "duration": 25,
        "start_time": "2023-04-15T12:09:39.162Z"
      },
      {
        "duration": 6,
        "start_time": "2023-04-15T12:09:43.561Z"
      },
      {
        "duration": 3,
        "start_time": "2023-04-15T12:09:44.366Z"
      },
      {
        "duration": 6,
        "start_time": "2023-04-15T12:09:44.582Z"
      },
      {
        "duration": 1137694,
        "start_time": "2023-04-15T12:09:44.968Z"
      },
      {
        "duration": 6,
        "start_time": "2023-04-15T12:28:42.664Z"
      },
      {
        "duration": 15,
        "start_time": "2023-04-15T12:28:42.671Z"
      },
      {
        "duration": 4106,
        "start_time": "2023-04-15T12:28:42.689Z"
      },
      {
        "duration": 414,
        "start_time": "2023-04-15T12:28:46.797Z"
      },
      {
        "duration": 20,
        "start_time": "2023-04-15T12:28:47.213Z"
      },
      {
        "duration": 4545,
        "start_time": "2023-04-15T12:28:47.235Z"
      },
      {
        "duration": 0,
        "start_time": "2023-04-15T12:28:51.781Z"
      },
      {
        "duration": 6,
        "start_time": "2023-04-15T12:32:06.717Z"
      },
      {
        "duration": 3,
        "start_time": "2023-04-15T12:32:07.165Z"
      },
      {
        "duration": 6500,
        "start_time": "2023-04-15T12:32:07.744Z"
      },
      {
        "duration": 627,
        "start_time": "2023-04-15T12:32:14.247Z"
      },
      {
        "duration": 22,
        "start_time": "2023-04-15T12:32:14.876Z"
      },
      {
        "duration": 6957,
        "start_time": "2023-04-15T12:32:14.900Z"
      },
      {
        "duration": 70,
        "start_time": "2023-04-15T12:32:38.511Z"
      },
      {
        "duration": 76,
        "start_time": "2023-04-15T12:32:46.533Z"
      },
      {
        "duration": 88,
        "start_time": "2023-04-15T12:32:55.109Z"
      },
      {
        "duration": 68,
        "start_time": "2023-04-15T12:32:58.717Z"
      },
      {
        "duration": 10,
        "start_time": "2023-04-15T12:33:06.205Z"
      },
      {
        "duration": 1938,
        "start_time": "2023-04-15T12:33:31.464Z"
      },
      {
        "duration": 13,
        "start_time": "2023-04-15T12:35:19.902Z"
      },
      {
        "duration": 40,
        "start_time": "2023-04-15T12:35:19.917Z"
      },
      {
        "duration": 0,
        "start_time": "2023-04-15T12:35:19.959Z"
      },
      {
        "duration": 0,
        "start_time": "2023-04-15T12:35:19.960Z"
      },
      {
        "duration": 0,
        "start_time": "2023-04-15T12:35:19.961Z"
      },
      {
        "duration": 723,
        "start_time": "2023-04-15T12:36:41.553Z"
      },
      {
        "duration": 899,
        "start_time": "2023-04-15T12:36:56.304Z"
      },
      {
        "duration": 5,
        "start_time": "2023-04-15T12:36:57.204Z"
      },
      {
        "duration": 7908,
        "start_time": "2023-04-15T12:36:57.210Z"
      },
      {
        "duration": 3,
        "start_time": "2023-04-15T12:37:05.120Z"
      },
      {
        "duration": 22,
        "start_time": "2023-04-15T12:37:05.125Z"
      },
      {
        "duration": 5,
        "start_time": "2023-04-15T12:37:05.149Z"
      },
      {
        "duration": 92,
        "start_time": "2023-04-15T12:37:05.157Z"
      },
      {
        "duration": 181,
        "start_time": "2023-04-15T12:37:05.251Z"
      },
      {
        "duration": 13,
        "start_time": "2023-04-15T12:37:05.434Z"
      },
      {
        "duration": 22,
        "start_time": "2023-04-15T12:37:05.450Z"
      },
      {
        "duration": 29,
        "start_time": "2023-04-15T12:37:05.473Z"
      },
      {
        "duration": 12,
        "start_time": "2023-04-15T12:37:05.504Z"
      },
      {
        "duration": 186,
        "start_time": "2023-04-15T12:37:05.518Z"
      },
      {
        "duration": 129,
        "start_time": "2023-04-15T12:37:05.705Z"
      },
      {
        "duration": 140,
        "start_time": "2023-04-15T12:37:05.836Z"
      },
      {
        "duration": 2320,
        "start_time": "2023-04-15T12:37:05.978Z"
      },
      {
        "duration": 9,
        "start_time": "2023-04-15T12:37:08.300Z"
      },
      {
        "duration": 8,
        "start_time": "2023-04-15T12:37:08.311Z"
      },
      {
        "duration": 6,
        "start_time": "2023-04-15T12:37:08.320Z"
      },
      {
        "duration": 242,
        "start_time": "2023-04-15T12:37:08.328Z"
      },
      {
        "duration": 9,
        "start_time": "2023-04-15T12:37:08.572Z"
      },
      {
        "duration": 215,
        "start_time": "2023-04-15T12:37:08.594Z"
      },
      {
        "duration": 10,
        "start_time": "2023-04-15T12:37:08.812Z"
      },
      {
        "duration": 17,
        "start_time": "2023-04-15T12:37:08.823Z"
      },
      {
        "duration": 472,
        "start_time": "2023-04-15T12:37:08.842Z"
      },
      {
        "duration": 457,
        "start_time": "2023-04-15T12:37:09.316Z"
      },
      {
        "duration": 169,
        "start_time": "2023-04-15T12:37:09.775Z"
      },
      {
        "duration": 56,
        "start_time": "2023-04-15T12:37:09.949Z"
      },
      {
        "duration": 52,
        "start_time": "2023-04-15T12:37:10.007Z"
      },
      {
        "duration": 49,
        "start_time": "2023-04-15T12:37:10.060Z"
      },
      {
        "duration": 14,
        "start_time": "2023-04-15T12:37:10.110Z"
      },
      {
        "duration": 32,
        "start_time": "2023-04-15T12:37:10.125Z"
      },
      {
        "duration": 3776,
        "start_time": "2023-04-15T12:37:10.159Z"
      },
      {
        "duration": 6,
        "start_time": "2023-04-15T12:37:13.937Z"
      },
      {
        "duration": 646,
        "start_time": "2023-04-15T12:37:13.945Z"
      },
      {
        "duration": 10,
        "start_time": "2023-04-15T12:37:14.592Z"
      },
      {
        "duration": 165,
        "start_time": "2023-04-15T12:37:14.604Z"
      },
      {
        "duration": 151,
        "start_time": "2023-04-15T12:37:14.771Z"
      },
      {
        "duration": 3015,
        "start_time": "2023-04-15T12:37:14.924Z"
      },
      {
        "duration": 7,
        "start_time": "2023-04-15T12:37:17.941Z"
      },
      {
        "duration": 86,
        "start_time": "2023-04-15T12:37:17.950Z"
      },
      {
        "duration": 688,
        "start_time": "2023-04-15T12:37:18.039Z"
      },
      {
        "duration": 8,
        "start_time": "2023-04-15T12:37:18.729Z"
      },
      {
        "duration": 99,
        "start_time": "2023-04-15T12:37:18.739Z"
      },
      {
        "duration": 4237,
        "start_time": "2023-04-15T12:37:18.840Z"
      },
      {
        "duration": 8,
        "start_time": "2023-04-15T12:37:23.080Z"
      },
      {
        "duration": 251,
        "start_time": "2023-04-15T12:37:23.091Z"
      },
      {
        "duration": 9949,
        "start_time": "2023-04-15T12:37:23.344Z"
      },
      {
        "duration": 9,
        "start_time": "2023-04-15T12:37:33.295Z"
      },
      {
        "duration": 127,
        "start_time": "2023-04-15T12:37:33.306Z"
      },
      {
        "duration": 9709,
        "start_time": "2023-04-15T12:37:33.435Z"
      },
      {
        "duration": 8,
        "start_time": "2023-04-15T12:37:43.147Z"
      },
      {
        "duration": 107,
        "start_time": "2023-04-15T12:37:43.157Z"
      },
      {
        "duration": 2967,
        "start_time": "2023-04-15T12:37:43.266Z"
      },
      {
        "duration": 8,
        "start_time": "2023-04-15T12:37:46.235Z"
      },
      {
        "duration": 108,
        "start_time": "2023-04-15T12:37:46.244Z"
      },
      {
        "duration": 6036,
        "start_time": "2023-04-15T12:37:46.357Z"
      },
      {
        "duration": 12,
        "start_time": "2023-04-15T12:37:52.396Z"
      },
      {
        "duration": 3,
        "start_time": "2023-04-15T12:37:52.410Z"
      },
      {
        "duration": 1851,
        "start_time": "2023-04-15T12:37:52.415Z"
      },
      {
        "duration": 588,
        "start_time": "2023-04-15T12:37:54.268Z"
      },
      {
        "duration": 1442,
        "start_time": "2023-04-15T12:37:54.858Z"
      },
      {
        "duration": 118,
        "start_time": "2023-04-15T12:37:56.302Z"
      },
      {
        "duration": 130,
        "start_time": "2023-04-15T12:37:56.423Z"
      },
      {
        "duration": 20,
        "start_time": "2023-04-15T12:37:56.557Z"
      },
      {
        "duration": 4,
        "start_time": "2023-04-15T12:37:56.593Z"
      },
      {
        "duration": 10,
        "start_time": "2023-04-15T12:37:56.599Z"
      },
      {
        "duration": 1006,
        "start_time": "2023-04-15T12:37:56.611Z"
      },
      {
        "duration": 12,
        "start_time": "2023-04-15T12:37:57.619Z"
      },
      {
        "duration": 6,
        "start_time": "2023-04-15T12:37:57.633Z"
      },
      {
        "duration": 10,
        "start_time": "2023-04-15T12:37:57.640Z"
      },
      {
        "duration": 151,
        "start_time": "2023-04-15T12:37:57.651Z"
      },
      {
        "duration": 44,
        "start_time": "2023-04-15T12:37:57.803Z"
      },
      {
        "duration": 100,
        "start_time": "2023-04-15T12:37:57.849Z"
      },
      {
        "duration": 7,
        "start_time": "2023-04-15T12:37:57.951Z"
      },
      {
        "duration": 4,
        "start_time": "2023-04-15T12:37:57.960Z"
      },
      {
        "duration": 3,
        "start_time": "2023-04-15T12:37:57.966Z"
      },
      {
        "duration": 111,
        "start_time": "2023-04-15T12:37:57.971Z"
      },
      {
        "duration": 11,
        "start_time": "2023-04-15T12:37:58.083Z"
      },
      {
        "duration": 13,
        "start_time": "2023-04-15T12:37:58.096Z"
      },
      {
        "duration": 9,
        "start_time": "2023-04-15T12:37:58.112Z"
      },
      {
        "duration": 334,
        "start_time": "2023-04-15T12:37:58.123Z"
      },
      {
        "duration": 4,
        "start_time": "2023-04-15T12:37:58.459Z"
      },
      {
        "duration": 7,
        "start_time": "2023-04-15T12:37:58.466Z"
      },
      {
        "duration": 36,
        "start_time": "2023-04-15T12:37:58.494Z"
      },
      {
        "duration": 18,
        "start_time": "2023-04-15T12:37:58.532Z"
      },
      {
        "duration": 117,
        "start_time": "2023-04-15T12:37:58.552Z"
      },
      {
        "duration": 3,
        "start_time": "2023-04-15T12:37:58.671Z"
      },
      {
        "duration": 11,
        "start_time": "2023-04-15T12:37:58.675Z"
      },
      {
        "duration": 9,
        "start_time": "2023-04-15T12:37:58.688Z"
      },
      {
        "duration": 6,
        "start_time": "2023-04-15T12:37:58.699Z"
      },
      {
        "duration": 55,
        "start_time": "2023-04-15T12:37:58.707Z"
      },
      {
        "duration": 5,
        "start_time": "2023-04-15T12:37:58.763Z"
      },
      {
        "duration": 952,
        "start_time": "2023-04-15T12:37:58.770Z"
      },
      {
        "duration": 4,
        "start_time": "2023-04-15T12:37:59.724Z"
      },
      {
        "duration": 14,
        "start_time": "2023-04-15T12:37:59.730Z"
      },
      {
        "duration": 302,
        "start_time": "2023-04-15T12:37:59.745Z"
      },
      {
        "duration": 4,
        "start_time": "2023-04-15T12:38:00.049Z"
      },
      {
        "duration": 18,
        "start_time": "2023-04-15T12:38:00.055Z"
      },
      {
        "duration": 37,
        "start_time": "2023-04-15T12:38:00.075Z"
      },
      {
        "duration": 31,
        "start_time": "2023-04-15T12:38:00.115Z"
      },
      {
        "duration": 19,
        "start_time": "2023-04-15T12:38:00.148Z"
      },
      {
        "duration": 600,
        "start_time": "2023-04-15T12:38:00.169Z"
      },
      {
        "duration": 5,
        "start_time": "2023-04-18T16:12:25.934Z"
      },
      {
        "duration": 9,
        "start_time": "2023-04-18T16:12:25.942Z"
      },
      {
        "duration": 1621,
        "start_time": "2023-04-18T16:12:25.953Z"
      },
      {
        "duration": 0,
        "start_time": "2023-04-18T16:12:27.579Z"
      },
      {
        "duration": 0,
        "start_time": "2023-04-18T16:12:27.580Z"
      },
      {
        "duration": 0,
        "start_time": "2023-04-18T16:12:27.590Z"
      },
      {
        "duration": 0,
        "start_time": "2023-04-18T16:12:27.591Z"
      },
      {
        "duration": 0,
        "start_time": "2023-04-18T16:12:27.592Z"
      },
      {
        "duration": 0,
        "start_time": "2023-04-18T16:12:27.592Z"
      },
      {
        "duration": 0,
        "start_time": "2023-04-18T16:12:27.606Z"
      },
      {
        "duration": 0,
        "start_time": "2023-04-18T16:12:27.607Z"
      },
      {
        "duration": 0,
        "start_time": "2023-04-18T16:12:27.608Z"
      },
      {
        "duration": 0,
        "start_time": "2023-04-18T16:12:27.609Z"
      },
      {
        "duration": 0,
        "start_time": "2023-04-18T16:12:27.611Z"
      },
      {
        "duration": 0,
        "start_time": "2023-04-18T16:12:27.612Z"
      },
      {
        "duration": 0,
        "start_time": "2023-04-18T16:12:27.614Z"
      },
      {
        "duration": 0,
        "start_time": "2023-04-18T16:12:27.615Z"
      },
      {
        "duration": 0,
        "start_time": "2023-04-18T16:12:27.617Z"
      },
      {
        "duration": 0,
        "start_time": "2023-04-18T16:12:27.618Z"
      },
      {
        "duration": 0,
        "start_time": "2023-04-18T16:12:27.619Z"
      },
      {
        "duration": 0,
        "start_time": "2023-04-18T16:12:27.621Z"
      },
      {
        "duration": 0,
        "start_time": "2023-04-18T16:12:27.622Z"
      },
      {
        "duration": 0,
        "start_time": "2023-04-18T16:12:27.624Z"
      },
      {
        "duration": 0,
        "start_time": "2023-04-18T16:12:27.625Z"
      },
      {
        "duration": 0,
        "start_time": "2023-04-18T16:12:27.626Z"
      },
      {
        "duration": 0,
        "start_time": "2023-04-18T16:12:27.627Z"
      },
      {
        "duration": 0,
        "start_time": "2023-04-18T16:12:27.628Z"
      },
      {
        "duration": 0,
        "start_time": "2023-04-18T16:12:27.630Z"
      },
      {
        "duration": 0,
        "start_time": "2023-04-18T16:12:27.630Z"
      },
      {
        "duration": 0,
        "start_time": "2023-04-18T16:12:27.632Z"
      },
      {
        "duration": 0,
        "start_time": "2023-04-18T16:12:27.633Z"
      },
      {
        "duration": 0,
        "start_time": "2023-04-18T16:12:27.635Z"
      },
      {
        "duration": 0,
        "start_time": "2023-04-18T16:12:27.636Z"
      },
      {
        "duration": 0,
        "start_time": "2023-04-18T16:12:27.637Z"
      },
      {
        "duration": 0,
        "start_time": "2023-04-18T16:12:27.638Z"
      },
      {
        "duration": 0,
        "start_time": "2023-04-18T16:12:27.639Z"
      },
      {
        "duration": 0,
        "start_time": "2023-04-18T16:12:27.640Z"
      },
      {
        "duration": 0,
        "start_time": "2023-04-18T16:12:27.692Z"
      },
      {
        "duration": 0,
        "start_time": "2023-04-18T16:12:27.692Z"
      },
      {
        "duration": 0,
        "start_time": "2023-04-18T16:12:27.693Z"
      },
      {
        "duration": 0,
        "start_time": "2023-04-18T16:12:27.700Z"
      },
      {
        "duration": 0,
        "start_time": "2023-04-18T16:12:27.700Z"
      },
      {
        "duration": 0,
        "start_time": "2023-04-18T16:12:27.701Z"
      },
      {
        "duration": 0,
        "start_time": "2023-04-18T16:12:27.702Z"
      },
      {
        "duration": 0,
        "start_time": "2023-04-18T16:12:27.702Z"
      },
      {
        "duration": 0,
        "start_time": "2023-04-18T16:12:27.703Z"
      },
      {
        "duration": 0,
        "start_time": "2023-04-18T16:12:27.704Z"
      },
      {
        "duration": 0,
        "start_time": "2023-04-18T16:12:27.704Z"
      },
      {
        "duration": 0,
        "start_time": "2023-04-18T16:12:27.705Z"
      },
      {
        "duration": 0,
        "start_time": "2023-04-18T16:12:27.707Z"
      },
      {
        "duration": 0,
        "start_time": "2023-04-18T16:12:27.708Z"
      },
      {
        "duration": 0,
        "start_time": "2023-04-18T16:12:27.709Z"
      },
      {
        "duration": 0,
        "start_time": "2023-04-18T16:12:27.711Z"
      },
      {
        "duration": 0,
        "start_time": "2023-04-18T16:12:27.712Z"
      },
      {
        "duration": 0,
        "start_time": "2023-04-18T16:12:27.713Z"
      },
      {
        "duration": 0,
        "start_time": "2023-04-18T16:12:27.714Z"
      },
      {
        "duration": 0,
        "start_time": "2023-04-18T16:12:27.716Z"
      },
      {
        "duration": 0,
        "start_time": "2023-04-18T16:12:27.717Z"
      },
      {
        "duration": 0,
        "start_time": "2023-04-18T16:12:27.718Z"
      },
      {
        "duration": 0,
        "start_time": "2023-04-18T16:12:27.719Z"
      },
      {
        "duration": 0,
        "start_time": "2023-04-18T16:12:27.720Z"
      },
      {
        "duration": 0,
        "start_time": "2023-04-18T16:12:27.721Z"
      },
      {
        "duration": 0,
        "start_time": "2023-04-18T16:12:27.723Z"
      },
      {
        "duration": 0,
        "start_time": "2023-04-18T16:12:27.724Z"
      },
      {
        "duration": 0,
        "start_time": "2023-04-18T16:12:27.726Z"
      },
      {
        "duration": 0,
        "start_time": "2023-04-18T16:12:27.728Z"
      },
      {
        "duration": 0,
        "start_time": "2023-04-18T16:12:27.729Z"
      },
      {
        "duration": 0,
        "start_time": "2023-04-18T16:12:27.787Z"
      },
      {
        "duration": 0,
        "start_time": "2023-04-18T16:12:27.788Z"
      },
      {
        "duration": 0,
        "start_time": "2023-04-18T16:12:27.789Z"
      },
      {
        "duration": 0,
        "start_time": "2023-04-18T16:12:27.790Z"
      },
      {
        "duration": 0,
        "start_time": "2023-04-18T16:12:27.793Z"
      },
      {
        "duration": 0,
        "start_time": "2023-04-18T16:12:27.794Z"
      },
      {
        "duration": 0,
        "start_time": "2023-04-18T16:12:27.796Z"
      },
      {
        "duration": 0,
        "start_time": "2023-04-18T16:12:27.797Z"
      },
      {
        "duration": 0,
        "start_time": "2023-04-18T16:12:27.799Z"
      },
      {
        "duration": 0,
        "start_time": "2023-04-18T16:12:27.801Z"
      },
      {
        "duration": 0,
        "start_time": "2023-04-18T16:12:27.802Z"
      },
      {
        "duration": 0,
        "start_time": "2023-04-18T16:12:27.804Z"
      },
      {
        "duration": 0,
        "start_time": "2023-04-18T16:12:27.805Z"
      },
      {
        "duration": 0,
        "start_time": "2023-04-18T16:12:27.807Z"
      },
      {
        "duration": 0,
        "start_time": "2023-04-18T16:12:27.808Z"
      },
      {
        "duration": 0,
        "start_time": "2023-04-18T16:12:27.810Z"
      },
      {
        "duration": 0,
        "start_time": "2023-04-18T16:12:27.811Z"
      },
      {
        "duration": 0,
        "start_time": "2023-04-18T16:12:27.813Z"
      },
      {
        "duration": 0,
        "start_time": "2023-04-18T16:12:27.814Z"
      },
      {
        "duration": 0,
        "start_time": "2023-04-18T16:12:27.816Z"
      },
      {
        "duration": 0,
        "start_time": "2023-04-18T16:12:27.818Z"
      },
      {
        "duration": 0,
        "start_time": "2023-04-18T16:12:27.819Z"
      },
      {
        "duration": 0,
        "start_time": "2023-04-18T16:12:27.821Z"
      },
      {
        "duration": 0,
        "start_time": "2023-04-18T16:12:27.822Z"
      },
      {
        "duration": 0,
        "start_time": "2023-04-18T16:12:27.825Z"
      },
      {
        "duration": 0,
        "start_time": "2023-04-18T16:12:27.826Z"
      },
      {
        "duration": 0,
        "start_time": "2023-04-18T16:12:27.829Z"
      },
      {
        "duration": 0,
        "start_time": "2023-04-18T16:12:27.830Z"
      },
      {
        "duration": 0,
        "start_time": "2023-04-18T16:12:27.831Z"
      },
      {
        "duration": 0,
        "start_time": "2023-04-18T16:12:27.887Z"
      },
      {
        "duration": 0,
        "start_time": "2023-04-18T16:12:27.889Z"
      },
      {
        "duration": 0,
        "start_time": "2023-04-18T16:12:27.890Z"
      },
      {
        "duration": 0,
        "start_time": "2023-04-18T16:12:27.891Z"
      },
      {
        "duration": 0,
        "start_time": "2023-04-18T16:12:27.892Z"
      },
      {
        "duration": 0,
        "start_time": "2023-04-18T16:12:27.893Z"
      },
      {
        "duration": 0,
        "start_time": "2023-04-18T16:12:27.894Z"
      },
      {
        "duration": 0,
        "start_time": "2023-04-18T16:12:27.895Z"
      },
      {
        "duration": 0,
        "start_time": "2023-04-18T16:12:27.897Z"
      },
      {
        "duration": 0,
        "start_time": "2023-04-18T16:12:27.898Z"
      },
      {
        "duration": 0,
        "start_time": "2023-04-18T16:12:27.899Z"
      },
      {
        "duration": 0,
        "start_time": "2023-04-18T16:12:27.901Z"
      },
      {
        "duration": 0,
        "start_time": "2023-04-18T16:12:27.902Z"
      },
      {
        "duration": 0,
        "start_time": "2023-04-18T16:12:27.904Z"
      },
      {
        "duration": 0,
        "start_time": "2023-04-18T16:12:27.905Z"
      },
      {
        "duration": 0,
        "start_time": "2023-04-18T16:12:27.906Z"
      },
      {
        "duration": 0,
        "start_time": "2023-04-18T16:12:27.907Z"
      },
      {
        "duration": 0,
        "start_time": "2023-04-18T16:12:27.908Z"
      },
      {
        "duration": 0,
        "start_time": "2023-04-18T16:12:27.909Z"
      },
      {
        "duration": 0,
        "start_time": "2023-04-18T16:12:27.911Z"
      },
      {
        "duration": 0,
        "start_time": "2023-04-18T16:12:27.912Z"
      },
      {
        "duration": 0,
        "start_time": "2023-04-18T16:12:27.913Z"
      },
      {
        "duration": 0,
        "start_time": "2023-04-18T16:12:27.914Z"
      },
      {
        "duration": 0,
        "start_time": "2023-04-18T16:12:27.916Z"
      },
      {
        "duration": 3500,
        "start_time": "2023-04-18T16:13:00.330Z"
      },
      {
        "duration": 3,
        "start_time": "2023-04-18T16:13:03.833Z"
      },
      {
        "duration": 1819,
        "start_time": "2023-04-18T16:13:03.838Z"
      },
      {
        "duration": 4,
        "start_time": "2023-04-18T16:13:05.659Z"
      },
      {
        "duration": 9333,
        "start_time": "2023-04-18T16:13:05.666Z"
      },
      {
        "duration": 4,
        "start_time": "2023-04-18T16:13:15.001Z"
      },
      {
        "duration": 42,
        "start_time": "2023-04-18T16:13:15.008Z"
      },
      {
        "duration": 16,
        "start_time": "2023-04-18T16:13:15.053Z"
      },
      {
        "duration": 275,
        "start_time": "2023-04-18T16:13:15.071Z"
      },
      {
        "duration": 195,
        "start_time": "2023-04-18T16:13:15.348Z"
      },
      {
        "duration": 41,
        "start_time": "2023-04-18T16:13:15.545Z"
      },
      {
        "duration": 54,
        "start_time": "2023-04-18T16:13:15.588Z"
      },
      {
        "duration": 57,
        "start_time": "2023-04-18T16:13:15.644Z"
      },
      {
        "duration": 46,
        "start_time": "2023-04-18T16:13:15.707Z"
      },
      {
        "duration": 173,
        "start_time": "2023-04-18T16:13:15.755Z"
      },
      {
        "duration": 123,
        "start_time": "2023-04-18T16:13:15.930Z"
      },
      {
        "duration": 133,
        "start_time": "2023-04-18T16:13:16.055Z"
      },
      {
        "duration": 1423,
        "start_time": "2023-04-18T16:13:16.190Z"
      },
      {
        "duration": 9,
        "start_time": "2023-04-18T16:13:17.614Z"
      },
      {
        "duration": 31,
        "start_time": "2023-04-18T16:13:17.625Z"
      },
      {
        "duration": 16,
        "start_time": "2023-04-18T16:13:17.658Z"
      },
      {
        "duration": 268,
        "start_time": "2023-04-18T16:13:17.677Z"
      },
      {
        "duration": 9,
        "start_time": "2023-04-18T16:13:17.948Z"
      },
      {
        "duration": 276,
        "start_time": "2023-04-18T16:13:17.959Z"
      },
      {
        "duration": 40,
        "start_time": "2023-04-18T16:13:18.236Z"
      },
      {
        "duration": 58,
        "start_time": "2023-04-18T16:13:18.278Z"
      },
      {
        "duration": 490,
        "start_time": "2023-04-18T16:13:18.338Z"
      },
      {
        "duration": 527,
        "start_time": "2023-04-18T16:13:18.831Z"
      },
      {
        "duration": 215,
        "start_time": "2023-04-18T16:13:19.361Z"
      },
      {
        "duration": 86,
        "start_time": "2023-04-18T16:13:19.578Z"
      },
      {
        "duration": 78,
        "start_time": "2023-04-18T16:13:19.666Z"
      },
      {
        "duration": 79,
        "start_time": "2023-04-18T16:13:19.746Z"
      },
      {
        "duration": 49,
        "start_time": "2023-04-18T16:13:19.827Z"
      },
      {
        "duration": 77,
        "start_time": "2023-04-18T16:13:19.878Z"
      },
      {
        "duration": 3851,
        "start_time": "2023-04-18T16:13:19.957Z"
      },
      {
        "duration": 7,
        "start_time": "2023-04-18T16:13:23.810Z"
      },
      {
        "duration": 579,
        "start_time": "2023-04-18T16:13:23.819Z"
      },
      {
        "duration": 12,
        "start_time": "2023-04-18T16:13:24.405Z"
      },
      {
        "duration": 219,
        "start_time": "2023-04-18T16:13:24.419Z"
      },
      {
        "duration": 188,
        "start_time": "2023-04-18T16:13:24.640Z"
      },
      {
        "duration": 5240,
        "start_time": "2023-04-18T16:13:24.836Z"
      },
      {
        "duration": 8,
        "start_time": "2023-04-18T16:13:30.077Z"
      },
      {
        "duration": 139,
        "start_time": "2023-04-18T16:13:30.087Z"
      },
      {
        "duration": 588,
        "start_time": "2023-04-18T16:13:30.228Z"
      },
      {
        "duration": 12,
        "start_time": "2023-04-18T16:13:30.818Z"
      },
      {
        "duration": 201,
        "start_time": "2023-04-18T16:13:30.832Z"
      },
      {
        "duration": 3827,
        "start_time": "2023-04-18T16:13:31.035Z"
      },
      {
        "duration": 7,
        "start_time": "2023-04-18T16:13:34.864Z"
      },
      {
        "duration": 297,
        "start_time": "2023-04-18T16:13:34.874Z"
      },
      {
        "duration": 10342,
        "start_time": "2023-04-18T16:13:35.173Z"
      },
      {
        "duration": 10,
        "start_time": "2023-04-18T16:13:45.517Z"
      },
      {
        "duration": 280,
        "start_time": "2023-04-18T16:13:45.529Z"
      },
      {
        "duration": 9706,
        "start_time": "2023-04-18T16:13:45.812Z"
      },
      {
        "duration": 7,
        "start_time": "2023-04-18T16:13:55.520Z"
      },
      {
        "duration": 145,
        "start_time": "2023-04-18T16:13:55.529Z"
      },
      {
        "duration": 5051,
        "start_time": "2023-04-18T16:13:55.676Z"
      },
      {
        "duration": 9,
        "start_time": "2023-04-18T16:14:00.729Z"
      },
      {
        "duration": 176,
        "start_time": "2023-04-18T16:14:00.740Z"
      },
      {
        "duration": 3716,
        "start_time": "2023-04-18T16:14:00.919Z"
      },
      {
        "duration": 14,
        "start_time": "2023-04-18T16:14:04.637Z"
      },
      {
        "duration": 21,
        "start_time": "2023-04-18T16:14:04.654Z"
      },
      {
        "duration": 2029,
        "start_time": "2023-04-18T16:14:04.677Z"
      },
      {
        "duration": 500,
        "start_time": "2023-04-18T16:14:06.709Z"
      },
      {
        "duration": 1735,
        "start_time": "2023-04-18T16:14:07.211Z"
      },
      {
        "duration": 130,
        "start_time": "2023-04-18T16:14:08.948Z"
      },
      {
        "duration": 193,
        "start_time": "2023-04-18T16:14:09.080Z"
      },
      {
        "duration": 32,
        "start_time": "2023-04-18T16:14:09.275Z"
      },
      {
        "duration": 15,
        "start_time": "2023-04-18T16:14:09.309Z"
      },
      {
        "duration": 12,
        "start_time": "2023-04-18T16:14:09.325Z"
      },
      {
        "duration": 1132,
        "start_time": "2023-04-18T16:14:09.338Z"
      },
      {
        "duration": 37,
        "start_time": "2023-04-18T16:14:10.472Z"
      },
      {
        "duration": 18,
        "start_time": "2023-04-18T16:14:10.511Z"
      },
      {
        "duration": 12,
        "start_time": "2023-04-18T16:14:10.531Z"
      },
      {
        "duration": 144,
        "start_time": "2023-04-18T16:14:10.545Z"
      },
      {
        "duration": 46,
        "start_time": "2023-04-18T16:14:10.701Z"
      },
      {
        "duration": 85,
        "start_time": "2023-04-18T16:14:10.749Z"
      },
      {
        "duration": 5,
        "start_time": "2023-04-18T16:14:10.836Z"
      },
      {
        "duration": 50,
        "start_time": "2023-04-18T16:14:10.843Z"
      },
      {
        "duration": 4,
        "start_time": "2023-04-18T16:14:10.901Z"
      },
      {
        "duration": 202,
        "start_time": "2023-04-18T16:14:10.908Z"
      },
      {
        "duration": 4,
        "start_time": "2023-04-18T16:14:11.112Z"
      },
      {
        "duration": 13,
        "start_time": "2023-04-18T16:14:11.117Z"
      },
      {
        "duration": 30,
        "start_time": "2023-04-18T16:14:11.191Z"
      },
      {
        "duration": 781,
        "start_time": "2023-04-18T16:14:11.224Z"
      },
      {
        "duration": 5,
        "start_time": "2023-04-18T16:14:12.007Z"
      },
      {
        "duration": 13,
        "start_time": "2023-04-18T16:14:12.014Z"
      },
      {
        "duration": 28,
        "start_time": "2023-04-18T16:14:12.029Z"
      },
      {
        "duration": 42,
        "start_time": "2023-04-18T16:14:12.059Z"
      },
      {
        "duration": 39,
        "start_time": "2023-04-18T16:14:12.103Z"
      },
      {
        "duration": 4,
        "start_time": "2023-04-18T16:14:12.144Z"
      },
      {
        "duration": 43,
        "start_time": "2023-04-18T16:14:12.150Z"
      },
      {
        "duration": 24,
        "start_time": "2023-04-18T16:14:12.195Z"
      },
      {
        "duration": 8,
        "start_time": "2023-04-18T16:14:12.221Z"
      },
      {
        "duration": 100,
        "start_time": "2023-04-18T16:14:12.231Z"
      },
      {
        "duration": 5,
        "start_time": "2023-04-18T16:14:12.333Z"
      },
      {
        "duration": 9,
        "start_time": "2023-04-18T16:14:12.340Z"
      },
      {
        "duration": 207,
        "start_time": "2023-04-18T16:14:12.351Z"
      },
      {
        "duration": 0,
        "start_time": "2023-04-18T16:14:12.560Z"
      },
      {
        "duration": 0,
        "start_time": "2023-04-18T16:14:12.561Z"
      },
      {
        "duration": 0,
        "start_time": "2023-04-18T16:14:12.562Z"
      },
      {
        "duration": 0,
        "start_time": "2023-04-18T16:14:12.563Z"
      },
      {
        "duration": 0,
        "start_time": "2023-04-18T16:14:12.564Z"
      },
      {
        "duration": 0,
        "start_time": "2023-04-18T16:14:12.565Z"
      },
      {
        "duration": 0,
        "start_time": "2023-04-18T16:14:12.566Z"
      },
      {
        "duration": 0,
        "start_time": "2023-04-18T16:14:12.567Z"
      },
      {
        "duration": 0,
        "start_time": "2023-04-18T16:14:12.569Z"
      },
      {
        "duration": 0,
        "start_time": "2023-04-18T16:14:12.570Z"
      },
      {
        "duration": 0,
        "start_time": "2023-04-18T16:14:12.571Z"
      },
      {
        "duration": 0,
        "start_time": "2023-04-18T16:14:12.572Z"
      },
      {
        "duration": 0,
        "start_time": "2023-04-18T16:14:12.573Z"
      },
      {
        "duration": 0,
        "start_time": "2023-04-18T16:14:12.575Z"
      },
      {
        "duration": 0,
        "start_time": "2023-04-18T16:14:12.576Z"
      },
      {
        "duration": 0,
        "start_time": "2023-04-18T16:14:12.577Z"
      },
      {
        "duration": 0,
        "start_time": "2023-04-18T16:14:12.578Z"
      },
      {
        "duration": 0,
        "start_time": "2023-04-18T16:14:12.590Z"
      },
      {
        "duration": 0,
        "start_time": "2023-04-18T16:14:12.591Z"
      },
      {
        "duration": 0,
        "start_time": "2023-04-18T16:14:12.591Z"
      },
      {
        "duration": 0,
        "start_time": "2023-04-18T16:14:12.592Z"
      },
      {
        "duration": 0,
        "start_time": "2023-04-18T16:14:12.593Z"
      },
      {
        "duration": 0,
        "start_time": "2023-04-18T16:14:12.594Z"
      },
      {
        "duration": 62,
        "start_time": "2023-04-18T18:09:57.518Z"
      },
      {
        "duration": 1910,
        "start_time": "2023-04-18T18:11:42.339Z"
      },
      {
        "duration": 0,
        "start_time": "2023-04-18T18:11:44.252Z"
      },
      {
        "duration": 9,
        "start_time": "2023-04-18T18:11:44.340Z"
      },
      {
        "duration": 2,
        "start_time": "2023-04-18T18:11:44.903Z"
      },
      {
        "duration": 3140,
        "start_time": "2023-04-18T18:11:54.974Z"
      },
      {
        "duration": 6016,
        "start_time": "2023-04-18T18:12:05.407Z"
      },
      {
        "duration": 287,
        "start_time": "2023-04-18T18:12:11.425Z"
      },
      {
        "duration": 4,
        "start_time": "2023-04-18T18:12:13.606Z"
      },
      {
        "duration": 4658,
        "start_time": "2023-04-18T18:12:13.845Z"
      },
      {
        "duration": 2,
        "start_time": "2023-04-18T18:12:18.506Z"
      },
      {
        "duration": 15,
        "start_time": "2023-04-18T18:12:18.509Z"
      },
      {
        "duration": 6,
        "start_time": "2023-04-18T18:12:18.527Z"
      },
      {
        "duration": 305,
        "start_time": "2023-04-18T18:12:24.430Z"
      },
      {
        "duration": 280,
        "start_time": "2023-04-18T18:12:30.292Z"
      },
      {
        "duration": 13,
        "start_time": "2023-04-18T18:12:31.399Z"
      },
      {
        "duration": 2,
        "start_time": "2023-04-18T18:12:33.882Z"
      },
      {
        "duration": 4,
        "start_time": "2023-04-18T18:12:34.207Z"
      },
      {
        "duration": 228,
        "start_time": "2023-04-18T18:12:34.421Z"
      },
      {
        "duration": 8,
        "start_time": "2023-04-18T18:12:44.324Z"
      },
      {
        "duration": 166,
        "start_time": "2023-04-18T18:13:04.005Z"
      },
      {
        "duration": 6,
        "start_time": "2023-04-18T18:13:04.541Z"
      },
      {
        "duration": 3,
        "start_time": "2023-04-18T18:13:05.075Z"
      },
      {
        "duration": 169,
        "start_time": "2023-04-18T18:13:08.006Z"
      },
      {
        "duration": 7,
        "start_time": "2023-04-18T18:13:09.748Z"
      },
      {
        "duration": 396,
        "start_time": "2023-04-18T18:13:12.907Z"
      },
      {
        "duration": 9,
        "start_time": "2023-04-18T18:13:13.308Z"
      },
      {
        "duration": 4,
        "start_time": "2023-04-18T18:13:15.004Z"
      },
      {
        "duration": 4,
        "start_time": "2023-04-18T18:13:15.308Z"
      },
      {
        "duration": 235,
        "start_time": "2023-04-18T18:13:15.515Z"
      },
      {
        "duration": 8,
        "start_time": "2023-04-18T18:13:16.174Z"
      },
      {
        "duration": 498,
        "start_time": "2023-04-18T18:13:53.504Z"
      },
      {
        "duration": 411,
        "start_time": "2023-04-18T18:13:59.309Z"
      },
      {
        "duration": 11,
        "start_time": "2023-04-18T18:14:00.206Z"
      },
      {
        "duration": 171,
        "start_time": "2023-04-18T18:14:05.579Z"
      },
      {
        "duration": 11,
        "start_time": "2023-04-18T18:14:05.813Z"
      },
      {
        "duration": 399,
        "start_time": "2023-04-18T18:14:11.026Z"
      },
      {
        "duration": 8,
        "start_time": "2023-04-18T18:14:11.524Z"
      },
      {
        "duration": 420,
        "start_time": "2023-04-18T18:14:14.940Z"
      },
      {
        "duration": 12,
        "start_time": "2023-04-18T18:14:15.363Z"
      },
      {
        "duration": 4,
        "start_time": "2023-04-18T18:14:19.905Z"
      },
      {
        "duration": 6,
        "start_time": "2023-04-18T18:14:20.207Z"
      },
      {
        "duration": 240,
        "start_time": "2023-04-18T18:14:20.407Z"
      },
      {
        "duration": 102,
        "start_time": "2023-04-18T18:29:04.409Z"
      },
      {
        "duration": 381,
        "start_time": "2023-04-18T18:29:08.445Z"
      },
      {
        "duration": 364,
        "start_time": "2023-04-18T18:29:36.209Z"
      },
      {
        "duration": 980,
        "start_time": "2023-04-18T18:29:44.413Z"
      },
      {
        "duration": 71,
        "start_time": "2023-04-18T18:29:45.509Z"
      },
      {
        "duration": 79,
        "start_time": "2023-04-18T18:29:46.918Z"
      },
      {
        "duration": 19,
        "start_time": "2023-04-18T18:29:47.831Z"
      },
      {
        "duration": 3,
        "start_time": "2023-04-18T18:29:48.825Z"
      },
      {
        "duration": 16,
        "start_time": "2023-04-18T18:29:50.545Z"
      },
      {
        "duration": 626,
        "start_time": "2023-04-18T18:29:51.113Z"
      },
      {
        "duration": 19,
        "start_time": "2023-04-18T18:29:51.806Z"
      },
      {
        "duration": 5,
        "start_time": "2023-04-18T18:29:52.237Z"
      },
      {
        "duration": 8,
        "start_time": "2023-04-18T18:29:53.110Z"
      },
      {
        "duration": 80,
        "start_time": "2023-04-18T18:29:53.514Z"
      },
      {
        "duration": 29,
        "start_time": "2023-04-18T18:29:54.245Z"
      },
      {
        "duration": 50,
        "start_time": "2023-04-18T18:29:55.513Z"
      },
      {
        "duration": 5,
        "start_time": "2023-04-18T18:29:55.600Z"
      },
      {
        "duration": 3,
        "start_time": "2023-04-18T18:29:55.944Z"
      },
      {
        "duration": 3,
        "start_time": "2023-04-18T18:29:56.231Z"
      },
      {
        "duration": 49,
        "start_time": "2023-04-18T18:29:56.478Z"
      },
      {
        "duration": 3,
        "start_time": "2023-04-18T18:29:56.714Z"
      },
      {
        "duration": 4,
        "start_time": "2023-04-18T18:29:57.019Z"
      },
      {
        "duration": 4,
        "start_time": "2023-04-18T18:29:57.840Z"
      },
      {
        "duration": 174,
        "start_time": "2023-04-18T18:29:58.013Z"
      },
      {
        "duration": 3,
        "start_time": "2023-04-18T18:29:58.208Z"
      },
      {
        "duration": 6,
        "start_time": "2023-04-18T18:29:58.348Z"
      },
      {
        "duration": 33,
        "start_time": "2023-04-18T18:29:59.643Z"
      },
      {
        "duration": 14,
        "start_time": "2023-04-18T18:30:00.778Z"
      },
      {
        "duration": 31,
        "start_time": "2023-04-18T18:30:00.930Z"
      },
      {
        "duration": 3,
        "start_time": "2023-04-18T18:30:01.315Z"
      },
      {
        "duration": 4,
        "start_time": "2023-04-18T18:30:01.632Z"
      },
      {
        "duration": 2,
        "start_time": "2023-04-18T18:30:01.832Z"
      },
      {
        "duration": 4,
        "start_time": "2023-04-18T18:30:02.117Z"
      },
      {
        "duration": 48,
        "start_time": "2023-04-18T18:30:02.416Z"
      },
      {
        "duration": 4,
        "start_time": "2023-04-18T18:30:03.695Z"
      },
      {
        "duration": 38,
        "start_time": "2023-04-18T18:30:03.701Z"
      },
      {
        "duration": 51,
        "start_time": "2023-04-19T12:21:30.412Z"
      },
      {
        "duration": 6579,
        "start_time": "2023-04-19T12:21:37.262Z"
      },
      {
        "duration": 2,
        "start_time": "2023-04-19T12:21:43.844Z"
      },
      {
        "duration": 2053,
        "start_time": "2023-04-19T12:21:43.848Z"
      },
      {
        "duration": 4,
        "start_time": "2023-04-19T12:21:45.903Z"
      },
      {
        "duration": 8106,
        "start_time": "2023-04-19T12:21:45.909Z"
      },
      {
        "duration": 3,
        "start_time": "2023-04-19T12:21:54.016Z"
      },
      {
        "duration": 13,
        "start_time": "2023-04-19T12:21:54.020Z"
      },
      {
        "duration": 5,
        "start_time": "2023-04-19T12:21:54.035Z"
      },
      {
        "duration": 543,
        "start_time": "2023-04-19T12:22:19.966Z"
      },
      {
        "duration": 3,
        "start_time": "2023-04-19T12:22:31.030Z"
      },
      {
        "duration": 476,
        "start_time": "2023-04-19T12:22:31.406Z"
      },
      {
        "duration": 2143,
        "start_time": "2023-04-19T12:22:31.892Z"
      },
      {
        "duration": 2500,
        "start_time": "2023-04-19T12:22:43.990Z"
      },
      {
        "duration": 3,
        "start_time": "2023-04-19T12:27:35.930Z"
      },
      {
        "duration": 2761,
        "start_time": "2023-04-19T12:27:36.137Z"
      },
      {
        "duration": 12,
        "start_time": "2023-04-19T12:41:03.278Z"
      },
      {
        "duration": 73,
        "start_time": "2023-04-19T12:41:53.958Z"
      },
      {
        "duration": 73,
        "start_time": "2023-04-19T12:42:57.661Z"
      },
      {
        "duration": 81,
        "start_time": "2023-04-19T12:44:24.708Z"
      },
      {
        "duration": 4356,
        "start_time": "2023-04-19T12:56:26.744Z"
      },
      {
        "duration": 3,
        "start_time": "2023-04-19T12:56:31.102Z"
      },
      {
        "duration": 1796,
        "start_time": "2023-04-19T12:56:31.106Z"
      },
      {
        "duration": 4,
        "start_time": "2023-04-19T12:56:32.904Z"
      },
      {
        "duration": 8294,
        "start_time": "2023-04-19T12:56:32.909Z"
      },
      {
        "duration": 2,
        "start_time": "2023-04-19T12:56:41.205Z"
      },
      {
        "duration": 17,
        "start_time": "2023-04-19T12:56:41.209Z"
      },
      {
        "duration": 20,
        "start_time": "2023-04-19T12:56:41.228Z"
      },
      {
        "duration": 66,
        "start_time": "2023-04-19T12:56:41.250Z"
      },
      {
        "duration": 166,
        "start_time": "2023-04-19T12:56:41.320Z"
      },
      {
        "duration": 10,
        "start_time": "2023-04-19T12:56:41.487Z"
      },
      {
        "duration": 22,
        "start_time": "2023-04-19T12:56:41.499Z"
      },
      {
        "duration": 40,
        "start_time": "2023-04-19T12:56:41.523Z"
      },
      {
        "duration": 8,
        "start_time": "2023-04-19T12:56:41.565Z"
      },
      {
        "duration": 159,
        "start_time": "2023-04-19T12:56:41.575Z"
      },
      {
        "duration": 100,
        "start_time": "2023-04-19T12:56:41.736Z"
      },
      {
        "duration": 111,
        "start_time": "2023-04-19T12:56:41.838Z"
      },
      {
        "duration": 3,
        "start_time": "2023-04-19T12:56:41.951Z"
      },
      {
        "duration": 515,
        "start_time": "2023-04-19T12:56:41.956Z"
      },
      {
        "duration": 3,
        "start_time": "2023-04-19T12:56:42.472Z"
      },
      {
        "duration": 2824,
        "start_time": "2023-04-19T12:56:42.477Z"
      },
      {
        "duration": 208,
        "start_time": "2023-04-19T12:56:45.303Z"
      },
      {
        "duration": 9,
        "start_time": "2023-04-19T12:56:45.513Z"
      },
      {
        "duration": 14,
        "start_time": "2023-04-19T12:56:45.525Z"
      },
      {
        "duration": 429,
        "start_time": "2023-04-19T12:56:45.541Z"
      },
      {
        "duration": 443,
        "start_time": "2023-04-19T12:56:45.972Z"
      },
      {
        "duration": 162,
        "start_time": "2023-04-19T12:56:46.417Z"
      },
      {
        "duration": 46,
        "start_time": "2023-04-19T12:56:46.584Z"
      },
      {
        "duration": 42,
        "start_time": "2023-04-19T12:56:46.632Z"
      },
      {
        "duration": 40,
        "start_time": "2023-04-19T12:56:46.676Z"
      },
      {
        "duration": 12,
        "start_time": "2023-04-19T12:56:46.718Z"
      },
      {
        "duration": 21,
        "start_time": "2023-04-19T12:56:46.731Z"
      },
      {
        "duration": 539,
        "start_time": "2023-04-19T12:56:46.754Z"
      },
      {
        "duration": 6,
        "start_time": "2023-04-19T12:56:47.295Z"
      },
      {
        "duration": 541,
        "start_time": "2023-04-19T12:56:47.303Z"
      },
      {
        "duration": 8,
        "start_time": "2023-04-19T12:56:47.846Z"
      },
      {
        "duration": 155,
        "start_time": "2023-04-19T12:56:47.856Z"
      },
      {
        "duration": 172,
        "start_time": "2023-04-19T12:56:48.013Z"
      },
      {
        "duration": 4946,
        "start_time": "2023-04-19T12:56:48.188Z"
      },
      {
        "duration": 7,
        "start_time": "2023-04-19T12:56:53.136Z"
      },
      {
        "duration": 125,
        "start_time": "2023-04-19T12:56:53.145Z"
      },
      {
        "duration": 536,
        "start_time": "2023-04-19T12:56:53.271Z"
      },
      {
        "duration": 7,
        "start_time": "2023-04-19T12:56:53.809Z"
      },
      {
        "duration": 126,
        "start_time": "2023-04-19T12:56:53.818Z"
      },
      {
        "duration": 6265,
        "start_time": "2023-04-19T12:56:53.945Z"
      },
      {
        "duration": 8,
        "start_time": "2023-04-19T12:57:00.212Z"
      },
      {
        "duration": 148,
        "start_time": "2023-04-19T12:57:00.222Z"
      },
      {
        "duration": 10399,
        "start_time": "2023-04-19T12:57:00.373Z"
      },
      {
        "duration": 7,
        "start_time": "2023-04-19T12:57:10.774Z"
      },
      {
        "duration": 129,
        "start_time": "2023-04-19T12:57:10.783Z"
      },
      {
        "duration": 9652,
        "start_time": "2023-04-19T12:57:10.913Z"
      },
      {
        "duration": 7,
        "start_time": "2023-04-19T12:57:20.567Z"
      },
      {
        "duration": 102,
        "start_time": "2023-04-19T12:57:20.575Z"
      },
      {
        "duration": 2950,
        "start_time": "2023-04-19T12:57:20.679Z"
      },
      {
        "duration": 7,
        "start_time": "2023-04-19T12:57:23.631Z"
      },
      {
        "duration": 115,
        "start_time": "2023-04-19T12:57:23.640Z"
      },
      {
        "duration": 3702,
        "start_time": "2023-04-19T12:57:23.757Z"
      },
      {
        "duration": 8,
        "start_time": "2023-04-19T12:57:27.461Z"
      },
      {
        "duration": 4,
        "start_time": "2023-04-19T12:57:27.471Z"
      },
      {
        "duration": 1694,
        "start_time": "2023-04-19T12:57:27.477Z"
      },
      {
        "duration": 473,
        "start_time": "2023-04-19T12:57:29.173Z"
      },
      {
        "duration": 937,
        "start_time": "2023-04-19T12:57:29.648Z"
      },
      {
        "duration": 68,
        "start_time": "2023-04-19T12:57:30.589Z"
      },
      {
        "duration": 89,
        "start_time": "2023-04-19T12:57:30.659Z"
      },
      {
        "duration": 35,
        "start_time": "2023-04-19T12:57:30.750Z"
      },
      {
        "duration": 7,
        "start_time": "2023-04-19T12:57:30.786Z"
      },
      {
        "duration": 23,
        "start_time": "2023-04-19T12:57:30.795Z"
      },
      {
        "duration": 557,
        "start_time": "2023-04-19T12:57:30.820Z"
      },
      {
        "duration": 25,
        "start_time": "2023-04-19T12:57:31.379Z"
      },
      {
        "duration": 20,
        "start_time": "2023-04-19T12:57:31.405Z"
      },
      {
        "duration": 32,
        "start_time": "2023-04-19T12:57:31.427Z"
      },
      {
        "duration": 101,
        "start_time": "2023-04-19T12:57:31.461Z"
      },
      {
        "duration": 44,
        "start_time": "2023-04-19T12:57:31.563Z"
      },
      {
        "duration": 59,
        "start_time": "2023-04-19T12:57:31.609Z"
      },
      {
        "duration": 5,
        "start_time": "2023-04-19T12:57:31.669Z"
      },
      {
        "duration": 35,
        "start_time": "2023-04-19T12:57:31.676Z"
      },
      {
        "duration": 30,
        "start_time": "2023-04-19T12:57:31.713Z"
      },
      {
        "duration": 62,
        "start_time": "2023-04-19T12:57:31.745Z"
      },
      {
        "duration": 3,
        "start_time": "2023-04-19T12:57:31.809Z"
      },
      {
        "duration": 24,
        "start_time": "2023-04-19T12:57:31.814Z"
      },
      {
        "duration": 24,
        "start_time": "2023-04-19T12:57:31.840Z"
      },
      {
        "duration": 152,
        "start_time": "2023-04-19T12:57:31.870Z"
      },
      {
        "duration": 4,
        "start_time": "2023-04-19T12:57:32.024Z"
      },
      {
        "duration": 14,
        "start_time": "2023-04-19T12:57:32.029Z"
      },
      {
        "duration": 37,
        "start_time": "2023-04-19T12:57:32.045Z"
      },
      {
        "duration": 31,
        "start_time": "2023-04-19T12:57:32.084Z"
      },
      {
        "duration": 43,
        "start_time": "2023-04-19T12:57:32.116Z"
      },
      {
        "duration": 41,
        "start_time": "2023-04-19T12:57:32.161Z"
      },
      {
        "duration": 35,
        "start_time": "2023-04-19T12:57:32.204Z"
      },
      {
        "duration": 31,
        "start_time": "2023-04-19T12:57:32.240Z"
      },
      {
        "duration": 78,
        "start_time": "2023-04-19T12:57:32.273Z"
      },
      {
        "duration": 4,
        "start_time": "2023-04-19T12:57:32.355Z"
      },
      {
        "duration": 21,
        "start_time": "2023-04-19T12:57:32.361Z"
      },
      {
        "duration": 18,
        "start_time": "2023-04-19T12:57:32.384Z"
      },
      {
        "duration": 26,
        "start_time": "2023-04-19T12:57:32.404Z"
      },
      {
        "duration": 25,
        "start_time": "2023-04-19T12:57:32.432Z"
      },
      {
        "duration": 22,
        "start_time": "2023-04-19T12:57:32.459Z"
      },
      {
        "duration": 265,
        "start_time": "2023-04-19T12:57:32.482Z"
      },
      {
        "duration": 0,
        "start_time": "2023-04-19T12:57:32.749Z"
      },
      {
        "duration": 0,
        "start_time": "2023-04-19T12:57:32.750Z"
      },
      {
        "duration": 0,
        "start_time": "2023-04-19T12:57:32.751Z"
      },
      {
        "duration": 0,
        "start_time": "2023-04-19T12:57:32.753Z"
      },
      {
        "duration": 0,
        "start_time": "2023-04-19T12:57:32.754Z"
      },
      {
        "duration": 0,
        "start_time": "2023-04-19T12:57:32.755Z"
      },
      {
        "duration": 0,
        "start_time": "2023-04-19T12:57:32.756Z"
      },
      {
        "duration": 0,
        "start_time": "2023-04-19T12:57:32.757Z"
      },
      {
        "duration": 0,
        "start_time": "2023-04-19T12:57:32.758Z"
      },
      {
        "duration": 0,
        "start_time": "2023-04-19T12:57:32.760Z"
      },
      {
        "duration": 0,
        "start_time": "2023-04-19T12:57:32.761Z"
      },
      {
        "duration": 0,
        "start_time": "2023-04-19T12:57:32.762Z"
      },
      {
        "duration": 169,
        "start_time": "2023-04-19T13:26:39.643Z"
      },
      {
        "duration": 492,
        "start_time": "2023-04-19T13:26:46.155Z"
      },
      {
        "duration": 6,
        "start_time": "2023-04-19T13:26:54.182Z"
      },
      {
        "duration": 315,
        "start_time": "2023-04-19T13:27:04.930Z"
      },
      {
        "duration": 5,
        "start_time": "2023-04-19T13:27:06.737Z"
      },
      {
        "duration": 44,
        "start_time": "2023-04-19T13:27:10.376Z"
      },
      {
        "duration": 13,
        "start_time": "2023-04-19T13:27:16.610Z"
      },
      {
        "duration": 8,
        "start_time": "2023-04-19T13:27:21.232Z"
      },
      {
        "duration": 7,
        "start_time": "2023-04-19T13:27:23.104Z"
      },
      {
        "duration": 418006,
        "start_time": "2023-04-19T13:27:24.441Z"
      },
      {
        "duration": 102,
        "start_time": "2023-04-19T13:34:22.449Z"
      },
      {
        "duration": 8,
        "start_time": "2023-04-19T13:38:36.770Z"
      },
      {
        "duration": 6,
        "start_time": "2023-04-19T13:38:44.795Z"
      },
      {
        "duration": 3,
        "start_time": "2023-04-19T13:38:45.084Z"
      },
      {
        "duration": 691,
        "start_time": "2023-04-19T13:38:45.471Z"
      },
      {
        "duration": 103,
        "start_time": "2023-04-19T13:38:46.164Z"
      },
      {
        "duration": 14,
        "start_time": "2023-04-19T13:38:46.269Z"
      },
      {
        "duration": 892,
        "start_time": "2023-04-19T13:38:52.619Z"
      },
      {
        "duration": 7,
        "start_time": "2023-04-19T13:39:07.381Z"
      },
      {
        "duration": 877,
        "start_time": "2023-04-19T13:39:09.741Z"
      },
      {
        "duration": 312,
        "start_time": "2023-04-19T13:39:45.924Z"
      },
      {
        "duration": 4493,
        "start_time": "2023-04-19T13:41:09.726Z"
      },
      {
        "duration": 3,
        "start_time": "2023-04-19T13:41:14.221Z"
      },
      {
        "duration": 1884,
        "start_time": "2023-04-19T13:41:14.225Z"
      },
      {
        "duration": 4,
        "start_time": "2023-04-19T13:41:16.111Z"
      },
      {
        "duration": 8103,
        "start_time": "2023-04-19T13:41:16.117Z"
      },
      {
        "duration": 3,
        "start_time": "2023-04-19T13:41:24.222Z"
      },
      {
        "duration": 5,
        "start_time": "2023-04-19T13:41:24.226Z"
      },
      {
        "duration": 10,
        "start_time": "2023-04-19T13:41:24.233Z"
      },
      {
        "duration": 82,
        "start_time": "2023-04-19T13:41:24.245Z"
      },
      {
        "duration": 160,
        "start_time": "2023-04-19T13:41:24.330Z"
      },
      {
        "duration": 9,
        "start_time": "2023-04-19T13:41:24.492Z"
      },
      {
        "duration": 25,
        "start_time": "2023-04-19T13:41:24.503Z"
      },
      {
        "duration": 26,
        "start_time": "2023-04-19T13:41:24.529Z"
      },
      {
        "duration": 10,
        "start_time": "2023-04-19T13:41:24.557Z"
      },
      {
        "duration": 156,
        "start_time": "2023-04-19T13:41:24.568Z"
      },
      {
        "duration": 93,
        "start_time": "2023-04-19T13:41:24.725Z"
      },
      {
        "duration": 105,
        "start_time": "2023-04-19T13:41:24.820Z"
      },
      {
        "duration": 3,
        "start_time": "2023-04-19T13:41:24.926Z"
      },
      {
        "duration": 475,
        "start_time": "2023-04-19T13:41:24.931Z"
      },
      {
        "duration": 3,
        "start_time": "2023-04-19T13:41:25.408Z"
      },
      {
        "duration": 2880,
        "start_time": "2023-04-19T13:41:25.412Z"
      },
      {
        "duration": 224,
        "start_time": "2023-04-19T13:41:28.294Z"
      },
      {
        "duration": 9,
        "start_time": "2023-04-19T13:41:28.520Z"
      },
      {
        "duration": 14,
        "start_time": "2023-04-19T13:41:28.531Z"
      },
      {
        "duration": 465,
        "start_time": "2023-04-19T13:41:28.547Z"
      },
      {
        "duration": 443,
        "start_time": "2023-04-19T13:41:29.014Z"
      },
      {
        "duration": 166,
        "start_time": "2023-04-19T13:41:29.459Z"
      },
      {
        "duration": 53,
        "start_time": "2023-04-19T13:41:29.632Z"
      },
      {
        "duration": 47,
        "start_time": "2023-04-19T13:41:29.688Z"
      },
      {
        "duration": 45,
        "start_time": "2023-04-19T13:41:29.737Z"
      },
      {
        "duration": 18,
        "start_time": "2023-04-19T13:41:29.785Z"
      },
      {
        "duration": 28,
        "start_time": "2023-04-19T13:41:29.805Z"
      },
      {
        "duration": 3760,
        "start_time": "2023-04-19T13:41:29.835Z"
      },
      {
        "duration": 7,
        "start_time": "2023-04-19T13:41:33.597Z"
      },
      {
        "duration": 553,
        "start_time": "2023-04-19T13:41:33.606Z"
      },
      {
        "duration": 9,
        "start_time": "2023-04-19T13:41:34.161Z"
      },
      {
        "duration": 155,
        "start_time": "2023-04-19T13:41:34.172Z"
      },
      {
        "duration": 172,
        "start_time": "2023-04-19T13:41:34.329Z"
      },
      {
        "duration": 5237,
        "start_time": "2023-04-19T13:41:34.503Z"
      },
      {
        "duration": 6,
        "start_time": "2023-04-19T13:41:39.742Z"
      },
      {
        "duration": 116,
        "start_time": "2023-04-19T13:41:39.750Z"
      },
      {
        "duration": 543,
        "start_time": "2023-04-19T13:41:39.869Z"
      },
      {
        "duration": 7,
        "start_time": "2023-04-19T13:41:40.414Z"
      },
      {
        "duration": 131,
        "start_time": "2023-04-19T13:41:40.423Z"
      },
      {
        "duration": 3776,
        "start_time": "2023-04-19T13:41:40.555Z"
      },
      {
        "duration": 7,
        "start_time": "2023-04-19T13:41:44.333Z"
      },
      {
        "duration": 162,
        "start_time": "2023-04-19T13:41:44.341Z"
      },
      {
        "duration": 9769,
        "start_time": "2023-04-19T13:41:44.504Z"
      },
      {
        "duration": 8,
        "start_time": "2023-04-19T13:41:54.274Z"
      },
      {
        "duration": 130,
        "start_time": "2023-04-19T13:41:54.284Z"
      },
      {
        "duration": 10042,
        "start_time": "2023-04-19T13:41:54.416Z"
      },
      {
        "duration": 7,
        "start_time": "2023-04-19T13:42:04.460Z"
      },
      {
        "duration": 101,
        "start_time": "2023-04-19T13:42:04.469Z"
      },
      {
        "duration": 2908,
        "start_time": "2023-04-19T13:42:04.572Z"
      },
      {
        "duration": 8,
        "start_time": "2023-04-19T13:42:07.482Z"
      },
      {
        "duration": 116,
        "start_time": "2023-04-19T13:42:07.492Z"
      },
      {
        "duration": 3621,
        "start_time": "2023-04-19T13:42:07.610Z"
      },
      {
        "duration": 9,
        "start_time": "2023-04-19T13:42:11.233Z"
      },
      {
        "duration": 5,
        "start_time": "2023-04-19T13:42:11.244Z"
      },
      {
        "duration": 1688,
        "start_time": "2023-04-19T13:42:11.250Z"
      },
      {
        "duration": 452,
        "start_time": "2023-04-19T13:42:12.940Z"
      },
      {
        "duration": 943,
        "start_time": "2023-04-19T13:42:13.394Z"
      },
      {
        "duration": 65,
        "start_time": "2023-04-19T13:42:14.339Z"
      },
      {
        "duration": 70,
        "start_time": "2023-04-19T13:42:14.405Z"
      },
      {
        "duration": 43,
        "start_time": "2023-04-19T13:42:14.477Z"
      },
      {
        "duration": 3,
        "start_time": "2023-04-19T13:42:14.521Z"
      },
      {
        "duration": 9,
        "start_time": "2023-04-19T13:42:14.526Z"
      },
      {
        "duration": 537,
        "start_time": "2023-04-19T13:42:14.537Z"
      },
      {
        "duration": 83,
        "start_time": "2023-04-19T13:42:15.076Z"
      },
      {
        "duration": 4,
        "start_time": "2023-04-19T13:42:15.161Z"
      },
      {
        "duration": 21,
        "start_time": "2023-04-19T13:42:15.167Z"
      },
      {
        "duration": 87,
        "start_time": "2023-04-19T13:42:15.190Z"
      },
      {
        "duration": 36,
        "start_time": "2023-04-19T13:42:15.279Z"
      },
      {
        "duration": 35,
        "start_time": "2023-04-19T13:42:15.317Z"
      },
      {
        "duration": 4,
        "start_time": "2023-04-19T13:42:15.354Z"
      },
      {
        "duration": 22,
        "start_time": "2023-04-19T13:42:15.360Z"
      },
      {
        "duration": 19,
        "start_time": "2023-04-19T13:42:15.384Z"
      },
      {
        "duration": 65,
        "start_time": "2023-04-19T13:42:15.405Z"
      },
      {
        "duration": 2,
        "start_time": "2023-04-19T13:42:15.472Z"
      },
      {
        "duration": 32,
        "start_time": "2023-04-19T13:42:15.476Z"
      },
      {
        "duration": 27,
        "start_time": "2023-04-19T13:42:15.511Z"
      },
      {
        "duration": 173,
        "start_time": "2023-04-19T13:42:15.544Z"
      },
      {
        "duration": 3,
        "start_time": "2023-04-19T13:42:15.719Z"
      },
      {
        "duration": 10,
        "start_time": "2023-04-19T13:42:15.724Z"
      },
      {
        "duration": 13,
        "start_time": "2023-04-19T13:42:15.735Z"
      },
      {
        "duration": 48,
        "start_time": "2023-04-19T13:42:15.749Z"
      },
      {
        "duration": 3,
        "start_time": "2023-04-19T13:42:15.799Z"
      },
      {
        "duration": 28,
        "start_time": "2023-04-19T13:42:15.803Z"
      },
      {
        "duration": 4,
        "start_time": "2023-04-19T13:42:15.833Z"
      },
      {
        "duration": 10,
        "start_time": "2023-04-19T13:42:15.839Z"
      },
      {
        "duration": 30,
        "start_time": "2023-04-19T13:42:15.850Z"
      },
      {
        "duration": 12,
        "start_time": "2023-04-19T13:42:15.882Z"
      },
      {
        "duration": 10,
        "start_time": "2023-04-19T13:42:15.895Z"
      },
      {
        "duration": 5,
        "start_time": "2023-04-19T13:42:15.907Z"
      },
      {
        "duration": 12,
        "start_time": "2023-04-19T13:42:15.914Z"
      },
      {
        "duration": 16,
        "start_time": "2023-04-19T13:42:15.927Z"
      },
      {
        "duration": 20,
        "start_time": "2023-04-19T13:42:15.945Z"
      },
      {
        "duration": 315,
        "start_time": "2023-04-19T13:42:15.967Z"
      },
      {
        "duration": 42,
        "start_time": "2023-04-19T13:42:16.284Z"
      },
      {
        "duration": 5,
        "start_time": "2023-04-19T13:42:16.328Z"
      },
      {
        "duration": 17,
        "start_time": "2023-04-19T13:42:16.335Z"
      },
      {
        "duration": 1260646,
        "start_time": "2023-04-19T13:42:16.354Z"
      },
      {
        "duration": 6,
        "start_time": "2023-04-19T14:03:17.002Z"
      },
      {
        "duration": 18,
        "start_time": "2023-04-19T14:03:17.009Z"
      },
      {
        "duration": 688,
        "start_time": "2023-04-19T14:03:17.029Z"
      },
      {
        "duration": 100,
        "start_time": "2023-04-19T14:03:17.719Z"
      },
      {
        "duration": 13,
        "start_time": "2023-04-19T14:03:17.821Z"
      },
      {
        "duration": 882,
        "start_time": "2023-04-19T14:03:17.835Z"
      },
      {
        "duration": 311,
        "start_time": "2023-04-19T14:03:18.719Z"
      },
      {
        "duration": 927,
        "start_time": "2023-04-19T14:03:19.032Z"
      },
      {
        "duration": 6,
        "start_time": "2023-04-19T14:03:57.369Z"
      },
      {
        "duration": 3,
        "start_time": "2023-04-19T14:04:04.003Z"
      },
      {
        "duration": 663,
        "start_time": "2023-04-19T14:04:04.269Z"
      },
      {
        "duration": 98,
        "start_time": "2023-04-19T14:04:04.933Z"
      },
      {
        "duration": 13,
        "start_time": "2023-04-19T14:04:05.219Z"
      },
      {
        "duration": 3,
        "start_time": "2023-04-19T14:04:18.420Z"
      },
      {
        "duration": 7017,
        "start_time": "2023-04-19T14:04:18.693Z"
      },
      {
        "duration": 897,
        "start_time": "2023-04-19T14:04:25.713Z"
      },
      {
        "duration": 11,
        "start_time": "2023-04-19T14:04:26.612Z"
      },
      {
        "duration": 3,
        "start_time": "2023-04-19T14:04:36.051Z"
      },
      {
        "duration": 671,
        "start_time": "2023-04-19T14:04:36.290Z"
      },
      {
        "duration": 96,
        "start_time": "2023-04-19T14:04:36.964Z"
      },
      {
        "duration": 13,
        "start_time": "2023-04-19T14:04:38.106Z"
      },
      {
        "duration": 838,
        "start_time": "2023-04-19T14:04:45.233Z"
      },
      {
        "duration": 754,
        "start_time": "2023-04-19T14:04:51.747Z"
      },
      {
        "duration": 97,
        "start_time": "2023-04-19T14:04:52.502Z"
      },
      {
        "duration": 13,
        "start_time": "2023-04-19T14:04:52.601Z"
      },
      {
        "duration": 869,
        "start_time": "2023-04-19T14:04:53.994Z"
      },
      {
        "duration": 329,
        "start_time": "2023-04-19T14:05:00.514Z"
      },
      {
        "duration": 433,
        "start_time": "2023-04-19T14:11:12.208Z"
      },
      {
        "duration": 12,
        "start_time": "2023-04-19T14:11:16.249Z"
      },
      {
        "duration": 416,
        "start_time": "2023-04-19T14:11:29.900Z"
      },
      {
        "duration": 9,
        "start_time": "2023-04-19T14:11:30.372Z"
      },
      {
        "duration": 815,
        "start_time": "2023-04-19T14:11:53.432Z"
      },
      {
        "duration": 18,
        "start_time": "2023-04-19T14:12:01.731Z"
      },
      {
        "duration": 8,
        "start_time": "2023-04-19T14:12:37.352Z"
      },
      {
        "duration": 410,
        "start_time": "2023-04-19T14:12:53.890Z"
      },
      {
        "duration": 142,
        "start_time": "2023-04-19T14:12:54.302Z"
      },
      {
        "duration": 408,
        "start_time": "2023-04-19T14:12:57.195Z"
      },
      {
        "duration": 812,
        "start_time": "2023-04-19T14:13:01.620Z"
      },
      {
        "duration": 68,
        "start_time": "2023-04-19T14:13:06.456Z"
      },
      {
        "duration": 70,
        "start_time": "2023-04-19T14:13:07.256Z"
      },
      {
        "duration": 26,
        "start_time": "2023-04-19T14:13:07.801Z"
      },
      {
        "duration": 3,
        "start_time": "2023-04-19T14:13:08.638Z"
      },
      {
        "duration": 10,
        "start_time": "2023-04-19T14:13:08.806Z"
      },
      {
        "duration": 543,
        "start_time": "2023-04-19T14:13:08.991Z"
      },
      {
        "duration": 12,
        "start_time": "2023-04-19T14:13:09.537Z"
      },
      {
        "duration": 10,
        "start_time": "2023-04-19T14:13:09.551Z"
      },
      {
        "duration": 9,
        "start_time": "2023-04-19T14:13:09.711Z"
      },
      {
        "duration": 68,
        "start_time": "2023-04-19T14:13:09.903Z"
      },
      {
        "duration": 24,
        "start_time": "2023-04-19T14:13:10.695Z"
      },
      {
        "duration": 36,
        "start_time": "2023-04-19T14:13:11.373Z"
      },
      {
        "duration": 817,
        "start_time": "2023-04-19T14:13:56.089Z"
      },
      {
        "duration": 68,
        "start_time": "2023-04-19T14:13:57.712Z"
      },
      {
        "duration": 25,
        "start_time": "2023-04-19T14:13:57.895Z"
      },
      {
        "duration": 3,
        "start_time": "2023-04-19T14:13:58.438Z"
      },
      {
        "duration": 10,
        "start_time": "2023-04-19T14:13:58.846Z"
      },
      {
        "duration": 513,
        "start_time": "2023-04-19T14:13:59.030Z"
      },
      {
        "duration": 11,
        "start_time": "2023-04-19T14:13:59.545Z"
      },
      {
        "duration": 8,
        "start_time": "2023-04-19T14:13:59.557Z"
      },
      {
        "duration": 9,
        "start_time": "2023-04-19T14:14:00.222Z"
      },
      {
        "duration": 8,
        "start_time": "2023-04-19T14:14:10.831Z"
      },
      {
        "duration": 29,
        "start_time": "2023-04-19T14:19:32.859Z"
      },
      {
        "duration": 13,
        "start_time": "2023-04-19T15:19:51.216Z"
      },
      {
        "duration": 20,
        "start_time": "2023-04-19T15:20:12.720Z"
      },
      {
        "duration": 22,
        "start_time": "2023-04-19T15:22:14.810Z"
      },
      {
        "duration": 11,
        "start_time": "2023-04-19T15:23:55.409Z"
      },
      {
        "duration": 56,
        "start_time": "2023-04-19T15:23:57.398Z"
      },
      {
        "duration": 17,
        "start_time": "2023-04-19T15:24:12.684Z"
      },
      {
        "duration": 19,
        "start_time": "2023-04-19T15:24:14.908Z"
      },
      {
        "duration": 14,
        "start_time": "2023-04-19T15:27:28.756Z"
      },
      {
        "duration": 80,
        "start_time": "2023-04-19T15:27:31.682Z"
      },
      {
        "duration": 21,
        "start_time": "2023-04-19T15:27:34.877Z"
      },
      {
        "duration": 54,
        "start_time": "2023-04-19T15:30:49.709Z"
      },
      {
        "duration": 15,
        "start_time": "2023-04-19T15:30:56.644Z"
      },
      {
        "duration": 23,
        "start_time": "2023-04-19T15:31:40.645Z"
      },
      {
        "duration": 18,
        "start_time": "2023-04-19T15:31:47.497Z"
      },
      {
        "duration": 8,
        "start_time": "2023-04-19T15:32:35.220Z"
      },
      {
        "duration": 16,
        "start_time": "2023-04-19T15:33:05.903Z"
      },
      {
        "duration": 15,
        "start_time": "2023-04-19T15:33:41.535Z"
      },
      {
        "duration": 71,
        "start_time": "2023-04-19T15:33:43.756Z"
      },
      {
        "duration": 4551,
        "start_time": "2023-04-19T15:36:43.221Z"
      },
      {
        "duration": 1970,
        "start_time": "2023-04-19T15:36:47.774Z"
      },
      {
        "duration": 3,
        "start_time": "2023-04-19T15:36:49.746Z"
      },
      {
        "duration": 7915,
        "start_time": "2023-04-19T15:36:49.752Z"
      },
      {
        "duration": 2,
        "start_time": "2023-04-19T15:36:57.669Z"
      },
      {
        "duration": 16,
        "start_time": "2023-04-19T15:36:57.673Z"
      },
      {
        "duration": 21,
        "start_time": "2023-04-19T15:36:57.691Z"
      },
      {
        "duration": 92,
        "start_time": "2023-04-19T15:36:57.714Z"
      },
      {
        "duration": 165,
        "start_time": "2023-04-19T15:36:57.808Z"
      },
      {
        "duration": 10,
        "start_time": "2023-04-19T15:36:57.975Z"
      },
      {
        "duration": 20,
        "start_time": "2023-04-19T15:36:57.987Z"
      },
      {
        "duration": 25,
        "start_time": "2023-04-19T15:36:58.009Z"
      },
      {
        "duration": 10,
        "start_time": "2023-04-19T15:36:58.035Z"
      },
      {
        "duration": 142,
        "start_time": "2023-04-19T15:36:58.047Z"
      },
      {
        "duration": 94,
        "start_time": "2023-04-19T15:36:58.191Z"
      },
      {
        "duration": 102,
        "start_time": "2023-04-19T15:36:58.287Z"
      },
      {
        "duration": 3,
        "start_time": "2023-04-19T15:36:58.391Z"
      },
      {
        "duration": 472,
        "start_time": "2023-04-19T15:36:58.396Z"
      },
      {
        "duration": 3,
        "start_time": "2023-04-19T15:36:58.870Z"
      },
      {
        "duration": 2882,
        "start_time": "2023-04-19T15:36:58.875Z"
      },
      {
        "duration": 209,
        "start_time": "2023-04-19T15:37:01.759Z"
      },
      {
        "duration": 11,
        "start_time": "2023-04-19T15:37:01.970Z"
      },
      {
        "duration": 42,
        "start_time": "2023-04-19T15:37:01.983Z"
      },
      {
        "duration": 498,
        "start_time": "2023-04-19T15:37:02.027Z"
      },
      {
        "duration": 491,
        "start_time": "2023-04-19T15:37:02.528Z"
      },
      {
        "duration": 177,
        "start_time": "2023-04-19T15:37:03.021Z"
      },
      {
        "duration": 52,
        "start_time": "2023-04-19T15:37:03.200Z"
      },
      {
        "duration": 44,
        "start_time": "2023-04-19T15:37:03.259Z"
      },
      {
        "duration": 41,
        "start_time": "2023-04-19T15:37:03.304Z"
      },
      {
        "duration": 11,
        "start_time": "2023-04-19T15:37:03.347Z"
      },
      {
        "duration": 20,
        "start_time": "2023-04-19T15:37:03.361Z"
      },
      {
        "duration": 3743,
        "start_time": "2023-04-19T15:37:03.382Z"
      },
      {
        "duration": 8,
        "start_time": "2023-04-19T15:37:07.127Z"
      },
      {
        "duration": 517,
        "start_time": "2023-04-19T15:37:07.137Z"
      },
      {
        "duration": 9,
        "start_time": "2023-04-19T15:37:07.656Z"
      },
      {
        "duration": 154,
        "start_time": "2023-04-19T15:37:07.667Z"
      },
      {
        "duration": 172,
        "start_time": "2023-04-19T15:37:07.823Z"
      },
      {
        "duration": 5642,
        "start_time": "2023-04-19T15:37:07.998Z"
      },
      {
        "duration": 7,
        "start_time": "2023-04-19T15:37:13.642Z"
      },
      {
        "duration": 313,
        "start_time": "2023-04-19T15:37:13.651Z"
      },
      {
        "duration": 537,
        "start_time": "2023-04-19T15:37:13.966Z"
      },
      {
        "duration": 7,
        "start_time": "2023-04-19T15:37:14.505Z"
      },
      {
        "duration": 115,
        "start_time": "2023-04-19T15:37:14.514Z"
      },
      {
        "duration": 3783,
        "start_time": "2023-04-19T15:37:14.631Z"
      },
      {
        "duration": 9,
        "start_time": "2023-04-19T15:37:18.416Z"
      },
      {
        "duration": 157,
        "start_time": "2023-04-19T15:37:18.426Z"
      },
      {
        "duration": 9916,
        "start_time": "2023-04-19T15:37:18.586Z"
      },
      {
        "duration": 8,
        "start_time": "2023-04-19T15:37:28.504Z"
      },
      {
        "duration": 132,
        "start_time": "2023-04-19T15:37:28.514Z"
      },
      {
        "duration": 9767,
        "start_time": "2023-04-19T15:37:28.648Z"
      },
      {
        "duration": 9,
        "start_time": "2023-04-19T15:37:38.417Z"
      },
      {
        "duration": 107,
        "start_time": "2023-04-19T15:37:38.428Z"
      },
      {
        "duration": 5026,
        "start_time": "2023-04-19T15:37:38.537Z"
      },
      {
        "duration": 7,
        "start_time": "2023-04-19T15:37:43.565Z"
      },
      {
        "duration": 111,
        "start_time": "2023-04-19T15:37:43.574Z"
      },
      {
        "duration": 6200,
        "start_time": "2023-04-19T15:37:43.687Z"
      },
      {
        "duration": 9,
        "start_time": "2023-04-19T15:37:49.889Z"
      },
      {
        "duration": 498,
        "start_time": "2023-04-19T15:37:49.900Z"
      },
      {
        "duration": 952,
        "start_time": "2023-04-19T15:37:50.399Z"
      },
      {
        "duration": 64,
        "start_time": "2023-04-19T15:37:51.353Z"
      },
      {
        "duration": 95,
        "start_time": "2023-04-19T15:37:51.418Z"
      },
      {
        "duration": 47,
        "start_time": "2023-04-19T15:37:51.515Z"
      },
      {
        "duration": 7,
        "start_time": "2023-04-19T15:37:51.563Z"
      },
      {
        "duration": 16,
        "start_time": "2023-04-19T15:37:51.572Z"
      },
      {
        "duration": 604,
        "start_time": "2023-04-19T15:37:51.590Z"
      },
      {
        "duration": 12,
        "start_time": "2023-04-19T15:37:52.196Z"
      },
      {
        "duration": 12,
        "start_time": "2023-04-19T15:37:52.210Z"
      },
      {
        "duration": 28,
        "start_time": "2023-04-19T15:37:52.223Z"
      },
      {
        "duration": 88,
        "start_time": "2023-04-19T15:37:52.253Z"
      },
      {
        "duration": 30,
        "start_time": "2023-04-19T15:37:52.342Z"
      },
      {
        "duration": 49,
        "start_time": "2023-04-19T15:37:52.374Z"
      },
      {
        "duration": 4,
        "start_time": "2023-04-19T15:37:52.425Z"
      },
      {
        "duration": 10,
        "start_time": "2023-04-19T15:37:52.431Z"
      },
      {
        "duration": 9,
        "start_time": "2023-04-19T15:37:52.442Z"
      },
      {
        "duration": 59,
        "start_time": "2023-04-19T15:37:52.452Z"
      },
      {
        "duration": 3,
        "start_time": "2023-04-19T15:37:52.513Z"
      },
      {
        "duration": 13,
        "start_time": "2023-04-19T15:37:52.517Z"
      },
      {
        "duration": 6,
        "start_time": "2023-04-19T15:37:52.533Z"
      },
      {
        "duration": 169,
        "start_time": "2023-04-19T15:37:52.540Z"
      },
      {
        "duration": 5,
        "start_time": "2023-04-19T15:37:52.711Z"
      },
      {
        "duration": 10,
        "start_time": "2023-04-19T15:37:52.718Z"
      },
      {
        "duration": 12,
        "start_time": "2023-04-19T15:37:52.733Z"
      },
      {
        "duration": 46,
        "start_time": "2023-04-19T15:37:52.747Z"
      },
      {
        "duration": 3,
        "start_time": "2023-04-19T15:37:52.795Z"
      },
      {
        "duration": 6,
        "start_time": "2023-04-19T15:37:52.800Z"
      },
      {
        "duration": 7,
        "start_time": "2023-04-19T15:37:52.808Z"
      },
      {
        "duration": 11,
        "start_time": "2023-04-19T15:37:52.817Z"
      },
      {
        "duration": 33,
        "start_time": "2023-04-19T15:37:52.830Z"
      },
      {
        "duration": 4,
        "start_time": "2023-04-19T15:37:52.865Z"
      },
      {
        "duration": 23,
        "start_time": "2023-04-19T15:37:52.871Z"
      },
      {
        "duration": 7,
        "start_time": "2023-04-19T15:37:52.897Z"
      },
      {
        "duration": 10,
        "start_time": "2023-04-19T15:37:52.906Z"
      },
      {
        "duration": 22,
        "start_time": "2023-04-19T15:37:52.918Z"
      },
      {
        "duration": 24,
        "start_time": "2023-04-19T15:37:52.942Z"
      },
      {
        "duration": 341,
        "start_time": "2023-04-19T15:37:52.968Z"
      },
      {
        "duration": 40,
        "start_time": "2023-04-19T15:37:53.311Z"
      },
      {
        "duration": 6,
        "start_time": "2023-04-19T15:37:53.352Z"
      },
      {
        "duration": 5,
        "start_time": "2023-04-19T15:37:53.359Z"
      },
      {
        "duration": 528032,
        "start_time": "2023-04-19T15:37:53.365Z"
      },
      {
        "duration": 6,
        "start_time": "2023-04-19T15:46:41.399Z"
      },
      {
        "duration": 9,
        "start_time": "2023-04-19T15:46:41.407Z"
      },
      {
        "duration": 1276,
        "start_time": "2023-04-19T15:46:41.418Z"
      },
      {
        "duration": 125,
        "start_time": "2023-04-19T15:46:42.696Z"
      },
      {
        "duration": 13,
        "start_time": "2023-04-19T15:46:42.823Z"
      },
      {
        "duration": 920,
        "start_time": "2023-04-19T15:46:42.838Z"
      },
      {
        "duration": 333,
        "start_time": "2023-04-19T15:46:43.760Z"
      },
      {
        "duration": 16,
        "start_time": "2023-04-19T15:46:44.095Z"
      },
      {
        "duration": 21,
        "start_time": "2023-04-19T15:46:44.112Z"
      },
      {
        "duration": 17,
        "start_time": "2023-04-19T15:46:44.134Z"
      },
      {
        "duration": 3,
        "start_time": "2023-04-19T15:52:12.043Z"
      },
      {
        "duration": 3051,
        "start_time": "2023-04-19T15:52:13.678Z"
      },
      {
        "duration": 390,
        "start_time": "2023-04-19T15:52:17.425Z"
      },
      {
        "duration": 12,
        "start_time": "2023-04-19T15:52:18.522Z"
      },
      {
        "duration": 3,
        "start_time": "2023-04-19T15:52:23.984Z"
      },
      {
        "duration": 712,
        "start_time": "2023-04-19T15:52:24.161Z"
      },
      {
        "duration": 97,
        "start_time": "2023-04-19T15:52:24.875Z"
      },
      {
        "duration": 23,
        "start_time": "2023-04-19T15:52:24.973Z"
      },
      {
        "duration": 860,
        "start_time": "2023-04-19T15:52:27.114Z"
      },
      {
        "duration": 8715,
        "start_time": "2023-04-20T10:50:15.815Z"
      },
      {
        "duration": 2680,
        "start_time": "2023-04-20T10:50:24.535Z"
      },
      {
        "duration": 10,
        "start_time": "2023-04-20T10:50:27.217Z"
      },
      {
        "duration": 15078,
        "start_time": "2023-04-20T10:50:27.229Z"
      },
      {
        "duration": 6,
        "start_time": "2023-04-20T10:50:42.313Z"
      },
      {
        "duration": 3,
        "start_time": "2023-04-20T10:50:42.322Z"
      },
      {
        "duration": 9,
        "start_time": "2023-04-20T10:50:42.326Z"
      },
      {
        "duration": 113,
        "start_time": "2023-04-20T10:50:42.336Z"
      },
      {
        "duration": 170,
        "start_time": "2023-04-20T10:50:42.451Z"
      },
      {
        "duration": 9,
        "start_time": "2023-04-20T10:50:42.623Z"
      },
      {
        "duration": 14,
        "start_time": "2023-04-20T10:50:42.634Z"
      },
      {
        "duration": 23,
        "start_time": "2023-04-20T10:50:42.649Z"
      },
      {
        "duration": 24,
        "start_time": "2023-04-20T10:50:42.674Z"
      },
      {
        "duration": 158,
        "start_time": "2023-04-20T10:50:42.702Z"
      },
      {
        "duration": 96,
        "start_time": "2023-04-20T10:50:42.861Z"
      },
      {
        "duration": 98,
        "start_time": "2023-04-20T10:50:42.958Z"
      },
      {
        "duration": 3,
        "start_time": "2023-04-20T10:50:43.058Z"
      },
      {
        "duration": 480,
        "start_time": "2023-04-20T10:50:43.063Z"
      },
      {
        "duration": 5,
        "start_time": "2023-04-20T10:50:43.545Z"
      },
      {
        "duration": 2977,
        "start_time": "2023-04-20T10:50:43.552Z"
      },
      {
        "duration": 202,
        "start_time": "2023-04-20T10:50:46.530Z"
      },
      {
        "duration": 10,
        "start_time": "2023-04-20T10:50:46.734Z"
      },
      {
        "duration": 18,
        "start_time": "2023-04-20T10:50:46.746Z"
      },
      {
        "duration": 416,
        "start_time": "2023-04-20T10:50:46.766Z"
      },
      {
        "duration": 443,
        "start_time": "2023-04-20T10:50:47.185Z"
      },
      {
        "duration": 168,
        "start_time": "2023-04-20T10:50:47.631Z"
      },
      {
        "duration": 65,
        "start_time": "2023-04-20T10:50:47.800Z"
      },
      {
        "duration": 57,
        "start_time": "2023-04-20T10:50:47.867Z"
      },
      {
        "duration": 45,
        "start_time": "2023-04-20T10:50:47.927Z"
      },
      {
        "duration": 20,
        "start_time": "2023-04-20T10:50:47.974Z"
      },
      {
        "duration": 47,
        "start_time": "2023-04-20T10:50:47.996Z"
      },
      {
        "duration": 3776,
        "start_time": "2023-04-20T10:50:48.045Z"
      },
      {
        "duration": 8,
        "start_time": "2023-04-20T10:50:51.823Z"
      },
      {
        "duration": 543,
        "start_time": "2023-04-20T10:50:51.833Z"
      },
      {
        "duration": 17,
        "start_time": "2023-04-20T10:50:52.378Z"
      },
      {
        "duration": 199,
        "start_time": "2023-04-20T10:50:52.396Z"
      },
      {
        "duration": 176,
        "start_time": "2023-04-20T10:50:52.604Z"
      },
      {
        "duration": 2938,
        "start_time": "2023-04-20T10:50:52.781Z"
      },
      {
        "duration": 7,
        "start_time": "2023-04-20T10:50:55.721Z"
      },
      {
        "duration": 145,
        "start_time": "2023-04-20T10:50:55.729Z"
      },
      {
        "duration": 554,
        "start_time": "2023-04-20T10:50:55.880Z"
      },
      {
        "duration": 8,
        "start_time": "2023-04-20T10:50:56.435Z"
      },
      {
        "duration": 172,
        "start_time": "2023-04-20T10:50:56.445Z"
      },
      {
        "duration": 3843,
        "start_time": "2023-04-20T10:50:56.618Z"
      },
      {
        "duration": 8,
        "start_time": "2023-04-20T10:51:00.463Z"
      },
      {
        "duration": 289,
        "start_time": "2023-04-20T10:51:00.472Z"
      },
      {
        "duration": 9865,
        "start_time": "2023-04-20T10:51:00.763Z"
      },
      {
        "duration": 8,
        "start_time": "2023-04-20T10:51:10.630Z"
      },
      {
        "duration": 135,
        "start_time": "2023-04-20T10:51:10.639Z"
      },
      {
        "duration": 9750,
        "start_time": "2023-04-20T10:51:10.776Z"
      },
      {
        "duration": 10,
        "start_time": "2023-04-20T10:51:20.528Z"
      },
      {
        "duration": 161,
        "start_time": "2023-04-20T10:51:20.540Z"
      },
      {
        "duration": 2947,
        "start_time": "2023-04-20T10:51:20.706Z"
      },
      {
        "duration": 7,
        "start_time": "2023-04-20T10:51:23.654Z"
      },
      {
        "duration": 132,
        "start_time": "2023-04-20T10:51:23.663Z"
      },
      {
        "duration": 3618,
        "start_time": "2023-04-20T10:51:23.804Z"
      },
      {
        "duration": 12,
        "start_time": "2023-04-20T10:51:27.425Z"
      },
      {
        "duration": 489,
        "start_time": "2023-04-20T10:51:27.438Z"
      },
      {
        "duration": 1034,
        "start_time": "2023-04-20T10:51:27.929Z"
      },
      {
        "duration": 73,
        "start_time": "2023-04-20T10:51:28.964Z"
      },
      {
        "duration": 104,
        "start_time": "2023-04-20T10:51:29.039Z"
      },
      {
        "duration": 30,
        "start_time": "2023-04-20T10:51:29.146Z"
      },
      {
        "duration": 9,
        "start_time": "2023-04-20T10:51:29.188Z"
      },
      {
        "duration": 15,
        "start_time": "2023-04-20T10:51:29.209Z"
      },
      {
        "duration": 655,
        "start_time": "2023-04-20T10:51:29.226Z"
      },
      {
        "duration": 29,
        "start_time": "2023-04-20T10:51:29.884Z"
      },
      {
        "duration": 7,
        "start_time": "2023-04-20T10:51:29.917Z"
      },
      {
        "duration": 14,
        "start_time": "2023-04-20T10:51:29.926Z"
      },
      {
        "duration": 84,
        "start_time": "2023-04-20T10:51:29.947Z"
      },
      {
        "duration": 33,
        "start_time": "2023-04-20T10:51:30.033Z"
      },
      {
        "duration": 80,
        "start_time": "2023-04-20T10:51:30.068Z"
      },
      {
        "duration": 4,
        "start_time": "2023-04-20T10:51:30.150Z"
      },
      {
        "duration": 51,
        "start_time": "2023-04-20T10:51:30.156Z"
      },
      {
        "duration": 44,
        "start_time": "2023-04-20T10:51:30.208Z"
      },
      {
        "duration": 93,
        "start_time": "2023-04-20T10:51:30.254Z"
      },
      {
        "duration": 3,
        "start_time": "2023-04-20T10:51:30.350Z"
      },
      {
        "duration": 50,
        "start_time": "2023-04-20T10:51:30.355Z"
      },
      {
        "duration": 26,
        "start_time": "2023-04-20T10:51:30.406Z"
      },
      {
        "duration": 261,
        "start_time": "2023-04-20T10:51:30.434Z"
      },
      {
        "duration": 13,
        "start_time": "2023-04-20T10:51:30.702Z"
      },
      {
        "duration": 18,
        "start_time": "2023-04-20T10:51:30.719Z"
      },
      {
        "duration": 50,
        "start_time": "2023-04-20T10:51:30.740Z"
      },
      {
        "duration": 58,
        "start_time": "2023-04-20T10:51:30.792Z"
      },
      {
        "duration": 4,
        "start_time": "2023-04-20T10:51:30.853Z"
      },
      {
        "duration": 29,
        "start_time": "2023-04-20T10:51:30.860Z"
      },
      {
        "duration": 34,
        "start_time": "2023-04-20T10:51:30.892Z"
      },
      {
        "duration": 23,
        "start_time": "2023-04-20T10:51:30.928Z"
      },
      {
        "duration": 89,
        "start_time": "2023-04-20T10:51:30.953Z"
      },
      {
        "duration": 33,
        "start_time": "2023-04-20T10:51:31.044Z"
      },
      {
        "duration": 44,
        "start_time": "2023-04-20T10:51:31.080Z"
      },
      {
        "duration": 53,
        "start_time": "2023-04-20T10:51:31.126Z"
      },
      {
        "duration": 78,
        "start_time": "2023-04-20T10:51:31.181Z"
      },
      {
        "duration": 39,
        "start_time": "2023-04-20T10:51:31.261Z"
      },
      {
        "duration": 30,
        "start_time": "2023-04-20T10:51:31.304Z"
      },
      {
        "duration": 427,
        "start_time": "2023-04-20T10:51:31.336Z"
      },
      {
        "duration": 54,
        "start_time": "2023-04-20T10:51:31.765Z"
      },
      {
        "duration": 6,
        "start_time": "2023-04-20T10:51:31.822Z"
      },
      {
        "duration": 44,
        "start_time": "2023-04-20T10:51:31.830Z"
      },
      {
        "duration": 943378,
        "start_time": "2023-04-20T10:51:31.876Z"
      },
      {
        "duration": 7,
        "start_time": "2023-04-20T11:07:15.256Z"
      },
      {
        "duration": 6,
        "start_time": "2023-04-20T11:07:15.265Z"
      },
      {
        "duration": 1049,
        "start_time": "2023-04-20T11:07:15.274Z"
      },
      {
        "duration": 129,
        "start_time": "2023-04-20T11:07:16.325Z"
      },
      {
        "duration": 18,
        "start_time": "2023-04-20T11:07:16.465Z"
      },
      {
        "duration": 1309,
        "start_time": "2023-04-20T11:07:16.485Z"
      },
      {
        "duration": 523,
        "start_time": "2023-04-20T11:07:17.801Z"
      },
      {
        "duration": 22,
        "start_time": "2023-04-20T11:07:18.326Z"
      },
      {
        "duration": 48,
        "start_time": "2023-04-20T11:07:18.355Z"
      },
      {
        "duration": 19,
        "start_time": "2023-04-20T11:07:18.408Z"
      },
      {
        "duration": 6676,
        "start_time": "2023-04-20T11:09:07.686Z"
      },
      {
        "duration": 3390,
        "start_time": "2023-04-20T11:09:14.365Z"
      },
      {
        "duration": 6,
        "start_time": "2023-04-20T11:09:17.758Z"
      },
      {
        "duration": 17080,
        "start_time": "2023-04-20T11:09:17.766Z"
      },
      {
        "duration": 3,
        "start_time": "2023-04-20T11:09:34.848Z"
      },
      {
        "duration": 5,
        "start_time": "2023-04-20T11:09:34.853Z"
      },
      {
        "duration": 4,
        "start_time": "2023-04-20T11:09:34.860Z"
      },
      {
        "duration": 182,
        "start_time": "2023-04-20T11:09:34.867Z"
      },
      {
        "duration": 187,
        "start_time": "2023-04-20T11:09:35.051Z"
      },
      {
        "duration": 10,
        "start_time": "2023-04-20T11:09:35.241Z"
      },
      {
        "duration": 30,
        "start_time": "2023-04-20T11:09:35.253Z"
      },
      {
        "duration": 40,
        "start_time": "2023-04-20T11:09:35.287Z"
      },
      {
        "duration": 16,
        "start_time": "2023-04-20T11:09:35.329Z"
      },
      {
        "duration": 144,
        "start_time": "2023-04-20T11:09:35.347Z"
      },
      {
        "duration": 147,
        "start_time": "2023-04-20T11:09:35.499Z"
      },
      {
        "duration": 112,
        "start_time": "2023-04-20T11:09:35.648Z"
      },
      {
        "duration": 4,
        "start_time": "2023-04-20T11:09:35.762Z"
      },
      {
        "duration": 482,
        "start_time": "2023-04-20T11:09:35.768Z"
      },
      {
        "duration": 4,
        "start_time": "2023-04-20T11:09:36.252Z"
      },
      {
        "duration": 3769,
        "start_time": "2023-04-20T11:09:36.258Z"
      },
      {
        "duration": 223,
        "start_time": "2023-04-20T11:09:40.032Z"
      },
      {
        "duration": 11,
        "start_time": "2023-04-20T11:09:40.258Z"
      },
      {
        "duration": 70,
        "start_time": "2023-04-20T11:09:40.272Z"
      },
      {
        "duration": 420,
        "start_time": "2023-04-20T11:09:40.345Z"
      },
      {
        "duration": 464,
        "start_time": "2023-04-20T11:09:40.767Z"
      },
      {
        "duration": 201,
        "start_time": "2023-04-20T11:09:41.233Z"
      },
      {
        "duration": 50,
        "start_time": "2023-04-20T11:09:41.436Z"
      },
      {
        "duration": 59,
        "start_time": "2023-04-20T11:09:41.498Z"
      },
      {
        "duration": 79,
        "start_time": "2023-04-20T11:09:41.560Z"
      },
      {
        "duration": 17,
        "start_time": "2023-04-20T11:09:41.641Z"
      },
      {
        "duration": 30,
        "start_time": "2023-04-20T11:09:41.660Z"
      },
      {
        "duration": 3851,
        "start_time": "2023-04-20T11:09:41.692Z"
      },
      {
        "duration": 9,
        "start_time": "2023-04-20T11:09:45.545Z"
      },
      {
        "duration": 575,
        "start_time": "2023-04-20T11:09:45.556Z"
      },
      {
        "duration": 19,
        "start_time": "2023-04-20T11:09:46.133Z"
      },
      {
        "duration": 252,
        "start_time": "2023-04-20T11:09:46.155Z"
      },
      {
        "duration": 246,
        "start_time": "2023-04-20T11:09:46.410Z"
      },
      {
        "duration": 2971,
        "start_time": "2023-04-20T11:09:46.661Z"
      },
      {
        "duration": 13,
        "start_time": "2023-04-20T11:09:49.650Z"
      },
      {
        "duration": 148,
        "start_time": "2023-04-20T11:09:49.664Z"
      },
      {
        "duration": 619,
        "start_time": "2023-04-20T11:09:49.815Z"
      },
      {
        "duration": 13,
        "start_time": "2023-04-20T11:09:50.437Z"
      },
      {
        "duration": 183,
        "start_time": "2023-04-20T11:09:50.455Z"
      },
      {
        "duration": 3814,
        "start_time": "2023-04-20T11:09:50.644Z"
      },
      {
        "duration": 9,
        "start_time": "2023-04-20T11:09:54.461Z"
      },
      {
        "duration": 197,
        "start_time": "2023-04-20T11:09:54.472Z"
      },
      {
        "duration": 9940,
        "start_time": "2023-04-20T11:09:54.671Z"
      },
      {
        "duration": 20,
        "start_time": "2023-04-20T11:10:04.613Z"
      },
      {
        "duration": 165,
        "start_time": "2023-04-20T11:10:04.635Z"
      },
      {
        "duration": 5236,
        "start_time": "2023-04-20T11:10:04.802Z"
      },
      {
        "duration": 10,
        "start_time": "2023-04-20T11:10:10.040Z"
      },
      {
        "duration": 146,
        "start_time": "2023-04-20T11:10:10.052Z"
      },
      {
        "duration": 3017,
        "start_time": "2023-04-20T11:10:10.214Z"
      },
      {
        "duration": 12,
        "start_time": "2023-04-20T11:10:13.233Z"
      },
      {
        "duration": 154,
        "start_time": "2023-04-20T11:10:13.247Z"
      },
      {
        "duration": 3725,
        "start_time": "2023-04-20T11:10:13.402Z"
      },
      {
        "duration": 12,
        "start_time": "2023-04-20T11:10:17.129Z"
      },
      {
        "duration": 492,
        "start_time": "2023-04-20T11:10:17.144Z"
      },
      {
        "duration": 1133,
        "start_time": "2023-04-20T11:10:17.639Z"
      },
      {
        "duration": 77,
        "start_time": "2023-04-20T11:10:18.774Z"
      },
      {
        "duration": 88,
        "start_time": "2023-04-20T11:10:18.853Z"
      },
      {
        "duration": 28,
        "start_time": "2023-04-20T11:10:18.943Z"
      },
      {
        "duration": 4,
        "start_time": "2023-04-20T11:10:18.990Z"
      },
      {
        "duration": 18,
        "start_time": "2023-04-20T11:10:18.996Z"
      },
      {
        "duration": 692,
        "start_time": "2023-04-20T11:10:19.016Z"
      },
      {
        "duration": 16,
        "start_time": "2023-04-20T11:10:19.720Z"
      },
      {
        "duration": 15,
        "start_time": "2023-04-20T11:10:19.738Z"
      },
      {
        "duration": 11,
        "start_time": "2023-04-20T11:10:19.756Z"
      },
      {
        "duration": 97,
        "start_time": "2023-04-20T11:10:19.769Z"
      },
      {
        "duration": 56,
        "start_time": "2023-04-20T11:10:19.868Z"
      },
      {
        "duration": 37,
        "start_time": "2023-04-20T11:10:19.925Z"
      },
      {
        "duration": 13,
        "start_time": "2023-04-20T11:10:19.964Z"
      },
      {
        "duration": 36,
        "start_time": "2023-04-20T11:10:19.980Z"
      },
      {
        "duration": 19,
        "start_time": "2023-04-20T11:10:20.018Z"
      },
      {
        "duration": 113,
        "start_time": "2023-04-20T11:10:20.040Z"
      },
      {
        "duration": 4,
        "start_time": "2023-04-20T11:10:20.155Z"
      },
      {
        "duration": 9,
        "start_time": "2023-04-20T11:10:20.161Z"
      },
      {
        "duration": 50,
        "start_time": "2023-04-20T11:10:20.172Z"
      },
      {
        "duration": 246,
        "start_time": "2023-04-20T11:10:20.227Z"
      },
      {
        "duration": 9,
        "start_time": "2023-04-20T11:10:20.475Z"
      },
      {
        "duration": 33,
        "start_time": "2023-04-20T11:10:20.496Z"
      },
      {
        "duration": 34,
        "start_time": "2023-04-20T11:10:20.538Z"
      },
      {
        "duration": 59,
        "start_time": "2023-04-20T11:10:20.574Z"
      },
      {
        "duration": 51,
        "start_time": "2023-04-20T11:10:20.635Z"
      },
      {
        "duration": 11,
        "start_time": "2023-04-20T11:10:20.688Z"
      },
      {
        "duration": 22,
        "start_time": "2023-04-20T11:10:20.702Z"
      },
      {
        "duration": 11,
        "start_time": "2023-04-20T11:10:20.726Z"
      },
      {
        "duration": 38,
        "start_time": "2023-04-20T11:10:20.745Z"
      },
      {
        "duration": 6,
        "start_time": "2023-04-20T11:10:20.789Z"
      },
      {
        "duration": 28,
        "start_time": "2023-04-20T11:10:20.797Z"
      },
      {
        "duration": 7,
        "start_time": "2023-04-20T11:10:20.832Z"
      },
      {
        "duration": 32,
        "start_time": "2023-04-20T11:10:20.843Z"
      },
      {
        "duration": 32,
        "start_time": "2023-04-20T11:10:20.877Z"
      },
      {
        "duration": 28,
        "start_time": "2023-04-20T11:10:20.911Z"
      },
      {
        "duration": 490,
        "start_time": "2023-04-20T11:10:20.944Z"
      },
      {
        "duration": 59,
        "start_time": "2023-04-20T11:10:21.443Z"
      },
      {
        "duration": 25,
        "start_time": "2023-04-20T11:10:21.504Z"
      },
      {
        "duration": 14,
        "start_time": "2023-04-20T11:10:21.532Z"
      },
      {
        "duration": 482406,
        "start_time": "2023-04-20T11:10:21.548Z"
      },
      {
        "duration": 10,
        "start_time": "2023-04-20T11:18:23.957Z"
      },
      {
        "duration": 14,
        "start_time": "2023-04-20T11:18:23.969Z"
      },
      {
        "duration": 925,
        "start_time": "2023-04-20T11:18:23.988Z"
      },
      {
        "duration": 108,
        "start_time": "2023-04-20T11:18:24.915Z"
      },
      {
        "duration": 18,
        "start_time": "2023-04-20T11:18:25.028Z"
      },
      {
        "duration": 1098,
        "start_time": "2023-04-20T11:18:25.048Z"
      },
      {
        "duration": 403,
        "start_time": "2023-04-20T11:18:26.149Z"
      },
      {
        "duration": 33,
        "start_time": "2023-04-20T11:18:26.554Z"
      },
      {
        "duration": 32,
        "start_time": "2023-04-20T11:18:26.589Z"
      },
      {
        "duration": 30,
        "start_time": "2023-04-20T11:18:26.631Z"
      },
      {
        "duration": 46,
        "start_time": "2023-04-20T12:33:32.860Z"
      },
      {
        "duration": 71,
        "start_time": "2023-04-20T12:47:23.217Z"
      },
      {
        "duration": 7180,
        "start_time": "2023-04-20T12:47:52.623Z"
      },
      {
        "duration": 2055,
        "start_time": "2023-04-20T12:47:59.805Z"
      },
      {
        "duration": 3,
        "start_time": "2023-04-20T12:48:01.862Z"
      },
      {
        "duration": 7009,
        "start_time": "2023-04-20T12:48:01.867Z"
      },
      {
        "duration": 2,
        "start_time": "2023-04-20T12:48:08.878Z"
      },
      {
        "duration": 11,
        "start_time": "2023-04-20T12:48:08.882Z"
      },
      {
        "duration": 14,
        "start_time": "2023-04-20T12:48:08.894Z"
      },
      {
        "duration": 267,
        "start_time": "2023-04-20T12:48:08.909Z"
      },
      {
        "duration": 192,
        "start_time": "2023-04-20T12:48:09.177Z"
      },
      {
        "duration": 38,
        "start_time": "2023-04-20T12:48:09.370Z"
      },
      {
        "duration": 50,
        "start_time": "2023-04-20T12:48:09.410Z"
      },
      {
        "duration": 52,
        "start_time": "2023-04-20T12:48:09.461Z"
      },
      {
        "duration": 47,
        "start_time": "2023-04-20T12:48:09.514Z"
      },
      {
        "duration": 165,
        "start_time": "2023-04-20T12:48:09.564Z"
      },
      {
        "duration": 129,
        "start_time": "2023-04-20T12:48:09.730Z"
      },
      {
        "duration": 126,
        "start_time": "2023-04-20T12:48:09.861Z"
      },
      {
        "duration": 2,
        "start_time": "2023-04-20T12:48:09.989Z"
      },
      {
        "duration": 484,
        "start_time": "2023-04-20T12:48:09.993Z"
      },
      {
        "duration": 3,
        "start_time": "2023-04-20T12:48:10.479Z"
      },
      {
        "duration": 3221,
        "start_time": "2023-04-20T12:48:10.484Z"
      },
      {
        "duration": 227,
        "start_time": "2023-04-20T12:48:13.707Z"
      },
      {
        "duration": 48,
        "start_time": "2023-04-20T12:48:13.936Z"
      },
      {
        "duration": 43,
        "start_time": "2023-04-20T12:48:13.985Z"
      },
      {
        "duration": 458,
        "start_time": "2023-04-20T12:48:14.030Z"
      },
      {
        "duration": 474,
        "start_time": "2023-04-20T12:48:14.490Z"
      },
      {
        "duration": 204,
        "start_time": "2023-04-20T12:48:14.966Z"
      },
      {
        "duration": 88,
        "start_time": "2023-04-20T12:48:15.172Z"
      },
      {
        "duration": 72,
        "start_time": "2023-04-20T12:48:15.263Z"
      },
      {
        "duration": 86,
        "start_time": "2023-04-20T12:48:15.337Z"
      },
      {
        "duration": 65,
        "start_time": "2023-04-20T12:48:15.425Z"
      },
      {
        "duration": 48,
        "start_time": "2023-04-20T12:48:15.491Z"
      },
      {
        "duration": 3794,
        "start_time": "2023-04-20T12:48:15.541Z"
      },
      {
        "duration": 14,
        "start_time": "2023-04-20T12:48:19.340Z"
      },
      {
        "duration": 145,
        "start_time": "2023-04-20T12:48:19.356Z"
      },
      {
        "duration": 556,
        "start_time": "2023-04-20T12:48:19.503Z"
      },
      {
        "duration": 8,
        "start_time": "2023-04-20T12:48:20.061Z"
      },
      {
        "duration": 162,
        "start_time": "2023-04-20T12:48:20.071Z"
      },
      {
        "duration": 166,
        "start_time": "2023-04-20T12:48:20.235Z"
      },
      {
        "duration": 5246,
        "start_time": "2023-04-20T12:48:20.402Z"
      },
      {
        "duration": 7,
        "start_time": "2023-04-20T12:48:25.650Z"
      },
      {
        "duration": 105,
        "start_time": "2023-04-20T12:48:25.663Z"
      },
      {
        "duration": 596,
        "start_time": "2023-04-20T12:48:25.769Z"
      },
      {
        "duration": 7,
        "start_time": "2023-04-20T12:48:26.367Z"
      },
      {
        "duration": 110,
        "start_time": "2023-04-20T12:48:26.376Z"
      },
      {
        "duration": 5633,
        "start_time": "2023-04-20T12:48:26.488Z"
      },
      {
        "duration": 7,
        "start_time": "2023-04-20T12:48:32.122Z"
      },
      {
        "duration": 212,
        "start_time": "2023-04-20T12:48:32.130Z"
      },
      {
        "duration": 9922,
        "start_time": "2023-04-20T12:48:32.344Z"
      },
      {
        "duration": 8,
        "start_time": "2023-04-20T12:48:42.267Z"
      },
      {
        "duration": 144,
        "start_time": "2023-04-20T12:48:42.277Z"
      },
      {
        "duration": 9779,
        "start_time": "2023-04-20T12:48:42.422Z"
      },
      {
        "duration": 8,
        "start_time": "2023-04-20T12:48:52.203Z"
      },
      {
        "duration": 111,
        "start_time": "2023-04-20T12:48:52.213Z"
      },
      {
        "duration": 2946,
        "start_time": "2023-04-20T12:48:52.326Z"
      },
      {
        "duration": 8,
        "start_time": "2023-04-20T12:48:55.275Z"
      },
      {
        "duration": 152,
        "start_time": "2023-04-20T12:48:55.285Z"
      },
      {
        "duration": 5677,
        "start_time": "2023-04-20T12:48:55.439Z"
      },
      {
        "duration": 13,
        "start_time": "2023-04-20T12:49:01.118Z"
      },
      {
        "duration": 530,
        "start_time": "2023-04-20T12:49:01.133Z"
      },
      {
        "duration": 1001,
        "start_time": "2023-04-20T12:49:01.666Z"
      },
      {
        "duration": 52,
        "start_time": "2023-04-20T12:49:02.668Z"
      },
      {
        "duration": 96,
        "start_time": "2023-04-20T12:49:02.722Z"
      },
      {
        "duration": 82,
        "start_time": "2023-04-20T12:49:02.820Z"
      },
      {
        "duration": 4,
        "start_time": "2023-04-20T12:49:02.904Z"
      },
      {
        "duration": 51,
        "start_time": "2023-04-20T12:49:02.910Z"
      },
      {
        "duration": 510,
        "start_time": "2023-04-20T12:49:02.963Z"
      },
      {
        "duration": 11,
        "start_time": "2023-04-20T12:49:03.475Z"
      },
      {
        "duration": 8,
        "start_time": "2023-04-20T12:49:03.487Z"
      },
      {
        "duration": 27,
        "start_time": "2023-04-20T12:49:03.496Z"
      },
      {
        "duration": 87,
        "start_time": "2023-04-20T12:49:03.525Z"
      },
      {
        "duration": 26,
        "start_time": "2023-04-20T12:49:03.614Z"
      },
      {
        "duration": 35,
        "start_time": "2023-04-20T12:49:03.642Z"
      },
      {
        "duration": 13,
        "start_time": "2023-04-20T12:49:03.679Z"
      },
      {
        "duration": 30,
        "start_time": "2023-04-20T12:49:03.694Z"
      },
      {
        "duration": 35,
        "start_time": "2023-04-20T12:49:03.726Z"
      },
      {
        "duration": 89,
        "start_time": "2023-04-20T12:49:03.763Z"
      },
      {
        "duration": 3,
        "start_time": "2023-04-20T12:49:03.854Z"
      },
      {
        "duration": 37,
        "start_time": "2023-04-20T12:49:03.859Z"
      },
      {
        "duration": 27,
        "start_time": "2023-04-20T12:49:03.898Z"
      },
      {
        "duration": 176,
        "start_time": "2023-04-20T12:49:03.926Z"
      },
      {
        "duration": 4,
        "start_time": "2023-04-20T12:49:04.104Z"
      },
      {
        "duration": 47,
        "start_time": "2023-04-20T12:49:04.109Z"
      },
      {
        "duration": 33,
        "start_time": "2023-04-20T12:49:04.158Z"
      },
      {
        "duration": 56,
        "start_time": "2023-04-20T12:49:04.193Z"
      },
      {
        "duration": 41,
        "start_time": "2023-04-20T12:49:04.251Z"
      },
      {
        "duration": 37,
        "start_time": "2023-04-20T12:49:04.294Z"
      },
      {
        "duration": 41,
        "start_time": "2023-04-20T12:49:04.333Z"
      },
      {
        "duration": 20,
        "start_time": "2023-04-20T12:49:04.375Z"
      },
      {
        "duration": 69,
        "start_time": "2023-04-20T12:49:04.396Z"
      },
      {
        "duration": 36,
        "start_time": "2023-04-20T12:49:04.468Z"
      },
      {
        "duration": 39,
        "start_time": "2023-04-20T12:49:04.505Z"
      },
      {
        "duration": 32,
        "start_time": "2023-04-20T12:49:04.546Z"
      },
      {
        "duration": 19,
        "start_time": "2023-04-20T12:49:04.580Z"
      },
      {
        "duration": 26,
        "start_time": "2023-04-20T12:49:04.601Z"
      },
      {
        "duration": 34,
        "start_time": "2023-04-20T12:49:04.628Z"
      },
      {
        "duration": 396,
        "start_time": "2023-04-20T12:49:04.664Z"
      },
      {
        "duration": 42,
        "start_time": "2023-04-20T12:49:05.061Z"
      },
      {
        "duration": 5,
        "start_time": "2023-04-20T12:49:05.105Z"
      },
      {
        "duration": 86,
        "start_time": "2023-04-20T12:49:05.112Z"
      },
      {
        "duration": 1533378,
        "start_time": "2023-04-20T12:49:05.199Z"
      },
      {
        "duration": 836,
        "start_time": "2023-04-20T13:14:39.408Z"
      },
      {
        "duration": 297,
        "start_time": "2023-04-20T13:14:40.252Z"
      },
      {
        "duration": 17,
        "start_time": "2023-04-20T13:14:40.553Z"
      },
      {
        "duration": 26,
        "start_time": "2023-04-20T13:14:40.571Z"
      },
      {
        "duration": 12,
        "start_time": "2023-04-20T13:14:40.599Z"
      },
      {
        "duration": 10,
        "start_time": "2023-04-20T13:14:40.638Z"
      },
      {
        "duration": 22,
        "start_time": "2023-04-20T13:14:40.650Z"
      },
      {
        "duration": 702,
        "start_time": "2023-04-20T13:14:40.673Z"
      },
      {
        "duration": 98,
        "start_time": "2023-04-20T13:14:41.377Z"
      },
      {
        "duration": 11,
        "start_time": "2023-04-20T13:14:41.477Z"
      },
      {
        "duration": 5,
        "start_time": "2023-04-20T13:14:55.161Z"
      },
      {
        "duration": 3,
        "start_time": "2023-04-20T13:14:55.280Z"
      },
      {
        "duration": 631,
        "start_time": "2023-04-20T13:14:55.400Z"
      },
      {
        "duration": 88,
        "start_time": "2023-04-20T13:14:56.033Z"
      },
      {
        "duration": 23,
        "start_time": "2023-04-20T13:14:56.123Z"
      },
      {
        "duration": 3,
        "start_time": "2023-04-20T13:14:59.889Z"
      },
      {
        "duration": 8320,
        "start_time": "2023-04-20T13:15:00.051Z"
      },
      {
        "duration": 1101,
        "start_time": "2023-04-20T13:15:08.374Z"
      },
      {
        "duration": 13,
        "start_time": "2023-04-20T13:15:09.477Z"
      },
      {
        "duration": 2,
        "start_time": "2023-04-20T13:15:16.564Z"
      },
      {
        "duration": 2,
        "start_time": "2023-04-20T13:15:22.290Z"
      },
      {
        "duration": 5485,
        "start_time": "2023-04-20T13:15:22.561Z"
      },
      {
        "duration": 532,
        "start_time": "2023-04-20T13:15:28.050Z"
      },
      {
        "duration": 10,
        "start_time": "2023-04-20T13:15:28.584Z"
      },
      {
        "duration": 6429,
        "start_time": "2023-04-20T13:15:43.882Z"
      },
      {
        "duration": 314,
        "start_time": "2023-04-20T13:15:58.792Z"
      },
      {
        "duration": 14,
        "start_time": "2023-04-20T13:16:01.912Z"
      },
      {
        "duration": 18,
        "start_time": "2023-04-20T13:16:02.282Z"
      },
      {
        "duration": 12,
        "start_time": "2023-04-20T13:16:02.617Z"
      },
      {
        "duration": 82,
        "start_time": "2023-04-20T13:47:57.084Z"
      },
      {
        "duration": 6,
        "start_time": "2023-04-20T13:48:25.853Z"
      },
      {
        "duration": 187081,
        "start_time": "2023-04-20T13:48:27.307Z"
      },
      {
        "duration": 54,
        "start_time": "2023-04-20T13:57:54.082Z"
      },
      {
        "duration": 9,
        "start_time": "2023-04-20T13:58:39.965Z"
      },
      {
        "duration": 0,
        "start_time": "2023-04-20T14:07:18.676Z"
      },
      {
        "duration": 0,
        "start_time": "2023-04-20T14:07:18.677Z"
      },
      {
        "duration": 57,
        "start_time": "2023-04-20T14:07:34.467Z"
      },
      {
        "duration": 64977,
        "start_time": "2023-04-20T14:07:35.690Z"
      },
      {
        "duration": 6,
        "start_time": "2023-04-20T14:08:47.969Z"
      },
      {
        "duration": 632038,
        "start_time": "2023-04-20T14:08:50.890Z"
      },
      {
        "duration": 0,
        "start_time": "2023-04-20T14:19:22.929Z"
      },
      {
        "duration": 4977,
        "start_time": "2023-04-20T14:19:29.969Z"
      },
      {
        "duration": 1936,
        "start_time": "2023-04-20T14:19:34.949Z"
      },
      {
        "duration": 4,
        "start_time": "2023-04-20T14:19:36.886Z"
      },
      {
        "duration": 10670,
        "start_time": "2023-04-20T14:19:36.892Z"
      },
      {
        "duration": 3,
        "start_time": "2023-04-20T14:19:47.564Z"
      },
      {
        "duration": 13,
        "start_time": "2023-04-20T14:19:47.569Z"
      },
      {
        "duration": 16,
        "start_time": "2023-04-20T14:19:47.583Z"
      },
      {
        "duration": 282,
        "start_time": "2023-04-20T14:19:47.601Z"
      },
      {
        "duration": 195,
        "start_time": "2023-04-20T14:19:47.885Z"
      },
      {
        "duration": 38,
        "start_time": "2023-04-20T14:19:48.083Z"
      },
      {
        "duration": 68,
        "start_time": "2023-04-20T14:19:48.123Z"
      },
      {
        "duration": 69,
        "start_time": "2023-04-20T14:19:48.193Z"
      },
      {
        "duration": 38,
        "start_time": "2023-04-20T14:19:48.264Z"
      },
      {
        "duration": 173,
        "start_time": "2023-04-20T14:19:48.303Z"
      },
      {
        "duration": 118,
        "start_time": "2023-04-20T14:19:48.478Z"
      },
      {
        "duration": 127,
        "start_time": "2023-04-20T14:19:48.598Z"
      },
      {
        "duration": 3,
        "start_time": "2023-04-20T14:19:48.726Z"
      },
      {
        "duration": 507,
        "start_time": "2023-04-20T14:19:48.731Z"
      },
      {
        "duration": 3,
        "start_time": "2023-04-20T14:19:49.239Z"
      },
      {
        "duration": 3036,
        "start_time": "2023-04-20T14:19:49.244Z"
      },
      {
        "duration": 226,
        "start_time": "2023-04-20T14:19:52.281Z"
      },
      {
        "duration": 54,
        "start_time": "2023-04-20T14:19:52.509Z"
      },
      {
        "duration": 40,
        "start_time": "2023-04-20T14:19:52.565Z"
      },
      {
        "duration": 453,
        "start_time": "2023-04-20T14:19:52.607Z"
      },
      {
        "duration": 444,
        "start_time": "2023-04-20T14:19:53.061Z"
      },
      {
        "duration": 190,
        "start_time": "2023-04-20T14:19:53.506Z"
      },
      {
        "duration": 81,
        "start_time": "2023-04-20T14:19:53.698Z"
      },
      {
        "duration": 88,
        "start_time": "2023-04-20T14:19:53.784Z"
      },
      {
        "duration": 87,
        "start_time": "2023-04-20T14:19:53.873Z"
      },
      {
        "duration": 39,
        "start_time": "2023-04-20T14:19:53.962Z"
      },
      {
        "duration": 69,
        "start_time": "2023-04-20T14:19:54.003Z"
      },
      {
        "duration": 545,
        "start_time": "2023-04-20T14:19:54.074Z"
      },
      {
        "duration": 8,
        "start_time": "2023-04-20T14:19:54.620Z"
      },
      {
        "duration": 188,
        "start_time": "2023-04-20T14:19:54.630Z"
      },
      {
        "duration": 3150,
        "start_time": "2023-04-20T14:19:54.821Z"
      },
      {
        "duration": 8,
        "start_time": "2023-04-20T14:19:57.972Z"
      },
      {
        "duration": 143,
        "start_time": "2023-04-20T14:19:57.981Z"
      },
      {
        "duration": 167,
        "start_time": "2023-04-20T14:19:58.125Z"
      },
      {
        "duration": 5180,
        "start_time": "2023-04-20T14:19:58.293Z"
      },
      {
        "duration": 7,
        "start_time": "2023-04-20T14:20:03.475Z"
      },
      {
        "duration": 127,
        "start_time": "2023-04-20T14:20:03.484Z"
      },
      {
        "duration": 575,
        "start_time": "2023-04-20T14:20:03.613Z"
      },
      {
        "duration": 7,
        "start_time": "2023-04-20T14:20:04.189Z"
      },
      {
        "duration": 149,
        "start_time": "2023-04-20T14:20:04.197Z"
      },
      {
        "duration": 3820,
        "start_time": "2023-04-20T14:20:04.351Z"
      },
      {
        "duration": 8,
        "start_time": "2023-04-20T14:20:08.172Z"
      },
      {
        "duration": 170,
        "start_time": "2023-04-20T14:20:08.181Z"
      },
      {
        "duration": 6354,
        "start_time": "2023-04-20T14:20:08.353Z"
      },
      {
        "duration": 10,
        "start_time": "2023-04-20T14:20:14.709Z"
      },
      {
        "duration": 287,
        "start_time": "2023-04-20T14:20:14.720Z"
      },
      {
        "duration": 6491,
        "start_time": "2023-04-20T14:20:15.008Z"
      },
      {
        "duration": 7,
        "start_time": "2023-04-20T14:20:21.501Z"
      },
      {
        "duration": 128,
        "start_time": "2023-04-20T14:20:21.511Z"
      },
      {
        "duration": 7214,
        "start_time": "2023-04-20T14:20:21.641Z"
      },
      {
        "duration": 7,
        "start_time": "2023-04-20T14:20:28.858Z"
      },
      {
        "duration": 110,
        "start_time": "2023-04-20T14:20:28.867Z"
      },
      {
        "duration": 7291,
        "start_time": "2023-04-20T14:20:28.978Z"
      },
      {
        "duration": 7,
        "start_time": "2023-04-20T14:20:36.271Z"
      },
      {
        "duration": 521,
        "start_time": "2023-04-20T14:20:36.280Z"
      },
      {
        "duration": 1037,
        "start_time": "2023-04-20T14:20:36.804Z"
      },
      {
        "duration": 64,
        "start_time": "2023-04-20T14:20:37.843Z"
      },
      {
        "duration": 86,
        "start_time": "2023-04-20T14:20:37.909Z"
      },
      {
        "duration": 23,
        "start_time": "2023-04-20T14:20:37.997Z"
      },
      {
        "duration": 17,
        "start_time": "2023-04-20T14:20:38.022Z"
      },
      {
        "duration": 43,
        "start_time": "2023-04-20T14:20:38.041Z"
      },
      {
        "duration": 556,
        "start_time": "2023-04-20T14:20:38.085Z"
      },
      {
        "duration": 16,
        "start_time": "2023-04-20T14:20:38.644Z"
      },
      {
        "duration": 8,
        "start_time": "2023-04-20T14:20:38.665Z"
      },
      {
        "duration": 16,
        "start_time": "2023-04-20T14:20:38.675Z"
      },
      {
        "duration": 88,
        "start_time": "2023-04-20T14:20:38.692Z"
      },
      {
        "duration": 24,
        "start_time": "2023-04-20T14:20:38.781Z"
      },
      {
        "duration": 38,
        "start_time": "2023-04-20T14:20:38.807Z"
      },
      {
        "duration": 4,
        "start_time": "2023-04-20T14:20:38.847Z"
      },
      {
        "duration": 14,
        "start_time": "2023-04-20T14:20:38.853Z"
      },
      {
        "duration": 9,
        "start_time": "2023-04-20T14:20:38.868Z"
      },
      {
        "duration": 47,
        "start_time": "2023-04-20T14:20:38.878Z"
      },
      {
        "duration": 2,
        "start_time": "2023-04-20T14:20:38.926Z"
      },
      {
        "duration": 34,
        "start_time": "2023-04-20T14:20:38.930Z"
      },
      {
        "duration": 6,
        "start_time": "2023-04-20T14:20:38.965Z"
      },
      {
        "duration": 165,
        "start_time": "2023-04-20T14:20:38.972Z"
      },
      {
        "duration": 5,
        "start_time": "2023-04-20T14:20:39.140Z"
      },
      {
        "duration": 20,
        "start_time": "2023-04-20T14:20:39.154Z"
      },
      {
        "duration": 33,
        "start_time": "2023-04-20T14:20:39.175Z"
      },
      {
        "duration": 45,
        "start_time": "2023-04-20T14:20:39.210Z"
      },
      {
        "duration": 7,
        "start_time": "2023-04-20T14:20:39.257Z"
      },
      {
        "duration": 19,
        "start_time": "2023-04-20T14:20:39.266Z"
      },
      {
        "duration": 21,
        "start_time": "2023-04-20T14:20:39.286Z"
      },
      {
        "duration": 10,
        "start_time": "2023-04-20T14:20:39.309Z"
      },
      {
        "duration": 48,
        "start_time": "2023-04-20T14:20:39.320Z"
      },
      {
        "duration": 4,
        "start_time": "2023-04-20T14:20:39.370Z"
      },
      {
        "duration": 6,
        "start_time": "2023-04-20T14:20:39.375Z"
      },
      {
        "duration": 9,
        "start_time": "2023-04-20T14:20:39.382Z"
      },
      {
        "duration": 12,
        "start_time": "2023-04-20T14:20:39.392Z"
      },
      {
        "duration": 9,
        "start_time": "2023-04-20T14:20:39.405Z"
      },
      {
        "duration": 14,
        "start_time": "2023-04-20T14:20:39.415Z"
      },
      {
        "duration": 368,
        "start_time": "2023-04-20T14:20:39.439Z"
      },
      {
        "duration": 46,
        "start_time": "2023-04-20T14:20:39.809Z"
      },
      {
        "duration": 7,
        "start_time": "2023-04-20T14:20:39.857Z"
      },
      {
        "duration": 7,
        "start_time": "2023-04-20T14:20:39.866Z"
      },
      {
        "duration": 1922015,
        "start_time": "2023-04-20T14:20:39.874Z"
      },
      {
        "duration": 0,
        "start_time": "2023-04-20T14:52:41.892Z"
      },
      {
        "duration": 0,
        "start_time": "2023-04-20T14:52:41.893Z"
      },
      {
        "duration": 0,
        "start_time": "2023-04-20T14:52:41.898Z"
      },
      {
        "duration": 0,
        "start_time": "2023-04-20T14:52:41.899Z"
      },
      {
        "duration": 0,
        "start_time": "2023-04-20T14:52:41.900Z"
      },
      {
        "duration": 0,
        "start_time": "2023-04-20T14:52:41.901Z"
      },
      {
        "duration": 0,
        "start_time": "2023-04-20T14:52:41.902Z"
      },
      {
        "duration": 0,
        "start_time": "2023-04-20T14:52:41.904Z"
      },
      {
        "duration": 0,
        "start_time": "2023-04-20T14:52:41.905Z"
      },
      {
        "duration": 0,
        "start_time": "2023-04-20T14:52:41.907Z"
      },
      {
        "duration": 0,
        "start_time": "2023-04-20T14:52:41.908Z"
      },
      {
        "duration": 4018108,
        "start_time": "2023-04-20T14:52:46.313Z"
      },
      {
        "duration": 9,
        "start_time": "2023-04-20T17:57:08.928Z"
      },
      {
        "duration": 3,
        "start_time": "2023-04-20T17:57:09.215Z"
      },
      {
        "duration": 5830,
        "start_time": "2023-04-20T17:57:09.511Z"
      },
      {
        "duration": 559,
        "start_time": "2023-04-20T17:57:15.350Z"
      },
      {
        "duration": 12,
        "start_time": "2023-04-20T17:57:15.910Z"
      },
      {
        "duration": 4,
        "start_time": "2023-04-20T17:57:49.260Z"
      },
      {
        "duration": 1066,
        "start_time": "2023-04-20T17:57:49.477Z"
      },
      {
        "duration": 127,
        "start_time": "2023-04-20T17:57:50.551Z"
      },
      {
        "duration": 13,
        "start_time": "2023-04-20T17:57:52.471Z"
      },
      {
        "duration": 8,
        "start_time": "2023-04-20T17:58:20.031Z"
      },
      {
        "duration": 692,
        "start_time": "2023-04-20T17:58:20.678Z"
      },
      {
        "duration": 97,
        "start_time": "2023-04-20T17:58:21.372Z"
      },
      {
        "duration": 12,
        "start_time": "2023-04-20T17:58:21.470Z"
      },
      {
        "duration": 3,
        "start_time": "2023-04-20T17:58:27.525Z"
      },
      {
        "duration": 5535,
        "start_time": "2023-04-20T17:58:27.719Z"
      },
      {
        "duration": 520,
        "start_time": "2023-04-20T17:58:33.261Z"
      },
      {
        "duration": 12,
        "start_time": "2023-04-20T17:58:33.783Z"
      },
      {
        "duration": 52,
        "start_time": "2023-04-20T17:59:15.868Z"
      },
      {
        "duration": 33,
        "start_time": "2023-04-20T17:59:21.076Z"
      },
      {
        "duration": 485,
        "start_time": "2023-04-20T18:07:24.009Z"
      },
      {
        "duration": 2,
        "start_time": "2023-04-20T18:07:53.810Z"
      },
      {
        "duration": 3,
        "start_time": "2023-04-20T18:11:43.127Z"
      },
      {
        "duration": 4,
        "start_time": "2023-04-20T18:11:51.974Z"
      },
      {
        "duration": 3,
        "start_time": "2023-04-20T18:11:59.280Z"
      },
      {
        "duration": 59,
        "start_time": "2023-04-20T18:18:04.290Z"
      },
      {
        "duration": 4,
        "start_time": "2023-04-20T18:18:13.426Z"
      },
      {
        "duration": 3,
        "start_time": "2023-04-20T18:18:13.684Z"
      },
      {
        "duration": 37,
        "start_time": "2023-04-20T18:18:13.978Z"
      },
      {
        "duration": 32,
        "start_time": "2023-04-20T18:19:55.083Z"
      },
      {
        "duration": 33,
        "start_time": "2023-04-20T18:20:04.971Z"
      },
      {
        "duration": 4,
        "start_time": "2023-04-20T18:20:15.312Z"
      },
      {
        "duration": 3,
        "start_time": "2023-04-20T18:20:20.576Z"
      },
      {
        "duration": 5,
        "start_time": "2023-04-20T18:20:21.274Z"
      },
      {
        "duration": 35,
        "start_time": "2023-04-20T18:20:23.074Z"
      },
      {
        "duration": 52,
        "start_time": "2023-04-20T18:21:28.540Z"
      },
      {
        "duration": 55,
        "start_time": "2023-04-20T18:22:00.320Z"
      },
      {
        "duration": 1591,
        "start_time": "2023-04-20T18:22:15.020Z"
      },
      {
        "duration": 80,
        "start_time": "2023-04-20T18:22:34.614Z"
      },
      {
        "duration": 5,
        "start_time": "2023-04-20T18:23:40.324Z"
      },
      {
        "duration": 16,
        "start_time": "2023-04-20T18:23:46.192Z"
      },
      {
        "duration": 3,
        "start_time": "2023-04-20T18:24:00.526Z"
      },
      {
        "duration": 6,
        "start_time": "2023-04-20T18:24:05.378Z"
      },
      {
        "duration": 5,
        "start_time": "2023-04-20T18:24:09.778Z"
      },
      {
        "duration": 34,
        "start_time": "2023-04-20T18:25:01.477Z"
      },
      {
        "duration": 11,
        "start_time": "2023-04-20T18:25:55.580Z"
      },
      {
        "duration": 34,
        "start_time": "2023-04-20T18:26:03.658Z"
      },
      {
        "duration": 2,
        "start_time": "2023-04-20T18:27:06.387Z"
      },
      {
        "duration": 25,
        "start_time": "2023-04-20T18:27:26.925Z"
      },
      {
        "duration": 16,
        "start_time": "2023-04-20T18:27:39.605Z"
      },
      {
        "duration": 16,
        "start_time": "2023-04-20T18:27:48.484Z"
      },
      {
        "duration": 23,
        "start_time": "2023-04-20T18:27:50.781Z"
      },
      {
        "duration": 16,
        "start_time": "2023-04-20T18:27:53.588Z"
      },
      {
        "duration": 20,
        "start_time": "2023-04-20T18:30:15.097Z"
      },
      {
        "duration": 4,
        "start_time": "2023-04-20T18:30:17.614Z"
      },
      {
        "duration": 11,
        "start_time": "2023-04-20T18:30:26.898Z"
      },
      {
        "duration": 13,
        "start_time": "2023-04-20T18:30:31.180Z"
      },
      {
        "duration": 11,
        "start_time": "2023-04-20T18:30:33.588Z"
      },
      {
        "duration": 9,
        "start_time": "2023-04-20T18:31:20.809Z"
      },
      {
        "duration": 17,
        "start_time": "2023-04-20T18:32:16.305Z"
      },
      {
        "duration": 6,
        "start_time": "2023-04-20T18:32:29.906Z"
      },
      {
        "duration": 6,
        "start_time": "2023-04-20T18:32:47.482Z"
      },
      {
        "duration": 16,
        "start_time": "2023-04-20T18:39:57.209Z"
      },
      {
        "duration": 2,
        "start_time": "2023-04-20T18:40:06.713Z"
      },
      {
        "duration": 26,
        "start_time": "2023-04-20T18:40:07.772Z"
      },
      {
        "duration": 11,
        "start_time": "2023-04-20T18:40:20.674Z"
      },
      {
        "duration": 57,
        "start_time": "2023-04-20T18:40:25.354Z"
      },
      {
        "duration": 12,
        "start_time": "2023-04-20T18:41:03.296Z"
      },
      {
        "duration": 27,
        "start_time": "2023-04-20T18:41:04.223Z"
      },
      {
        "duration": 6,
        "start_time": "2023-04-20T18:43:01.771Z"
      },
      {
        "duration": 82579,
        "start_time": "2023-04-20T18:44:40.864Z"
      },
      {
        "duration": 3,
        "start_time": "2023-04-20T19:07:29.114Z"
      },
      {
        "duration": 5483,
        "start_time": "2023-04-20T19:07:34.388Z"
      },
      {
        "duration": 365,
        "start_time": "2023-04-20T19:07:48.995Z"
      },
      {
        "duration": 15,
        "start_time": "2023-04-20T19:07:49.906Z"
      },
      {
        "duration": 16,
        "start_time": "2023-04-20T19:07:50.713Z"
      },
      {
        "duration": 3,
        "start_time": "2023-04-20T19:07:54.197Z"
      },
      {
        "duration": 5237,
        "start_time": "2023-04-20T19:07:55.007Z"
      },
      {
        "duration": 553,
        "start_time": "2023-04-20T19:08:00.248Z"
      },
      {
        "duration": 11,
        "start_time": "2023-04-20T19:08:00.802Z"
      },
      {
        "duration": 396,
        "start_time": "2023-04-20T19:09:33.509Z"
      },
      {
        "duration": 3,
        "start_time": "2023-04-20T19:15:48.411Z"
      },
      {
        "duration": 5349,
        "start_time": "2023-04-20T19:15:48.619Z"
      },
      {
        "duration": 523,
        "start_time": "2023-04-20T19:15:53.970Z"
      },
      {
        "duration": 11,
        "start_time": "2023-04-20T19:15:54.494Z"
      },
      {
        "duration": 5449,
        "start_time": "2023-04-20T20:30:01.941Z"
      },
      {
        "duration": 311,
        "start_time": "2023-04-20T20:30:36.429Z"
      },
      {
        "duration": 13,
        "start_time": "2023-04-20T20:30:37.397Z"
      },
      {
        "duration": 21,
        "start_time": "2023-04-20T20:30:38.254Z"
      },
      {
        "duration": 12,
        "start_time": "2023-04-20T20:30:38.685Z"
      },
      {
        "duration": 5951,
        "start_time": "2023-04-21T18:31:11.930Z"
      },
      {
        "duration": 2189,
        "start_time": "2023-04-21T18:31:17.886Z"
      },
      {
        "duration": 4,
        "start_time": "2023-04-21T18:31:20.077Z"
      },
      {
        "duration": 11934,
        "start_time": "2023-04-21T18:31:20.083Z"
      },
      {
        "duration": 3,
        "start_time": "2023-04-21T18:31:32.020Z"
      },
      {
        "duration": 7,
        "start_time": "2023-04-21T18:31:32.024Z"
      },
      {
        "duration": 4,
        "start_time": "2023-04-21T18:31:32.033Z"
      },
      {
        "duration": 61,
        "start_time": "2023-04-21T18:31:32.039Z"
      },
      {
        "duration": 180,
        "start_time": "2023-04-21T18:31:32.102Z"
      },
      {
        "duration": 12,
        "start_time": "2023-04-21T18:31:32.286Z"
      },
      {
        "duration": 27,
        "start_time": "2023-04-21T18:31:32.300Z"
      },
      {
        "duration": 30,
        "start_time": "2023-04-21T18:31:32.329Z"
      },
      {
        "duration": 15,
        "start_time": "2023-04-21T18:31:32.361Z"
      },
      {
        "duration": 143,
        "start_time": "2023-04-21T18:31:32.378Z"
      },
      {
        "duration": 92,
        "start_time": "2023-04-21T18:31:32.523Z"
      },
      {
        "duration": 102,
        "start_time": "2023-04-21T18:31:32.617Z"
      },
      {
        "duration": 3,
        "start_time": "2023-04-21T18:31:32.720Z"
      },
      {
        "duration": 456,
        "start_time": "2023-04-21T18:31:32.725Z"
      },
      {
        "duration": 3,
        "start_time": "2023-04-21T18:31:33.183Z"
      },
      {
        "duration": 2910,
        "start_time": "2023-04-21T18:31:33.188Z"
      },
      {
        "duration": 207,
        "start_time": "2023-04-21T18:31:36.100Z"
      },
      {
        "duration": 14,
        "start_time": "2023-04-21T18:31:36.309Z"
      },
      {
        "duration": 15,
        "start_time": "2023-04-21T18:31:36.326Z"
      },
      {
        "duration": 433,
        "start_time": "2023-04-21T18:31:36.342Z"
      },
      {
        "duration": 437,
        "start_time": "2023-04-21T18:31:36.780Z"
      },
      {
        "duration": 169,
        "start_time": "2023-04-21T18:31:37.219Z"
      },
      {
        "duration": 163,
        "start_time": "2023-04-21T18:31:37.389Z"
      },
      {
        "duration": 48,
        "start_time": "2023-04-21T18:31:37.558Z"
      },
      {
        "duration": 45,
        "start_time": "2023-04-21T18:31:37.608Z"
      },
      {
        "duration": 21,
        "start_time": "2023-04-21T18:31:37.657Z"
      },
      {
        "duration": 33,
        "start_time": "2023-04-21T18:31:37.680Z"
      },
      {
        "duration": 3725,
        "start_time": "2023-04-21T18:31:37.715Z"
      },
      {
        "duration": 7,
        "start_time": "2023-04-21T18:31:41.443Z"
      },
      {
        "duration": 158,
        "start_time": "2023-04-21T18:31:41.452Z"
      },
      {
        "duration": 590,
        "start_time": "2023-04-21T18:31:41.612Z"
      },
      {
        "duration": 12,
        "start_time": "2023-04-21T18:31:42.204Z"
      },
      {
        "duration": 187,
        "start_time": "2023-04-21T18:31:42.219Z"
      },
      {
        "duration": 206,
        "start_time": "2023-04-21T18:31:42.409Z"
      },
      {
        "duration": 2950,
        "start_time": "2023-04-21T18:31:42.618Z"
      },
      {
        "duration": 12,
        "start_time": "2023-04-21T18:31:45.571Z"
      },
      {
        "duration": 132,
        "start_time": "2023-04-21T18:31:45.585Z"
      },
      {
        "duration": 569,
        "start_time": "2023-04-21T18:31:45.719Z"
      },
      {
        "duration": 9,
        "start_time": "2023-04-21T18:31:46.289Z"
      },
      {
        "duration": 137,
        "start_time": "2023-04-21T18:31:46.300Z"
      },
      {
        "duration": 3735,
        "start_time": "2023-04-21T18:31:46.440Z"
      },
      {
        "duration": 9,
        "start_time": "2023-04-21T18:31:50.179Z"
      },
      {
        "duration": 162,
        "start_time": "2023-04-21T18:31:50.190Z"
      },
      {
        "duration": 5823,
        "start_time": "2023-04-21T18:31:50.355Z"
      },
      {
        "duration": 8,
        "start_time": "2023-04-21T18:31:56.180Z"
      },
      {
        "duration": 131,
        "start_time": "2023-04-21T18:31:56.190Z"
      },
      {
        "duration": 9745,
        "start_time": "2023-04-21T18:31:56.323Z"
      },
      {
        "duration": 12,
        "start_time": "2023-04-21T18:32:06.071Z"
      },
      {
        "duration": 138,
        "start_time": "2023-04-21T18:32:06.086Z"
      },
      {
        "duration": 2910,
        "start_time": "2023-04-21T18:32:06.227Z"
      },
      {
        "duration": 7,
        "start_time": "2023-04-21T18:32:09.140Z"
      },
      {
        "duration": 150,
        "start_time": "2023-04-21T18:32:09.149Z"
      },
      {
        "duration": 3575,
        "start_time": "2023-04-21T18:32:09.301Z"
      },
      {
        "duration": 9,
        "start_time": "2023-04-21T18:32:12.880Z"
      },
      {
        "duration": 480,
        "start_time": "2023-04-21T18:32:12.891Z"
      },
      {
        "duration": 1139,
        "start_time": "2023-04-21T18:32:13.373Z"
      },
      {
        "duration": 78,
        "start_time": "2023-04-21T18:32:14.514Z"
      },
      {
        "duration": 107,
        "start_time": "2023-04-21T18:32:14.594Z"
      },
      {
        "duration": 26,
        "start_time": "2023-04-21T18:32:14.703Z"
      },
      {
        "duration": 2,
        "start_time": "2023-04-21T18:32:14.731Z"
      },
      {
        "duration": 37,
        "start_time": "2023-04-21T18:32:14.735Z"
      },
      {
        "duration": 611,
        "start_time": "2023-04-21T18:32:14.775Z"
      },
      {
        "duration": 16,
        "start_time": "2023-04-21T18:32:15.388Z"
      },
      {
        "duration": 9,
        "start_time": "2023-04-21T18:32:15.406Z"
      },
      {
        "duration": 10,
        "start_time": "2023-04-21T18:32:15.417Z"
      },
      {
        "duration": 70,
        "start_time": "2023-04-21T18:32:15.458Z"
      },
      {
        "duration": 54,
        "start_time": "2023-04-21T18:32:15.530Z"
      },
      {
        "duration": 44,
        "start_time": "2023-04-21T18:32:15.587Z"
      },
      {
        "duration": 4,
        "start_time": "2023-04-21T18:32:15.633Z"
      },
      {
        "duration": 18,
        "start_time": "2023-04-21T18:32:15.639Z"
      },
      {
        "duration": 7,
        "start_time": "2023-04-21T18:32:15.660Z"
      },
      {
        "duration": 69,
        "start_time": "2023-04-21T18:32:15.671Z"
      },
      {
        "duration": 2,
        "start_time": "2023-04-21T18:32:15.742Z"
      },
      {
        "duration": 15,
        "start_time": "2023-04-21T18:32:15.746Z"
      },
      {
        "duration": 16,
        "start_time": "2023-04-21T18:32:15.765Z"
      },
      {
        "duration": 208,
        "start_time": "2023-04-21T18:32:15.784Z"
      },
      {
        "duration": 5,
        "start_time": "2023-04-21T18:32:15.994Z"
      },
      {
        "duration": 8,
        "start_time": "2023-04-21T18:32:16.007Z"
      },
      {
        "duration": 13,
        "start_time": "2023-04-21T18:32:16.017Z"
      },
      {
        "duration": 56,
        "start_time": "2023-04-21T18:32:16.032Z"
      },
      {
        "duration": 3,
        "start_time": "2023-04-21T18:32:16.090Z"
      },
      {
        "duration": 6,
        "start_time": "2023-04-21T18:32:16.095Z"
      },
      {
        "duration": 4,
        "start_time": "2023-04-21T18:32:16.103Z"
      },
      {
        "duration": 7,
        "start_time": "2023-04-21T18:32:16.108Z"
      },
      {
        "duration": 70,
        "start_time": "2023-04-21T18:32:16.117Z"
      },
      {
        "duration": 4,
        "start_time": "2023-04-21T18:32:16.189Z"
      },
      {
        "duration": 4,
        "start_time": "2023-04-21T18:32:16.195Z"
      },
      {
        "duration": 6,
        "start_time": "2023-04-21T18:32:16.201Z"
      },
      {
        "duration": 5,
        "start_time": "2023-04-21T18:32:16.209Z"
      },
      {
        "duration": 4,
        "start_time": "2023-04-21T18:32:16.216Z"
      },
      {
        "duration": 24,
        "start_time": "2023-04-21T18:32:16.257Z"
      },
      {
        "duration": 372,
        "start_time": "2023-04-21T18:32:16.284Z"
      },
      {
        "duration": 45,
        "start_time": "2023-04-21T18:32:16.660Z"
      },
      {
        "duration": 7,
        "start_time": "2023-04-21T18:32:16.707Z"
      },
      {
        "duration": 6,
        "start_time": "2023-04-21T18:32:16.715Z"
      },
      {
        "duration": 258844,
        "start_time": "2023-04-21T18:32:16.724Z"
      },
      {
        "duration": 0,
        "start_time": "2023-04-21T18:36:35.572Z"
      },
      {
        "duration": 0,
        "start_time": "2023-04-21T18:36:35.573Z"
      },
      {
        "duration": 0,
        "start_time": "2023-04-21T18:36:35.574Z"
      },
      {
        "duration": 0,
        "start_time": "2023-04-21T18:36:35.576Z"
      },
      {
        "duration": 0,
        "start_time": "2023-04-21T18:36:35.577Z"
      },
      {
        "duration": 0,
        "start_time": "2023-04-21T18:36:35.579Z"
      },
      {
        "duration": 0,
        "start_time": "2023-04-21T18:36:35.580Z"
      },
      {
        "duration": 0,
        "start_time": "2023-04-21T18:36:35.582Z"
      },
      {
        "duration": 0,
        "start_time": "2023-04-21T18:36:35.583Z"
      },
      {
        "duration": 0,
        "start_time": "2023-04-21T18:36:35.585Z"
      },
      {
        "duration": 0,
        "start_time": "2023-04-21T18:36:35.586Z"
      },
      {
        "duration": 0,
        "start_time": "2023-04-21T18:36:35.588Z"
      },
      {
        "duration": 0,
        "start_time": "2023-04-21T18:36:35.593Z"
      },
      {
        "duration": 0,
        "start_time": "2023-04-21T18:36:35.595Z"
      },
      {
        "duration": 0,
        "start_time": "2023-04-21T18:36:35.597Z"
      },
      {
        "duration": 0,
        "start_time": "2023-04-21T18:36:35.602Z"
      },
      {
        "duration": 0,
        "start_time": "2023-04-21T18:36:35.604Z"
      }
    ],
    "kernelspec": {
      "display_name": "Python 3 (ipykernel)",
      "language": "python",
      "name": "python3"
    },
    "language_info": {
      "codemirror_mode": {
        "name": "ipython",
        "version": 3
      },
      "file_extension": ".py",
      "mimetype": "text/x-python",
      "name": "python",
      "nbconvert_exporter": "python",
      "pygments_lexer": "ipython3",
      "version": "3.9.5"
    },
    "toc": {
      "base_numbering": 1,
      "nav_menu": {},
      "number_sections": false,
      "sideBar": true,
      "skip_h1_title": false,
      "title_cell": "Table of Contents",
      "title_sidebar": "Contents",
      "toc_cell": false,
      "toc_position": {
        "height": "calc(100% - 180px)",
        "left": "10px",
        "top": "150px",
        "width": "371px"
      },
      "toc_section_display": true,
      "toc_window_display": true
    },
    "varInspector": {
      "cols": {
        "lenName": 16,
        "lenType": 16,
        "lenVar": 40
      },
      "kernels_config": {
        "python": {
          "delete_cmd_postfix": "",
          "delete_cmd_prefix": "del ",
          "library": "var_list.py",
          "varRefreshCmd": "print(var_dic_list())"
        },
        "r": {
          "delete_cmd_postfix": ") ",
          "delete_cmd_prefix": "rm(",
          "library": "var_list.r",
          "varRefreshCmd": "cat(var_dic_list()) "
        }
      },
      "types_to_exclude": [
        "module",
        "function",
        "builtin_function_or_method",
        "instance",
        "_Feature"
      ],
      "window_display": false
    },
    "colab": {
      "provenance": []
    }
  },
  "nbformat": 4,
  "nbformat_minor": 5
}