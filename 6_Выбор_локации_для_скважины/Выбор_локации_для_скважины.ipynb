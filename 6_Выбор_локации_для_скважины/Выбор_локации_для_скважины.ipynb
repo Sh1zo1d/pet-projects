{
  "cells": [
    {
      "cell_type": "markdown",
      "id": "80efc3f4",
      "metadata": {
        "id": "80efc3f4"
      },
      "source": [
        "# Содержание"
      ]
    },
    {
      "cell_type": "code",
      "execution_count": null,
      "id": "2a42faa3",
      "metadata": {
        "id": "2a42faa3",
        "outputId": "3b7a08eb-7475-4d8a-9530-0cc06a9938cc"
      },
      "outputs": [
        {
          "name": "stdout",
          "output_type": "stream",
          "text": [
            "Collecting pandas_profiling\n",
            "  Downloading pandas_profiling-3.3.0-py2.py3-none-any.whl (268 kB)\n",
            "\u001b[K     |████████████████████████████████| 268 kB 1.7 MB/s eta 0:00:01\n",
            "\u001b[?25hRequirement already satisfied: joblib~=1.1.0 in /opt/conda/lib/python3.9/site-packages (from pandas_profiling) (1.1.0)\n",
            "Requirement already satisfied: PyYAML<6.1,>=5.0.0 in /opt/conda/lib/python3.9/site-packages (from pandas_profiling) (6.0)\n",
            "Requirement already satisfied: tqdm<4.65,>=4.48.2 in /opt/conda/lib/python3.9/site-packages (from pandas_profiling) (4.61.2)\n",
            "Requirement already satisfied: seaborn<0.12,>=0.10.1 in /opt/conda/lib/python3.9/site-packages (from pandas_profiling) (0.11.1)\n",
            "Collecting htmlmin==0.1.12\n",
            "  Downloading htmlmin-0.1.12.tar.gz (19 kB)\n",
            "Collecting phik<0.13,>=0.11.1\n",
            "  Downloading phik-0.12.2-cp39-cp39-manylinux_2_17_x86_64.manylinux2014_x86_64.whl (709 kB)\n",
            "\u001b[K     |████████████████████████████████| 709 kB 22.3 MB/s eta 0:00:01\n",
            "\u001b[?25hRequirement already satisfied: statsmodels<0.14,>=0.13.2 in /opt/conda/lib/python3.9/site-packages (from pandas_profiling) (0.13.2)\n",
            "Requirement already satisfied: jinja2<3.2,>=2.11.1 in /opt/conda/lib/python3.9/site-packages (from pandas_profiling) (3.0.1)\n",
            "Requirement already satisfied: scipy<1.10,>=1.4.1 in /opt/conda/lib/python3.9/site-packages (from pandas_profiling) (1.9.1)\n",
            "Requirement already satisfied: matplotlib<3.6,>=3.2 in /opt/conda/lib/python3.9/site-packages (from pandas_profiling) (3.3.4)\n",
            "Collecting tangled-up-in-unicode==0.2.0\n",
            "  Downloading tangled_up_in_unicode-0.2.0-py3-none-any.whl (4.7 MB)\n",
            "\u001b[K     |████████████████████████████████| 4.7 MB 74.9 MB/s eta 0:00:01\n",
            "\u001b[?25hCollecting visions[type_image_path]==0.7.5\n",
            "  Downloading visions-0.7.5-py3-none-any.whl (102 kB)\n",
            "\u001b[K     |████████████████████████████████| 102 kB 4.8 MB/s eta 0:00:01\n",
            "\u001b[?25hCollecting missingno<0.6,>=0.4.2\n",
            "  Downloading missingno-0.5.1-py3-none-any.whl (8.7 kB)\n",
            "Requirement already satisfied: pandas!=1.4.0,<1.5,>1.1 in /opt/conda/lib/python3.9/site-packages (from pandas_profiling) (1.2.4)\n",
            "Requirement already satisfied: pydantic<1.10,>=1.8.1 in /opt/conda/lib/python3.9/site-packages (from pandas_profiling) (1.8.2)\n",
            "Requirement already satisfied: requests<2.29,>=2.24.0 in /opt/conda/lib/python3.9/site-packages (from pandas_profiling) (2.25.1)\n",
            "Requirement already satisfied: numpy<1.24,>=1.16.0 in /opt/conda/lib/python3.9/site-packages (from pandas_profiling) (1.21.1)\n",
            "Collecting multimethod<1.9,>=1.4\n",
            "  Downloading multimethod-1.8-py3-none-any.whl (9.8 kB)\n",
            "Requirement already satisfied: attrs>=19.3.0 in /opt/conda/lib/python3.9/site-packages (from visions[type_image_path]==0.7.5->pandas_profiling) (21.2.0)\n",
            "Collecting networkx>=2.4\n",
            "  Downloading networkx-2.8.7-py3-none-any.whl (2.0 MB)\n",
            "\u001b[K     |████████████████████████████████| 2.0 MB 101.3 MB/s eta 0:00:01\n",
            "\u001b[?25hCollecting imagehash\n",
            "  Downloading ImageHash-4.3.1-py2.py3-none-any.whl (296 kB)\n",
            "\u001b[K     |████████████████████████████████| 296 kB 103.3 MB/s eta 0:00:01\n",
            "\u001b[?25hRequirement already satisfied: Pillow in /opt/conda/lib/python3.9/site-packages (from visions[type_image_path]==0.7.5->pandas_profiling) (8.4.0)\n",
            "Requirement already satisfied: MarkupSafe>=2.0 in /opt/conda/lib/python3.9/site-packages (from jinja2<3.2,>=2.11.1->pandas_profiling) (2.1.1)\n",
            "Requirement already satisfied: python-dateutil>=2.1 in /opt/conda/lib/python3.9/site-packages (from matplotlib<3.6,>=3.2->pandas_profiling) (2.8.1)\n",
            "Requirement already satisfied: pyparsing!=2.0.4,!=2.1.2,!=2.1.6,>=2.0.3 in /opt/conda/lib/python3.9/site-packages (from matplotlib<3.6,>=3.2->pandas_profiling) (2.4.7)\n",
            "Requirement already satisfied: kiwisolver>=1.0.1 in /opt/conda/lib/python3.9/site-packages (from matplotlib<3.6,>=3.2->pandas_profiling) (1.4.4)\n",
            "Requirement already satisfied: cycler>=0.10 in /opt/conda/lib/python3.9/site-packages (from matplotlib<3.6,>=3.2->pandas_profiling) (0.11.0)\n",
            "Requirement already satisfied: pytz>=2017.3 in /opt/conda/lib/python3.9/site-packages (from pandas!=1.4.0,<1.5,>1.1->pandas_profiling) (2021.1)\n",
            "Requirement already satisfied: typing-extensions>=3.7.4.3 in /opt/conda/lib/python3.9/site-packages (from pydantic<1.10,>=1.8.1->pandas_profiling) (4.3.0)\n",
            "Requirement already satisfied: six>=1.5 in /opt/conda/lib/python3.9/site-packages (from python-dateutil>=2.1->matplotlib<3.6,>=3.2->pandas_profiling) (1.16.0)\n",
            "Requirement already satisfied: certifi>=2017.4.17 in /opt/conda/lib/python3.9/site-packages (from requests<2.29,>=2.24.0->pandas_profiling) (2022.6.15)\n",
            "Requirement already satisfied: urllib3<1.27,>=1.21.1 in /opt/conda/lib/python3.9/site-packages (from requests<2.29,>=2.24.0->pandas_profiling) (1.26.6)\n",
            "Requirement already satisfied: chardet<5,>=3.0.2 in /opt/conda/lib/python3.9/site-packages (from requests<2.29,>=2.24.0->pandas_profiling) (4.0.0)\n",
            "Requirement already satisfied: idna<3,>=2.5 in /opt/conda/lib/python3.9/site-packages (from requests<2.29,>=2.24.0->pandas_profiling) (2.10)\n",
            "Requirement already satisfied: patsy>=0.5.2 in /opt/conda/lib/python3.9/site-packages (from statsmodels<0.14,>=0.13.2->pandas_profiling) (0.5.2)\n",
            "Requirement already satisfied: packaging>=21.3 in /opt/conda/lib/python3.9/site-packages (from statsmodels<0.14,>=0.13.2->pandas_profiling) (21.3)\n",
            "Collecting PyWavelets\n",
            "  Downloading PyWavelets-1.4.1-cp39-cp39-manylinux_2_17_x86_64.manylinux2014_x86_64.whl (6.9 MB)\n",
            "\u001b[K     |████████████████████████████████| 6.9 MB 86.4 MB/s eta 0:00:01\n",
            "\u001b[?25hBuilding wheels for collected packages: htmlmin\n",
            "  Building wheel for htmlmin (setup.py) ... \u001b[?25ldone\n",
            "\u001b[?25h  Created wheel for htmlmin: filename=htmlmin-0.1.12-py3-none-any.whl size=27085 sha256=0717943e2b51077351c103f73da7cfc4b53737ae2c599980ab799f7fb8821ddb\n",
            "  Stored in directory: /home/jovyan/.cache/pip/wheels/1d/05/04/c6d7d3b66539d9e659ac6dfe81e2d0fd4c1a8316cc5a403300\n",
            "Successfully built htmlmin\n",
            "Installing collected packages: tangled-up-in-unicode, PyWavelets, networkx, multimethod, visions, imagehash, phik, missingno, htmlmin, pandas-profiling\n",
            "Successfully installed PyWavelets-1.4.1 htmlmin-0.1.12 imagehash-4.3.1 missingno-0.5.1 multimethod-1.8 networkx-2.8.7 pandas-profiling-3.3.0 phik-0.12.2 tangled-up-in-unicode-0.2.0 visions-0.7.5\n"
          ]
        }
      ],
      "source": [
        "!pip3 install pandas_profiling\n",
        "# !pip3 install pandas_profiling\n",
        "# !pip3 install --upgrade --user scikit-learn\n"
      ]
    },
    {
      "cell_type": "code",
      "execution_count": null,
      "id": "38bbade4",
      "metadata": {
        "id": "38bbade4"
      },
      "outputs": [],
      "source": [
        "import pandas as pd\n",
        "import numpy as np\n",
        "from sklearn.model_selection import  train_test_split\n",
        "from sklearn.metrics import r2_score,mean_squared_error,mean_absolute_error,mean_absolute_percentage_error\n",
        "import seaborn as sns\n",
        "import warnings\n",
        "import matplotlib.pyplot as plt\n",
        "from pandas_profiling import ProfileReport\n",
        "from sklearn.linear_model import LinearRegression\n",
        "from matplotlib.pyplot import figure\n",
        "\n"
      ]
    },
    {
      "cell_type": "code",
      "execution_count": null,
      "id": "3d3b9ec4",
      "metadata": {
        "id": "3d3b9ec4"
      },
      "outputs": [],
      "source": [
        "# скрываем предупреждения\n",
        "warnings.filterwarnings('ignore')"
      ]
    },
    {
      "cell_type": "code",
      "execution_count": null,
      "id": "051abf2a",
      "metadata": {
        "id": "051abf2a"
      },
      "outputs": [],
      "source": [
        "np.random.seed(seed=7)"
      ]
    },
    {
      "cell_type": "code",
      "execution_count": null,
      "id": "2698b131",
      "metadata": {
        "id": "2698b131"
      },
      "outputs": [],
      "source": [
        "try:\n",
        "    geo_0 = pd.read_csv(r'/datasets/geo_data_0.csv')\n",
        "    geo_1 = pd.read_csv(r'/datasets/geo_data_1.csv')\n",
        "    geo_2 = pd.read_csv(r'/datasets/geo_data_2.csv')\n",
        "\n",
        "except:\n",
        "    geo_0 = pd.read_csv(r'C:\\Users\\new\\Downloads\\geo_data_0.csv')\n",
        "    geo_1 = pd.read_csv(r'C:\\Users\\new\\Downloads\\geo_data_1.csv')\n",
        "    geo_2 = pd.read_csv(r'C:\\Users\\new\\Downloads\\geo_data_2.csv')\n"
      ]
    },
    {
      "cell_type": "code",
      "execution_count": null,
      "id": "b77cbf6d",
      "metadata": {
        "id": "b77cbf6d"
      },
      "outputs": [],
      "source": [
        "# Функция для ознакомления с данными\n",
        "def pre_view(data,n_row=4,head=True, info=True,columns=True,shape=True,isna=True,duplicated=True):\n",
        "    if head:\n",
        "        print(f'First {n_row} row(s) in the head of data')\n",
        "        display(data.head(n_row))\n",
        "        print('-'*30)\n",
        "    if info:\n",
        "        print('Data Information:')\n",
        "        display(data.info())\n",
        "        print('-'*30)\n",
        "    if columns:\n",
        "        print('Data columns:')\n",
        "        display(data.columns)\n",
        "        print('-'*30)\n",
        "    if shape:\n",
        "        print('Data shape:')\n",
        "        display(data.shape)\n",
        "        print('-'*30)\n",
        "    if isna:\n",
        "        print('Data isna by row mean:')\n",
        "        display(data.isna().mean())\n",
        "        print('-'*30)\n",
        "    if duplicated:\n",
        "        print('Data clear duplicates sum:')\n",
        "        display(data.isna().mean())\n",
        "        print('-'*30)\n",
        "\n"
      ]
    },
    {
      "cell_type": "code",
      "execution_count": null,
      "id": "e5d69c8c",
      "metadata": {
        "scrolled": false,
        "id": "e5d69c8c"
      },
      "outputs": [],
      "source": [
        "# ProfileReport(geo_0)"
      ]
    },
    {
      "cell_type": "code",
      "execution_count": null,
      "id": "6d3397b7",
      "metadata": {
        "id": "6d3397b7",
        "outputId": "ad5a4086-ee5b-440f-84fe-a4ed1cd12025"
      },
      "outputs": [
        {
          "name": "stdout",
          "output_type": "stream",
          "text": [
            "First 4 row(s) in the head of data\n"
          ]
        },
        {
          "data": {
            "text/html": [
              "<div>\n",
              "<style scoped>\n",
              "    .dataframe tbody tr th:only-of-type {\n",
              "        vertical-align: middle;\n",
              "    }\n",
              "\n",
              "    .dataframe tbody tr th {\n",
              "        vertical-align: top;\n",
              "    }\n",
              "\n",
              "    .dataframe thead th {\n",
              "        text-align: right;\n",
              "    }\n",
              "</style>\n",
              "<table border=\"1\" class=\"dataframe\">\n",
              "  <thead>\n",
              "    <tr style=\"text-align: right;\">\n",
              "      <th></th>\n",
              "      <th>id</th>\n",
              "      <th>f0</th>\n",
              "      <th>f1</th>\n",
              "      <th>f2</th>\n",
              "      <th>product</th>\n",
              "    </tr>\n",
              "  </thead>\n",
              "  <tbody>\n",
              "    <tr>\n",
              "      <th>0</th>\n",
              "      <td>txEyH</td>\n",
              "      <td>0.705745</td>\n",
              "      <td>-0.497823</td>\n",
              "      <td>1.221170</td>\n",
              "      <td>105.280062</td>\n",
              "    </tr>\n",
              "    <tr>\n",
              "      <th>1</th>\n",
              "      <td>2acmU</td>\n",
              "      <td>1.334711</td>\n",
              "      <td>-0.340164</td>\n",
              "      <td>4.365080</td>\n",
              "      <td>73.037750</td>\n",
              "    </tr>\n",
              "    <tr>\n",
              "      <th>2</th>\n",
              "      <td>409Wp</td>\n",
              "      <td>1.022732</td>\n",
              "      <td>0.151990</td>\n",
              "      <td>1.419926</td>\n",
              "      <td>85.265647</td>\n",
              "    </tr>\n",
              "    <tr>\n",
              "      <th>3</th>\n",
              "      <td>iJLyR</td>\n",
              "      <td>-0.032172</td>\n",
              "      <td>0.139033</td>\n",
              "      <td>2.978566</td>\n",
              "      <td>168.620776</td>\n",
              "    </tr>\n",
              "  </tbody>\n",
              "</table>\n",
              "</div>"
            ],
            "text/plain": [
              "      id        f0        f1        f2     product\n",
              "0  txEyH  0.705745 -0.497823  1.221170  105.280062\n",
              "1  2acmU  1.334711 -0.340164  4.365080   73.037750\n",
              "2  409Wp  1.022732  0.151990  1.419926   85.265647\n",
              "3  iJLyR -0.032172  0.139033  2.978566  168.620776"
            ]
          },
          "metadata": {},
          "output_type": "display_data"
        },
        {
          "name": "stdout",
          "output_type": "stream",
          "text": [
            "------------------------------\n",
            "Data Information:\n",
            "<class 'pandas.core.frame.DataFrame'>\n",
            "RangeIndex: 100000 entries, 0 to 99999\n",
            "Data columns (total 5 columns):\n",
            " #   Column   Non-Null Count   Dtype  \n",
            "---  ------   --------------   -----  \n",
            " 0   id       100000 non-null  object \n",
            " 1   f0       100000 non-null  float64\n",
            " 2   f1       100000 non-null  float64\n",
            " 3   f2       100000 non-null  float64\n",
            " 4   product  100000 non-null  float64\n",
            "dtypes: float64(4), object(1)\n",
            "memory usage: 3.8+ MB\n"
          ]
        },
        {
          "data": {
            "text/plain": [
              "None"
            ]
          },
          "metadata": {},
          "output_type": "display_data"
        },
        {
          "name": "stdout",
          "output_type": "stream",
          "text": [
            "------------------------------\n",
            "Data columns:\n"
          ]
        },
        {
          "data": {
            "text/plain": [
              "Index(['id', 'f0', 'f1', 'f2', 'product'], dtype='object')"
            ]
          },
          "metadata": {},
          "output_type": "display_data"
        },
        {
          "name": "stdout",
          "output_type": "stream",
          "text": [
            "------------------------------\n",
            "Data shape:\n"
          ]
        },
        {
          "data": {
            "text/plain": [
              "(100000, 5)"
            ]
          },
          "metadata": {},
          "output_type": "display_data"
        },
        {
          "name": "stdout",
          "output_type": "stream",
          "text": [
            "------------------------------\n",
            "Data isna by row mean:\n"
          ]
        },
        {
          "data": {
            "text/plain": [
              "id         0.0\n",
              "f0         0.0\n",
              "f1         0.0\n",
              "f2         0.0\n",
              "product    0.0\n",
              "dtype: float64"
            ]
          },
          "metadata": {},
          "output_type": "display_data"
        },
        {
          "name": "stdout",
          "output_type": "stream",
          "text": [
            "------------------------------\n",
            "Data clear duplicates sum:\n"
          ]
        },
        {
          "data": {
            "text/plain": [
              "id         0.0\n",
              "f0         0.0\n",
              "f1         0.0\n",
              "f2         0.0\n",
              "product    0.0\n",
              "dtype: float64"
            ]
          },
          "metadata": {},
          "output_type": "display_data"
        },
        {
          "name": "stdout",
          "output_type": "stream",
          "text": [
            "------------------------------\n"
          ]
        }
      ],
      "source": [
        "pre_view(geo_0)"
      ]
    },
    {
      "cell_type": "code",
      "execution_count": null,
      "id": "d6a67b38",
      "metadata": {
        "id": "d6a67b38",
        "outputId": "64696f8a-322b-4eff-8bd8-a1a0773c39c7"
      },
      "outputs": [
        {
          "data": {
            "text/html": [
              "<div>\n",
              "<style scoped>\n",
              "    .dataframe tbody tr th:only-of-type {\n",
              "        vertical-align: middle;\n",
              "    }\n",
              "\n",
              "    .dataframe tbody tr th {\n",
              "        vertical-align: top;\n",
              "    }\n",
              "\n",
              "    .dataframe thead th {\n",
              "        text-align: right;\n",
              "    }\n",
              "</style>\n",
              "<table border=\"1\" class=\"dataframe\">\n",
              "  <thead>\n",
              "    <tr style=\"text-align: right;\">\n",
              "      <th></th>\n",
              "      <th>f0</th>\n",
              "      <th>f1</th>\n",
              "      <th>f2</th>\n",
              "      <th>product</th>\n",
              "    </tr>\n",
              "  </thead>\n",
              "  <tbody>\n",
              "    <tr>\n",
              "      <th>count</th>\n",
              "      <td>100000.000000</td>\n",
              "      <td>100000.000000</td>\n",
              "      <td>100000.000000</td>\n",
              "      <td>100000.000000</td>\n",
              "    </tr>\n",
              "    <tr>\n",
              "      <th>mean</th>\n",
              "      <td>0.500419</td>\n",
              "      <td>0.250143</td>\n",
              "      <td>2.502647</td>\n",
              "      <td>92.500000</td>\n",
              "    </tr>\n",
              "    <tr>\n",
              "      <th>std</th>\n",
              "      <td>0.871832</td>\n",
              "      <td>0.504433</td>\n",
              "      <td>3.248248</td>\n",
              "      <td>44.288691</td>\n",
              "    </tr>\n",
              "    <tr>\n",
              "      <th>min</th>\n",
              "      <td>-1.408605</td>\n",
              "      <td>-0.848218</td>\n",
              "      <td>-12.088328</td>\n",
              "      <td>0.000000</td>\n",
              "    </tr>\n",
              "    <tr>\n",
              "      <th>25%</th>\n",
              "      <td>-0.072580</td>\n",
              "      <td>-0.200881</td>\n",
              "      <td>0.287748</td>\n",
              "      <td>56.497507</td>\n",
              "    </tr>\n",
              "    <tr>\n",
              "      <th>50%</th>\n",
              "      <td>0.502360</td>\n",
              "      <td>0.250252</td>\n",
              "      <td>2.515969</td>\n",
              "      <td>91.849972</td>\n",
              "    </tr>\n",
              "    <tr>\n",
              "      <th>75%</th>\n",
              "      <td>1.073581</td>\n",
              "      <td>0.700646</td>\n",
              "      <td>4.715088</td>\n",
              "      <td>128.564089</td>\n",
              "    </tr>\n",
              "    <tr>\n",
              "      <th>max</th>\n",
              "      <td>2.362331</td>\n",
              "      <td>1.343769</td>\n",
              "      <td>16.003790</td>\n",
              "      <td>185.364347</td>\n",
              "    </tr>\n",
              "  </tbody>\n",
              "</table>\n",
              "</div>"
            ],
            "text/plain": [
              "                  f0             f1             f2        product\n",
              "count  100000.000000  100000.000000  100000.000000  100000.000000\n",
              "mean        0.500419       0.250143       2.502647      92.500000\n",
              "std         0.871832       0.504433       3.248248      44.288691\n",
              "min        -1.408605      -0.848218     -12.088328       0.000000\n",
              "25%        -0.072580      -0.200881       0.287748      56.497507\n",
              "50%         0.502360       0.250252       2.515969      91.849972\n",
              "75%         1.073581       0.700646       4.715088     128.564089\n",
              "max         2.362331       1.343769      16.003790     185.364347"
            ]
          },
          "execution_count": 9,
          "metadata": {},
          "output_type": "execute_result"
        }
      ],
      "source": [
        "geo_0.describe()"
      ]
    },
    {
      "cell_type": "code",
      "execution_count": null,
      "id": "cfa19c16",
      "metadata": {
        "id": "cfa19c16",
        "outputId": "c2d7908f-41b6-4d8c-9a99-5792f0daffd1"
      },
      "outputs": [
        {
          "data": {
            "image/png": "[encoded data removed]",
            "text/plain": [
              "<Figure size 360x288 with 2 Axes>"
            ]
          },
          "metadata": {
            "needs_background": "light"
          },
          "output_type": "display_data"
        }
      ],
      "source": [
        "figure(figsize=(5,4))\n",
        "\n",
        "sns.heatmap(geo_0.drop(columns=['id'],axis=1).corr(),\n",
        "            annot=True,\n",
        "            cmap='YlGnBu',\n",
        "            linewidth=2,\n",
        "            linecolor='green')\n",
        "plt.show()"
      ]
    },
    {
      "cell_type": "markdown",
      "id": "9bbe0cac",
      "metadata": {
        "id": "9bbe0cac"
      },
      "source": [
        "**Вывод:**\n",
        "\n",
        "В первом регионе (таблица `geo_0`), мы можем видеть, что на количество нефти в скважине влиют все три признаки `f0`, `f1` и `f2`.\n",
        "\n",
        "Значение коэффициента корреляции Пирсона:\n",
        "* `f0` - **0.14**, низкая, не ниже 0.1, значит маленькую, но лепту этот признак вносит в количество запасов  основного продукта. Коэффициент положительный, значит, что при увеличении оного увеличивается и объем.\n",
        "* `f1` - **-0.19**, чуть ближе к средней корреляции нежели `f0`, однако в этом случае (отрицательный коэффициент корреляции) этот признак влияет пагубно на количество нефти. С увеличением данного признака, общее количество нефти падает.\n",
        "* `f2` - **0.48**, уже заметная зависимость. Чем больше данный признак, тем больше нефти.\n",
        "\n",
        "Также стоить отметить, что сильной мультиколлинеарности между признакми нет. Поэтому можем оставить все как есть."
      ]
    },
    {
      "cell_type": "code",
      "execution_count": null,
      "id": "18546ff2",
      "metadata": {
        "id": "18546ff2"
      },
      "outputs": [],
      "source": [
        "# ProfileReport(geo_1)"
      ]
    },
    {
      "cell_type": "code",
      "execution_count": null,
      "id": "e6d17f05",
      "metadata": {
        "scrolled": true,
        "id": "e6d17f05",
        "outputId": "632bf592-9531-48c3-8df5-279338148d13"
      },
      "outputs": [
        {
          "name": "stdout",
          "output_type": "stream",
          "text": [
            "First 4 row(s) in the head of data\n"
          ]
        },
        {
          "data": {
            "text/html": [
              "<div>\n",
              "<style scoped>\n",
              "    .dataframe tbody tr th:only-of-type {\n",
              "        vertical-align: middle;\n",
              "    }\n",
              "\n",
              "    .dataframe tbody tr th {\n",
              "        vertical-align: top;\n",
              "    }\n",
              "\n",
              "    .dataframe thead th {\n",
              "        text-align: right;\n",
              "    }\n",
              "</style>\n",
              "<table border=\"1\" class=\"dataframe\">\n",
              "  <thead>\n",
              "    <tr style=\"text-align: right;\">\n",
              "      <th></th>\n",
              "      <th>id</th>\n",
              "      <th>f0</th>\n",
              "      <th>f1</th>\n",
              "      <th>f2</th>\n",
              "      <th>product</th>\n",
              "    </tr>\n",
              "  </thead>\n",
              "  <tbody>\n",
              "    <tr>\n",
              "      <th>0</th>\n",
              "      <td>kBEdx</td>\n",
              "      <td>-15.001348</td>\n",
              "      <td>-8.276000</td>\n",
              "      <td>-0.005876</td>\n",
              "      <td>3.179103</td>\n",
              "    </tr>\n",
              "    <tr>\n",
              "      <th>1</th>\n",
              "      <td>62mP7</td>\n",
              "      <td>14.272088</td>\n",
              "      <td>-3.475083</td>\n",
              "      <td>0.999183</td>\n",
              "      <td>26.953261</td>\n",
              "    </tr>\n",
              "    <tr>\n",
              "      <th>2</th>\n",
              "      <td>vyE1P</td>\n",
              "      <td>6.263187</td>\n",
              "      <td>-5.948386</td>\n",
              "      <td>5.001160</td>\n",
              "      <td>134.766305</td>\n",
              "    </tr>\n",
              "    <tr>\n",
              "      <th>3</th>\n",
              "      <td>KcrkZ</td>\n",
              "      <td>-13.081196</td>\n",
              "      <td>-11.506057</td>\n",
              "      <td>4.999415</td>\n",
              "      <td>137.945408</td>\n",
              "    </tr>\n",
              "  </tbody>\n",
              "</table>\n",
              "</div>"
            ],
            "text/plain": [
              "      id         f0         f1        f2     product\n",
              "0  kBEdx -15.001348  -8.276000 -0.005876    3.179103\n",
              "1  62mP7  14.272088  -3.475083  0.999183   26.953261\n",
              "2  vyE1P   6.263187  -5.948386  5.001160  134.766305\n",
              "3  KcrkZ -13.081196 -11.506057  4.999415  137.945408"
            ]
          },
          "metadata": {},
          "output_type": "display_data"
        },
        {
          "name": "stdout",
          "output_type": "stream",
          "text": [
            "------------------------------\n",
            "Data Information:\n",
            "<class 'pandas.core.frame.DataFrame'>\n",
            "RangeIndex: 100000 entries, 0 to 99999\n",
            "Data columns (total 5 columns):\n",
            " #   Column   Non-Null Count   Dtype  \n",
            "---  ------   --------------   -----  \n",
            " 0   id       100000 non-null  object \n",
            " 1   f0       100000 non-null  float64\n",
            " 2   f1       100000 non-null  float64\n",
            " 3   f2       100000 non-null  float64\n",
            " 4   product  100000 non-null  float64\n",
            "dtypes: float64(4), object(1)\n",
            "memory usage: 3.8+ MB\n"
          ]
        },
        {
          "data": {
            "text/plain": [
              "None"
            ]
          },
          "metadata": {},
          "output_type": "display_data"
        },
        {
          "name": "stdout",
          "output_type": "stream",
          "text": [
            "------------------------------\n",
            "Data columns:\n"
          ]
        },
        {
          "data": {
            "text/plain": [
              "Index(['id', 'f0', 'f1', 'f2', 'product'], dtype='object')"
            ]
          },
          "metadata": {},
          "output_type": "display_data"
        },
        {
          "name": "stdout",
          "output_type": "stream",
          "text": [
            "------------------------------\n",
            "Data shape:\n"
          ]
        },
        {
          "data": {
            "text/plain": [
              "(100000, 5)"
            ]
          },
          "metadata": {},
          "output_type": "display_data"
        },
        {
          "name": "stdout",
          "output_type": "stream",
          "text": [
            "------------------------------\n",
            "Data isna by row mean:\n"
          ]
        },
        {
          "data": {
            "text/plain": [
              "id         0.0\n",
              "f0         0.0\n",
              "f1         0.0\n",
              "f2         0.0\n",
              "product    0.0\n",
              "dtype: float64"
            ]
          },
          "metadata": {},
          "output_type": "display_data"
        },
        {
          "name": "stdout",
          "output_type": "stream",
          "text": [
            "------------------------------\n",
            "Data clear duplicates sum:\n"
          ]
        },
        {
          "data": {
            "text/plain": [
              "id         0.0\n",
              "f0         0.0\n",
              "f1         0.0\n",
              "f2         0.0\n",
              "product    0.0\n",
              "dtype: float64"
            ]
          },
          "metadata": {},
          "output_type": "display_data"
        },
        {
          "name": "stdout",
          "output_type": "stream",
          "text": [
            "------------------------------\n"
          ]
        }
      ],
      "source": [
        "pre_view(geo_1)"
      ]
    },
    {
      "cell_type": "code",
      "execution_count": null,
      "id": "c802da2f",
      "metadata": {
        "id": "c802da2f",
        "outputId": "24258e58-cbc4-46bd-f585-c2c39af1799c"
      },
      "outputs": [
        {
          "data": {
            "text/html": [
              "<div>\n",
              "<style scoped>\n",
              "    .dataframe tbody tr th:only-of-type {\n",
              "        vertical-align: middle;\n",
              "    }\n",
              "\n",
              "    .dataframe tbody tr th {\n",
              "        vertical-align: top;\n",
              "    }\n",
              "\n",
              "    .dataframe thead th {\n",
              "        text-align: right;\n",
              "    }\n",
              "</style>\n",
              "<table border=\"1\" class=\"dataframe\">\n",
              "  <thead>\n",
              "    <tr style=\"text-align: right;\">\n",
              "      <th></th>\n",
              "      <th>f0</th>\n",
              "      <th>f1</th>\n",
              "      <th>f2</th>\n",
              "      <th>product</th>\n",
              "    </tr>\n",
              "  </thead>\n",
              "  <tbody>\n",
              "    <tr>\n",
              "      <th>count</th>\n",
              "      <td>100000.000000</td>\n",
              "      <td>100000.000000</td>\n",
              "      <td>100000.000000</td>\n",
              "      <td>100000.000000</td>\n",
              "    </tr>\n",
              "    <tr>\n",
              "      <th>mean</th>\n",
              "      <td>1.141296</td>\n",
              "      <td>-4.796579</td>\n",
              "      <td>2.494541</td>\n",
              "      <td>68.825000</td>\n",
              "    </tr>\n",
              "    <tr>\n",
              "      <th>std</th>\n",
              "      <td>8.965932</td>\n",
              "      <td>5.119872</td>\n",
              "      <td>1.703572</td>\n",
              "      <td>45.944423</td>\n",
              "    </tr>\n",
              "    <tr>\n",
              "      <th>min</th>\n",
              "      <td>-31.609576</td>\n",
              "      <td>-26.358598</td>\n",
              "      <td>-0.018144</td>\n",
              "      <td>0.000000</td>\n",
              "    </tr>\n",
              "    <tr>\n",
              "      <th>25%</th>\n",
              "      <td>-6.298551</td>\n",
              "      <td>-8.267985</td>\n",
              "      <td>1.000021</td>\n",
              "      <td>26.953261</td>\n",
              "    </tr>\n",
              "    <tr>\n",
              "      <th>50%</th>\n",
              "      <td>1.153055</td>\n",
              "      <td>-4.813172</td>\n",
              "      <td>2.011479</td>\n",
              "      <td>57.085625</td>\n",
              "    </tr>\n",
              "    <tr>\n",
              "      <th>75%</th>\n",
              "      <td>8.621015</td>\n",
              "      <td>-1.332816</td>\n",
              "      <td>3.999904</td>\n",
              "      <td>107.813044</td>\n",
              "    </tr>\n",
              "    <tr>\n",
              "      <th>max</th>\n",
              "      <td>29.421755</td>\n",
              "      <td>18.734063</td>\n",
              "      <td>5.019721</td>\n",
              "      <td>137.945408</td>\n",
              "    </tr>\n",
              "  </tbody>\n",
              "</table>\n",
              "</div>"
            ],
            "text/plain": [
              "                  f0             f1             f2        product\n",
              "count  100000.000000  100000.000000  100000.000000  100000.000000\n",
              "mean        1.141296      -4.796579       2.494541      68.825000\n",
              "std         8.965932       5.119872       1.703572      45.944423\n",
              "min       -31.609576     -26.358598      -0.018144       0.000000\n",
              "25%        -6.298551      -8.267985       1.000021      26.953261\n",
              "50%         1.153055      -4.813172       2.011479      57.085625\n",
              "75%         8.621015      -1.332816       3.999904     107.813044\n",
              "max        29.421755      18.734063       5.019721     137.945408"
            ]
          },
          "execution_count": 13,
          "metadata": {},
          "output_type": "execute_result"
        }
      ],
      "source": [
        "geo_1.describe()"
      ]
    },
    {
      "cell_type": "code",
      "execution_count": null,
      "id": "dbdcda5b",
      "metadata": {
        "id": "dbdcda5b",
        "outputId": "3f7deeed-2f9f-4df2-c3ef-c8add40e2b7c"
      },
      "outputs": [
        {
          "data": {
            "image/png": "[encoded data removed]",
            "text/plain": [
              "<Figure size 360x288 with 2 Axes>"
            ]
          },
          "metadata": {
            "needs_background": "light"
          },
          "output_type": "display_data"
        }
      ],
      "source": [
        "figure(figsize=(5,4))\n",
        "\n",
        "sns.heatmap(geo_1.drop(columns=['id'],axis=1).corr(),\n",
        "            annot=True,\n",
        "            cmap='YlGnBu',\n",
        "            linewidth=2,\n",
        "            linecolor='green')\n",
        "plt.show()"
      ]
    },
    {
      "cell_type": "markdown",
      "id": "3ef01c63",
      "metadata": {
        "id": "3ef01c63"
      },
      "source": [
        "**Вывод:**\n",
        "\n",
        "В первом регионе (таблица `geo_0`), мы можем видеть, что на количество нефти в скважине влиют все три признаки `f0`, `f1` и `f2`.\n",
        "\n",
        "Значение коэффициента корреляции Пирсона:\n",
        "* `f0` - **-0.03**, очень низкая зависимость. Но она отрицательная.\n",
        "* `f1` - **-0.01**, практически нулевая отрицательная зависимость.\n",
        "* `f2` - **1**, абсолютная (функциональная) зависимость. Очень хорошо.\n",
        "\n",
        "Также стоить отметить, что сильной мультиколлинеарности между признакми нет. Поэтому можем оставить все как есть."
      ]
    },
    {
      "cell_type": "code",
      "execution_count": null,
      "id": "cf0bff64",
      "metadata": {
        "id": "cf0bff64"
      },
      "outputs": [],
      "source": [
        "# ProfileReport(geo_2)"
      ]
    },
    {
      "cell_type": "code",
      "execution_count": null,
      "id": "2109370e",
      "metadata": {
        "scrolled": true,
        "id": "2109370e",
        "outputId": "a225eb38-be8e-488d-c4d8-7ff66ea9b1bb"
      },
      "outputs": [
        {
          "name": "stdout",
          "output_type": "stream",
          "text": [
            "First 4 row(s) in the head of data\n"
          ]
        },
        {
          "data": {
            "text/html": [
              "<div>\n",
              "<style scoped>\n",
              "    .dataframe tbody tr th:only-of-type {\n",
              "        vertical-align: middle;\n",
              "    }\n",
              "\n",
              "    .dataframe tbody tr th {\n",
              "        vertical-align: top;\n",
              "    }\n",
              "\n",
              "    .dataframe thead th {\n",
              "        text-align: right;\n",
              "    }\n",
              "</style>\n",
              "<table border=\"1\" class=\"dataframe\">\n",
              "  <thead>\n",
              "    <tr style=\"text-align: right;\">\n",
              "      <th></th>\n",
              "      <th>id</th>\n",
              "      <th>f0</th>\n",
              "      <th>f1</th>\n",
              "      <th>f2</th>\n",
              "      <th>product</th>\n",
              "    </tr>\n",
              "  </thead>\n",
              "  <tbody>\n",
              "    <tr>\n",
              "      <th>0</th>\n",
              "      <td>fwXo0</td>\n",
              "      <td>-1.146987</td>\n",
              "      <td>0.963328</td>\n",
              "      <td>-0.828965</td>\n",
              "      <td>27.758673</td>\n",
              "    </tr>\n",
              "    <tr>\n",
              "      <th>1</th>\n",
              "      <td>WJtFt</td>\n",
              "      <td>0.262778</td>\n",
              "      <td>0.269839</td>\n",
              "      <td>-2.530187</td>\n",
              "      <td>56.069697</td>\n",
              "    </tr>\n",
              "    <tr>\n",
              "      <th>2</th>\n",
              "      <td>ovLUW</td>\n",
              "      <td>0.194587</td>\n",
              "      <td>0.289035</td>\n",
              "      <td>-5.586433</td>\n",
              "      <td>62.871910</td>\n",
              "    </tr>\n",
              "    <tr>\n",
              "      <th>3</th>\n",
              "      <td>q6cA6</td>\n",
              "      <td>2.236060</td>\n",
              "      <td>-0.553760</td>\n",
              "      <td>0.930038</td>\n",
              "      <td>114.572842</td>\n",
              "    </tr>\n",
              "  </tbody>\n",
              "</table>\n",
              "</div>"
            ],
            "text/plain": [
              "      id        f0        f1        f2     product\n",
              "0  fwXo0 -1.146987  0.963328 -0.828965   27.758673\n",
              "1  WJtFt  0.262778  0.269839 -2.530187   56.069697\n",
              "2  ovLUW  0.194587  0.289035 -5.586433   62.871910\n",
              "3  q6cA6  2.236060 -0.553760  0.930038  114.572842"
            ]
          },
          "metadata": {},
          "output_type": "display_data"
        },
        {
          "name": "stdout",
          "output_type": "stream",
          "text": [
            "------------------------------\n",
            "Data Information:\n",
            "<class 'pandas.core.frame.DataFrame'>\n",
            "RangeIndex: 100000 entries, 0 to 99999\n",
            "Data columns (total 5 columns):\n",
            " #   Column   Non-Null Count   Dtype  \n",
            "---  ------   --------------   -----  \n",
            " 0   id       100000 non-null  object \n",
            " 1   f0       100000 non-null  float64\n",
            " 2   f1       100000 non-null  float64\n",
            " 3   f2       100000 non-null  float64\n",
            " 4   product  100000 non-null  float64\n",
            "dtypes: float64(4), object(1)\n",
            "memory usage: 3.8+ MB\n"
          ]
        },
        {
          "data": {
            "text/plain": [
              "None"
            ]
          },
          "metadata": {},
          "output_type": "display_data"
        },
        {
          "name": "stdout",
          "output_type": "stream",
          "text": [
            "------------------------------\n",
            "Data columns:\n"
          ]
        },
        {
          "data": {
            "text/plain": [
              "Index(['id', 'f0', 'f1', 'f2', 'product'], dtype='object')"
            ]
          },
          "metadata": {},
          "output_type": "display_data"
        },
        {
          "name": "stdout",
          "output_type": "stream",
          "text": [
            "------------------------------\n",
            "Data shape:\n"
          ]
        },
        {
          "data": {
            "text/plain": [
              "(100000, 5)"
            ]
          },
          "metadata": {},
          "output_type": "display_data"
        },
        {
          "name": "stdout",
          "output_type": "stream",
          "text": [
            "------------------------------\n",
            "Data isna by row mean:\n"
          ]
        },
        {
          "data": {
            "text/plain": [
              "id         0.0\n",
              "f0         0.0\n",
              "f1         0.0\n",
              "f2         0.0\n",
              "product    0.0\n",
              "dtype: float64"
            ]
          },
          "metadata": {},
          "output_type": "display_data"
        },
        {
          "name": "stdout",
          "output_type": "stream",
          "text": [
            "------------------------------\n",
            "Data clear duplicates sum:\n"
          ]
        },
        {
          "data": {
            "text/plain": [
              "id         0.0\n",
              "f0         0.0\n",
              "f1         0.0\n",
              "f2         0.0\n",
              "product    0.0\n",
              "dtype: float64"
            ]
          },
          "metadata": {},
          "output_type": "display_data"
        },
        {
          "name": "stdout",
          "output_type": "stream",
          "text": [
            "------------------------------\n"
          ]
        }
      ],
      "source": [
        "pre_view(geo_2)"
      ]
    },
    {
      "cell_type": "code",
      "execution_count": null,
      "id": "deaa2a6d",
      "metadata": {
        "id": "deaa2a6d",
        "outputId": "93762ca5-f0da-48ba-ae57-69c58076aa79"
      },
      "outputs": [
        {
          "data": {
            "text/html": [
              "<div>\n",
              "<style scoped>\n",
              "    .dataframe tbody tr th:only-of-type {\n",
              "        vertical-align: middle;\n",
              "    }\n",
              "\n",
              "    .dataframe tbody tr th {\n",
              "        vertical-align: top;\n",
              "    }\n",
              "\n",
              "    .dataframe thead th {\n",
              "        text-align: right;\n",
              "    }\n",
              "</style>\n",
              "<table border=\"1\" class=\"dataframe\">\n",
              "  <thead>\n",
              "    <tr style=\"text-align: right;\">\n",
              "      <th></th>\n",
              "      <th>f0</th>\n",
              "      <th>f1</th>\n",
              "      <th>f2</th>\n",
              "      <th>product</th>\n",
              "    </tr>\n",
              "  </thead>\n",
              "  <tbody>\n",
              "    <tr>\n",
              "      <th>count</th>\n",
              "      <td>100000.000000</td>\n",
              "      <td>100000.000000</td>\n",
              "      <td>100000.000000</td>\n",
              "      <td>100000.000000</td>\n",
              "    </tr>\n",
              "    <tr>\n",
              "      <th>mean</th>\n",
              "      <td>0.002023</td>\n",
              "      <td>-0.002081</td>\n",
              "      <td>2.495128</td>\n",
              "      <td>95.000000</td>\n",
              "    </tr>\n",
              "    <tr>\n",
              "      <th>std</th>\n",
              "      <td>1.732045</td>\n",
              "      <td>1.730417</td>\n",
              "      <td>3.473445</td>\n",
              "      <td>44.749921</td>\n",
              "    </tr>\n",
              "    <tr>\n",
              "      <th>min</th>\n",
              "      <td>-8.760004</td>\n",
              "      <td>-7.084020</td>\n",
              "      <td>-11.970335</td>\n",
              "      <td>0.000000</td>\n",
              "    </tr>\n",
              "    <tr>\n",
              "      <th>25%</th>\n",
              "      <td>-1.162288</td>\n",
              "      <td>-1.174820</td>\n",
              "      <td>0.130359</td>\n",
              "      <td>59.450441</td>\n",
              "    </tr>\n",
              "    <tr>\n",
              "      <th>50%</th>\n",
              "      <td>0.009424</td>\n",
              "      <td>-0.009482</td>\n",
              "      <td>2.484236</td>\n",
              "      <td>94.925613</td>\n",
              "    </tr>\n",
              "    <tr>\n",
              "      <th>75%</th>\n",
              "      <td>1.158535</td>\n",
              "      <td>1.163678</td>\n",
              "      <td>4.858794</td>\n",
              "      <td>130.595027</td>\n",
              "    </tr>\n",
              "    <tr>\n",
              "      <th>max</th>\n",
              "      <td>7.238262</td>\n",
              "      <td>7.844801</td>\n",
              "      <td>16.739402</td>\n",
              "      <td>190.029838</td>\n",
              "    </tr>\n",
              "  </tbody>\n",
              "</table>\n",
              "</div>"
            ],
            "text/plain": [
              "                  f0             f1             f2        product\n",
              "count  100000.000000  100000.000000  100000.000000  100000.000000\n",
              "mean        0.002023      -0.002081       2.495128      95.000000\n",
              "std         1.732045       1.730417       3.473445      44.749921\n",
              "min        -8.760004      -7.084020     -11.970335       0.000000\n",
              "25%        -1.162288      -1.174820       0.130359      59.450441\n",
              "50%         0.009424      -0.009482       2.484236      94.925613\n",
              "75%         1.158535       1.163678       4.858794     130.595027\n",
              "max         7.238262       7.844801      16.739402     190.029838"
            ]
          },
          "execution_count": 17,
          "metadata": {},
          "output_type": "execute_result"
        }
      ],
      "source": [
        "geo_2.describe()"
      ]
    },
    {
      "cell_type": "code",
      "execution_count": null,
      "id": "674e714b",
      "metadata": {
        "scrolled": true,
        "id": "674e714b",
        "outputId": "2ba54491-81aa-45b3-8c85-36cbe30b497e"
      },
      "outputs": [
        {
          "data": {
            "image/png": "[encoded data removed]",
            "text/plain": [
              "<Figure size 360x288 with 2 Axes>"
            ]
          },
          "metadata": {
            "needs_background": "light"
          },
          "output_type": "display_data"
        }
      ],
      "source": [
        "figure(figsize=(5,4))\n",
        "\n",
        "sns.heatmap(geo_2.drop(columns=['id'],axis=1).corr(),\n",
        "            annot=True,\n",
        "            cmap='YlGnBu',\n",
        "            linewidth=2,\n",
        "            linecolor='green')\n",
        "plt.show()"
      ]
    },
    {
      "cell_type": "markdown",
      "id": "c563029a",
      "metadata": {
        "id": "c563029a"
      },
      "source": [
        "**Вывод:**\n",
        "\n",
        "В первом регионе (таблица `geo_0`), мы можем видеть, что на количество нефти в скважине влиют все три признаки `f0`, `f1` и `f2`.\n",
        "\n",
        "Значение коэффициента корреляции Пирсона:\n",
        "* `f0` - **-0.002**, практически незаметная отрицательня корреляция.\n",
        "* `f1` - **-0.001**, также мизерное, эфимерное вляние.\n",
        "* `f2` - **0.45**, средняя корреляция, практически сильно заметная.\n",
        "\n",
        "Также стоить отметить, что сильной мультиколлинеарности между признакми нет. Поэтому можем оставить все как есть."
      ]
    },
    {
      "cell_type": "markdown",
      "id": "1bd8534f",
      "metadata": {
        "id": "1bd8534f"
      },
      "source": [
        "## Первый взгляд. Общий вывод"
      ]
    },
    {
      "cell_type": "markdown",
      "id": "365f2af6",
      "metadata": {
        "id": "365f2af6"
      },
      "source": [
        "**Общий вывод:**\n",
        "\n",
        "Есть общая зависимость между запасами нефти и тремя признаками `f0`, `f1` и `f2`:\n",
        "\n",
        "`f2` однозначно во всех регионах показывает сильную положительную корреляцию.\n",
        "\n",
        "А `f0` и `f1` во втором и третьем регионе практически не отличаются, в знаке как минимум. А в первом регионе значения коэффициента корреляции обретают бОльшое значение, также один из них, а именно - `f0`, имеет унарный плюс, вместо унарного минуса как в случае с `f1`"
      ]
    },
    {
      "cell_type": "markdown",
      "id": "abed907a",
      "metadata": {
        "id": "abed907a"
      },
      "source": [
        "## Обучение и проверка моделей для всех регионов."
      ]
    },
    {
      "cell_type": "code",
      "execution_count": null,
      "id": "ea11871c",
      "metadata": {
        "id": "ea11871c"
      },
      "outputs": [],
      "source": [
        "geo_0 = geo_0.drop(columns='id',axis=1)\n",
        "geo_1 = geo_1.drop(columns='id',axis=1)\n",
        "geo_2 = geo_2.drop(columns='id',axis=1)"
      ]
    },
    {
      "cell_type": "code",
      "execution_count": null,
      "id": "e89bafab",
      "metadata": {
        "id": "e89bafab"
      },
      "outputs": [],
      "source": [
        "geo_0.name = 'geo_0'\n",
        "geo_1.name = 'geo_1'\n",
        "geo_2.name = 'geo_2'"
      ]
    },
    {
      "cell_type": "code",
      "execution_count": null,
      "id": "d463cc86",
      "metadata": {
        "id": "d463cc86"
      },
      "outputs": [],
      "source": [
        "def teach_valid(data,ts=0.25,r2_=True,mse_=True,rmse_=True,mae_=True,mape_=True,rs=7):\n",
        "    features = data.drop(columns=['product'],axis=1)\n",
        "    target = data['product']\n",
        "    features_train,features_valid,target_train,target_valid = train_test_split(features,\n",
        "                                                                               target,\n",
        "                                                                               test_size=ts,\n",
        "                                                                              random_state=rs)\n",
        "    regressor = LinearRegression()\n",
        "    regressor.fit(features_train,target_train)\n",
        "    pred_lst_ = regressor.predict(features_valid)\n",
        "    coef_ = regressor.coef_\n",
        "    intercept_ = regressor.intercept_\n",
        "\n",
        "    print(f'Коэффициенты линейной регресси для {data.name} слудующие: {coef_}\\n')\n",
        "    print(f'Интерсепт {intercept_}\\n')\n",
        "    print(f'Для таблицы {data.name} имеем следующие значения метрик линейной регрессии: \\n')\n",
        "    if rmse_:\n",
        "        rmse = mean_squared_error(target_valid,pred_lst_,squared=False)\n",
        "        print(f'RMSE для региона с таблицей под названием {data.name} равно: {rmse} \\n')\n",
        "    if mse_:\n",
        "        mse= mean_squared_error(target_valid,pred_lst_,squared=True)\n",
        "        print(f'MSE для региона с таблицей под названием {data.name} равно: {mse} \\n')\n",
        "    if r2_:\n",
        "        r2 = r2_score(target_valid,pred_lst_)\n",
        "        print(f'R2 для региона с таблицей под названием {data.name} равно: {r2} \\n')\n",
        "    if r2_:\n",
        "# r2_sc - R2 значение\n",
        "# k - количество признаков\n",
        "# n - размер таблицы\n",
        "        k = features.shape[1]\n",
        "        r2_sc = r2_score(target_valid,pred_lst_)\n",
        "        n = len(target)\n",
        "        r2_adj = 1 - (1 - r2_sc) * ((k - 1) / (k - n - 1) )\n",
        "        print(f'R2 adjusted для региона с таблицей под названием {data.name} равно: {r2_adj} \\n')\n",
        "    if mae_:\n",
        "        mae = mean_absolute_error(target_valid,pred_lst_)\n",
        "        print(f'MAE для региона с таблицей под названием {data.name} равно: {mae} \\n')\n",
        "    if mape_:\n",
        "        mape = mean_absolute_percentage_error(target_valid,pred_lst_)\n",
        "        print(f'MAPE для региона с таблицей под названием {data.name} равно: {mape} \\n')\n",
        "    mean_oil_predict_ = np.mean(pred_lst_)\n",
        "    print(f'Средний запас предсказанного сырья равен {mean_oil_predict_} тыс. барр.')\n",
        "    print('-'*30)\n",
        "    print('Распределение запасов сырья:\\n')\n",
        "    print('Среднее значения запасов  - лииня зеленого цвета')\n",
        "    sns.distplot(pd.Series(pred_lst_),bins=100,hist=True,kde=True)\n",
        "    plt.grid()\n",
        "    plt.title('Гистограмма запасов нефти c ядерной оценкой плоскости')\n",
        "    plt.xlabel('Тыс. барр.')\n",
        "    plt.ylabel('Кол-во')\n",
        "    plt.axvline(x=pd.Series(pred_lst_).mean(),color='green',linewidth=3,alpha=0.8)\n",
        "    plt.show()\n",
        "    return pred_lst_, target,target_valid,mean_oil_predict_, coef_, intercept_, rmse"
      ]
    },
    {
      "cell_type": "markdown",
      "id": "547f44d1",
      "metadata": {
        "id": "547f44d1"
      },
      "source": [
        "### geo_0"
      ]
    },
    {
      "cell_type": "code",
      "execution_count": null,
      "id": "dfaf4c42",
      "metadata": {
        "scrolled": true,
        "id": "dfaf4c42",
        "outputId": "69016069-8cd2-4068-d37f-c2ee839350ee"
      },
      "outputs": [
        {
          "name": "stdout",
          "output_type": "stream",
          "text": [
            "Коэффициенты линейной регресси для geo_0 слудующие: [  3.82207041 -14.17147255   6.57045059]\n",
            "\n",
            "Интерсепт 77.65677827341965\n",
            "\n",
            "Для таблицы geo_0 имеем следующие значения метрик линейной регрессии: \n",
            "\n",
            "RMSE для региона с таблицей под названием geo_0 равно: 37.61698862149409 \n",
            "\n",
            "MSE для региона с таблицей под названием geo_0 равно: 1415.0378329496157 \n",
            "\n",
            "R2 для региона с таблицей под названием geo_0 равно: 0.27859317083753576 \n",
            "\n",
            "R2 adjusted для региона с таблицей под названием geo_0 равно: 1.0000144284251518 \n",
            "\n",
            "MAE для региона с таблицей под названием geo_0 равно: 31.00823373486214 \n",
            "\n",
            "MAPE для региона с таблицей под названием geo_0 равно: 1.9632499128525909 \n",
            "\n",
            "Средний запас предсказанного сырья равен 92.50122097236377 тыс. барр.\n",
            "------------------------------\n",
            "Распределение запасов сырья:\n",
            "\n",
            "Среднее значения запасов  - лииня зеленого цвета\n"
          ]
        },
        {
          "data": {
            "image/png": "[encoded data removed]",
            "text/plain": [
              "<Figure size 432x288 with 1 Axes>"
            ]
          },
          "metadata": {
            "needs_background": "light"
          },
          "output_type": "display_data"
        }
      ],
      "source": [
        "predict_geo_0, target_geo_0, target_valid_geo_0,mean_oil_predict_geo_0, coef_geo_0,intercept_geo_0,rmse_geo_0 = teach_valid(geo_0)"
      ]
    },
    {
      "cell_type": "code",
      "execution_count": null,
      "id": "92570fdb",
      "metadata": {
        "id": "92570fdb",
        "outputId": "9a117857-2d97-4892-cd35-477182fd45b5"
      },
      "outputs": [
        {
          "data": {
            "text/plain": [
              "92.50122097236377"
            ]
          },
          "execution_count": 23,
          "metadata": {},
          "output_type": "execute_result"
        }
      ],
      "source": [
        "mean_oil_predict_geo_0"
      ]
    },
    {
      "cell_type": "code",
      "execution_count": null,
      "id": "c9047ddc",
      "metadata": {
        "scrolled": true,
        "id": "c9047ddc",
        "outputId": "f87ea1f6-3964-442d-9e4d-88992796ac1f"
      },
      "outputs": [
        {
          "data": {
            "text/plain": [
              "array([ 87.34847961,  84.31680699,  97.26245723, ..., 116.11358885,\n",
              "        62.91275356,  95.28259928])"
            ]
          },
          "execution_count": 24,
          "metadata": {},
          "output_type": "execute_result"
        }
      ],
      "source": [
        "predict_geo_0"
      ]
    },
    {
      "cell_type": "code",
      "execution_count": null,
      "id": "77305127",
      "metadata": {
        "id": "77305127",
        "outputId": "826610ce-3214-4bc5-e080-2f8ad8ffda93"
      },
      "outputs": [
        {
          "data": {
            "text/plain": [
              "array([  3.82207041, -14.17147255,   6.57045059])"
            ]
          },
          "execution_count": 25,
          "metadata": {},
          "output_type": "execute_result"
        }
      ],
      "source": [
        "coef_geo_0"
      ]
    },
    {
      "cell_type": "code",
      "execution_count": null,
      "id": "ccad1fd1",
      "metadata": {
        "id": "ccad1fd1",
        "outputId": "05931a94-49c5-4562-818f-9688e9659fc6"
      },
      "outputs": [
        {
          "data": {
            "text/plain": [
              "77.65677827341965"
            ]
          },
          "execution_count": 26,
          "metadata": {},
          "output_type": "execute_result"
        }
      ],
      "source": [
        "intercept_geo_0"
      ]
    },
    {
      "cell_type": "markdown",
      "id": "314e60f4",
      "metadata": {
        "id": "314e60f4"
      },
      "source": [
        "**Вывод:**\n",
        "\n",
        "В **первом** регионе средний предсказанный объем нефти равен: **92.5012 тыс. барр.**\n",
        "\n",
        "По качеству модели метрики очень хорошие одни из самых простых для интерпитации:\n",
        "\n",
        "1. **MAPE - 1.9632499128525909** весьма приличный показатель, отличается очень на маленькое количество процентов от фактического.\n",
        "2. **R2 - 0.2785931708375359** 28 процентов объясняется отношением\n",
        "3. **RMSE - 37.61698862149409**\n",
        "\n",
        "\n"
      ]
    },
    {
      "cell_type": "markdown",
      "id": "a2949eb1",
      "metadata": {
        "id": "a2949eb1"
      },
      "source": [
        "### geo_1"
      ]
    },
    {
      "cell_type": "code",
      "execution_count": null,
      "id": "93d7f5d4",
      "metadata": {
        "scrolled": false,
        "id": "93d7f5d4",
        "outputId": "00352c22-350d-40af-a79a-9e39f7436e7d"
      },
      "outputs": [
        {
          "name": "stdout",
          "output_type": "stream",
          "text": [
            "Коэффициенты линейной регресси для geo_1 слудующие: [-1.44695106e-01 -2.11585969e-02  2.69499539e+01]\n",
            "\n",
            "Интерсепт 1.6631296560641857\n",
            "\n",
            "Для таблицы geo_1 имеем следующие значения метрик линейной регрессии: \n",
            "\n",
            "RMSE для региона с таблицей под названием geo_1 равно: 0.8901574284390849 \n",
            "\n",
            "MSE для региона с таблицей под названием geo_1 равно: 0.7923802474052845 \n",
            "\n",
            "R2 для региона с таблицей под названием geo_1 равно: 0.9996244237480246 \n",
            "\n",
            "R2 adjusted для региона с таблицей под названием geo_1 равно: 1.0000000075116753 \n",
            "\n",
            "MAE для региона с таблицей под названием geo_1 равно: 0.719016191372541 \n",
            "\n",
            "MAPE для региона с таблицей под названием geo_1 равно: 270869072230838.06 \n",
            "\n",
            "Средний запас предсказанного сырья равен 68.81713795297324 тыс. барр.\n",
            "------------------------------\n",
            "Распределение запасов сырья:\n",
            "\n",
            "Среднее значения запасов  - лииня зеленого цвета\n"
          ]
        },
        {
          "data": {
            "image/png": "[encoded data removed]",
            "text/plain": [
              "<Figure size 432x288 with 1 Axes>"
            ]
          },
          "metadata": {
            "needs_background": "light"
          },
          "output_type": "display_data"
        }
      ],
      "source": [
        "predict_geo_1,target_geo_1,target_valid_geo_1, mean_oil_predict_geo_1,coef_geo_1,intercept_geo_1,rmse_geo_1 =teach_valid(geo_1)"
      ]
    },
    {
      "cell_type": "code",
      "execution_count": null,
      "id": "d4cfdbd2",
      "metadata": {
        "id": "d4cfdbd2"
      },
      "outputs": [],
      "source": [
        "\n",
        "# features = geo_1.drop(columns=['product'],axis=1)\n",
        "# target = geo_1['product']\n",
        "# features_train,features_valid,target_train,target_valid = train_test_split(features,\n",
        "#                                                                                target,\n",
        "#                                                                                test_size=0.25,\n",
        "#                                                                               random_state=7)\n",
        "# regressor = LinearRegression()\n",
        "# regressor.fit(features_train,target_train)\n",
        "# pred_lst = regressor.predict(features_valid)\n",
        "# tru = np.array(target_valid)\n",
        "# new = list()\n",
        "# for i in range(len(tru)):\n",
        "#     try:\n",
        "# #         фильтр, чтобы избавиться от 0 в фактческих значениях\n",
        "#         if tru[i] != 0:\n",
        "#             new.append((abs(tru[i] - pred_lst[i])/abs(tru[i]))*100)\n",
        "#     except:\n",
        "#         continue\n",
        "# print(pd.Series(new).mean())"
      ]
    },
    {
      "cell_type": "code",
      "execution_count": null,
      "id": "9fdc0296",
      "metadata": {
        "id": "9fdc0296",
        "outputId": "9f41e903-482a-4af6-b7ff-7f2cc8b75b02"
      },
      "outputs": [
        {
          "data": {
            "text/plain": [
              "68.81713795297324"
            ]
          },
          "execution_count": 29,
          "metadata": {},
          "output_type": "execute_result"
        }
      ],
      "source": [
        "mean_oil_predict_geo_1"
      ]
    },
    {
      "cell_type": "code",
      "execution_count": null,
      "id": "52440747",
      "metadata": {
        "scrolled": true,
        "id": "52440747",
        "outputId": "e1f9a918-668d-4c47-f32d-db324b6e3bed"
      },
      "outputs": [
        {
          "data": {
            "text/plain": [
              "array([108.88781388,   0.68815657, 137.73391939, ..., 136.7829639 ,\n",
              "       110.2652354 ,  81.8663542 ])"
            ]
          },
          "execution_count": 30,
          "metadata": {},
          "output_type": "execute_result"
        }
      ],
      "source": [
        "predict_geo_1"
      ]
    },
    {
      "cell_type": "code",
      "execution_count": null,
      "id": "4f57ad3d",
      "metadata": {
        "id": "4f57ad3d",
        "outputId": "1020d947-b4c0-4e5b-a8ae-8fd20f7c4996"
      },
      "outputs": [
        {
          "data": {
            "text/plain": [
              "array([-1.44695106e-01, -2.11585969e-02,  2.69499539e+01])"
            ]
          },
          "execution_count": 31,
          "metadata": {},
          "output_type": "execute_result"
        }
      ],
      "source": [
        "coef_geo_1"
      ]
    },
    {
      "cell_type": "code",
      "execution_count": null,
      "id": "7d3aed4a",
      "metadata": {
        "id": "7d3aed4a",
        "outputId": "87698dcb-de82-4e14-d007-efa58e3d6389"
      },
      "outputs": [
        {
          "data": {
            "text/plain": [
              "1.6631296560641857"
            ]
          },
          "execution_count": 32,
          "metadata": {},
          "output_type": "execute_result"
        }
      ],
      "source": [
        "intercept_geo_1"
      ]
    },
    {
      "cell_type": "markdown",
      "id": "3f4c2245",
      "metadata": {
        "id": "3f4c2245"
      },
      "source": [
        "**Вывод:**\n",
        "\n",
        "Во **втором** регионе средний предсказанный объем нефти равен: **68.8171 тыс. барр.**\n",
        "\n",
        "По качеству модели метрики очень хорошие одни из самых простых для интерпитации:\n",
        "\n",
        "1. **MAPE - 270869072230885.8** - не понимаю, как интерпретировать такие значения в MAPE\n",
        "2. **R2 - 0.9996244237480246** - 99% вариации выборки объясняется отношением\n",
        "3. **RMSE - 0.8901574284390872** - хороший показатель\n",
        "\n",
        "\n"
      ]
    },
    {
      "cell_type": "markdown",
      "id": "18c8dcbe",
      "metadata": {
        "id": "18c8dcbe"
      },
      "source": [
        "### geo_2"
      ]
    },
    {
      "cell_type": "code",
      "execution_count": null,
      "id": "ef9f9f41",
      "metadata": {
        "scrolled": false,
        "id": "ef9f9f41",
        "outputId": "14a14648-285f-474c-dbdc-3dac370456f6"
      },
      "outputs": [
        {
          "name": "stdout",
          "output_type": "stream",
          "text": [
            "Коэффициенты линейной регресси для geo_2 слудующие: [-0.06863612 -0.09000843  5.72816797]\n",
            "\n",
            "Интерсепт 80.69102574455522\n",
            "\n",
            "Для таблицы geo_2 имеем следующие значения метрик линейной регрессии: \n",
            "\n",
            "RMSE для региона с таблицей под названием geo_2 равно: 39.926127352654355 \n",
            "\n",
            "MSE для региона с таблицей под названием geo_2 равно: 1594.095645380374 \n",
            "\n",
            "R2 для региона с таблицей под названием geo_2 равно: 0.20142142084269643 \n",
            "\n",
            "R2 adjusted для региона с таблицей под названием geo_2 равно: 1.0000159718910209 \n",
            "\n",
            "MAE для региона с таблицей под названием geo_2 равно: 32.69490532019326 \n",
            "\n",
            "MAPE для региона с таблицей под названием geo_2 равно: 10314842098264.213 \n",
            "\n",
            "Средний запас предсказанного сырья равен 94.82396409311701 тыс. барр.\n",
            "------------------------------\n",
            "Распределение запасов сырья:\n",
            "\n",
            "Среднее значения запасов  - лииня зеленого цвета\n"
          ]
        },
        {
          "data": {
            "image/png": "[encoded data removed]",
            "text/plain": [
              "<Figure size 432x288 with 1 Axes>"
            ]
          },
          "metadata": {
            "needs_background": "light"
          },
          "output_type": "display_data"
        }
      ],
      "source": [
        "predict_geo_2,target_geo_2, target_valid_geo_2,mean_oil_predict_geo_2,coef_geo_2,intercept_geo_2,rmse_geo_2 = teach_valid(geo_2)"
      ]
    },
    {
      "cell_type": "code",
      "execution_count": null,
      "id": "b770b856",
      "metadata": {
        "id": "b770b856",
        "outputId": "02c15943-272c-43a9-8dc6-898aee3a70d6"
      },
      "outputs": [
        {
          "data": {
            "text/plain": [
              "94.82396409311701"
            ]
          },
          "execution_count": 34,
          "metadata": {},
          "output_type": "execute_result"
        }
      ],
      "source": [
        "mean_oil_predict_geo_2"
      ]
    },
    {
      "cell_type": "code",
      "execution_count": null,
      "id": "4dae37a5",
      "metadata": {
        "scrolled": true,
        "id": "4dae37a5",
        "outputId": "8919df5c-f9d2-41ed-9b64-bbcc36f1cb1f"
      },
      "outputs": [
        {
          "data": {
            "text/plain": [
              "array([ 94.1143419 ,  99.11823958, 108.6526572 , ...,  89.19502457,\n",
              "        49.90676966,  86.99351659])"
            ]
          },
          "execution_count": 35,
          "metadata": {},
          "output_type": "execute_result"
        }
      ],
      "source": [
        "predict_geo_2"
      ]
    },
    {
      "cell_type": "code",
      "execution_count": null,
      "id": "070f26f7",
      "metadata": {
        "id": "070f26f7",
        "outputId": "871955ce-4678-4505-ab8d-163a634c8943"
      },
      "outputs": [
        {
          "data": {
            "text/plain": [
              "array([-0.06863612, -0.09000843,  5.72816797])"
            ]
          },
          "execution_count": 36,
          "metadata": {},
          "output_type": "execute_result"
        }
      ],
      "source": [
        "coef_geo_2"
      ]
    },
    {
      "cell_type": "code",
      "execution_count": null,
      "id": "c05df427",
      "metadata": {
        "id": "c05df427",
        "outputId": "75a126e0-c331-4cfa-ca4d-28adad292be9"
      },
      "outputs": [
        {
          "data": {
            "text/plain": [
              "80.69102574455522"
            ]
          },
          "execution_count": 37,
          "metadata": {},
          "output_type": "execute_result"
        }
      ],
      "source": [
        "intercept_geo_2"
      ]
    },
    {
      "cell_type": "markdown",
      "id": "70825d0a",
      "metadata": {
        "id": "70825d0a"
      },
      "source": [
        "**Вывод:**\n",
        "\n",
        "В **третьем** регионе средний предсказанный объем нефти равен: **94.8240 тыс. барр.**\n",
        "\n",
        "По качеству модели метрики очень хорошие одни из самых простых для интерпитации:\n",
        "\n",
        "1. **MAPE - 10314842098264.219** - тоже не знаю как интерпретировать\n",
        "2. **R2 - 0.20142142084269654** -20% вариации выборки объясняется отношением\n",
        "3. **RMSE - 39.92612735265435**  \n",
        "\n",
        "\n",
        "\n"
      ]
    },
    {
      "cell_type": "markdown",
      "id": "268df20b",
      "metadata": {
        "id": "268df20b"
      },
      "source": [
        "## Общий вывод по моделям:\n",
        "* В **первом** регионе средний предсказанный объем нефти равен: **92.5012 тыс. барр.**\n",
        "* **RMSE - 37.61698862149409** немного лучше, чем в остальный регионах.\n",
        "--------\n",
        "\n",
        "* Во **втором** регионе средний предсказанный объем нефти равен: **68.8171 тыс. барр.**\n",
        "* **RMSE - 0.8901574284390872** - очень хороший показаиель\n",
        "------------\n",
        "\n",
        "* В **третьем** регионе средний предсказанный объем нефти равен: **94.8240 тыс. барр.**\n",
        "*  **RMSE - 39.92612735265435** - не самый лучший показатель\n"
      ]
    },
    {
      "cell_type": "code",
      "execution_count": null,
      "id": "a5b8a5ed",
      "metadata": {
        "id": "a5b8a5ed"
      },
      "outputs": [],
      "source": []
    },
    {
      "cell_type": "code",
      "execution_count": null,
      "id": "6c94f5a4",
      "metadata": {
        "scrolled": true,
        "id": "6c94f5a4",
        "outputId": "512c1d6b-0950-485e-adbe-92cafb363f9c"
      },
      "outputs": [
        {
          "data": {
            "text/plain": [
              "(92.50122097236377, 68.81713795297324, 94.82396409311701)"
            ]
          },
          "execution_count": 38,
          "metadata": {},
          "output_type": "execute_result"
        }
      ],
      "source": [
        "mean_oil_predict_geo_0,mean_oil_predict_geo_1,mean_oil_predict_geo_2"
      ]
    },
    {
      "cell_type": "code",
      "execution_count": null,
      "id": "7f8658ad",
      "metadata": {
        "id": "7f8658ad",
        "outputId": "923b63ad-b8bc-4cb1-8208-9968bb8681e1"
      },
      "outputs": [
        {
          "data": {
            "text/plain": [
              "39.926127352654355"
            ]
          },
          "execution_count": 39,
          "metadata": {},
          "output_type": "execute_result"
        }
      ],
      "source": [
        "rmse_geo_2"
      ]
    },
    {
      "cell_type": "code",
      "execution_count": null,
      "id": "30b06822",
      "metadata": {
        "id": "30b06822"
      },
      "outputs": [],
      "source": [
        "geo_mean_reserves = pd.DataFrame(data={'Регион':['geo_0','geo_1','geo_2'],\n",
        "                                       \"Средний запас нефти\":[mean_oil_predict_geo_0,mean_oil_predict_geo_1,mean_oil_predict_geo_2],\n",
        "                                      'Значение метрики RMSE':[rmse_geo_0,rmse_geo_1,rmse_geo_2]})"
      ]
    },
    {
      "cell_type": "code",
      "execution_count": null,
      "id": "67ce91ed",
      "metadata": {
        "id": "67ce91ed",
        "outputId": "f244037d-e181-49f3-b2f1-ca73bdc63235"
      },
      "outputs": [
        {
          "data": {
            "text/html": [
              "<div>\n",
              "<style scoped>\n",
              "    .dataframe tbody tr th:only-of-type {\n",
              "        vertical-align: middle;\n",
              "    }\n",
              "\n",
              "    .dataframe tbody tr th {\n",
              "        vertical-align: top;\n",
              "    }\n",
              "\n",
              "    .dataframe thead th {\n",
              "        text-align: right;\n",
              "    }\n",
              "</style>\n",
              "<table border=\"1\" class=\"dataframe\">\n",
              "  <thead>\n",
              "    <tr style=\"text-align: right;\">\n",
              "      <th></th>\n",
              "      <th>Регион</th>\n",
              "      <th>Средний запас нефти</th>\n",
              "      <th>Значение метрики RMSE</th>\n",
              "    </tr>\n",
              "  </thead>\n",
              "  <tbody>\n",
              "    <tr>\n",
              "      <th>0</th>\n",
              "      <td>geo_0</td>\n",
              "      <td>92.501221</td>\n",
              "      <td>37.616989</td>\n",
              "    </tr>\n",
              "    <tr>\n",
              "      <th>1</th>\n",
              "      <td>geo_1</td>\n",
              "      <td>68.817138</td>\n",
              "      <td>0.890157</td>\n",
              "    </tr>\n",
              "    <tr>\n",
              "      <th>2</th>\n",
              "      <td>geo_2</td>\n",
              "      <td>94.823964</td>\n",
              "      <td>39.926127</td>\n",
              "    </tr>\n",
              "  </tbody>\n",
              "</table>\n",
              "</div>"
            ],
            "text/plain": [
              "  Регион  Средний запас нефти  Значение метрики RMSE\n",
              "0  geo_0            92.501221              37.616989\n",
              "1  geo_1            68.817138               0.890157\n",
              "2  geo_2            94.823964              39.926127"
            ]
          },
          "execution_count": 41,
          "metadata": {},
          "output_type": "execute_result"
        }
      ],
      "source": [
        "geo_mean_reserves"
      ]
    },
    {
      "cell_type": "code",
      "execution_count": null,
      "id": "9f76e467",
      "metadata": {
        "id": "9f76e467",
        "outputId": "15b7c357-42d7-4d8f-d85d-8bf2d464e5c1"
      },
      "outputs": [
        {
          "data": {
            "image/png": "[encoded data removed]",
            "text/plain": [
              "<Figure size 360x288 with 1 Axes>"
            ]
          },
          "metadata": {
            "needs_background": "light"
          },
          "output_type": "display_data"
        }
      ],
      "source": [
        "figure(figsize=(5,4))\n",
        "\n",
        "plt.bar(geo_mean_reserves.sort_values(by=['Значение метрики RMSE'],ascending=False)['Регион'],\n",
        "        geo_mean_reserves.sort_values(by=['Значение метрики RMSE'],ascending=False)['Значение метрики RMSE'],\n",
        "        color='limegreen')\n",
        "plt.title('Значение метрик RMSE по регионам в порядке убывания')\n",
        "plt.xlabel('Регион')\n",
        "plt.ylabel('RMSE')\n",
        "plt.grid()\n",
        "plt.show()"
      ]
    },
    {
      "cell_type": "code",
      "execution_count": null,
      "id": "e6ebe279",
      "metadata": {
        "scrolled": true,
        "id": "e6ebe279",
        "outputId": "742cb982-63fa-41dd-b098-915b64355654"
      },
      "outputs": [
        {
          "data": {
            "image/png": "[encoded data removed]",
            "text/plain": [
              "<Figure size 360x288 with 1 Axes>"
            ]
          },
          "metadata": {
            "needs_background": "light"
          },
          "output_type": "display_data"
        }
      ],
      "source": [
        "figure(figsize=(5,4))\n",
        "plt.bar(geo_mean_reserves.sort_values(by='Средний запас нефти')['Регион'],\n",
        "        geo_mean_reserves.sort_values(by='Средний запас нефти')['Средний запас нефти'],\n",
        "        color='lightgreen')\n",
        "plt.title('Среднее кол-во запасов нефти')\n",
        "plt.xlabel('Регион')\n",
        "plt.ylabel('Тыс. барр.')\n",
        "plt.grid()\n",
        "plt.show()\n"
      ]
    },
    {
      "cell_type": "code",
      "execution_count": null,
      "id": "252c3dc8",
      "metadata": {
        "scrolled": true,
        "id": "252c3dc8",
        "outputId": "4310c1cd-c31d-44c9-a7bc-f740611230a0"
      },
      "outputs": [
        {
          "data": {
            "text/html": [
              "<div>\n",
              "<style scoped>\n",
              "    .dataframe tbody tr th:only-of-type {\n",
              "        vertical-align: middle;\n",
              "    }\n",
              "\n",
              "    .dataframe tbody tr th {\n",
              "        vertical-align: top;\n",
              "    }\n",
              "\n",
              "    .dataframe thead th {\n",
              "        text-align: right;\n",
              "    }\n",
              "</style>\n",
              "<table border=\"1\" class=\"dataframe\">\n",
              "  <thead>\n",
              "    <tr style=\"text-align: right;\">\n",
              "      <th></th>\n",
              "      <th>Средний запас нефти</th>\n",
              "      <th>Значение метрики RMSE</th>\n",
              "    </tr>\n",
              "  </thead>\n",
              "  <tbody>\n",
              "    <tr>\n",
              "      <th>Средний запас нефти</th>\n",
              "      <td>1.000000</td>\n",
              "      <td>0.999607</td>\n",
              "    </tr>\n",
              "    <tr>\n",
              "      <th>Значение метрики RMSE</th>\n",
              "      <td>0.999607</td>\n",
              "      <td>1.000000</td>\n",
              "    </tr>\n",
              "  </tbody>\n",
              "</table>\n",
              "</div>"
            ],
            "text/plain": [
              "                       Средний запас нефти  Значение метрики RMSE\n",
              "Средний запас нефти               1.000000               0.999607\n",
              "Значение метрики RMSE             0.999607               1.000000"
            ]
          },
          "execution_count": 44,
          "metadata": {},
          "output_type": "execute_result"
        }
      ],
      "source": [
        "geo_mean_reserves.corr()"
      ]
    },
    {
      "cell_type": "code",
      "execution_count": null,
      "id": "638aa95c",
      "metadata": {
        "id": "638aa95c",
        "outputId": "0bc907db-182b-4b46-aec3-55df2398d623"
      },
      "outputs": [
        {
          "data": {
            "text/html": [
              "<div>\n",
              "<style scoped>\n",
              "    .dataframe tbody tr th:only-of-type {\n",
              "        vertical-align: middle;\n",
              "    }\n",
              "\n",
              "    .dataframe tbody tr th {\n",
              "        vertical-align: top;\n",
              "    }\n",
              "\n",
              "    .dataframe thead th {\n",
              "        text-align: right;\n",
              "    }\n",
              "</style>\n",
              "<table border=\"1\" class=\"dataframe\">\n",
              "  <thead>\n",
              "    <tr style=\"text-align: right;\">\n",
              "      <th></th>\n",
              "      <th>Регион</th>\n",
              "      <th>Средний запас нефти</th>\n",
              "      <th>Значение метрики RMSE</th>\n",
              "    </tr>\n",
              "  </thead>\n",
              "  <tbody>\n",
              "    <tr>\n",
              "      <th>0</th>\n",
              "      <td>geo_0</td>\n",
              "      <td>92.501221</td>\n",
              "      <td>37.616989</td>\n",
              "    </tr>\n",
              "    <tr>\n",
              "      <th>1</th>\n",
              "      <td>geo_1</td>\n",
              "      <td>68.817138</td>\n",
              "      <td>0.890157</td>\n",
              "    </tr>\n",
              "    <tr>\n",
              "      <th>2</th>\n",
              "      <td>geo_2</td>\n",
              "      <td>94.823964</td>\n",
              "      <td>39.926127</td>\n",
              "    </tr>\n",
              "  </tbody>\n",
              "</table>\n",
              "</div>"
            ],
            "text/plain": [
              "  Регион  Средний запас нефти  Значение метрики RMSE\n",
              "0  geo_0            92.501221              37.616989\n",
              "1  geo_1            68.817138               0.890157\n",
              "2  geo_2            94.823964              39.926127"
            ]
          },
          "execution_count": 45,
          "metadata": {},
          "output_type": "execute_result"
        }
      ],
      "source": [
        "geo_mean_reserves"
      ]
    },
    {
      "cell_type": "markdown",
      "id": "3022e9a5",
      "metadata": {
        "id": "3022e9a5"
      },
      "source": [
        "**Вывод:**\n",
        "\n",
        "Из графиков и матрицы коэффициентов корреляции Пирсона видно, что между RMSE и среднем значнием есть практически абсолютная (функцинальная) зависимость. При увеличении RMSE, средний запас нефти растет.\n",
        "\n",
        "Лучшие модели по возрастанию RMSE и их средние запасы нефти:\n",
        "\n",
        "1. Регион 2\n",
        "    * Средний запас нефти равен **68.817138 тысяч. барр.**\n",
        "    * RMSE равен **0.890157**\n",
        "2. Регион 1\n",
        "    * Средний запас нефти равен **92.501221 тысяч. барр.**\n",
        "    * RMSE равен **37.616989**\n",
        "3. Регион 3\n",
        "    * Средний запас нефти равен **94.823964 тысяч. барр.**\n",
        "    * RMSE равен **39.926127**\n",
        "\n",
        "\n",
        "Считаю, что лучше выбрать для разведки и расчета прибыли Регион 3"
      ]
    },
    {
      "cell_type": "markdown",
      "id": "36420149",
      "metadata": {
        "id": "36420149"
      },
      "source": [
        "## Подготовка  и расчет прибыли и рисков"
      ]
    },
    {
      "cell_type": "code",
      "execution_count": null,
      "id": "2bdaf4a8",
      "metadata": {
        "id": "2bdaf4a8"
      },
      "outputs": [],
      "source": [
        "SEARCH_REGION = 500\n",
        "BUDGET = 10_000_000_000\n",
        "BEST_SLIM_HOLE = 200\n",
        "BARREL_PRICE = 450\n",
        "UNITS_PROFIT= 450_000\n",
        "RISK = 0.025"
      ]
    },
    {
      "cell_type": "code",
      "execution_count": null,
      "id": "ae76da06",
      "metadata": {
        "id": "ae76da06"
      },
      "outputs": [],
      "source": [
        "BREAK_EVEN_POINT = (BUDGET /  UNITS_PROFIT) / BEST_SLIM_HOLE"
      ]
    },
    {
      "cell_type": "code",
      "execution_count": null,
      "id": "7e348902",
      "metadata": {
        "id": "7e348902",
        "outputId": "34341964-d37a-4cc3-8e09-79e6c61c0a98"
      },
      "outputs": [
        {
          "data": {
            "text/plain": [
              "111.11111111111111"
            ]
          },
          "execution_count": 48,
          "metadata": {},
          "output_type": "execute_result"
        }
      ],
      "source": [
        "BREAK_EVEN_POINT"
      ]
    },
    {
      "cell_type": "code",
      "execution_count": null,
      "id": "98f264bb",
      "metadata": {
        "id": "98f264bb",
        "outputId": "970890a6-d703-4124-d727-171ba54ebaef"
      },
      "outputs": [
        {
          "data": {
            "text/html": [
              "<div>\n",
              "<style scoped>\n",
              "    .dataframe tbody tr th:only-of-type {\n",
              "        vertical-align: middle;\n",
              "    }\n",
              "\n",
              "    .dataframe tbody tr th {\n",
              "        vertical-align: top;\n",
              "    }\n",
              "\n",
              "    .dataframe thead th {\n",
              "        text-align: right;\n",
              "    }\n",
              "</style>\n",
              "<table border=\"1\" class=\"dataframe\">\n",
              "  <thead>\n",
              "    <tr style=\"text-align: right;\">\n",
              "      <th></th>\n",
              "      <th>Регион</th>\n",
              "      <th>Средний запас нефти</th>\n",
              "      <th>Значение метрики RMSE</th>\n",
              "    </tr>\n",
              "  </thead>\n",
              "  <tbody>\n",
              "    <tr>\n",
              "      <th>0</th>\n",
              "      <td>geo_0</td>\n",
              "      <td>92.501221</td>\n",
              "      <td>37.616989</td>\n",
              "    </tr>\n",
              "    <tr>\n",
              "      <th>1</th>\n",
              "      <td>geo_1</td>\n",
              "      <td>68.817138</td>\n",
              "      <td>0.890157</td>\n",
              "    </tr>\n",
              "    <tr>\n",
              "      <th>2</th>\n",
              "      <td>geo_2</td>\n",
              "      <td>94.823964</td>\n",
              "      <td>39.926127</td>\n",
              "    </tr>\n",
              "  </tbody>\n",
              "</table>\n",
              "</div>"
            ],
            "text/plain": [
              "  Регион  Средний запас нефти  Значение метрики RMSE\n",
              "0  geo_0            92.501221              37.616989\n",
              "1  geo_1            68.817138               0.890157\n",
              "2  geo_2            94.823964              39.926127"
            ]
          },
          "execution_count": 49,
          "metadata": {},
          "output_type": "execute_result"
        }
      ],
      "source": [
        "geo_mean_reserves"
      ]
    },
    {
      "cell_type": "code",
      "execution_count": null,
      "id": "5d37983b",
      "metadata": {
        "id": "5d37983b"
      },
      "outputs": [],
      "source": [
        "def profit_calculation(target, predictions, points_for_develop=BEST_SLIM_HOLE):\n",
        "    # Отбираем скважины с максимальными значениями предсказаний\n",
        "    pred_points = predictions.sort_values(ascending=False)\n",
        "    # Выбираем 200 лучших\n",
        "    target_points = target[pred_points.index][:points_for_develop]\n",
        "    # Рассчитаем прибыль\n",
        "    profit = target_points.sum() * UNITS_PROFIT - BUDGET\n",
        "    return profit\n"
      ]
    },
    {
      "cell_type": "code",
      "execution_count": null,
      "id": "660cc7e2",
      "metadata": {
        "id": "660cc7e2"
      },
      "outputs": [],
      "source": [
        "profit_geo_0 = profit_calculation(target_geo_0,pd.Series(predict_geo_0))\n",
        "\n"
      ]
    },
    {
      "cell_type": "code",
      "execution_count": null,
      "id": "b050e8a1",
      "metadata": {
        "id": "b050e8a1"
      },
      "outputs": [],
      "source": [
        "profit_geo_1 = profit_calculation(target_geo_1,pd.Series(predict_geo_1))\n",
        "\n"
      ]
    },
    {
      "cell_type": "code",
      "execution_count": null,
      "id": "0573998f",
      "metadata": {
        "id": "0573998f"
      },
      "outputs": [],
      "source": [
        "profit_geo_2 = profit_calculation(target_geo_2,pd.Series(predict_geo_2))\n",
        "\n"
      ]
    },
    {
      "cell_type": "code",
      "execution_count": null,
      "id": "c1216351",
      "metadata": {
        "id": "c1216351",
        "outputId": "0adfe47e-87c8-4c81-81cf-05929ca9fb09"
      },
      "outputs": [
        {
          "data": {
            "text/plain": [
              "-1648835495.4938002"
            ]
          },
          "execution_count": 54,
          "metadata": {},
          "output_type": "execute_result"
        }
      ],
      "source": [
        "profit_geo_0"
      ]
    },
    {
      "cell_type": "code",
      "execution_count": null,
      "id": "bf6a4b7f",
      "metadata": {
        "id": "bf6a4b7f",
        "outputId": "e7ea0987-e419-45d9-93a2-a04df84ceade"
      },
      "outputs": [
        {
          "data": {
            "text/plain": [
              "-3858823873.629981"
            ]
          },
          "execution_count": 55,
          "metadata": {},
          "output_type": "execute_result"
        }
      ],
      "source": [
        "profit_geo_1"
      ]
    },
    {
      "cell_type": "code",
      "execution_count": null,
      "id": "05c2ebac",
      "metadata": {
        "scrolled": true,
        "id": "05c2ebac",
        "outputId": "2321499a-8286-411b-c2ab-66edf7c9e6da"
      },
      "outputs": [
        {
          "data": {
            "text/plain": [
              "-1661945527.8414288"
            ]
          },
          "execution_count": 56,
          "metadata": {},
          "output_type": "execute_result"
        }
      ],
      "source": [
        "profit_geo_2"
      ]
    },
    {
      "cell_type": "code",
      "execution_count": null,
      "id": "7c5f482e",
      "metadata": {
        "id": "7c5f482e"
      },
      "outputs": [],
      "source": [
        "rs = 7"
      ]
    },
    {
      "cell_type": "code",
      "execution_count": null,
      "id": "bb2b0801",
      "metadata": {
        "id": "bb2b0801"
      },
      "outputs": [],
      "source": [
        "\n",
        "def profit_and_risk(y_valid, y_pred, region, oil_exploration_points=SEARCH_REGION, show_print=True):\n",
        "    # Cоздадим объект RandomState() чтобы при каждом новом вызове его состояние менялось на случайное\n",
        "    state = np.random.RandomState(rs)\n",
        "    # Список значений прибыли каждой из подвыборок\n",
        "    bootstrap_profit = []\n",
        "    y_valid = y_valid.reset_index(drop=True)\n",
        "    y_pred = pd.Series(y_pred)\n",
        "    # Делаем bootstrap на 1000 выборок\n",
        "    for i in range(1000):\n",
        "        # Берем случайную выборку на 500 точек\n",
        "        target_subsample = y_valid.sample(\n",
        "            oil_exploration_points, replace=True, random_state=state)\n",
        "        # И предсказания по этим точкам\n",
        "        probs_subsample = y_pred[target_subsample.index]\n",
        "        # Передаем в функцию расчета прибыли\n",
        "        res = profit_calculation(target_subsample, probs_subsample)\n",
        "        # Добавляем в список\n",
        "        bootstrap_profit.append(res)\n",
        "\n",
        "    bootstrap_profit = pd.Series(bootstrap_profit)\n",
        "    # Нижний квантиль\n",
        "    lower = bootstrap_profit.quantile(.025)\n",
        "    # Верхний\n",
        "    high = bootstrap_profit.quantile(.975)\n",
        "    # Среднее значение\n",
        "    mean_profit = round(bootstrap_profit.mean()/1e6)\n",
        "    # Риск определим как вероятность получения отрицательной прибыли (в скольки случаях из 1000 мы получаем отрицательную прибыль)\n",
        "    risk = (bootstrap_profit < 0).mean() * 100\n",
        "    if show_print:\n",
        "        print(f'Средняя прибыль в регионе {region}: {mean_profit} млн.руб')\n",
        "        print(\n",
        "            f'95%-доверительный интервал для региона {region} ({round(lower / 1e6, 1)} - {round(high / 1e6, 1)}) млн.руб')\n",
        "        print(\n",
        "            f'Риск убытков для региона {region}: {risk} %')\n",
        "\n",
        "    return mean_profit, risk"
      ]
    },
    {
      "cell_type": "code",
      "execution_count": null,
      "id": "c7b8cc20",
      "metadata": {
        "id": "c7b8cc20",
        "outputId": "aa71c4ae-368c-4f72-a199-41811ca09064"
      },
      "outputs": [
        {
          "name": "stdout",
          "output_type": "stream",
          "text": [
            "Средняя прибыль в регионе geo_0: 458 млн.руб\n",
            "95%-доверительный интервал для региона geo_0 (-73.1 - 995.1) млн.руб\n",
            "Риск убытков для региона geo_0: 4.6 %\n"
          ]
        },
        {
          "data": {
            "text/plain": [
              "(458, 4.6)"
            ]
          },
          "execution_count": 59,
          "metadata": {},
          "output_type": "execute_result"
        }
      ],
      "source": [
        "profit_and_risk(target_valid_geo_0,predict_geo_0,geo_0.name)"
      ]
    },
    {
      "cell_type": "code",
      "execution_count": null,
      "id": "328ea547",
      "metadata": {
        "id": "328ea547",
        "outputId": "2a454d06-7415-4b70-d71e-c9ed2789cb17"
      },
      "outputs": [
        {
          "name": "stdout",
          "output_type": "stream",
          "text": [
            "Средняя прибыль в регионе geo_1: 497 млн.руб\n",
            "95%-доверительный интервал для региона geo_1 (81.7 - 947.4) млн.руб\n",
            "Риск убытков для региона geo_1: 0.8 %\n"
          ]
        },
        {
          "data": {
            "text/plain": [
              "(497, 0.8)"
            ]
          },
          "execution_count": 60,
          "metadata": {},
          "output_type": "execute_result"
        }
      ],
      "source": [
        "profit_and_risk(target_valid_geo_1,predict_geo_1,geo_1.name)"
      ]
    },
    {
      "cell_type": "code",
      "execution_count": null,
      "id": "207de695",
      "metadata": {
        "id": "207de695",
        "outputId": "154966dd-d01e-413a-cef2-f97272d81645"
      },
      "outputs": [
        {
          "name": "stdout",
          "output_type": "stream",
          "text": [
            "Средняя прибыль в регионе geo_2: 388 млн.руб\n",
            "95%-доверительный интервал для региона geo_2 (-124.0 - 924.7) млн.руб\n",
            "Риск убытков для региона geo_2: 7.8 %\n"
          ]
        },
        {
          "data": {
            "text/plain": [
              "(388, 7.8)"
            ]
          },
          "execution_count": 61,
          "metadata": {},
          "output_type": "execute_result"
        }
      ],
      "source": [
        "profit_and_risk(target_valid_geo_2,predict_geo_2,geo_2.name)"
      ]
    },
    {
      "cell_type": "markdown",
      "id": "e7c03574",
      "metadata": {
        "id": "e7c03574"
      },
      "source": [
        "## Итог"
      ]
    },
    {
      "cell_type": "markdown",
      "id": "ccfeae82",
      "metadata": {
        "id": "ccfeae82"
      },
      "source": [
        "**Вывод:**\n",
        "\n",
        "Лучший регион для разведки является второй со средней прибылью в 497 млн рублей.\n",
        "\n"
      ]
    }
  ],
  "metadata": {
    "ExecuteTimeLog": [
      {
        "duration": 52,
        "start_time": "2022-10-06T11:37:26.204Z"
      },
      {
        "duration": 6,
        "start_time": "2022-10-06T11:37:26.527Z"
      },
      {
        "duration": 10,
        "start_time": "2022-10-06T11:37:26.719Z"
      },
      {
        "duration": 4,
        "start_time": "2022-10-06T11:37:32.598Z"
      },
      {
        "duration": 1793,
        "start_time": "2022-10-06T11:37:32.605Z"
      },
      {
        "duration": 0,
        "start_time": "2022-10-06T11:37:34.401Z"
      },
      {
        "duration": 0,
        "start_time": "2022-10-06T11:37:34.402Z"
      },
      {
        "duration": 0,
        "start_time": "2022-10-06T11:37:34.403Z"
      },
      {
        "duration": 0,
        "start_time": "2022-10-06T11:37:34.405Z"
      },
      {
        "duration": 0,
        "start_time": "2022-10-06T11:37:34.406Z"
      },
      {
        "duration": 0,
        "start_time": "2022-10-06T11:37:34.407Z"
      },
      {
        "duration": 0,
        "start_time": "2022-10-06T11:37:34.420Z"
      },
      {
        "duration": 0,
        "start_time": "2022-10-06T11:37:34.421Z"
      },
      {
        "duration": 0,
        "start_time": "2022-10-06T11:37:34.423Z"
      },
      {
        "duration": 0,
        "start_time": "2022-10-06T11:37:34.424Z"
      },
      {
        "duration": 0,
        "start_time": "2022-10-06T11:37:34.425Z"
      },
      {
        "duration": 0,
        "start_time": "2022-10-06T11:37:34.426Z"
      },
      {
        "duration": 0,
        "start_time": "2022-10-06T11:37:34.427Z"
      },
      {
        "duration": 0,
        "start_time": "2022-10-06T11:37:34.428Z"
      },
      {
        "duration": 0,
        "start_time": "2022-10-06T11:37:34.429Z"
      },
      {
        "duration": 0,
        "start_time": "2022-10-06T11:37:34.430Z"
      },
      {
        "duration": 0,
        "start_time": "2022-10-06T11:37:34.431Z"
      },
      {
        "duration": 0,
        "start_time": "2022-10-06T11:37:34.432Z"
      },
      {
        "duration": 0,
        "start_time": "2022-10-06T11:37:34.434Z"
      },
      {
        "duration": 0,
        "start_time": "2022-10-06T11:37:34.435Z"
      },
      {
        "duration": 0,
        "start_time": "2022-10-06T11:37:34.435Z"
      },
      {
        "duration": 0,
        "start_time": "2022-10-06T11:37:34.436Z"
      },
      {
        "duration": 0,
        "start_time": "2022-10-06T11:37:34.438Z"
      },
      {
        "duration": 0,
        "start_time": "2022-10-06T11:37:34.438Z"
      },
      {
        "duration": 0,
        "start_time": "2022-10-06T11:37:34.440Z"
      },
      {
        "duration": 0,
        "start_time": "2022-10-06T11:37:34.441Z"
      },
      {
        "duration": 0,
        "start_time": "2022-10-06T11:37:34.442Z"
      },
      {
        "duration": 0,
        "start_time": "2022-10-06T11:37:34.443Z"
      },
      {
        "duration": 0,
        "start_time": "2022-10-06T11:37:34.444Z"
      },
      {
        "duration": 0,
        "start_time": "2022-10-06T11:37:34.446Z"
      },
      {
        "duration": 0,
        "start_time": "2022-10-06T11:37:34.447Z"
      },
      {
        "duration": 0,
        "start_time": "2022-10-06T11:37:34.448Z"
      },
      {
        "duration": 0,
        "start_time": "2022-10-06T11:37:34.450Z"
      },
      {
        "duration": 0,
        "start_time": "2022-10-06T11:37:34.451Z"
      },
      {
        "duration": 0,
        "start_time": "2022-10-06T11:37:34.452Z"
      },
      {
        "duration": 0,
        "start_time": "2022-10-06T11:37:34.453Z"
      },
      {
        "duration": 0,
        "start_time": "2022-10-06T11:37:34.454Z"
      },
      {
        "duration": 0,
        "start_time": "2022-10-06T11:37:34.455Z"
      },
      {
        "duration": 0,
        "start_time": "2022-10-06T11:37:34.457Z"
      },
      {
        "duration": 0,
        "start_time": "2022-10-06T11:37:34.458Z"
      },
      {
        "duration": 0,
        "start_time": "2022-10-06T11:37:34.520Z"
      },
      {
        "duration": 0,
        "start_time": "2022-10-06T11:37:34.522Z"
      },
      {
        "duration": 0,
        "start_time": "2022-10-06T11:37:34.523Z"
      },
      {
        "duration": 0,
        "start_time": "2022-10-06T11:37:34.525Z"
      },
      {
        "duration": 0,
        "start_time": "2022-10-06T11:37:34.526Z"
      },
      {
        "duration": 0,
        "start_time": "2022-10-06T11:37:34.527Z"
      },
      {
        "duration": 0,
        "start_time": "2022-10-06T11:37:34.528Z"
      },
      {
        "duration": 0,
        "start_time": "2022-10-06T11:37:34.530Z"
      },
      {
        "duration": 0,
        "start_time": "2022-10-06T11:37:34.531Z"
      },
      {
        "duration": 0,
        "start_time": "2022-10-06T11:37:34.532Z"
      },
      {
        "duration": 0,
        "start_time": "2022-10-06T11:37:34.533Z"
      },
      {
        "duration": 0,
        "start_time": "2022-10-06T11:37:34.534Z"
      },
      {
        "duration": 0,
        "start_time": "2022-10-06T11:37:34.536Z"
      },
      {
        "duration": 0,
        "start_time": "2022-10-06T11:37:34.537Z"
      },
      {
        "duration": 0,
        "start_time": "2022-10-06T11:37:34.539Z"
      },
      {
        "duration": 0,
        "start_time": "2022-10-06T11:37:34.540Z"
      },
      {
        "duration": 0,
        "start_time": "2022-10-06T11:37:34.541Z"
      },
      {
        "duration": 0,
        "start_time": "2022-10-06T11:37:34.542Z"
      },
      {
        "duration": 0,
        "start_time": "2022-10-06T11:37:34.543Z"
      },
      {
        "duration": 13134,
        "start_time": "2022-10-06T16:27:42.083Z"
      },
      {
        "duration": 2,
        "start_time": "2022-10-06T16:28:21.022Z"
      },
      {
        "duration": 2135,
        "start_time": "2022-10-06T16:28:21.772Z"
      },
      {
        "duration": 22,
        "start_time": "2022-10-06T16:28:33.297Z"
      },
      {
        "duration": 3,
        "start_time": "2022-10-06T16:28:50.130Z"
      },
      {
        "duration": 3,
        "start_time": "2022-10-06T16:28:50.343Z"
      },
      {
        "duration": 801,
        "start_time": "2022-10-06T16:28:50.557Z"
      },
      {
        "duration": 5,
        "start_time": "2022-10-06T16:28:51.360Z"
      },
      {
        "duration": 2,
        "start_time": "2022-10-06T16:28:51.381Z"
      },
      {
        "duration": 45,
        "start_time": "2022-10-06T16:28:51.800Z"
      },
      {
        "duration": 40,
        "start_time": "2022-10-06T16:28:52.217Z"
      },
      {
        "duration": 410,
        "start_time": "2022-10-06T16:28:52.374Z"
      },
      {
        "duration": 2,
        "start_time": "2022-10-06T16:28:53.441Z"
      },
      {
        "duration": 56,
        "start_time": "2022-10-06T16:28:54.319Z"
      },
      {
        "duration": 39,
        "start_time": "2022-10-06T16:28:54.981Z"
      },
      {
        "duration": 394,
        "start_time": "2022-10-06T16:28:55.456Z"
      },
      {
        "duration": 3,
        "start_time": "2022-10-06T16:28:55.938Z"
      },
      {
        "duration": 45,
        "start_time": "2022-10-06T16:28:56.186Z"
      },
      {
        "duration": 39,
        "start_time": "2022-10-06T16:28:56.494Z"
      },
      {
        "duration": 314,
        "start_time": "2022-10-06T16:28:56.776Z"
      },
      {
        "duration": 18,
        "start_time": "2022-10-06T16:29:10.488Z"
      },
      {
        "duration": 90,
        "start_time": "2022-10-06T16:30:19.326Z"
      },
      {
        "duration": 3,
        "start_time": "2022-10-06T16:30:19.555Z"
      },
      {
        "duration": 9,
        "start_time": "2022-10-06T16:30:19.691Z"
      },
      {
        "duration": 3,
        "start_time": "2022-10-06T16:30:25.856Z"
      },
      {
        "duration": 9,
        "start_time": "2022-10-06T16:30:26.163Z"
      },
      {
        "duration": 852,
        "start_time": "2022-10-06T16:30:26.574Z"
      },
      {
        "duration": 5,
        "start_time": "2022-10-06T16:30:27.428Z"
      },
      {
        "duration": 14,
        "start_time": "2022-10-06T16:30:27.439Z"
      },
      {
        "duration": 5,
        "start_time": "2022-10-06T16:30:27.582Z"
      },
      {
        "duration": 4,
        "start_time": "2022-10-06T16:30:27.806Z"
      },
      {
        "duration": 818,
        "start_time": "2022-10-06T16:30:28.961Z"
      },
      {
        "duration": 4,
        "start_time": "2022-10-06T16:31:10.363Z"
      },
      {
        "duration": 1946,
        "start_time": "2022-10-06T16:31:10.377Z"
      },
      {
        "duration": 3,
        "start_time": "2022-10-06T16:31:12.325Z"
      },
      {
        "duration": 15,
        "start_time": "2022-10-06T16:31:12.330Z"
      },
      {
        "duration": 454,
        "start_time": "2022-10-06T16:31:12.347Z"
      },
      {
        "duration": 5,
        "start_time": "2022-10-06T16:31:12.803Z"
      },
      {
        "duration": 14,
        "start_time": "2022-10-06T16:31:12.810Z"
      },
      {
        "duration": 64,
        "start_time": "2022-10-06T16:31:12.826Z"
      },
      {
        "duration": 72,
        "start_time": "2022-10-06T16:31:12.892Z"
      },
      {
        "duration": 356,
        "start_time": "2022-10-06T16:31:12.966Z"
      },
      {
        "duration": 4,
        "start_time": "2022-10-06T16:31:13.325Z"
      },
      {
        "duration": 89,
        "start_time": "2022-10-06T16:31:13.330Z"
      },
      {
        "duration": 58,
        "start_time": "2022-10-06T16:31:13.422Z"
      },
      {
        "duration": 364,
        "start_time": "2022-10-06T16:31:13.482Z"
      },
      {
        "duration": 3,
        "start_time": "2022-10-06T16:31:13.848Z"
      },
      {
        "duration": 93,
        "start_time": "2022-10-06T16:31:13.853Z"
      },
      {
        "duration": 52,
        "start_time": "2022-10-06T16:31:13.948Z"
      },
      {
        "duration": 459,
        "start_time": "2022-10-06T16:31:14.002Z"
      },
      {
        "duration": 20,
        "start_time": "2022-10-06T16:31:14.463Z"
      },
      {
        "duration": 5,
        "start_time": "2022-10-06T16:31:14.486Z"
      },
      {
        "duration": 19,
        "start_time": "2022-10-06T16:31:14.493Z"
      },
      {
        "duration": 897,
        "start_time": "2022-10-06T16:31:14.514Z"
      },
      {
        "duration": 4,
        "start_time": "2022-10-06T16:31:15.412Z"
      },
      {
        "duration": 23,
        "start_time": "2022-10-06T16:31:15.418Z"
      },
      {
        "duration": 13,
        "start_time": "2022-10-06T16:31:15.443Z"
      },
      {
        "duration": 9,
        "start_time": "2022-10-06T16:31:15.458Z"
      },
      {
        "duration": 842,
        "start_time": "2022-10-06T16:31:15.469Z"
      },
      {
        "duration": 4,
        "start_time": "2022-10-06T16:31:16.313Z"
      },
      {
        "duration": 18,
        "start_time": "2022-10-06T16:31:16.323Z"
      },
      {
        "duration": 16,
        "start_time": "2022-10-06T16:31:16.342Z"
      },
      {
        "duration": 8,
        "start_time": "2022-10-06T16:31:16.360Z"
      },
      {
        "duration": 14,
        "start_time": "2022-10-06T16:31:16.370Z"
      },
      {
        "duration": 935,
        "start_time": "2022-10-06T16:31:16.386Z"
      },
      {
        "duration": 15,
        "start_time": "2022-10-06T16:31:17.323Z"
      },
      {
        "duration": 6,
        "start_time": "2022-10-06T16:31:17.341Z"
      },
      {
        "duration": 10,
        "start_time": "2022-10-06T16:31:17.349Z"
      },
      {
        "duration": 15,
        "start_time": "2022-10-06T16:31:17.362Z"
      },
      {
        "duration": 13,
        "start_time": "2022-10-06T16:31:17.379Z"
      },
      {
        "duration": 16,
        "start_time": "2022-10-06T16:31:17.394Z"
      },
      {
        "duration": 26,
        "start_time": "2022-10-06T16:31:17.413Z"
      },
      {
        "duration": 30,
        "start_time": "2022-10-06T16:31:17.441Z"
      },
      {
        "duration": 161,
        "start_time": "2022-10-06T16:31:17.474Z"
      },
      {
        "duration": 111,
        "start_time": "2022-10-06T16:31:17.637Z"
      },
      {
        "duration": 10,
        "start_time": "2022-10-06T16:31:17.750Z"
      },
      {
        "duration": 16,
        "start_time": "2022-10-06T16:31:17.761Z"
      },
      {
        "duration": 6,
        "start_time": "2022-10-06T16:31:17.779Z"
      },
      {
        "duration": 12,
        "start_time": "2022-10-06T16:31:17.786Z"
      },
      {
        "duration": 11,
        "start_time": "2022-10-06T16:31:17.800Z"
      },
      {
        "duration": 27,
        "start_time": "2022-10-06T16:31:17.813Z"
      },
      {
        "duration": 12,
        "start_time": "2022-10-06T16:31:17.841Z"
      },
      {
        "duration": 8,
        "start_time": "2022-10-06T16:31:17.854Z"
      },
      {
        "duration": 10,
        "start_time": "2022-10-06T16:31:17.864Z"
      },
      {
        "duration": 5,
        "start_time": "2022-10-06T16:31:17.876Z"
      },
      {
        "duration": 9,
        "start_time": "2022-10-06T16:31:17.883Z"
      },
      {
        "duration": 10,
        "start_time": "2022-10-06T16:31:17.893Z"
      },
      {
        "duration": 5,
        "start_time": "2022-10-06T16:31:17.905Z"
      },
      {
        "duration": 31,
        "start_time": "2022-10-06T16:31:17.911Z"
      },
      {
        "duration": 1077,
        "start_time": "2022-10-06T16:31:17.943Z"
      },
      {
        "duration": 996,
        "start_time": "2022-10-06T16:31:19.021Z"
      },
      {
        "duration": 1081,
        "start_time": "2022-10-06T16:31:20.019Z"
      },
      {
        "duration": 408,
        "start_time": "2022-10-06T16:32:09.010Z"
      },
      {
        "duration": 17,
        "start_time": "2022-10-06T16:32:16.101Z"
      },
      {
        "duration": 51,
        "start_time": "2022-10-06T16:32:24.480Z"
      },
      {
        "duration": 418,
        "start_time": "2022-10-06T16:32:51.203Z"
      },
      {
        "duration": 5,
        "start_time": "2022-10-06T16:32:51.974Z"
      },
      {
        "duration": 5,
        "start_time": "2022-10-06T16:32:52.358Z"
      },
      {
        "duration": 63,
        "start_time": "2022-10-06T16:32:53.054Z"
      },
      {
        "duration": 37,
        "start_time": "2022-10-06T16:33:05.769Z"
      },
      {
        "duration": 354,
        "start_time": "2022-10-06T16:38:35.920Z"
      },
      {
        "duration": 13,
        "start_time": "2022-10-06T16:38:40.297Z"
      },
      {
        "duration": 307,
        "start_time": "2022-10-06T16:41:26.252Z"
      },
      {
        "duration": 193,
        "start_time": "2022-10-06T16:41:40.515Z"
      },
      {
        "duration": 11,
        "start_time": "2022-10-06T16:41:53.541Z"
      },
      {
        "duration": 3,
        "start_time": "2022-10-06T16:41:54.545Z"
      },
      {
        "duration": 10,
        "start_time": "2022-10-06T16:41:54.697Z"
      },
      {
        "duration": 998,
        "start_time": "2022-10-06T16:41:55.144Z"
      },
      {
        "duration": 4,
        "start_time": "2022-10-06T16:42:09.374Z"
      },
      {
        "duration": 4,
        "start_time": "2022-10-06T16:43:36.853Z"
      },
      {
        "duration": 2062,
        "start_time": "2022-10-06T16:43:36.862Z"
      },
      {
        "duration": 3,
        "start_time": "2022-10-06T16:43:38.926Z"
      },
      {
        "duration": 10,
        "start_time": "2022-10-06T16:43:38.930Z"
      },
      {
        "duration": 383,
        "start_time": "2022-10-06T16:43:38.942Z"
      },
      {
        "duration": 11,
        "start_time": "2022-10-06T16:43:39.327Z"
      },
      {
        "duration": 16,
        "start_time": "2022-10-06T16:43:39.340Z"
      },
      {
        "duration": 53,
        "start_time": "2022-10-06T16:43:39.358Z"
      },
      {
        "duration": 50,
        "start_time": "2022-10-06T16:43:39.412Z"
      },
      {
        "duration": 309,
        "start_time": "2022-10-06T16:43:39.463Z"
      },
      {
        "duration": 3,
        "start_time": "2022-10-06T16:43:39.775Z"
      },
      {
        "duration": 65,
        "start_time": "2022-10-06T16:43:39.779Z"
      },
      {
        "duration": 37,
        "start_time": "2022-10-06T16:43:39.845Z"
      },
      {
        "duration": 341,
        "start_time": "2022-10-06T16:43:39.884Z"
      },
      {
        "duration": 10,
        "start_time": "2022-10-06T16:43:40.228Z"
      },
      {
        "duration": 45,
        "start_time": "2022-10-06T16:43:40.240Z"
      },
      {
        "duration": 69,
        "start_time": "2022-10-06T16:43:40.287Z"
      },
      {
        "duration": 390,
        "start_time": "2022-10-06T16:43:40.358Z"
      },
      {
        "duration": 23,
        "start_time": "2022-10-06T16:43:40.750Z"
      },
      {
        "duration": 5,
        "start_time": "2022-10-06T16:43:40.775Z"
      },
      {
        "duration": 9,
        "start_time": "2022-10-06T16:43:40.782Z"
      },
      {
        "duration": 807,
        "start_time": "2022-10-06T16:43:40.793Z"
      },
      {
        "duration": 7,
        "start_time": "2022-10-06T16:43:41.601Z"
      },
      {
        "duration": 9,
        "start_time": "2022-10-06T16:43:41.610Z"
      },
      {
        "duration": 13,
        "start_time": "2022-10-06T16:43:41.621Z"
      },
      {
        "duration": 7,
        "start_time": "2022-10-06T16:43:41.639Z"
      },
      {
        "duration": 844,
        "start_time": "2022-10-06T16:43:41.648Z"
      },
      {
        "duration": 3,
        "start_time": "2022-10-06T16:43:42.493Z"
      },
      {
        "duration": 10,
        "start_time": "2022-10-06T16:43:42.500Z"
      },
      {
        "duration": 7,
        "start_time": "2022-10-06T16:43:42.511Z"
      },
      {
        "duration": 8,
        "start_time": "2022-10-06T16:43:42.520Z"
      },
      {
        "duration": 3,
        "start_time": "2022-10-06T16:43:42.539Z"
      },
      {
        "duration": 733,
        "start_time": "2022-10-06T16:43:42.544Z"
      },
      {
        "duration": 4,
        "start_time": "2022-10-06T16:43:43.279Z"
      },
      {
        "duration": 12,
        "start_time": "2022-10-06T16:43:43.284Z"
      },
      {
        "duration": 8,
        "start_time": "2022-10-06T16:43:43.297Z"
      },
      {
        "duration": 7,
        "start_time": "2022-10-06T16:43:43.306Z"
      },
      {
        "duration": 6,
        "start_time": "2022-10-06T16:43:43.315Z"
      },
      {
        "duration": 20,
        "start_time": "2022-10-06T16:43:43.323Z"
      },
      {
        "duration": 5,
        "start_time": "2022-10-06T16:43:43.344Z"
      },
      {
        "duration": 10,
        "start_time": "2022-10-06T16:43:43.351Z"
      },
      {
        "duration": 131,
        "start_time": "2022-10-06T16:43:43.362Z"
      },
      {
        "duration": 103,
        "start_time": "2022-10-06T16:43:43.494Z"
      },
      {
        "duration": 8,
        "start_time": "2022-10-06T16:43:43.599Z"
      },
      {
        "duration": 9,
        "start_time": "2022-10-06T16:43:43.609Z"
      },
      {
        "duration": 6,
        "start_time": "2022-10-06T16:43:43.620Z"
      },
      {
        "duration": 7,
        "start_time": "2022-10-06T16:43:43.639Z"
      },
      {
        "duration": 4,
        "start_time": "2022-10-06T16:43:43.648Z"
      },
      {
        "duration": 5,
        "start_time": "2022-10-06T16:43:43.653Z"
      },
      {
        "duration": 9,
        "start_time": "2022-10-06T16:43:43.660Z"
      },
      {
        "duration": 6,
        "start_time": "2022-10-06T16:43:43.671Z"
      },
      {
        "duration": 6,
        "start_time": "2022-10-06T16:43:43.679Z"
      },
      {
        "duration": 3,
        "start_time": "2022-10-06T16:43:43.687Z"
      },
      {
        "duration": 6,
        "start_time": "2022-10-06T16:43:43.691Z"
      },
      {
        "duration": 41,
        "start_time": "2022-10-06T16:43:43.698Z"
      },
      {
        "duration": 3,
        "start_time": "2022-10-06T16:43:43.740Z"
      },
      {
        "duration": 7,
        "start_time": "2022-10-06T16:43:43.744Z"
      },
      {
        "duration": 1020,
        "start_time": "2022-10-06T16:43:43.752Z"
      },
      {
        "duration": 982,
        "start_time": "2022-10-06T16:43:44.773Z"
      },
      {
        "duration": 962,
        "start_time": "2022-10-06T16:43:45.757Z"
      },
      {
        "duration": 1052,
        "start_time": "2022-10-06T16:46:27.941Z"
      },
      {
        "duration": 982,
        "start_time": "2022-10-06T16:46:29.815Z"
      },
      {
        "duration": 957,
        "start_time": "2022-10-06T16:46:31.513Z"
      },
      {
        "duration": 3,
        "start_time": "2022-10-06T16:54:56.622Z"
      },
      {
        "duration": 3,
        "start_time": "2022-10-06T16:56:31.100Z"
      },
      {
        "duration": 10,
        "start_time": "2022-10-06T16:56:34.126Z"
      },
      {
        "duration": 5,
        "start_time": "2022-10-06T16:56:34.261Z"
      },
      {
        "duration": 4,
        "start_time": "2022-10-06T16:56:34.389Z"
      },
      {
        "duration": 177,
        "start_time": "2022-10-06T16:56:34.611Z"
      },
      {
        "duration": 0,
        "start_time": "2022-10-06T16:56:34.790Z"
      },
      {
        "duration": 22,
        "start_time": "2022-10-06T16:56:34.854Z"
      },
      {
        "duration": 5,
        "start_time": "2022-10-06T16:56:34.984Z"
      },
      {
        "duration": 4,
        "start_time": "2022-10-06T16:56:35.122Z"
      },
      {
        "duration": 4,
        "start_time": "2022-10-06T16:56:35.223Z"
      },
      {
        "duration": 3,
        "start_time": "2022-10-06T16:56:35.340Z"
      },
      {
        "duration": 6,
        "start_time": "2022-10-06T16:56:35.461Z"
      },
      {
        "duration": 3,
        "start_time": "2022-10-06T16:56:56.932Z"
      },
      {
        "duration": 25,
        "start_time": "2022-10-06T16:56:58.459Z"
      },
      {
        "duration": 25,
        "start_time": "2022-10-06T16:56:58.602Z"
      },
      {
        "duration": 21,
        "start_time": "2022-10-06T16:56:59.224Z"
      },
      {
        "duration": 3,
        "start_time": "2022-10-06T16:57:06.095Z"
      },
      {
        "duration": 8,
        "start_time": "2022-10-06T16:57:08.477Z"
      },
      {
        "duration": 3,
        "start_time": "2022-10-06T16:57:08.612Z"
      },
      {
        "duration": 4,
        "start_time": "2022-10-06T16:57:08.695Z"
      },
      {
        "duration": 22,
        "start_time": "2022-10-06T16:57:08.928Z"
      },
      {
        "duration": 20,
        "start_time": "2022-10-06T16:57:09.059Z"
      },
      {
        "duration": 19,
        "start_time": "2022-10-06T16:57:09.193Z"
      },
      {
        "duration": 3,
        "start_time": "2022-10-06T16:57:26.526Z"
      },
      {
        "duration": 86,
        "start_time": "2022-10-06T16:57:27.356Z"
      },
      {
        "duration": 8,
        "start_time": "2022-10-06T16:57:29.017Z"
      },
      {
        "duration": 4,
        "start_time": "2022-10-06T16:57:29.162Z"
      },
      {
        "duration": 22,
        "start_time": "2022-10-06T16:57:29.490Z"
      },
      {
        "duration": 22,
        "start_time": "2022-10-06T16:57:29.600Z"
      },
      {
        "duration": 21,
        "start_time": "2022-10-06T16:57:29.720Z"
      },
      {
        "duration": 4,
        "start_time": "2022-10-06T16:57:29.839Z"
      },
      {
        "duration": 4,
        "start_time": "2022-10-06T16:57:30.089Z"
      },
      {
        "duration": 3,
        "start_time": "2022-10-06T16:57:36.250Z"
      },
      {
        "duration": 80,
        "start_time": "2022-10-06T16:57:36.490Z"
      },
      {
        "duration": 8,
        "start_time": "2022-10-06T16:57:36.600Z"
      },
      {
        "duration": 4,
        "start_time": "2022-10-06T16:57:36.759Z"
      },
      {
        "duration": 8,
        "start_time": "2022-10-06T16:57:36.963Z"
      },
      {
        "duration": 8,
        "start_time": "2022-10-06T16:57:37.075Z"
      },
      {
        "duration": 7,
        "start_time": "2022-10-06T16:57:37.200Z"
      },
      {
        "duration": 5,
        "start_time": "2022-10-06T16:57:37.441Z"
      },
      {
        "duration": 4,
        "start_time": "2022-10-06T16:57:38.272Z"
      },
      {
        "duration": 4,
        "start_time": "2022-10-06T16:57:38.773Z"
      },
      {
        "duration": 2,
        "start_time": "2022-10-06T16:57:56.309Z"
      },
      {
        "duration": 7,
        "start_time": "2022-10-06T16:57:56.450Z"
      },
      {
        "duration": 1152,
        "start_time": "2022-10-06T16:57:56.747Z"
      },
      {
        "duration": 1172,
        "start_time": "2022-10-06T16:57:57.901Z"
      },
      {
        "duration": 1098,
        "start_time": "2022-10-06T16:57:59.075Z"
      },
      {
        "duration": 3,
        "start_time": "2022-10-06T16:58:51.604Z"
      },
      {
        "duration": 4,
        "start_time": "2022-10-06T16:58:56.480Z"
      },
      {
        "duration": 2,
        "start_time": "2022-10-06T16:59:45.678Z"
      },
      {
        "duration": 3,
        "start_time": "2022-10-06T16:59:45.817Z"
      },
      {
        "duration": 7,
        "start_time": "2022-10-06T16:59:45.948Z"
      },
      {
        "duration": 3,
        "start_time": "2022-10-06T16:59:46.143Z"
      },
      {
        "duration": 8,
        "start_time": "2022-10-06T16:59:46.437Z"
      },
      {
        "duration": 8,
        "start_time": "2022-10-06T16:59:46.596Z"
      },
      {
        "duration": 8,
        "start_time": "2022-10-06T16:59:46.691Z"
      },
      {
        "duration": 4,
        "start_time": "2022-10-06T16:59:46.837Z"
      },
      {
        "duration": 4,
        "start_time": "2022-10-06T16:59:47.151Z"
      },
      {
        "duration": 4,
        "start_time": "2022-10-06T16:59:48.235Z"
      },
      {
        "duration": 4,
        "start_time": "2022-10-06T17:00:11.306Z"
      },
      {
        "duration": 11,
        "start_time": "2022-10-06T17:00:11.575Z"
      },
      {
        "duration": 9,
        "start_time": "2022-10-06T17:00:11.722Z"
      },
      {
        "duration": 8,
        "start_time": "2022-10-06T17:00:11.863Z"
      },
      {
        "duration": 4,
        "start_time": "2022-10-06T17:00:12.008Z"
      },
      {
        "duration": 4,
        "start_time": "2022-10-06T17:00:12.138Z"
      },
      {
        "duration": 4,
        "start_time": "2022-10-06T17:00:12.260Z"
      },
      {
        "duration": 3,
        "start_time": "2022-10-06T17:00:13.166Z"
      },
      {
        "duration": 4,
        "start_time": "2022-10-06T17:00:19.912Z"
      },
      {
        "duration": 9,
        "start_time": "2022-10-06T17:00:20.192Z"
      },
      {
        "duration": 10,
        "start_time": "2022-10-06T17:00:20.341Z"
      },
      {
        "duration": 8,
        "start_time": "2022-10-06T17:00:20.468Z"
      },
      {
        "duration": 4,
        "start_time": "2022-10-06T17:00:20.602Z"
      },
      {
        "duration": 4,
        "start_time": "2022-10-06T17:00:20.719Z"
      },
      {
        "duration": 4,
        "start_time": "2022-10-06T17:00:21.862Z"
      },
      {
        "duration": 2,
        "start_time": "2022-10-06T17:00:22.040Z"
      },
      {
        "duration": 3,
        "start_time": "2022-10-06T17:00:55.177Z"
      },
      {
        "duration": 7,
        "start_time": "2022-10-06T17:00:55.873Z"
      },
      {
        "duration": 8,
        "start_time": "2022-10-06T17:00:56.155Z"
      },
      {
        "duration": 8,
        "start_time": "2022-10-06T17:00:56.448Z"
      },
      {
        "duration": 4,
        "start_time": "2022-10-06T17:00:56.622Z"
      },
      {
        "duration": 5,
        "start_time": "2022-10-06T17:00:56.806Z"
      },
      {
        "duration": 5,
        "start_time": "2022-10-06T17:00:57.178Z"
      },
      {
        "duration": 3,
        "start_time": "2022-10-06T17:00:58.860Z"
      },
      {
        "duration": 6,
        "start_time": "2022-10-06T17:01:00.196Z"
      },
      {
        "duration": 980,
        "start_time": "2022-10-06T17:01:01.359Z"
      },
      {
        "duration": 966,
        "start_time": "2022-10-06T17:01:02.341Z"
      },
      {
        "duration": 967,
        "start_time": "2022-10-06T17:01:03.308Z"
      },
      {
        "duration": 5,
        "start_time": "2022-10-06T17:04:16.210Z"
      },
      {
        "duration": 7,
        "start_time": "2022-10-06T17:04:17.023Z"
      },
      {
        "duration": 10,
        "start_time": "2022-10-06T17:04:17.176Z"
      },
      {
        "duration": 10,
        "start_time": "2022-10-06T17:04:17.328Z"
      },
      {
        "duration": 3,
        "start_time": "2022-10-06T17:04:17.476Z"
      },
      {
        "duration": 4,
        "start_time": "2022-10-06T17:04:17.860Z"
      },
      {
        "duration": 5,
        "start_time": "2022-10-06T17:04:18.011Z"
      },
      {
        "duration": 2,
        "start_time": "2022-10-06T17:04:19.015Z"
      },
      {
        "duration": 6,
        "start_time": "2022-10-06T17:04:19.156Z"
      },
      {
        "duration": 950,
        "start_time": "2022-10-06T17:04:19.442Z"
      },
      {
        "duration": 938,
        "start_time": "2022-10-06T17:04:20.394Z"
      },
      {
        "duration": 932,
        "start_time": "2022-10-06T17:04:21.334Z"
      },
      {
        "duration": 4,
        "start_time": "2022-10-06T17:06:12.950Z"
      },
      {
        "duration": 8,
        "start_time": "2022-10-06T17:06:13.539Z"
      },
      {
        "duration": 9,
        "start_time": "2022-10-06T17:06:13.690Z"
      },
      {
        "duration": 8,
        "start_time": "2022-10-06T17:06:13.808Z"
      },
      {
        "duration": 4,
        "start_time": "2022-10-06T17:06:14.666Z"
      },
      {
        "duration": 3,
        "start_time": "2022-10-06T17:12:38.000Z"
      },
      {
        "duration": 3,
        "start_time": "2022-10-06T17:12:38.736Z"
      },
      {
        "duration": 7,
        "start_time": "2022-10-06T17:12:38.742Z"
      },
      {
        "duration": 11,
        "start_time": "2022-10-06T17:12:38.994Z"
      },
      {
        "duration": 4,
        "start_time": "2022-10-06T17:12:39.721Z"
      },
      {
        "duration": 12,
        "start_time": "2022-10-06T17:12:40.289Z"
      },
      {
        "duration": 11,
        "start_time": "2022-10-06T17:12:40.458Z"
      },
      {
        "duration": 10,
        "start_time": "2022-10-06T17:12:40.625Z"
      },
      {
        "duration": 5,
        "start_time": "2022-10-06T17:12:40.776Z"
      },
      {
        "duration": 4,
        "start_time": "2022-10-06T17:12:40.908Z"
      },
      {
        "duration": 4,
        "start_time": "2022-10-06T17:12:41.070Z"
      },
      {
        "duration": 3,
        "start_time": "2022-10-06T17:12:41.209Z"
      },
      {
        "duration": 8,
        "start_time": "2022-10-06T17:12:41.396Z"
      },
      {
        "duration": 1948,
        "start_time": "2022-10-06T17:12:41.910Z"
      },
      {
        "duration": 1781,
        "start_time": "2022-10-06T17:12:43.861Z"
      },
      {
        "duration": 1852,
        "start_time": "2022-10-06T17:12:45.645Z"
      },
      {
        "duration": 8,
        "start_time": "2022-10-06T17:13:29.279Z"
      },
      {
        "duration": 1713,
        "start_time": "2022-10-06T17:13:29.569Z"
      },
      {
        "duration": 1869,
        "start_time": "2022-10-06T17:13:31.285Z"
      },
      {
        "duration": 1905,
        "start_time": "2022-10-06T17:13:33.157Z"
      },
      {
        "duration": 7,
        "start_time": "2022-10-06T17:13:36.706Z"
      },
      {
        "duration": 1739,
        "start_time": "2022-10-06T17:13:40.037Z"
      },
      {
        "duration": 1792,
        "start_time": "2022-10-06T17:13:41.779Z"
      },
      {
        "duration": 1988,
        "start_time": "2022-10-06T17:13:43.572Z"
      },
      {
        "duration": 7,
        "start_time": "2022-10-06T17:14:08.604Z"
      },
      {
        "duration": 9,
        "start_time": "2022-10-06T17:14:08.915Z"
      },
      {
        "duration": 9,
        "start_time": "2022-10-06T17:14:09.056Z"
      },
      {
        "duration": 10,
        "start_time": "2022-10-06T17:14:09.169Z"
      },
      {
        "duration": 5,
        "start_time": "2022-10-06T17:14:09.297Z"
      },
      {
        "duration": 4,
        "start_time": "2022-10-06T17:14:09.427Z"
      },
      {
        "duration": 5,
        "start_time": "2022-10-06T17:14:09.543Z"
      },
      {
        "duration": 3,
        "start_time": "2022-10-06T17:14:09.704Z"
      },
      {
        "duration": 8,
        "start_time": "2022-10-06T17:14:09.806Z"
      },
      {
        "duration": 1090,
        "start_time": "2022-10-06T17:14:10.034Z"
      },
      {
        "duration": 1145,
        "start_time": "2022-10-06T17:14:11.126Z"
      },
      {
        "duration": 1126,
        "start_time": "2022-10-06T17:14:12.272Z"
      },
      {
        "duration": 4,
        "start_time": "2022-10-06T17:14:45.226Z"
      },
      {
        "duration": 2119,
        "start_time": "2022-10-06T17:14:45.235Z"
      },
      {
        "duration": 3,
        "start_time": "2022-10-06T17:14:47.358Z"
      },
      {
        "duration": 21,
        "start_time": "2022-10-06T17:14:47.362Z"
      },
      {
        "duration": 516,
        "start_time": "2022-10-06T17:14:47.386Z"
      },
      {
        "duration": 6,
        "start_time": "2022-10-06T17:14:47.903Z"
      },
      {
        "duration": 5,
        "start_time": "2022-10-06T17:14:47.911Z"
      },
      {
        "duration": 85,
        "start_time": "2022-10-06T17:14:47.917Z"
      },
      {
        "duration": 70,
        "start_time": "2022-10-06T17:14:48.004Z"
      },
      {
        "duration": 427,
        "start_time": "2022-10-06T17:14:48.075Z"
      },
      {
        "duration": 3,
        "start_time": "2022-10-06T17:14:48.506Z"
      },
      {
        "duration": 81,
        "start_time": "2022-10-06T17:14:48.511Z"
      },
      {
        "duration": 78,
        "start_time": "2022-10-06T17:14:48.593Z"
      },
      {
        "duration": 397,
        "start_time": "2022-10-06T17:14:48.674Z"
      },
      {
        "duration": 3,
        "start_time": "2022-10-06T17:14:49.073Z"
      },
      {
        "duration": 91,
        "start_time": "2022-10-06T17:14:49.078Z"
      },
      {
        "duration": 79,
        "start_time": "2022-10-06T17:14:49.172Z"
      },
      {
        "duration": 506,
        "start_time": "2022-10-06T17:14:49.253Z"
      },
      {
        "duration": 22,
        "start_time": "2022-10-06T17:14:49.761Z"
      },
      {
        "duration": 6,
        "start_time": "2022-10-06T17:14:49.785Z"
      },
      {
        "duration": 11,
        "start_time": "2022-10-06T17:14:49.793Z"
      },
      {
        "duration": 929,
        "start_time": "2022-10-06T17:14:49.807Z"
      },
      {
        "duration": 5,
        "start_time": "2022-10-06T17:14:50.740Z"
      },
      {
        "duration": 11,
        "start_time": "2022-10-06T17:14:50.747Z"
      },
      {
        "duration": 14,
        "start_time": "2022-10-06T17:14:50.760Z"
      },
      {
        "duration": 7,
        "start_time": "2022-10-06T17:14:50.776Z"
      },
      {
        "duration": 712,
        "start_time": "2022-10-06T17:14:50.785Z"
      },
      {
        "duration": 5,
        "start_time": "2022-10-06T17:14:51.500Z"
      },
      {
        "duration": 5,
        "start_time": "2022-10-06T17:14:51.512Z"
      },
      {
        "duration": 6,
        "start_time": "2022-10-06T17:14:51.540Z"
      },
      {
        "duration": 16,
        "start_time": "2022-10-06T17:14:51.548Z"
      },
      {
        "duration": 7,
        "start_time": "2022-10-06T17:14:51.566Z"
      },
      {
        "duration": 836,
        "start_time": "2022-10-06T17:14:51.575Z"
      },
      {
        "duration": 4,
        "start_time": "2022-10-06T17:14:52.412Z"
      },
      {
        "duration": 22,
        "start_time": "2022-10-06T17:14:52.418Z"
      },
      {
        "duration": 5,
        "start_time": "2022-10-06T17:14:52.443Z"
      },
      {
        "duration": 12,
        "start_time": "2022-10-06T17:14:52.451Z"
      },
      {
        "duration": 15,
        "start_time": "2022-10-06T17:14:52.465Z"
      },
      {
        "duration": 13,
        "start_time": "2022-10-06T17:14:52.481Z"
      },
      {
        "duration": 9,
        "start_time": "2022-10-06T17:14:52.496Z"
      },
      {
        "duration": 36,
        "start_time": "2022-10-06T17:14:52.507Z"
      },
      {
        "duration": 145,
        "start_time": "2022-10-06T17:14:52.545Z"
      },
      {
        "duration": 123,
        "start_time": "2022-10-06T17:14:52.691Z"
      },
      {
        "duration": 23,
        "start_time": "2022-10-06T17:14:52.816Z"
      },
      {
        "duration": 10,
        "start_time": "2022-10-06T17:14:52.841Z"
      },
      {
        "duration": 11,
        "start_time": "2022-10-06T17:14:52.853Z"
      },
      {
        "duration": 10,
        "start_time": "2022-10-06T17:14:52.866Z"
      },
      {
        "duration": 8,
        "start_time": "2022-10-06T17:14:52.878Z"
      },
      {
        "duration": 9,
        "start_time": "2022-10-06T17:14:52.888Z"
      },
      {
        "duration": 12,
        "start_time": "2022-10-06T17:14:52.900Z"
      },
      {
        "duration": 11,
        "start_time": "2022-10-06T17:14:52.938Z"
      },
      {
        "duration": 10,
        "start_time": "2022-10-06T17:14:52.951Z"
      },
      {
        "duration": 10,
        "start_time": "2022-10-06T17:14:52.962Z"
      },
      {
        "duration": 5,
        "start_time": "2022-10-06T17:14:52.974Z"
      },
      {
        "duration": 9,
        "start_time": "2022-10-06T17:14:52.981Z"
      },
      {
        "duration": 7,
        "start_time": "2022-10-06T17:14:52.992Z"
      },
      {
        "duration": 3,
        "start_time": "2022-10-06T17:14:53.039Z"
      },
      {
        "duration": 8,
        "start_time": "2022-10-06T17:14:53.044Z"
      },
      {
        "duration": 1072,
        "start_time": "2022-10-06T17:14:53.054Z"
      },
      {
        "duration": 1071,
        "start_time": "2022-10-06T17:14:54.128Z"
      },
      {
        "duration": 1056,
        "start_time": "2022-10-06T17:14:55.200Z"
      },
      {
        "duration": 3,
        "start_time": "2022-10-06T17:17:06.557Z"
      },
      {
        "duration": 8,
        "start_time": "2022-10-06T17:17:07.026Z"
      },
      {
        "duration": 10,
        "start_time": "2022-10-06T17:17:07.133Z"
      },
      {
        "duration": 9,
        "start_time": "2022-10-06T17:17:07.245Z"
      },
      {
        "duration": 5,
        "start_time": "2022-10-06T17:17:07.365Z"
      },
      {
        "duration": 4,
        "start_time": "2022-10-06T17:17:07.485Z"
      },
      {
        "duration": 4,
        "start_time": "2022-10-06T17:17:07.871Z"
      },
      {
        "duration": 3,
        "start_time": "2022-10-06T17:17:08.325Z"
      },
      {
        "duration": 6,
        "start_time": "2022-10-06T17:17:08.674Z"
      },
      {
        "duration": 1041,
        "start_time": "2022-10-06T17:17:08.922Z"
      },
      {
        "duration": 1020,
        "start_time": "2022-10-06T17:17:09.965Z"
      },
      {
        "duration": 1103,
        "start_time": "2022-10-06T17:17:10.987Z"
      },
      {
        "duration": 4,
        "start_time": "2022-10-06T17:17:56.309Z"
      },
      {
        "duration": 2037,
        "start_time": "2022-10-06T17:17:56.318Z"
      },
      {
        "duration": 3,
        "start_time": "2022-10-06T17:17:58.358Z"
      },
      {
        "duration": 18,
        "start_time": "2022-10-06T17:17:58.363Z"
      },
      {
        "duration": 506,
        "start_time": "2022-10-06T17:17:58.384Z"
      },
      {
        "duration": 6,
        "start_time": "2022-10-06T17:17:58.893Z"
      },
      {
        "duration": 5,
        "start_time": "2022-10-06T17:17:58.902Z"
      },
      {
        "duration": 66,
        "start_time": "2022-10-06T17:17:58.909Z"
      },
      {
        "duration": 72,
        "start_time": "2022-10-06T17:17:58.976Z"
      },
      {
        "duration": 332,
        "start_time": "2022-10-06T17:17:59.050Z"
      },
      {
        "duration": 2,
        "start_time": "2022-10-06T17:17:59.385Z"
      },
      {
        "duration": 68,
        "start_time": "2022-10-06T17:17:59.389Z"
      },
      {
        "duration": 38,
        "start_time": "2022-10-06T17:17:59.459Z"
      },
      {
        "duration": 362,
        "start_time": "2022-10-06T17:17:59.499Z"
      },
      {
        "duration": 3,
        "start_time": "2022-10-06T17:17:59.863Z"
      },
      {
        "duration": 76,
        "start_time": "2022-10-06T17:17:59.868Z"
      },
      {
        "duration": 38,
        "start_time": "2022-10-06T17:17:59.945Z"
      },
      {
        "duration": 476,
        "start_time": "2022-10-06T17:17:59.985Z"
      },
      {
        "duration": 20,
        "start_time": "2022-10-06T17:18:00.462Z"
      },
      {
        "duration": 7,
        "start_time": "2022-10-06T17:18:00.484Z"
      },
      {
        "duration": 16,
        "start_time": "2022-10-06T17:18:00.493Z"
      },
      {
        "duration": 895,
        "start_time": "2022-10-06T17:18:00.511Z"
      },
      {
        "duration": 5,
        "start_time": "2022-10-06T17:18:01.407Z"
      },
      {
        "duration": 25,
        "start_time": "2022-10-06T17:18:01.414Z"
      },
      {
        "duration": 18,
        "start_time": "2022-10-06T17:18:01.441Z"
      },
      {
        "duration": 27,
        "start_time": "2022-10-06T17:18:01.461Z"
      },
      {
        "duration": 911,
        "start_time": "2022-10-06T17:18:01.490Z"
      },
      {
        "duration": 3,
        "start_time": "2022-10-06T17:18:02.403Z"
      },
      {
        "duration": 8,
        "start_time": "2022-10-06T17:18:02.409Z"
      },
      {
        "duration": 12,
        "start_time": "2022-10-06T17:18:02.419Z"
      },
      {
        "duration": 4,
        "start_time": "2022-10-06T17:18:02.439Z"
      },
      {
        "duration": 9,
        "start_time": "2022-10-06T17:18:02.445Z"
      },
      {
        "duration": 830,
        "start_time": "2022-10-06T17:18:02.456Z"
      },
      {
        "duration": 4,
        "start_time": "2022-10-06T17:18:03.289Z"
      },
      {
        "duration": 11,
        "start_time": "2022-10-06T17:18:03.295Z"
      },
      {
        "duration": 16,
        "start_time": "2022-10-06T17:18:03.308Z"
      },
      {
        "duration": 29,
        "start_time": "2022-10-06T17:18:03.325Z"
      },
      {
        "duration": 7,
        "start_time": "2022-10-06T17:18:03.355Z"
      },
      {
        "duration": 12,
        "start_time": "2022-10-06T17:18:03.364Z"
      },
      {
        "duration": 10,
        "start_time": "2022-10-06T17:18:03.377Z"
      },
      {
        "duration": 17,
        "start_time": "2022-10-06T17:18:03.389Z"
      },
      {
        "duration": 131,
        "start_time": "2022-10-06T17:18:03.407Z"
      },
      {
        "duration": 126,
        "start_time": "2022-10-06T17:18:03.540Z"
      },
      {
        "duration": 8,
        "start_time": "2022-10-06T17:18:03.668Z"
      },
      {
        "duration": 12,
        "start_time": "2022-10-06T17:18:03.678Z"
      },
      {
        "duration": 5,
        "start_time": "2022-10-06T17:18:03.693Z"
      },
      {
        "duration": 6,
        "start_time": "2022-10-06T17:18:03.700Z"
      },
      {
        "duration": 33,
        "start_time": "2022-10-06T17:18:03.709Z"
      },
      {
        "duration": 12,
        "start_time": "2022-10-06T17:18:03.745Z"
      },
      {
        "duration": 7,
        "start_time": "2022-10-06T17:18:03.760Z"
      },
      {
        "duration": 21,
        "start_time": "2022-10-06T17:18:03.769Z"
      },
      {
        "duration": 12,
        "start_time": "2022-10-06T17:18:03.793Z"
      },
      {
        "duration": 32,
        "start_time": "2022-10-06T17:18:03.807Z"
      },
      {
        "duration": 5,
        "start_time": "2022-10-06T17:18:03.840Z"
      },
      {
        "duration": 8,
        "start_time": "2022-10-06T17:18:03.846Z"
      },
      {
        "duration": 15,
        "start_time": "2022-10-06T17:18:03.856Z"
      },
      {
        "duration": 7,
        "start_time": "2022-10-06T17:18:03.873Z"
      },
      {
        "duration": 9,
        "start_time": "2022-10-06T17:18:03.882Z"
      },
      {
        "duration": 1074,
        "start_time": "2022-10-06T17:18:03.893Z"
      },
      {
        "duration": 1029,
        "start_time": "2022-10-06T17:18:04.969Z"
      },
      {
        "duration": 1029,
        "start_time": "2022-10-06T17:18:06.000Z"
      },
      {
        "duration": 57,
        "start_time": "2022-10-07T09:14:10.692Z"
      },
      {
        "duration": 2,
        "start_time": "2022-10-07T09:14:17.300Z"
      },
      {
        "duration": 1760,
        "start_time": "2022-10-07T09:14:17.306Z"
      },
      {
        "duration": 0,
        "start_time": "2022-10-07T09:14:19.069Z"
      },
      {
        "duration": 0,
        "start_time": "2022-10-07T09:14:19.070Z"
      },
      {
        "duration": 0,
        "start_time": "2022-10-07T09:14:19.071Z"
      },
      {
        "duration": 0,
        "start_time": "2022-10-07T09:14:19.072Z"
      },
      {
        "duration": 0,
        "start_time": "2022-10-07T09:14:19.073Z"
      },
      {
        "duration": 0,
        "start_time": "2022-10-07T09:14:19.074Z"
      },
      {
        "duration": 0,
        "start_time": "2022-10-07T09:14:19.075Z"
      },
      {
        "duration": 0,
        "start_time": "2022-10-07T09:14:19.076Z"
      },
      {
        "duration": 0,
        "start_time": "2022-10-07T09:14:19.077Z"
      },
      {
        "duration": 0,
        "start_time": "2022-10-07T09:14:19.078Z"
      },
      {
        "duration": 0,
        "start_time": "2022-10-07T09:14:19.079Z"
      },
      {
        "duration": 0,
        "start_time": "2022-10-07T09:14:19.080Z"
      },
      {
        "duration": 0,
        "start_time": "2022-10-07T09:14:19.081Z"
      },
      {
        "duration": 0,
        "start_time": "2022-10-07T09:14:19.082Z"
      },
      {
        "duration": 0,
        "start_time": "2022-10-07T09:14:19.083Z"
      },
      {
        "duration": 0,
        "start_time": "2022-10-07T09:14:19.108Z"
      },
      {
        "duration": 0,
        "start_time": "2022-10-07T09:14:19.110Z"
      },
      {
        "duration": 0,
        "start_time": "2022-10-07T09:14:19.111Z"
      },
      {
        "duration": 0,
        "start_time": "2022-10-07T09:14:19.112Z"
      },
      {
        "duration": 0,
        "start_time": "2022-10-07T09:14:19.113Z"
      },
      {
        "duration": 0,
        "start_time": "2022-10-07T09:14:19.113Z"
      },
      {
        "duration": 0,
        "start_time": "2022-10-07T09:14:19.114Z"
      },
      {
        "duration": 0,
        "start_time": "2022-10-07T09:14:19.115Z"
      },
      {
        "duration": 0,
        "start_time": "2022-10-07T09:14:19.116Z"
      },
      {
        "duration": 0,
        "start_time": "2022-10-07T09:14:19.117Z"
      },
      {
        "duration": 0,
        "start_time": "2022-10-07T09:14:19.118Z"
      },
      {
        "duration": 0,
        "start_time": "2022-10-07T09:14:19.119Z"
      },
      {
        "duration": 0,
        "start_time": "2022-10-07T09:14:19.120Z"
      },
      {
        "duration": 0,
        "start_time": "2022-10-07T09:14:19.121Z"
      },
      {
        "duration": 0,
        "start_time": "2022-10-07T09:14:19.122Z"
      },
      {
        "duration": 0,
        "start_time": "2022-10-07T09:14:19.122Z"
      },
      {
        "duration": 0,
        "start_time": "2022-10-07T09:14:19.123Z"
      },
      {
        "duration": 0,
        "start_time": "2022-10-07T09:14:19.124Z"
      },
      {
        "duration": 0,
        "start_time": "2022-10-07T09:14:19.125Z"
      },
      {
        "duration": 0,
        "start_time": "2022-10-07T09:14:19.126Z"
      },
      {
        "duration": 0,
        "start_time": "2022-10-07T09:14:19.127Z"
      },
      {
        "duration": 0,
        "start_time": "2022-10-07T09:14:19.128Z"
      },
      {
        "duration": 0,
        "start_time": "2022-10-07T09:14:19.129Z"
      },
      {
        "duration": 0,
        "start_time": "2022-10-07T09:14:19.130Z"
      },
      {
        "duration": 0,
        "start_time": "2022-10-07T09:14:19.131Z"
      },
      {
        "duration": 0,
        "start_time": "2022-10-07T09:14:19.132Z"
      },
      {
        "duration": 0,
        "start_time": "2022-10-07T09:14:19.133Z"
      },
      {
        "duration": 0,
        "start_time": "2022-10-07T09:14:19.134Z"
      },
      {
        "duration": 0,
        "start_time": "2022-10-07T09:14:19.135Z"
      },
      {
        "duration": 0,
        "start_time": "2022-10-07T09:14:19.135Z"
      },
      {
        "duration": 0,
        "start_time": "2022-10-07T09:14:19.137Z"
      },
      {
        "duration": 0,
        "start_time": "2022-10-07T09:14:19.138Z"
      },
      {
        "duration": 0,
        "start_time": "2022-10-07T09:14:19.138Z"
      },
      {
        "duration": 0,
        "start_time": "2022-10-07T09:14:19.140Z"
      },
      {
        "duration": 0,
        "start_time": "2022-10-07T09:14:19.140Z"
      },
      {
        "duration": 0,
        "start_time": "2022-10-07T09:14:19.141Z"
      },
      {
        "duration": 0,
        "start_time": "2022-10-07T09:14:19.142Z"
      },
      {
        "duration": 0,
        "start_time": "2022-10-07T09:14:19.143Z"
      },
      {
        "duration": 0,
        "start_time": "2022-10-07T09:14:19.144Z"
      },
      {
        "duration": 0,
        "start_time": "2022-10-07T09:14:19.209Z"
      },
      {
        "duration": 0,
        "start_time": "2022-10-07T09:14:19.210Z"
      },
      {
        "duration": 0,
        "start_time": "2022-10-07T09:14:19.211Z"
      },
      {
        "duration": 0,
        "start_time": "2022-10-07T09:14:19.212Z"
      },
      {
        "duration": 0,
        "start_time": "2022-10-07T09:14:19.213Z"
      },
      {
        "duration": 11,
        "start_time": "2022-10-07T09:27:12.582Z"
      },
      {
        "duration": 9,
        "start_time": "2022-10-07T09:27:12.806Z"
      },
      {
        "duration": 8,
        "start_time": "2022-10-07T09:27:13.090Z"
      },
      {
        "duration": 14482,
        "start_time": "2022-10-07T09:27:40.554Z"
      },
      {
        "duration": 582,
        "start_time": "2022-10-07T09:37:57.638Z"
      },
      {
        "duration": 2330,
        "start_time": "2022-10-07T09:38:08.530Z"
      },
      {
        "duration": 1820,
        "start_time": "2022-10-07T09:38:10.863Z"
      },
      {
        "duration": 2,
        "start_time": "2022-10-07T09:38:12.685Z"
      },
      {
        "duration": 8,
        "start_time": "2022-10-07T09:38:12.690Z"
      },
      {
        "duration": 744,
        "start_time": "2022-10-07T09:38:12.700Z"
      },
      {
        "duration": 6,
        "start_time": "2022-10-07T09:38:13.445Z"
      },
      {
        "duration": 12,
        "start_time": "2022-10-07T09:38:13.453Z"
      },
      {
        "duration": 59,
        "start_time": "2022-10-07T09:38:13.467Z"
      },
      {
        "duration": 35,
        "start_time": "2022-10-07T09:38:13.527Z"
      },
      {
        "duration": 358,
        "start_time": "2022-10-07T09:38:13.564Z"
      },
      {
        "duration": 2,
        "start_time": "2022-10-07T09:38:13.924Z"
      },
      {
        "duration": 53,
        "start_time": "2022-10-07T09:38:13.927Z"
      },
      {
        "duration": 51,
        "start_time": "2022-10-07T09:38:13.982Z"
      },
      {
        "duration": 274,
        "start_time": "2022-10-07T09:38:14.035Z"
      },
      {
        "duration": 2,
        "start_time": "2022-10-07T09:38:14.310Z"
      },
      {
        "duration": 39,
        "start_time": "2022-10-07T09:38:14.313Z"
      },
      {
        "duration": 63,
        "start_time": "2022-10-07T09:38:14.353Z"
      },
      {
        "duration": 364,
        "start_time": "2022-10-07T09:38:14.417Z"
      },
      {
        "duration": 16,
        "start_time": "2022-10-07T09:38:14.782Z"
      },
      {
        "duration": 4,
        "start_time": "2022-10-07T09:38:14.808Z"
      },
      {
        "duration": 9,
        "start_time": "2022-10-07T09:38:14.814Z"
      },
      {
        "duration": 713,
        "start_time": "2022-10-07T09:38:14.825Z"
      },
      {
        "duration": 4,
        "start_time": "2022-10-07T09:38:15.540Z"
      },
      {
        "duration": 17,
        "start_time": "2022-10-07T09:38:15.546Z"
      },
      {
        "duration": 9,
        "start_time": "2022-10-07T09:38:15.565Z"
      },
      {
        "duration": 18,
        "start_time": "2022-10-07T09:38:15.575Z"
      },
      {
        "duration": 735,
        "start_time": "2022-10-07T09:38:15.594Z"
      },
      {
        "duration": 2,
        "start_time": "2022-10-07T09:38:16.333Z"
      },
      {
        "duration": 14,
        "start_time": "2022-10-07T09:38:16.337Z"
      },
      {
        "duration": 7,
        "start_time": "2022-10-07T09:38:16.352Z"
      },
      {
        "duration": 8,
        "start_time": "2022-10-07T09:38:16.360Z"
      },
      {
        "duration": 13,
        "start_time": "2022-10-07T09:38:16.369Z"
      },
      {
        "duration": 777,
        "start_time": "2022-10-07T09:38:16.383Z"
      },
      {
        "duration": 4,
        "start_time": "2022-10-07T09:38:17.161Z"
      },
      {
        "duration": 10,
        "start_time": "2022-10-07T09:38:17.166Z"
      },
      {
        "duration": 6,
        "start_time": "2022-10-07T09:38:17.177Z"
      },
      {
        "duration": 5,
        "start_time": "2022-10-07T09:38:17.185Z"
      },
      {
        "duration": 6,
        "start_time": "2022-10-07T09:38:17.191Z"
      },
      {
        "duration": 3,
        "start_time": "2022-10-07T09:38:17.209Z"
      },
      {
        "duration": 5,
        "start_time": "2022-10-07T09:38:17.213Z"
      },
      {
        "duration": 9,
        "start_time": "2022-10-07T09:38:17.219Z"
      },
      {
        "duration": 126,
        "start_time": "2022-10-07T09:38:17.230Z"
      },
      {
        "duration": 101,
        "start_time": "2022-10-07T09:38:17.357Z"
      },
      {
        "duration": 7,
        "start_time": "2022-10-07T09:38:17.459Z"
      },
      {
        "duration": 11,
        "start_time": "2022-10-07T09:38:17.468Z"
      },
      {
        "duration": 5,
        "start_time": "2022-10-07T09:38:17.481Z"
      },
      {
        "duration": 4,
        "start_time": "2022-10-07T09:38:17.487Z"
      },
      {
        "duration": 3,
        "start_time": "2022-10-07T09:38:17.508Z"
      },
      {
        "duration": 8,
        "start_time": "2022-10-07T09:38:17.513Z"
      },
      {
        "duration": 4,
        "start_time": "2022-10-07T09:38:17.523Z"
      },
      {
        "duration": 10,
        "start_time": "2022-10-07T09:38:17.528Z"
      },
      {
        "duration": 10,
        "start_time": "2022-10-07T09:38:17.540Z"
      },
      {
        "duration": 7,
        "start_time": "2022-10-07T09:38:17.551Z"
      },
      {
        "duration": 3,
        "start_time": "2022-10-07T09:38:17.560Z"
      },
      {
        "duration": 9,
        "start_time": "2022-10-07T09:38:17.565Z"
      },
      {
        "duration": 33,
        "start_time": "2022-10-07T09:38:17.576Z"
      },
      {
        "duration": 3,
        "start_time": "2022-10-07T09:38:17.610Z"
      },
      {
        "duration": 7,
        "start_time": "2022-10-07T09:38:17.615Z"
      },
      {
        "duration": 851,
        "start_time": "2022-10-07T09:38:17.624Z"
      },
      {
        "duration": 827,
        "start_time": "2022-10-07T09:38:18.477Z"
      },
      {
        "duration": 803,
        "start_time": "2022-10-07T09:38:19.308Z"
      },
      {
        "duration": 3,
        "start_time": "2022-10-07T11:19:24.500Z"
      },
      {
        "duration": 3,
        "start_time": "2022-10-07T11:19:33.107Z"
      },
      {
        "duration": 3,
        "start_time": "2022-10-07T11:19:33.312Z"
      },
      {
        "duration": 7,
        "start_time": "2022-10-07T11:19:38.329Z"
      },
      {
        "duration": 4,
        "start_time": "2022-10-07T11:19:38.692Z"
      },
      {
        "duration": 7,
        "start_time": "2022-10-07T11:19:50.329Z"
      },
      {
        "duration": 7,
        "start_time": "2022-10-07T11:19:50.982Z"
      },
      {
        "duration": 7,
        "start_time": "2022-10-07T11:19:51.394Z"
      },
      {
        "duration": 4,
        "start_time": "2022-10-07T11:19:52.557Z"
      },
      {
        "duration": 3,
        "start_time": "2022-10-07T11:19:53.535Z"
      },
      {
        "duration": 4,
        "start_time": "2022-10-07T11:19:53.903Z"
      },
      {
        "duration": 2,
        "start_time": "2022-10-07T11:19:54.196Z"
      },
      {
        "duration": 5,
        "start_time": "2022-10-07T11:19:54.514Z"
      },
      {
        "duration": 822,
        "start_time": "2022-10-07T11:19:55.328Z"
      },
      {
        "duration": 827,
        "start_time": "2022-10-07T11:19:56.152Z"
      },
      {
        "duration": 838,
        "start_time": "2022-10-07T11:19:56.981Z"
      },
      {
        "duration": 178,
        "start_time": "2022-10-07T11:21:50.852Z"
      },
      {
        "duration": 3,
        "start_time": "2022-10-07T11:22:28.873Z"
      },
      {
        "duration": 13782,
        "start_time": "2022-10-07T20:35:03.760Z"
      },
      {
        "duration": 5747,
        "start_time": "2022-10-07T20:35:17.544Z"
      },
      {
        "duration": 2,
        "start_time": "2022-10-07T20:35:23.293Z"
      },
      {
        "duration": 11,
        "start_time": "2022-10-07T20:35:23.297Z"
      },
      {
        "duration": 759,
        "start_time": "2022-10-07T20:35:23.309Z"
      },
      {
        "duration": 5,
        "start_time": "2022-10-07T20:35:24.070Z"
      },
      {
        "duration": 6,
        "start_time": "2022-10-07T20:35:24.077Z"
      },
      {
        "duration": 63,
        "start_time": "2022-10-07T20:35:24.085Z"
      },
      {
        "duration": 36,
        "start_time": "2022-10-07T20:35:24.149Z"
      },
      {
        "duration": 377,
        "start_time": "2022-10-07T20:35:24.189Z"
      },
      {
        "duration": 3,
        "start_time": "2022-10-07T20:35:24.568Z"
      },
      {
        "duration": 68,
        "start_time": "2022-10-07T20:35:24.572Z"
      },
      {
        "duration": 36,
        "start_time": "2022-10-07T20:35:24.641Z"
      },
      {
        "duration": 418,
        "start_time": "2022-10-07T20:35:24.678Z"
      },
      {
        "duration": 2,
        "start_time": "2022-10-07T20:35:25.098Z"
      },
      {
        "duration": 49,
        "start_time": "2022-10-07T20:35:25.110Z"
      },
      {
        "duration": 71,
        "start_time": "2022-10-07T20:35:25.161Z"
      },
      {
        "duration": 279,
        "start_time": "2022-10-07T20:35:25.233Z"
      },
      {
        "duration": 20,
        "start_time": "2022-10-07T20:35:25.514Z"
      },
      {
        "duration": 9,
        "start_time": "2022-10-07T20:35:25.536Z"
      },
      {
        "duration": 9,
        "start_time": "2022-10-07T20:35:25.547Z"
      },
      {
        "duration": 808,
        "start_time": "2022-10-07T20:35:25.557Z"
      },
      {
        "duration": 3,
        "start_time": "2022-10-07T20:35:26.366Z"
      },
      {
        "duration": 6,
        "start_time": "2022-10-07T20:35:26.371Z"
      },
      {
        "duration": 5,
        "start_time": "2022-10-07T20:35:26.379Z"
      },
      {
        "duration": 6,
        "start_time": "2022-10-07T20:35:26.385Z"
      },
      {
        "duration": 851,
        "start_time": "2022-10-07T20:35:26.393Z"
      },
      {
        "duration": 3,
        "start_time": "2022-10-07T20:35:27.248Z"
      },
      {
        "duration": 20,
        "start_time": "2022-10-07T20:35:27.252Z"
      },
      {
        "duration": 21,
        "start_time": "2022-10-07T20:35:27.274Z"
      },
      {
        "duration": 14,
        "start_time": "2022-10-07T20:35:27.296Z"
      },
      {
        "duration": 20,
        "start_time": "2022-10-07T20:35:27.312Z"
      },
      {
        "duration": 717,
        "start_time": "2022-10-07T20:35:27.334Z"
      },
      {
        "duration": 4,
        "start_time": "2022-10-07T20:35:28.054Z"
      },
      {
        "duration": 7,
        "start_time": "2022-10-07T20:35:28.060Z"
      },
      {
        "duration": 6,
        "start_time": "2022-10-07T20:35:28.068Z"
      },
      {
        "duration": 6,
        "start_time": "2022-10-07T20:35:28.075Z"
      },
      {
        "duration": 5,
        "start_time": "2022-10-07T20:35:28.083Z"
      },
      {
        "duration": 4,
        "start_time": "2022-10-07T20:35:28.108Z"
      },
      {
        "duration": 8,
        "start_time": "2022-10-07T20:35:28.113Z"
      },
      {
        "duration": 13,
        "start_time": "2022-10-07T20:35:28.123Z"
      },
      {
        "duration": 127,
        "start_time": "2022-10-07T20:35:28.140Z"
      },
      {
        "duration": 103,
        "start_time": "2022-10-07T20:35:28.268Z"
      },
      {
        "duration": 8,
        "start_time": "2022-10-07T20:35:28.372Z"
      },
      {
        "duration": 10,
        "start_time": "2022-10-07T20:35:28.381Z"
      },
      {
        "duration": 4,
        "start_time": "2022-10-07T20:35:28.393Z"
      },
      {
        "duration": 3,
        "start_time": "2022-10-07T20:35:28.409Z"
      },
      {
        "duration": 14,
        "start_time": "2022-10-07T20:35:28.413Z"
      },
      {
        "duration": 10,
        "start_time": "2022-10-07T20:35:28.429Z"
      },
      {
        "duration": 8,
        "start_time": "2022-10-07T20:35:28.440Z"
      },
      {
        "duration": 195,
        "start_time": "2022-10-07T20:35:28.449Z"
      },
      {
        "duration": 0,
        "start_time": "2022-10-07T20:35:28.645Z"
      },
      {
        "duration": 0,
        "start_time": "2022-10-07T20:35:28.647Z"
      },
      {
        "duration": 0,
        "start_time": "2022-10-07T20:35:28.648Z"
      },
      {
        "duration": 0,
        "start_time": "2022-10-07T20:35:28.649Z"
      },
      {
        "duration": 0,
        "start_time": "2022-10-07T20:35:28.650Z"
      },
      {
        "duration": 0,
        "start_time": "2022-10-07T20:35:28.652Z"
      },
      {
        "duration": 0,
        "start_time": "2022-10-07T20:35:28.653Z"
      },
      {
        "duration": 0,
        "start_time": "2022-10-07T20:35:28.654Z"
      },
      {
        "duration": 0,
        "start_time": "2022-10-07T20:35:28.655Z"
      },
      {
        "duration": 0,
        "start_time": "2022-10-07T20:35:28.656Z"
      },
      {
        "duration": 0,
        "start_time": "2022-10-07T20:35:28.657Z"
      },
      {
        "duration": 8,
        "start_time": "2022-10-07T20:36:30.537Z"
      },
      {
        "duration": 7,
        "start_time": "2022-10-07T20:36:32.238Z"
      },
      {
        "duration": 8,
        "start_time": "2022-10-07T20:36:33.027Z"
      },
      {
        "duration": 4,
        "start_time": "2022-10-07T20:36:33.521Z"
      },
      {
        "duration": 5,
        "start_time": "2022-10-07T20:36:34.816Z"
      },
      {
        "duration": 5,
        "start_time": "2022-10-07T20:36:35.312Z"
      },
      {
        "duration": 2,
        "start_time": "2022-10-07T20:36:36.072Z"
      },
      {
        "duration": 9,
        "start_time": "2022-10-07T20:36:36.664Z"
      },
      {
        "duration": 879,
        "start_time": "2022-10-07T20:36:37.994Z"
      },
      {
        "duration": 869,
        "start_time": "2022-10-07T20:36:38.875Z"
      },
      {
        "duration": 875,
        "start_time": "2022-10-07T20:36:39.745Z"
      },
      {
        "duration": 1189,
        "start_time": "2022-10-07T20:38:57.686Z"
      },
      {
        "duration": 41,
        "start_time": "2022-10-08T19:31:24.453Z"
      },
      {
        "duration": 12613,
        "start_time": "2022-10-08T19:31:31.384Z"
      },
      {
        "duration": 1964,
        "start_time": "2022-10-08T19:31:43.999Z"
      },
      {
        "duration": 3,
        "start_time": "2022-10-08T19:31:45.966Z"
      },
      {
        "duration": 12,
        "start_time": "2022-10-08T19:31:45.971Z"
      },
      {
        "duration": 1899,
        "start_time": "2022-10-08T19:31:45.985Z"
      },
      {
        "duration": 6,
        "start_time": "2022-10-08T19:31:47.886Z"
      },
      {
        "duration": 12,
        "start_time": "2022-10-08T19:31:47.894Z"
      },
      {
        "duration": 48,
        "start_time": "2022-10-08T19:31:47.907Z"
      },
      {
        "duration": 54,
        "start_time": "2022-10-08T19:31:47.957Z"
      },
      {
        "duration": 331,
        "start_time": "2022-10-08T19:31:48.021Z"
      },
      {
        "duration": 2,
        "start_time": "2022-10-08T19:31:48.354Z"
      },
      {
        "duration": 42,
        "start_time": "2022-10-08T19:31:48.357Z"
      },
      {
        "duration": 32,
        "start_time": "2022-10-08T19:31:48.422Z"
      },
      {
        "duration": 392,
        "start_time": "2022-10-08T19:31:48.456Z"
      },
      {
        "duration": 2,
        "start_time": "2022-10-08T19:31:48.850Z"
      },
      {
        "duration": 1354,
        "start_time": "2022-10-08T19:31:48.854Z"
      },
      {
        "duration": 403,
        "start_time": "2022-10-08T19:31:50.209Z"
      },
      {
        "duration": 303,
        "start_time": "2022-10-08T19:31:50.614Z"
      },
      {
        "duration": 20,
        "start_time": "2022-10-08T19:31:50.918Z"
      },
      {
        "duration": 14,
        "start_time": "2022-10-08T19:31:50.940Z"
      },
      {
        "duration": 11,
        "start_time": "2022-10-08T19:31:50.956Z"
      },
      {
        "duration": 875,
        "start_time": "2022-10-08T19:31:50.968Z"
      },
      {
        "duration": 3,
        "start_time": "2022-10-08T19:31:51.845Z"
      },
      {
        "duration": 8,
        "start_time": "2022-10-08T19:31:51.849Z"
      },
      {
        "duration": 11,
        "start_time": "2022-10-08T19:31:51.858Z"
      },
      {
        "duration": 10,
        "start_time": "2022-10-08T19:31:51.871Z"
      },
      {
        "duration": 756,
        "start_time": "2022-10-08T19:31:51.883Z"
      },
      {
        "duration": 2,
        "start_time": "2022-10-08T19:31:52.643Z"
      },
      {
        "duration": 31,
        "start_time": "2022-10-08T19:31:52.646Z"
      },
      {
        "duration": 7,
        "start_time": "2022-10-08T19:31:52.678Z"
      },
      {
        "duration": 6,
        "start_time": "2022-10-08T19:31:52.686Z"
      },
      {
        "duration": 5,
        "start_time": "2022-10-08T19:31:52.693Z"
      },
      {
        "duration": 754,
        "start_time": "2022-10-08T19:31:52.699Z"
      },
      {
        "duration": 3,
        "start_time": "2022-10-08T19:31:53.454Z"
      },
      {
        "duration": 9,
        "start_time": "2022-10-08T19:31:53.459Z"
      },
      {
        "duration": 5,
        "start_time": "2022-10-08T19:31:53.469Z"
      },
      {
        "duration": 7,
        "start_time": "2022-10-08T19:31:53.475Z"
      },
      {
        "duration": 10,
        "start_time": "2022-10-08T19:31:53.483Z"
      },
      {
        "duration": 7,
        "start_time": "2022-10-08T19:31:53.495Z"
      },
      {
        "duration": 5,
        "start_time": "2022-10-08T19:31:53.503Z"
      },
      {
        "duration": 20,
        "start_time": "2022-10-08T19:31:53.509Z"
      },
      {
        "duration": 114,
        "start_time": "2022-10-08T19:31:53.530Z"
      },
      {
        "duration": 93,
        "start_time": "2022-10-08T19:31:53.646Z"
      },
      {
        "duration": 7,
        "start_time": "2022-10-08T19:31:53.740Z"
      },
      {
        "duration": 9,
        "start_time": "2022-10-08T19:31:53.748Z"
      },
      {
        "duration": 4,
        "start_time": "2022-10-08T19:31:53.759Z"
      },
      {
        "duration": 5,
        "start_time": "2022-10-08T19:31:53.764Z"
      },
      {
        "duration": 6,
        "start_time": "2022-10-08T19:31:53.770Z"
      },
      {
        "duration": 8,
        "start_time": "2022-10-08T19:31:53.777Z"
      },
      {
        "duration": 4,
        "start_time": "2022-10-08T19:31:53.787Z"
      },
      {
        "duration": 31,
        "start_time": "2022-10-08T19:31:53.792Z"
      },
      {
        "duration": 7,
        "start_time": "2022-10-08T19:31:53.825Z"
      },
      {
        "duration": 6,
        "start_time": "2022-10-08T19:31:53.833Z"
      },
      {
        "duration": 4,
        "start_time": "2022-10-08T19:31:53.840Z"
      },
      {
        "duration": 5,
        "start_time": "2022-10-08T19:31:53.845Z"
      },
      {
        "duration": 5,
        "start_time": "2022-10-08T19:31:53.851Z"
      },
      {
        "duration": 4,
        "start_time": "2022-10-08T19:31:53.857Z"
      },
      {
        "duration": 5,
        "start_time": "2022-10-08T19:31:53.863Z"
      },
      {
        "duration": 1255,
        "start_time": "2022-10-08T19:31:53.869Z"
      },
      {
        "duration": 1231,
        "start_time": "2022-10-08T19:31:55.125Z"
      },
      {
        "duration": 1269,
        "start_time": "2022-10-08T19:31:56.357Z"
      }
    ],
    "kernelspec": {
      "display_name": "Python 3 (ipykernel)",
      "language": "python",
      "name": "python3"
    },
    "language_info": {
      "codemirror_mode": {
        "name": "ipython",
        "version": 3
      },
      "file_extension": ".py",
      "mimetype": "text/x-python",
      "name": "python",
      "nbconvert_exporter": "python",
      "pygments_lexer": "ipython3",
      "version": "3.9.5"
    },
    "toc": {
      "base_numbering": 1,
      "nav_menu": {},
      "number_sections": true,
      "sideBar": true,
      "skip_h1_title": true,
      "title_cell": "Table of Contents",
      "title_sidebar": "Contents",
      "toc_cell": false,
      "toc_position": {},
      "toc_section_display": true,
      "toc_window_display": false
    },
    "colab": {
      "provenance": []
    }
  },
  "nbformat": 4,
  "nbformat_minor": 5
}