{
  "cells": [
    {
      "cell_type": "markdown",
      "id": "df5ee259",
      "metadata": {
        "id": "df5ee259"
      },
      "source": [
        "# Описание"
      ]
    },
    {
      "cell_type": "markdown",
      "id": "254d50c6",
      "metadata": {
        "id": "254d50c6"
      },
      "source": [
        "Задача:\n",
        "\n",
        "С помощью нейросети определять температуру на поверхности обнаруженных звезд"
      ]
    },
    {
      "cell_type": "markdown",
      "id": "a97fad61",
      "metadata": {
        "id": "a97fad61"
      },
      "source": [
        "Характеристики:\n",
        "\n",
        "* Относительная светимость L/Lo — светимость звезды относительно Солнца.\n",
        "\n",
        "* Относительный радиус R/Ro — радиус звезды относительно радиуса Солнца.\n",
        "\n",
        "* Абсолютная звёздная величина Mv — физическая величина, характеризующая блеск звезды.\n",
        "\n",
        "* Звёздный цвет (white, red, blue, yellow, yellow-orange и др.) — цвет звезды, который определяют на основе спектрального анализа.\n",
        "\n",
        "* Тип звезды.\n",
        "\n",
        "* Тип звезды\tи Номер, соответствующий типу:\n",
        "    * Коричневый карлик - 0\n",
        "    * Красный карлик - 1\n",
        "    * Белый карлик - 2\n",
        "    * Звёзды главной последовательности - 3\n",
        "    * Сверхгигант - 4\n",
        "    * Гипергигант - 5\n",
        "\n",
        "\n",
        "* Абсолютная температура T(K) — температура на поверхности звезды в Кельвинах."
      ]
    },
    {
      "cell_type": "markdown",
      "id": "corresponding-armstrong",
      "metadata": {
        "ExecuteTime": {
          "end_time": "2022-05-05T04:58:05.692448Z",
          "start_time": "2022-05-05T04:58:05.688565Z"
        },
        "id": "corresponding-armstrong"
      },
      "source": [
        "## Загрузка данных"
      ]
    },
    {
      "cell_type": "code",
      "execution_count": null,
      "id": "spectacular-folder",
      "metadata": {
        "scrolled": true,
        "id": "spectacular-folder"
      },
      "outputs": [],
      "source": [
        "# !pip install pandas\n",
        "# !pip install torch\n",
        "# !pip install scikit-learn==1.1.3\n",
        "# !pip install matplotlib\n",
        "# !pip install numpy\n",
        "# !pip install pandas_profiling\n",
        "# !pip install warnings\n",
        "# !pip install fuzzywuzzy\n",
        "# !pip install collections\n",
        "# !pip install re\n",
        "# !pip install math\n"
      ]
    },
    {
      "cell_type": "code",
      "execution_count": null,
      "id": "dc4d619f",
      "metadata": {
        "id": "dc4d619f",
        "outputId": "080f41b1-869e-433b-d0a4-caad9d2cafa1"
      },
      "outputs": [
        {
          "name": "stderr",
          "output_type": "stream",
          "text": [
            "/tmp/ipykernel_124/1488078054.py:6: DeprecationWarning: `import pandas_profiling` is going to be deprecated by April 1st. Please use `import ydata_profiling` instead.\n",
            "  from pandas_profiling import ProfileReport\n",
            "/opt/conda/lib/python3.9/site-packages/fuzzywuzzy/fuzz.py:11: UserWarning: Using slow pure-python SequenceMatcher. Install python-Levenshtein to remove this warning\n",
            "  warnings.warn('Using slow pure-python SequenceMatcher. Install python-Levenshtein to remove this warning')\n"
          ]
        }
      ],
      "source": [
        "\n",
        "import pandas as pd\n",
        "import torch\n",
        "import numpy as np\n",
        "from sklearn.model_selection import train_test_split\n",
        "import matplotlib.pyplot as plt\n",
        "from pandas_profiling import ProfileReport\n",
        "# supress warnings\n",
        "import warnings\n",
        "from collections import Counter\n",
        "import re\n",
        "from scipy import stats as st\n",
        "from fuzzywuzzy import fuzz\n",
        "from fuzzywuzzy import process\n",
        "from sklearn.preprocessing import OneHotEncoder,StandardScaler\n",
        "from sklearn.cluster import KMeans\n",
        "from sklearn.compose import ColumnTransformer\n",
        "from sklearn.pipeline import Pipeline\n",
        "from torch import nn\n",
        "import torch\n",
        "from math import ceil\n",
        "from torch.optim import Adam\n",
        "from sklearn.metrics import mean_squared_error\n",
        "from sklearn.compose import make_column_transformer\n"
      ]
    },
    {
      "cell_type": "code",
      "execution_count": null,
      "id": "08bd894f",
      "metadata": {
        "id": "08bd894f"
      },
      "outputs": [],
      "source": [
        "# игнорируем будущие ошибки\n",
        "warnings.filterwarnings('ignore')"
      ]
    },
    {
      "cell_type": "markdown",
      "id": "simple-subdivision",
      "metadata": {
        "id": "simple-subdivision"
      },
      "source": [
        "## Предобработка и анализ данных"
      ]
    },
    {
      "cell_type": "code",
      "execution_count": null,
      "id": "26438db7",
      "metadata": {
        "id": "26438db7"
      },
      "outputs": [],
      "source": [
        "# функция для подсчетов типов\n",
        "def counter_of_type(data):\n",
        "    return Counter(data.dtypes)\n"
      ]
    },
    {
      "cell_type": "code",
      "execution_count": null,
      "id": "6eea9c77",
      "metadata": {
        "id": "6eea9c77"
      },
      "outputs": [],
      "source": [
        "# Функция для ознакомления с данными\n",
        "def preview(data,n_row=4,\n",
        "             head=True,\n",
        "             info=True,\n",
        "             columns=True,\n",
        "             shape=True,\n",
        "             isna=True,\n",
        "             duplicated=True,\n",
        "             dtypes_=True,\n",
        "            describe_=True,\n",
        "           clear_duples=True,\n",
        "           lower_and_sep_col=True):\n",
        "    global dct_nan\n",
        "    global df_nan_columns\n",
        "    dct_nan = {}\n",
        "    if head:\n",
        "        print(f'First {n_row} row(s) in the head of data')\n",
        "        display(data.head(n_row))\n",
        "        print('-'*30)\n",
        "    if info:\n",
        "        print('Data Information:')\n",
        "        display(data.info())\n",
        "        print('-'*30)\n",
        "    if columns:\n",
        "        print('Data columns:')\n",
        "        display(data.columns)\n",
        "        if lower_and_sep_col:\n",
        "            COLUMN_REG = \"(\\w) (\\w)\"\n",
        "            repl = r\"\\1_\\2\"\n",
        "            data.columns = list(map(lambda x: re.sub(COLUMN_REG,repl,x).lower(),data.columns))\n",
        "            print('Lowered and sepperated by words columns:')\n",
        "            print(data.columns)\n",
        "            print('-'*30)\n",
        "    if shape:\n",
        "        print('Data shape:')\n",
        "        display(data.shape)\n",
        "        print('-'*30)\n",
        "    if isna:\n",
        "        print('Data isna by row mean:')\n",
        "        display(data.isna().mean())\n",
        "        print()\n",
        "        tmp = data.isna().mean()\n",
        "        for i in range(len(tmp)):\n",
        "\n",
        "            if tmp[i] > 0:\n",
        "                dct_nan[tmp.index[i]] = tmp[i]\n",
        "        if tmp.sum() > 0:\n",
        "            df_nan_columns = pd.DataFrame.from_dict(dct_nan.items())\n",
        "            df_nan_columns.columns = ['column','rate_of_nan']\n",
        "            display(df_nan_columns)\n",
        "        print('-'*30)\n",
        "    if duplicated:\n",
        "        print('Data clear duplicates sum:')\n",
        "        duplets = data.duplicated().sum()\n",
        "        display(duplets)\n",
        "        if duplets >1 and clear_duples:\n",
        "            data.drop_duplicates(inplace=True)\n",
        "            print('Successful delete of {0} duplicates'.format(duplets))\n",
        "        elif duplets == 1 and clear_duples:\n",
        "            data.drop_duplicates(inplace=True)\n",
        "            print('Successful delete of {0} duplicate'.format(duplets))\n",
        "        print('-'*30)\n",
        "    if dtypes_:\n",
        "        print('Data dtypes:')\n",
        "        display(data.dtypes)\n",
        "        print('Number of each type:')\n",
        "        print(counter_of_type(data))\n",
        "        print('-'*30)\n",
        "    if describe_:\n",
        "        print('Major statistics for data:')\n",
        "        display(data.describe())\n"
      ]
    },
    {
      "cell_type": "code",
      "execution_count": null,
      "id": "flush-dream",
      "metadata": {
        "id": "flush-dream"
      },
      "outputs": [],
      "source": [
        "df= pd.read_csv('/datasets/6_class.csv',index_col=0)"
      ]
    },
    {
      "cell_type": "code",
      "execution_count": null,
      "id": "b73f2f92",
      "metadata": {
        "scrolled": true,
        "id": "b73f2f92",
        "outputId": "6882e8d9-b007-4ced-d831-9dfc0d51ac45"
      },
      "outputs": [
        {
          "data": {
            "text/html": [
              "<div>\n",
              "<style scoped>\n",
              "    .dataframe tbody tr th:only-of-type {\n",
              "        vertical-align: middle;\n",
              "    }\n",
              "\n",
              "    .dataframe tbody tr th {\n",
              "        vertical-align: top;\n",
              "    }\n",
              "\n",
              "    .dataframe thead th {\n",
              "        text-align: right;\n",
              "    }\n",
              "</style>\n",
              "<table border=\"1\" class=\"dataframe\">\n",
              "  <thead>\n",
              "    <tr style=\"text-align: right;\">\n",
              "      <th></th>\n",
              "      <th>Temperature (K)</th>\n",
              "      <th>Luminosity(L/Lo)</th>\n",
              "      <th>Radius(R/Ro)</th>\n",
              "      <th>Absolute magnitude(Mv)</th>\n",
              "      <th>Star type</th>\n",
              "      <th>Star color</th>\n",
              "    </tr>\n",
              "  </thead>\n",
              "  <tbody>\n",
              "    <tr>\n",
              "      <th>0</th>\n",
              "      <td>3068</td>\n",
              "      <td>0.002400</td>\n",
              "      <td>0.1700</td>\n",
              "      <td>16.12</td>\n",
              "      <td>0</td>\n",
              "      <td>Red</td>\n",
              "    </tr>\n",
              "    <tr>\n",
              "      <th>1</th>\n",
              "      <td>3042</td>\n",
              "      <td>0.000500</td>\n",
              "      <td>0.1542</td>\n",
              "      <td>16.60</td>\n",
              "      <td>0</td>\n",
              "      <td>Red</td>\n",
              "    </tr>\n",
              "    <tr>\n",
              "      <th>2</th>\n",
              "      <td>2600</td>\n",
              "      <td>0.000300</td>\n",
              "      <td>0.1020</td>\n",
              "      <td>18.70</td>\n",
              "      <td>0</td>\n",
              "      <td>Red</td>\n",
              "    </tr>\n",
              "    <tr>\n",
              "      <th>3</th>\n",
              "      <td>2800</td>\n",
              "      <td>0.000200</td>\n",
              "      <td>0.1600</td>\n",
              "      <td>16.65</td>\n",
              "      <td>0</td>\n",
              "      <td>Red</td>\n",
              "    </tr>\n",
              "    <tr>\n",
              "      <th>4</th>\n",
              "      <td>1939</td>\n",
              "      <td>0.000138</td>\n",
              "      <td>0.1030</td>\n",
              "      <td>20.06</td>\n",
              "      <td>0</td>\n",
              "      <td>Red</td>\n",
              "    </tr>\n",
              "  </tbody>\n",
              "</table>\n",
              "</div>"
            ],
            "text/plain": [
              "   Temperature (K)  Luminosity(L/Lo)  Radius(R/Ro)  Absolute magnitude(Mv)  \\\n",
              "0             3068          0.002400        0.1700                   16.12   \n",
              "1             3042          0.000500        0.1542                   16.60   \n",
              "2             2600          0.000300        0.1020                   18.70   \n",
              "3             2800          0.000200        0.1600                   16.65   \n",
              "4             1939          0.000138        0.1030                   20.06   \n",
              "\n",
              "   Star type Star color  \n",
              "0          0        Red  \n",
              "1          0        Red  \n",
              "2          0        Red  \n",
              "3          0        Red  \n",
              "4          0        Red  "
            ]
          },
          "execution_count": 7,
          "metadata": {},
          "output_type": "execute_result"
        }
      ],
      "source": [
        "df.head()"
      ]
    },
    {
      "cell_type": "code",
      "execution_count": null,
      "id": "155029b2",
      "metadata": {
        "id": "155029b2",
        "outputId": "fbdec7c6-476d-47e5-b18c-13a409c5815d"
      },
      "outputs": [
        {
          "data": {
            "text/plain": [
              "(240, 6)"
            ]
          },
          "execution_count": 8,
          "metadata": {},
          "output_type": "execute_result"
        }
      ],
      "source": [
        "df.shape"
      ]
    },
    {
      "cell_type": "code",
      "execution_count": null,
      "id": "464d0285",
      "metadata": {
        "id": "464d0285",
        "outputId": "9dbdb0af-8c38-4614-a33f-9eee9f0048a9"
      },
      "outputs": [
        {
          "data": {
            "text/html": [
              "<div>\n",
              "<style scoped>\n",
              "    .dataframe tbody tr th:only-of-type {\n",
              "        vertical-align: middle;\n",
              "    }\n",
              "\n",
              "    .dataframe tbody tr th {\n",
              "        vertical-align: top;\n",
              "    }\n",
              "\n",
              "    .dataframe thead th {\n",
              "        text-align: right;\n",
              "    }\n",
              "</style>\n",
              "<table border=\"1\" class=\"dataframe\">\n",
              "  <thead>\n",
              "    <tr style=\"text-align: right;\">\n",
              "      <th></th>\n",
              "      <th>Temperature (K)</th>\n",
              "      <th>Luminosity(L/Lo)</th>\n",
              "      <th>Radius(R/Ro)</th>\n",
              "      <th>Absolute magnitude(Mv)</th>\n",
              "      <th>Star type</th>\n",
              "    </tr>\n",
              "  </thead>\n",
              "  <tbody>\n",
              "    <tr>\n",
              "      <th>count</th>\n",
              "      <td>240.000000</td>\n",
              "      <td>240.000000</td>\n",
              "      <td>240.000000</td>\n",
              "      <td>240.000000</td>\n",
              "      <td>240.000000</td>\n",
              "    </tr>\n",
              "    <tr>\n",
              "      <th>mean</th>\n",
              "      <td>10497.462500</td>\n",
              "      <td>107188.361635</td>\n",
              "      <td>237.157781</td>\n",
              "      <td>4.382396</td>\n",
              "      <td>2.500000</td>\n",
              "    </tr>\n",
              "    <tr>\n",
              "      <th>std</th>\n",
              "      <td>9552.425037</td>\n",
              "      <td>179432.244940</td>\n",
              "      <td>517.155763</td>\n",
              "      <td>10.532512</td>\n",
              "      <td>1.711394</td>\n",
              "    </tr>\n",
              "    <tr>\n",
              "      <th>min</th>\n",
              "      <td>1939.000000</td>\n",
              "      <td>0.000080</td>\n",
              "      <td>0.008400</td>\n",
              "      <td>-11.920000</td>\n",
              "      <td>0.000000</td>\n",
              "    </tr>\n",
              "    <tr>\n",
              "      <th>25%</th>\n",
              "      <td>3344.250000</td>\n",
              "      <td>0.000865</td>\n",
              "      <td>0.102750</td>\n",
              "      <td>-6.232500</td>\n",
              "      <td>1.000000</td>\n",
              "    </tr>\n",
              "    <tr>\n",
              "      <th>50%</th>\n",
              "      <td>5776.000000</td>\n",
              "      <td>0.070500</td>\n",
              "      <td>0.762500</td>\n",
              "      <td>8.313000</td>\n",
              "      <td>2.500000</td>\n",
              "    </tr>\n",
              "    <tr>\n",
              "      <th>75%</th>\n",
              "      <td>15055.500000</td>\n",
              "      <td>198050.000000</td>\n",
              "      <td>42.750000</td>\n",
              "      <td>13.697500</td>\n",
              "      <td>4.000000</td>\n",
              "    </tr>\n",
              "    <tr>\n",
              "      <th>max</th>\n",
              "      <td>40000.000000</td>\n",
              "      <td>849420.000000</td>\n",
              "      <td>1948.500000</td>\n",
              "      <td>20.060000</td>\n",
              "      <td>5.000000</td>\n",
              "    </tr>\n",
              "  </tbody>\n",
              "</table>\n",
              "</div>"
            ],
            "text/plain": [
              "       Temperature (K)  Luminosity(L/Lo)  Radius(R/Ro)  \\\n",
              "count       240.000000        240.000000    240.000000   \n",
              "mean      10497.462500     107188.361635    237.157781   \n",
              "std        9552.425037     179432.244940    517.155763   \n",
              "min        1939.000000          0.000080      0.008400   \n",
              "25%        3344.250000          0.000865      0.102750   \n",
              "50%        5776.000000          0.070500      0.762500   \n",
              "75%       15055.500000     198050.000000     42.750000   \n",
              "max       40000.000000     849420.000000   1948.500000   \n",
              "\n",
              "       Absolute magnitude(Mv)   Star type  \n",
              "count              240.000000  240.000000  \n",
              "mean                 4.382396    2.500000  \n",
              "std                 10.532512    1.711394  \n",
              "min                -11.920000    0.000000  \n",
              "25%                 -6.232500    1.000000  \n",
              "50%                  8.313000    2.500000  \n",
              "75%                 13.697500    4.000000  \n",
              "max                 20.060000    5.000000  "
            ]
          },
          "execution_count": 9,
          "metadata": {},
          "output_type": "execute_result"
        }
      ],
      "source": [
        "df.describe()"
      ]
    },
    {
      "cell_type": "code",
      "execution_count": null,
      "id": "b4dd3fb1",
      "metadata": {
        "scrolled": true,
        "id": "b4dd3fb1",
        "outputId": "fb242e80-c5b8-406b-e26b-34f1cb535f2d"
      },
      "outputs": [
        {
          "name": "stdout",
          "output_type": "stream",
          "text": [
            "First 4 row(s) in the head of data\n"
          ]
        },
        {
          "data": {
            "text/html": [
              "<div>\n",
              "<style scoped>\n",
              "    .dataframe tbody tr th:only-of-type {\n",
              "        vertical-align: middle;\n",
              "    }\n",
              "\n",
              "    .dataframe tbody tr th {\n",
              "        vertical-align: top;\n",
              "    }\n",
              "\n",
              "    .dataframe thead th {\n",
              "        text-align: right;\n",
              "    }\n",
              "</style>\n",
              "<table border=\"1\" class=\"dataframe\">\n",
              "  <thead>\n",
              "    <tr style=\"text-align: right;\">\n",
              "      <th></th>\n",
              "      <th>Temperature (K)</th>\n",
              "      <th>Luminosity(L/Lo)</th>\n",
              "      <th>Radius(R/Ro)</th>\n",
              "      <th>Absolute magnitude(Mv)</th>\n",
              "      <th>Star type</th>\n",
              "      <th>Star color</th>\n",
              "    </tr>\n",
              "  </thead>\n",
              "  <tbody>\n",
              "    <tr>\n",
              "      <th>0</th>\n",
              "      <td>3068</td>\n",
              "      <td>0.0024</td>\n",
              "      <td>0.1700</td>\n",
              "      <td>16.12</td>\n",
              "      <td>0</td>\n",
              "      <td>Red</td>\n",
              "    </tr>\n",
              "    <tr>\n",
              "      <th>1</th>\n",
              "      <td>3042</td>\n",
              "      <td>0.0005</td>\n",
              "      <td>0.1542</td>\n",
              "      <td>16.60</td>\n",
              "      <td>0</td>\n",
              "      <td>Red</td>\n",
              "    </tr>\n",
              "    <tr>\n",
              "      <th>2</th>\n",
              "      <td>2600</td>\n",
              "      <td>0.0003</td>\n",
              "      <td>0.1020</td>\n",
              "      <td>18.70</td>\n",
              "      <td>0</td>\n",
              "      <td>Red</td>\n",
              "    </tr>\n",
              "    <tr>\n",
              "      <th>3</th>\n",
              "      <td>2800</td>\n",
              "      <td>0.0002</td>\n",
              "      <td>0.1600</td>\n",
              "      <td>16.65</td>\n",
              "      <td>0</td>\n",
              "      <td>Red</td>\n",
              "    </tr>\n",
              "  </tbody>\n",
              "</table>\n",
              "</div>"
            ],
            "text/plain": [
              "   Temperature (K)  Luminosity(L/Lo)  Radius(R/Ro)  Absolute magnitude(Mv)  \\\n",
              "0             3068            0.0024        0.1700                   16.12   \n",
              "1             3042            0.0005        0.1542                   16.60   \n",
              "2             2600            0.0003        0.1020                   18.70   \n",
              "3             2800            0.0002        0.1600                   16.65   \n",
              "\n",
              "   Star type Star color  \n",
              "0          0        Red  \n",
              "1          0        Red  \n",
              "2          0        Red  \n",
              "3          0        Red  "
            ]
          },
          "metadata": {},
          "output_type": "display_data"
        },
        {
          "name": "stdout",
          "output_type": "stream",
          "text": [
            "------------------------------\n",
            "Data Information:\n",
            "<class 'pandas.core.frame.DataFrame'>\n",
            "Int64Index: 240 entries, 0 to 239\n",
            "Data columns (total 6 columns):\n",
            " #   Column                  Non-Null Count  Dtype  \n",
            "---  ------                  --------------  -----  \n",
            " 0   Temperature (K)         240 non-null    int64  \n",
            " 1   Luminosity(L/Lo)        240 non-null    float64\n",
            " 2   Radius(R/Ro)            240 non-null    float64\n",
            " 3   Absolute magnitude(Mv)  240 non-null    float64\n",
            " 4   Star type               240 non-null    int64  \n",
            " 5   Star color              240 non-null    object \n",
            "dtypes: float64(3), int64(2), object(1)\n",
            "memory usage: 13.1+ KB\n"
          ]
        },
        {
          "data": {
            "text/plain": [
              "None"
            ]
          },
          "metadata": {},
          "output_type": "display_data"
        },
        {
          "name": "stdout",
          "output_type": "stream",
          "text": [
            "------------------------------\n",
            "Data columns:\n"
          ]
        },
        {
          "data": {
            "text/plain": [
              "Index(['Temperature (K)', 'Luminosity(L/Lo)', 'Radius(R/Ro)',\n",
              "       'Absolute magnitude(Mv)', 'Star type', 'Star color'],\n",
              "      dtype='object')"
            ]
          },
          "metadata": {},
          "output_type": "display_data"
        },
        {
          "name": "stdout",
          "output_type": "stream",
          "text": [
            "Lowered and sepperated by words columns:\n",
            "Index(['temperature (k)', 'luminosity(l/lo)', 'radius(r/ro)',\n",
            "       'absolute_magnitude(mv)', 'star_type', 'star_color'],\n",
            "      dtype='object')\n",
            "------------------------------\n",
            "Data shape:\n"
          ]
        },
        {
          "data": {
            "text/plain": [
              "(240, 6)"
            ]
          },
          "metadata": {},
          "output_type": "display_data"
        },
        {
          "name": "stdout",
          "output_type": "stream",
          "text": [
            "------------------------------\n",
            "Data isna by row mean:\n"
          ]
        },
        {
          "data": {
            "text/plain": [
              "temperature (k)           0.0\n",
              "luminosity(l/lo)          0.0\n",
              "radius(r/ro)              0.0\n",
              "absolute_magnitude(mv)    0.0\n",
              "star_type                 0.0\n",
              "star_color                0.0\n",
              "dtype: float64"
            ]
          },
          "metadata": {},
          "output_type": "display_data"
        },
        {
          "name": "stdout",
          "output_type": "stream",
          "text": [
            "\n",
            "------------------------------\n",
            "Data clear duplicates sum:\n"
          ]
        },
        {
          "data": {
            "text/plain": [
              "0"
            ]
          },
          "metadata": {},
          "output_type": "display_data"
        },
        {
          "name": "stdout",
          "output_type": "stream",
          "text": [
            "------------------------------\n",
            "Data dtypes:\n"
          ]
        },
        {
          "data": {
            "text/plain": [
              "temperature (k)             int64\n",
              "luminosity(l/lo)          float64\n",
              "radius(r/ro)              float64\n",
              "absolute_magnitude(mv)    float64\n",
              "star_type                   int64\n",
              "star_color                 object\n",
              "dtype: object"
            ]
          },
          "metadata": {},
          "output_type": "display_data"
        },
        {
          "name": "stdout",
          "output_type": "stream",
          "text": [
            "Number of each type:\n",
            "Counter({dtype('float64'): 3, dtype('int64'): 2, dtype('O'): 1})\n",
            "------------------------------\n",
            "Major statistics for data:\n"
          ]
        },
        {
          "data": {
            "text/html": [
              "<div>\n",
              "<style scoped>\n",
              "    .dataframe tbody tr th:only-of-type {\n",
              "        vertical-align: middle;\n",
              "    }\n",
              "\n",
              "    .dataframe tbody tr th {\n",
              "        vertical-align: top;\n",
              "    }\n",
              "\n",
              "    .dataframe thead th {\n",
              "        text-align: right;\n",
              "    }\n",
              "</style>\n",
              "<table border=\"1\" class=\"dataframe\">\n",
              "  <thead>\n",
              "    <tr style=\"text-align: right;\">\n",
              "      <th></th>\n",
              "      <th>temperature (k)</th>\n",
              "      <th>luminosity(l/lo)</th>\n",
              "      <th>radius(r/ro)</th>\n",
              "      <th>absolute_magnitude(mv)</th>\n",
              "      <th>star_type</th>\n",
              "    </tr>\n",
              "  </thead>\n",
              "  <tbody>\n",
              "    <tr>\n",
              "      <th>count</th>\n",
              "      <td>240.000000</td>\n",
              "      <td>240.000000</td>\n",
              "      <td>240.000000</td>\n",
              "      <td>240.000000</td>\n",
              "      <td>240.000000</td>\n",
              "    </tr>\n",
              "    <tr>\n",
              "      <th>mean</th>\n",
              "      <td>10497.462500</td>\n",
              "      <td>107188.361635</td>\n",
              "      <td>237.157781</td>\n",
              "      <td>4.382396</td>\n",
              "      <td>2.500000</td>\n",
              "    </tr>\n",
              "    <tr>\n",
              "      <th>std</th>\n",
              "      <td>9552.425037</td>\n",
              "      <td>179432.244940</td>\n",
              "      <td>517.155763</td>\n",
              "      <td>10.532512</td>\n",
              "      <td>1.711394</td>\n",
              "    </tr>\n",
              "    <tr>\n",
              "      <th>min</th>\n",
              "      <td>1939.000000</td>\n",
              "      <td>0.000080</td>\n",
              "      <td>0.008400</td>\n",
              "      <td>-11.920000</td>\n",
              "      <td>0.000000</td>\n",
              "    </tr>\n",
              "    <tr>\n",
              "      <th>25%</th>\n",
              "      <td>3344.250000</td>\n",
              "      <td>0.000865</td>\n",
              "      <td>0.102750</td>\n",
              "      <td>-6.232500</td>\n",
              "      <td>1.000000</td>\n",
              "    </tr>\n",
              "    <tr>\n",
              "      <th>50%</th>\n",
              "      <td>5776.000000</td>\n",
              "      <td>0.070500</td>\n",
              "      <td>0.762500</td>\n",
              "      <td>8.313000</td>\n",
              "      <td>2.500000</td>\n",
              "    </tr>\n",
              "    <tr>\n",
              "      <th>75%</th>\n",
              "      <td>15055.500000</td>\n",
              "      <td>198050.000000</td>\n",
              "      <td>42.750000</td>\n",
              "      <td>13.697500</td>\n",
              "      <td>4.000000</td>\n",
              "    </tr>\n",
              "    <tr>\n",
              "      <th>max</th>\n",
              "      <td>40000.000000</td>\n",
              "      <td>849420.000000</td>\n",
              "      <td>1948.500000</td>\n",
              "      <td>20.060000</td>\n",
              "      <td>5.000000</td>\n",
              "    </tr>\n",
              "  </tbody>\n",
              "</table>\n",
              "</div>"
            ],
            "text/plain": [
              "       temperature (k)  luminosity(l/lo)  radius(r/ro)  \\\n",
              "count       240.000000        240.000000    240.000000   \n",
              "mean      10497.462500     107188.361635    237.157781   \n",
              "std        9552.425037     179432.244940    517.155763   \n",
              "min        1939.000000          0.000080      0.008400   \n",
              "25%        3344.250000          0.000865      0.102750   \n",
              "50%        5776.000000          0.070500      0.762500   \n",
              "75%       15055.500000     198050.000000     42.750000   \n",
              "max       40000.000000     849420.000000   1948.500000   \n",
              "\n",
              "       absolute_magnitude(mv)   star_type  \n",
              "count              240.000000  240.000000  \n",
              "mean                 4.382396    2.500000  \n",
              "std                 10.532512    1.711394  \n",
              "min                -11.920000    0.000000  \n",
              "25%                 -6.232500    1.000000  \n",
              "50%                  8.313000    2.500000  \n",
              "75%                 13.697500    4.000000  \n",
              "max                 20.060000    5.000000  "
            ]
          },
          "metadata": {},
          "output_type": "display_data"
        }
      ],
      "source": [
        "preview(df)"
      ]
    },
    {
      "cell_type": "code",
      "execution_count": null,
      "id": "5112b517",
      "metadata": {
        "id": "5112b517"
      },
      "outputs": [],
      "source": [
        "column_to_rep = df.columns[0]\n",
        "df.rename(columns={f'{column_to_rep}':column_to_rep.replace(' (', \"(\")},inplace=True)"
      ]
    },
    {
      "cell_type": "code",
      "execution_count": null,
      "id": "b5b77482",
      "metadata": {
        "id": "b5b77482"
      },
      "outputs": [],
      "source": [
        "# для простоты, удобства и ускорения процесса анализа\n",
        "# воспользуемся библиотекой pandas_profiling\n",
        "# ProfileReport(df)"
      ]
    },
    {
      "cell_type": "code",
      "execution_count": null,
      "id": "72edcf54",
      "metadata": {
        "scrolled": true,
        "id": "72edcf54",
        "outputId": "a40b0eb3-63c7-476e-b81e-4a5987c2c6e5"
      },
      "outputs": [
        {
          "data": {
            "text/plain": [
              "Index(['temperature(k)', 'luminosity(l/lo)', 'radius(r/ro)',\n",
              "       'absolute_magnitude(mv)', 'star_type', 'star_color'],\n",
              "      dtype='object')"
            ]
          },
          "execution_count": 13,
          "metadata": {},
          "output_type": "execute_result"
        }
      ],
      "source": [
        "df.columns"
      ]
    },
    {
      "cell_type": "code",
      "execution_count": null,
      "id": "5b72e8bc",
      "metadata": {
        "id": "5b72e8bc"
      },
      "outputs": [],
      "source": [
        "def stats(data,*column):\n",
        "    for c in column:\n",
        "        print(f'Минимальное значение для столбца {c} = **{min(data[c])}**')\n",
        "        print(f'Максимальное значение для столбца {c} = **{max(data[c])}**')\n",
        "        print(f'Медианное значение для столбца {c} = **{np.median(data[c])}**')\n",
        "        print(f'Среднее значение для столбца {c} = **{np.mean(data[c])}**')\n",
        "        print(f'Мода для столбца {c} = **{st.mode(data[c])[0]}**')\n",
        "        print(f'Стандартное отклонение для столбца {c} = **{np.std(data[c])}**')\n",
        "        print(f'Коэффициент асимметрии для столбца {c} = **{st.skew(data[c])}**')\n",
        "        print('-'*40)"
      ]
    },
    {
      "cell_type": "code",
      "execution_count": null,
      "id": "5c86f233",
      "metadata": {
        "id": "5c86f233"
      },
      "outputs": [],
      "source": [
        "numeric_columns = df.drop(columns=['star_type','star_color'],axis=1).columns"
      ]
    },
    {
      "cell_type": "code",
      "execution_count": null,
      "id": "30f51bc0",
      "metadata": {
        "id": "30f51bc0",
        "outputId": "9ed5594e-6f9f-4b1a-b322-3985a806874d"
      },
      "outputs": [
        {
          "name": "stdout",
          "output_type": "stream",
          "text": [
            "Минимальное значение для столбца temperature(k) = **1939**\n",
            "Максимальное значение для столбца temperature(k) = **40000**\n",
            "Медианное значение для столбца temperature(k) = **5776.0**\n",
            "Среднее значение для столбца temperature(k) = **10497.4625**\n",
            "Мода для столбца temperature(k) = **[3600]**\n",
            "Стандартное отклонение для столбца temperature(k) = **9532.503378280391**\n",
            "Коэффициент асимметрии для столбца temperature(k) = **1.3132941596030199**\n",
            "----------------------------------------\n",
            "Минимальное значение для столбца luminosity(l/lo) = **8e-05**\n",
            "Максимальное значение для столбца luminosity(l/lo) = **849420.0**\n",
            "Медианное значение для столбца luminosity(l/lo) = **0.07050000000000001**\n",
            "Среднее значение для столбца luminosity(l/lo) = **107188.36163460833**\n",
            "Мода для столбца luminosity(l/lo) = **[200000.]**\n",
            "Стандартное отклонение для столбца luminosity(l/lo) = **179058.03755700908**\n",
            "Коэффициент асимметрии для столбца luminosity(l/lo) = **2.0551209435208415**\n",
            "----------------------------------------\n",
            "Минимальное значение для столбца radius(r/ro) = **0.0084**\n",
            "Максимальное значение для столбца radius(r/ro) = **1948.5**\n",
            "Медианное значение для столбца radius(r/ro) = **0.7625**\n",
            "Среднее значение для столбца radius(r/ro) = **237.157781375**\n",
            "Мода для столбца radius(r/ro) = **[0.11]**\n",
            "Стандартное отклонение для столбца radius(r/ro) = **516.0772309183601**\n",
            "Коэффициент асимметрии для столбца radius(r/ro) = **1.9346117254577848**\n",
            "----------------------------------------\n",
            "Минимальное значение для столбца absolute_magnitude(mv) = **-11.92**\n",
            "Максимальное значение для столбца absolute_magnitude(mv) = **20.06**\n",
            "Медианное значение для столбца absolute_magnitude(mv) = **8.312999999999999**\n",
            "Среднее значение для столбца absolute_magnitude(mv) = **4.382395833333334**\n",
            "Мода для столбца absolute_magnitude(mv) = **[12.23]**\n",
            "Стандартное отклонение для столбца absolute_magnitude(mv) = **10.510546711794586**\n",
            "Коэффициент асимметрии для столбца absolute_magnitude(mv) = **-0.1207786427322443**\n",
            "----------------------------------------\n"
          ]
        }
      ],
      "source": [
        "stats(df,*numeric_columns)"
      ]
    },
    {
      "cell_type": "markdown",
      "id": "7c1c1562",
      "metadata": {
        "id": "7c1c1562"
      },
      "source": [
        "### Анализ столбцов и их природы\n"
      ]
    },
    {
      "cell_type": "markdown",
      "id": "5e655d28",
      "metadata": {
        "id": "5e655d28"
      },
      "source": [
        "**Числовые:**\n",
        "`temperature(k)`:\n",
        "\n",
        "* График и выбросы:\n",
        "    * График:\n",
        "        * Большая часть данных лежит в районе 3600 К. Также, на графике можно заметить, что есть небольшие \"курганы\"\n",
        "    \n",
        "* Минимальное значение для столбца temperature(k) = **1939**\n",
        "* Максимальное значение для столбца temperature(k) = **40000**\n",
        "* Медианное значение для столбца temperature(k) = **5776.0**\n",
        "* Среднее значение для столбца temperature(k) = **10497.4625**\n",
        "* Мода для столбца temperature(k) = **3600**\n",
        "* Стандартное отклонение для столбца temperature(k) = **9532.503378280391**\n",
        "* Коэффициент асимметрии для столбца temperature(k) = **1.3132941596030199**\n",
        "\n",
        "`luminosity(l/lo)`:\n",
        "\n",
        "* График и выбросы:\n",
        "    * График:\n",
        "        * Есть основная часть, расположенная рядом с нулем, и несколько других частей, которые разделены небольшими пустотами.\n",
        "    \n",
        "* Минимальное значение для столбца luminosity(l/lo) = **8e-05**\n",
        "* Максимальное значение для столбца luminosity(l/lo) = **849420.0**\n",
        "* Медианное значение для столбца luminosity(l/lo) = **0.07050000000000001**\n",
        "* Среднее значение для столбца luminosity(l/lo) = **107188.36163460833**\n",
        "* Мода для столбца luminosity(l/lo) = **200000**\n",
        "* Стандартное отклонение для столбца luminosity(l/lo) = **179058.03755700908**\n",
        "* Коэффициент асимметрии для столбца luminosity(l/lo) = **2.0551209435208415**\n",
        "*\n",
        "`radius(r/ro)`:\n",
        "* График и выбросы:\n",
        "    * График:\n",
        "        * Примерно также, как на графике у `luminosity(l/lo)`, однако между основной частью данных(~75%) и другими, есть небольшой пробел.\n",
        "    \n",
        "* Минимальное значение для столбца radius(r/ro) = **0.0084**\n",
        "* Максимальное значение для столбца radius(r/ro) = **1948.5**\n",
        "* Медианное значение для столбца radius(r/ro) = **0.7625**\n",
        "* Среднее значение для столбца radius(r/ro) = **237.157781375**\n",
        "* Мода для столбца radius(r/ro) = **0.11**\n",
        "* Стандартное отклонение для столбца radius(r/ro) = **516.0772309183601**\n",
        "* Коэффициент асимметрии для столбца radius(r/ro) = **1.9346117254577848**\n",
        "\n",
        "\n",
        "`absolute_magnitude(mv)`:\n",
        "* График и выбросы:\n",
        "    * График:\n",
        "        * Достаточно волатильный график без каких либо эксцессов\n",
        "    \n",
        "* Минимальное значение для столбца absolute_magnitude(mv) = **-11.92**\n",
        "* Максимальное значение для столбца absolute_magnitude(mv) = **20.06**\n",
        "* Медианное значение для столбца absolute_magnitude(mv) = **8.312999999999999**\n",
        "* Среднее значение для столбца absolute_magnitude(mv) = **4.382395833333334**\n",
        "* Мода для столбца absolute_magnitude(mv) = **12.23**\n",
        "* Стандартное отклонение для столбца absolute_magnitude(mv) = **10.510546711794586**\n",
        "* Коэффициент асимметрии для столбца absolute_magnitude(mv) = **-0.1207786427322443**\n",
        "\n",
        "**Категориальные:**\n",
        "\n",
        "\n",
        "`star_type`:\n",
        "\n",
        "* График и выбросы:\n",
        "    * График:\n",
        "        * Гистограмма с равными интервалами.\n",
        "* 0 = 40 (16.7%)\n",
        "* 1 = 40 (16.7%)\n",
        "* 2 = 40 (16.7%)\n",
        "* 3 = 40 (16.7%)\n",
        "* 4 = 40 (16.7%)\n",
        "* 5 = 40 (16.7%)\n",
        "\n",
        "`star_color`:\n",
        "    \n",
        "* График и выбросы:\n",
        "    * График:\n",
        "        * Наибольшая часть звездых объект имеют достаточно низкую температуру исходя из данных по цвету. НАиболее часто встречающий цвет - красный и разновидности синего.\n",
        "\n",
        "* Red - 112\n",
        "* Blue - 55\n",
        "* Blue-white -26\n",
        "* Blue White - 10\n",
        "* yellow-white - 8\n",
        "* Other values - 14\n",
        "\n",
        "В этом столбце имеются дубликаты."
      ]
    },
    {
      "cell_type": "code",
      "execution_count": null,
      "id": "5f15d26c",
      "metadata": {
        "scrolled": true,
        "id": "5f15d26c"
      },
      "outputs": [],
      "source": [
        "# уникальные значения\n",
        "unique_star_colour = df.star_color.unique()"
      ]
    },
    {
      "cell_type": "code",
      "execution_count": null,
      "id": "1f439717",
      "metadata": {
        "id": "1f439717"
      },
      "outputs": [],
      "source": [
        "# обрезаем и понижаем регистр\n",
        "def strip_n_low(x):\n",
        "    return x.strip().lower().replace('-',' ')"
      ]
    },
    {
      "cell_type": "code",
      "execution_count": null,
      "id": "48abdb72",
      "metadata": {
        "scrolled": false,
        "id": "48abdb72"
      },
      "outputs": [],
      "source": [
        "# применяем\n",
        "df['star_color'] = df['star_color'].apply(strip_n_low)"
      ]
    },
    {
      "cell_type": "code",
      "execution_count": null,
      "id": "e67b0686",
      "metadata": {
        "id": "e67b0686",
        "outputId": "e7727814-31a8-4e07-94ce-5d347cdd6c0e"
      },
      "outputs": [
        {
          "data": {
            "text/plain": [
              "array(['Red', 'Blue White', 'White', 'Yellowish White', 'Blue white',\n",
              "       'Pale yellow orange', 'Blue', 'Blue-white', 'Whitish',\n",
              "       'yellow-white', 'Orange', 'White-Yellow', 'white', 'Blue ',\n",
              "       'yellowish', 'Yellowish', 'Orange-Red', 'Blue white ',\n",
              "       'Blue-White'], dtype=object)"
            ]
          },
          "execution_count": 20,
          "metadata": {},
          "output_type": "execute_result"
        }
      ],
      "source": [
        "unique_star_colour"
      ]
    },
    {
      "cell_type": "code",
      "execution_count": null,
      "id": "54cf0ceb",
      "metadata": {
        "id": "54cf0ceb"
      },
      "outputs": [],
      "source": [
        "to_replace_lst = ['blue white', 'yellowish white',\n",
        "       'pale yellow orange', 'whitish', 'yellow white',\n",
        "       'white yellow', 'orange red']"
      ]
    },
    {
      "cell_type": "code",
      "execution_count": null,
      "id": "502011a2",
      "metadata": {
        "id": "502011a2",
        "outputId": "3dcfb83c-1705-4e51-d2ba-6f39c47c2cab"
      },
      "outputs": [
        {
          "data": {
            "text/plain": [
              "7"
            ]
          },
          "execution_count": 22,
          "metadata": {},
          "output_type": "execute_result"
        }
      ],
      "source": [
        "len(to_replace_lst)"
      ]
    },
    {
      "cell_type": "code",
      "execution_count": null,
      "id": "0752bea6",
      "metadata": {
        "id": "0752bea6",
        "outputId": "d0899aab-f8ca-4f00-b389-0b06377ea434"
      },
      "outputs": [
        {
          "data": {
            "text/plain": [
              "23.75"
            ]
          },
          "execution_count": 23,
          "metadata": {},
          "output_type": "execute_result"
        }
      ],
      "source": [
        "df.query('star_color in @to_replace_lst').shape[0]/(df.shape[0])*100"
      ]
    },
    {
      "cell_type": "markdown",
      "id": "6b5fb16f",
      "metadata": {
        "id": "6b5fb16f"
      },
      "source": [
        "**Вывод:**\n",
        "\n",
        "**23.75%** данных нужно изменить."
      ]
    },
    {
      "cell_type": "code",
      "execution_count": null,
      "id": "7b9b94c4",
      "metadata": {
        "id": "7b9b94c4",
        "outputId": "4fb1fbea-d480-4818-d3ae-5e5d04885f06"
      },
      "outputs": [
        {
          "name": "stdout",
          "output_type": "stream",
          "text": [
            "0\n",
            "     temperature(k)  luminosity(l/lo)  radius(r/ro)  absolute_magnitude(mv)  \\\n",
            "21             7740          0.000490       0.01234                  14.020   \n",
            "22             7220          0.000170       0.01100                  14.230   \n",
            "23             8500          0.000500       0.01000                  14.500   \n",
            "25            12990          0.000085       0.00984                  12.230   \n",
            "27             7700          0.000110       0.01280                  14.470   \n",
            "28            11790          0.000150       0.01100                  12.590   \n",
            "34             5800          0.810000       0.90000                   5.050   \n",
            "35             8052          8.700000       1.80000                   2.420   \n",
            "36             6757          1.430000       1.12000                   2.410   \n",
            "37             6380          1.350000       0.98000                   2.930   \n",
            "38             5936          1.357000       1.10600                   4.460   \n",
            "39             5587          0.819000       0.99000                   5.030   \n",
            "80             7100          0.000290       0.01200                  14.090   \n",
            "81            10574          0.000140       0.00920                  12.020   \n",
            "82             8930          0.000560       0.00950                  13.780   \n",
            "88            13720          0.000180       0.00892                  12.970   \n",
            "90             5300          0.590000       0.91000                   5.490   \n",
            "91             4526          0.153000       0.86500                   6.506   \n",
            "92             4077          0.085000       0.79500                   6.228   \n",
            "93             4980          0.357000       1.13000                   4.780   \n",
            "97             7720          7.920000       1.34000                   2.440   \n",
            "147           14732          0.000110       0.00892                  12.890   \n",
            "148            7723          0.000140       0.00878                  14.810   \n",
            "\n",
            "     star_type       star_color  \n",
            "21           2            white  \n",
            "22           2            white  \n",
            "23           2            white  \n",
            "25           2  yellowish white  \n",
            "27           2  yellowish white  \n",
            "28           2  yellowish white  \n",
            "34           3     yellow white  \n",
            "35           3          whitish  \n",
            "36           3     yellow white  \n",
            "37           3     yellow white  \n",
            "38           3     yellow white  \n",
            "39           3     yellow white  \n",
            "80           2     white yellow  \n",
            "81           2            white  \n",
            "82           2            white  \n",
            "88           2            white  \n",
            "90           3     yellow white  \n",
            "91           3        yellowish  \n",
            "92           3        yellowish  \n",
            "93           3        yellowish  \n",
            "97           3     yellow white  \n",
            "147          2            white  \n",
            "148          2            white  \n",
            "----------------------------------------\n",
            "1\n",
            "Empty DataFrame\n",
            "Columns: [temperature(k), luminosity(l/lo), radius(r/ro), absolute_magnitude(mv), star_type, star_color]\n",
            "Index: []\n",
            "----------------------------------------\n",
            "2\n",
            "     temperature(k)  luminosity(l/lo)  radius(r/ro)  absolute_magnitude(mv)  \\\n",
            "237            8829          537493.0        1423.0                  -10.73   \n",
            "238            9235          404940.0        1112.0                  -11.23   \n",
            "\n",
            "     star_type star_color  \n",
            "237          5      white  \n",
            "238          5      white  \n",
            "----------------------------------------\n",
            "3\n",
            "Empty DataFrame\n",
            "Columns: [temperature(k), luminosity(l/lo), radius(r/ro), absolute_magnitude(mv), star_type, star_color]\n",
            "Index: []\n",
            "----------------------------------------\n",
            "4\n",
            "     temperature(k)  luminosity(l/lo)  radius(r/ro)  absolute_magnitude(mv)  \\\n",
            "33             9700             74.00          2.89                    0.16   \n",
            "219            8250              9.25          1.93                   -0.98   \n",
            "\n",
            "     star_type    star_color  \n",
            "33           3       whitish  \n",
            "219          3  yellow white  \n",
            "----------------------------------------\n"
          ]
        }
      ],
      "source": [
        "\n",
        "# Нормализация данных\n",
        "scaler = StandardScaler()\n",
        "df_normalized = df.loc[:, 'temperature(k)':'absolute_magnitude(mv)']\n",
        "df_normalized = pd.DataFrame(scaler.fit_transform(df_normalized),columns=df_normalized.columns)\n",
        "\n",
        "# Обучение модели\n",
        "k = KMeans(n_clusters=5, random_state=7)\n",
        "k.fit(df_normalized)\n",
        "\n",
        "# Классификация строк\n",
        "for i in range(5):\n",
        "    print(i)\n",
        "# Нахождение родственников\n",
        "    numeric_columns = ['temperature(k)', 'luminosity(l/lo)', 'radius(r/rs)', 'absolute_magnitude(mv)']\n",
        "    cluster_mask = (k.labels_ == i)\n",
        "    cluster_rows = df[cluster_mask]\n",
        "\n",
        "    print(cluster_rows.query('star_color in [\"white\",\"yellow\",\"yellowish\",\"yellow white\",\"white yellow\",\"yellowish white\",\"whitish\"]'))\n",
        "    print('-'*40)"
      ]
    },
    {
      "cell_type": "code",
      "execution_count": null,
      "id": "42cdb5c7",
      "metadata": {
        "id": "42cdb5c7"
      },
      "outputs": [],
      "source": [
        "yellow = ['yellow white','white yellow','yellowish white']"
      ]
    },
    {
      "cell_type": "code",
      "execution_count": null,
      "id": "ff7c5ca4",
      "metadata": {
        "id": "ff7c5ca4"
      },
      "outputs": [],
      "source": [
        "tmp_yellow = df.query('star_color in @yellow')"
      ]
    },
    {
      "cell_type": "code",
      "execution_count": null,
      "id": "b6c67220",
      "metadata": {
        "id": "b6c67220"
      },
      "outputs": [],
      "source": [
        "yellow_index = tmp_yellow.index"
      ]
    },
    {
      "cell_type": "code",
      "execution_count": null,
      "id": "bd98e2eb",
      "metadata": {
        "id": "bd98e2eb",
        "outputId": "5a988012-d32e-47c3-e061-316c1ee41e15"
      },
      "outputs": [
        {
          "data": {
            "text/plain": [
              "Int64Index([25, 27, 28, 34, 36, 37, 38, 39, 80, 90, 97, 219], dtype='int64')"
            ]
          },
          "execution_count": 28,
          "metadata": {},
          "output_type": "execute_result"
        }
      ],
      "source": [
        "yellow_index"
      ]
    },
    {
      "cell_type": "markdown",
      "id": "809298d8",
      "metadata": {
        "id": "809298d8"
      },
      "source": [
        "**Вывод:**\n",
        "    \n",
        "KMeans определил бОльшую часть спорных цветов вместе с белыми. Так что по хорошему, нужно строить модель на двух вариантах данных. Для первой модели я заменю все `yellow white` на `yellow`, а остальные комбинации желтого и белого заменю за `yellowish`. Если результат будет очень плохой, то буду тестировать с заменой спорных данных на белые."
      ]
    },
    {
      "cell_type": "markdown",
      "id": "f7f67b48",
      "metadata": {
        "id": "f7f67b48"
      },
      "source": [
        "В окончательном варианте Гарвардской классификации основные спектральные классы звезд расположены в следующем порядке:\n",
        "\n",
        "O — B — A — F — G — K — M\n",
        "\n",
        "По этой классификации звезды класса:\n",
        "* O – голубые\n",
        "* B – голубоватые\n",
        "* A – белые\n",
        "* F – желтоватые\n",
        "* G – желтые\n",
        "* K – оранжевые\n",
        "* M – красные"
      ]
    },
    {
      "cell_type": "code",
      "execution_count": null,
      "id": "bab5866c",
      "metadata": {
        "id": "bab5866c"
      },
      "outputs": [],
      "source": [
        "harvard_star_classification = ['blue','blue white','white','yellow','yellowish','orange','red']"
      ]
    },
    {
      "cell_type": "code",
      "execution_count": null,
      "id": "94cd7e32",
      "metadata": {
        "id": "94cd7e32",
        "outputId": "7a8a301a-d1f1-4bb7-aa4c-41bd3c0e9224"
      },
      "outputs": [
        {
          "data": {
            "text/plain": [
              "['blue', 'blue white', 'white', 'yellow', 'yellowish', 'orange', 'red']"
            ]
          },
          "execution_count": 30,
          "metadata": {},
          "output_type": "execute_result"
        }
      ],
      "source": [
        "harvard_star_classification"
      ]
    },
    {
      "cell_type": "code",
      "execution_count": null,
      "id": "829fab78",
      "metadata": {
        "id": "829fab78"
      },
      "outputs": [],
      "source": [
        "to_replace_dct={'blue white':'bluish',\n",
        "'yellowish white':'yellowish',\n",
        "'pale yellow orange':'orange',\n",
        " 'whitish':'white',\n",
        " 'yellow white':'yellow',\n",
        " 'white yellow':'yellowish',\n",
        " 'orange red':'red'}"
      ]
    },
    {
      "cell_type": "code",
      "execution_count": null,
      "id": "14b85a32",
      "metadata": {
        "id": "14b85a32",
        "outputId": "bea2d295-3c90-4f0a-dd73-1c71eee0e15c"
      },
      "outputs": [
        {
          "data": {
            "text/plain": [
              "red                   112\n",
              "blue                   56\n",
              "blue white             41\n",
              "white                  10\n",
              "yellow white            8\n",
              "yellowish white         3\n",
              "yellowish               3\n",
              "orange                  2\n",
              "whitish                 2\n",
              "white yellow            1\n",
              "orange red              1\n",
              "pale yellow orange      1\n",
              "Name: star_color, dtype: int64"
            ]
          },
          "execution_count": 32,
          "metadata": {},
          "output_type": "execute_result"
        }
      ],
      "source": [
        "df['star_color'].value_counts()"
      ]
    },
    {
      "cell_type": "code",
      "execution_count": null,
      "id": "1d90997a",
      "metadata": {
        "id": "1d90997a"
      },
      "outputs": [],
      "source": [
        "def replace_star_colour(data,replace_dct,column):\n",
        "    if data[column] in to_replace_dct.keys():\n",
        "        return replace_dct[data[column]]\n",
        "    else:\n",
        "        return data[column]"
      ]
    },
    {
      "cell_type": "code",
      "execution_count": null,
      "id": "ff0ccaca",
      "metadata": {
        "id": "ff0ccaca",
        "outputId": "7a269bcc-f2df-4a06-dc98-1db1499c58d6"
      },
      "outputs": [
        {
          "data": {
            "text/plain": [
              "array(['red', 'blue white', 'white', 'yellowish white',\n",
              "       'pale yellow orange', 'blue', 'whitish', 'yellow white', 'orange',\n",
              "       'white yellow', 'yellowish', 'orange red'], dtype=object)"
            ]
          },
          "execution_count": 34,
          "metadata": {},
          "output_type": "execute_result"
        }
      ],
      "source": [
        "df['star_color'].unique()"
      ]
    },
    {
      "cell_type": "code",
      "execution_count": null,
      "id": "c56d761b",
      "metadata": {
        "id": "c56d761b"
      },
      "outputs": [],
      "source": [
        "df['star_color'] = df.apply(replace_star_colour, args=(to_replace_dct, 'star_color'), axis=1)"
      ]
    },
    {
      "cell_type": "code",
      "execution_count": null,
      "id": "35863250",
      "metadata": {
        "id": "35863250",
        "outputId": "0ea04162-54c5-4e86-e31d-4aa134a8fe3a"
      },
      "outputs": [
        {
          "data": {
            "text/plain": [
              "array(['red', 'bluish', 'white', 'yellowish', 'orange', 'blue', 'yellow'],\n",
              "      dtype=object)"
            ]
          },
          "execution_count": 36,
          "metadata": {},
          "output_type": "execute_result"
        }
      ],
      "source": [
        "df['star_color'].unique()"
      ]
    },
    {
      "cell_type": "code",
      "execution_count": null,
      "id": "264dcb6f",
      "metadata": {
        "id": "264dcb6f"
      },
      "outputs": [],
      "source": [
        "def categoring(data,*columns):\n",
        "    for col in columns:\n",
        "        data[col] = data[col].astype('category')"
      ]
    },
    {
      "cell_type": "code",
      "execution_count": null,
      "id": "cc8974ed",
      "metadata": {
        "id": "cc8974ed"
      },
      "outputs": [],
      "source": [
        "cat_cols = ['star_type','star_color']"
      ]
    },
    {
      "cell_type": "code",
      "execution_count": null,
      "id": "24fbca58",
      "metadata": {
        "id": "24fbca58"
      },
      "outputs": [],
      "source": [
        "categoring(df,*cat_cols)"
      ]
    },
    {
      "cell_type": "code",
      "execution_count": null,
      "id": "a3c1d38a",
      "metadata": {
        "scrolled": false,
        "id": "a3c1d38a",
        "outputId": "abac5cef-d7ed-462a-84b9-5c94854c3550"
      },
      "outputs": [
        {
          "data": {
            "text/html": [
              "<div>\n",
              "<style scoped>\n",
              "    .dataframe tbody tr th:only-of-type {\n",
              "        vertical-align: middle;\n",
              "    }\n",
              "\n",
              "    .dataframe tbody tr th {\n",
              "        vertical-align: top;\n",
              "    }\n",
              "\n",
              "    .dataframe thead th {\n",
              "        text-align: right;\n",
              "    }\n",
              "</style>\n",
              "<table border=\"1\" class=\"dataframe\">\n",
              "  <thead>\n",
              "    <tr style=\"text-align: right;\">\n",
              "      <th></th>\n",
              "      <th>star_type</th>\n",
              "      <th>star_color</th>\n",
              "    </tr>\n",
              "  </thead>\n",
              "  <tbody>\n",
              "    <tr>\n",
              "      <th>0</th>\n",
              "      <td>0</td>\n",
              "      <td>red</td>\n",
              "    </tr>\n",
              "    <tr>\n",
              "      <th>1</th>\n",
              "      <td>0</td>\n",
              "      <td>red</td>\n",
              "    </tr>\n",
              "    <tr>\n",
              "      <th>2</th>\n",
              "      <td>0</td>\n",
              "      <td>red</td>\n",
              "    </tr>\n",
              "    <tr>\n",
              "      <th>3</th>\n",
              "      <td>0</td>\n",
              "      <td>red</td>\n",
              "    </tr>\n",
              "    <tr>\n",
              "      <th>4</th>\n",
              "      <td>0</td>\n",
              "      <td>red</td>\n",
              "    </tr>\n",
              "    <tr>\n",
              "      <th>...</th>\n",
              "      <td>...</td>\n",
              "      <td>...</td>\n",
              "    </tr>\n",
              "    <tr>\n",
              "      <th>235</th>\n",
              "      <td>5</td>\n",
              "      <td>blue</td>\n",
              "    </tr>\n",
              "    <tr>\n",
              "      <th>236</th>\n",
              "      <td>5</td>\n",
              "      <td>blue</td>\n",
              "    </tr>\n",
              "    <tr>\n",
              "      <th>237</th>\n",
              "      <td>5</td>\n",
              "      <td>white</td>\n",
              "    </tr>\n",
              "    <tr>\n",
              "      <th>238</th>\n",
              "      <td>5</td>\n",
              "      <td>white</td>\n",
              "    </tr>\n",
              "    <tr>\n",
              "      <th>239</th>\n",
              "      <td>5</td>\n",
              "      <td>blue</td>\n",
              "    </tr>\n",
              "  </tbody>\n",
              "</table>\n",
              "<p>240 rows × 2 columns</p>\n",
              "</div>"
            ],
            "text/plain": [
              "    star_type star_color\n",
              "0           0        red\n",
              "1           0        red\n",
              "2           0        red\n",
              "3           0        red\n",
              "4           0        red\n",
              "..        ...        ...\n",
              "235         5       blue\n",
              "236         5       blue\n",
              "237         5      white\n",
              "238         5      white\n",
              "239         5       blue\n",
              "\n",
              "[240 rows x 2 columns]"
            ]
          },
          "execution_count": 40,
          "metadata": {},
          "output_type": "execute_result"
        }
      ],
      "source": [
        "df.select_dtypes('category')"
      ]
    },
    {
      "cell_type": "code",
      "execution_count": null,
      "id": "0db8055b",
      "metadata": {
        "id": "0db8055b"
      },
      "outputs": [],
      "source": [
        "drop_to_num_col = cat_cols.copy()"
      ]
    },
    {
      "cell_type": "code",
      "execution_count": null,
      "id": "a5fb6b5d",
      "metadata": {
        "id": "a5fb6b5d"
      },
      "outputs": [],
      "source": [
        "drop_to_num_col.append('temperature(k)')"
      ]
    },
    {
      "cell_type": "code",
      "execution_count": null,
      "id": "8920952d",
      "metadata": {
        "id": "8920952d"
      },
      "outputs": [],
      "source": [
        "num_cols= list(df.drop(drop_to_num_col,axis=1).columns)"
      ]
    },
    {
      "cell_type": "code",
      "execution_count": null,
      "id": "f25391eb",
      "metadata": {
        "id": "f25391eb"
      },
      "outputs": [],
      "source": [
        "# # Стандартизация и кодировка данных\n",
        "# # сначала воспользуемся стандартными методами типа OHE и SS для числовых\n",
        "# # Потом можно попробовать BE для категорий\n",
        "\n",
        "# preprocessor = ColumnTransformer(transformers=[\n",
        "#     ('num',StandardScaler(),num_cols),\n",
        "#     ('cat',OneHotEncoder(),cat_cols),\n",
        "# ])\n",
        "# pipeline = Pipeline(steps=[('preprocessor',preprocessor)])\n",
        "\n",
        "# X_processed = pipeline.fit_transform(df)\n",
        "# # Получаем список имен столбцов\n",
        "# feature_names = num_cols + list(pipeline.named_steps['preprocessor'].transformers_[1][1].get_feature_names(cat_cols))\n",
        "\n",
        "# # Создаем преобразованную таблицу с именами столбцов\n",
        "# df_processed = pd.DataFrame(X_processed, columns=feature_names)\n"
      ]
    },
    {
      "cell_type": "code",
      "execution_count": null,
      "id": "6b521cca",
      "metadata": {
        "scrolled": true,
        "id": "6b521cca"
      },
      "outputs": [],
      "source": [
        "features = df.drop('temperature(k)',axis=1)\n",
        "target = df['temperature(k)']"
      ]
    },
    {
      "cell_type": "code",
      "execution_count": null,
      "id": "f5905332",
      "metadata": {
        "id": "f5905332"
      },
      "outputs": [],
      "source": [
        "rs=7"
      ]
    },
    {
      "cell_type": "code",
      "execution_count": null,
      "id": "69f89b35",
      "metadata": {
        "id": "69f89b35"
      },
      "outputs": [],
      "source": [
        "features_train,features_test,target_train,target_test = train_test_split(features,target,random_state=rs,shuffle=True,test_size=0.3)"
      ]
    },
    {
      "cell_type": "code",
      "execution_count": null,
      "id": "b8137f30",
      "metadata": {
        "id": "b8137f30",
        "outputId": "8d756bf7-02c8-4382-f1aa-18e52f1c8ad8"
      },
      "outputs": [
        {
          "data": {
            "text/plain": [
              "0.7"
            ]
          },
          "execution_count": 48,
          "metadata": {},
          "output_type": "execute_result"
        }
      ],
      "source": [
        "features_train.shape[0] /features.shape[0]"
      ]
    },
    {
      "cell_type": "code",
      "execution_count": null,
      "id": "9a65ff5d",
      "metadata": {
        "scrolled": true,
        "id": "9a65ff5d",
        "outputId": "48482df8-06a9-4919-8ac3-6fda5235e8fa"
      },
      "outputs": [
        {
          "data": {
            "text/plain": [
              "0.3"
            ]
          },
          "execution_count": 49,
          "metadata": {},
          "output_type": "execute_result"
        }
      ],
      "source": [
        "features_test.shape[0] /features.shape[0]"
      ]
    },
    {
      "cell_type": "code",
      "execution_count": null,
      "id": "7a0f68fb",
      "metadata": {
        "scrolled": true,
        "id": "7a0f68fb"
      },
      "outputs": [],
      "source": [
        "# для сохранения колонок  remainder='passthrough'\n",
        "col_transformer = make_column_transformer(\n",
        "    (\n",
        "        OneHotEncoder(drop='first', handle_unknown='error'),\n",
        "        cat_cols\n",
        "    ),\n",
        "    (\n",
        "        StandardScaler(),\n",
        "        num_cols\n",
        "    ),\n",
        "    remainder='passthrough'\n",
        ")\n",
        "\n",
        "\n",
        "# применяем трансформер и создаем датафрейм\n",
        "X_transformed = col_transformer.fit_transform(features_train)\n",
        "columns = col_transformer.named_transformers_['onehotencoder'].get_feature_names(cat_cols).tolist() + num_cols\n",
        "features_train_new = pd.DataFrame(col_transformer.transform(features_train), columns=columns)\n",
        "X_transformed = col_transformer.transform(features_test)\n",
        "columns = col_transformer.named_transformers_['onehotencoder'].get_feature_names(cat_cols).tolist() + num_cols\n",
        "features_test_new = pd.DataFrame(col_transformer.transform(features_test), columns=columns)"
      ]
    },
    {
      "cell_type": "code",
      "execution_count": null,
      "id": "1beb54b1",
      "metadata": {
        "scrolled": false,
        "id": "1beb54b1",
        "outputId": "f4ee3ae3-c385-4c12-82ec-18d18ba02451"
      },
      "outputs": [
        {
          "data": {
            "text/html": [
              "<div>\n",
              "<style scoped>\n",
              "    .dataframe tbody tr th:only-of-type {\n",
              "        vertical-align: middle;\n",
              "    }\n",
              "\n",
              "    .dataframe tbody tr th {\n",
              "        vertical-align: top;\n",
              "    }\n",
              "\n",
              "    .dataframe thead th {\n",
              "        text-align: right;\n",
              "    }\n",
              "</style>\n",
              "<table border=\"1\" class=\"dataframe\">\n",
              "  <thead>\n",
              "    <tr style=\"text-align: right;\">\n",
              "      <th></th>\n",
              "      <th>star_type_1</th>\n",
              "      <th>star_type_2</th>\n",
              "      <th>star_type_3</th>\n",
              "      <th>star_type_4</th>\n",
              "      <th>star_type_5</th>\n",
              "      <th>star_color_bluish</th>\n",
              "      <th>star_color_orange</th>\n",
              "      <th>star_color_red</th>\n",
              "      <th>star_color_white</th>\n",
              "      <th>star_color_yellow</th>\n",
              "      <th>star_color_yellowish</th>\n",
              "      <th>luminosity(l/lo)</th>\n",
              "      <th>radius(r/ro)</th>\n",
              "      <th>absolute_magnitude(mv)</th>\n",
              "    </tr>\n",
              "  </thead>\n",
              "  <tbody>\n",
              "    <tr>\n",
              "      <th>0</th>\n",
              "      <td>0.0</td>\n",
              "      <td>0.0</td>\n",
              "      <td>0.0</td>\n",
              "      <td>0.0</td>\n",
              "      <td>1.0</td>\n",
              "      <td>1.0</td>\n",
              "      <td>0.0</td>\n",
              "      <td>0.0</td>\n",
              "      <td>0.0</td>\n",
              "      <td>0.0</td>\n",
              "      <td>0.0</td>\n",
              "      <td>0.020778</td>\n",
              "      <td>0.749506</td>\n",
              "      <td>-1.067965</td>\n",
              "    </tr>\n",
              "    <tr>\n",
              "      <th>1</th>\n",
              "      <td>0.0</td>\n",
              "      <td>0.0</td>\n",
              "      <td>1.0</td>\n",
              "      <td>0.0</td>\n",
              "      <td>0.0</td>\n",
              "      <td>1.0</td>\n",
              "      <td>0.0</td>\n",
              "      <td>0.0</td>\n",
              "      <td>0.0</td>\n",
              "      <td>0.0</td>\n",
              "      <td>0.0</td>\n",
              "      <td>-0.558914</td>\n",
              "      <td>-0.501834</td>\n",
              "      <td>-0.700063</td>\n",
              "    </tr>\n",
              "    <tr>\n",
              "      <th>2</th>\n",
              "      <td>0.0</td>\n",
              "      <td>1.0</td>\n",
              "      <td>0.0</td>\n",
              "      <td>0.0</td>\n",
              "      <td>0.0</td>\n",
              "      <td>0.0</td>\n",
              "      <td>0.0</td>\n",
              "      <td>0.0</td>\n",
              "      <td>0.0</td>\n",
              "      <td>0.0</td>\n",
              "      <td>1.0</td>\n",
              "      <td>-0.638588</td>\n",
              "      <td>-0.512352</td>\n",
              "      <td>0.879247</td>\n",
              "    </tr>\n",
              "    <tr>\n",
              "      <th>3</th>\n",
              "      <td>0.0</td>\n",
              "      <td>0.0</td>\n",
              "      <td>0.0</td>\n",
              "      <td>0.0</td>\n",
              "      <td>0.0</td>\n",
              "      <td>0.0</td>\n",
              "      <td>0.0</td>\n",
              "      <td>1.0</td>\n",
              "      <td>0.0</td>\n",
              "      <td>0.0</td>\n",
              "      <td>0.0</td>\n",
              "      <td>-0.638588</td>\n",
              "      <td>-0.512208</td>\n",
              "      <td>1.295758</td>\n",
              "    </tr>\n",
              "    <tr>\n",
              "      <th>4</th>\n",
              "      <td>0.0</td>\n",
              "      <td>0.0</td>\n",
              "      <td>0.0</td>\n",
              "      <td>0.0</td>\n",
              "      <td>1.0</td>\n",
              "      <td>0.0</td>\n",
              "      <td>0.0</td>\n",
              "      <td>1.0</td>\n",
              "      <td>0.0</td>\n",
              "      <td>0.0</td>\n",
              "      <td>0.0</td>\n",
              "      <td>0.086715</td>\n",
              "      <td>2.196864</td>\n",
              "      <td>-1.355805</td>\n",
              "    </tr>\n",
              "    <tr>\n",
              "      <th>...</th>\n",
              "      <td>...</td>\n",
              "      <td>...</td>\n",
              "      <td>...</td>\n",
              "      <td>...</td>\n",
              "      <td>...</td>\n",
              "      <td>...</td>\n",
              "      <td>...</td>\n",
              "      <td>...</td>\n",
              "      <td>...</td>\n",
              "      <td>...</td>\n",
              "      <td>...</td>\n",
              "      <td>...</td>\n",
              "      <td>...</td>\n",
              "      <td>...</td>\n",
              "    </tr>\n",
              "    <tr>\n",
              "      <th>163</th>\n",
              "      <td>0.0</td>\n",
              "      <td>0.0</td>\n",
              "      <td>1.0</td>\n",
              "      <td>0.0</td>\n",
              "      <td>0.0</td>\n",
              "      <td>1.0</td>\n",
              "      <td>0.0</td>\n",
              "      <td>0.0</td>\n",
              "      <td>0.0</td>\n",
              "      <td>0.0</td>\n",
              "      <td>0.0</td>\n",
              "      <td>-0.635555</td>\n",
              "      <td>-0.501947</td>\n",
              "      <td>-0.319484</td>\n",
              "    </tr>\n",
              "    <tr>\n",
              "      <th>164</th>\n",
              "      <td>0.0</td>\n",
              "      <td>0.0</td>\n",
              "      <td>0.0</td>\n",
              "      <td>0.0</td>\n",
              "      <td>0.0</td>\n",
              "      <td>0.0</td>\n",
              "      <td>0.0</td>\n",
              "      <td>1.0</td>\n",
              "      <td>0.0</td>\n",
              "      <td>0.0</td>\n",
              "      <td>0.0</td>\n",
              "      <td>-0.638588</td>\n",
              "      <td>-0.512209</td>\n",
              "      <td>1.247149</td>\n",
              "    </tr>\n",
              "    <tr>\n",
              "      <th>165</th>\n",
              "      <td>0.0</td>\n",
              "      <td>1.0</td>\n",
              "      <td>0.0</td>\n",
              "      <td>0.0</td>\n",
              "      <td>0.0</td>\n",
              "      <td>0.0</td>\n",
              "      <td>0.0</td>\n",
              "      <td>0.0</td>\n",
              "      <td>0.0</td>\n",
              "      <td>0.0</td>\n",
              "      <td>1.0</td>\n",
              "      <td>-0.638588</td>\n",
              "      <td>-0.512354</td>\n",
              "      <td>0.844935</td>\n",
              "    </tr>\n",
              "    <tr>\n",
              "      <th>166</th>\n",
              "      <td>1.0</td>\n",
              "      <td>0.0</td>\n",
              "      <td>0.0</td>\n",
              "      <td>0.0</td>\n",
              "      <td>0.0</td>\n",
              "      <td>0.0</td>\n",
              "      <td>0.0</td>\n",
              "      <td>1.0</td>\n",
              "      <td>0.0</td>\n",
              "      <td>0.0</td>\n",
              "      <td>0.0</td>\n",
              "      <td>-0.638588</td>\n",
              "      <td>-0.511912</td>\n",
              "      <td>1.025073</td>\n",
              "    </tr>\n",
              "    <tr>\n",
              "      <th>167</th>\n",
              "      <td>0.0</td>\n",
              "      <td>0.0</td>\n",
              "      <td>0.0</td>\n",
              "      <td>0.0</td>\n",
              "      <td>1.0</td>\n",
              "      <td>0.0</td>\n",
              "      <td>0.0</td>\n",
              "      <td>1.0</td>\n",
              "      <td>0.0</td>\n",
              "      <td>0.0</td>\n",
              "      <td>0.0</td>\n",
              "      <td>0.158146</td>\n",
              "      <td>2.252046</td>\n",
              "      <td>-1.055574</td>\n",
              "    </tr>\n",
              "  </tbody>\n",
              "</table>\n",
              "<p>168 rows × 14 columns</p>\n",
              "</div>"
            ],
            "text/plain": [
              "     star_type_1  star_type_2  star_type_3  star_type_4  star_type_5  \\\n",
              "0            0.0          0.0          0.0          0.0          1.0   \n",
              "1            0.0          0.0          1.0          0.0          0.0   \n",
              "2            0.0          1.0          0.0          0.0          0.0   \n",
              "3            0.0          0.0          0.0          0.0          0.0   \n",
              "4            0.0          0.0          0.0          0.0          1.0   \n",
              "..           ...          ...          ...          ...          ...   \n",
              "163          0.0          0.0          1.0          0.0          0.0   \n",
              "164          0.0          0.0          0.0          0.0          0.0   \n",
              "165          0.0          1.0          0.0          0.0          0.0   \n",
              "166          1.0          0.0          0.0          0.0          0.0   \n",
              "167          0.0          0.0          0.0          0.0          1.0   \n",
              "\n",
              "     star_color_bluish  star_color_orange  star_color_red  star_color_white  \\\n",
              "0                  1.0                0.0             0.0               0.0   \n",
              "1                  1.0                0.0             0.0               0.0   \n",
              "2                  0.0                0.0             0.0               0.0   \n",
              "3                  0.0                0.0             1.0               0.0   \n",
              "4                  0.0                0.0             1.0               0.0   \n",
              "..                 ...                ...             ...               ...   \n",
              "163                1.0                0.0             0.0               0.0   \n",
              "164                0.0                0.0             1.0               0.0   \n",
              "165                0.0                0.0             0.0               0.0   \n",
              "166                0.0                0.0             1.0               0.0   \n",
              "167                0.0                0.0             1.0               0.0   \n",
              "\n",
              "     star_color_yellow  star_color_yellowish  luminosity(l/lo)  radius(r/ro)  \\\n",
              "0                  0.0                   0.0          0.020778      0.749506   \n",
              "1                  0.0                   0.0         -0.558914     -0.501834   \n",
              "2                  0.0                   1.0         -0.638588     -0.512352   \n",
              "3                  0.0                   0.0         -0.638588     -0.512208   \n",
              "4                  0.0                   0.0          0.086715      2.196864   \n",
              "..                 ...                   ...               ...           ...   \n",
              "163                0.0                   0.0         -0.635555     -0.501947   \n",
              "164                0.0                   0.0         -0.638588     -0.512209   \n",
              "165                0.0                   1.0         -0.638588     -0.512354   \n",
              "166                0.0                   0.0         -0.638588     -0.511912   \n",
              "167                0.0                   0.0          0.158146      2.252046   \n",
              "\n",
              "     absolute_magnitude(mv)  \n",
              "0                 -1.067965  \n",
              "1                 -0.700063  \n",
              "2                  0.879247  \n",
              "3                  1.295758  \n",
              "4                 -1.355805  \n",
              "..                      ...  \n",
              "163               -0.319484  \n",
              "164                1.247149  \n",
              "165                0.844935  \n",
              "166                1.025073  \n",
              "167               -1.055574  \n",
              "\n",
              "[168 rows x 14 columns]"
            ]
          },
          "execution_count": 51,
          "metadata": {},
          "output_type": "execute_result"
        }
      ],
      "source": [
        "features_train_new"
      ]
    },
    {
      "cell_type": "code",
      "execution_count": null,
      "id": "f301eeee",
      "metadata": {
        "scrolled": false,
        "id": "f301eeee",
        "outputId": "e11813dc-9df2-4e5e-d16c-7c4994d6dfe5"
      },
      "outputs": [
        {
          "data": {
            "text/html": [
              "<div>\n",
              "<style scoped>\n",
              "    .dataframe tbody tr th:only-of-type {\n",
              "        vertical-align: middle;\n",
              "    }\n",
              "\n",
              "    .dataframe tbody tr th {\n",
              "        vertical-align: top;\n",
              "    }\n",
              "\n",
              "    .dataframe thead th {\n",
              "        text-align: right;\n",
              "    }\n",
              "</style>\n",
              "<table border=\"1\" class=\"dataframe\">\n",
              "  <thead>\n",
              "    <tr style=\"text-align: right;\">\n",
              "      <th></th>\n",
              "      <th>star_type_1</th>\n",
              "      <th>star_type_2</th>\n",
              "      <th>star_type_3</th>\n",
              "      <th>star_type_4</th>\n",
              "      <th>star_type_5</th>\n",
              "      <th>star_color_bluish</th>\n",
              "      <th>star_color_orange</th>\n",
              "      <th>star_color_red</th>\n",
              "      <th>star_color_white</th>\n",
              "      <th>star_color_yellow</th>\n",
              "      <th>star_color_yellowish</th>\n",
              "      <th>luminosity(l/lo)</th>\n",
              "      <th>radius(r/ro)</th>\n",
              "      <th>absolute_magnitude(mv)</th>\n",
              "    </tr>\n",
              "  </thead>\n",
              "  <tbody>\n",
              "    <tr>\n",
              "      <th>0</th>\n",
              "      <td>0.0</td>\n",
              "      <td>1.0</td>\n",
              "      <td>0.0</td>\n",
              "      <td>0.0</td>\n",
              "      <td>0.0</td>\n",
              "      <td>0.0</td>\n",
              "      <td>0.0</td>\n",
              "      <td>0.0</td>\n",
              "      <td>0.0</td>\n",
              "      <td>0.0</td>\n",
              "      <td>1.0</td>\n",
              "      <td>-0.638588</td>\n",
              "      <td>-0.512350</td>\n",
              "      <td>1.022214</td>\n",
              "    </tr>\n",
              "    <tr>\n",
              "      <th>1</th>\n",
              "      <td>0.0</td>\n",
              "      <td>0.0</td>\n",
              "      <td>0.0</td>\n",
              "      <td>0.0</td>\n",
              "      <td>0.0</td>\n",
              "      <td>0.0</td>\n",
              "      <td>0.0</td>\n",
              "      <td>1.0</td>\n",
              "      <td>0.0</td>\n",
              "      <td>0.0</td>\n",
              "      <td>0.0</td>\n",
              "      <td>-0.638588</td>\n",
              "      <td>-0.512219</td>\n",
              "      <td>1.403460</td>\n",
              "    </tr>\n",
              "    <tr>\n",
              "      <th>2</th>\n",
              "      <td>0.0</td>\n",
              "      <td>0.0</td>\n",
              "      <td>0.0</td>\n",
              "      <td>0.0</td>\n",
              "      <td>0.0</td>\n",
              "      <td>0.0</td>\n",
              "      <td>0.0</td>\n",
              "      <td>1.0</td>\n",
              "      <td>0.0</td>\n",
              "      <td>0.0</td>\n",
              "      <td>0.0</td>\n",
              "      <td>-0.638588</td>\n",
              "      <td>-0.512087</td>\n",
              "      <td>1.266211</td>\n",
              "    </tr>\n",
              "    <tr>\n",
              "      <th>3</th>\n",
              "      <td>0.0</td>\n",
              "      <td>1.0</td>\n",
              "      <td>0.0</td>\n",
              "      <td>0.0</td>\n",
              "      <td>0.0</td>\n",
              "      <td>0.0</td>\n",
              "      <td>0.0</td>\n",
              "      <td>0.0</td>\n",
              "      <td>0.0</td>\n",
              "      <td>0.0</td>\n",
              "      <td>0.0</td>\n",
              "      <td>-0.638588</td>\n",
              "      <td>-0.512346</td>\n",
              "      <td>0.760108</td>\n",
              "    </tr>\n",
              "    <tr>\n",
              "      <th>4</th>\n",
              "      <td>0.0</td>\n",
              "      <td>1.0</td>\n",
              "      <td>0.0</td>\n",
              "      <td>0.0</td>\n",
              "      <td>0.0</td>\n",
              "      <td>0.0</td>\n",
              "      <td>0.0</td>\n",
              "      <td>0.0</td>\n",
              "      <td>1.0</td>\n",
              "      <td>0.0</td>\n",
              "      <td>0.0</td>\n",
              "      <td>-0.638588</td>\n",
              "      <td>-0.512356</td>\n",
              "      <td>1.090838</td>\n",
              "    </tr>\n",
              "    <tr>\n",
              "      <th>...</th>\n",
              "      <td>...</td>\n",
              "      <td>...</td>\n",
              "      <td>...</td>\n",
              "      <td>...</td>\n",
              "      <td>...</td>\n",
              "      <td>...</td>\n",
              "      <td>...</td>\n",
              "      <td>...</td>\n",
              "      <td>...</td>\n",
              "      <td>...</td>\n",
              "      <td>...</td>\n",
              "      <td>...</td>\n",
              "      <td>...</td>\n",
              "      <td>...</td>\n",
              "    </tr>\n",
              "    <tr>\n",
              "      <th>67</th>\n",
              "      <td>0.0</td>\n",
              "      <td>0.0</td>\n",
              "      <td>0.0</td>\n",
              "      <td>1.0</td>\n",
              "      <td>0.0</td>\n",
              "      <td>0.0</td>\n",
              "      <td>0.0</td>\n",
              "      <td>1.0</td>\n",
              "      <td>0.0</td>\n",
              "      <td>0.0</td>\n",
              "      <td>0.0</td>\n",
              "      <td>0.460356</td>\n",
              "      <td>-0.478551</td>\n",
              "      <td>-0.981231</td>\n",
              "    </tr>\n",
              "    <tr>\n",
              "      <th>68</th>\n",
              "      <td>0.0</td>\n",
              "      <td>0.0</td>\n",
              "      <td>0.0</td>\n",
              "      <td>1.0</td>\n",
              "      <td>0.0</td>\n",
              "      <td>0.0</td>\n",
              "      <td>0.0</td>\n",
              "      <td>1.0</td>\n",
              "      <td>0.0</td>\n",
              "      <td>0.0</td>\n",
              "      <td>0.0</td>\n",
              "      <td>1.119722</td>\n",
              "      <td>-0.460750</td>\n",
              "      <td>-0.949779</td>\n",
              "    </tr>\n",
              "    <tr>\n",
              "      <th>69</th>\n",
              "      <td>0.0</td>\n",
              "      <td>0.0</td>\n",
              "      <td>0.0</td>\n",
              "      <td>1.0</td>\n",
              "      <td>0.0</td>\n",
              "      <td>0.0</td>\n",
              "      <td>0.0</td>\n",
              "      <td>0.0</td>\n",
              "      <td>0.0</td>\n",
              "      <td>0.0</td>\n",
              "      <td>0.0</td>\n",
              "      <td>1.245771</td>\n",
              "      <td>-0.337927</td>\n",
              "      <td>-0.985997</td>\n",
              "    </tr>\n",
              "    <tr>\n",
              "      <th>70</th>\n",
              "      <td>0.0</td>\n",
              "      <td>0.0</td>\n",
              "      <td>1.0</td>\n",
              "      <td>0.0</td>\n",
              "      <td>0.0</td>\n",
              "      <td>1.0</td>\n",
              "      <td>0.0</td>\n",
              "      <td>0.0</td>\n",
              "      <td>0.0</td>\n",
              "      <td>0.0</td>\n",
              "      <td>0.0</td>\n",
              "      <td>-0.632346</td>\n",
              "      <td>-0.499555</td>\n",
              "      <td>-0.508487</td>\n",
              "    </tr>\n",
              "    <tr>\n",
              "      <th>71</th>\n",
              "      <td>0.0</td>\n",
              "      <td>1.0</td>\n",
              "      <td>0.0</td>\n",
              "      <td>0.0</td>\n",
              "      <td>0.0</td>\n",
              "      <td>0.0</td>\n",
              "      <td>0.0</td>\n",
              "      <td>0.0</td>\n",
              "      <td>0.0</td>\n",
              "      <td>0.0</td>\n",
              "      <td>0.0</td>\n",
              "      <td>-0.638588</td>\n",
              "      <td>-0.512352</td>\n",
              "      <td>0.777264</td>\n",
              "    </tr>\n",
              "  </tbody>\n",
              "</table>\n",
              "<p>72 rows × 14 columns</p>\n",
              "</div>"
            ],
            "text/plain": [
              "    star_type_1  star_type_2  star_type_3  star_type_4  star_type_5  \\\n",
              "0           0.0          1.0          0.0          0.0          0.0   \n",
              "1           0.0          0.0          0.0          0.0          0.0   \n",
              "2           0.0          0.0          0.0          0.0          0.0   \n",
              "3           0.0          1.0          0.0          0.0          0.0   \n",
              "4           0.0          1.0          0.0          0.0          0.0   \n",
              "..          ...          ...          ...          ...          ...   \n",
              "67          0.0          0.0          0.0          1.0          0.0   \n",
              "68          0.0          0.0          0.0          1.0          0.0   \n",
              "69          0.0          0.0          0.0          1.0          0.0   \n",
              "70          0.0          0.0          1.0          0.0          0.0   \n",
              "71          0.0          1.0          0.0          0.0          0.0   \n",
              "\n",
              "    star_color_bluish  star_color_orange  star_color_red  star_color_white  \\\n",
              "0                 0.0                0.0             0.0               0.0   \n",
              "1                 0.0                0.0             1.0               0.0   \n",
              "2                 0.0                0.0             1.0               0.0   \n",
              "3                 0.0                0.0             0.0               0.0   \n",
              "4                 0.0                0.0             0.0               1.0   \n",
              "..                ...                ...             ...               ...   \n",
              "67                0.0                0.0             1.0               0.0   \n",
              "68                0.0                0.0             1.0               0.0   \n",
              "69                0.0                0.0             0.0               0.0   \n",
              "70                1.0                0.0             0.0               0.0   \n",
              "71                0.0                0.0             0.0               0.0   \n",
              "\n",
              "    star_color_yellow  star_color_yellowish  luminosity(l/lo)  radius(r/ro)  \\\n",
              "0                 0.0                   1.0         -0.638588     -0.512350   \n",
              "1                 0.0                   0.0         -0.638588     -0.512219   \n",
              "2                 0.0                   0.0         -0.638588     -0.512087   \n",
              "3                 0.0                   0.0         -0.638588     -0.512346   \n",
              "4                 0.0                   0.0         -0.638588     -0.512356   \n",
              "..                ...                   ...               ...           ...   \n",
              "67                0.0                   0.0          0.460356     -0.478551   \n",
              "68                0.0                   0.0          1.119722     -0.460750   \n",
              "69                0.0                   0.0          1.245771     -0.337927   \n",
              "70                0.0                   0.0         -0.632346     -0.499555   \n",
              "71                0.0                   0.0         -0.638588     -0.512352   \n",
              "\n",
              "    absolute_magnitude(mv)  \n",
              "0                 1.022214  \n",
              "1                 1.403460  \n",
              "2                 1.266211  \n",
              "3                 0.760108  \n",
              "4                 1.090838  \n",
              "..                     ...  \n",
              "67               -0.981231  \n",
              "68               -0.949779  \n",
              "69               -0.985997  \n",
              "70               -0.508487  \n",
              "71                0.777264  \n",
              "\n",
              "[72 rows x 14 columns]"
            ]
          },
          "execution_count": 52,
          "metadata": {},
          "output_type": "execute_result"
        }
      ],
      "source": [
        "features_test_new"
      ]
    },
    {
      "cell_type": "markdown",
      "id": "funded-electric",
      "metadata": {
        "id": "funded-electric"
      },
      "source": [
        "## Построение базовой нейронной сети"
      ]
    },
    {
      "cell_type": "code",
      "execution_count": null,
      "id": "0e070c1f",
      "metadata": {
        "id": "0e070c1f"
      },
      "outputs": [],
      "source": [
        "target_train.reset_index(drop=True,inplace=True)\n",
        "target_test.reset_index(drop=True,inplace=True)\n"
      ]
    },
    {
      "cell_type": "code",
      "execution_count": null,
      "id": "5ab7ba62",
      "metadata": {
        "id": "5ab7ba62"
      },
      "outputs": [],
      "source": [
        "target_train = torch.Tensor(target_train.values)\n",
        "target_test = torch.Tensor(target_test.values)"
      ]
    },
    {
      "cell_type": "code",
      "execution_count": null,
      "id": "72424b5b",
      "metadata": {
        "id": "72424b5b"
      },
      "outputs": [],
      "source": [
        "\n",
        "features_train_new = torch.Tensor(features_train_new.values)\n",
        "features_test_new = torch.Tensor(features_test_new.values)"
      ]
    },
    {
      "cell_type": "code",
      "execution_count": null,
      "id": "76b7b3d1",
      "metadata": {
        "id": "76b7b3d1",
        "outputId": "c7fa8a4b-c1de-4b69-ffc8-9f4f193e3b6b"
      },
      "outputs": [
        {
          "data": {
            "image/png": "[encoded data removed]",
            "text/plain": [
              "<Figure size 432x288 with 1 Axes>"
            ]
          },
          "metadata": {
            "needs_background": "light"
          },
          "output_type": "display_data"
        }
      ],
      "source": [
        "\n",
        "# строим ящик с усами\n",
        "fig, ax = plt.subplots()\n",
        "ax.boxplot(df['temperature(k)'])\n",
        "\n",
        "# добавляем название осей и заголовок\n",
        "ax.set_xlabel('Data')\n",
        "ax.set_ylabel('Value')\n",
        "ax.set_title('Boxplot')\n",
        "\n",
        "# показываем график\n",
        "plt.show()\n"
      ]
    },
    {
      "cell_type": "markdown",
      "id": "f2ba5d6d",
      "metadata": {
        "id": "f2ba5d6d"
      },
      "source": [
        "**Вывод:**\n",
        "\n",
        "Выбросы очень большие, и возведение в квадрат даст слишком большие ошибки.\n",
        "тобы сгладить это нужно использовать Huber Loss - сглаженная средняя абсолютная ошибка\n",
        "\n",
        "\n",
        "Эта метрика менее чувствительна к выбросам:\n",
        "\n"
      ]
    },
    {
      "cell_type": "code",
      "execution_count": null,
      "id": "98af19dc",
      "metadata": {
        "id": "98af19dc"
      },
      "outputs": [],
      "source": [
        "in_neurons = features_train_new.shape[1]\n",
        "n_hidden_neurons = 8\n",
        "n_oout_neurons = 1"
      ]
    },
    {
      "cell_type": "code",
      "execution_count": null,
      "id": "forced-concentrate",
      "metadata": {
        "scrolled": true,
        "id": "forced-concentrate",
        "outputId": "9e09a692-3f97-4296-bbf6-7c88420ab62e"
      },
      "outputs": [
        {
          "name": "stdout",
          "output_type": "stream",
          "text": [
            "13375.821\n",
            "13265.561\n",
            "13004.444\n",
            "12651.48\n",
            "12245.182\n",
            "11868.859\n",
            "11526.474\n",
            "11148.951\n",
            "10715.578\n",
            "10438.022\n"
          ]
        }
      ],
      "source": [
        "\n",
        "class Net(nn.Module):\n",
        "    def __init__(self):\n",
        "        super(Net, self).__init__()  # добавлен вызов конструктора базового класса\n",
        "        self.fc1= nn.Linear(in_neurons,n_hidden_neurons)\n",
        "        self.fc2= nn.Linear(n_hidden_neurons,n_oout_neurons)\n",
        "        self.relu = nn.ReLU()\n",
        "        self.flatten = nn.Flatten(start_dim=0)\n",
        "    def forward(self,x):\n",
        "        x = self.fc1(x)\n",
        "        x = self.relu(x)\n",
        "        x = self.fc2(x)\n",
        "        return self.relu(x)\n",
        "\n",
        "net = Net()\n",
        "\n",
        "\n",
        "loss = nn.HuberLoss()\n",
        "optimizer = Adam(net.parameters(), lr=1e-3)\n",
        "batch_size = 30\n",
        "\n",
        "num_epochs = 10000\n",
        "\n",
        "accumulation_iteration = 3 # делать оптимизационный шаг каждый 5-й батч\n",
        "\n",
        "num_batches = ceil(len(features_train_new)/batch_size)\n",
        "\n",
        "for epoch in range(num_epochs):\n",
        "    # случайная перестановка объектов\n",
        "    order = np.random.permutation(len(features_train_new))\n",
        "    optimizer.zero_grad()\n",
        "    for batch_i in range(num_batches):\n",
        "        start_index = batch_i * batch_size\n",
        "\n",
        "        # получение индексов текущего батча\n",
        "        batch_indexes = order[start_index:start_index+batch_size]\n",
        "        features_batch = features_train_new[batch_indexes]\n",
        "        target_batch = target_train[batch_indexes]\n",
        "\n",
        "        preds = net.forward(features_batch)\n",
        "\n",
        "        loss_value = loss(preds, target_batch) / accumulation_iteration\n",
        "        loss_value.backward()\n",
        "\n",
        "        if ((batch_i + 1) % accumulation_iteration == 0) or (batch_i + 1 == num_batches):\n",
        "            optimizer.step()\n",
        "            optimizer.zero_grad()\n",
        "\n",
        "    if epoch % 1000 == 0:\n",
        "        net.eval()\n",
        "        test_preds = net.forward(features_test_new)\n",
        "        rmse = mean_squared_error(target_test,test_preds.detach().numpy(),squared=False)\n",
        "        print(rmse)\n",
        "\n",
        "\n",
        "\n",
        "\n",
        "\n",
        "\n"
      ]
    },
    {
      "cell_type": "code",
      "execution_count": null,
      "id": "73c81db3",
      "metadata": {
        "id": "73c81db3",
        "outputId": "9c2073e7-dba1-4d87-ac4a-f4a52da3ebbb"
      },
      "outputs": [
        {
          "data": {
            "image/png": "[encoded data removed]",
            "text/plain": [
              "<Figure size 432x288 with 1 Axes>"
            ]
          },
          "metadata": {
            "needs_background": "light"
          },
          "output_type": "display_data"
        }
      ],
      "source": [
        "# Получить количество звезд в выборке\n",
        "num_stars = np.arange(30)\n",
        "n= 30\n",
        "preds_test_tensor = net.forward(features_test_new) # получение прогноза на тестовой выборке\n",
        "# преобразование тензора прогнозов в массив numpy\n",
        "preds_test = preds_test_tensor.detach().numpy().squeeze()\n",
        "# Нарисовать столбчатый график\n",
        "plt.bar(num_stars, target_test[:n],width=0.5, label='Факт')\n",
        "plt.bar(num_stars, preds_test[:n], width=0.3,label='Прогноз')\n",
        "\n",
        "# Настроить оси и легенду\n",
        "plt.title('Факт-Прогноз')\n",
        "plt.xlabel('Номер звезды')\n",
        "plt.ylabel('Температура, K')\n",
        "\n",
        "legend = plt.legend(loc='best', ncol=2, bbox_to_anchor=(0.5, -0.15))\n",
        "# Отобразить график\n",
        "plt.show()\n",
        "\n",
        "\n"
      ]
    },
    {
      "cell_type": "markdown",
      "id": "8cac3df3",
      "metadata": {
        "id": "8cac3df3"
      },
      "source": [
        "Вывод:\n",
        "\n",
        "При одном скрытом слое модель оставляет желать лучше - . Нужно подбирать параметры w и b, добавить реугляризацию и добавить еще скрытых слоев. Она предсказывает практически одинаковую температуру.\n"
      ]
    },
    {
      "cell_type": "markdown",
      "id": "growing-supply",
      "metadata": {
        "id": "growing-supply"
      },
      "source": [
        "## Улучшение нейронной сети"
      ]
    },
    {
      "cell_type": "code",
      "execution_count": null,
      "id": "e1f681ef",
      "metadata": {
        "id": "e1f681ef",
        "outputId": "455c41ff-20eb-4ee7-cbab-497565b1c72d"
      },
      "outputs": [
        {
          "data": {
            "text/plain": [
              "torch.Size([168, 14])"
            ]
          },
          "execution_count": 60,
          "metadata": {},
          "output_type": "execute_result"
        }
      ],
      "source": [
        "features_train_new.shape"
      ]
    },
    {
      "cell_type": "code",
      "execution_count": null,
      "id": "f89c5f9b",
      "metadata": {
        "id": "f89c5f9b"
      },
      "outputs": [],
      "source": [
        "n_neurons = [14,12, 8, 4, 1]\n",
        "net_layers = []\n",
        "\n",
        "def net_model(n_neurons_=n_neurons,batch_size_=10,num_epochs_=10000,accumulatio_=2,lr_=1e-3,check_up=1000,dropout_rate=0.5):\n",
        "    min_rmse = None\n",
        "    net_layers = []\n",
        "    for i in range(1, len(n_neurons) - 1):\n",
        "        net_layers.append(nn.Linear(n_neurons[i-1],n_neurons[i]))\n",
        "        if (i+1) % 2 == 0:\n",
        "            net_layers.append(nn.Softplus())\n",
        "\n",
        "\n",
        "        else:\n",
        "            net_layers.append(nn.LeakyReLU())\n",
        "\n",
        "        nn.Dropout(dropout_rate)\n",
        "    net_layers.append(nn.Linear(n_neurons[-2], n_neurons[-1]))\n",
        "    net_layers.append(nn.LeakyReLU())\n",
        "    net_layers.append(nn.Flatten(start_dim=0))\n",
        "\n",
        "    def init_weights(layer):\n",
        "        if type(layer) == nn.Linear:\n",
        "            nn.init.kaiming_uniform_(layer.weight, mode='fan_in', nonlinearity='relu')\n",
        "            nn.init.normal_(layer.bias, mean=0.5, std=1)\n",
        "\n",
        "\n",
        "    net = nn.Sequential(*net_layers)\n",
        "\n",
        "    net.apply(init_weights)\n",
        "\n",
        "\n",
        "    optimizer = torch.optim.Adam(net.parameters(), lr=lr_)\n",
        "\n",
        "    loss = nn.HuberLoss()\n",
        "    batch_size = batch_size_\n",
        "\n",
        "    num_epochs = num_epochs_\n",
        "\n",
        "    accumulation_iteration = accumulatio_# делать оптимизационный шаг каждый n-й батч\n",
        "\n",
        "    num_batches = ceil(len(features_train_new)/batch_size)\n",
        "\n",
        "    for epoch in range(num_epochs):\n",
        "        # случайная перестановка объектов\n",
        "        order = np.random.permutation(len(features_train_new))\n",
        "        optimizer.zero_grad()\n",
        "        for batch_i in range(num_batches):\n",
        "            start_index = batch_i * batch_size\n",
        "\n",
        "            # получение индексов текущего батча\n",
        "            batch_indexes = order[start_index:start_index+batch_size]\n",
        "            features_batch = features_train_new[batch_indexes]\n",
        "            target_batch = target_train[batch_indexes]\n",
        "\n",
        "            preds = net.forward(features_batch)\n",
        "\n",
        "            loss_value = loss(preds, target_batch) / accumulation_iteration\n",
        "            loss_value.backward()\n",
        "\n",
        "            if ((batch_i + 1) % accumulation_iteration == 0) or (batch_i + 1 == num_batches):\n",
        "                optimizer.step()\n",
        "                optimizer.zero_grad()\n",
        "\n",
        "        if epoch % check_up == 0:\n",
        "            net.eval()\n",
        "            test_preds = net.forward(features_test_new)\n",
        "            rmse = mean_squared_error(target_test,test_preds.detach().numpy(),squared=False)\n",
        "            print(rmse)\n",
        "            if min_rmse is not None and (rmse - min_rmse) / min_rmse * 100 > 1:\n",
        "                print(\"RMSE увеличился более чем на 5%, что привело к остановке обучения.\")\n",
        "                min_rmse = rmse\n",
        "                print('Наименьший RMSE на тестовой выборки без переобучения = ',min_rmse)\n",
        "                break\n"
      ]
    },
    {
      "cell_type": "code",
      "execution_count": null,
      "id": "2a94573a",
      "metadata": {
        "id": "2a94573a",
        "outputId": "4e9d0a9a-f29d-4eb8-8a13-131792dd1a0f"
      },
      "outputs": [
        {
          "data": {
            "text/plain": [
              "torch.Size([18, 14])"
            ]
          },
          "execution_count": 62,
          "metadata": {},
          "output_type": "execute_result"
        }
      ],
      "source": [
        "features_batch.shape"
      ]
    },
    {
      "cell_type": "code",
      "execution_count": null,
      "id": "8930abd7",
      "metadata": {
        "id": "8930abd7",
        "outputId": "3d5571dd-e1ba-45ef-f83f-e248e9933c71"
      },
      "outputs": [
        {
          "name": "stdout",
          "output_type": "stream",
          "text": [
            "13372.886\n",
            "5578.637\n",
            "4518.9424\n",
            "4658.7837\n",
            "4636.1465\n",
            "4634.284\n",
            "4612.303\n",
            "4595.5737\n",
            "4583.3604\n",
            "4559.88\n"
          ]
        }
      ],
      "source": [
        "net_model(n_neurons_=n_neurons,batch_size_=14,num_epochs_=10_000,accumulatio_=2,lr_=1e-3,check_up=1000)"
      ]
    },
    {
      "cell_type": "code",
      "execution_count": null,
      "id": "c2d44e17",
      "metadata": {
        "scrolled": true,
        "id": "c2d44e17",
        "outputId": "670e1ea2-bc25-4393-e9bd-7b06d531199a"
      },
      "outputs": [
        {
          "name": "stdout",
          "output_type": "stream",
          "text": [
            "13369.535\n",
            "4438.436\n",
            "4370.507\n",
            "4278.1704\n",
            "4221.614\n",
            "4200.9907\n",
            "4243.946\n",
            "4260.3574\n",
            "4363.722\n",
            "4402.5815\n"
          ]
        }
      ],
      "source": [
        "net_model(n_neurons_=n_neurons,batch_size_=15,num_epochs_=10_000,accumulatio_=2,lr_=1e-2,check_up=1000)"
      ]
    },
    {
      "cell_type": "code",
      "execution_count": null,
      "id": "acce811c",
      "metadata": {
        "scrolled": true,
        "id": "acce811c",
        "outputId": "f4617f6e-4a88-4692-a2ba-5bde57fabedc"
      },
      "outputs": [
        {
          "name": "stdout",
          "output_type": "stream",
          "text": [
            "13375.412\n",
            "6117.825\n",
            "5193.236\n",
            "4532.968\n",
            "4678.853\n",
            "4652.685\n",
            "4639.978\n",
            "4627.064\n",
            "4615.3433\n",
            "4606.419\n"
          ]
        }
      ],
      "source": [
        "net_model(n_neurons_=n_neurons,batch_size_=17,num_epochs_=10_000,accumulatio_=2,lr_=1e-3,check_up=1000)"
      ]
    },
    {
      "cell_type": "markdown",
      "id": "accurate-infrastructure",
      "metadata": {
        "id": "accurate-infrastructure"
      },
      "source": [
        "## Выводы"
      ]
    },
    {
      "cell_type": "code",
      "execution_count": null,
      "id": "4758ea30",
      "metadata": {
        "scrolled": false,
        "id": "4758ea30",
        "outputId": "e1182329-0d67-4a7f-e103-9d3e0bfbc165"
      },
      "outputs": [
        {
          "name": "stdout",
          "output_type": "stream",
          "text": [
            "Для значения n = 0.3\n",
            "13375.325\n",
            "4542.4106\n",
            "4429.805\n",
            "4296.486\n",
            "4496.8574\n",
            "4435.266\n",
            "4489.8887\n",
            "4503.503\n",
            "4495.4253\n",
            "4426.358\n",
            "------------------------------\n",
            "Для значения n = 0.4\n",
            "13375.852\n",
            "4473.1978\n",
            "4365.403\n",
            "4299.178\n",
            "4166.0312\n",
            "4126.713\n",
            "4146.558\n",
            "4110.925\n",
            "4155.062\n",
            "4117.67\n",
            "------------------------------\n",
            "Для значения n = 0.5\n",
            "13374.771\n",
            "4533.1665\n",
            "4465.8325\n",
            "4287.0894\n",
            "4193.186\n",
            "4195.855\n",
            "4200.0947\n",
            "4136.5737\n",
            "4159.546\n",
            "4099.78\n",
            "------------------------------\n",
            "Для значения n = 0.6\n",
            "13374.78\n",
            "4570.8745\n",
            "4376.369\n",
            "4479.685\n",
            "4449.2407\n",
            "4340.123\n",
            "4238.544\n",
            "4223.1484\n",
            "4214.0767\n",
            "4163.749\n",
            "------------------------------\n",
            "Для значения n = 0.7\n",
            "13375.738\n",
            "4436.307\n",
            "4402.749\n",
            "4388.4756\n",
            "4272.257\n",
            "4229.52\n",
            "4232.131\n",
            "4268.706\n",
            "4129.4146\n",
            "4099.162\n",
            "------------------------------\n"
          ]
        }
      ],
      "source": [
        "for n in np.arange(0.3,0.71,0.1):\n",
        "    print(f'Для значения n = {round(n,1)}')\n",
        "    net_model(n_neurons_=n_neurons,batch_size_=15,num_epochs_=10_000,accumulatio_=2,lr_=1e-2,check_up=1000,dropout_rate=n)\n",
        "    print('-'*30)"
      ]
    },
    {
      "cell_type": "code",
      "execution_count": null,
      "id": "d31fa85b",
      "metadata": {
        "id": "d31fa85b"
      },
      "outputs": [],
      "source": [
        "# Для значения n = 0.3\n",
        "# 13375.325\n",
        "# 4542.4106\n",
        "# 4429.805\n",
        "# 4296.486\n",
        "# 4496.8574\n",
        "# 4435.266\n",
        "# 4489.8887\n",
        "# 4503.503\n",
        "# 4495.4253\n",
        "# 4426.358\n",
        "# ------------------------------\n",
        "# Для значения n = 0.4\n",
        "# 13375.852\n",
        "# 4473.1978\n",
        "# 4365.403\n",
        "# 4299.178\n",
        "# 4166.0312\n",
        "# 4126.713\n",
        "# 4146.558\n",
        "# 4110.925\n",
        "# 4155.062\n",
        "# 4117.67\n",
        "# ------------------------------\n",
        "# Для значения n = 0.5\n",
        "# 13374.771\n",
        "# 4533.1665\n",
        "# 4465.8325\n",
        "# 4287.0894\n",
        "# 4193.186\n",
        "# 4195.855\n",
        "# 4200.0947\n",
        "# 4136.5737\n",
        "# 4159.546\n",
        "# 4099.78\n",
        "# ------------------------------\n",
        "# Для значения n = 0.6\n",
        "# 13374.78\n",
        "# 4570.8745\n",
        "# 4376.369\n",
        "# 4479.685\n",
        "# 4449.2407\n",
        "# 4340.123\n",
        "# 4238.544\n",
        "# 4223.1484\n",
        "# 4214.0767\n",
        "# 4163.749\n",
        "# ------------------------------\n",
        "# Для значения n = 0.7\n",
        "# 13375.738\n",
        "# 4436.307\n",
        "# 4402.749\n",
        "# 4388.4756\n",
        "# 4272.257\n",
        "# 4229.52\n",
        "# 4232.131\n",
        "# 4268.706\n",
        "# 4129.4146\n",
        "# 4099.162"
      ]
    },
    {
      "cell_type": "markdown",
      "id": "c78255c5",
      "metadata": {
        "id": "c78255c5"
      },
      "source": [
        "Лучший результат при dropout_rate = 0.5\n",
        "\n",
        "**RMSE = 4099.78**"
      ]
    },
    {
      "cell_type": "code",
      "execution_count": null,
      "id": "4faa79e0",
      "metadata": {
        "id": "4faa79e0",
        "outputId": "be9e88b7-7477-4265-c5e0-ba7d0d36578b"
      },
      "outputs": [
        {
          "name": "stdout",
          "output_type": "stream",
          "text": [
            "13372.567\n",
            "4456.622\n",
            "4400.457\n",
            "4280.8135\n",
            "4239.8765\n",
            "4244.9795\n",
            "4200.325\n",
            "4078.7588\n",
            "4073.5688\n",
            "4064.127\n"
          ]
        }
      ],
      "source": [
        "net_model(n_neurons_=n_neurons,batch_size_=15,num_epochs_=10_000,accumulatio_=2,lr_=1e-2,check_up=1000,dropout_rate=0.5)\n",
        "\n"
      ]
    },
    {
      "cell_type": "code",
      "execution_count": null,
      "id": "b811a73b",
      "metadata": {
        "scrolled": true,
        "id": "b811a73b",
        "outputId": "f89c00c4-8421-496c-ae8a-5c818d971df5"
      },
      "outputs": [
        {
          "data": {
            "image/png": "[encoded data removed]",
            "text/plain": [
              "<Figure size 432x288 with 1 Axes>"
            ]
          },
          "metadata": {
            "needs_background": "light"
          },
          "output_type": "display_data"
        }
      ],
      "source": [
        "# Получить количество звезд в выборке\n",
        "num_stars = np.arange(10)\n",
        "n= 10\n",
        "preds_test_tensor = net.forward(features_test_new) # получение прогноза на тестовой выборке\n",
        "# преобразование тензора прогнозов в массив numpy\n",
        "preds_test = preds_test_tensor.detach().numpy().squeeze()\n",
        "# Нарисовать столбчатый график\n",
        "plt.bar(num_stars, target_test[:n],width=0.5, label='Факт')\n",
        "plt.bar(num_stars, preds_test[:n], width=0.3,label='Прогноз')\n",
        "\n",
        "# Настроить оси и легенду\n",
        "plt.title('Факт-Прогноз')\n",
        "plt.xlabel('Номер звезды')\n",
        "plt.ylabel('Температура, K')\n",
        "\n",
        "legend = plt.legend(loc='best', ncol=2, bbox_to_anchor=(0.5, -0.15))\n",
        "# Отобразить график\n",
        "plt.show()\n",
        "\n",
        "\n"
      ]
    },
    {
      "cell_type": "code",
      "execution_count": null,
      "id": "19e63fe6",
      "metadata": {
        "scrolled": true,
        "id": "19e63fe6",
        "outputId": "0e8c5cc4-3b32-4369-cc18-f43b04a53594"
      },
      "outputs": [
        {
          "data": {
            "text/plain": [
              "39.402422378247756"
            ]
          },
          "execution_count": 73,
          "metadata": {},
          "output_type": "execute_result"
        }
      ],
      "source": [
        "(4064.127)/10314.409*100"
      ]
    },
    {
      "cell_type": "markdown",
      "id": "46d712ff",
      "metadata": {
        "id": "46d712ff"
      },
      "source": [
        "**Наименьший RMSE** равен около **4064.127**, к которому мы пришли с:\n",
        "* nn.Softplus() в четным слоях\n",
        "* LeakyReLU() нечетных и на выходе\n",
        "* Регуляризация dropout(p=0.5) после каждого скрытого слоя\n",
        "*\n",
        "* Использование He инициализации с параметрами mode='fan_in', nonlinearity='relu'\n",
        "* Использование нормальное отклонение с mean=0.5, std=1\n",
        "* 3 скрытыми слоями с количеством нейронами `12, 8, 4` соответственно\n",
        "\n",
        "Как видно из графика \"Факт-Прогноз\" модель стала относительно хорошо справляется с температурами ниже 10_000 K, выше показатели не утешают.\n",
        "\n",
        "По сравнению с baseline моделью качество выросло на **39%**\n",
        "\n",
        "Считаю, что это достаточно неплохой результат относительно baseline модели."
      ]
    }
  ],
  "metadata": {
    "ExecuteTimeLog": [
      {
        "duration": 56,
        "start_time": "2023-04-01T12:57:47.128Z"
      },
      {
        "duration": 1978,
        "start_time": "2023-04-01T12:57:48.761Z"
      },
      {
        "duration": 153,
        "start_time": "2023-04-01T12:57:50.740Z"
      },
      {
        "duration": 12,
        "start_time": "2023-04-01T12:58:21.101Z"
      },
      {
        "duration": 27,
        "start_time": "2023-04-01T12:58:27.021Z"
      },
      {
        "duration": 8,
        "start_time": "2023-04-01T12:58:27.585Z"
      },
      {
        "duration": 110,
        "start_time": "2023-04-01T13:07:26.849Z"
      },
      {
        "duration": 4,
        "start_time": "2023-04-01T13:07:28.562Z"
      },
      {
        "duration": 15,
        "start_time": "2023-04-01T13:09:12.017Z"
      },
      {
        "duration": 13,
        "start_time": "2023-04-01T13:09:21.338Z"
      },
      {
        "duration": 13,
        "start_time": "2023-04-01T13:09:23.064Z"
      },
      {
        "duration": 11,
        "start_time": "2023-04-01T13:09:36.809Z"
      },
      {
        "duration": 9,
        "start_time": "2023-04-01T13:10:12.193Z"
      },
      {
        "duration": 5,
        "start_time": "2023-04-01T13:10:14.369Z"
      },
      {
        "duration": 19,
        "start_time": "2023-04-01T13:10:26.248Z"
      },
      {
        "duration": 10,
        "start_time": "2023-04-01T13:53:26.263Z"
      },
      {
        "duration": 12771,
        "start_time": "2023-04-01T13:53:29.065Z"
      },
      {
        "duration": 2,
        "start_time": "2023-04-01T13:53:42.404Z"
      },
      {
        "duration": 3,
        "start_time": "2023-04-01T13:56:18.723Z"
      },
      {
        "duration": 3,
        "start_time": "2023-04-01T13:56:23.004Z"
      },
      {
        "duration": 2,
        "start_time": "2023-04-01T13:56:33.684Z"
      },
      {
        "duration": 8,
        "start_time": "2023-04-01T13:56:34.209Z"
      },
      {
        "duration": 103,
        "start_time": "2023-04-01T13:56:37.580Z"
      },
      {
        "duration": 3,
        "start_time": "2023-04-01T13:57:01.710Z"
      },
      {
        "duration": 3,
        "start_time": "2023-04-01T13:57:02.361Z"
      },
      {
        "duration": 8,
        "start_time": "2023-04-01T13:57:02.676Z"
      },
      {
        "duration": 27,
        "start_time": "2023-04-01T13:57:03.063Z"
      },
      {
        "duration": 9,
        "start_time": "2023-04-01T13:57:03.862Z"
      },
      {
        "duration": 4,
        "start_time": "2023-04-01T13:57:04.161Z"
      },
      {
        "duration": 11,
        "start_time": "2023-04-01T13:57:04.483Z"
      },
      {
        "duration": 22,
        "start_time": "2023-04-01T13:57:05.209Z"
      },
      {
        "duration": 50,
        "start_time": "2023-04-01T13:57:05.707Z"
      },
      {
        "duration": 8,
        "start_time": "2023-04-01T13:57:51.251Z"
      },
      {
        "duration": 26,
        "start_time": "2023-04-01T13:57:52.730Z"
      },
      {
        "duration": 7,
        "start_time": "2023-04-01T13:57:53.203Z"
      },
      {
        "duration": 3,
        "start_time": "2023-04-01T13:57:53.570Z"
      },
      {
        "duration": 10,
        "start_time": "2023-04-01T13:57:53.939Z"
      },
      {
        "duration": 19,
        "start_time": "2023-04-01T13:57:54.330Z"
      },
      {
        "duration": 50,
        "start_time": "2023-04-01T13:57:54.812Z"
      },
      {
        "duration": 9,
        "start_time": "2023-04-01T14:01:24.188Z"
      },
      {
        "duration": 8,
        "start_time": "2023-04-01T14:03:15.736Z"
      },
      {
        "duration": 26,
        "start_time": "2023-04-01T14:03:16.313Z"
      },
      {
        "duration": 9,
        "start_time": "2023-04-01T14:03:16.552Z"
      },
      {
        "duration": 3,
        "start_time": "2023-04-01T14:03:16.841Z"
      },
      {
        "duration": 9,
        "start_time": "2023-04-01T14:03:17.168Z"
      },
      {
        "duration": 18,
        "start_time": "2023-04-01T14:03:17.584Z"
      },
      {
        "duration": 48,
        "start_time": "2023-04-01T14:03:18.898Z"
      },
      {
        "duration": 4,
        "start_time": "2023-04-01T14:06:20.912Z"
      },
      {
        "duration": 3,
        "start_time": "2023-04-01T14:06:35.231Z"
      },
      {
        "duration": 11,
        "start_time": "2023-04-01T14:06:51.622Z"
      },
      {
        "duration": 69,
        "start_time": "2023-04-01T14:08:22.375Z"
      },
      {
        "duration": 12,
        "start_time": "2023-04-01T14:08:27.982Z"
      },
      {
        "duration": 2,
        "start_time": "2023-04-01T14:09:36.097Z"
      },
      {
        "duration": 11,
        "start_time": "2023-04-01T14:10:21.956Z"
      },
      {
        "duration": 7206,
        "start_time": "2023-04-01T14:10:32.821Z"
      },
      {
        "duration": 4,
        "start_time": "2023-04-02T11:47:00.158Z"
      },
      {
        "duration": 2066,
        "start_time": "2023-04-02T11:47:01.077Z"
      },
      {
        "duration": 0,
        "start_time": "2023-04-02T11:47:03.146Z"
      },
      {
        "duration": 0,
        "start_time": "2023-04-02T11:47:03.147Z"
      },
      {
        "duration": 0,
        "start_time": "2023-04-02T11:47:03.149Z"
      },
      {
        "duration": 0,
        "start_time": "2023-04-02T11:47:03.150Z"
      },
      {
        "duration": 0,
        "start_time": "2023-04-02T11:47:03.151Z"
      },
      {
        "duration": 10,
        "start_time": "2023-04-02T11:47:03.252Z"
      },
      {
        "duration": 9,
        "start_time": "2023-04-02T11:47:08.909Z"
      },
      {
        "duration": 14,
        "start_time": "2023-04-02T11:47:10.733Z"
      },
      {
        "duration": 14502,
        "start_time": "2023-04-02T11:47:15.814Z"
      },
      {
        "duration": 616,
        "start_time": "2023-04-02T11:47:30.319Z"
      },
      {
        "duration": 4,
        "start_time": "2023-04-02T11:48:00.980Z"
      },
      {
        "duration": 3,
        "start_time": "2023-04-02T11:48:27.028Z"
      },
      {
        "duration": 2,
        "start_time": "2023-04-02T11:48:28.109Z"
      },
      {
        "duration": 9,
        "start_time": "2023-04-02T11:48:28.460Z"
      },
      {
        "duration": 86,
        "start_time": "2023-04-02T11:48:28.837Z"
      },
      {
        "duration": 25,
        "start_time": "2023-04-02T11:48:29.140Z"
      },
      {
        "duration": 5,
        "start_time": "2023-04-02T11:48:29.437Z"
      },
      {
        "duration": 31,
        "start_time": "2023-04-02T11:48:29.820Z"
      },
      {
        "duration": 79,
        "start_time": "2023-04-02T11:48:30.357Z"
      },
      {
        "duration": 19,
        "start_time": "2023-04-02T11:48:30.916Z"
      },
      {
        "duration": 8917,
        "start_time": "2023-04-02T11:48:31.966Z"
      },
      {
        "duration": 5,
        "start_time": "2023-04-02T11:51:09.908Z"
      },
      {
        "duration": 15,
        "start_time": "2023-04-02T11:51:17.932Z"
      },
      {
        "duration": 7,
        "start_time": "2023-04-02T11:51:31.315Z"
      },
      {
        "duration": 14,
        "start_time": "2023-04-02T11:51:32.060Z"
      },
      {
        "duration": 5,
        "start_time": "2023-04-02T11:51:36.517Z"
      },
      {
        "duration": 4,
        "start_time": "2023-04-02T12:17:18.691Z"
      },
      {
        "duration": 4,
        "start_time": "2023-04-02T12:19:55.786Z"
      },
      {
        "duration": 70,
        "start_time": "2023-04-02T12:19:57.041Z"
      },
      {
        "duration": 15,
        "start_time": "2023-04-02T12:20:00.771Z"
      },
      {
        "duration": 5,
        "start_time": "2023-04-02T12:20:05.466Z"
      },
      {
        "duration": 1958,
        "start_time": "2023-04-02T12:20:05.762Z"
      },
      {
        "duration": 265,
        "start_time": "2023-04-02T12:20:58.074Z"
      },
      {
        "duration": 0,
        "start_time": "2023-04-02T12:20:58.341Z"
      },
      {
        "duration": 6,
        "start_time": "2023-04-02T12:21:08.233Z"
      },
      {
        "duration": 18,
        "start_time": "2023-04-02T12:21:08.962Z"
      },
      {
        "duration": 4,
        "start_time": "2023-04-02T12:21:34.402Z"
      },
      {
        "duration": 176,
        "start_time": "2023-04-02T12:21:34.698Z"
      },
      {
        "duration": 4,
        "start_time": "2023-04-02T12:22:33.602Z"
      },
      {
        "duration": 13,
        "start_time": "2023-04-02T12:22:39.153Z"
      },
      {
        "duration": 3,
        "start_time": "2023-04-02T12:24:20.984Z"
      },
      {
        "duration": 4,
        "start_time": "2023-04-02T12:24:21.398Z"
      },
      {
        "duration": 12,
        "start_time": "2023-04-02T12:24:21.703Z"
      },
      {
        "duration": 4,
        "start_time": "2023-04-02T12:24:57.054Z"
      },
      {
        "duration": 4,
        "start_time": "2023-04-02T12:25:07.449Z"
      },
      {
        "duration": 4,
        "start_time": "2023-04-02T12:25:07.646Z"
      },
      {
        "duration": 14,
        "start_time": "2023-04-02T12:25:07.845Z"
      },
      {
        "duration": 4,
        "start_time": "2023-04-02T12:25:12.902Z"
      },
      {
        "duration": 3,
        "start_time": "2023-04-02T12:25:13.214Z"
      },
      {
        "duration": 16,
        "start_time": "2023-04-02T12:25:13.446Z"
      },
      {
        "duration": 4,
        "start_time": "2023-04-02T12:25:51.316Z"
      },
      {
        "duration": 5,
        "start_time": "2023-04-02T12:25:52.692Z"
      },
      {
        "duration": 15,
        "start_time": "2023-04-02T12:25:52.860Z"
      },
      {
        "duration": 4,
        "start_time": "2023-04-02T12:35:59.544Z"
      },
      {
        "duration": 18,
        "start_time": "2023-04-02T12:36:01.296Z"
      },
      {
        "duration": 4,
        "start_time": "2023-04-02T12:36:05.896Z"
      },
      {
        "duration": 4,
        "start_time": "2023-04-02T12:36:06.400Z"
      },
      {
        "duration": 18,
        "start_time": "2023-04-02T12:36:06.736Z"
      },
      {
        "duration": 4,
        "start_time": "2023-04-02T12:36:18.832Z"
      },
      {
        "duration": 4,
        "start_time": "2023-04-02T12:36:19.246Z"
      },
      {
        "duration": 14,
        "start_time": "2023-04-02T12:36:19.471Z"
      },
      {
        "duration": 4,
        "start_time": "2023-04-02T12:36:30.224Z"
      },
      {
        "duration": 5,
        "start_time": "2023-04-02T12:36:30.638Z"
      },
      {
        "duration": 14,
        "start_time": "2023-04-02T12:36:31.399Z"
      },
      {
        "duration": 3,
        "start_time": "2023-04-02T12:50:01.238Z"
      },
      {
        "duration": 12,
        "start_time": "2023-04-02T12:52:28.459Z"
      },
      {
        "duration": 64,
        "start_time": "2023-04-02T12:52:36.245Z"
      },
      {
        "duration": 11,
        "start_time": "2023-04-02T12:52:38.539Z"
      },
      {
        "duration": 11,
        "start_time": "2023-04-02T12:52:58.484Z"
      },
      {
        "duration": 2,
        "start_time": "2023-04-02T12:53:00.804Z"
      },
      {
        "duration": 280,
        "start_time": "2023-04-02T12:53:00.947Z"
      },
      {
        "duration": 6,
        "start_time": "2023-04-02T12:53:04.347Z"
      },
      {
        "duration": 5,
        "start_time": "2023-04-02T12:53:10.949Z"
      },
      {
        "duration": 3,
        "start_time": "2023-04-02T12:53:18.332Z"
      },
      {
        "duration": 5,
        "start_time": "2023-04-02T12:53:18.765Z"
      },
      {
        "duration": 3,
        "start_time": "2023-04-02T12:53:27.859Z"
      },
      {
        "duration": 2,
        "start_time": "2023-04-02T12:53:32.571Z"
      },
      {
        "duration": 3,
        "start_time": "2023-04-02T12:53:32.891Z"
      },
      {
        "duration": 5,
        "start_time": "2023-04-02T12:53:33.146Z"
      },
      {
        "duration": 3,
        "start_time": "2023-04-02T12:53:38.882Z"
      },
      {
        "duration": 4,
        "start_time": "2023-04-02T12:53:39.131Z"
      },
      {
        "duration": 4,
        "start_time": "2023-04-02T12:53:39.426Z"
      },
      {
        "duration": 9,
        "start_time": "2023-04-02T12:57:38.915Z"
      },
      {
        "duration": 16,
        "start_time": "2023-04-02T12:58:02.736Z"
      },
      {
        "duration": 116,
        "start_time": "2023-04-02T13:00:23.473Z"
      },
      {
        "duration": 39,
        "start_time": "2023-04-02T13:01:57.432Z"
      },
      {
        "duration": 45,
        "start_time": "2023-04-02T13:02:07.120Z"
      },
      {
        "duration": 5,
        "start_time": "2023-04-02T13:02:39.485Z"
      },
      {
        "duration": 42,
        "start_time": "2023-04-02T13:02:51.080Z"
      },
      {
        "duration": 46,
        "start_time": "2023-04-02T13:02:58.369Z"
      },
      {
        "duration": 40,
        "start_time": "2023-04-02T13:03:03.368Z"
      },
      {
        "duration": 6,
        "start_time": "2023-04-02T13:04:03.280Z"
      },
      {
        "duration": 14,
        "start_time": "2023-04-02T13:04:27.487Z"
      },
      {
        "duration": 5,
        "start_time": "2023-04-02T13:04:30.680Z"
      },
      {
        "duration": 22,
        "start_time": "2023-04-02T13:05:26.560Z"
      },
      {
        "duration": 8,
        "start_time": "2023-04-02T13:06:00.751Z"
      },
      {
        "duration": 22,
        "start_time": "2023-04-02T13:55:00.593Z"
      },
      {
        "duration": 22,
        "start_time": "2023-04-02T13:55:11.878Z"
      },
      {
        "duration": 10,
        "start_time": "2023-04-02T13:55:19.178Z"
      },
      {
        "duration": 10,
        "start_time": "2023-04-02T13:55:26.175Z"
      },
      {
        "duration": 40,
        "start_time": "2023-04-02T13:55:32.807Z"
      },
      {
        "duration": 11,
        "start_time": "2023-04-02T13:56:12.670Z"
      },
      {
        "duration": 21,
        "start_time": "2023-04-02T13:56:21.887Z"
      },
      {
        "duration": 6,
        "start_time": "2023-04-02T13:56:32.832Z"
      },
      {
        "duration": 3,
        "start_time": "2023-04-02T13:56:40.706Z"
      },
      {
        "duration": 49,
        "start_time": "2023-04-02T13:57:22.351Z"
      },
      {
        "duration": 49,
        "start_time": "2023-04-02T13:57:43.294Z"
      },
      {
        "duration": 3,
        "start_time": "2023-04-02T13:57:49.163Z"
      },
      {
        "duration": 52,
        "start_time": "2023-04-02T13:57:53.223Z"
      },
      {
        "duration": 16,
        "start_time": "2023-04-02T13:57:53.528Z"
      },
      {
        "duration": 6,
        "start_time": "2023-04-02T14:03:45.445Z"
      },
      {
        "duration": 13,
        "start_time": "2023-04-02T14:04:04.938Z"
      },
      {
        "duration": 9,
        "start_time": "2023-04-02T14:04:29.147Z"
      },
      {
        "duration": 4,
        "start_time": "2023-04-02T14:05:01.088Z"
      },
      {
        "duration": 4,
        "start_time": "2023-04-02T14:05:06.756Z"
      },
      {
        "duration": 63,
        "start_time": "2023-04-02T14:08:58.827Z"
      },
      {
        "duration": 16,
        "start_time": "2023-04-02T14:09:18.632Z"
      },
      {
        "duration": 49,
        "start_time": "2023-04-02T14:09:28.673Z"
      },
      {
        "duration": 15,
        "start_time": "2023-04-02T14:09:29.255Z"
      },
      {
        "duration": 59,
        "start_time": "2023-04-02T14:09:34.226Z"
      },
      {
        "duration": 12,
        "start_time": "2023-04-02T14:09:35.680Z"
      },
      {
        "duration": 51,
        "start_time": "2023-04-02T14:09:42.421Z"
      },
      {
        "duration": 14,
        "start_time": "2023-04-02T14:09:42.856Z"
      },
      {
        "duration": 38,
        "start_time": "2023-04-02T14:09:45.761Z"
      },
      {
        "duration": 20,
        "start_time": "2023-04-02T14:09:46.328Z"
      },
      {
        "duration": 6,
        "start_time": "2023-04-02T14:09:54.619Z"
      },
      {
        "duration": 39,
        "start_time": "2023-04-02T14:09:58.660Z"
      },
      {
        "duration": 4,
        "start_time": "2023-04-02T14:09:59.804Z"
      },
      {
        "duration": 44,
        "start_time": "2023-04-02T14:10:03.518Z"
      },
      {
        "duration": 4,
        "start_time": "2023-04-02T14:10:03.880Z"
      },
      {
        "duration": 1824,
        "start_time": "2023-04-02T14:10:37.956Z"
      },
      {
        "duration": 20,
        "start_time": "2023-04-02T14:10:48.001Z"
      },
      {
        "duration": 215,
        "start_time": "2023-04-02T14:10:56.159Z"
      },
      {
        "duration": 50,
        "start_time": "2023-04-02T14:11:12.223Z"
      },
      {
        "duration": 5,
        "start_time": "2023-04-02T14:11:14.167Z"
      },
      {
        "duration": 40,
        "start_time": "2023-04-02T14:11:18.569Z"
      },
      {
        "duration": 4,
        "start_time": "2023-04-02T14:11:18.853Z"
      },
      {
        "duration": 15,
        "start_time": "2023-04-02T14:11:19.404Z"
      },
      {
        "duration": 40,
        "start_time": "2023-04-02T14:11:41.782Z"
      },
      {
        "duration": 4,
        "start_time": "2023-04-02T14:11:42.247Z"
      },
      {
        "duration": 18,
        "start_time": "2023-04-02T14:11:42.541Z"
      },
      {
        "duration": 5,
        "start_time": "2023-04-02T14:11:48.654Z"
      },
      {
        "duration": 14,
        "start_time": "2023-04-02T14:11:56.213Z"
      },
      {
        "duration": 17,
        "start_time": "2023-04-02T14:14:48.044Z"
      },
      {
        "duration": 6,
        "start_time": "2023-04-02T14:15:01.808Z"
      },
      {
        "duration": 22,
        "start_time": "2023-04-02T14:15:49.636Z"
      },
      {
        "duration": 51,
        "start_time": "2023-04-02T14:15:53.910Z"
      },
      {
        "duration": 40,
        "start_time": "2023-04-02T14:15:58.091Z"
      },
      {
        "duration": 9,
        "start_time": "2023-04-02T14:16:02.203Z"
      },
      {
        "duration": 17,
        "start_time": "2023-04-02T14:16:08.564Z"
      },
      {
        "duration": 8,
        "start_time": "2023-04-02T14:16:17.124Z"
      },
      {
        "duration": 3,
        "start_time": "2023-04-03T08:30:14.410Z"
      },
      {
        "duration": 4771,
        "start_time": "2023-04-03T08:30:54.413Z"
      },
      {
        "duration": 44182,
        "start_time": "2023-04-03T08:31:03.797Z"
      },
      {
        "duration": 2435,
        "start_time": "2023-04-03T08:31:47.981Z"
      },
      {
        "duration": 3,
        "start_time": "2023-04-03T08:45:16.274Z"
      },
      {
        "duration": 3,
        "start_time": "2023-04-03T08:45:16.825Z"
      },
      {
        "duration": 9,
        "start_time": "2023-04-03T08:45:17.025Z"
      },
      {
        "duration": 73,
        "start_time": "2023-04-03T08:45:17.193Z"
      },
      {
        "duration": 15,
        "start_time": "2023-04-03T08:45:17.417Z"
      },
      {
        "duration": 3,
        "start_time": "2023-04-03T08:45:17.626Z"
      },
      {
        "duration": 21,
        "start_time": "2023-04-03T08:45:17.809Z"
      },
      {
        "duration": 51,
        "start_time": "2023-04-03T08:45:18.039Z"
      },
      {
        "duration": 4,
        "start_time": "2023-04-03T08:45:18.257Z"
      },
      {
        "duration": 7890,
        "start_time": "2023-04-03T08:45:18.475Z"
      },
      {
        "duration": 4,
        "start_time": "2023-04-03T08:45:28.809Z"
      },
      {
        "duration": 4,
        "start_time": "2023-04-03T08:45:30.010Z"
      },
      {
        "duration": 9,
        "start_time": "2023-04-03T08:45:31.937Z"
      },
      {
        "duration": 14,
        "start_time": "2023-04-03T08:45:32.155Z"
      },
      {
        "duration": 2,
        "start_time": "2023-04-03T08:52:16.485Z"
      },
      {
        "duration": 4874,
        "start_time": "2023-04-03T08:52:56.519Z"
      },
      {
        "duration": 12,
        "start_time": "2023-04-03T08:53:47.980Z"
      },
      {
        "duration": 3,
        "start_time": "2023-04-03T08:54:53.515Z"
      },
      {
        "duration": 5,
        "start_time": "2023-04-03T08:54:57.995Z"
      },
      {
        "duration": 98,
        "start_time": "2023-04-03T08:55:06.115Z"
      },
      {
        "duration": 4,
        "start_time": "2023-04-03T08:55:08.692Z"
      },
      {
        "duration": 4,
        "start_time": "2023-04-03T08:55:10.796Z"
      },
      {
        "duration": 2,
        "start_time": "2023-04-03T08:55:22.955Z"
      },
      {
        "duration": 12,
        "start_time": "2023-04-03T08:55:32.171Z"
      },
      {
        "duration": 4,
        "start_time": "2023-04-03T08:55:34.262Z"
      },
      {
        "duration": 4,
        "start_time": "2023-04-03T08:55:34.618Z"
      },
      {
        "duration": 5,
        "start_time": "2023-04-03T08:55:35.060Z"
      },
      {
        "duration": 2,
        "start_time": "2023-04-03T09:01:31.383Z"
      },
      {
        "duration": 13,
        "start_time": "2023-04-03T09:04:31.669Z"
      },
      {
        "duration": 3,
        "start_time": "2023-04-03T09:04:37.078Z"
      },
      {
        "duration": 17,
        "start_time": "2023-04-03T09:04:42.797Z"
      },
      {
        "duration": 12,
        "start_time": "2023-04-03T09:04:51.821Z"
      },
      {
        "duration": 12,
        "start_time": "2023-04-03T09:04:56.373Z"
      },
      {
        "duration": 93,
        "start_time": "2023-04-03T09:09:48.027Z"
      },
      {
        "duration": 3,
        "start_time": "2023-04-03T09:09:50.997Z"
      },
      {
        "duration": 25,
        "start_time": "2023-04-03T09:10:06.005Z"
      },
      {
        "duration": 4,
        "start_time": "2023-04-03T09:10:48.687Z"
      },
      {
        "duration": 8,
        "start_time": "2023-04-03T09:10:49.111Z"
      },
      {
        "duration": 4,
        "start_time": "2023-04-03T09:10:56.311Z"
      },
      {
        "duration": 4,
        "start_time": "2023-04-03T09:10:57.782Z"
      },
      {
        "duration": 5,
        "start_time": "2023-04-03T09:10:58.173Z"
      },
      {
        "duration": 6,
        "start_time": "2023-04-03T09:11:08.650Z"
      },
      {
        "duration": 5,
        "start_time": "2023-04-03T09:11:08.886Z"
      },
      {
        "duration": 3,
        "start_time": "2023-04-03T09:11:11.562Z"
      },
      {
        "duration": 6,
        "start_time": "2023-04-03T09:11:11.823Z"
      },
      {
        "duration": 4,
        "start_time": "2023-04-03T09:11:19.294Z"
      },
      {
        "duration": 4,
        "start_time": "2023-04-03T09:11:28.614Z"
      },
      {
        "duration": 6,
        "start_time": "2023-04-03T09:11:28.878Z"
      },
      {
        "duration": 12,
        "start_time": "2023-04-03T09:11:52.159Z"
      },
      {
        "duration": 4,
        "start_time": "2023-04-03T09:11:56.264Z"
      },
      {
        "duration": 5,
        "start_time": "2023-04-03T09:12:23.310Z"
      },
      {
        "duration": 5,
        "start_time": "2023-04-03T09:12:33.059Z"
      },
      {
        "duration": 4,
        "start_time": "2023-04-03T09:12:37.033Z"
      },
      {
        "duration": 4,
        "start_time": "2023-04-03T09:12:51.174Z"
      },
      {
        "duration": 121,
        "start_time": "2023-04-03T09:12:57.283Z"
      },
      {
        "duration": 3,
        "start_time": "2023-04-03T09:13:01.260Z"
      },
      {
        "duration": 6,
        "start_time": "2023-04-03T09:13:01.959Z"
      },
      {
        "duration": 5,
        "start_time": "2023-04-03T09:13:05.014Z"
      },
      {
        "duration": 5,
        "start_time": "2023-04-03T09:13:05.760Z"
      },
      {
        "duration": 4,
        "start_time": "2023-04-03T09:13:18.014Z"
      },
      {
        "duration": 4,
        "start_time": "2023-04-03T09:13:42.198Z"
      },
      {
        "duration": 5,
        "start_time": "2023-04-03T09:13:43.799Z"
      },
      {
        "duration": 35,
        "start_time": "2023-04-03T09:13:43.975Z"
      },
      {
        "duration": 5,
        "start_time": "2023-04-03T09:15:38.695Z"
      },
      {
        "duration": 4,
        "start_time": "2023-04-03T09:16:06.160Z"
      },
      {
        "duration": 4,
        "start_time": "2023-04-03T09:16:06.800Z"
      },
      {
        "duration": 8,
        "start_time": "2023-04-03T09:16:07.160Z"
      },
      {
        "duration": 4,
        "start_time": "2023-04-03T09:16:30.312Z"
      },
      {
        "duration": 5,
        "start_time": "2023-04-03T09:16:32.376Z"
      },
      {
        "duration": 3,
        "start_time": "2023-04-03T09:30:42.719Z"
      },
      {
        "duration": 3,
        "start_time": "2023-04-03T09:32:16.534Z"
      },
      {
        "duration": 8,
        "start_time": "2023-04-03T09:32:21.778Z"
      },
      {
        "duration": 5,
        "start_time": "2023-04-03T09:32:49.431Z"
      },
      {
        "duration": 4,
        "start_time": "2023-04-03T09:36:07.352Z"
      },
      {
        "duration": 5,
        "start_time": "2023-04-03T09:36:07.806Z"
      },
      {
        "duration": 3,
        "start_time": "2023-04-03T09:36:15.573Z"
      },
      {
        "duration": 4,
        "start_time": "2023-04-03T09:36:16.494Z"
      },
      {
        "duration": 30,
        "start_time": "2023-04-03T09:36:24.807Z"
      },
      {
        "duration": 6,
        "start_time": "2023-04-03T09:36:35.892Z"
      },
      {
        "duration": 11,
        "start_time": "2023-04-03T09:36:42.238Z"
      },
      {
        "duration": 6,
        "start_time": "2023-04-03T09:36:50.189Z"
      },
      {
        "duration": 97,
        "start_time": "2023-04-03T09:36:59.688Z"
      },
      {
        "duration": 94,
        "start_time": "2023-04-03T09:37:03.370Z"
      },
      {
        "duration": 146,
        "start_time": "2023-04-03T09:37:21.725Z"
      },
      {
        "duration": 69,
        "start_time": "2023-04-03T09:37:25.466Z"
      },
      {
        "duration": 94,
        "start_time": "2023-04-03T09:37:28.629Z"
      },
      {
        "duration": 4,
        "start_time": "2023-04-03T09:37:48.494Z"
      },
      {
        "duration": 6,
        "start_time": "2023-04-03T09:37:51.286Z"
      },
      {
        "duration": 4,
        "start_time": "2023-04-03T09:38:44.816Z"
      },
      {
        "duration": 92,
        "start_time": "2023-04-03T09:42:28.013Z"
      },
      {
        "duration": 3,
        "start_time": "2023-04-03T09:42:31.629Z"
      },
      {
        "duration": 5,
        "start_time": "2023-04-03T09:43:26.169Z"
      },
      {
        "duration": 5,
        "start_time": "2023-04-03T09:43:38.675Z"
      },
      {
        "duration": 4,
        "start_time": "2023-04-03T09:43:41.700Z"
      },
      {
        "duration": 5,
        "start_time": "2023-04-03T09:43:47.500Z"
      },
      {
        "duration": 4,
        "start_time": "2023-04-03T15:48:39.609Z"
      },
      {
        "duration": 93,
        "start_time": "2023-04-03T15:50:40.528Z"
      },
      {
        "duration": 3,
        "start_time": "2023-04-03T15:50:45.864Z"
      },
      {
        "duration": 4,
        "start_time": "2023-04-03T15:51:00.687Z"
      },
      {
        "duration": 3,
        "start_time": "2023-04-03T15:51:03.295Z"
      },
      {
        "duration": 2,
        "start_time": "2023-04-03T15:52:41.751Z"
      },
      {
        "duration": 32,
        "start_time": "2023-04-03T15:53:11.439Z"
      },
      {
        "duration": 20,
        "start_time": "2023-04-03T15:53:24.270Z"
      },
      {
        "duration": 3,
        "start_time": "2023-04-03T15:56:43.308Z"
      },
      {
        "duration": 73,
        "start_time": "2023-04-03T15:57:42.724Z"
      },
      {
        "duration": 75,
        "start_time": "2023-04-03T15:57:58.087Z"
      },
      {
        "duration": 72,
        "start_time": "2023-04-03T15:58:05.764Z"
      },
      {
        "duration": 98,
        "start_time": "2023-04-03T15:58:36.852Z"
      },
      {
        "duration": 4,
        "start_time": "2023-04-03T15:58:47.277Z"
      },
      {
        "duration": 2,
        "start_time": "2023-04-03T15:58:49.420Z"
      },
      {
        "duration": 70,
        "start_time": "2023-04-03T15:58:51.587Z"
      },
      {
        "duration": 67,
        "start_time": "2023-04-03T15:58:58.204Z"
      },
      {
        "duration": 839,
        "start_time": "2023-04-03T15:59:00.964Z"
      },
      {
        "duration": 16,
        "start_time": "2023-04-03T15:59:11.427Z"
      },
      {
        "duration": 3,
        "start_time": "2023-04-03T15:59:17.955Z"
      },
      {
        "duration": 17,
        "start_time": "2023-04-03T15:59:18.772Z"
      },
      {
        "duration": 13,
        "start_time": "2023-04-03T16:00:10.340Z"
      },
      {
        "duration": 8,
        "start_time": "2023-04-03T16:00:30.671Z"
      },
      {
        "duration": 4,
        "start_time": "2023-04-03T16:00:45.915Z"
      },
      {
        "duration": 4,
        "start_time": "2023-04-03T16:00:57.837Z"
      },
      {
        "duration": 7,
        "start_time": "2023-04-03T16:01:23.410Z"
      },
      {
        "duration": 6,
        "start_time": "2023-04-03T16:01:27.851Z"
      },
      {
        "duration": 2,
        "start_time": "2023-04-03T16:03:19.706Z"
      },
      {
        "duration": 69,
        "start_time": "2023-04-03T16:03:23.867Z"
      },
      {
        "duration": 16,
        "start_time": "2023-04-03T16:03:35.058Z"
      },
      {
        "duration": 167,
        "start_time": "2023-04-03T16:04:23.752Z"
      },
      {
        "duration": 19,
        "start_time": "2023-04-03T16:05:28.864Z"
      },
      {
        "duration": 56,
        "start_time": "2023-04-03T16:06:22.400Z"
      },
      {
        "duration": 15,
        "start_time": "2023-04-03T16:06:34.328Z"
      },
      {
        "duration": 11,
        "start_time": "2023-04-03T16:06:43.807Z"
      },
      {
        "duration": 12,
        "start_time": "2023-04-03T16:06:49.320Z"
      },
      {
        "duration": 11,
        "start_time": "2023-04-03T16:07:13.393Z"
      },
      {
        "duration": 12,
        "start_time": "2023-04-03T16:07:20.535Z"
      },
      {
        "duration": 39,
        "start_time": "2023-04-03T16:08:18.464Z"
      },
      {
        "duration": 50,
        "start_time": "2023-04-03T16:08:44.016Z"
      },
      {
        "duration": 8,
        "start_time": "2023-04-03T16:08:50.536Z"
      },
      {
        "duration": 10,
        "start_time": "2023-04-03T16:08:58.551Z"
      },
      {
        "duration": 37,
        "start_time": "2023-04-03T16:09:27.032Z"
      },
      {
        "duration": 14,
        "start_time": "2023-04-03T16:09:45.012Z"
      },
      {
        "duration": 6,
        "start_time": "2023-04-03T16:09:46.791Z"
      },
      {
        "duration": 4,
        "start_time": "2023-04-03T16:10:06.599Z"
      },
      {
        "duration": 3,
        "start_time": "2023-04-03T16:10:06.798Z"
      },
      {
        "duration": 23,
        "start_time": "2023-04-03T16:10:15.870Z"
      },
      {
        "duration": 4,
        "start_time": "2023-04-03T16:10:20.720Z"
      },
      {
        "duration": 19,
        "start_time": "2023-04-03T16:10:25.679Z"
      },
      {
        "duration": 33,
        "start_time": "2023-04-03T16:10:39.991Z"
      },
      {
        "duration": 4,
        "start_time": "2023-04-03T16:10:51.813Z"
      },
      {
        "duration": 38,
        "start_time": "2023-04-03T16:10:55.198Z"
      },
      {
        "duration": 37,
        "start_time": "2023-04-03T16:10:59.262Z"
      },
      {
        "duration": 36,
        "start_time": "2023-04-03T16:11:02.663Z"
      },
      {
        "duration": 42,
        "start_time": "2023-04-03T16:11:05.934Z"
      },
      {
        "duration": 37,
        "start_time": "2023-04-03T16:11:13.342Z"
      },
      {
        "duration": 34,
        "start_time": "2023-04-03T16:11:16.111Z"
      },
      {
        "duration": 78,
        "start_time": "2023-04-03T16:11:25.630Z"
      },
      {
        "duration": 38,
        "start_time": "2023-04-03T16:11:27.965Z"
      },
      {
        "duration": 6,
        "start_time": "2023-04-03T16:11:39.094Z"
      },
      {
        "duration": 4,
        "start_time": "2023-04-03T16:11:43.014Z"
      },
      {
        "duration": 46,
        "start_time": "2023-04-03T16:12:36.974Z"
      },
      {
        "duration": 37,
        "start_time": "2023-04-03T16:12:49.613Z"
      },
      {
        "duration": 45,
        "start_time": "2023-04-03T16:13:14.094Z"
      },
      {
        "duration": 35,
        "start_time": "2023-04-03T16:13:26.318Z"
      },
      {
        "duration": 47,
        "start_time": "2023-04-03T16:13:29.478Z"
      },
      {
        "duration": 32,
        "start_time": "2023-04-03T16:13:40.772Z"
      },
      {
        "duration": 34,
        "start_time": "2023-04-03T16:13:44.069Z"
      },
      {
        "duration": 52,
        "start_time": "2023-04-03T16:14:18.294Z"
      },
      {
        "duration": 38,
        "start_time": "2023-04-03T16:14:37.605Z"
      },
      {
        "duration": 36,
        "start_time": "2023-04-03T16:14:41.292Z"
      },
      {
        "duration": 35,
        "start_time": "2023-04-03T16:14:44.396Z"
      },
      {
        "duration": 38,
        "start_time": "2023-04-03T16:14:46.268Z"
      },
      {
        "duration": 35,
        "start_time": "2023-04-03T16:14:48.637Z"
      },
      {
        "duration": 36,
        "start_time": "2023-04-03T16:14:51.781Z"
      },
      {
        "duration": 53,
        "start_time": "2023-04-03T16:15:17.028Z"
      },
      {
        "duration": 37,
        "start_time": "2023-04-03T16:15:59.497Z"
      },
      {
        "duration": 36,
        "start_time": "2023-04-03T16:16:01.204Z"
      },
      {
        "duration": 35,
        "start_time": "2023-04-03T16:16:02.996Z"
      },
      {
        "duration": 34,
        "start_time": "2023-04-03T16:16:04.429Z"
      },
      {
        "duration": 54,
        "start_time": "2023-04-03T16:16:26.696Z"
      },
      {
        "duration": 49,
        "start_time": "2023-04-03T16:16:43.356Z"
      },
      {
        "duration": 9,
        "start_time": "2023-04-03T16:17:39.827Z"
      },
      {
        "duration": 51,
        "start_time": "2023-04-03T16:18:46.019Z"
      },
      {
        "duration": 73,
        "start_time": "2023-04-03T16:21:12.689Z"
      },
      {
        "duration": 6,
        "start_time": "2023-04-03T16:26:39.727Z"
      },
      {
        "duration": 2,
        "start_time": "2023-04-03T16:27:08.447Z"
      },
      {
        "duration": 3,
        "start_time": "2023-04-03T16:27:11.223Z"
      },
      {
        "duration": 8,
        "start_time": "2023-04-03T16:27:11.510Z"
      },
      {
        "duration": 5,
        "start_time": "2023-04-03T16:27:59.655Z"
      },
      {
        "duration": 4,
        "start_time": "2023-04-03T16:28:08.110Z"
      },
      {
        "duration": 9,
        "start_time": "2023-04-03T16:28:08.791Z"
      },
      {
        "duration": 5,
        "start_time": "2023-04-03T16:28:09.245Z"
      },
      {
        "duration": 6,
        "start_time": "2023-04-03T16:28:10.949Z"
      },
      {
        "duration": 3,
        "start_time": "2023-04-03T16:33:26.568Z"
      },
      {
        "duration": 15,
        "start_time": "2023-04-03T16:33:32.079Z"
      },
      {
        "duration": 14,
        "start_time": "2023-04-03T16:33:34.692Z"
      },
      {
        "duration": 16,
        "start_time": "2023-04-03T16:33:59.741Z"
      },
      {
        "duration": 4,
        "start_time": "2023-04-03T16:34:06.948Z"
      },
      {
        "duration": 4,
        "start_time": "2023-04-03T16:34:15.879Z"
      },
      {
        "duration": 17,
        "start_time": "2023-04-03T18:31:37.150Z"
      },
      {
        "duration": 16,
        "start_time": "2023-04-03T18:31:57.053Z"
      },
      {
        "duration": 88,
        "start_time": "2023-04-03T18:33:25.666Z"
      },
      {
        "duration": 3,
        "start_time": "2023-04-03T18:33:40.517Z"
      },
      {
        "duration": 3,
        "start_time": "2023-04-03T18:33:54.331Z"
      },
      {
        "duration": 3,
        "start_time": "2023-04-03T18:33:56.235Z"
      },
      {
        "duration": 2,
        "start_time": "2023-04-03T18:34:00.116Z"
      },
      {
        "duration": 28,
        "start_time": "2023-04-03T18:34:11.942Z"
      },
      {
        "duration": 25,
        "start_time": "2023-04-03T18:34:25.123Z"
      },
      {
        "duration": 3,
        "start_time": "2023-04-03T18:34:28.420Z"
      },
      {
        "duration": 3,
        "start_time": "2023-04-03T18:34:28.698Z"
      },
      {
        "duration": 6,
        "start_time": "2023-04-03T18:34:29.207Z"
      },
      {
        "duration": 13,
        "start_time": "2023-04-03T18:34:31.119Z"
      },
      {
        "duration": 15,
        "start_time": "2023-04-03T18:34:33.117Z"
      },
      {
        "duration": 15,
        "start_time": "2023-04-03T18:34:35.300Z"
      },
      {
        "duration": 82,
        "start_time": "2023-04-03T18:35:38.416Z"
      },
      {
        "duration": 5,
        "start_time": "2023-04-03T18:36:22.700Z"
      },
      {
        "duration": 4,
        "start_time": "2023-04-03T18:36:28.061Z"
      },
      {
        "duration": 12,
        "start_time": "2023-04-03T18:38:12.704Z"
      },
      {
        "duration": 16,
        "start_time": "2023-04-03T18:38:20.027Z"
      },
      {
        "duration": 3,
        "start_time": "2023-04-03T18:38:27.547Z"
      },
      {
        "duration": 19,
        "start_time": "2023-04-03T18:49:33.023Z"
      },
      {
        "duration": 16,
        "start_time": "2023-04-03T18:50:05.684Z"
      },
      {
        "duration": 11,
        "start_time": "2023-04-03T18:51:13.318Z"
      },
      {
        "duration": 6,
        "start_time": "2023-04-03T18:51:15.549Z"
      },
      {
        "duration": 15,
        "start_time": "2023-04-03T18:51:21.958Z"
      },
      {
        "duration": 16,
        "start_time": "2023-04-03T18:52:20.980Z"
      },
      {
        "duration": 14,
        "start_time": "2023-04-03T18:52:37.484Z"
      },
      {
        "duration": 14,
        "start_time": "2023-04-03T18:56:29.794Z"
      },
      {
        "duration": 16979,
        "start_time": "2023-04-05T08:42:18.018Z"
      },
      {
        "duration": 214,
        "start_time": "2023-04-05T08:42:38.432Z"
      },
      {
        "duration": 3,
        "start_time": "2023-04-05T08:42:47.943Z"
      },
      {
        "duration": 4,
        "start_time": "2023-04-05T09:26:44.738Z"
      },
      {
        "duration": 2,
        "start_time": "2023-04-05T09:26:45.490Z"
      },
      {
        "duration": 16,
        "start_time": "2023-04-05T09:26:45.914Z"
      },
      {
        "duration": 90,
        "start_time": "2023-04-05T09:26:46.274Z"
      },
      {
        "duration": 14,
        "start_time": "2023-04-05T09:26:46.555Z"
      },
      {
        "duration": 4,
        "start_time": "2023-04-05T09:26:46.873Z"
      },
      {
        "duration": 32,
        "start_time": "2023-04-05T09:26:47.179Z"
      },
      {
        "duration": 77,
        "start_time": "2023-04-05T09:26:47.443Z"
      },
      {
        "duration": 5,
        "start_time": "2023-04-05T09:26:47.619Z"
      },
      {
        "duration": 3,
        "start_time": "2023-04-05T09:26:47.787Z"
      },
      {
        "duration": 4,
        "start_time": "2023-04-05T09:26:47.972Z"
      },
      {
        "duration": 4,
        "start_time": "2023-04-05T09:26:48.203Z"
      },
      {
        "duration": 4,
        "start_time": "2023-04-05T09:26:48.401Z"
      },
      {
        "duration": 19,
        "start_time": "2023-04-05T09:26:48.930Z"
      },
      {
        "duration": 4,
        "start_time": "2023-04-05T09:26:50.068Z"
      },
      {
        "duration": 4,
        "start_time": "2023-04-05T09:26:53.409Z"
      },
      {
        "duration": 3,
        "start_time": "2023-04-05T09:26:53.746Z"
      },
      {
        "duration": 4,
        "start_time": "2023-04-05T09:26:54.107Z"
      },
      {
        "duration": 3,
        "start_time": "2023-04-05T09:26:55.099Z"
      },
      {
        "duration": 4,
        "start_time": "2023-04-05T09:26:55.890Z"
      },
      {
        "duration": 8,
        "start_time": "2023-04-05T09:26:56.106Z"
      },
      {
        "duration": 130,
        "start_time": "2023-04-05T09:26:57.938Z"
      },
      {
        "duration": 72,
        "start_time": "2023-04-05T09:27:05.419Z"
      },
      {
        "duration": 3,
        "start_time": "2023-04-05T09:27:17.386Z"
      },
      {
        "duration": 4,
        "start_time": "2023-04-05T09:27:17.786Z"
      },
      {
        "duration": 3,
        "start_time": "2023-04-05T09:27:18.833Z"
      },
      {
        "duration": 4,
        "start_time": "2023-04-05T09:27:19.594Z"
      },
      {
        "duration": 3,
        "start_time": "2023-04-05T09:27:23.106Z"
      },
      {
        "duration": 4,
        "start_time": "2023-04-05T09:27:23.242Z"
      },
      {
        "duration": 3,
        "start_time": "2023-04-05T09:27:24.082Z"
      },
      {
        "duration": 7,
        "start_time": "2023-04-05T09:27:24.450Z"
      },
      {
        "duration": 3,
        "start_time": "2023-04-05T09:27:25.794Z"
      },
      {
        "duration": 4,
        "start_time": "2023-04-05T09:27:26.794Z"
      },
      {
        "duration": 10,
        "start_time": "2023-04-05T09:27:28.033Z"
      },
      {
        "duration": 6,
        "start_time": "2023-04-05T09:27:28.409Z"
      },
      {
        "duration": 3,
        "start_time": "2023-04-05T09:27:31.401Z"
      },
      {
        "duration": 3,
        "start_time": "2023-04-05T09:27:31.586Z"
      },
      {
        "duration": 6,
        "start_time": "2023-04-05T09:27:31.842Z"
      },
      {
        "duration": 18,
        "start_time": "2023-04-05T09:27:32.138Z"
      },
      {
        "duration": 4,
        "start_time": "2023-04-05T09:27:33.411Z"
      },
      {
        "duration": 14,
        "start_time": "2023-04-05T09:27:38.954Z"
      },
      {
        "duration": 5,
        "start_time": "2023-04-05T09:27:41.993Z"
      },
      {
        "duration": 4,
        "start_time": "2023-04-05T09:27:53.529Z"
      },
      {
        "duration": 19,
        "start_time": "2023-04-05T09:27:58.227Z"
      },
      {
        "duration": 5,
        "start_time": "2023-04-05T09:28:05.153Z"
      },
      {
        "duration": 4,
        "start_time": "2023-04-05T09:28:37.857Z"
      },
      {
        "duration": 4,
        "start_time": "2023-04-05T09:28:40.570Z"
      },
      {
        "duration": 4,
        "start_time": "2023-04-05T09:28:43.057Z"
      },
      {
        "duration": 4,
        "start_time": "2023-04-05T09:28:47.681Z"
      },
      {
        "duration": 12,
        "start_time": "2023-04-05T09:28:50.537Z"
      },
      {
        "duration": 4,
        "start_time": "2023-04-05T09:28:57.153Z"
      },
      {
        "duration": 50,
        "start_time": "2023-04-05T09:28:59.898Z"
      },
      {
        "duration": 4,
        "start_time": "2023-04-05T09:29:05.729Z"
      },
      {
        "duration": 14,
        "start_time": "2023-04-05T09:29:08.289Z"
      },
      {
        "duration": 5,
        "start_time": "2023-04-05T09:29:21.657Z"
      },
      {
        "duration": 4,
        "start_time": "2023-04-05T09:29:32.105Z"
      },
      {
        "duration": 5,
        "start_time": "2023-04-05T09:29:51.136Z"
      },
      {
        "duration": 6,
        "start_time": "2023-04-05T09:29:58.586Z"
      },
      {
        "duration": 4,
        "start_time": "2023-04-05T09:30:02.697Z"
      },
      {
        "duration": 21,
        "start_time": "2023-04-05T09:33:06.983Z"
      },
      {
        "duration": 18,
        "start_time": "2023-04-05T09:33:18.790Z"
      },
      {
        "duration": 17,
        "start_time": "2023-04-05T09:34:12.376Z"
      },
      {
        "duration": 14,
        "start_time": "2023-04-05T09:34:26.286Z"
      },
      {
        "duration": 15,
        "start_time": "2023-04-05T09:34:31.575Z"
      },
      {
        "duration": 33,
        "start_time": "2023-04-05T10:39:42.723Z"
      },
      {
        "duration": 34,
        "start_time": "2023-04-05T10:39:56.868Z"
      },
      {
        "duration": 15,
        "start_time": "2023-04-05T10:42:43.083Z"
      },
      {
        "duration": 5,
        "start_time": "2023-04-05T10:42:46.965Z"
      },
      {
        "duration": 22,
        "start_time": "2023-04-05T10:43:09.427Z"
      },
      {
        "duration": 14,
        "start_time": "2023-04-05T10:43:15.769Z"
      },
      {
        "duration": 16,
        "start_time": "2023-04-05T10:43:23.619Z"
      },
      {
        "duration": 4,
        "start_time": "2023-04-05T10:43:28.490Z"
      },
      {
        "duration": 5,
        "start_time": "2023-04-05T10:43:41.927Z"
      },
      {
        "duration": 14,
        "start_time": "2023-04-05T10:43:48.739Z"
      },
      {
        "duration": 22,
        "start_time": "2023-04-05T10:43:55.777Z"
      },
      {
        "duration": 4,
        "start_time": "2023-04-05T10:44:07.143Z"
      },
      {
        "duration": 4,
        "start_time": "2023-04-05T10:44:20.028Z"
      },
      {
        "duration": 18,
        "start_time": "2023-04-05T10:44:22.673Z"
      },
      {
        "duration": 5,
        "start_time": "2023-04-05T10:44:24.915Z"
      },
      {
        "duration": 16,
        "start_time": "2023-04-05T10:44:31.856Z"
      },
      {
        "duration": 19,
        "start_time": "2023-04-05T10:44:35.577Z"
      },
      {
        "duration": 16,
        "start_time": "2023-04-05T10:44:49.223Z"
      },
      {
        "duration": 5,
        "start_time": "2023-04-05T10:44:55.839Z"
      },
      {
        "duration": 15,
        "start_time": "2023-04-05T10:45:04.944Z"
      },
      {
        "duration": 15,
        "start_time": "2023-04-05T10:45:08.265Z"
      },
      {
        "duration": 5,
        "start_time": "2023-04-05T10:45:11.255Z"
      },
      {
        "duration": 14,
        "start_time": "2023-04-05T10:46:06.444Z"
      },
      {
        "duration": 34,
        "start_time": "2023-04-05T10:46:08.368Z"
      },
      {
        "duration": 3,
        "start_time": "2023-04-05T10:46:23.176Z"
      },
      {
        "duration": 401,
        "start_time": "2023-04-05T10:47:53.560Z"
      },
      {
        "duration": 15,
        "start_time": "2023-04-05T10:48:03.733Z"
      },
      {
        "duration": 4,
        "start_time": "2023-04-05T10:48:12.323Z"
      },
      {
        "duration": 4,
        "start_time": "2023-04-05T10:48:25.343Z"
      },
      {
        "duration": 3,
        "start_time": "2023-04-05T10:48:28.575Z"
      },
      {
        "duration": 3,
        "start_time": "2023-04-05T10:48:30.064Z"
      },
      {
        "duration": 15,
        "start_time": "2023-04-05T10:48:30.656Z"
      },
      {
        "duration": 2662,
        "start_time": "2023-04-05T10:48:50.334Z"
      },
      {
        "duration": 2655,
        "start_time": "2023-04-05T10:48:52.998Z"
      },
      {
        "duration": 2,
        "start_time": "2023-04-05T10:48:55.655Z"
      },
      {
        "duration": 33,
        "start_time": "2023-04-05T10:48:55.660Z"
      },
      {
        "duration": 18,
        "start_time": "2023-04-05T10:48:55.696Z"
      },
      {
        "duration": 62,
        "start_time": "2023-04-05T10:48:55.716Z"
      },
      {
        "duration": 17,
        "start_time": "2023-04-05T10:48:55.780Z"
      },
      {
        "duration": 4,
        "start_time": "2023-04-05T10:48:55.799Z"
      },
      {
        "duration": 44,
        "start_time": "2023-04-05T10:48:55.805Z"
      },
      {
        "duration": 92,
        "start_time": "2023-04-05T10:48:55.852Z"
      },
      {
        "duration": 4,
        "start_time": "2023-04-05T10:48:55.945Z"
      },
      {
        "duration": 15,
        "start_time": "2023-04-05T10:48:55.951Z"
      },
      {
        "duration": 51,
        "start_time": "2023-04-05T10:48:55.968Z"
      },
      {
        "duration": 13,
        "start_time": "2023-04-05T10:48:56.021Z"
      },
      {
        "duration": 36,
        "start_time": "2023-04-05T10:48:56.036Z"
      },
      {
        "duration": 38,
        "start_time": "2023-04-05T10:48:56.074Z"
      },
      {
        "duration": 5,
        "start_time": "2023-04-05T10:48:56.114Z"
      },
      {
        "duration": 39,
        "start_time": "2023-04-05T10:48:56.121Z"
      },
      {
        "duration": 26,
        "start_time": "2023-04-05T10:48:56.162Z"
      },
      {
        "duration": 15,
        "start_time": "2023-04-05T10:48:56.190Z"
      },
      {
        "duration": 25,
        "start_time": "2023-04-05T10:48:56.207Z"
      },
      {
        "duration": 46,
        "start_time": "2023-04-05T10:48:56.233Z"
      },
      {
        "duration": 35,
        "start_time": "2023-04-05T10:48:56.280Z"
      },
      {
        "duration": 131,
        "start_time": "2023-04-05T10:48:56.317Z"
      },
      {
        "duration": 3,
        "start_time": "2023-04-05T10:48:56.450Z"
      },
      {
        "duration": 39,
        "start_time": "2023-04-05T10:48:56.455Z"
      },
      {
        "duration": 56,
        "start_time": "2023-04-05T10:48:56.496Z"
      },
      {
        "duration": 22,
        "start_time": "2023-04-05T10:48:56.556Z"
      },
      {
        "duration": 33,
        "start_time": "2023-04-05T10:48:56.580Z"
      },
      {
        "duration": 14,
        "start_time": "2023-04-05T10:48:56.615Z"
      },
      {
        "duration": 26,
        "start_time": "2023-04-05T10:48:56.631Z"
      },
      {
        "duration": 26,
        "start_time": "2023-04-05T10:48:56.659Z"
      },
      {
        "duration": 21,
        "start_time": "2023-04-05T10:48:56.687Z"
      },
      {
        "duration": 19,
        "start_time": "2023-04-05T10:48:56.710Z"
      },
      {
        "duration": 31,
        "start_time": "2023-04-05T10:48:56.731Z"
      },
      {
        "duration": 30,
        "start_time": "2023-04-05T10:48:56.764Z"
      },
      {
        "duration": 27,
        "start_time": "2023-04-05T10:48:56.796Z"
      },
      {
        "duration": 213,
        "start_time": "2023-04-05T10:48:56.825Z"
      },
      {
        "duration": 0,
        "start_time": "2023-04-05T10:48:57.040Z"
      },
      {
        "duration": 0,
        "start_time": "2023-04-05T10:48:57.042Z"
      },
      {
        "duration": 0,
        "start_time": "2023-04-05T10:48:57.044Z"
      },
      {
        "duration": 0,
        "start_time": "2023-04-05T10:48:57.045Z"
      },
      {
        "duration": 0,
        "start_time": "2023-04-05T10:48:57.047Z"
      },
      {
        "duration": 0,
        "start_time": "2023-04-05T10:48:57.048Z"
      },
      {
        "duration": 0,
        "start_time": "2023-04-05T10:48:57.050Z"
      },
      {
        "duration": 0,
        "start_time": "2023-04-05T10:48:57.051Z"
      },
      {
        "duration": 0,
        "start_time": "2023-04-05T10:48:57.052Z"
      },
      {
        "duration": 4,
        "start_time": "2023-04-05T10:49:44.125Z"
      },
      {
        "duration": 7,
        "start_time": "2023-04-05T10:49:44.527Z"
      },
      {
        "duration": 26,
        "start_time": "2023-04-05T10:49:44.823Z"
      },
      {
        "duration": 13,
        "start_time": "2023-04-05T10:49:45.186Z"
      },
      {
        "duration": 3,
        "start_time": "2023-04-05T10:49:59.135Z"
      },
      {
        "duration": 4,
        "start_time": "2023-04-05T10:49:59.743Z"
      },
      {
        "duration": 44,
        "start_time": "2023-04-05T10:50:01.407Z"
      },
      {
        "duration": 2748,
        "start_time": "2023-04-05T10:50:25.838Z"
      },
      {
        "duration": 2689,
        "start_time": "2023-04-05T10:50:28.589Z"
      },
      {
        "duration": 3,
        "start_time": "2023-04-05T10:50:31.280Z"
      },
      {
        "duration": 59,
        "start_time": "2023-04-05T10:50:31.285Z"
      },
      {
        "duration": 51,
        "start_time": "2023-04-05T10:50:31.347Z"
      },
      {
        "duration": 127,
        "start_time": "2023-04-05T10:50:31.400Z"
      },
      {
        "duration": 50,
        "start_time": "2023-04-05T10:50:31.529Z"
      },
      {
        "duration": 74,
        "start_time": "2023-04-05T10:50:31.581Z"
      },
      {
        "duration": 85,
        "start_time": "2023-04-05T10:50:31.657Z"
      },
      {
        "duration": 105,
        "start_time": "2023-04-05T10:50:31.744Z"
      },
      {
        "duration": 5,
        "start_time": "2023-04-05T10:50:31.851Z"
      },
      {
        "duration": 46,
        "start_time": "2023-04-05T10:50:31.857Z"
      },
      {
        "duration": 54,
        "start_time": "2023-04-05T10:50:31.905Z"
      },
      {
        "duration": 26,
        "start_time": "2023-04-05T10:50:31.965Z"
      },
      {
        "duration": 32,
        "start_time": "2023-04-05T10:50:31.993Z"
      },
      {
        "duration": 55,
        "start_time": "2023-04-05T10:50:32.027Z"
      },
      {
        "duration": 41,
        "start_time": "2023-04-05T10:50:32.084Z"
      },
      {
        "duration": 45,
        "start_time": "2023-04-05T10:50:32.127Z"
      },
      {
        "duration": 32,
        "start_time": "2023-04-05T10:50:32.174Z"
      },
      {
        "duration": 34,
        "start_time": "2023-04-05T10:50:32.208Z"
      },
      {
        "duration": 49,
        "start_time": "2023-04-05T10:50:32.244Z"
      },
      {
        "duration": 58,
        "start_time": "2023-04-05T10:50:32.295Z"
      },
      {
        "duration": 56,
        "start_time": "2023-04-05T10:50:32.355Z"
      },
      {
        "duration": 193,
        "start_time": "2023-04-05T10:50:32.413Z"
      },
      {
        "duration": 11,
        "start_time": "2023-04-05T10:50:32.608Z"
      },
      {
        "duration": 43,
        "start_time": "2023-04-05T10:50:32.621Z"
      },
      {
        "duration": 48,
        "start_time": "2023-04-05T10:50:32.666Z"
      },
      {
        "duration": 22,
        "start_time": "2023-04-05T10:50:32.716Z"
      },
      {
        "duration": 28,
        "start_time": "2023-04-05T10:50:32.740Z"
      },
      {
        "duration": 25,
        "start_time": "2023-04-05T10:50:32.770Z"
      },
      {
        "duration": 24,
        "start_time": "2023-04-05T10:50:32.797Z"
      },
      {
        "duration": 32,
        "start_time": "2023-04-05T10:50:32.823Z"
      },
      {
        "duration": 17,
        "start_time": "2023-04-05T10:50:32.857Z"
      },
      {
        "duration": 14,
        "start_time": "2023-04-05T10:50:32.876Z"
      },
      {
        "duration": 24,
        "start_time": "2023-04-05T10:50:32.893Z"
      },
      {
        "duration": 11,
        "start_time": "2023-04-05T10:50:32.920Z"
      },
      {
        "duration": 23,
        "start_time": "2023-04-05T10:50:32.933Z"
      },
      {
        "duration": 226,
        "start_time": "2023-04-05T10:50:32.959Z"
      },
      {
        "duration": 0,
        "start_time": "2023-04-05T10:50:33.187Z"
      },
      {
        "duration": 0,
        "start_time": "2023-04-05T10:50:33.189Z"
      },
      {
        "duration": 0,
        "start_time": "2023-04-05T10:50:33.190Z"
      },
      {
        "duration": 0,
        "start_time": "2023-04-05T10:50:33.192Z"
      },
      {
        "duration": 0,
        "start_time": "2023-04-05T10:50:33.193Z"
      },
      {
        "duration": 0,
        "start_time": "2023-04-05T10:50:33.195Z"
      },
      {
        "duration": 0,
        "start_time": "2023-04-05T10:50:33.196Z"
      },
      {
        "duration": 0,
        "start_time": "2023-04-05T10:50:33.197Z"
      },
      {
        "duration": 0,
        "start_time": "2023-04-05T10:50:33.198Z"
      },
      {
        "duration": 3,
        "start_time": "2023-04-05T10:52:43.006Z"
      },
      {
        "duration": 54,
        "start_time": "2023-04-05T10:53:19.413Z"
      },
      {
        "duration": 15,
        "start_time": "2023-04-05T10:53:23.367Z"
      },
      {
        "duration": 3,
        "start_time": "2023-04-05T10:53:28.517Z"
      },
      {
        "duration": 6,
        "start_time": "2023-04-05T10:53:28.717Z"
      },
      {
        "duration": 17,
        "start_time": "2023-04-05T10:53:28.918Z"
      },
      {
        "duration": 19,
        "start_time": "2023-04-05T10:53:29.574Z"
      },
      {
        "duration": 4,
        "start_time": "2023-04-05T10:53:42.132Z"
      },
      {
        "duration": 25,
        "start_time": "2023-04-05T10:56:12.795Z"
      },
      {
        "duration": 3,
        "start_time": "2023-04-05T10:56:21.956Z"
      },
      {
        "duration": 4,
        "start_time": "2023-04-05T10:56:24.267Z"
      },
      {
        "duration": 3,
        "start_time": "2023-04-05T10:56:25.909Z"
      },
      {
        "duration": 3,
        "start_time": "2023-04-05T10:56:26.779Z"
      },
      {
        "duration": 3,
        "start_time": "2023-04-05T10:56:30.875Z"
      },
      {
        "duration": 5,
        "start_time": "2023-04-05T10:56:37.206Z"
      },
      {
        "duration": 6,
        "start_time": "2023-04-05T10:56:39.332Z"
      },
      {
        "duration": 4,
        "start_time": "2023-04-05T10:56:46.093Z"
      },
      {
        "duration": 4,
        "start_time": "2023-04-05T10:56:48.316Z"
      },
      {
        "duration": 25,
        "start_time": "2023-04-05T10:56:49.837Z"
      },
      {
        "duration": 41,
        "start_time": "2023-04-05T10:56:51.700Z"
      },
      {
        "duration": 15,
        "start_time": "2023-04-05T10:57:31.374Z"
      },
      {
        "duration": 31,
        "start_time": "2023-04-05T10:57:48.019Z"
      },
      {
        "duration": 17,
        "start_time": "2023-04-05T10:58:03.579Z"
      },
      {
        "duration": 5,
        "start_time": "2023-04-05T10:58:21.396Z"
      },
      {
        "duration": 30,
        "start_time": "2023-04-05T10:58:24.573Z"
      },
      {
        "duration": 4,
        "start_time": "2023-04-05T10:59:04.073Z"
      },
      {
        "duration": 3,
        "start_time": "2023-04-05T10:59:44.321Z"
      },
      {
        "duration": 5,
        "start_time": "2023-04-05T11:00:47.898Z"
      },
      {
        "duration": 5,
        "start_time": "2023-04-05T11:02:13.081Z"
      },
      {
        "duration": 5,
        "start_time": "2023-04-05T11:05:10.320Z"
      },
      {
        "duration": 24,
        "start_time": "2023-04-05T11:05:19.215Z"
      },
      {
        "duration": 4,
        "start_time": "2023-04-05T11:05:28.639Z"
      },
      {
        "duration": 5,
        "start_time": "2023-04-05T11:05:37.535Z"
      },
      {
        "duration": 5,
        "start_time": "2023-04-05T11:06:19.807Z"
      },
      {
        "duration": 4,
        "start_time": "2023-04-05T11:06:23.100Z"
      },
      {
        "duration": 4,
        "start_time": "2023-04-05T11:06:38.687Z"
      },
      {
        "duration": 5,
        "start_time": "2023-04-05T11:06:51.623Z"
      },
      {
        "duration": 4,
        "start_time": "2023-04-05T11:06:52.318Z"
      },
      {
        "duration": 4,
        "start_time": "2023-04-05T11:06:52.815Z"
      },
      {
        "duration": 4,
        "start_time": "2023-04-05T11:07:07.071Z"
      },
      {
        "duration": 4,
        "start_time": "2023-04-05T11:07:07.459Z"
      },
      {
        "duration": 4,
        "start_time": "2023-04-05T11:07:10.095Z"
      },
      {
        "duration": 4,
        "start_time": "2023-04-05T11:07:31.177Z"
      },
      {
        "duration": 15,
        "start_time": "2023-04-05T11:07:41.735Z"
      },
      {
        "duration": 4,
        "start_time": "2023-04-05T11:07:44.487Z"
      },
      {
        "duration": 15,
        "start_time": "2023-04-05T11:07:58.582Z"
      },
      {
        "duration": 5,
        "start_time": "2023-04-05T11:08:03.389Z"
      },
      {
        "duration": 6,
        "start_time": "2023-04-05T11:08:06.406Z"
      },
      {
        "duration": 4,
        "start_time": "2023-04-05T11:08:07.647Z"
      },
      {
        "duration": 5,
        "start_time": "2023-04-05T11:08:13.070Z"
      },
      {
        "duration": 4,
        "start_time": "2023-04-05T11:08:13.335Z"
      },
      {
        "duration": 4,
        "start_time": "2023-04-05T11:08:13.596Z"
      },
      {
        "duration": 4,
        "start_time": "2023-04-05T11:08:19.765Z"
      },
      {
        "duration": 3,
        "start_time": "2023-04-05T11:08:24.846Z"
      },
      {
        "duration": 152,
        "start_time": "2023-04-05T11:18:07.569Z"
      },
      {
        "duration": 119,
        "start_time": "2023-04-05T11:19:45.921Z"
      },
      {
        "duration": 111,
        "start_time": "2023-04-05T11:20:03.658Z"
      },
      {
        "duration": 16,
        "start_time": "2023-04-05T11:28:25.164Z"
      },
      {
        "duration": 4,
        "start_time": "2023-04-05T11:29:03.811Z"
      },
      {
        "duration": 3,
        "start_time": "2023-04-05T11:29:50.403Z"
      },
      {
        "duration": 5,
        "start_time": "2023-04-05T11:32:23.067Z"
      },
      {
        "duration": 5,
        "start_time": "2023-04-05T11:32:56.691Z"
      },
      {
        "duration": 92,
        "start_time": "2023-04-05T16:46:21.416Z"
      },
      {
        "duration": 21,
        "start_time": "2023-04-05T16:48:01.177Z"
      },
      {
        "duration": 25,
        "start_time": "2023-04-05T16:48:07.583Z"
      },
      {
        "duration": 35,
        "start_time": "2023-04-05T16:48:46.407Z"
      },
      {
        "duration": 3,
        "start_time": "2023-04-05T16:48:57.574Z"
      },
      {
        "duration": 41,
        "start_time": "2023-04-05T16:48:58.469Z"
      },
      {
        "duration": 112,
        "start_time": "2023-04-05T16:49:40.903Z"
      },
      {
        "duration": 53,
        "start_time": "2023-04-05T16:50:57.511Z"
      },
      {
        "duration": 22,
        "start_time": "2023-04-05T16:51:07.147Z"
      },
      {
        "duration": 165,
        "start_time": "2023-04-05T16:51:11.156Z"
      },
      {
        "duration": 9,
        "start_time": "2023-04-05T16:51:27.251Z"
      },
      {
        "duration": 2,
        "start_time": "2023-04-05T16:51:28.190Z"
      },
      {
        "duration": 20,
        "start_time": "2023-04-05T16:51:28.451Z"
      },
      {
        "duration": 5,
        "start_time": "2023-04-05T16:51:28.789Z"
      },
      {
        "duration": 4,
        "start_time": "2023-04-05T16:51:29.102Z"
      },
      {
        "duration": 5,
        "start_time": "2023-04-05T16:51:29.543Z"
      },
      {
        "duration": 4,
        "start_time": "2023-04-05T16:51:29.935Z"
      },
      {
        "duration": 314,
        "start_time": "2023-04-05T16:51:30.414Z"
      },
      {
        "duration": 8877,
        "start_time": "2023-04-05T16:51:36.964Z"
      },
      {
        "duration": 24,
        "start_time": "2023-04-05T16:54:48.380Z"
      },
      {
        "duration": 42,
        "start_time": "2023-04-05T16:54:53.877Z"
      },
      {
        "duration": 27,
        "start_time": "2023-04-05T16:55:57.476Z"
      },
      {
        "duration": 9622,
        "start_time": "2023-04-05T16:56:14.141Z"
      },
      {
        "duration": 24,
        "start_time": "2023-04-05T16:59:11.115Z"
      },
      {
        "duration": 117,
        "start_time": "2023-04-06T08:10:31.956Z"
      },
      {
        "duration": 85,
        "start_time": "2023-04-06T08:11:13.633Z"
      },
      {
        "duration": 59,
        "start_time": "2023-04-06T08:11:24.362Z"
      },
      {
        "duration": 195,
        "start_time": "2023-04-06T08:11:29.932Z"
      },
      {
        "duration": 77,
        "start_time": "2023-04-06T08:11:33.314Z"
      },
      {
        "duration": 155,
        "start_time": "2023-04-06T08:11:47.002Z"
      },
      {
        "duration": 88,
        "start_time": "2023-04-06T08:12:18.220Z"
      },
      {
        "duration": 59,
        "start_time": "2023-04-06T08:12:48.893Z"
      },
      {
        "duration": 19457,
        "start_time": "2023-04-06T08:12:53.639Z"
      },
      {
        "duration": 3176,
        "start_time": "2023-04-06T08:13:13.099Z"
      },
      {
        "duration": 3,
        "start_time": "2023-04-06T08:13:16.277Z"
      },
      {
        "duration": 51,
        "start_time": "2023-04-06T08:13:16.283Z"
      },
      {
        "duration": 21,
        "start_time": "2023-04-06T08:13:16.340Z"
      },
      {
        "duration": 97,
        "start_time": "2023-04-06T08:13:16.363Z"
      },
      {
        "duration": 23,
        "start_time": "2023-04-06T08:13:16.463Z"
      },
      {
        "duration": 7,
        "start_time": "2023-04-06T08:13:16.488Z"
      },
      {
        "duration": 57,
        "start_time": "2023-04-06T08:13:16.498Z"
      },
      {
        "duration": 101,
        "start_time": "2023-04-06T08:13:16.559Z"
      },
      {
        "duration": 5,
        "start_time": "2023-04-06T08:13:16.663Z"
      },
      {
        "duration": 12,
        "start_time": "2023-04-06T08:13:16.670Z"
      },
      {
        "duration": 12,
        "start_time": "2023-04-06T08:13:16.684Z"
      },
      {
        "duration": 23,
        "start_time": "2023-04-06T08:13:16.720Z"
      },
      {
        "duration": 10,
        "start_time": "2023-04-06T08:13:16.745Z"
      },
      {
        "duration": 33,
        "start_time": "2023-04-06T08:13:16.757Z"
      },
      {
        "duration": 6,
        "start_time": "2023-04-06T08:13:16.793Z"
      },
      {
        "duration": 23,
        "start_time": "2023-04-06T08:13:16.801Z"
      },
      {
        "duration": 26,
        "start_time": "2023-04-06T08:13:16.829Z"
      },
      {
        "duration": 23,
        "start_time": "2023-04-06T08:13:16.857Z"
      },
      {
        "duration": 8,
        "start_time": "2023-04-06T08:13:16.882Z"
      },
      {
        "duration": 9,
        "start_time": "2023-04-06T08:13:16.891Z"
      },
      {
        "duration": 14,
        "start_time": "2023-04-06T08:13:16.902Z"
      },
      {
        "duration": 141,
        "start_time": "2023-04-06T08:13:16.926Z"
      },
      {
        "duration": 3,
        "start_time": "2023-04-06T08:13:17.068Z"
      },
      {
        "duration": 20,
        "start_time": "2023-04-06T08:13:17.073Z"
      },
      {
        "duration": 42,
        "start_time": "2023-04-06T08:13:17.095Z"
      },
      {
        "duration": 21,
        "start_time": "2023-04-06T08:13:17.143Z"
      },
      {
        "duration": 26,
        "start_time": "2023-04-06T08:13:17.167Z"
      },
      {
        "duration": 60,
        "start_time": "2023-04-06T08:13:17.196Z"
      },
      {
        "duration": 15,
        "start_time": "2023-04-06T08:13:17.258Z"
      },
      {
        "duration": 20,
        "start_time": "2023-04-06T08:13:17.275Z"
      },
      {
        "duration": 15,
        "start_time": "2023-04-06T08:13:17.297Z"
      },
      {
        "duration": 38,
        "start_time": "2023-04-06T08:13:17.315Z"
      },
      {
        "duration": 23,
        "start_time": "2023-04-06T08:13:17.355Z"
      },
      {
        "duration": 49,
        "start_time": "2023-04-06T08:13:17.380Z"
      },
      {
        "duration": 50,
        "start_time": "2023-04-06T08:13:17.431Z"
      },
      {
        "duration": 54,
        "start_time": "2023-04-06T08:13:17.484Z"
      },
      {
        "duration": 23,
        "start_time": "2023-04-06T08:13:17.541Z"
      },
      {
        "duration": 44,
        "start_time": "2023-04-06T08:13:17.567Z"
      },
      {
        "duration": 45,
        "start_time": "2023-04-06T08:13:17.613Z"
      },
      {
        "duration": 11,
        "start_time": "2023-04-06T08:13:17.664Z"
      },
      {
        "duration": 21,
        "start_time": "2023-04-06T08:13:17.677Z"
      },
      {
        "duration": 57,
        "start_time": "2023-04-06T08:13:17.700Z"
      },
      {
        "duration": 7,
        "start_time": "2023-04-06T08:13:17.759Z"
      },
      {
        "duration": 28,
        "start_time": "2023-04-06T08:13:17.768Z"
      },
      {
        "duration": 184,
        "start_time": "2023-04-06T08:13:17.800Z"
      },
      {
        "duration": 206,
        "start_time": "2023-04-06T08:13:20.281Z"
      },
      {
        "duration": 3,
        "start_time": "2023-04-06T08:13:20.543Z"
      },
      {
        "duration": 21,
        "start_time": "2023-04-06T08:13:20.807Z"
      },
      {
        "duration": 17,
        "start_time": "2023-04-06T08:13:39.495Z"
      },
      {
        "duration": 2,
        "start_time": "2023-04-06T08:13:46.535Z"
      },
      {
        "duration": 5,
        "start_time": "2023-04-06T08:13:47.111Z"
      },
      {
        "duration": 3,
        "start_time": "2023-04-06T08:13:47.854Z"
      },
      {
        "duration": 9,
        "start_time": "2023-04-06T08:13:48.136Z"
      },
      {
        "duration": 5,
        "start_time": "2023-04-06T08:13:57.063Z"
      },
      {
        "duration": 7,
        "start_time": "2023-04-06T08:14:02.160Z"
      },
      {
        "duration": 4,
        "start_time": "2023-04-06T08:14:02.671Z"
      },
      {
        "duration": 5,
        "start_time": "2023-04-06T08:14:02.991Z"
      },
      {
        "duration": 6,
        "start_time": "2023-04-06T08:14:03.296Z"
      },
      {
        "duration": 6,
        "start_time": "2023-04-06T08:14:03.556Z"
      },
      {
        "duration": 6,
        "start_time": "2023-04-06T08:14:03.792Z"
      },
      {
        "duration": 4,
        "start_time": "2023-04-06T08:14:04.071Z"
      },
      {
        "duration": 7970,
        "start_time": "2023-04-06T08:14:04.456Z"
      },
      {
        "duration": 55,
        "start_time": "2023-04-06T08:14:15.615Z"
      },
      {
        "duration": 7,
        "start_time": "2023-04-06T08:14:23.390Z"
      },
      {
        "duration": 27,
        "start_time": "2023-04-06T08:16:06.671Z"
      },
      {
        "duration": 719,
        "start_time": "2023-04-06T08:16:21.423Z"
      },
      {
        "duration": 69204,
        "start_time": "2023-04-06T08:16:38.132Z"
      },
      {
        "duration": 76084,
        "start_time": "2023-04-06T08:23:00.252Z"
      },
      {
        "duration": 71098,
        "start_time": "2023-04-06T08:27:15.935Z"
      },
      {
        "duration": 789,
        "start_time": "2023-04-06T08:29:16.869Z"
      },
      {
        "duration": 784,
        "start_time": "2023-04-06T08:29:43.741Z"
      },
      {
        "duration": 23,
        "start_time": "2023-04-06T08:29:53.662Z"
      },
      {
        "duration": 23335,
        "start_time": "2023-04-06T08:30:08.718Z"
      },
      {
        "duration": 7295,
        "start_time": "2023-04-06T08:32:23.250Z"
      },
      {
        "duration": 15723,
        "start_time": "2023-04-06T08:32:41.726Z"
      },
      {
        "duration": 13690,
        "start_time": "2023-04-06T08:33:00.049Z"
      },
      {
        "duration": 10248,
        "start_time": "2023-04-06T08:33:27.083Z"
      },
      {
        "duration": 0,
        "start_time": "2023-04-06T08:34:10.044Z"
      },
      {
        "duration": 9499,
        "start_time": "2023-04-06T08:34:11.164Z"
      },
      {
        "duration": 9989,
        "start_time": "2023-04-06T08:34:29.754Z"
      },
      {
        "duration": 7,
        "start_time": "2023-04-06T08:46:48.245Z"
      },
      {
        "duration": 6,
        "start_time": "2023-04-06T08:46:52.190Z"
      },
      {
        "duration": 6,
        "start_time": "2023-04-06T08:46:52.582Z"
      },
      {
        "duration": 5,
        "start_time": "2023-04-06T08:46:52.885Z"
      },
      {
        "duration": 3,
        "start_time": "2023-04-06T08:46:54.464Z"
      },
      {
        "duration": 653,
        "start_time": "2023-04-06T08:48:59.647Z"
      },
      {
        "duration": 32,
        "start_time": "2023-04-06T08:49:05.717Z"
      },
      {
        "duration": 65,
        "start_time": "2023-04-06T08:49:16.247Z"
      },
      {
        "duration": 2296,
        "start_time": "2023-04-06T08:49:34.070Z"
      },
      {
        "duration": 2081,
        "start_time": "2023-04-06T08:49:55.068Z"
      },
      {
        "duration": 9424,
        "start_time": "2023-04-06T08:50:03.708Z"
      },
      {
        "duration": 0,
        "start_time": "2023-04-06T08:52:30.777Z"
      },
      {
        "duration": 8230,
        "start_time": "2023-04-06T08:52:32.358Z"
      },
      {
        "duration": 0,
        "start_time": "2023-04-06T08:56:21.247Z"
      },
      {
        "duration": 50018,
        "start_time": "2023-04-06T08:57:43.629Z"
      },
      {
        "duration": 13964,
        "start_time": "2023-04-06T08:58:36.874Z"
      },
      {
        "duration": 106505,
        "start_time": "2023-04-06T08:58:51.631Z"
      },
      {
        "duration": 85906,
        "start_time": "2023-04-06T09:11:43.248Z"
      },
      {
        "duration": 51998,
        "start_time": "2023-04-06T09:15:34.747Z"
      },
      {
        "duration": 0,
        "start_time": "2023-04-06T09:18:54.402Z"
      },
      {
        "duration": 137504,
        "start_time": "2023-04-06T09:18:55.332Z"
      },
      {
        "duration": 9773,
        "start_time": "2023-04-06T09:23:57.987Z"
      },
      {
        "duration": 136118,
        "start_time": "2023-04-06T09:24:58.435Z"
      },
      {
        "duration": 7093,
        "start_time": "2023-04-06T09:48:20.070Z"
      },
      {
        "duration": 6501,
        "start_time": "2023-04-06T09:48:28.235Z"
      },
      {
        "duration": 0,
        "start_time": "2023-04-06T09:48:52.784Z"
      },
      {
        "duration": 8577,
        "start_time": "2023-04-06T09:48:53.702Z"
      },
      {
        "duration": 30313,
        "start_time": "2023-04-06T09:49:05.141Z"
      },
      {
        "duration": 29872,
        "start_time": "2023-04-06T10:03:11.485Z"
      },
      {
        "duration": 0,
        "start_time": "2023-04-06T10:30:30.505Z"
      },
      {
        "duration": 26332,
        "start_time": "2023-04-06T10:30:48.280Z"
      },
      {
        "duration": 2849,
        "start_time": "2023-04-06T10:31:34.760Z"
      },
      {
        "duration": 19420,
        "start_time": "2023-04-06T10:33:30.615Z"
      },
      {
        "duration": 4,
        "start_time": "2023-04-06T10:33:52.227Z"
      },
      {
        "duration": 4,
        "start_time": "2023-04-06T10:33:57.200Z"
      },
      {
        "duration": 3283,
        "start_time": "2023-04-06T10:35:05.994Z"
      },
      {
        "duration": 3443,
        "start_time": "2023-04-06T10:35:20.547Z"
      },
      {
        "duration": 3080,
        "start_time": "2023-04-06T10:35:28.593Z"
      },
      {
        "duration": 3154,
        "start_time": "2023-04-06T10:35:37.653Z"
      },
      {
        "duration": 4,
        "start_time": "2023-04-06T10:35:52.814Z"
      },
      {
        "duration": 8,
        "start_time": "2023-04-06T10:35:55.798Z"
      },
      {
        "duration": 7767,
        "start_time": "2023-04-06T10:36:00.192Z"
      },
      {
        "duration": 5,
        "start_time": "2023-04-06T10:36:09.198Z"
      },
      {
        "duration": 14458,
        "start_time": "2023-04-06T10:36:11.374Z"
      },
      {
        "duration": 17015,
        "start_time": "2023-04-06T10:36:47.411Z"
      },
      {
        "duration": 29508,
        "start_time": "2023-04-06T10:37:08.816Z"
      },
      {
        "duration": 0,
        "start_time": "2023-04-06T10:37:38.335Z"
      },
      {
        "duration": 6,
        "start_time": "2023-04-06T10:37:44.662Z"
      },
      {
        "duration": 0,
        "start_time": "2023-04-06T10:39:37.977Z"
      },
      {
        "duration": 0,
        "start_time": "2023-04-06T10:39:37.979Z"
      },
      {
        "duration": 123932,
        "start_time": "2023-04-06T10:39:38.675Z"
      },
      {
        "duration": 4,
        "start_time": "2023-04-06T10:43:01.306Z"
      },
      {
        "duration": 7,
        "start_time": "2023-04-06T10:43:11.821Z"
      },
      {
        "duration": 4,
        "start_time": "2023-04-06T10:43:33.099Z"
      },
      {
        "duration": 1070,
        "start_time": "2023-04-06T10:45:02.275Z"
      },
      {
        "duration": 0,
        "start_time": "2023-04-06T10:46:24.345Z"
      },
      {
        "duration": 57231,
        "start_time": "2023-04-06T10:46:24.652Z"
      },
      {
        "duration": 3,
        "start_time": "2023-04-06T10:47:26.571Z"
      },
      {
        "duration": 62,
        "start_time": "2023-04-06T10:47:28.274Z"
      },
      {
        "duration": 60,
        "start_time": "2023-04-06T10:48:01.454Z"
      },
      {
        "duration": 401,
        "start_time": "2023-04-06T10:50:31.712Z"
      },
      {
        "duration": 156063,
        "start_time": "2023-04-06T10:51:25.443Z"
      },
      {
        "duration": 0,
        "start_time": "2023-04-06T10:54:01.508Z"
      },
      {
        "duration": 16311,
        "start_time": "2023-04-06T10:54:02.143Z"
      },
      {
        "duration": 77338,
        "start_time": "2023-04-06T10:54:21.570Z"
      },
      {
        "duration": 0,
        "start_time": "2023-04-06T11:02:53.056Z"
      },
      {
        "duration": 0,
        "start_time": "2023-04-06T11:04:30.595Z"
      },
      {
        "duration": 0,
        "start_time": "2023-04-06T11:08:09.077Z"
      },
      {
        "duration": 0,
        "start_time": "2023-04-06T11:09:22.342Z"
      },
      {
        "duration": 4,
        "start_time": "2023-04-06T11:12:42.188Z"
      },
      {
        "duration": 11,
        "start_time": "2023-04-06T11:12:45.571Z"
      },
      {
        "duration": 11,
        "start_time": "2023-04-06T11:12:49.631Z"
      },
      {
        "duration": 27,
        "start_time": "2023-04-06T11:12:54.275Z"
      },
      {
        "duration": 20,
        "start_time": "2023-04-06T11:12:56.249Z"
      },
      {
        "duration": 38,
        "start_time": "2023-04-06T11:13:09.130Z"
      },
      {
        "duration": 38,
        "start_time": "2023-04-06T11:13:14.156Z"
      },
      {
        "duration": 91,
        "start_time": "2023-04-06T11:13:14.892Z"
      },
      {
        "duration": 24,
        "start_time": "2023-04-06T11:13:27.356Z"
      },
      {
        "duration": 213422,
        "start_time": "2023-04-06T11:13:28.151Z"
      },
      {
        "duration": 320,
        "start_time": "2023-04-06T11:21:12.144Z"
      },
      {
        "duration": 86,
        "start_time": "2023-04-06T11:21:25.215Z"
      },
      {
        "duration": 16,
        "start_time": "2023-04-06T11:21:27.077Z"
      },
      {
        "duration": 19859,
        "start_time": "2023-04-06T11:21:27.484Z"
      },
      {
        "duration": 39,
        "start_time": "2023-04-06T11:53:06.843Z"
      },
      {
        "duration": 32,
        "start_time": "2023-04-06T11:53:13.416Z"
      },
      {
        "duration": 281,
        "start_time": "2023-04-06T11:53:18.303Z"
      },
      {
        "duration": 22,
        "start_time": "2023-04-06T11:54:28.453Z"
      },
      {
        "duration": 24,
        "start_time": "2023-04-06T11:54:41.067Z"
      },
      {
        "duration": 347,
        "start_time": "2023-04-06T11:54:48.115Z"
      },
      {
        "duration": 5,
        "start_time": "2023-04-06T11:55:03.282Z"
      },
      {
        "duration": 39,
        "start_time": "2023-04-06T11:55:18.444Z"
      },
      {
        "duration": 17,
        "start_time": "2023-04-06T11:55:26.483Z"
      },
      {
        "duration": 23,
        "start_time": "2023-04-06T11:55:44.875Z"
      },
      {
        "duration": 427,
        "start_time": "2023-04-06T11:55:57.044Z"
      },
      {
        "duration": 301,
        "start_time": "2023-04-06T11:56:09.963Z"
      },
      {
        "duration": 355,
        "start_time": "2023-04-06T11:56:13.986Z"
      },
      {
        "duration": 661,
        "start_time": "2023-04-06T11:57:14.829Z"
      },
      {
        "duration": 7,
        "start_time": "2023-04-06T11:58:41.942Z"
      },
      {
        "duration": 64,
        "start_time": "2023-04-06T11:58:54.793Z"
      },
      {
        "duration": 17,
        "start_time": "2023-04-06T11:59:05.377Z"
      },
      {
        "duration": 11,
        "start_time": "2023-04-06T11:59:08.571Z"
      },
      {
        "duration": 558,
        "start_time": "2023-04-06T11:59:13.418Z"
      },
      {
        "duration": 12,
        "start_time": "2023-04-06T11:59:40.735Z"
      },
      {
        "duration": 868,
        "start_time": "2023-04-06T11:59:51.800Z"
      },
      {
        "duration": 22,
        "start_time": "2023-04-06T11:59:54.946Z"
      },
      {
        "duration": 7,
        "start_time": "2023-04-06T11:59:56.296Z"
      },
      {
        "duration": 178,
        "start_time": "2023-04-06T12:00:06.281Z"
      },
      {
        "duration": 5,
        "start_time": "2023-04-06T12:00:08.305Z"
      },
      {
        "duration": 11,
        "start_time": "2023-04-06T12:00:13.149Z"
      },
      {
        "duration": 5,
        "start_time": "2023-04-06T12:00:20.000Z"
      },
      {
        "duration": 736,
        "start_time": "2023-04-06T12:00:22.351Z"
      },
      {
        "duration": 14,
        "start_time": "2023-04-06T12:00:33.659Z"
      },
      {
        "duration": 11,
        "start_time": "2023-04-06T12:00:43.461Z"
      },
      {
        "duration": 5,
        "start_time": "2023-04-06T12:00:46.392Z"
      },
      {
        "duration": 7,
        "start_time": "2023-04-06T12:00:47.656Z"
      },
      {
        "duration": 10,
        "start_time": "2023-04-06T12:00:48.053Z"
      },
      {
        "duration": 705,
        "start_time": "2023-04-06T12:00:55.060Z"
      },
      {
        "duration": 537,
        "start_time": "2023-04-06T12:01:05.046Z"
      },
      {
        "duration": 29,
        "start_time": "2023-04-06T12:01:13.592Z"
      },
      {
        "duration": 33,
        "start_time": "2023-04-06T12:01:16.003Z"
      },
      {
        "duration": 38,
        "start_time": "2023-04-06T12:01:35.272Z"
      },
      {
        "duration": 25,
        "start_time": "2023-04-06T12:01:42.656Z"
      },
      {
        "duration": 679,
        "start_time": "2023-04-06T12:02:10.671Z"
      },
      {
        "duration": 378,
        "start_time": "2023-04-06T12:02:32.000Z"
      },
      {
        "duration": 285,
        "start_time": "2023-04-06T12:03:22.731Z"
      },
      {
        "duration": 574,
        "start_time": "2023-04-06T12:04:03.006Z"
      },
      {
        "duration": 603,
        "start_time": "2023-04-06T12:04:12.791Z"
      },
      {
        "duration": 439,
        "start_time": "2023-04-06T12:04:16.333Z"
      },
      {
        "duration": 24,
        "start_time": "2023-04-06T12:04:33.758Z"
      },
      {
        "duration": 661,
        "start_time": "2023-04-06T12:04:39.287Z"
      },
      {
        "duration": 7,
        "start_time": "2023-04-06T12:04:48.878Z"
      },
      {
        "duration": 13,
        "start_time": "2023-04-06T12:04:53.945Z"
      },
      {
        "duration": 6,
        "start_time": "2023-04-06T12:04:59.453Z"
      },
      {
        "duration": 217,
        "start_time": "2023-04-06T12:05:33.768Z"
      },
      {
        "duration": 413,
        "start_time": "2023-04-06T12:05:40.445Z"
      },
      {
        "duration": 17,
        "start_time": "2023-04-06T12:05:51.449Z"
      },
      {
        "duration": 21,
        "start_time": "2023-04-06T12:05:54.843Z"
      },
      {
        "duration": 29,
        "start_time": "2023-04-06T12:06:03.435Z"
      },
      {
        "duration": 20,
        "start_time": "2023-04-06T12:06:06.646Z"
      },
      {
        "duration": 275,
        "start_time": "2023-04-06T12:06:13.478Z"
      },
      {
        "duration": 5,
        "start_time": "2023-04-06T12:06:18.295Z"
      },
      {
        "duration": 496,
        "start_time": "2023-04-06T12:06:28.999Z"
      },
      {
        "duration": 298,
        "start_time": "2023-04-06T12:06:39.686Z"
      },
      {
        "duration": 317,
        "start_time": "2023-04-06T12:06:44.799Z"
      },
      {
        "duration": 298,
        "start_time": "2023-04-06T12:08:28.486Z"
      },
      {
        "duration": 253,
        "start_time": "2023-04-06T12:09:25.544Z"
      },
      {
        "duration": 293,
        "start_time": "2023-04-06T12:10:00.176Z"
      },
      {
        "duration": 354,
        "start_time": "2023-04-06T12:10:02.354Z"
      },
      {
        "duration": 321,
        "start_time": "2023-04-06T12:10:49.459Z"
      },
      {
        "duration": 556,
        "start_time": "2023-04-06T12:10:56.415Z"
      },
      {
        "duration": 12,
        "start_time": "2023-04-06T12:12:06.539Z"
      },
      {
        "duration": 5,
        "start_time": "2023-04-06T12:12:11.311Z"
      },
      {
        "duration": 37,
        "start_time": "2023-04-06T12:12:32.207Z"
      },
      {
        "duration": 6,
        "start_time": "2023-04-06T12:12:39.671Z"
      },
      {
        "duration": 17,
        "start_time": "2023-04-06T12:12:47.295Z"
      },
      {
        "duration": 6,
        "start_time": "2023-04-06T12:12:51.662Z"
      },
      {
        "duration": 286,
        "start_time": "2023-04-06T12:14:00.664Z"
      },
      {
        "duration": 372,
        "start_time": "2023-04-06T12:14:15.541Z"
      },
      {
        "duration": 31879,
        "start_time": "2023-04-06T12:17:31.151Z"
      },
      {
        "duration": 36104,
        "start_time": "2023-04-06T12:18:04.254Z"
      },
      {
        "duration": 386,
        "start_time": "2023-04-06T12:18:43.262Z"
      },
      {
        "duration": 14,
        "start_time": "2023-04-06T12:18:59.069Z"
      },
      {
        "duration": 4,
        "start_time": "2023-04-06T12:19:00.966Z"
      },
      {
        "duration": 11,
        "start_time": "2023-04-06T12:20:20.509Z"
      },
      {
        "duration": 145848,
        "start_time": "2023-04-06T12:20:24.692Z"
      },
      {
        "duration": 62,
        "start_time": "2023-04-06T12:24:54.612Z"
      },
      {
        "duration": 11,
        "start_time": "2023-04-06T12:25:01.900Z"
      },
      {
        "duration": 152944,
        "start_time": "2023-04-06T12:25:03.499Z"
      },
      {
        "duration": 359753,
        "start_time": "2023-04-06T12:28:55.359Z"
      },
      {
        "duration": 325925,
        "start_time": "2023-04-06T12:40:36.459Z"
      },
      {
        "duration": 0,
        "start_time": "2023-04-06T12:51:50.732Z"
      },
      {
        "duration": 0,
        "start_time": "2023-04-06T12:52:57.512Z"
      },
      {
        "duration": 120912,
        "start_time": "2023-04-06T12:52:58.852Z"
      },
      {
        "duration": 0,
        "start_time": "2023-04-06T12:54:59.765Z"
      },
      {
        "duration": 122688,
        "start_time": "2023-04-06T12:55:00.767Z"
      },
      {
        "duration": 42,
        "start_time": "2023-04-06T12:58:20.482Z"
      },
      {
        "duration": 25761,
        "start_time": "2023-04-06T12:58:29.906Z"
      },
      {
        "duration": 326416,
        "start_time": "2023-04-06T12:58:56.592Z"
      },
      {
        "duration": 144693,
        "start_time": "2023-04-06T13:11:56.697Z"
      },
      {
        "duration": 6915,
        "start_time": "2023-04-06T13:14:21.391Z"
      },
      {
        "duration": 0,
        "start_time": "2023-04-06T13:14:28.307Z"
      },
      {
        "duration": 0,
        "start_time": "2023-04-06T13:14:28.309Z"
      },
      {
        "duration": 0,
        "start_time": "2023-04-06T13:14:28.323Z"
      },
      {
        "duration": 36376,
        "start_time": "2023-04-06T13:14:29.176Z"
      },
      {
        "duration": 0,
        "start_time": "2023-04-06T13:15:05.554Z"
      },
      {
        "duration": 277053,
        "start_time": "2023-04-06T13:15:21.756Z"
      },
      {
        "duration": 321470,
        "start_time": "2023-04-06T13:35:02.494Z"
      },
      {
        "duration": 0,
        "start_time": "2023-04-06T14:08:18.449Z"
      },
      {
        "duration": 588206,
        "start_time": "2023-04-06T14:08:19.295Z"
      },
      {
        "duration": 0,
        "start_time": "2023-04-06T14:18:07.502Z"
      },
      {
        "duration": 0,
        "start_time": "2023-04-06T14:25:04.271Z"
      },
      {
        "duration": 80485,
        "start_time": "2023-04-06T14:25:07.420Z"
      },
      {
        "duration": 5,
        "start_time": "2023-04-06T14:26:45.348Z"
      },
      {
        "duration": 277643,
        "start_time": "2023-04-06T14:28:03.267Z"
      },
      {
        "duration": 283,
        "start_time": "2023-04-06T14:32:40.912Z"
      },
      {
        "duration": 30,
        "start_time": "2023-04-06T14:32:41.251Z"
      },
      {
        "duration": 349,
        "start_time": "2023-04-06T14:34:13.704Z"
      },
      {
        "duration": 294,
        "start_time": "2023-04-06T14:35:31.376Z"
      },
      {
        "duration": 153114,
        "start_time": "2023-04-06T14:35:46.152Z"
      },
      {
        "duration": 0,
        "start_time": "2023-04-06T14:38:19.268Z"
      },
      {
        "duration": 56653,
        "start_time": "2023-04-06T14:38:20.280Z"
      },
      {
        "duration": 89015,
        "start_time": "2023-04-06T14:39:20.704Z"
      },
      {
        "duration": 67483,
        "start_time": "2023-04-06T14:40:50.643Z"
      },
      {
        "duration": 310031,
        "start_time": "2023-04-06T14:42:04.111Z"
      },
      {
        "duration": 4,
        "start_time": "2023-04-06T14:47:56.909Z"
      },
      {
        "duration": 299,
        "start_time": "2023-04-06T14:48:45.654Z"
      },
      {
        "duration": 219,
        "start_time": "2023-04-06T14:49:11.397Z"
      },
      {
        "duration": 233,
        "start_time": "2023-04-06T14:49:14.757Z"
      },
      {
        "duration": 4,
        "start_time": "2023-04-06T14:49:46.599Z"
      },
      {
        "duration": 2962,
        "start_time": "2023-04-06T14:49:46.604Z"
      },
      {
        "duration": 3,
        "start_time": "2023-04-06T14:49:49.568Z"
      },
      {
        "duration": 27,
        "start_time": "2023-04-06T14:49:49.573Z"
      },
      {
        "duration": 49,
        "start_time": "2023-04-06T14:49:49.603Z"
      },
      {
        "duration": 60,
        "start_time": "2023-04-06T14:49:49.654Z"
      },
      {
        "duration": 24,
        "start_time": "2023-04-06T14:49:49.716Z"
      },
      {
        "duration": 31,
        "start_time": "2023-04-06T14:49:49.743Z"
      },
      {
        "duration": 63,
        "start_time": "2023-04-06T14:49:49.777Z"
      },
      {
        "duration": 106,
        "start_time": "2023-04-06T14:49:49.843Z"
      },
      {
        "duration": 5,
        "start_time": "2023-04-06T14:49:49.951Z"
      },
      {
        "duration": 37,
        "start_time": "2023-04-06T14:49:49.958Z"
      },
      {
        "duration": 15,
        "start_time": "2023-04-06T14:49:49.999Z"
      },
      {
        "duration": 46,
        "start_time": "2023-04-06T14:49:50.015Z"
      },
      {
        "duration": 30,
        "start_time": "2023-04-06T14:49:50.062Z"
      },
      {
        "duration": 49,
        "start_time": "2023-04-06T14:49:50.094Z"
      },
      {
        "duration": 22,
        "start_time": "2023-04-06T14:49:50.145Z"
      },
      {
        "duration": 21,
        "start_time": "2023-04-06T14:49:50.170Z"
      },
      {
        "duration": 35,
        "start_time": "2023-04-06T14:49:50.194Z"
      },
      {
        "duration": 44,
        "start_time": "2023-04-06T14:49:50.237Z"
      },
      {
        "duration": 10,
        "start_time": "2023-04-06T14:49:50.283Z"
      },
      {
        "duration": 15,
        "start_time": "2023-04-06T14:49:50.295Z"
      },
      {
        "duration": 47,
        "start_time": "2023-04-06T14:49:50.311Z"
      },
      {
        "duration": 69,
        "start_time": "2023-04-06T14:49:50.363Z"
      },
      {
        "duration": 18,
        "start_time": "2023-04-06T14:49:50.433Z"
      },
      {
        "duration": 37,
        "start_time": "2023-04-06T14:49:50.454Z"
      },
      {
        "duration": 23,
        "start_time": "2023-04-06T14:49:50.493Z"
      },
      {
        "duration": 53,
        "start_time": "2023-04-06T14:49:50.517Z"
      },
      {
        "duration": 24,
        "start_time": "2023-04-06T14:49:50.572Z"
      },
      {
        "duration": 52,
        "start_time": "2023-04-06T14:49:50.598Z"
      },
      {
        "duration": 31,
        "start_time": "2023-04-06T14:49:50.651Z"
      },
      {
        "duration": 19,
        "start_time": "2023-04-06T14:49:50.684Z"
      },
      {
        "duration": 45,
        "start_time": "2023-04-06T14:49:50.706Z"
      },
      {
        "duration": 40,
        "start_time": "2023-04-06T14:49:50.754Z"
      },
      {
        "duration": 55,
        "start_time": "2023-04-06T14:49:50.796Z"
      },
      {
        "duration": 37,
        "start_time": "2023-04-06T14:49:50.853Z"
      },
      {
        "duration": 21,
        "start_time": "2023-04-06T14:49:50.893Z"
      },
      {
        "duration": 48,
        "start_time": "2023-04-06T14:49:50.916Z"
      },
      {
        "duration": 24,
        "start_time": "2023-04-06T14:49:50.967Z"
      },
      {
        "duration": 51,
        "start_time": "2023-04-06T14:49:50.993Z"
      },
      {
        "duration": 22,
        "start_time": "2023-04-06T14:49:51.046Z"
      },
      {
        "duration": 19,
        "start_time": "2023-04-06T14:49:51.071Z"
      },
      {
        "duration": 20,
        "start_time": "2023-04-06T14:49:51.092Z"
      },
      {
        "duration": 72,
        "start_time": "2023-04-06T14:49:51.114Z"
      },
      {
        "duration": 71,
        "start_time": "2023-04-06T14:49:51.188Z"
      },
      {
        "duration": 45,
        "start_time": "2023-04-06T14:49:51.261Z"
      },
      {
        "duration": 182,
        "start_time": "2023-04-06T14:49:51.309Z"
      },
      {
        "duration": 6,
        "start_time": "2023-04-06T14:49:51.494Z"
      },
      {
        "duration": 47,
        "start_time": "2023-04-06T14:49:51.502Z"
      },
      {
        "duration": 19,
        "start_time": "2023-04-06T14:49:51.551Z"
      },
      {
        "duration": 24,
        "start_time": "2023-04-06T14:49:51.572Z"
      },
      {
        "duration": 18,
        "start_time": "2023-04-06T14:49:51.598Z"
      },
      {
        "duration": 36,
        "start_time": "2023-04-06T14:49:51.623Z"
      },
      {
        "duration": 281,
        "start_time": "2023-04-06T14:49:51.661Z"
      },
      {
        "duration": 0,
        "start_time": "2023-04-06T14:49:51.944Z"
      },
      {
        "duration": 0,
        "start_time": "2023-04-06T14:49:51.944Z"
      },
      {
        "duration": 0,
        "start_time": "2023-04-06T14:49:51.945Z"
      },
      {
        "duration": 0,
        "start_time": "2023-04-06T14:49:51.946Z"
      },
      {
        "duration": 0,
        "start_time": "2023-04-06T14:49:51.947Z"
      },
      {
        "duration": 0,
        "start_time": "2023-04-06T14:49:51.947Z"
      },
      {
        "duration": 0,
        "start_time": "2023-04-06T14:49:51.948Z"
      },
      {
        "duration": 0,
        "start_time": "2023-04-06T14:49:51.949Z"
      },
      {
        "duration": 0,
        "start_time": "2023-04-06T14:49:51.957Z"
      },
      {
        "duration": 5,
        "start_time": "2023-04-06T14:50:08.745Z"
      },
      {
        "duration": 2980,
        "start_time": "2023-04-06T14:50:08.752Z"
      },
      {
        "duration": 3,
        "start_time": "2023-04-06T14:50:11.733Z"
      },
      {
        "duration": 21,
        "start_time": "2023-04-06T14:50:11.738Z"
      },
      {
        "duration": 19,
        "start_time": "2023-04-06T14:50:11.762Z"
      },
      {
        "duration": 39,
        "start_time": "2023-04-06T14:50:11.783Z"
      },
      {
        "duration": 28,
        "start_time": "2023-04-06T14:50:11.825Z"
      },
      {
        "duration": 14,
        "start_time": "2023-04-06T14:50:11.854Z"
      },
      {
        "duration": 38,
        "start_time": "2023-04-06T14:50:11.870Z"
      },
      {
        "duration": 80,
        "start_time": "2023-04-06T14:50:11.910Z"
      },
      {
        "duration": 33,
        "start_time": "2023-04-06T14:50:11.993Z"
      },
      {
        "duration": 40,
        "start_time": "2023-04-06T14:50:12.028Z"
      },
      {
        "duration": 15,
        "start_time": "2023-04-06T14:50:12.069Z"
      },
      {
        "duration": 10,
        "start_time": "2023-04-06T14:50:12.087Z"
      },
      {
        "duration": 20,
        "start_time": "2023-04-06T14:50:12.098Z"
      },
      {
        "duration": 44,
        "start_time": "2023-04-06T14:50:12.120Z"
      },
      {
        "duration": 4,
        "start_time": "2023-04-06T14:50:12.165Z"
      },
      {
        "duration": 9,
        "start_time": "2023-04-06T14:50:12.170Z"
      },
      {
        "duration": 19,
        "start_time": "2023-04-06T14:50:12.181Z"
      },
      {
        "duration": 15,
        "start_time": "2023-04-06T14:50:12.202Z"
      },
      {
        "duration": 43,
        "start_time": "2023-04-06T14:50:12.219Z"
      },
      {
        "duration": 15,
        "start_time": "2023-04-06T14:50:12.264Z"
      },
      {
        "duration": 26,
        "start_time": "2023-04-06T14:50:12.281Z"
      },
      {
        "duration": 90,
        "start_time": "2023-04-06T14:50:12.309Z"
      },
      {
        "duration": 4,
        "start_time": "2023-04-06T14:50:12.402Z"
      },
      {
        "duration": 44,
        "start_time": "2023-04-06T14:50:12.408Z"
      },
      {
        "duration": 22,
        "start_time": "2023-04-06T14:50:12.455Z"
      },
      {
        "duration": 18,
        "start_time": "2023-04-06T14:50:12.479Z"
      },
      {
        "duration": 18,
        "start_time": "2023-04-06T14:50:12.499Z"
      },
      {
        "duration": 5,
        "start_time": "2023-04-06T14:50:12.519Z"
      },
      {
        "duration": 5,
        "start_time": "2023-04-06T14:50:12.525Z"
      },
      {
        "duration": 36,
        "start_time": "2023-04-06T14:50:12.532Z"
      },
      {
        "duration": 33,
        "start_time": "2023-04-06T14:50:12.570Z"
      },
      {
        "duration": 49,
        "start_time": "2023-04-06T14:50:12.605Z"
      },
      {
        "duration": 15,
        "start_time": "2023-04-06T14:50:12.657Z"
      },
      {
        "duration": 29,
        "start_time": "2023-04-06T14:50:12.674Z"
      },
      {
        "duration": 63,
        "start_time": "2023-04-06T14:50:12.705Z"
      },
      {
        "duration": 12,
        "start_time": "2023-04-06T14:50:12.770Z"
      },
      {
        "duration": 17,
        "start_time": "2023-04-06T14:50:12.785Z"
      },
      {
        "duration": 74,
        "start_time": "2023-04-06T14:50:12.804Z"
      },
      {
        "duration": 25,
        "start_time": "2023-04-06T14:50:12.883Z"
      },
      {
        "duration": 44,
        "start_time": "2023-04-06T14:50:12.911Z"
      },
      {
        "duration": 12,
        "start_time": "2023-04-06T14:50:12.957Z"
      },
      {
        "duration": 24,
        "start_time": "2023-04-06T14:50:12.972Z"
      },
      {
        "duration": 18,
        "start_time": "2023-04-06T14:50:12.998Z"
      },
      {
        "duration": 64,
        "start_time": "2023-04-06T14:50:13.017Z"
      },
      {
        "duration": 156,
        "start_time": "2023-04-06T14:50:13.083Z"
      },
      {
        "duration": 6,
        "start_time": "2023-04-06T14:50:13.241Z"
      },
      {
        "duration": 19,
        "start_time": "2023-04-06T14:50:13.249Z"
      },
      {
        "duration": 17,
        "start_time": "2023-04-06T14:50:13.270Z"
      },
      {
        "duration": 20,
        "start_time": "2023-04-06T14:50:13.289Z"
      },
      {
        "duration": 37,
        "start_time": "2023-04-06T14:50:13.311Z"
      },
      {
        "duration": 14,
        "start_time": "2023-04-06T14:50:13.350Z"
      },
      {
        "duration": 6,
        "start_time": "2023-04-06T14:50:13.367Z"
      },
      {
        "duration": 18,
        "start_time": "2023-04-06T14:50:13.374Z"
      },
      {
        "duration": 17,
        "start_time": "2023-04-06T14:50:13.394Z"
      },
      {
        "duration": 43,
        "start_time": "2023-04-06T14:50:13.413Z"
      },
      {
        "duration": 6,
        "start_time": "2023-04-06T14:50:13.458Z"
      },
      {
        "duration": 9,
        "start_time": "2023-04-06T14:50:13.466Z"
      },
      {
        "duration": 16,
        "start_time": "2023-04-06T14:50:13.477Z"
      },
      {
        "duration": 12,
        "start_time": "2023-04-06T14:50:13.495Z"
      },
      {
        "duration": 262,
        "start_time": "2023-04-06T14:50:13.508Z"
      },
      {
        "duration": 77,
        "start_time": "2023-04-10T14:11:48.987Z"
      },
      {
        "duration": 1355,
        "start_time": "2023-04-10T14:29:14.865Z"
      },
      {
        "duration": 11,
        "start_time": "2023-04-10T14:29:39.074Z"
      },
      {
        "duration": 137,
        "start_time": "2023-04-10T14:48:25.583Z"
      },
      {
        "duration": 9,
        "start_time": "2023-04-10T14:48:53.065Z"
      },
      {
        "duration": 10,
        "start_time": "2023-04-10T14:48:59.532Z"
      },
      {
        "duration": 3,
        "start_time": "2023-04-10T14:49:04.796Z"
      },
      {
        "duration": 4,
        "start_time": "2023-04-10T14:49:06.997Z"
      },
      {
        "duration": 4,
        "start_time": "2023-04-10T14:49:11.709Z"
      },
      {
        "duration": 4,
        "start_time": "2023-04-10T14:49:14.500Z"
      },
      {
        "duration": 4,
        "start_time": "2023-04-10T14:49:54.373Z"
      },
      {
        "duration": 3,
        "start_time": "2023-04-10T14:51:18.427Z"
      },
      {
        "duration": 1061,
        "start_time": "2023-04-10T14:51:19.619Z"
      },
      {
        "duration": 17,
        "start_time": "2023-04-10T14:51:38.819Z"
      },
      {
        "duration": 107,
        "start_time": "2023-04-10T14:51:45.535Z"
      },
      {
        "duration": 15,
        "start_time": "2023-04-10T14:51:49.995Z"
      },
      {
        "duration": 18,
        "start_time": "2023-04-10T14:52:00.443Z"
      },
      {
        "duration": 17378,
        "start_time": "2023-04-10T14:52:25.018Z"
      },
      {
        "duration": 840,
        "start_time": "2023-04-10T14:52:42.399Z"
      },
      {
        "duration": 12,
        "start_time": "2023-04-10T14:52:47.963Z"
      },
      {
        "duration": 113,
        "start_time": "2023-04-10T14:52:50.897Z"
      },
      {
        "duration": 3,
        "start_time": "2023-04-10T14:52:58.021Z"
      },
      {
        "duration": 3,
        "start_time": "2023-04-10T14:52:58.418Z"
      },
      {
        "duration": 15,
        "start_time": "2023-04-10T14:52:58.606Z"
      },
      {
        "duration": 94,
        "start_time": "2023-04-10T14:52:58.764Z"
      },
      {
        "duration": 21,
        "start_time": "2023-04-10T14:52:59.116Z"
      },
      {
        "duration": 5,
        "start_time": "2023-04-10T14:52:59.315Z"
      },
      {
        "duration": 27,
        "start_time": "2023-04-10T14:52:59.482Z"
      },
      {
        "duration": 66,
        "start_time": "2023-04-10T14:52:59.682Z"
      },
      {
        "duration": 4,
        "start_time": "2023-04-10T14:52:59.873Z"
      },
      {
        "duration": 2,
        "start_time": "2023-04-10T14:53:00.082Z"
      },
      {
        "duration": 4,
        "start_time": "2023-04-10T14:53:00.563Z"
      },
      {
        "duration": 5,
        "start_time": "2023-04-10T14:53:00.746Z"
      },
      {
        "duration": 5,
        "start_time": "2023-04-10T14:53:01.090Z"
      },
      {
        "duration": 22,
        "start_time": "2023-04-10T14:53:01.442Z"
      },
      {
        "duration": 4,
        "start_time": "2023-04-10T14:53:03.027Z"
      },
      {
        "duration": 4,
        "start_time": "2023-04-10T14:53:03.211Z"
      },
      {
        "duration": 5,
        "start_time": "2023-04-10T14:53:03.563Z"
      },
      {
        "duration": 259,
        "start_time": "2023-04-10T14:53:03.754Z"
      },
      {
        "duration": 28,
        "start_time": "2023-04-10T14:53:04.015Z"
      },
      {
        "duration": 5,
        "start_time": "2023-04-10T14:53:04.131Z"
      },
      {
        "duration": 14,
        "start_time": "2023-04-10T14:53:04.316Z"
      },
      {
        "duration": 87,
        "start_time": "2023-04-10T14:53:06.934Z"
      },
      {
        "duration": 4,
        "start_time": "2023-04-10T14:53:07.930Z"
      },
      {
        "duration": 5,
        "start_time": "2023-04-10T14:53:08.171Z"
      },
      {
        "duration": 4,
        "start_time": "2023-04-10T14:53:08.362Z"
      },
      {
        "duration": 6,
        "start_time": "2023-04-10T14:53:08.570Z"
      },
      {
        "duration": 3,
        "start_time": "2023-04-10T14:53:09.466Z"
      },
      {
        "duration": 5,
        "start_time": "2023-04-10T14:53:09.665Z"
      },
      {
        "duration": 6,
        "start_time": "2023-04-10T14:53:10.433Z"
      },
      {
        "duration": 6,
        "start_time": "2023-04-10T14:53:11.266Z"
      },
      {
        "duration": 3,
        "start_time": "2023-04-10T14:53:11.466Z"
      },
      {
        "duration": 4,
        "start_time": "2023-04-10T14:53:11.650Z"
      },
      {
        "duration": 9,
        "start_time": "2023-04-10T14:53:11.841Z"
      },
      {
        "duration": 6,
        "start_time": "2023-04-10T14:53:12.185Z"
      },
      {
        "duration": 4,
        "start_time": "2023-04-10T14:53:12.393Z"
      },
      {
        "duration": 3,
        "start_time": "2023-04-10T14:53:13.277Z"
      },
      {
        "duration": 5,
        "start_time": "2023-04-10T14:53:13.465Z"
      },
      {
        "duration": 17,
        "start_time": "2023-04-10T14:53:13.756Z"
      },
      {
        "duration": 4,
        "start_time": "2023-04-10T14:53:14.834Z"
      },
      {
        "duration": 4,
        "start_time": "2023-04-10T14:53:15.602Z"
      },
      {
        "duration": 5,
        "start_time": "2023-04-10T14:53:15.922Z"
      },
      {
        "duration": 7611,
        "start_time": "2023-04-10T14:54:48.210Z"
      },
      {
        "duration": 6,
        "start_time": "2023-04-10T14:54:57.026Z"
      },
      {
        "duration": 3,
        "start_time": "2023-04-10T14:54:57.811Z"
      },
      {
        "duration": 2,
        "start_time": "2023-04-10T14:54:58.449Z"
      },
      {
        "duration": 10,
        "start_time": "2023-04-10T14:54:58.633Z"
      },
      {
        "duration": 31,
        "start_time": "2023-04-10T14:54:58.805Z"
      },
      {
        "duration": 11,
        "start_time": "2023-04-10T14:54:59.137Z"
      },
      {
        "duration": 5,
        "start_time": "2023-04-10T14:54:59.327Z"
      },
      {
        "duration": 35,
        "start_time": "2023-04-10T14:54:59.490Z"
      },
      {
        "duration": 75,
        "start_time": "2023-04-10T14:54:59.683Z"
      },
      {
        "duration": 5,
        "start_time": "2023-04-10T14:54:59.898Z"
      },
      {
        "duration": 2,
        "start_time": "2023-04-10T14:55:00.072Z"
      },
      {
        "duration": 4,
        "start_time": "2023-04-10T14:55:00.250Z"
      },
      {
        "duration": 6,
        "start_time": "2023-04-10T14:55:00.433Z"
      },
      {
        "duration": 5,
        "start_time": "2023-04-10T14:55:00.618Z"
      },
      {
        "duration": 20,
        "start_time": "2023-04-10T14:55:00.798Z"
      },
      {
        "duration": 3,
        "start_time": "2023-04-10T14:55:01.497Z"
      },
      {
        "duration": 4,
        "start_time": "2023-04-10T14:55:01.889Z"
      },
      {
        "duration": 4,
        "start_time": "2023-04-10T14:55:02.081Z"
      },
      {
        "duration": 5,
        "start_time": "2023-04-10T14:55:02.257Z"
      },
      {
        "duration": 4,
        "start_time": "2023-04-10T14:55:02.433Z"
      },
      {
        "duration": 6,
        "start_time": "2023-04-10T14:55:02.617Z"
      },
      {
        "duration": 8,
        "start_time": "2023-04-10T14:55:02.825Z"
      },
      {
        "duration": 70,
        "start_time": "2023-04-10T14:55:04.011Z"
      },
      {
        "duration": 3,
        "start_time": "2023-04-10T14:55:05.089Z"
      },
      {
        "duration": 5,
        "start_time": "2023-04-10T14:55:05.281Z"
      },
      {
        "duration": 3,
        "start_time": "2023-04-10T14:55:05.497Z"
      },
      {
        "duration": 6,
        "start_time": "2023-04-10T14:55:05.737Z"
      },
      {
        "duration": 3,
        "start_time": "2023-04-10T14:55:07.097Z"
      },
      {
        "duration": 5,
        "start_time": "2023-04-10T14:55:07.649Z"
      },
      {
        "duration": 4,
        "start_time": "2023-04-10T14:55:08.097Z"
      },
      {
        "duration": 7,
        "start_time": "2023-04-10T14:55:08.289Z"
      },
      {
        "duration": 3,
        "start_time": "2023-04-10T14:55:08.569Z"
      },
      {
        "duration": 16,
        "start_time": "2023-04-10T14:55:08.769Z"
      },
      {
        "duration": 7,
        "start_time": "2023-04-10T14:55:08.937Z"
      },
      {
        "duration": 6,
        "start_time": "2023-04-10T14:55:09.111Z"
      },
      {
        "duration": 3,
        "start_time": "2023-04-10T14:55:09.280Z"
      },
      {
        "duration": 4,
        "start_time": "2023-04-10T14:55:09.680Z"
      },
      {
        "duration": 8,
        "start_time": "2023-04-10T14:55:09.985Z"
      },
      {
        "duration": 20,
        "start_time": "2023-04-10T14:55:10.185Z"
      },
      {
        "duration": 3,
        "start_time": "2023-04-10T14:55:11.657Z"
      },
      {
        "duration": 3,
        "start_time": "2023-04-10T14:55:11.946Z"
      },
      {
        "duration": 4,
        "start_time": "2023-04-10T14:55:12.153Z"
      },
      {
        "duration": 59,
        "start_time": "2023-04-10T15:05:21.303Z"
      },
      {
        "duration": 30,
        "start_time": "2023-04-10T15:05:29.525Z"
      },
      {
        "duration": 34,
        "start_time": "2023-04-10T15:05:40.982Z"
      },
      {
        "duration": 21,
        "start_time": "2023-04-10T15:06:04.838Z"
      },
      {
        "duration": 16,
        "start_time": "2023-04-10T15:06:32.510Z"
      },
      {
        "duration": 27,
        "start_time": "2023-04-10T15:06:43.918Z"
      },
      {
        "duration": 5,
        "start_time": "2023-04-10T15:07:41.813Z"
      },
      {
        "duration": 3,
        "start_time": "2023-04-10T15:07:42.717Z"
      },
      {
        "duration": 8,
        "start_time": "2023-04-10T15:07:43.131Z"
      },
      {
        "duration": 4,
        "start_time": "2023-04-10T15:07:43.452Z"
      },
      {
        "duration": 5,
        "start_time": "2023-04-10T15:07:43.740Z"
      },
      {
        "duration": 45,
        "start_time": "2023-04-10T15:07:48.868Z"
      },
      {
        "duration": 34,
        "start_time": "2023-04-10T15:08:47.503Z"
      },
      {
        "duration": 38,
        "start_time": "2023-04-10T15:09:54.299Z"
      },
      {
        "duration": 36,
        "start_time": "2023-04-10T15:10:59.611Z"
      },
      {
        "duration": 4,
        "start_time": "2023-04-10T15:11:39.750Z"
      },
      {
        "duration": 6,
        "start_time": "2023-04-10T15:11:43.605Z"
      },
      {
        "duration": 25,
        "start_time": "2023-04-10T15:12:00.029Z"
      },
      {
        "duration": 19,
        "start_time": "2023-04-10T15:12:10.161Z"
      },
      {
        "duration": 14,
        "start_time": "2023-04-10T15:12:30.457Z"
      },
      {
        "duration": 12,
        "start_time": "2023-04-10T15:12:33.066Z"
      },
      {
        "duration": 6,
        "start_time": "2023-04-10T15:12:35.464Z"
      },
      {
        "duration": 24,
        "start_time": "2023-04-10T15:12:47.119Z"
      },
      {
        "duration": 40,
        "start_time": "2023-04-10T15:12:50.286Z"
      },
      {
        "duration": 17,
        "start_time": "2023-04-10T15:12:54.170Z"
      },
      {
        "duration": 28,
        "start_time": "2023-04-10T15:13:11.608Z"
      },
      {
        "duration": 24,
        "start_time": "2023-04-10T15:13:14.217Z"
      },
      {
        "duration": 26,
        "start_time": "2023-04-10T15:13:39.825Z"
      },
      {
        "duration": 38,
        "start_time": "2023-04-10T15:15:12.724Z"
      },
      {
        "duration": 52,
        "start_time": "2023-04-10T15:15:53.073Z"
      },
      {
        "duration": 35,
        "start_time": "2023-04-10T15:15:56.224Z"
      },
      {
        "duration": 25,
        "start_time": "2023-04-10T15:17:25.820Z"
      },
      {
        "duration": 30,
        "start_time": "2023-04-10T15:17:29.216Z"
      },
      {
        "duration": 4,
        "start_time": "2023-04-10T15:17:48.314Z"
      },
      {
        "duration": 136,
        "start_time": "2023-04-10T15:18:18.726Z"
      },
      {
        "duration": 34,
        "start_time": "2023-04-10T15:18:22.342Z"
      },
      {
        "duration": 25,
        "start_time": "2023-04-10T15:18:48.455Z"
      },
      {
        "duration": 15,
        "start_time": "2023-04-10T15:19:56.559Z"
      },
      {
        "duration": 45,
        "start_time": "2023-04-10T15:20:08.613Z"
      },
      {
        "duration": 32,
        "start_time": "2023-04-10T15:21:20.507Z"
      },
      {
        "duration": 49,
        "start_time": "2023-04-10T15:21:23.679Z"
      },
      {
        "duration": 18,
        "start_time": "2023-04-10T15:22:05.624Z"
      },
      {
        "duration": 11,
        "start_time": "2023-04-10T15:22:23.144Z"
      },
      {
        "duration": 16,
        "start_time": "2023-04-10T15:22:37.828Z"
      },
      {
        "duration": 47,
        "start_time": "2023-04-10T15:22:42.318Z"
      },
      {
        "duration": 9,
        "start_time": "2023-04-10T15:23:26.120Z"
      },
      {
        "duration": 6,
        "start_time": "2023-04-10T15:23:54.079Z"
      },
      {
        "duration": 26,
        "start_time": "2023-04-10T15:25:25.127Z"
      },
      {
        "duration": 3,
        "start_time": "2023-04-10T15:25:28.057Z"
      },
      {
        "duration": 29,
        "start_time": "2023-04-10T15:25:28.326Z"
      },
      {
        "duration": 38,
        "start_time": "2023-04-10T15:25:51.439Z"
      },
      {
        "duration": 15,
        "start_time": "2023-04-10T15:25:57.021Z"
      },
      {
        "duration": 38,
        "start_time": "2023-04-10T15:26:03.116Z"
      },
      {
        "duration": 7,
        "start_time": "2023-04-10T15:26:38.330Z"
      },
      {
        "duration": 11,
        "start_time": "2023-04-10T15:26:43.937Z"
      },
      {
        "duration": 12,
        "start_time": "2023-04-10T15:26:48.424Z"
      },
      {
        "duration": 10,
        "start_time": "2023-04-10T15:26:55.911Z"
      },
      {
        "duration": 5,
        "start_time": "2023-04-10T15:27:05.943Z"
      },
      {
        "duration": 7,
        "start_time": "2023-04-10T15:27:08.136Z"
      },
      {
        "duration": 6,
        "start_time": "2023-04-10T15:27:10.444Z"
      },
      {
        "duration": 26,
        "start_time": "2023-04-10T15:27:13.429Z"
      },
      {
        "duration": 7,
        "start_time": "2023-04-10T15:27:37.673Z"
      },
      {
        "duration": 6,
        "start_time": "2023-04-10T15:27:54.493Z"
      },
      {
        "duration": 15,
        "start_time": "2023-04-10T15:28:03.233Z"
      },
      {
        "duration": 39,
        "start_time": "2023-04-10T15:28:06.672Z"
      },
      {
        "duration": 24,
        "start_time": "2023-04-10T15:28:17.686Z"
      },
      {
        "duration": 1786,
        "start_time": "2023-04-10T15:28:24.241Z"
      },
      {
        "duration": 40,
        "start_time": "2023-04-10T15:30:03.214Z"
      },
      {
        "duration": 18,
        "start_time": "2023-04-10T15:31:06.437Z"
      },
      {
        "duration": 35,
        "start_time": "2023-04-10T15:32:00.081Z"
      },
      {
        "duration": 29,
        "start_time": "2023-04-10T15:32:46.873Z"
      },
      {
        "duration": 18,
        "start_time": "2023-04-10T15:33:00.568Z"
      },
      {
        "duration": 50,
        "start_time": "2023-04-10T15:33:06.420Z"
      },
      {
        "duration": 39,
        "start_time": "2023-04-10T15:33:15.810Z"
      },
      {
        "duration": 58,
        "start_time": "2023-04-10T15:33:21.692Z"
      },
      {
        "duration": 19,
        "start_time": "2023-04-10T15:33:26.858Z"
      },
      {
        "duration": 13,
        "start_time": "2023-04-10T15:33:48.734Z"
      },
      {
        "duration": 5,
        "start_time": "2023-04-10T15:33:57.872Z"
      },
      {
        "duration": 19,
        "start_time": "2023-04-10T15:33:58.215Z"
      },
      {
        "duration": 15,
        "start_time": "2023-04-10T15:33:58.488Z"
      },
      {
        "duration": 17,
        "start_time": "2023-04-10T15:33:58.806Z"
      },
      {
        "duration": 10,
        "start_time": "2023-04-10T15:33:59.034Z"
      },
      {
        "duration": 48,
        "start_time": "2023-04-10T15:33:59.271Z"
      },
      {
        "duration": 62,
        "start_time": "2023-04-10T15:33:59.510Z"
      },
      {
        "duration": 43,
        "start_time": "2023-04-10T15:33:59.857Z"
      },
      {
        "duration": 11,
        "start_time": "2023-04-10T15:34:02.887Z"
      },
      {
        "duration": 6,
        "start_time": "2023-04-10T15:34:03.349Z"
      },
      {
        "duration": 22,
        "start_time": "2023-04-10T15:34:04.245Z"
      },
      {
        "duration": 5,
        "start_time": "2023-04-10T15:34:05.427Z"
      },
      {
        "duration": 5,
        "start_time": "2023-04-10T15:34:06.037Z"
      },
      {
        "duration": 272,
        "start_time": "2023-04-10T15:34:11.690Z"
      },
      {
        "duration": 8,
        "start_time": "2023-04-10T15:35:22.784Z"
      },
      {
        "duration": 7,
        "start_time": "2023-04-10T15:35:36.738Z"
      },
      {
        "duration": 12,
        "start_time": "2023-04-10T15:35:38.938Z"
      },
      {
        "duration": 5,
        "start_time": "2023-04-10T15:35:47.561Z"
      },
      {
        "duration": 46520,
        "start_time": "2023-04-10T15:35:48.257Z"
      },
      {
        "duration": 11,
        "start_time": "2023-04-10T15:36:34.780Z"
      },
      {
        "duration": 530,
        "start_time": "2023-04-10T15:36:39.912Z"
      },
      {
        "duration": 7,
        "start_time": "2023-04-10T15:36:52.757Z"
      },
      {
        "duration": 9,
        "start_time": "2023-04-10T15:37:09.632Z"
      },
      {
        "duration": 12,
        "start_time": "2023-04-10T15:37:30.367Z"
      },
      {
        "duration": 116,
        "start_time": "2023-04-10T15:37:41.560Z"
      },
      {
        "duration": 44,
        "start_time": "2023-04-10T15:38:49.217Z"
      },
      {
        "duration": 6,
        "start_time": "2023-04-10T15:38:58.660Z"
      },
      {
        "duration": 12,
        "start_time": "2023-04-10T15:39:00.471Z"
      },
      {
        "duration": 54,
        "start_time": "2023-04-10T15:39:04.367Z"
      },
      {
        "duration": 21,
        "start_time": "2023-04-10T15:39:16.508Z"
      },
      {
        "duration": 73,
        "start_time": "2023-04-10T15:39:17.081Z"
      },
      {
        "duration": 7,
        "start_time": "2023-04-10T16:30:10.656Z"
      },
      {
        "duration": 4,
        "start_time": "2023-04-10T16:30:18.473Z"
      },
      {
        "duration": 15,
        "start_time": "2023-04-10T16:30:57.427Z"
      },
      {
        "duration": 9,
        "start_time": "2023-04-10T16:30:58.586Z"
      },
      {
        "duration": 34,
        "start_time": "2023-04-10T16:30:59.441Z"
      },
      {
        "duration": 55,
        "start_time": "2023-04-10T16:31:54.768Z"
      },
      {
        "duration": 11,
        "start_time": "2023-04-10T16:33:11.450Z"
      },
      {
        "duration": 4,
        "start_time": "2023-04-10T16:33:12.448Z"
      },
      {
        "duration": 32,
        "start_time": "2023-04-10T16:33:12.657Z"
      },
      {
        "duration": 44,
        "start_time": "2023-04-10T16:37:54.911Z"
      },
      {
        "duration": 34,
        "start_time": "2023-04-10T16:37:59.524Z"
      },
      {
        "duration": 16,
        "start_time": "2023-04-10T16:38:10.722Z"
      },
      {
        "duration": 6,
        "start_time": "2023-04-10T16:38:11.511Z"
      },
      {
        "duration": 109272,
        "start_time": "2023-04-10T16:38:12.042Z"
      },
      {
        "duration": 0,
        "start_time": "2023-04-10T16:41:14.672Z"
      },
      {
        "duration": 0,
        "start_time": "2023-04-10T16:41:57.854Z"
      },
      {
        "duration": 16466,
        "start_time": "2023-04-10T16:41:58.763Z"
      },
      {
        "duration": 117096,
        "start_time": "2023-04-10T16:42:25.265Z"
      },
      {
        "duration": 91657,
        "start_time": "2023-04-10T16:44:22.363Z"
      },
      {
        "duration": 3,
        "start_time": "2023-04-10T16:45:54.023Z"
      },
      {
        "duration": 129548,
        "start_time": "2023-04-10T16:46:25.345Z"
      },
      {
        "duration": 543022,
        "start_time": "2023-04-10T16:48:36.311Z"
      },
      {
        "duration": 99,
        "start_time": "2023-04-10T16:57:39.335Z"
      },
      {
        "duration": 4,
        "start_time": "2023-04-10T16:59:54.652Z"
      },
      {
        "duration": 3,
        "start_time": "2023-04-10T16:59:57.581Z"
      },
      {
        "duration": 7,
        "start_time": "2023-04-10T17:00:00.113Z"
      },
      {
        "duration": 109803,
        "start_time": "2023-04-10T17:00:22.525Z"
      },
      {
        "duration": 25,
        "start_time": "2023-04-10T17:02:12.330Z"
      },
      {
        "duration": 207,
        "start_time": "2023-04-10T17:02:26.837Z"
      },
      {
        "duration": 335,
        "start_time": "2023-04-10T17:02:38.842Z"
      },
      {
        "duration": 204,
        "start_time": "2023-04-10T17:02:45.859Z"
      },
      {
        "duration": 4,
        "start_time": "2023-04-10T17:03:07.466Z"
      },
      {
        "duration": 4,
        "start_time": "2023-04-10T17:03:37.277Z"
      },
      {
        "duration": 2946,
        "start_time": "2023-04-10T17:03:37.283Z"
      },
      {
        "duration": 3,
        "start_time": "2023-04-10T17:03:40.231Z"
      },
      {
        "duration": 16,
        "start_time": "2023-04-10T17:03:40.236Z"
      },
      {
        "duration": 11,
        "start_time": "2023-04-10T17:03:40.254Z"
      },
      {
        "duration": 44,
        "start_time": "2023-04-10T17:03:40.267Z"
      },
      {
        "duration": 13,
        "start_time": "2023-04-10T17:03:40.315Z"
      },
      {
        "duration": 4,
        "start_time": "2023-04-10T17:03:40.330Z"
      },
      {
        "duration": 23,
        "start_time": "2023-04-10T17:03:40.337Z"
      },
      {
        "duration": 86,
        "start_time": "2023-04-10T17:03:40.362Z"
      },
      {
        "duration": 4,
        "start_time": "2023-04-10T17:03:40.450Z"
      },
      {
        "duration": 7,
        "start_time": "2023-04-10T17:03:40.456Z"
      },
      {
        "duration": 26,
        "start_time": "2023-04-10T17:03:40.465Z"
      },
      {
        "duration": 17,
        "start_time": "2023-04-10T17:03:40.499Z"
      },
      {
        "duration": 14,
        "start_time": "2023-04-10T17:03:40.519Z"
      },
      {
        "duration": 31,
        "start_time": "2023-04-10T17:03:40.535Z"
      },
      {
        "duration": 4,
        "start_time": "2023-04-10T17:03:40.568Z"
      },
      {
        "duration": 7,
        "start_time": "2023-04-10T17:03:40.575Z"
      },
      {
        "duration": 36,
        "start_time": "2023-04-10T17:03:40.583Z"
      },
      {
        "duration": 15,
        "start_time": "2023-04-10T17:03:40.621Z"
      },
      {
        "duration": 6,
        "start_time": "2023-04-10T17:03:40.638Z"
      },
      {
        "duration": 14,
        "start_time": "2023-04-10T17:03:40.645Z"
      },
      {
        "duration": 13,
        "start_time": "2023-04-10T17:03:40.661Z"
      },
      {
        "duration": 239,
        "start_time": "2023-04-10T17:03:40.680Z"
      },
      {
        "duration": 3,
        "start_time": "2023-04-10T17:03:40.922Z"
      },
      {
        "duration": 8,
        "start_time": "2023-04-10T17:03:40.988Z"
      },
      {
        "duration": 17,
        "start_time": "2023-04-10T17:03:41.004Z"
      },
      {
        "duration": 9,
        "start_time": "2023-04-10T17:03:41.023Z"
      },
      {
        "duration": 5,
        "start_time": "2023-04-10T17:03:41.034Z"
      },
      {
        "duration": 6,
        "start_time": "2023-04-10T17:03:41.040Z"
      },
      {
        "duration": 4,
        "start_time": "2023-04-10T17:03:41.048Z"
      },
      {
        "duration": 16,
        "start_time": "2023-04-10T17:03:41.054Z"
      },
      {
        "duration": 5,
        "start_time": "2023-04-10T17:03:41.071Z"
      },
      {
        "duration": 48,
        "start_time": "2023-04-10T17:03:41.078Z"
      },
      {
        "duration": 15,
        "start_time": "2023-04-10T17:03:41.128Z"
      },
      {
        "duration": 6,
        "start_time": "2023-04-10T17:03:41.144Z"
      },
      {
        "duration": 4,
        "start_time": "2023-04-10T17:03:41.152Z"
      },
      {
        "duration": 6,
        "start_time": "2023-04-10T17:03:41.158Z"
      },
      {
        "duration": 9,
        "start_time": "2023-04-10T17:03:41.165Z"
      },
      {
        "duration": 27,
        "start_time": "2023-04-10T17:03:41.176Z"
      },
      {
        "duration": 27,
        "start_time": "2023-04-10T17:03:41.204Z"
      },
      {
        "duration": 7,
        "start_time": "2023-04-10T17:03:41.233Z"
      },
      {
        "duration": 6,
        "start_time": "2023-04-10T17:03:41.242Z"
      },
      {
        "duration": 5,
        "start_time": "2023-04-10T17:03:41.249Z"
      },
      {
        "duration": 9,
        "start_time": "2023-04-10T17:03:41.256Z"
      },
      {
        "duration": 5,
        "start_time": "2023-04-10T17:03:41.266Z"
      },
      {
        "duration": 7,
        "start_time": "2023-04-10T17:03:41.272Z"
      },
      {
        "duration": 37,
        "start_time": "2023-04-10T17:03:41.281Z"
      },
      {
        "duration": 6,
        "start_time": "2023-04-10T17:03:41.319Z"
      },
      {
        "duration": 28,
        "start_time": "2023-04-10T17:03:41.326Z"
      },
      {
        "duration": 24,
        "start_time": "2023-04-10T17:03:41.355Z"
      },
      {
        "duration": 37,
        "start_time": "2023-04-10T17:03:41.381Z"
      },
      {
        "duration": 10,
        "start_time": "2023-04-10T17:03:41.420Z"
      },
      {
        "duration": 10,
        "start_time": "2023-04-10T17:03:41.432Z"
      },
      {
        "duration": 7,
        "start_time": "2023-04-10T17:03:41.444Z"
      },
      {
        "duration": 135,
        "start_time": "2023-04-10T17:03:41.452Z"
      },
      {
        "duration": 13,
        "start_time": "2023-04-10T17:03:41.592Z"
      },
      {
        "duration": 33826,
        "start_time": "2023-04-10T17:03:41.608Z"
      },
      {
        "duration": 302,
        "start_time": "2023-04-10T17:04:15.436Z"
      },
      {
        "duration": 5,
        "start_time": "2023-04-10T17:04:15.740Z"
      },
      {
        "duration": 14,
        "start_time": "2023-04-10T17:04:15.747Z"
      },
      {
        "duration": 19,
        "start_time": "2023-04-10T17:04:15.763Z"
      },
      {
        "duration": 103398,
        "start_time": "2023-04-10T17:04:15.783Z"
      },
      {
        "duration": 106519,
        "start_time": "2023-04-10T17:05:59.183Z"
      },
      {
        "duration": 90473,
        "start_time": "2023-04-10T17:07:45.709Z"
      },
      {
        "duration": 539238,
        "start_time": "2023-04-10T17:09:16.184Z"
      },
      {
        "duration": 106309,
        "start_time": "2023-04-10T17:18:15.424Z"
      },
      {
        "duration": 214,
        "start_time": "2023-04-10T17:20:01.735Z"
      },
      {
        "duration": 0,
        "start_time": "2023-04-10T17:20:02.081Z"
      },
      {
        "duration": 0,
        "start_time": "2023-04-10T17:20:02.083Z"
      },
      {
        "duration": 0,
        "start_time": "2023-04-10T17:20:02.084Z"
      },
      {
        "duration": 0,
        "start_time": "2023-04-10T17:20:02.085Z"
      },
      {
        "duration": 110571,
        "start_time": "2023-04-10T17:20:20.052Z"
      },
      {
        "duration": 111385,
        "start_time": "2023-04-10T17:22:10.633Z"
      },
      {
        "duration": 14,
        "start_time": "2023-04-10T17:24:02.030Z"
      },
      {
        "duration": 4,
        "start_time": "2023-04-10T17:24:28.848Z"
      }
    ],
    "kernelspec": {
      "display_name": "Python 3 (ipykernel)",
      "language": "python",
      "name": "python3"
    },
    "language_info": {
      "codemirror_mode": {
        "name": "ipython",
        "version": 3
      },
      "file_extension": ".py",
      "mimetype": "text/x-python",
      "name": "python",
      "nbconvert_exporter": "python",
      "pygments_lexer": "ipython3",
      "version": "3.9.5"
    },
    "toc": {
      "base_numbering": 1,
      "nav_menu": {},
      "number_sections": false,
      "sideBar": true,
      "skip_h1_title": false,
      "title_cell": "Table of Contents",
      "title_sidebar": "Contents",
      "toc_cell": false,
      "toc_position": {},
      "toc_section_display": true,
      "toc_window_display": true
    },
    "varInspector": {
      "cols": {
        "lenName": 16,
        "lenType": 16,
        "lenVar": 40
      },
      "kernels_config": {
        "python": {
          "delete_cmd_postfix": "",
          "delete_cmd_prefix": "del ",
          "library": "var_list.py",
          "varRefreshCmd": "print(var_dic_list())"
        },
        "r": {
          "delete_cmd_postfix": ") ",
          "delete_cmd_prefix": "rm(",
          "library": "var_list.r",
          "varRefreshCmd": "cat(var_dic_list()) "
        }
      },
      "types_to_exclude": [
        "module",
        "function",
        "builtin_function_or_method",
        "instance",
        "_Feature"
      ],
      "window_display": false
    },
    "colab": {
      "provenance": []
    }
  },
  "nbformat": 4,
  "nbformat_minor": 5
}