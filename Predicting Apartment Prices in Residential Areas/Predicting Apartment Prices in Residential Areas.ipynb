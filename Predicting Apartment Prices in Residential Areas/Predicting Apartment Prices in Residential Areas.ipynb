{
  "cells": [
    {
      "cell_type": "markdown",
      "id": "GEqQaHzsZ_bA",
      "metadata": {
        "id": "GEqQaHzsZ_bA"
      },
      "source": [
        "## Предсказание стоимости жилья\n",
        "\n",
        "В проекте  нужно обучить модель линейной регрессии на данных о жилье в Калифорнии в 1990 году. На основе данных нужно предсказать медианную стоимость дома в жилом массиве. Обучите модель и сделайте предсказания на тестовой выборке."
      ]
    },
    {
      "cell_type": "code",
      "execution_count": null,
      "id": "c8c15823",
      "metadata": {
        "id": "c8c15823"
      },
      "outputs": [],
      "source": [
        "# Инициализируем локальную спарк сессию\n",
        "import pyspark\n",
        "from pyspark.sql import Window\n",
        "\n",
        "from pyspark.sql import SparkSession\n",
        "from pyspark.ml.regression import LinearRegression\n",
        "from pyspark.mllib.evaluation import RegressionMetrics\n",
        "from pyspark.ml.evaluation import RegressionEvaluator\n",
        "\n",
        "from pyspark.sql.types import *\n",
        "from pyspark.ml.feature import OneHotEncoder, VectorAssembler,StringIndexer,StandardScaler\n",
        "import pyspark.sql.functions as F\n"
      ]
    },
    {
      "cell_type": "code",
      "execution_count": null,
      "id": "2512d09a",
      "metadata": {
        "id": "2512d09a"
      },
      "outputs": [],
      "source": [
        "spark = SparkSession.builder \\\n",
        "                    .master(\"local\") \\\n",
        "                    .appName(\"Learning DataFrame Window Functions\") \\\n",
        "                    .getOrCreate()"
      ]
    },
    {
      "cell_type": "code",
      "execution_count": null,
      "id": "7bca3bb7",
      "metadata": {
        "id": "7bca3bb7"
      },
      "outputs": [],
      "source": [
        "RS = 7"
      ]
    },
    {
      "cell_type": "code",
      "execution_count": null,
      "id": "a5871e9c",
      "metadata": {
        "id": "a5871e9c",
        "outputId": "55c16206-84cf-4ecf-9109-97dfdc234e9c"
      },
      "outputs": [
        {
          "name": "stderr",
          "output_type": "stream",
          "text": [
            "                                                                                \r"
          ]
        }
      ],
      "source": [
        "# прочитаем файл\n",
        "data = spark.read.load('/datasets/housing.csv', format=\"csv\", sep=\",\", inferSchema=True, header=\"true\")\n"
      ]
    },
    {
      "cell_type": "code",
      "execution_count": null,
      "id": "43f869f1",
      "metadata": {
        "scrolled": true,
        "id": "43f869f1",
        "outputId": "55191331-b3ee-4a52-ce6e-4291bcbc2cf6"
      },
      "outputs": [
        {
          "name": "stdout",
          "output_type": "stream",
          "text": [
            "+---------+--------+------------------+-----------+--------------+----------+----------+-------------+------------------+---------------+\n",
            "|longitude|latitude|housing_median_age|total_rooms|total_bedrooms|population|households|median_income|median_house_value|ocean_proximity|\n",
            "+---------+--------+------------------+-----------+--------------+----------+----------+-------------+------------------+---------------+\n",
            "|  -122.23|   37.88|              41.0|      880.0|         129.0|     322.0|     126.0|       8.3252|          452600.0|       NEAR BAY|\n",
            "|  -122.22|   37.86|              21.0|     7099.0|        1106.0|    2401.0|    1138.0|       8.3014|          358500.0|       NEAR BAY|\n",
            "|  -122.24|   37.85|              52.0|     1467.0|         190.0|     496.0|     177.0|       7.2574|          352100.0|       NEAR BAY|\n",
            "+---------+--------+------------------+-----------+--------------+----------+----------+-------------+------------------+---------------+\n",
            "only showing top 3 rows\n",
            "\n"
          ]
        }
      ],
      "source": [
        "data.show(3)"
      ]
    },
    {
      "cell_type": "code",
      "execution_count": null,
      "id": "2af11314",
      "metadata": {
        "scrolled": true,
        "id": "2af11314",
        "outputId": "37eb60c0-0287-4c4a-ff28-19933ffffdb8"
      },
      "outputs": [
        {
          "name": "stdout",
          "output_type": "stream",
          "text": [
            "root\n",
            " |-- longitude: double (nullable = true)\n",
            " |-- latitude: double (nullable = true)\n",
            " |-- housing_median_age: double (nullable = true)\n",
            " |-- total_rooms: double (nullable = true)\n",
            " |-- total_bedrooms: double (nullable = true)\n",
            " |-- population: double (nullable = true)\n",
            " |-- households: double (nullable = true)\n",
            " |-- median_income: double (nullable = true)\n",
            " |-- median_house_value: double (nullable = true)\n",
            " |-- ocean_proximity: string (nullable = true)\n",
            "\n"
          ]
        }
      ],
      "source": [
        "data.printSchema()"
      ]
    },
    {
      "cell_type": "code",
      "execution_count": null,
      "id": "5d8753fd",
      "metadata": {
        "id": "5d8753fd"
      },
      "outputs": [],
      "source": [
        "data_columns = data.columns\n"
      ]
    },
    {
      "cell_type": "code",
      "execution_count": null,
      "id": "80be4462",
      "metadata": {
        "id": "80be4462"
      },
      "outputs": [],
      "source": [
        "def check_nan():\n",
        "    print(\"NaN values in each column:\")\n",
        "    for col in data_columns:\n",
        "        print(col, data.filter(F.col(col).isNull()).count())"
      ]
    },
    {
      "cell_type": "code",
      "execution_count": null,
      "id": "d64f1d5b",
      "metadata": {
        "scrolled": true,
        "id": "d64f1d5b",
        "outputId": "7c348b4b-46bf-4fed-baa5-f192049cb41a"
      },
      "outputs": [
        {
          "name": "stdout",
          "output_type": "stream",
          "text": [
            "NaN values in each column:\n",
            "longitude 0\n",
            "latitude 0\n",
            "housing_median_age 0\n",
            "total_rooms 0\n",
            "total_bedrooms 207\n",
            "population 0\n",
            "households 0\n",
            "median_income 0\n",
            "median_house_value 0\n",
            "ocean_proximity 0\n"
          ]
        }
      ],
      "source": [
        "check_nan()"
      ]
    },
    {
      "cell_type": "markdown",
      "id": "fe30ebb3",
      "metadata": {
        "id": "fe30ebb3"
      },
      "source": [
        "Вывод:\n",
        "\n",
        "заполним средним"
      ]
    },
    {
      "cell_type": "markdown",
      "id": "53871372",
      "metadata": {
        "id": "53871372"
      },
      "source": [
        "# Подготовка данных"
      ]
    },
    {
      "cell_type": "code",
      "execution_count": null,
      "id": "8a4df692",
      "metadata": {
        "id": "8a4df692"
      },
      "outputs": [],
      "source": [
        "total_bedrooms_avg = data.agg({'total_bedrooms':'mean'}).collect()"
      ]
    },
    {
      "cell_type": "code",
      "execution_count": null,
      "id": "671a101b",
      "metadata": {
        "scrolled": false,
        "id": "671a101b",
        "outputId": "929a9537-209b-4be0-8c28-892e40062062"
      },
      "outputs": [
        {
          "data": {
            "text/plain": [
              "[Row(avg(total_bedrooms)=537.8705525375618)]"
            ]
          },
          "execution_count": 11,
          "metadata": {},
          "output_type": "execute_result"
        }
      ],
      "source": [
        "total_bedrooms_avg"
      ]
    },
    {
      "cell_type": "code",
      "execution_count": null,
      "id": "2ad889a4",
      "metadata": {
        "scrolled": true,
        "id": "2ad889a4"
      },
      "outputs": [],
      "source": [
        "data= data.na.fill({'total_bedrooms':537.8705525375618})"
      ]
    },
    {
      "cell_type": "code",
      "execution_count": null,
      "id": "216c379f",
      "metadata": {
        "id": "216c379f",
        "outputId": "adf04c0a-cbff-4cd4-a7c2-af42a18b703c"
      },
      "outputs": [
        {
          "name": "stdout",
          "output_type": "stream",
          "text": [
            "NaN values in each column:\n",
            "longitude 0\n",
            "latitude 0\n",
            "housing_median_age 0\n",
            "total_rooms 0\n",
            "total_bedrooms 0\n",
            "population 0\n",
            "households 0\n",
            "median_income 0\n",
            "median_house_value 0\n",
            "ocean_proximity 0\n"
          ]
        }
      ],
      "source": [
        "check_nan()"
      ]
    },
    {
      "cell_type": "code",
      "execution_count": null,
      "id": "ef67cfaa",
      "metadata": {
        "scrolled": true,
        "id": "ef67cfaa",
        "outputId": "86463994-dc7e-472a-e6f2-4267fb70807f"
      },
      "outputs": [
        {
          "name": "stdout",
          "output_type": "stream",
          "text": [
            "root\n",
            " |-- longitude: double (nullable = true)\n",
            " |-- latitude: double (nullable = true)\n",
            " |-- housing_median_age: double (nullable = true)\n",
            " |-- total_rooms: double (nullable = true)\n",
            " |-- total_bedrooms: double (nullable = false)\n",
            " |-- population: double (nullable = true)\n",
            " |-- households: double (nullable = true)\n",
            " |-- median_income: double (nullable = true)\n",
            " |-- median_house_value: double (nullable = true)\n",
            " |-- ocean_proximity: string (nullable = true)\n",
            "\n"
          ]
        }
      ],
      "source": [
        "data.printSchema()"
      ]
    },
    {
      "cell_type": "code",
      "execution_count": null,
      "id": "8bcba6ad",
      "metadata": {
        "id": "8bcba6ad"
      },
      "outputs": [],
      "source": [
        "cat_column = 'ocean_proximity'"
      ]
    },
    {
      "cell_type": "code",
      "execution_count": null,
      "id": "f8665589",
      "metadata": {
        "id": "f8665589"
      },
      "outputs": [],
      "source": [
        "train_data, test_data = data.randomSplit([0.8,0.2],seed=RS)"
      ]
    },
    {
      "cell_type": "code",
      "execution_count": null,
      "id": "f14b1ed8",
      "metadata": {
        "scrolled": false,
        "id": "f14b1ed8",
        "outputId": "6abe9561-a567-4d31-db86-59ef5289c208"
      },
      "outputs": [
        {
          "name": "stderr",
          "output_type": "stream",
          "text": [
            "                                                                                \r"
          ]
        },
        {
          "name": "stdout",
          "output_type": "stream",
          "text": [
            "16481 4159\n"
          ]
        }
      ],
      "source": [
        "# проверка\n",
        "print(train_data.count(),test_data.count())"
      ]
    },
    {
      "cell_type": "code",
      "execution_count": null,
      "id": "ef714f8d",
      "metadata": {
        "id": "ef714f8d",
        "outputId": "85628bc8-8077-4158-b938-32436ee378dd"
      },
      "outputs": [
        {
          "data": {
            "text/plain": [
              "DataFrame[longitude: double, latitude: double, housing_median_age: double, total_rooms: double, total_bedrooms: double, population: double, households: double, median_income: double, median_house_value: double, ocean_proximity: string]"
            ]
          },
          "execution_count": 18,
          "metadata": {},
          "output_type": "execute_result"
        }
      ],
      "source": [
        "train_data"
      ]
    },
    {
      "cell_type": "code",
      "execution_count": null,
      "id": "f31e7eed",
      "metadata": {
        "id": "f31e7eed",
        "outputId": "bcd9d32b-2dcb-4bd5-854e-f4d60179797f"
      },
      "outputs": [
        {
          "data": {
            "text/plain": [
              "DataFrame[longitude: double, latitude: double, housing_median_age: double, total_rooms: double, total_bedrooms: double, population: double, households: double, median_income: double, median_house_value: double, ocean_proximity: string]"
            ]
          },
          "execution_count": 19,
          "metadata": {},
          "output_type": "execute_result"
        }
      ],
      "source": [
        "test_data"
      ]
    },
    {
      "cell_type": "code",
      "execution_count": null,
      "id": "4097b54c",
      "metadata": {
        "id": "4097b54c"
      },
      "outputs": [],
      "source": [
        "indexer = StringIndexer(inputCol=cat_column,\n",
        "                   outputCol=cat_column+'_idx')"
      ]
    },
    {
      "cell_type": "code",
      "execution_count": null,
      "id": "1ab7e82d",
      "metadata": {
        "id": "1ab7e82d",
        "outputId": "257a73bb-405b-4ff8-bb95-4bd5cc5dc18f"
      },
      "outputs": [
        {
          "name": "stderr",
          "output_type": "stream",
          "text": [
            "                                                                                \r"
          ]
        }
      ],
      "source": [
        "indexer_model = indexer.fit(train_data)"
      ]
    },
    {
      "cell_type": "code",
      "execution_count": null,
      "id": "52fe726e",
      "metadata": {
        "scrolled": true,
        "id": "52fe726e"
      },
      "outputs": [],
      "source": [
        "train_data = indexer_model.transform(train_data)"
      ]
    },
    {
      "cell_type": "code",
      "execution_count": null,
      "id": "abc5f8e1",
      "metadata": {
        "id": "abc5f8e1"
      },
      "outputs": [],
      "source": [
        "test_data = indexer_model.transform(test_data)"
      ]
    },
    {
      "cell_type": "code",
      "execution_count": null,
      "id": "002e9f73",
      "metadata": {
        "id": "002e9f73"
      },
      "outputs": [],
      "source": [
        "def check_unique(data,column):\n",
        "    display(data.select(column).distinct().collect())"
      ]
    },
    {
      "cell_type": "code",
      "execution_count": null,
      "id": "bb8c9e02",
      "metadata": {
        "id": "bb8c9e02",
        "outputId": "ea2df367-2ec8-4f44-d2ef-53f690a050b1"
      },
      "outputs": [
        {
          "name": "stderr",
          "output_type": "stream",
          "text": [
            "                                                                                \r"
          ]
        },
        {
          "data": {
            "text/plain": [
              "[Row(ocean_proximity_idx=0.0),\n",
              " Row(ocean_proximity_idx=1.0),\n",
              " Row(ocean_proximity_idx=4.0),\n",
              " Row(ocean_proximity_idx=3.0),\n",
              " Row(ocean_proximity_idx=2.0)]"
            ]
          },
          "metadata": {},
          "output_type": "display_data"
        }
      ],
      "source": [
        "check_unique(train_data,'ocean_proximity_idx')\n"
      ]
    },
    {
      "cell_type": "code",
      "execution_count": null,
      "id": "db4b87c5",
      "metadata": {
        "id": "db4b87c5",
        "outputId": "d08cc71b-a5a1-411f-9bb0-6c396c911d0b"
      },
      "outputs": [
        {
          "name": "stderr",
          "output_type": "stream",
          "text": [
            "                                                                                \r"
          ]
        },
        {
          "data": {
            "text/plain": [
              "[Row(ocean_proximity_idx=0.0),\n",
              " Row(ocean_proximity_idx=1.0),\n",
              " Row(ocean_proximity_idx=4.0),\n",
              " Row(ocean_proximity_idx=3.0),\n",
              " Row(ocean_proximity_idx=2.0)]"
            ]
          },
          "metadata": {},
          "output_type": "display_data"
        }
      ],
      "source": [
        "check_unique(test_data,'ocean_proximity_idx')\n"
      ]
    },
    {
      "cell_type": "code",
      "execution_count": null,
      "id": "75d6cdcb",
      "metadata": {
        "id": "75d6cdcb"
      },
      "outputs": [],
      "source": [
        "ohe = OneHotEncoder(inputCol=cat_column+'_idx',\n",
        "                   outputCol=cat_column+'_ohe')"
      ]
    },
    {
      "cell_type": "code",
      "execution_count": null,
      "id": "9b4a6785",
      "metadata": {
        "id": "9b4a6785"
      },
      "outputs": [],
      "source": [
        "ohe_model = ohe.fit(train_data)"
      ]
    },
    {
      "cell_type": "code",
      "execution_count": null,
      "id": "b34040f6",
      "metadata": {
        "id": "b34040f6"
      },
      "outputs": [],
      "source": [
        "train_data = ohe_model.transform(train_data)\n"
      ]
    },
    {
      "cell_type": "code",
      "execution_count": null,
      "id": "246595c6",
      "metadata": {
        "id": "246595c6"
      },
      "outputs": [],
      "source": [
        "test_data = ohe_model.transform(test_data)"
      ]
    },
    {
      "cell_type": "code",
      "execution_count": null,
      "id": "bdc678e3",
      "metadata": {
        "scrolled": false,
        "id": "bdc678e3",
        "outputId": "62644d07-1ada-4f71-e4a7-1770988bb7d2"
      },
      "outputs": [
        {
          "name": "stderr",
          "output_type": "stream",
          "text": [
            "                                                                                \r"
          ]
        },
        {
          "data": {
            "text/plain": [
              "[Row(ocean_proximity_ohe=SparseVector(4, {2: 1.0})),\n",
              " Row(ocean_proximity_ohe=SparseVector(4, {0: 1.0})),\n",
              " Row(ocean_proximity_ohe=SparseVector(4, {})),\n",
              " Row(ocean_proximity_ohe=SparseVector(4, {3: 1.0})),\n",
              " Row(ocean_proximity_ohe=SparseVector(4, {1: 1.0}))]"
            ]
          },
          "metadata": {},
          "output_type": "display_data"
        }
      ],
      "source": [
        "check_unique(train_data,'ocean_proximity_ohe')\n"
      ]
    },
    {
      "cell_type": "code",
      "execution_count": null,
      "id": "e3b26fbc",
      "metadata": {
        "id": "e3b26fbc",
        "outputId": "5acb17cd-67e0-4dad-d0db-e7518666bc3d"
      },
      "outputs": [
        {
          "name": "stderr",
          "output_type": "stream",
          "text": [
            "                                                                                \r"
          ]
        },
        {
          "data": {
            "text/plain": [
              "[Row(ocean_proximity_ohe=SparseVector(4, {2: 1.0})),\n",
              " Row(ocean_proximity_ohe=SparseVector(4, {0: 1.0})),\n",
              " Row(ocean_proximity_ohe=SparseVector(4, {})),\n",
              " Row(ocean_proximity_ohe=SparseVector(4, {3: 1.0})),\n",
              " Row(ocean_proximity_ohe=SparseVector(4, {1: 1.0}))]"
            ]
          },
          "metadata": {},
          "output_type": "display_data"
        }
      ],
      "source": [
        "check_unique(test_data,'ocean_proximity_ohe')\n"
      ]
    },
    {
      "cell_type": "code",
      "execution_count": null,
      "id": "83cd8f1f",
      "metadata": {
        "scrolled": true,
        "id": "83cd8f1f",
        "outputId": "32d1e2c6-777a-4d29-ccd2-1e6877236b8c"
      },
      "outputs": [
        {
          "data": {
            "text/plain": [
              "['longitude',\n",
              " 'latitude',\n",
              " 'housing_median_age',\n",
              " 'total_rooms',\n",
              " 'total_bedrooms',\n",
              " 'population',\n",
              " 'households',\n",
              " 'median_income',\n",
              " 'median_house_value',\n",
              " 'ocean_proximity']"
            ]
          },
          "execution_count": 33,
          "metadata": {},
          "output_type": "execute_result"
        }
      ],
      "source": [
        "data.columns"
      ]
    },
    {
      "cell_type": "code",
      "execution_count": null,
      "id": "0244f976",
      "metadata": {
        "id": "0244f976"
      },
      "outputs": [],
      "source": [
        "features_all = ['longitude',\n",
        " 'latitude',\n",
        "'housing_median_age',\n",
        " 'total_rooms',\n",
        " 'total_bedrooms',\n",
        " 'population',\n",
        " 'households',\n",
        " 'median_income',\n",
        " 'ocean_proximity_ohe']\n",
        "features_wo_cat = ['longitude',\n",
        " 'latitude',\n",
        "'housing_median_age',\n",
        " 'total_rooms',\n",
        " 'total_bedrooms',\n",
        " 'population',\n",
        " 'households',\n",
        " 'median_income']\n",
        "target =  'median_house_value'"
      ]
    },
    {
      "cell_type": "code",
      "execution_count": null,
      "id": "a5280218",
      "metadata": {
        "id": "a5280218"
      },
      "outputs": [],
      "source": [
        "numerical_columns=['longitude',\n",
        " 'latitude',\n",
        "'housing_median_age',\n",
        " 'total_rooms',\n",
        " 'total_bedrooms',\n",
        " 'population',\n",
        " 'households',\n",
        " 'median_income']"
      ]
    },
    {
      "cell_type": "code",
      "execution_count": null,
      "id": "3b57b92b",
      "metadata": {
        "id": "3b57b92b"
      },
      "outputs": [],
      "source": [
        "categorical_assembler = \\\n",
        "        VectorAssembler(inputCols=[cat_column+'_ohe'],\n",
        "                                        outputCol=\"categorical_features\")\n",
        "train_data = categorical_assembler.transform(train_data)"
      ]
    },
    {
      "cell_type": "code",
      "execution_count": null,
      "id": "2a0c5e1d",
      "metadata": {
        "id": "2a0c5e1d"
      },
      "outputs": [],
      "source": [
        "categorical_assembler = \\\n",
        "        VectorAssembler(inputCols=[cat_column+'_ohe'],\n",
        "                                        outputCol=\"categorical_features\")\n",
        "test_data = categorical_assembler.transform(test_data)"
      ]
    },
    {
      "cell_type": "code",
      "execution_count": null,
      "id": "f022c84d",
      "metadata": {
        "id": "f022c84d"
      },
      "outputs": [],
      "source": [
        "numeric_assembler = VectorAssembler(inputCols=[c for c in numerical_columns],outputCol='numeric_features')\n",
        "train_data= numeric_assembler.transform(train_data)"
      ]
    },
    {
      "cell_type": "code",
      "execution_count": null,
      "id": "7fe8715d",
      "metadata": {
        "id": "7fe8715d"
      },
      "outputs": [],
      "source": [
        "numeric_assembler = VectorAssembler(inputCols=[c for c in numerical_columns],outputCol='numeric_features')\n",
        "test_data= numeric_assembler.transform(test_data)"
      ]
    },
    {
      "cell_type": "code",
      "execution_count": null,
      "id": "a1586d6d",
      "metadata": {
        "id": "a1586d6d",
        "outputId": "e27abaf2-af96-4a90-dc58-f75f32e33ccc"
      },
      "outputs": [
        {
          "name": "stdout",
          "output_type": "stream",
          "text": [
            "root\n",
            " |-- longitude: double (nullable = true)\n",
            " |-- latitude: double (nullable = true)\n",
            " |-- housing_median_age: double (nullable = true)\n",
            " |-- total_rooms: double (nullable = true)\n",
            " |-- total_bedrooms: double (nullable = false)\n",
            " |-- population: double (nullable = true)\n",
            " |-- households: double (nullable = true)\n",
            " |-- median_income: double (nullable = true)\n",
            " |-- median_house_value: double (nullable = true)\n",
            " |-- ocean_proximity: string (nullable = true)\n",
            " |-- ocean_proximity_idx: double (nullable = false)\n",
            " |-- ocean_proximity_ohe: vector (nullable = true)\n",
            " |-- categorical_features: vector (nullable = true)\n",
            " |-- numeric_features: vector (nullable = true)\n",
            "\n"
          ]
        }
      ],
      "source": [
        "train_data.printSchema()"
      ]
    },
    {
      "cell_type": "code",
      "execution_count": null,
      "id": "d2e6e1c8",
      "metadata": {
        "scrolled": true,
        "id": "d2e6e1c8",
        "outputId": "7b69ee72-df0d-48a2-ad4e-6d63ba19c09b"
      },
      "outputs": [
        {
          "name": "stdout",
          "output_type": "stream",
          "text": [
            "root\n",
            " |-- longitude: double (nullable = true)\n",
            " |-- latitude: double (nullable = true)\n",
            " |-- housing_median_age: double (nullable = true)\n",
            " |-- total_rooms: double (nullable = true)\n",
            " |-- total_bedrooms: double (nullable = false)\n",
            " |-- population: double (nullable = true)\n",
            " |-- households: double (nullable = true)\n",
            " |-- median_income: double (nullable = true)\n",
            " |-- median_house_value: double (nullable = true)\n",
            " |-- ocean_proximity: string (nullable = true)\n",
            " |-- ocean_proximity_idx: double (nullable = false)\n",
            " |-- ocean_proximity_ohe: vector (nullable = true)\n",
            " |-- categorical_features: vector (nullable = true)\n",
            " |-- numeric_features: vector (nullable = true)\n",
            "\n"
          ]
        }
      ],
      "source": [
        "test_data.printSchema()"
      ]
    },
    {
      "cell_type": "code",
      "execution_count": null,
      "id": "34d183d1",
      "metadata": {
        "id": "34d183d1"
      },
      "outputs": [],
      "source": [
        "\n",
        "standardScaler = StandardScaler(inputCol='numeric_features', outputCol='numeric_features_snrd')\n",
        "train_data = standardScaler.fit(train_data).transform(train_data)\n",
        "test_data = standardScaler.fit(test_data).transform(test_data)"
      ]
    },
    {
      "cell_type": "code",
      "execution_count": null,
      "id": "0a7829d5",
      "metadata": {
        "id": "0a7829d5"
      },
      "outputs": [],
      "source": [
        "features_all = ['numeric_features_snrd','categorical_features']\n",
        "features = ['numeric_features_snrd']"
      ]
    },
    {
      "cell_type": "code",
      "execution_count": null,
      "id": "0a08994f",
      "metadata": {
        "scrolled": true,
        "id": "0a08994f"
      },
      "outputs": [],
      "source": [
        "# передадим все нужные признаки в вектор\n",
        "features_assembler = VectorAssembler(inputCols=features_all,outputCol='features')\n",
        "train_data = features_assembler.transform(train_data)\n"
      ]
    },
    {
      "cell_type": "code",
      "execution_count": null,
      "id": "a90503d8",
      "metadata": {
        "id": "a90503d8"
      },
      "outputs": [],
      "source": [
        "# передадим все нужные признаки в вектор\n",
        "features_assembler = VectorAssembler(inputCols=features_all,outputCol='features')\n",
        "test_data = features_assembler.transform(test_data)\n"
      ]
    },
    {
      "cell_type": "code",
      "execution_count": null,
      "id": "03324518",
      "metadata": {
        "id": "03324518"
      },
      "outputs": [],
      "source": [
        "# передадим все,кроме категориальных, признаки в вектор\n",
        "features_assembler_wo_cat = VectorAssembler(inputCols=features,outputCol='features_wo_cat')\n",
        "train_data = features_assembler_wo_cat.transform(train_data)"
      ]
    },
    {
      "cell_type": "code",
      "execution_count": null,
      "id": "ecf24a54",
      "metadata": {
        "id": "ecf24a54"
      },
      "outputs": [],
      "source": [
        "# передадим все,кроме категориальных, признаки в вектор\n",
        "features_assembler_wo_cat = VectorAssembler(inputCols=features,outputCol='features_wo_cat')\n",
        "test_data = features_assembler_wo_cat.transform(test_data)"
      ]
    },
    {
      "cell_type": "code",
      "execution_count": null,
      "id": "6bd96e57",
      "metadata": {
        "scrolled": false,
        "id": "6bd96e57",
        "outputId": "b566f2e5-2b2c-49af-810c-39e18838ebbc"
      },
      "outputs": [
        {
          "name": "stdout",
          "output_type": "stream",
          "text": [
            "root\n",
            " |-- longitude: double (nullable = true)\n",
            " |-- latitude: double (nullable = true)\n",
            " |-- housing_median_age: double (nullable = true)\n",
            " |-- total_rooms: double (nullable = true)\n",
            " |-- total_bedrooms: double (nullable = false)\n",
            " |-- population: double (nullable = true)\n",
            " |-- households: double (nullable = true)\n",
            " |-- median_income: double (nullable = true)\n",
            " |-- median_house_value: double (nullable = true)\n",
            " |-- ocean_proximity: string (nullable = true)\n",
            " |-- ocean_proximity_idx: double (nullable = false)\n",
            " |-- ocean_proximity_ohe: vector (nullable = true)\n",
            " |-- categorical_features: vector (nullable = true)\n",
            " |-- numeric_features: vector (nullable = true)\n",
            " |-- numeric_features_snrd: vector (nullable = true)\n",
            " |-- features: vector (nullable = true)\n",
            " |-- features_wo_cat: vector (nullable = true)\n",
            "\n"
          ]
        }
      ],
      "source": [
        "train_data.printSchema()\n"
      ]
    },
    {
      "cell_type": "code",
      "execution_count": null,
      "id": "80e37057",
      "metadata": {
        "id": "80e37057",
        "outputId": "29765e77-10ab-423e-8bfc-dab95a2fa63a"
      },
      "outputs": [
        {
          "name": "stdout",
          "output_type": "stream",
          "text": [
            "root\n",
            " |-- longitude: double (nullable = true)\n",
            " |-- latitude: double (nullable = true)\n",
            " |-- housing_median_age: double (nullable = true)\n",
            " |-- total_rooms: double (nullable = true)\n",
            " |-- total_bedrooms: double (nullable = false)\n",
            " |-- population: double (nullable = true)\n",
            " |-- households: double (nullable = true)\n",
            " |-- median_income: double (nullable = true)\n",
            " |-- median_house_value: double (nullable = true)\n",
            " |-- ocean_proximity: string (nullable = true)\n",
            " |-- ocean_proximity_idx: double (nullable = false)\n",
            " |-- ocean_proximity_ohe: vector (nullable = true)\n",
            " |-- categorical_features: vector (nullable = true)\n",
            " |-- numeric_features: vector (nullable = true)\n",
            " |-- numeric_features_snrd: vector (nullable = true)\n",
            " |-- features: vector (nullable = true)\n",
            " |-- features_wo_cat: vector (nullable = true)\n",
            "\n"
          ]
        }
      ],
      "source": [
        "test_data.printSchema()"
      ]
    },
    {
      "cell_type": "markdown",
      "id": "9f0a82f3",
      "metadata": {
        "id": "9f0a82f3"
      },
      "source": [
        "# Обучение моделей"
      ]
    },
    {
      "cell_type": "markdown",
      "id": "a90bfc5f",
      "metadata": {
        "id": "a90bfc5f"
      },
      "source": [
        "##  Используем все признаки:"
      ]
    },
    {
      "cell_type": "code",
      "execution_count": null,
      "id": "162cbf15",
      "metadata": {
        "id": "162cbf15"
      },
      "outputs": [],
      "source": [
        "def lin_reg(label,features,train,test,n_to_show=10):\n",
        "    linear_regression = LinearRegression(labelCol=label,featuresCol=features)\n",
        "    model = linear_regression.fit(train)\n",
        "    predict = model.transform(test)\n",
        "    predict.select(['median_house_value','features','prediction']).show(n_to_show)\n",
        "    regress_eval_rmse = RegressionEvaluator(\n",
        "    labelCol=label, predictionCol=\"prediction\", metricName=\"rmse\")\n",
        "    print('RMSE of model is = %g' % regress_eval_rmse.evaluate(predict))\n",
        "    regress_eval_r2 = RegressionEvaluator(\n",
        "        labelCol=label, predictionCol=\"prediction\", metricName=\"r2\")\n",
        "    print('R2 of model is = %g' % regress_eval_r2.evaluate(predict))\n",
        "    regress_eval_mae = RegressionEvaluator(\n",
        "        labelCol=label, predictionCol=\"prediction\", metricName=\"mae\")\n",
        "    print('MAE of model is = %g' % regress_eval_mae.evaluate(predict))"
      ]
    },
    {
      "cell_type": "code",
      "execution_count": null,
      "id": "db6d9ace",
      "metadata": {
        "scrolled": true,
        "id": "db6d9ace",
        "outputId": "892e90e9-4126-491f-ae2c-521b4aeb7926"
      },
      "outputs": [
        {
          "name": "stderr",
          "output_type": "stream",
          "text": [
            "22/12/24 21:53:49 WARN Instrumentation: [19c0d11e] regParam is zero, which might cause numerical instability and overfitting.\n",
            "22/12/24 21:53:49 WARN BLAS: Failed to load implementation from: com.github.fommil.netlib.NativeSystemBLAS\n",
            "22/12/24 21:53:49 WARN BLAS: Failed to load implementation from: com.github.fommil.netlib.NativeRefBLAS\n",
            "22/12/24 21:53:49 WARN LAPACK: Failed to load implementation from: com.github.fommil.netlib.NativeSystemLAPACK\n",
            "22/12/24 21:53:49 WARN LAPACK: Failed to load implementation from: com.github.fommil.netlib.NativeRefLAPACK\n"
          ]
        },
        {
          "name": "stdout",
          "output_type": "stream",
          "text": [
            "+------------------+--------------------+------------------+\n",
            "|median_house_value|            features|        prediction|\n",
            "+------------------+--------------------+------------------+\n",
            "|           76100.0|[-62.346767604200...|192100.06063064537|\n",
            "|           50800.0|[-62.336731907201...|235885.69687341922|\n",
            "|           78300.0|[-62.331714058702...|144672.87973488192|\n",
            "|           58100.0|[-62.326696210203...|160465.46999319107|\n",
            "|           69000.0|[-62.316660513204...| 195867.8584616005|\n",
            "|           74600.0|[-62.316660513204...|122185.61747195455|\n",
            "|           72200.0|[-62.311642664705...|182737.90533559886|\n",
            "|           70500.0|[-62.311642664705...|162907.24843274546|\n",
            "|           86400.0|[-62.306624816205...| 205645.5844819143|\n",
            "|          128900.0|[-62.306624816205...| 227745.0852126556|\n",
            "|           70500.0|[-62.306624816205...| 182361.2132793374|\n",
            "|           74100.0|[-62.301606967706...|168452.69721016963|\n",
            "|           80500.0|[-62.301606967706...|199099.98477088404|\n",
            "|           96000.0|[-62.301606967706...|190461.57947707945|\n",
            "|           75000.0|[-62.301606967706...|124585.10078032152|\n",
            "+------------------+--------------------+------------------+\n",
            "only showing top 15 rows\n",
            "\n",
            "RMSE of model is = 71916.5\n",
            "R2 of model is = 0.609767\n",
            "MAE of model is = 55351.9\n"
          ]
        }
      ],
      "source": [
        "lin_reg(label=target,features='features',train=train_data,test=test_data,n_to_show=15)"
      ]
    },
    {
      "cell_type": "markdown",
      "id": "7bbb7b08",
      "metadata": {
        "id": "7bbb7b08"
      },
      "source": [
        "##  Используем только числовые признаки:\n"
      ]
    },
    {
      "cell_type": "code",
      "execution_count": null,
      "id": "131a3579",
      "metadata": {
        "scrolled": true,
        "id": "131a3579",
        "outputId": "49394c1d-82b4-4997-d1b2-0e8f2085e284"
      },
      "outputs": [
        {
          "name": "stderr",
          "output_type": "stream",
          "text": [
            "22/12/24 21:53:53 WARN Instrumentation: [45db6e9d] regParam is zero, which might cause numerical instability and overfitting.\n"
          ]
        },
        {
          "name": "stdout",
          "output_type": "stream",
          "text": [
            "+------------------+--------------------+------------------+\n",
            "|median_house_value|            features|        prediction|\n",
            "+------------------+--------------------+------------------+\n",
            "|           76100.0|[-62.346767604200...|180255.25655686483|\n",
            "|           50800.0|[-62.336731907201...| 215569.0264028539|\n",
            "|           78300.0|[-62.331714058702...|105904.67190399021|\n",
            "|           58100.0|[-62.326696210203...| 138752.4593104166|\n",
            "|           69000.0|[-62.316660513204...|173735.28019600734|\n",
            "|           74600.0|[-62.316660513204...| 80811.55055968184|\n",
            "|           72200.0|[-62.311642664705...|159941.94416810526|\n",
            "|           70500.0|[-62.311642664705...|139594.87999911653|\n",
            "|           86400.0|[-62.306624816205...|  185764.502147282|\n",
            "|          128900.0|[-62.306624816205...|205079.84416332748|\n",
            "|           70500.0|[-62.306624816205...| 159813.5739037334|\n",
            "|           74100.0|[-62.301606967706...|146914.45745939296|\n",
            "|           80500.0|[-62.301606967706...|178009.03603035584|\n",
            "|           96000.0|[-62.301606967706...|163920.25051928218|\n",
            "|           75000.0|[-62.301606967706...| 79942.29465930909|\n",
            "+------------------+--------------------+------------------+\n",
            "only showing top 15 rows\n",
            "\n",
            "RMSE of model is = 75958\n",
            "R2 of model is = 0.564675\n",
            "MAE of model is = 61018.1\n"
          ]
        }
      ],
      "source": [
        "lin_reg(label=target,features='features_wo_cat',train=train_data,test=test_data,n_to_show=15)"
      ]
    },
    {
      "cell_type": "code",
      "execution_count": null,
      "id": "9f11770d",
      "metadata": {
        "id": "9f11770d"
      },
      "outputs": [],
      "source": [
        "spark.stop()"
      ]
    },
    {
      "cell_type": "markdown",
      "id": "757fd103",
      "metadata": {
        "id": "757fd103"
      },
      "source": [
        "# Анализ результатов"
      ]
    },
    {
      "cell_type": "markdown",
      "id": "f2306f22",
      "metadata": {
        "id": "f2306f22"
      },
      "source": [
        "Юез стандартизации:\n",
        "\n",
        "Модель со всеми признаками:\n",
        "\n",
        "* **RMSE** of model is = **69780.1**\n",
        "\n",
        "* **R2** of model is = **0.632608**\n",
        "\n",
        "* **MAE** of model is = **50100.9**\n",
        "\n",
        "Модель без категориальных признаков:\n",
        "\n",
        "* **RMSE** of model is = **70634.6**\n",
        "\n",
        "* **R2** of model is = **0.623555**\n",
        "\n",
        "* **MAE** of model is = **51165.8**\n",
        "\n",
        "С стандартизацией\n",
        "\n",
        "Модель со всеми признаками:\n",
        "\n",
        "* **RMSE** of model is = **71916.5**\n",
        "* **R2** of model is = **0.609767**\n",
        "* **MAE** of model is = **55351.9**\n",
        "\n",
        "Модель без категориальных признаков:\n",
        "\n",
        "* **RMSE** of model is = **75958**\n",
        "\n",
        "* **R2** of model is = **0.564675**\n",
        "\n",
        "* **MAE** of model is = **61018.1**\n"
      ]
    },
    {
      "cell_type": "markdown",
      "id": "4f452999",
      "metadata": {
        "id": "4f452999"
      },
      "source": [
        "Вывод:\n",
        "\n",
        "Можем заметить, что модель со всеми признакми лучше, чем без категориальных, однако далека от хорошей модели.\n",
        "Модель без стандартизации показала результаты лучше."
      ]
    }
  ],
  "metadata": {
    "ExecuteTimeLog": [
      {
        "duration": 14968,
        "start_time": "2022-12-21T15:45:30.960Z"
      },
      {
        "duration": 7575,
        "start_time": "2022-12-21T15:46:02.160Z"
      },
      {
        "duration": 697,
        "start_time": "2022-12-21T15:46:09.736Z"
      },
      {
        "duration": 433,
        "start_time": "2022-12-21T15:55:27.901Z"
      },
      {
        "duration": 13,
        "start_time": "2022-12-21T15:55:34.547Z"
      },
      {
        "duration": 66,
        "start_time": "2022-12-21T15:55:47.107Z"
      },
      {
        "duration": 6,
        "start_time": "2022-12-21T15:56:02.172Z"
      },
      {
        "duration": 2,
        "start_time": "2022-12-21T15:57:44.138Z"
      },
      {
        "duration": 5,
        "start_time": "2022-12-21T15:57:49.730Z"
      },
      {
        "duration": 6,
        "start_time": "2022-12-21T15:57:52.203Z"
      },
      {
        "duration": 7,
        "start_time": "2022-12-21T15:57:55.210Z"
      },
      {
        "duration": 6,
        "start_time": "2022-12-21T15:58:52.810Z"
      },
      {
        "duration": 3,
        "start_time": "2022-12-21T15:58:55.642Z"
      },
      {
        "duration": 9,
        "start_time": "2022-12-21T15:59:10.586Z"
      },
      {
        "duration": 7,
        "start_time": "2022-12-21T15:59:16.554Z"
      },
      {
        "duration": 44,
        "start_time": "2022-12-21T16:00:01.857Z"
      },
      {
        "duration": 820,
        "start_time": "2022-12-21T16:00:02.816Z"
      },
      {
        "duration": 269,
        "start_time": "2022-12-21T16:00:04.672Z"
      },
      {
        "duration": 4,
        "start_time": "2022-12-21T16:00:05.316Z"
      },
      {
        "duration": 4,
        "start_time": "2022-12-21T16:00:08.009Z"
      },
      {
        "duration": 20,
        "start_time": "2022-12-21T16:00:08.785Z"
      },
      {
        "duration": 4246,
        "start_time": "2022-12-21T16:00:15.281Z"
      },
      {
        "duration": 303,
        "start_time": "2022-12-21T16:03:22.136Z"
      },
      {
        "duration": 18,
        "start_time": "2022-12-21T16:05:45.846Z"
      },
      {
        "duration": 13,
        "start_time": "2022-12-21T16:06:19.608Z"
      },
      {
        "duration": 15,
        "start_time": "2022-12-21T16:06:21.646Z"
      },
      {
        "duration": 13,
        "start_time": "2022-12-21T16:08:23.741Z"
      },
      {
        "duration": 19,
        "start_time": "2022-12-21T16:08:31.989Z"
      },
      {
        "duration": 13,
        "start_time": "2022-12-21T16:08:41.541Z"
      },
      {
        "duration": 116,
        "start_time": "2022-12-21T16:09:00.349Z"
      },
      {
        "duration": 12,
        "start_time": "2022-12-21T16:12:15.140Z"
      },
      {
        "duration": 11,
        "start_time": "2022-12-21T16:12:40.571Z"
      },
      {
        "duration": 11,
        "start_time": "2022-12-21T16:12:42.915Z"
      },
      {
        "duration": 11,
        "start_time": "2022-12-21T16:12:53.974Z"
      },
      {
        "duration": 6,
        "start_time": "2022-12-21T16:13:47.410Z"
      },
      {
        "duration": 5,
        "start_time": "2022-12-21T16:13:54.930Z"
      },
      {
        "duration": 6,
        "start_time": "2022-12-21T16:14:00.731Z"
      },
      {
        "duration": 2,
        "start_time": "2022-12-21T16:14:33.746Z"
      },
      {
        "duration": 12,
        "start_time": "2022-12-21T16:14:34.410Z"
      },
      {
        "duration": 12,
        "start_time": "2022-12-21T16:15:09.754Z"
      },
      {
        "duration": 11,
        "start_time": "2022-12-21T16:15:13.674Z"
      },
      {
        "duration": 2,
        "start_time": "2022-12-21T16:15:16.459Z"
      },
      {
        "duration": 12,
        "start_time": "2022-12-21T16:15:16.821Z"
      },
      {
        "duration": 12,
        "start_time": "2022-12-21T16:15:27.483Z"
      },
      {
        "duration": 4,
        "start_time": "2022-12-21T16:15:37.594Z"
      },
      {
        "duration": 526,
        "start_time": "2022-12-21T16:15:39.826Z"
      },
      {
        "duration": 219,
        "start_time": "2022-12-21T16:15:40.354Z"
      },
      {
        "duration": 53,
        "start_time": "2022-12-21T16:15:40.575Z"
      },
      {
        "duration": 6,
        "start_time": "2022-12-21T16:15:40.631Z"
      },
      {
        "duration": 2395,
        "start_time": "2022-12-21T16:15:40.638Z"
      },
      {
        "duration": 158,
        "start_time": "2022-12-21T16:15:43.035Z"
      },
      {
        "duration": 3,
        "start_time": "2022-12-21T16:15:43.194Z"
      },
      {
        "duration": 5,
        "start_time": "2022-12-21T16:15:46.073Z"
      },
      {
        "duration": 13,
        "start_time": "2022-12-21T16:15:49.601Z"
      },
      {
        "duration": 11,
        "start_time": "2022-12-21T16:15:57.809Z"
      },
      {
        "duration": 15,
        "start_time": "2022-12-21T16:16:00.922Z"
      },
      {
        "duration": 12,
        "start_time": "2022-12-21T16:16:02.947Z"
      },
      {
        "duration": 1228,
        "start_time": "2022-12-21T16:16:06.042Z"
      },
      {
        "duration": 28,
        "start_time": "2022-12-21T16:16:20.626Z"
      },
      {
        "duration": 9,
        "start_time": "2022-12-21T16:16:23.450Z"
      },
      {
        "duration": 9,
        "start_time": "2022-12-21T16:16:26.698Z"
      },
      {
        "duration": 10,
        "start_time": "2022-12-21T16:16:31.377Z"
      },
      {
        "duration": 171,
        "start_time": "2022-12-21T16:16:35.057Z"
      },
      {
        "duration": 16,
        "start_time": "2022-12-21T16:17:57.880Z"
      },
      {
        "duration": 19,
        "start_time": "2022-12-21T16:18:05.249Z"
      },
      {
        "duration": 68,
        "start_time": "2022-12-21T16:18:26.752Z"
      },
      {
        "duration": 17,
        "start_time": "2022-12-21T16:18:28.793Z"
      },
      {
        "duration": 454,
        "start_time": "2022-12-21T16:18:35.104Z"
      },
      {
        "duration": 6,
        "start_time": "2022-12-21T16:19:04.077Z"
      },
      {
        "duration": 266,
        "start_time": "2022-12-21T16:19:04.974Z"
      },
      {
        "duration": 2,
        "start_time": "2022-12-21T16:19:05.242Z"
      },
      {
        "duration": 7,
        "start_time": "2022-12-21T16:19:20.745Z"
      },
      {
        "duration": 8,
        "start_time": "2022-12-21T16:19:36.743Z"
      },
      {
        "duration": 12,
        "start_time": "2022-12-21T16:19:42.249Z"
      },
      {
        "duration": 9,
        "start_time": "2022-12-21T16:19:48.231Z"
      },
      {
        "duration": 25,
        "start_time": "2022-12-21T16:20:12.384Z"
      },
      {
        "duration": 8,
        "start_time": "2022-12-21T16:20:29.455Z"
      },
      {
        "duration": 6,
        "start_time": "2022-12-21T16:20:32.392Z"
      },
      {
        "duration": 6,
        "start_time": "2022-12-21T16:21:12.479Z"
      },
      {
        "duration": 2,
        "start_time": "2022-12-21T16:21:18.535Z"
      },
      {
        "duration": 277,
        "start_time": "2022-12-21T16:21:20.975Z"
      },
      {
        "duration": 2,
        "start_time": "2022-12-21T16:21:21.399Z"
      },
      {
        "duration": 6,
        "start_time": "2022-12-21T16:21:30.727Z"
      },
      {
        "duration": 16,
        "start_time": "2022-12-21T16:21:59.951Z"
      },
      {
        "duration": 221,
        "start_time": "2022-12-21T16:22:00.655Z"
      },
      {
        "duration": 289,
        "start_time": "2022-12-21T16:22:03.095Z"
      },
      {
        "duration": 6,
        "start_time": "2022-12-21T16:22:10.070Z"
      },
      {
        "duration": 12,
        "start_time": "2022-12-21T16:22:12.311Z"
      },
      {
        "duration": 7,
        "start_time": "2022-12-21T16:22:40.431Z"
      },
      {
        "duration": 20,
        "start_time": "2022-12-21T16:22:42.270Z"
      },
      {
        "duration": 9,
        "start_time": "2022-12-21T16:23:00.278Z"
      },
      {
        "duration": 10,
        "start_time": "2022-12-21T16:23:03.087Z"
      },
      {
        "duration": 5,
        "start_time": "2022-12-21T16:23:34.772Z"
      },
      {
        "duration": 3789,
        "start_time": "2022-12-21T16:23:53.060Z"
      },
      {
        "duration": 4,
        "start_time": "2022-12-21T16:23:57.246Z"
      },
      {
        "duration": 178,
        "start_time": "2022-12-21T16:24:03.398Z"
      },
      {
        "duration": 2204,
        "start_time": "2022-12-21T16:24:08.037Z"
      },
      {
        "duration": 76,
        "start_time": "2022-12-21T16:24:18.469Z"
      },
      {
        "duration": 2320,
        "start_time": "2022-12-21T16:24:20.125Z"
      },
      {
        "duration": 1844,
        "start_time": "2022-12-21T16:24:24.997Z"
      },
      {
        "duration": 93,
        "start_time": "2022-12-21T16:42:25.397Z"
      },
      {
        "duration": 84,
        "start_time": "2022-12-21T16:42:38.502Z"
      },
      {
        "duration": 84,
        "start_time": "2022-12-21T16:42:49.008Z"
      },
      {
        "duration": 72,
        "start_time": "2022-12-21T16:42:51.853Z"
      },
      {
        "duration": 72,
        "start_time": "2022-12-21T16:42:57.733Z"
      },
      {
        "duration": 34,
        "start_time": "2022-12-21T16:43:05.573Z"
      },
      {
        "duration": 5,
        "start_time": "2022-12-21T16:43:22.764Z"
      },
      {
        "duration": 20,
        "start_time": "2022-12-21T16:43:25.877Z"
      },
      {
        "duration": 70,
        "start_time": "2022-12-21T16:44:12.837Z"
      },
      {
        "duration": 19,
        "start_time": "2022-12-21T16:44:15.380Z"
      },
      {
        "duration": 88,
        "start_time": "2022-12-21T16:44:17.986Z"
      },
      {
        "duration": 19,
        "start_time": "2022-12-21T16:44:18.829Z"
      },
      {
        "duration": 20,
        "start_time": "2022-12-21T16:44:25.572Z"
      },
      {
        "duration": 92,
        "start_time": "2022-12-21T16:44:29.962Z"
      },
      {
        "duration": 69,
        "start_time": "2022-12-21T16:44:33.180Z"
      },
      {
        "duration": 17,
        "start_time": "2022-12-21T16:44:37.230Z"
      },
      {
        "duration": 443,
        "start_time": "2022-12-21T16:44:39.107Z"
      },
      {
        "duration": 85,
        "start_time": "2022-12-21T16:44:51.468Z"
      },
      {
        "duration": 70,
        "start_time": "2022-12-21T16:44:54.765Z"
      },
      {
        "duration": 198,
        "start_time": "2022-12-21T16:44:55.635Z"
      },
      {
        "duration": 15,
        "start_time": "2022-12-21T16:44:57.036Z"
      },
      {
        "duration": 241,
        "start_time": "2022-12-21T16:44:57.596Z"
      },
      {
        "duration": 12,
        "start_time": "2022-12-21T16:48:59.778Z"
      },
      {
        "duration": 13,
        "start_time": "2022-12-21T16:49:05.677Z"
      },
      {
        "duration": 12,
        "start_time": "2022-12-21T16:49:14.068Z"
      },
      {
        "duration": 82,
        "start_time": "2022-12-21T16:50:47.713Z"
      },
      {
        "duration": 69,
        "start_time": "2022-12-21T16:50:51.778Z"
      },
      {
        "duration": 201,
        "start_time": "2022-12-21T16:50:59.834Z"
      },
      {
        "duration": 4,
        "start_time": "2022-12-21T16:51:02.025Z"
      },
      {
        "duration": 9,
        "start_time": "2022-12-21T16:51:10.265Z"
      },
      {
        "duration": 5,
        "start_time": "2022-12-21T16:51:10.524Z"
      },
      {
        "duration": 140,
        "start_time": "2022-12-21T16:51:15.042Z"
      },
      {
        "duration": 4,
        "start_time": "2022-12-21T16:51:15.185Z"
      },
      {
        "duration": 93,
        "start_time": "2022-12-21T16:51:53.064Z"
      },
      {
        "duration": 94,
        "start_time": "2022-12-21T16:52:12.241Z"
      },
      {
        "duration": 35,
        "start_time": "2022-12-21T16:52:24.265Z"
      },
      {
        "duration": 105,
        "start_time": "2022-12-21T16:52:27.792Z"
      },
      {
        "duration": 66,
        "start_time": "2022-12-21T16:52:39.417Z"
      },
      {
        "duration": 68,
        "start_time": "2022-12-21T16:52:41.576Z"
      },
      {
        "duration": 2,
        "start_time": "2022-12-21T16:52:44.261Z"
      },
      {
        "duration": 4,
        "start_time": "2022-12-21T16:52:47.117Z"
      },
      {
        "duration": 1382,
        "start_time": "2022-12-21T16:52:55.216Z"
      },
      {
        "duration": 16,
        "start_time": "2022-12-21T16:53:04.146Z"
      },
      {
        "duration": 1241,
        "start_time": "2022-12-21T16:53:06.768Z"
      },
      {
        "duration": 174,
        "start_time": "2022-12-21T16:53:12.061Z"
      },
      {
        "duration": 115,
        "start_time": "2022-12-21T16:53:19.448Z"
      },
      {
        "duration": 299,
        "start_time": "2022-12-21T16:53:24.972Z"
      },
      {
        "duration": 98,
        "start_time": "2022-12-21T16:53:26.009Z"
      },
      {
        "duration": 4,
        "start_time": "2022-12-21T16:53:29.978Z"
      },
      {
        "duration": 3,
        "start_time": "2022-12-21T16:53:30.152Z"
      },
      {
        "duration": 2,
        "start_time": "2022-12-21T16:53:30.305Z"
      },
      {
        "duration": 1177,
        "start_time": "2022-12-21T16:53:30.465Z"
      },
      {
        "duration": 87,
        "start_time": "2022-12-21T16:53:31.644Z"
      },
      {
        "duration": 12,
        "start_time": "2022-12-21T16:53:32.515Z"
      },
      {
        "duration": 131,
        "start_time": "2022-12-21T16:53:32.856Z"
      },
      {
        "duration": 3,
        "start_time": "2022-12-21T16:53:33.952Z"
      },
      {
        "duration": 108,
        "start_time": "2022-12-21T16:53:38.360Z"
      },
      {
        "duration": 16,
        "start_time": "2022-12-21T16:53:42.751Z"
      },
      {
        "duration": 100,
        "start_time": "2022-12-21T16:53:46.760Z"
      },
      {
        "duration": 91,
        "start_time": "2022-12-21T16:53:53.145Z"
      },
      {
        "duration": 1237,
        "start_time": "2022-12-21T16:53:57.871Z"
      },
      {
        "duration": 11,
        "start_time": "2022-12-21T16:54:40.151Z"
      },
      {
        "duration": 3,
        "start_time": "2022-12-21T17:07:24.658Z"
      },
      {
        "duration": 125,
        "start_time": "2022-12-21T17:07:37.962Z"
      },
      {
        "duration": 3,
        "start_time": "2022-12-21T17:08:03.034Z"
      },
      {
        "duration": 268,
        "start_time": "2022-12-21T17:08:16.593Z"
      },
      {
        "duration": 5,
        "start_time": "2022-12-21T17:08:22.857Z"
      },
      {
        "duration": 21,
        "start_time": "2022-12-21T17:09:41.904Z"
      },
      {
        "duration": 2,
        "start_time": "2022-12-21T17:11:27.816Z"
      },
      {
        "duration": 11,
        "start_time": "2022-12-21T17:11:40.585Z"
      },
      {
        "duration": 14,
        "start_time": "2022-12-21T17:12:30.408Z"
      },
      {
        "duration": 15,
        "start_time": "2022-12-21T17:12:36.720Z"
      },
      {
        "duration": 6,
        "start_time": "2022-12-21T17:14:22.199Z"
      },
      {
        "duration": 4,
        "start_time": "2022-12-21T17:14:25.279Z"
      },
      {
        "duration": 1011,
        "start_time": "2022-12-21T17:14:46.136Z"
      },
      {
        "duration": 190,
        "start_time": "2022-12-21T17:14:50.911Z"
      },
      {
        "duration": 15498,
        "start_time": "2022-12-21T17:15:06.149Z"
      },
      {
        "duration": 8083,
        "start_time": "2022-12-21T17:15:21.649Z"
      },
      {
        "duration": 710,
        "start_time": "2022-12-21T17:15:29.733Z"
      },
      {
        "duration": 13,
        "start_time": "2022-12-21T17:15:30.445Z"
      },
      {
        "duration": 21,
        "start_time": "2022-12-21T17:15:30.528Z"
      },
      {
        "duration": 15,
        "start_time": "2022-12-21T17:15:30.551Z"
      },
      {
        "duration": 4697,
        "start_time": "2022-12-21T17:15:30.567Z"
      },
      {
        "duration": 678,
        "start_time": "2022-12-21T17:15:35.266Z"
      },
      {
        "duration": 11,
        "start_time": "2022-12-21T17:15:35.946Z"
      },
      {
        "duration": 96,
        "start_time": "2022-12-21T17:15:35.959Z"
      },
      {
        "duration": 2777,
        "start_time": "2022-12-21T17:15:36.056Z"
      },
      {
        "duration": 3,
        "start_time": "2022-12-21T17:15:38.835Z"
      },
      {
        "duration": 11,
        "start_time": "2022-12-21T17:15:38.840Z"
      },
      {
        "duration": 6,
        "start_time": "2022-12-21T17:15:38.853Z"
      },
      {
        "duration": 25,
        "start_time": "2022-12-21T17:15:38.860Z"
      },
      {
        "duration": 1277,
        "start_time": "2022-12-21T17:15:38.886Z"
      },
      {
        "duration": 371,
        "start_time": "2022-12-21T17:15:40.165Z"
      },
      {
        "duration": 11,
        "start_time": "2022-12-21T17:15:40.538Z"
      },
      {
        "duration": 183,
        "start_time": "2022-12-21T17:16:19.910Z"
      },
      {
        "duration": 197,
        "start_time": "2022-12-21T17:16:26.141Z"
      },
      {
        "duration": 110,
        "start_time": "2022-12-21T17:16:33.389Z"
      },
      {
        "duration": 3480,
        "start_time": "2022-12-21T17:16:55.550Z"
      },
      {
        "duration": 218,
        "start_time": "2022-12-21T17:17:10.966Z"
      },
      {
        "duration": 2306,
        "start_time": "2022-12-21T17:17:13.525Z"
      },
      {
        "duration": 57,
        "start_time": "2022-12-21T17:18:04.749Z"
      },
      {
        "duration": 8,
        "start_time": "2022-12-21T17:18:09.485Z"
      },
      {
        "duration": 182,
        "start_time": "2022-12-21T17:18:24.901Z"
      },
      {
        "duration": 11,
        "start_time": "2022-12-21T17:18:27.261Z"
      },
      {
        "duration": 13,
        "start_time": "2022-12-21T17:18:45.757Z"
      },
      {
        "duration": 142,
        "start_time": "2022-12-21T17:18:48.493Z"
      },
      {
        "duration": 351,
        "start_time": "2022-12-21T17:19:01.317Z"
      },
      {
        "duration": 106,
        "start_time": "2022-12-21T17:19:05.877Z"
      },
      {
        "duration": 164,
        "start_time": "2022-12-21T17:19:10.669Z"
      },
      {
        "duration": 3,
        "start_time": "2022-12-21T17:20:02.204Z"
      },
      {
        "duration": 7,
        "start_time": "2022-12-21T17:20:02.397Z"
      },
      {
        "duration": 1763,
        "start_time": "2022-12-21T17:20:08.308Z"
      },
      {
        "duration": 2,
        "start_time": "2022-12-21T17:20:17.117Z"
      },
      {
        "duration": 1301,
        "start_time": "2022-12-21T17:20:17.252Z"
      },
      {
        "duration": 2,
        "start_time": "2022-12-21T17:20:24.869Z"
      },
      {
        "duration": 1271,
        "start_time": "2022-12-21T17:20:26.372Z"
      },
      {
        "duration": 1980,
        "start_time": "2022-12-21T17:20:36.892Z"
      },
      {
        "duration": 6,
        "start_time": "2022-12-21T17:21:36.269Z"
      },
      {
        "duration": 7,
        "start_time": "2022-12-21T17:22:01.659Z"
      },
      {
        "duration": 4,
        "start_time": "2022-12-21T17:22:04.004Z"
      },
      {
        "duration": 2,
        "start_time": "2022-12-21T17:23:26.884Z"
      },
      {
        "duration": 46,
        "start_time": "2022-12-22T13:14:15.968Z"
      },
      {
        "duration": 15106,
        "start_time": "2022-12-22T13:14:19.062Z"
      },
      {
        "duration": 8764,
        "start_time": "2022-12-22T13:14:34.171Z"
      },
      {
        "duration": 694,
        "start_time": "2022-12-22T13:14:42.937Z"
      },
      {
        "duration": 13,
        "start_time": "2022-12-22T13:14:43.633Z"
      },
      {
        "duration": 84,
        "start_time": "2022-12-22T13:14:43.648Z"
      },
      {
        "duration": 4,
        "start_time": "2022-12-22T13:14:43.734Z"
      },
      {
        "duration": 4494,
        "start_time": "2022-12-22T13:14:43.739Z"
      },
      {
        "duration": 621,
        "start_time": "2022-12-22T13:14:48.235Z"
      },
      {
        "duration": 68,
        "start_time": "2022-12-22T13:14:48.858Z"
      },
      {
        "duration": 100,
        "start_time": "2022-12-22T13:14:48.929Z"
      },
      {
        "duration": 2904,
        "start_time": "2022-12-22T13:14:49.031Z"
      },
      {
        "duration": 4,
        "start_time": "2022-12-22T13:14:51.936Z"
      },
      {
        "duration": 23,
        "start_time": "2022-12-22T13:14:51.942Z"
      },
      {
        "duration": 82,
        "start_time": "2022-12-22T13:14:51.966Z"
      },
      {
        "duration": 1317,
        "start_time": "2022-12-22T13:14:52.050Z"
      },
      {
        "duration": 57,
        "start_time": "2022-12-22T13:14:53.369Z"
      },
      {
        "duration": 4024,
        "start_time": "2022-12-22T13:14:53.428Z"
      },
      {
        "duration": 80,
        "start_time": "2022-12-22T13:14:57.453Z"
      },
      {
        "duration": 209,
        "start_time": "2022-12-22T13:14:57.534Z"
      },
      {
        "duration": 3424,
        "start_time": "2022-12-22T13:14:57.745Z"
      },
      {
        "duration": 60,
        "start_time": "2022-12-22T13:15:01.171Z"
      },
      {
        "duration": 3,
        "start_time": "2022-12-22T13:15:01.232Z"
      },
      {
        "duration": 50,
        "start_time": "2022-12-22T13:15:01.236Z"
      },
      {
        "duration": 8,
        "start_time": "2022-12-22T13:15:19.622Z"
      },
      {
        "duration": 7,
        "start_time": "2022-12-22T13:15:45.302Z"
      },
      {
        "duration": 7,
        "start_time": "2022-12-22T13:15:49.518Z"
      },
      {
        "duration": 7,
        "start_time": "2022-12-22T13:16:25.119Z"
      },
      {
        "duration": 7,
        "start_time": "2022-12-22T13:17:04.688Z"
      },
      {
        "duration": 7,
        "start_time": "2022-12-22T13:18:27.646Z"
      },
      {
        "duration": 8,
        "start_time": "2022-12-22T13:18:34.980Z"
      },
      {
        "duration": 7,
        "start_time": "2022-12-22T13:19:14.661Z"
      },
      {
        "duration": 7,
        "start_time": "2022-12-22T13:24:05.267Z"
      },
      {
        "duration": 20,
        "start_time": "2022-12-22T13:24:43.874Z"
      },
      {
        "duration": 8,
        "start_time": "2022-12-22T13:24:52.499Z"
      },
      {
        "duration": 12,
        "start_time": "2022-12-22T13:25:28.721Z"
      },
      {
        "duration": 35,
        "start_time": "2022-12-22T13:25:34.675Z"
      },
      {
        "duration": 421,
        "start_time": "2022-12-22T13:25:59.811Z"
      },
      {
        "duration": 4,
        "start_time": "2022-12-22T13:26:08.595Z"
      },
      {
        "duration": 3,
        "start_time": "2022-12-22T13:26:46.825Z"
      },
      {
        "duration": 9,
        "start_time": "2022-12-22T13:27:51.595Z"
      },
      {
        "duration": 2,
        "start_time": "2022-12-22T13:28:08.946Z"
      },
      {
        "duration": 7,
        "start_time": "2022-12-22T13:28:10.962Z"
      },
      {
        "duration": 7,
        "start_time": "2022-12-22T13:28:14.289Z"
      },
      {
        "duration": 11,
        "start_time": "2022-12-22T13:28:30.537Z"
      },
      {
        "duration": 40,
        "start_time": "2022-12-22T13:28:34.458Z"
      },
      {
        "duration": 14,
        "start_time": "2022-12-22T13:30:23.505Z"
      },
      {
        "duration": 271,
        "start_time": "2022-12-22T13:30:26.767Z"
      },
      {
        "duration": 109,
        "start_time": "2022-12-22T14:28:41.027Z"
      },
      {
        "duration": 102,
        "start_time": "2022-12-22T14:28:46.465Z"
      },
      {
        "duration": 117,
        "start_time": "2022-12-22T14:28:52.601Z"
      },
      {
        "duration": 74,
        "start_time": "2022-12-22T14:31:20.997Z"
      },
      {
        "duration": 3,
        "start_time": "2022-12-22T14:31:23.034Z"
      },
      {
        "duration": 40,
        "start_time": "2022-12-22T14:31:30.633Z"
      },
      {
        "duration": 601,
        "start_time": "2022-12-22T14:31:34.925Z"
      },
      {
        "duration": 5,
        "start_time": "2022-12-22T14:32:37.594Z"
      },
      {
        "duration": 1005,
        "start_time": "2022-12-22T14:32:41.354Z"
      },
      {
        "duration": 151,
        "start_time": "2022-12-22T14:32:43.481Z"
      },
      {
        "duration": 15239,
        "start_time": "2022-12-22T14:33:09.221Z"
      },
      {
        "duration": 8382,
        "start_time": "2022-12-22T14:33:24.462Z"
      },
      {
        "duration": 786,
        "start_time": "2022-12-22T14:33:32.846Z"
      },
      {
        "duration": 12,
        "start_time": "2022-12-22T14:33:33.634Z"
      },
      {
        "duration": 89,
        "start_time": "2022-12-22T14:33:33.649Z"
      },
      {
        "duration": 3,
        "start_time": "2022-12-22T14:33:33.742Z"
      },
      {
        "duration": 4689,
        "start_time": "2022-12-22T14:33:33.747Z"
      },
      {
        "duration": 595,
        "start_time": "2022-12-22T14:33:38.438Z"
      },
      {
        "duration": 12,
        "start_time": "2022-12-22T14:33:39.035Z"
      },
      {
        "duration": 97,
        "start_time": "2022-12-22T14:33:39.048Z"
      },
      {
        "duration": 2590,
        "start_time": "2022-12-22T14:33:39.147Z"
      },
      {
        "duration": 4,
        "start_time": "2022-12-22T14:33:41.739Z"
      },
      {
        "duration": 10,
        "start_time": "2022-12-22T14:33:41.745Z"
      },
      {
        "duration": 96,
        "start_time": "2022-12-22T14:33:41.758Z"
      },
      {
        "duration": 1370,
        "start_time": "2022-12-22T14:33:41.857Z"
      },
      {
        "duration": 2,
        "start_time": "2022-12-22T14:33:43.229Z"
      },
      {
        "duration": 3910,
        "start_time": "2022-12-22T14:33:43.232Z"
      },
      {
        "duration": 85,
        "start_time": "2022-12-22T14:33:47.143Z"
      },
      {
        "duration": 324,
        "start_time": "2022-12-22T14:33:47.230Z"
      },
      {
        "duration": 3712,
        "start_time": "2022-12-22T14:33:47.555Z"
      },
      {
        "duration": 6,
        "start_time": "2022-12-22T14:33:51.327Z"
      },
      {
        "duration": 20,
        "start_time": "2022-12-22T14:33:51.334Z"
      },
      {
        "duration": 25,
        "start_time": "2022-12-22T14:33:51.356Z"
      },
      {
        "duration": 67,
        "start_time": "2022-12-22T14:33:51.382Z"
      },
      {
        "duration": 102,
        "start_time": "2022-12-22T14:33:51.451Z"
      },
      {
        "duration": 0,
        "start_time": "2022-12-22T14:33:51.555Z"
      },
      {
        "duration": 0,
        "start_time": "2022-12-22T14:33:51.557Z"
      },
      {
        "duration": 0,
        "start_time": "2022-12-22T14:33:51.558Z"
      },
      {
        "duration": 0,
        "start_time": "2022-12-22T14:33:51.559Z"
      },
      {
        "duration": 0,
        "start_time": "2022-12-22T14:33:51.560Z"
      },
      {
        "duration": 0,
        "start_time": "2022-12-22T14:33:51.562Z"
      },
      {
        "duration": 0,
        "start_time": "2022-12-22T14:33:51.566Z"
      },
      {
        "duration": 31,
        "start_time": "2022-12-22T14:34:24.437Z"
      },
      {
        "duration": 1047,
        "start_time": "2022-12-22T14:34:24.712Z"
      },
      {
        "duration": 305,
        "start_time": "2022-12-22T14:34:26.425Z"
      },
      {
        "duration": 3,
        "start_time": "2022-12-22T14:34:28.529Z"
      },
      {
        "duration": 403,
        "start_time": "2022-12-22T14:34:29.440Z"
      },
      {
        "duration": 36,
        "start_time": "2022-12-22T14:34:37.040Z"
      },
      {
        "duration": 9,
        "start_time": "2022-12-22T14:34:39.239Z"
      },
      {
        "duration": 321,
        "start_time": "2022-12-22T14:34:41.505Z"
      },
      {
        "duration": 17,
        "start_time": "2022-12-22T14:34:47.544Z"
      },
      {
        "duration": 227,
        "start_time": "2022-12-22T14:34:50.305Z"
      },
      {
        "duration": 7,
        "start_time": "2022-12-22T14:36:08.072Z"
      },
      {
        "duration": 4,
        "start_time": "2022-12-22T14:36:11.256Z"
      },
      {
        "duration": 10,
        "start_time": "2022-12-22T14:36:27.257Z"
      },
      {
        "duration": 6,
        "start_time": "2022-12-22T14:36:30.056Z"
      },
      {
        "duration": 156,
        "start_time": "2022-12-22T14:36:32.832Z"
      },
      {
        "duration": 3,
        "start_time": "2022-12-22T14:37:38.813Z"
      },
      {
        "duration": 7,
        "start_time": "2022-12-22T14:37:43.007Z"
      },
      {
        "duration": 20,
        "start_time": "2022-12-22T14:37:46.039Z"
      },
      {
        "duration": 1355,
        "start_time": "2022-12-22T14:37:49.388Z"
      },
      {
        "duration": 3,
        "start_time": "2022-12-22T14:38:13.239Z"
      },
      {
        "duration": 1909,
        "start_time": "2022-12-22T14:38:17.423Z"
      },
      {
        "duration": 7,
        "start_time": "2022-12-22T14:39:04.574Z"
      },
      {
        "duration": 7,
        "start_time": "2022-12-22T14:39:10.238Z"
      },
      {
        "duration": 4,
        "start_time": "2022-12-22T14:39:19.895Z"
      },
      {
        "duration": 127,
        "start_time": "2022-12-22T14:39:22.509Z"
      },
      {
        "duration": 3,
        "start_time": "2022-12-22T14:39:44.670Z"
      },
      {
        "duration": 7,
        "start_time": "2022-12-22T14:39:46.670Z"
      },
      {
        "duration": 0,
        "start_time": "2022-12-22T14:42:54.336Z"
      },
      {
        "duration": 240,
        "start_time": "2022-12-22T14:49:14.199Z"
      },
      {
        "duration": 1103461,
        "start_time": "2022-12-22T14:49:19.666Z"
      },
      {
        "duration": 0,
        "start_time": "2022-12-22T15:07:43.130Z"
      },
      {
        "duration": 6,
        "start_time": "2022-12-22T15:08:27.417Z"
      },
      {
        "duration": 14,
        "start_time": "2022-12-22T15:08:42.976Z"
      },
      {
        "duration": 21,
        "start_time": "2022-12-22T15:08:51.528Z"
      },
      {
        "duration": 17,
        "start_time": "2022-12-22T15:08:52.096Z"
      },
      {
        "duration": 18,
        "start_time": "2022-12-22T15:09:20.688Z"
      },
      {
        "duration": 15340,
        "start_time": "2022-12-22T15:09:24.706Z"
      },
      {
        "duration": 3,
        "start_time": "2022-12-22T15:09:40.048Z"
      },
      {
        "duration": 8304,
        "start_time": "2022-12-22T15:09:40.053Z"
      },
      {
        "duration": 774,
        "start_time": "2022-12-22T15:09:48.359Z"
      },
      {
        "duration": 19,
        "start_time": "2022-12-22T15:09:49.137Z"
      },
      {
        "duration": 84,
        "start_time": "2022-12-22T15:09:49.158Z"
      },
      {
        "duration": 3,
        "start_time": "2022-12-22T15:09:49.244Z"
      },
      {
        "duration": 4890,
        "start_time": "2022-12-22T15:09:49.249Z"
      },
      {
        "duration": 609,
        "start_time": "2022-12-22T15:09:54.141Z"
      },
      {
        "duration": 11,
        "start_time": "2022-12-22T15:09:54.752Z"
      },
      {
        "duration": 89,
        "start_time": "2022-12-22T15:09:54.765Z"
      },
      {
        "duration": 2604,
        "start_time": "2022-12-22T15:09:54.856Z"
      },
      {
        "duration": 4,
        "start_time": "2022-12-22T15:09:57.462Z"
      },
      {
        "duration": 2,
        "start_time": "2022-12-22T15:09:57.526Z"
      },
      {
        "duration": 26,
        "start_time": "2022-12-22T15:09:57.530Z"
      },
      {
        "duration": 1410,
        "start_time": "2022-12-22T15:09:57.558Z"
      },
      {
        "duration": 3,
        "start_time": "2022-12-22T15:09:59.027Z"
      },
      {
        "duration": 4315,
        "start_time": "2022-12-22T15:09:59.032Z"
      },
      {
        "duration": 87,
        "start_time": "2022-12-22T15:10:03.348Z"
      },
      {
        "duration": 312,
        "start_time": "2022-12-22T15:10:03.437Z"
      },
      {
        "duration": 3582,
        "start_time": "2022-12-22T15:10:03.751Z"
      },
      {
        "duration": 6,
        "start_time": "2022-12-22T15:10:07.334Z"
      },
      {
        "duration": 5,
        "start_time": "2022-12-22T15:10:07.342Z"
      },
      {
        "duration": 8,
        "start_time": "2022-12-22T15:10:07.349Z"
      },
      {
        "duration": 90,
        "start_time": "2022-12-22T15:10:07.358Z"
      },
      {
        "duration": 81,
        "start_time": "2022-12-22T15:10:07.450Z"
      },
      {
        "duration": 1028,
        "start_time": "2022-12-22T15:10:07.532Z"
      },
      {
        "duration": 425,
        "start_time": "2022-12-22T15:10:08.562Z"
      },
      {
        "duration": 38,
        "start_time": "2022-12-22T15:10:08.989Z"
      },
      {
        "duration": 40,
        "start_time": "2022-12-22T15:10:09.028Z"
      },
      {
        "duration": 11,
        "start_time": "2022-12-22T15:10:09.069Z"
      },
      {
        "duration": 2,
        "start_time": "2022-12-22T15:10:09.128Z"
      },
      {
        "duration": 23,
        "start_time": "2022-12-22T15:10:09.132Z"
      },
      {
        "duration": 1904,
        "start_time": "2022-12-22T15:10:09.157Z"
      },
      {
        "duration": 104,
        "start_time": "2022-12-22T15:10:11.063Z"
      },
      {
        "duration": 278,
        "start_time": "2022-12-22T15:10:11.169Z"
      },
      {
        "duration": 0,
        "start_time": "2022-12-22T15:10:11.448Z"
      },
      {
        "duration": 7,
        "start_time": "2022-12-22T15:12:18.477Z"
      },
      {
        "duration": 4,
        "start_time": "2022-12-22T15:12:20.541Z"
      },
      {
        "duration": 19,
        "start_time": "2022-12-22T15:12:27.003Z"
      },
      {
        "duration": 8,
        "start_time": "2022-12-22T15:12:27.525Z"
      },
      {
        "duration": 19,
        "start_time": "2022-12-22T15:12:30.321Z"
      },
      {
        "duration": 2,
        "start_time": "2022-12-22T15:12:30.445Z"
      },
      {
        "duration": 10,
        "start_time": "2022-12-22T15:12:30.588Z"
      },
      {
        "duration": 1456,
        "start_time": "2022-12-22T15:12:30.813Z"
      },
      {
        "duration": 56,
        "start_time": "2022-12-22T15:12:32.271Z"
      },
      {
        "duration": 109,
        "start_time": "2022-12-22T15:12:32.330Z"
      },
      {
        "duration": 5,
        "start_time": "2022-12-22T15:12:45.701Z"
      },
      {
        "duration": 22,
        "start_time": "2022-12-22T15:12:52.743Z"
      },
      {
        "duration": 4,
        "start_time": "2022-12-22T15:12:52.916Z"
      },
      {
        "duration": 23,
        "start_time": "2022-12-22T15:12:53.557Z"
      },
      {
        "duration": 1715,
        "start_time": "2022-12-22T15:12:54.021Z"
      },
      {
        "duration": 10,
        "start_time": "2022-12-22T15:12:55.738Z"
      },
      {
        "duration": 11,
        "start_time": "2022-12-22T15:12:58.628Z"
      },
      {
        "duration": 125,
        "start_time": "2022-12-22T15:12:58.816Z"
      },
      {
        "duration": 15694,
        "start_time": "2022-12-22T15:13:48.373Z"
      },
      {
        "duration": 57,
        "start_time": "2022-12-22T15:14:04.070Z"
      },
      {
        "duration": 9298,
        "start_time": "2022-12-22T15:14:04.129Z"
      },
      {
        "duration": 714,
        "start_time": "2022-12-22T15:14:13.429Z"
      },
      {
        "duration": 13,
        "start_time": "2022-12-22T15:14:14.149Z"
      },
      {
        "duration": 61,
        "start_time": "2022-12-22T15:14:14.226Z"
      },
      {
        "duration": 37,
        "start_time": "2022-12-22T15:14:14.289Z"
      },
      {
        "duration": 5306,
        "start_time": "2022-12-22T15:14:14.329Z"
      },
      {
        "duration": 725,
        "start_time": "2022-12-22T15:14:19.638Z"
      },
      {
        "duration": 12,
        "start_time": "2022-12-22T15:14:20.430Z"
      },
      {
        "duration": 113,
        "start_time": "2022-12-22T15:14:20.445Z"
      },
      {
        "duration": 2899,
        "start_time": "2022-12-22T15:14:20.560Z"
      },
      {
        "duration": 4,
        "start_time": "2022-12-22T15:14:23.462Z"
      },
      {
        "duration": 59,
        "start_time": "2022-12-22T15:14:23.468Z"
      },
      {
        "duration": 34,
        "start_time": "2022-12-22T15:14:23.529Z"
      },
      {
        "duration": 1576,
        "start_time": "2022-12-22T15:14:23.564Z"
      },
      {
        "duration": 3,
        "start_time": "2022-12-22T15:14:25.142Z"
      },
      {
        "duration": 4282,
        "start_time": "2022-12-22T15:14:25.146Z"
      },
      {
        "duration": 12,
        "start_time": "2022-12-22T15:14:29.429Z"
      },
      {
        "duration": 294,
        "start_time": "2022-12-22T15:14:29.443Z"
      },
      {
        "duration": 3692,
        "start_time": "2022-12-22T15:14:29.739Z"
      },
      {
        "duration": 6,
        "start_time": "2022-12-22T15:14:33.433Z"
      },
      {
        "duration": 5,
        "start_time": "2022-12-22T15:14:33.441Z"
      },
      {
        "duration": 15,
        "start_time": "2022-12-22T15:14:33.447Z"
      },
      {
        "duration": 109,
        "start_time": "2022-12-22T15:14:33.464Z"
      },
      {
        "duration": 0,
        "start_time": "2022-12-22T15:14:33.577Z"
      },
      {
        "duration": 0,
        "start_time": "2022-12-22T15:14:33.578Z"
      },
      {
        "duration": 0,
        "start_time": "2022-12-22T15:14:33.579Z"
      },
      {
        "duration": 0,
        "start_time": "2022-12-22T15:14:33.580Z"
      },
      {
        "duration": 0,
        "start_time": "2022-12-22T15:14:33.581Z"
      },
      {
        "duration": 0,
        "start_time": "2022-12-22T15:14:33.582Z"
      },
      {
        "duration": 0,
        "start_time": "2022-12-22T15:14:33.583Z"
      },
      {
        "duration": 0,
        "start_time": "2022-12-22T15:14:33.584Z"
      },
      {
        "duration": 0,
        "start_time": "2022-12-22T15:14:33.585Z"
      },
      {
        "duration": 0,
        "start_time": "2022-12-22T15:14:33.587Z"
      },
      {
        "duration": 0,
        "start_time": "2022-12-22T15:14:33.587Z"
      },
      {
        "duration": 0,
        "start_time": "2022-12-22T15:14:33.589Z"
      },
      {
        "duration": 4,
        "start_time": "2022-12-22T15:14:41.804Z"
      },
      {
        "duration": 44,
        "start_time": "2022-12-22T15:14:46.228Z"
      },
      {
        "duration": 33,
        "start_time": "2022-12-22T15:14:47.179Z"
      },
      {
        "duration": 1174,
        "start_time": "2022-12-22T15:14:48.275Z"
      },
      {
        "duration": 3,
        "start_time": "2022-12-22T15:14:51.674Z"
      },
      {
        "duration": 24,
        "start_time": "2022-12-22T15:14:52.515Z"
      },
      {
        "duration": 4,
        "start_time": "2022-12-22T15:14:52.995Z"
      },
      {
        "duration": 24,
        "start_time": "2022-12-22T15:14:56.138Z"
      },
      {
        "duration": 2515,
        "start_time": "2022-12-22T15:14:58.715Z"
      },
      {
        "duration": 46,
        "start_time": "2022-12-22T15:15:02.179Z"
      },
      {
        "duration": 128821,
        "start_time": "2022-12-22T15:15:03.020Z"
      },
      {
        "duration": 5,
        "start_time": "2022-12-22T15:17:21.689Z"
      },
      {
        "duration": 2,
        "start_time": "2022-12-22T15:17:42.345Z"
      },
      {
        "duration": 15630,
        "start_time": "2022-12-22T15:17:47.333Z"
      },
      {
        "duration": 62,
        "start_time": "2022-12-22T15:18:02.966Z"
      },
      {
        "duration": 8508,
        "start_time": "2022-12-22T15:18:03.030Z"
      },
      {
        "duration": 794,
        "start_time": "2022-12-22T15:18:11.540Z"
      },
      {
        "duration": 15,
        "start_time": "2022-12-22T15:18:12.340Z"
      },
      {
        "duration": 80,
        "start_time": "2022-12-22T15:18:12.357Z"
      },
      {
        "duration": 2,
        "start_time": "2022-12-22T15:18:12.440Z"
      },
      {
        "duration": 5193,
        "start_time": "2022-12-22T15:18:12.444Z"
      },
      {
        "duration": 603,
        "start_time": "2022-12-22T15:18:17.639Z"
      },
      {
        "duration": 11,
        "start_time": "2022-12-22T15:18:18.244Z"
      },
      {
        "duration": 90,
        "start_time": "2022-12-22T15:18:18.256Z"
      },
      {
        "duration": 2679,
        "start_time": "2022-12-22T15:18:18.348Z"
      },
      {
        "duration": 4,
        "start_time": "2022-12-22T15:18:21.029Z"
      },
      {
        "duration": 23,
        "start_time": "2022-12-22T15:18:21.038Z"
      },
      {
        "duration": 46,
        "start_time": "2022-12-22T15:18:21.063Z"
      },
      {
        "duration": 1340,
        "start_time": "2022-12-22T15:18:21.111Z"
      },
      {
        "duration": 3,
        "start_time": "2022-12-22T15:18:22.454Z"
      },
      {
        "duration": 3992,
        "start_time": "2022-12-22T15:18:22.459Z"
      },
      {
        "duration": 78,
        "start_time": "2022-12-22T15:18:26.453Z"
      },
      {
        "duration": 310,
        "start_time": "2022-12-22T15:18:26.533Z"
      },
      {
        "duration": 3394,
        "start_time": "2022-12-22T15:18:26.845Z"
      },
      {
        "duration": 6,
        "start_time": "2022-12-22T15:18:30.241Z"
      },
      {
        "duration": 13,
        "start_time": "2022-12-22T15:18:30.248Z"
      },
      {
        "duration": 6,
        "start_time": "2022-12-22T15:18:30.262Z"
      },
      {
        "duration": 100,
        "start_time": "2022-12-22T15:18:30.270Z"
      },
      {
        "duration": 93,
        "start_time": "2022-12-22T15:18:30.372Z"
      },
      {
        "duration": 1063,
        "start_time": "2022-12-22T15:18:30.466Z"
      },
      {
        "duration": 3,
        "start_time": "2022-12-22T15:18:31.531Z"
      },
      {
        "duration": 93,
        "start_time": "2022-12-22T15:18:31.536Z"
      },
      {
        "duration": 4,
        "start_time": "2022-12-22T15:18:31.631Z"
      },
      {
        "duration": 35,
        "start_time": "2022-12-22T15:18:31.637Z"
      },
      {
        "duration": 2575,
        "start_time": "2022-12-22T15:18:31.675Z"
      },
      {
        "duration": 114,
        "start_time": "2022-12-22T15:18:34.252Z"
      },
      {
        "duration": 3,
        "start_time": "2022-12-22T15:18:34.368Z"
      },
      {
        "duration": 418693,
        "start_time": "2022-12-22T15:18:34.373Z"
      },
      {
        "duration": 0,
        "start_time": "2022-12-22T15:25:33.067Z"
      },
      {
        "duration": 0,
        "start_time": "2022-12-22T15:25:33.127Z"
      },
      {
        "duration": 33,
        "start_time": "2022-12-22T15:25:34.300Z"
      },
      {
        "duration": 3,
        "start_time": "2022-12-22T15:25:36.100Z"
      },
      {
        "duration": 485,
        "start_time": "2022-12-22T15:27:21.787Z"
      },
      {
        "duration": 15052,
        "start_time": "2022-12-22T15:27:22.274Z"
      },
      {
        "duration": 3,
        "start_time": "2022-12-22T15:27:37.328Z"
      },
      {
        "duration": 8509,
        "start_time": "2022-12-22T15:27:37.333Z"
      },
      {
        "duration": 702,
        "start_time": "2022-12-22T15:27:45.844Z"
      },
      {
        "duration": 82,
        "start_time": "2022-12-22T15:27:46.547Z"
      },
      {
        "duration": 22,
        "start_time": "2022-12-22T15:27:46.631Z"
      },
      {
        "duration": 4,
        "start_time": "2022-12-22T15:27:46.654Z"
      },
      {
        "duration": 5200,
        "start_time": "2022-12-22T15:27:46.661Z"
      },
      {
        "duration": 673,
        "start_time": "2022-12-22T15:27:51.863Z"
      },
      {
        "duration": 9,
        "start_time": "2022-12-22T15:27:52.537Z"
      },
      {
        "duration": 119,
        "start_time": "2022-12-22T15:27:52.548Z"
      },
      {
        "duration": 3384,
        "start_time": "2022-12-22T15:27:52.669Z"
      },
      {
        "duration": 4,
        "start_time": "2022-12-22T15:27:56.059Z"
      },
      {
        "duration": 3,
        "start_time": "2022-12-22T15:27:56.126Z"
      },
      {
        "duration": 36,
        "start_time": "2022-12-22T15:27:56.131Z"
      },
      {
        "duration": 1480,
        "start_time": "2022-12-22T15:27:56.169Z"
      },
      {
        "duration": 2,
        "start_time": "2022-12-22T15:27:57.651Z"
      },
      {
        "duration": 4099,
        "start_time": "2022-12-22T15:27:57.655Z"
      },
      {
        "duration": 86,
        "start_time": "2022-12-22T15:28:01.756Z"
      },
      {
        "duration": 213,
        "start_time": "2022-12-22T15:28:01.844Z"
      },
      {
        "duration": 3599,
        "start_time": "2022-12-22T15:28:02.059Z"
      },
      {
        "duration": 5,
        "start_time": "2022-12-22T15:28:05.660Z"
      },
      {
        "duration": 59,
        "start_time": "2022-12-22T15:28:05.668Z"
      },
      {
        "duration": 11,
        "start_time": "2022-12-22T15:28:05.729Z"
      },
      {
        "duration": 86,
        "start_time": "2022-12-22T15:28:05.743Z"
      },
      {
        "duration": 101,
        "start_time": "2022-12-22T15:28:05.831Z"
      },
      {
        "duration": 918,
        "start_time": "2022-12-22T15:28:05.934Z"
      },
      {
        "duration": 3,
        "start_time": "2022-12-22T15:28:06.854Z"
      },
      {
        "duration": 91,
        "start_time": "2022-12-22T15:28:06.858Z"
      },
      {
        "duration": 4,
        "start_time": "2022-12-22T15:28:06.951Z"
      },
      {
        "duration": 90,
        "start_time": "2022-12-22T15:28:06.958Z"
      },
      {
        "duration": 2721,
        "start_time": "2022-12-22T15:28:07.050Z"
      },
      {
        "duration": 45,
        "start_time": "2022-12-22T15:28:09.827Z"
      },
      {
        "duration": 4,
        "start_time": "2022-12-22T15:28:09.874Z"
      },
      {
        "duration": 4099,
        "start_time": "2022-12-22T15:28:09.927Z"
      },
      {
        "duration": 25,
        "start_time": "2022-12-22T15:28:14.028Z"
      },
      {
        "duration": 9,
        "start_time": "2022-12-22T15:29:42.409Z"
      },
      {
        "duration": 1111,
        "start_time": "2022-12-22T15:29:45.026Z"
      },
      {
        "duration": 11,
        "start_time": "2022-12-22T15:30:42.400Z"
      },
      {
        "duration": 60,
        "start_time": "2022-12-22T15:38:44.711Z"
      },
      {
        "duration": 159,
        "start_time": "2022-12-22T15:39:13.116Z"
      },
      {
        "duration": 3,
        "start_time": "2022-12-22T15:39:34.172Z"
      },
      {
        "duration": 7,
        "start_time": "2022-12-22T15:39:34.363Z"
      },
      {
        "duration": 175,
        "start_time": "2022-12-22T15:39:35.116Z"
      },
      {
        "duration": 11,
        "start_time": "2022-12-22T15:41:15.004Z"
      },
      {
        "duration": 7,
        "start_time": "2022-12-22T15:41:23.235Z"
      },
      {
        "duration": 2,
        "start_time": "2022-12-22T15:41:33.355Z"
      },
      {
        "duration": 9,
        "start_time": "2022-12-22T15:41:34.227Z"
      },
      {
        "duration": 15,
        "start_time": "2022-12-22T15:42:41.498Z"
      },
      {
        "duration": 150,
        "start_time": "2022-12-22T15:43:52.122Z"
      },
      {
        "duration": 172,
        "start_time": "2022-12-22T15:43:57.170Z"
      },
      {
        "duration": 177,
        "start_time": "2022-12-22T15:44:04.226Z"
      },
      {
        "duration": 4,
        "start_time": "2022-12-22T15:44:06.929Z"
      },
      {
        "duration": 581,
        "start_time": "2022-12-22T15:44:10.649Z"
      },
      {
        "duration": 159,
        "start_time": "2022-12-22T15:44:18.201Z"
      },
      {
        "duration": 143,
        "start_time": "2022-12-22T15:44:28.449Z"
      },
      {
        "duration": 706,
        "start_time": "2022-12-22T15:44:32.737Z"
      },
      {
        "duration": 6,
        "start_time": "2022-12-22T15:44:43.841Z"
      },
      {
        "duration": 878,
        "start_time": "2022-12-22T15:44:57.649Z"
      },
      {
        "duration": 729,
        "start_time": "2022-12-22T15:46:49.449Z"
      },
      {
        "duration": 487,
        "start_time": "2022-12-22T15:46:52.360Z"
      },
      {
        "duration": 1495,
        "start_time": "2022-12-22T15:47:06.936Z"
      },
      {
        "duration": 3,
        "start_time": "2022-12-22T15:49:51.854Z"
      },
      {
        "duration": 4,
        "start_time": "2022-12-22T15:56:25.555Z"
      },
      {
        "duration": 4,
        "start_time": "2022-12-22T15:56:44.080Z"
      },
      {
        "duration": 73,
        "start_time": "2022-12-22T15:57:29.833Z"
      },
      {
        "duration": 77,
        "start_time": "2022-12-22T15:57:39.297Z"
      },
      {
        "duration": 118,
        "start_time": "2022-12-22T15:57:42.043Z"
      },
      {
        "duration": 7,
        "start_time": "2022-12-22T15:57:49.320Z"
      },
      {
        "duration": 4,
        "start_time": "2022-12-22T15:57:49.937Z"
      },
      {
        "duration": 105,
        "start_time": "2022-12-22T15:57:50.481Z"
      },
      {
        "duration": 24,
        "start_time": "2022-12-22T15:57:51.132Z"
      },
      {
        "duration": 501,
        "start_time": "2022-12-22T15:57:57.443Z"
      },
      {
        "duration": 14590,
        "start_time": "2022-12-22T15:57:57.946Z"
      },
      {
        "duration": 3,
        "start_time": "2022-12-22T15:58:12.538Z"
      },
      {
        "duration": 7815,
        "start_time": "2022-12-22T15:58:12.543Z"
      },
      {
        "duration": 674,
        "start_time": "2022-12-22T15:58:20.359Z"
      },
      {
        "duration": 18,
        "start_time": "2022-12-22T15:58:21.035Z"
      },
      {
        "duration": 88,
        "start_time": "2022-12-22T15:58:21.055Z"
      },
      {
        "duration": 3,
        "start_time": "2022-12-22T15:58:21.145Z"
      },
      {
        "duration": 4682,
        "start_time": "2022-12-22T15:58:21.150Z"
      },
      {
        "duration": 692,
        "start_time": "2022-12-22T15:58:25.836Z"
      },
      {
        "duration": 11,
        "start_time": "2022-12-22T15:58:26.529Z"
      },
      {
        "duration": 95,
        "start_time": "2022-12-22T15:58:26.541Z"
      },
      {
        "duration": 2515,
        "start_time": "2022-12-22T15:58:26.638Z"
      },
      {
        "duration": 4,
        "start_time": "2022-12-22T15:58:29.154Z"
      },
      {
        "duration": 10,
        "start_time": "2022-12-22T15:58:29.160Z"
      },
      {
        "duration": 62,
        "start_time": "2022-12-22T15:58:29.171Z"
      },
      {
        "duration": 1208,
        "start_time": "2022-12-22T15:58:29.235Z"
      },
      {
        "duration": 2,
        "start_time": "2022-12-22T15:58:30.445Z"
      },
      {
        "duration": 3902,
        "start_time": "2022-12-22T15:58:30.449Z"
      },
      {
        "duration": 83,
        "start_time": "2022-12-22T15:58:34.353Z"
      },
      {
        "duration": 218,
        "start_time": "2022-12-22T15:58:34.438Z"
      },
      {
        "duration": 3279,
        "start_time": "2022-12-22T15:58:34.658Z"
      },
      {
        "duration": 5,
        "start_time": "2022-12-22T15:58:37.940Z"
      },
      {
        "duration": 19,
        "start_time": "2022-12-22T15:58:37.947Z"
      },
      {
        "duration": 24,
        "start_time": "2022-12-22T15:58:37.967Z"
      },
      {
        "duration": 72,
        "start_time": "2022-12-22T15:58:37.992Z"
      },
      {
        "duration": 72,
        "start_time": "2022-12-22T15:58:38.065Z"
      },
      {
        "duration": 1011,
        "start_time": "2022-12-22T15:58:38.139Z"
      },
      {
        "duration": 3,
        "start_time": "2022-12-22T15:58:39.152Z"
      },
      {
        "duration": 88,
        "start_time": "2022-12-22T15:58:39.157Z"
      },
      {
        "duration": 124,
        "start_time": "2022-12-22T15:58:39.247Z"
      },
      {
        "duration": 0,
        "start_time": "2022-12-22T15:58:39.373Z"
      },
      {
        "duration": 0,
        "start_time": "2022-12-22T15:58:39.374Z"
      },
      {
        "duration": 0,
        "start_time": "2022-12-22T15:58:39.375Z"
      },
      {
        "duration": 0,
        "start_time": "2022-12-22T15:58:39.376Z"
      },
      {
        "duration": 0,
        "start_time": "2022-12-22T15:58:39.377Z"
      },
      {
        "duration": 0,
        "start_time": "2022-12-22T15:58:39.378Z"
      },
      {
        "duration": 0,
        "start_time": "2022-12-22T15:58:39.379Z"
      },
      {
        "duration": 0,
        "start_time": "2022-12-22T15:58:39.380Z"
      },
      {
        "duration": 0,
        "start_time": "2022-12-22T15:58:39.381Z"
      },
      {
        "duration": 0,
        "start_time": "2022-12-22T15:58:39.381Z"
      },
      {
        "duration": 0,
        "start_time": "2022-12-22T15:58:39.382Z"
      },
      {
        "duration": 0,
        "start_time": "2022-12-22T15:58:39.383Z"
      },
      {
        "duration": 2,
        "start_time": "2022-12-22T15:59:04.200Z"
      },
      {
        "duration": 107,
        "start_time": "2022-12-22T15:59:06.352Z"
      },
      {
        "duration": 23,
        "start_time": "2022-12-22T15:59:08.425Z"
      },
      {
        "duration": 103,
        "start_time": "2022-12-22T15:59:10.448Z"
      },
      {
        "duration": 3,
        "start_time": "2022-12-22T15:59:15.553Z"
      },
      {
        "duration": 114,
        "start_time": "2022-12-22T15:59:15.953Z"
      },
      {
        "duration": 112,
        "start_time": "2022-12-22T15:59:19.664Z"
      },
      {
        "duration": 4,
        "start_time": "2022-12-22T15:59:20.096Z"
      },
      {
        "duration": 21,
        "start_time": "2022-12-22T15:59:22.376Z"
      },
      {
        "duration": 2611,
        "start_time": "2022-12-22T15:59:22.624Z"
      },
      {
        "duration": 3,
        "start_time": "2022-12-22T15:59:30.240Z"
      },
      {
        "duration": 4,
        "start_time": "2022-12-22T15:59:32.976Z"
      },
      {
        "duration": 3812,
        "start_time": "2022-12-22T15:59:40.089Z"
      },
      {
        "duration": 3007,
        "start_time": "2022-12-22T16:00:29.160Z"
      },
      {
        "duration": 7,
        "start_time": "2022-12-22T16:00:48.103Z"
      },
      {
        "duration": 3,
        "start_time": "2022-12-22T16:00:48.520Z"
      },
      {
        "duration": 1819,
        "start_time": "2022-12-22T16:00:50.575Z"
      },
      {
        "duration": 49,
        "start_time": "2022-12-22T16:00:52.395Z"
      },
      {
        "duration": 402,
        "start_time": "2022-12-22T16:02:04.862Z"
      },
      {
        "duration": 14975,
        "start_time": "2022-12-22T16:02:05.266Z"
      },
      {
        "duration": 3,
        "start_time": "2022-12-22T16:02:20.243Z"
      },
      {
        "duration": 8590,
        "start_time": "2022-12-22T16:02:20.248Z"
      },
      {
        "duration": 704,
        "start_time": "2022-12-22T16:02:28.840Z"
      },
      {
        "duration": 19,
        "start_time": "2022-12-22T16:02:29.546Z"
      },
      {
        "duration": 87,
        "start_time": "2022-12-22T16:02:29.566Z"
      },
      {
        "duration": 3,
        "start_time": "2022-12-22T16:02:29.654Z"
      },
      {
        "duration": 5075,
        "start_time": "2022-12-22T16:02:29.659Z"
      },
      {
        "duration": 629,
        "start_time": "2022-12-22T16:02:34.736Z"
      },
      {
        "duration": 8,
        "start_time": "2022-12-22T16:02:35.367Z"
      },
      {
        "duration": 86,
        "start_time": "2022-12-22T16:02:35.376Z"
      },
      {
        "duration": 2842,
        "start_time": "2022-12-22T16:02:35.464Z"
      },
      {
        "duration": 3,
        "start_time": "2022-12-22T16:02:38.328Z"
      },
      {
        "duration": 43,
        "start_time": "2022-12-22T16:02:38.333Z"
      },
      {
        "duration": 53,
        "start_time": "2022-12-22T16:02:38.378Z"
      },
      {
        "duration": 1301,
        "start_time": "2022-12-22T16:02:38.433Z"
      },
      {
        "duration": 3,
        "start_time": "2022-12-22T16:02:39.736Z"
      },
      {
        "duration": 3990,
        "start_time": "2022-12-22T16:02:39.740Z"
      },
      {
        "duration": 14,
        "start_time": "2022-12-22T16:02:43.731Z"
      },
      {
        "duration": 232,
        "start_time": "2022-12-22T16:02:43.747Z"
      },
      {
        "duration": 3399,
        "start_time": "2022-12-22T16:02:43.980Z"
      },
      {
        "duration": 48,
        "start_time": "2022-12-22T16:02:47.380Z"
      },
      {
        "duration": 4,
        "start_time": "2022-12-22T16:02:47.429Z"
      },
      {
        "duration": 12,
        "start_time": "2022-12-22T16:02:47.434Z"
      },
      {
        "duration": 42,
        "start_time": "2022-12-22T16:02:47.447Z"
      },
      {
        "duration": 61,
        "start_time": "2022-12-22T16:02:47.491Z"
      },
      {
        "duration": 1009,
        "start_time": "2022-12-22T16:02:47.554Z"
      },
      {
        "duration": 2,
        "start_time": "2022-12-22T16:02:48.565Z"
      },
      {
        "duration": 24,
        "start_time": "2022-12-22T16:02:48.626Z"
      },
      {
        "duration": 90,
        "start_time": "2022-12-22T16:02:48.652Z"
      },
      {
        "duration": 3,
        "start_time": "2022-12-22T16:02:48.744Z"
      },
      {
        "duration": 98,
        "start_time": "2022-12-22T16:02:48.749Z"
      },
      {
        "duration": 2886,
        "start_time": "2022-12-22T16:02:48.848Z"
      },
      {
        "duration": 7,
        "start_time": "2022-12-22T16:02:51.736Z"
      },
      {
        "duration": 4349,
        "start_time": "2022-12-22T16:02:51.745Z"
      },
      {
        "duration": 0,
        "start_time": "2022-12-22T16:02:56.096Z"
      },
      {
        "duration": 0,
        "start_time": "2022-12-22T16:02:56.097Z"
      },
      {
        "duration": 0,
        "start_time": "2022-12-22T16:02:56.098Z"
      },
      {
        "duration": 0,
        "start_time": "2022-12-22T16:02:56.099Z"
      },
      {
        "duration": 0,
        "start_time": "2022-12-22T16:02:56.100Z"
      },
      {
        "duration": 0,
        "start_time": "2022-12-22T16:02:56.104Z"
      },
      {
        "duration": 0,
        "start_time": "2022-12-22T16:02:56.105Z"
      },
      {
        "duration": 8,
        "start_time": "2022-12-22T16:05:37.157Z"
      },
      {
        "duration": 3,
        "start_time": "2022-12-22T16:05:38.685Z"
      },
      {
        "duration": 2188,
        "start_time": "2022-12-22T16:05:39.245Z"
      },
      {
        "duration": 2735,
        "start_time": "2022-12-22T16:06:18.383Z"
      },
      {
        "duration": 4,
        "start_time": "2022-12-22T16:06:27.133Z"
      },
      {
        "duration": 9,
        "start_time": "2022-12-22T16:06:40.275Z"
      },
      {
        "duration": 2438,
        "start_time": "2022-12-22T16:06:42.509Z"
      },
      {
        "duration": 5,
        "start_time": "2022-12-22T16:06:54.765Z"
      },
      {
        "duration": 2255,
        "start_time": "2022-12-22T16:06:56.068Z"
      },
      {
        "duration": 4,
        "start_time": "2022-12-22T16:07:24.212Z"
      },
      {
        "duration": 3,
        "start_time": "2022-12-22T16:08:14.667Z"
      },
      {
        "duration": 107,
        "start_time": "2022-12-22T16:08:15.516Z"
      },
      {
        "duration": 120,
        "start_time": "2022-12-22T16:08:15.941Z"
      },
      {
        "duration": 410,
        "start_time": "2022-12-22T16:08:19.660Z"
      },
      {
        "duration": 14873,
        "start_time": "2022-12-22T16:08:20.072Z"
      },
      {
        "duration": 4,
        "start_time": "2022-12-22T16:08:34.947Z"
      },
      {
        "duration": 8011,
        "start_time": "2022-12-22T16:08:34.953Z"
      },
      {
        "duration": 792,
        "start_time": "2022-12-22T16:08:42.966Z"
      },
      {
        "duration": 15,
        "start_time": "2022-12-22T16:08:43.828Z"
      },
      {
        "duration": 83,
        "start_time": "2022-12-22T16:08:43.845Z"
      },
      {
        "duration": 3,
        "start_time": "2022-12-22T16:08:43.929Z"
      },
      {
        "duration": 4734,
        "start_time": "2022-12-22T16:08:43.934Z"
      },
      {
        "duration": 625,
        "start_time": "2022-12-22T16:08:48.727Z"
      },
      {
        "duration": 10,
        "start_time": "2022-12-22T16:08:49.353Z"
      },
      {
        "duration": 98,
        "start_time": "2022-12-22T16:08:49.428Z"
      },
      {
        "duration": 2919,
        "start_time": "2022-12-22T16:08:49.529Z"
      },
      {
        "duration": 4,
        "start_time": "2022-12-22T16:08:52.451Z"
      },
      {
        "duration": 14,
        "start_time": "2022-12-22T16:08:52.456Z"
      },
      {
        "duration": 24,
        "start_time": "2022-12-22T16:08:52.526Z"
      },
      {
        "duration": 1405,
        "start_time": "2022-12-22T16:08:52.552Z"
      },
      {
        "duration": 3,
        "start_time": "2022-12-22T16:08:53.959Z"
      },
      {
        "duration": 4104,
        "start_time": "2022-12-22T16:08:54.026Z"
      },
      {
        "duration": 12,
        "start_time": "2022-12-22T16:08:58.132Z"
      },
      {
        "duration": 304,
        "start_time": "2022-12-22T16:08:58.146Z"
      },
      {
        "duration": 3512,
        "start_time": "2022-12-22T16:08:58.452Z"
      },
      {
        "duration": 62,
        "start_time": "2022-12-22T16:09:01.966Z"
      },
      {
        "duration": 9,
        "start_time": "2022-12-22T16:09:02.029Z"
      },
      {
        "duration": 18,
        "start_time": "2022-12-22T16:09:02.040Z"
      },
      {
        "duration": 67,
        "start_time": "2022-12-22T16:09:02.060Z"
      },
      {
        "duration": 27,
        "start_time": "2022-12-22T16:09:02.129Z"
      },
      {
        "duration": 5,
        "start_time": "2022-12-22T16:09:02.158Z"
      },
      {
        "duration": 991,
        "start_time": "2022-12-22T16:09:02.165Z"
      },
      {
        "duration": 11,
        "start_time": "2022-12-22T16:09:03.158Z"
      },
      {
        "duration": 22,
        "start_time": "2022-12-22T16:09:03.227Z"
      },
      {
        "duration": 100,
        "start_time": "2022-12-22T16:09:03.250Z"
      },
      {
        "duration": 4,
        "start_time": "2022-12-22T16:09:03.351Z"
      },
      {
        "duration": 91,
        "start_time": "2022-12-22T16:09:03.356Z"
      },
      {
        "duration": 2692,
        "start_time": "2022-12-22T16:09:03.449Z"
      },
      {
        "duration": 4,
        "start_time": "2022-12-22T16:09:06.143Z"
      },
      {
        "duration": 4623,
        "start_time": "2022-12-22T16:09:06.149Z"
      },
      {
        "duration": 0,
        "start_time": "2022-12-22T16:09:10.774Z"
      },
      {
        "duration": 0,
        "start_time": "2022-12-22T16:09:10.775Z"
      },
      {
        "duration": 1,
        "start_time": "2022-12-22T16:09:10.776Z"
      },
      {
        "duration": 0,
        "start_time": "2022-12-22T16:09:10.778Z"
      },
      {
        "duration": 0,
        "start_time": "2022-12-22T16:09:10.782Z"
      },
      {
        "duration": 0,
        "start_time": "2022-12-22T16:09:10.783Z"
      },
      {
        "duration": 0,
        "start_time": "2022-12-22T16:09:10.784Z"
      },
      {
        "duration": 25,
        "start_time": "2022-12-22T16:10:16.962Z"
      },
      {
        "duration": 4,
        "start_time": "2022-12-22T16:10:18.282Z"
      },
      {
        "duration": 7,
        "start_time": "2022-12-22T16:10:34.723Z"
      },
      {
        "duration": 108,
        "start_time": "2022-12-22T16:10:36.048Z"
      },
      {
        "duration": 11,
        "start_time": "2022-12-22T16:10:46.284Z"
      },
      {
        "duration": 4039,
        "start_time": "2022-12-22T16:10:49.395Z"
      },
      {
        "duration": 2,
        "start_time": "2022-12-22T16:11:47.353Z"
      },
      {
        "duration": 108,
        "start_time": "2022-12-22T16:11:55.553Z"
      },
      {
        "duration": 4,
        "start_time": "2022-12-22T16:12:25.169Z"
      },
      {
        "duration": 3,
        "start_time": "2022-12-22T16:12:31.498Z"
      },
      {
        "duration": 599,
        "start_time": "2022-12-22T16:12:32.146Z"
      },
      {
        "duration": 3,
        "start_time": "2022-12-22T16:12:32.913Z"
      },
      {
        "duration": 338,
        "start_time": "2022-12-22T16:12:33.113Z"
      },
      {
        "duration": 179,
        "start_time": "2022-12-22T16:12:33.452Z"
      },
      {
        "duration": 4,
        "start_time": "2022-12-22T16:12:33.633Z"
      },
      {
        "duration": 57,
        "start_time": "2022-12-22T16:12:33.669Z"
      },
      {
        "duration": 3,
        "start_time": "2022-12-22T16:12:33.897Z"
      },
      {
        "duration": 1691,
        "start_time": "2022-12-22T16:12:34.169Z"
      },
      {
        "duration": 178,
        "start_time": "2022-12-22T16:12:35.862Z"
      },
      {
        "duration": 4,
        "start_time": "2022-12-22T16:12:36.042Z"
      },
      {
        "duration": 80,
        "start_time": "2022-12-22T16:12:36.048Z"
      },
      {
        "duration": 1467,
        "start_time": "2022-12-22T16:12:36.130Z"
      },
      {
        "duration": 4,
        "start_time": "2022-12-22T16:12:37.598Z"
      },
      {
        "duration": 5,
        "start_time": "2022-12-22T16:12:37.603Z"
      },
      {
        "duration": 7,
        "start_time": "2022-12-22T16:12:37.627Z"
      },
      {
        "duration": 309,
        "start_time": "2022-12-22T16:12:37.635Z"
      },
      {
        "duration": 3,
        "start_time": "2022-12-22T16:12:37.947Z"
      },
      {
        "duration": 1883,
        "start_time": "2022-12-22T16:12:37.951Z"
      },
      {
        "duration": 8,
        "start_time": "2022-12-22T16:12:39.836Z"
      },
      {
        "duration": 92,
        "start_time": "2022-12-22T16:12:39.846Z"
      },
      {
        "duration": 2029,
        "start_time": "2022-12-22T16:12:39.940Z"
      },
      {
        "duration": 8,
        "start_time": "2022-12-22T16:12:41.970Z"
      },
      {
        "duration": 47,
        "start_time": "2022-12-22T16:12:41.980Z"
      },
      {
        "duration": 10,
        "start_time": "2022-12-22T16:12:42.030Z"
      },
      {
        "duration": 33,
        "start_time": "2022-12-22T16:12:42.042Z"
      },
      {
        "duration": 19,
        "start_time": "2022-12-22T16:12:44.625Z"
      },
      {
        "duration": 3,
        "start_time": "2022-12-22T16:12:55.273Z"
      },
      {
        "duration": 3,
        "start_time": "2022-12-22T16:13:20.745Z"
      },
      {
        "duration": 3,
        "start_time": "2022-12-22T16:13:22.513Z"
      },
      {
        "duration": 2,
        "start_time": "2022-12-22T16:13:31.725Z"
      },
      {
        "duration": 104,
        "start_time": "2022-12-22T16:13:32.741Z"
      },
      {
        "duration": 99,
        "start_time": "2022-12-22T16:13:34.848Z"
      },
      {
        "duration": 20,
        "start_time": "2022-12-22T16:13:44.800Z"
      },
      {
        "duration": 1549,
        "start_time": "2022-12-22T16:13:44.993Z"
      },
      {
        "duration": 4,
        "start_time": "2022-12-22T16:13:46.544Z"
      },
      {
        "duration": 5,
        "start_time": "2022-12-22T16:13:46.550Z"
      },
      {
        "duration": 9,
        "start_time": "2022-12-22T16:13:46.557Z"
      },
      {
        "duration": 96,
        "start_time": "2022-12-22T16:13:46.567Z"
      },
      {
        "duration": 0,
        "start_time": "2022-12-22T16:13:46.664Z"
      },
      {
        "duration": 0,
        "start_time": "2022-12-22T16:13:46.665Z"
      },
      {
        "duration": 0,
        "start_time": "2022-12-22T16:13:46.666Z"
      },
      {
        "duration": 0,
        "start_time": "2022-12-22T16:13:46.667Z"
      },
      {
        "duration": 1780,
        "start_time": "2022-12-22T16:13:46.670Z"
      },
      {
        "duration": 6,
        "start_time": "2022-12-22T16:13:48.451Z"
      },
      {
        "duration": 6,
        "start_time": "2022-12-22T16:13:48.459Z"
      },
      {
        "duration": 4,
        "start_time": "2022-12-22T16:13:48.467Z"
      },
      {
        "duration": 103,
        "start_time": "2022-12-22T16:13:48.525Z"
      },
      {
        "duration": 0,
        "start_time": "2022-12-22T16:13:48.630Z"
      },
      {
        "duration": 263,
        "start_time": "2022-12-22T16:13:54.609Z"
      },
      {
        "duration": 124,
        "start_time": "2022-12-22T16:13:55.137Z"
      },
      {
        "duration": 4,
        "start_time": "2022-12-22T16:13:57.369Z"
      },
      {
        "duration": 4,
        "start_time": "2022-12-22T16:13:57.688Z"
      },
      {
        "duration": 3,
        "start_time": "2022-12-22T16:13:58.037Z"
      },
      {
        "duration": 1337,
        "start_time": "2022-12-22T16:13:58.552Z"
      },
      {
        "duration": 111,
        "start_time": "2022-12-22T16:14:00.289Z"
      },
      {
        "duration": 6,
        "start_time": "2022-12-22T16:14:00.879Z"
      },
      {
        "duration": 14,
        "start_time": "2022-12-22T16:14:01.408Z"
      },
      {
        "duration": 1545,
        "start_time": "2022-12-22T16:14:01.740Z"
      },
      {
        "duration": 3,
        "start_time": "2022-12-22T16:14:03.287Z"
      },
      {
        "duration": 2,
        "start_time": "2022-12-22T16:14:03.577Z"
      },
      {
        "duration": 7,
        "start_time": "2022-12-22T16:14:04.481Z"
      },
      {
        "duration": 204,
        "start_time": "2022-12-22T16:14:05.057Z"
      },
      {
        "duration": 9,
        "start_time": "2022-12-22T16:14:06.152Z"
      },
      {
        "duration": 1426,
        "start_time": "2022-12-22T16:14:06.537Z"
      },
      {
        "duration": 62,
        "start_time": "2022-12-22T16:14:07.964Z"
      },
      {
        "duration": 26,
        "start_time": "2022-12-22T16:14:08.777Z"
      },
      {
        "duration": 1649,
        "start_time": "2022-12-22T16:14:09.377Z"
      },
      {
        "duration": 5,
        "start_time": "2022-12-22T16:14:11.028Z"
      },
      {
        "duration": 9,
        "start_time": "2022-12-22T16:14:11.035Z"
      },
      {
        "duration": 6,
        "start_time": "2022-12-22T16:14:11.046Z"
      },
      {
        "duration": 20,
        "start_time": "2022-12-22T16:14:12.560Z"
      },
      {
        "duration": 21,
        "start_time": "2022-12-22T16:14:13.712Z"
      },
      {
        "duration": 4,
        "start_time": "2022-12-22T16:14:14.600Z"
      },
      {
        "duration": 2,
        "start_time": "2022-12-22T16:14:15.899Z"
      },
      {
        "duration": 20,
        "start_time": "2022-12-22T16:14:18.553Z"
      },
      {
        "duration": 10,
        "start_time": "2022-12-22T16:14:21.038Z"
      },
      {
        "duration": 1581,
        "start_time": "2022-12-22T16:14:21.846Z"
      },
      {
        "duration": 8,
        "start_time": "2022-12-22T16:14:27.960Z"
      },
      {
        "duration": 2889,
        "start_time": "2022-12-22T16:14:29.940Z"
      },
      {
        "duration": 264,
        "start_time": "2022-12-22T16:14:49.480Z"
      },
      {
        "duration": 4,
        "start_time": "2022-12-22T16:15:01.200Z"
      },
      {
        "duration": 7,
        "start_time": "2022-12-22T16:15:26.159Z"
      },
      {
        "duration": 4,
        "start_time": "2022-12-22T16:15:27.000Z"
      },
      {
        "duration": 1710,
        "start_time": "2022-12-22T16:15:27.524Z"
      },
      {
        "duration": 15,
        "start_time": "2022-12-22T16:15:29.236Z"
      },
      {
        "duration": 3,
        "start_time": "2022-12-22T16:15:29.253Z"
      },
      {
        "duration": 584,
        "start_time": "2022-12-22T16:15:29.304Z"
      },
      {
        "duration": 1758,
        "start_time": "2022-12-22T16:15:29.890Z"
      },
      {
        "duration": 2,
        "start_time": "2022-12-22T16:15:38.833Z"
      },
      {
        "duration": 116,
        "start_time": "2022-12-22T16:15:41.807Z"
      },
      {
        "duration": 3217,
        "start_time": "2022-12-22T16:15:46.442Z"
      },
      {
        "duration": 145,
        "start_time": "2022-12-22T16:19:25.517Z"
      },
      {
        "duration": 5,
        "start_time": "2022-12-22T16:19:29.343Z"
      },
      {
        "duration": 4,
        "start_time": "2022-12-22T16:19:48.173Z"
      },
      {
        "duration": 239,
        "start_time": "2022-12-22T16:19:50.517Z"
      },
      {
        "duration": 103,
        "start_time": "2022-12-22T16:19:56.559Z"
      },
      {
        "duration": 3,
        "start_time": "2022-12-22T16:19:58.053Z"
      },
      {
        "duration": 110,
        "start_time": "2022-12-22T16:20:00.982Z"
      },
      {
        "duration": 3,
        "start_time": "2022-12-22T16:20:03.037Z"
      },
      {
        "duration": 2,
        "start_time": "2022-12-22T16:20:03.646Z"
      },
      {
        "duration": 226,
        "start_time": "2022-12-22T16:20:03.949Z"
      },
      {
        "duration": 93,
        "start_time": "2022-12-22T16:20:04.176Z"
      },
      {
        "duration": 4,
        "start_time": "2022-12-22T16:20:04.337Z"
      },
      {
        "duration": 4,
        "start_time": "2022-12-22T16:20:04.501Z"
      },
      {
        "duration": 2,
        "start_time": "2022-12-22T16:20:04.654Z"
      },
      {
        "duration": 1361,
        "start_time": "2022-12-22T16:20:04.842Z"
      },
      {
        "duration": 152,
        "start_time": "2022-12-22T16:20:06.205Z"
      },
      {
        "duration": 4,
        "start_time": "2022-12-22T16:20:06.359Z"
      },
      {
        "duration": 16,
        "start_time": "2022-12-22T16:20:06.365Z"
      },
      {
        "duration": 1343,
        "start_time": "2022-12-22T16:20:06.383Z"
      },
      {
        "duration": 4,
        "start_time": "2022-12-22T16:20:07.729Z"
      },
      {
        "duration": 7,
        "start_time": "2022-12-22T16:20:07.735Z"
      },
      {
        "duration": 9,
        "start_time": "2022-12-22T16:20:07.744Z"
      },
      {
        "duration": 298,
        "start_time": "2022-12-22T16:20:07.754Z"
      },
      {
        "duration": 3,
        "start_time": "2022-12-22T16:20:08.054Z"
      },
      {
        "duration": 1388,
        "start_time": "2022-12-22T16:20:08.059Z"
      },
      {
        "duration": 10,
        "start_time": "2022-12-22T16:20:09.449Z"
      },
      {
        "duration": 80,
        "start_time": "2022-12-22T16:20:09.461Z"
      },
      {
        "duration": 2007,
        "start_time": "2022-12-22T16:20:09.544Z"
      },
      {
        "duration": 6,
        "start_time": "2022-12-22T16:20:11.553Z"
      },
      {
        "duration": 5,
        "start_time": "2022-12-22T16:20:11.628Z"
      },
      {
        "duration": 28,
        "start_time": "2022-12-22T16:20:11.635Z"
      },
      {
        "duration": 72,
        "start_time": "2022-12-22T16:20:11.664Z"
      },
      {
        "duration": 21,
        "start_time": "2022-12-22T16:20:11.738Z"
      },
      {
        "duration": 3,
        "start_time": "2022-12-22T16:20:11.761Z"
      },
      {
        "duration": 3,
        "start_time": "2022-12-22T16:20:11.827Z"
      },
      {
        "duration": 25,
        "start_time": "2022-12-22T16:20:11.831Z"
      },
      {
        "duration": 108,
        "start_time": "2022-12-22T16:20:12.737Z"
      },
      {
        "duration": 3,
        "start_time": "2022-12-22T16:20:14.173Z"
      },
      {
        "duration": 9,
        "start_time": "2022-12-22T16:20:15.477Z"
      },
      {
        "duration": 788,
        "start_time": "2022-12-22T16:20:15.845Z"
      },
      {
        "duration": 4,
        "start_time": "2022-12-22T16:22:55.500Z"
      },
      {
        "duration": 5,
        "start_time": "2022-12-22T16:24:02.906Z"
      },
      {
        "duration": 2979,
        "start_time": "2022-12-22T16:24:03.347Z"
      },
      {
        "duration": 4,
        "start_time": "2022-12-22T16:31:26.233Z"
      },
      {
        "duration": 4,
        "start_time": "2022-12-22T16:31:26.815Z"
      },
      {
        "duration": 3,
        "start_time": "2022-12-22T16:31:27.183Z"
      },
      {
        "duration": 280,
        "start_time": "2022-12-22T16:31:27.591Z"
      },
      {
        "duration": 66,
        "start_time": "2022-12-22T16:31:27.918Z"
      },
      {
        "duration": 5,
        "start_time": "2022-12-22T16:31:28.203Z"
      },
      {
        "duration": 3,
        "start_time": "2022-12-22T16:31:28.327Z"
      },
      {
        "duration": 4,
        "start_time": "2022-12-22T16:31:28.438Z"
      },
      {
        "duration": 1354,
        "start_time": "2022-12-22T16:31:28.559Z"
      },
      {
        "duration": 121,
        "start_time": "2022-12-22T16:31:29.927Z"
      },
      {
        "duration": 5,
        "start_time": "2022-12-22T16:31:30.050Z"
      },
      {
        "duration": 48,
        "start_time": "2022-12-22T16:31:30.061Z"
      },
      {
        "duration": 1265,
        "start_time": "2022-12-22T16:31:30.127Z"
      },
      {
        "duration": 4,
        "start_time": "2022-12-22T16:31:31.394Z"
      },
      {
        "duration": 3,
        "start_time": "2022-12-22T16:31:31.426Z"
      },
      {
        "duration": 28,
        "start_time": "2022-12-22T16:31:31.431Z"
      },
      {
        "duration": 281,
        "start_time": "2022-12-22T16:31:31.460Z"
      },
      {
        "duration": 3,
        "start_time": "2022-12-22T16:31:31.744Z"
      },
      {
        "duration": 1592,
        "start_time": "2022-12-22T16:31:31.749Z"
      },
      {
        "duration": 7,
        "start_time": "2022-12-22T16:31:33.342Z"
      },
      {
        "duration": 76,
        "start_time": "2022-12-22T16:31:33.351Z"
      },
      {
        "duration": 1616,
        "start_time": "2022-12-22T16:31:33.428Z"
      },
      {
        "duration": 5,
        "start_time": "2022-12-22T16:31:35.045Z"
      },
      {
        "duration": 10,
        "start_time": "2022-12-22T16:31:35.052Z"
      },
      {
        "duration": 64,
        "start_time": "2022-12-22T16:31:35.064Z"
      },
      {
        "duration": 30,
        "start_time": "2022-12-22T16:31:35.130Z"
      },
      {
        "duration": 25,
        "start_time": "2022-12-22T16:31:35.163Z"
      },
      {
        "duration": 4,
        "start_time": "2022-12-22T16:31:35.227Z"
      },
      {
        "duration": 6,
        "start_time": "2022-12-22T16:31:35.232Z"
      },
      {
        "duration": 20,
        "start_time": "2022-12-22T16:31:35.240Z"
      },
      {
        "duration": 104,
        "start_time": "2022-12-22T16:31:35.262Z"
      },
      {
        "duration": 0,
        "start_time": "2022-12-22T16:31:35.368Z"
      },
      {
        "duration": 102,
        "start_time": "2022-12-22T16:32:19.142Z"
      },
      {
        "duration": 16,
        "start_time": "2022-12-22T16:32:19.644Z"
      },
      {
        "duration": 3,
        "start_time": "2022-12-22T16:32:22.174Z"
      },
      {
        "duration": 9,
        "start_time": "2022-12-22T16:32:22.718Z"
      },
      {
        "duration": 1544,
        "start_time": "2022-12-22T16:32:23.790Z"
      },
      {
        "duration": 8,
        "start_time": "2022-12-22T16:32:25.798Z"
      },
      {
        "duration": 4408,
        "start_time": "2022-12-22T16:32:26.642Z"
      },
      {
        "duration": 3878,
        "start_time": "2022-12-22T16:32:51.006Z"
      },
      {
        "duration": 2909,
        "start_time": "2022-12-22T16:43:52.328Z"
      },
      {
        "duration": 478,
        "start_time": "2022-12-22T16:55:10.893Z"
      },
      {
        "duration": 15160,
        "start_time": "2022-12-22T16:55:11.373Z"
      },
      {
        "duration": 2,
        "start_time": "2022-12-22T16:55:26.535Z"
      },
      {
        "duration": 8222,
        "start_time": "2022-12-22T16:55:26.539Z"
      },
      {
        "duration": 677,
        "start_time": "2022-12-22T16:55:34.764Z"
      },
      {
        "duration": 83,
        "start_time": "2022-12-22T16:55:35.443Z"
      },
      {
        "duration": 32,
        "start_time": "2022-12-22T16:55:35.528Z"
      },
      {
        "duration": 3,
        "start_time": "2022-12-22T16:55:35.563Z"
      },
      {
        "duration": 4661,
        "start_time": "2022-12-22T16:55:35.567Z"
      },
      {
        "duration": 598,
        "start_time": "2022-12-22T16:55:40.230Z"
      },
      {
        "duration": 9,
        "start_time": "2022-12-22T16:55:40.830Z"
      },
      {
        "duration": 110,
        "start_time": "2022-12-22T16:55:40.841Z"
      },
      {
        "duration": 2866,
        "start_time": "2022-12-22T16:55:40.953Z"
      },
      {
        "duration": 4,
        "start_time": "2022-12-22T16:55:43.832Z"
      },
      {
        "duration": 33,
        "start_time": "2022-12-22T16:55:43.837Z"
      },
      {
        "duration": 75,
        "start_time": "2022-12-22T16:55:43.871Z"
      },
      {
        "duration": 1300,
        "start_time": "2022-12-22T16:55:43.948Z"
      },
      {
        "duration": 3,
        "start_time": "2022-12-22T16:55:45.250Z"
      },
      {
        "duration": 3797,
        "start_time": "2022-12-22T16:55:45.254Z"
      },
      {
        "duration": 79,
        "start_time": "2022-12-22T16:55:49.053Z"
      },
      {
        "duration": 223,
        "start_time": "2022-12-22T16:55:49.134Z"
      },
      {
        "duration": 3300,
        "start_time": "2022-12-22T16:55:49.359Z"
      },
      {
        "duration": 68,
        "start_time": "2022-12-22T16:55:52.661Z"
      },
      {
        "duration": 5,
        "start_time": "2022-12-22T16:55:52.730Z"
      },
      {
        "duration": 53,
        "start_time": "2022-12-22T16:55:52.737Z"
      },
      {
        "duration": 64,
        "start_time": "2022-12-22T16:55:52.791Z"
      },
      {
        "duration": 75,
        "start_time": "2022-12-22T16:55:52.857Z"
      },
      {
        "duration": 11,
        "start_time": "2022-12-22T16:55:52.934Z"
      },
      {
        "duration": 29,
        "start_time": "2022-12-22T16:55:52.947Z"
      },
      {
        "duration": 70,
        "start_time": "2022-12-22T16:55:52.978Z"
      },
      {
        "duration": 78,
        "start_time": "2022-12-22T16:55:53.050Z"
      },
      {
        "duration": 5,
        "start_time": "2022-12-22T16:55:53.130Z"
      },
      {
        "duration": 104,
        "start_time": "2022-12-22T16:55:53.137Z"
      },
      {
        "duration": 2594,
        "start_time": "2022-12-22T16:55:53.243Z"
      },
      {
        "duration": 11,
        "start_time": "2022-12-22T16:55:55.838Z"
      },
      {
        "duration": 7307,
        "start_time": "2022-12-22T16:55:55.851Z"
      },
      {
        "duration": 5482,
        "start_time": "2022-12-22T16:56:03.160Z"
      },
      {
        "duration": 495,
        "start_time": "2022-12-23T19:59:14.919Z"
      },
      {
        "duration": 14881,
        "start_time": "2022-12-23T19:59:15.415Z"
      },
      {
        "duration": 55,
        "start_time": "2022-12-23T19:59:30.298Z"
      },
      {
        "duration": 8010,
        "start_time": "2022-12-23T19:59:30.355Z"
      },
      {
        "duration": 697,
        "start_time": "2022-12-23T19:59:38.368Z"
      },
      {
        "duration": 13,
        "start_time": "2022-12-23T19:59:39.067Z"
      },
      {
        "duration": 86,
        "start_time": "2022-12-23T19:59:39.082Z"
      },
      {
        "duration": 3,
        "start_time": "2022-12-23T19:59:39.169Z"
      },
      {
        "duration": 5019,
        "start_time": "2022-12-23T19:59:39.174Z"
      },
      {
        "duration": 624,
        "start_time": "2022-12-23T19:59:44.253Z"
      },
      {
        "duration": 10,
        "start_time": "2022-12-23T19:59:44.879Z"
      },
      {
        "duration": 91,
        "start_time": "2022-12-23T19:59:44.890Z"
      },
      {
        "duration": 2807,
        "start_time": "2022-12-23T19:59:44.983Z"
      },
      {
        "duration": 4,
        "start_time": "2022-12-23T19:59:47.851Z"
      },
      {
        "duration": 2130,
        "start_time": "2022-12-23T19:59:47.857Z"
      },
      {
        "duration": 58,
        "start_time": "2022-12-24T08:08:02.427Z"
      },
      {
        "duration": 504,
        "start_time": "2022-12-24T08:32:41.377Z"
      },
      {
        "duration": 18429,
        "start_time": "2022-12-24T08:32:41.882Z"
      },
      {
        "duration": 3,
        "start_time": "2022-12-24T08:33:00.314Z"
      },
      {
        "duration": 9132,
        "start_time": "2022-12-24T08:33:00.320Z"
      },
      {
        "duration": 714,
        "start_time": "2022-12-24T08:33:09.454Z"
      },
      {
        "duration": 14,
        "start_time": "2022-12-24T08:33:10.236Z"
      },
      {
        "duration": 93,
        "start_time": "2022-12-24T08:33:10.252Z"
      },
      {
        "duration": 3,
        "start_time": "2022-12-24T08:33:10.347Z"
      },
      {
        "duration": 4519,
        "start_time": "2022-12-24T08:33:10.351Z"
      },
      {
        "duration": 623,
        "start_time": "2022-12-24T08:33:14.935Z"
      },
      {
        "duration": 11,
        "start_time": "2022-12-24T08:33:15.560Z"
      },
      {
        "duration": 110,
        "start_time": "2022-12-24T08:33:15.637Z"
      },
      {
        "duration": 2927,
        "start_time": "2022-12-24T08:33:15.749Z"
      },
      {
        "duration": 4,
        "start_time": "2022-12-24T08:33:18.740Z"
      },
      {
        "duration": 54,
        "start_time": "2022-12-24T08:33:18.746Z"
      },
      {
        "duration": 136,
        "start_time": "2022-12-24T08:33:18.836Z"
      },
      {
        "duration": 1595,
        "start_time": "2022-12-24T08:33:18.974Z"
      },
      {
        "duration": 3,
        "start_time": "2022-12-24T08:33:20.570Z"
      },
      {
        "duration": 4165,
        "start_time": "2022-12-24T08:33:20.575Z"
      },
      {
        "duration": 23,
        "start_time": "2022-12-24T08:33:24.742Z"
      },
      {
        "duration": 290,
        "start_time": "2022-12-24T08:33:24.766Z"
      },
      {
        "duration": 3492,
        "start_time": "2022-12-24T08:33:25.058Z"
      },
      {
        "duration": 5,
        "start_time": "2022-12-24T08:33:28.552Z"
      },
      {
        "duration": 16,
        "start_time": "2022-12-24T08:33:28.558Z"
      },
      {
        "duration": 10,
        "start_time": "2022-12-24T08:33:28.576Z"
      },
      {
        "duration": 115,
        "start_time": "2022-12-24T08:33:28.588Z"
      },
      {
        "duration": 47,
        "start_time": "2022-12-24T08:33:28.705Z"
      },
      {
        "duration": 3,
        "start_time": "2022-12-24T08:33:28.756Z"
      },
      {
        "duration": 10,
        "start_time": "2022-12-24T08:33:28.761Z"
      },
      {
        "duration": 108,
        "start_time": "2022-12-24T08:33:28.772Z"
      },
      {
        "duration": 0,
        "start_time": "2022-12-24T08:33:28.883Z"
      },
      {
        "duration": 1,
        "start_time": "2022-12-24T08:33:28.884Z"
      },
      {
        "duration": 0,
        "start_time": "2022-12-24T08:33:28.886Z"
      },
      {
        "duration": 0,
        "start_time": "2022-12-24T08:33:28.887Z"
      },
      {
        "duration": 0,
        "start_time": "2022-12-24T08:33:28.889Z"
      },
      {
        "duration": 0,
        "start_time": "2022-12-24T08:33:28.890Z"
      },
      {
        "duration": 0,
        "start_time": "2022-12-24T08:33:28.891Z"
      },
      {
        "duration": 0,
        "start_time": "2022-12-24T08:33:28.892Z"
      },
      {
        "duration": 24,
        "start_time": "2022-12-24T08:34:52.110Z"
      },
      {
        "duration": 21,
        "start_time": "2022-12-24T08:34:52.927Z"
      },
      {
        "duration": 3,
        "start_time": "2022-12-24T08:34:53.468Z"
      },
      {
        "duration": 25,
        "start_time": "2022-12-24T08:34:55.661Z"
      },
      {
        "duration": 2476,
        "start_time": "2022-12-24T08:34:56.267Z"
      },
      {
        "duration": 9,
        "start_time": "2022-12-24T08:35:01.136Z"
      },
      {
        "duration": 7587,
        "start_time": "2022-12-24T08:35:01.477Z"
      },
      {
        "duration": 5294,
        "start_time": "2022-12-24T08:35:09.065Z"
      },
      {
        "duration": 422,
        "start_time": "2022-12-24T08:35:14.360Z"
      },
      {
        "duration": 265,
        "start_time": "2022-12-24T08:39:55.787Z"
      },
      {
        "duration": 2,
        "start_time": "2022-12-24T08:39:59.113Z"
      },
      {
        "duration": 419,
        "start_time": "2022-12-24T08:39:59.456Z"
      },
      {
        "duration": 96,
        "start_time": "2022-12-24T08:40:00.073Z"
      },
      {
        "duration": 4,
        "start_time": "2022-12-24T08:40:00.656Z"
      },
      {
        "duration": 4,
        "start_time": "2022-12-24T08:40:01.580Z"
      },
      {
        "duration": 3,
        "start_time": "2022-12-24T08:40:01.840Z"
      },
      {
        "duration": 1527,
        "start_time": "2022-12-24T08:40:02.121Z"
      },
      {
        "duration": 190,
        "start_time": "2022-12-24T08:40:03.649Z"
      },
      {
        "duration": 4,
        "start_time": "2022-12-24T08:40:03.945Z"
      },
      {
        "duration": 16,
        "start_time": "2022-12-24T08:40:04.432Z"
      },
      {
        "duration": 1560,
        "start_time": "2022-12-24T08:40:06.133Z"
      },
      {
        "duration": 4,
        "start_time": "2022-12-24T08:40:07.695Z"
      },
      {
        "duration": 8,
        "start_time": "2022-12-24T08:40:07.701Z"
      },
      {
        "duration": 31,
        "start_time": "2022-12-24T08:40:07.711Z"
      },
      {
        "duration": 415,
        "start_time": "2022-12-24T08:40:07.743Z"
      },
      {
        "duration": 3,
        "start_time": "2022-12-24T08:40:08.162Z"
      },
      {
        "duration": 285,
        "start_time": "2022-12-24T08:40:53.497Z"
      },
      {
        "duration": 122,
        "start_time": "2022-12-24T08:40:53.840Z"
      },
      {
        "duration": 3,
        "start_time": "2022-12-24T08:40:54.112Z"
      },
      {
        "duration": 4,
        "start_time": "2022-12-24T08:40:54.488Z"
      },
      {
        "duration": 7,
        "start_time": "2022-12-24T08:40:54.672Z"
      },
      {
        "duration": 1364,
        "start_time": "2022-12-24T08:40:54.872Z"
      },
      {
        "duration": 132,
        "start_time": "2022-12-24T08:40:56.238Z"
      },
      {
        "duration": 4,
        "start_time": "2022-12-24T08:40:56.371Z"
      },
      {
        "duration": 64,
        "start_time": "2022-12-24T08:40:56.377Z"
      },
      {
        "duration": 1209,
        "start_time": "2022-12-24T08:40:57.608Z"
      },
      {
        "duration": 3,
        "start_time": "2022-12-24T08:40:58.819Z"
      },
      {
        "duration": 2,
        "start_time": "2022-12-24T08:40:59.673Z"
      },
      {
        "duration": 10,
        "start_time": "2022-12-24T08:40:59.932Z"
      },
      {
        "duration": 903,
        "start_time": "2022-12-24T08:41:00.133Z"
      },
      {
        "duration": 10,
        "start_time": "2022-12-24T08:41:01.038Z"
      },
      {
        "duration": 24,
        "start_time": "2022-12-24T08:41:01.049Z"
      },
      {
        "duration": 562,
        "start_time": "2022-12-24T08:41:09.680Z"
      },
      {
        "duration": 2328,
        "start_time": "2022-12-24T08:41:17.132Z"
      },
      {
        "duration": 355,
        "start_time": "2022-12-24T08:41:34.088Z"
      },
      {
        "duration": 1937,
        "start_time": "2022-12-24T08:41:50.145Z"
      },
      {
        "duration": 1680,
        "start_time": "2022-12-24T08:41:52.084Z"
      },
      {
        "duration": 6,
        "start_time": "2022-12-24T08:41:53.766Z"
      },
      {
        "duration": 22,
        "start_time": "2022-12-24T08:42:13.233Z"
      },
      {
        "duration": 24,
        "start_time": "2022-12-24T08:42:13.416Z"
      },
      {
        "duration": 2081,
        "start_time": "2022-12-24T08:58:38.683Z"
      },
      {
        "duration": 2317,
        "start_time": "2022-12-24T08:58:40.767Z"
      },
      {
        "duration": 20,
        "start_time": "2022-12-24T08:59:09.484Z"
      },
      {
        "duration": 16,
        "start_time": "2022-12-24T08:59:09.953Z"
      },
      {
        "duration": 21,
        "start_time": "2022-12-24T08:59:59.698Z"
      },
      {
        "duration": 23,
        "start_time": "2022-12-24T09:00:00.055Z"
      },
      {
        "duration": 4,
        "start_time": "2022-12-24T09:00:11.179Z"
      },
      {
        "duration": 4,
        "start_time": "2022-12-24T09:00:11.377Z"
      },
      {
        "duration": 3,
        "start_time": "2022-12-24T09:01:23.861Z"
      },
      {
        "duration": 4,
        "start_time": "2022-12-24T09:01:24.049Z"
      },
      {
        "duration": 7,
        "start_time": "2022-12-24T09:01:35.610Z"
      },
      {
        "duration": 96,
        "start_time": "2022-12-24T09:01:36.153Z"
      },
      {
        "duration": 20,
        "start_time": "2022-12-24T09:01:53.050Z"
      },
      {
        "duration": 16,
        "start_time": "2022-12-24T09:01:53.873Z"
      },
      {
        "duration": 105,
        "start_time": "2022-12-24T09:01:56.593Z"
      },
      {
        "duration": 4,
        "start_time": "2022-12-24T09:02:02.280Z"
      },
      {
        "duration": 4,
        "start_time": "2022-12-24T09:02:03.158Z"
      },
      {
        "duration": 4,
        "start_time": "2022-12-24T09:02:05.854Z"
      },
      {
        "duration": 18,
        "start_time": "2022-12-24T09:02:09.242Z"
      },
      {
        "duration": 10,
        "start_time": "2022-12-24T09:02:09.834Z"
      },
      {
        "duration": 23,
        "start_time": "2022-12-24T09:02:14.287Z"
      },
      {
        "duration": 3397,
        "start_time": "2022-12-24T09:02:16.401Z"
      },
      {
        "duration": 2431,
        "start_time": "2022-12-24T09:02:22.378Z"
      },
      {
        "duration": 101,
        "start_time": "2022-12-24T09:02:25.548Z"
      },
      {
        "duration": 528,
        "start_time": "2022-12-24T09:07:36.746Z"
      },
      {
        "duration": 14695,
        "start_time": "2022-12-24T09:07:37.276Z"
      },
      {
        "duration": 3,
        "start_time": "2022-12-24T09:07:51.974Z"
      },
      {
        "duration": 8275,
        "start_time": "2022-12-24T09:07:51.979Z"
      },
      {
        "duration": 597,
        "start_time": "2022-12-24T09:08:00.256Z"
      },
      {
        "duration": 13,
        "start_time": "2022-12-24T09:08:00.855Z"
      },
      {
        "duration": 21,
        "start_time": "2022-12-24T09:08:00.935Z"
      },
      {
        "duration": 3,
        "start_time": "2022-12-24T09:08:00.958Z"
      },
      {
        "duration": 4596,
        "start_time": "2022-12-24T09:08:00.962Z"
      },
      {
        "duration": 676,
        "start_time": "2022-12-24T09:08:05.560Z"
      },
      {
        "duration": 7,
        "start_time": "2022-12-24T09:08:06.238Z"
      },
      {
        "duration": 109,
        "start_time": "2022-12-24T09:08:06.247Z"
      },
      {
        "duration": 2891,
        "start_time": "2022-12-24T09:08:06.359Z"
      },
      {
        "duration": 4,
        "start_time": "2022-12-24T09:08:09.255Z"
      },
      {
        "duration": 75,
        "start_time": "2022-12-24T09:08:09.261Z"
      },
      {
        "duration": 38,
        "start_time": "2022-12-24T09:08:09.339Z"
      },
      {
        "duration": 1665,
        "start_time": "2022-12-24T09:08:09.380Z"
      },
      {
        "duration": 7,
        "start_time": "2022-12-24T09:08:11.047Z"
      },
      {
        "duration": 28,
        "start_time": "2022-12-24T09:08:11.055Z"
      },
      {
        "duration": 22,
        "start_time": "2022-12-24T09:08:11.135Z"
      },
      {
        "duration": 1697,
        "start_time": "2022-12-24T09:08:11.159Z"
      },
      {
        "duration": 115,
        "start_time": "2022-12-24T09:08:12.858Z"
      },
      {
        "duration": 0,
        "start_time": "2022-12-24T09:08:12.975Z"
      },
      {
        "duration": 0,
        "start_time": "2022-12-24T09:08:12.978Z"
      },
      {
        "duration": 0,
        "start_time": "2022-12-24T09:08:12.980Z"
      },
      {
        "duration": 0,
        "start_time": "2022-12-24T09:08:12.981Z"
      },
      {
        "duration": 0,
        "start_time": "2022-12-24T09:08:12.982Z"
      },
      {
        "duration": 0,
        "start_time": "2022-12-24T09:08:12.983Z"
      },
      {
        "duration": 0,
        "start_time": "2022-12-24T09:08:12.984Z"
      },
      {
        "duration": 0,
        "start_time": "2022-12-24T09:08:12.985Z"
      },
      {
        "duration": 0,
        "start_time": "2022-12-24T09:08:12.986Z"
      },
      {
        "duration": 0,
        "start_time": "2022-12-24T09:08:12.987Z"
      },
      {
        "duration": 0,
        "start_time": "2022-12-24T09:08:12.988Z"
      },
      {
        "duration": 0,
        "start_time": "2022-12-24T09:08:12.990Z"
      },
      {
        "duration": 0,
        "start_time": "2022-12-24T09:08:12.990Z"
      },
      {
        "duration": 0,
        "start_time": "2022-12-24T09:08:12.992Z"
      },
      {
        "duration": 0,
        "start_time": "2022-12-24T09:08:13.035Z"
      },
      {
        "duration": 0,
        "start_time": "2022-12-24T09:08:13.037Z"
      },
      {
        "duration": 0,
        "start_time": "2022-12-24T09:08:13.038Z"
      },
      {
        "duration": 0,
        "start_time": "2022-12-24T09:08:13.039Z"
      },
      {
        "duration": 0,
        "start_time": "2022-12-24T09:08:13.040Z"
      },
      {
        "duration": 0,
        "start_time": "2022-12-24T09:08:13.041Z"
      },
      {
        "duration": 0,
        "start_time": "2022-12-24T09:08:13.042Z"
      },
      {
        "duration": 0,
        "start_time": "2022-12-24T09:08:13.043Z"
      },
      {
        "duration": 0,
        "start_time": "2022-12-24T09:08:13.044Z"
      },
      {
        "duration": 0,
        "start_time": "2022-12-24T09:08:13.045Z"
      },
      {
        "duration": 0,
        "start_time": "2022-12-24T09:08:13.046Z"
      },
      {
        "duration": 0,
        "start_time": "2022-12-24T09:08:13.047Z"
      },
      {
        "duration": 0,
        "start_time": "2022-12-24T09:08:13.049Z"
      },
      {
        "duration": 0,
        "start_time": "2022-12-24T09:08:13.049Z"
      },
      {
        "duration": 99,
        "start_time": "2022-12-24T09:08:41.900Z"
      },
      {
        "duration": 70,
        "start_time": "2022-12-24T09:09:02.718Z"
      },
      {
        "duration": 525,
        "start_time": "2022-12-24T09:09:12.610Z"
      },
      {
        "duration": 14819,
        "start_time": "2022-12-24T09:09:13.137Z"
      },
      {
        "duration": 3,
        "start_time": "2022-12-24T09:09:27.958Z"
      },
      {
        "duration": 8471,
        "start_time": "2022-12-24T09:09:27.963Z"
      },
      {
        "duration": 714,
        "start_time": "2022-12-24T09:09:36.437Z"
      },
      {
        "duration": 14,
        "start_time": "2022-12-24T09:09:37.153Z"
      },
      {
        "duration": 23,
        "start_time": "2022-12-24T09:09:37.235Z"
      },
      {
        "duration": 5,
        "start_time": "2022-12-24T09:09:37.260Z"
      },
      {
        "duration": 5271,
        "start_time": "2022-12-24T09:09:37.266Z"
      },
      {
        "duration": 796,
        "start_time": "2022-12-24T09:09:42.541Z"
      },
      {
        "duration": 12,
        "start_time": "2022-12-24T09:09:43.339Z"
      },
      {
        "duration": 109,
        "start_time": "2022-12-24T09:09:43.353Z"
      },
      {
        "duration": 2895,
        "start_time": "2022-12-24T09:09:43.464Z"
      },
      {
        "duration": 4,
        "start_time": "2022-12-24T09:09:46.360Z"
      },
      {
        "duration": 71,
        "start_time": "2022-12-24T09:09:46.365Z"
      },
      {
        "duration": 27,
        "start_time": "2022-12-24T09:09:46.438Z"
      },
      {
        "duration": 1675,
        "start_time": "2022-12-24T09:09:46.467Z"
      },
      {
        "duration": 5,
        "start_time": "2022-12-24T09:09:48.144Z"
      },
      {
        "duration": 25,
        "start_time": "2022-12-24T09:09:48.151Z"
      },
      {
        "duration": 23,
        "start_time": "2022-12-24T09:09:48.236Z"
      },
      {
        "duration": 1592,
        "start_time": "2022-12-24T09:09:48.261Z"
      },
      {
        "duration": 119,
        "start_time": "2022-12-24T09:09:49.855Z"
      },
      {
        "duration": 0,
        "start_time": "2022-12-24T09:09:49.979Z"
      },
      {
        "duration": 0,
        "start_time": "2022-12-24T09:09:49.980Z"
      },
      {
        "duration": 0,
        "start_time": "2022-12-24T09:09:49.981Z"
      },
      {
        "duration": 0,
        "start_time": "2022-12-24T09:09:49.983Z"
      },
      {
        "duration": 0,
        "start_time": "2022-12-24T09:09:49.984Z"
      },
      {
        "duration": 0,
        "start_time": "2022-12-24T09:09:49.986Z"
      },
      {
        "duration": 0,
        "start_time": "2022-12-24T09:09:49.987Z"
      },
      {
        "duration": 0,
        "start_time": "2022-12-24T09:09:49.988Z"
      },
      {
        "duration": 0,
        "start_time": "2022-12-24T09:09:49.989Z"
      },
      {
        "duration": 0,
        "start_time": "2022-12-24T09:09:49.990Z"
      },
      {
        "duration": 0,
        "start_time": "2022-12-24T09:09:49.991Z"
      },
      {
        "duration": 0,
        "start_time": "2022-12-24T09:09:49.993Z"
      },
      {
        "duration": 0,
        "start_time": "2022-12-24T09:09:49.994Z"
      },
      {
        "duration": 0,
        "start_time": "2022-12-24T09:09:49.995Z"
      },
      {
        "duration": 0,
        "start_time": "2022-12-24T09:09:49.996Z"
      },
      {
        "duration": 0,
        "start_time": "2022-12-24T09:09:49.997Z"
      },
      {
        "duration": 0,
        "start_time": "2022-12-24T09:09:50.036Z"
      },
      {
        "duration": 0,
        "start_time": "2022-12-24T09:09:50.037Z"
      },
      {
        "duration": 0,
        "start_time": "2022-12-24T09:09:50.039Z"
      },
      {
        "duration": 0,
        "start_time": "2022-12-24T09:09:50.040Z"
      },
      {
        "duration": 0,
        "start_time": "2022-12-24T09:09:50.041Z"
      },
      {
        "duration": 0,
        "start_time": "2022-12-24T09:09:50.042Z"
      },
      {
        "duration": 0,
        "start_time": "2022-12-24T09:09:50.044Z"
      },
      {
        "duration": 0,
        "start_time": "2022-12-24T09:09:50.045Z"
      },
      {
        "duration": 0,
        "start_time": "2022-12-24T09:09:50.046Z"
      },
      {
        "duration": 0,
        "start_time": "2022-12-24T09:09:50.047Z"
      },
      {
        "duration": 0,
        "start_time": "2022-12-24T09:09:50.048Z"
      },
      {
        "duration": 0,
        "start_time": "2022-12-24T09:09:50.049Z"
      },
      {
        "duration": 75,
        "start_time": "2022-12-24T09:11:01.263Z"
      },
      {
        "duration": 599,
        "start_time": "2022-12-24T09:11:10.356Z"
      },
      {
        "duration": 189,
        "start_time": "2022-12-24T09:11:20.854Z"
      },
      {
        "duration": 4,
        "start_time": "2022-12-24T09:11:21.508Z"
      },
      {
        "duration": 4,
        "start_time": "2022-12-24T09:11:22.583Z"
      },
      {
        "duration": 3,
        "start_time": "2022-12-24T09:11:22.853Z"
      },
      {
        "duration": 1988,
        "start_time": "2022-12-24T09:11:23.373Z"
      },
      {
        "duration": 228,
        "start_time": "2022-12-24T09:11:25.363Z"
      },
      {
        "duration": 10,
        "start_time": "2022-12-24T09:11:25.593Z"
      },
      {
        "duration": 46,
        "start_time": "2022-12-24T09:11:25.605Z"
      },
      {
        "duration": 1634,
        "start_time": "2022-12-24T09:11:25.743Z"
      },
      {
        "duration": 4,
        "start_time": "2022-12-24T09:11:27.436Z"
      },
      {
        "duration": 16,
        "start_time": "2022-12-24T09:11:27.441Z"
      },
      {
        "duration": 9,
        "start_time": "2022-12-24T09:11:27.517Z"
      },
      {
        "duration": 471,
        "start_time": "2022-12-24T09:11:28.485Z"
      },
      {
        "duration": 6,
        "start_time": "2022-12-24T09:11:29.157Z"
      },
      {
        "duration": 6,
        "start_time": "2022-12-24T09:11:29.499Z"
      },
      {
        "duration": 8,
        "start_time": "2022-12-24T09:11:30.440Z"
      },
      {
        "duration": 377,
        "start_time": "2022-12-24T09:11:30.891Z"
      },
      {
        "duration": 75,
        "start_time": "2022-12-24T09:11:32.173Z"
      },
      {
        "duration": 473,
        "start_time": "2022-12-24T09:11:46.597Z"
      },
      {
        "duration": 3,
        "start_time": "2022-12-24T09:11:48.108Z"
      },
      {
        "duration": 3504,
        "start_time": "2022-12-24T09:11:48.348Z"
      },
      {
        "duration": 2482,
        "start_time": "2022-12-24T09:11:51.853Z"
      },
      {
        "duration": 14,
        "start_time": "2022-12-24T09:11:54.337Z"
      },
      {
        "duration": 222,
        "start_time": "2022-12-24T09:11:54.352Z"
      },
      {
        "duration": 6,
        "start_time": "2022-12-24T09:11:57.772Z"
      },
      {
        "duration": 69,
        "start_time": "2022-12-24T09:12:20.149Z"
      },
      {
        "duration": 86,
        "start_time": "2022-12-24T09:12:23.661Z"
      },
      {
        "duration": 30,
        "start_time": "2022-12-24T09:12:31.193Z"
      },
      {
        "duration": 3002,
        "start_time": "2022-12-24T09:12:33.884Z"
      },
      {
        "duration": 2186,
        "start_time": "2022-12-24T09:12:36.888Z"
      },
      {
        "duration": 4,
        "start_time": "2022-12-24T09:12:39.076Z"
      },
      {
        "duration": 53,
        "start_time": "2022-12-24T09:12:39.082Z"
      },
      {
        "duration": 3,
        "start_time": "2022-12-24T09:12:39.137Z"
      },
      {
        "duration": 93,
        "start_time": "2022-12-24T09:12:39.142Z"
      },
      {
        "duration": 18,
        "start_time": "2022-12-24T09:12:39.237Z"
      },
      {
        "duration": 89,
        "start_time": "2022-12-24T09:12:39.257Z"
      },
      {
        "duration": 23,
        "start_time": "2022-12-24T09:12:39.348Z"
      },
      {
        "duration": 65,
        "start_time": "2022-12-24T09:12:39.373Z"
      },
      {
        "duration": 12,
        "start_time": "2022-12-24T09:12:39.440Z"
      },
      {
        "duration": 9,
        "start_time": "2022-12-24T09:12:39.454Z"
      },
      {
        "duration": 41,
        "start_time": "2022-12-24T09:12:39.464Z"
      },
      {
        "duration": 49,
        "start_time": "2022-12-24T09:12:39.507Z"
      },
      {
        "duration": 90,
        "start_time": "2022-12-24T09:12:39.558Z"
      },
      {
        "duration": 17,
        "start_time": "2022-12-24T09:12:39.650Z"
      },
      {
        "duration": 8,
        "start_time": "2022-12-24T09:12:39.669Z"
      },
      {
        "duration": 14,
        "start_time": "2022-12-24T09:12:39.736Z"
      },
      {
        "duration": 4,
        "start_time": "2022-12-24T09:12:40.269Z"
      },
      {
        "duration": 4672,
        "start_time": "2022-12-24T09:12:40.477Z"
      },
      {
        "duration": 3312,
        "start_time": "2022-12-24T09:12:45.151Z"
      },
      {
        "duration": 690,
        "start_time": "2022-12-24T09:12:48.464Z"
      },
      {
        "duration": 516,
        "start_time": "2022-12-24T09:20:22.179Z"
      },
      {
        "duration": 14755,
        "start_time": "2022-12-24T09:20:22.697Z"
      },
      {
        "duration": 3,
        "start_time": "2022-12-24T09:20:37.458Z"
      },
      {
        "duration": 8312,
        "start_time": "2022-12-24T09:20:37.462Z"
      },
      {
        "duration": 688,
        "start_time": "2022-12-24T09:20:45.775Z"
      },
      {
        "duration": 15,
        "start_time": "2022-12-24T09:20:46.534Z"
      },
      {
        "duration": 85,
        "start_time": "2022-12-24T09:20:46.550Z"
      },
      {
        "duration": 3,
        "start_time": "2022-12-24T09:20:46.638Z"
      },
      {
        "duration": 4829,
        "start_time": "2022-12-24T09:20:46.646Z"
      },
      {
        "duration": 604,
        "start_time": "2022-12-24T09:20:51.536Z"
      },
      {
        "duration": 12,
        "start_time": "2022-12-24T09:20:52.142Z"
      },
      {
        "duration": 101,
        "start_time": "2022-12-24T09:20:52.155Z"
      },
      {
        "duration": 2877,
        "start_time": "2022-12-24T09:20:52.258Z"
      },
      {
        "duration": 5,
        "start_time": "2022-12-24T09:20:55.137Z"
      },
      {
        "duration": 8,
        "start_time": "2022-12-24T09:20:55.144Z"
      },
      {
        "duration": 86,
        "start_time": "2022-12-24T09:20:55.153Z"
      },
      {
        "duration": 1435,
        "start_time": "2022-12-24T09:20:55.241Z"
      },
      {
        "duration": 7,
        "start_time": "2022-12-24T09:20:56.736Z"
      },
      {
        "duration": 44,
        "start_time": "2022-12-24T09:20:56.746Z"
      },
      {
        "duration": 71,
        "start_time": "2022-12-24T09:20:56.792Z"
      },
      {
        "duration": 1471,
        "start_time": "2022-12-24T09:20:56.865Z"
      },
      {
        "duration": 614,
        "start_time": "2022-12-24T09:20:58.338Z"
      },
      {
        "duration": 3,
        "start_time": "2022-12-24T09:20:58.954Z"
      },
      {
        "duration": 4079,
        "start_time": "2022-12-24T09:20:58.959Z"
      },
      {
        "duration": 2622,
        "start_time": "2022-12-24T09:21:03.040Z"
      },
      {
        "duration": 12,
        "start_time": "2022-12-24T09:21:05.664Z"
      },
      {
        "duration": 215,
        "start_time": "2022-12-24T09:21:05.736Z"
      },
      {
        "duration": 92,
        "start_time": "2022-12-24T09:21:05.952Z"
      },
      {
        "duration": 2796,
        "start_time": "2022-12-24T09:21:06.045Z"
      },
      {
        "duration": 2293,
        "start_time": "2022-12-24T09:21:08.842Z"
      },
      {
        "duration": 5,
        "start_time": "2022-12-24T09:21:11.137Z"
      },
      {
        "duration": 6,
        "start_time": "2022-12-24T09:21:11.143Z"
      },
      {
        "duration": 7,
        "start_time": "2022-12-24T09:21:11.151Z"
      },
      {
        "duration": 80,
        "start_time": "2022-12-24T09:21:11.159Z"
      },
      {
        "duration": 23,
        "start_time": "2022-12-24T09:21:11.241Z"
      },
      {
        "duration": 78,
        "start_time": "2022-12-24T09:21:11.265Z"
      },
      {
        "duration": 21,
        "start_time": "2022-12-24T09:21:11.344Z"
      },
      {
        "duration": 70,
        "start_time": "2022-12-24T09:21:11.367Z"
      },
      {
        "duration": 5,
        "start_time": "2022-12-24T09:21:11.439Z"
      },
      {
        "duration": 4,
        "start_time": "2022-12-24T09:21:11.445Z"
      },
      {
        "duration": 23,
        "start_time": "2022-12-24T09:21:11.450Z"
      },
      {
        "duration": 82,
        "start_time": "2022-12-24T09:21:11.474Z"
      },
      {
        "duration": 86,
        "start_time": "2022-12-24T09:21:11.557Z"
      },
      {
        "duration": 20,
        "start_time": "2022-12-24T09:21:11.645Z"
      },
      {
        "duration": 4,
        "start_time": "2022-12-24T09:21:11.667Z"
      },
      {
        "duration": 9,
        "start_time": "2022-12-24T09:21:11.735Z"
      },
      {
        "duration": 6,
        "start_time": "2022-12-24T09:21:11.746Z"
      },
      {
        "duration": 5116,
        "start_time": "2022-12-24T09:21:11.753Z"
      },
      {
        "duration": 3325,
        "start_time": "2022-12-24T09:21:16.871Z"
      },
      {
        "duration": 464,
        "start_time": "2022-12-24T09:21:20.198Z"
      },
      {
        "duration": 62,
        "start_time": "2022-12-24T21:24:19.440Z"
      },
      {
        "duration": 248,
        "start_time": "2022-12-24T21:24:28.214Z"
      },
      {
        "duration": 3,
        "start_time": "2022-12-24T21:24:28.464Z"
      },
      {
        "duration": 472,
        "start_time": "2022-12-24T21:24:28.574Z"
      },
      {
        "duration": 134,
        "start_time": "2022-12-24T21:24:29.048Z"
      },
      {
        "duration": 4,
        "start_time": "2022-12-24T21:24:29.183Z"
      },
      {
        "duration": 4,
        "start_time": "2022-12-24T21:24:29.246Z"
      },
      {
        "duration": 3,
        "start_time": "2022-12-24T21:24:29.414Z"
      },
      {
        "duration": 1754,
        "start_time": "2022-12-24T21:24:29.582Z"
      },
      {
        "duration": 210,
        "start_time": "2022-12-24T21:24:31.338Z"
      },
      {
        "duration": 4,
        "start_time": "2022-12-24T21:24:31.550Z"
      },
      {
        "duration": 15,
        "start_time": "2022-12-24T21:24:31.904Z"
      },
      {
        "duration": 1432,
        "start_time": "2022-12-24T21:24:32.943Z"
      },
      {
        "duration": 3,
        "start_time": "2022-12-24T21:24:34.377Z"
      },
      {
        "duration": 7,
        "start_time": "2022-12-24T21:24:34.381Z"
      },
      {
        "duration": 51,
        "start_time": "2022-12-24T21:24:34.390Z"
      },
      {
        "duration": 467,
        "start_time": "2022-12-24T21:24:48.286Z"
      },
      {
        "duration": 5,
        "start_time": "2022-12-24T21:24:49.791Z"
      },
      {
        "duration": 6,
        "start_time": "2022-12-24T21:24:50.254Z"
      },
      {
        "duration": 7,
        "start_time": "2022-12-24T21:24:51.230Z"
      },
      {
        "duration": 347,
        "start_time": "2022-12-24T21:24:51.492Z"
      },
      {
        "duration": 18,
        "start_time": "2022-12-24T21:25:11.093Z"
      },
      {
        "duration": 81,
        "start_time": "2022-12-24T21:25:11.751Z"
      },
      {
        "duration": 17,
        "start_time": "2022-12-24T21:25:15.966Z"
      },
      {
        "duration": 8,
        "start_time": "2022-12-24T21:25:23.591Z"
      },
      {
        "duration": 9,
        "start_time": "2022-12-24T21:25:23.838Z"
      },
      {
        "duration": 36,
        "start_time": "2022-12-24T21:25:24.100Z"
      },
      {
        "duration": 82,
        "start_time": "2022-12-24T21:25:26.326Z"
      },
      {
        "duration": 76,
        "start_time": "2022-12-24T21:25:26.534Z"
      },
      {
        "duration": 5,
        "start_time": "2022-12-24T21:25:44.462Z"
      },
      {
        "duration": 17,
        "start_time": "2022-12-24T21:26:00.100Z"
      },
      {
        "duration": 16,
        "start_time": "2022-12-24T21:26:00.218Z"
      },
      {
        "duration": 8,
        "start_time": "2022-12-24T21:26:00.863Z"
      },
      {
        "duration": 2111,
        "start_time": "2022-12-24T21:26:03.846Z"
      },
      {
        "duration": 2117,
        "start_time": "2022-12-24T21:26:05.959Z"
      },
      {
        "duration": 10,
        "start_time": "2022-12-24T21:30:11.421Z"
      },
      {
        "duration": 7,
        "start_time": "2022-12-24T21:32:25.567Z"
      },
      {
        "duration": 26,
        "start_time": "2022-12-24T21:32:39.819Z"
      },
      {
        "duration": 6,
        "start_time": "2022-12-24T21:39:01.745Z"
      },
      {
        "duration": 19,
        "start_time": "2022-12-24T21:39:02.265Z"
      },
      {
        "duration": 501,
        "start_time": "2022-12-24T21:39:06.781Z"
      },
      {
        "duration": 15387,
        "start_time": "2022-12-24T21:39:07.284Z"
      },
      {
        "duration": 4,
        "start_time": "2022-12-24T21:39:22.673Z"
      },
      {
        "duration": 8771,
        "start_time": "2022-12-24T21:39:22.679Z"
      },
      {
        "duration": 686,
        "start_time": "2022-12-24T21:39:31.453Z"
      },
      {
        "duration": 15,
        "start_time": "2022-12-24T21:39:32.140Z"
      },
      {
        "duration": 86,
        "start_time": "2022-12-24T21:39:32.157Z"
      },
      {
        "duration": 3,
        "start_time": "2022-12-24T21:39:32.246Z"
      },
      {
        "duration": 4801,
        "start_time": "2022-12-24T21:39:32.251Z"
      },
      {
        "duration": 607,
        "start_time": "2022-12-24T21:39:37.054Z"
      },
      {
        "duration": 8,
        "start_time": "2022-12-24T21:39:37.663Z"
      },
      {
        "duration": 100,
        "start_time": "2022-12-24T21:39:37.736Z"
      },
      {
        "duration": 2829,
        "start_time": "2022-12-24T21:39:37.837Z"
      },
      {
        "duration": 4,
        "start_time": "2022-12-24T21:39:40.669Z"
      },
      {
        "duration": 74,
        "start_time": "2022-12-24T21:39:40.674Z"
      },
      {
        "duration": 30,
        "start_time": "2022-12-24T21:39:40.750Z"
      },
      {
        "duration": 1802,
        "start_time": "2022-12-24T21:39:40.836Z"
      },
      {
        "duration": 10,
        "start_time": "2022-12-24T21:39:42.640Z"
      },
      {
        "duration": 85,
        "start_time": "2022-12-24T21:39:42.653Z"
      },
      {
        "duration": 29,
        "start_time": "2022-12-24T21:39:42.740Z"
      },
      {
        "duration": 1565,
        "start_time": "2022-12-24T21:39:42.772Z"
      },
      {
        "duration": 102,
        "start_time": "2022-12-24T21:39:44.339Z"
      },
      {
        "duration": 94,
        "start_time": "2022-12-24T21:39:44.443Z"
      },
      {
        "duration": 3,
        "start_time": "2022-12-24T21:39:44.539Z"
      },
      {
        "duration": 4193,
        "start_time": "2022-12-24T21:39:44.544Z"
      },
      {
        "duration": 2825,
        "start_time": "2022-12-24T21:39:48.739Z"
      },
      {
        "duration": 78,
        "start_time": "2022-12-24T21:39:51.566Z"
      },
      {
        "duration": 169,
        "start_time": "2022-12-24T21:39:51.645Z"
      },
      {
        "duration": 116,
        "start_time": "2022-12-24T21:39:51.835Z"
      },
      {
        "duration": 89,
        "start_time": "2022-12-24T21:39:51.953Z"
      },
      {
        "duration": 3512,
        "start_time": "2022-12-24T21:39:52.045Z"
      },
      {
        "duration": 2503,
        "start_time": "2022-12-24T21:39:55.559Z"
      },
      {
        "duration": 5,
        "start_time": "2022-12-24T21:39:58.063Z"
      },
      {
        "duration": 11,
        "start_time": "2022-12-24T21:39:58.070Z"
      },
      {
        "duration": 3,
        "start_time": "2022-12-24T21:39:58.136Z"
      },
      {
        "duration": 112,
        "start_time": "2022-12-24T21:39:58.141Z"
      },
      {
        "duration": 82,
        "start_time": "2022-12-24T21:39:58.255Z"
      },
      {
        "duration": 29,
        "start_time": "2022-12-24T21:39:58.340Z"
      },
      {
        "duration": 90,
        "start_time": "2022-12-24T21:39:58.371Z"
      },
      {
        "duration": 3,
        "start_time": "2022-12-24T21:39:58.463Z"
      },
      {
        "duration": 13,
        "start_time": "2022-12-24T21:39:58.470Z"
      },
      {
        "duration": 9,
        "start_time": "2022-12-24T21:39:58.485Z"
      },
      {
        "duration": 82,
        "start_time": "2022-12-24T21:39:58.496Z"
      },
      {
        "duration": 60,
        "start_time": "2022-12-24T21:39:58.580Z"
      },
      {
        "duration": 101,
        "start_time": "2022-12-24T21:39:58.642Z"
      },
      {
        "duration": 21,
        "start_time": "2022-12-24T21:39:58.745Z"
      },
      {
        "duration": 4,
        "start_time": "2022-12-24T21:39:58.836Z"
      },
      {
        "duration": 21,
        "start_time": "2022-12-24T21:39:58.841Z"
      },
      {
        "duration": 85,
        "start_time": "2022-12-24T21:39:58.864Z"
      },
      {
        "duration": 0,
        "start_time": "2022-12-24T21:39:58.951Z"
      },
      {
        "duration": 0,
        "start_time": "2022-12-24T21:39:58.952Z"
      },
      {
        "duration": 0,
        "start_time": "2022-12-24T21:39:58.954Z"
      },
      {
        "duration": 0,
        "start_time": "2022-12-24T21:39:58.955Z"
      },
      {
        "duration": 0,
        "start_time": "2022-12-24T21:39:58.957Z"
      },
      {
        "duration": 4,
        "start_time": "2022-12-24T21:40:22.592Z"
      },
      {
        "duration": 12,
        "start_time": "2022-12-24T21:46:45.268Z"
      },
      {
        "duration": 1541,
        "start_time": "2022-12-24T21:46:57.335Z"
      },
      {
        "duration": 92,
        "start_time": "2022-12-24T21:47:24.125Z"
      },
      {
        "duration": 539,
        "start_time": "2022-12-24T21:47:53.936Z"
      },
      {
        "duration": 15460,
        "start_time": "2022-12-24T21:47:54.477Z"
      },
      {
        "duration": 3,
        "start_time": "2022-12-24T21:48:09.940Z"
      },
      {
        "duration": 8609,
        "start_time": "2022-12-24T21:48:09.946Z"
      },
      {
        "duration": 703,
        "start_time": "2022-12-24T21:48:18.559Z"
      },
      {
        "duration": 16,
        "start_time": "2022-12-24T21:48:19.335Z"
      },
      {
        "duration": 89,
        "start_time": "2022-12-24T21:48:19.353Z"
      },
      {
        "duration": 4,
        "start_time": "2022-12-24T21:48:19.444Z"
      },
      {
        "duration": 5088,
        "start_time": "2022-12-24T21:48:19.449Z"
      },
      {
        "duration": 626,
        "start_time": "2022-12-24T21:48:24.539Z"
      },
      {
        "duration": 70,
        "start_time": "2022-12-24T21:48:25.166Z"
      },
      {
        "duration": 98,
        "start_time": "2022-12-24T21:48:25.238Z"
      },
      {
        "duration": 3021,
        "start_time": "2022-12-24T21:48:25.338Z"
      },
      {
        "duration": 4,
        "start_time": "2022-12-24T21:48:28.362Z"
      },
      {
        "duration": 72,
        "start_time": "2022-12-24T21:48:28.367Z"
      },
      {
        "duration": 33,
        "start_time": "2022-12-24T21:48:28.442Z"
      },
      {
        "duration": 1758,
        "start_time": "2022-12-24T21:48:28.477Z"
      },
      {
        "duration": 9,
        "start_time": "2022-12-24T21:48:30.238Z"
      },
      {
        "duration": 89,
        "start_time": "2022-12-24T21:48:30.249Z"
      },
      {
        "duration": 47,
        "start_time": "2022-12-24T21:48:30.340Z"
      },
      {
        "duration": 1376,
        "start_time": "2022-12-24T21:48:30.389Z"
      },
      {
        "duration": 106,
        "start_time": "2022-12-24T21:48:31.766Z"
      },
      {
        "duration": 83,
        "start_time": "2022-12-24T21:48:31.875Z"
      },
      {
        "duration": 3,
        "start_time": "2022-12-24T21:48:31.960Z"
      },
      {
        "duration": 4381,
        "start_time": "2022-12-24T21:48:31.965Z"
      },
      {
        "duration": 3218,
        "start_time": "2022-12-24T21:48:36.348Z"
      },
      {
        "duration": 77,
        "start_time": "2022-12-24T21:48:39.568Z"
      },
      {
        "duration": 143,
        "start_time": "2022-12-24T21:48:39.647Z"
      },
      {
        "duration": 77,
        "start_time": "2022-12-24T21:48:39.792Z"
      },
      {
        "duration": 90,
        "start_time": "2022-12-24T21:48:39.871Z"
      },
      {
        "duration": 3372,
        "start_time": "2022-12-24T21:48:39.963Z"
      },
      {
        "duration": 2601,
        "start_time": "2022-12-24T21:48:43.337Z"
      },
      {
        "duration": 5,
        "start_time": "2022-12-24T21:48:45.940Z"
      },
      {
        "duration": 12,
        "start_time": "2022-12-24T21:48:45.946Z"
      },
      {
        "duration": 21,
        "start_time": "2022-12-24T21:48:45.960Z"
      },
      {
        "duration": 94,
        "start_time": "2022-12-24T21:48:45.983Z"
      },
      {
        "duration": 77,
        "start_time": "2022-12-24T21:48:46.079Z"
      },
      {
        "duration": 88,
        "start_time": "2022-12-24T21:48:46.158Z"
      },
      {
        "duration": 93,
        "start_time": "2022-12-24T21:48:46.248Z"
      },
      {
        "duration": 7,
        "start_time": "2022-12-24T21:48:46.344Z"
      },
      {
        "duration": 5,
        "start_time": "2022-12-24T21:48:46.356Z"
      },
      {
        "duration": 1700,
        "start_time": "2022-12-24T21:48:46.363Z"
      },
      {
        "duration": 2,
        "start_time": "2022-12-24T21:48:48.065Z"
      },
      {
        "duration": 36,
        "start_time": "2022-12-24T21:48:48.135Z"
      },
      {
        "duration": 67,
        "start_time": "2022-12-24T21:48:48.173Z"
      },
      {
        "duration": 21,
        "start_time": "2022-12-24T21:48:48.243Z"
      },
      {
        "duration": 98,
        "start_time": "2022-12-24T21:48:48.266Z"
      },
      {
        "duration": 4,
        "start_time": "2022-12-24T21:48:48.366Z"
      },
      {
        "duration": 66,
        "start_time": "2022-12-24T21:48:48.371Z"
      },
      {
        "duration": 7,
        "start_time": "2022-12-24T21:48:48.439Z"
      },
      {
        "duration": 5625,
        "start_time": "2022-12-24T21:48:48.448Z"
      },
      {
        "duration": 3385,
        "start_time": "2022-12-24T21:48:54.075Z"
      },
      {
        "duration": 311,
        "start_time": "2022-12-24T21:48:57.462Z"
      },
      {
        "duration": 85,
        "start_time": "2022-12-24T21:52:34.060Z"
      },
      {
        "duration": 5,
        "start_time": "2022-12-24T21:52:41.260Z"
      },
      {
        "duration": 31,
        "start_time": "2022-12-24T21:52:41.627Z"
      },
      {
        "duration": 23,
        "start_time": "2022-12-24T21:52:47.116Z"
      },
      {
        "duration": 503,
        "start_time": "2022-12-24T21:52:52.984Z"
      },
      {
        "duration": 15281,
        "start_time": "2022-12-24T21:52:53.490Z"
      },
      {
        "duration": 4,
        "start_time": "2022-12-24T21:53:08.773Z"
      },
      {
        "duration": 9119,
        "start_time": "2022-12-24T21:53:08.836Z"
      },
      {
        "duration": 790,
        "start_time": "2022-12-24T21:53:17.957Z"
      },
      {
        "duration": 14,
        "start_time": "2022-12-24T21:53:18.749Z"
      },
      {
        "duration": 91,
        "start_time": "2022-12-24T21:53:18.765Z"
      },
      {
        "duration": 5,
        "start_time": "2022-12-24T21:53:18.858Z"
      },
      {
        "duration": 5511,
        "start_time": "2022-12-24T21:53:18.864Z"
      },
      {
        "duration": 706,
        "start_time": "2022-12-24T21:53:24.435Z"
      },
      {
        "duration": 15,
        "start_time": "2022-12-24T21:53:25.144Z"
      },
      {
        "duration": 114,
        "start_time": "2022-12-24T21:53:25.161Z"
      },
      {
        "duration": 3192,
        "start_time": "2022-12-24T21:53:25.277Z"
      },
      {
        "duration": 4,
        "start_time": "2022-12-24T21:53:28.471Z"
      },
      {
        "duration": 5,
        "start_time": "2022-12-24T21:53:28.536Z"
      },
      {
        "duration": 34,
        "start_time": "2022-12-24T21:53:28.543Z"
      },
      {
        "duration": 1866,
        "start_time": "2022-12-24T21:53:28.579Z"
      },
      {
        "duration": 7,
        "start_time": "2022-12-24T21:53:30.447Z"
      },
      {
        "duration": 86,
        "start_time": "2022-12-24T21:53:30.456Z"
      },
      {
        "duration": 50,
        "start_time": "2022-12-24T21:53:30.544Z"
      },
      {
        "duration": 1469,
        "start_time": "2022-12-24T21:53:30.596Z"
      },
      {
        "duration": 191,
        "start_time": "2022-12-24T21:53:32.068Z"
      },
      {
        "duration": 93,
        "start_time": "2022-12-24T21:53:32.261Z"
      },
      {
        "duration": 3,
        "start_time": "2022-12-24T21:53:32.355Z"
      },
      {
        "duration": 4509,
        "start_time": "2022-12-24T21:53:32.360Z"
      },
      {
        "duration": 2985,
        "start_time": "2022-12-24T21:53:36.871Z"
      },
      {
        "duration": 14,
        "start_time": "2022-12-24T21:53:39.858Z"
      },
      {
        "duration": 153,
        "start_time": "2022-12-24T21:53:39.938Z"
      },
      {
        "duration": 78,
        "start_time": "2022-12-24T21:53:40.093Z"
      },
      {
        "duration": 84,
        "start_time": "2022-12-24T21:53:40.172Z"
      },
      {
        "duration": 3121,
        "start_time": "2022-12-24T21:53:40.257Z"
      },
      {
        "duration": 2575,
        "start_time": "2022-12-24T21:53:43.379Z"
      },
      {
        "duration": 5,
        "start_time": "2022-12-24T21:53:45.956Z"
      },
      {
        "duration": 9,
        "start_time": "2022-12-24T21:53:45.963Z"
      },
      {
        "duration": 63,
        "start_time": "2022-12-24T21:53:45.974Z"
      },
      {
        "duration": 99,
        "start_time": "2022-12-24T21:53:46.040Z"
      },
      {
        "duration": 21,
        "start_time": "2022-12-24T21:53:46.141Z"
      },
      {
        "duration": 106,
        "start_time": "2022-12-24T21:53:46.164Z"
      },
      {
        "duration": 86,
        "start_time": "2022-12-24T21:53:46.272Z"
      },
      {
        "duration": 4,
        "start_time": "2022-12-24T21:53:46.359Z"
      },
      {
        "duration": 12,
        "start_time": "2022-12-24T21:53:46.365Z"
      },
      {
        "duration": 1680,
        "start_time": "2022-12-24T21:53:46.378Z"
      },
      {
        "duration": 3,
        "start_time": "2022-12-24T21:53:48.060Z"
      },
      {
        "duration": 88,
        "start_time": "2022-12-24T21:53:48.065Z"
      },
      {
        "duration": 20,
        "start_time": "2022-12-24T21:53:48.155Z"
      },
      {
        "duration": 76,
        "start_time": "2022-12-24T21:53:48.177Z"
      },
      {
        "duration": 20,
        "start_time": "2022-12-24T21:53:48.255Z"
      },
      {
        "duration": 4,
        "start_time": "2022-12-24T21:53:48.336Z"
      },
      {
        "duration": 8,
        "start_time": "2022-12-24T21:53:48.341Z"
      },
      {
        "duration": 14,
        "start_time": "2022-12-24T21:53:48.350Z"
      },
      {
        "duration": 5091,
        "start_time": "2022-12-24T21:53:48.366Z"
      },
      {
        "duration": 3431,
        "start_time": "2022-12-24T21:53:53.459Z"
      },
      {
        "duration": 588,
        "start_time": "2022-12-24T21:53:56.892Z"
      }
    ],
    "colab": {
      "provenance": []
    },
    "kernelspec": {
      "display_name": "Python 3 (ipykernel)",
      "language": "python",
      "name": "python3"
    },
    "language_info": {
      "codemirror_mode": {
        "name": "ipython",
        "version": 3
      },
      "file_extension": ".py",
      "mimetype": "text/x-python",
      "name": "python",
      "nbconvert_exporter": "python",
      "pygments_lexer": "ipython3",
      "version": "3.9.5"
    },
    "toc": {
      "base_numbering": 1,
      "nav_menu": {},
      "number_sections": true,
      "sideBar": true,
      "skip_h1_title": true,
      "title_cell": "Table of Contents",
      "title_sidebar": "Contents",
      "toc_cell": false,
      "toc_position": {},
      "toc_section_display": true,
      "toc_window_display": false
    }
  },
  "nbformat": 4,
  "nbformat_minor": 5
}